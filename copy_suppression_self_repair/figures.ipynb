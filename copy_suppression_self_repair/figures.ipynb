{
 "cells": [
  {
   "cell_type": "markdown",
   "metadata": {},
   "source": [
    "# Imports"
   ]
  },
  {
   "cell_type": "code",
   "execution_count": 1,
   "metadata": {},
   "outputs": [],
   "source": [
    "#%pip install git+https://github.com/neelnanda-io/TransformerLens.git\n",
    "import math\n",
    "import torch\n",
    "import torch.nn as nn\n",
    "import torch.nn.functional as F\n",
    "import torch.optim as optim\n",
    "from torch import Tensor\n",
    "\n",
    "import numpy as np\n",
    "import pandas as pd\n",
    "import einops\n",
    "from fancy_einsum import einsum\n",
    "import tqdm.auto as tqdm\n",
    "import random\n",
    "from pathlib import Path\n",
    "# import plotly.express as px\n",
    "from torch.utils.data import DataLoader\n",
    "from typing import Union, List, Optional, Callable, Tuple, Dict, Literal, Set\n",
    "from jaxtyping import Float, Int\n",
    "from functools import partial\n",
    "import copy\n",
    "\n",
    "import itertools\n",
    "from transformers import AutoModelForCausalLM, AutoConfig, AutoTokenizer\n",
    "import dataclasses\n",
    "import datasets\n",
    "from IPython.display import HTML\n",
    "\n",
    "import transformer_lens\n",
    "import transformer_lens.utils as utils\n",
    "from transformer_lens.utils import to_numpy\n",
    "from transformer_lens.hook_points import (\n",
    "    HookedRootModule,\n",
    "    HookPoint,\n",
    ")  # Hooking utilities\n",
    "from transformer_lens import HookedTransformer, HookedTransformerConfig, FactoredMatrix, ActivationCache, patching\n",
    "\n",
    "import plotly.express as px\n",
    "#%pip install git+https://github.com/callummcdougall/CircuitsVis.git#subdirectory=python\n",
    "import circuitsvis as cv\n",
    "import os, sys"
   ]
  },
  {
   "cell_type": "code",
   "execution_count": 2,
   "metadata": {},
   "outputs": [],
   "source": [
    "if not os.path.exists(\"path_patching.py\"):\n",
    "        !wget https://github.com/callummcdougall/path_patching/archive/refs/heads/main.zip\n",
    "        !unzip /content/main.zip 'path_patching-main/ioi_dataset.py'\n",
    "        !unzip /content/main.zip 'path_patching-main/path_patching.py'\n",
    "        sys.path.append(\"/content/path_patching-main\")\n",
    "        os.remove(\"/content/main.zip\")\n",
    "        os.rename(\"/content/path_patching-main/ioi_dataset.py\", \"ioi_dataset.py\")\n",
    "        os.rename(\"/content/path_patching-main/path_patching.py\", \"path_patching.py\")\n",
    "        os.rmdir(\"/content/path_patching-main\")\n",
    "\n",
    "from path_patching import Node, IterNode, path_patch, act_patch"
   ]
  },
  {
   "cell_type": "code",
   "execution_count": 3,
   "metadata": {},
   "outputs": [],
   "source": [
    "#%pip install git+https://github.com/neelnanda-io/neel-plotly.git\n",
    "from neel_plotly import imshow, line, scatter, histogram\n",
    "import tqdm\n",
    "torch.set_grad_enabled(False)\n",
    "device = \"cuda\" if torch.cuda.is_available() else \"cpu\""
   ]
  },
  {
   "cell_type": "code",
   "execution_count": 4,
   "metadata": {},
   "outputs": [
    {
     "data": {
      "text/plain": [
       "'cuda'"
      ]
     },
     "execution_count": 4,
     "metadata": {},
     "output_type": "execute_result"
    }
   ],
   "source": [
    "device"
   ]
  },
  {
   "cell_type": "code",
   "execution_count": 5,
   "metadata": {},
   "outputs": [],
   "source": [
    "if not os.path.exists(\"path_patching.py\"):\n",
    "        !wget https://github.com/callummcdougall/path_patching/archive/refs/heads/main.zip\n",
    "        !unzip /content/main.zip 'path_patching-main/ioi_dataset.py'\n",
    "        !unzip /content/main.zip 'path_patching-main/path_patching.py'\n",
    "        sys.path.append(\"/content/path_patching-main\")\n",
    "        os.remove(\"/content/main.zip\")\n",
    "        os.rename(\"/content/path_patching-main/ioi_dataset.py\", \"ioi_dataset.py\")\n",
    "        os.rename(\"/content/path_patching-main/path_patching.py\", \"path_patching.py\")\n",
    "        os.rmdir(\"/content/path_patching-main\")\n",
    "\n",
    "from path_patching import Node, IterNode, path_patch, act_patch"
   ]
  },
  {
   "cell_type": "code",
   "execution_count": 6,
   "metadata": {},
   "outputs": [],
   "source": [
    "update_layout_set = {\n",
    "    \"xaxis_range\", \"yaxis_range\", \"hovermode\", \"xaxis_title\", \"yaxis_title\", \"colorbar\", \"colorscale\", \"coloraxis\", \"title_x\", \"bargap\", \"bargroupgap\", \"xaxis_tickformat\",\n",
    "    \"yaxis_tickformat\", \"title_y\", \"legend_title_text\", \"xaxis_showgrid\", \"xaxis_gridwidth\", \"xaxis_gridcolor\", \"yaxis_showgrid\", \"yaxis_gridwidth\", \"yaxis_gridcolor\",\n",
    "    \"showlegend\", \"xaxis_tickmode\", \"yaxis_tickmode\", \"xaxis_tickangle\", \"yaxis_tickangle\", \"margin\", \"xaxis_visible\", \"yaxis_visible\", \"bargap\", \"bargroupgap\"\n",
    "}\n",
    "\n",
    "def imshow(tensor, return_fig = False, renderer=None, **kwargs):\n",
    "    kwargs_post = {k: v for k, v in kwargs.items() if k in update_layout_set}\n",
    "    kwargs_pre = {k: v for k, v in kwargs.items() if k not in update_layout_set}\n",
    "    facet_labels = kwargs_pre.pop(\"facet_labels\", None)\n",
    "    border = kwargs_pre.pop(\"border\", False)\n",
    "    if \"color_continuous_scale\" not in kwargs_pre:\n",
    "        kwargs_pre[\"color_continuous_scale\"] = \"RdBu\"\n",
    "    if \"margin\" in kwargs_post and isinstance(kwargs_post[\"margin\"], int):\n",
    "        kwargs_post[\"margin\"] = dict.fromkeys(list(\"tblr\"), kwargs_post[\"margin\"])\n",
    "    fig = px.imshow(utils.to_numpy(tensor), color_continuous_midpoint=0.0, **kwargs_pre)\n",
    "    if facet_labels:\n",
    "        for i, label in enumerate(facet_labels):\n",
    "            fig.layout.annotations[i]['text'] = label\n",
    "    if border:\n",
    "        fig.update_xaxes(showline=True, linewidth=1, linecolor='black', mirror=True)\n",
    "        fig.update_yaxes(showline=True, linewidth=1, linecolor='black', mirror=True)\n",
    "    # things like `xaxis_tickmode` should be applied to all subplots. This is super janky lol but I'm under time pressure\n",
    "    for setting in [\"tickangle\"]:\n",
    "      if f\"xaxis_{setting}\" in kwargs_post:\n",
    "          i = 2\n",
    "          while f\"xaxis{i}\" in fig[\"layout\"]:\n",
    "            kwargs_post[f\"xaxis{i}_{setting}\"] = kwargs_post[f\"xaxis_{setting}\"]\n",
    "            i += 1\n",
    "    fig.update_layout(**kwargs_post)\n",
    "    fig.show(renderer=renderer)\n",
    "    if return_fig:\n",
    "      return fig\n",
    "\n",
    "def hist(tensor, renderer=None, **kwargs):\n",
    "    kwargs_post = {k: v for k, v in kwargs.items() if k in update_layout_set}\n",
    "    kwargs_pre = {k: v for k, v in kwargs.items() if k not in update_layout_set}\n",
    "    names = kwargs_pre.pop(\"names\", None)\n",
    "    if \"barmode\" not in kwargs_post:\n",
    "        kwargs_post[\"barmode\"] = \"overlay\"\n",
    "    if \"bargap\" not in kwargs_post:\n",
    "        kwargs_post[\"bargap\"] = 0.0\n",
    "    if \"margin\" in kwargs_post and isinstance(kwargs_post[\"margin\"], int):\n",
    "        kwargs_post[\"margin\"] = dict.fromkeys(list(\"tblr\"), kwargs_post[\"margin\"])\n",
    "    fig = px.histogram(x=tensor, **kwargs_pre).update_layout(**kwargs_post)\n",
    "    if names is not None:\n",
    "        for i in range(len(fig.data)):\n",
    "            fig.data[i][\"name\"] = names[i // 2]\n",
    "    fig.show(renderer)"
   ]
  },
  {
   "cell_type": "code",
   "execution_count": 7,
   "metadata": {},
   "outputs": [],
   "source": [
    "from plotly import graph_objects as go\n",
    "from plotly.subplots import make_subplots"
   ]
  },
  {
   "cell_type": "markdown",
   "metadata": {},
   "source": [
    "# Model, Dataset, Helper Functions"
   ]
  },
  {
   "cell_type": "code",
   "execution_count": 8,
   "metadata": {},
   "outputs": [
    {
     "name": "stderr",
     "output_type": "stream",
     "text": [
      "Using pad_token, but it is not set yet.\n"
     ]
    },
    {
     "name": "stdout",
     "output_type": "stream",
     "text": [
      "Loaded pretrained model gpt2-small into HookedTransformer\n"
     ]
    }
   ],
   "source": [
    "model = HookedTransformer.from_pretrained(\n",
    "    \"gpt2-small\",\n",
    "    center_unembed=True,\n",
    "    center_writing_weights=True,\n",
    "    fold_ln=True,\n",
    "    device = device\n",
    ")"
   ]
  },
  {
   "cell_type": "code",
   "execution_count": 9,
   "metadata": {},
   "outputs": [],
   "source": [
    "clean_format = [\n",
    "    \"When John and Mary went to the shops,{} gave the bag to\",\n",
    "    \"When Tom and James went to the park,{} gave the ball to\",\n",
    "    \"When Dan and Sid went to the shops,{} gave an apple to\",\n",
    "    \"After Martin and Amy went to the park,{} gave a drink to\",\n",
    "    \"After Cody and Jay went to the park,{} gave a drink to\",\n",
    "    \"After Jack and Jill ran up the hill,{} gave some water to\",\n",
    "    \"When Mark and Martin went to the store,{} gave an apple to\",\n",
    "    \"When Sarah and Emily went to the library,{} gave a book to\",\n",
    "    \"When Cole and George went to the store,{} gave a book to\",\n",
    "    \"When Kai and Bryce went to the park,{} gave an apple to\",\n",
    "]\n",
    "name_pairs = [\n",
    "    (\" Mary\", \" John\"),\n",
    "    (\" Tom\", \" James\"),\n",
    "    (\" Dan\", \" Sid\"),\n",
    "    (\" Martin\", \" Amy\"),\n",
    "    (\" Cody\", \" Jay\"),\n",
    "    (\" Jack\", \" Jill\"),\n",
    "    (\" Mark\", \" Martin\"),\n",
    "    (\" Sarah\", \" Emily\"),\n",
    "    (\" Cole\", \" George\"),\n",
    "    (\" Kai\", \" Bryce\"),\n",
    "]\n",
    "\n",
    "# Define 8 prompts\n",
    "clean_prompts = [\n",
    "    prompt.format(name)\n",
    "    for (prompt, names) in zip(clean_format, name_pairs) for name in names[::-1]\n",
    "]\n",
    "\n",
    "clean_prompts = [clean_prompts[i] for i in [0, 3, 5, 7, 9, 11, 13, 15, 17, 19]]\n",
    "\n",
    "\n",
    "# Define the answers for each prompt, in the form (correct, incorrect)\n",
    "clean_answers = [names[::i] for names in name_pairs for i in (1, -1)]\n",
    "clean_answers = [clean_answers[i] for i in [0, 3, 5, 7, 9, 11, 13, 15, 17, 19]]\n",
    "\n",
    "\n",
    "# Define the answer tokens (same shape as the answers)\n",
    "clean_answer_tokens = torch.concat([\n",
    "    model.to_tokens(names, prepend_bos=False).T for names in clean_answers\n",
    "])\n",
    "\n",
    "# generate 'corrupted ABC prompts'\n",
    "abc_format = [\n",
    "    \"When Sarah and James went to the shops,{} gave the bag to\",\n",
    "    \"When John and Sid went to the park,{} gave the ball to\",\n",
    "    \"When Tom and Amy went to the shops,{} gave an apple to\",\n",
    "    \"After Dan and Jay went to the park,{} gave a drink to\",\n",
    "    \"After Martin and Jill went to the park,{} gave a drink to\",\n",
    "    \"After Cody and Martin ran up the hill,{} gave some water to\",\n",
    "    \"When Jack and Emily went to the store,{} gave an apple to\",\n",
    "    \"When Mark and Mary went to the library,{} gave a book to\",\n",
    "    \"When Kai and Bryce went to the store,{} gave a book to\",\n",
    "    \"When Cole and George went to the park,{} gave an apple to\",\n",
    "\n",
    "]\n",
    "\n",
    "abc_name_pairs = [\n",
    "    (\" Cody\", \" Jay\"),\n",
    "    (\" Jack\", \" Jill\"),\n",
    "    (\" Mark\", \" Martin\"),\n",
    "    (\" Sarah\", \" Emily\"),\n",
    "    (\" Mary\", \" John\"),\n",
    "    (\" Tom\", \" James\"),\n",
    "    (\" Dan\", \" Sid\"),\n",
    "    (\" Martin\", \" Amy\"),\n",
    "    (\" Grant\", \" Mark\"),\n",
    "    (\" Chase\", \" Miles\")\n",
    "]\n",
    "\n",
    "\n",
    "abc_prompts = [\n",
    "    prompt.format(name)\n",
    "    for (prompt, names) in zip(abc_format, abc_name_pairs) for name in names[::-1]\n",
    "]\n",
    "abc_prompts = [abc_prompts[i] for i in [0, 3, 5, 7, 9, 11, 13, 15, 17, 19]]\n",
    "\n",
    "\n",
    "abc_answers = [names[::i] for names in name_pairs for i in (1, -1)]\n",
    "abc_answers = [abc_answers[i] for i in [0, 3, 5, 7, 9, 11, 13, 15, 17, 19]]\n",
    "\n",
    "abc_answer_tokens = torch.concat([\n",
    "    model.to_tokens(names, prepend_bos=False).T for names in abc_answers\n",
    "])"
   ]
  },
  {
   "cell_type": "code",
   "execution_count": 10,
   "metadata": {},
   "outputs": [
    {
     "name": "stdout",
     "output_type": "stream",
     "text": [
      "torch.Size([10, 15])\n",
      "torch.Size([10, 15])\n"
     ]
    }
   ],
   "source": [
    "clean_tokens: Float[Tensor, \"batch seq\"] = model.to_tokens(clean_prompts)\n",
    "corrupted_tokens: Float[Tensor, \"batch seq\"] = model.to_tokens(abc_prompts)\n",
    "\n",
    "print(clean_tokens.shape)\n",
    "print(corrupted_tokens.shape)\n",
    "clean_logits, clean_cache = model.run_with_cache(clean_tokens, prepend_bos = False)\n",
    "corrupted_logits, corrupted_cache = model.run_with_cache(corrupted_tokens, prepend_bos = False)\n",
    "\n",
    "clean_answer_tokens, corrupted_answer_tokens = clean_answer_tokens[:, 0], clean_answer_tokens[:, 1]\n",
    "\n",
    "answer_tokens: Float[Tensor, \"batch 2\"] = torch.stack((clean_answer_tokens, corrupted_answer_tokens))\n",
    "answer_tokens = einops.rearrange(answer_tokens, \"answer batch -> batch answer\")"
   ]
  },
  {
   "cell_type": "code",
   "execution_count": 11,
   "metadata": {},
   "outputs": [],
   "source": [
    "batch_size, seq_len = clean_tokens.shape[0], clean_tokens.shape[1]\n",
    "model.reset_hooks()\n",
    "clean_logits, clean_cache = model.run_with_cache(clean_tokens, prepend_bos = False)\n",
    "corrupted_logits, corrupted_cache = model.run_with_cache(corrupted_tokens, prepend_bos = False)"
   ]
  },
  {
   "cell_type": "code",
   "execution_count": 12,
   "metadata": {},
   "outputs": [],
   "source": [
    "def logits_to_ave_logit_diff(\n",
    "    logits: Float[Tensor, \"batch seq d_vocab\"],\n",
    "    answer_tokens: Float[Tensor, \"batch 2\"] = answer_tokens,\n",
    "    per_prompt: bool = False\n",
    "):\n",
    "    '''\n",
    "    Returns logit difference between the correct and incorrect answer.\n",
    "\n",
    "    If per_prompt=True, return the array of differences rather than the average.\n",
    "    '''\n",
    "    # Only the final logits are relevant for the answer\n",
    "    final_logits: Float[Tensor, \"batch d_vocab\"] = logits[:, -1, :]\n",
    "    # Get the logits corresponding to the indirect object / subject tokens respectively\n",
    "    answer_logits: Float[Tensor, \"batch 2\"] = final_logits.gather(dim=-1, index=answer_tokens)\n",
    "    # Find logit difference\n",
    "    correct_logits, incorrect_logits = answer_logits.unbind(dim=-1)\n",
    "    answer_logit_diff = correct_logits - incorrect_logits\n",
    "    return answer_logit_diff if per_prompt else answer_logit_diff.mean().item()"
   ]
  },
  {
   "cell_type": "code",
   "execution_count": 13,
   "metadata": {},
   "outputs": [
    {
     "name": "stdout",
     "output_type": "stream",
     "text": [
      "4.307886600494385\n",
      "0.0773492380976677\n",
      "4.230537362396717\n"
     ]
    }
   ],
   "source": [
    "clean_per_prompt_diff = logits_to_ave_logit_diff(clean_logits, per_prompt = True)\n",
    "corrupted_per_prompt_diff = logits_to_ave_logit_diff(corrupted_logits, per_prompt = True)\n",
    "\n",
    "#print(logits_to_ave_logit_diff(clean_logits))\n",
    "\n",
    "clean_average_logit_diff = logits_to_ave_logit_diff(clean_logits)\n",
    "corrupted_average_logit_diff = logits_to_ave_logit_diff(corrupted_logits)\n",
    "print(clean_average_logit_diff)\n",
    "print(corrupted_average_logit_diff)\n",
    "print(clean_average_logit_diff-corrupted_average_logit_diff)"
   ]
  },
  {
   "cell_type": "code",
   "execution_count": 14,
   "metadata": {},
   "outputs": [
    {
     "name": "stdout",
     "output_type": "stream",
     "text": [
      "IOI metric (IOI dataset): 0.0000\n",
      "IOI metric (ABC dataset): -1.0000\n"
     ]
    }
   ],
   "source": [
    "def noising_ioi_metric(\n",
    "    logits: Float[Tensor, \"batch seq d_vocab\"],\n",
    "    clean_logit_diff: float = clean_average_logit_diff,\n",
    "    corrupted_logit_diff: float = corrupted_average_logit_diff,\n",
    ") -> float:\n",
    "    '''\n",
    "    Given logits, returns how much the performance has been corrupted due to noising.\n",
    "\n",
    "    We calibrate this so that the value is 0 when performance isn't harmed (i.e. same as IOI dataset),\n",
    "    and -1 when performance has been destroyed (i.e. is same as ABC dataset).\n",
    "    '''\n",
    "    #print(logits[-1, -1])\n",
    "    patched_logit_diff = logits_to_ave_logit_diff(logits)\n",
    "    return ((patched_logit_diff - clean_logit_diff) / (clean_logit_diff - corrupted_logit_diff))\n",
    "\n",
    "print(f\"IOI metric (IOI dataset): {noising_ioi_metric(clean_logits):.4f}\")\n",
    "print(f\"IOI metric (ABC dataset): {noising_ioi_metric(corrupted_logits):.4f}\")"
   ]
  },
  {
   "cell_type": "code",
   "execution_count": 30,
   "metadata": {},
   "outputs": [
    {
     "name": "stdout",
     "output_type": "stream",
     "text": [
      "IOI metric (IOI dataset): 1.0000\n",
      "IOI metric (ABC dataset): 0.0000\n"
     ]
    }
   ],
   "source": [
    "def denoising_ioi_metric(\n",
    "    logits: Float[Tensor, \"batch seq d_vocab\"],\n",
    "    clean_logit_diff: float = clean_average_logit_diff,\n",
    "    corrupted_logit_diff: float = corrupted_average_logit_diff,\n",
    ") -> float:\n",
    "    '''\n",
    "    We calibrate this so that the value is 1 when performance got restored (i.e. same as IOI dataset),\n",
    "    and 0 when performance has been destroyed (i.e. is same as ABC dataset).\n",
    "    '''\n",
    "    patched_logit_diff = logits_to_ave_logit_diff(logits)\n",
    "    return ((patched_logit_diff - clean_logit_diff) / (clean_logit_diff - corrupted_logit_diff) + 1)\n",
    "\n",
    "\n",
    "print(f\"IOI metric (IOI dataset): {denoising_ioi_metric(clean_logits):.4f}\")\n",
    "print(f\"IOI metric (ABC dataset): {denoising_ioi_metric(corrupted_logits):.4f}\")"
   ]
  },
  {
   "cell_type": "code",
   "execution_count": 31,
   "metadata": {},
   "outputs": [],
   "source": [
    "answer_residual_directions: Float[Tensor, \"batch 2 d_model\"] = model.tokens_to_residual_directions(answer_tokens)\n",
    "correct_residual_direction, incorrect_residual_direction = answer_residual_directions.unbind(dim=1)\n",
    "logit_diff_directions: Float[Tensor, \"batch d_model\"] = correct_residual_direction - incorrect_residual_direction"
   ]
  },
  {
   "cell_type": "code",
   "execution_count": 21,
   "metadata": {},
   "outputs": [],
   "source": [
    "def stare_at_attention_and_head_pat(cache, layer_to_stare_at, head_to_isolate, display_corrupted_text = False, verbose = True, specific = False, specific_index = 0):\n",
    "  \"\"\"\n",
    "  given a cache from a run, displays the attention patterns of a layer, as well as printing out how much the model\n",
    "  attends to the S1, S2, and IO token\n",
    "  \"\"\"\n",
    "\n",
    "  tokenized_str_tokens = model.to_str_tokens(corrupted_tokens[0]) if display_corrupted_text else model.to_str_tokens(clean_tokens[0])\n",
    "  attention_patten = cache[\"pattern\", layer_to_stare_at]\n",
    "  print(f\"Layer {layer_to_stare_at} Head {head_to_isolate} Activation Patterns:\")\n",
    "\n",
    "\n",
    "  if not specific:\n",
    "    S1 = attention_patten.mean(0)[head_to_isolate][-1][2].item()\n",
    "    IO = attention_patten.mean(0)[head_to_isolate][-1][4].item()\n",
    "    S2 = attention_patten.mean(0)[head_to_isolate][-1][10].item()\n",
    "  else:\n",
    "    S1 = attention_patten[specific_index, head_to_isolate][-1][2].item()\n",
    "    IO = attention_patten[specific_index, head_to_isolate][-1][4].item()\n",
    "    S2 = attention_patten[specific_index, head_to_isolate][-1][10].item()\n",
    "\n",
    "\n",
    "  print(\"Attention on S1: \" + str(S1))\n",
    "  print(\"Attention on IO: \" + str(IO))\n",
    "  print(\"Attention on S2: \" + str(S2))\n",
    "  print(\"S1 + IO - S2 = \" + str(S1 + IO - S2))\n",
    "  print(\"S1 + S2 - IO = \" + str(S1 + S2 - IO))\n",
    "  print(\"S1 - IO - S2 = \" + str(S1 - S2 - IO))\n",
    "\n",
    "\n",
    "  if verbose:\n",
    "    display(cv.attention.attention_heads(\n",
    "      tokens=tokenized_str_tokens,\n",
    "      attention= attention_patten.mean(0) if not specific else attention_patten[specific_index],\n",
    "      #attention_head_names=[f\"L{layer_to_stare_at}H{i}\" for i in range(model.cfg.n_heads)],\n",
    "    ))\n",
    "  else:\n",
    "    print(attention_patten.mean(0).shape)\n",
    "\n",
    "    display(cv.attention.attention_patterns(\n",
    "      tokens=tokenized_str_tokens,\n",
    "      attention=attention_patten.mean(0)if not specific else attention_patten[specific_index],\n",
    "      attention_head_names=[f\"L{layer_to_stare_at} H{i}\" for i in range(model.cfg.n_heads)],\n",
    "    ))"
   ]
  },
  {
   "cell_type": "code",
   "execution_count": 52,
   "metadata": {},
   "outputs": [],
   "source": [
    "neg_m_heads = [(10,7), (11,10)]\n",
    "name_mover_heads = [(9,9), (9,6), (10,0)]\n",
    "backup_heads = [(9,0), (9,7), (10,1), (10,2), (10,6), (10,10), (11,2), (11,9)]\n",
    "key_backup_heads = [(10,2), (10,10), (11,2)]\n",
    "strong_neg_backup_heads = [(11,2), (10,2), (11,6)]\n",
    "\n",
    "\n",
    "\n",
    "head_names = [\"Negative\", \"Name Mover\", \"Backup\"]\n",
    "head_list = [neg_m_heads, name_mover_heads, backup_heads]"
   ]
  },
  {
   "cell_type": "code",
   "execution_count": 53,
   "metadata": {},
   "outputs": [],
   "source": [
    "def store_activation(\n",
    "    activation,\n",
    "    hook: HookPoint,\n",
    "    where_to_store\n",
    "):\n",
    "    \"\"\"\n",
    "    takes a storage container where_to_store, and stores the activation in it at a hook\n",
    "    \"\"\"\"\"\n",
    "    where_to_store[:] = activation"
   ]
  },
  {
   "cell_type": "code",
   "execution_count": 54,
   "metadata": {},
   "outputs": [],
   "source": [
    "def kq_rewrite_hook(\n",
    "    internal_value: Float[Tensor, \"batch seq head d_head\"],\n",
    "    hook: HookPoint,\n",
    "    head,\n",
    "    unnormalized_resid:  Float[Tensor, \"batch seq d_model\"],\n",
    "    vector,\n",
    "    act_name,\n",
    "    scale = 1,\n",
    "    position = -1,\n",
    "    pre_ln = True\n",
    "):\n",
    "  \"\"\"\n",
    "  replaces keys or queries with a new result which we get from adding a vector to a position at the residual stream\n",
    "  head: tuple for head to rewrite keys for\n",
    "  unnormalized_resid: stored unnormalized residual stream needed to recalculated activations\n",
    "  \"\"\"\n",
    "\n",
    "  ln1 = model.blocks[hook.layer()].ln1\n",
    "  temp_resid = unnormalized_resid.clone()\n",
    "\n",
    "  if pre_ln:\n",
    "    temp_resid[:, position, :] = temp_resid[:, position, :] + scale * vector\n",
    "    normalized_resid = ln1(temp_resid)\n",
    "  else:\n",
    "    temp_resid = ln1(temp_resid)\n",
    "    temp_resid[:, position, :] = temp_resid[:, position, :] + scale * vector\n",
    "    normalized_resid = temp_resid\n",
    "\n",
    "\n",
    "  assert act_name == \"q\" or act_name == \"k\"\n",
    "  if act_name == \"q\":\n",
    "    W_Q, b_Q = model.W_Q[head[0], head[1]], model.b_Q[head[0], head[1]]\n",
    "    internal_value[..., head[1], :] = einops.einsum(normalized_resid, W_Q, \"batch seq d_model, d_model d_head -> batch seq d_head\") + b_Q\n",
    "\n",
    "  elif act_name == \"k\":\n",
    "    W_K, b_K = model.W_K[head[0], head[1]], model.b_K[head[0], head[1]]\n",
    "    internal_value[..., head[1], :] = einops.einsum(normalized_resid, W_K, \"batch seq d_model, d_model d_head -> batch seq d_head\") + b_K\n"
   ]
  },
  {
   "cell_type": "code",
   "execution_count": 44,
   "metadata": {},
   "outputs": [],
   "source": [
    "def patch_head_vector(\n",
    "    head_vector: Float[Tensor, \"batch pos head_index d_head\"],\n",
    "    hook: HookPoint,\n",
    "    head_indices: int,\n",
    "    other_cache: ActivationCache\n",
    ") -> Float[Tensor, \"batch pos head_index d_head\"]:\n",
    "    '''\n",
    "    Patches the output of a given head (before it's added to the residual stream) at\n",
    "    every sequence position, using the value from the other cache.\n",
    "    '''\n",
    "    for head_index in head_indices:\n",
    "      head_vector[:, :, head_index] = other_cache[hook.name][:, :, head_index]\n",
    "    return head_vector"
   ]
  },
  {
   "cell_type": "code",
   "execution_count": 45,
   "metadata": {},
   "outputs": [],
   "source": [
    "def patch_ln_scale(ln_scale, hook):\n",
    "  #print(torch.equal(ln_scale, clean_cache[\"blocks.\" + str(hook.layer()) + \".ln1.hook_scale\"]))\n",
    "  ln_scale = clean_cache[\"blocks.\" + str(hook.layer()) + \".ln1.hook_scale\"]\n",
    "  return ln_scale"
   ]
  },
  {
   "cell_type": "code",
   "execution_count": 55,
   "metadata": {},
   "outputs": [],
   "source": [
    "def causal_write_into_component(act_comp, head, direction, x, pre_ln = True, result_cache_function = None, result_cache_fun_has_head_input = False, freeze_layernorm = False, ablate_heads = []):\n",
    "  '''\n",
    "  writes a vector into the component at a given head\n",
    "  returns new logit differences of run by default, or pass result_cache_funciton to run on cache\n",
    "\n",
    "  head - tuple for head to intervene in act_comp for\n",
    "  direction - vector to add to the act_comp in the head\n",
    "  x - tensor of amount to scale\n",
    "  '''\n",
    "  y = torch.zeros(x.shape)\n",
    "  for i in range(len(x)):\n",
    "    scale = x[i]\n",
    "    model.reset_hooks()\n",
    "    temp = torch.zeros((batch_size, seq_len, model.cfg.d_model)).cuda()\n",
    "    model.add_hook(utils.get_act_name(\"resid_pre\", head[0]), partial(store_activation, where_to_store = temp))\n",
    "    if freeze_layernorm:\n",
    "      model.add_hook(\"blocks.\" + str(head[0]) + \".ln1.hook_scale\", patch_ln_scale)\n",
    "    model.add_hook(utils.get_act_name(act_comp, head[0]), partial(kq_rewrite_hook, head = head, unnormalized_resid = temp, vector = direction, act_name = act_comp, scale = scale, pre_ln = pre_ln))\n",
    "\n",
    "\n",
    "    if len(ablate_heads) != 0:\n",
    "      for j in ablate_heads:\n",
    "        model.add_hook(utils.get_act_name(\"z\", j[0]), partial(patch_head_vector, head_indices = [j[1]], other_cache = corrupted_cache))\n",
    "\n",
    "\n",
    "    hooked_logits, hooked_cache = model.run_with_cache(clean_tokens)\n",
    "    model.reset_hooks()\n",
    "\n",
    "\n",
    "    if result_cache_function != None:\n",
    "      if not result_cache_fun_has_head_input:\n",
    "        y[i] = result_cache_function(hooked_cache)\n",
    "      else:\n",
    "        y[i] = result_cache_function(hooked_cache, head)\n",
    "    else:\n",
    "      # just calculate logit diff\n",
    "      y[i] = logits_to_ave_logit_diff(hooked_logits)\n",
    "\n",
    "  return y\n"
   ]
  },
  {
   "cell_type": "code",
   "execution_count": 47,
   "metadata": {},
   "outputs": [],
   "source": [
    "def graph_lines(results, heads, x, title = \"Effect of adding/subtracting direction\", xtitle = \"Scaling on direction\", ytitle = \"Logit Diff\"):\n",
    "  fig = px.line(title = title)\n",
    "  for i in range(len(results)):\n",
    "    fig.add_trace(go.Scatter(x = x, y = results[i], name = str(heads[i])))\n",
    "\n",
    "  fig.update_xaxes(title = xtitle)\n",
    "  fig.update_yaxes(title = ytitle)\n",
    "  fig.show()"
   ]
  },
  {
   "cell_type": "code",
   "execution_count": 61,
   "metadata": {},
   "outputs": [],
   "source": [
    "def get_head_IO_minus_S_attn(cache, head, scores = True):\n",
    "\n",
    "  layer, h_index = head\n",
    "\n",
    "  if scores:\n",
    "    attention_patten = cache[\"attn_scores\", layer]\n",
    "  else:\n",
    "    attention_patten = cache[\"pattern\", layer]\n",
    "\n",
    "  S1 = attention_patten.mean(0)[h_index][-1][2].item()\n",
    "  IO = attention_patten.mean(0)[h_index][-1][4].item()\n",
    "  S2 = attention_patten.mean(0)[h_index][-1][10].item()\n",
    "\n",
    "  return IO - S1 - S2\n",
    "\n",
    "\n",
    "def get_head_IO_minus_just_S1_attn(cache, head, scores = True):\n",
    "\n",
    "    layer, h_index = head\n",
    "\n",
    "    if scores:\n",
    "      attention_patten = cache[\"attn_scores\", layer]\n",
    "    else:\n",
    "      attention_patten = cache[\"pattern\", layer]\n",
    "\n",
    "    S1 = attention_patten.mean(0)[h_index][-1][2].item()\n",
    "    IO = attention_patten.mean(0)[h_index][-1][4].item()\n",
    "    S2 = attention_patten.mean(0)[h_index][-1][10].item()\n",
    "\n",
    "    return IO - S1\n",
    "\n",
    "def get_head_attn(cache, head, token, scores = True):\n",
    "\n",
    "  layer, h_index = head\n",
    "\n",
    "  if scores:\n",
    "    attention_patten = cache[\"attn_scores\", layer]\n",
    "  else:\n",
    "    attention_patten = cache[\"pattern\", layer]\n",
    "\n",
    "  if token == \"S1\":\n",
    "     return attention_patten.mean(0)[h_index][-1][2].item()\n",
    "  elif token == \"IO\":\n",
    "     return attention_patten.mean(0)[h_index][-1][4].item()\n",
    "  elif token == \"S2\":\n",
    "     return attention_patten.mean(0)[h_index][-1][10].item()\n",
    "  elif token == \"BOS\":\n",
    "     return attention_patten.mean(0)[h_index][-1][0].item()\n",
    "  else:\n",
    "    print(\"RAHHHHH YOU MISSTYPED SOMETHING\")\n",
    "\n",
    "def patch_head_vector(\n",
    "    head_vector: Float[Tensor, \"batch pos head_index d_head\"],\n",
    "    hook: HookPoint,\n",
    "    head_indices: int,\n",
    "    other_cache: ActivationCache\n",
    ") -> Float[Tensor, \"batch pos head_index d_head\"]:\n",
    "    '''\n",
    "    Patches the output of a given head (before it's added to the residual stream) at\n",
    "    every sequence position, using the value from the other cache.\n",
    "    '''\n",
    "    for head_index in head_indices:\n",
    "      head_vector[:, :, head_index] = other_cache[hook.name][:, :, head_index]\n",
    "    return head_vector\n",
    "\n",
    "def get_attn_results_into_head_dirs(heads, direction, scale_amounts, ablate_heads = [], freeze_ln = False, only_S1 = False, scores = True):\n",
    "  io_attn_postln_nmh_results = []\n",
    "  for i in range(len(heads)):\n",
    "    io_attn_postln_nmh_results.append(causal_write_into_component(\"q\", heads[i], direction, scale_amounts,\n",
    "                                                        pre_ln = True, freeze_layernorm = freeze_ln, result_cache_function = partial(get_head_attn, token = \"IO\", scores = scores), result_cache_fun_has_head_input = True, ablate_heads=ablate_heads))\n",
    "\n",
    "\n",
    "  s1_attn_postln_nmh_results = []\n",
    "  for i in range(len(heads)):\n",
    "    s1_attn_postln_nmh_results.append(causal_write_into_component(\"q\", heads[i], direction, scale_amounts,\n",
    "                                                        pre_ln = True, freeze_layernorm = freeze_ln,result_cache_function = partial(get_head_attn, token = \"S1\", scores = scores), result_cache_fun_has_head_input = True, ablate_heads=ablate_heads))\n",
    "\n",
    "  s2_attn_postln_nmh_results = []\n",
    "  for i in range(len(heads)):\n",
    "    s2_attn_postln_nmh_results.append(causal_write_into_component(\"q\", heads[i], direction, scale_amounts,\n",
    "                                                        pre_ln = True, freeze_layernorm = freeze_ln,result_cache_function = partial(get_head_attn, token = \"S2\", scores = scores), result_cache_fun_has_head_input = True, ablate_heads=ablate_heads))\n",
    "\n",
    "  diff_results = []\n",
    "  if not only_S1:\n",
    "    for i in range(len(heads)):\n",
    "      diff_results.append(causal_write_into_component(\"q\", heads[i], direction, scale_amounts,\n",
    "                                                          pre_ln = True, freeze_layernorm = freeze_ln,result_cache_function = partial(get_head_IO_minus_S_attn, scores = scores), result_cache_fun_has_head_input = True, ablate_heads=ablate_heads))\n",
    "  else:\n",
    "    for i in range(len(heads)):\n",
    "      diff_results.append(causal_write_into_component(\"q\", heads[i], direction, scale_amounts,\n",
    "                                                          pre_ln = True, freeze_layernorm = freeze_ln,result_cache_function = partial(get_head_IO_minus_just_S1_attn, scores = scores), result_cache_fun_has_head_input = True, ablate_heads=ablate_heads))\n",
    "\n",
    "\n",
    "  bos_attn_postln_nmh_results = []\n",
    "  for i in range(len(heads)):\n",
    "    bos_attn_postln_nmh_results.append(causal_write_into_component(\"q\", heads[i], direction, scale_amounts,\n",
    "                                                        pre_ln = True, freeze_layernorm = freeze_ln,result_cache_function = partial(get_head_attn, token = \"BOS\", scores = scores), result_cache_fun_has_head_input = True, ablate_heads=ablate_heads))\n",
    "\n",
    "  return [io_attn_postln_nmh_results, s1_attn_postln_nmh_results, s2_attn_postln_nmh_results, diff_results, bos_attn_postln_nmh_results]"
   ]
  },
  {
   "cell_type": "code",
   "execution_count": 127,
   "metadata": {},
   "outputs": [],
   "source": [
    "def get_copying_scores(\n",
    "    model: HookedTransformer,\n",
    "    names,\n",
    "    k: int = 5,\n",
    "\n",
    ") -> Float[Tensor, \"2 layer-1 head\"]:\n",
    "    '''\n",
    "    Gets copying scores (both positive and negative) as described in page 6 of the IOI paper, for every (layer, head) pair in the model.\n",
    "\n",
    "    Returns these in a 3D tensor (the first dimension is for positive vs negative).\n",
    "\n",
    "    Omits the 0th layer, because this is before MLP0 (which we're claiming acts as an extended embedding).\n",
    "    '''\n",
    "    # SOLUTION\n",
    "    results = torch.zeros((2, model.cfg.n_layers, model.cfg.n_heads), device=\"cuda\")\n",
    "\n",
    "    # Define components from our model (for typechecking, and cleaner code)\n",
    "    embed = model.embed\n",
    "    mlp0 = model.blocks[0].mlp\n",
    "    ln0 = model.blocks[0].ln2\n",
    "    unembed = model.unembed\n",
    "    ln_final = model.ln_final\n",
    "\n",
    "    # Get embeddings for the names in our list\n",
    "    name_tokens: Int[Tensor, \"batch 1\"] = model.to_tokens(names, prepend_bos=False)\n",
    "    name_embeddings: Int[Tensor, \"batch 1 d_model\"] = embed(name_tokens)\n",
    "\n",
    "    # Get residual stream after applying MLP\n",
    "    resid_after_mlp1 = name_embeddings + mlp0(ln0(name_embeddings))\n",
    "\n",
    "    # Loop over all (layer, head) pairs\n",
    "    for layer in range(model.cfg.n_layers):\n",
    "        for head in range(model.cfg.n_heads):\n",
    "\n",
    "            # Get W_OV matrix\n",
    "            W_OV = model.W_V[layer, head] @ model.W_O[layer, head]\n",
    "\n",
    "            # Get residual stream after applying W_OV or -W_OV respectively\n",
    "            # (note, because of bias b_U, it matters that we do sign flip here, not later)\n",
    "            resid_after_OV_pos = resid_after_mlp1 @ W_OV\n",
    "            resid_after_OV_neg = resid_after_mlp1 @ -W_OV\n",
    "\n",
    "            # Get logits from value of residual stream\n",
    "            logits_pos: Float[Tensor, \"batch d_vocab\"] = unembed(ln_final(resid_after_OV_pos)).squeeze()\n",
    "            logits_neg: Float[Tensor, \"batch d_vocab\"] = unembed(ln_final(resid_after_OV_neg)).squeeze()\n",
    "\n",
    "            # Check how many are in top k\n",
    "            topk_logits: Int[Tensor, \"batch k\"] = torch.topk(logits_pos, dim=-1, k=k).indices\n",
    "            in_topk = (topk_logits == name_tokens).any(-1)\n",
    "            # Check how many are in bottom k\n",
    "            bottomk_logits: Int[Tensor, \"batch k\"] = torch.topk(logits_neg, dim=-1, k=k).indices\n",
    "            in_bottomk = (bottomk_logits == name_tokens).any(-1)\n",
    "\n",
    "            # Fill in results\n",
    "            results[:, layer, head] = torch.tensor([in_topk.float().mean(), in_bottomk.float().mean()])\n",
    "\n",
    "    return results"
   ]
  },
  {
   "cell_type": "code",
   "execution_count": 129,
   "metadata": {},
   "outputs": [],
   "source": [
    "def top_1_acc_iteration(full_OV_circuit: FactoredMatrix, batch_size: int = 100) -> float:\n",
    "    '''\n",
    "    This should take the argmax of each column (ie over dim=0) and return the fraction of the time that's equal to the correct logit\n",
    "    '''\n",
    "    A, B = full_OV_circuit.A, full_OV_circuit.B\n",
    "    nrows = full_OV_circuit.shape[0]\n",
    "    nrows_max_on_diagonal = 0\n",
    "\n",
    "    for i in range(0, nrows + batch_size, batch_size):\n",
    "        rng = range(i, min(i + batch_size, nrows))\n",
    "        if rng:\n",
    "            submatrix = A[rng, :] @ B\n",
    "            diag_indices = torch.tensor(rng, device=submatrix.device)\n",
    "            nrows_max_on_diagonal += (submatrix.argmax(-1) == diag_indices).float().sum().item()\n",
    "\n",
    "    return nrows_max_on_diagonal / nrows\n",
    "\n",
    "\n",
    "def top_5_acc_iteration(full_OV_circuit: FactoredMatrix, batch_size: int = 100) -> float:\n",
    "    '''\n",
    "    This should take the argmax of each column (ie over dim=0) and return the fraction of the time that's equal to the correct logit\n",
    "    '''\n",
    "    A, B = full_OV_circuit.A, full_OV_circuit.B\n",
    "    nrows = full_OV_circuit.shape[0]\n",
    "    nrows_top5_on_diagonal = 0\n",
    "\n",
    "    for i in range(0, nrows + batch_size, batch_size):\n",
    "        rng = range(i, min(i + batch_size, nrows))\n",
    "        if rng:\n",
    "            submatrix = A[rng, :] @ B\n",
    "            diag_indices = torch.tensor(rng, device=submatrix.device).unsqueeze(-1)\n",
    "            top5 = torch.topk(submatrix, k=5).indices\n",
    "            nrows_top5_on_diagonal += (diag_indices == top5).sum().item()\n",
    "\n",
    "    return nrows_top5_on_diagonal / nrows\n"
   ]
  },
  {
   "cell_type": "code",
   "execution_count": 130,
   "metadata": {},
   "outputs": [],
   "source": [
    "def look_at_backup_circuit(\n",
    "    model: HookedTransformer,\n",
    "    head_one: Tuple[int, int],\n",
    "    head_two: Tuple[int, int],\n",
    "    names,\n",
    "    show_matrix = True,\n",
    "    negative = False\n",
    "):\n",
    "    \"\"\"\n",
    "    Shows the strength of the backup - W_OV^A, W_QK^B circuit - between heads\n",
    "    or, the negative backup if negative = True\n",
    "    \"\"\"\n",
    "\n",
    "    # Define components from our model (for typechecking, and cleaner code)\n",
    "    embed = model.embed\n",
    "    mlp0 = model.blocks[0].mlp\n",
    "    ln0 = model.blocks[0].ln2\n",
    "    unembed = model.unembed\n",
    "    ln_final = model.ln_final\n",
    "\n",
    "    # Get embeddings for the names in our list\n",
    "    name_tokens: Int[Tensor, \"batch 1\"] = model.to_tokens(names, prepend_bos=False)\n",
    "    name_embeddings: Int[Tensor, \"batch 1 d_model\"] = embed(name_tokens)\n",
    "\n",
    "    # Get residual stream after applying MLP\n",
    "    resid_after_mlp1 = name_embeddings + mlp0(ln0(name_embeddings)) # seq 1 d_model\n",
    "    resid_after_mlp1 = resid_after_mlp1[:, 0, :]\n",
    "\n",
    "    # calculate the OV matrix of head two\n",
    "    A_O = model.W_O[head_one[0], head_one[1]]\n",
    "    A_V = model.W_V[head_one[0], head_one[1]]\n",
    "    A_OV_Circuit = FactoredMatrix(A_V, A_O)\n",
    "\n",
    "    # calculate the QK matrix of head two\n",
    "    B_Q = model.W_Q[head_two[0], head_two[1]]\n",
    "    B_K = model.W_K[head_two[0], head_two[1]]\n",
    "\n",
    "    if negative:\n",
    "      B_QK_Circuit = FactoredMatrix(-B_Q, B_K.T)\n",
    "    else:\n",
    "      B_QK_Circuit = FactoredMatrix(B_Q, B_K.T)\n",
    "\n",
    "\n",
    "    relationship = A_OV_Circuit @ B_QK_Circuit # this is the A by B compositioin we want\n",
    "\n",
    "    # put token embeddings around this matrix\n",
    "    full_circuit = resid_after_mlp1 @ relationship @ resid_after_mlp1.T\n",
    "\n",
    "\n",
    "    top_1 = top_1_acc_iteration(full_circuit)\n",
    "    top_5 = top_5_acc_iteration(full_circuit)\n",
    "\n",
    "\n",
    "    if show_matrix:\n",
    "      print(top_1)\n",
    "      print(top_5)\n",
    "      imshow (\n",
    "          full_circuit.AB,\n",
    "          labels={\"x\": \"Input token\", \"y\": \"Attention to output token\"},\n",
    "          title=\"Full Backup composition between head \" + str(head_one) +\" and \"+ str(head_two),\n",
    "          width=700,\n",
    "          x = model.to_str_tokens(name_tokens),\n",
    "          y = model.to_str_tokens(name_tokens)\n",
    "      )\n",
    "    else:\n",
    "      return top_1, top_5"
   ]
  },
  {
   "cell_type": "code",
   "execution_count": 131,
   "metadata": {},
   "outputs": [],
   "source": [
    "def display_back_scores(B_layer, B_head, negative = False):\n",
    "  \"\"\"\n",
    "  displays all backup scores of heads with the head (B_layer, B_head)\n",
    "  \"\"\"\n",
    "\n",
    "  backup_circuitry_11_7 = torch.zeros((12, 12,2))\n",
    "  for layer in range(12):\n",
    "    for head in range(12):\n",
    "      top_1, top_5 = look_at_backup_circuit(model, (layer,head), (B_layer, B_head), names_list, show_matrix = False, negative = negative)\n",
    "      backup_circuitry_11_7[layer][head][0] = top_1\n",
    "      backup_circuitry_11_7[layer][head][1] = top_5\n",
    "\n",
    "  imshow (\n",
    "          torch.stack((backup_circuitry_11_7[..., 0], backup_circuitry_11_7[..., 1])),\n",
    "          facet_col = 0,\n",
    "          facet_labels = [\"Top_1\", \"Top_5\"],\n",
    "          labels={\"x\": \"Head\", \"y\": \"Layer\"},\n",
    "          title=f\"Backup Circuit Score with {B_layer}.{B_head}\" if not negative else f\"Negative Backup Circuit Score with {B_layer}.{B_head}\",\n",
    "          width=700,\n",
    "          range_color = [-1, 1]\n",
    "      )"
   ]
  },
  {
   "cell_type": "code",
   "execution_count": 133,
   "metadata": {},
   "outputs": [],
   "source": [
    "def look_at_qk_circuit(\n",
    "    model: HookedTransformer,\n",
    "    head_two: Tuple[int, int],\n",
    "    names,\n",
    "    show_matrix = True,\n",
    "    negative = False\n",
    "):\n",
    "    \"\"\"\n",
    "    Shows the strength of the QK circuit in head_two\n",
    "    \"\"\"\n",
    "\n",
    "    # Define components from our model (for typechecking, and cleaner code)\n",
    "    embed = model.embed\n",
    "    mlp0 = model.blocks[0].mlp\n",
    "    ln0 = model.blocks[0].ln2\n",
    "    unembed = model.unembed\n",
    "    ln_final = model.ln_final\n",
    "\n",
    "    # Get embeddings for the names in our list\n",
    "    name_tokens: Int[Tensor, \"batch 1\"] = model.to_tokens(names, prepend_bos=False)\n",
    "    name_embeddings: Int[Tensor, \"batch 1 d_model\"] = embed(name_tokens)\n",
    "\n",
    "    # Get residual stream after applying MLP\n",
    "    resid_after_mlp1 = name_embeddings + mlp0(ln0(name_embeddings)) # seq 1 d_model\n",
    "    resid_after_mlp1 = resid_after_mlp1[:, 0, :]\n",
    "\n",
    "    # calculate the QK matrix of head two\n",
    "    B_Q = model.W_Q[head_two[0], head_two[1]]\n",
    "    B_K = model.W_K[head_two[0], head_two[1]]\n",
    "\n",
    "    if negative:\n",
    "      B_QK_Circuit = FactoredMatrix(-B_Q, B_K.T)\n",
    "    else:\n",
    "      B_QK_Circuit = FactoredMatrix(B_Q, B_K.T)\n",
    "\n",
    "    relationship = B_QK_Circuit # this is the A by B compositioin we want\n",
    "\n",
    "    # put token embeddings around this matrix\n",
    "    full_circuit = resid_after_mlp1 @ relationship @ resid_after_mlp1.T\n",
    "\n",
    "\n",
    "    top_1 = top_1_acc_iteration(full_circuit)\n",
    "    top_5 = top_5_acc_iteration(full_circuit)\n",
    "\n",
    "\n",
    "    if show_matrix:\n",
    "      print(top_1)\n",
    "      print(top_5)\n",
    "      imshow (\n",
    "          full_circuit.AB,\n",
    "          labels={\"x\": \"Input token\", \"y\": \"Attention to output token\"},\n",
    "          title=\"Full QK circuit within head \" + str(head_two),\n",
    "          width=700,\n",
    "          x = model.to_str_tokens(name_tokens),\n",
    "          y = model.to_str_tokens(name_tokens)\n",
    "      )\n",
    "    else:\n",
    "      return top_1, top_5"
   ]
  },
  {
   "cell_type": "markdown",
   "metadata": {},
   "source": [
    "# Query Intervention into Corrective Model Components"
   ]
  },
  {
   "cell_type": "code",
   "execution_count": 62,
   "metadata": {},
   "outputs": [],
   "source": [
    "IO_unembed_direction = model.W_U.T[clean_tokens][:, 4, :]\n",
    "scaling_amounts = torch.linspace(-5, 5, 21)"
   ]
  },
  {
   "cell_type": "code",
   "execution_count": 197,
   "metadata": {},
   "outputs": [],
   "source": [
    "import pickle\n",
    "\n",
    "results_storage = {}\n",
    "\n",
    "# to load dictionary (if you dont have, simply comment out the below lines):\n",
    "with open('saved_dictionary.pkl', 'rb') as f:\n",
    "    results_storage = pickle.load(f)"
   ]
  },
  {
   "cell_type": "code",
   "execution_count": 198,
   "metadata": {},
   "outputs": [],
   "source": [
    "def return_head_from_string(head_type):\n",
    "    \n",
    "    assert head_type == \"backup\" or head_type == \"NMH\" or head_type == \"negative\" or head_type == \"key_backup\"\n",
    "\n",
    "    if head_type == \"backup\":\n",
    "        heads = backup_heads\n",
    "    elif head_type == \"NMH\":\n",
    "        heads = name_mover_heads\n",
    "    elif head_type == \"negative\":\n",
    "        heads = neg_m_heads\n",
    "    elif head_type == \"key_backup\":\n",
    "        heads = key_backup_heads\n",
    "\n",
    "    return heads\n",
    "\n",
    "    "
   ]
  },
  {
   "cell_type": "code",
   "execution_count": 199,
   "metadata": {},
   "outputs": [],
   "source": [
    "def run_query_intervention_with_setup(scaling_amounts, head_type, scores = True,  freeze_ln = False, only_S1 = True, head_to_control = (9,9)):\n",
    "    \"\"\"\n",
    "    currently doesnt allow for ablations in encoding, nor does it allow for post_ln\n",
    "    \"\"\"\n",
    "    encode_name = (\"1\" if freeze_ln else \"0\") +  (\"1\" if only_S1 else \"0\") + (\"1\" if scores else \"0\") + head_type + str(head_to_control)\n",
    "\n",
    "    if encode_name in results_storage.keys():\n",
    "        print(\"returning cached value\")\n",
    "        return results_storage[encode_name]\n",
    "    \n",
    "\n",
    "\n",
    "    matrix = model.W_O[head_to_control[0], head_to_control[1]]\n",
    "    layer_output = clean_cache[utils.get_act_name(\"z\", head_to_control[0])]\n",
    "    layer_result = einops.einsum(matrix, layer_output, \"d_head d_model, batch seq h_idx d_head -> batch seq h_idx d_model\")\n",
    "    output_of_head = layer_result[:, -1, head_to_control[1], :]     #[:, 10, :]  # 10 = Subject,   4 = IO\n",
    "\n",
    "    dot_product = einops.einsum(output_of_head, IO_unembed_direction, \"batch d_model, batch d_model -> batch\")\n",
    "    length_of_vector = einops.einsum(IO_unembed_direction, IO_unembed_direction, \"batch d_model, batch d_model -> batch\")\n",
    "    projected_lengths = dot_product / length_of_vector\n",
    "    io_in_direction = IO_unembed_direction * einops.repeat(projected_lengths, \"batch -> batch d_model\", d_model = model.cfg.d_model)\n",
    "    everything_but_direction = output_of_head - io_in_direction\n",
    "\n",
    "    heads = return_head_from_string(head_type)\n",
    "\n",
    "    into_head_results = get_attn_results_into_head_dirs(heads, output_of_head, scaling_amounts, ablate_heads=[], freeze_ln=freeze_ln, only_S1 = only_S1, scores = scores)\n",
    "    perp_into_head_results = get_attn_results_into_head_dirs(heads, everything_but_direction, scaling_amounts, ablate_heads=[], freeze_ln=freeze_ln, only_S1 = only_S1, scores = scores)\n",
    "    parallel_into_head_results = get_attn_results_into_head_dirs(heads, io_in_direction, scaling_amounts, ablate_heads=[], freeze_ln=freeze_ln, only_S1 = only_S1, scores = scores)    \n",
    "\n",
    "\n",
    "    result = [into_head_results, perp_into_head_results, parallel_into_head_results]\n",
    "    results_storage[encode_name] = result\n",
    "    return result"
   ]
  },
  {
   "cell_type": "code",
   "execution_count": 200,
   "metadata": {},
   "outputs": [],
   "source": [
    "def display_attn_scores(head_type, scores = True,  freeze_ln = False, only_S1 = True, head = (9,9)):\n",
    "    \n",
    "    nine_nine_into_backup_results, nine_nine_perp_into_backup_results, nine_nine_parallel_into_backup_results = run_query_intervention_with_setup(scaling_amounts, head_type, scores, freeze_ln, only_S1, head_to_control = head)\n",
    "\n",
    "    heads = return_head_from_string(head_type)\n",
    "\n",
    "\n",
    "    fig = make_subplots(rows = 3, cols = 5, subplot_titles = [\"IO\", \"S1\", \"S2\",\"IO - S1\", \"BOS\"], shared_yaxes=True)\n",
    "    fig.update_layout(height = 900)\n",
    "\n",
    "    fig.update_layout(title = \"Adding Directions to \" + head_type + f\" | scores = {scores} | freeze_ln = {freeze_ln}\")\n",
    "    colors = [\n",
    "        \"pink\", \"darkviolet\", \"blue\", \"purple\", \"turquoise\", \"red\", \"green\", \"yellow\", \"orange\", \"cyan\", \"magenta\",\n",
    "        \"lime\", \"maroon\", \"navy\", \"olive\", \"teal\", \"aqua\", \"silver\", \"gray\", \"black\", \"white\", \"indigo\", \"gold\", \"brown\",\n",
    "        \"coral\", \"crimson\", \"darkblue\", \"darkcyan\", \"darkgoldenrod\", \"darkgray\", \"darkgreen\", \"darkkhaki\", \"darkmagenta\",\n",
    "        \"darkolivegreen\", \"darkorange\", \"darkorchid\", \"darkred\", \"darksalmon\", \"darkslateblue\", \"darkslategray\",\n",
    "        \"darkturquoise\", \"darkviolet\", \"deeppink\", \"deepskyblue\", \"dimgray\", \"dodgerblue\", \"firebrick\", \"forestgreen\",\n",
    "        \"fuchsia\", \"gainsboro\", \"gold\", \"goldenrod\", \"gray\", \"greenyellow\", \"honeydew\", \"hotpink\", \"indianred\", \"indigo\",\n",
    "        \"ivory\", \"khaki\", \"lavender\", \"lavenderblush\", \"lawngreen\", \"lemonchiffon\", \"lightblue\", \"lightcoral\",\n",
    "        \"lightcyan\", \"lightgoldenrodyellow\", \"lightgray\", \"lightgreen\", \"lightpink\", \"lightsalmon\", \"lightseagreen\",\n",
    "        \"lightskyblue\", \"lightslategray\", \"lightsteelblue\", \"lightyellow\", \"lime\", \"limegreen\", \"linen\", \"magenta\",\n",
    "        \"maroon\", \"mediumaquamarine\", \"mediumblue\", \"mediumorchid\", \"mediumpurple\", \"mediumseagreen\", \"mediumslateblue\",\n",
    "        \"mediumspringgreen\", \"mediumturquoise\", \"mediumvioletred\", \"midnightblue\", \"mintcream\", \"mistyrose\", \"moccasin\",\n",
    "        \"navajowhite\", \"navy\", \"oldlace\", \"olive\", \"olivedrab\", \"orangered\", \"orchid\", \"palegoldenrod\", \"palegreen\",\n",
    "        \"paleturquoise\", \"palevioletred\", \"papayawhip\", \"peachpuff\", \"peru\", \"plum\", \"powderblue\", \"rebeccapurple\",\n",
    "        \"rosybrown\", \"royalblue\", \"saddlebrown\", \"salmon\", \"sandybrown\", \"seagreen\", \"sienna\", \"skyblue\", \"slateblue\",\n",
    "        \"slategray\", \"snow\", \"springgreen\", \"steelblue\", \"tan\", \"thistle\", \"tomato\", \"turquoise\", \"violet\", \"wheat\",\n",
    "        \"whitesmoke\", \"yellowgreen\"\n",
    "    ]\n",
    "\n",
    "    for col, data in enumerate(nine_nine_into_backup_results):\n",
    "        for i in range(len(data)):\n",
    "            fig.add_trace(go.Scatter(x = scaling_amounts, y = data[i], name = str(heads[i]), line_color = colors[i], legendgroup= str(i)), row = 1, col = col + 1)\n",
    "\n",
    "    for col, data in enumerate(nine_nine_perp_into_backup_results):\n",
    "        for i in range(len(data)):\n",
    "            fig.add_trace(go.Scatter(x = scaling_amounts, y = data[i], name = str(heads[i]) + \" ⊥ IO\", line_color = colors[i], legendgroup= str(i)), row = 2, col = col + 1)\n",
    "\n",
    "    for col, data in enumerate(nine_nine_parallel_into_backup_results):\n",
    "        for i in range(len(data)):\n",
    "            fig.add_trace(go.Scatter(x = scaling_amounts, y = data[i], name = str(heads[i]) + \" ∥ IO\", line_color = colors[i], legendgroup= str(i)), row = 3, col = col + 1)\n",
    "\n",
    "\n",
    "    fig.update_xaxes(title = f\"Added Scaled {head} Output\", row = 1)\n",
    "    fig.update_xaxes(title = f\"Added Scaled {head} ⊥ IO \", row = 2)\n",
    "    fig.update_xaxes(title = f\"Added Scaled {head} ∥ IO \", row = 3)\n",
    "    \n",
    "    if scores:\n",
    "        fig.update_yaxes(title = \"Attn Score on token\")\n",
    "    else:\n",
    "        fig.update_yaxes(title = \"Attn Probs on token\")\n",
    "    fig.show()"
   ]
  },
  {
   "cell_type": "code",
   "execution_count": 202,
   "metadata": {},
   "outputs": [
    {
     "data": {
      "text/plain": [
       "dict_keys(['111backup(9, 9)', '111NMH(9, 9)', '111negative(9, 9)', '110backup(9, 9)', '110NMH(9, 9)', '110negative(9, 9)', '011backup(9, 9)', '011NMH(9, 9)', '011negative(9, 9)', '010backup(9, 9)', '010NMH(9, 9)', '010negative(9, 9)', '111backup(9, 6)', '111NMH(9, 6)', '111negative(9, 6)', '110backup(9, 6)', '110NMH(9, 6)', '110negative(9, 6)', '011backup(9, 6)', '011NMH(9, 6)', '011negative(9, 6)', '010backup(9, 6)', '010NMH(9, 6)', '010negative(9, 6)', '111backup(10, 0)', '111NMH(10, 0)', '111negative(10, 0)', '110backup(10, 0)', '110NMH(10, 0)', '110negative(10, 0)', '011backup(10, 0)', '011NMH(10, 0)', '011negative(10, 0)', '010backup(10, 0)', '010NMH(10, 0)', '010negative(10, 0)', '111key_backup(9, 9)', '110key_backup(9, 9)', '011key_backup(9, 9)', '010key_backup(9, 9)', '111key_backup(9, 6)', '110key_backup(9, 6)', '011key_backup(9, 6)', '010key_backup(9, 6)', '111key_backup(10, 0)', '110key_backup(10, 0)', '011key_backup(10, 0)', '010key_backup(10, 0)'])"
      ]
     },
     "execution_count": 202,
     "metadata": {},
     "output_type": "execute_result"
    }
   ],
   "source": [
    "results_storage.keys()"
   ]
  },
  {
   "cell_type": "code",
   "execution_count": 203,
   "metadata": {},
   "outputs": [
    {
     "name": "stdout",
     "output_type": "stream",
     "text": [
      "returning cached value\n",
      "returning cached value\n",
      "returning cached value\n",
      "returning cached value\n",
      "returning cached value\n",
      "returning cached value\n",
      "returning cached value\n",
      "returning cached value\n",
      "returning cached value\n",
      "returning cached value\n",
      "returning cached value\n",
      "returning cached value\n",
      "returning cached value\n",
      "returning cached value\n",
      "returning cached value\n",
      "returning cached value\n",
      "returning cached value\n",
      "returning cached value\n",
      "returning cached value\n",
      "returning cached value\n",
      "returning cached value\n",
      "returning cached value\n",
      "returning cached value\n",
      "returning cached value\n",
      "returning cached value\n",
      "returning cached value\n",
      "returning cached value\n",
      "returning cached value\n",
      "returning cached value\n",
      "returning cached value\n",
      "returning cached value\n",
      "returning cached value\n",
      "returning cached value\n",
      "returning cached value\n",
      "returning cached value\n",
      "returning cached value\n",
      "returning cached value\n",
      "returning cached value\n",
      "returning cached value\n",
      "returning cached value\n",
      "returning cached value\n",
      "returning cached value\n",
      "returning cached value\n",
      "returning cached value\n",
      "returning cached value\n",
      "returning cached value\n",
      "returning cached value\n",
      "returning cached value\n"
     ]
    }
   ],
   "source": [
    "scaling_amounts = torch.linspace(-8, 8, 21)\n",
    "for freeze_ln in [True, False]:\n",
    "    for scores in [True, False]:\n",
    "        for headtype in [\"backup\", \"NMH\", \"negative\", \"key_backup\"]:\n",
    "            for head_to_control in [(9,9), (9,6), (10,0)]:\n",
    "                run_query_intervention_with_setup(scaling_amounts, headtype, scores, freeze_ln, True, head_to_control= head_to_control)"
   ]
  },
  {
   "cell_type": "code",
   "execution_count": 194,
   "metadata": {},
   "outputs": [
    {
     "name": "stdout",
     "output_type": "stream",
     "text": [
      "returning cached value\n"
     ]
    },
    {
     "data": {
      "application/vnd.plotly.v1+json": {
       "config": {
        "plotlyServerURL": "https://plot.ly"
       },
       "data": [
        {
         "legendgroup": "0",
         "line": {
          "color": "pink"
         },
         "name": "(10, 2)",
         "type": "scatter",
         "x": [
          -8,
          -7.199999809265137,
          -6.400000095367432,
          -5.599999904632568,
          -4.800000190734863,
          -4,
          -3.1999998092651367,
          -2.3999998569488525,
          -1.5999999046325684,
          -0.7999998927116394,
          -1.1920928955078125e-7,
          0.7999998927116394,
          1.5999999046325684,
          2.3999998569488525,
          3.1999998092651367,
          4,
          4.800000190734863,
          5.599999904632568,
          6.400000095367432,
          7.199999809265137,
          8
         ],
         "xaxis": "x",
         "y": [
          0.2765139043331146,
          0.27813929319381714,
          0.27862635254859924,
          0.2776009142398834,
          0.2746231257915497,
          0.26920029520988464,
          0.2608270049095154,
          0.24908538162708282,
          0.23384538292884827,
          0.2155441790819168,
          0.19533829391002655,
          0.17482143640518188,
          0.15539248287677765,
          0.1378326416015625,
          0.12236050516366959,
          0.10889504104852676,
          0.09725164622068405,
          0.08722598850727081,
          0.07861903309822083,
          0.07124346494674683,
          0.06492626667022705
         ],
         "yaxis": "y"
        },
        {
         "legendgroup": "1",
         "line": {
          "color": "darkviolet"
         },
         "name": "(10, 10)",
         "type": "scatter",
         "x": [
          -8,
          -7.199999809265137,
          -6.400000095367432,
          -5.599999904632568,
          -4.800000190734863,
          -4,
          -3.1999998092651367,
          -2.3999998569488525,
          -1.5999999046325684,
          -0.7999998927116394,
          -1.1920928955078125e-7,
          0.7999998927116394,
          1.5999999046325684,
          2.3999998569488525,
          3.1999998092651367,
          4,
          4.800000190734863,
          5.599999904632568,
          6.400000095367432,
          7.199999809265137,
          8
         ],
         "xaxis": "x",
         "y": [
          0.330660879611969,
          0.3516707122325897,
          0.37107351422309875,
          0.38792750239372253,
          0.4009285867214203,
          0.40857720375061035,
          0.40949058532714844,
          0.40266895294189453,
          0.38764312863349915,
          0.3646160662174225,
          0.3346811532974243,
          0.29994997382164,
          0.26325514912605286,
          0.22738778591156006,
          0.1943656951189041,
          0.16520126163959503,
          0.1401129812002182,
          0.11886034160852432,
          0.10100477188825607,
          0.08606115728616714,
          0.07357005774974823
         ],
         "yaxis": "y"
        },
        {
         "legendgroup": "2",
         "line": {
          "color": "blue"
         },
         "name": "(11, 2)",
         "type": "scatter",
         "x": [
          -8,
          -7.199999809265137,
          -6.400000095367432,
          -5.599999904632568,
          -4.800000190734863,
          -4,
          -3.1999998092651367,
          -2.3999998569488525,
          -1.5999999046325684,
          -0.7999998927116394,
          -1.1920928955078125e-7,
          0.7999998927116394,
          1.5999999046325684,
          2.3999998569488525,
          3.1999998092651367,
          4,
          4.800000190734863,
          5.599999904632568,
          6.400000095367432,
          7.199999809265137,
          8
         ],
         "xaxis": "x",
         "y": [
          0.601304829120636,
          0.5693761706352234,
          0.5305301547050476,
          0.48378822207450867,
          0.4283137917518616,
          0.3638117015361786,
          0.29176077246665955,
          0.21769464015960693,
          0.15124563872814178,
          0.10002394020557404,
          0.06473464518785477,
          0.04177350550889969,
          0.027127249166369438,
          0.0178013164550066,
          0.011828329414129257,
          0.007968048565089703,
          0.0054465727880597115,
          0.00378039525821805,
          0.002665748819708824,
          0.0019103825325146317,
          0.001391603029333055
         ],
         "yaxis": "y"
        },
        {
         "legendgroup": "0",
         "line": {
          "color": "pink"
         },
         "name": "(10, 2)",
         "type": "scatter",
         "x": [
          -8,
          -7.199999809265137,
          -6.400000095367432,
          -5.599999904632568,
          -4.800000190734863,
          -4,
          -3.1999998092651367,
          -2.3999998569488525,
          -1.5999999046325684,
          -0.7999998927116394,
          -1.1920928955078125e-7,
          0.7999998927116394,
          1.5999999046325684,
          2.3999998569488525,
          3.1999998092651367,
          4,
          4.800000190734863,
          5.599999904632568,
          6.400000095367432,
          7.199999809265137,
          8
         ],
         "xaxis": "x2",
         "y": [
          0.09647104144096375,
          0.09590871632099152,
          0.09525906294584274,
          0.09451582282781601,
          0.09367435425519943,
          0.09273257106542587,
          0.09169049561023712,
          0.09054499119520187,
          0.08927538245916367,
          0.08782315254211426,
          0.0860908031463623,
          0.08398997038602829,
          0.08151234686374664,
          0.07875040173530579,
          0.07585214823484421,
          0.07296230643987656,
          0.07018911093473434,
          0.06759803742170334,
          0.06521876156330109,
          0.06305631250143051,
          0.061100851744413376
         ],
         "yaxis": "y2"
        },
        {
         "legendgroup": "1",
         "line": {
          "color": "darkviolet"
         },
         "name": "(10, 10)",
         "type": "scatter",
         "x": [
          -8,
          -7.199999809265137,
          -6.400000095367432,
          -5.599999904632568,
          -4.800000190734863,
          -4,
          -3.1999998092651367,
          -2.3999998569488525,
          -1.5999999046325684,
          -0.7999998927116394,
          -1.1920928955078125e-7,
          0.7999998927116394,
          1.5999999046325684,
          2.3999998569488525,
          3.1999998092651367,
          4,
          4.800000190734863,
          5.599999904632568,
          6.400000095367432,
          7.199999809265137,
          8
         ],
         "xaxis": "x2",
         "y": [
          0.06633313000202179,
          0.0688437968492508,
          0.07097814977169037,
          0.0727301761507988,
          0.07410688698291779,
          0.07513134181499481,
          0.07584242522716522,
          0.07627864181995392,
          0.07644563168287277,
          0.07628320902585983,
          0.07565613836050034,
          0.07439505308866501,
          0.07238759100437164,
          0.06965772062540054,
          0.06636118143796921,
          0.0627107173204422,
          0.058903343975543976,
          0.05508757382631302,
          0.051362644881010056,
          0.04779018089175224,
          0.0444062240421772
         ],
         "yaxis": "y2"
        },
        {
         "legendgroup": "2",
         "line": {
          "color": "blue"
         },
         "name": "(11, 2)",
         "type": "scatter",
         "x": [
          -8,
          -7.199999809265137,
          -6.400000095367432,
          -5.599999904632568,
          -4.800000190734863,
          -4,
          -3.1999998092651367,
          -2.3999998569488525,
          -1.5999999046325684,
          -0.7999998927116394,
          -1.1920928955078125e-7,
          0.7999998927116394,
          1.5999999046325684,
          2.3999998569488525,
          3.1999998092651367,
          4,
          4.800000190734863,
          5.599999904632568,
          6.400000095367432,
          7.199999809265137,
          8
         ],
         "xaxis": "x2",
         "y": [
          0.23155577480793,
          0.22862644493579865,
          0.2238312065601349,
          0.21643947064876556,
          0.20571358501911163,
          0.19117090106010437,
          0.1728515625,
          0.1513155996799469,
          0.12773768603801727,
          0.10435815155506134,
          0.0836392268538475,
          0.06676159799098969,
          0.05357760936021805,
          0.04338941350579262,
          0.03547881916165352,
          0.029275719076395035,
          0.02436182275414467,
          0.02043401077389717,
          0.017270153388381004,
          0.01470454316586256,
          0.012611483223736286
         ],
         "yaxis": "y2"
        },
        {
         "legendgroup": "0",
         "line": {
          "color": "pink"
         },
         "name": "(10, 2)",
         "type": "scatter",
         "x": [
          -8,
          -7.199999809265137,
          -6.400000095367432,
          -5.599999904632568,
          -4.800000190734863,
          -4,
          -3.1999998092651367,
          -2.3999998569488525,
          -1.5999999046325684,
          -0.7999998927116394,
          -1.1920928955078125e-7,
          0.7999998927116394,
          1.5999999046325684,
          2.3999998569488525,
          3.1999998092651367,
          4,
          4.800000190734863,
          5.599999904632568,
          6.400000095367432,
          7.199999809265137,
          8
         ],
         "xaxis": "x3",
         "y": [
          0.05004009231925011,
          0.048452530056238174,
          0.04674549028277397,
          0.04494495317339897,
          0.04308834299445152,
          0.041223105043172836,
          0.03940155357122421,
          0.03767168149352074,
          0.03606517240405083,
          0.034589752554893494,
          0.03323660418391228,
          0.032001692801713943,
          0.030898377299308777,
          0.029947075992822647,
          0.02915780246257782,
          0.028524024412035942,
          0.028027204796671867,
          0.02764374017715454,
          0.02734999917447567,
          0.027124911546707153,
          0.026950901374220848
         ],
         "yaxis": "y3"
        },
        {
         "legendgroup": "1",
         "line": {
          "color": "darkviolet"
         },
         "name": "(10, 10)",
         "type": "scatter",
         "x": [
          -8,
          -7.199999809265137,
          -6.400000095367432,
          -5.599999904632568,
          -4.800000190734863,
          -4,
          -3.1999998092651367,
          -2.3999998569488525,
          -1.5999999046325684,
          -0.7999998927116394,
          -1.1920928955078125e-7,
          0.7999998927116394,
          1.5999999046325684,
          2.3999998569488525,
          3.1999998092651367,
          4,
          4.800000190734863,
          5.599999904632568,
          6.400000095367432,
          7.199999809265137,
          8
         ],
         "xaxis": "x3",
         "y": [
          0.009733837097883224,
          0.009694053791463375,
          0.009626947343349457,
          0.009548951871693134,
          0.009477229788899422,
          0.009429944679141045,
          0.009426740929484367,
          0.0094872135668993,
          0.009625951759517193,
          0.00984368659555912,
          0.010116304270923138,
          0.010389995761215687,
          0.010595181956887245,
          0.010676894336938858,
          0.010616976767778397,
          0.010431121103465557,
          0.010151258669793606,
          0.009810238145291805,
          0.009434807114303112,
          0.00904438178986311,
          0.008652192540466785
         ],
         "yaxis": "y3"
        },
        {
         "legendgroup": "2",
         "line": {
          "color": "blue"
         },
         "name": "(11, 2)",
         "type": "scatter",
         "x": [
          -8,
          -7.199999809265137,
          -6.400000095367432,
          -5.599999904632568,
          -4.800000190734863,
          -4,
          -3.1999998092651367,
          -2.3999998569488525,
          -1.5999999046325684,
          -0.7999998927116394,
          -1.1920928955078125e-7,
          0.7999998927116394,
          1.5999999046325684,
          2.3999998569488525,
          3.1999998092651367,
          4,
          4.800000190734863,
          5.599999904632568,
          6.400000095367432,
          7.199999809265137,
          8
         ],
         "xaxis": "x3",
         "y": [
          0.027331000193953514,
          0.028642892837524414,
          0.02992764115333557,
          0.031093960627913475,
          0.032024580985307693,
          0.03257254883646965,
          0.032519999891519547,
          0.03150997683405876,
          0.029221046715974808,
          0.025843573734164238,
          0.02205309271812439,
          0.01846081204712391,
          0.015355701558291912,
          0.012788821943104267,
          0.010706279426813126,
          0.009025873616337776,
          0.007668349426239729,
          0.006566803436726332,
          0.005667681805789471,
          0.004929035902023315,
          0.004318252205848694
         ],
         "yaxis": "y3"
        },
        {
         "legendgroup": "0",
         "line": {
          "color": "pink"
         },
         "name": "(10, 2)",
         "type": "scatter",
         "x": [
          -8,
          -7.199999809265137,
          -6.400000095367432,
          -5.599999904632568,
          -4.800000190734863,
          -4,
          -3.1999998092651367,
          -2.3999998569488525,
          -1.5999999046325684,
          -0.7999998927116394,
          -1.1920928955078125e-7,
          0.7999998927116394,
          1.5999999046325684,
          2.3999998569488525,
          3.1999998092651367,
          4,
          4.800000190734863,
          5.599999904632568,
          6.400000095367432,
          7.199999809265137,
          8
         ],
         "xaxis": "x4",
         "y": [
          0.18004286289215088,
          0.18223057687282562,
          0.1833672821521759,
          0.18308508396148682,
          0.18094876408576965,
          0.17646771669387817,
          0.16913650929927826,
          0.15854039788246155,
          0.144569993019104,
          0.12772102653980255,
          0.10924749076366425,
          0.0908314660191536,
          0.073880136013031,
          0.059082239866256714,
          0.04650835692882538,
          0.03593273460865021,
          0.027062535285949707,
          0.019627951085567474,
          0.013400271534919739,
          0.008187152445316315,
          0.003825414925813675
         ],
         "yaxis": "y4"
        },
        {
         "legendgroup": "1",
         "line": {
          "color": "darkviolet"
         },
         "name": "(10, 10)",
         "type": "scatter",
         "x": [
          -8,
          -7.199999809265137,
          -6.400000095367432,
          -5.599999904632568,
          -4.800000190734863,
          -4,
          -3.1999998092651367,
          -2.3999998569488525,
          -1.5999999046325684,
          -0.7999998927116394,
          -1.1920928955078125e-7,
          0.7999998927116394,
          1.5999999046325684,
          2.3999998569488525,
          3.1999998092651367,
          4,
          4.800000190734863,
          5.599999904632568,
          6.400000095367432,
          7.199999809265137,
          8
         ],
         "xaxis": "x4",
         "y": [
          0.2643277645111084,
          0.28282690048217773,
          0.3000953793525696,
          0.31519731879234314,
          0.3268216848373413,
          0.33344584703445435,
          0.333648145198822,
          0.3263903260231018,
          0.3111974895000458,
          0.28833284974098206,
          0.2590250074863434,
          0.2255549132823944,
          0.1908675581216812,
          0.1577300727367401,
          0.1280045211315155,
          0.10249054431915283,
          0.08120963722467422,
          0.0637727677822113,
          0.04964212700724602,
          0.0382709763944149,
          0.02916383370757103
         ],
         "yaxis": "y4"
        },
        {
         "legendgroup": "2",
         "line": {
          "color": "blue"
         },
         "name": "(11, 2)",
         "type": "scatter",
         "x": [
          -8,
          -7.199999809265137,
          -6.400000095367432,
          -5.599999904632568,
          -4.800000190734863,
          -4,
          -3.1999998092651367,
          -2.3999998569488525,
          -1.5999999046325684,
          -0.7999998927116394,
          -1.1920928955078125e-7,
          0.7999998927116394,
          1.5999999046325684,
          2.3999998569488525,
          3.1999998092651367,
          4,
          4.800000190734863,
          5.599999904632568,
          6.400000095367432,
          7.199999809265137,
          8
         ],
         "xaxis": "x4",
         "y": [
          0.3697490692138672,
          0.34074974060058594,
          0.3066989481449127,
          0.2673487663269043,
          0.22260020673274994,
          0.17264080047607422,
          0.11890920996665955,
          0.06637904047966003,
          0.02350795269012451,
          -0.004334211349487305,
          -0.018904581665992737,
          -0.024988092482089996,
          -0.02645036019384861,
          -0.02558809705078602,
          -0.02365048974752426,
          -0.021307669579982758,
          -0.018915250897407532,
          -0.01665361598134041,
          -0.01460440456867218,
          -0.012794160284101963,
          -0.011219880543649197
         ],
         "yaxis": "y4"
        },
        {
         "legendgroup": "0",
         "line": {
          "color": "pink"
         },
         "name": "(10, 2)",
         "type": "scatter",
         "x": [
          -8,
          -7.199999809265137,
          -6.400000095367432,
          -5.599999904632568,
          -4.800000190734863,
          -4,
          -3.1999998092651367,
          -2.3999998569488525,
          -1.5999999046325684,
          -0.7999998927116394,
          -1.1920928955078125e-7,
          0.7999998927116394,
          1.5999999046325684,
          2.3999998569488525,
          3.1999998092651367,
          4,
          4.800000190734863,
          5.599999904632568,
          6.400000095367432,
          7.199999809265137,
          8
         ],
         "xaxis": "x5",
         "y": [
          0.4281299114227295,
          0.43171247839927673,
          0.4364446699619293,
          0.44257694482803345,
          0.4504009783267975,
          0.46025046706199646,
          0.47248825430870056,
          0.48745012283325195,
          0.5052975416183472,
          0.5257622599601746,
          0.5479356646537781,
          0.5704097151756287,
          0.5918139219284058,
          0.6112774014472961,
          0.6284744143486023,
          0.6434192657470703,
          0.6562746167182922,
          0.6672532558441162,
          0.676578938961029,
          0.6844707131385803,
          0.6911349296569824
         ],
         "yaxis": "y5"
        },
        {
         "legendgroup": "1",
         "line": {
          "color": "darkviolet"
         },
         "name": "(10, 10)",
         "type": "scatter",
         "x": [
          -8,
          -7.199999809265137,
          -6.400000095367432,
          -5.599999904632568,
          -4.800000190734863,
          -4,
          -3.1999998092651367,
          -2.3999998569488525,
          -1.5999999046325684,
          -0.7999998927116394,
          -1.1920928955078125e-7,
          0.7999998927116394,
          1.5999999046325684,
          2.3999998569488525,
          3.1999998092651367,
          4,
          4.800000190734863,
          5.599999904632568,
          6.400000095367432,
          7.199999809265137,
          8
         ],
         "xaxis": "x5",
         "y": [
          0.34029650688171387,
          0.3507809340953827,
          0.3607885241508484,
          0.37065958976745605,
          0.380916029214859,
          0.3923426568508148,
          0.4059769809246063,
          0.4229442775249481,
          0.4441697299480438,
          0.47003036737442017,
          0.5000008940696716,
          0.5324516892433167,
          0.564863383769989,
          0.5945173501968384,
          0.6192477941513062,
          0.6378006935119629,
          0.6497675180435181,
          0.6553435325622559,
          0.6550965905189514,
          0.6497979164123535,
          0.6403060555458069
         ],
         "yaxis": "y5"
        },
        {
         "legendgroup": "2",
         "line": {
          "color": "blue"
         },
         "name": "(11, 2)",
         "type": "scatter",
         "x": [
          -8,
          -7.199999809265137,
          -6.400000095367432,
          -5.599999904632568,
          -4.800000190734863,
          -4,
          -3.1999998092651367,
          -2.3999998569488525,
          -1.5999999046325684,
          -0.7999998927116394,
          -1.1920928955078125e-7,
          0.7999998927116394,
          1.5999999046325684,
          2.3999998569488525,
          3.1999998092651367,
          4,
          4.800000190734863,
          5.599999904632568,
          6.400000095367432,
          7.199999809265137,
          8
         ],
         "xaxis": "x5",
         "y": [
          0.10849364846944809,
          0.13670490682125092,
          0.1726529449224472,
          0.21802666783332825,
          0.27447274327278137,
          0.3430102467536926,
          0.42270994186401367,
          0.5086884498596191,
          0.59172523021698,
          0.6626921892166138,
          0.7176753282546997,
          0.7577650547027588,
          0.7860598564147949,
          0.8056459426879883,
          0.818938672542572,
          0.8276711702346802,
          0.8330571055412292,
          0.8359514474868774,
          0.8369671106338501,
          0.836555004119873,
          0.8350556492805481
         ],
         "yaxis": "y5"
        },
        {
         "legendgroup": "0",
         "line": {
          "color": "pink"
         },
         "name": "(10, 2) ⊥ IO",
         "type": "scatter",
         "x": [
          -8,
          -7.199999809265137,
          -6.400000095367432,
          -5.599999904632568,
          -4.800000190734863,
          -4,
          -3.1999998092651367,
          -2.3999998569488525,
          -1.5999999046325684,
          -0.7999998927116394,
          -1.1920928955078125e-7,
          0.7999998927116394,
          1.5999999046325684,
          2.3999998569488525,
          3.1999998092651367,
          4,
          4.800000190734863,
          5.599999904632568,
          6.400000095367432,
          7.199999809265137,
          8
         ],
         "xaxis": "x6",
         "y": [
          0.32535749673843384,
          0.3234768211841583,
          0.3203049600124359,
          0.3154825270175934,
          0.3085605800151825,
          0.29898306727409363,
          0.28608939051628113,
          0.2691968083381653,
          0.24789662659168243,
          0.2226564735174179,
          0.19533829391002655,
          0.16865785419940948,
          0.14466643333435059,
          0.12400372326374054,
          0.10644203424453735,
          0.09157083928585052,
          0.07903927564620972,
          0.0685502216219902,
          0.059824585914611816,
          0.05259302258491516,
          0.04660434648394585
         ],
         "yaxis": "y6"
        },
        {
         "legendgroup": "1",
         "line": {
          "color": "darkviolet"
         },
         "name": "(10, 10) ⊥ IO",
         "type": "scatter",
         "x": [
          -8,
          -7.199999809265137,
          -6.400000095367432,
          -5.599999904632568,
          -4.800000190734863,
          -4,
          -3.1999998092651367,
          -2.3999998569488525,
          -1.5999999046325684,
          -0.7999998927116394,
          -1.1920928955078125e-7,
          0.7999998927116394,
          1.5999999046325684,
          2.3999998569488525,
          3.1999998092651367,
          4,
          4.800000190734863,
          5.599999904632568,
          6.400000095367432,
          7.199999809265137,
          8
         ],
         "xaxis": "x6",
         "y": [
          0.46882152557373047,
          0.4777235984802246,
          0.48365822434425354,
          0.4860021770000458,
          0.4840288758277893,
          0.47689324617385864,
          0.4636377990245819,
          0.44325724244117737,
          0.41489800810813904,
          0.37832093238830566,
          0.33468112349510193,
          0.2871371805667877,
          0.2401352971792221,
          0.19738054275512695,
          0.1605767011642456,
          0.12984143197536469,
          0.10459623485803604,
          0.08408986032009125,
          0.0675836056470871,
          0.05439867451786995,
          0.04392693191766739
         ],
         "yaxis": "y6"
        },
        {
         "legendgroup": "2",
         "line": {
          "color": "blue"
         },
         "name": "(11, 2) ⊥ IO",
         "type": "scatter",
         "x": [
          -8,
          -7.199999809265137,
          -6.400000095367432,
          -5.599999904632568,
          -4.800000190734863,
          -4,
          -3.1999998092651367,
          -2.3999998569488525,
          -1.5999999046325684,
          -0.7999998927116394,
          -1.1920928955078125e-7,
          0.7999998927116394,
          1.5999999046325684,
          2.3999998569488525,
          3.1999998092651367,
          4,
          4.800000190734863,
          5.599999904632568,
          6.400000095367432,
          7.199999809265137,
          8
         ],
         "xaxis": "x6",
         "y": [
          0.5631106495857239,
          0.5329565405845642,
          0.4965854585170746,
          0.4530581533908844,
          0.401643842458725,
          0.3423549234867096,
          0.27694931626319885,
          0.21005888283252716,
          0.1488678902387619,
          0.09977564215660095,
          0.06473464518785477,
          0.04156316816806793,
          0.026766611263155937,
          0.017393475398421288,
          0.011429212987422943,
          0.007600337266921997,
          0.005117559805512428,
          0.003490858944132924,
          0.002413623733446002,
          0.001692337216809392,
          0.0012038114946335554
         ],
         "yaxis": "y6"
        },
        {
         "legendgroup": "0",
         "line": {
          "color": "pink"
         },
         "name": "(10, 2) ⊥ IO",
         "type": "scatter",
         "x": [
          -8,
          -7.199999809265137,
          -6.400000095367432,
          -5.599999904632568,
          -4.800000190734863,
          -4,
          -3.1999998092651367,
          -2.3999998569488525,
          -1.5999999046325684,
          -0.7999998927116394,
          -1.1920928955078125e-7,
          0.7999998927116394,
          1.5999999046325684,
          2.3999998569488525,
          3.1999998092651367,
          4,
          4.800000190734863,
          5.599999904632568,
          6.400000095367432,
          7.199999809265137,
          8
         ],
         "xaxis": "x7",
         "y": [
          0.11773931235074997,
          0.11580653488636017,
          0.1136489287018776,
          0.11125101894140244,
          0.1086011677980423,
          0.10569262504577637,
          0.10251916944980621,
          0.09906138479709625,
          0.09525725990533829,
          0.09098019450902939,
          0.08609079569578171,
          0.0805889219045639,
          0.07470202445983887,
          0.06877507269382477,
          0.06310578435659409,
          0.057879626750946045,
          0.05318226292729378,
          0.04903048649430275,
          0.04539883881807327,
          0.04223935306072235,
          0.03949519991874695
         ],
         "yaxis": "y7"
        },
        {
         "legendgroup": "1",
         "line": {
          "color": "darkviolet"
         },
         "name": "(10, 10) ⊥ IO",
         "type": "scatter",
         "x": [
          -8,
          -7.199999809265137,
          -6.400000095367432,
          -5.599999904632568,
          -4.800000190734863,
          -4,
          -3.1999998092651367,
          -2.3999998569488525,
          -1.5999999046325684,
          -0.7999998927116394,
          -1.1920928955078125e-7,
          0.7999998927116394,
          1.5999999046325684,
          2.3999998569488525,
          3.1999998092651367,
          4,
          4.800000190734863,
          5.599999904632568,
          6.400000095367432,
          7.199999809265137,
          8
         ],
         "xaxis": "x7",
         "y": [
          0.09510950744152069,
          0.094702810049057,
          0.09399395436048508,
          0.09299656748771667,
          0.09172387421131134,
          0.09017851203680038,
          0.08833660185337067,
          0.08612750470638275,
          0.08341380208730698,
          0.07999172061681747,
          0.07565613836050034,
          0.07036375254392624,
          0.06437771767377853,
          0.05817140266299248,
          0.05216142535209656,
          0.04657260701060295,
          0.041480228304862976,
          0.036890909075737,
          0.03278939425945282,
          0.02915284037590027,
          0.025951385498046875
         ],
         "yaxis": "y7"
        },
        {
         "legendgroup": "2",
         "line": {
          "color": "blue"
         },
         "name": "(11, 2) ⊥ IO",
         "type": "scatter",
         "x": [
          -8,
          -7.199999809265137,
          -6.400000095367432,
          -5.599999904632568,
          -4.800000190734863,
          -4,
          -3.1999998092651367,
          -2.3999998569488525,
          -1.5999999046325684,
          -0.7999998927116394,
          -1.1920928955078125e-7,
          0.7999998927116394,
          1.5999999046325684,
          2.3999998569488525,
          3.1999998092651367,
          4,
          4.800000190734863,
          5.599999904632568,
          6.400000095367432,
          7.199999809265137,
          8
         ],
         "xaxis": "x7",
         "y": [
          0.26894640922546387,
          0.26553505659103394,
          0.2599577009677887,
          0.25141072273254395,
          0.23900380730628967,
          0.22191034257411957,
          0.199631005525589,
          0.17239877581596375,
          0.14177916944026947,
          0.11097618192434311,
          0.0836392268538475,
          0.061876989901065826,
          0.045751769095659256,
          0.03420087695121765,
          0.025974495336413383,
          0.020054472610354424,
          0.0157210323959589,
          0.01249214168637991,
          0.010047937743365765,
          0.008173043839633465,
          0.006718869786709547
         ],
         "yaxis": "y7"
        },
        {
         "legendgroup": "0",
         "line": {
          "color": "pink"
         },
         "name": "(10, 2) ⊥ IO",
         "type": "scatter",
         "x": [
          -8,
          -7.199999809265137,
          -6.400000095367432,
          -5.599999904632568,
          -4.800000190734863,
          -4,
          -3.1999998092651367,
          -2.3999998569488525,
          -1.5999999046325684,
          -0.7999998927116394,
          -1.1920928955078125e-7,
          0.7999998927116394,
          1.5999999046325684,
          2.3999998569488525,
          3.1999998092651367,
          4,
          4.800000190734863,
          5.599999904632568,
          6.400000095367432,
          7.199999809265137,
          8
         ],
         "xaxis": "x8",
         "y": [
          0.06372668594121933,
          0.061255063861608505,
          0.05859935283660889,
          0.055773455649614334,
          0.052799683064222336,
          0.04970673471689224,
          0.04652377590537071,
          0.04327194392681122,
          0.039959147572517395,
          0.03659556061029434,
          0.033236611634492874,
          0.03000705875456333,
          0.02704732120037079,
          0.02443721704185009,
          0.022183852270245552,
          0.020255470648407936,
          0.018610095605254173,
          0.0172071885317564,
          0.01601039618253708,
          0.014987713657319546,
          0.014111305586993694
         ],
         "yaxis": "y8"
        },
        {
         "legendgroup": "1",
         "line": {
          "color": "darkviolet"
         },
         "name": "(10, 10) ⊥ IO",
         "type": "scatter",
         "x": [
          -8,
          -7.199999809265137,
          -6.400000095367432,
          -5.599999904632568,
          -4.800000190734863,
          -4,
          -3.1999998092651367,
          -2.3999998569488525,
          -1.5999999046325684,
          -0.7999998927116394,
          -1.1920928955078125e-7,
          0.7999998927116394,
          1.5999999046325684,
          2.3999998569488525,
          3.1999998092651367,
          4,
          4.800000190734863,
          5.599999904632568,
          6.400000095367432,
          7.199999809265137,
          8
         ],
         "xaxis": "x8",
         "y": [
          0.012849951162934303,
          0.01252045389264822,
          0.012188884429633617,
          0.011867842637002468,
          0.011569447815418243,
          0.01130331214517355,
          0.011073393747210503,
          0.010873233899474144,
          0.010679533705115318,
          0.010447158478200436,
          0.010116302408277988,
          0.00964505597949028,
          0.00904875434935093,
          0.00839252769947052,
          0.007740566041320562,
          0.007126055657863617,
          0.006557420827448368,
          0.006033413112163544,
          0.0055516860447824,
          0.00511095579713583,
          0.004710345063358545
         ],
         "yaxis": "y8"
        },
        {
         "legendgroup": "2",
         "line": {
          "color": "blue"
         },
         "name": "(11, 2) ⊥ IO",
         "type": "scatter",
         "x": [
          -8,
          -7.199999809265137,
          -6.400000095367432,
          -5.599999904632568,
          -4.800000190734863,
          -4,
          -3.1999998092651367,
          -2.3999998569488525,
          -1.5999999046325684,
          -0.7999998927116394,
          -1.1920928955078125e-7,
          0.7999998927116394,
          1.5999999046325684,
          2.3999998569488525,
          3.1999998092651367,
          4,
          4.800000190734863,
          5.599999904632568,
          6.400000095367432,
          7.199999809265137,
          8
         ],
         "xaxis": "x8",
         "y": [
          0.0343976765871048,
          0.03600871190428734,
          0.037568069994449615,
          0.038961030542850494,
          0.04001230746507645,
          0.04044116660952568,
          0.03980827331542969,
          0.0375695638358593,
          0.03344200924038887,
          0.027901796624064445,
          0.02205309271812439,
          0.016869477927684784,
          0.012756739743053913,
          0.009679029695689678,
          0.007427067495882511,
          0.005780746694654226,
          0.004565016832202673,
          0.0036544296890497208,
          0.0029623580630868673,
          0.002429242944344878,
          0.0020136695820838213
         ],
         "yaxis": "y8"
        },
        {
         "legendgroup": "0",
         "line": {
          "color": "pink"
         },
         "name": "(10, 2) ⊥ IO",
         "type": "scatter",
         "x": [
          -8,
          -7.199999809265137,
          -6.400000095367432,
          -5.599999904632568,
          -4.800000190734863,
          -4,
          -3.1999998092651367,
          -2.3999998569488525,
          -1.5999999046325684,
          -0.7999998927116394,
          -1.1920928955078125e-7,
          0.7999998927116394,
          1.5999999046325684,
          2.3999998569488525,
          3.1999998092651367,
          4,
          4.800000190734863,
          5.599999904632568,
          6.400000095367432,
          7.199999809265137,
          8
         ],
         "xaxis": "x9",
         "y": [
          0.20761817693710327,
          0.20767028629779816,
          0.20665603876113892,
          0.20423150062561035,
          0.1999594122171402,
          0.19329044222831726,
          0.18357022106647491,
          0.17013542354106903,
          0.15263935923576355,
          0.13167628645896912,
          0.10924749821424484,
          0.08806893229484558,
          0.06996440887451172,
          0.05522865056991577,
          0.04333624988794327,
          0.03369121253490448,
          0.02585701271891594,
          0.019519735127687454,
          0.014425747096538544,
          0.01035366952419281,
          0.007109146565198898
         ],
         "yaxis": "y9"
        },
        {
         "legendgroup": "1",
         "line": {
          "color": "darkviolet"
         },
         "name": "(10, 10) ⊥ IO",
         "type": "scatter",
         "x": [
          -8,
          -7.199999809265137,
          -6.400000095367432,
          -5.599999904632568,
          -4.800000190734863,
          -4,
          -3.1999998092651367,
          -2.3999998569488525,
          -1.5999999046325684,
          -0.7999998927116394,
          -1.1920928955078125e-7,
          0.7999998927116394,
          1.5999999046325684,
          2.3999998569488525,
          3.1999998092651367,
          4,
          4.800000190734863,
          5.599999904632568,
          6.400000095367432,
          7.199999809265137,
          8
         ],
         "xaxis": "x9",
         "y": [
          0.3737120032310486,
          0.3830207884311676,
          0.38966426253318787,
          0.3930056095123291,
          0.39230501651763916,
          0.38671472668647766,
          0.37530118227005005,
          0.3571297526359558,
          0.33148419857025146,
          0.2983292043209076,
          0.259024977684021,
          0.21677342057228088,
          0.17575758695602417,
          0.13920913636684418,
          0.10841527581214905,
          0.08326882123947144,
          0.06311600655317307,
          0.04719895124435425,
          0.03479421138763428,
          0.02524583414196968,
          0.017975546419620514
         ],
         "yaxis": "y9"
        },
        {
         "legendgroup": "2",
         "line": {
          "color": "blue"
         },
         "name": "(11, 2) ⊥ IO",
         "type": "scatter",
         "x": [
          -8,
          -7.199999809265137,
          -6.400000095367432,
          -5.599999904632568,
          -4.800000190734863,
          -4,
          -3.1999998092651367,
          -2.3999998569488525,
          -1.5999999046325684,
          -0.7999998927116394,
          -1.1920928955078125e-7,
          0.7999998927116394,
          1.5999999046325684,
          2.3999998569488525,
          3.1999998092651367,
          4,
          4.800000190734863,
          5.599999904632568,
          6.400000095367432,
          7.199999809265137,
          8
         ],
         "xaxis": "x9",
         "y": [
          0.29416424036026,
          0.2674214839935303,
          0.2366277575492859,
          0.20164743065834045,
          0.1626400351524353,
          0.12044458091259003,
          0.07731831073760986,
          0.037660107016563416,
          0.007088720798492432,
          -0.011200539767742157,
          -0.018904581665992737,
          -0.020313821732997894,
          -0.01898515783250332,
          -0.016807401552796364,
          -0.01454528234899044,
          -0.012454135343432426,
          -0.010603472590446472,
          -0.009001282975077629,
          -0.007634313777089119,
          -0.0064807068556547165,
          -0.005515058524906635
         ],
         "yaxis": "y9"
        },
        {
         "legendgroup": "0",
         "line": {
          "color": "pink"
         },
         "name": "(10, 2) ⊥ IO",
         "type": "scatter",
         "x": [
          -8,
          -7.199999809265137,
          -6.400000095367432,
          -5.599999904632568,
          -4.800000190734863,
          -4,
          -3.1999998092651367,
          -2.3999998569488525,
          -1.5999999046325684,
          -0.7999998927116394,
          -1.1920928955078125e-7,
          0.7999998927116394,
          1.5999999046325684,
          2.3999998569488525,
          3.1999998092651367,
          4,
          4.800000190734863,
          5.599999904632568,
          6.400000095367432,
          7.199999809265137,
          8
         ],
         "xaxis": "x10",
         "y": [
          0.3827074468135834,
          0.3889647424221039,
          0.3965747058391571,
          0.4057968258857727,
          0.4169503152370453,
          0.4304371476173401,
          0.4467678666114807,
          0.4665431082248688,
          0.49027109146118164,
          0.5178541541099548,
          0.5479356646537781,
          0.578014075756073,
          0.6057146191596985,
          0.6298259496688843,
          0.6501551866531372,
          0.6669508218765259,
          0.6805791258811951,
          0.6914358139038086,
          0.6999255418777466,
          0.7064434885978699,
          0.7113547325134277
         ],
         "yaxis": "y10"
        },
        {
         "legendgroup": "1",
         "line": {
          "color": "darkviolet"
         },
         "name": "(10, 10) ⊥ IO",
         "type": "scatter",
         "x": [
          -8,
          -7.199999809265137,
          -6.400000095367432,
          -5.599999904632568,
          -4.800000190734863,
          -4,
          -3.1999998092651367,
          -2.3999998569488525,
          -1.5999999046325684,
          -0.7999998927116394,
          -1.1920928955078125e-7,
          0.7999998927116394,
          1.5999999046325684,
          2.3999998569488525,
          3.1999998092651367,
          4,
          4.800000190734863,
          5.599999904632568,
          6.400000095367432,
          7.199999809265137,
          8
         ],
         "xaxis": "x10",
         "y": [
          0.3025568127632141,
          0.3079647719860077,
          0.3145868480205536,
          0.32299908995628357,
          0.3339107632637024,
          0.3481709957122803,
          0.36675581336021423,
          0.39070141315460205,
          0.4209115505218506,
          0.4577040672302246,
          0.5000009536743164,
          0.544559121131897,
          0.58643639087677,
          0.6209955811500549,
          0.6455125212669373,
          0.6591537594795227,
          0.6622859835624695,
          0.6560018062591553,
          0.6418784260749817,
          0.6217679381370544,
          0.597557008266449
         ],
         "yaxis": "y10"
        },
        {
         "legendgroup": "2",
         "line": {
          "color": "blue"
         },
         "name": "(11, 2) ⊥ IO",
         "type": "scatter",
         "x": [
          -8,
          -7.199999809265137,
          -6.400000095367432,
          -5.599999904632568,
          -4.800000190734863,
          -4,
          -3.1999998092651367,
          -2.3999998569488525,
          -1.5999999046325684,
          -0.7999998927116394,
          -1.1920928955078125e-7,
          0.7999998927116394,
          1.5999999046325684,
          2.3999998569488525,
          3.1999998092651367,
          4,
          4.800000190734863,
          5.599999904632568,
          6.400000095367432,
          7.199999809265137,
          8
         ],
         "xaxis": "x10",
         "y": [
          0.1038142591714859,
          0.13048021495342255,
          0.1645192950963974,
          0.20766334235668182,
          0.261641263961792,
          0.3276127278804779,
          0.40508171916007996,
          0.49047327041625977,
          0.5765153169631958,
          0.6543267965316772,
          0.7176753282546997,
          0.7652298212051392,
          0.7991561889648438,
          0.8226962089538574,
          0.8387528657913208,
          0.8494974374771118,
          0.8564378619194031,
          0.8605990409851074,
          0.8626837730407715,
          0.8631855845451355,
          0.862463116645813
         ],
         "yaxis": "y10"
        },
        {
         "legendgroup": "0",
         "line": {
          "color": "pink"
         },
         "name": "(10, 2) ∥ IO",
         "type": "scatter",
         "x": [
          -8,
          -7.199999809265137,
          -6.400000095367432,
          -5.599999904632568,
          -4.800000190734863,
          -4,
          -3.1999998092651367,
          -2.3999998569488525,
          -1.5999999046325684,
          -0.7999998927116394,
          -1.1920928955078125e-7,
          0.7999998927116394,
          1.5999999046325684,
          2.3999998569488525,
          3.1999998092651367,
          4,
          4.800000190734863,
          5.599999904632568,
          6.400000095367432,
          7.199999809265137,
          8
         ],
         "xaxis": "x11",
         "y": [
          0.13581933081150055,
          0.14014486968517303,
          0.14483027160167694,
          0.14991754293441772,
          0.15543726086616516,
          0.1613968461751938,
          0.16776826977729797,
          0.17447952926158905,
          0.1814144104719162,
          0.18842247128486633,
          0.19533830881118774,
          0.20200347900390625,
          0.20828567445278168,
          0.21408887207508087,
          0.21935606002807617,
          0.22406445443630219,
          0.22821775078773499,
          0.2318383753299713,
          0.23495948314666748,
          0.23761999607086182,
          0.23986056447029114
         ],
         "yaxis": "y11"
        },
        {
         "legendgroup": "1",
         "line": {
          "color": "darkviolet"
         },
         "name": "(10, 10) ∥ IO",
         "type": "scatter",
         "x": [
          -8,
          -7.199999809265137,
          -6.400000095367432,
          -5.599999904632568,
          -4.800000190734863,
          -4,
          -3.1999998092651367,
          -2.3999998569488525,
          -1.5999999046325684,
          -0.7999998927116394,
          -1.1920928955078125e-7,
          0.7999998927116394,
          1.5999999046325684,
          2.3999998569488525,
          3.1999998092651367,
          4,
          4.800000190734863,
          5.599999904632568,
          6.400000095367432,
          7.199999809265137,
          8
         ],
         "xaxis": "x11",
         "y": [
          0.19419360160827637,
          0.20629720389842987,
          0.21886992454528809,
          0.23200111091136932,
          0.24576763808727264,
          0.26018810272216797,
          0.27517229318618774,
          0.29048973321914673,
          0.3057856559753418,
          0.32064536213874817,
          0.3346811830997467,
          0.3476022779941559,
          0.35924169421195984,
          0.3695453107357025,
          0.37854111194610596,
          0.3863065838813782,
          0.39294251799583435,
          0.39855724573135376,
          0.40325623750686646,
          0.4071381688117981,
          0.4102935791015625
         ],
         "yaxis": "y11"
        },
        {
         "legendgroup": "2",
         "line": {
          "color": "blue"
         },
         "name": "(11, 2) ∥ IO",
         "type": "scatter",
         "x": [
          -8,
          -7.199999809265137,
          -6.400000095367432,
          -5.599999904632568,
          -4.800000190734863,
          -4,
          -3.1999998092651367,
          -2.3999998569488525,
          -1.5999999046325684,
          -0.7999998927116394,
          -1.1920928955078125e-7,
          0.7999998927116394,
          1.5999999046325684,
          2.3999998569488525,
          3.1999998092651367,
          4,
          4.800000190734863,
          5.599999904632568,
          6.400000095367432,
          7.199999809265137,
          8
         ],
         "xaxis": "x11",
         "y": [
          0.06350085139274597,
          0.06345801055431366,
          0.06347113102674484,
          0.06353813409805298,
          0.06365394592285156,
          0.0638103112578392,
          0.06399572640657425,
          0.06419604271650314,
          0.06439566612243652,
          0.06457941979169846,
          0.06473464518785477,
          0.0648532584309578,
          0.0649329200387001,
          0.06497722119092941,
          0.06499452888965607,
          0.06499619036912918,
          0.06499456614255905,
          0.06500106304883957,
          0.0650252029299736,
          0.06507372111082077,
          0.06515075266361237
         ],
         "yaxis": "y11"
        },
        {
         "legendgroup": "0",
         "line": {
          "color": "pink"
         },
         "name": "(10, 2) ∥ IO",
         "type": "scatter",
         "x": [
          -8,
          -7.199999809265137,
          -6.400000095367432,
          -5.599999904632568,
          -4.800000190734863,
          -4,
          -3.1999998092651367,
          -2.3999998569488525,
          -1.5999999046325684,
          -0.7999998927116394,
          -1.1920928955078125e-7,
          0.7999998927116394,
          1.5999999046325684,
          2.3999998569488525,
          3.1999998092651367,
          4,
          4.800000190734863,
          5.599999904632568,
          6.400000095367432,
          7.199999809265137,
          8
         ],
         "xaxis": "x12",
         "y": [
          0.055937450379133224,
          0.05848389491438866,
          0.06114872172474861,
          0.06393368542194366,
          0.06683798134326935,
          0.06985680013895035,
          0.07297980040311813,
          0.07619009912014008,
          0.07946454733610153,
          0.08277492970228195,
          0.0860908031463623,
          0.08938240259885788,
          0.09262324124574661,
          0.09579149633646011,
          0.09887062758207321,
          0.10184913873672485,
          0.10471951961517334,
          0.10747756063938141,
          0.11012150347232819,
          0.11265118420124054,
          0.11506795883178711
         ],
         "yaxis": "y12"
        },
        {
         "legendgroup": "1",
         "line": {
          "color": "darkviolet"
         },
         "name": "(10, 10) ∥ IO",
         "type": "scatter",
         "x": [
          -8,
          -7.199999809265137,
          -6.400000095367432,
          -5.599999904632568,
          -4.800000190734863,
          -4,
          -3.1999998092651367,
          -2.3999998569488525,
          -1.5999999046325684,
          -0.7999998927116394,
          -1.1920928955078125e-7,
          0.7999998927116394,
          1.5999999046325684,
          2.3999998569488525,
          3.1999998092651367,
          4,
          4.800000190734863,
          5.599999904632568,
          6.400000095367432,
          7.199999809265137,
          8
         ],
         "xaxis": "x12",
         "y": [
          0.04184173047542572,
          0.044613536447286606,
          0.047498028725385666,
          0.05051076039671898,
          0.05366947129368782,
          0.05698909983038902,
          0.060475099831819534,
          0.06411754339933395,
          0.06788941472768784,
          0.07175064086914062,
          0.07565613836050034,
          0.07956420630216599,
          0.08344133198261261,
          0.0872635766863823,
          0.0910150334239006,
          0.094685398042202,
          0.09826808422803879,
          0.10175863653421402,
          0.10515399277210236,
          0.10845203697681427,
          0.11165141314268112
         ],
         "yaxis": "y12"
        },
        {
         "legendgroup": "2",
         "line": {
          "color": "blue"
         },
         "name": "(11, 2) ∥ IO",
         "type": "scatter",
         "x": [
          -8,
          -7.199999809265137,
          -6.400000095367432,
          -5.599999904632568,
          -4.800000190734863,
          -4,
          -3.1999998092651367,
          -2.3999998569488525,
          -1.5999999046325684,
          -0.7999998927116394,
          -1.1920928955078125e-7,
          0.7999998927116394,
          1.5999999046325684,
          2.3999998569488525,
          3.1999998092651367,
          4,
          4.800000190734863,
          5.599999904632568,
          6.400000095367432,
          7.199999809265137,
          8
         ],
         "xaxis": "x12",
         "y": [
          0.04570948705077171,
          0.04792162403464317,
          0.05037384107708931,
          0.053110599517822266,
          0.05618098005652428,
          0.05963529273867607,
          0.0635191798210144,
          0.06786566227674484,
          0.07268606126308441,
          0.07796170562505722,
          0.0836392268538475,
          0.08963184803724289,
          0.09582740813493729,
          0.10210118442773819,
          0.10833124071359634,
          0.11441121250391006,
          0.12025868892669678,
          0.12581808865070343,
          0.131058931350708,
          0.13597147166728973,
          0.14056114852428436
         ],
         "yaxis": "y12"
        },
        {
         "legendgroup": "0",
         "line": {
          "color": "pink"
         },
         "name": "(10, 2) ∥ IO",
         "type": "scatter",
         "x": [
          -8,
          -7.199999809265137,
          -6.400000095367432,
          -5.599999904632568,
          -4.800000190734863,
          -4,
          -3.1999998092651367,
          -2.3999998569488525,
          -1.5999999046325684,
          -0.7999998927116394,
          -1.1920928955078125e-7,
          0.7999998927116394,
          1.5999999046325684,
          2.3999998569488525,
          3.1999998092651367,
          4,
          4.800000190734863,
          5.599999904632568,
          6.400000095367432,
          7.199999809265137,
          8
         ],
         "xaxis": "x13",
         "y": [
          0.01925121247768402,
          0.020179349929094315,
          0.02118707075715065,
          0.02228364907205105,
          0.023479262366890907,
          0.024784525856375694,
          0.026209725067019463,
          0.02776358835399151,
          0.029452068731188774,
          0.031277209520339966,
          0.033236611634492874,
          0.03532351925969124,
          0.03752753883600235,
          0.03983562812209129,
          0.042233165353536606,
          0.04470493271946907,
          0.04723569378256798,
          0.049810741096735,
          0.05241626501083374,
          0.0550394244492054,
          0.05766860395669937
         ],
         "yaxis": "y13"
        },
        {
         "legendgroup": "1",
         "line": {
          "color": "darkviolet"
         },
         "name": "(10, 10) ∥ IO",
         "type": "scatter",
         "x": [
          -8,
          -7.199999809265137,
          -6.400000095367432,
          -5.599999904632568,
          -4.800000190734863,
          -4,
          -3.1999998092651367,
          -2.3999998569488525,
          -1.5999999046325684,
          -0.7999998927116394,
          -1.1920928955078125e-7,
          0.7999998927116394,
          1.5999999046325684,
          2.3999998569488525,
          3.1999998092651367,
          4,
          4.800000190734863,
          5.599999904632568,
          6.400000095367432,
          7.199999809265137,
          8
         ],
         "xaxis": "x13",
         "y": [
          0.005806479137390852,
          0.006107510533183813,
          0.006417396944016218,
          0.006741511169821024,
          0.007087305188179016,
          0.007464039605110884,
          0.007881859317421913,
          0.00835029873996973,
          0.008876683190464973,
          0.009465080685913563,
          0.010116303339600563,
          0.010828688740730286,
          0.011599135585129261,
          0.012423860840499401,
          0.013298705220222473,
          0.014219164848327637,
          0.01518031395971775,
          0.016176743432879448,
          0.017202595248818398,
          0.018251720815896988,
          0.019317781552672386
         ],
         "yaxis": "y13"
        },
        {
         "legendgroup": "2",
         "line": {
          "color": "blue"
         },
         "name": "(11, 2) ∥ IO",
         "type": "scatter",
         "x": [
          -8,
          -7.199999809265137,
          -6.400000095367432,
          -5.599999904632568,
          -4.800000190734863,
          -4,
          -3.1999998092651367,
          -2.3999998569488525,
          -1.5999999046325684,
          -0.7999998927116394,
          -1.1920928955078125e-7,
          0.7999998927116394,
          1.5999999046325684,
          2.3999998569488525,
          3.1999998092651367,
          4,
          4.800000190734863,
          5.599999904632568,
          6.400000095367432,
          7.199999809265137,
          8
         ],
         "xaxis": "x13",
         "y": [
          0.011203484609723091,
          0.01174962054938078,
          0.012372118420898914,
          0.013086199760437012,
          0.013909265398979187,
          0.01486013550311327,
          0.015957608819007874,
          0.01721823588013649,
          0.018653569743037224,
          0.020267296582460403,
          0.02205309458076954,
          0.02399398386478424,
          0.026063663884997368,
          0.028229592368006706,
          0.03045707941055298,
          0.03271329030394554,
          0.03497021272778511,
          0.03720638155937195,
          0.03940693661570549,
          0.04156306013464928,
          0.043670620769262314
         ],
         "yaxis": "y13"
        },
        {
         "legendgroup": "0",
         "line": {
          "color": "pink"
         },
         "name": "(10, 2) ∥ IO",
         "type": "scatter",
         "x": [
          -8,
          -7.199999809265137,
          -6.400000095367432,
          -5.599999904632568,
          -4.800000190734863,
          -4,
          -3.1999998092651367,
          -2.3999998569488525,
          -1.5999999046325684,
          -0.7999998927116394,
          -1.1920928955078125e-7,
          0.7999998927116394,
          1.5999999046325684,
          2.3999998569488525,
          3.1999998092651367,
          4,
          4.800000190734863,
          5.599999904632568,
          6.400000095367432,
          7.199999809265137,
          8
         ],
         "xaxis": "x14",
         "y": [
          0.07988187670707703,
          0.08166097104549408,
          0.08368155360221863,
          0.08598385751247406,
          0.08859927952289581,
          0.09154004603624344,
          0.09478846937417984,
          0.09828943014144897,
          0.10194986313581467,
          0.10564754158258438,
          0.10924750566482544,
          0.11262107640504837,
          0.11566243320703506,
          0.11829737573862076,
          0.12048543244600296,
          0.12221531569957733,
          0.12349823117256165,
          0.1243608146905899,
          0.1248379796743393,
          0.12496881186962128,
          0.12479260563850403
         ],
         "yaxis": "y14"
        },
        {
         "legendgroup": "1",
         "line": {
          "color": "darkviolet"
         },
         "name": "(10, 10) ∥ IO",
         "type": "scatter",
         "x": [
          -8,
          -7.199999809265137,
          -6.400000095367432,
          -5.599999904632568,
          -4.800000190734863,
          -4,
          -3.1999998092651367,
          -2.3999998569488525,
          -1.5999999046325684,
          -0.7999998927116394,
          -1.1920928955078125e-7,
          0.7999998927116394,
          1.5999999046325684,
          2.3999998569488525,
          3.1999998092651367,
          4,
          4.800000190734863,
          5.599999904632568,
          6.400000095367432,
          7.199999809265137,
          8
         ],
         "xaxis": "x14",
         "y": [
          0.15235187113285065,
          0.16168366372585297,
          0.17137189209461212,
          0.18149034678936005,
          0.19209817051887512,
          0.20319899916648865,
          0.2146971970796585,
          0.22637218236923218,
          0.23789623379707336,
          0.24889472126960754,
          0.25902503728866577,
          0.2680380642414093,
          0.27580034732818604,
          0.2822817265987396,
          0.28752607107162476,
          0.2916211783885956,
          0.29467442631721497,
          0.29679861664772034,
          0.2981022596359253,
          0.298686146736145,
          0.2986421585083008
         ],
         "yaxis": "y14"
        },
        {
         "legendgroup": "2",
         "line": {
          "color": "blue"
         },
         "name": "(11, 2) ∥ IO",
         "type": "scatter",
         "x": [
          -8,
          -7.199999809265137,
          -6.400000095367432,
          -5.599999904632568,
          -4.800000190734863,
          -4,
          -3.1999998092651367,
          -2.3999998569488525,
          -1.5999999046325684,
          -0.7999998927116394,
          -1.1920928955078125e-7,
          0.7999998927116394,
          1.5999999046325684,
          2.3999998569488525,
          3.1999998092651367,
          4,
          4.800000190734863,
          5.599999904632568,
          6.400000095367432,
          7.199999809265137,
          8
         ],
         "xaxis": "x14",
         "y": [
          0.01779136434197426,
          0.015536386519670486,
          0.013097289949655533,
          0.010427534580230713,
          0.007472965866327286,
          0.004175018519163132,
          0.00047654658555984497,
          -0.0036696195602416992,
          -0.008290395140647888,
          -0.013382285833358765,
          -0.018904581665992737,
          -0.024778589606285095,
          -0.030894488096237183,
          -0.03712396323680878,
          -0.04333671182394028,
          -0.049415022134780884,
          -0.055264122784137726,
          -0.06081702560186386,
          -0.0660337284207344,
          -0.07089775055646896,
          -0.075410395860672
         ],
         "yaxis": "y14"
        },
        {
         "legendgroup": "0",
         "line": {
          "color": "pink"
         },
         "name": "(10, 2) ∥ IO",
         "type": "scatter",
         "x": [
          -8,
          -7.199999809265137,
          -6.400000095367432,
          -5.599999904632568,
          -4.800000190734863,
          -4,
          -3.1999998092651367,
          -2.3999998569488525,
          -1.5999999046325684,
          -0.7999998927116394,
          -1.1920928955078125e-7,
          0.7999998927116394,
          1.5999999046325684,
          2.3999998569488525,
          3.1999998092651367,
          4,
          4.800000190734863,
          5.599999904632568,
          6.400000095367432,
          7.199999809265137,
          8
         ],
         "xaxis": "x15",
         "y": [
          0.6032389998435974,
          0.6006694436073303,
          0.5974632501602173,
          0.5935727953910828,
          0.5889605283737183,
          0.5836101174354553,
          0.577538788318634,
          0.5708081126213074,
          0.5635267496109009,
          0.5558447241783142,
          0.5479356050491333,
          0.5399764776229858,
          0.5321270823478699,
          0.5245170593261719,
          0.5172412991523743,
          0.510360062122345,
          0.5039056539535522,
          0.49788856506347656,
          0.4923050105571747,
          0.48714113235473633,
          0.48237720131874084
         ],
         "yaxis": "y15"
        },
        {
         "legendgroup": "1",
         "line": {
          "color": "darkviolet"
         },
         "name": "(10, 10) ∥ IO",
         "type": "scatter",
         "x": [
          -8,
          -7.199999809265137,
          -6.400000095367432,
          -5.599999904632568,
          -4.800000190734863,
          -4,
          -3.1999998092651367,
          -2.3999998569488525,
          -1.5999999046325684,
          -0.7999998927116394,
          -1.1920928955078125e-7,
          0.7999998927116394,
          1.5999999046325684,
          2.3999998569488525,
          3.1999998092651367,
          4,
          4.800000190734863,
          5.599999904632568,
          6.400000095367432,
          7.199999809265137,
          8
         ],
         "xaxis": "x15",
         "y": [
          0.5705932974815369,
          0.5724691152572632,
          0.5720515847206116,
          0.5693212747573853,
          0.5643071532249451,
          0.5571120977401733,
          0.5479486584663391,
          0.5371650457382202,
          0.5252304077148438,
          0.51267409324646,
          0.5000008940696716,
          0.48761987686157227,
          0.47581273317337036,
          0.4647402763366699,
          0.45447030663490295,
          0.445009708404541,
          0.43633031845092773,
          0.4283863604068756,
          0.4211258590221405,
          0.4144958555698395,
          0.4084451198577881
         ],
         "yaxis": "y15"
        },
        {
         "legendgroup": "2",
         "line": {
          "color": "blue"
         },
         "name": "(11, 2) ∥ IO",
         "type": "scatter",
         "x": [
          -8,
          -7.199999809265137,
          -6.400000095367432,
          -5.599999904632568,
          -4.800000190734863,
          -4,
          -3.1999998092651367,
          -2.3999998569488525,
          -1.5999999046325684,
          -0.7999998927116394,
          -1.1920928955078125e-7,
          0.7999998927116394,
          1.5999999046325684,
          2.3999998569488525,
          3.1999998092651367,
          4,
          4.800000190734863,
          5.599999904632568,
          6.400000095367432,
          7.199999809265137,
          8
         ],
         "xaxis": "x15",
         "y": [
          0.7674228549003601,
          0.7655272483825684,
          0.7630094289779663,
          0.7598313689231873,
          0.7559564113616943,
          0.7513529658317566,
          0.7460024356842041,
          0.7399076819419861,
          0.733102023601532,
          0.7256554365158081,
          0.7176753878593445,
          0.7093003392219543,
          0.7006871104240417,
          0.6919939517974854,
          0.6833636164665222,
          0.6749109625816345,
          0.6667179465293884,
          0.6588334441184998,
          0.6512783169746399,
          0.644053041934967,
          0.6371442079544067
         ],
         "yaxis": "y15"
        }
       ],
       "layout": {
        "annotations": [
         {
          "font": {
           "size": 16
          },
          "showarrow": false,
          "text": "IO",
          "x": 0.08399999999999999,
          "xanchor": "center",
          "xref": "paper",
          "y": 1,
          "yanchor": "bottom",
          "yref": "paper"
         },
         {
          "font": {
           "size": 16
          },
          "showarrow": false,
          "text": "S1",
          "x": 0.292,
          "xanchor": "center",
          "xref": "paper",
          "y": 1,
          "yanchor": "bottom",
          "yref": "paper"
         },
         {
          "font": {
           "size": 16
          },
          "showarrow": false,
          "text": "S2",
          "x": 0.5,
          "xanchor": "center",
          "xref": "paper",
          "y": 1,
          "yanchor": "bottom",
          "yref": "paper"
         },
         {
          "font": {
           "size": 16
          },
          "showarrow": false,
          "text": "IO - S1",
          "x": 0.708,
          "xanchor": "center",
          "xref": "paper",
          "y": 1,
          "yanchor": "bottom",
          "yref": "paper"
         },
         {
          "font": {
           "size": 16
          },
          "showarrow": false,
          "text": "BOS",
          "x": 0.9159999999999999,
          "xanchor": "center",
          "xref": "paper",
          "y": 1,
          "yanchor": "bottom",
          "yref": "paper"
         }
        ],
        "height": 900,
        "template": {
         "data": {
          "bar": [
           {
            "error_x": {
             "color": "#2a3f5f"
            },
            "error_y": {
             "color": "#2a3f5f"
            },
            "marker": {
             "line": {
              "color": "#E5ECF6",
              "width": 0.5
             },
             "pattern": {
              "fillmode": "overlay",
              "size": 10,
              "solidity": 0.2
             }
            },
            "type": "bar"
           }
          ],
          "barpolar": [
           {
            "marker": {
             "line": {
              "color": "#E5ECF6",
              "width": 0.5
             },
             "pattern": {
              "fillmode": "overlay",
              "size": 10,
              "solidity": 0.2
             }
            },
            "type": "barpolar"
           }
          ],
          "carpet": [
           {
            "aaxis": {
             "endlinecolor": "#2a3f5f",
             "gridcolor": "white",
             "linecolor": "white",
             "minorgridcolor": "white",
             "startlinecolor": "#2a3f5f"
            },
            "baxis": {
             "endlinecolor": "#2a3f5f",
             "gridcolor": "white",
             "linecolor": "white",
             "minorgridcolor": "white",
             "startlinecolor": "#2a3f5f"
            },
            "type": "carpet"
           }
          ],
          "choropleth": [
           {
            "colorbar": {
             "outlinewidth": 0,
             "ticks": ""
            },
            "type": "choropleth"
           }
          ],
          "contour": [
           {
            "colorbar": {
             "outlinewidth": 0,
             "ticks": ""
            },
            "colorscale": [
             [
              0,
              "#0d0887"
             ],
             [
              0.1111111111111111,
              "#46039f"
             ],
             [
              0.2222222222222222,
              "#7201a8"
             ],
             [
              0.3333333333333333,
              "#9c179e"
             ],
             [
              0.4444444444444444,
              "#bd3786"
             ],
             [
              0.5555555555555556,
              "#d8576b"
             ],
             [
              0.6666666666666666,
              "#ed7953"
             ],
             [
              0.7777777777777778,
              "#fb9f3a"
             ],
             [
              0.8888888888888888,
              "#fdca26"
             ],
             [
              1,
              "#f0f921"
             ]
            ],
            "type": "contour"
           }
          ],
          "contourcarpet": [
           {
            "colorbar": {
             "outlinewidth": 0,
             "ticks": ""
            },
            "type": "contourcarpet"
           }
          ],
          "heatmap": [
           {
            "colorbar": {
             "outlinewidth": 0,
             "ticks": ""
            },
            "colorscale": [
             [
              0,
              "#0d0887"
             ],
             [
              0.1111111111111111,
              "#46039f"
             ],
             [
              0.2222222222222222,
              "#7201a8"
             ],
             [
              0.3333333333333333,
              "#9c179e"
             ],
             [
              0.4444444444444444,
              "#bd3786"
             ],
             [
              0.5555555555555556,
              "#d8576b"
             ],
             [
              0.6666666666666666,
              "#ed7953"
             ],
             [
              0.7777777777777778,
              "#fb9f3a"
             ],
             [
              0.8888888888888888,
              "#fdca26"
             ],
             [
              1,
              "#f0f921"
             ]
            ],
            "type": "heatmap"
           }
          ],
          "heatmapgl": [
           {
            "colorbar": {
             "outlinewidth": 0,
             "ticks": ""
            },
            "colorscale": [
             [
              0,
              "#0d0887"
             ],
             [
              0.1111111111111111,
              "#46039f"
             ],
             [
              0.2222222222222222,
              "#7201a8"
             ],
             [
              0.3333333333333333,
              "#9c179e"
             ],
             [
              0.4444444444444444,
              "#bd3786"
             ],
             [
              0.5555555555555556,
              "#d8576b"
             ],
             [
              0.6666666666666666,
              "#ed7953"
             ],
             [
              0.7777777777777778,
              "#fb9f3a"
             ],
             [
              0.8888888888888888,
              "#fdca26"
             ],
             [
              1,
              "#f0f921"
             ]
            ],
            "type": "heatmapgl"
           }
          ],
          "histogram": [
           {
            "marker": {
             "pattern": {
              "fillmode": "overlay",
              "size": 10,
              "solidity": 0.2
             }
            },
            "type": "histogram"
           }
          ],
          "histogram2d": [
           {
            "colorbar": {
             "outlinewidth": 0,
             "ticks": ""
            },
            "colorscale": [
             [
              0,
              "#0d0887"
             ],
             [
              0.1111111111111111,
              "#46039f"
             ],
             [
              0.2222222222222222,
              "#7201a8"
             ],
             [
              0.3333333333333333,
              "#9c179e"
             ],
             [
              0.4444444444444444,
              "#bd3786"
             ],
             [
              0.5555555555555556,
              "#d8576b"
             ],
             [
              0.6666666666666666,
              "#ed7953"
             ],
             [
              0.7777777777777778,
              "#fb9f3a"
             ],
             [
              0.8888888888888888,
              "#fdca26"
             ],
             [
              1,
              "#f0f921"
             ]
            ],
            "type": "histogram2d"
           }
          ],
          "histogram2dcontour": [
           {
            "colorbar": {
             "outlinewidth": 0,
             "ticks": ""
            },
            "colorscale": [
             [
              0,
              "#0d0887"
             ],
             [
              0.1111111111111111,
              "#46039f"
             ],
             [
              0.2222222222222222,
              "#7201a8"
             ],
             [
              0.3333333333333333,
              "#9c179e"
             ],
             [
              0.4444444444444444,
              "#bd3786"
             ],
             [
              0.5555555555555556,
              "#d8576b"
             ],
             [
              0.6666666666666666,
              "#ed7953"
             ],
             [
              0.7777777777777778,
              "#fb9f3a"
             ],
             [
              0.8888888888888888,
              "#fdca26"
             ],
             [
              1,
              "#f0f921"
             ]
            ],
            "type": "histogram2dcontour"
           }
          ],
          "mesh3d": [
           {
            "colorbar": {
             "outlinewidth": 0,
             "ticks": ""
            },
            "type": "mesh3d"
           }
          ],
          "parcoords": [
           {
            "line": {
             "colorbar": {
              "outlinewidth": 0,
              "ticks": ""
             }
            },
            "type": "parcoords"
           }
          ],
          "pie": [
           {
            "automargin": true,
            "type": "pie"
           }
          ],
          "scatter": [
           {
            "fillpattern": {
             "fillmode": "overlay",
             "size": 10,
             "solidity": 0.2
            },
            "type": "scatter"
           }
          ],
          "scatter3d": [
           {
            "line": {
             "colorbar": {
              "outlinewidth": 0,
              "ticks": ""
             }
            },
            "marker": {
             "colorbar": {
              "outlinewidth": 0,
              "ticks": ""
             }
            },
            "type": "scatter3d"
           }
          ],
          "scattercarpet": [
           {
            "marker": {
             "colorbar": {
              "outlinewidth": 0,
              "ticks": ""
             }
            },
            "type": "scattercarpet"
           }
          ],
          "scattergeo": [
           {
            "marker": {
             "colorbar": {
              "outlinewidth": 0,
              "ticks": ""
             }
            },
            "type": "scattergeo"
           }
          ],
          "scattergl": [
           {
            "marker": {
             "colorbar": {
              "outlinewidth": 0,
              "ticks": ""
             }
            },
            "type": "scattergl"
           }
          ],
          "scattermapbox": [
           {
            "marker": {
             "colorbar": {
              "outlinewidth": 0,
              "ticks": ""
             }
            },
            "type": "scattermapbox"
           }
          ],
          "scatterpolar": [
           {
            "marker": {
             "colorbar": {
              "outlinewidth": 0,
              "ticks": ""
             }
            },
            "type": "scatterpolar"
           }
          ],
          "scatterpolargl": [
           {
            "marker": {
             "colorbar": {
              "outlinewidth": 0,
              "ticks": ""
             }
            },
            "type": "scatterpolargl"
           }
          ],
          "scatterternary": [
           {
            "marker": {
             "colorbar": {
              "outlinewidth": 0,
              "ticks": ""
             }
            },
            "type": "scatterternary"
           }
          ],
          "surface": [
           {
            "colorbar": {
             "outlinewidth": 0,
             "ticks": ""
            },
            "colorscale": [
             [
              0,
              "#0d0887"
             ],
             [
              0.1111111111111111,
              "#46039f"
             ],
             [
              0.2222222222222222,
              "#7201a8"
             ],
             [
              0.3333333333333333,
              "#9c179e"
             ],
             [
              0.4444444444444444,
              "#bd3786"
             ],
             [
              0.5555555555555556,
              "#d8576b"
             ],
             [
              0.6666666666666666,
              "#ed7953"
             ],
             [
              0.7777777777777778,
              "#fb9f3a"
             ],
             [
              0.8888888888888888,
              "#fdca26"
             ],
             [
              1,
              "#f0f921"
             ]
            ],
            "type": "surface"
           }
          ],
          "table": [
           {
            "cells": {
             "fill": {
              "color": "#EBF0F8"
             },
             "line": {
              "color": "white"
             }
            },
            "header": {
             "fill": {
              "color": "#C8D4E3"
             },
             "line": {
              "color": "white"
             }
            },
            "type": "table"
           }
          ]
         },
         "layout": {
          "annotationdefaults": {
           "arrowcolor": "#2a3f5f",
           "arrowhead": 0,
           "arrowwidth": 1
          },
          "autotypenumbers": "strict",
          "coloraxis": {
           "colorbar": {
            "outlinewidth": 0,
            "ticks": ""
           }
          },
          "colorscale": {
           "diverging": [
            [
             0,
             "#8e0152"
            ],
            [
             0.1,
             "#c51b7d"
            ],
            [
             0.2,
             "#de77ae"
            ],
            [
             0.3,
             "#f1b6da"
            ],
            [
             0.4,
             "#fde0ef"
            ],
            [
             0.5,
             "#f7f7f7"
            ],
            [
             0.6,
             "#e6f5d0"
            ],
            [
             0.7,
             "#b8e186"
            ],
            [
             0.8,
             "#7fbc41"
            ],
            [
             0.9,
             "#4d9221"
            ],
            [
             1,
             "#276419"
            ]
           ],
           "sequential": [
            [
             0,
             "#0d0887"
            ],
            [
             0.1111111111111111,
             "#46039f"
            ],
            [
             0.2222222222222222,
             "#7201a8"
            ],
            [
             0.3333333333333333,
             "#9c179e"
            ],
            [
             0.4444444444444444,
             "#bd3786"
            ],
            [
             0.5555555555555556,
             "#d8576b"
            ],
            [
             0.6666666666666666,
             "#ed7953"
            ],
            [
             0.7777777777777778,
             "#fb9f3a"
            ],
            [
             0.8888888888888888,
             "#fdca26"
            ],
            [
             1,
             "#f0f921"
            ]
           ],
           "sequentialminus": [
            [
             0,
             "#0d0887"
            ],
            [
             0.1111111111111111,
             "#46039f"
            ],
            [
             0.2222222222222222,
             "#7201a8"
            ],
            [
             0.3333333333333333,
             "#9c179e"
            ],
            [
             0.4444444444444444,
             "#bd3786"
            ],
            [
             0.5555555555555556,
             "#d8576b"
            ],
            [
             0.6666666666666666,
             "#ed7953"
            ],
            [
             0.7777777777777778,
             "#fb9f3a"
            ],
            [
             0.8888888888888888,
             "#fdca26"
            ],
            [
             1,
             "#f0f921"
            ]
           ]
          },
          "colorway": [
           "#636efa",
           "#EF553B",
           "#00cc96",
           "#ab63fa",
           "#FFA15A",
           "#19d3f3",
           "#FF6692",
           "#B6E880",
           "#FF97FF",
           "#FECB52"
          ],
          "font": {
           "color": "#2a3f5f"
          },
          "geo": {
           "bgcolor": "white",
           "lakecolor": "white",
           "landcolor": "#E5ECF6",
           "showlakes": true,
           "showland": true,
           "subunitcolor": "white"
          },
          "hoverlabel": {
           "align": "left"
          },
          "hovermode": "closest",
          "mapbox": {
           "style": "light"
          },
          "paper_bgcolor": "white",
          "plot_bgcolor": "#E5ECF6",
          "polar": {
           "angularaxis": {
            "gridcolor": "white",
            "linecolor": "white",
            "ticks": ""
           },
           "bgcolor": "#E5ECF6",
           "radialaxis": {
            "gridcolor": "white",
            "linecolor": "white",
            "ticks": ""
           }
          },
          "scene": {
           "xaxis": {
            "backgroundcolor": "#E5ECF6",
            "gridcolor": "white",
            "gridwidth": 2,
            "linecolor": "white",
            "showbackground": true,
            "ticks": "",
            "zerolinecolor": "white"
           },
           "yaxis": {
            "backgroundcolor": "#E5ECF6",
            "gridcolor": "white",
            "gridwidth": 2,
            "linecolor": "white",
            "showbackground": true,
            "ticks": "",
            "zerolinecolor": "white"
           },
           "zaxis": {
            "backgroundcolor": "#E5ECF6",
            "gridcolor": "white",
            "gridwidth": 2,
            "linecolor": "white",
            "showbackground": true,
            "ticks": "",
            "zerolinecolor": "white"
           }
          },
          "shapedefaults": {
           "line": {
            "color": "#2a3f5f"
           }
          },
          "ternary": {
           "aaxis": {
            "gridcolor": "white",
            "linecolor": "white",
            "ticks": ""
           },
           "baxis": {
            "gridcolor": "white",
            "linecolor": "white",
            "ticks": ""
           },
           "bgcolor": "#E5ECF6",
           "caxis": {
            "gridcolor": "white",
            "linecolor": "white",
            "ticks": ""
           }
          },
          "title": {
           "x": 0.05
          },
          "xaxis": {
           "automargin": true,
           "gridcolor": "white",
           "linecolor": "white",
           "ticks": "",
           "title": {
            "standoff": 15
           },
           "zerolinecolor": "white",
           "zerolinewidth": 2
          },
          "yaxis": {
           "automargin": true,
           "gridcolor": "white",
           "linecolor": "white",
           "ticks": "",
           "title": {
            "standoff": 15
           },
           "zerolinecolor": "white",
           "zerolinewidth": 2
          }
         }
        },
        "title": {
         "text": "Adding Directions to key_backup | scores = False | freeze_ln = False"
        },
        "xaxis": {
         "anchor": "y",
         "domain": [
          0,
          0.16799999999999998
         ],
         "title": {
          "text": "Added Scaled (10, 0) Output"
         }
        },
        "xaxis10": {
         "anchor": "y10",
         "domain": [
          0.832,
          1
         ],
         "title": {
          "text": "Added Scaled (10, 0) ⊥ IO "
         }
        },
        "xaxis11": {
         "anchor": "y11",
         "domain": [
          0,
          0.16799999999999998
         ],
         "title": {
          "text": "Added Scaled (10, 0) ∥ IO "
         }
        },
        "xaxis12": {
         "anchor": "y12",
         "domain": [
          0.208,
          0.376
         ],
         "title": {
          "text": "Added Scaled (10, 0) ∥ IO "
         }
        },
        "xaxis13": {
         "anchor": "y13",
         "domain": [
          0.416,
          0.584
         ],
         "title": {
          "text": "Added Scaled (10, 0) ∥ IO "
         }
        },
        "xaxis14": {
         "anchor": "y14",
         "domain": [
          0.624,
          0.792
         ],
         "title": {
          "text": "Added Scaled (10, 0) ∥ IO "
         }
        },
        "xaxis15": {
         "anchor": "y15",
         "domain": [
          0.832,
          1
         ],
         "title": {
          "text": "Added Scaled (10, 0) ∥ IO "
         }
        },
        "xaxis2": {
         "anchor": "y2",
         "domain": [
          0.208,
          0.376
         ],
         "title": {
          "text": "Added Scaled (10, 0) Output"
         }
        },
        "xaxis3": {
         "anchor": "y3",
         "domain": [
          0.416,
          0.584
         ],
         "title": {
          "text": "Added Scaled (10, 0) Output"
         }
        },
        "xaxis4": {
         "anchor": "y4",
         "domain": [
          0.624,
          0.792
         ],
         "title": {
          "text": "Added Scaled (10, 0) Output"
         }
        },
        "xaxis5": {
         "anchor": "y5",
         "domain": [
          0.832,
          1
         ],
         "title": {
          "text": "Added Scaled (10, 0) Output"
         }
        },
        "xaxis6": {
         "anchor": "y6",
         "domain": [
          0,
          0.16799999999999998
         ],
         "title": {
          "text": "Added Scaled (10, 0) ⊥ IO "
         }
        },
        "xaxis7": {
         "anchor": "y7",
         "domain": [
          0.208,
          0.376
         ],
         "title": {
          "text": "Added Scaled (10, 0) ⊥ IO "
         }
        },
        "xaxis8": {
         "anchor": "y8",
         "domain": [
          0.416,
          0.584
         ],
         "title": {
          "text": "Added Scaled (10, 0) ⊥ IO "
         }
        },
        "xaxis9": {
         "anchor": "y9",
         "domain": [
          0.624,
          0.792
         ],
         "title": {
          "text": "Added Scaled (10, 0) ⊥ IO "
         }
        },
        "yaxis": {
         "anchor": "x",
         "domain": [
          0.7777777777777778,
          1
         ],
         "title": {
          "text": "Attn Probs on token"
         }
        },
        "yaxis10": {
         "anchor": "x10",
         "domain": [
          0.3888888888888889,
          0.6111111111111112
         ],
         "matches": "y6",
         "showticklabels": false,
         "title": {
          "text": "Attn Probs on token"
         }
        },
        "yaxis11": {
         "anchor": "x11",
         "domain": [
          0,
          0.22222222222222224
         ],
         "title": {
          "text": "Attn Probs on token"
         }
        },
        "yaxis12": {
         "anchor": "x12",
         "domain": [
          0,
          0.22222222222222224
         ],
         "matches": "y11",
         "showticklabels": false,
         "title": {
          "text": "Attn Probs on token"
         }
        },
        "yaxis13": {
         "anchor": "x13",
         "domain": [
          0,
          0.22222222222222224
         ],
         "matches": "y11",
         "showticklabels": false,
         "title": {
          "text": "Attn Probs on token"
         }
        },
        "yaxis14": {
         "anchor": "x14",
         "domain": [
          0,
          0.22222222222222224
         ],
         "matches": "y11",
         "showticklabels": false,
         "title": {
          "text": "Attn Probs on token"
         }
        },
        "yaxis15": {
         "anchor": "x15",
         "domain": [
          0,
          0.22222222222222224
         ],
         "matches": "y11",
         "showticklabels": false,
         "title": {
          "text": "Attn Probs on token"
         }
        },
        "yaxis2": {
         "anchor": "x2",
         "domain": [
          0.7777777777777778,
          1
         ],
         "matches": "y",
         "showticklabels": false,
         "title": {
          "text": "Attn Probs on token"
         }
        },
        "yaxis3": {
         "anchor": "x3",
         "domain": [
          0.7777777777777778,
          1
         ],
         "matches": "y",
         "showticklabels": false,
         "title": {
          "text": "Attn Probs on token"
         }
        },
        "yaxis4": {
         "anchor": "x4",
         "domain": [
          0.7777777777777778,
          1
         ],
         "matches": "y",
         "showticklabels": false,
         "title": {
          "text": "Attn Probs on token"
         }
        },
        "yaxis5": {
         "anchor": "x5",
         "domain": [
          0.7777777777777778,
          1
         ],
         "matches": "y",
         "showticklabels": false,
         "title": {
          "text": "Attn Probs on token"
         }
        },
        "yaxis6": {
         "anchor": "x6",
         "domain": [
          0.3888888888888889,
          0.6111111111111112
         ],
         "title": {
          "text": "Attn Probs on token"
         }
        },
        "yaxis7": {
         "anchor": "x7",
         "domain": [
          0.3888888888888889,
          0.6111111111111112
         ],
         "matches": "y6",
         "showticklabels": false,
         "title": {
          "text": "Attn Probs on token"
         }
        },
        "yaxis8": {
         "anchor": "x8",
         "domain": [
          0.3888888888888889,
          0.6111111111111112
         ],
         "matches": "y6",
         "showticklabels": false,
         "title": {
          "text": "Attn Probs on token"
         }
        },
        "yaxis9": {
         "anchor": "x9",
         "domain": [
          0.3888888888888889,
          0.6111111111111112
         ],
         "matches": "y6",
         "showticklabels": false,
         "title": {
          "text": "Attn Probs on token"
         }
        }
       }
      },
      "text/html": [
       "<div>                            <div id=\"61c7b7bd-c312-4c23-8320-6fb3f2cca42d\" class=\"plotly-graph-div\" style=\"height:900px; width:100%;\"></div>            <script type=\"text/javascript\">                require([\"plotly\"], function(Plotly) {                    window.PLOTLYENV=window.PLOTLYENV || {};                                    if (document.getElementById(\"61c7b7bd-c312-4c23-8320-6fb3f2cca42d\")) {                    Plotly.newPlot(                        \"61c7b7bd-c312-4c23-8320-6fb3f2cca42d\",                        [{\"legendgroup\":\"0\",\"line\":{\"color\":\"pink\"},\"name\":\"(10, 2)\",\"x\":[-8.0,-7.199999809265137,-6.400000095367432,-5.599999904632568,-4.800000190734863,-4.0,-3.1999998092651367,-2.3999998569488525,-1.5999999046325684,-0.7999998927116394,-1.1920928955078125e-07,0.7999998927116394,1.5999999046325684,2.3999998569488525,3.1999998092651367,4.0,4.800000190734863,5.599999904632568,6.400000095367432,7.199999809265137,8.0],\"y\":[0.2765139043331146,0.27813929319381714,0.27862635254859924,0.2776009142398834,0.2746231257915497,0.26920029520988464,0.2608270049095154,0.24908538162708282,0.23384538292884827,0.2155441790819168,0.19533829391002655,0.17482143640518188,0.15539248287677765,0.1378326416015625,0.12236050516366959,0.10889504104852676,0.09725164622068405,0.08722598850727081,0.07861903309822083,0.07124346494674683,0.06492626667022705],\"type\":\"scatter\",\"xaxis\":\"x\",\"yaxis\":\"y\"},{\"legendgroup\":\"1\",\"line\":{\"color\":\"darkviolet\"},\"name\":\"(10, 10)\",\"x\":[-8.0,-7.199999809265137,-6.400000095367432,-5.599999904632568,-4.800000190734863,-4.0,-3.1999998092651367,-2.3999998569488525,-1.5999999046325684,-0.7999998927116394,-1.1920928955078125e-07,0.7999998927116394,1.5999999046325684,2.3999998569488525,3.1999998092651367,4.0,4.800000190734863,5.599999904632568,6.400000095367432,7.199999809265137,8.0],\"y\":[0.330660879611969,0.3516707122325897,0.37107351422309875,0.38792750239372253,0.4009285867214203,0.40857720375061035,0.40949058532714844,0.40266895294189453,0.38764312863349915,0.3646160662174225,0.3346811532974243,0.29994997382164,0.26325514912605286,0.22738778591156006,0.1943656951189041,0.16520126163959503,0.1401129812002182,0.11886034160852432,0.10100477188825607,0.08606115728616714,0.07357005774974823],\"type\":\"scatter\",\"xaxis\":\"x\",\"yaxis\":\"y\"},{\"legendgroup\":\"2\",\"line\":{\"color\":\"blue\"},\"name\":\"(11, 2)\",\"x\":[-8.0,-7.199999809265137,-6.400000095367432,-5.599999904632568,-4.800000190734863,-4.0,-3.1999998092651367,-2.3999998569488525,-1.5999999046325684,-0.7999998927116394,-1.1920928955078125e-07,0.7999998927116394,1.5999999046325684,2.3999998569488525,3.1999998092651367,4.0,4.800000190734863,5.599999904632568,6.400000095367432,7.199999809265137,8.0],\"y\":[0.601304829120636,0.5693761706352234,0.5305301547050476,0.48378822207450867,0.4283137917518616,0.3638117015361786,0.29176077246665955,0.21769464015960693,0.15124563872814178,0.10002394020557404,0.06473464518785477,0.04177350550889969,0.027127249166369438,0.0178013164550066,0.011828329414129257,0.007968048565089703,0.0054465727880597115,0.00378039525821805,0.002665748819708824,0.0019103825325146317,0.001391603029333055],\"type\":\"scatter\",\"xaxis\":\"x\",\"yaxis\":\"y\"},{\"legendgroup\":\"0\",\"line\":{\"color\":\"pink\"},\"name\":\"(10, 2)\",\"x\":[-8.0,-7.199999809265137,-6.400000095367432,-5.599999904632568,-4.800000190734863,-4.0,-3.1999998092651367,-2.3999998569488525,-1.5999999046325684,-0.7999998927116394,-1.1920928955078125e-07,0.7999998927116394,1.5999999046325684,2.3999998569488525,3.1999998092651367,4.0,4.800000190734863,5.599999904632568,6.400000095367432,7.199999809265137,8.0],\"y\":[0.09647104144096375,0.09590871632099152,0.09525906294584274,0.09451582282781601,0.09367435425519943,0.09273257106542587,0.09169049561023712,0.09054499119520187,0.08927538245916367,0.08782315254211426,0.0860908031463623,0.08398997038602829,0.08151234686374664,0.07875040173530579,0.07585214823484421,0.07296230643987656,0.07018911093473434,0.06759803742170334,0.06521876156330109,0.06305631250143051,0.061100851744413376],\"type\":\"scatter\",\"xaxis\":\"x2\",\"yaxis\":\"y2\"},{\"legendgroup\":\"1\",\"line\":{\"color\":\"darkviolet\"},\"name\":\"(10, 10)\",\"x\":[-8.0,-7.199999809265137,-6.400000095367432,-5.599999904632568,-4.800000190734863,-4.0,-3.1999998092651367,-2.3999998569488525,-1.5999999046325684,-0.7999998927116394,-1.1920928955078125e-07,0.7999998927116394,1.5999999046325684,2.3999998569488525,3.1999998092651367,4.0,4.800000190734863,5.599999904632568,6.400000095367432,7.199999809265137,8.0],\"y\":[0.06633313000202179,0.0688437968492508,0.07097814977169037,0.0727301761507988,0.07410688698291779,0.07513134181499481,0.07584242522716522,0.07627864181995392,0.07644563168287277,0.07628320902585983,0.07565613836050034,0.07439505308866501,0.07238759100437164,0.06965772062540054,0.06636118143796921,0.0627107173204422,0.058903343975543976,0.05508757382631302,0.051362644881010056,0.04779018089175224,0.0444062240421772],\"type\":\"scatter\",\"xaxis\":\"x2\",\"yaxis\":\"y2\"},{\"legendgroup\":\"2\",\"line\":{\"color\":\"blue\"},\"name\":\"(11, 2)\",\"x\":[-8.0,-7.199999809265137,-6.400000095367432,-5.599999904632568,-4.800000190734863,-4.0,-3.1999998092651367,-2.3999998569488525,-1.5999999046325684,-0.7999998927116394,-1.1920928955078125e-07,0.7999998927116394,1.5999999046325684,2.3999998569488525,3.1999998092651367,4.0,4.800000190734863,5.599999904632568,6.400000095367432,7.199999809265137,8.0],\"y\":[0.23155577480793,0.22862644493579865,0.2238312065601349,0.21643947064876556,0.20571358501911163,0.19117090106010437,0.1728515625,0.1513155996799469,0.12773768603801727,0.10435815155506134,0.0836392268538475,0.06676159799098969,0.05357760936021805,0.04338941350579262,0.03547881916165352,0.029275719076395035,0.02436182275414467,0.02043401077389717,0.017270153388381004,0.01470454316586256,0.012611483223736286],\"type\":\"scatter\",\"xaxis\":\"x2\",\"yaxis\":\"y2\"},{\"legendgroup\":\"0\",\"line\":{\"color\":\"pink\"},\"name\":\"(10, 2)\",\"x\":[-8.0,-7.199999809265137,-6.400000095367432,-5.599999904632568,-4.800000190734863,-4.0,-3.1999998092651367,-2.3999998569488525,-1.5999999046325684,-0.7999998927116394,-1.1920928955078125e-07,0.7999998927116394,1.5999999046325684,2.3999998569488525,3.1999998092651367,4.0,4.800000190734863,5.599999904632568,6.400000095367432,7.199999809265137,8.0],\"y\":[0.05004009231925011,0.048452530056238174,0.04674549028277397,0.04494495317339897,0.04308834299445152,0.041223105043172836,0.03940155357122421,0.03767168149352074,0.03606517240405083,0.034589752554893494,0.03323660418391228,0.032001692801713943,0.030898377299308777,0.029947075992822647,0.02915780246257782,0.028524024412035942,0.028027204796671867,0.02764374017715454,0.02734999917447567,0.027124911546707153,0.026950901374220848],\"type\":\"scatter\",\"xaxis\":\"x3\",\"yaxis\":\"y3\"},{\"legendgroup\":\"1\",\"line\":{\"color\":\"darkviolet\"},\"name\":\"(10, 10)\",\"x\":[-8.0,-7.199999809265137,-6.400000095367432,-5.599999904632568,-4.800000190734863,-4.0,-3.1999998092651367,-2.3999998569488525,-1.5999999046325684,-0.7999998927116394,-1.1920928955078125e-07,0.7999998927116394,1.5999999046325684,2.3999998569488525,3.1999998092651367,4.0,4.800000190734863,5.599999904632568,6.400000095367432,7.199999809265137,8.0],\"y\":[0.009733837097883224,0.009694053791463375,0.009626947343349457,0.009548951871693134,0.009477229788899422,0.009429944679141045,0.009426740929484367,0.0094872135668993,0.009625951759517193,0.00984368659555912,0.010116304270923138,0.010389995761215687,0.010595181956887245,0.010676894336938858,0.010616976767778397,0.010431121103465557,0.010151258669793606,0.009810238145291805,0.009434807114303112,0.00904438178986311,0.008652192540466785],\"type\":\"scatter\",\"xaxis\":\"x3\",\"yaxis\":\"y3\"},{\"legendgroup\":\"2\",\"line\":{\"color\":\"blue\"},\"name\":\"(11, 2)\",\"x\":[-8.0,-7.199999809265137,-6.400000095367432,-5.599999904632568,-4.800000190734863,-4.0,-3.1999998092651367,-2.3999998569488525,-1.5999999046325684,-0.7999998927116394,-1.1920928955078125e-07,0.7999998927116394,1.5999999046325684,2.3999998569488525,3.1999998092651367,4.0,4.800000190734863,5.599999904632568,6.400000095367432,7.199999809265137,8.0],\"y\":[0.027331000193953514,0.028642892837524414,0.02992764115333557,0.031093960627913475,0.032024580985307693,0.03257254883646965,0.032519999891519547,0.03150997683405876,0.029221046715974808,0.025843573734164238,0.02205309271812439,0.01846081204712391,0.015355701558291912,0.012788821943104267,0.010706279426813126,0.009025873616337776,0.007668349426239729,0.006566803436726332,0.005667681805789471,0.004929035902023315,0.004318252205848694],\"type\":\"scatter\",\"xaxis\":\"x3\",\"yaxis\":\"y3\"},{\"legendgroup\":\"0\",\"line\":{\"color\":\"pink\"},\"name\":\"(10, 2)\",\"x\":[-8.0,-7.199999809265137,-6.400000095367432,-5.599999904632568,-4.800000190734863,-4.0,-3.1999998092651367,-2.3999998569488525,-1.5999999046325684,-0.7999998927116394,-1.1920928955078125e-07,0.7999998927116394,1.5999999046325684,2.3999998569488525,3.1999998092651367,4.0,4.800000190734863,5.599999904632568,6.400000095367432,7.199999809265137,8.0],\"y\":[0.18004286289215088,0.18223057687282562,0.1833672821521759,0.18308508396148682,0.18094876408576965,0.17646771669387817,0.16913650929927826,0.15854039788246155,0.144569993019104,0.12772102653980255,0.10924749076366425,0.0908314660191536,0.073880136013031,0.059082239866256714,0.04650835692882538,0.03593273460865021,0.027062535285949707,0.019627951085567474,0.013400271534919739,0.008187152445316315,0.003825414925813675],\"type\":\"scatter\",\"xaxis\":\"x4\",\"yaxis\":\"y4\"},{\"legendgroup\":\"1\",\"line\":{\"color\":\"darkviolet\"},\"name\":\"(10, 10)\",\"x\":[-8.0,-7.199999809265137,-6.400000095367432,-5.599999904632568,-4.800000190734863,-4.0,-3.1999998092651367,-2.3999998569488525,-1.5999999046325684,-0.7999998927116394,-1.1920928955078125e-07,0.7999998927116394,1.5999999046325684,2.3999998569488525,3.1999998092651367,4.0,4.800000190734863,5.599999904632568,6.400000095367432,7.199999809265137,8.0],\"y\":[0.2643277645111084,0.28282690048217773,0.3000953793525696,0.31519731879234314,0.3268216848373413,0.33344584703445435,0.333648145198822,0.3263903260231018,0.3111974895000458,0.28833284974098206,0.2590250074863434,0.2255549132823944,0.1908675581216812,0.1577300727367401,0.1280045211315155,0.10249054431915283,0.08120963722467422,0.0637727677822113,0.04964212700724602,0.0382709763944149,0.02916383370757103],\"type\":\"scatter\",\"xaxis\":\"x4\",\"yaxis\":\"y4\"},{\"legendgroup\":\"2\",\"line\":{\"color\":\"blue\"},\"name\":\"(11, 2)\",\"x\":[-8.0,-7.199999809265137,-6.400000095367432,-5.599999904632568,-4.800000190734863,-4.0,-3.1999998092651367,-2.3999998569488525,-1.5999999046325684,-0.7999998927116394,-1.1920928955078125e-07,0.7999998927116394,1.5999999046325684,2.3999998569488525,3.1999998092651367,4.0,4.800000190734863,5.599999904632568,6.400000095367432,7.199999809265137,8.0],\"y\":[0.3697490692138672,0.34074974060058594,0.3066989481449127,0.2673487663269043,0.22260020673274994,0.17264080047607422,0.11890920996665955,0.06637904047966003,0.02350795269012451,-0.004334211349487305,-0.018904581665992737,-0.024988092482089996,-0.02645036019384861,-0.02558809705078602,-0.02365048974752426,-0.021307669579982758,-0.018915250897407532,-0.01665361598134041,-0.01460440456867218,-0.012794160284101963,-0.011219880543649197],\"type\":\"scatter\",\"xaxis\":\"x4\",\"yaxis\":\"y4\"},{\"legendgroup\":\"0\",\"line\":{\"color\":\"pink\"},\"name\":\"(10, 2)\",\"x\":[-8.0,-7.199999809265137,-6.400000095367432,-5.599999904632568,-4.800000190734863,-4.0,-3.1999998092651367,-2.3999998569488525,-1.5999999046325684,-0.7999998927116394,-1.1920928955078125e-07,0.7999998927116394,1.5999999046325684,2.3999998569488525,3.1999998092651367,4.0,4.800000190734863,5.599999904632568,6.400000095367432,7.199999809265137,8.0],\"y\":[0.4281299114227295,0.43171247839927673,0.4364446699619293,0.44257694482803345,0.4504009783267975,0.46025046706199646,0.47248825430870056,0.48745012283325195,0.5052975416183472,0.5257622599601746,0.5479356646537781,0.5704097151756287,0.5918139219284058,0.6112774014472961,0.6284744143486023,0.6434192657470703,0.6562746167182922,0.6672532558441162,0.676578938961029,0.6844707131385803,0.6911349296569824],\"type\":\"scatter\",\"xaxis\":\"x5\",\"yaxis\":\"y5\"},{\"legendgroup\":\"1\",\"line\":{\"color\":\"darkviolet\"},\"name\":\"(10, 10)\",\"x\":[-8.0,-7.199999809265137,-6.400000095367432,-5.599999904632568,-4.800000190734863,-4.0,-3.1999998092651367,-2.3999998569488525,-1.5999999046325684,-0.7999998927116394,-1.1920928955078125e-07,0.7999998927116394,1.5999999046325684,2.3999998569488525,3.1999998092651367,4.0,4.800000190734863,5.599999904632568,6.400000095367432,7.199999809265137,8.0],\"y\":[0.34029650688171387,0.3507809340953827,0.3607885241508484,0.37065958976745605,0.380916029214859,0.3923426568508148,0.4059769809246063,0.4229442775249481,0.4441697299480438,0.47003036737442017,0.5000008940696716,0.5324516892433167,0.564863383769989,0.5945173501968384,0.6192477941513062,0.6378006935119629,0.6497675180435181,0.6553435325622559,0.6550965905189514,0.6497979164123535,0.6403060555458069],\"type\":\"scatter\",\"xaxis\":\"x5\",\"yaxis\":\"y5\"},{\"legendgroup\":\"2\",\"line\":{\"color\":\"blue\"},\"name\":\"(11, 2)\",\"x\":[-8.0,-7.199999809265137,-6.400000095367432,-5.599999904632568,-4.800000190734863,-4.0,-3.1999998092651367,-2.3999998569488525,-1.5999999046325684,-0.7999998927116394,-1.1920928955078125e-07,0.7999998927116394,1.5999999046325684,2.3999998569488525,3.1999998092651367,4.0,4.800000190734863,5.599999904632568,6.400000095367432,7.199999809265137,8.0],\"y\":[0.10849364846944809,0.13670490682125092,0.1726529449224472,0.21802666783332825,0.27447274327278137,0.3430102467536926,0.42270994186401367,0.5086884498596191,0.59172523021698,0.6626921892166138,0.7176753282546997,0.7577650547027588,0.7860598564147949,0.8056459426879883,0.818938672542572,0.8276711702346802,0.8330571055412292,0.8359514474868774,0.8369671106338501,0.836555004119873,0.8350556492805481],\"type\":\"scatter\",\"xaxis\":\"x5\",\"yaxis\":\"y5\"},{\"legendgroup\":\"0\",\"line\":{\"color\":\"pink\"},\"name\":\"(10, 2) \\u22a5 IO\",\"x\":[-8.0,-7.199999809265137,-6.400000095367432,-5.599999904632568,-4.800000190734863,-4.0,-3.1999998092651367,-2.3999998569488525,-1.5999999046325684,-0.7999998927116394,-1.1920928955078125e-07,0.7999998927116394,1.5999999046325684,2.3999998569488525,3.1999998092651367,4.0,4.800000190734863,5.599999904632568,6.400000095367432,7.199999809265137,8.0],\"y\":[0.32535749673843384,0.3234768211841583,0.3203049600124359,0.3154825270175934,0.3085605800151825,0.29898306727409363,0.28608939051628113,0.2691968083381653,0.24789662659168243,0.2226564735174179,0.19533829391002655,0.16865785419940948,0.14466643333435059,0.12400372326374054,0.10644203424453735,0.09157083928585052,0.07903927564620972,0.0685502216219902,0.059824585914611816,0.05259302258491516,0.04660434648394585],\"type\":\"scatter\",\"xaxis\":\"x6\",\"yaxis\":\"y6\"},{\"legendgroup\":\"1\",\"line\":{\"color\":\"darkviolet\"},\"name\":\"(10, 10) \\u22a5 IO\",\"x\":[-8.0,-7.199999809265137,-6.400000095367432,-5.599999904632568,-4.800000190734863,-4.0,-3.1999998092651367,-2.3999998569488525,-1.5999999046325684,-0.7999998927116394,-1.1920928955078125e-07,0.7999998927116394,1.5999999046325684,2.3999998569488525,3.1999998092651367,4.0,4.800000190734863,5.599999904632568,6.400000095367432,7.199999809265137,8.0],\"y\":[0.46882152557373047,0.4777235984802246,0.48365822434425354,0.4860021770000458,0.4840288758277893,0.47689324617385864,0.4636377990245819,0.44325724244117737,0.41489800810813904,0.37832093238830566,0.33468112349510193,0.2871371805667877,0.2401352971792221,0.19738054275512695,0.1605767011642456,0.12984143197536469,0.10459623485803604,0.08408986032009125,0.0675836056470871,0.05439867451786995,0.04392693191766739],\"type\":\"scatter\",\"xaxis\":\"x6\",\"yaxis\":\"y6\"},{\"legendgroup\":\"2\",\"line\":{\"color\":\"blue\"},\"name\":\"(11, 2) \\u22a5 IO\",\"x\":[-8.0,-7.199999809265137,-6.400000095367432,-5.599999904632568,-4.800000190734863,-4.0,-3.1999998092651367,-2.3999998569488525,-1.5999999046325684,-0.7999998927116394,-1.1920928955078125e-07,0.7999998927116394,1.5999999046325684,2.3999998569488525,3.1999998092651367,4.0,4.800000190734863,5.599999904632568,6.400000095367432,7.199999809265137,8.0],\"y\":[0.5631106495857239,0.5329565405845642,0.4965854585170746,0.4530581533908844,0.401643842458725,0.3423549234867096,0.27694931626319885,0.21005888283252716,0.1488678902387619,0.09977564215660095,0.06473464518785477,0.04156316816806793,0.026766611263155937,0.017393475398421288,0.011429212987422943,0.007600337266921997,0.005117559805512428,0.003490858944132924,0.002413623733446002,0.001692337216809392,0.0012038114946335554],\"type\":\"scatter\",\"xaxis\":\"x6\",\"yaxis\":\"y6\"},{\"legendgroup\":\"0\",\"line\":{\"color\":\"pink\"},\"name\":\"(10, 2) \\u22a5 IO\",\"x\":[-8.0,-7.199999809265137,-6.400000095367432,-5.599999904632568,-4.800000190734863,-4.0,-3.1999998092651367,-2.3999998569488525,-1.5999999046325684,-0.7999998927116394,-1.1920928955078125e-07,0.7999998927116394,1.5999999046325684,2.3999998569488525,3.1999998092651367,4.0,4.800000190734863,5.599999904632568,6.400000095367432,7.199999809265137,8.0],\"y\":[0.11773931235074997,0.11580653488636017,0.1136489287018776,0.11125101894140244,0.1086011677980423,0.10569262504577637,0.10251916944980621,0.09906138479709625,0.09525725990533829,0.09098019450902939,0.08609079569578171,0.0805889219045639,0.07470202445983887,0.06877507269382477,0.06310578435659409,0.057879626750946045,0.05318226292729378,0.04903048649430275,0.04539883881807327,0.04223935306072235,0.03949519991874695],\"type\":\"scatter\",\"xaxis\":\"x7\",\"yaxis\":\"y7\"},{\"legendgroup\":\"1\",\"line\":{\"color\":\"darkviolet\"},\"name\":\"(10, 10) \\u22a5 IO\",\"x\":[-8.0,-7.199999809265137,-6.400000095367432,-5.599999904632568,-4.800000190734863,-4.0,-3.1999998092651367,-2.3999998569488525,-1.5999999046325684,-0.7999998927116394,-1.1920928955078125e-07,0.7999998927116394,1.5999999046325684,2.3999998569488525,3.1999998092651367,4.0,4.800000190734863,5.599999904632568,6.400000095367432,7.199999809265137,8.0],\"y\":[0.09510950744152069,0.094702810049057,0.09399395436048508,0.09299656748771667,0.09172387421131134,0.09017851203680038,0.08833660185337067,0.08612750470638275,0.08341380208730698,0.07999172061681747,0.07565613836050034,0.07036375254392624,0.06437771767377853,0.05817140266299248,0.05216142535209656,0.04657260701060295,0.041480228304862976,0.036890909075737,0.03278939425945282,0.02915284037590027,0.025951385498046875],\"type\":\"scatter\",\"xaxis\":\"x7\",\"yaxis\":\"y7\"},{\"legendgroup\":\"2\",\"line\":{\"color\":\"blue\"},\"name\":\"(11, 2) \\u22a5 IO\",\"x\":[-8.0,-7.199999809265137,-6.400000095367432,-5.599999904632568,-4.800000190734863,-4.0,-3.1999998092651367,-2.3999998569488525,-1.5999999046325684,-0.7999998927116394,-1.1920928955078125e-07,0.7999998927116394,1.5999999046325684,2.3999998569488525,3.1999998092651367,4.0,4.800000190734863,5.599999904632568,6.400000095367432,7.199999809265137,8.0],\"y\":[0.26894640922546387,0.26553505659103394,0.2599577009677887,0.25141072273254395,0.23900380730628967,0.22191034257411957,0.199631005525589,0.17239877581596375,0.14177916944026947,0.11097618192434311,0.0836392268538475,0.061876989901065826,0.045751769095659256,0.03420087695121765,0.025974495336413383,0.020054472610354424,0.0157210323959589,0.01249214168637991,0.010047937743365765,0.008173043839633465,0.006718869786709547],\"type\":\"scatter\",\"xaxis\":\"x7\",\"yaxis\":\"y7\"},{\"legendgroup\":\"0\",\"line\":{\"color\":\"pink\"},\"name\":\"(10, 2) \\u22a5 IO\",\"x\":[-8.0,-7.199999809265137,-6.400000095367432,-5.599999904632568,-4.800000190734863,-4.0,-3.1999998092651367,-2.3999998569488525,-1.5999999046325684,-0.7999998927116394,-1.1920928955078125e-07,0.7999998927116394,1.5999999046325684,2.3999998569488525,3.1999998092651367,4.0,4.800000190734863,5.599999904632568,6.400000095367432,7.199999809265137,8.0],\"y\":[0.06372668594121933,0.061255063861608505,0.05859935283660889,0.055773455649614334,0.052799683064222336,0.04970673471689224,0.04652377590537071,0.04327194392681122,0.039959147572517395,0.03659556061029434,0.033236611634492874,0.03000705875456333,0.02704732120037079,0.02443721704185009,0.022183852270245552,0.020255470648407936,0.018610095605254173,0.0172071885317564,0.01601039618253708,0.014987713657319546,0.014111305586993694],\"type\":\"scatter\",\"xaxis\":\"x8\",\"yaxis\":\"y8\"},{\"legendgroup\":\"1\",\"line\":{\"color\":\"darkviolet\"},\"name\":\"(10, 10) \\u22a5 IO\",\"x\":[-8.0,-7.199999809265137,-6.400000095367432,-5.599999904632568,-4.800000190734863,-4.0,-3.1999998092651367,-2.3999998569488525,-1.5999999046325684,-0.7999998927116394,-1.1920928955078125e-07,0.7999998927116394,1.5999999046325684,2.3999998569488525,3.1999998092651367,4.0,4.800000190734863,5.599999904632568,6.400000095367432,7.199999809265137,8.0],\"y\":[0.012849951162934303,0.01252045389264822,0.012188884429633617,0.011867842637002468,0.011569447815418243,0.01130331214517355,0.011073393747210503,0.010873233899474144,0.010679533705115318,0.010447158478200436,0.010116302408277988,0.00964505597949028,0.00904875434935093,0.00839252769947052,0.007740566041320562,0.007126055657863617,0.006557420827448368,0.006033413112163544,0.0055516860447824,0.00511095579713583,0.004710345063358545],\"type\":\"scatter\",\"xaxis\":\"x8\",\"yaxis\":\"y8\"},{\"legendgroup\":\"2\",\"line\":{\"color\":\"blue\"},\"name\":\"(11, 2) \\u22a5 IO\",\"x\":[-8.0,-7.199999809265137,-6.400000095367432,-5.599999904632568,-4.800000190734863,-4.0,-3.1999998092651367,-2.3999998569488525,-1.5999999046325684,-0.7999998927116394,-1.1920928955078125e-07,0.7999998927116394,1.5999999046325684,2.3999998569488525,3.1999998092651367,4.0,4.800000190734863,5.599999904632568,6.400000095367432,7.199999809265137,8.0],\"y\":[0.0343976765871048,0.03600871190428734,0.037568069994449615,0.038961030542850494,0.04001230746507645,0.04044116660952568,0.03980827331542969,0.0375695638358593,0.03344200924038887,0.027901796624064445,0.02205309271812439,0.016869477927684784,0.012756739743053913,0.009679029695689678,0.007427067495882511,0.005780746694654226,0.004565016832202673,0.0036544296890497208,0.0029623580630868673,0.002429242944344878,0.0020136695820838213],\"type\":\"scatter\",\"xaxis\":\"x8\",\"yaxis\":\"y8\"},{\"legendgroup\":\"0\",\"line\":{\"color\":\"pink\"},\"name\":\"(10, 2) \\u22a5 IO\",\"x\":[-8.0,-7.199999809265137,-6.400000095367432,-5.599999904632568,-4.800000190734863,-4.0,-3.1999998092651367,-2.3999998569488525,-1.5999999046325684,-0.7999998927116394,-1.1920928955078125e-07,0.7999998927116394,1.5999999046325684,2.3999998569488525,3.1999998092651367,4.0,4.800000190734863,5.599999904632568,6.400000095367432,7.199999809265137,8.0],\"y\":[0.20761817693710327,0.20767028629779816,0.20665603876113892,0.20423150062561035,0.1999594122171402,0.19329044222831726,0.18357022106647491,0.17013542354106903,0.15263935923576355,0.13167628645896912,0.10924749821424484,0.08806893229484558,0.06996440887451172,0.05522865056991577,0.04333624988794327,0.03369121253490448,0.02585701271891594,0.019519735127687454,0.014425747096538544,0.01035366952419281,0.007109146565198898],\"type\":\"scatter\",\"xaxis\":\"x9\",\"yaxis\":\"y9\"},{\"legendgroup\":\"1\",\"line\":{\"color\":\"darkviolet\"},\"name\":\"(10, 10) \\u22a5 IO\",\"x\":[-8.0,-7.199999809265137,-6.400000095367432,-5.599999904632568,-4.800000190734863,-4.0,-3.1999998092651367,-2.3999998569488525,-1.5999999046325684,-0.7999998927116394,-1.1920928955078125e-07,0.7999998927116394,1.5999999046325684,2.3999998569488525,3.1999998092651367,4.0,4.800000190734863,5.599999904632568,6.400000095367432,7.199999809265137,8.0],\"y\":[0.3737120032310486,0.3830207884311676,0.38966426253318787,0.3930056095123291,0.39230501651763916,0.38671472668647766,0.37530118227005005,0.3571297526359558,0.33148419857025146,0.2983292043209076,0.259024977684021,0.21677342057228088,0.17575758695602417,0.13920913636684418,0.10841527581214905,0.08326882123947144,0.06311600655317307,0.04719895124435425,0.03479421138763428,0.02524583414196968,0.017975546419620514],\"type\":\"scatter\",\"xaxis\":\"x9\",\"yaxis\":\"y9\"},{\"legendgroup\":\"2\",\"line\":{\"color\":\"blue\"},\"name\":\"(11, 2) \\u22a5 IO\",\"x\":[-8.0,-7.199999809265137,-6.400000095367432,-5.599999904632568,-4.800000190734863,-4.0,-3.1999998092651367,-2.3999998569488525,-1.5999999046325684,-0.7999998927116394,-1.1920928955078125e-07,0.7999998927116394,1.5999999046325684,2.3999998569488525,3.1999998092651367,4.0,4.800000190734863,5.599999904632568,6.400000095367432,7.199999809265137,8.0],\"y\":[0.29416424036026,0.2674214839935303,0.2366277575492859,0.20164743065834045,0.1626400351524353,0.12044458091259003,0.07731831073760986,0.037660107016563416,0.007088720798492432,-0.011200539767742157,-0.018904581665992737,-0.020313821732997894,-0.01898515783250332,-0.016807401552796364,-0.01454528234899044,-0.012454135343432426,-0.010603472590446472,-0.009001282975077629,-0.007634313777089119,-0.0064807068556547165,-0.005515058524906635],\"type\":\"scatter\",\"xaxis\":\"x9\",\"yaxis\":\"y9\"},{\"legendgroup\":\"0\",\"line\":{\"color\":\"pink\"},\"name\":\"(10, 2) \\u22a5 IO\",\"x\":[-8.0,-7.199999809265137,-6.400000095367432,-5.599999904632568,-4.800000190734863,-4.0,-3.1999998092651367,-2.3999998569488525,-1.5999999046325684,-0.7999998927116394,-1.1920928955078125e-07,0.7999998927116394,1.5999999046325684,2.3999998569488525,3.1999998092651367,4.0,4.800000190734863,5.599999904632568,6.400000095367432,7.199999809265137,8.0],\"y\":[0.3827074468135834,0.3889647424221039,0.3965747058391571,0.4057968258857727,0.4169503152370453,0.4304371476173401,0.4467678666114807,0.4665431082248688,0.49027109146118164,0.5178541541099548,0.5479356646537781,0.578014075756073,0.6057146191596985,0.6298259496688843,0.6501551866531372,0.6669508218765259,0.6805791258811951,0.6914358139038086,0.6999255418777466,0.7064434885978699,0.7113547325134277],\"type\":\"scatter\",\"xaxis\":\"x10\",\"yaxis\":\"y10\"},{\"legendgroup\":\"1\",\"line\":{\"color\":\"darkviolet\"},\"name\":\"(10, 10) \\u22a5 IO\",\"x\":[-8.0,-7.199999809265137,-6.400000095367432,-5.599999904632568,-4.800000190734863,-4.0,-3.1999998092651367,-2.3999998569488525,-1.5999999046325684,-0.7999998927116394,-1.1920928955078125e-07,0.7999998927116394,1.5999999046325684,2.3999998569488525,3.1999998092651367,4.0,4.800000190734863,5.599999904632568,6.400000095367432,7.199999809265137,8.0],\"y\":[0.3025568127632141,0.3079647719860077,0.3145868480205536,0.32299908995628357,0.3339107632637024,0.3481709957122803,0.36675581336021423,0.39070141315460205,0.4209115505218506,0.4577040672302246,0.5000009536743164,0.544559121131897,0.58643639087677,0.6209955811500549,0.6455125212669373,0.6591537594795227,0.6622859835624695,0.6560018062591553,0.6418784260749817,0.6217679381370544,0.597557008266449],\"type\":\"scatter\",\"xaxis\":\"x10\",\"yaxis\":\"y10\"},{\"legendgroup\":\"2\",\"line\":{\"color\":\"blue\"},\"name\":\"(11, 2) \\u22a5 IO\",\"x\":[-8.0,-7.199999809265137,-6.400000095367432,-5.599999904632568,-4.800000190734863,-4.0,-3.1999998092651367,-2.3999998569488525,-1.5999999046325684,-0.7999998927116394,-1.1920928955078125e-07,0.7999998927116394,1.5999999046325684,2.3999998569488525,3.1999998092651367,4.0,4.800000190734863,5.599999904632568,6.400000095367432,7.199999809265137,8.0],\"y\":[0.1038142591714859,0.13048021495342255,0.1645192950963974,0.20766334235668182,0.261641263961792,0.3276127278804779,0.40508171916007996,0.49047327041625977,0.5765153169631958,0.6543267965316772,0.7176753282546997,0.7652298212051392,0.7991561889648438,0.8226962089538574,0.8387528657913208,0.8494974374771118,0.8564378619194031,0.8605990409851074,0.8626837730407715,0.8631855845451355,0.862463116645813],\"type\":\"scatter\",\"xaxis\":\"x10\",\"yaxis\":\"y10\"},{\"legendgroup\":\"0\",\"line\":{\"color\":\"pink\"},\"name\":\"(10, 2) \\u2225 IO\",\"x\":[-8.0,-7.199999809265137,-6.400000095367432,-5.599999904632568,-4.800000190734863,-4.0,-3.1999998092651367,-2.3999998569488525,-1.5999999046325684,-0.7999998927116394,-1.1920928955078125e-07,0.7999998927116394,1.5999999046325684,2.3999998569488525,3.1999998092651367,4.0,4.800000190734863,5.599999904632568,6.400000095367432,7.199999809265137,8.0],\"y\":[0.13581933081150055,0.14014486968517303,0.14483027160167694,0.14991754293441772,0.15543726086616516,0.1613968461751938,0.16776826977729797,0.17447952926158905,0.1814144104719162,0.18842247128486633,0.19533830881118774,0.20200347900390625,0.20828567445278168,0.21408887207508087,0.21935606002807617,0.22406445443630219,0.22821775078773499,0.2318383753299713,0.23495948314666748,0.23761999607086182,0.23986056447029114],\"type\":\"scatter\",\"xaxis\":\"x11\",\"yaxis\":\"y11\"},{\"legendgroup\":\"1\",\"line\":{\"color\":\"darkviolet\"},\"name\":\"(10, 10) \\u2225 IO\",\"x\":[-8.0,-7.199999809265137,-6.400000095367432,-5.599999904632568,-4.800000190734863,-4.0,-3.1999998092651367,-2.3999998569488525,-1.5999999046325684,-0.7999998927116394,-1.1920928955078125e-07,0.7999998927116394,1.5999999046325684,2.3999998569488525,3.1999998092651367,4.0,4.800000190734863,5.599999904632568,6.400000095367432,7.199999809265137,8.0],\"y\":[0.19419360160827637,0.20629720389842987,0.21886992454528809,0.23200111091136932,0.24576763808727264,0.26018810272216797,0.27517229318618774,0.29048973321914673,0.3057856559753418,0.32064536213874817,0.3346811830997467,0.3476022779941559,0.35924169421195984,0.3695453107357025,0.37854111194610596,0.3863065838813782,0.39294251799583435,0.39855724573135376,0.40325623750686646,0.4071381688117981,0.4102935791015625],\"type\":\"scatter\",\"xaxis\":\"x11\",\"yaxis\":\"y11\"},{\"legendgroup\":\"2\",\"line\":{\"color\":\"blue\"},\"name\":\"(11, 2) \\u2225 IO\",\"x\":[-8.0,-7.199999809265137,-6.400000095367432,-5.599999904632568,-4.800000190734863,-4.0,-3.1999998092651367,-2.3999998569488525,-1.5999999046325684,-0.7999998927116394,-1.1920928955078125e-07,0.7999998927116394,1.5999999046325684,2.3999998569488525,3.1999998092651367,4.0,4.800000190734863,5.599999904632568,6.400000095367432,7.199999809265137,8.0],\"y\":[0.06350085139274597,0.06345801055431366,0.06347113102674484,0.06353813409805298,0.06365394592285156,0.0638103112578392,0.06399572640657425,0.06419604271650314,0.06439566612243652,0.06457941979169846,0.06473464518785477,0.0648532584309578,0.0649329200387001,0.06497722119092941,0.06499452888965607,0.06499619036912918,0.06499456614255905,0.06500106304883957,0.0650252029299736,0.06507372111082077,0.06515075266361237],\"type\":\"scatter\",\"xaxis\":\"x11\",\"yaxis\":\"y11\"},{\"legendgroup\":\"0\",\"line\":{\"color\":\"pink\"},\"name\":\"(10, 2) \\u2225 IO\",\"x\":[-8.0,-7.199999809265137,-6.400000095367432,-5.599999904632568,-4.800000190734863,-4.0,-3.1999998092651367,-2.3999998569488525,-1.5999999046325684,-0.7999998927116394,-1.1920928955078125e-07,0.7999998927116394,1.5999999046325684,2.3999998569488525,3.1999998092651367,4.0,4.800000190734863,5.599999904632568,6.400000095367432,7.199999809265137,8.0],\"y\":[0.055937450379133224,0.05848389491438866,0.06114872172474861,0.06393368542194366,0.06683798134326935,0.06985680013895035,0.07297980040311813,0.07619009912014008,0.07946454733610153,0.08277492970228195,0.0860908031463623,0.08938240259885788,0.09262324124574661,0.09579149633646011,0.09887062758207321,0.10184913873672485,0.10471951961517334,0.10747756063938141,0.11012150347232819,0.11265118420124054,0.11506795883178711],\"type\":\"scatter\",\"xaxis\":\"x12\",\"yaxis\":\"y12\"},{\"legendgroup\":\"1\",\"line\":{\"color\":\"darkviolet\"},\"name\":\"(10, 10) \\u2225 IO\",\"x\":[-8.0,-7.199999809265137,-6.400000095367432,-5.599999904632568,-4.800000190734863,-4.0,-3.1999998092651367,-2.3999998569488525,-1.5999999046325684,-0.7999998927116394,-1.1920928955078125e-07,0.7999998927116394,1.5999999046325684,2.3999998569488525,3.1999998092651367,4.0,4.800000190734863,5.599999904632568,6.400000095367432,7.199999809265137,8.0],\"y\":[0.04184173047542572,0.044613536447286606,0.047498028725385666,0.05051076039671898,0.05366947129368782,0.05698909983038902,0.060475099831819534,0.06411754339933395,0.06788941472768784,0.07175064086914062,0.07565613836050034,0.07956420630216599,0.08344133198261261,0.0872635766863823,0.0910150334239006,0.094685398042202,0.09826808422803879,0.10175863653421402,0.10515399277210236,0.10845203697681427,0.11165141314268112],\"type\":\"scatter\",\"xaxis\":\"x12\",\"yaxis\":\"y12\"},{\"legendgroup\":\"2\",\"line\":{\"color\":\"blue\"},\"name\":\"(11, 2) \\u2225 IO\",\"x\":[-8.0,-7.199999809265137,-6.400000095367432,-5.599999904632568,-4.800000190734863,-4.0,-3.1999998092651367,-2.3999998569488525,-1.5999999046325684,-0.7999998927116394,-1.1920928955078125e-07,0.7999998927116394,1.5999999046325684,2.3999998569488525,3.1999998092651367,4.0,4.800000190734863,5.599999904632568,6.400000095367432,7.199999809265137,8.0],\"y\":[0.04570948705077171,0.04792162403464317,0.05037384107708931,0.053110599517822266,0.05618098005652428,0.05963529273867607,0.0635191798210144,0.06786566227674484,0.07268606126308441,0.07796170562505722,0.0836392268538475,0.08963184803724289,0.09582740813493729,0.10210118442773819,0.10833124071359634,0.11441121250391006,0.12025868892669678,0.12581808865070343,0.131058931350708,0.13597147166728973,0.14056114852428436],\"type\":\"scatter\",\"xaxis\":\"x12\",\"yaxis\":\"y12\"},{\"legendgroup\":\"0\",\"line\":{\"color\":\"pink\"},\"name\":\"(10, 2) \\u2225 IO\",\"x\":[-8.0,-7.199999809265137,-6.400000095367432,-5.599999904632568,-4.800000190734863,-4.0,-3.1999998092651367,-2.3999998569488525,-1.5999999046325684,-0.7999998927116394,-1.1920928955078125e-07,0.7999998927116394,1.5999999046325684,2.3999998569488525,3.1999998092651367,4.0,4.800000190734863,5.599999904632568,6.400000095367432,7.199999809265137,8.0],\"y\":[0.01925121247768402,0.020179349929094315,0.02118707075715065,0.02228364907205105,0.023479262366890907,0.024784525856375694,0.026209725067019463,0.02776358835399151,0.029452068731188774,0.031277209520339966,0.033236611634492874,0.03532351925969124,0.03752753883600235,0.03983562812209129,0.042233165353536606,0.04470493271946907,0.04723569378256798,0.049810741096735,0.05241626501083374,0.0550394244492054,0.05766860395669937],\"type\":\"scatter\",\"xaxis\":\"x13\",\"yaxis\":\"y13\"},{\"legendgroup\":\"1\",\"line\":{\"color\":\"darkviolet\"},\"name\":\"(10, 10) \\u2225 IO\",\"x\":[-8.0,-7.199999809265137,-6.400000095367432,-5.599999904632568,-4.800000190734863,-4.0,-3.1999998092651367,-2.3999998569488525,-1.5999999046325684,-0.7999998927116394,-1.1920928955078125e-07,0.7999998927116394,1.5999999046325684,2.3999998569488525,3.1999998092651367,4.0,4.800000190734863,5.599999904632568,6.400000095367432,7.199999809265137,8.0],\"y\":[0.005806479137390852,0.006107510533183813,0.006417396944016218,0.006741511169821024,0.007087305188179016,0.007464039605110884,0.007881859317421913,0.00835029873996973,0.008876683190464973,0.009465080685913563,0.010116303339600563,0.010828688740730286,0.011599135585129261,0.012423860840499401,0.013298705220222473,0.014219164848327637,0.01518031395971775,0.016176743432879448,0.017202595248818398,0.018251720815896988,0.019317781552672386],\"type\":\"scatter\",\"xaxis\":\"x13\",\"yaxis\":\"y13\"},{\"legendgroup\":\"2\",\"line\":{\"color\":\"blue\"},\"name\":\"(11, 2) \\u2225 IO\",\"x\":[-8.0,-7.199999809265137,-6.400000095367432,-5.599999904632568,-4.800000190734863,-4.0,-3.1999998092651367,-2.3999998569488525,-1.5999999046325684,-0.7999998927116394,-1.1920928955078125e-07,0.7999998927116394,1.5999999046325684,2.3999998569488525,3.1999998092651367,4.0,4.800000190734863,5.599999904632568,6.400000095367432,7.199999809265137,8.0],\"y\":[0.011203484609723091,0.01174962054938078,0.012372118420898914,0.013086199760437012,0.013909265398979187,0.01486013550311327,0.015957608819007874,0.01721823588013649,0.018653569743037224,0.020267296582460403,0.02205309458076954,0.02399398386478424,0.026063663884997368,0.028229592368006706,0.03045707941055298,0.03271329030394554,0.03497021272778511,0.03720638155937195,0.03940693661570549,0.04156306013464928,0.043670620769262314],\"type\":\"scatter\",\"xaxis\":\"x13\",\"yaxis\":\"y13\"},{\"legendgroup\":\"0\",\"line\":{\"color\":\"pink\"},\"name\":\"(10, 2) \\u2225 IO\",\"x\":[-8.0,-7.199999809265137,-6.400000095367432,-5.599999904632568,-4.800000190734863,-4.0,-3.1999998092651367,-2.3999998569488525,-1.5999999046325684,-0.7999998927116394,-1.1920928955078125e-07,0.7999998927116394,1.5999999046325684,2.3999998569488525,3.1999998092651367,4.0,4.800000190734863,5.599999904632568,6.400000095367432,7.199999809265137,8.0],\"y\":[0.07988187670707703,0.08166097104549408,0.08368155360221863,0.08598385751247406,0.08859927952289581,0.09154004603624344,0.09478846937417984,0.09828943014144897,0.10194986313581467,0.10564754158258438,0.10924750566482544,0.11262107640504837,0.11566243320703506,0.11829737573862076,0.12048543244600296,0.12221531569957733,0.12349823117256165,0.1243608146905899,0.1248379796743393,0.12496881186962128,0.12479260563850403],\"type\":\"scatter\",\"xaxis\":\"x14\",\"yaxis\":\"y14\"},{\"legendgroup\":\"1\",\"line\":{\"color\":\"darkviolet\"},\"name\":\"(10, 10) \\u2225 IO\",\"x\":[-8.0,-7.199999809265137,-6.400000095367432,-5.599999904632568,-4.800000190734863,-4.0,-3.1999998092651367,-2.3999998569488525,-1.5999999046325684,-0.7999998927116394,-1.1920928955078125e-07,0.7999998927116394,1.5999999046325684,2.3999998569488525,3.1999998092651367,4.0,4.800000190734863,5.599999904632568,6.400000095367432,7.199999809265137,8.0],\"y\":[0.15235187113285065,0.16168366372585297,0.17137189209461212,0.18149034678936005,0.19209817051887512,0.20319899916648865,0.2146971970796585,0.22637218236923218,0.23789623379707336,0.24889472126960754,0.25902503728866577,0.2680380642414093,0.27580034732818604,0.2822817265987396,0.28752607107162476,0.2916211783885956,0.29467442631721497,0.29679861664772034,0.2981022596359253,0.298686146736145,0.2986421585083008],\"type\":\"scatter\",\"xaxis\":\"x14\",\"yaxis\":\"y14\"},{\"legendgroup\":\"2\",\"line\":{\"color\":\"blue\"},\"name\":\"(11, 2) \\u2225 IO\",\"x\":[-8.0,-7.199999809265137,-6.400000095367432,-5.599999904632568,-4.800000190734863,-4.0,-3.1999998092651367,-2.3999998569488525,-1.5999999046325684,-0.7999998927116394,-1.1920928955078125e-07,0.7999998927116394,1.5999999046325684,2.3999998569488525,3.1999998092651367,4.0,4.800000190734863,5.599999904632568,6.400000095367432,7.199999809265137,8.0],\"y\":[0.01779136434197426,0.015536386519670486,0.013097289949655533,0.010427534580230713,0.007472965866327286,0.004175018519163132,0.00047654658555984497,-0.0036696195602416992,-0.008290395140647888,-0.013382285833358765,-0.018904581665992737,-0.024778589606285095,-0.030894488096237183,-0.03712396323680878,-0.04333671182394028,-0.049415022134780884,-0.055264122784137726,-0.06081702560186386,-0.0660337284207344,-0.07089775055646896,-0.075410395860672],\"type\":\"scatter\",\"xaxis\":\"x14\",\"yaxis\":\"y14\"},{\"legendgroup\":\"0\",\"line\":{\"color\":\"pink\"},\"name\":\"(10, 2) \\u2225 IO\",\"x\":[-8.0,-7.199999809265137,-6.400000095367432,-5.599999904632568,-4.800000190734863,-4.0,-3.1999998092651367,-2.3999998569488525,-1.5999999046325684,-0.7999998927116394,-1.1920928955078125e-07,0.7999998927116394,1.5999999046325684,2.3999998569488525,3.1999998092651367,4.0,4.800000190734863,5.599999904632568,6.400000095367432,7.199999809265137,8.0],\"y\":[0.6032389998435974,0.6006694436073303,0.5974632501602173,0.5935727953910828,0.5889605283737183,0.5836101174354553,0.577538788318634,0.5708081126213074,0.5635267496109009,0.5558447241783142,0.5479356050491333,0.5399764776229858,0.5321270823478699,0.5245170593261719,0.5172412991523743,0.510360062122345,0.5039056539535522,0.49788856506347656,0.4923050105571747,0.48714113235473633,0.48237720131874084],\"type\":\"scatter\",\"xaxis\":\"x15\",\"yaxis\":\"y15\"},{\"legendgroup\":\"1\",\"line\":{\"color\":\"darkviolet\"},\"name\":\"(10, 10) \\u2225 IO\",\"x\":[-8.0,-7.199999809265137,-6.400000095367432,-5.599999904632568,-4.800000190734863,-4.0,-3.1999998092651367,-2.3999998569488525,-1.5999999046325684,-0.7999998927116394,-1.1920928955078125e-07,0.7999998927116394,1.5999999046325684,2.3999998569488525,3.1999998092651367,4.0,4.800000190734863,5.599999904632568,6.400000095367432,7.199999809265137,8.0],\"y\":[0.5705932974815369,0.5724691152572632,0.5720515847206116,0.5693212747573853,0.5643071532249451,0.5571120977401733,0.5479486584663391,0.5371650457382202,0.5252304077148438,0.51267409324646,0.5000008940696716,0.48761987686157227,0.47581273317337036,0.4647402763366699,0.45447030663490295,0.445009708404541,0.43633031845092773,0.4283863604068756,0.4211258590221405,0.4144958555698395,0.4084451198577881],\"type\":\"scatter\",\"xaxis\":\"x15\",\"yaxis\":\"y15\"},{\"legendgroup\":\"2\",\"line\":{\"color\":\"blue\"},\"name\":\"(11, 2) \\u2225 IO\",\"x\":[-8.0,-7.199999809265137,-6.400000095367432,-5.599999904632568,-4.800000190734863,-4.0,-3.1999998092651367,-2.3999998569488525,-1.5999999046325684,-0.7999998927116394,-1.1920928955078125e-07,0.7999998927116394,1.5999999046325684,2.3999998569488525,3.1999998092651367,4.0,4.800000190734863,5.599999904632568,6.400000095367432,7.199999809265137,8.0],\"y\":[0.7674228549003601,0.7655272483825684,0.7630094289779663,0.7598313689231873,0.7559564113616943,0.7513529658317566,0.7460024356842041,0.7399076819419861,0.733102023601532,0.7256554365158081,0.7176753878593445,0.7093003392219543,0.7006871104240417,0.6919939517974854,0.6833636164665222,0.6749109625816345,0.6667179465293884,0.6588334441184998,0.6512783169746399,0.644053041934967,0.6371442079544067],\"type\":\"scatter\",\"xaxis\":\"x15\",\"yaxis\":\"y15\"}],                        {\"template\":{\"data\":{\"histogram2dcontour\":[{\"type\":\"histogram2dcontour\",\"colorbar\":{\"outlinewidth\":0,\"ticks\":\"\"},\"colorscale\":[[0.0,\"#0d0887\"],[0.1111111111111111,\"#46039f\"],[0.2222222222222222,\"#7201a8\"],[0.3333333333333333,\"#9c179e\"],[0.4444444444444444,\"#bd3786\"],[0.5555555555555556,\"#d8576b\"],[0.6666666666666666,\"#ed7953\"],[0.7777777777777778,\"#fb9f3a\"],[0.8888888888888888,\"#fdca26\"],[1.0,\"#f0f921\"]]}],\"choropleth\":[{\"type\":\"choropleth\",\"colorbar\":{\"outlinewidth\":0,\"ticks\":\"\"}}],\"histogram2d\":[{\"type\":\"histogram2d\",\"colorbar\":{\"outlinewidth\":0,\"ticks\":\"\"},\"colorscale\":[[0.0,\"#0d0887\"],[0.1111111111111111,\"#46039f\"],[0.2222222222222222,\"#7201a8\"],[0.3333333333333333,\"#9c179e\"],[0.4444444444444444,\"#bd3786\"],[0.5555555555555556,\"#d8576b\"],[0.6666666666666666,\"#ed7953\"],[0.7777777777777778,\"#fb9f3a\"],[0.8888888888888888,\"#fdca26\"],[1.0,\"#f0f921\"]]}],\"heatmap\":[{\"type\":\"heatmap\",\"colorbar\":{\"outlinewidth\":0,\"ticks\":\"\"},\"colorscale\":[[0.0,\"#0d0887\"],[0.1111111111111111,\"#46039f\"],[0.2222222222222222,\"#7201a8\"],[0.3333333333333333,\"#9c179e\"],[0.4444444444444444,\"#bd3786\"],[0.5555555555555556,\"#d8576b\"],[0.6666666666666666,\"#ed7953\"],[0.7777777777777778,\"#fb9f3a\"],[0.8888888888888888,\"#fdca26\"],[1.0,\"#f0f921\"]]}],\"heatmapgl\":[{\"type\":\"heatmapgl\",\"colorbar\":{\"outlinewidth\":0,\"ticks\":\"\"},\"colorscale\":[[0.0,\"#0d0887\"],[0.1111111111111111,\"#46039f\"],[0.2222222222222222,\"#7201a8\"],[0.3333333333333333,\"#9c179e\"],[0.4444444444444444,\"#bd3786\"],[0.5555555555555556,\"#d8576b\"],[0.6666666666666666,\"#ed7953\"],[0.7777777777777778,\"#fb9f3a\"],[0.8888888888888888,\"#fdca26\"],[1.0,\"#f0f921\"]]}],\"contourcarpet\":[{\"type\":\"contourcarpet\",\"colorbar\":{\"outlinewidth\":0,\"ticks\":\"\"}}],\"contour\":[{\"type\":\"contour\",\"colorbar\":{\"outlinewidth\":0,\"ticks\":\"\"},\"colorscale\":[[0.0,\"#0d0887\"],[0.1111111111111111,\"#46039f\"],[0.2222222222222222,\"#7201a8\"],[0.3333333333333333,\"#9c179e\"],[0.4444444444444444,\"#bd3786\"],[0.5555555555555556,\"#d8576b\"],[0.6666666666666666,\"#ed7953\"],[0.7777777777777778,\"#fb9f3a\"],[0.8888888888888888,\"#fdca26\"],[1.0,\"#f0f921\"]]}],\"surface\":[{\"type\":\"surface\",\"colorbar\":{\"outlinewidth\":0,\"ticks\":\"\"},\"colorscale\":[[0.0,\"#0d0887\"],[0.1111111111111111,\"#46039f\"],[0.2222222222222222,\"#7201a8\"],[0.3333333333333333,\"#9c179e\"],[0.4444444444444444,\"#bd3786\"],[0.5555555555555556,\"#d8576b\"],[0.6666666666666666,\"#ed7953\"],[0.7777777777777778,\"#fb9f3a\"],[0.8888888888888888,\"#fdca26\"],[1.0,\"#f0f921\"]]}],\"mesh3d\":[{\"type\":\"mesh3d\",\"colorbar\":{\"outlinewidth\":0,\"ticks\":\"\"}}],\"scatter\":[{\"fillpattern\":{\"fillmode\":\"overlay\",\"size\":10,\"solidity\":0.2},\"type\":\"scatter\"}],\"parcoords\":[{\"type\":\"parcoords\",\"line\":{\"colorbar\":{\"outlinewidth\":0,\"ticks\":\"\"}}}],\"scatterpolargl\":[{\"type\":\"scatterpolargl\",\"marker\":{\"colorbar\":{\"outlinewidth\":0,\"ticks\":\"\"}}}],\"bar\":[{\"error_x\":{\"color\":\"#2a3f5f\"},\"error_y\":{\"color\":\"#2a3f5f\"},\"marker\":{\"line\":{\"color\":\"#E5ECF6\",\"width\":0.5},\"pattern\":{\"fillmode\":\"overlay\",\"size\":10,\"solidity\":0.2}},\"type\":\"bar\"}],\"scattergeo\":[{\"type\":\"scattergeo\",\"marker\":{\"colorbar\":{\"outlinewidth\":0,\"ticks\":\"\"}}}],\"scatterpolar\":[{\"type\":\"scatterpolar\",\"marker\":{\"colorbar\":{\"outlinewidth\":0,\"ticks\":\"\"}}}],\"histogram\":[{\"marker\":{\"pattern\":{\"fillmode\":\"overlay\",\"size\":10,\"solidity\":0.2}},\"type\":\"histogram\"}],\"scattergl\":[{\"type\":\"scattergl\",\"marker\":{\"colorbar\":{\"outlinewidth\":0,\"ticks\":\"\"}}}],\"scatter3d\":[{\"type\":\"scatter3d\",\"line\":{\"colorbar\":{\"outlinewidth\":0,\"ticks\":\"\"}},\"marker\":{\"colorbar\":{\"outlinewidth\":0,\"ticks\":\"\"}}}],\"scattermapbox\":[{\"type\":\"scattermapbox\",\"marker\":{\"colorbar\":{\"outlinewidth\":0,\"ticks\":\"\"}}}],\"scatterternary\":[{\"type\":\"scatterternary\",\"marker\":{\"colorbar\":{\"outlinewidth\":0,\"ticks\":\"\"}}}],\"scattercarpet\":[{\"type\":\"scattercarpet\",\"marker\":{\"colorbar\":{\"outlinewidth\":0,\"ticks\":\"\"}}}],\"carpet\":[{\"aaxis\":{\"endlinecolor\":\"#2a3f5f\",\"gridcolor\":\"white\",\"linecolor\":\"white\",\"minorgridcolor\":\"white\",\"startlinecolor\":\"#2a3f5f\"},\"baxis\":{\"endlinecolor\":\"#2a3f5f\",\"gridcolor\":\"white\",\"linecolor\":\"white\",\"minorgridcolor\":\"white\",\"startlinecolor\":\"#2a3f5f\"},\"type\":\"carpet\"}],\"table\":[{\"cells\":{\"fill\":{\"color\":\"#EBF0F8\"},\"line\":{\"color\":\"white\"}},\"header\":{\"fill\":{\"color\":\"#C8D4E3\"},\"line\":{\"color\":\"white\"}},\"type\":\"table\"}],\"barpolar\":[{\"marker\":{\"line\":{\"color\":\"#E5ECF6\",\"width\":0.5},\"pattern\":{\"fillmode\":\"overlay\",\"size\":10,\"solidity\":0.2}},\"type\":\"barpolar\"}],\"pie\":[{\"automargin\":true,\"type\":\"pie\"}]},\"layout\":{\"autotypenumbers\":\"strict\",\"colorway\":[\"#636efa\",\"#EF553B\",\"#00cc96\",\"#ab63fa\",\"#FFA15A\",\"#19d3f3\",\"#FF6692\",\"#B6E880\",\"#FF97FF\",\"#FECB52\"],\"font\":{\"color\":\"#2a3f5f\"},\"hovermode\":\"closest\",\"hoverlabel\":{\"align\":\"left\"},\"paper_bgcolor\":\"white\",\"plot_bgcolor\":\"#E5ECF6\",\"polar\":{\"bgcolor\":\"#E5ECF6\",\"angularaxis\":{\"gridcolor\":\"white\",\"linecolor\":\"white\",\"ticks\":\"\"},\"radialaxis\":{\"gridcolor\":\"white\",\"linecolor\":\"white\",\"ticks\":\"\"}},\"ternary\":{\"bgcolor\":\"#E5ECF6\",\"aaxis\":{\"gridcolor\":\"white\",\"linecolor\":\"white\",\"ticks\":\"\"},\"baxis\":{\"gridcolor\":\"white\",\"linecolor\":\"white\",\"ticks\":\"\"},\"caxis\":{\"gridcolor\":\"white\",\"linecolor\":\"white\",\"ticks\":\"\"}},\"coloraxis\":{\"colorbar\":{\"outlinewidth\":0,\"ticks\":\"\"}},\"colorscale\":{\"sequential\":[[0.0,\"#0d0887\"],[0.1111111111111111,\"#46039f\"],[0.2222222222222222,\"#7201a8\"],[0.3333333333333333,\"#9c179e\"],[0.4444444444444444,\"#bd3786\"],[0.5555555555555556,\"#d8576b\"],[0.6666666666666666,\"#ed7953\"],[0.7777777777777778,\"#fb9f3a\"],[0.8888888888888888,\"#fdca26\"],[1.0,\"#f0f921\"]],\"sequentialminus\":[[0.0,\"#0d0887\"],[0.1111111111111111,\"#46039f\"],[0.2222222222222222,\"#7201a8\"],[0.3333333333333333,\"#9c179e\"],[0.4444444444444444,\"#bd3786\"],[0.5555555555555556,\"#d8576b\"],[0.6666666666666666,\"#ed7953\"],[0.7777777777777778,\"#fb9f3a\"],[0.8888888888888888,\"#fdca26\"],[1.0,\"#f0f921\"]],\"diverging\":[[0,\"#8e0152\"],[0.1,\"#c51b7d\"],[0.2,\"#de77ae\"],[0.3,\"#f1b6da\"],[0.4,\"#fde0ef\"],[0.5,\"#f7f7f7\"],[0.6,\"#e6f5d0\"],[0.7,\"#b8e186\"],[0.8,\"#7fbc41\"],[0.9,\"#4d9221\"],[1,\"#276419\"]]},\"xaxis\":{\"gridcolor\":\"white\",\"linecolor\":\"white\",\"ticks\":\"\",\"title\":{\"standoff\":15},\"zerolinecolor\":\"white\",\"automargin\":true,\"zerolinewidth\":2},\"yaxis\":{\"gridcolor\":\"white\",\"linecolor\":\"white\",\"ticks\":\"\",\"title\":{\"standoff\":15},\"zerolinecolor\":\"white\",\"automargin\":true,\"zerolinewidth\":2},\"scene\":{\"xaxis\":{\"backgroundcolor\":\"#E5ECF6\",\"gridcolor\":\"white\",\"linecolor\":\"white\",\"showbackground\":true,\"ticks\":\"\",\"zerolinecolor\":\"white\",\"gridwidth\":2},\"yaxis\":{\"backgroundcolor\":\"#E5ECF6\",\"gridcolor\":\"white\",\"linecolor\":\"white\",\"showbackground\":true,\"ticks\":\"\",\"zerolinecolor\":\"white\",\"gridwidth\":2},\"zaxis\":{\"backgroundcolor\":\"#E5ECF6\",\"gridcolor\":\"white\",\"linecolor\":\"white\",\"showbackground\":true,\"ticks\":\"\",\"zerolinecolor\":\"white\",\"gridwidth\":2}},\"shapedefaults\":{\"line\":{\"color\":\"#2a3f5f\"}},\"annotationdefaults\":{\"arrowcolor\":\"#2a3f5f\",\"arrowhead\":0,\"arrowwidth\":1},\"geo\":{\"bgcolor\":\"white\",\"landcolor\":\"#E5ECF6\",\"subunitcolor\":\"white\",\"showland\":true,\"showlakes\":true,\"lakecolor\":\"white\"},\"title\":{\"x\":0.05},\"mapbox\":{\"style\":\"light\"}}},\"xaxis\":{\"anchor\":\"y\",\"domain\":[0.0,0.16799999999999998],\"title\":{\"text\":\"Added Scaled (10, 0) Output\"}},\"yaxis\":{\"anchor\":\"x\",\"domain\":[0.7777777777777778,1.0],\"title\":{\"text\":\"Attn Probs on token\"}},\"xaxis2\":{\"anchor\":\"y2\",\"domain\":[0.208,0.376],\"title\":{\"text\":\"Added Scaled (10, 0) Output\"}},\"yaxis2\":{\"anchor\":\"x2\",\"domain\":[0.7777777777777778,1.0],\"matches\":\"y\",\"showticklabels\":false,\"title\":{\"text\":\"Attn Probs on token\"}},\"xaxis3\":{\"anchor\":\"y3\",\"domain\":[0.416,0.584],\"title\":{\"text\":\"Added Scaled (10, 0) Output\"}},\"yaxis3\":{\"anchor\":\"x3\",\"domain\":[0.7777777777777778,1.0],\"matches\":\"y\",\"showticklabels\":false,\"title\":{\"text\":\"Attn Probs on token\"}},\"xaxis4\":{\"anchor\":\"y4\",\"domain\":[0.624,0.792],\"title\":{\"text\":\"Added Scaled (10, 0) Output\"}},\"yaxis4\":{\"anchor\":\"x4\",\"domain\":[0.7777777777777778,1.0],\"matches\":\"y\",\"showticklabels\":false,\"title\":{\"text\":\"Attn Probs on token\"}},\"xaxis5\":{\"anchor\":\"y5\",\"domain\":[0.832,1.0],\"title\":{\"text\":\"Added Scaled (10, 0) Output\"}},\"yaxis5\":{\"anchor\":\"x5\",\"domain\":[0.7777777777777778,1.0],\"matches\":\"y\",\"showticklabels\":false,\"title\":{\"text\":\"Attn Probs on token\"}},\"xaxis6\":{\"anchor\":\"y6\",\"domain\":[0.0,0.16799999999999998],\"title\":{\"text\":\"Added Scaled (10, 0) \\u22a5 IO \"}},\"yaxis6\":{\"anchor\":\"x6\",\"domain\":[0.3888888888888889,0.6111111111111112],\"title\":{\"text\":\"Attn Probs on token\"}},\"xaxis7\":{\"anchor\":\"y7\",\"domain\":[0.208,0.376],\"title\":{\"text\":\"Added Scaled (10, 0) \\u22a5 IO \"}},\"yaxis7\":{\"anchor\":\"x7\",\"domain\":[0.3888888888888889,0.6111111111111112],\"matches\":\"y6\",\"showticklabels\":false,\"title\":{\"text\":\"Attn Probs on token\"}},\"xaxis8\":{\"anchor\":\"y8\",\"domain\":[0.416,0.584],\"title\":{\"text\":\"Added Scaled (10, 0) \\u22a5 IO \"}},\"yaxis8\":{\"anchor\":\"x8\",\"domain\":[0.3888888888888889,0.6111111111111112],\"matches\":\"y6\",\"showticklabels\":false,\"title\":{\"text\":\"Attn Probs on token\"}},\"xaxis9\":{\"anchor\":\"y9\",\"domain\":[0.624,0.792],\"title\":{\"text\":\"Added Scaled (10, 0) \\u22a5 IO \"}},\"yaxis9\":{\"anchor\":\"x9\",\"domain\":[0.3888888888888889,0.6111111111111112],\"matches\":\"y6\",\"showticklabels\":false,\"title\":{\"text\":\"Attn Probs on token\"}},\"xaxis10\":{\"anchor\":\"y10\",\"domain\":[0.832,1.0],\"title\":{\"text\":\"Added Scaled (10, 0) \\u22a5 IO \"}},\"yaxis10\":{\"anchor\":\"x10\",\"domain\":[0.3888888888888889,0.6111111111111112],\"matches\":\"y6\",\"showticklabels\":false,\"title\":{\"text\":\"Attn Probs on token\"}},\"xaxis11\":{\"anchor\":\"y11\",\"domain\":[0.0,0.16799999999999998],\"title\":{\"text\":\"Added Scaled (10, 0) \\u2225 IO \"}},\"yaxis11\":{\"anchor\":\"x11\",\"domain\":[0.0,0.22222222222222224],\"title\":{\"text\":\"Attn Probs on token\"}},\"xaxis12\":{\"anchor\":\"y12\",\"domain\":[0.208,0.376],\"title\":{\"text\":\"Added Scaled (10, 0) \\u2225 IO \"}},\"yaxis12\":{\"anchor\":\"x12\",\"domain\":[0.0,0.22222222222222224],\"matches\":\"y11\",\"showticklabels\":false,\"title\":{\"text\":\"Attn Probs on token\"}},\"xaxis13\":{\"anchor\":\"y13\",\"domain\":[0.416,0.584],\"title\":{\"text\":\"Added Scaled (10, 0) \\u2225 IO \"}},\"yaxis13\":{\"anchor\":\"x13\",\"domain\":[0.0,0.22222222222222224],\"matches\":\"y11\",\"showticklabels\":false,\"title\":{\"text\":\"Attn Probs on token\"}},\"xaxis14\":{\"anchor\":\"y14\",\"domain\":[0.624,0.792],\"title\":{\"text\":\"Added Scaled (10, 0) \\u2225 IO \"}},\"yaxis14\":{\"anchor\":\"x14\",\"domain\":[0.0,0.22222222222222224],\"matches\":\"y11\",\"showticklabels\":false,\"title\":{\"text\":\"Attn Probs on token\"}},\"xaxis15\":{\"anchor\":\"y15\",\"domain\":[0.832,1.0],\"title\":{\"text\":\"Added Scaled (10, 0) \\u2225 IO \"}},\"yaxis15\":{\"anchor\":\"x15\",\"domain\":[0.0,0.22222222222222224],\"matches\":\"y11\",\"showticklabels\":false,\"title\":{\"text\":\"Attn Probs on token\"}},\"annotations\":[{\"font\":{\"size\":16},\"showarrow\":false,\"text\":\"IO\",\"x\":0.08399999999999999,\"xanchor\":\"center\",\"xref\":\"paper\",\"y\":1.0,\"yanchor\":\"bottom\",\"yref\":\"paper\"},{\"font\":{\"size\":16},\"showarrow\":false,\"text\":\"S1\",\"x\":0.292,\"xanchor\":\"center\",\"xref\":\"paper\",\"y\":1.0,\"yanchor\":\"bottom\",\"yref\":\"paper\"},{\"font\":{\"size\":16},\"showarrow\":false,\"text\":\"S2\",\"x\":0.5,\"xanchor\":\"center\",\"xref\":\"paper\",\"y\":1.0,\"yanchor\":\"bottom\",\"yref\":\"paper\"},{\"font\":{\"size\":16},\"showarrow\":false,\"text\":\"IO - S1\",\"x\":0.708,\"xanchor\":\"center\",\"xref\":\"paper\",\"y\":1.0,\"yanchor\":\"bottom\",\"yref\":\"paper\"},{\"font\":{\"size\":16},\"showarrow\":false,\"text\":\"BOS\",\"x\":0.9159999999999999,\"xanchor\":\"center\",\"xref\":\"paper\",\"y\":1.0,\"yanchor\":\"bottom\",\"yref\":\"paper\"}],\"height\":900,\"title\":{\"text\":\"Adding Directions to key_backup | scores = False | freeze_ln = False\"}},                        {\"responsive\": true}                    ).then(function(){\n",
       "                            \n",
       "var gd = document.getElementById('61c7b7bd-c312-4c23-8320-6fb3f2cca42d');\n",
       "var x = new MutationObserver(function (mutations, observer) {{\n",
       "        var display = window.getComputedStyle(gd).display;\n",
       "        if (!display || display === 'none') {{\n",
       "            console.log([gd, 'removed!']);\n",
       "            Plotly.purge(gd);\n",
       "            observer.disconnect();\n",
       "        }}\n",
       "}});\n",
       "\n",
       "// Listen for the removal of the full notebook cells\n",
       "var notebookContainer = gd.closest('#notebook-container');\n",
       "if (notebookContainer) {{\n",
       "    x.observe(notebookContainer, {childList: true});\n",
       "}}\n",
       "\n",
       "// Listen for the clearing of the current output cell\n",
       "var outputEl = gd.closest('.output');\n",
       "if (outputEl) {{\n",
       "    x.observe(outputEl, {childList: true});\n",
       "}}\n",
       "\n",
       "                        })                };                });            </script>        </div>"
      ]
     },
     "metadata": {},
     "output_type": "display_data"
    }
   ],
   "source": [
    "display_attn_scores(\"key_backup\", scores = False, freeze_ln = False, head=(10, 0))"
   ]
  },
  {
   "cell_type": "code",
   "execution_count": 193,
   "metadata": {},
   "outputs": [
    {
     "data": {
      "text/plain": [
       "dict_keys(['111backup(9, 9)', '111NMH(9, 9)', '111negative(9, 9)', '110backup(9, 9)', '110NMH(9, 9)', '110negative(9, 9)', '011backup(9, 9)', '011NMH(9, 9)', '011negative(9, 9)', '010backup(9, 9)', '010NMH(9, 9)', '010negative(9, 9)', '111backup(9, 6)', '111NMH(9, 6)', '111negative(9, 6)', '110backup(9, 6)', '110NMH(9, 6)', '110negative(9, 6)', '011backup(9, 6)', '011NMH(9, 6)', '011negative(9, 6)', '010backup(9, 6)', '010NMH(9, 6)', '010negative(9, 6)', '111backup(10, 0)', '111NMH(10, 0)', '111negative(10, 0)', '110backup(10, 0)', '110NMH(10, 0)', '110negative(10, 0)', '011backup(10, 0)', '011NMH(10, 0)', '011negative(10, 0)', '010backup(10, 0)', '010NMH(10, 0)', '010negative(10, 0)', '111key_backup(9, 9)', '110key_backup(9, 9)', '011key_backup(9, 9)', '010key_backup(9, 9)', '111key_backup(9, 6)', '110key_backup(9, 6)', '011key_backup(9, 6)', '010key_backup(9, 6)', '111key_backup(10, 0)', '110key_backup(10, 0)', '011key_backup(10, 0)', '010key_backup(10, 0)'])"
      ]
     },
     "execution_count": 193,
     "metadata": {},
     "output_type": "execute_result"
    }
   ],
   "source": [
    "results_storage.keys()"
   ]
  },
  {
   "cell_type": "code",
   "execution_count": 196,
   "metadata": {},
   "outputs": [],
   "source": [
    "with open('saved_dictionary.pkl', 'wb') as f:\n",
    "    pickle.dump(results_storage, f)"
   ]
  },
  {
   "cell_type": "markdown",
   "metadata": {},
   "source": [
    "# Backup Circutry"
   ]
  },
  {
   "cell_type": "code",
   "execution_count": 128,
   "metadata": {},
   "outputs": [
    {
     "data": {
      "application/vnd.plotly.v1+json": {
       "config": {
        "plotlyServerURL": "https://plot.ly"
       },
       "data": [
        {
         "coloraxis": "coloraxis",
         "hovertemplate": "x: %{x}<br>y: %{y}<br>color: %{z}<extra></extra>",
         "name": "0",
         "type": "heatmap",
         "xaxis": "x",
         "yaxis": "y",
         "z": [
          [
           0,
           0,
           0,
           0,
           0,
           0,
           0,
           0,
           0,
           0,
           0,
           0
          ],
          [
           0,
           0,
           0,
           0,
           0,
           0,
           0.06896551698446274,
           0.13793103396892548,
           0,
           0,
           0,
           0
          ],
          [
           0,
           0.24137930572032928,
           0,
           0,
           0,
           0,
           0,
           0,
           0,
           0.03448275849223137,
           0,
           0
          ],
          [
           0,
           0,
           0,
           0,
           0,
           0,
           0,
           0,
           0,
           0,
           0,
           0
          ],
          [
           0,
           0,
           0,
           0,
           0,
           0,
           0,
           0,
           0,
           0,
           0,
           0
          ],
          [
           0.03448275849223137,
           0.8275861740112305,
           0,
           0,
           0,
           0.13793103396892548,
           0,
           0,
           0,
           0,
           0,
           0
          ],
          [
           0.03448275849223137,
           0,
           0,
           0,
           0.5862069129943848,
           0,
           0,
           0.03448275849223137,
           0,
           0.9655172228813171,
           0,
           0
          ],
          [
           0,
           0.41379308700561523,
           1,
           0,
           0,
           0.03448275849223137,
           0,
           0.03448275849223137,
           0.13793103396892548,
           0,
           1,
           0.06896551698446274
          ],
          [
           0,
           0.7586206793785095,
           0,
           0,
           0,
           0,
           0.10344827175140381,
           0,
           0.37931033968925476,
           0,
           0,
           1
          ],
          [
           0.41379308700561523,
           0,
           0.24137930572032928,
           0,
           0,
           0,
           0.931034505367279,
           0,
           0.5862069129943848,
           1,
           0,
           0.03448275849223137
          ],
          [
           0.8620689511299133,
           0.3448275923728943,
           1,
           0.06896551698446274,
           0,
           0,
           0.6206896305084229,
           0,
           0,
           0,
           0.6551724076271057,
           0.03448275849223137
          ],
          [
           0,
           0.6206896305084229,
           0.931034505367279,
           0.3103448152542114,
           0,
           0,
           0.7241379022598267,
           0,
           0,
           0.17241379618644714,
           0,
           0.27586206793785095
          ]
         ]
        },
        {
         "coloraxis": "coloraxis",
         "hovertemplate": "x: %{x}<br>y: %{y}<br>color: %{z}<extra></extra>",
         "name": "1",
         "type": "heatmap",
         "xaxis": "x2",
         "yaxis": "y2",
         "z": [
          [
           0,
           0,
           0,
           0,
           0,
           0,
           0,
           0,
           0,
           0,
           0,
           0
          ],
          [
           0,
           0,
           0,
           0,
           0,
           0.03448275849223137,
           0,
           0,
           0,
           0.03448275849223137,
           0,
           0
          ],
          [
           0,
           0,
           0,
           0,
           0,
           0,
           0,
           0,
           0,
           0,
           0,
           0
          ],
          [
           0,
           0,
           0,
           0,
           0,
           0,
           0,
           0,
           0,
           0,
           0,
           0
          ],
          [
           0,
           0,
           0,
           0,
           0.13793103396892548,
           0,
           0,
           0,
           0,
           0,
           0,
           0
          ],
          [
           0,
           0,
           0,
           0,
           0,
           0,
           0,
           0,
           0,
           0,
           0,
           0.13793103396892548
          ],
          [
           0,
           0,
           0,
           0,
           0,
           0,
           0.17241379618644714,
           0,
           0,
           0,
           0,
           0
          ],
          [
           0,
           0,
           0,
           0.10344827175140381,
           0,
           0,
           0,
           0,
           0,
           0.03448275849223137,
           0,
           0
          ],
          [
           0,
           0,
           0,
           0,
           0,
           0,
           0,
           0,
           0,
           0,
           0.48275861144065857,
           0
          ],
          [
           0,
           0,
           0,
           0,
           0.03448275849223137,
           0.20689654350280762,
           0,
           0.03448275849223137,
           0,
           0,
           0,
           0
          ],
          [
           0,
           0,
           0,
           0,
           0,
           0,
           0,
           1,
           0,
           0,
           0,
           0
          ],
          [
           0,
           0,
           0,
           0,
           0,
           0,
           0,
           0,
           0,
           0,
           1,
           0
          ]
         ]
        }
       ],
       "layout": {
        "annotations": [
         {
          "font": {},
          "showarrow": false,
          "text": "Positive copying scores",
          "x": 0.245,
          "xanchor": "center",
          "xref": "paper",
          "y": 1,
          "yanchor": "bottom",
          "yref": "paper"
         },
         {
          "font": {},
          "showarrow": false,
          "text": "Negative copying scores",
          "x": 0.755,
          "xanchor": "center",
          "xref": "paper",
          "y": 1,
          "yanchor": "bottom",
          "yref": "paper"
         }
        ],
        "coloraxis": {
         "cmid": 0,
         "colorscale": [
          [
           0,
           "rgb(103,0,31)"
          ],
          [
           0.1,
           "rgb(178,24,43)"
          ],
          [
           0.2,
           "rgb(214,96,77)"
          ],
          [
           0.3,
           "rgb(244,165,130)"
          ],
          [
           0.4,
           "rgb(253,219,199)"
          ],
          [
           0.5,
           "rgb(247,247,247)"
          ],
          [
           0.6,
           "rgb(209,229,240)"
          ],
          [
           0.7,
           "rgb(146,197,222)"
          ],
          [
           0.8,
           "rgb(67,147,195)"
          ],
          [
           0.9,
           "rgb(33,102,172)"
          ],
          [
           1,
           "rgb(5,48,97)"
          ]
         ]
        },
        "template": {
         "data": {
          "bar": [
           {
            "error_x": {
             "color": "#2a3f5f"
            },
            "error_y": {
             "color": "#2a3f5f"
            },
            "marker": {
             "line": {
              "color": "#E5ECF6",
              "width": 0.5
             },
             "pattern": {
              "fillmode": "overlay",
              "size": 10,
              "solidity": 0.2
             }
            },
            "type": "bar"
           }
          ],
          "barpolar": [
           {
            "marker": {
             "line": {
              "color": "#E5ECF6",
              "width": 0.5
             },
             "pattern": {
              "fillmode": "overlay",
              "size": 10,
              "solidity": 0.2
             }
            },
            "type": "barpolar"
           }
          ],
          "carpet": [
           {
            "aaxis": {
             "endlinecolor": "#2a3f5f",
             "gridcolor": "white",
             "linecolor": "white",
             "minorgridcolor": "white",
             "startlinecolor": "#2a3f5f"
            },
            "baxis": {
             "endlinecolor": "#2a3f5f",
             "gridcolor": "white",
             "linecolor": "white",
             "minorgridcolor": "white",
             "startlinecolor": "#2a3f5f"
            },
            "type": "carpet"
           }
          ],
          "choropleth": [
           {
            "colorbar": {
             "outlinewidth": 0,
             "ticks": ""
            },
            "type": "choropleth"
           }
          ],
          "contour": [
           {
            "colorbar": {
             "outlinewidth": 0,
             "ticks": ""
            },
            "colorscale": [
             [
              0,
              "#0d0887"
             ],
             [
              0.1111111111111111,
              "#46039f"
             ],
             [
              0.2222222222222222,
              "#7201a8"
             ],
             [
              0.3333333333333333,
              "#9c179e"
             ],
             [
              0.4444444444444444,
              "#bd3786"
             ],
             [
              0.5555555555555556,
              "#d8576b"
             ],
             [
              0.6666666666666666,
              "#ed7953"
             ],
             [
              0.7777777777777778,
              "#fb9f3a"
             ],
             [
              0.8888888888888888,
              "#fdca26"
             ],
             [
              1,
              "#f0f921"
             ]
            ],
            "type": "contour"
           }
          ],
          "contourcarpet": [
           {
            "colorbar": {
             "outlinewidth": 0,
             "ticks": ""
            },
            "type": "contourcarpet"
           }
          ],
          "heatmap": [
           {
            "colorbar": {
             "outlinewidth": 0,
             "ticks": ""
            },
            "colorscale": [
             [
              0,
              "#0d0887"
             ],
             [
              0.1111111111111111,
              "#46039f"
             ],
             [
              0.2222222222222222,
              "#7201a8"
             ],
             [
              0.3333333333333333,
              "#9c179e"
             ],
             [
              0.4444444444444444,
              "#bd3786"
             ],
             [
              0.5555555555555556,
              "#d8576b"
             ],
             [
              0.6666666666666666,
              "#ed7953"
             ],
             [
              0.7777777777777778,
              "#fb9f3a"
             ],
             [
              0.8888888888888888,
              "#fdca26"
             ],
             [
              1,
              "#f0f921"
             ]
            ],
            "type": "heatmap"
           }
          ],
          "heatmapgl": [
           {
            "colorbar": {
             "outlinewidth": 0,
             "ticks": ""
            },
            "colorscale": [
             [
              0,
              "#0d0887"
             ],
             [
              0.1111111111111111,
              "#46039f"
             ],
             [
              0.2222222222222222,
              "#7201a8"
             ],
             [
              0.3333333333333333,
              "#9c179e"
             ],
             [
              0.4444444444444444,
              "#bd3786"
             ],
             [
              0.5555555555555556,
              "#d8576b"
             ],
             [
              0.6666666666666666,
              "#ed7953"
             ],
             [
              0.7777777777777778,
              "#fb9f3a"
             ],
             [
              0.8888888888888888,
              "#fdca26"
             ],
             [
              1,
              "#f0f921"
             ]
            ],
            "type": "heatmapgl"
           }
          ],
          "histogram": [
           {
            "marker": {
             "pattern": {
              "fillmode": "overlay",
              "size": 10,
              "solidity": 0.2
             }
            },
            "type": "histogram"
           }
          ],
          "histogram2d": [
           {
            "colorbar": {
             "outlinewidth": 0,
             "ticks": ""
            },
            "colorscale": [
             [
              0,
              "#0d0887"
             ],
             [
              0.1111111111111111,
              "#46039f"
             ],
             [
              0.2222222222222222,
              "#7201a8"
             ],
             [
              0.3333333333333333,
              "#9c179e"
             ],
             [
              0.4444444444444444,
              "#bd3786"
             ],
             [
              0.5555555555555556,
              "#d8576b"
             ],
             [
              0.6666666666666666,
              "#ed7953"
             ],
             [
              0.7777777777777778,
              "#fb9f3a"
             ],
             [
              0.8888888888888888,
              "#fdca26"
             ],
             [
              1,
              "#f0f921"
             ]
            ],
            "type": "histogram2d"
           }
          ],
          "histogram2dcontour": [
           {
            "colorbar": {
             "outlinewidth": 0,
             "ticks": ""
            },
            "colorscale": [
             [
              0,
              "#0d0887"
             ],
             [
              0.1111111111111111,
              "#46039f"
             ],
             [
              0.2222222222222222,
              "#7201a8"
             ],
             [
              0.3333333333333333,
              "#9c179e"
             ],
             [
              0.4444444444444444,
              "#bd3786"
             ],
             [
              0.5555555555555556,
              "#d8576b"
             ],
             [
              0.6666666666666666,
              "#ed7953"
             ],
             [
              0.7777777777777778,
              "#fb9f3a"
             ],
             [
              0.8888888888888888,
              "#fdca26"
             ],
             [
              1,
              "#f0f921"
             ]
            ],
            "type": "histogram2dcontour"
           }
          ],
          "mesh3d": [
           {
            "colorbar": {
             "outlinewidth": 0,
             "ticks": ""
            },
            "type": "mesh3d"
           }
          ],
          "parcoords": [
           {
            "line": {
             "colorbar": {
              "outlinewidth": 0,
              "ticks": ""
             }
            },
            "type": "parcoords"
           }
          ],
          "pie": [
           {
            "automargin": true,
            "type": "pie"
           }
          ],
          "scatter": [
           {
            "fillpattern": {
             "fillmode": "overlay",
             "size": 10,
             "solidity": 0.2
            },
            "type": "scatter"
           }
          ],
          "scatter3d": [
           {
            "line": {
             "colorbar": {
              "outlinewidth": 0,
              "ticks": ""
             }
            },
            "marker": {
             "colorbar": {
              "outlinewidth": 0,
              "ticks": ""
             }
            },
            "type": "scatter3d"
           }
          ],
          "scattercarpet": [
           {
            "marker": {
             "colorbar": {
              "outlinewidth": 0,
              "ticks": ""
             }
            },
            "type": "scattercarpet"
           }
          ],
          "scattergeo": [
           {
            "marker": {
             "colorbar": {
              "outlinewidth": 0,
              "ticks": ""
             }
            },
            "type": "scattergeo"
           }
          ],
          "scattergl": [
           {
            "marker": {
             "colorbar": {
              "outlinewidth": 0,
              "ticks": ""
             }
            },
            "type": "scattergl"
           }
          ],
          "scattermapbox": [
           {
            "marker": {
             "colorbar": {
              "outlinewidth": 0,
              "ticks": ""
             }
            },
            "type": "scattermapbox"
           }
          ],
          "scatterpolar": [
           {
            "marker": {
             "colorbar": {
              "outlinewidth": 0,
              "ticks": ""
             }
            },
            "type": "scatterpolar"
           }
          ],
          "scatterpolargl": [
           {
            "marker": {
             "colorbar": {
              "outlinewidth": 0,
              "ticks": ""
             }
            },
            "type": "scatterpolargl"
           }
          ],
          "scatterternary": [
           {
            "marker": {
             "colorbar": {
              "outlinewidth": 0,
              "ticks": ""
             }
            },
            "type": "scatterternary"
           }
          ],
          "surface": [
           {
            "colorbar": {
             "outlinewidth": 0,
             "ticks": ""
            },
            "colorscale": [
             [
              0,
              "#0d0887"
             ],
             [
              0.1111111111111111,
              "#46039f"
             ],
             [
              0.2222222222222222,
              "#7201a8"
             ],
             [
              0.3333333333333333,
              "#9c179e"
             ],
             [
              0.4444444444444444,
              "#bd3786"
             ],
             [
              0.5555555555555556,
              "#d8576b"
             ],
             [
              0.6666666666666666,
              "#ed7953"
             ],
             [
              0.7777777777777778,
              "#fb9f3a"
             ],
             [
              0.8888888888888888,
              "#fdca26"
             ],
             [
              1,
              "#f0f921"
             ]
            ],
            "type": "surface"
           }
          ],
          "table": [
           {
            "cells": {
             "fill": {
              "color": "#EBF0F8"
             },
             "line": {
              "color": "white"
             }
            },
            "header": {
             "fill": {
              "color": "#C8D4E3"
             },
             "line": {
              "color": "white"
             }
            },
            "type": "table"
           }
          ]
         },
         "layout": {
          "annotationdefaults": {
           "arrowcolor": "#2a3f5f",
           "arrowhead": 0,
           "arrowwidth": 1
          },
          "autotypenumbers": "strict",
          "coloraxis": {
           "colorbar": {
            "outlinewidth": 0,
            "ticks": ""
           }
          },
          "colorscale": {
           "diverging": [
            [
             0,
             "#8e0152"
            ],
            [
             0.1,
             "#c51b7d"
            ],
            [
             0.2,
             "#de77ae"
            ],
            [
             0.3,
             "#f1b6da"
            ],
            [
             0.4,
             "#fde0ef"
            ],
            [
             0.5,
             "#f7f7f7"
            ],
            [
             0.6,
             "#e6f5d0"
            ],
            [
             0.7,
             "#b8e186"
            ],
            [
             0.8,
             "#7fbc41"
            ],
            [
             0.9,
             "#4d9221"
            ],
            [
             1,
             "#276419"
            ]
           ],
           "sequential": [
            [
             0,
             "#0d0887"
            ],
            [
             0.1111111111111111,
             "#46039f"
            ],
            [
             0.2222222222222222,
             "#7201a8"
            ],
            [
             0.3333333333333333,
             "#9c179e"
            ],
            [
             0.4444444444444444,
             "#bd3786"
            ],
            [
             0.5555555555555556,
             "#d8576b"
            ],
            [
             0.6666666666666666,
             "#ed7953"
            ],
            [
             0.7777777777777778,
             "#fb9f3a"
            ],
            [
             0.8888888888888888,
             "#fdca26"
            ],
            [
             1,
             "#f0f921"
            ]
           ],
           "sequentialminus": [
            [
             0,
             "#0d0887"
            ],
            [
             0.1111111111111111,
             "#46039f"
            ],
            [
             0.2222222222222222,
             "#7201a8"
            ],
            [
             0.3333333333333333,
             "#9c179e"
            ],
            [
             0.4444444444444444,
             "#bd3786"
            ],
            [
             0.5555555555555556,
             "#d8576b"
            ],
            [
             0.6666666666666666,
             "#ed7953"
            ],
            [
             0.7777777777777778,
             "#fb9f3a"
            ],
            [
             0.8888888888888888,
             "#fdca26"
            ],
            [
             1,
             "#f0f921"
            ]
           ]
          },
          "colorway": [
           "#636efa",
           "#EF553B",
           "#00cc96",
           "#ab63fa",
           "#FFA15A",
           "#19d3f3",
           "#FF6692",
           "#B6E880",
           "#FF97FF",
           "#FECB52"
          ],
          "font": {
           "color": "#2a3f5f"
          },
          "geo": {
           "bgcolor": "white",
           "lakecolor": "white",
           "landcolor": "#E5ECF6",
           "showlakes": true,
           "showland": true,
           "subunitcolor": "white"
          },
          "hoverlabel": {
           "align": "left"
          },
          "hovermode": "closest",
          "mapbox": {
           "style": "light"
          },
          "paper_bgcolor": "white",
          "plot_bgcolor": "#E5ECF6",
          "polar": {
           "angularaxis": {
            "gridcolor": "white",
            "linecolor": "white",
            "ticks": ""
           },
           "bgcolor": "#E5ECF6",
           "radialaxis": {
            "gridcolor": "white",
            "linecolor": "white",
            "ticks": ""
           }
          },
          "scene": {
           "xaxis": {
            "backgroundcolor": "#E5ECF6",
            "gridcolor": "white",
            "gridwidth": 2,
            "linecolor": "white",
            "showbackground": true,
            "ticks": "",
            "zerolinecolor": "white"
           },
           "yaxis": {
            "backgroundcolor": "#E5ECF6",
            "gridcolor": "white",
            "gridwidth": 2,
            "linecolor": "white",
            "showbackground": true,
            "ticks": "",
            "zerolinecolor": "white"
           },
           "zaxis": {
            "backgroundcolor": "#E5ECF6",
            "gridcolor": "white",
            "gridwidth": 2,
            "linecolor": "white",
            "showbackground": true,
            "ticks": "",
            "zerolinecolor": "white"
           }
          },
          "shapedefaults": {
           "line": {
            "color": "#2a3f5f"
           }
          },
          "ternary": {
           "aaxis": {
            "gridcolor": "white",
            "linecolor": "white",
            "ticks": ""
           },
           "baxis": {
            "gridcolor": "white",
            "linecolor": "white",
            "ticks": ""
           },
           "bgcolor": "#E5ECF6",
           "caxis": {
            "gridcolor": "white",
            "linecolor": "white",
            "ticks": ""
           }
          },
          "title": {
           "x": 0.05
          },
          "xaxis": {
           "automargin": true,
           "gridcolor": "white",
           "linecolor": "white",
           "ticks": "",
           "title": {
            "standoff": 15
           },
           "zerolinecolor": "white",
           "zerolinewidth": 2
          },
          "yaxis": {
           "automargin": true,
           "gridcolor": "white",
           "linecolor": "white",
           "ticks": "",
           "title": {
            "standoff": 15
           },
           "zerolinecolor": "white",
           "zerolinewidth": 2
          }
         }
        },
        "title": {
         "text": "Copying scores of attention heads' OV circuits"
        },
        "width": 800,
        "xaxis": {
         "anchor": "y",
         "constrain": "domain",
         "domain": [
          0,
          0.49
         ],
         "scaleanchor": "y"
        },
        "xaxis2": {
         "anchor": "y2",
         "domain": [
          0.51,
          1
         ],
         "matches": "x"
        },
        "yaxis": {
         "anchor": "x",
         "autorange": "reversed",
         "constrain": "domain",
         "domain": [
          0,
          1
         ]
        },
        "yaxis2": {
         "anchor": "x2",
         "domain": [
          0,
          1
         ],
         "matches": "y",
         "showticklabels": false
        }
       }
      },
      "text/html": [
       "<div>                            <div id=\"083f4f17-6a4f-4ad3-a4e7-311e49bf6c9c\" class=\"plotly-graph-div\" style=\"height:525px; width:800px;\"></div>            <script type=\"text/javascript\">                require([\"plotly\"], function(Plotly) {                    window.PLOTLYENV=window.PLOTLYENV || {};                                    if (document.getElementById(\"083f4f17-6a4f-4ad3-a4e7-311e49bf6c9c\")) {                    Plotly.newPlot(                        \"083f4f17-6a4f-4ad3-a4e7-311e49bf6c9c\",                        [{\"coloraxis\":\"coloraxis\",\"name\":\"0\",\"z\":[[0.0,0.0,0.0,0.0,0.0,0.0,0.0,0.0,0.0,0.0,0.0,0.0],[0.0,0.0,0.0,0.0,0.0,0.0,0.06896551698446274,0.13793103396892548,0.0,0.0,0.0,0.0],[0.0,0.24137930572032928,0.0,0.0,0.0,0.0,0.0,0.0,0.0,0.03448275849223137,0.0,0.0],[0.0,0.0,0.0,0.0,0.0,0.0,0.0,0.0,0.0,0.0,0.0,0.0],[0.0,0.0,0.0,0.0,0.0,0.0,0.0,0.0,0.0,0.0,0.0,0.0],[0.03448275849223137,0.8275861740112305,0.0,0.0,0.0,0.13793103396892548,0.0,0.0,0.0,0.0,0.0,0.0],[0.03448275849223137,0.0,0.0,0.0,0.5862069129943848,0.0,0.0,0.03448275849223137,0.0,0.9655172228813171,0.0,0.0],[0.0,0.41379308700561523,1.0,0.0,0.0,0.03448275849223137,0.0,0.03448275849223137,0.13793103396892548,0.0,1.0,0.06896551698446274],[0.0,0.7586206793785095,0.0,0.0,0.0,0.0,0.10344827175140381,0.0,0.37931033968925476,0.0,0.0,1.0],[0.41379308700561523,0.0,0.24137930572032928,0.0,0.0,0.0,0.931034505367279,0.0,0.5862069129943848,1.0,0.0,0.03448275849223137],[0.8620689511299133,0.3448275923728943,1.0,0.06896551698446274,0.0,0.0,0.6206896305084229,0.0,0.0,0.0,0.6551724076271057,0.03448275849223137],[0.0,0.6206896305084229,0.931034505367279,0.3103448152542114,0.0,0.0,0.7241379022598267,0.0,0.0,0.17241379618644714,0.0,0.27586206793785095]],\"type\":\"heatmap\",\"xaxis\":\"x\",\"yaxis\":\"y\",\"hovertemplate\":\"x: %{x}\\u003cbr\\u003ey: %{y}\\u003cbr\\u003ecolor: %{z}\\u003cextra\\u003e\\u003c\\u002fextra\\u003e\"},{\"coloraxis\":\"coloraxis\",\"name\":\"1\",\"z\":[[0.0,0.0,0.0,0.0,0.0,0.0,0.0,0.0,0.0,0.0,0.0,0.0],[0.0,0.0,0.0,0.0,0.0,0.03448275849223137,0.0,0.0,0.0,0.03448275849223137,0.0,0.0],[0.0,0.0,0.0,0.0,0.0,0.0,0.0,0.0,0.0,0.0,0.0,0.0],[0.0,0.0,0.0,0.0,0.0,0.0,0.0,0.0,0.0,0.0,0.0,0.0],[0.0,0.0,0.0,0.0,0.13793103396892548,0.0,0.0,0.0,0.0,0.0,0.0,0.0],[0.0,0.0,0.0,0.0,0.0,0.0,0.0,0.0,0.0,0.0,0.0,0.13793103396892548],[0.0,0.0,0.0,0.0,0.0,0.0,0.17241379618644714,0.0,0.0,0.0,0.0,0.0],[0.0,0.0,0.0,0.10344827175140381,0.0,0.0,0.0,0.0,0.0,0.03448275849223137,0.0,0.0],[0.0,0.0,0.0,0.0,0.0,0.0,0.0,0.0,0.0,0.0,0.48275861144065857,0.0],[0.0,0.0,0.0,0.0,0.03448275849223137,0.20689654350280762,0.0,0.03448275849223137,0.0,0.0,0.0,0.0],[0.0,0.0,0.0,0.0,0.0,0.0,0.0,1.0,0.0,0.0,0.0,0.0],[0.0,0.0,0.0,0.0,0.0,0.0,0.0,0.0,0.0,0.0,1.0,0.0]],\"type\":\"heatmap\",\"xaxis\":\"x2\",\"yaxis\":\"y2\",\"hovertemplate\":\"x: %{x}\\u003cbr\\u003ey: %{y}\\u003cbr\\u003ecolor: %{z}\\u003cextra\\u003e\\u003c\\u002fextra\\u003e\"}],                        {\"template\":{\"data\":{\"histogram2dcontour\":[{\"type\":\"histogram2dcontour\",\"colorbar\":{\"outlinewidth\":0,\"ticks\":\"\"},\"colorscale\":[[0.0,\"#0d0887\"],[0.1111111111111111,\"#46039f\"],[0.2222222222222222,\"#7201a8\"],[0.3333333333333333,\"#9c179e\"],[0.4444444444444444,\"#bd3786\"],[0.5555555555555556,\"#d8576b\"],[0.6666666666666666,\"#ed7953\"],[0.7777777777777778,\"#fb9f3a\"],[0.8888888888888888,\"#fdca26\"],[1.0,\"#f0f921\"]]}],\"choropleth\":[{\"type\":\"choropleth\",\"colorbar\":{\"outlinewidth\":0,\"ticks\":\"\"}}],\"histogram2d\":[{\"type\":\"histogram2d\",\"colorbar\":{\"outlinewidth\":0,\"ticks\":\"\"},\"colorscale\":[[0.0,\"#0d0887\"],[0.1111111111111111,\"#46039f\"],[0.2222222222222222,\"#7201a8\"],[0.3333333333333333,\"#9c179e\"],[0.4444444444444444,\"#bd3786\"],[0.5555555555555556,\"#d8576b\"],[0.6666666666666666,\"#ed7953\"],[0.7777777777777778,\"#fb9f3a\"],[0.8888888888888888,\"#fdca26\"],[1.0,\"#f0f921\"]]}],\"heatmap\":[{\"type\":\"heatmap\",\"colorbar\":{\"outlinewidth\":0,\"ticks\":\"\"},\"colorscale\":[[0.0,\"#0d0887\"],[0.1111111111111111,\"#46039f\"],[0.2222222222222222,\"#7201a8\"],[0.3333333333333333,\"#9c179e\"],[0.4444444444444444,\"#bd3786\"],[0.5555555555555556,\"#d8576b\"],[0.6666666666666666,\"#ed7953\"],[0.7777777777777778,\"#fb9f3a\"],[0.8888888888888888,\"#fdca26\"],[1.0,\"#f0f921\"]]}],\"heatmapgl\":[{\"type\":\"heatmapgl\",\"colorbar\":{\"outlinewidth\":0,\"ticks\":\"\"},\"colorscale\":[[0.0,\"#0d0887\"],[0.1111111111111111,\"#46039f\"],[0.2222222222222222,\"#7201a8\"],[0.3333333333333333,\"#9c179e\"],[0.4444444444444444,\"#bd3786\"],[0.5555555555555556,\"#d8576b\"],[0.6666666666666666,\"#ed7953\"],[0.7777777777777778,\"#fb9f3a\"],[0.8888888888888888,\"#fdca26\"],[1.0,\"#f0f921\"]]}],\"contourcarpet\":[{\"type\":\"contourcarpet\",\"colorbar\":{\"outlinewidth\":0,\"ticks\":\"\"}}],\"contour\":[{\"type\":\"contour\",\"colorbar\":{\"outlinewidth\":0,\"ticks\":\"\"},\"colorscale\":[[0.0,\"#0d0887\"],[0.1111111111111111,\"#46039f\"],[0.2222222222222222,\"#7201a8\"],[0.3333333333333333,\"#9c179e\"],[0.4444444444444444,\"#bd3786\"],[0.5555555555555556,\"#d8576b\"],[0.6666666666666666,\"#ed7953\"],[0.7777777777777778,\"#fb9f3a\"],[0.8888888888888888,\"#fdca26\"],[1.0,\"#f0f921\"]]}],\"surface\":[{\"type\":\"surface\",\"colorbar\":{\"outlinewidth\":0,\"ticks\":\"\"},\"colorscale\":[[0.0,\"#0d0887\"],[0.1111111111111111,\"#46039f\"],[0.2222222222222222,\"#7201a8\"],[0.3333333333333333,\"#9c179e\"],[0.4444444444444444,\"#bd3786\"],[0.5555555555555556,\"#d8576b\"],[0.6666666666666666,\"#ed7953\"],[0.7777777777777778,\"#fb9f3a\"],[0.8888888888888888,\"#fdca26\"],[1.0,\"#f0f921\"]]}],\"mesh3d\":[{\"type\":\"mesh3d\",\"colorbar\":{\"outlinewidth\":0,\"ticks\":\"\"}}],\"scatter\":[{\"fillpattern\":{\"fillmode\":\"overlay\",\"size\":10,\"solidity\":0.2},\"type\":\"scatter\"}],\"parcoords\":[{\"type\":\"parcoords\",\"line\":{\"colorbar\":{\"outlinewidth\":0,\"ticks\":\"\"}}}],\"scatterpolargl\":[{\"type\":\"scatterpolargl\",\"marker\":{\"colorbar\":{\"outlinewidth\":0,\"ticks\":\"\"}}}],\"bar\":[{\"error_x\":{\"color\":\"#2a3f5f\"},\"error_y\":{\"color\":\"#2a3f5f\"},\"marker\":{\"line\":{\"color\":\"#E5ECF6\",\"width\":0.5},\"pattern\":{\"fillmode\":\"overlay\",\"size\":10,\"solidity\":0.2}},\"type\":\"bar\"}],\"scattergeo\":[{\"type\":\"scattergeo\",\"marker\":{\"colorbar\":{\"outlinewidth\":0,\"ticks\":\"\"}}}],\"scatterpolar\":[{\"type\":\"scatterpolar\",\"marker\":{\"colorbar\":{\"outlinewidth\":0,\"ticks\":\"\"}}}],\"histogram\":[{\"marker\":{\"pattern\":{\"fillmode\":\"overlay\",\"size\":10,\"solidity\":0.2}},\"type\":\"histogram\"}],\"scattergl\":[{\"type\":\"scattergl\",\"marker\":{\"colorbar\":{\"outlinewidth\":0,\"ticks\":\"\"}}}],\"scatter3d\":[{\"type\":\"scatter3d\",\"line\":{\"colorbar\":{\"outlinewidth\":0,\"ticks\":\"\"}},\"marker\":{\"colorbar\":{\"outlinewidth\":0,\"ticks\":\"\"}}}],\"scattermapbox\":[{\"type\":\"scattermapbox\",\"marker\":{\"colorbar\":{\"outlinewidth\":0,\"ticks\":\"\"}}}],\"scatterternary\":[{\"type\":\"scatterternary\",\"marker\":{\"colorbar\":{\"outlinewidth\":0,\"ticks\":\"\"}}}],\"scattercarpet\":[{\"type\":\"scattercarpet\",\"marker\":{\"colorbar\":{\"outlinewidth\":0,\"ticks\":\"\"}}}],\"carpet\":[{\"aaxis\":{\"endlinecolor\":\"#2a3f5f\",\"gridcolor\":\"white\",\"linecolor\":\"white\",\"minorgridcolor\":\"white\",\"startlinecolor\":\"#2a3f5f\"},\"baxis\":{\"endlinecolor\":\"#2a3f5f\",\"gridcolor\":\"white\",\"linecolor\":\"white\",\"minorgridcolor\":\"white\",\"startlinecolor\":\"#2a3f5f\"},\"type\":\"carpet\"}],\"table\":[{\"cells\":{\"fill\":{\"color\":\"#EBF0F8\"},\"line\":{\"color\":\"white\"}},\"header\":{\"fill\":{\"color\":\"#C8D4E3\"},\"line\":{\"color\":\"white\"}},\"type\":\"table\"}],\"barpolar\":[{\"marker\":{\"line\":{\"color\":\"#E5ECF6\",\"width\":0.5},\"pattern\":{\"fillmode\":\"overlay\",\"size\":10,\"solidity\":0.2}},\"type\":\"barpolar\"}],\"pie\":[{\"automargin\":true,\"type\":\"pie\"}]},\"layout\":{\"autotypenumbers\":\"strict\",\"colorway\":[\"#636efa\",\"#EF553B\",\"#00cc96\",\"#ab63fa\",\"#FFA15A\",\"#19d3f3\",\"#FF6692\",\"#B6E880\",\"#FF97FF\",\"#FECB52\"],\"font\":{\"color\":\"#2a3f5f\"},\"hovermode\":\"closest\",\"hoverlabel\":{\"align\":\"left\"},\"paper_bgcolor\":\"white\",\"plot_bgcolor\":\"#E5ECF6\",\"polar\":{\"bgcolor\":\"#E5ECF6\",\"angularaxis\":{\"gridcolor\":\"white\",\"linecolor\":\"white\",\"ticks\":\"\"},\"radialaxis\":{\"gridcolor\":\"white\",\"linecolor\":\"white\",\"ticks\":\"\"}},\"ternary\":{\"bgcolor\":\"#E5ECF6\",\"aaxis\":{\"gridcolor\":\"white\",\"linecolor\":\"white\",\"ticks\":\"\"},\"baxis\":{\"gridcolor\":\"white\",\"linecolor\":\"white\",\"ticks\":\"\"},\"caxis\":{\"gridcolor\":\"white\",\"linecolor\":\"white\",\"ticks\":\"\"}},\"coloraxis\":{\"colorbar\":{\"outlinewidth\":0,\"ticks\":\"\"}},\"colorscale\":{\"sequential\":[[0.0,\"#0d0887\"],[0.1111111111111111,\"#46039f\"],[0.2222222222222222,\"#7201a8\"],[0.3333333333333333,\"#9c179e\"],[0.4444444444444444,\"#bd3786\"],[0.5555555555555556,\"#d8576b\"],[0.6666666666666666,\"#ed7953\"],[0.7777777777777778,\"#fb9f3a\"],[0.8888888888888888,\"#fdca26\"],[1.0,\"#f0f921\"]],\"sequentialminus\":[[0.0,\"#0d0887\"],[0.1111111111111111,\"#46039f\"],[0.2222222222222222,\"#7201a8\"],[0.3333333333333333,\"#9c179e\"],[0.4444444444444444,\"#bd3786\"],[0.5555555555555556,\"#d8576b\"],[0.6666666666666666,\"#ed7953\"],[0.7777777777777778,\"#fb9f3a\"],[0.8888888888888888,\"#fdca26\"],[1.0,\"#f0f921\"]],\"diverging\":[[0,\"#8e0152\"],[0.1,\"#c51b7d\"],[0.2,\"#de77ae\"],[0.3,\"#f1b6da\"],[0.4,\"#fde0ef\"],[0.5,\"#f7f7f7\"],[0.6,\"#e6f5d0\"],[0.7,\"#b8e186\"],[0.8,\"#7fbc41\"],[0.9,\"#4d9221\"],[1,\"#276419\"]]},\"xaxis\":{\"gridcolor\":\"white\",\"linecolor\":\"white\",\"ticks\":\"\",\"title\":{\"standoff\":15},\"zerolinecolor\":\"white\",\"automargin\":true,\"zerolinewidth\":2},\"yaxis\":{\"gridcolor\":\"white\",\"linecolor\":\"white\",\"ticks\":\"\",\"title\":{\"standoff\":15},\"zerolinecolor\":\"white\",\"automargin\":true,\"zerolinewidth\":2},\"scene\":{\"xaxis\":{\"backgroundcolor\":\"#E5ECF6\",\"gridcolor\":\"white\",\"linecolor\":\"white\",\"showbackground\":true,\"ticks\":\"\",\"zerolinecolor\":\"white\",\"gridwidth\":2},\"yaxis\":{\"backgroundcolor\":\"#E5ECF6\",\"gridcolor\":\"white\",\"linecolor\":\"white\",\"showbackground\":true,\"ticks\":\"\",\"zerolinecolor\":\"white\",\"gridwidth\":2},\"zaxis\":{\"backgroundcolor\":\"#E5ECF6\",\"gridcolor\":\"white\",\"linecolor\":\"white\",\"showbackground\":true,\"ticks\":\"\",\"zerolinecolor\":\"white\",\"gridwidth\":2}},\"shapedefaults\":{\"line\":{\"color\":\"#2a3f5f\"}},\"annotationdefaults\":{\"arrowcolor\":\"#2a3f5f\",\"arrowhead\":0,\"arrowwidth\":1},\"geo\":{\"bgcolor\":\"white\",\"landcolor\":\"#E5ECF6\",\"subunitcolor\":\"white\",\"showland\":true,\"showlakes\":true,\"lakecolor\":\"white\"},\"title\":{\"x\":0.05},\"mapbox\":{\"style\":\"light\"}}},\"xaxis\":{\"anchor\":\"y\",\"domain\":[0.0,0.49],\"scaleanchor\":\"y\",\"constrain\":\"domain\"},\"yaxis\":{\"anchor\":\"x\",\"domain\":[0.0,1.0],\"autorange\":\"reversed\",\"constrain\":\"domain\"},\"xaxis2\":{\"anchor\":\"y2\",\"domain\":[0.51,1.0],\"matches\":\"x\"},\"yaxis2\":{\"anchor\":\"x2\",\"domain\":[0.0,1.0],\"matches\":\"y\",\"showticklabels\":false},\"annotations\":[{\"font\":{},\"showarrow\":false,\"text\":\"Positive copying scores\",\"x\":0.245,\"xanchor\":\"center\",\"xref\":\"paper\",\"y\":1.0,\"yanchor\":\"bottom\",\"yref\":\"paper\"},{\"font\":{},\"showarrow\":false,\"text\":\"Negative copying scores\",\"x\":0.755,\"xanchor\":\"center\",\"xref\":\"paper\",\"y\":1.0,\"yanchor\":\"bottom\",\"yref\":\"paper\"}],\"coloraxis\":{\"colorscale\":[[0.0,\"rgb(103,0,31)\"],[0.1,\"rgb(178,24,43)\"],[0.2,\"rgb(214,96,77)\"],[0.3,\"rgb(244,165,130)\"],[0.4,\"rgb(253,219,199)\"],[0.5,\"rgb(247,247,247)\"],[0.6,\"rgb(209,229,240)\"],[0.7,\"rgb(146,197,222)\"],[0.8,\"rgb(67,147,195)\"],[0.9,\"rgb(33,102,172)\"],[1.0,\"rgb(5,48,97)\"]],\"cmid\":0.0},\"title\":{\"text\":\"Copying scores of attention heads' OV circuits\"},\"width\":800},                        {\"responsive\": true}                    ).then(function(){\n",
       "                            \n",
       "var gd = document.getElementById('083f4f17-6a4f-4ad3-a4e7-311e49bf6c9c');\n",
       "var x = new MutationObserver(function (mutations, observer) {{\n",
       "        var display = window.getComputedStyle(gd).display;\n",
       "        if (!display || display === 'none') {{\n",
       "            console.log([gd, 'removed!']);\n",
       "            Plotly.purge(gd);\n",
       "            observer.disconnect();\n",
       "        }}\n",
       "}});\n",
       "\n",
       "// Listen for the removal of the full notebook cells\n",
       "var notebookContainer = gd.closest('#notebook-container');\n",
       "if (notebookContainer) {{\n",
       "    x.observe(notebookContainer, {childList: true});\n",
       "}}\n",
       "\n",
       "// Listen for the clearing of the current output cell\n",
       "var outputEl = gd.closest('.output');\n",
       "if (outputEl) {{\n",
       "    x.observe(outputEl, {childList: true});\n",
       "}}\n",
       "\n",
       "                        })                };                });            </script>        </div>"
      ]
     },
     "metadata": {},
     "output_type": "display_data"
    }
   ],
   "source": [
    "names_list =  [i[0] for i in name_pairs] + [i[1] for i in name_pairs] + [\" Abel\", \" Adam\", \" Adin\", \" Alan\", \" Beau\", \" Bell\"] + [\" Dana\", \" Dave\", \" Drew\"]\n",
    "copying_results = get_copying_scores(model, names_list)\n",
    "\n",
    "imshow(\n",
    "    copying_results,\n",
    "    facet_col=0,\n",
    "    facet_labels=[\"Positive copying scores\", \"Negative copying scores\"],\n",
    "    title=\"Copying scores of attention heads' OV circuits\",\n",
    "    width=800\n",
    ")"
   ]
  },
  {
   "cell_type": "code",
   "execution_count": 136,
   "metadata": {},
   "outputs": [],
   "source": [
    "pos_qk_scores = torch.zeros((12,12,2))\n",
    "neg_qk_scores = torch.zeros((12,12,2))\n",
    "\n",
    "for layer in range(12):\n",
    "  for head in range(12):\n",
    "    pos_qk_scores[layer][head][0], pos_qk_scores[layer][head][1] = look_at_qk_circuit(model, (layer, head), names_list, show_matrix = False, negative = False)\n",
    "    neg_qk_scores[layer][head][0], neg_qk_scores[layer][head][1] = look_at_qk_circuit(model, (layer, head), names_list, show_matrix = False, negative = True)\n"
   ]
  },
  {
   "cell_type": "code",
   "execution_count": 138,
   "metadata": {},
   "outputs": [
    {
     "data": {
      "application/vnd.plotly.v1+json": {
       "config": {
        "plotlyServerURL": "https://plot.ly"
       },
       "data": [
        {
         "coloraxis": "coloraxis",
         "hovertemplate": "Head: %{x}<br>Layer: %{y}<br>color: %{z}<extra></extra>",
         "name": "0",
         "type": "heatmap",
         "xaxis": "x",
         "yaxis": "y",
         "z": [
          [
           0,
           0.9655172228813171,
           0,
           0.9655172228813171,
           0.7931034564971924,
           0.9655172228813171,
           0,
           0,
           0,
           0,
           0.9655172228813171,
           0.06896551698446274
          ],
          [
           0,
           0,
           0,
           0.03448275849223137,
           0.03448275849223137,
           0,
           0.17241379618644714,
           0,
           0,
           0,
           0,
           0.9655172228813171
          ],
          [
           0,
           0.03448275849223137,
           0,
           0,
           0,
           0,
           0,
           0,
           0,
           0,
           0.03448275849223137,
           0
          ],
          [
           0.9655172228813171,
           0,
           0,
           0,
           0,
           0.03448275849223137,
           0,
           0,
           0,
           0,
           0.03448275849223137,
           0
          ],
          [
           0,
           0,
           0.03448275849223137,
           0,
           0.24137930572032928,
           0,
           0,
           0,
           0,
           0,
           0.03448275849223137,
           0
          ],
          [
           0,
           0,
           0,
           0,
           0,
           0,
           0,
           0.03448275849223137,
           0,
           0,
           0.17241379618644714,
           0.13793103396892548
          ],
          [
           0,
           0,
           0,
           0,
           0,
           0.03448275849223137,
           0.4482758641242981,
           0,
           0,
           0,
           0.03448275849223137,
           0
          ],
          [
           0,
           0.1034482792019844,
           0,
           0.06896551698446274,
           0,
           0,
           0,
           0.03448275849223137,
           0,
           0,
           0,
           0.03448275849223137
          ],
          [
           0,
           0,
           0,
           0.06896551698446274,
           0.03448275849223137,
           0,
           0.03448275849223137,
           0,
           0,
           0.1034482792019844,
           0.17241379618644714,
           0
          ],
          [
           0.27586206793785095,
           0,
           0.03448275849223137,
           0,
           0.24137930572032928,
           0.13793103396892548,
           0,
           0.03448275849223137,
           0.03448275849223137,
           0,
           0,
           0.03448275849223137
          ],
          [
           0,
           0,
           0,
           0,
           0,
           0.03448275849223137,
           0,
           0.6551724076271057,
           0.03448275849223137,
           0,
           0,
           0.03448275849223137
          ],
          [
           0.03448275849223137,
           0,
           0,
           0,
           0.06896551698446274,
           0,
           0.03448275849223137,
           0,
           0,
           0,
           0.3448275923728943,
           0
          ]
         ]
        },
        {
         "coloraxis": "coloraxis",
         "hovertemplate": "Head: %{x}<br>Layer: %{y}<br>color: %{z}<extra></extra>",
         "name": "1",
         "type": "heatmap",
         "xaxis": "x2",
         "yaxis": "y2",
         "z": [
          [
           0.17241379618644714,
           0,
           0.3448275923728943,
           0,
           0,
           0,
           0.06896551698446274,
           0.24137930572032928,
           0.13793103396892548,
           0.9655172228813171,
           0,
           0
          ],
          [
           0.48275861144065857,
           0.27586206793785095,
           0.03448275849223137,
           0.03448275849223137,
           0.03448275849223137,
           0.1034482792019844,
           0.03448275849223137,
           0.7931034564971924,
           0.03448275849223137,
           0.03448275849223137,
           0.06896551698446274,
           0
          ],
          [
           0.931034505367279,
           0.13793103396892548,
           0.931034505367279,
           0.7931034564971924,
           0.27586206793785095,
           0.931034505367279,
           0.27586206793785095,
           0.06896551698446274,
           0.5862069129943848,
           0.931034505367279,
           0.03448275849223137,
           0.06896551698446274
          ],
          [
           0,
           0.3103448152542114,
           0.5517241358757019,
           0.7931034564971924,
           0.9655172228813171,
           0.37931033968925476,
           0.2068965584039688,
           0.8965517282485962,
           0.8965517282485962,
           0.27586206793785095,
           0.13793103396892548,
           0.5862069129943848
          ],
          [
           0.3103448152542114,
           0.2068965584039688,
           0.27586206793785095,
           0.4482758641242981,
           0,
           0.13793103396892548,
           0.8965517282485962,
           0.03448275849223137,
           0.6206896305084229,
           0.37931033968925476,
           0,
           0.8620689511299133
          ],
          [
           0.1034482792019844,
           0.7931034564971924,
           0.3103448152542114,
           0.24137930572032928,
           0.3448275923728943,
           0.8965517282485962,
           0.5862069129943848,
           0,
           0.8275862336158752,
           0.9655172228813171,
           0,
           0
          ],
          [
           0.3103448152542114,
           0.1034482792019844,
           0.17241379618644714,
           0.27586206793785095,
           0.03448275849223137,
           0.13793103396892548,
           0,
           0.3103448152542114,
           0.517241358757019,
           0.8620689511299133,
           0.03448275849223137,
           0.17241379618644714
          ],
          [
           0.3103448152542114,
           0.06896551698446274,
           0.37931033968925476,
           0,
           0.06896551698446274,
           0.1034482792019844,
           0.1034482792019844,
           0,
           0.24137930572032928,
           0.1034482792019844,
           0.931034505367279,
           0.1034482792019844
          ],
          [
           0.03448275849223137,
           0.27586206793785095,
           0.1034482792019844,
           0,
           0.06896551698446274,
           0.17241379618644714,
           0,
           0.24137930572032928,
           0.13793103396892548,
           0,
           0,
           0.1034482792019844
          ],
          [
           0,
           0.13793103396892548,
           0,
           0.24137930572032928,
           0,
           0,
           0.17241379618644714,
           0.13793103396892548,
           0.03448275849223137,
           0.13793103396892548,
           0.03448275849223137,
           0
          ],
          [
           0,
           0.2068965584039688,
           0.24137930572032928,
           0.1034482792019844,
           0.06896551698446274,
           0.03448275849223137,
           0.1034482792019844,
           0,
           0.03448275849223137,
           0.1034482792019844,
           0.24137930572032928,
           0.03448275849223137
          ],
          [
           0,
           0.1034482792019844,
           0.7586206793785095,
           0.24137930572032928,
           0.03448275849223137,
           0.03448275849223137,
           0,
           0.03448275849223137,
           0.17241379618644714,
           0.03448275849223137,
           0,
           0.1034482792019844
          ]
         ]
        }
       ],
       "layout": {
        "annotations": [
         {
          "font": {},
          "showarrow": false,
          "text": "Positive top_1",
          "x": 0.245,
          "xanchor": "center",
          "xref": "paper",
          "y": 1,
          "yanchor": "bottom",
          "yref": "paper"
         },
         {
          "font": {},
          "showarrow": false,
          "text": "Negative top_1",
          "x": 0.755,
          "xanchor": "center",
          "xref": "paper",
          "y": 1,
          "yanchor": "bottom",
          "yref": "paper"
         }
        ],
        "coloraxis": {
         "cmax": 1,
         "cmid": 0,
         "cmin": -1,
         "colorscale": [
          [
           0,
           "rgb(103,0,31)"
          ],
          [
           0.1,
           "rgb(178,24,43)"
          ],
          [
           0.2,
           "rgb(214,96,77)"
          ],
          [
           0.3,
           "rgb(244,165,130)"
          ],
          [
           0.4,
           "rgb(253,219,199)"
          ],
          [
           0.5,
           "rgb(247,247,247)"
          ],
          [
           0.6,
           "rgb(209,229,240)"
          ],
          [
           0.7,
           "rgb(146,197,222)"
          ],
          [
           0.8,
           "rgb(67,147,195)"
          ],
          [
           0.9,
           "rgb(33,102,172)"
          ],
          [
           1,
           "rgb(5,48,97)"
          ]
         ]
        },
        "template": {
         "data": {
          "bar": [
           {
            "error_x": {
             "color": "#2a3f5f"
            },
            "error_y": {
             "color": "#2a3f5f"
            },
            "marker": {
             "line": {
              "color": "#E5ECF6",
              "width": 0.5
             },
             "pattern": {
              "fillmode": "overlay",
              "size": 10,
              "solidity": 0.2
             }
            },
            "type": "bar"
           }
          ],
          "barpolar": [
           {
            "marker": {
             "line": {
              "color": "#E5ECF6",
              "width": 0.5
             },
             "pattern": {
              "fillmode": "overlay",
              "size": 10,
              "solidity": 0.2
             }
            },
            "type": "barpolar"
           }
          ],
          "carpet": [
           {
            "aaxis": {
             "endlinecolor": "#2a3f5f",
             "gridcolor": "white",
             "linecolor": "white",
             "minorgridcolor": "white",
             "startlinecolor": "#2a3f5f"
            },
            "baxis": {
             "endlinecolor": "#2a3f5f",
             "gridcolor": "white",
             "linecolor": "white",
             "minorgridcolor": "white",
             "startlinecolor": "#2a3f5f"
            },
            "type": "carpet"
           }
          ],
          "choropleth": [
           {
            "colorbar": {
             "outlinewidth": 0,
             "ticks": ""
            },
            "type": "choropleth"
           }
          ],
          "contour": [
           {
            "colorbar": {
             "outlinewidth": 0,
             "ticks": ""
            },
            "colorscale": [
             [
              0,
              "#0d0887"
             ],
             [
              0.1111111111111111,
              "#46039f"
             ],
             [
              0.2222222222222222,
              "#7201a8"
             ],
             [
              0.3333333333333333,
              "#9c179e"
             ],
             [
              0.4444444444444444,
              "#bd3786"
             ],
             [
              0.5555555555555556,
              "#d8576b"
             ],
             [
              0.6666666666666666,
              "#ed7953"
             ],
             [
              0.7777777777777778,
              "#fb9f3a"
             ],
             [
              0.8888888888888888,
              "#fdca26"
             ],
             [
              1,
              "#f0f921"
             ]
            ],
            "type": "contour"
           }
          ],
          "contourcarpet": [
           {
            "colorbar": {
             "outlinewidth": 0,
             "ticks": ""
            },
            "type": "contourcarpet"
           }
          ],
          "heatmap": [
           {
            "colorbar": {
             "outlinewidth": 0,
             "ticks": ""
            },
            "colorscale": [
             [
              0,
              "#0d0887"
             ],
             [
              0.1111111111111111,
              "#46039f"
             ],
             [
              0.2222222222222222,
              "#7201a8"
             ],
             [
              0.3333333333333333,
              "#9c179e"
             ],
             [
              0.4444444444444444,
              "#bd3786"
             ],
             [
              0.5555555555555556,
              "#d8576b"
             ],
             [
              0.6666666666666666,
              "#ed7953"
             ],
             [
              0.7777777777777778,
              "#fb9f3a"
             ],
             [
              0.8888888888888888,
              "#fdca26"
             ],
             [
              1,
              "#f0f921"
             ]
            ],
            "type": "heatmap"
           }
          ],
          "heatmapgl": [
           {
            "colorbar": {
             "outlinewidth": 0,
             "ticks": ""
            },
            "colorscale": [
             [
              0,
              "#0d0887"
             ],
             [
              0.1111111111111111,
              "#46039f"
             ],
             [
              0.2222222222222222,
              "#7201a8"
             ],
             [
              0.3333333333333333,
              "#9c179e"
             ],
             [
              0.4444444444444444,
              "#bd3786"
             ],
             [
              0.5555555555555556,
              "#d8576b"
             ],
             [
              0.6666666666666666,
              "#ed7953"
             ],
             [
              0.7777777777777778,
              "#fb9f3a"
             ],
             [
              0.8888888888888888,
              "#fdca26"
             ],
             [
              1,
              "#f0f921"
             ]
            ],
            "type": "heatmapgl"
           }
          ],
          "histogram": [
           {
            "marker": {
             "pattern": {
              "fillmode": "overlay",
              "size": 10,
              "solidity": 0.2
             }
            },
            "type": "histogram"
           }
          ],
          "histogram2d": [
           {
            "colorbar": {
             "outlinewidth": 0,
             "ticks": ""
            },
            "colorscale": [
             [
              0,
              "#0d0887"
             ],
             [
              0.1111111111111111,
              "#46039f"
             ],
             [
              0.2222222222222222,
              "#7201a8"
             ],
             [
              0.3333333333333333,
              "#9c179e"
             ],
             [
              0.4444444444444444,
              "#bd3786"
             ],
             [
              0.5555555555555556,
              "#d8576b"
             ],
             [
              0.6666666666666666,
              "#ed7953"
             ],
             [
              0.7777777777777778,
              "#fb9f3a"
             ],
             [
              0.8888888888888888,
              "#fdca26"
             ],
             [
              1,
              "#f0f921"
             ]
            ],
            "type": "histogram2d"
           }
          ],
          "histogram2dcontour": [
           {
            "colorbar": {
             "outlinewidth": 0,
             "ticks": ""
            },
            "colorscale": [
             [
              0,
              "#0d0887"
             ],
             [
              0.1111111111111111,
              "#46039f"
             ],
             [
              0.2222222222222222,
              "#7201a8"
             ],
             [
              0.3333333333333333,
              "#9c179e"
             ],
             [
              0.4444444444444444,
              "#bd3786"
             ],
             [
              0.5555555555555556,
              "#d8576b"
             ],
             [
              0.6666666666666666,
              "#ed7953"
             ],
             [
              0.7777777777777778,
              "#fb9f3a"
             ],
             [
              0.8888888888888888,
              "#fdca26"
             ],
             [
              1,
              "#f0f921"
             ]
            ],
            "type": "histogram2dcontour"
           }
          ],
          "mesh3d": [
           {
            "colorbar": {
             "outlinewidth": 0,
             "ticks": ""
            },
            "type": "mesh3d"
           }
          ],
          "parcoords": [
           {
            "line": {
             "colorbar": {
              "outlinewidth": 0,
              "ticks": ""
             }
            },
            "type": "parcoords"
           }
          ],
          "pie": [
           {
            "automargin": true,
            "type": "pie"
           }
          ],
          "scatter": [
           {
            "fillpattern": {
             "fillmode": "overlay",
             "size": 10,
             "solidity": 0.2
            },
            "type": "scatter"
           }
          ],
          "scatter3d": [
           {
            "line": {
             "colorbar": {
              "outlinewidth": 0,
              "ticks": ""
             }
            },
            "marker": {
             "colorbar": {
              "outlinewidth": 0,
              "ticks": ""
             }
            },
            "type": "scatter3d"
           }
          ],
          "scattercarpet": [
           {
            "marker": {
             "colorbar": {
              "outlinewidth": 0,
              "ticks": ""
             }
            },
            "type": "scattercarpet"
           }
          ],
          "scattergeo": [
           {
            "marker": {
             "colorbar": {
              "outlinewidth": 0,
              "ticks": ""
             }
            },
            "type": "scattergeo"
           }
          ],
          "scattergl": [
           {
            "marker": {
             "colorbar": {
              "outlinewidth": 0,
              "ticks": ""
             }
            },
            "type": "scattergl"
           }
          ],
          "scattermapbox": [
           {
            "marker": {
             "colorbar": {
              "outlinewidth": 0,
              "ticks": ""
             }
            },
            "type": "scattermapbox"
           }
          ],
          "scatterpolar": [
           {
            "marker": {
             "colorbar": {
              "outlinewidth": 0,
              "ticks": ""
             }
            },
            "type": "scatterpolar"
           }
          ],
          "scatterpolargl": [
           {
            "marker": {
             "colorbar": {
              "outlinewidth": 0,
              "ticks": ""
             }
            },
            "type": "scatterpolargl"
           }
          ],
          "scatterternary": [
           {
            "marker": {
             "colorbar": {
              "outlinewidth": 0,
              "ticks": ""
             }
            },
            "type": "scatterternary"
           }
          ],
          "surface": [
           {
            "colorbar": {
             "outlinewidth": 0,
             "ticks": ""
            },
            "colorscale": [
             [
              0,
              "#0d0887"
             ],
             [
              0.1111111111111111,
              "#46039f"
             ],
             [
              0.2222222222222222,
              "#7201a8"
             ],
             [
              0.3333333333333333,
              "#9c179e"
             ],
             [
              0.4444444444444444,
              "#bd3786"
             ],
             [
              0.5555555555555556,
              "#d8576b"
             ],
             [
              0.6666666666666666,
              "#ed7953"
             ],
             [
              0.7777777777777778,
              "#fb9f3a"
             ],
             [
              0.8888888888888888,
              "#fdca26"
             ],
             [
              1,
              "#f0f921"
             ]
            ],
            "type": "surface"
           }
          ],
          "table": [
           {
            "cells": {
             "fill": {
              "color": "#EBF0F8"
             },
             "line": {
              "color": "white"
             }
            },
            "header": {
             "fill": {
              "color": "#C8D4E3"
             },
             "line": {
              "color": "white"
             }
            },
            "type": "table"
           }
          ]
         },
         "layout": {
          "annotationdefaults": {
           "arrowcolor": "#2a3f5f",
           "arrowhead": 0,
           "arrowwidth": 1
          },
          "autotypenumbers": "strict",
          "coloraxis": {
           "colorbar": {
            "outlinewidth": 0,
            "ticks": ""
           }
          },
          "colorscale": {
           "diverging": [
            [
             0,
             "#8e0152"
            ],
            [
             0.1,
             "#c51b7d"
            ],
            [
             0.2,
             "#de77ae"
            ],
            [
             0.3,
             "#f1b6da"
            ],
            [
             0.4,
             "#fde0ef"
            ],
            [
             0.5,
             "#f7f7f7"
            ],
            [
             0.6,
             "#e6f5d0"
            ],
            [
             0.7,
             "#b8e186"
            ],
            [
             0.8,
             "#7fbc41"
            ],
            [
             0.9,
             "#4d9221"
            ],
            [
             1,
             "#276419"
            ]
           ],
           "sequential": [
            [
             0,
             "#0d0887"
            ],
            [
             0.1111111111111111,
             "#46039f"
            ],
            [
             0.2222222222222222,
             "#7201a8"
            ],
            [
             0.3333333333333333,
             "#9c179e"
            ],
            [
             0.4444444444444444,
             "#bd3786"
            ],
            [
             0.5555555555555556,
             "#d8576b"
            ],
            [
             0.6666666666666666,
             "#ed7953"
            ],
            [
             0.7777777777777778,
             "#fb9f3a"
            ],
            [
             0.8888888888888888,
             "#fdca26"
            ],
            [
             1,
             "#f0f921"
            ]
           ],
           "sequentialminus": [
            [
             0,
             "#0d0887"
            ],
            [
             0.1111111111111111,
             "#46039f"
            ],
            [
             0.2222222222222222,
             "#7201a8"
            ],
            [
             0.3333333333333333,
             "#9c179e"
            ],
            [
             0.4444444444444444,
             "#bd3786"
            ],
            [
             0.5555555555555556,
             "#d8576b"
            ],
            [
             0.6666666666666666,
             "#ed7953"
            ],
            [
             0.7777777777777778,
             "#fb9f3a"
            ],
            [
             0.8888888888888888,
             "#fdca26"
            ],
            [
             1,
             "#f0f921"
            ]
           ]
          },
          "colorway": [
           "#636efa",
           "#EF553B",
           "#00cc96",
           "#ab63fa",
           "#FFA15A",
           "#19d3f3",
           "#FF6692",
           "#B6E880",
           "#FF97FF",
           "#FECB52"
          ],
          "font": {
           "color": "#2a3f5f"
          },
          "geo": {
           "bgcolor": "white",
           "lakecolor": "white",
           "landcolor": "#E5ECF6",
           "showlakes": true,
           "showland": true,
           "subunitcolor": "white"
          },
          "hoverlabel": {
           "align": "left"
          },
          "hovermode": "closest",
          "mapbox": {
           "style": "light"
          },
          "paper_bgcolor": "white",
          "plot_bgcolor": "#E5ECF6",
          "polar": {
           "angularaxis": {
            "gridcolor": "white",
            "linecolor": "white",
            "ticks": ""
           },
           "bgcolor": "#E5ECF6",
           "radialaxis": {
            "gridcolor": "white",
            "linecolor": "white",
            "ticks": ""
           }
          },
          "scene": {
           "xaxis": {
            "backgroundcolor": "#E5ECF6",
            "gridcolor": "white",
            "gridwidth": 2,
            "linecolor": "white",
            "showbackground": true,
            "ticks": "",
            "zerolinecolor": "white"
           },
           "yaxis": {
            "backgroundcolor": "#E5ECF6",
            "gridcolor": "white",
            "gridwidth": 2,
            "linecolor": "white",
            "showbackground": true,
            "ticks": "",
            "zerolinecolor": "white"
           },
           "zaxis": {
            "backgroundcolor": "#E5ECF6",
            "gridcolor": "white",
            "gridwidth": 2,
            "linecolor": "white",
            "showbackground": true,
            "ticks": "",
            "zerolinecolor": "white"
           }
          },
          "shapedefaults": {
           "line": {
            "color": "#2a3f5f"
           }
          },
          "ternary": {
           "aaxis": {
            "gridcolor": "white",
            "linecolor": "white",
            "ticks": ""
           },
           "baxis": {
            "gridcolor": "white",
            "linecolor": "white",
            "ticks": ""
           },
           "bgcolor": "#E5ECF6",
           "caxis": {
            "gridcolor": "white",
            "linecolor": "white",
            "ticks": ""
           }
          },
          "title": {
           "x": 0.05
          },
          "xaxis": {
           "automargin": true,
           "gridcolor": "white",
           "linecolor": "white",
           "ticks": "",
           "title": {
            "standoff": 15
           },
           "zerolinecolor": "white",
           "zerolinewidth": 2
          },
          "yaxis": {
           "automargin": true,
           "gridcolor": "white",
           "linecolor": "white",
           "ticks": "",
           "title": {
            "standoff": 15
           },
           "zerolinecolor": "white",
           "zerolinewidth": 2
          }
         }
        },
        "title": {
         "text": "QK Circuit Scores"
        },
        "width": 700,
        "xaxis": {
         "anchor": "y",
         "constrain": "domain",
         "domain": [
          0,
          0.49
         ],
         "scaleanchor": "y",
         "title": {
          "text": "Head"
         }
        },
        "xaxis2": {
         "anchor": "y2",
         "domain": [
          0.51,
          1
         ],
         "matches": "x",
         "title": {
          "text": "Head"
         }
        },
        "yaxis": {
         "anchor": "x",
         "autorange": "reversed",
         "constrain": "domain",
         "domain": [
          0,
          1
         ],
         "title": {
          "text": "Layer"
         }
        },
        "yaxis2": {
         "anchor": "x2",
         "domain": [
          0,
          1
         ],
         "matches": "y",
         "showticklabels": false
        }
       }
      },
      "text/html": [
       "<div>                            <div id=\"fb375081-ee87-4a06-84aa-2635fd784625\" class=\"plotly-graph-div\" style=\"height:525px; width:700px;\"></div>            <script type=\"text/javascript\">                require([\"plotly\"], function(Plotly) {                    window.PLOTLYENV=window.PLOTLYENV || {};                                    if (document.getElementById(\"fb375081-ee87-4a06-84aa-2635fd784625\")) {                    Plotly.newPlot(                        \"fb375081-ee87-4a06-84aa-2635fd784625\",                        [{\"coloraxis\":\"coloraxis\",\"name\":\"0\",\"z\":[[0.0,0.9655172228813171,0.0,0.9655172228813171,0.7931034564971924,0.9655172228813171,0.0,0.0,0.0,0.0,0.9655172228813171,0.06896551698446274],[0.0,0.0,0.0,0.03448275849223137,0.03448275849223137,0.0,0.17241379618644714,0.0,0.0,0.0,0.0,0.9655172228813171],[0.0,0.03448275849223137,0.0,0.0,0.0,0.0,0.0,0.0,0.0,0.0,0.03448275849223137,0.0],[0.9655172228813171,0.0,0.0,0.0,0.0,0.03448275849223137,0.0,0.0,0.0,0.0,0.03448275849223137,0.0],[0.0,0.0,0.03448275849223137,0.0,0.24137930572032928,0.0,0.0,0.0,0.0,0.0,0.03448275849223137,0.0],[0.0,0.0,0.0,0.0,0.0,0.0,0.0,0.03448275849223137,0.0,0.0,0.17241379618644714,0.13793103396892548],[0.0,0.0,0.0,0.0,0.0,0.03448275849223137,0.4482758641242981,0.0,0.0,0.0,0.03448275849223137,0.0],[0.0,0.1034482792019844,0.0,0.06896551698446274,0.0,0.0,0.0,0.03448275849223137,0.0,0.0,0.0,0.03448275849223137],[0.0,0.0,0.0,0.06896551698446274,0.03448275849223137,0.0,0.03448275849223137,0.0,0.0,0.1034482792019844,0.17241379618644714,0.0],[0.27586206793785095,0.0,0.03448275849223137,0.0,0.24137930572032928,0.13793103396892548,0.0,0.03448275849223137,0.03448275849223137,0.0,0.0,0.03448275849223137],[0.0,0.0,0.0,0.0,0.0,0.03448275849223137,0.0,0.6551724076271057,0.03448275849223137,0.0,0.0,0.03448275849223137],[0.03448275849223137,0.0,0.0,0.0,0.06896551698446274,0.0,0.03448275849223137,0.0,0.0,0.0,0.3448275923728943,0.0]],\"type\":\"heatmap\",\"xaxis\":\"x\",\"yaxis\":\"y\",\"hovertemplate\":\"Head: %{x}\\u003cbr\\u003eLayer: %{y}\\u003cbr\\u003ecolor: %{z}\\u003cextra\\u003e\\u003c\\u002fextra\\u003e\"},{\"coloraxis\":\"coloraxis\",\"name\":\"1\",\"z\":[[0.17241379618644714,0.0,0.3448275923728943,0.0,0.0,0.0,0.06896551698446274,0.24137930572032928,0.13793103396892548,0.9655172228813171,0.0,0.0],[0.48275861144065857,0.27586206793785095,0.03448275849223137,0.03448275849223137,0.03448275849223137,0.1034482792019844,0.03448275849223137,0.7931034564971924,0.03448275849223137,0.03448275849223137,0.06896551698446274,0.0],[0.931034505367279,0.13793103396892548,0.931034505367279,0.7931034564971924,0.27586206793785095,0.931034505367279,0.27586206793785095,0.06896551698446274,0.5862069129943848,0.931034505367279,0.03448275849223137,0.06896551698446274],[0.0,0.3103448152542114,0.5517241358757019,0.7931034564971924,0.9655172228813171,0.37931033968925476,0.2068965584039688,0.8965517282485962,0.8965517282485962,0.27586206793785095,0.13793103396892548,0.5862069129943848],[0.3103448152542114,0.2068965584039688,0.27586206793785095,0.4482758641242981,0.0,0.13793103396892548,0.8965517282485962,0.03448275849223137,0.6206896305084229,0.37931033968925476,0.0,0.8620689511299133],[0.1034482792019844,0.7931034564971924,0.3103448152542114,0.24137930572032928,0.3448275923728943,0.8965517282485962,0.5862069129943848,0.0,0.8275862336158752,0.9655172228813171,0.0,0.0],[0.3103448152542114,0.1034482792019844,0.17241379618644714,0.27586206793785095,0.03448275849223137,0.13793103396892548,0.0,0.3103448152542114,0.517241358757019,0.8620689511299133,0.03448275849223137,0.17241379618644714],[0.3103448152542114,0.06896551698446274,0.37931033968925476,0.0,0.06896551698446274,0.1034482792019844,0.1034482792019844,0.0,0.24137930572032928,0.1034482792019844,0.931034505367279,0.1034482792019844],[0.03448275849223137,0.27586206793785095,0.1034482792019844,0.0,0.06896551698446274,0.17241379618644714,0.0,0.24137930572032928,0.13793103396892548,0.0,0.0,0.1034482792019844],[0.0,0.13793103396892548,0.0,0.24137930572032928,0.0,0.0,0.17241379618644714,0.13793103396892548,0.03448275849223137,0.13793103396892548,0.03448275849223137,0.0],[0.0,0.2068965584039688,0.24137930572032928,0.1034482792019844,0.06896551698446274,0.03448275849223137,0.1034482792019844,0.0,0.03448275849223137,0.1034482792019844,0.24137930572032928,0.03448275849223137],[0.0,0.1034482792019844,0.7586206793785095,0.24137930572032928,0.03448275849223137,0.03448275849223137,0.0,0.03448275849223137,0.17241379618644714,0.03448275849223137,0.0,0.1034482792019844]],\"type\":\"heatmap\",\"xaxis\":\"x2\",\"yaxis\":\"y2\",\"hovertemplate\":\"Head: %{x}\\u003cbr\\u003eLayer: %{y}\\u003cbr\\u003ecolor: %{z}\\u003cextra\\u003e\\u003c\\u002fextra\\u003e\"}],                        {\"template\":{\"data\":{\"histogram2dcontour\":[{\"type\":\"histogram2dcontour\",\"colorbar\":{\"outlinewidth\":0,\"ticks\":\"\"},\"colorscale\":[[0.0,\"#0d0887\"],[0.1111111111111111,\"#46039f\"],[0.2222222222222222,\"#7201a8\"],[0.3333333333333333,\"#9c179e\"],[0.4444444444444444,\"#bd3786\"],[0.5555555555555556,\"#d8576b\"],[0.6666666666666666,\"#ed7953\"],[0.7777777777777778,\"#fb9f3a\"],[0.8888888888888888,\"#fdca26\"],[1.0,\"#f0f921\"]]}],\"choropleth\":[{\"type\":\"choropleth\",\"colorbar\":{\"outlinewidth\":0,\"ticks\":\"\"}}],\"histogram2d\":[{\"type\":\"histogram2d\",\"colorbar\":{\"outlinewidth\":0,\"ticks\":\"\"},\"colorscale\":[[0.0,\"#0d0887\"],[0.1111111111111111,\"#46039f\"],[0.2222222222222222,\"#7201a8\"],[0.3333333333333333,\"#9c179e\"],[0.4444444444444444,\"#bd3786\"],[0.5555555555555556,\"#d8576b\"],[0.6666666666666666,\"#ed7953\"],[0.7777777777777778,\"#fb9f3a\"],[0.8888888888888888,\"#fdca26\"],[1.0,\"#f0f921\"]]}],\"heatmap\":[{\"type\":\"heatmap\",\"colorbar\":{\"outlinewidth\":0,\"ticks\":\"\"},\"colorscale\":[[0.0,\"#0d0887\"],[0.1111111111111111,\"#46039f\"],[0.2222222222222222,\"#7201a8\"],[0.3333333333333333,\"#9c179e\"],[0.4444444444444444,\"#bd3786\"],[0.5555555555555556,\"#d8576b\"],[0.6666666666666666,\"#ed7953\"],[0.7777777777777778,\"#fb9f3a\"],[0.8888888888888888,\"#fdca26\"],[1.0,\"#f0f921\"]]}],\"heatmapgl\":[{\"type\":\"heatmapgl\",\"colorbar\":{\"outlinewidth\":0,\"ticks\":\"\"},\"colorscale\":[[0.0,\"#0d0887\"],[0.1111111111111111,\"#46039f\"],[0.2222222222222222,\"#7201a8\"],[0.3333333333333333,\"#9c179e\"],[0.4444444444444444,\"#bd3786\"],[0.5555555555555556,\"#d8576b\"],[0.6666666666666666,\"#ed7953\"],[0.7777777777777778,\"#fb9f3a\"],[0.8888888888888888,\"#fdca26\"],[1.0,\"#f0f921\"]]}],\"contourcarpet\":[{\"type\":\"contourcarpet\",\"colorbar\":{\"outlinewidth\":0,\"ticks\":\"\"}}],\"contour\":[{\"type\":\"contour\",\"colorbar\":{\"outlinewidth\":0,\"ticks\":\"\"},\"colorscale\":[[0.0,\"#0d0887\"],[0.1111111111111111,\"#46039f\"],[0.2222222222222222,\"#7201a8\"],[0.3333333333333333,\"#9c179e\"],[0.4444444444444444,\"#bd3786\"],[0.5555555555555556,\"#d8576b\"],[0.6666666666666666,\"#ed7953\"],[0.7777777777777778,\"#fb9f3a\"],[0.8888888888888888,\"#fdca26\"],[1.0,\"#f0f921\"]]}],\"surface\":[{\"type\":\"surface\",\"colorbar\":{\"outlinewidth\":0,\"ticks\":\"\"},\"colorscale\":[[0.0,\"#0d0887\"],[0.1111111111111111,\"#46039f\"],[0.2222222222222222,\"#7201a8\"],[0.3333333333333333,\"#9c179e\"],[0.4444444444444444,\"#bd3786\"],[0.5555555555555556,\"#d8576b\"],[0.6666666666666666,\"#ed7953\"],[0.7777777777777778,\"#fb9f3a\"],[0.8888888888888888,\"#fdca26\"],[1.0,\"#f0f921\"]]}],\"mesh3d\":[{\"type\":\"mesh3d\",\"colorbar\":{\"outlinewidth\":0,\"ticks\":\"\"}}],\"scatter\":[{\"fillpattern\":{\"fillmode\":\"overlay\",\"size\":10,\"solidity\":0.2},\"type\":\"scatter\"}],\"parcoords\":[{\"type\":\"parcoords\",\"line\":{\"colorbar\":{\"outlinewidth\":0,\"ticks\":\"\"}}}],\"scatterpolargl\":[{\"type\":\"scatterpolargl\",\"marker\":{\"colorbar\":{\"outlinewidth\":0,\"ticks\":\"\"}}}],\"bar\":[{\"error_x\":{\"color\":\"#2a3f5f\"},\"error_y\":{\"color\":\"#2a3f5f\"},\"marker\":{\"line\":{\"color\":\"#E5ECF6\",\"width\":0.5},\"pattern\":{\"fillmode\":\"overlay\",\"size\":10,\"solidity\":0.2}},\"type\":\"bar\"}],\"scattergeo\":[{\"type\":\"scattergeo\",\"marker\":{\"colorbar\":{\"outlinewidth\":0,\"ticks\":\"\"}}}],\"scatterpolar\":[{\"type\":\"scatterpolar\",\"marker\":{\"colorbar\":{\"outlinewidth\":0,\"ticks\":\"\"}}}],\"histogram\":[{\"marker\":{\"pattern\":{\"fillmode\":\"overlay\",\"size\":10,\"solidity\":0.2}},\"type\":\"histogram\"}],\"scattergl\":[{\"type\":\"scattergl\",\"marker\":{\"colorbar\":{\"outlinewidth\":0,\"ticks\":\"\"}}}],\"scatter3d\":[{\"type\":\"scatter3d\",\"line\":{\"colorbar\":{\"outlinewidth\":0,\"ticks\":\"\"}},\"marker\":{\"colorbar\":{\"outlinewidth\":0,\"ticks\":\"\"}}}],\"scattermapbox\":[{\"type\":\"scattermapbox\",\"marker\":{\"colorbar\":{\"outlinewidth\":0,\"ticks\":\"\"}}}],\"scatterternary\":[{\"type\":\"scatterternary\",\"marker\":{\"colorbar\":{\"outlinewidth\":0,\"ticks\":\"\"}}}],\"scattercarpet\":[{\"type\":\"scattercarpet\",\"marker\":{\"colorbar\":{\"outlinewidth\":0,\"ticks\":\"\"}}}],\"carpet\":[{\"aaxis\":{\"endlinecolor\":\"#2a3f5f\",\"gridcolor\":\"white\",\"linecolor\":\"white\",\"minorgridcolor\":\"white\",\"startlinecolor\":\"#2a3f5f\"},\"baxis\":{\"endlinecolor\":\"#2a3f5f\",\"gridcolor\":\"white\",\"linecolor\":\"white\",\"minorgridcolor\":\"white\",\"startlinecolor\":\"#2a3f5f\"},\"type\":\"carpet\"}],\"table\":[{\"cells\":{\"fill\":{\"color\":\"#EBF0F8\"},\"line\":{\"color\":\"white\"}},\"header\":{\"fill\":{\"color\":\"#C8D4E3\"},\"line\":{\"color\":\"white\"}},\"type\":\"table\"}],\"barpolar\":[{\"marker\":{\"line\":{\"color\":\"#E5ECF6\",\"width\":0.5},\"pattern\":{\"fillmode\":\"overlay\",\"size\":10,\"solidity\":0.2}},\"type\":\"barpolar\"}],\"pie\":[{\"automargin\":true,\"type\":\"pie\"}]},\"layout\":{\"autotypenumbers\":\"strict\",\"colorway\":[\"#636efa\",\"#EF553B\",\"#00cc96\",\"#ab63fa\",\"#FFA15A\",\"#19d3f3\",\"#FF6692\",\"#B6E880\",\"#FF97FF\",\"#FECB52\"],\"font\":{\"color\":\"#2a3f5f\"},\"hovermode\":\"closest\",\"hoverlabel\":{\"align\":\"left\"},\"paper_bgcolor\":\"white\",\"plot_bgcolor\":\"#E5ECF6\",\"polar\":{\"bgcolor\":\"#E5ECF6\",\"angularaxis\":{\"gridcolor\":\"white\",\"linecolor\":\"white\",\"ticks\":\"\"},\"radialaxis\":{\"gridcolor\":\"white\",\"linecolor\":\"white\",\"ticks\":\"\"}},\"ternary\":{\"bgcolor\":\"#E5ECF6\",\"aaxis\":{\"gridcolor\":\"white\",\"linecolor\":\"white\",\"ticks\":\"\"},\"baxis\":{\"gridcolor\":\"white\",\"linecolor\":\"white\",\"ticks\":\"\"},\"caxis\":{\"gridcolor\":\"white\",\"linecolor\":\"white\",\"ticks\":\"\"}},\"coloraxis\":{\"colorbar\":{\"outlinewidth\":0,\"ticks\":\"\"}},\"colorscale\":{\"sequential\":[[0.0,\"#0d0887\"],[0.1111111111111111,\"#46039f\"],[0.2222222222222222,\"#7201a8\"],[0.3333333333333333,\"#9c179e\"],[0.4444444444444444,\"#bd3786\"],[0.5555555555555556,\"#d8576b\"],[0.6666666666666666,\"#ed7953\"],[0.7777777777777778,\"#fb9f3a\"],[0.8888888888888888,\"#fdca26\"],[1.0,\"#f0f921\"]],\"sequentialminus\":[[0.0,\"#0d0887\"],[0.1111111111111111,\"#46039f\"],[0.2222222222222222,\"#7201a8\"],[0.3333333333333333,\"#9c179e\"],[0.4444444444444444,\"#bd3786\"],[0.5555555555555556,\"#d8576b\"],[0.6666666666666666,\"#ed7953\"],[0.7777777777777778,\"#fb9f3a\"],[0.8888888888888888,\"#fdca26\"],[1.0,\"#f0f921\"]],\"diverging\":[[0,\"#8e0152\"],[0.1,\"#c51b7d\"],[0.2,\"#de77ae\"],[0.3,\"#f1b6da\"],[0.4,\"#fde0ef\"],[0.5,\"#f7f7f7\"],[0.6,\"#e6f5d0\"],[0.7,\"#b8e186\"],[0.8,\"#7fbc41\"],[0.9,\"#4d9221\"],[1,\"#276419\"]]},\"xaxis\":{\"gridcolor\":\"white\",\"linecolor\":\"white\",\"ticks\":\"\",\"title\":{\"standoff\":15},\"zerolinecolor\":\"white\",\"automargin\":true,\"zerolinewidth\":2},\"yaxis\":{\"gridcolor\":\"white\",\"linecolor\":\"white\",\"ticks\":\"\",\"title\":{\"standoff\":15},\"zerolinecolor\":\"white\",\"automargin\":true,\"zerolinewidth\":2},\"scene\":{\"xaxis\":{\"backgroundcolor\":\"#E5ECF6\",\"gridcolor\":\"white\",\"linecolor\":\"white\",\"showbackground\":true,\"ticks\":\"\",\"zerolinecolor\":\"white\",\"gridwidth\":2},\"yaxis\":{\"backgroundcolor\":\"#E5ECF6\",\"gridcolor\":\"white\",\"linecolor\":\"white\",\"showbackground\":true,\"ticks\":\"\",\"zerolinecolor\":\"white\",\"gridwidth\":2},\"zaxis\":{\"backgroundcolor\":\"#E5ECF6\",\"gridcolor\":\"white\",\"linecolor\":\"white\",\"showbackground\":true,\"ticks\":\"\",\"zerolinecolor\":\"white\",\"gridwidth\":2}},\"shapedefaults\":{\"line\":{\"color\":\"#2a3f5f\"}},\"annotationdefaults\":{\"arrowcolor\":\"#2a3f5f\",\"arrowhead\":0,\"arrowwidth\":1},\"geo\":{\"bgcolor\":\"white\",\"landcolor\":\"#E5ECF6\",\"subunitcolor\":\"white\",\"showland\":true,\"showlakes\":true,\"lakecolor\":\"white\"},\"title\":{\"x\":0.05},\"mapbox\":{\"style\":\"light\"}}},\"xaxis\":{\"anchor\":\"y\",\"domain\":[0.0,0.49],\"scaleanchor\":\"y\",\"constrain\":\"domain\",\"title\":{\"text\":\"Head\"}},\"yaxis\":{\"anchor\":\"x\",\"domain\":[0.0,1.0],\"autorange\":\"reversed\",\"constrain\":\"domain\",\"title\":{\"text\":\"Layer\"}},\"xaxis2\":{\"anchor\":\"y2\",\"domain\":[0.51,1.0],\"matches\":\"x\",\"title\":{\"text\":\"Head\"}},\"yaxis2\":{\"anchor\":\"x2\",\"domain\":[0.0,1.0],\"matches\":\"y\",\"showticklabels\":false},\"annotations\":[{\"font\":{},\"showarrow\":false,\"text\":\"Positive top_1\",\"x\":0.245,\"xanchor\":\"center\",\"xref\":\"paper\",\"y\":1.0,\"yanchor\":\"bottom\",\"yref\":\"paper\"},{\"font\":{},\"showarrow\":false,\"text\":\"Negative top_1\",\"x\":0.755,\"xanchor\":\"center\",\"xref\":\"paper\",\"y\":1.0,\"yanchor\":\"bottom\",\"yref\":\"paper\"}],\"coloraxis\":{\"colorscale\":[[0.0,\"rgb(103,0,31)\"],[0.1,\"rgb(178,24,43)\"],[0.2,\"rgb(214,96,77)\"],[0.3,\"rgb(244,165,130)\"],[0.4,\"rgb(253,219,199)\"],[0.5,\"rgb(247,247,247)\"],[0.6,\"rgb(209,229,240)\"],[0.7,\"rgb(146,197,222)\"],[0.8,\"rgb(67,147,195)\"],[0.9,\"rgb(33,102,172)\"],[1.0,\"rgb(5,48,97)\"]],\"cmid\":0.0,\"cmin\":-1,\"cmax\":1},\"title\":{\"text\":\"QK Circuit Scores\"},\"width\":700},                        {\"responsive\": true}                    ).then(function(){\n",
       "                            \n",
       "var gd = document.getElementById('fb375081-ee87-4a06-84aa-2635fd784625');\n",
       "var x = new MutationObserver(function (mutations, observer) {{\n",
       "        var display = window.getComputedStyle(gd).display;\n",
       "        if (!display || display === 'none') {{\n",
       "            console.log([gd, 'removed!']);\n",
       "            Plotly.purge(gd);\n",
       "            observer.disconnect();\n",
       "        }}\n",
       "}});\n",
       "\n",
       "// Listen for the removal of the full notebook cells\n",
       "var notebookContainer = gd.closest('#notebook-container');\n",
       "if (notebookContainer) {{\n",
       "    x.observe(notebookContainer, {childList: true});\n",
       "}}\n",
       "\n",
       "// Listen for the clearing of the current output cell\n",
       "var outputEl = gd.closest('.output');\n",
       "if (outputEl) {{\n",
       "    x.observe(outputEl, {childList: true});\n",
       "}}\n",
       "\n",
       "                        })                };                });            </script>        </div>"
      ]
     },
     "metadata": {},
     "output_type": "display_data"
    }
   ],
   "source": [
    "imshow(\n",
    "    torch.stack((pos_qk_scores[..., 0], neg_qk_scores[..., 0])),\n",
    "    facet_col = 0,\n",
    "    facet_labels = [\"Positive top_1\", \"Negative top_1\"],\n",
    "    labels={\"x\": \"Head\", \"y\": \"Layer\"},\n",
    "    title=f\"QK Circuit Scores\",\n",
    "    width=700,\n",
    "    range_color = [-1, 1]\n",
    ")"
   ]
  },
  {
   "cell_type": "code",
   "execution_count": 139,
   "metadata": {},
   "outputs": [],
   "source": [
    "def gather_backup_scores_between_heads(head_list, negative = False):\n",
    "  \"\"\"\n",
    "  gathers backup scores between heads in a list\n",
    "  \"\"\"\n",
    "\n",
    "  scores = torch.zeros((len(head_list), len(head_list)))\n",
    "  for i, head_i in enumerate(head_list):\n",
    "    for j, head_j in enumerate(head_list):\n",
    "      top1, top5 =  look_at_backup_circuit(model, head_i, head_j, names_list, show_matrix=False, negative = negative)\n",
    "      scores[i][j] = top1\n",
    "\n",
    "\n",
    "  return scores"
   ]
  },
  {
   "cell_type": "code",
   "execution_count": 140,
   "metadata": {},
   "outputs": [],
   "source": [
    "all_heads_list =  neg_m_heads + name_mover_heads + key_backup_heads\n",
    "\n",
    "interesting_head_backup_scores = gather_backup_scores_between_heads(all_heads_list, negative = False)\n",
    "neg_interesting_head_backup_scores = gather_backup_scores_between_heads(all_heads_list, negative = True)"
   ]
  },
  {
   "cell_type": "code",
   "execution_count": 141,
   "metadata": {},
   "outputs": [
    {
     "data": {
      "application/vnd.plotly.v1+json": {
       "config": {
        "plotlyServerURL": "https://plot.ly"
       },
       "data": [
        {
         "coloraxis": "coloraxis",
         "hovertemplate": "QK Head: %{x}<br>OV Head: %{y}<br>Similarity to ± Identity: %{z}<extra></extra>",
         "name": "0",
         "type": "heatmap",
         "x": [
          "(10, 7)",
          "(11, 10)",
          "(9, 9)",
          "(9, 6)",
          "(10, 0)",
          "(10, 2)",
          "(10, 10)",
          "(11, 2)"
         ],
         "xaxis": "x",
         "y": [
          "(10, 7)",
          "(11, 10)",
          "(9, 9)",
          "(9, 6)",
          "(10, 0)",
          "(10, 2)",
          "(10, 10)",
          "(11, 2)"
         ],
         "yaxis": "y",
         "z": [
          [
           0,
           0,
           0,
           0,
           0,
           0.3103448152542114,
           0,
           0.03448275849223137
          ],
          [
           0,
           0,
           0.03448275849223137,
           0,
           0.03448275849223137,
           0.37931033968925476,
           0.03448275849223137,
           0.37931033968925476
          ],
          [
           0.9655172228813171,
           0.9655172228813171,
           0,
           0,
           0.03448275849223137,
           0,
           0,
           0
          ],
          [
           0.9655172228813171,
           0.9655172228813171,
           0,
           0,
           0,
           0,
           0,
           0
          ],
          [
           0.9655172228813171,
           0.931034505367279,
           0,
           0,
           0,
           0,
           0,
           0
          ],
          [
           0.9655172228813171,
           0.9655172228813171,
           0.1034482792019844,
           0.13793103396892548,
           0.17241379618644714,
           0,
           0.06896551698446274,
           0
          ],
          [
           0.8965517282485962,
           0.9655172228813171,
           0,
           0,
           0,
           0,
           0,
           0
          ],
          [
           0.9655172228813171,
           0.9655172228813171,
           0.06896551698446274,
           0.03448275849223137,
           0,
           0,
           0.03448275849223137,
           0
          ]
         ]
        },
        {
         "coloraxis": "coloraxis",
         "hovertemplate": "QK Head: %{x}<br>OV Head: %{y}<br>Similarity to ± Identity: %{z}<extra></extra>",
         "name": "1",
         "type": "heatmap",
         "x": [
          "(10, 7)",
          "(11, 10)",
          "(9, 9)",
          "(9, 6)",
          "(10, 0)",
          "(10, 2)",
          "(10, 10)",
          "(11, 2)"
         ],
         "xaxis": "x2",
         "y": [
          "(10, 7)",
          "(11, 10)",
          "(9, 9)",
          "(9, 6)",
          "(10, 0)",
          "(10, 2)",
          "(10, 10)",
          "(11, 2)"
         ],
         "yaxis": "y2",
         "z": [
          [
           0.9655172228813171,
           0.9655172228813171,
           0.13793103396892548,
           0.13793103396892548,
           0.4482758641242981,
           0,
           0.17241379618644714,
           0.1034482792019844
          ],
          [
           0.9655172228813171,
           0.9655172228813171,
           0.06896551698446274,
           0.17241379618644714,
           0.17241379618644714,
           0,
           0,
           0
          ],
          [
           0,
           0,
           0.06896551698446274,
           0.06896551698446274,
           0.13793103396892548,
           0.8275862336158752,
           0.6206896305084229,
           0.7931034564971924
          ],
          [
           0,
           0,
           0.13793103396892548,
           0.13793103396892548,
           0.7241379022598267,
           0.6551724076271057,
           0.5862069129943848,
           0.7931034564971924
          ],
          [
           0,
           0,
           0.06896551698446274,
           0.03448275849223137,
           0.7586206793785095,
           0.6206896305084229,
           0.13793103396892548,
           0.931034505367279
          ],
          [
           0,
           0,
           0.03448275849223137,
           0.03448275849223137,
           0,
           0.7241379022598267,
           0,
           0.4137931168079376
          ],
          [
           0,
           0,
           0.03448275849223137,
           0.1034482792019844,
           0.06896551698446274,
           0.3448275923728943,
           0.7241379022598267,
           0.4137931168079376
          ],
          [
           0,
           0,
           0.06896551698446274,
           0.03448275849223137,
           0.17241379618644714,
           0.4482758641242981,
           0.2068965584039688,
           0.931034505367279
          ]
         ]
        }
       ],
       "layout": {
        "annotations": [
         {
          "font": {},
          "showarrow": false,
          "text": "Positive Backup",
          "x": 0.245,
          "xanchor": "center",
          "xref": "paper",
          "y": 1,
          "yanchor": "bottom",
          "yref": "paper"
         },
         {
          "font": {},
          "showarrow": false,
          "text": "Negative Backup",
          "x": 0.755,
          "xanchor": "center",
          "xref": "paper",
          "y": 1,
          "yanchor": "bottom",
          "yref": "paper"
         }
        ],
        "coloraxis": {
         "cmid": 0,
         "colorbar": {
          "title": {
           "text": "Similarity to ± Identity"
          }
         },
         "colorscale": [
          [
           0,
           "rgb(103,0,31)"
          ],
          [
           0.1,
           "rgb(178,24,43)"
          ],
          [
           0.2,
           "rgb(214,96,77)"
          ],
          [
           0.3,
           "rgb(244,165,130)"
          ],
          [
           0.4,
           "rgb(253,219,199)"
          ],
          [
           0.5,
           "rgb(247,247,247)"
          ],
          [
           0.6,
           "rgb(209,229,240)"
          ],
          [
           0.7,
           "rgb(146,197,222)"
          ],
          [
           0.8,
           "rgb(67,147,195)"
          ],
          [
           0.9,
           "rgb(33,102,172)"
          ],
          [
           1,
           "rgb(5,48,97)"
          ]
         ]
        },
        "margin": {
         "l": 100,
         "r": 100
        },
        "template": {
         "data": {
          "bar": [
           {
            "error_x": {
             "color": "#2a3f5f"
            },
            "error_y": {
             "color": "#2a3f5f"
            },
            "marker": {
             "line": {
              "color": "#E5ECF6",
              "width": 0.5
             },
             "pattern": {
              "fillmode": "overlay",
              "size": 10,
              "solidity": 0.2
             }
            },
            "type": "bar"
           }
          ],
          "barpolar": [
           {
            "marker": {
             "line": {
              "color": "#E5ECF6",
              "width": 0.5
             },
             "pattern": {
              "fillmode": "overlay",
              "size": 10,
              "solidity": 0.2
             }
            },
            "type": "barpolar"
           }
          ],
          "carpet": [
           {
            "aaxis": {
             "endlinecolor": "#2a3f5f",
             "gridcolor": "white",
             "linecolor": "white",
             "minorgridcolor": "white",
             "startlinecolor": "#2a3f5f"
            },
            "baxis": {
             "endlinecolor": "#2a3f5f",
             "gridcolor": "white",
             "linecolor": "white",
             "minorgridcolor": "white",
             "startlinecolor": "#2a3f5f"
            },
            "type": "carpet"
           }
          ],
          "choropleth": [
           {
            "colorbar": {
             "outlinewidth": 0,
             "ticks": ""
            },
            "type": "choropleth"
           }
          ],
          "contour": [
           {
            "colorbar": {
             "outlinewidth": 0,
             "ticks": ""
            },
            "colorscale": [
             [
              0,
              "#0d0887"
             ],
             [
              0.1111111111111111,
              "#46039f"
             ],
             [
              0.2222222222222222,
              "#7201a8"
             ],
             [
              0.3333333333333333,
              "#9c179e"
             ],
             [
              0.4444444444444444,
              "#bd3786"
             ],
             [
              0.5555555555555556,
              "#d8576b"
             ],
             [
              0.6666666666666666,
              "#ed7953"
             ],
             [
              0.7777777777777778,
              "#fb9f3a"
             ],
             [
              0.8888888888888888,
              "#fdca26"
             ],
             [
              1,
              "#f0f921"
             ]
            ],
            "type": "contour"
           }
          ],
          "contourcarpet": [
           {
            "colorbar": {
             "outlinewidth": 0,
             "ticks": ""
            },
            "type": "contourcarpet"
           }
          ],
          "heatmap": [
           {
            "colorbar": {
             "outlinewidth": 0,
             "ticks": ""
            },
            "colorscale": [
             [
              0,
              "#0d0887"
             ],
             [
              0.1111111111111111,
              "#46039f"
             ],
             [
              0.2222222222222222,
              "#7201a8"
             ],
             [
              0.3333333333333333,
              "#9c179e"
             ],
             [
              0.4444444444444444,
              "#bd3786"
             ],
             [
              0.5555555555555556,
              "#d8576b"
             ],
             [
              0.6666666666666666,
              "#ed7953"
             ],
             [
              0.7777777777777778,
              "#fb9f3a"
             ],
             [
              0.8888888888888888,
              "#fdca26"
             ],
             [
              1,
              "#f0f921"
             ]
            ],
            "type": "heatmap"
           }
          ],
          "heatmapgl": [
           {
            "colorbar": {
             "outlinewidth": 0,
             "ticks": ""
            },
            "colorscale": [
             [
              0,
              "#0d0887"
             ],
             [
              0.1111111111111111,
              "#46039f"
             ],
             [
              0.2222222222222222,
              "#7201a8"
             ],
             [
              0.3333333333333333,
              "#9c179e"
             ],
             [
              0.4444444444444444,
              "#bd3786"
             ],
             [
              0.5555555555555556,
              "#d8576b"
             ],
             [
              0.6666666666666666,
              "#ed7953"
             ],
             [
              0.7777777777777778,
              "#fb9f3a"
             ],
             [
              0.8888888888888888,
              "#fdca26"
             ],
             [
              1,
              "#f0f921"
             ]
            ],
            "type": "heatmapgl"
           }
          ],
          "histogram": [
           {
            "marker": {
             "pattern": {
              "fillmode": "overlay",
              "size": 10,
              "solidity": 0.2
             }
            },
            "type": "histogram"
           }
          ],
          "histogram2d": [
           {
            "colorbar": {
             "outlinewidth": 0,
             "ticks": ""
            },
            "colorscale": [
             [
              0,
              "#0d0887"
             ],
             [
              0.1111111111111111,
              "#46039f"
             ],
             [
              0.2222222222222222,
              "#7201a8"
             ],
             [
              0.3333333333333333,
              "#9c179e"
             ],
             [
              0.4444444444444444,
              "#bd3786"
             ],
             [
              0.5555555555555556,
              "#d8576b"
             ],
             [
              0.6666666666666666,
              "#ed7953"
             ],
             [
              0.7777777777777778,
              "#fb9f3a"
             ],
             [
              0.8888888888888888,
              "#fdca26"
             ],
             [
              1,
              "#f0f921"
             ]
            ],
            "type": "histogram2d"
           }
          ],
          "histogram2dcontour": [
           {
            "colorbar": {
             "outlinewidth": 0,
             "ticks": ""
            },
            "colorscale": [
             [
              0,
              "#0d0887"
             ],
             [
              0.1111111111111111,
              "#46039f"
             ],
             [
              0.2222222222222222,
              "#7201a8"
             ],
             [
              0.3333333333333333,
              "#9c179e"
             ],
             [
              0.4444444444444444,
              "#bd3786"
             ],
             [
              0.5555555555555556,
              "#d8576b"
             ],
             [
              0.6666666666666666,
              "#ed7953"
             ],
             [
              0.7777777777777778,
              "#fb9f3a"
             ],
             [
              0.8888888888888888,
              "#fdca26"
             ],
             [
              1,
              "#f0f921"
             ]
            ],
            "type": "histogram2dcontour"
           }
          ],
          "mesh3d": [
           {
            "colorbar": {
             "outlinewidth": 0,
             "ticks": ""
            },
            "type": "mesh3d"
           }
          ],
          "parcoords": [
           {
            "line": {
             "colorbar": {
              "outlinewidth": 0,
              "ticks": ""
             }
            },
            "type": "parcoords"
           }
          ],
          "pie": [
           {
            "automargin": true,
            "type": "pie"
           }
          ],
          "scatter": [
           {
            "fillpattern": {
             "fillmode": "overlay",
             "size": 10,
             "solidity": 0.2
            },
            "type": "scatter"
           }
          ],
          "scatter3d": [
           {
            "line": {
             "colorbar": {
              "outlinewidth": 0,
              "ticks": ""
             }
            },
            "marker": {
             "colorbar": {
              "outlinewidth": 0,
              "ticks": ""
             }
            },
            "type": "scatter3d"
           }
          ],
          "scattercarpet": [
           {
            "marker": {
             "colorbar": {
              "outlinewidth": 0,
              "ticks": ""
             }
            },
            "type": "scattercarpet"
           }
          ],
          "scattergeo": [
           {
            "marker": {
             "colorbar": {
              "outlinewidth": 0,
              "ticks": ""
             }
            },
            "type": "scattergeo"
           }
          ],
          "scattergl": [
           {
            "marker": {
             "colorbar": {
              "outlinewidth": 0,
              "ticks": ""
             }
            },
            "type": "scattergl"
           }
          ],
          "scattermapbox": [
           {
            "marker": {
             "colorbar": {
              "outlinewidth": 0,
              "ticks": ""
             }
            },
            "type": "scattermapbox"
           }
          ],
          "scatterpolar": [
           {
            "marker": {
             "colorbar": {
              "outlinewidth": 0,
              "ticks": ""
             }
            },
            "type": "scatterpolar"
           }
          ],
          "scatterpolargl": [
           {
            "marker": {
             "colorbar": {
              "outlinewidth": 0,
              "ticks": ""
             }
            },
            "type": "scatterpolargl"
           }
          ],
          "scatterternary": [
           {
            "marker": {
             "colorbar": {
              "outlinewidth": 0,
              "ticks": ""
             }
            },
            "type": "scatterternary"
           }
          ],
          "surface": [
           {
            "colorbar": {
             "outlinewidth": 0,
             "ticks": ""
            },
            "colorscale": [
             [
              0,
              "#0d0887"
             ],
             [
              0.1111111111111111,
              "#46039f"
             ],
             [
              0.2222222222222222,
              "#7201a8"
             ],
             [
              0.3333333333333333,
              "#9c179e"
             ],
             [
              0.4444444444444444,
              "#bd3786"
             ],
             [
              0.5555555555555556,
              "#d8576b"
             ],
             [
              0.6666666666666666,
              "#ed7953"
             ],
             [
              0.7777777777777778,
              "#fb9f3a"
             ],
             [
              0.8888888888888888,
              "#fdca26"
             ],
             [
              1,
              "#f0f921"
             ]
            ],
            "type": "surface"
           }
          ],
          "table": [
           {
            "cells": {
             "fill": {
              "color": "#EBF0F8"
             },
             "line": {
              "color": "white"
             }
            },
            "header": {
             "fill": {
              "color": "#C8D4E3"
             },
             "line": {
              "color": "white"
             }
            },
            "type": "table"
           }
          ]
         },
         "layout": {
          "annotationdefaults": {
           "arrowcolor": "#2a3f5f",
           "arrowhead": 0,
           "arrowwidth": 1
          },
          "autotypenumbers": "strict",
          "coloraxis": {
           "colorbar": {
            "outlinewidth": 0,
            "ticks": ""
           }
          },
          "colorscale": {
           "diverging": [
            [
             0,
             "#8e0152"
            ],
            [
             0.1,
             "#c51b7d"
            ],
            [
             0.2,
             "#de77ae"
            ],
            [
             0.3,
             "#f1b6da"
            ],
            [
             0.4,
             "#fde0ef"
            ],
            [
             0.5,
             "#f7f7f7"
            ],
            [
             0.6,
             "#e6f5d0"
            ],
            [
             0.7,
             "#b8e186"
            ],
            [
             0.8,
             "#7fbc41"
            ],
            [
             0.9,
             "#4d9221"
            ],
            [
             1,
             "#276419"
            ]
           ],
           "sequential": [
            [
             0,
             "#0d0887"
            ],
            [
             0.1111111111111111,
             "#46039f"
            ],
            [
             0.2222222222222222,
             "#7201a8"
            ],
            [
             0.3333333333333333,
             "#9c179e"
            ],
            [
             0.4444444444444444,
             "#bd3786"
            ],
            [
             0.5555555555555556,
             "#d8576b"
            ],
            [
             0.6666666666666666,
             "#ed7953"
            ],
            [
             0.7777777777777778,
             "#fb9f3a"
            ],
            [
             0.8888888888888888,
             "#fdca26"
            ],
            [
             1,
             "#f0f921"
            ]
           ],
           "sequentialminus": [
            [
             0,
             "#0d0887"
            ],
            [
             0.1111111111111111,
             "#46039f"
            ],
            [
             0.2222222222222222,
             "#7201a8"
            ],
            [
             0.3333333333333333,
             "#9c179e"
            ],
            [
             0.4444444444444444,
             "#bd3786"
            ],
            [
             0.5555555555555556,
             "#d8576b"
            ],
            [
             0.6666666666666666,
             "#ed7953"
            ],
            [
             0.7777777777777778,
             "#fb9f3a"
            ],
            [
             0.8888888888888888,
             "#fdca26"
            ],
            [
             1,
             "#f0f921"
            ]
           ]
          },
          "colorway": [
           "#636efa",
           "#EF553B",
           "#00cc96",
           "#ab63fa",
           "#FFA15A",
           "#19d3f3",
           "#FF6692",
           "#B6E880",
           "#FF97FF",
           "#FECB52"
          ],
          "font": {
           "color": "#2a3f5f"
          },
          "geo": {
           "bgcolor": "white",
           "lakecolor": "white",
           "landcolor": "#E5ECF6",
           "showlakes": true,
           "showland": true,
           "subunitcolor": "white"
          },
          "hoverlabel": {
           "align": "left"
          },
          "hovermode": "closest",
          "mapbox": {
           "style": "light"
          },
          "paper_bgcolor": "white",
          "plot_bgcolor": "#E5ECF6",
          "polar": {
           "angularaxis": {
            "gridcolor": "white",
            "linecolor": "white",
            "ticks": ""
           },
           "bgcolor": "#E5ECF6",
           "radialaxis": {
            "gridcolor": "white",
            "linecolor": "white",
            "ticks": ""
           }
          },
          "scene": {
           "xaxis": {
            "backgroundcolor": "#E5ECF6",
            "gridcolor": "white",
            "gridwidth": 2,
            "linecolor": "white",
            "showbackground": true,
            "ticks": "",
            "zerolinecolor": "white"
           },
           "yaxis": {
            "backgroundcolor": "#E5ECF6",
            "gridcolor": "white",
            "gridwidth": 2,
            "linecolor": "white",
            "showbackground": true,
            "ticks": "",
            "zerolinecolor": "white"
           },
           "zaxis": {
            "backgroundcolor": "#E5ECF6",
            "gridcolor": "white",
            "gridwidth": 2,
            "linecolor": "white",
            "showbackground": true,
            "ticks": "",
            "zerolinecolor": "white"
           }
          },
          "shapedefaults": {
           "line": {
            "color": "#2a3f5f"
           }
          },
          "ternary": {
           "aaxis": {
            "gridcolor": "white",
            "linecolor": "white",
            "ticks": ""
           },
           "baxis": {
            "gridcolor": "white",
            "linecolor": "white",
            "ticks": ""
           },
           "bgcolor": "#E5ECF6",
           "caxis": {
            "gridcolor": "white",
            "linecolor": "white",
            "ticks": ""
           }
          },
          "title": {
           "x": 0.05
          },
          "xaxis": {
           "automargin": true,
           "gridcolor": "white",
           "linecolor": "white",
           "ticks": "",
           "title": {
            "standoff": 15
           },
           "zerolinecolor": "white",
           "zerolinewidth": 2
          },
          "yaxis": {
           "automargin": true,
           "gridcolor": "white",
           "linecolor": "white",
           "ticks": "",
           "title": {
            "standoff": 15
           },
           "zerolinecolor": "white",
           "zerolinewidth": 2
          }
         }
        },
        "title": {
         "text": "Backup Scores between key heads"
        },
        "width": 800,
        "xaxis": {
         "anchor": "y",
         "constrain": "domain",
         "domain": [
          0,
          0.49
         ],
         "linecolor": "black",
         "linewidth": 1,
         "mirror": true,
         "scaleanchor": "y",
         "showline": true,
         "title": {
          "text": "QK Head"
         }
        },
        "xaxis2": {
         "anchor": "y2",
         "domain": [
          0.51,
          1
         ],
         "linecolor": "black",
         "linewidth": 1,
         "matches": "x",
         "mirror": true,
         "showline": true,
         "title": {
          "text": "QK Head"
         }
        },
        "yaxis": {
         "anchor": "x",
         "autorange": "reversed",
         "constrain": "domain",
         "domain": [
          0,
          1
         ],
         "linecolor": "black",
         "linewidth": 1,
         "mirror": true,
         "showline": true,
         "title": {
          "text": "OV Head"
         }
        },
        "yaxis2": {
         "anchor": "x2",
         "domain": [
          0,
          1
         ],
         "linecolor": "black",
         "linewidth": 1,
         "matches": "y",
         "mirror": true,
         "showline": true,
         "showticklabels": false
        }
       }
      },
      "text/html": [
       "<div>                            <div id=\"4530a6fd-76a1-4be6-9af5-b9e6e042d154\" class=\"plotly-graph-div\" style=\"height:525px; width:800px;\"></div>            <script type=\"text/javascript\">                require([\"plotly\"], function(Plotly) {                    window.PLOTLYENV=window.PLOTLYENV || {};                                    if (document.getElementById(\"4530a6fd-76a1-4be6-9af5-b9e6e042d154\")) {                    Plotly.newPlot(                        \"4530a6fd-76a1-4be6-9af5-b9e6e042d154\",                        [{\"coloraxis\":\"coloraxis\",\"name\":\"0\",\"x\":[\"(10, 7)\",\"(11, 10)\",\"(9, 9)\",\"(9, 6)\",\"(10, 0)\",\"(10, 2)\",\"(10, 10)\",\"(11, 2)\"],\"y\":[\"(10, 7)\",\"(11, 10)\",\"(9, 9)\",\"(9, 6)\",\"(10, 0)\",\"(10, 2)\",\"(10, 10)\",\"(11, 2)\"],\"z\":[[0.0,0.0,0.0,0.0,0.0,0.3103448152542114,0.0,0.03448275849223137],[0.0,0.0,0.03448275849223137,0.0,0.03448275849223137,0.37931033968925476,0.03448275849223137,0.37931033968925476],[0.9655172228813171,0.9655172228813171,0.0,0.0,0.03448275849223137,0.0,0.0,0.0],[0.9655172228813171,0.9655172228813171,0.0,0.0,0.0,0.0,0.0,0.0],[0.9655172228813171,0.931034505367279,0.0,0.0,0.0,0.0,0.0,0.0],[0.9655172228813171,0.9655172228813171,0.1034482792019844,0.13793103396892548,0.17241379618644714,0.0,0.06896551698446274,0.0],[0.8965517282485962,0.9655172228813171,0.0,0.0,0.0,0.0,0.0,0.0],[0.9655172228813171,0.9655172228813171,0.06896551698446274,0.03448275849223137,0.0,0.0,0.03448275849223137,0.0]],\"type\":\"heatmap\",\"xaxis\":\"x\",\"yaxis\":\"y\",\"hovertemplate\":\"QK Head: %{x}\\u003cbr\\u003eOV Head: %{y}\\u003cbr\\u003eSimilarity to \\u00b1 Identity: %{z}\\u003cextra\\u003e\\u003c\\u002fextra\\u003e\"},{\"coloraxis\":\"coloraxis\",\"name\":\"1\",\"x\":[\"(10, 7)\",\"(11, 10)\",\"(9, 9)\",\"(9, 6)\",\"(10, 0)\",\"(10, 2)\",\"(10, 10)\",\"(11, 2)\"],\"y\":[\"(10, 7)\",\"(11, 10)\",\"(9, 9)\",\"(9, 6)\",\"(10, 0)\",\"(10, 2)\",\"(10, 10)\",\"(11, 2)\"],\"z\":[[0.9655172228813171,0.9655172228813171,0.13793103396892548,0.13793103396892548,0.4482758641242981,0.0,0.17241379618644714,0.1034482792019844],[0.9655172228813171,0.9655172228813171,0.06896551698446274,0.17241379618644714,0.17241379618644714,0.0,0.0,0.0],[0.0,0.0,0.06896551698446274,0.06896551698446274,0.13793103396892548,0.8275862336158752,0.6206896305084229,0.7931034564971924],[0.0,0.0,0.13793103396892548,0.13793103396892548,0.7241379022598267,0.6551724076271057,0.5862069129943848,0.7931034564971924],[0.0,0.0,0.06896551698446274,0.03448275849223137,0.7586206793785095,0.6206896305084229,0.13793103396892548,0.931034505367279],[0.0,0.0,0.03448275849223137,0.03448275849223137,0.0,0.7241379022598267,0.0,0.4137931168079376],[0.0,0.0,0.03448275849223137,0.1034482792019844,0.06896551698446274,0.3448275923728943,0.7241379022598267,0.4137931168079376],[0.0,0.0,0.06896551698446274,0.03448275849223137,0.17241379618644714,0.4482758641242981,0.2068965584039688,0.931034505367279]],\"type\":\"heatmap\",\"xaxis\":\"x2\",\"yaxis\":\"y2\",\"hovertemplate\":\"QK Head: %{x}\\u003cbr\\u003eOV Head: %{y}\\u003cbr\\u003eSimilarity to \\u00b1 Identity: %{z}\\u003cextra\\u003e\\u003c\\u002fextra\\u003e\"}],                        {\"template\":{\"data\":{\"histogram2dcontour\":[{\"type\":\"histogram2dcontour\",\"colorbar\":{\"outlinewidth\":0,\"ticks\":\"\"},\"colorscale\":[[0.0,\"#0d0887\"],[0.1111111111111111,\"#46039f\"],[0.2222222222222222,\"#7201a8\"],[0.3333333333333333,\"#9c179e\"],[0.4444444444444444,\"#bd3786\"],[0.5555555555555556,\"#d8576b\"],[0.6666666666666666,\"#ed7953\"],[0.7777777777777778,\"#fb9f3a\"],[0.8888888888888888,\"#fdca26\"],[1.0,\"#f0f921\"]]}],\"choropleth\":[{\"type\":\"choropleth\",\"colorbar\":{\"outlinewidth\":0,\"ticks\":\"\"}}],\"histogram2d\":[{\"type\":\"histogram2d\",\"colorbar\":{\"outlinewidth\":0,\"ticks\":\"\"},\"colorscale\":[[0.0,\"#0d0887\"],[0.1111111111111111,\"#46039f\"],[0.2222222222222222,\"#7201a8\"],[0.3333333333333333,\"#9c179e\"],[0.4444444444444444,\"#bd3786\"],[0.5555555555555556,\"#d8576b\"],[0.6666666666666666,\"#ed7953\"],[0.7777777777777778,\"#fb9f3a\"],[0.8888888888888888,\"#fdca26\"],[1.0,\"#f0f921\"]]}],\"heatmap\":[{\"type\":\"heatmap\",\"colorbar\":{\"outlinewidth\":0,\"ticks\":\"\"},\"colorscale\":[[0.0,\"#0d0887\"],[0.1111111111111111,\"#46039f\"],[0.2222222222222222,\"#7201a8\"],[0.3333333333333333,\"#9c179e\"],[0.4444444444444444,\"#bd3786\"],[0.5555555555555556,\"#d8576b\"],[0.6666666666666666,\"#ed7953\"],[0.7777777777777778,\"#fb9f3a\"],[0.8888888888888888,\"#fdca26\"],[1.0,\"#f0f921\"]]}],\"heatmapgl\":[{\"type\":\"heatmapgl\",\"colorbar\":{\"outlinewidth\":0,\"ticks\":\"\"},\"colorscale\":[[0.0,\"#0d0887\"],[0.1111111111111111,\"#46039f\"],[0.2222222222222222,\"#7201a8\"],[0.3333333333333333,\"#9c179e\"],[0.4444444444444444,\"#bd3786\"],[0.5555555555555556,\"#d8576b\"],[0.6666666666666666,\"#ed7953\"],[0.7777777777777778,\"#fb9f3a\"],[0.8888888888888888,\"#fdca26\"],[1.0,\"#f0f921\"]]}],\"contourcarpet\":[{\"type\":\"contourcarpet\",\"colorbar\":{\"outlinewidth\":0,\"ticks\":\"\"}}],\"contour\":[{\"type\":\"contour\",\"colorbar\":{\"outlinewidth\":0,\"ticks\":\"\"},\"colorscale\":[[0.0,\"#0d0887\"],[0.1111111111111111,\"#46039f\"],[0.2222222222222222,\"#7201a8\"],[0.3333333333333333,\"#9c179e\"],[0.4444444444444444,\"#bd3786\"],[0.5555555555555556,\"#d8576b\"],[0.6666666666666666,\"#ed7953\"],[0.7777777777777778,\"#fb9f3a\"],[0.8888888888888888,\"#fdca26\"],[1.0,\"#f0f921\"]]}],\"surface\":[{\"type\":\"surface\",\"colorbar\":{\"outlinewidth\":0,\"ticks\":\"\"},\"colorscale\":[[0.0,\"#0d0887\"],[0.1111111111111111,\"#46039f\"],[0.2222222222222222,\"#7201a8\"],[0.3333333333333333,\"#9c179e\"],[0.4444444444444444,\"#bd3786\"],[0.5555555555555556,\"#d8576b\"],[0.6666666666666666,\"#ed7953\"],[0.7777777777777778,\"#fb9f3a\"],[0.8888888888888888,\"#fdca26\"],[1.0,\"#f0f921\"]]}],\"mesh3d\":[{\"type\":\"mesh3d\",\"colorbar\":{\"outlinewidth\":0,\"ticks\":\"\"}}],\"scatter\":[{\"fillpattern\":{\"fillmode\":\"overlay\",\"size\":10,\"solidity\":0.2},\"type\":\"scatter\"}],\"parcoords\":[{\"type\":\"parcoords\",\"line\":{\"colorbar\":{\"outlinewidth\":0,\"ticks\":\"\"}}}],\"scatterpolargl\":[{\"type\":\"scatterpolargl\",\"marker\":{\"colorbar\":{\"outlinewidth\":0,\"ticks\":\"\"}}}],\"bar\":[{\"error_x\":{\"color\":\"#2a3f5f\"},\"error_y\":{\"color\":\"#2a3f5f\"},\"marker\":{\"line\":{\"color\":\"#E5ECF6\",\"width\":0.5},\"pattern\":{\"fillmode\":\"overlay\",\"size\":10,\"solidity\":0.2}},\"type\":\"bar\"}],\"scattergeo\":[{\"type\":\"scattergeo\",\"marker\":{\"colorbar\":{\"outlinewidth\":0,\"ticks\":\"\"}}}],\"scatterpolar\":[{\"type\":\"scatterpolar\",\"marker\":{\"colorbar\":{\"outlinewidth\":0,\"ticks\":\"\"}}}],\"histogram\":[{\"marker\":{\"pattern\":{\"fillmode\":\"overlay\",\"size\":10,\"solidity\":0.2}},\"type\":\"histogram\"}],\"scattergl\":[{\"type\":\"scattergl\",\"marker\":{\"colorbar\":{\"outlinewidth\":0,\"ticks\":\"\"}}}],\"scatter3d\":[{\"type\":\"scatter3d\",\"line\":{\"colorbar\":{\"outlinewidth\":0,\"ticks\":\"\"}},\"marker\":{\"colorbar\":{\"outlinewidth\":0,\"ticks\":\"\"}}}],\"scattermapbox\":[{\"type\":\"scattermapbox\",\"marker\":{\"colorbar\":{\"outlinewidth\":0,\"ticks\":\"\"}}}],\"scatterternary\":[{\"type\":\"scatterternary\",\"marker\":{\"colorbar\":{\"outlinewidth\":0,\"ticks\":\"\"}}}],\"scattercarpet\":[{\"type\":\"scattercarpet\",\"marker\":{\"colorbar\":{\"outlinewidth\":0,\"ticks\":\"\"}}}],\"carpet\":[{\"aaxis\":{\"endlinecolor\":\"#2a3f5f\",\"gridcolor\":\"white\",\"linecolor\":\"white\",\"minorgridcolor\":\"white\",\"startlinecolor\":\"#2a3f5f\"},\"baxis\":{\"endlinecolor\":\"#2a3f5f\",\"gridcolor\":\"white\",\"linecolor\":\"white\",\"minorgridcolor\":\"white\",\"startlinecolor\":\"#2a3f5f\"},\"type\":\"carpet\"}],\"table\":[{\"cells\":{\"fill\":{\"color\":\"#EBF0F8\"},\"line\":{\"color\":\"white\"}},\"header\":{\"fill\":{\"color\":\"#C8D4E3\"},\"line\":{\"color\":\"white\"}},\"type\":\"table\"}],\"barpolar\":[{\"marker\":{\"line\":{\"color\":\"#E5ECF6\",\"width\":0.5},\"pattern\":{\"fillmode\":\"overlay\",\"size\":10,\"solidity\":0.2}},\"type\":\"barpolar\"}],\"pie\":[{\"automargin\":true,\"type\":\"pie\"}]},\"layout\":{\"autotypenumbers\":\"strict\",\"colorway\":[\"#636efa\",\"#EF553B\",\"#00cc96\",\"#ab63fa\",\"#FFA15A\",\"#19d3f3\",\"#FF6692\",\"#B6E880\",\"#FF97FF\",\"#FECB52\"],\"font\":{\"color\":\"#2a3f5f\"},\"hovermode\":\"closest\",\"hoverlabel\":{\"align\":\"left\"},\"paper_bgcolor\":\"white\",\"plot_bgcolor\":\"#E5ECF6\",\"polar\":{\"bgcolor\":\"#E5ECF6\",\"angularaxis\":{\"gridcolor\":\"white\",\"linecolor\":\"white\",\"ticks\":\"\"},\"radialaxis\":{\"gridcolor\":\"white\",\"linecolor\":\"white\",\"ticks\":\"\"}},\"ternary\":{\"bgcolor\":\"#E5ECF6\",\"aaxis\":{\"gridcolor\":\"white\",\"linecolor\":\"white\",\"ticks\":\"\"},\"baxis\":{\"gridcolor\":\"white\",\"linecolor\":\"white\",\"ticks\":\"\"},\"caxis\":{\"gridcolor\":\"white\",\"linecolor\":\"white\",\"ticks\":\"\"}},\"coloraxis\":{\"colorbar\":{\"outlinewidth\":0,\"ticks\":\"\"}},\"colorscale\":{\"sequential\":[[0.0,\"#0d0887\"],[0.1111111111111111,\"#46039f\"],[0.2222222222222222,\"#7201a8\"],[0.3333333333333333,\"#9c179e\"],[0.4444444444444444,\"#bd3786\"],[0.5555555555555556,\"#d8576b\"],[0.6666666666666666,\"#ed7953\"],[0.7777777777777778,\"#fb9f3a\"],[0.8888888888888888,\"#fdca26\"],[1.0,\"#f0f921\"]],\"sequentialminus\":[[0.0,\"#0d0887\"],[0.1111111111111111,\"#46039f\"],[0.2222222222222222,\"#7201a8\"],[0.3333333333333333,\"#9c179e\"],[0.4444444444444444,\"#bd3786\"],[0.5555555555555556,\"#d8576b\"],[0.6666666666666666,\"#ed7953\"],[0.7777777777777778,\"#fb9f3a\"],[0.8888888888888888,\"#fdca26\"],[1.0,\"#f0f921\"]],\"diverging\":[[0,\"#8e0152\"],[0.1,\"#c51b7d\"],[0.2,\"#de77ae\"],[0.3,\"#f1b6da\"],[0.4,\"#fde0ef\"],[0.5,\"#f7f7f7\"],[0.6,\"#e6f5d0\"],[0.7,\"#b8e186\"],[0.8,\"#7fbc41\"],[0.9,\"#4d9221\"],[1,\"#276419\"]]},\"xaxis\":{\"gridcolor\":\"white\",\"linecolor\":\"white\",\"ticks\":\"\",\"title\":{\"standoff\":15},\"zerolinecolor\":\"white\",\"automargin\":true,\"zerolinewidth\":2},\"yaxis\":{\"gridcolor\":\"white\",\"linecolor\":\"white\",\"ticks\":\"\",\"title\":{\"standoff\":15},\"zerolinecolor\":\"white\",\"automargin\":true,\"zerolinewidth\":2},\"scene\":{\"xaxis\":{\"backgroundcolor\":\"#E5ECF6\",\"gridcolor\":\"white\",\"linecolor\":\"white\",\"showbackground\":true,\"ticks\":\"\",\"zerolinecolor\":\"white\",\"gridwidth\":2},\"yaxis\":{\"backgroundcolor\":\"#E5ECF6\",\"gridcolor\":\"white\",\"linecolor\":\"white\",\"showbackground\":true,\"ticks\":\"\",\"zerolinecolor\":\"white\",\"gridwidth\":2},\"zaxis\":{\"backgroundcolor\":\"#E5ECF6\",\"gridcolor\":\"white\",\"linecolor\":\"white\",\"showbackground\":true,\"ticks\":\"\",\"zerolinecolor\":\"white\",\"gridwidth\":2}},\"shapedefaults\":{\"line\":{\"color\":\"#2a3f5f\"}},\"annotationdefaults\":{\"arrowcolor\":\"#2a3f5f\",\"arrowhead\":0,\"arrowwidth\":1},\"geo\":{\"bgcolor\":\"white\",\"landcolor\":\"#E5ECF6\",\"subunitcolor\":\"white\",\"showland\":true,\"showlakes\":true,\"lakecolor\":\"white\"},\"title\":{\"x\":0.05},\"mapbox\":{\"style\":\"light\"}}},\"xaxis\":{\"anchor\":\"y\",\"domain\":[0.0,0.49],\"scaleanchor\":\"y\",\"constrain\":\"domain\",\"title\":{\"text\":\"QK Head\"},\"showline\":true,\"linewidth\":1,\"linecolor\":\"black\",\"mirror\":true},\"yaxis\":{\"anchor\":\"x\",\"domain\":[0.0,1.0],\"autorange\":\"reversed\",\"constrain\":\"domain\",\"title\":{\"text\":\"OV Head\"},\"showline\":true,\"linewidth\":1,\"linecolor\":\"black\",\"mirror\":true},\"xaxis2\":{\"anchor\":\"y2\",\"domain\":[0.51,1.0],\"matches\":\"x\",\"title\":{\"text\":\"QK Head\"},\"showline\":true,\"linewidth\":1,\"linecolor\":\"black\",\"mirror\":true},\"yaxis2\":{\"anchor\":\"x2\",\"domain\":[0.0,1.0],\"matches\":\"y\",\"showticklabels\":false,\"showline\":true,\"linewidth\":1,\"linecolor\":\"black\",\"mirror\":true},\"annotations\":[{\"font\":{},\"showarrow\":false,\"text\":\"Positive Backup\",\"x\":0.245,\"xanchor\":\"center\",\"xref\":\"paper\",\"y\":1.0,\"yanchor\":\"bottom\",\"yref\":\"paper\"},{\"font\":{},\"showarrow\":false,\"text\":\"Negative Backup\",\"x\":0.755,\"xanchor\":\"center\",\"xref\":\"paper\",\"y\":1.0,\"yanchor\":\"bottom\",\"yref\":\"paper\"}],\"coloraxis\":{\"colorbar\":{\"title\":{\"text\":\"Similarity to \\u00b1 Identity\"}},\"colorscale\":[[0.0,\"rgb(103,0,31)\"],[0.1,\"rgb(178,24,43)\"],[0.2,\"rgb(214,96,77)\"],[0.3,\"rgb(244,165,130)\"],[0.4,\"rgb(253,219,199)\"],[0.5,\"rgb(247,247,247)\"],[0.6,\"rgb(209,229,240)\"],[0.7,\"rgb(146,197,222)\"],[0.8,\"rgb(67,147,195)\"],[0.9,\"rgb(33,102,172)\"],[1.0,\"rgb(5,48,97)\"]],\"cmid\":0.0},\"title\":{\"text\":\"Backup Scores between key heads\"},\"width\":800,\"margin\":{\"r\":100,\"l\":100}},                        {\"responsive\": true}                    ).then(function(){\n",
       "                            \n",
       "var gd = document.getElementById('4530a6fd-76a1-4be6-9af5-b9e6e042d154');\n",
       "var x = new MutationObserver(function (mutations, observer) {{\n",
       "        var display = window.getComputedStyle(gd).display;\n",
       "        if (!display || display === 'none') {{\n",
       "            console.log([gd, 'removed!']);\n",
       "            Plotly.purge(gd);\n",
       "            observer.disconnect();\n",
       "        }}\n",
       "}});\n",
       "\n",
       "// Listen for the removal of the full notebook cells\n",
       "var notebookContainer = gd.closest('#notebook-container');\n",
       "if (notebookContainer) {{\n",
       "    x.observe(notebookContainer, {childList: true});\n",
       "}}\n",
       "\n",
       "// Listen for the clearing of the current output cell\n",
       "var outputEl = gd.closest('.output');\n",
       "if (outputEl) {{\n",
       "    x.observe(outputEl, {childList: true});\n",
       "}}\n",
       "\n",
       "                        })                };                });            </script>        </div>"
      ]
     },
     "metadata": {},
     "output_type": "display_data"
    }
   ],
   "source": [
    "imshow(\n",
    "    torch.stack([interesting_head_backup_scores, neg_interesting_head_backup_scores]),\n",
    "    return_fig = False,\n",
    "    facet_col = 0,\n",
    "    facet_labels = [\"Positive Backup\", \"Negative Backup\"],\n",
    "    title=\"Backup Scores between key heads\",\n",
    "    x = [str(i) for i in all_heads_list], y = [str(i) for i in all_heads_list],\n",
    "    labels={\"x\": \"QK Head\", \"y\": \"OV Head\", \"color\": \"Similarity to ± Identity\"},\n",
    "    #coloraxis=dict(colorbar_ticksuffix = \"%\"),\n",
    "    border=True,\n",
    "    width=800,\n",
    "    margin={\"r\": 100, \"l\": 100}\n",
    ")"
   ]
  }
 ],
 "metadata": {
  "kernelspec": {
   "display_name": "Python 3 (ipykernel)",
   "language": "python",
   "name": "python3"
  },
  "language_info": {
   "codemirror_mode": {
    "name": "ipython",
    "version": 3
   },
   "file_extension": ".py",
   "mimetype": "text/x-python",
   "name": "python",
   "nbconvert_exporter": "python",
   "pygments_lexer": "ipython3",
   "version": "3.11.0"
  },
  "orig_nbformat": 4
 },
 "nbformat": 4,
 "nbformat_minor": 2
}
