{
  "cells": [
    {
      "cell_type": "code",
      "execution_count": null,
      "metadata": {},
      "outputs": [],
      "source": []
    },
    {
      "cell_type": "markdown",
      "metadata": {},
      "source": [
        "# Imports"
      ]
    },
    {
      "cell_type": "code",
      "execution_count": 1,
      "metadata": {
        "colab": {
          "base_uri": "https://localhost:8080/",
          "height": 1000
        },
        "id": "N3sE79vTlN44",
        "outputId": "19dd4eb5-50c6-4a97-ccdb-5b33d07707cc"
      },
      "outputs": [
        {
          "name": "stdout",
          "output_type": "stream",
          "text": [
            "Collecting git+https://github.com/callummcdougall/CircuitsVis.git#subdirectory=python\n",
            "  Cloning https://github.com/callummcdougall/CircuitsVis.git to /tmp/pip-req-build-xkqftywk\n",
            "  Running command git clone --filter=blob:none --quiet https://github.com/callummcdougall/CircuitsVis.git /tmp/pip-req-build-xkqftywk\n",
            "  Resolved https://github.com/callummcdougall/CircuitsVis.git to commit 1ec4a8f8fa4368e95500fe3a188b367500af5f98\n",
            "  Installing build dependencies ... \u001b[?25ldone\n",
            "\u001b[?25h  Getting requirements to build wheel ... \u001b[?25ldone\n",
            "\u001b[?25h  Preparing metadata (pyproject.toml) ... \u001b[?25ldone\n",
            "\u001b[?25hRequirement already satisfied: importlib-metadata<6.0.0,>=5.1.0 in /data/cody_rushing/miniconda3/lib/python3.11/site-packages (from circuitsvis==0.0.0) (5.2.0)\n",
            "Requirement already satisfied: numpy<2.0,>=1.23 in /data/cody_rushing/miniconda3/lib/python3.11/site-packages (from circuitsvis==0.0.0) (1.25.1)\n",
            "Requirement already satisfied: torch<3.0,>=2.0 in /data/cody_rushing/miniconda3/lib/python3.11/site-packages (from circuitsvis==0.0.0) (2.0.1)\n",
            "Requirement already satisfied: zipp>=0.5 in /data/cody_rushing/miniconda3/lib/python3.11/site-packages (from importlib-metadata<6.0.0,>=5.1.0->circuitsvis==0.0.0) (3.7.0)\n",
            "Requirement already satisfied: filelock in /data/cody_rushing/miniconda3/lib/python3.11/site-packages (from torch<3.0,>=2.0->circuitsvis==0.0.0) (3.12.2)\n",
            "Requirement already satisfied: typing-extensions in /data/cody_rushing/miniconda3/lib/python3.11/site-packages (from torch<3.0,>=2.0->circuitsvis==0.0.0) (4.1.1)\n",
            "Requirement already satisfied: sympy in /data/cody_rushing/miniconda3/lib/python3.11/site-packages (from torch<3.0,>=2.0->circuitsvis==0.0.0) (1.12)\n",
            "Requirement already satisfied: networkx in /data/cody_rushing/miniconda3/lib/python3.11/site-packages (from torch<3.0,>=2.0->circuitsvis==0.0.0) (3.1)\n",
            "Requirement already satisfied: jinja2 in /data/cody_rushing/miniconda3/lib/python3.11/site-packages (from torch<3.0,>=2.0->circuitsvis==0.0.0) (3.0.3)\n",
            "Requirement already satisfied: nvidia-cuda-nvrtc-cu11==11.7.99 in /data/cody_rushing/miniconda3/lib/python3.11/site-packages (from torch<3.0,>=2.0->circuitsvis==0.0.0) (11.7.99)\n",
            "Requirement already satisfied: nvidia-cuda-runtime-cu11==11.7.99 in /data/cody_rushing/miniconda3/lib/python3.11/site-packages (from torch<3.0,>=2.0->circuitsvis==0.0.0) (11.7.99)\n",
            "Requirement already satisfied: nvidia-cuda-cupti-cu11==11.7.101 in /data/cody_rushing/miniconda3/lib/python3.11/site-packages (from torch<3.0,>=2.0->circuitsvis==0.0.0) (11.7.101)\n",
            "Requirement already satisfied: nvidia-cudnn-cu11==8.5.0.96 in /data/cody_rushing/miniconda3/lib/python3.11/site-packages (from torch<3.0,>=2.0->circuitsvis==0.0.0) (8.5.0.96)\n",
            "Requirement already satisfied: nvidia-cublas-cu11==11.10.3.66 in /data/cody_rushing/miniconda3/lib/python3.11/site-packages (from torch<3.0,>=2.0->circuitsvis==0.0.0) (11.10.3.66)\n",
            "Requirement already satisfied: nvidia-cufft-cu11==10.9.0.58 in /data/cody_rushing/miniconda3/lib/python3.11/site-packages (from torch<3.0,>=2.0->circuitsvis==0.0.0) (10.9.0.58)\n",
            "Requirement already satisfied: nvidia-curand-cu11==10.2.10.91 in /data/cody_rushing/miniconda3/lib/python3.11/site-packages (from torch<3.0,>=2.0->circuitsvis==0.0.0) (10.2.10.91)\n",
            "Requirement already satisfied: nvidia-cusolver-cu11==11.4.0.1 in /data/cody_rushing/miniconda3/lib/python3.11/site-packages (from torch<3.0,>=2.0->circuitsvis==0.0.0) (11.4.0.1)\n",
            "Requirement already satisfied: nvidia-cusparse-cu11==11.7.4.91 in /data/cody_rushing/miniconda3/lib/python3.11/site-packages (from torch<3.0,>=2.0->circuitsvis==0.0.0) (11.7.4.91)\n",
            "Requirement already satisfied: nvidia-nccl-cu11==2.14.3 in /data/cody_rushing/miniconda3/lib/python3.11/site-packages (from torch<3.0,>=2.0->circuitsvis==0.0.0) (2.14.3)\n",
            "Requirement already satisfied: nvidia-nvtx-cu11==11.7.91 in /data/cody_rushing/miniconda3/lib/python3.11/site-packages (from torch<3.0,>=2.0->circuitsvis==0.0.0) (11.7.91)\n",
            "Requirement already satisfied: triton==2.0.0 in /data/cody_rushing/miniconda3/lib/python3.11/site-packages (from torch<3.0,>=2.0->circuitsvis==0.0.0) (2.0.0)\n",
            "Requirement already satisfied: setuptools in /data/cody_rushing/miniconda3/lib/python3.11/site-packages (from nvidia-cublas-cu11==11.10.3.66->torch<3.0,>=2.0->circuitsvis==0.0.0) (67.8.0)\n",
            "Requirement already satisfied: wheel in /data/cody_rushing/miniconda3/lib/python3.11/site-packages (from nvidia-cublas-cu11==11.10.3.66->torch<3.0,>=2.0->circuitsvis==0.0.0) (0.38.4)\n",
            "Requirement already satisfied: cmake in /data/cody_rushing/miniconda3/lib/python3.11/site-packages (from triton==2.0.0->torch<3.0,>=2.0->circuitsvis==0.0.0) (3.26.4)\n",
            "Requirement already satisfied: lit in /data/cody_rushing/miniconda3/lib/python3.11/site-packages (from triton==2.0.0->torch<3.0,>=2.0->circuitsvis==0.0.0) (16.0.6)\n",
            "Requirement already satisfied: MarkupSafe>=2.0 in /data/cody_rushing/miniconda3/lib/python3.11/site-packages (from jinja2->torch<3.0,>=2.0->circuitsvis==0.0.0) (2.1.1)\n",
            "Requirement already satisfied: mpmath>=0.19 in /data/cody_rushing/miniconda3/lib/python3.11/site-packages (from sympy->torch<3.0,>=2.0->circuitsvis==0.0.0) (1.3.0)\n",
            "Note: you may need to restart the kernel to use updated packages.\n"
          ]
        }
      ],
      "source": [
        "#%pip install git+https://github.com/neelnanda-io/TransformerLens.git\n",
        "import math\n",
        "import torch\n",
        "import torch.nn as nn\n",
        "import torch.nn.functional as F\n",
        "import torch.optim as optim\n",
        "from torch import Tensor\n",
        "\n",
        "import numpy as np\n",
        "import pandas as pd\n",
        "import einops\n",
        "from fancy_einsum import einsum\n",
        "import tqdm.auto as tqdm\n",
        "import random\n",
        "from pathlib import Path\n",
        "# import plotly.express as px\n",
        "from torch.utils.data import DataLoader\n",
        "from typing import Union, List, Optional, Callable, Tuple, Dict, Literal, Set\n",
        "from jaxtyping import Float, Int\n",
        "from functools import partial\n",
        "import copy\n",
        "\n",
        "import itertools\n",
        "from transformers import AutoModelForCausalLM, AutoConfig, AutoTokenizer\n",
        "import dataclasses\n",
        "import datasets\n",
        "from IPython.display import HTML\n",
        "\n",
        "import transformer_lens\n",
        "import transformer_lens.utils as utils\n",
        "from transformer_lens.utils import to_numpy\n",
        "from transformer_lens.hook_points import (\n",
        "    HookedRootModule,\n",
        "    HookPoint,\n",
        ")  # Hooking utilities\n",
        "from transformer_lens import HookedTransformer, HookedTransformerConfig, FactoredMatrix, ActivationCache, patching\n",
        "\n",
        "import plotly.express as px\n",
        "#%pip install git+https://github.com/callummcdougall/CircuitsVis.git#subdirectory=python\n",
        "import circuitsvis as cv\n",
        "import os, sys"
      ]
    },
    {
      "cell_type": "code",
      "execution_count": 2,
      "metadata": {
        "colab": {
          "base_uri": "https://localhost:8080/"
        },
        "id": "HdGiJRFLlT5j",
        "outputId": "9bdb506d-b7dc-4e4c-ac5f-4d7662f02fba"
      },
      "outputs": [],
      "source": [
        "if not os.path.exists(\"path_patching.py\"):\n",
        "        !wget https://github.com/callummcdougall/path_patching/archive/refs/heads/main.zip\n",
        "        !unzip /content/main.zip 'path_patching-main/ioi_dataset.py'\n",
        "        !unzip /content/main.zip 'path_patching-main/path_patching.py'\n",
        "        sys.path.append(\"/content/path_patching-main\")\n",
        "        os.remove(\"/content/main.zip\")\n",
        "        os.rename(\"/content/path_patching-main/ioi_dataset.py\", \"ioi_dataset.py\")\n",
        "        os.rename(\"/content/path_patching-main/path_patching.py\", \"path_patching.py\")\n",
        "        os.rmdir(\"/content/path_patching-main\")\n",
        "\n",
        "from path_patching import Node, IterNode, path_patch, act_patch"
      ]
    },
    {
      "cell_type": "code",
      "execution_count": 3,
      "metadata": {
        "colab": {
          "base_uri": "https://localhost:8080/"
        },
        "id": "2c5iIOmmlZ5Q",
        "outputId": "6796f7e6-3c04-415e-ef4d-eb6c7d815935"
      },
      "outputs": [
        {
          "name": "stdout",
          "output_type": "stream",
          "text": [
            "Collecting git+https://github.com/neelnanda-io/neel-plotly.git\n",
            "  Cloning https://github.com/neelnanda-io/neel-plotly.git to /tmp/pip-req-build-l1gvx_om\n",
            "  Running command git clone --filter=blob:none --quiet https://github.com/neelnanda-io/neel-plotly.git /tmp/pip-req-build-l1gvx_om\n",
            "  Resolved https://github.com/neelnanda-io/neel-plotly.git to commit 6dc24b26f8dec991908479d7445dae496b3430b7\n",
            "  Preparing metadata (setup.py) ... \u001b[?25ldone\n",
            "\u001b[?25hRequirement already satisfied: einops in /data/cody_rushing/miniconda3/lib/python3.11/site-packages (from neel-plotly==0.0.0) (0.6.1)\n",
            "Requirement already satisfied: numpy in /data/cody_rushing/miniconda3/lib/python3.11/site-packages (from neel-plotly==0.0.0) (1.25.1)\n",
            "Requirement already satisfied: torch in /data/cody_rushing/miniconda3/lib/python3.11/site-packages (from neel-plotly==0.0.0) (2.0.1)\n",
            "Requirement already satisfied: plotly in /data/cody_rushing/miniconda3/lib/python3.11/site-packages (from neel-plotly==0.0.0) (5.15.0)\n",
            "Requirement already satisfied: tqdm in /data/cody_rushing/miniconda3/lib/python3.11/site-packages (from neel-plotly==0.0.0) (4.65.0)\n",
            "Requirement already satisfied: pandas in /data/cody_rushing/miniconda3/lib/python3.11/site-packages (from neel-plotly==0.0.0) (2.0.3)\n",
            "Requirement already satisfied: python-dateutil>=2.8.2 in /data/cody_rushing/miniconda3/lib/python3.11/site-packages (from pandas->neel-plotly==0.0.0) (2.8.2)\n",
            "Requirement already satisfied: pytz>=2020.1 in /data/cody_rushing/miniconda3/lib/python3.11/site-packages (from pandas->neel-plotly==0.0.0) (2021.3)\n",
            "Requirement already satisfied: tzdata>=2022.1 in /data/cody_rushing/miniconda3/lib/python3.11/site-packages (from pandas->neel-plotly==0.0.0) (2023.3)\n",
            "Requirement already satisfied: tenacity>=6.2.0 in /data/cody_rushing/miniconda3/lib/python3.11/site-packages (from plotly->neel-plotly==0.0.0) (8.2.2)\n",
            "Requirement already satisfied: packaging in /data/cody_rushing/miniconda3/lib/python3.11/site-packages (from plotly->neel-plotly==0.0.0) (23.0)\n",
            "Requirement already satisfied: filelock in /data/cody_rushing/miniconda3/lib/python3.11/site-packages (from torch->neel-plotly==0.0.0) (3.12.2)\n",
            "Requirement already satisfied: typing-extensions in /data/cody_rushing/miniconda3/lib/python3.11/site-packages (from torch->neel-plotly==0.0.0) (4.1.1)\n",
            "Requirement already satisfied: sympy in /data/cody_rushing/miniconda3/lib/python3.11/site-packages (from torch->neel-plotly==0.0.0) (1.12)\n",
            "Requirement already satisfied: networkx in /data/cody_rushing/miniconda3/lib/python3.11/site-packages (from torch->neel-plotly==0.0.0) (3.1)\n",
            "Requirement already satisfied: jinja2 in /data/cody_rushing/miniconda3/lib/python3.11/site-packages (from torch->neel-plotly==0.0.0) (3.0.3)\n",
            "Requirement already satisfied: nvidia-cuda-nvrtc-cu11==11.7.99 in /data/cody_rushing/miniconda3/lib/python3.11/site-packages (from torch->neel-plotly==0.0.0) (11.7.99)\n",
            "Requirement already satisfied: nvidia-cuda-runtime-cu11==11.7.99 in /data/cody_rushing/miniconda3/lib/python3.11/site-packages (from torch->neel-plotly==0.0.0) (11.7.99)\n",
            "Requirement already satisfied: nvidia-cuda-cupti-cu11==11.7.101 in /data/cody_rushing/miniconda3/lib/python3.11/site-packages (from torch->neel-plotly==0.0.0) (11.7.101)\n",
            "Requirement already satisfied: nvidia-cudnn-cu11==8.5.0.96 in /data/cody_rushing/miniconda3/lib/python3.11/site-packages (from torch->neel-plotly==0.0.0) (8.5.0.96)\n",
            "Requirement already satisfied: nvidia-cublas-cu11==11.10.3.66 in /data/cody_rushing/miniconda3/lib/python3.11/site-packages (from torch->neel-plotly==0.0.0) (11.10.3.66)\n",
            "Requirement already satisfied: nvidia-cufft-cu11==10.9.0.58 in /data/cody_rushing/miniconda3/lib/python3.11/site-packages (from torch->neel-plotly==0.0.0) (10.9.0.58)\n",
            "Requirement already satisfied: nvidia-curand-cu11==10.2.10.91 in /data/cody_rushing/miniconda3/lib/python3.11/site-packages (from torch->neel-plotly==0.0.0) (10.2.10.91)\n",
            "Requirement already satisfied: nvidia-cusolver-cu11==11.4.0.1 in /data/cody_rushing/miniconda3/lib/python3.11/site-packages (from torch->neel-plotly==0.0.0) (11.4.0.1)\n",
            "Requirement already satisfied: nvidia-cusparse-cu11==11.7.4.91 in /data/cody_rushing/miniconda3/lib/python3.11/site-packages (from torch->neel-plotly==0.0.0) (11.7.4.91)\n",
            "Requirement already satisfied: nvidia-nccl-cu11==2.14.3 in /data/cody_rushing/miniconda3/lib/python3.11/site-packages (from torch->neel-plotly==0.0.0) (2.14.3)\n",
            "Requirement already satisfied: nvidia-nvtx-cu11==11.7.91 in /data/cody_rushing/miniconda3/lib/python3.11/site-packages (from torch->neel-plotly==0.0.0) (11.7.91)\n",
            "Requirement already satisfied: triton==2.0.0 in /data/cody_rushing/miniconda3/lib/python3.11/site-packages (from torch->neel-plotly==0.0.0) (2.0.0)\n",
            "Requirement already satisfied: setuptools in /data/cody_rushing/miniconda3/lib/python3.11/site-packages (from nvidia-cublas-cu11==11.10.3.66->torch->neel-plotly==0.0.0) (67.8.0)\n",
            "Requirement already satisfied: wheel in /data/cody_rushing/miniconda3/lib/python3.11/site-packages (from nvidia-cublas-cu11==11.10.3.66->torch->neel-plotly==0.0.0) (0.38.4)\n",
            "Requirement already satisfied: cmake in /data/cody_rushing/miniconda3/lib/python3.11/site-packages (from triton==2.0.0->torch->neel-plotly==0.0.0) (3.26.4)\n",
            "Requirement already satisfied: lit in /data/cody_rushing/miniconda3/lib/python3.11/site-packages (from triton==2.0.0->torch->neel-plotly==0.0.0) (16.0.6)\n",
            "Requirement already satisfied: six>=1.5 in /data/cody_rushing/miniconda3/lib/python3.11/site-packages (from python-dateutil>=2.8.2->pandas->neel-plotly==0.0.0) (1.16.0)\n",
            "Requirement already satisfied: MarkupSafe>=2.0 in /data/cody_rushing/miniconda3/lib/python3.11/site-packages (from jinja2->torch->neel-plotly==0.0.0) (2.1.1)\n",
            "Requirement already satisfied: mpmath>=0.19 in /data/cody_rushing/miniconda3/lib/python3.11/site-packages (from sympy->torch->neel-plotly==0.0.0) (1.3.0)\n",
            "Note: you may need to restart the kernel to use updated packages.\n"
          ]
        }
      ],
      "source": [
        "%pip install git+https://github.com/neelnanda-io/neel-plotly.git\n",
        "from neel_plotly import imshow, line, scatter, histogram\n",
        "import tqdm\n",
        "torch.set_grad_enabled(False)\n",
        "device = \"cuda\" if torch.cuda.is_available() else \"cpu\""
      ]
    },
    {
      "cell_type": "code",
      "execution_count": 4,
      "metadata": {
        "colab": {
          "base_uri": "https://localhost:8080/",
          "height": 36
        },
        "id": "va5RMsEWlcOD",
        "outputId": "69a2123e-26ad-4a2a-c483-c00fa8947ad8"
      },
      "outputs": [
        {
          "data": {
            "text/plain": [
              "'cuda'"
            ]
          },
          "execution_count": 4,
          "metadata": {},
          "output_type": "execute_result"
        }
      ],
      "source": [
        "device"
      ]
    },
    {
      "cell_type": "code",
      "execution_count": 5,
      "metadata": {
        "id": "jSJL2qpjldcY"
      },
      "outputs": [],
      "source": [
        "update_layout_set = {\n",
        "    \"xaxis_range\", \"yaxis_range\", \"hovermode\", \"xaxis_title\", \"yaxis_title\", \"colorbar\", \"colorscale\", \"coloraxis\", \"title_x\", \"bargap\", \"bargroupgap\", \"xaxis_tickformat\",\n",
        "    \"yaxis_tickformat\", \"title_y\", \"legend_title_text\", \"xaxis_showgrid\", \"xaxis_gridwidth\", \"xaxis_gridcolor\", \"yaxis_showgrid\", \"yaxis_gridwidth\", \"yaxis_gridcolor\",\n",
        "    \"showlegend\", \"xaxis_tickmode\", \"yaxis_tickmode\", \"xaxis_tickangle\", \"yaxis_tickangle\", \"margin\", \"xaxis_visible\", \"yaxis_visible\", \"bargap\", \"bargroupgap\"\n",
        "}\n",
        "\n",
        "def imshow(tensor, return_fig = False, renderer=None, **kwargs):\n",
        "    kwargs_post = {k: v for k, v in kwargs.items() if k in update_layout_set}\n",
        "    kwargs_pre = {k: v for k, v in kwargs.items() if k not in update_layout_set}\n",
        "    facet_labels = kwargs_pre.pop(\"facet_labels\", None)\n",
        "    border = kwargs_pre.pop(\"border\", False)\n",
        "    if \"color_continuous_scale\" not in kwargs_pre:\n",
        "        kwargs_pre[\"color_continuous_scale\"] = \"RdBu\"\n",
        "    if \"margin\" in kwargs_post and isinstance(kwargs_post[\"margin\"], int):\n",
        "        kwargs_post[\"margin\"] = dict.fromkeys(list(\"tblr\"), kwargs_post[\"margin\"])\n",
        "    fig = px.imshow(utils.to_numpy(tensor), color_continuous_midpoint=0.0, **kwargs_pre)\n",
        "    if facet_labels:\n",
        "        for i, label in enumerate(facet_labels):\n",
        "            fig.layout.annotations[i]['text'] = label\n",
        "    if border:\n",
        "        fig.update_xaxes(showline=True, linewidth=1, linecolor='black', mirror=True)\n",
        "        fig.update_yaxes(showline=True, linewidth=1, linecolor='black', mirror=True)\n",
        "    # things like `xaxis_tickmode` should be applied to all subplots. This is super janky lol but I'm under time pressure\n",
        "    for setting in [\"tickangle\"]:\n",
        "      if f\"xaxis_{setting}\" in kwargs_post:\n",
        "          i = 2\n",
        "          while f\"xaxis{i}\" in fig[\"layout\"]:\n",
        "            kwargs_post[f\"xaxis{i}_{setting}\"] = kwargs_post[f\"xaxis_{setting}\"]\n",
        "            i += 1\n",
        "    fig.update_layout(**kwargs_post)\n",
        "    fig.show(renderer=renderer)\n",
        "    if return_fig:\n",
        "      return fig\n",
        "\n",
        "def hist(tensor, renderer=None, **kwargs):\n",
        "    kwargs_post = {k: v for k, v in kwargs.items() if k in update_layout_set}\n",
        "    kwargs_pre = {k: v for k, v in kwargs.items() if k not in update_layout_set}\n",
        "    names = kwargs_pre.pop(\"names\", None)\n",
        "    if \"barmode\" not in kwargs_post:\n",
        "        kwargs_post[\"barmode\"] = \"overlay\"\n",
        "    if \"bargap\" not in kwargs_post:\n",
        "        kwargs_post[\"bargap\"] = 0.0\n",
        "    if \"margin\" in kwargs_post and isinstance(kwargs_post[\"margin\"], int):\n",
        "        kwargs_post[\"margin\"] = dict.fromkeys(list(\"tblr\"), kwargs_post[\"margin\"])\n",
        "    fig = px.histogram(x=tensor, **kwargs_pre).update_layout(**kwargs_post)\n",
        "    if names is not None:\n",
        "        for i in range(len(fig.data)):\n",
        "            fig.data[i][\"name\"] = names[i // 2]\n",
        "    fig.show(renderer)"
      ]
    },
    {
      "cell_type": "code",
      "execution_count": 6,
      "metadata": {
        "id": "UAHobA_vlgsV"
      },
      "outputs": [],
      "source": [
        "from plotly import graph_objects as go\n",
        "from plotly.subplots import make_subplots"
      ]
    },
    {
      "cell_type": "code",
      "execution_count": 413,
      "metadata": {
        "colab": {
          "base_uri": "https://localhost:8080/",
          "height": 413,
          "referenced_widgets": [
            "31e7ff0dc8794b56983809d684112569",
            "c29858dda35b4a789db8d3a491266aed",
            "9b923268df7940cdaf4e4ad94db16443",
            "2d3c5b22c30540cd81a54b491e33bfac",
            "6b7b38f33d9746658704a821ba3227f7",
            "a39c38106b494dc2bfbbb21185ce936c",
            "9b39edfe8070460fa202865524bb264f",
            "0a2d5dd9618249d7b0c7daf54fbd60a6",
            "1cb1d528ab5a493e96f2032dd9aa5f76",
            "2e481e0fd8ab4fae9c9798950d6d2481",
            "44de3fe5ad57442484c94aee02fae8dc",
            "588b080c5b084c079bf083e8e6bb23ba",
            "c9cdbb3a4e9d434eb570d80bdc4f560f",
            "af4763b0818e47279d594ad8501b4fa1",
            "ac1bfc6c950f4136bdbb508ba35c0125",
            "e3842288f96d40449a839f4ab150b77f",
            "df663546d94b4aeb88d1ee7b4c1e5a2c",
            "3ec27f831cad487497f118974fc20dba",
            "51eefdb3004745fc9778481ab64a1bf8",
            "32dedea417664197b4a8d540a7d52928",
            "3f12c1453474401fae9877e1d780e183",
            "54d7d13e1b704c6bb5cae8a90a761595",
            "32c73425f88e47268bde6189e18a2b8b",
            "e924391807544c4fb71a891dfd157412",
            "307d263332f3476b9f5367fb3a963328",
            "fc6775b66ee045d0b65e46f918ebef75",
            "bcaf8f637dac4903a3f6c690c362d3a1",
            "43c46cc68bbc4305b49dafb48f78d01f",
            "3c0b051afb9349838b02347376b28996",
            "72c4a0efe8634aff93308d6db4fc2e16",
            "a05dad315b3d4aeb9ce3fafe003e3ae9",
            "9bc9d9b75ac44d62b099c799da714595",
            "4774b06b634747d09f64671c6fea0c23",
            "c83725cebe4645219dd15d89e61da601",
            "20aac82b5efa48fea64cc33ae75280b7",
            "e5b617cb1c4a4b03abc70a8c448c7f82",
            "42ebb999d9244955b17974902095d33e",
            "1e9b9526b98a49adb0eab84c8fd3f825",
            "6a33234bdc0c47c69d9ec4530474b2b9",
            "0bee4fdba43b4c809091d010b4dbb9f9",
            "0636bbcd0c8b4399b21fb2fd524e729e",
            "f7e890954d4a44f7b911b8a459abdd68",
            "3fe8356f79a24e33a18604a3bc9500cb",
            "db8b9b69d1b541b6a8203a016c0c68d2",
            "ccceb3641cf049cbaa7907090baa89f9",
            "6e8f466a3fe84ab09b00aac83cd96ccb",
            "fe247a95b769492185413b025f3c1b85",
            "873cf36925ba4a09b6765bbfe7a2e508",
            "24f496e3495a46f88e595fde06cd3956",
            "12fa6b2e572442aa99440350d34d31d4",
            "5ce614f1c84c4d31a8e296c61cc9a472",
            "b881862100cf4f5ca004b9b3d3626010",
            "5dc7494605cd49b181f5bc4deb1c45b2",
            "099aeb45e2b444beb5e1f3a0a87e13aa",
            "0bb005f6771e4e838c9c0dcac8a20acd",
            "e2583058b4184fb099c1fef0d63eb6fd",
            "3276e4dce3c541de9a82b742c3031345",
            "20233b0d534f425a81afb953526a11a2",
            "8c5e96216d104b99ba0037501fcd8bd5",
            "19cabf7c2fd441b2b6a8084b58f62c52",
            "0f08f05e809244aba9ccece26ab7add2",
            "bb115ca860e846008c7c30aa54496aa9",
            "d70cfd9927ab44ff9b9181378d819ffe",
            "195d5f1338a94e578a5e69a1a6f58f88",
            "186d81228815442f88e2153629cec242",
            "a35211a703c04f849ee6db1e4fdb2e16"
          ]
        },
        "id": "b4pXk9V1mXmZ",
        "outputId": "02800929-aa50-4f73-9472-610d87fb7fe6"
      },
      "outputs": [
        {
          "name": "stderr",
          "output_type": "stream",
          "text": [
            "Using pad_token, but it is not set yet.\n"
          ]
        },
        {
          "name": "stdout",
          "output_type": "stream",
          "text": [
            "Loaded pretrained model gpt2-small into HookedTransformer\n"
          ]
        }
      ],
      "source": [
        "model = HookedTransformer.from_pretrained(\n",
        "    \"gpt2-small\",\n",
        "    center_unembed=True,\n",
        "    center_writing_weights=True,\n",
        "    fold_ln=True,\n",
        "    refactor_factored_attn_matrices=True,\n",
        ")"
      ]
    },
    {
      "cell_type": "code",
      "execution_count": 414,
      "metadata": {
        "id": "zkzs1EXJmpfS"
      },
      "outputs": [],
      "source": [
        "def topk_of_Nd_tensor(tensor: Float[Tensor, \"rows cols\"], k: int):\n",
        "    '''\n",
        "    Helper function: does same as tensor.topk(k).indices, but works over 2D tensors.\n",
        "    Returns a list of indices, i.e. shape [k, tensor.ndim].\n",
        "\n",
        "    Example: if tensor is 2D array of values for each head in each layer, this will\n",
        "    return a list of heads.\n",
        "    '''\n",
        "    i = torch.topk(tensor.flatten(), k).indices\n",
        "    return np.array(np.unravel_index(utils.to_numpy(i), tensor.shape)).T.tolist()"
      ]
    },
    {
      "cell_type": "markdown",
      "metadata": {
        "id": "LAKiVLwElzuT"
      },
      "source": [
        "# Generate Dataset"
      ]
    },
    {
      "cell_type": "code",
      "execution_count": 415,
      "metadata": {
        "id": "IX24f9K1liXv"
      },
      "outputs": [],
      "source": [
        "def generate_repeated_tokens(model, batch, seq_len) -> Float[Tensor, \"batch seq_len*2\"]:\n",
        "  tokens = torch.randint(1, model.cfg.d_vocab, (batch, seq_len))\n",
        "  return torch.concat((tokens, tokens), dim=-1)"
      ]
    },
    {
      "cell_type": "code",
      "execution_count": 417,
      "metadata": {
        "id": "13mqW2YomUxJ"
      },
      "outputs": [],
      "source": [
        "# generate clean prompts\n",
        "gen_size = 600\n",
        "prompt_half_length = 10\n",
        "\n",
        "\n",
        "gen_tokens = generate_repeated_tokens(model, gen_size, prompt_half_length).cuda()\n",
        "gen_prompts = [''.join(model.to_str_tokens(gen_tokens[i, :])) for i in range(gen_tokens.shape[0])]\n",
        "\n",
        "induction_tokens = []\n",
        "induction_prompts = []\n",
        "\n",
        "for i in range(gen_size):\n",
        "    # for prompts that have the same tokens before and after, add to prompts\n",
        "    if gen_tokens[i].equal(model.to_tokens(gen_prompts[i], prepend_bos=False)[0]):\n",
        "        induction_tokens.append(gen_tokens[i])\n",
        "        #induction_prompts.append(gen_prompts[i])\n",
        "\n",
        "\n",
        "for i in range(len(induction_tokens)):\n",
        "    #print(good_tokens[i])\n",
        "    #print(model.to_tokens(model.to_string(good_tokens[i]), prepend_bos=False))\n",
        "    assert induction_tokens[i].equal(model.to_tokens(model.to_string(induction_tokens[i]), prepend_bos=False)[0])\n",
        "    #assert induction_prompts[i] == model.to_string(induction_tokens[i])\n",
        "\n",
        "\n",
        "for i, prompt in enumerate(induction_tokens):\n",
        "    # remove last token\n",
        "    induction_tokens[i] = prompt[:-1]\n",
        "    # generate new prompt and add to induction prompts\n",
        "    induction_prompts.append(model.to_string(induction_tokens[i]))\n",
        "\n",
        "broken_batch_size = len(induction_tokens)\n"
      ]
    },
    {
      "cell_type": "code",
      "execution_count": 418,
      "metadata": {},
      "outputs": [
        {
          "name": "stdout",
          "output_type": "stream",
          "text": [
            "19\n"
          ]
        }
      ],
      "source": [
        "print(len(induction_tokens[2]))"
      ]
    },
    {
      "cell_type": "markdown",
      "metadata": {},
      "source": [
        "generate corrupted prompt by changing prompt_half_length'th token"
      ]
    },
    {
      "cell_type": "code",
      "execution_count": 419,
      "metadata": {
        "id": "RrpK0DJzmzvt"
      },
      "outputs": [],
      "source": [
        "# generate corrupted prompts and tokens by changing prompt_half_length'th token\n",
        "\n",
        "possible_broken_corrupted_tokens = []\n",
        "possible_broken_corrupted_prompts = []\n",
        "\n",
        "for i in range(broken_batch_size):\n",
        "    temp = induction_tokens[i].clone()\n",
        "    temp[prompt_half_length] = torch.randint(1, model.cfg.d_vocab, (1,))\n",
        "    possible_broken_corrupted_tokens.append(temp)\n",
        "    possible_broken_corrupted_prompts.append(model.to_string(temp))\n",
        "    \n"
      ]
    },
    {
      "cell_type": "code",
      "execution_count": 420,
      "metadata": {},
      "outputs": [],
      "source": [
        "BOS_TOKEN = model.to_tokens(\"\")[0].item()"
      ]
    },
    {
      "cell_type": "code",
      "execution_count": 421,
      "metadata": {},
      "outputs": [
        {
          "data": {
            "text/plain": [
              "50256"
            ]
          },
          "execution_count": 421,
          "metadata": {},
          "output_type": "execute_result"
        }
      ],
      "source": [
        "BOS_TOKEN"
      ]
    },
    {
      "cell_type": "markdown",
      "metadata": {},
      "source": [
        "## todo: remove prompts which corrupted stays the same"
      ]
    },
    {
      "cell_type": "code",
      "execution_count": 422,
      "metadata": {},
      "outputs": [
        {
          "data": {
            "text/plain": [
              "tensor([11789, 28138, 39025,  3584, 43578, 26520,  7944, 18658, 18754, 40506,\n",
              "         2770, 28138, 39025,  3584, 43578, 26520,  7944, 18658, 18754],\n",
              "       device='cuda:0')"
            ]
          },
          "execution_count": 422,
          "metadata": {},
          "output_type": "execute_result"
        }
      ],
      "source": [
        "possible_broken_corrupted_tokens[0]"
      ]
    },
    {
      "cell_type": "code",
      "execution_count": 423,
      "metadata": {},
      "outputs": [],
      "source": [
        "# filter possible_broken_corrupted_tokens and possible_broken_corrupted_prompts to only include only the ones to which tokenization remains same\n",
        "corrupted_tokens = []\n",
        "corrupted_prompts = []\n",
        "\n",
        "# ALSO ADDS BOS!\n",
        "num_removed = 0\n",
        "for i in range(broken_batch_size):\n",
        "    if possible_broken_corrupted_tokens[i].equal(model.to_tokens(possible_broken_corrupted_prompts[i], prepend_bos=False)[0]):\n",
        "        \n",
        "        new_corrupted_token = torch.cat((torch.tensor([BOS_TOKEN]).cuda(), possible_broken_corrupted_tokens[i])).cuda()\n",
        "        corrupted_tokens.append(new_corrupted_token)\n",
        "        corrupted_prompts.append(model.to_string(new_corrupted_token))\n",
        "\n",
        "        new_clean_token = torch.cat((torch.tensor([BOS_TOKEN]).cuda(), induction_tokens[i - num_removed])).cuda()\n",
        "        induction_tokens[i - num_removed] = new_clean_token\n",
        "        induction_prompts[i - num_removed] = model.to_string(new_clean_token)\n",
        "    else:\n",
        "        # remove associated induction prompt\n",
        "        induction_tokens.pop(i - num_removed)\n",
        "        induction_prompts.pop(i - num_removed)\n",
        "        num_removed += 1\n",
        "\n",
        "assert len(corrupted_tokens) == len(corrupted_prompts) == len(induction_tokens) == len(induction_prompts)\n",
        "batch_size = len(corrupted_tokens)\n",
        "clean_tokens = torch.stack(induction_tokens)\n",
        "corrupted_tokens = torch.stack(corrupted_tokens)\n",
        "answer_tokens = torch.stack((clean_tokens[:, prompt_half_length + 1], corrupted_tokens[:, prompt_half_length + 1]), dim=1)\n",
        "#answer_tokens = torch.stack((clean_tokens[:, prompt_half_length], clean_tokens[:, 3]), dim=1) # random toke in string!\n",
        "\n",
        "\n",
        "# delete temp variables\n",
        "del possible_broken_corrupted_tokens\n",
        "del possible_broken_corrupted_prompts"
      ]
    },
    {
      "cell_type": "code",
      "execution_count": 424,
      "metadata": {},
      "outputs": [
        {
          "name": "stdout",
          "output_type": "stream",
          "text": [
            "395\n"
          ]
        }
      ],
      "source": [
        "print(batch_size)"
      ]
    },
    {
      "cell_type": "code",
      "execution_count": 425,
      "metadata": {},
      "outputs": [],
      "source": [
        "clean_logits, clean_cache = model.run_with_cache(clean_tokens)\n",
        "corrupted_logits, corrupted_cache = model.run_with_cache(corrupted_tokens)"
      ]
    },
    {
      "cell_type": "code",
      "execution_count": 426,
      "metadata": {},
      "outputs": [],
      "source": [
        "answer_residual_directions: Float[Tensor, \"batch 2 d_model\"] = model.tokens_to_residual_directions(answer_tokens)\n",
        "correct_residual_direction, incorrect_residual_direction = answer_residual_directions.unbind(dim=1)\n",
        "logit_diff_directions: Float[Tensor, \"batch d_model\"] = correct_residual_direction - incorrect_residual_direction"
      ]
    },
    {
      "cell_type": "markdown",
      "metadata": {},
      "source": [
        "# Helper Functions"
      ]
    },
    {
      "cell_type": "code",
      "execution_count": 427,
      "metadata": {},
      "outputs": [],
      "source": [
        "def logits_to_ave_logit_diff(\n",
        "    logits: Float[Tensor, \"batch seq d_vocab\"],\n",
        "    answer_tokens: Float[Tensor, \"batch 2\"] = answer_tokens,\n",
        "    per_prompt: bool = False\n",
        "):\n",
        "    '''\n",
        "    Returns logit difference between the correct and incorrect answer.\n",
        "\n",
        "    If per_prompt=True, return the array of differences rather than the average.\n",
        "    '''\n",
        "    # SOLUTION\n",
        "    # Only the final logits are relevant for the answer\n",
        "    final_logits: Float[Tensor, \"batch d_vocab\"] = logits[:, -1, :]\n",
        "    # Get the logits corresponding to the indirect object / subject tokens respectively\n",
        "    answer_logits: Float[Tensor, \"batch 2\"] = final_logits.gather(dim=-1, index=answer_tokens.to(device))\n",
        "    # Find logit difference\n",
        "    correct_logits, incorrect_logits = answer_logits.unbind(dim=-1)\n",
        "    answer_logit_diff = correct_logits - incorrect_logits\n",
        "    return answer_logit_diff if per_prompt else answer_logit_diff.mean()"
      ]
    },
    {
      "cell_type": "code",
      "execution_count": 428,
      "metadata": {},
      "outputs": [],
      "source": [
        "def residual_stack_to_logit_diff(\n",
        "    residual_stack: Float[Tensor, \"... batch d_model\"],\n",
        "    cache: ActivationCache,\n",
        "    logit_diff_directions: Float[Tensor, \"batch d_model\"] = logit_diff_directions,\n",
        ") -> Float[Tensor, \"...\"]:\n",
        "    '''\n",
        "    Gets the avg logit difference between the correct and incorrect answer for a given\n",
        "    stack of components in the residual stream.\n",
        "    '''\n",
        "    batch_size = residual_stack.size(-2)\n",
        "    scaled_residual_stack = cache.apply_ln_to_stack(residual_stack, layer=-1, pos_slice=-1)\n",
        "\n",
        "\n",
        "\n",
        "    # # some extra code for more sanity checking\n",
        "    # new_logits = scaled_residual_stack @ model.W_U\n",
        "    # print(new_logits.shape)\n",
        "    # new_logits = einops.repeat(new_logits, \"batch d_vocab -> batch 1 d_vocab\")\n",
        "    # print(new_logits.shape)\n",
        "    # print(logits_to_ave_logit_diff(new_logits))\n",
        "\n",
        "    return einops.einsum(\n",
        "        scaled_residual_stack, logit_diff_directions,\n",
        "        \"... batch d_model, batch d_model -> ...\"\n",
        "    ) / batch_size\n"
      ]
    },
    {
      "cell_type": "code",
      "execution_count": 429,
      "metadata": {},
      "outputs": [
        {
          "name": "stdout",
          "output_type": "stream",
          "text": [
            "Tried to stack head results when they weren't cached. Computing head results now\n"
          ]
        }
      ],
      "source": [
        "def calc_all_logit_diffs(cache):\n",
        "  clean_per_head_residual, labels = cache.stack_head_results(layer = -1, return_labels = True, apply_ln = False) # per_head_residual.shape = heads batch seq_pos d_model\n",
        "  # also, for the worried, no, we're not missing the application of LN here since it gets applied in the below function call\n",
        "  per_head_logit_diff: Float[Tensor, \"batch head\"] = residual_stack_to_logit_diff(clean_per_head_residual[:, :, -1, :], cache)\n",
        "\n",
        "  per_head_logit_diff = einops.rearrange(\n",
        "      per_head_logit_diff,\n",
        "      \"(layer head) ... -> layer head ...\",\n",
        "      layer=model.cfg.n_layers\n",
        "  )\n",
        "\n",
        "  correct_direction_per_head_logit: Float[Tensor, \"batch head\"] = residual_stack_to_logit_diff(clean_per_head_residual[:, :, -1, :], cache, logit_diff_directions = correct_residual_direction)\n",
        "\n",
        "  correct_direction_per_head_logit = einops.rearrange(\n",
        "      correct_direction_per_head_logit,\n",
        "      \"(layer head) ... -> layer head ...\",\n",
        "      layer=model.cfg.n_layers\n",
        "  )\n",
        "\n",
        "  incorrect_direction_per_head_logit: Float[Tensor, \"batch head\"] = residual_stack_to_logit_diff(clean_per_head_residual[:, :, -1, :], cache, logit_diff_directions = incorrect_residual_direction)\n",
        "\n",
        "  incorrect_direction_per_head_logit = einops.rearrange(\n",
        "      incorrect_direction_per_head_logit,\n",
        "      \"(layer head) ... -> layer head ...\",\n",
        "      layer=model.cfg.n_layers\n",
        "  )\n",
        "\n",
        "  return per_head_logit_diff, correct_direction_per_head_logit, incorrect_direction_per_head_logit\n",
        "\n",
        "per_head_logit_diff, correct_direction_per_head_logit, incorrect_direction_per_head_logit = calc_all_logit_diffs(clean_cache)"
      ]
    },
    {
      "cell_type": "code",
      "execution_count": 430,
      "metadata": {},
      "outputs": [
        {
          "name": "stdout",
          "output_type": "stream",
          "text": [
            "Answer residual directions shape: torch.Size([395, 2, 768])\n",
            "Logit difference directions shape: torch.Size([395, 768])\n"
          ]
        }
      ],
      "source": [
        "answer_residual_directions: Float[Tensor, \"batch 2 d_model\"] = model.tokens_to_residual_directions(answer_tokens)\n",
        "print(\"Answer residual directions shape:\", answer_residual_directions.shape)\n",
        "\n",
        "correct_residual_directions, incorrect_residual_directions = answer_residual_directions.unbind(dim=1)\n",
        "logit_diff_directions: Float[Tensor, \"batch d_model\"] = correct_residual_directions - incorrect_residual_directions\n",
        "print(f\"Logit difference directions shape:\", logit_diff_directions.shape)"
      ]
    },
    {
      "cell_type": "code",
      "execution_count": 431,
      "metadata": {},
      "outputs": [
        {
          "name": "stdout",
          "output_type": "stream",
          "text": [
            "tensor(3.2651, device='cuda:0')\n",
            "tensor(-0.9653, device='cuda:0')\n"
          ]
        }
      ],
      "source": [
        "clean_per_prompt_diff = logits_to_ave_logit_diff(clean_logits, per_prompt = True)\n",
        "\n",
        "clean_average_logit_diff = logits_to_ave_logit_diff(clean_logits)\n",
        "corrupted_average_logit_diff = logits_to_ave_logit_diff(corrupted_logits)\n",
        "\n",
        "print(clean_average_logit_diff)\n",
        "print(corrupted_average_logit_diff)"
      ]
    },
    {
      "cell_type": "code",
      "execution_count": 432,
      "metadata": {},
      "outputs": [
        {
          "name": "stdout",
          "output_type": "stream",
          "text": [
            "Final residual stream shape: torch.Size([395, 20, 768])\n",
            "Calculated average logit diff: 3.2650709152\n",
            "Original logit difference:     3.2650706768\n"
          ]
        }
      ],
      "source": [
        "diff_from_unembedding_bias = model.b_U[answer_tokens[:, 0]] -  model.b_U[answer_tokens[:, 1]]\n",
        "final_residual_stream: Float[Tensor, \"batch seq d_model\"] = clean_cache[\"resid_post\", -1]\n",
        "print(f\"Final residual stream shape: {final_residual_stream.shape}\")\n",
        "final_token_residual_stream: Float[Tensor, \"batch d_model\"] = final_residual_stream[:, -1, :]\n",
        "\n",
        "print(f\"Calculated average logit diff: {(residual_stack_to_logit_diff(final_token_residual_stream, clean_cache, logit_diff_directions) + diff_from_unembedding_bias.mean(0)):.10f}\") # <-- okay b_U exists... and matters\n",
        "print(f\"Original logit difference:     {clean_average_logit_diff:.10f}\")"
      ]
    },
    {
      "cell_type": "code",
      "execution_count": 433,
      "metadata": {},
      "outputs": [],
      "source": [
        "def calc_all_logit_diffs(cache):\n",
        "  clean_per_head_residual, labels = cache.stack_head_results(layer = -1, return_labels = True, apply_ln = False) # per_head_residual.shape = heads batch seq_pos d_model\n",
        "  # also, for the worried, no, we're not missing the application of LN here since it gets applied in the below function call\n",
        "  per_head_logit_diff: Float[Tensor, \"batch head\"] = residual_stack_to_logit_diff(clean_per_head_residual[:, :, -1, :], cache)\n",
        "\n",
        "  per_head_logit_diff = einops.rearrange(\n",
        "      per_head_logit_diff,\n",
        "      \"(layer head) ... -> layer head ...\",\n",
        "      layer=model.cfg.n_layers\n",
        "  )\n",
        "\n",
        "  correct_direction_per_head_logit: Float[Tensor, \"batch head\"] = residual_stack_to_logit_diff(clean_per_head_residual[:, :, -1, :], cache, logit_diff_directions = correct_residual_direction)\n",
        "\n",
        "  correct_direction_per_head_logit = einops.rearrange(\n",
        "      correct_direction_per_head_logit,\n",
        "      \"(layer head) ... -> layer head ...\",\n",
        "      layer=model.cfg.n_layers\n",
        "  )\n",
        "\n",
        "  incorrect_direction_per_head_logit: Float[Tensor, \"batch head\"] = residual_stack_to_logit_diff(clean_per_head_residual[:, :, -1, :], cache, logit_diff_directions = incorrect_residual_direction)\n",
        "\n",
        "  incorrect_direction_per_head_logit = einops.rearrange(\n",
        "      incorrect_direction_per_head_logit,\n",
        "      \"(layer head) ... -> layer head ...\",\n",
        "      layer=model.cfg.n_layers\n",
        "  )\n",
        "\n",
        "  return per_head_logit_diff, correct_direction_per_head_logit, incorrect_direction_per_head_logit\n",
        "\n",
        "per_head_logit_diff, correct_direction_per_head_logit, incorrect_direction_per_head_logit = calc_all_logit_diffs(clean_cache)"
      ]
    },
    {
      "cell_type": "code",
      "execution_count": 434,
      "metadata": {},
      "outputs": [
        {
          "name": "stdout",
          "output_type": "stream",
          "text": [
            "[(11, 3), (11, 2), (11, 9), (10, 0), (11, 6)]\n"
          ]
        }
      ],
      "source": [
        "top_heads = []\n",
        "k = 5\n",
        "\n",
        "flattened_tensor = per_head_logit_diff.flatten().cpu()\n",
        "_, topk_indices = torch.topk(flattened_tensor, k)\n",
        "top_layer_arr, top_index_arr = np.unravel_index(topk_indices.numpy(), per_head_logit_diff.shape)\n",
        "\n",
        "for l, i in zip(top_layer_arr, top_index_arr):\n",
        "  top_heads.append((l,i))\n",
        "\n",
        "print(top_heads)"
      ]
    },
    {
      "cell_type": "code",
      "execution_count": 435,
      "metadata": {},
      "outputs": [
        {
          "data": {
            "application/vnd.plotly.v1+json": {
              "config": {
                "plotlyServerURL": "https://plot.ly"
              },
              "data": [
                {
                  "coloraxis": "coloraxis",
                  "hovertemplate": "Head: %{x}<br>Layer: %{y}<br>Logit Contribution: %{z}<extra></extra>",
                  "name": "0",
                  "type": "heatmap",
                  "xaxis": "x",
                  "yaxis": "y",
                  "z": [
                    [
                      0.006689068861305714,
                      -0.005708486307412386,
                      0.004216901957988739,
                      0.002131918678060174,
                      -0.003177909879013896,
                      0.0010745653416961432,
                      0.006828648038208485,
                      0.005330133251845837,
                      0.0033687097020447254,
                      0.00791920255869627,
                      -0.0038376005832105875,
                      0.0064351619221270084
                    ],
                    [
                      -0.0007053743465803564,
                      0.0016083234222605824,
                      -0.00297373766079545,
                      -0.008504227735102177,
                      0.001757912221364677,
                      -0.0014776065945625305,
                      0.022480247542262077,
                      0.034706443548202515,
                      -0.007345568388700485,
                      -0.0069162980653345585,
                      0.0046387361362576485,
                      -0.0073121897876262665
                    ],
                    [
                      0.0048042829148471355,
                      0.01641199365258217,
                      0.0006849172059446573,
                      -0.0023382927756756544,
                      -0.002046606270596385,
                      0.006497721653431654,
                      -0.0058753290213644505,
                      -0.0017213139217346907,
                      0.0029384433291852474,
                      -0.005082700401544571,
                      0.01083004754036665,
                      -0.01011902280151844
                    ],
                    [
                      0.0010751975933089852,
                      0.002102408790960908,
                      -0.002172130858525634,
                      0.0014482340775430202,
                      -0.005772984120994806,
                      0.010021355003118515,
                      -0.0023309194948524237,
                      -0.0063554104417562485,
                      0.0014695494901388884,
                      0.0010126916458830237,
                      -0.0007028969121165574,
                      -0.0007967847632244229
                    ],
                    [
                      -0.0009314221097156405,
                      0.0014638662105426192,
                      0.004649514798074961,
                      0.0007254318334162235,
                      -0.005821676459163427,
                      0.0012656513135880232,
                      0.0021534007973968983,
                      -0.004078171215951443,
                      0.0038353304844349623,
                      0.003570251865312457,
                      -0.0012820992851629853,
                      0.000334471114911139
                    ],
                    [
                      0.017729923129081726,
                      0.009890107437968254,
                      0.005426811520010233,
                      0.004332707729190588,
                      -0.0007383244810625911,
                      0.02500174380838871,
                      0.0039404937997460365,
                      -0.0017702131299301982,
                      -0.001141948625445366,
                      -0.006420422345399857,
                      0.010937580838799477,
                      -0.011314201168715954
                    ],
                    [
                      0.005990548525005579,
                      0.004683101549744606,
                      -0.01179766096174717,
                      0.017168715596199036,
                      0.031025584787130356,
                      -0.011231422424316406,
                      -0.023296242579817772,
                      0.01497743371874094,
                      -0.0020879702642560005,
                      0.03083350509405136,
                      0.01705995947122574,
                      -0.0001319988223258406
                    ],
                    [
                      0.0005734012229368091,
                      0.09863682091236115,
                      0.02825632318854332,
                      -0.003647539997473359,
                      0.004836836829781532,
                      0.01312696747481823,
                      -0.001818668213672936,
                      0.09039681404829025,
                      0.0033971769735217094,
                      -0.010025465860962868,
                      0.041801244020462036,
                      0.012907631695270538
                    ],
                    [
                      -0.00828181765973568,
                      0.01757696084678173,
                      0.025745496153831482,
                      0.01273167785257101,
                      0.0012678919592872262,
                      0.010671722702682018,
                      0.03743381053209305,
                      0.010856406763195992,
                      0.026219042018055916,
                      -0.007143792230635881,
                      -0.05856737494468689,
                      0.014962531626224518
                    ],
                    [
                      0.048494625836610794,
                      0.027614891529083252,
                      0.05455514043569565,
                      0.021534593775868416,
                      0.00821410957723856,
                      -0.03295073285698891,
                      0.09270601719617844,
                      -0.0026827233377844095,
                      0.04357866197824478,
                      0.06806829571723938,
                      0.0054245577193796635,
                      0.051034171134233475
                    ],
                    [
                      0.18046699464321136,
                      0.11119004338979721,
                      0.09908179938793182,
                      0.041448432952165604,
                      0.05988243222236633,
                      0.006388730835169554,
                      0.09588123857975006,
                      -0.003887740196660161,
                      0.015783710405230522,
                      0.00810055062174797,
                      0.09892086684703827,
                      0.10907315462827682
                    ],
                    [
                      0.00356086902320385,
                      0.07738107442855835,
                      0.23916606605052948,
                      0.2624034583568573,
                      0.012864109128713608,
                      0.09654580801725388,
                      0.15965574979782104,
                      0.0306047685444355,
                      0.0463009849190712,
                      0.19702447950839996,
                      0.029655102640390396,
                      0.11854177713394165
                    ]
                  ]
                },
                {
                  "coloraxis": "coloraxis",
                  "hovertemplate": "Head: %{x}<br>Layer: %{y}<br>Logit Contribution: %{z}<extra></extra>",
                  "name": "1",
                  "type": "heatmap",
                  "xaxis": "x2",
                  "yaxis": "y2",
                  "z": [
                    [
                      0.00796001497656107,
                      -0.00454632518813014,
                      0.004143977537751198,
                      0.003127420088276267,
                      -0.003748712595552206,
                      0.005006816238164902,
                      0.010414146818220615,
                      0.0066910660825669765,
                      0.00632141437381506,
                      0.003736822633072734,
                      0.00289022084325552,
                      -0.0037999481428414583
                    ],
                    [
                      0.00027172843692824244,
                      -0.0015350945759564638,
                      -0.0018990798853337765,
                      -0.004359386395663023,
                      0.003520544618368149,
                      0.0002876927610486746,
                      0.021657176315784454,
                      0.034331053495407104,
                      -0.011801984161138535,
                      -0.00684491777792573,
                      0.0014878209913149476,
                      -0.009852548129856586
                    ],
                    [
                      0.0027287513948976994,
                      0.017200438305735588,
                      -0.00019289112242404372,
                      -0.003516694065183401,
                      -0.0004601558903232217,
                      0.0027038429398089647,
                      -0.0062325322069227695,
                      -0.00017990631749853492,
                      0.0021713098976761103,
                      -0.0017276298021897674,
                      0.0045938799157738686,
                      -0.006243968848139048
                    ],
                    [
                      0.003254400100558996,
                      -0.0006179847405292094,
                      -0.0006776569643989205,
                      0.0005994683597236872,
                      0.00008886532305041328,
                      0.011848332360386848,
                      0.00006559793109772727,
                      -0.0036316353362053633,
                      -0.0001238787517650053,
                      0.0018248989945277572,
                      -0.0008007974829524755,
                      -0.00007628274033777416
                    ],
                    [
                      -0.00002589615723991301,
                      0.00026580842677503824,
                      0.005016032140702009,
                      0.0014635507250204682,
                      -0.0022082712966948748,
                      0.001266423612833023,
                      -0.0036373871844261885,
                      0.00024578775628469884,
                      0.006180538795888424,
                      0.002615894190967083,
                      -0.0002281439519720152,
                      -0.0005167811759747565
                    ],
                    [
                      0.016179807484149933,
                      -0.0007387559744529426,
                      0.0023494400084018707,
                      0.005398715380579233,
                      0.0020110649056732655,
                      0.018948478624224663,
                      0.0025272618513554335,
                      -0.00025556079344823956,
                      -0.0013052276335656643,
                      -0.019904090091586113,
                      0.011485988274216652,
                      -0.013585940934717655
                    ],
                    [
                      0.0033891787752509117,
                      0.0040112934075295925,
                      -0.012888027355074883,
                      0.012022720649838448,
                      0.032383959740400314,
                      -0.004867431707680225,
                      -0.021163959056138992,
                      0.013841081410646439,
                      -0.00247709802351892,
                      0.017847534269094467,
                      0.019875233992934227,
                      0.0011558199767023325
                    ],
                    [
                      0.0006047497154213488,
                      0.10285234451293945,
                      0.024267742410302162,
                      -0.009407549165189266,
                      0.003421586472541094,
                      0.012885386124253273,
                      -0.011265289038419724,
                      0.0928967222571373,
                      0.002611212432384491,
                      -0.005294742528349161,
                      0.018977222964167595,
                      0.012060332112014294
                    ],
                    [
                      -0.0067180851474404335,
                      0.013346036896109581,
                      0.02647196128964424,
                      0.014352277852594852,
                      0.0003414630191400647,
                      0.011304290033876896,
                      0.038664449006319046,
                      0.00715382257476449,
                      0.026292793452739716,
                      -0.005911385174840689,
                      -0.056052520871162415,
                      0.014879461377859116
                    ],
                    [
                      0.04800722748041153,
                      0.026149658486247063,
                      0.05476459488272667,
                      0.023384597152471542,
                      0.01061074249446392,
                      -0.033637870103120804,
                      0.07974816113710403,
                      -0.006934806238859892,
                      0.0485491082072258,
                      0.04860936850309372,
                      0.007552986033260822,
                      0.05257190763950348
                    ],
                    [
                      0.1790562868118286,
                      0.1012168824672699,
                      0.09855492413043976,
                      0.037910863757133484,
                      0.06780744343996048,
                      0.015469329431653023,
                      0.09601452201604843,
                      0.007490541320294142,
                      0.015315625816583633,
                      0.00837618112564087,
                      0.1059776023030281,
                      0.10927334427833557
                    ],
                    [
                      -0.0012809470063075423,
                      0.08926283568143845,
                      0.24339057505130768,
                      0.2784007489681244,
                      0.00566429179161787,
                      0.08276259899139404,
                      0.16348499059677124,
                      0.038577623665332794,
                      0.053537677973508835,
                      0.21118569374084473,
                      0.03651190549135208,
                      0.11980181187391281
                    ]
                  ]
                },
                {
                  "coloraxis": "coloraxis",
                  "hovertemplate": "Head: %{x}<br>Layer: %{y}<br>Logit Contribution: %{z}<extra></extra>",
                  "name": "2",
                  "type": "heatmap",
                  "xaxis": "x3",
                  "yaxis": "y3",
                  "z": [
                    [
                      0.001270944601856172,
                      0.001162165543064475,
                      -0.00007292051304830238,
                      0.0009955031564459205,
                      -0.0005708003882318735,
                      0.003932252060621977,
                      0.0035854962188750505,
                      0.00136093283072114,
                      0.0029527097940444946,
                      -0.004182364325970411,
                      0.006727827247232199,
                      -0.010235108435153961
                    ],
                    [
                      0.0009771034820005298,
                      -0.00314341951161623,
                      0.0010746537009254098,
                      0.004144843202084303,
                      0.0017626321641728282,
                      0.0017653012182563543,
                      -0.0008230748353525996,
                      -0.00037538175820373,
                      -0.004456414375454187,
                      0.00007137750799302012,
                      -0.0031509085092693567,
                      -0.002540353685617447
                    ],
                    [
                      -0.00207553175278008,
                      0.0007884405204094946,
                      -0.0008778039482422173,
                      -0.0011784002417698503,
                      0.0015864493325352669,
                      -0.003793879644945264,
                      -0.0003572014975361526,
                      0.0015414069639518857,
                      -0.0007671331404708326,
                      0.0033550721127539873,
                      -0.006236177869141102,
                      0.0038750499952584505
                    ],
                    [
                      0.0021792089100927114,
                      -0.0027203934732824564,
                      0.0014944750582799315,
                      -0.0008487620507366955,
                      0.005861849058419466,
                      0.0018269765423610806,
                      0.0023965216241776943,
                      0.0027237781323492527,
                      -0.001593426801264286,
                      0.000812206999398768,
                      -0.00009790161129785702,
                      0.0007205029251053929
                    ],
                    [
                      0.0009055265691131353,
                      -0.0011980565031990409,
                      0.0003665179538074881,
                      0.0007381214527413249,
                      0.0036134039983153343,
                      7.714463094998791e-7,
                      -0.005790783558040857,
                      0.00432395888492465,
                      0.002345204120501876,
                      -0.0009543572668917477,
                      0.001053954241797328,
                      -0.0008512504282407463
                    ],
                    [
                      -0.0015501088928431273,
                      -0.010628871619701385,
                      -0.0030773726757615805,
                      0.0010660127736628056,
                      0.002749387640506029,
                      -0.006053258199244738,
                      -0.0014132297364994884,
                      0.0015146523946896195,
                      -0.0001632787025300786,
                      -0.013483664020895958,
                      0.0005484074936248362,
                      -0.0022717369720339775
                    ],
                    [
                      -0.002601372078061104,
                      -0.000671806454192847,
                      -0.0010903679067268968,
                      -0.005145995412021875,
                      0.0013583725085482001,
                      0.006363988388329744,
                      0.0021322814282029867,
                      -0.001136351260356605,
                      -0.0003891222004313022,
                      -0.01298596803098917,
                      0.0028152784798294306,
                      0.0012878206325694919
                    ],
                    [
                      0.000031345291063189507,
                      0.004215496126562357,
                      -0.003988569602370262,
                      -0.0057600149884819984,
                      -0.001415252685546875,
                      -0.00024158104497473687,
                      -0.009446614421904087,
                      0.002499903552234173,
                      -0.0007859652396291494,
                      0.004730724263936281,
                      -0.022824034094810486,
                      -0.0008472975459881127
                    ],
                    [
                      0.0015637328615412116,
                      -0.004230923019349575,
                      0.000726472819224,
                      0.0016206037253141403,
                      -0.0009264295804314315,
                      0.0006325634312815964,
                      0.0012306452263146639,
                      -0.0037025862839072943,
                      0.000073745206464082,
                      0.0012323992559686303,
                      0.0025148591957986355,
                      -0.00008307050302391872
                    ],
                    [
                      -0.0004873959405813366,
                      -0.0014652340905740857,
                      0.00020946022414136678,
                      0.0018500009318813682,
                      0.0023966324515640736,
                      -0.0006871356163173914,
                      -0.012957870960235596,
                      -0.00425208592787385,
                      0.004970445763319731,
                      -0.019458936527371407,
                      0.002128428779542446,
                      0.0015377391828224063
                    ],
                    [
                      -0.0014107073657214642,
                      -0.00997317023575306,
                      -0.0005268757231533527,
                      -0.00353755964897573,
                      0.007925013080239296,
                      0.00908060185611248,
                      0.00013326451880857348,
                      0.011378259398043156,
                      -0.0004680812417063862,
                      0.00027562922332435846,
                      0.007056734059005976,
                      0.0002001714165089652
                    ],
                    [
                      -0.004841830115765333,
                      0.011881758458912373,
                      0.004224529955536127,
                      0.01599726267158985,
                      -0.007199817802757025,
                      -0.01378319039940834,
                      0.003829233581200242,
                      0.00797285046428442,
                      0.007236692123115063,
                      0.014161202125251293,
                      0.006856800522655249,
                      0.0012600513873621821
                    ]
                  ]
                }
              ],
              "layout": {
                "annotations": [
                  {
                    "font": {},
                    "showarrow": false,
                    "text": "Logit Diff - 3.27",
                    "x": 0.15999999999999998,
                    "xanchor": "center",
                    "xref": "paper",
                    "y": 1,
                    "yanchor": "bottom",
                    "yref": "paper"
                  },
                  {
                    "font": {},
                    "showarrow": false,
                    "text": "Correct Direction",
                    "x": 0.49999999999999994,
                    "xanchor": "center",
                    "xref": "paper",
                    "y": 1,
                    "yanchor": "bottom",
                    "yref": "paper"
                  },
                  {
                    "font": {},
                    "showarrow": false,
                    "text": "Incorrect Direction",
                    "x": 0.8399999999999999,
                    "xanchor": "center",
                    "xref": "paper",
                    "y": 1,
                    "yanchor": "bottom",
                    "yref": "paper"
                  }
                ],
                "coloraxis": {
                  "cmid": 0,
                  "colorbar": {
                    "title": {
                      "text": "Logit Contribution"
                    }
                  },
                  "colorscale": [
                    [
                      0,
                      "rgb(103,0,31)"
                    ],
                    [
                      0.1,
                      "rgb(178,24,43)"
                    ],
                    [
                      0.2,
                      "rgb(214,96,77)"
                    ],
                    [
                      0.3,
                      "rgb(244,165,130)"
                    ],
                    [
                      0.4,
                      "rgb(253,219,199)"
                    ],
                    [
                      0.5,
                      "rgb(247,247,247)"
                    ],
                    [
                      0.6,
                      "rgb(209,229,240)"
                    ],
                    [
                      0.7,
                      "rgb(146,197,222)"
                    ],
                    [
                      0.8,
                      "rgb(67,147,195)"
                    ],
                    [
                      0.9,
                      "rgb(33,102,172)"
                    ],
                    [
                      1,
                      "rgb(5,48,97)"
                    ]
                  ]
                },
                "margin": {
                  "l": 100,
                  "r": 100
                },
                "template": {
                  "data": {
                    "bar": [
                      {
                        "error_x": {
                          "color": "#2a3f5f"
                        },
                        "error_y": {
                          "color": "#2a3f5f"
                        },
                        "marker": {
                          "line": {
                            "color": "#E5ECF6",
                            "width": 0.5
                          },
                          "pattern": {
                            "fillmode": "overlay",
                            "size": 10,
                            "solidity": 0.2
                          }
                        },
                        "type": "bar"
                      }
                    ],
                    "barpolar": [
                      {
                        "marker": {
                          "line": {
                            "color": "#E5ECF6",
                            "width": 0.5
                          },
                          "pattern": {
                            "fillmode": "overlay",
                            "size": 10,
                            "solidity": 0.2
                          }
                        },
                        "type": "barpolar"
                      }
                    ],
                    "carpet": [
                      {
                        "aaxis": {
                          "endlinecolor": "#2a3f5f",
                          "gridcolor": "white",
                          "linecolor": "white",
                          "minorgridcolor": "white",
                          "startlinecolor": "#2a3f5f"
                        },
                        "baxis": {
                          "endlinecolor": "#2a3f5f",
                          "gridcolor": "white",
                          "linecolor": "white",
                          "minorgridcolor": "white",
                          "startlinecolor": "#2a3f5f"
                        },
                        "type": "carpet"
                      }
                    ],
                    "choropleth": [
                      {
                        "colorbar": {
                          "outlinewidth": 0,
                          "ticks": ""
                        },
                        "type": "choropleth"
                      }
                    ],
                    "contour": [
                      {
                        "colorbar": {
                          "outlinewidth": 0,
                          "ticks": ""
                        },
                        "colorscale": [
                          [
                            0,
                            "#0d0887"
                          ],
                          [
                            0.1111111111111111,
                            "#46039f"
                          ],
                          [
                            0.2222222222222222,
                            "#7201a8"
                          ],
                          [
                            0.3333333333333333,
                            "#9c179e"
                          ],
                          [
                            0.4444444444444444,
                            "#bd3786"
                          ],
                          [
                            0.5555555555555556,
                            "#d8576b"
                          ],
                          [
                            0.6666666666666666,
                            "#ed7953"
                          ],
                          [
                            0.7777777777777778,
                            "#fb9f3a"
                          ],
                          [
                            0.8888888888888888,
                            "#fdca26"
                          ],
                          [
                            1,
                            "#f0f921"
                          ]
                        ],
                        "type": "contour"
                      }
                    ],
                    "contourcarpet": [
                      {
                        "colorbar": {
                          "outlinewidth": 0,
                          "ticks": ""
                        },
                        "type": "contourcarpet"
                      }
                    ],
                    "heatmap": [
                      {
                        "colorbar": {
                          "outlinewidth": 0,
                          "ticks": ""
                        },
                        "colorscale": [
                          [
                            0,
                            "#0d0887"
                          ],
                          [
                            0.1111111111111111,
                            "#46039f"
                          ],
                          [
                            0.2222222222222222,
                            "#7201a8"
                          ],
                          [
                            0.3333333333333333,
                            "#9c179e"
                          ],
                          [
                            0.4444444444444444,
                            "#bd3786"
                          ],
                          [
                            0.5555555555555556,
                            "#d8576b"
                          ],
                          [
                            0.6666666666666666,
                            "#ed7953"
                          ],
                          [
                            0.7777777777777778,
                            "#fb9f3a"
                          ],
                          [
                            0.8888888888888888,
                            "#fdca26"
                          ],
                          [
                            1,
                            "#f0f921"
                          ]
                        ],
                        "type": "heatmap"
                      }
                    ],
                    "heatmapgl": [
                      {
                        "colorbar": {
                          "outlinewidth": 0,
                          "ticks": ""
                        },
                        "colorscale": [
                          [
                            0,
                            "#0d0887"
                          ],
                          [
                            0.1111111111111111,
                            "#46039f"
                          ],
                          [
                            0.2222222222222222,
                            "#7201a8"
                          ],
                          [
                            0.3333333333333333,
                            "#9c179e"
                          ],
                          [
                            0.4444444444444444,
                            "#bd3786"
                          ],
                          [
                            0.5555555555555556,
                            "#d8576b"
                          ],
                          [
                            0.6666666666666666,
                            "#ed7953"
                          ],
                          [
                            0.7777777777777778,
                            "#fb9f3a"
                          ],
                          [
                            0.8888888888888888,
                            "#fdca26"
                          ],
                          [
                            1,
                            "#f0f921"
                          ]
                        ],
                        "type": "heatmapgl"
                      }
                    ],
                    "histogram": [
                      {
                        "marker": {
                          "pattern": {
                            "fillmode": "overlay",
                            "size": 10,
                            "solidity": 0.2
                          }
                        },
                        "type": "histogram"
                      }
                    ],
                    "histogram2d": [
                      {
                        "colorbar": {
                          "outlinewidth": 0,
                          "ticks": ""
                        },
                        "colorscale": [
                          [
                            0,
                            "#0d0887"
                          ],
                          [
                            0.1111111111111111,
                            "#46039f"
                          ],
                          [
                            0.2222222222222222,
                            "#7201a8"
                          ],
                          [
                            0.3333333333333333,
                            "#9c179e"
                          ],
                          [
                            0.4444444444444444,
                            "#bd3786"
                          ],
                          [
                            0.5555555555555556,
                            "#d8576b"
                          ],
                          [
                            0.6666666666666666,
                            "#ed7953"
                          ],
                          [
                            0.7777777777777778,
                            "#fb9f3a"
                          ],
                          [
                            0.8888888888888888,
                            "#fdca26"
                          ],
                          [
                            1,
                            "#f0f921"
                          ]
                        ],
                        "type": "histogram2d"
                      }
                    ],
                    "histogram2dcontour": [
                      {
                        "colorbar": {
                          "outlinewidth": 0,
                          "ticks": ""
                        },
                        "colorscale": [
                          [
                            0,
                            "#0d0887"
                          ],
                          [
                            0.1111111111111111,
                            "#46039f"
                          ],
                          [
                            0.2222222222222222,
                            "#7201a8"
                          ],
                          [
                            0.3333333333333333,
                            "#9c179e"
                          ],
                          [
                            0.4444444444444444,
                            "#bd3786"
                          ],
                          [
                            0.5555555555555556,
                            "#d8576b"
                          ],
                          [
                            0.6666666666666666,
                            "#ed7953"
                          ],
                          [
                            0.7777777777777778,
                            "#fb9f3a"
                          ],
                          [
                            0.8888888888888888,
                            "#fdca26"
                          ],
                          [
                            1,
                            "#f0f921"
                          ]
                        ],
                        "type": "histogram2dcontour"
                      }
                    ],
                    "mesh3d": [
                      {
                        "colorbar": {
                          "outlinewidth": 0,
                          "ticks": ""
                        },
                        "type": "mesh3d"
                      }
                    ],
                    "parcoords": [
                      {
                        "line": {
                          "colorbar": {
                            "outlinewidth": 0,
                            "ticks": ""
                          }
                        },
                        "type": "parcoords"
                      }
                    ],
                    "pie": [
                      {
                        "automargin": true,
                        "type": "pie"
                      }
                    ],
                    "scatter": [
                      {
                        "fillpattern": {
                          "fillmode": "overlay",
                          "size": 10,
                          "solidity": 0.2
                        },
                        "type": "scatter"
                      }
                    ],
                    "scatter3d": [
                      {
                        "line": {
                          "colorbar": {
                            "outlinewidth": 0,
                            "ticks": ""
                          }
                        },
                        "marker": {
                          "colorbar": {
                            "outlinewidth": 0,
                            "ticks": ""
                          }
                        },
                        "type": "scatter3d"
                      }
                    ],
                    "scattercarpet": [
                      {
                        "marker": {
                          "colorbar": {
                            "outlinewidth": 0,
                            "ticks": ""
                          }
                        },
                        "type": "scattercarpet"
                      }
                    ],
                    "scattergeo": [
                      {
                        "marker": {
                          "colorbar": {
                            "outlinewidth": 0,
                            "ticks": ""
                          }
                        },
                        "type": "scattergeo"
                      }
                    ],
                    "scattergl": [
                      {
                        "marker": {
                          "colorbar": {
                            "outlinewidth": 0,
                            "ticks": ""
                          }
                        },
                        "type": "scattergl"
                      }
                    ],
                    "scattermapbox": [
                      {
                        "marker": {
                          "colorbar": {
                            "outlinewidth": 0,
                            "ticks": ""
                          }
                        },
                        "type": "scattermapbox"
                      }
                    ],
                    "scatterpolar": [
                      {
                        "marker": {
                          "colorbar": {
                            "outlinewidth": 0,
                            "ticks": ""
                          }
                        },
                        "type": "scatterpolar"
                      }
                    ],
                    "scatterpolargl": [
                      {
                        "marker": {
                          "colorbar": {
                            "outlinewidth": 0,
                            "ticks": ""
                          }
                        },
                        "type": "scatterpolargl"
                      }
                    ],
                    "scatterternary": [
                      {
                        "marker": {
                          "colorbar": {
                            "outlinewidth": 0,
                            "ticks": ""
                          }
                        },
                        "type": "scatterternary"
                      }
                    ],
                    "surface": [
                      {
                        "colorbar": {
                          "outlinewidth": 0,
                          "ticks": ""
                        },
                        "colorscale": [
                          [
                            0,
                            "#0d0887"
                          ],
                          [
                            0.1111111111111111,
                            "#46039f"
                          ],
                          [
                            0.2222222222222222,
                            "#7201a8"
                          ],
                          [
                            0.3333333333333333,
                            "#9c179e"
                          ],
                          [
                            0.4444444444444444,
                            "#bd3786"
                          ],
                          [
                            0.5555555555555556,
                            "#d8576b"
                          ],
                          [
                            0.6666666666666666,
                            "#ed7953"
                          ],
                          [
                            0.7777777777777778,
                            "#fb9f3a"
                          ],
                          [
                            0.8888888888888888,
                            "#fdca26"
                          ],
                          [
                            1,
                            "#f0f921"
                          ]
                        ],
                        "type": "surface"
                      }
                    ],
                    "table": [
                      {
                        "cells": {
                          "fill": {
                            "color": "#EBF0F8"
                          },
                          "line": {
                            "color": "white"
                          }
                        },
                        "header": {
                          "fill": {
                            "color": "#C8D4E3"
                          },
                          "line": {
                            "color": "white"
                          }
                        },
                        "type": "table"
                      }
                    ]
                  },
                  "layout": {
                    "annotationdefaults": {
                      "arrowcolor": "#2a3f5f",
                      "arrowhead": 0,
                      "arrowwidth": 1
                    },
                    "autotypenumbers": "strict",
                    "coloraxis": {
                      "colorbar": {
                        "outlinewidth": 0,
                        "ticks": ""
                      }
                    },
                    "colorscale": {
                      "diverging": [
                        [
                          0,
                          "#8e0152"
                        ],
                        [
                          0.1,
                          "#c51b7d"
                        ],
                        [
                          0.2,
                          "#de77ae"
                        ],
                        [
                          0.3,
                          "#f1b6da"
                        ],
                        [
                          0.4,
                          "#fde0ef"
                        ],
                        [
                          0.5,
                          "#f7f7f7"
                        ],
                        [
                          0.6,
                          "#e6f5d0"
                        ],
                        [
                          0.7,
                          "#b8e186"
                        ],
                        [
                          0.8,
                          "#7fbc41"
                        ],
                        [
                          0.9,
                          "#4d9221"
                        ],
                        [
                          1,
                          "#276419"
                        ]
                      ],
                      "sequential": [
                        [
                          0,
                          "#0d0887"
                        ],
                        [
                          0.1111111111111111,
                          "#46039f"
                        ],
                        [
                          0.2222222222222222,
                          "#7201a8"
                        ],
                        [
                          0.3333333333333333,
                          "#9c179e"
                        ],
                        [
                          0.4444444444444444,
                          "#bd3786"
                        ],
                        [
                          0.5555555555555556,
                          "#d8576b"
                        ],
                        [
                          0.6666666666666666,
                          "#ed7953"
                        ],
                        [
                          0.7777777777777778,
                          "#fb9f3a"
                        ],
                        [
                          0.8888888888888888,
                          "#fdca26"
                        ],
                        [
                          1,
                          "#f0f921"
                        ]
                      ],
                      "sequentialminus": [
                        [
                          0,
                          "#0d0887"
                        ],
                        [
                          0.1111111111111111,
                          "#46039f"
                        ],
                        [
                          0.2222222222222222,
                          "#7201a8"
                        ],
                        [
                          0.3333333333333333,
                          "#9c179e"
                        ],
                        [
                          0.4444444444444444,
                          "#bd3786"
                        ],
                        [
                          0.5555555555555556,
                          "#d8576b"
                        ],
                        [
                          0.6666666666666666,
                          "#ed7953"
                        ],
                        [
                          0.7777777777777778,
                          "#fb9f3a"
                        ],
                        [
                          0.8888888888888888,
                          "#fdca26"
                        ],
                        [
                          1,
                          "#f0f921"
                        ]
                      ]
                    },
                    "colorway": [
                      "#636efa",
                      "#EF553B",
                      "#00cc96",
                      "#ab63fa",
                      "#FFA15A",
                      "#19d3f3",
                      "#FF6692",
                      "#B6E880",
                      "#FF97FF",
                      "#FECB52"
                    ],
                    "font": {
                      "color": "#2a3f5f"
                    },
                    "geo": {
                      "bgcolor": "white",
                      "lakecolor": "white",
                      "landcolor": "#E5ECF6",
                      "showlakes": true,
                      "showland": true,
                      "subunitcolor": "white"
                    },
                    "hoverlabel": {
                      "align": "left"
                    },
                    "hovermode": "closest",
                    "mapbox": {
                      "style": "light"
                    },
                    "paper_bgcolor": "white",
                    "plot_bgcolor": "#E5ECF6",
                    "polar": {
                      "angularaxis": {
                        "gridcolor": "white",
                        "linecolor": "white",
                        "ticks": ""
                      },
                      "bgcolor": "#E5ECF6",
                      "radialaxis": {
                        "gridcolor": "white",
                        "linecolor": "white",
                        "ticks": ""
                      }
                    },
                    "scene": {
                      "xaxis": {
                        "backgroundcolor": "#E5ECF6",
                        "gridcolor": "white",
                        "gridwidth": 2,
                        "linecolor": "white",
                        "showbackground": true,
                        "ticks": "",
                        "zerolinecolor": "white"
                      },
                      "yaxis": {
                        "backgroundcolor": "#E5ECF6",
                        "gridcolor": "white",
                        "gridwidth": 2,
                        "linecolor": "white",
                        "showbackground": true,
                        "ticks": "",
                        "zerolinecolor": "white"
                      },
                      "zaxis": {
                        "backgroundcolor": "#E5ECF6",
                        "gridcolor": "white",
                        "gridwidth": 2,
                        "linecolor": "white",
                        "showbackground": true,
                        "ticks": "",
                        "zerolinecolor": "white"
                      }
                    },
                    "shapedefaults": {
                      "line": {
                        "color": "#2a3f5f"
                      }
                    },
                    "ternary": {
                      "aaxis": {
                        "gridcolor": "white",
                        "linecolor": "white",
                        "ticks": ""
                      },
                      "baxis": {
                        "gridcolor": "white",
                        "linecolor": "white",
                        "ticks": ""
                      },
                      "bgcolor": "#E5ECF6",
                      "caxis": {
                        "gridcolor": "white",
                        "linecolor": "white",
                        "ticks": ""
                      }
                    },
                    "title": {
                      "x": 0.05
                    },
                    "xaxis": {
                      "automargin": true,
                      "gridcolor": "white",
                      "linecolor": "white",
                      "ticks": "",
                      "title": {
                        "standoff": 15
                      },
                      "zerolinecolor": "white",
                      "zerolinewidth": 2
                    },
                    "yaxis": {
                      "automargin": true,
                      "gridcolor": "white",
                      "linecolor": "white",
                      "ticks": "",
                      "title": {
                        "standoff": 15
                      },
                      "zerolinecolor": "white",
                      "zerolinewidth": 2
                    }
                  }
                },
                "title": {
                  "text": "Logit Contributions on Clean Dataset"
                },
                "width": 1500,
                "xaxis": {
                  "anchor": "y",
                  "constrain": "domain",
                  "domain": [
                    0,
                    0.31999999999999995
                  ],
                  "linecolor": "black",
                  "linewidth": 1,
                  "mirror": true,
                  "scaleanchor": "y",
                  "showline": true,
                  "title": {
                    "text": "Head"
                  }
                },
                "xaxis2": {
                  "anchor": "y2",
                  "domain": [
                    0.33999999999999997,
                    0.6599999999999999
                  ],
                  "linecolor": "black",
                  "linewidth": 1,
                  "matches": "x",
                  "mirror": true,
                  "showline": true,
                  "title": {
                    "text": "Head"
                  }
                },
                "xaxis3": {
                  "anchor": "y3",
                  "domain": [
                    0.6799999999999999,
                    0.9999999999999999
                  ],
                  "linecolor": "black",
                  "linewidth": 1,
                  "matches": "x",
                  "mirror": true,
                  "showline": true,
                  "title": {
                    "text": "Head"
                  }
                },
                "yaxis": {
                  "anchor": "x",
                  "autorange": "reversed",
                  "constrain": "domain",
                  "domain": [
                    0,
                    1
                  ],
                  "linecolor": "black",
                  "linewidth": 1,
                  "mirror": true,
                  "showline": true,
                  "title": {
                    "text": "Layer"
                  }
                },
                "yaxis2": {
                  "anchor": "x2",
                  "domain": [
                    0,
                    1
                  ],
                  "linecolor": "black",
                  "linewidth": 1,
                  "matches": "y",
                  "mirror": true,
                  "showline": true,
                  "showticklabels": false
                },
                "yaxis3": {
                  "anchor": "x3",
                  "domain": [
                    0,
                    1
                  ],
                  "linecolor": "black",
                  "linewidth": 1,
                  "matches": "y",
                  "mirror": true,
                  "showline": true,
                  "showticklabels": false
                }
              }
            },
            "text/html": [
              "<div>                            <div id=\"13643a22-f386-4822-89d2-ab0e3ee8138e\" class=\"plotly-graph-div\" style=\"height:525px; width:1500px;\"></div>            <script type=\"text/javascript\">                require([\"plotly\"], function(Plotly) {                    window.PLOTLYENV=window.PLOTLYENV || {};                                    if (document.getElementById(\"13643a22-f386-4822-89d2-ab0e3ee8138e\")) {                    Plotly.newPlot(                        \"13643a22-f386-4822-89d2-ab0e3ee8138e\",                        [{\"coloraxis\":\"coloraxis\",\"name\":\"0\",\"z\":[[0.006689068861305714,-0.005708486307412386,0.004216901957988739,0.002131918678060174,-0.003177909879013896,0.0010745653416961432,0.006828648038208485,0.005330133251845837,0.0033687097020447254,0.00791920255869627,-0.0038376005832105875,0.0064351619221270084],[-0.0007053743465803564,0.0016083234222605824,-0.00297373766079545,-0.008504227735102177,0.001757912221364677,-0.0014776065945625305,0.022480247542262077,0.034706443548202515,-0.007345568388700485,-0.0069162980653345585,0.0046387361362576485,-0.0073121897876262665],[0.0048042829148471355,0.01641199365258217,0.0006849172059446573,-0.0023382927756756544,-0.002046606270596385,0.006497721653431654,-0.0058753290213644505,-0.0017213139217346907,0.0029384433291852474,-0.005082700401544571,0.01083004754036665,-0.01011902280151844],[0.0010751975933089852,0.002102408790960908,-0.002172130858525634,0.0014482340775430202,-0.005772984120994806,0.010021355003118515,-0.0023309194948524237,-0.0063554104417562485,0.0014695494901388884,0.0010126916458830237,-0.0007028969121165574,-0.0007967847632244229],[-0.0009314221097156405,0.0014638662105426192,0.004649514798074961,0.0007254318334162235,-0.005821676459163427,0.0012656513135880232,0.0021534007973968983,-0.004078171215951443,0.0038353304844349623,0.003570251865312457,-0.0012820992851629853,0.000334471114911139],[0.017729923129081726,0.009890107437968254,0.005426811520010233,0.004332707729190588,-0.0007383244810625911,0.02500174380838871,0.0039404937997460365,-0.0017702131299301982,-0.001141948625445366,-0.006420422345399857,0.010937580838799477,-0.011314201168715954],[0.005990548525005579,0.004683101549744606,-0.01179766096174717,0.017168715596199036,0.031025584787130356,-0.011231422424316406,-0.023296242579817772,0.01497743371874094,-0.0020879702642560005,0.03083350509405136,0.01705995947122574,-0.0001319988223258406],[0.0005734012229368091,0.09863682091236115,0.02825632318854332,-0.003647539997473359,0.004836836829781532,0.01312696747481823,-0.001818668213672936,0.09039681404829025,0.0033971769735217094,-0.010025465860962868,0.041801244020462036,0.012907631695270538],[-0.00828181765973568,0.01757696084678173,0.025745496153831482,0.01273167785257101,0.0012678919592872262,0.010671722702682018,0.03743381053209305,0.010856406763195992,0.026219042018055916,-0.007143792230635881,-0.05856737494468689,0.014962531626224518],[0.048494625836610794,0.027614891529083252,0.05455514043569565,0.021534593775868416,0.00821410957723856,-0.03295073285698891,0.09270601719617844,-0.0026827233377844095,0.04357866197824478,0.06806829571723938,0.0054245577193796635,0.051034171134233475],[0.18046699464321136,0.11119004338979721,0.09908179938793182,0.041448432952165604,0.05988243222236633,0.006388730835169554,0.09588123857975006,-0.003887740196660161,0.015783710405230522,0.00810055062174797,0.09892086684703827,0.10907315462827682],[0.00356086902320385,0.07738107442855835,0.23916606605052948,0.2624034583568573,0.012864109128713608,0.09654580801725388,0.15965574979782104,0.0306047685444355,0.0463009849190712,0.19702447950839996,0.029655102640390396,0.11854177713394165]],\"type\":\"heatmap\",\"xaxis\":\"x\",\"yaxis\":\"y\",\"hovertemplate\":\"Head: %{x}\\u003cbr\\u003eLayer: %{y}\\u003cbr\\u003eLogit Contribution: %{z}\\u003cextra\\u003e\\u003c\\u002fextra\\u003e\"},{\"coloraxis\":\"coloraxis\",\"name\":\"1\",\"z\":[[0.00796001497656107,-0.00454632518813014,0.004143977537751198,0.003127420088276267,-0.003748712595552206,0.005006816238164902,0.010414146818220615,0.0066910660825669765,0.00632141437381506,0.003736822633072734,0.00289022084325552,-0.0037999481428414583],[0.00027172843692824244,-0.0015350945759564638,-0.0018990798853337765,-0.004359386395663023,0.003520544618368149,0.0002876927610486746,0.021657176315784454,0.034331053495407104,-0.011801984161138535,-0.00684491777792573,0.0014878209913149476,-0.009852548129856586],[0.0027287513948976994,0.017200438305735588,-0.00019289112242404372,-0.003516694065183401,-0.0004601558903232217,0.0027038429398089647,-0.0062325322069227695,-0.00017990631749853492,0.0021713098976761103,-0.0017276298021897674,0.0045938799157738686,-0.006243968848139048],[0.003254400100558996,-0.0006179847405292094,-0.0006776569643989205,0.0005994683597236872,8.886532305041328e-05,0.011848332360386848,6.559793109772727e-05,-0.0036316353362053633,-0.0001238787517650053,0.0018248989945277572,-0.0008007974829524755,-7.628274033777416e-05],[-2.589615723991301e-05,0.00026580842677503824,0.005016032140702009,0.0014635507250204682,-0.0022082712966948748,0.001266423612833023,-0.0036373871844261885,0.00024578775628469884,0.006180538795888424,0.002615894190967083,-0.0002281439519720152,-0.0005167811759747565],[0.016179807484149933,-0.0007387559744529426,0.0023494400084018707,0.005398715380579233,0.0020110649056732655,0.018948478624224663,0.0025272618513554335,-0.00025556079344823956,-0.0013052276335656643,-0.019904090091586113,0.011485988274216652,-0.013585940934717655],[0.0033891787752509117,0.0040112934075295925,-0.012888027355074883,0.012022720649838448,0.032383959740400314,-0.004867431707680225,-0.021163959056138992,0.013841081410646439,-0.00247709802351892,0.017847534269094467,0.019875233992934227,0.0011558199767023325],[0.0006047497154213488,0.10285234451293945,0.024267742410302162,-0.009407549165189266,0.003421586472541094,0.012885386124253273,-0.011265289038419724,0.0928967222571373,0.002611212432384491,-0.005294742528349161,0.018977222964167595,0.012060332112014294],[-0.0067180851474404335,0.013346036896109581,0.02647196128964424,0.014352277852594852,0.0003414630191400647,0.011304290033876896,0.038664449006319046,0.00715382257476449,0.026292793452739716,-0.005911385174840689,-0.056052520871162415,0.014879461377859116],[0.04800722748041153,0.026149658486247063,0.05476459488272667,0.023384597152471542,0.01061074249446392,-0.033637870103120804,0.07974816113710403,-0.006934806238859892,0.0485491082072258,0.04860936850309372,0.007552986033260822,0.05257190763950348],[0.1790562868118286,0.1012168824672699,0.09855492413043976,0.037910863757133484,0.06780744343996048,0.015469329431653023,0.09601452201604843,0.007490541320294142,0.015315625816583633,0.00837618112564087,0.1059776023030281,0.10927334427833557],[-0.0012809470063075423,0.08926283568143845,0.24339057505130768,0.2784007489681244,0.00566429179161787,0.08276259899139404,0.16348499059677124,0.038577623665332794,0.053537677973508835,0.21118569374084473,0.03651190549135208,0.11980181187391281]],\"type\":\"heatmap\",\"xaxis\":\"x2\",\"yaxis\":\"y2\",\"hovertemplate\":\"Head: %{x}\\u003cbr\\u003eLayer: %{y}\\u003cbr\\u003eLogit Contribution: %{z}\\u003cextra\\u003e\\u003c\\u002fextra\\u003e\"},{\"coloraxis\":\"coloraxis\",\"name\":\"2\",\"z\":[[0.001270944601856172,0.001162165543064475,-7.292051304830238e-05,0.0009955031564459205,-0.0005708003882318735,0.003932252060621977,0.0035854962188750505,0.00136093283072114,0.0029527097940444946,-0.004182364325970411,0.006727827247232199,-0.010235108435153961],[0.0009771034820005298,-0.00314341951161623,0.0010746537009254098,0.004144843202084303,0.0017626321641728282,0.0017653012182563543,-0.0008230748353525996,-0.00037538175820373,-0.004456414375454187,7.137750799302012e-05,-0.0031509085092693567,-0.002540353685617447],[-0.00207553175278008,0.0007884405204094946,-0.0008778039482422173,-0.0011784002417698503,0.0015864493325352669,-0.003793879644945264,-0.0003572014975361526,0.0015414069639518857,-0.0007671331404708326,0.0033550721127539873,-0.006236177869141102,0.0038750499952584505],[0.0021792089100927114,-0.0027203934732824564,0.0014944750582799315,-0.0008487620507366955,0.005861849058419466,0.0018269765423610806,0.0023965216241776943,0.0027237781323492527,-0.001593426801264286,0.000812206999398768,-9.790161129785702e-05,0.0007205029251053929],[0.0009055265691131353,-0.0011980565031990409,0.0003665179538074881,0.0007381214527413249,0.0036134039983153343,7.714463094998791e-07,-0.005790783558040857,0.00432395888492465,0.002345204120501876,-0.0009543572668917477,0.001053954241797328,-0.0008512504282407463],[-0.0015501088928431273,-0.010628871619701385,-0.0030773726757615805,0.0010660127736628056,0.002749387640506029,-0.006053258199244738,-0.0014132297364994884,0.0015146523946896195,-0.0001632787025300786,-0.013483664020895958,0.0005484074936248362,-0.0022717369720339775],[-0.002601372078061104,-0.000671806454192847,-0.0010903679067268968,-0.005145995412021875,0.0013583725085482001,0.006363988388329744,0.0021322814282029867,-0.001136351260356605,-0.0003891222004313022,-0.01298596803098917,0.0028152784798294306,0.0012878206325694919],[3.1345291063189507e-05,0.004215496126562357,-0.003988569602370262,-0.0057600149884819984,-0.001415252685546875,-0.00024158104497473687,-0.009446614421904087,0.002499903552234173,-0.0007859652396291494,0.004730724263936281,-0.022824034094810486,-0.0008472975459881127],[0.0015637328615412116,-0.004230923019349575,0.000726472819224,0.0016206037253141403,-0.0009264295804314315,0.0006325634312815964,0.0012306452263146639,-0.0037025862839072943,7.3745206464082e-05,0.0012323992559686303,0.0025148591957986355,-8.307050302391872e-05],[-0.0004873959405813366,-0.0014652340905740857,0.00020946022414136678,0.0018500009318813682,0.0023966324515640736,-0.0006871356163173914,-0.012957870960235596,-0.00425208592787385,0.004970445763319731,-0.019458936527371407,0.002128428779542446,0.0015377391828224063],[-0.0014107073657214642,-0.00997317023575306,-0.0005268757231533527,-0.00353755964897573,0.007925013080239296,0.00908060185611248,0.00013326451880857348,0.011378259398043156,-0.0004680812417063862,0.00027562922332435846,0.007056734059005976,0.0002001714165089652],[-0.004841830115765333,0.011881758458912373,0.004224529955536127,0.01599726267158985,-0.007199817802757025,-0.01378319039940834,0.003829233581200242,0.00797285046428442,0.007236692123115063,0.014161202125251293,0.006856800522655249,0.0012600513873621821]],\"type\":\"heatmap\",\"xaxis\":\"x3\",\"yaxis\":\"y3\",\"hovertemplate\":\"Head: %{x}\\u003cbr\\u003eLayer: %{y}\\u003cbr\\u003eLogit Contribution: %{z}\\u003cextra\\u003e\\u003c\\u002fextra\\u003e\"}],                        {\"template\":{\"data\":{\"histogram2dcontour\":[{\"type\":\"histogram2dcontour\",\"colorbar\":{\"outlinewidth\":0,\"ticks\":\"\"},\"colorscale\":[[0.0,\"#0d0887\"],[0.1111111111111111,\"#46039f\"],[0.2222222222222222,\"#7201a8\"],[0.3333333333333333,\"#9c179e\"],[0.4444444444444444,\"#bd3786\"],[0.5555555555555556,\"#d8576b\"],[0.6666666666666666,\"#ed7953\"],[0.7777777777777778,\"#fb9f3a\"],[0.8888888888888888,\"#fdca26\"],[1.0,\"#f0f921\"]]}],\"choropleth\":[{\"type\":\"choropleth\",\"colorbar\":{\"outlinewidth\":0,\"ticks\":\"\"}}],\"histogram2d\":[{\"type\":\"histogram2d\",\"colorbar\":{\"outlinewidth\":0,\"ticks\":\"\"},\"colorscale\":[[0.0,\"#0d0887\"],[0.1111111111111111,\"#46039f\"],[0.2222222222222222,\"#7201a8\"],[0.3333333333333333,\"#9c179e\"],[0.4444444444444444,\"#bd3786\"],[0.5555555555555556,\"#d8576b\"],[0.6666666666666666,\"#ed7953\"],[0.7777777777777778,\"#fb9f3a\"],[0.8888888888888888,\"#fdca26\"],[1.0,\"#f0f921\"]]}],\"heatmap\":[{\"type\":\"heatmap\",\"colorbar\":{\"outlinewidth\":0,\"ticks\":\"\"},\"colorscale\":[[0.0,\"#0d0887\"],[0.1111111111111111,\"#46039f\"],[0.2222222222222222,\"#7201a8\"],[0.3333333333333333,\"#9c179e\"],[0.4444444444444444,\"#bd3786\"],[0.5555555555555556,\"#d8576b\"],[0.6666666666666666,\"#ed7953\"],[0.7777777777777778,\"#fb9f3a\"],[0.8888888888888888,\"#fdca26\"],[1.0,\"#f0f921\"]]}],\"heatmapgl\":[{\"type\":\"heatmapgl\",\"colorbar\":{\"outlinewidth\":0,\"ticks\":\"\"},\"colorscale\":[[0.0,\"#0d0887\"],[0.1111111111111111,\"#46039f\"],[0.2222222222222222,\"#7201a8\"],[0.3333333333333333,\"#9c179e\"],[0.4444444444444444,\"#bd3786\"],[0.5555555555555556,\"#d8576b\"],[0.6666666666666666,\"#ed7953\"],[0.7777777777777778,\"#fb9f3a\"],[0.8888888888888888,\"#fdca26\"],[1.0,\"#f0f921\"]]}],\"contourcarpet\":[{\"type\":\"contourcarpet\",\"colorbar\":{\"outlinewidth\":0,\"ticks\":\"\"}}],\"contour\":[{\"type\":\"contour\",\"colorbar\":{\"outlinewidth\":0,\"ticks\":\"\"},\"colorscale\":[[0.0,\"#0d0887\"],[0.1111111111111111,\"#46039f\"],[0.2222222222222222,\"#7201a8\"],[0.3333333333333333,\"#9c179e\"],[0.4444444444444444,\"#bd3786\"],[0.5555555555555556,\"#d8576b\"],[0.6666666666666666,\"#ed7953\"],[0.7777777777777778,\"#fb9f3a\"],[0.8888888888888888,\"#fdca26\"],[1.0,\"#f0f921\"]]}],\"surface\":[{\"type\":\"surface\",\"colorbar\":{\"outlinewidth\":0,\"ticks\":\"\"},\"colorscale\":[[0.0,\"#0d0887\"],[0.1111111111111111,\"#46039f\"],[0.2222222222222222,\"#7201a8\"],[0.3333333333333333,\"#9c179e\"],[0.4444444444444444,\"#bd3786\"],[0.5555555555555556,\"#d8576b\"],[0.6666666666666666,\"#ed7953\"],[0.7777777777777778,\"#fb9f3a\"],[0.8888888888888888,\"#fdca26\"],[1.0,\"#f0f921\"]]}],\"mesh3d\":[{\"type\":\"mesh3d\",\"colorbar\":{\"outlinewidth\":0,\"ticks\":\"\"}}],\"scatter\":[{\"fillpattern\":{\"fillmode\":\"overlay\",\"size\":10,\"solidity\":0.2},\"type\":\"scatter\"}],\"parcoords\":[{\"type\":\"parcoords\",\"line\":{\"colorbar\":{\"outlinewidth\":0,\"ticks\":\"\"}}}],\"scatterpolargl\":[{\"type\":\"scatterpolargl\",\"marker\":{\"colorbar\":{\"outlinewidth\":0,\"ticks\":\"\"}}}],\"bar\":[{\"error_x\":{\"color\":\"#2a3f5f\"},\"error_y\":{\"color\":\"#2a3f5f\"},\"marker\":{\"line\":{\"color\":\"#E5ECF6\",\"width\":0.5},\"pattern\":{\"fillmode\":\"overlay\",\"size\":10,\"solidity\":0.2}},\"type\":\"bar\"}],\"scattergeo\":[{\"type\":\"scattergeo\",\"marker\":{\"colorbar\":{\"outlinewidth\":0,\"ticks\":\"\"}}}],\"scatterpolar\":[{\"type\":\"scatterpolar\",\"marker\":{\"colorbar\":{\"outlinewidth\":0,\"ticks\":\"\"}}}],\"histogram\":[{\"marker\":{\"pattern\":{\"fillmode\":\"overlay\",\"size\":10,\"solidity\":0.2}},\"type\":\"histogram\"}],\"scattergl\":[{\"type\":\"scattergl\",\"marker\":{\"colorbar\":{\"outlinewidth\":0,\"ticks\":\"\"}}}],\"scatter3d\":[{\"type\":\"scatter3d\",\"line\":{\"colorbar\":{\"outlinewidth\":0,\"ticks\":\"\"}},\"marker\":{\"colorbar\":{\"outlinewidth\":0,\"ticks\":\"\"}}}],\"scattermapbox\":[{\"type\":\"scattermapbox\",\"marker\":{\"colorbar\":{\"outlinewidth\":0,\"ticks\":\"\"}}}],\"scatterternary\":[{\"type\":\"scatterternary\",\"marker\":{\"colorbar\":{\"outlinewidth\":0,\"ticks\":\"\"}}}],\"scattercarpet\":[{\"type\":\"scattercarpet\",\"marker\":{\"colorbar\":{\"outlinewidth\":0,\"ticks\":\"\"}}}],\"carpet\":[{\"aaxis\":{\"endlinecolor\":\"#2a3f5f\",\"gridcolor\":\"white\",\"linecolor\":\"white\",\"minorgridcolor\":\"white\",\"startlinecolor\":\"#2a3f5f\"},\"baxis\":{\"endlinecolor\":\"#2a3f5f\",\"gridcolor\":\"white\",\"linecolor\":\"white\",\"minorgridcolor\":\"white\",\"startlinecolor\":\"#2a3f5f\"},\"type\":\"carpet\"}],\"table\":[{\"cells\":{\"fill\":{\"color\":\"#EBF0F8\"},\"line\":{\"color\":\"white\"}},\"header\":{\"fill\":{\"color\":\"#C8D4E3\"},\"line\":{\"color\":\"white\"}},\"type\":\"table\"}],\"barpolar\":[{\"marker\":{\"line\":{\"color\":\"#E5ECF6\",\"width\":0.5},\"pattern\":{\"fillmode\":\"overlay\",\"size\":10,\"solidity\":0.2}},\"type\":\"barpolar\"}],\"pie\":[{\"automargin\":true,\"type\":\"pie\"}]},\"layout\":{\"autotypenumbers\":\"strict\",\"colorway\":[\"#636efa\",\"#EF553B\",\"#00cc96\",\"#ab63fa\",\"#FFA15A\",\"#19d3f3\",\"#FF6692\",\"#B6E880\",\"#FF97FF\",\"#FECB52\"],\"font\":{\"color\":\"#2a3f5f\"},\"hovermode\":\"closest\",\"hoverlabel\":{\"align\":\"left\"},\"paper_bgcolor\":\"white\",\"plot_bgcolor\":\"#E5ECF6\",\"polar\":{\"bgcolor\":\"#E5ECF6\",\"angularaxis\":{\"gridcolor\":\"white\",\"linecolor\":\"white\",\"ticks\":\"\"},\"radialaxis\":{\"gridcolor\":\"white\",\"linecolor\":\"white\",\"ticks\":\"\"}},\"ternary\":{\"bgcolor\":\"#E5ECF6\",\"aaxis\":{\"gridcolor\":\"white\",\"linecolor\":\"white\",\"ticks\":\"\"},\"baxis\":{\"gridcolor\":\"white\",\"linecolor\":\"white\",\"ticks\":\"\"},\"caxis\":{\"gridcolor\":\"white\",\"linecolor\":\"white\",\"ticks\":\"\"}},\"coloraxis\":{\"colorbar\":{\"outlinewidth\":0,\"ticks\":\"\"}},\"colorscale\":{\"sequential\":[[0.0,\"#0d0887\"],[0.1111111111111111,\"#46039f\"],[0.2222222222222222,\"#7201a8\"],[0.3333333333333333,\"#9c179e\"],[0.4444444444444444,\"#bd3786\"],[0.5555555555555556,\"#d8576b\"],[0.6666666666666666,\"#ed7953\"],[0.7777777777777778,\"#fb9f3a\"],[0.8888888888888888,\"#fdca26\"],[1.0,\"#f0f921\"]],\"sequentialminus\":[[0.0,\"#0d0887\"],[0.1111111111111111,\"#46039f\"],[0.2222222222222222,\"#7201a8\"],[0.3333333333333333,\"#9c179e\"],[0.4444444444444444,\"#bd3786\"],[0.5555555555555556,\"#d8576b\"],[0.6666666666666666,\"#ed7953\"],[0.7777777777777778,\"#fb9f3a\"],[0.8888888888888888,\"#fdca26\"],[1.0,\"#f0f921\"]],\"diverging\":[[0,\"#8e0152\"],[0.1,\"#c51b7d\"],[0.2,\"#de77ae\"],[0.3,\"#f1b6da\"],[0.4,\"#fde0ef\"],[0.5,\"#f7f7f7\"],[0.6,\"#e6f5d0\"],[0.7,\"#b8e186\"],[0.8,\"#7fbc41\"],[0.9,\"#4d9221\"],[1,\"#276419\"]]},\"xaxis\":{\"gridcolor\":\"white\",\"linecolor\":\"white\",\"ticks\":\"\",\"title\":{\"standoff\":15},\"zerolinecolor\":\"white\",\"automargin\":true,\"zerolinewidth\":2},\"yaxis\":{\"gridcolor\":\"white\",\"linecolor\":\"white\",\"ticks\":\"\",\"title\":{\"standoff\":15},\"zerolinecolor\":\"white\",\"automargin\":true,\"zerolinewidth\":2},\"scene\":{\"xaxis\":{\"backgroundcolor\":\"#E5ECF6\",\"gridcolor\":\"white\",\"linecolor\":\"white\",\"showbackground\":true,\"ticks\":\"\",\"zerolinecolor\":\"white\",\"gridwidth\":2},\"yaxis\":{\"backgroundcolor\":\"#E5ECF6\",\"gridcolor\":\"white\",\"linecolor\":\"white\",\"showbackground\":true,\"ticks\":\"\",\"zerolinecolor\":\"white\",\"gridwidth\":2},\"zaxis\":{\"backgroundcolor\":\"#E5ECF6\",\"gridcolor\":\"white\",\"linecolor\":\"white\",\"showbackground\":true,\"ticks\":\"\",\"zerolinecolor\":\"white\",\"gridwidth\":2}},\"shapedefaults\":{\"line\":{\"color\":\"#2a3f5f\"}},\"annotationdefaults\":{\"arrowcolor\":\"#2a3f5f\",\"arrowhead\":0,\"arrowwidth\":1},\"geo\":{\"bgcolor\":\"white\",\"landcolor\":\"#E5ECF6\",\"subunitcolor\":\"white\",\"showland\":true,\"showlakes\":true,\"lakecolor\":\"white\"},\"title\":{\"x\":0.05},\"mapbox\":{\"style\":\"light\"}}},\"xaxis\":{\"anchor\":\"y\",\"domain\":[0.0,0.31999999999999995],\"scaleanchor\":\"y\",\"constrain\":\"domain\",\"title\":{\"text\":\"Head\"},\"showline\":true,\"linewidth\":1,\"linecolor\":\"black\",\"mirror\":true},\"yaxis\":{\"anchor\":\"x\",\"domain\":[0.0,1.0],\"autorange\":\"reversed\",\"constrain\":\"domain\",\"title\":{\"text\":\"Layer\"},\"showline\":true,\"linewidth\":1,\"linecolor\":\"black\",\"mirror\":true},\"xaxis2\":{\"anchor\":\"y2\",\"domain\":[0.33999999999999997,0.6599999999999999],\"matches\":\"x\",\"title\":{\"text\":\"Head\"},\"showline\":true,\"linewidth\":1,\"linecolor\":\"black\",\"mirror\":true},\"yaxis2\":{\"anchor\":\"x2\",\"domain\":[0.0,1.0],\"matches\":\"y\",\"showticklabels\":false,\"showline\":true,\"linewidth\":1,\"linecolor\":\"black\",\"mirror\":true},\"xaxis3\":{\"anchor\":\"y3\",\"domain\":[0.6799999999999999,0.9999999999999999],\"matches\":\"x\",\"title\":{\"text\":\"Head\"},\"showline\":true,\"linewidth\":1,\"linecolor\":\"black\",\"mirror\":true},\"yaxis3\":{\"anchor\":\"x3\",\"domain\":[0.0,1.0],\"matches\":\"y\",\"showticklabels\":false,\"showline\":true,\"linewidth\":1,\"linecolor\":\"black\",\"mirror\":true},\"annotations\":[{\"font\":{},\"showarrow\":false,\"text\":\"Logit Diff - 3.27\",\"x\":0.15999999999999998,\"xanchor\":\"center\",\"xref\":\"paper\",\"y\":1.0,\"yanchor\":\"bottom\",\"yref\":\"paper\"},{\"font\":{},\"showarrow\":false,\"text\":\"Correct Direction\",\"x\":0.49999999999999994,\"xanchor\":\"center\",\"xref\":\"paper\",\"y\":1.0,\"yanchor\":\"bottom\",\"yref\":\"paper\"},{\"font\":{},\"showarrow\":false,\"text\":\"Incorrect Direction\",\"x\":0.8399999999999999,\"xanchor\":\"center\",\"xref\":\"paper\",\"y\":1.0,\"yanchor\":\"bottom\",\"yref\":\"paper\"}],\"coloraxis\":{\"colorbar\":{\"title\":{\"text\":\"Logit Contribution\"}},\"colorscale\":[[0.0,\"rgb(103,0,31)\"],[0.1,\"rgb(178,24,43)\"],[0.2,\"rgb(214,96,77)\"],[0.3,\"rgb(244,165,130)\"],[0.4,\"rgb(253,219,199)\"],[0.5,\"rgb(247,247,247)\"],[0.6,\"rgb(209,229,240)\"],[0.7,\"rgb(146,197,222)\"],[0.8,\"rgb(67,147,195)\"],[0.9,\"rgb(33,102,172)\"],[1.0,\"rgb(5,48,97)\"]],\"cmid\":0.0},\"title\":{\"text\":\"Logit Contributions on Clean Dataset\"},\"width\":1500,\"margin\":{\"r\":100,\"l\":100}},                        {\"responsive\": true}                    ).then(function(){\n",
              "                            \n",
              "var gd = document.getElementById('13643a22-f386-4822-89d2-ab0e3ee8138e');\n",
              "var x = new MutationObserver(function (mutations, observer) {{\n",
              "        var display = window.getComputedStyle(gd).display;\n",
              "        if (!display || display === 'none') {{\n",
              "            console.log([gd, 'removed!']);\n",
              "            Plotly.purge(gd);\n",
              "            observer.disconnect();\n",
              "        }}\n",
              "}});\n",
              "\n",
              "// Listen for the removal of the full notebook cells\n",
              "var notebookContainer = gd.closest('#notebook-container');\n",
              "if (notebookContainer) {{\n",
              "    x.observe(notebookContainer, {childList: true});\n",
              "}}\n",
              "\n",
              "// Listen for the clearing of the current output cell\n",
              "var outputEl = gd.closest('.output');\n",
              "if (outputEl) {{\n",
              "    x.observe(outputEl, {childList: true});\n",
              "}}\n",
              "\n",
              "                        })                };                });            </script>        </div>"
            ]
          },
          "metadata": {},
          "output_type": "display_data"
        }
      ],
      "source": [
        "def display_all_logits(cache, title = \"Logit Contributions\", comparison = False, return_fig = False, logits = None):\n",
        "\n",
        "  a,b,c = calc_all_logit_diffs(cache)\n",
        "  if logits is not None:\n",
        "    ld = logits_to_ave_logit_diff(logits)\n",
        "  else:\n",
        "    ld = 0.00\n",
        "\n",
        "  if not comparison:\n",
        "    fig = imshow(\n",
        "        torch.stack([a,b,c]),\n",
        "        return_fig = True,\n",
        "        facet_col = 0,\n",
        "        facet_labels = [f\"Logit Diff - {ld:.2f}\", \"Correct Direction\", \"Incorrect Direction\"],\n",
        "        title=title,\n",
        "        labels={\"x\": \"Head\", \"y\": \"Layer\", \"color\": \"Logit Contribution\"},\n",
        "        #coloraxis=dict(colorbar_ticksuffix = \"%\"),\n",
        "        border=True,\n",
        "        width=1500,\n",
        "        margin={\"r\": 100, \"l\": 100}\n",
        "    )\n",
        "  else:\n",
        "\n",
        "    ca, cb, cc = calc_all_logit_diffs(clean_cache)\n",
        "    fig = imshow(\n",
        "        torch.stack([a, b, c, a - ca, b - cb, c - cc]),\n",
        "        return_fig = True,\n",
        "        facet_col = 0,\n",
        "        facet_labels = [f\"Logit Diff - {ld:.2f}\", \"Correct Direction\", \"Incorrect Direction\", \"Logit Diff Diff\", \"Correction Direction Diff\", \"Incorrect Direction Diff\"],\n",
        "        title=title,\n",
        "        labels={\"x\": \"Head\", \"y\": \"Layer\", \"color\": \"Logit Contribution\"},\n",
        "        #coloraxis=dict(colorbar_ticksuffix = \"%\"),\n",
        "        border=True,\n",
        "        width=1500,\n",
        "        margin={\"r\": 100, \"l\": 100}\n",
        "    )\n",
        "\n",
        "\n",
        "  if return_fig:\n",
        "    return fig\n",
        "\n",
        "\n",
        "\n",
        "fig = display_all_logits(clean_cache, title = \"Logit Contributions on Clean Dataset\", return_fig = True, logits = clean_logits)"
      ]
    },
    {
      "cell_type": "code",
      "execution_count": 436,
      "metadata": {},
      "outputs": [],
      "source": [
        "def stare_at_attention_and_head_pat(cache, layer_to_stare_at, head_to_isolate, display_corrupted_text = False, verbose = True, specific = False, specific_index = 0):\n",
        "  \"\"\"\n",
        "  given a cache from a run, displays the attention patterns of a layer, as well as printing out how much the model\n",
        "  attends to the S1, S2, and IO token\n",
        "  \"\"\"\n",
        "\n",
        "  tokenized_str_tokens = model.to_str_tokens(corrupted_tokens[0]) if display_corrupted_text else model.to_str_tokens(clean_tokens[0])\n",
        "  attention_patten = cache[\"pattern\", layer_to_stare_at]\n",
        "  print(f\"Layer {layer_to_stare_at} Head {head_to_isolate} Activation Patterns:\")\n",
        "\n",
        "\n",
        "#   if not specific:\n",
        "#     S1 = attention_patten.mean(0)[head_to_isolate][-1][2].item()\n",
        "#     IO = attention_patten.mean(0)[head_to_isolate][-1][4].item()\n",
        "#     S2 = attention_patten.mean(0)[head_to_isolate][-1][10].item()\n",
        "#   else:\n",
        "#     S1 = attention_patten[specific_index, head_to_isolate][-1][2].item()\n",
        "#     IO = attention_patten[specific_index, head_to_isolate][-1][4].item()\n",
        "#     S2 = attention_patten[specific_index, head_to_isolate][-1][10].item()\n",
        "\n",
        "\n",
        "#   print(\"Attention on S1: \" + str(S1))\n",
        "#   print(\"Attention on IO: \" + str(IO))\n",
        "#   print(\"Attention on S2: \" + str(S2))\n",
        "#   print(\"S1 + IO - S2 = \" + str(S1 + IO - S2))\n",
        "#   print(\"S1 + S2 - IO = \" + str(S1 + S2 - IO))\n",
        "#   print(\"S1 - IO - S2 = \" + str(S1 - S2 - IO))\n",
        "\n",
        "\n",
        "  if verbose:\n",
        "    display(cv.attention.attention_heads(\n",
        "      tokens=tokenized_str_tokens,\n",
        "      attention= attention_patten.mean(0) if not specific else attention_patten[specific_index],\n",
        "      #attention_head_names=[f\"L{layer_to_stare_at}H{i}\" for i in range(model.cfg.n_heads)],\n",
        "    ))\n",
        "  else:\n",
        "    print(attention_patten.mean(0).shape)\n",
        "\n",
        "    display(cv.attention.attention_patterns(\n",
        "      tokens=tokenized_str_tokens,\n",
        "      attention=attention_patten.mean(0)if not specific else attention_patten[specific_index],\n",
        "      attention_head_names=[f\"L{layer_to_stare_at} H{i}\" for i in range(model.cfg.n_heads)],\n",
        "    ))"
      ]
    },
    {
      "cell_type": "code",
      "execution_count": 437,
      "metadata": {},
      "outputs": [
        {
          "name": "stdout",
          "output_type": "stream",
          "text": [
            "Layer 11 Head 0 Activation Patterns:\n"
          ]
        },
        {
          "data": {
            "text/html": [
              "<div id=\"circuits-vis-c9dbc9d7-0bea\" style=\"margin: 15px 0;\"/>\n",
              "    <script crossorigin type=\"module\">\n",
              "    import { render, AttentionHeads } from \"https://unpkg.com/circuitsvis@1.40.0/dist/cdn/esm.js\";\n",
              "    render(\n",
              "      \"circuits-vis-c9dbc9d7-0bea\",\n",
              "      AttentionHeads,\n",
              "      {\"attention\": [[[1.0, 0.0, 0.0, 0.0, 0.0, 0.0, 0.0, 0.0, 0.0, 0.0, 0.0, 0.0, 0.0, 0.0, 0.0, 0.0, 0.0, 0.0, 0.0, 0.0], [0.655215322971344, 0.34478458762168884, 0.0, 0.0, 0.0, 0.0, 0.0, 0.0, 0.0, 0.0, 0.0, 0.0, 0.0, 0.0, 0.0, 0.0, 0.0, 0.0, 0.0, 0.0], [0.496802419424057, 0.2616870403289795, 0.2415105551481247, 0.0, 0.0, 0.0, 0.0, 0.0, 0.0, 0.0, 0.0, 0.0, 0.0, 0.0, 0.0, 0.0, 0.0, 0.0, 0.0, 0.0], [0.4326589107513428, 0.20946578681468964, 0.15789540112018585, 0.19997991621494293, 0.0, 0.0, 0.0, 0.0, 0.0, 0.0, 0.0, 0.0, 0.0, 0.0, 0.0, 0.0, 0.0, 0.0, 0.0, 0.0], [0.37055703997612, 0.18610765039920807, 0.13300126791000366, 0.13334468007087708, 0.17698940634727478, 0.0, 0.0, 0.0, 0.0, 0.0, 0.0, 0.0, 0.0, 0.0, 0.0, 0.0, 0.0, 0.0, 0.0, 0.0], [0.33012789487838745, 0.16096000373363495, 0.12096913903951645, 0.11518827080726624, 0.12111401557922363, 0.15164066851139069, 0.0, 0.0, 0.0, 0.0, 0.0, 0.0, 0.0, 0.0, 0.0, 0.0, 0.0, 0.0, 0.0, 0.0], [0.3055597245693207, 0.14619837701320648, 0.10455332696437836, 0.10292008519172668, 0.10413741320371628, 0.0983099415898323, 0.1383211314678192, 0.0, 0.0, 0.0, 0.0, 0.0, 0.0, 0.0, 0.0, 0.0, 0.0, 0.0, 0.0, 0.0], [0.26153692603111267, 0.13454017043113708, 0.09497767686843872, 0.09409664571285248, 0.09288853406906128, 0.08956325054168701, 0.09789177775382996, 0.13450504839420319, 0.0, 0.0, 0.0, 0.0, 0.0, 0.0, 0.0, 0.0, 0.0, 0.0, 0.0, 0.0], [0.23659402132034302, 0.1286516636610031, 0.08723831921815872, 0.08525808900594711, 0.08488588035106659, 0.08132223039865494, 0.0865144208073616, 0.09007911384105682, 0.11945626884698868, 0.0, 0.0, 0.0, 0.0, 0.0, 0.0, 0.0, 0.0, 0.0, 0.0, 0.0], [0.23134742677211761, 0.11360500752925873, 0.07896673679351807, 0.07669983059167862, 0.07803799211978912, 0.0723055899143219, 0.07492227852344513, 0.0783841460943222, 0.08277257531881332, 0.11295842379331589, 0.0, 0.0, 0.0, 0.0, 0.0, 0.0, 0.0, 0.0, 0.0, 0.0], [0.19519266486167908, 0.10396644473075867, 0.0765916109085083, 0.07538142055273056, 0.07312248647212982, 0.07178378850221634, 0.0681878924369812, 0.07345401495695114, 0.07382544130086899, 0.077308788895607, 0.11118544638156891, 0.0, 0.0, 0.0, 0.0, 0.0, 0.0, 0.0, 0.0, 0.0], [0.0553780123591423, 0.10105067491531372, 0.11214011907577515, 0.08944854885339737, 0.08511123061180115, 0.07770867645740509, 0.07606673985719681, 0.07801571488380432, 0.07436320930719376, 0.07490362226963043, 0.08583110570907593, 0.08998236060142517, 0.0, 0.0, 0.0, 0.0, 0.0, 0.0, 0.0, 0.0], [0.053749918937683105, 0.09160633385181427, 0.08275379240512848, 0.10622752457857132, 0.08347944170236588, 0.07475297152996063, 0.07197199016809464, 0.0704166442155838, 0.06847595423460007, 0.06571245193481445, 0.07058141380548477, 0.0648949071764946, 0.09537667781114578, 0.0, 0.0, 0.0, 0.0, 0.0, 0.0, 0.0], [0.05893823131918907, 0.0786295086145401, 0.06895764917135239, 0.07087545096874237, 0.10301119834184647, 0.07047300785779953, 0.06707087904214859, 0.06874053925275803, 0.06678001582622528, 0.06233957037329674, 0.07018248736858368, 0.05455497279763222, 0.06461811065673828, 0.09482841193675995, 0.0, 0.0, 0.0, 0.0, 0.0, 0.0], [0.07347908616065979, 0.07598394900560379, 0.06178776174783707, 0.062077417969703674, 0.06789124011993408, 0.08913695812225342, 0.06662508100271225, 0.06705014407634735, 0.05992637202143669, 0.05784133821725845, 0.06426095217466354, 0.05256575718522072, 0.056430503726005554, 0.05562637001276016, 0.08931706845760345, 0.0, 0.0, 0.0, 0.0, 0.0], [0.06296207010746002, 0.07460814714431763, 0.05833347514271736, 0.055653128772974014, 0.06102697551250458, 0.058882709592580795, 0.08438580483198166, 0.06770110875368118, 0.06421814113855362, 0.05588501691818237, 0.05894375964999199, 0.04982250556349754, 0.051046401262283325, 0.050356507301330566, 0.055307358503341675, 0.09086690098047256, 0.0, 0.0, 0.0, 0.0], [0.07227210700511932, 0.06578438729047775, 0.05233744531869888, 0.049767401069402695, 0.05418563634157181, 0.05384961888194084, 0.055342692881822586, 0.08430498093366623, 0.05880632624030113, 0.05490986257791519, 0.05648311227560043, 0.04680131375789642, 0.047975361347198486, 0.04825197532773018, 0.04930530861020088, 0.053608182817697525, 0.09601429104804993, 0.0, 0.0, 0.0], [0.07379090785980225, 0.06800150126218796, 0.05050521716475487, 0.04969232156872749, 0.053016021847724915, 0.04916097968816757, 0.04863881319761276, 0.05476013571023941, 0.07608409225940704, 0.05348494276404381, 0.05883472040295601, 0.043115872889757156, 0.045032162219285965, 0.04186920449137688, 0.04688391461968422, 0.04824385419487953, 0.05208783596754074, 0.08679752051830292, 0.0, 0.0], [0.07360958307981491, 0.06582919508218765, 0.04893411695957184, 0.0457136370241642, 0.04718750715255737, 0.0443219430744648, 0.04545031115412712, 0.05032837390899658, 0.050870131701231, 0.07183992117643356, 0.05808717757463455, 0.042953524738550186, 0.044121406972408295, 0.04190270975232124, 0.04226834326982498, 0.04442271962761879, 0.0454690083861351, 0.05083455890417099, 0.08585583418607712, 0.0], [0.06168947368860245, 0.0629691481590271, 0.04649770259857178, 0.04361790418624878, 0.04564075917005539, 0.046404752880334854, 0.04263567551970482, 0.0483073964715004, 0.049600351601839066, 0.04680396988987923, 0.07354912906885147, 0.042429082095623016, 0.04238412156701088, 0.0390147939324379, 0.0434689037501812, 0.04631717875599861, 0.047172654420137405, 0.044228725135326385, 0.04550598934292793, 0.08176229149103165]], [[1.0, 0.0, 0.0, 0.0, 0.0, 0.0, 0.0, 0.0, 0.0, 0.0, 0.0, 0.0, 0.0, 0.0, 0.0, 0.0, 0.0, 0.0, 0.0, 0.0], [0.9654587507247925, 0.034541357308626175, 0.0, 0.0, 0.0, 0.0, 0.0, 0.0, 0.0, 0.0, 0.0, 0.0, 0.0, 0.0, 0.0, 0.0, 0.0, 0.0, 0.0, 0.0], [0.9035202860832214, 0.047981735318899155, 0.04849807173013687, 0.0, 0.0, 0.0, 0.0, 0.0, 0.0, 0.0, 0.0, 0.0, 0.0, 0.0, 0.0, 0.0, 0.0, 0.0, 0.0, 0.0], [0.8517547249794006, 0.05094428360462189, 0.04628625139594078, 0.05101477727293968, 0.0, 0.0, 0.0, 0.0, 0.0, 0.0, 0.0, 0.0, 0.0, 0.0, 0.0, 0.0, 0.0, 0.0, 0.0, 0.0], [0.7967917323112488, 0.055845946073532104, 0.04816502332687378, 0.04887424036860466, 0.05032302811741829, 0.0, 0.0, 0.0, 0.0, 0.0, 0.0, 0.0, 0.0, 0.0, 0.0, 0.0, 0.0, 0.0, 0.0, 0.0], [0.752958357334137, 0.05445030331611633, 0.04891011863946915, 0.047201007604599, 0.04823876917362213, 0.04824145510792732, 0.0, 0.0, 0.0, 0.0, 0.0, 0.0, 0.0, 0.0, 0.0, 0.0, 0.0, 0.0, 0.0, 0.0], [0.7034384608268738, 0.053991496562957764, 0.0457909069955349, 0.048513270914554596, 0.04902651906013489, 0.04824494197964668, 0.05099441111087799, 0.0, 0.0, 0.0, 0.0, 0.0, 0.0, 0.0, 0.0, 0.0, 0.0, 0.0, 0.0, 0.0], [0.6602913737297058, 0.05426926910877228, 0.046094875782728195, 0.04736896976828575, 0.04446078836917877, 0.04878412187099457, 0.050417859107255936, 0.048312779515981674, 0.0, 0.0, 0.0, 0.0, 0.0, 0.0, 0.0, 0.0, 0.0, 0.0, 0.0, 0.0], [0.6118484735488892, 0.05671418458223343, 0.04918986186385155, 0.04813648387789726, 0.04473160579800606, 0.044825609773397446, 0.05120766535401344, 0.04195268452167511, 0.051393426954746246, 0.0, 0.0, 0.0, 0.0, 0.0, 0.0, 0.0, 0.0, 0.0, 0.0, 0.0], [0.5913516283035278, 0.053038306534290314, 0.045906342566013336, 0.045186471194028854, 0.04107701778411865, 0.0419507771730423, 0.04473935067653656, 0.041976556181907654, 0.04457937180995941, 0.050194162875413895, 0.0, 0.0, 0.0, 0.0, 0.0, 0.0, 0.0, 0.0, 0.0, 0.0], [0.5476986169815063, 0.05475742369890213, 0.04430684074759483, 0.0468154139816761, 0.041896503418684006, 0.04052075371146202, 0.042505085468292236, 0.0410025380551815, 0.04174197092652321, 0.049722135066986084, 0.04903272166848183, 0.0, 0.0, 0.0, 0.0, 0.0, 0.0, 0.0, 0.0, 0.0], [0.3779943585395813, 0.04271158203482628, 0.1245051696896553, 0.07155175507068634, 0.053312499076128006, 0.05298134684562683, 0.05471939966082573, 0.0454045832157135, 0.041383884847164154, 0.04702801629900932, 0.046921323984861374, 0.04148608446121216, 0.0, 0.0, 0.0, 0.0, 0.0, 0.0, 0.0, 0.0], [0.3901126980781555, 0.0514032281935215, 0.038727037608623505, 0.12372273206710815, 0.06453774124383926, 0.051799338310956955, 0.047445110976696014, 0.04266928508877754, 0.041433338075876236, 0.04530404880642891, 0.04190575331449509, 0.03450329974293709, 0.026436403393745422, 0.0, 0.0, 0.0, 0.0, 0.0, 0.0, 0.0], [0.4033251702785492, 0.04604269936680794, 0.037430260330438614, 0.032797932624816895, 0.12339970469474792, 0.06398209184408188, 0.054349880665540695, 0.04874330759048462, 0.043539535254240036, 0.04483991116285324, 0.03729389235377312, 0.02682306617498398, 0.01566430926322937, 0.021768227219581604, 0.0, 0.0, 0.0, 0.0, 0.0, 0.0], [0.43428486585617065, 0.04698120802640915, 0.03561725094914436, 0.03554927930235863, 0.030395280569791794, 0.11057551950216293, 0.062462713569402695, 0.044609591364860535, 0.042093586176633835, 0.04462967813014984, 0.03755680099129677, 0.027248449623584747, 0.014479609206318855, 0.014021177776157856, 0.01949496380984783, 0.0, 0.0, 0.0, 0.0, 0.0], [0.40916940569877625, 0.048734601587057114, 0.03433886542916298, 0.03458593785762787, 0.03274846822023392, 0.028177091851830482, 0.12114473432302475, 0.06056596711277962, 0.05109826475381851, 0.048264507204294205, 0.04412556067109108, 0.027711212635040283, 0.01378153171390295, 0.012872251681983471, 0.012570073828101158, 0.020111506804823875, 0.0, 0.0, 0.0, 0.0], [0.4414990544319153, 0.04512142762541771, 0.03538436070084572, 0.03255558758974075, 0.030899129807949066, 0.02946205623447895, 0.027668055146932602, 0.11192866414785385, 0.05438828468322754, 0.05171499028801918, 0.046437039971351624, 0.025676142424345016, 0.014263208955526352, 0.01203440222889185, 0.010531559586524963, 0.011545010842382908, 0.018891021609306335, 0.0, 0.0, 0.0], [0.46678197383880615, 0.0419173538684845, 0.031739965081214905, 0.03305048495531082, 0.029615942388772964, 0.030555257573723793, 0.029926178976893425, 0.02627158910036087, 0.10658013075590134, 0.05696185305714607, 0.04448917135596275, 0.027851039543747902, 0.012920119799673557, 0.011799451895058155, 0.009743615984916687, 0.011005616746842861, 0.010499916039407253, 0.0182903204113245, 0.0, 0.0], [0.4483899176120758, 0.044852495193481445, 0.033892691135406494, 0.035758841782808304, 0.030094945803284645, 0.032005298882722855, 0.032864511013031006, 0.029479295015335083, 0.02906649559736252, 0.1079176738858223, 0.056708239018917084, 0.02890104055404663, 0.014100310392677784, 0.01316865999251604, 0.010247447527945042, 0.011284755542874336, 0.00993351824581623, 0.011123012751340866, 0.02021087519824505, 0.0], [0.43935540318489075, 0.05390639975667, 0.037204671651124954, 0.03315714746713638, 0.03203638643026352, 0.03186989948153496, 0.03374673053622246, 0.031179631128907204, 0.029840964823961258, 0.0295075885951519, 0.11181699484586716, 0.037106744945049286, 0.01558941975235939, 0.011325114406645298, 0.010406448505818844, 0.01061082910746336, 0.00994060654193163, 0.010194129310548306, 0.010339047759771347, 0.020865872502326965]], [[1.0, 0.0, 0.0, 0.0, 0.0, 0.0, 0.0, 0.0, 0.0, 0.0, 0.0, 0.0, 0.0, 0.0, 0.0, 0.0, 0.0, 0.0, 0.0, 0.0], [0.970777153968811, 0.029222846031188965, 0.0, 0.0, 0.0, 0.0, 0.0, 0.0, 0.0, 0.0, 0.0, 0.0, 0.0, 0.0, 0.0, 0.0, 0.0, 0.0, 0.0, 0.0], [0.9214562773704529, 0.04291833937168121, 0.035625386983156204, 0.0, 0.0, 0.0, 0.0, 0.0, 0.0, 0.0, 0.0, 0.0, 0.0, 0.0, 0.0, 0.0, 0.0, 0.0, 0.0, 0.0], [0.8750455975532532, 0.04741379991173744, 0.04172671213746071, 0.03581392392516136, 0.0, 0.0, 0.0, 0.0, 0.0, 0.0, 0.0, 0.0, 0.0, 0.0, 0.0, 0.0, 0.0, 0.0, 0.0, 0.0], [0.8236151933670044, 0.05155880004167557, 0.04437205567955971, 0.04530436545610428, 0.03514961525797844, 0.0, 0.0, 0.0, 0.0, 0.0, 0.0, 0.0, 0.0, 0.0, 0.0, 0.0, 0.0, 0.0, 0.0, 0.0], [0.785918653011322, 0.049606285989284515, 0.04620422050356865, 0.043525081127882004, 0.04363586753606796, 0.031109953299164772, 0.0, 0.0, 0.0, 0.0, 0.0, 0.0, 0.0, 0.0, 0.0, 0.0, 0.0, 0.0, 0.0, 0.0], [0.7453466653823853, 0.050758518278598785, 0.042780399322509766, 0.04341553524136543, 0.044541891664266586, 0.041715968400239944, 0.03144103288650513, 0.0, 0.0, 0.0, 0.0, 0.0, 0.0, 0.0, 0.0, 0.0, 0.0, 0.0, 0.0, 0.0], [0.7161559462547302, 0.048804350197315216, 0.04143910855054855, 0.04148365557193756, 0.041647493839263916, 0.0369156114757061, 0.04152132198214531, 0.032032519578933716, 0.0, 0.0, 0.0, 0.0, 0.0, 0.0, 0.0, 0.0, 0.0, 0.0, 0.0, 0.0], [0.6793281435966492, 0.04936587065458298, 0.040212392807006836, 0.043253976851701736, 0.0403895378112793, 0.03712429478764534, 0.042389050126075745, 0.039707284420728683, 0.02822941169142723, 0.0, 0.0, 0.0, 0.0, 0.0, 0.0, 0.0, 0.0, 0.0, 0.0, 0.0], [0.6622241735458374, 0.04572359472513199, 0.03826982527971268, 0.0395326092839241, 0.03837126865983009, 0.036350563168525696, 0.037333548069000244, 0.04002692922949791, 0.03607042133808136, 0.026097068563103676, 0.0, 0.0, 0.0, 0.0, 0.0, 0.0, 0.0, 0.0, 0.0, 0.0], [0.6331055760383606, 0.046188827604055405, 0.039310865104198456, 0.0400291383266449, 0.037328723818063736, 0.03318056836724281, 0.03493993356823921, 0.04134245216846466, 0.032932475209236145, 0.03688635677099228, 0.02475506253540516, 0.0, 0.0, 0.0, 0.0, 0.0, 0.0, 0.0, 0.0, 0.0], [0.5087738633155823, 0.02855462208390236, 0.0772470235824585, 0.05879877507686615, 0.050645243376493454, 0.042783983051776886, 0.04404415562748909, 0.0457022562623024, 0.03859695419669151, 0.040093228220939636, 0.03600536659359932, 0.02875455468893051, 0.0, 0.0, 0.0, 0.0, 0.0, 0.0, 0.0, 0.0], [0.5130072236061096, 0.04143393784761429, 0.026577500626444817, 0.07542458921670914, 0.05425942316651344, 0.04523085430264473, 0.04370863363146782, 0.04165910184383392, 0.03948449715971947, 0.03643196076154709, 0.037781987339258194, 0.027624407783150673, 0.0173758864402771, 0.0, 0.0, 0.0, 0.0, 0.0, 0.0, 0.0], [0.520348072052002, 0.04194549471139908, 0.03360564261674881, 0.025189697742462158, 0.07684603333473206, 0.04704069346189499, 0.04618443548679352, 0.04646170884370804, 0.038697417825460434, 0.03531065955758095, 0.0345149040222168, 0.02521679550409317, 0.013353070244193077, 0.015285376459360123, 0.0, 0.0, 0.0, 0.0, 0.0, 0.0], [0.5405861139297485, 0.0422292985022068, 0.03355628252029419, 0.03144556283950806, 0.021180912852287292, 0.06296751648187637, 0.05156999081373215, 0.04237114638090134, 0.03953313082456589, 0.03715774789452553, 0.03533798083662987, 0.026190316304564476, 0.012006513774394989, 0.011365984566509724, 0.012501504272222519, 0.0, 0.0, 0.0, 0.0, 0.0], [0.5297974348068237, 0.04362425208091736, 0.029232319444417953, 0.03177821636199951, 0.028831178322434425, 0.018632536754012108, 0.07319223135709763, 0.05330370366573334, 0.041259922087192535, 0.041860323399305344, 0.04106666520237923, 0.024246424436569214, 0.010099861770868301, 0.010319761000573635, 0.009359301067888737, 0.013395847752690315, 0.0, 0.0, 0.0, 0.0], [0.5415056347846985, 0.042662546038627625, 0.03123163804411888, 0.03102499060332775, 0.030240939930081367, 0.025448651984333992, 0.019161298871040344, 0.06694178283214569, 0.047161709517240524, 0.04413052275776863, 0.04251985251903534, 0.025095904245972633, 0.010576801374554634, 0.0105335284024477, 0.00931105762720108, 0.00963886920362711, 0.012814313173294067, 0.0, 0.0, 0.0], [0.5694481730461121, 0.041609253734350204, 0.029610348865389824, 0.028945744037628174, 0.02767251618206501, 0.027720721438527107, 0.02955169975757599, 0.023630347102880478, 0.056214798241853714, 0.04503777623176575, 0.03845030069351196, 0.024654019623994827, 0.009638314135372639, 0.008586551994085312, 0.007801929954439402, 0.008251987397670746, 0.009608770720660686, 0.013566743582487106, 0.0, 0.0], [0.5618100166320801, 0.04303697124123573, 0.0312931053340435, 0.03057083487510681, 0.029772665351629257, 0.027185743674635887, 0.030728226527571678, 0.03015882335603237, 0.020291708409786224, 0.06065256521105766, 0.04260728508234024, 0.024256298318505287, 0.010442367754876614, 0.009354734793305397, 0.008790143765509129, 0.007995035499334335, 0.00842958316206932, 0.00969952717423439, 0.012924392707645893, 0.0], [0.5416451692581177, 0.04863229766488075, 0.03442796319723129, 0.03078373707830906, 0.030369872227311134, 0.02963174320757389, 0.034135520458221436, 0.03297620266675949, 0.029473258182406425, 0.01958215981721878, 0.06042769178748131, 0.028972264379262924, 0.011839018203318119, 0.008825534954667091, 0.008311049081385136, 0.00860211905092001, 0.009472189471125603, 0.008892545476555824, 0.009841619059443474, 0.013158091343939304]], [[1.0, 0.0, 0.0, 0.0, 0.0, 0.0, 0.0, 0.0, 0.0, 0.0, 0.0, 0.0, 0.0, 0.0, 0.0, 0.0, 0.0, 0.0, 0.0, 0.0], [0.9090874195098877, 0.09091254323720932, 0.0, 0.0, 0.0, 0.0, 0.0, 0.0, 0.0, 0.0, 0.0, 0.0, 0.0, 0.0, 0.0, 0.0, 0.0, 0.0, 0.0, 0.0], [0.7375907301902771, 0.13994237780570984, 0.12246695160865784, 0.0, 0.0, 0.0, 0.0, 0.0, 0.0, 0.0, 0.0, 0.0, 0.0, 0.0, 0.0, 0.0, 0.0, 0.0, 0.0, 0.0], [0.6451882719993591, 0.10469701141119003, 0.13638585805892944, 0.1137288510799408, 0.0, 0.0, 0.0, 0.0, 0.0, 0.0, 0.0, 0.0, 0.0, 0.0, 0.0, 0.0, 0.0, 0.0, 0.0, 0.0], [0.5715326070785522, 0.08737074583768845, 0.10202961415052414, 0.12626048922538757, 0.11280656605958939, 0.0, 0.0, 0.0, 0.0, 0.0, 0.0, 0.0, 0.0, 0.0, 0.0, 0.0, 0.0, 0.0, 0.0, 0.0], [0.5245569944381714, 0.07199122756719589, 0.08254463225603104, 0.10029113292694092, 0.12401983886957169, 0.09659621864557266, 0.0, 0.0, 0.0, 0.0, 0.0, 0.0, 0.0, 0.0, 0.0, 0.0, 0.0, 0.0, 0.0, 0.0], [0.4808169901371002, 0.059546247124671936, 0.0700513944029808, 0.0806230679154396, 0.09469714760780334, 0.12131466716527939, 0.09295053035020828, 0.0, 0.0, 0.0, 0.0, 0.0, 0.0, 0.0, 0.0, 0.0, 0.0, 0.0, 0.0, 0.0], [0.4342854619026184, 0.05362343043088913, 0.060269735753536224, 0.07237904518842697, 0.0824873149394989, 0.08932534605264664, 0.11802587658166885, 0.08960380405187607, 0.0, 0.0, 0.0, 0.0, 0.0, 0.0, 0.0, 0.0, 0.0, 0.0, 0.0, 0.0], [0.4166440963745117, 0.049200497567653656, 0.0546799935400486, 0.06109454110264778, 0.06873784959316254, 0.07183896005153656, 0.08819811046123505, 0.10630788654088974, 0.08329804986715317, 0.0, 0.0, 0.0, 0.0, 0.0, 0.0, 0.0, 0.0, 0.0, 0.0, 0.0], [0.40531980991363525, 0.042320575565099716, 0.04707176983356476, 0.05418204516172409, 0.05812039598822594, 0.06248096004128456, 0.0708363801240921, 0.08067379146814346, 0.10014989227056503, 0.07884438335895538, 0.0, 0.0, 0.0, 0.0, 0.0, 0.0, 0.0, 0.0, 0.0, 0.0], [0.3659835755825043, 0.03908718377351761, 0.043113499879837036, 0.04880600422620773, 0.051904238760471344, 0.05759866535663605, 0.0628843754529953, 0.07124767452478409, 0.07938235998153687, 0.10197663307189941, 0.07801578938961029, 0.0, 0.0, 0.0, 0.0, 0.0, 0.0, 0.0, 0.0, 0.0], [0.33875423669815063, 0.03366117179393768, 0.03865774720907211, 0.04933978244662285, 0.051161136478185654, 0.055580202490091324, 0.06303628534078598, 0.06327413022518158, 0.06943394243717194, 0.08539189398288727, 0.10506726801395416, 0.04664221033453941, 0.0, 0.0, 0.0, 0.0, 0.0, 0.0, 0.0, 0.0], [0.35634905099868774, 0.044782333076000214, 0.03307953104376793, 0.039946846663951874, 0.04950591176748276, 0.05148814618587494, 0.06080774590373039, 0.06244870647788048, 0.06362293660640717, 0.07279336452484131, 0.08550679683685303, 0.048336077481508255, 0.03133256733417511, 0.0, 0.0, 0.0, 0.0, 0.0, 0.0, 0.0], [0.37969970703125, 0.039405375719070435, 0.04158709570765495, 0.03286680951714516, 0.04070698097348213, 0.046037670224905014, 0.05478982254862785, 0.054218076169490814, 0.05872783064842224, 0.06788188219070435, 0.07697590440511703, 0.04873519018292427, 0.029986171051859856, 0.02838147059082985, 0.0, 0.0, 0.0, 0.0, 0.0, 0.0], [0.41664406657218933, 0.03305582329630852, 0.03359178453683853, 0.03960295021533966, 0.03469107300043106, 0.03677503764629364, 0.050077665597200394, 0.053448330610990524, 0.055608198046684265, 0.061363283544778824, 0.06856227666139603, 0.04275667667388916, 0.027232958003878593, 0.021592585369944572, 0.02499730885028839, 0.0, 0.0, 0.0, 0.0, 0.0], [0.39269495010375977, 0.03369065374135971, 0.03205550089478493, 0.03712054714560509, 0.04669959098100662, 0.03483419492840767, 0.043572042137384415, 0.05308620631694794, 0.056491900235414505, 0.06278728693723679, 0.06871894747018814, 0.039096489548683167, 0.024742908775806427, 0.024358438327908516, 0.022763529792428017, 0.027286821976304054, 0.0, 0.0, 0.0, 0.0], [0.43340200185775757, 0.028987107798457146, 0.028987810015678406, 0.03119305521249771, 0.036002255976200104, 0.044279180467128754, 0.03721744939684868, 0.04018353670835495, 0.05037491396069527, 0.05729902163147926, 0.06313040107488632, 0.03782239183783531, 0.024872852489352226, 0.022838883101940155, 0.02120027132332325, 0.01990783028304577, 0.02230103127658367, 0.0, 0.0, 0.0], [0.44522690773010254, 0.026143567636609077, 0.027091683819890022, 0.029511643573641777, 0.03473273664712906, 0.03765932843089104, 0.048057671636343, 0.03924202919006348, 0.04178283363580704, 0.05285344272851944, 0.05907896161079407, 0.03343837708234787, 0.02198903262615204, 0.01910289190709591, 0.020681126043200493, 0.021635876968503, 0.019970407709479332, 0.021801497787237167, 0.0, 0.0], [0.42263489961624146, 0.02928842045366764, 0.027653058990836143, 0.031801968812942505, 0.03685559332370758, 0.03572746738791466, 0.04422459378838539, 0.052363794296979904, 0.04159625619649887, 0.04677170515060425, 0.05732768028974533, 0.03592509403824806, 0.02187858708202839, 0.02000783197581768, 0.019246501848101616, 0.018558437004685402, 0.020185675472021103, 0.017700420692563057, 0.02025202102959156, 0.0], [0.39461615681648254, 0.02833355776965618, 0.027220405638217926, 0.032054685056209564, 0.03368575870990753, 0.03738605976104736, 0.04346010088920593, 0.051512379199266434, 0.05882931500673294, 0.04906396195292473, 0.04956834018230438, 0.03732326254248619, 0.02157224901020527, 0.01889755204319954, 0.019218377768993378, 0.019776221364736557, 0.019192690029740334, 0.020479777827858925, 0.016883213073015213, 0.020925918594002724]], [[1.0, 0.0, 0.0, 0.0, 0.0, 0.0, 0.0, 0.0, 0.0, 0.0, 0.0, 0.0, 0.0, 0.0, 0.0, 0.0, 0.0, 0.0, 0.0, 0.0], [0.9280296564102173, 0.0719703659415245, 0.0, 0.0, 0.0, 0.0, 0.0, 0.0, 0.0, 0.0, 0.0, 0.0, 0.0, 0.0, 0.0, 0.0, 0.0, 0.0, 0.0, 0.0], [0.8763142824172974, 0.05522072687745094, 0.06846503168344498, 0.0, 0.0, 0.0, 0.0, 0.0, 0.0, 0.0, 0.0, 0.0, 0.0, 0.0, 0.0, 0.0, 0.0, 0.0, 0.0, 0.0], [0.830486536026001, 0.053391002118587494, 0.05051951855421066, 0.06560291349887848, 0.0, 0.0, 0.0, 0.0, 0.0, 0.0, 0.0, 0.0, 0.0, 0.0, 0.0, 0.0, 0.0, 0.0, 0.0, 0.0], [0.796617865562439, 0.05176351219415665, 0.045037467032670975, 0.04686763510107994, 0.059713464230298996, 0.0, 0.0, 0.0, 0.0, 0.0, 0.0, 0.0, 0.0, 0.0, 0.0, 0.0, 0.0, 0.0, 0.0, 0.0], [0.7642806172370911, 0.04794759675860405, 0.04495928809046745, 0.042469121515750885, 0.043746937066316605, 0.05659649148583412, 0.0, 0.0, 0.0, 0.0, 0.0, 0.0, 0.0, 0.0, 0.0, 0.0, 0.0, 0.0, 0.0, 0.0], [0.7296439409255981, 0.04778679087758064, 0.04251476377248764, 0.04309992864727974, 0.040725745260715485, 0.04202252998948097, 0.05420630797743797, 0.0, 0.0, 0.0, 0.0, 0.0, 0.0, 0.0, 0.0, 0.0, 0.0, 0.0, 0.0, 0.0], [0.7033104300498962, 0.045096635818481445, 0.038920607417821884, 0.039510760456323624, 0.037492167204618454, 0.04061625152826309, 0.04253532364964485, 0.05251782760024071, 0.0, 0.0, 0.0, 0.0, 0.0, 0.0, 0.0, 0.0, 0.0, 0.0, 0.0, 0.0], [0.6787052154541016, 0.04541872814297676, 0.03933556750416756, 0.03841213136911392, 0.034630827605724335, 0.03729462996125221, 0.04003222659230232, 0.03664673492312431, 0.049523934721946716, 0.0, 0.0, 0.0, 0.0, 0.0, 0.0, 0.0, 0.0, 0.0, 0.0, 0.0], [0.6652442812919617, 0.04219868406653404, 0.037219103425741196, 0.03636079281568527, 0.03372817859053612, 0.03426286205649376, 0.03397402539849281, 0.03501981496810913, 0.035890791565179825, 0.046101540327072144, 0.0, 0.0, 0.0, 0.0, 0.0, 0.0, 0.0, 0.0, 0.0, 0.0], [0.6457785367965698, 0.041024286299943924, 0.03722570836544037, 0.037225060164928436, 0.03120345063507557, 0.0338422916829586, 0.03149421513080597, 0.03335091471672058, 0.03322382643818855, 0.03456733748316765, 0.04106433689594269, 0.0, 0.0, 0.0, 0.0, 0.0, 0.0, 0.0, 0.0, 0.0], [0.5899138450622559, 0.04232672601938248, 0.08063004910945892, 0.04536964371800423, 0.034707389771938324, 0.03343834728002548, 0.03298606351017952, 0.028538350015878677, 0.025616846978664398, 0.02790028043091297, 0.027395004406571388, 0.03117748163640499, 0.0, 0.0, 0.0, 0.0, 0.0, 0.0, 0.0, 0.0], [0.617658257484436, 0.03643887862563133, 0.03390452265739441, 0.06979972869157791, 0.037879277020692825, 0.03045790269970894, 0.029108868911862373, 0.025769993662834167, 0.024016672745347023, 0.02533208578824997, 0.02224584110081196, 0.016835717484354973, 0.030552251264452934, 0.0, 0.0, 0.0, 0.0, 0.0, 0.0, 0.0], [0.6354056596755981, 0.03356095775961876, 0.026820184662938118, 0.027513986453413963, 0.0659763365983963, 0.03441369906067848, 0.02994195930659771, 0.02572588622570038, 0.02244001068174839, 0.02218918316066265, 0.021452104672789574, 0.013289805501699448, 0.014352495782077312, 0.02691775932908058, 0.0, 0.0, 0.0, 0.0, 0.0, 0.0], [0.6475361585617065, 0.03213629126548767, 0.025491738691926003, 0.023758763447403908, 0.023959584534168243, 0.05914031341671944, 0.03290681540966034, 0.025648871436715126, 0.022658124566078186, 0.023131122812628746, 0.020796464756131172, 0.013212433084845543, 0.01129001285880804, 0.012442371807992458, 0.025890931487083435, 0.0, 0.0, 0.0, 0.0, 0.0], [0.6376156806945801, 0.03358011320233345, 0.02338431403040886, 0.022407589480280876, 0.021146852523088455, 0.022774286568164825, 0.05782214179635048, 0.03304329887032509, 0.024837728589773178, 0.0259134229272604, 0.022360989823937416, 0.012368728406727314, 0.010255343280732632, 0.01086724828928709, 0.012897735461592674, 0.02872452884912491, 0.0, 0.0, 0.0, 0.0], [0.6439406871795654, 0.03254875913262367, 0.023295041173696518, 0.021163232624530792, 0.018620070070028305, 0.020173093304038048, 0.020595548674464226, 0.05470563843846321, 0.028070172294974327, 0.02795306034386158, 0.024583153426647186, 0.012640202417969704, 0.009906689636409283, 0.009659827686846256, 0.010556851513683796, 0.014297416433691978, 0.02729056403040886, 0.0, 0.0, 0.0], [0.6577091217041016, 0.03257467597723007, 0.020910533145070076, 0.020689507946372032, 0.01762874238193035, 0.020538190379738808, 0.018996281549334526, 0.019532620906829834, 0.051446087658405304, 0.02786901965737343, 0.022480472922325134, 0.012615501880645752, 0.009204481728374958, 0.008561648428440094, 0.009595939889550209, 0.01127737108618021, 0.012683223001658916, 0.025686590000987053, 0.0, 0.0], [0.6458078622817993, 0.032965488731861115, 0.022392794489860535, 0.021062344312667847, 0.018531018868088722, 0.018113205209374428, 0.01858670264482498, 0.018336813896894455, 0.019362257793545723, 0.05509399250149727, 0.025543780997395515, 0.013316383585333824, 0.009692107327282429, 0.009488550946116447, 0.009917042218148708, 0.010724295862019062, 0.011077852919697762, 0.012592852115631104, 0.02739463932812214, 0.0], [0.6298229694366455, 0.03510446473956108, 0.02457956224679947, 0.020285289734601974, 0.019169172272086143, 0.020215105265378952, 0.02073657140135765, 0.020312825217843056, 0.019133735448122025, 0.020882001146674156, 0.04805104807019234, 0.014793047681450844, 0.01051964983344078, 0.008824161253869534, 0.009748002514243126, 0.010707903653383255, 0.011373510584235191, 0.011202593334019184, 0.01324212271720171, 0.03129633143544197]], [[1.0, 0.0, 0.0, 0.0, 0.0, 0.0, 0.0, 0.0, 0.0, 0.0, 0.0, 0.0, 0.0, 0.0, 0.0, 0.0, 0.0, 0.0, 0.0, 0.0], [0.9616182446479797, 0.03838177025318146, 0.0, 0.0, 0.0, 0.0, 0.0, 0.0, 0.0, 0.0, 0.0, 0.0, 0.0, 0.0, 0.0, 0.0, 0.0, 0.0, 0.0, 0.0], [0.9211747050285339, 0.040304023772478104, 0.038521189242601395, 0.0, 0.0, 0.0, 0.0, 0.0, 0.0, 0.0, 0.0, 0.0, 0.0, 0.0, 0.0, 0.0, 0.0, 0.0, 0.0, 0.0], [0.8767629265785217, 0.047175947576761246, 0.032761335372924805, 0.04329986497759819, 0.0, 0.0, 0.0, 0.0, 0.0, 0.0, 0.0, 0.0, 0.0, 0.0, 0.0, 0.0, 0.0, 0.0, 0.0, 0.0], [0.8319957256317139, 0.050735630095005035, 0.03474986180663109, 0.03725733235478401, 0.04526151716709137, 0.0, 0.0, 0.0, 0.0, 0.0, 0.0, 0.0, 0.0, 0.0, 0.0, 0.0, 0.0, 0.0, 0.0, 0.0], [0.7982080578804016, 0.047641247510910034, 0.03636019304394722, 0.03640732169151306, 0.03561081364750862, 0.045772358775138855, 0.0, 0.0, 0.0, 0.0, 0.0, 0.0, 0.0, 0.0, 0.0, 0.0, 0.0, 0.0, 0.0, 0.0], [0.7584453225135803, 0.04909515380859375, 0.035939596593379974, 0.03651561588048935, 0.0373552069067955, 0.03921583294868469, 0.04343320056796074, 0.0, 0.0, 0.0, 0.0, 0.0, 0.0, 0.0, 0.0, 0.0, 0.0, 0.0, 0.0, 0.0], [0.7177823185920715, 0.05066341906785965, 0.03183218464255333, 0.037615422159433365, 0.03415588289499283, 0.04040251299738884, 0.041055940091609955, 0.0464923195540905, 0.0, 0.0, 0.0, 0.0, 0.0, 0.0, 0.0, 0.0, 0.0, 0.0, 0.0, 0.0], [0.6765512824058533, 0.05461738631129265, 0.03266949951648712, 0.03762061893939972, 0.03749644756317139, 0.03929105028510094, 0.039286479353904724, 0.03997650742530823, 0.04249069094657898, 0.0, 0.0, 0.0, 0.0, 0.0, 0.0, 0.0, 0.0, 0.0, 0.0, 0.0], [0.6532410383224487, 0.05491960793733597, 0.03382660076022148, 0.03900422155857086, 0.03504040092229843, 0.038352176547050476, 0.03416219726204872, 0.036882009357213974, 0.03308305889368057, 0.04148869216442108, 0.0, 0.0, 0.0, 0.0, 0.0, 0.0, 0.0, 0.0, 0.0, 0.0], [0.6184542775154114, 0.053522683680057526, 0.03272829204797745, 0.03515995293855667, 0.03615642338991165, 0.03605809807777405, 0.03709991276264191, 0.03558140993118286, 0.036976661533117294, 0.03433694317936897, 0.04392540082335472, 0.0, 0.0, 0.0, 0.0, 0.0, 0.0, 0.0, 0.0, 0.0], [0.4047643840312958, 0.05226490646600723, 0.1380005031824112, 0.05654151737689972, 0.047741055488586426, 0.047270581126213074, 0.04384366795420647, 0.04494945704936981, 0.03600194305181503, 0.03475063294172287, 0.03761272132396698, 0.0562586709856987, 0.0, 0.0, 0.0, 0.0, 0.0, 0.0, 0.0, 0.0], [0.4259750247001648, 0.05331717059016228, 0.031751830130815506, 0.14645051956176758, 0.051391564309597015, 0.044301483780145645, 0.043337319046258926, 0.037535443902015686, 0.03261224925518036, 0.032545872032642365, 0.031986404210329056, 0.041238170117139816, 0.027556978166103363, 0.0, 0.0, 0.0, 0.0, 0.0, 0.0, 0.0], [0.4421861171722412, 0.04789106175303459, 0.027470353990793228, 0.028061116114258766, 0.14963586628437042, 0.051359873265028, 0.04556339606642723, 0.03694833070039749, 0.03228337690234184, 0.03332633152604103, 0.034679241478443146, 0.03111802414059639, 0.015367213636636734, 0.024109698832035065, 0.0, 0.0, 0.0, 0.0, 0.0, 0.0], [0.4625125527381897, 0.046143632382154465, 0.024988293647766113, 0.025470498949289322, 0.026049669831991196, 0.14432837069034576, 0.05148903653025627, 0.04022303968667984, 0.032040778547525406, 0.031208137050271034, 0.03453771770000458, 0.03414100408554077, 0.0120297996327281, 0.012928073294460773, 0.02190938964486122, 0.0, 0.0, 0.0, 0.0, 0.0], [0.4582158625125885, 0.04752769321203232, 0.02371208369731903, 0.025900760665535927, 0.023379137739539146, 0.024685408920049667, 0.14581561088562012, 0.044970154762268066, 0.0382225438952446, 0.03447211906313896, 0.03655492886900902, 0.03406842425465584, 0.012471374124288559, 0.013363906182348728, 0.012212010100483894, 0.024427935481071472, 0.0, 0.0, 0.0, 0.0], [0.4621087610721588, 0.04209594801068306, 0.023726558312773705, 0.026411114260554314, 0.02553064376115799, 0.022579817101359367, 0.023311467841267586, 0.14886538684368134, 0.04481811076402664, 0.03621542081236839, 0.041827499866485596, 0.034110210835933685, 0.011885462328791618, 0.010778851807117462, 0.011253658682107925, 0.01217047031968832, 0.02231062389910221, 0.0, 0.0, 0.0], [0.5089899897575378, 0.04126373678445816, 0.02127421461045742, 0.025530649349093437, 0.022843996062874794, 0.023953674361109734, 0.02374410815536976, 0.025593511760234833, 0.12342806905508041, 0.042068470269441605, 0.03642312437295914, 0.03287476301193237, 0.009996279142796993, 0.009469589218497276, 0.008702355436980724, 0.011470180004835129, 0.011393751949071884, 0.02097952738404274, 0.0, 0.0], [0.47458234429359436, 0.04832223430275917, 0.023486724123358727, 0.023953000083565712, 0.02658597193658352, 0.024093391373753548, 0.024244895204901695, 0.02664155699312687, 0.024985963478684425, 0.12563806772232056, 0.04702895134687424, 0.03920837119221687, 0.01198347844183445, 0.010771902278065681, 0.010671118274331093, 0.01113997120410204, 0.011650566942989826, 0.011690855957567692, 0.023320652544498444, 0.0], [0.45349469780921936, 0.05524744093418121, 0.023737818002700806, 0.02546112798154354, 0.023305192589759827, 0.02753661945462227, 0.025199415162205696, 0.028469013050198555, 0.02208654396235943, 0.023190369829535484, 0.1432236135005951, 0.04640824720263481, 0.01218669768422842, 0.0108083076775074, 0.010206249542534351, 0.010756982490420341, 0.011565406806766987, 0.012066097930073738, 0.011271687224507332, 0.02377847582101822]], [[1.0, 0.0, 0.0, 0.0, 0.0, 0.0, 0.0, 0.0, 0.0, 0.0, 0.0, 0.0, 0.0, 0.0, 0.0, 0.0, 0.0, 0.0, 0.0, 0.0], [0.9715093970298767, 0.028490612283349037, 0.0, 0.0, 0.0, 0.0, 0.0, 0.0, 0.0, 0.0, 0.0, 0.0, 0.0, 0.0, 0.0, 0.0, 0.0, 0.0, 0.0, 0.0], [0.9256980419158936, 0.03718273714184761, 0.03711920976638794, 0.0, 0.0, 0.0, 0.0, 0.0, 0.0, 0.0, 0.0, 0.0, 0.0, 0.0, 0.0, 0.0, 0.0, 0.0, 0.0, 0.0], [0.8814483880996704, 0.042443934828042984, 0.03756279870867729, 0.038544826209545135, 0.0, 0.0, 0.0, 0.0, 0.0, 0.0, 0.0, 0.0, 0.0, 0.0, 0.0, 0.0, 0.0, 0.0, 0.0, 0.0], [0.8369165658950806, 0.04743145406246185, 0.038694269955158234, 0.040081460028886795, 0.03687625005841255, 0.0, 0.0, 0.0, 0.0, 0.0, 0.0, 0.0, 0.0, 0.0, 0.0, 0.0, 0.0, 0.0, 0.0, 0.0], [0.8001452684402466, 0.04630374163389206, 0.04095442593097687, 0.039442550390958786, 0.03827110677957535, 0.03488285094499588, 0.0, 0.0, 0.0, 0.0, 0.0, 0.0, 0.0, 0.0, 0.0, 0.0, 0.0, 0.0, 0.0, 0.0], [0.7544760704040527, 0.047672271728515625, 0.04081861674785614, 0.041345614939928055, 0.039493195712566376, 0.03871140256524086, 0.03748287260532379, 0.0, 0.0, 0.0, 0.0, 0.0, 0.0, 0.0, 0.0, 0.0, 0.0, 0.0, 0.0, 0.0], [0.7202255129814148, 0.04766462743282318, 0.040246378630399704, 0.04013820365071297, 0.037881311029195786, 0.03702089190483093, 0.0410131998360157, 0.03580990061163902, 0.0, 0.0, 0.0, 0.0, 0.0, 0.0, 0.0, 0.0, 0.0, 0.0, 0.0, 0.0], [0.672313392162323, 0.05050421133637428, 0.04028439149260521, 0.04151531681418419, 0.038674961775541306, 0.040176767855882645, 0.04318125173449516, 0.03731945529580116, 0.03603031858801842, 0.0, 0.0, 0.0, 0.0, 0.0, 0.0, 0.0, 0.0, 0.0, 0.0, 0.0], [0.6546344757080078, 0.04828457534313202, 0.03906243294477463, 0.04108084365725517, 0.037030257284641266, 0.03489465266466141, 0.03929392620921135, 0.03755246847867966, 0.03585919365286827, 0.03230716288089752, 0.0, 0.0, 0.0, 0.0, 0.0, 0.0, 0.0, 0.0, 0.0, 0.0], [0.6218652129173279, 0.049044035375118256, 0.041485026478767395, 0.04033498093485832, 0.03565629571676254, 0.0342121459543705, 0.03725055605173111, 0.03783022612333298, 0.036192636936903, 0.035174161195755005, 0.03095472790300846, 0.0, 0.0, 0.0, 0.0, 0.0, 0.0, 0.0, 0.0, 0.0], [0.4599931538105011, 0.04325227811932564, 0.10790245980024338, 0.06767242401838303, 0.04811451584100723, 0.04316257685422897, 0.044397059828042984, 0.04102916643023491, 0.038553398102521896, 0.0370158813893795, 0.034681130200624466, 0.0342259407043457, 0.0, 0.0, 0.0, 0.0, 0.0, 0.0, 0.0, 0.0], [0.4796559810638428, 0.04542625695466995, 0.03731435909867287, 0.10428269952535629, 0.05891326814889908, 0.04301202669739723, 0.04518626630306244, 0.038371842354536057, 0.03676283732056618, 0.0343577042222023, 0.03227783739566803, 0.02468166872859001, 0.019757254049181938, 0.0, 0.0, 0.0, 0.0, 0.0, 0.0, 0.0], [0.4982634484767914, 0.045298609882593155, 0.03208809718489647, 0.035502735525369644, 0.09656281024217606, 0.05086212232708931, 0.04582970589399338, 0.043718792498111725, 0.03623008355498314, 0.03378570079803467, 0.030767353251576424, 0.02175900526344776, 0.010654094628989697, 0.01867743209004402, 0.0, 0.0, 0.0, 0.0, 0.0, 0.0], [0.515394389629364, 0.04825364798307419, 0.03411748632788658, 0.031232139095664024, 0.02738715521991253, 0.08521904051303864, 0.05470464751124382, 0.038972172886133194, 0.03647463396191597, 0.03688991814851761, 0.03363395109772682, 0.022578295320272446, 0.010331972502171993, 0.010188334621489048, 0.014622223563492298, 0.0, 0.0, 0.0, 0.0, 0.0], [0.5182391405105591, 0.04686003178358078, 0.028159456327557564, 0.028761472553014755, 0.02651398628950119, 0.025986583903431892, 0.09533626586198807, 0.052151016891002655, 0.041245054453611374, 0.03861384466290474, 0.0362653024494648, 0.0198278296738863, 0.00849052332341671, 0.009194960817694664, 0.008648337796330452, 0.015706168487668037, 0.0, 0.0, 0.0, 0.0], [0.5209983587265015, 0.04630149528384209, 0.0312778614461422, 0.02954896353185177, 0.027317872270941734, 0.02494116872549057, 0.02769164741039276, 0.08968830108642578, 0.050945866852998734, 0.04143023118376732, 0.037150003015995026, 0.020845705643296242, 0.008630218915641308, 0.008942992426455021, 0.007638063281774521, 0.009896619245409966, 0.016754616051912308, 0.0, 0.0, 0.0], [0.5550472736358643, 0.04253029078245163, 0.028819048777222633, 0.02805493026971817, 0.024766121059656143, 0.02588222175836563, 0.026805268600583076, 0.026195721700787544, 0.08037491887807846, 0.046533629298210144, 0.036545511335134506, 0.021279869601130486, 0.008337460458278656, 0.008228834718465805, 0.006896567065268755, 0.007588118780404329, 0.00928798783570528, 0.01682622916996479, 0.0, 0.0], [0.5525872707366943, 0.04486600682139397, 0.029676023870706558, 0.029097631573677063, 0.026646442711353302, 0.025324707850813866, 0.028290744870901108, 0.025415610522031784, 0.02449604496359825, 0.07941452413797379, 0.042588651180267334, 0.02343693934381008, 0.00894139800220728, 0.008559194393455982, 0.007524215616285801, 0.007654826156795025, 0.008090907707810402, 0.009770343080163002, 0.017618544399738312, 0.0], [0.5404002666473389, 0.05200957506895065, 0.03285328671336174, 0.02863284945487976, 0.026376690715551376, 0.027959654107689857, 0.030807621777057648, 0.026268258690834045, 0.026799576357007027, 0.025113986805081367, 0.07651978731155396, 0.02864503674209118, 0.009662073105573654, 0.007875385694205761, 0.007231386844068766, 0.007891744375228882, 0.0088012320920825, 0.008444244973361492, 0.009955919347703457, 0.017751432955265045]], [[1.0, 0.0, 0.0, 0.0, 0.0, 0.0, 0.0, 0.0, 0.0, 0.0, 0.0, 0.0, 0.0, 0.0, 0.0, 0.0, 0.0, 0.0, 0.0, 0.0], [0.9591390490531921, 0.04086098074913025, 0.0, 0.0, 0.0, 0.0, 0.0, 0.0, 0.0, 0.0, 0.0, 0.0, 0.0, 0.0, 0.0, 0.0, 0.0, 0.0, 0.0, 0.0], [0.9118456244468689, 0.03940007463097572, 0.048754263669252396, 0.0, 0.0, 0.0, 0.0, 0.0, 0.0, 0.0, 0.0, 0.0, 0.0, 0.0, 0.0, 0.0, 0.0, 0.0, 0.0, 0.0], [0.8657044172286987, 0.0434621125459671, 0.040841568261384964, 0.04999185726046562, 0.0, 0.0, 0.0, 0.0, 0.0, 0.0, 0.0, 0.0, 0.0, 0.0, 0.0, 0.0, 0.0, 0.0, 0.0, 0.0], [0.8273532390594482, 0.04637179523706436, 0.0398670956492424, 0.03609449043869972, 0.05031336098909378, 0.0, 0.0, 0.0, 0.0, 0.0, 0.0, 0.0, 0.0, 0.0, 0.0, 0.0, 0.0, 0.0, 0.0, 0.0], [0.7908180952072144, 0.04382754862308502, 0.0394156351685524, 0.03525783494114876, 0.04062361270189285, 0.050057314336299896, 0.0, 0.0, 0.0, 0.0, 0.0, 0.0, 0.0, 0.0, 0.0, 0.0, 0.0, 0.0, 0.0, 0.0], [0.7448036670684814, 0.04543272778391838, 0.04035964608192444, 0.03819560632109642, 0.04126394912600517, 0.04040093347430229, 0.04954344034194946, 0.0, 0.0, 0.0, 0.0, 0.0, 0.0, 0.0, 0.0, 0.0, 0.0, 0.0, 0.0, 0.0], [0.7080997824668884, 0.04643775895237923, 0.035638272762298584, 0.03539936617016792, 0.037541020661592484, 0.04013069346547127, 0.04245150461792946, 0.0543016754090786, 0.0, 0.0, 0.0, 0.0, 0.0, 0.0, 0.0, 0.0, 0.0, 0.0, 0.0, 0.0], [0.6638199090957642, 0.0505865253508091, 0.038973405957221985, 0.03468070179224014, 0.03694514185190201, 0.03826113045215607, 0.0422036312520504, 0.03724340721964836, 0.05728621780872345, 0.0, 0.0, 0.0, 0.0, 0.0, 0.0, 0.0, 0.0, 0.0, 0.0, 0.0], [0.6421852111816406, 0.04470771178603172, 0.03619060665369034, 0.033693235367536545, 0.03538418561220169, 0.036245666444301605, 0.038395438343286514, 0.036772649735212326, 0.04307190701365471, 0.053353384137153625, 0.0, 0.0, 0.0, 0.0, 0.0, 0.0, 0.0, 0.0, 0.0, 0.0], [0.6029022932052612, 0.04738334193825722, 0.03882082179188728, 0.03444084897637367, 0.03333220258355141, 0.036030687391757965, 0.0353042371571064, 0.03726806119084358, 0.041219551116228104, 0.04158550873398781, 0.05171246454119682, 0.0, 0.0, 0.0, 0.0, 0.0, 0.0, 0.0, 0.0, 0.0], [0.4410291612148285, 0.04432373121380806, 0.13537481427192688, 0.05146589130163193, 0.04420989751815796, 0.04242606833577156, 0.04198063910007477, 0.041000012308359146, 0.03645751625299454, 0.03748350590467453, 0.03592643141746521, 0.04832233861088753, 0.0, 0.0, 0.0, 0.0, 0.0, 0.0, 0.0, 0.0], [0.46378615498542786, 0.046172771602869034, 0.03560242801904678, 0.1130225658416748, 0.05403699725866318, 0.04388850927352905, 0.04128198325634003, 0.03450842201709747, 0.03528941795229912, 0.038879457861185074, 0.03201955184340477, 0.030202630907297134, 0.031309131532907486, 0.0, 0.0, 0.0, 0.0, 0.0, 0.0, 0.0], [0.45852741599082947, 0.046823564916849136, 0.0316360779106617, 0.02832856960594654, 0.12958282232284546, 0.05286337807774544, 0.042880527675151825, 0.037851735949516296, 0.03703322634100914, 0.03494386002421379, 0.030995631590485573, 0.027561703696846962, 0.01700887270271778, 0.023962585255503654, 0.0, 0.0, 0.0, 0.0, 0.0, 0.0], [0.48376286029815674, 0.04205736517906189, 0.031405095010995865, 0.024564512073993683, 0.028145376592874527, 0.11855299025774002, 0.05094965174794197, 0.03961414098739624, 0.03671352192759514, 0.038206797093153, 0.032576899975538254, 0.02410348877310753, 0.014190476387739182, 0.01266437117010355, 0.022492418065667152, 0.0, 0.0, 0.0, 0.0, 0.0], [0.47825852036476135, 0.04439878836274147, 0.026595938950777054, 0.0237262099981308, 0.026420606300234795, 0.026608392596244812, 0.11769791692495346, 0.051534734666347504, 0.04260058328509331, 0.03937458619475365, 0.035831551998853683, 0.028466926887631416, 0.013053888455033302, 0.01058365311473608, 0.011660650372505188, 0.023187069222331047, 0.0, 0.0, 0.0, 0.0], [0.4871830940246582, 0.041298676282167435, 0.030202899128198624, 0.023490270599722862, 0.026137255132198334, 0.025612225756049156, 0.023864079266786575, 0.1297556459903717, 0.045590031892061234, 0.03943002596497536, 0.03549427166581154, 0.026112746447324753, 0.01274125836789608, 0.010661429725587368, 0.010058389976620674, 0.0110583221539855, 0.021309401839971542, 0.0, 0.0, 0.0], [0.5209919214248657, 0.039197005331516266, 0.0254473015666008, 0.025120174512267113, 0.02424338087439537, 0.026440946385264397, 0.02424168586730957, 0.025688406080007553, 0.11164133995771408, 0.0433003306388855, 0.03854367882013321, 0.02379257045686245, 0.010897225700318813, 0.009756989777088165, 0.009966276586055756, 0.010813020169734955, 0.009539381600916386, 0.020378367975354195, 0.0, 0.0], [0.49539369344711304, 0.04573876038193703, 0.02623203955590725, 0.023726431652903557, 0.02613775059580803, 0.02521076612174511, 0.025379352271556854, 0.024597149342298508, 0.027380194514989853, 0.11364114284515381, 0.044472239911556244, 0.03311237320303917, 0.013583937659859657, 0.01030811108648777, 0.00976499728858471, 0.011338709853589535, 0.009588994085788727, 0.011311233043670654, 0.02308216318488121, 0.0], [0.481790155172348, 0.04763226956129074, 0.030549250543117523, 0.02460515685379505, 0.028483819216489792, 0.02833835780620575, 0.030018772929906845, 0.0266568623483181, 0.026081673800945282, 0.027371259406208992, 0.11887703835964203, 0.031672798097133636, 0.012972474098205566, 0.009686334989964962, 0.00988132506608963, 0.010482746176421642, 0.010429268702864647, 0.00972496997565031, 0.009888095781207085, 0.024857359007000923]], [[1.0, 0.0, 0.0, 0.0, 0.0, 0.0, 0.0, 0.0, 0.0, 0.0, 0.0, 0.0, 0.0, 0.0, 0.0, 0.0, 0.0, 0.0, 0.0, 0.0], [2.3447377316188067e-05, 0.9999765157699585, 0.0, 0.0, 0.0, 0.0, 0.0, 0.0, 0.0, 0.0, 0.0, 0.0, 0.0, 0.0, 0.0, 0.0, 0.0, 0.0, 0.0, 0.0], [3.1068957468960434e-05, 0.5149695873260498, 0.4849993884563446, 0.0, 0.0, 0.0, 0.0, 0.0, 0.0, 0.0, 0.0, 0.0, 0.0, 0.0, 0.0, 0.0, 0.0, 0.0, 0.0, 0.0], [3.340145849506371e-05, 0.2974781394004822, 0.3406757712364197, 0.3618127107620239, 0.0, 0.0, 0.0, 0.0, 0.0, 0.0, 0.0, 0.0, 0.0, 0.0, 0.0, 0.0, 0.0, 0.0, 0.0, 0.0], [2.980906174343545e-05, 0.2166571170091629, 0.20091679692268372, 0.2650674879550934, 0.3173288404941559, 0.0, 0.0, 0.0, 0.0, 0.0, 0.0, 0.0, 0.0, 0.0, 0.0, 0.0, 0.0, 0.0, 0.0, 0.0], [3.0447952667600475e-05, 0.17384573817253113, 0.15374834835529327, 0.16376528143882751, 0.22780561447143555, 0.2808046042919159, 0.0, 0.0, 0.0, 0.0, 0.0, 0.0, 0.0, 0.0, 0.0, 0.0, 0.0, 0.0, 0.0, 0.0], [3.657048728200607e-05, 0.1459924429655075, 0.12378492206335068, 0.1253063976764679, 0.1445719450712204, 0.19839492440223694, 0.2619127929210663, 0.0, 0.0, 0.0, 0.0, 0.0, 0.0, 0.0, 0.0, 0.0, 0.0, 0.0, 0.0, 0.0], [2.595737350929994e-05, 0.1216478943824768, 0.10267874598503113, 0.10232920944690704, 0.11348189413547516, 0.13649460673332214, 0.19123898446559906, 0.23210272192955017, 0.0, 0.0, 0.0, 0.0, 0.0, 0.0, 0.0, 0.0, 0.0, 0.0, 0.0, 0.0], [2.0756035155500285e-05, 0.10963685065507889, 0.08767126500606537, 0.09385471045970917, 0.09940575063228607, 0.10526731610298157, 0.12308499217033386, 0.16860726475715637, 0.21245110034942627, 0.0, 0.0, 0.0, 0.0, 0.0, 0.0, 0.0, 0.0, 0.0, 0.0, 0.0], [2.1963183826301247e-05, 0.09709528088569641, 0.07975862175226212, 0.07567863166332245, 0.08730664104223251, 0.08744333684444427, 0.09886061400175095, 0.10751601308584213, 0.1633012592792511, 0.20301765203475952, 0.0, 0.0, 0.0, 0.0, 0.0, 0.0, 0.0, 0.0, 0.0, 0.0], [1.654857987887226e-05, 0.08427002280950546, 0.0710362046957016, 0.0670173317193985, 0.07234226912260056, 0.07760030776262283, 0.0803249254822731, 0.08776538074016571, 0.1086815819144249, 0.1462417095899582, 0.2047037035226822, 0.0, 0.0, 0.0, 0.0, 0.0, 0.0, 0.0, 0.0, 0.0], [3.7437453102029394e-06, 0.08171550929546356, 0.07940634340047836, 0.0612633042037487, 0.061916533857584, 0.06597966700792313, 0.06617724150419235, 0.07193025201559067, 0.07621153444051743, 0.08821962028741837, 0.13433441519737244, 0.21284183859825134, 0.0, 0.0, 0.0, 0.0, 0.0, 0.0, 0.0, 0.0], [2.9029463348706486e-06, 0.07313232123851776, 0.04611888900399208, 0.06169959902763367, 0.05138399079442024, 0.054282091557979584, 0.05398106575012207, 0.058752015233039856, 0.06322139501571655, 0.07364226132631302, 0.08719819784164429, 0.15605591237545013, 0.22052933275699615, 0.0, 0.0, 0.0, 0.0, 0.0, 0.0, 0.0], [2.0464810859266436e-06, 0.05098685622215271, 0.04244481399655342, 0.035976484417915344, 0.06487265229225159, 0.05167287960648537, 0.050145238637924194, 0.05189424008131027, 0.055745143443346024, 0.05930342897772789, 0.07038766145706177, 0.11660965532064438, 0.11072204262018204, 0.23923687636852264, 0.0, 0.0, 0.0, 0.0, 0.0, 0.0], [2.6713405532063916e-06, 0.0421094112098217, 0.029970485717058182, 0.036076147109270096, 0.037789713591337204, 0.06243009865283966, 0.04872879013419151, 0.049493417143821716, 0.052156828343868256, 0.057118505239486694, 0.0670764148235321, 0.09685898572206497, 0.08281801640987396, 0.08463986963033676, 0.2527306377887726, 0.0, 0.0, 0.0, 0.0, 0.0], [3.748695917238365e-06, 0.03810005262494087, 0.027735499665141106, 0.029038339853286743, 0.03875872120261192, 0.03852051496505737, 0.06448767334222794, 0.05478071793913841, 0.05586082488298416, 0.054423194378614426, 0.06251762062311172, 0.0886697918176651, 0.06923845410346985, 0.06581902503967285, 0.07597541064023972, 0.2360704094171524, 0.0, 0.0, 0.0, 0.0], [3.1245242553268326e-06, 0.03207551687955856, 0.024405935779213905, 0.023787815123796463, 0.0296161025762558, 0.039989180862903595, 0.03709960728883743, 0.06647256761789322, 0.05721227824687958, 0.05609390512108803, 0.06131460517644882, 0.07626095414161682, 0.05968229100108147, 0.05899110808968544, 0.05825994908809662, 0.07821352779865265, 0.24052155017852783, 0.0, 0.0, 0.0], [3.884090347128222e-06, 0.028978858143091202, 0.021373379975557327, 0.0207847710698843, 0.027086060494184494, 0.03091089241206646, 0.04066750407218933, 0.0402081124484539, 0.07082100212574005, 0.056706663221120834, 0.057206857949495316, 0.06954766809940338, 0.05748463049530983, 0.04963066428899765, 0.05584914982318878, 0.05791716277599335, 0.07586315274238586, 0.23895961046218872, 0.0, 0.0], [4.001724391855532e-06, 0.029313698410987854, 0.019603898748755455, 0.021389106288552284, 0.023996492847800255, 0.027109485119581223, 0.03297790512442589, 0.045248597860336304, 0.044300418347120285, 0.07103537023067474, 0.06625950336456299, 0.07235221564769745, 0.05356207862496376, 0.05193452909588814, 0.04667522758245468, 0.0490649938583374, 0.05689668282866478, 0.06558435410261154, 0.22269144654273987, 0.0], [5.416327894636197e-06, 0.029142381623387337, 0.02001968026161194, 0.02030760794878006, 0.026416955515742302, 0.02697557397186756, 0.032756853848695755, 0.037479501217603683, 0.04887049272656441, 0.046773556619882584, 0.08711685240268707, 0.07045461237430573, 0.05134294927120209, 0.04106075316667557, 0.045941051095724106, 0.047041915357112885, 0.047140851616859436, 0.05380978062748909, 0.057736873626708984, 0.2096063494682312]], [[1.0, 0.0, 0.0, 0.0, 0.0, 0.0, 0.0, 0.0, 0.0, 0.0, 0.0, 0.0, 0.0, 0.0, 0.0, 0.0, 0.0, 0.0, 0.0, 0.0], [0.9640501737594604, 0.035949837416410446, 0.0, 0.0, 0.0, 0.0, 0.0, 0.0, 0.0, 0.0, 0.0, 0.0, 0.0, 0.0, 0.0, 0.0, 0.0, 0.0, 0.0, 0.0], [0.9103455543518066, 0.04181165248155594, 0.047842882573604584, 0.0, 0.0, 0.0, 0.0, 0.0, 0.0, 0.0, 0.0, 0.0, 0.0, 0.0, 0.0, 0.0, 0.0, 0.0, 0.0, 0.0], [0.8523880839347839, 0.05360151082277298, 0.0468781478703022, 0.04713219776749611, 0.0, 0.0, 0.0, 0.0, 0.0, 0.0, 0.0, 0.0, 0.0, 0.0, 0.0, 0.0, 0.0, 0.0, 0.0, 0.0], [0.7929311394691467, 0.05999753996729851, 0.05048792436718941, 0.04651009291410446, 0.050073377788066864, 0.0, 0.0, 0.0, 0.0, 0.0, 0.0, 0.0, 0.0, 0.0, 0.0, 0.0, 0.0, 0.0, 0.0, 0.0], [0.7463984489440918, 0.05785268545150757, 0.04933293163776398, 0.04845564067363739, 0.05014462023973465, 0.047815676778554916, 0.0, 0.0, 0.0, 0.0, 0.0, 0.0, 0.0, 0.0, 0.0, 0.0, 0.0, 0.0, 0.0, 0.0], [0.6830910444259644, 0.061234649270772934, 0.052756085991859436, 0.05031546950340271, 0.05296238884329796, 0.05203499272465706, 0.04760538041591644, 0.0, 0.0, 0.0, 0.0, 0.0, 0.0, 0.0, 0.0, 0.0, 0.0, 0.0, 0.0, 0.0], [0.6394158005714417, 0.06284265965223312, 0.04963534325361252, 0.05063112452626228, 0.052328016608953476, 0.05007261410355568, 0.047386884689331055, 0.04768756777048111, 0.0, 0.0, 0.0, 0.0, 0.0, 0.0, 0.0, 0.0, 0.0, 0.0, 0.0, 0.0], [0.5846911668777466, 0.06780417263507843, 0.051234882324934006, 0.04878566041588783, 0.05165833234786987, 0.05145281180739403, 0.04893819987773895, 0.046120911836624146, 0.049313876777887344, 0.0, 0.0, 0.0, 0.0, 0.0, 0.0, 0.0, 0.0, 0.0, 0.0, 0.0], [0.5511985421180725, 0.06610091030597687, 0.05047731101512909, 0.04801400750875473, 0.05154813826084137, 0.047157417982816696, 0.04470629245042801, 0.04920979216694832, 0.045177362859249115, 0.046410225331783295, 0.0, 0.0, 0.0, 0.0, 0.0, 0.0, 0.0, 0.0, 0.0, 0.0], [0.5097119808197021, 0.06657090038061142, 0.05073674023151398, 0.046461980789899826, 0.04833807051181793, 0.04456574097275734, 0.04483652859926224, 0.04441218450665474, 0.05002289637923241, 0.04767950624227524, 0.04666341468691826, 0.0, 0.0, 0.0, 0.0, 0.0, 0.0, 0.0, 0.0, 0.0], [0.15829551219940186, 0.04705144837498665, 0.3197314739227295, 0.07374045252799988, 0.06323666870594025, 0.05367827042937279, 0.05361930653452873, 0.047001004219055176, 0.04763870686292648, 0.04448654130101204, 0.04269684851169586, 0.04882378131151199, 0.0, 0.0, 0.0, 0.0, 0.0, 0.0, 0.0, 0.0], [0.14627081155776978, 0.05432141572237015, 0.03593955561518669, 0.3400663435459137, 0.07949337363243103, 0.056470345705747604, 0.051363807171583176, 0.04524102061986923, 0.04752540588378906, 0.04272192344069481, 0.04037120193243027, 0.03630755469202995, 0.023907244205474854, 0.0, 0.0, 0.0, 0.0, 0.0, 0.0, 0.0], [0.13916225731372833, 0.046625394374132156, 0.030396047979593277, 0.03055505082011223, 0.37929654121398926, 0.07436911016702652, 0.05545385926961899, 0.04918802157044411, 0.043499331921339035, 0.046620577573776245, 0.03910099342465401, 0.03202205151319504, 0.014380079694092274, 0.01933070831000805, 0.0, 0.0, 0.0, 0.0, 0.0, 0.0], [0.14336742460727692, 0.04800285026431084, 0.033572956919670105, 0.027991238981485367, 0.0317847914993763, 0.37532174587249756, 0.07208716124296188, 0.050297439098358154, 0.04975482076406479, 0.045206330716609955, 0.047179099172353745, 0.032713595777750015, 0.013257679529488087, 0.012692846357822418, 0.016770014539361, 0.0, 0.0, 0.0, 0.0, 0.0], [0.151699498295784, 0.04887925088405609, 0.028297554701566696, 0.028044382110238075, 0.027568643912672997, 0.030347302556037903, 0.3778632879257202, 0.06423825025558472, 0.05418192595243454, 0.05069650709629059, 0.052170827984809875, 0.03318088874220848, 0.012490522116422653, 0.011612510308623314, 0.01000556256622076, 0.018723096698522568, 0.0, 0.0, 0.0, 0.0], [0.1458263099193573, 0.04435190558433533, 0.029682353138923645, 0.02873045951128006, 0.03187640383839607, 0.027643898501992226, 0.030000314116477966, 0.3824111819267273, 0.07752113044261932, 0.052892979234457016, 0.05678106099367142, 0.033527445048093796, 0.011631549336016178, 0.009611743502318859, 0.009628498926758766, 0.010856667533516884, 0.017026076093316078, 0.0, 0.0, 0.0], [0.15746726095676422, 0.04307929426431656, 0.02741125598549843, 0.02806054800748825, 0.030835477635264397, 0.029720576480031013, 0.027738744392991066, 0.028886279091238976, 0.39970874786376953, 0.07139991223812103, 0.05810470134019852, 0.03327344357967377, 0.010072857141494751, 0.009822151623666286, 0.009546491317451, 0.009484576992690563, 0.009997138753533363, 0.01539057120680809, 0.0, 0.0], [0.16938519477844238, 0.04943752661347389, 0.031629979610443115, 0.028261255472898483, 0.03232891485095024, 0.02663194015622139, 0.028525955975055695, 0.027771104127168655, 0.032376665621995926, 0.3824419677257538, 0.07120832055807114, 0.03847507759928703, 0.012828699313104153, 0.010344106703996658, 0.009816478937864304, 0.009538869373500347, 0.009274286217987537, 0.009969377890229225, 0.01975427381694317, 0.0], [0.1670483499765396, 0.057169921696186066, 0.0328836627304554, 0.028256487101316452, 0.02862664684653282, 0.03261242061853409, 0.028983259573578835, 0.030660392716526985, 0.03128707781434059, 0.029912874102592468, 0.39912527799606323, 0.044129546731710434, 0.013663727790117264, 0.00995255634188652, 0.009049711748957634, 0.008996330201625824, 0.008449232205748558, 0.008909681811928749, 0.011250650510191917, 0.019032226875424385]], [[1.0, 0.0, 0.0, 0.0, 0.0, 0.0, 0.0, 0.0, 0.0, 0.0, 0.0, 0.0, 0.0, 0.0, 0.0, 0.0, 0.0, 0.0, 0.0, 0.0], [0.935066819190979, 0.06493323296308517, 0.0, 0.0, 0.0, 0.0, 0.0, 0.0, 0.0, 0.0, 0.0, 0.0, 0.0, 0.0, 0.0, 0.0, 0.0, 0.0, 0.0, 0.0], [0.8590608835220337, 0.06533020734786987, 0.07560892403125763, 0.0, 0.0, 0.0, 0.0, 0.0, 0.0, 0.0, 0.0, 0.0, 0.0, 0.0, 0.0, 0.0, 0.0, 0.0, 0.0, 0.0], [0.8181254863739014, 0.04941663518548012, 0.05512634664773941, 0.07733148336410522, 0.0, 0.0, 0.0, 0.0, 0.0, 0.0, 0.0, 0.0, 0.0, 0.0, 0.0, 0.0, 0.0, 0.0, 0.0, 0.0], [0.7909451723098755, 0.04539690539240837, 0.04034818708896637, 0.05314704775810242, 0.07016269117593765, 0.0, 0.0, 0.0, 0.0, 0.0, 0.0, 0.0, 0.0, 0.0, 0.0, 0.0, 0.0, 0.0, 0.0, 0.0], [0.7660884857177734, 0.03852185234427452, 0.03349877521395683, 0.038122598081827164, 0.05434761196374893, 0.06942067295312881, 0.0, 0.0, 0.0, 0.0, 0.0, 0.0, 0.0, 0.0, 0.0, 0.0, 0.0, 0.0, 0.0, 0.0], [0.7391200065612793, 0.03819391876459122, 0.02829505130648613, 0.0359901487827301, 0.03970703110098839, 0.05513479560613632, 0.06355907022953033, 0.0, 0.0, 0.0, 0.0, 0.0, 0.0, 0.0, 0.0, 0.0, 0.0, 0.0, 0.0, 0.0], [0.7137441039085388, 0.03661864250898361, 0.024138977751135826, 0.03027055412530899, 0.03294499218463898, 0.0400519073009491, 0.05704961344599724, 0.06518122553825378, 0.0, 0.0, 0.0, 0.0, 0.0, 0.0, 0.0, 0.0, 0.0, 0.0, 0.0, 0.0], [0.7088991403579712, 0.03574804216623306, 0.02361525595188141, 0.024555573239922523, 0.027225682511925697, 0.030437247827649117, 0.04022291302680969, 0.04644804075360298, 0.06284807622432709, 0.0, 0.0, 0.0, 0.0, 0.0, 0.0, 0.0, 0.0, 0.0, 0.0, 0.0], [0.7162359952926636, 0.0299701988697052, 0.01935691200196743, 0.021489642560482025, 0.024316435679793358, 0.025068847462534904, 0.02767803519964218, 0.03399268165230751, 0.04839148744940758, 0.05349980294704437, 0.0, 0.0, 0.0, 0.0, 0.0, 0.0, 0.0, 0.0, 0.0, 0.0], [0.7012125253677368, 0.0292679313570261, 0.020169133320450783, 0.023007120937108994, 0.02127237431704998, 0.021630125120282173, 0.023120881989598274, 0.025293022394180298, 0.034362077713012695, 0.04409635439515114, 0.056568443775177, 0.0, 0.0, 0.0, 0.0, 0.0, 0.0, 0.0, 0.0, 0.0], [0.4072454273700714, 0.02659616619348526, 0.3401843011379242, 0.029539648443460464, 0.020207509398460388, 0.019425516948103905, 0.01756715215742588, 0.019543681293725967, 0.019848940894007683, 0.020569996908307076, 0.03563230484724045, 0.0436394140124321, 0.0, 0.0, 0.0, 0.0, 0.0, 0.0, 0.0, 0.0], [0.3737695515155792, 0.02426074631512165, 0.010573029518127441, 0.4226442277431488, 0.021560048684477806, 0.017611674964427948, 0.01858176849782467, 0.013026933185756207, 0.014778482727706432, 0.01613347977399826, 0.020103733986616135, 0.021865887567400932, 0.025090454146265984, 0.0, 0.0, 0.0, 0.0, 0.0, 0.0, 0.0], [0.3835156559944153, 0.013633315451443195, 0.009096659719944, 0.008205708116292953, 0.4418083131313324, 0.02333088219165802, 0.016045616939663887, 0.011872769333422184, 0.013479861430823803, 0.01266956701874733, 0.01737840101122856, 0.013201182708144188, 0.013373923487961292, 0.0223881583660841, 0.0, 0.0, 0.0, 0.0, 0.0, 0.0], [0.3895808458328247, 0.012716744095087051, 0.007654187269508839, 0.008451937697827816, 0.00707661546766758, 0.4484518766403198, 0.018269922584295273, 0.014149131253361702, 0.011996537446975708, 0.01304374635219574, 0.015733547508716583, 0.01311896089464426, 0.009324053302407265, 0.01009388454258442, 0.02033800072968006, 0.0, 0.0, 0.0, 0.0, 0.0], [0.35550928115844727, 0.012176092714071274, 0.006485853344202042, 0.007731405086815357, 0.00743626756593585, 0.0056722513400018215, 0.48623228073120117, 0.019409025087952614, 0.014444657601416111, 0.01365372072905302, 0.014367686584591866, 0.011856653727591038, 0.007304457016289234, 0.009719411842525005, 0.009030617773532867, 0.018970318138599396, 0.0, 0.0, 0.0, 0.0], [0.3502752482891083, 0.010390606708824635, 0.005921649746596813, 0.005323350895196199, 0.006127850152552128, 0.0069981231354177, 0.005041326861828566, 0.5054314136505127, 0.01880442351102829, 0.014353015460073948, 0.012172393500804901, 0.010943475179374218, 0.006911435164511204, 0.0065894476138055325, 0.008023444563150406, 0.008560861460864544, 0.018131950870156288, 0.0, 0.0, 0.0], [0.37944281101226807, 0.010281483642756939, 0.005969440098851919, 0.005438516847789288, 0.006385305896401405, 0.005705173127353191, 0.00580240786075592, 0.006402215454727411, 0.4779595136642456, 0.01806442253291607, 0.014968715608119965, 0.010177933610975742, 0.006752480287104845, 0.006048301700502634, 0.007357205729931593, 0.0074600945226848125, 0.00825240183621645, 0.01753157190978527, 0.0, 0.0], [0.3377390503883362, 0.01136009581387043, 0.00544750364497304, 0.0049308533780276775, 0.006137142889201641, 0.005369572900235653, 0.005940642673522234, 0.007893175818026066, 0.00554294278845191, 0.5143100619316101, 0.021795250475406647, 0.011090005747973919, 0.00668518478050828, 0.006538631394505501, 0.00711932172998786, 0.006675611715763807, 0.00733821140602231, 0.009198791347444057, 0.018887965008616447, 0.0], [0.32778799533843994, 0.01565585285425186, 0.006762647535651922, 0.0051619745790958405, 0.006813358515501022, 0.00806648749858141, 0.006826058030128479, 0.009481733664870262, 0.010046225041151047, 0.007009793538600206, 0.5024117827415466, 0.015718311071395874, 0.008063425309956074, 0.0061976108700037, 0.007959792390465736, 0.008211970329284668, 0.008428845554590225, 0.009119803085923195, 0.010503217577934265, 0.019773146137595177]], [[1.0, 0.0, 0.0, 0.0, 0.0, 0.0, 0.0, 0.0, 0.0, 0.0, 0.0, 0.0, 0.0, 0.0, 0.0, 0.0, 0.0, 0.0, 0.0, 0.0], [0.9128056168556213, 0.0871943011879921, 0.0, 0.0, 0.0, 0.0, 0.0, 0.0, 0.0, 0.0, 0.0, 0.0, 0.0, 0.0, 0.0, 0.0, 0.0, 0.0, 0.0, 0.0], [0.8097770810127258, 0.11369113624095917, 0.076531782746315, 0.0, 0.0, 0.0, 0.0, 0.0, 0.0, 0.0, 0.0, 0.0, 0.0, 0.0, 0.0, 0.0, 0.0, 0.0, 0.0, 0.0], [0.7586036920547485, 0.08651963621377945, 0.08311925828456879, 0.07175736129283905, 0.0, 0.0, 0.0, 0.0, 0.0, 0.0, 0.0, 0.0, 0.0, 0.0, 0.0, 0.0, 0.0, 0.0, 0.0, 0.0], [0.717648983001709, 0.07248352468013763, 0.0648449957370758, 0.07985296845436096, 0.065169557929039, 0.0, 0.0, 0.0, 0.0, 0.0, 0.0, 0.0, 0.0, 0.0, 0.0, 0.0, 0.0, 0.0, 0.0, 0.0], [0.6828532218933105, 0.06312940269708633, 0.0560111366212368, 0.061978939920663834, 0.07691080868244171, 0.059116508811712265, 0.0, 0.0, 0.0, 0.0, 0.0, 0.0, 0.0, 0.0, 0.0, 0.0, 0.0, 0.0, 0.0, 0.0], [0.6508078575134277, 0.058262232691049576, 0.04778648912906647, 0.05429518595337868, 0.05602593719959259, 0.07711808383464813, 0.05570428445935249, 0.0, 0.0, 0.0, 0.0, 0.0, 0.0, 0.0, 0.0, 0.0, 0.0, 0.0, 0.0, 0.0], [0.6195143461227417, 0.05486692488193512, 0.04344482347369194, 0.04909515753388405, 0.05150638148188591, 0.05403304845094681, 0.0733807161450386, 0.05415862053632736, 0.0, 0.0, 0.0, 0.0, 0.0, 0.0, 0.0, 0.0, 0.0, 0.0, 0.0, 0.0], [0.5930789709091187, 0.05151122435927391, 0.04149482771754265, 0.04203880578279495, 0.04693402722477913, 0.04593604430556297, 0.056821949779987335, 0.0657193511724472, 0.05646481737494469, 0.0, 0.0, 0.0, 0.0, 0.0, 0.0, 0.0, 0.0, 0.0, 0.0, 0.0], [0.6029950380325317, 0.04470847547054291, 0.03996704891324043, 0.03759459778666496, 0.040186136960983276, 0.04009293019771576, 0.04481710493564606, 0.04249108210206032, 0.05981867387890816, 0.04732891917228699, 0.0, 0.0, 0.0, 0.0, 0.0, 0.0, 0.0, 0.0, 0.0, 0.0], [0.5708150863647461, 0.04485395550727844, 0.03570139408111572, 0.03596307709813118, 0.03751073777675629, 0.03717963770031929, 0.04004254192113876, 0.03643582761287689, 0.04789050295948982, 0.06453216820955276, 0.04907508194446564, 0.0, 0.0, 0.0, 0.0, 0.0, 0.0, 0.0, 0.0, 0.0], [0.3262617290019989, 0.04725125432014465, 0.08199437707662582, 0.06713353097438812, 0.05811481922864914, 0.05635707080364227, 0.05636565759778023, 0.052690327167510986, 0.060968514531850815, 0.06480187922716141, 0.0901460275053978, 0.03791484236717224, 0.0, 0.0, 0.0, 0.0, 0.0, 0.0, 0.0, 0.0], [0.29849326610565186, 0.06696019321680069, 0.03346499800682068, 0.08667858690023422, 0.0645923838019371, 0.05646036937832832, 0.05709455907344818, 0.053549401462078094, 0.060233280062675476, 0.060840021818876266, 0.07762537151575089, 0.04184389114379883, 0.0421636737883091, 0.0, 0.0, 0.0, 0.0, 0.0, 0.0, 0.0], [0.30847087502479553, 0.057008981704711914, 0.049768947064876556, 0.030835796147584915, 0.08930131047964096, 0.05957574397325516, 0.05689738318324089, 0.04878763109445572, 0.06147401034832001, 0.060977887362241745, 0.06484013050794601, 0.03925338014960289, 0.03168433904647827, 0.04112357646226883, 0.0, 0.0, 0.0, 0.0, 0.0, 0.0], [0.3278282582759857, 0.05123007297515869, 0.03988869488239288, 0.0409398078918457, 0.029004652053117752, 0.07539759576320648, 0.06106537580490112, 0.048569850623607635, 0.0571795217692852, 0.05772316828370094, 0.0661577358841896, 0.03484616056084633, 0.03211440518498421, 0.036453261971473694, 0.041601430624723434, 0.0, 0.0, 0.0, 0.0, 0.0], [0.3088255226612091, 0.05284024029970169, 0.0337163507938385, 0.03682413697242737, 0.04063824564218521, 0.027792686596512794, 0.08521993458271027, 0.05476987734436989, 0.0627661794424057, 0.060630809515714645, 0.06256231665611267, 0.03092571161687374, 0.028907598927617073, 0.029825862497091293, 0.03698097541928291, 0.04677357152104378, 0.0, 0.0, 0.0, 0.0], [0.33198025822639465, 0.04710673913359642, 0.03352057561278343, 0.030381757766008377, 0.03202173113822937, 0.03749210014939308, 0.02720005437731743, 0.08337835222482681, 0.0647316724061966, 0.05648677051067352, 0.060626547783613205, 0.029639767482876778, 0.025080494582653046, 0.03402793034911156, 0.030395058915019035, 0.03650438413023949, 0.03942578658461571, 0.0, 0.0, 0.0], [0.35024967789649963, 0.043097224086523056, 0.028051448985934258, 0.027715055271983147, 0.029873300343751907, 0.02874172478914261, 0.03778819739818573, 0.027325749397277832, 0.08698664605617523, 0.05762132629752159, 0.05967392399907112, 0.027906939387321472, 0.022444389760494232, 0.02451218292117119, 0.031989168375730515, 0.03703128173947334, 0.039778467267751694, 0.039213307201862335, 0.0, 0.0], [0.3329217731952667, 0.04598952829837799, 0.028831984847784042, 0.02922135777771473, 0.03008873388171196, 0.029572170227766037, 0.03335227817296982, 0.03889123722910881, 0.032861921936273575, 0.09040199220180511, 0.06869864463806152, 0.0324043333530426, 0.022328099235892296, 0.027106178924441338, 0.0293439794331789, 0.031935952603816986, 0.027388188987970352, 0.02892782911658287, 0.03973384201526642, 0.0], [0.3217964172363281, 0.04735540598630905, 0.029817435890436172, 0.027719195932149887, 0.02708425000309944, 0.03134504333138466, 0.032868340611457825, 0.035763271152973175, 0.04442612826824188, 0.030504154041409492, 0.09796743094921112, 0.03246671333909035, 0.023017490282654762, 0.02329404652118683, 0.025493009015917778, 0.03226959705352783, 0.0319657027721405, 0.035810742527246475, 0.028684649616479874, 0.040350962430238724]]], \"tokens\": [\"<|endoftext|>\", \" Method\", \" adjustable\", \" amassed\", \" although\", \" Pets\", \" obstruct\", \"enth\", \" quo\", \"eking\", \" Saber\", \" Method\", \" adjustable\", \" amassed\", \" although\", \" Pets\", \" obstruct\", \"enth\", \" quo\", \"eking\"]}\n",
              "    )\n",
              "    </script>"
            ],
            "text/plain": [
              "<circuitsvis.utils.render.RenderedHTML at 0x7f66c439d490>"
            ]
          },
          "metadata": {},
          "output_type": "display_data"
        }
      ],
      "source": [
        "stare_at_attention_and_head_pat(clean_cache,11,0\n",
        "                                , display_corrupted_text = False, verbose = True, specific = False, specific_index = 0)"
      ]
    },
    {
      "cell_type": "markdown",
      "metadata": {},
      "source": []
    },
    {
      "cell_type": "code",
      "execution_count": 408,
      "metadata": {},
      "outputs": [
        {
          "name": "stdout",
          "output_type": "stream",
          "text": [
            "IOI metric (IOI dataset): 0.0000\n",
            "IOI metric (ABC dataset): -1.0000\n",
            "IOI metric (IOI dataset): 1.0000\n",
            "IOI metric (ABC dataset): 0.0000\n"
          ]
        }
      ],
      "source": [
        "def noising_ioi_metric(\n",
        "    logits: Float[Tensor, \"batch seq d_vocab\"],\n",
        "    clean_logit_diff: float = clean_average_logit_diff,\n",
        "    corrupted_logit_diff: float = corrupted_average_logit_diff,\n",
        ") -> float:\n",
        "    '''\n",
        "    Given logits, returns how much the performance has been corrupted due to noising.\n",
        "\n",
        "    We calibrate this so that the value is 0 when performance isn't harmed (i.e. same as IOI dataset),\n",
        "    and -1 when performance has been destroyed (i.e. is same as ABC dataset).\n",
        "    '''\n",
        "    #print(logits[-1, -1])\n",
        "    patched_logit_diff = logits_to_ave_logit_diff(logits)\n",
        "    return ((patched_logit_diff - clean_logit_diff) / (clean_logit_diff - corrupted_logit_diff)).item()\n",
        "\n",
        "print(f\"IOI metric (IOI dataset): {noising_ioi_metric(clean_logits):.4f}\")\n",
        "print(f\"IOI metric (ABC dataset): {noising_ioi_metric(corrupted_logits):.4f}\")\n",
        "\n",
        "def denoising_ioi_metric(\n",
        "    logits: Float[Tensor, \"batch seq d_vocab\"],\n",
        "    clean_logit_diff: float = clean_average_logit_diff,\n",
        "    corrupted_logit_diff: float = corrupted_average_logit_diff,\n",
        ") -> float:\n",
        "    '''\n",
        "    We calibrate this so that the value is 1 when performance got restored (i.e. same as IOI dataset),\n",
        "    and 0 when performance has been destroyed (i.e. is same as ABC dataset).\n",
        "    '''\n",
        "    patched_logit_diff = logits_to_ave_logit_diff(logits)\n",
        "    return ((patched_logit_diff - clean_logit_diff) / (clean_logit_diff - corrupted_logit_diff) + 1).item()\n",
        "\n",
        "\n",
        "print(f\"IOI metric (IOI dataset): {denoising_ioi_metric(clean_logits):.4f}\")\n",
        "print(f\"IOI metric (ABC dataset): {denoising_ioi_metric(corrupted_logits):.4f}\")"
      ]
    },
    {
      "cell_type": "code",
      "execution_count": 409,
      "metadata": {},
      "outputs": [],
      "source": [
        "def path_patch_to_head(layer, head, noisily = True):\n",
        "  head_results = []\n",
        "\n",
        "  if noisily:\n",
        "    for i in [\"q\", \"k\", \"v\", \"pattern\"]:\n",
        "      model.reset_hooks() # callum library buggy\n",
        "      head_results.append(path_patch(\n",
        "          model,\n",
        "          orig_input=clean_tokens,\n",
        "          new_input=corrupted_tokens,\n",
        "          sender_nodes=IterNode(\"z\"),\n",
        "          receiver_nodes=[Node(i, layer = layer, head = head)],\n",
        "          patching_metric=noising_ioi_metric,\n",
        "      )['z'])\n",
        "  else:\n",
        "    for i in [\"q\", \"k\", \"v\", \"pattern\"]:\n",
        "      model.reset_hooks() # callum library buggy\n",
        "      head_results.append(path_patch(\n",
        "          model,\n",
        "          orig_input=corrupted_tokens,\n",
        "          new_input=clean_tokens,\n",
        "          sender_nodes=IterNode(\"z\"),\n",
        "          receiver_nodes=[Node(i, layer = layer, head = head)],\n",
        "          patching_metric=denoising_ioi_metric,\n",
        "      )['z'])\n",
        "\n",
        "\n",
        "  return head_results"
      ]
    },
    {
      "cell_type": "code",
      "execution_count": 410,
      "metadata": {},
      "outputs": [],
      "source": [
        "# all_path_patch_results = {}"
      ]
    },
    {
      "cell_type": "code",
      "execution_count": 411,
      "metadata": {},
      "outputs": [],
      "source": [
        "# for head in range(12):\n",
        "#     layer = 10\n",
        "#     results = path_patch_to_head(layer, head)\n",
        "#     all_path_patch_results[f\"{layer}_{head}_noisy\"] = results"
      ]
    },
    {
      "cell_type": "code",
      "execution_count": 438,
      "metadata": {},
      "outputs": [
        {
          "data": {
            "application/vnd.jupyter.widget-view+json": {
              "model_id": "fc12b13d670f49cbb2d99b69aa07178b",
              "version_major": 2,
              "version_minor": 0
            },
            "text/plain": [
              "  0%|          | 0/144 [00:00<?, ?it/s]"
            ]
          },
          "metadata": {},
          "output_type": "display_data"
        },
        {
          "data": {
            "application/vnd.jupyter.widget-view+json": {
              "model_id": "3e97175be262481da8d7aad62edea169",
              "version_major": 2,
              "version_minor": 0
            },
            "text/plain": [
              "  0%|          | 0/144 [00:00<?, ?it/s]"
            ]
          },
          "metadata": {},
          "output_type": "display_data"
        },
        {
          "data": {
            "application/vnd.jupyter.widget-view+json": {
              "model_id": "928d14fde8dc4069ab9e43a6ca2395c4",
              "version_major": 2,
              "version_minor": 0
            },
            "text/plain": [
              "  0%|          | 0/144 [00:00<?, ?it/s]"
            ]
          },
          "metadata": {},
          "output_type": "display_data"
        },
        {
          "data": {
            "application/vnd.jupyter.widget-view+json": {
              "model_id": "40f3357a29a54c389667c53b69bb4a8e",
              "version_major": 2,
              "version_minor": 0
            },
            "text/plain": [
              "  0%|          | 0/144 [00:00<?, ?it/s]"
            ]
          },
          "metadata": {},
          "output_type": "display_data"
        },
        {
          "data": {
            "application/vnd.plotly.v1+json": {
              "config": {
                "plotlyServerURL": "https://plot.ly"
              },
              "data": [
                {
                  "coloraxis": "coloraxis",
                  "hovertemplate": "Head: %{x}<br>Layer: %{y}<br>Percent Negative Degretation: %{z}<extra></extra>",
                  "name": "0",
                  "type": "heatmap",
                  "xaxis": "x",
                  "yaxis": "y",
                  "z": [
                    [
                      2.5696613788604736,
                      2.5702311992645264,
                      2.5679771900177,
                      2.5698277950286865,
                      2.570180892944336,
                      2.570180892944336,
                      2.572571039199829,
                      2.5701706409454346,
                      2.569873332977295,
                      2.586090326309204,
                      2.5659701824188232,
                      2.56661057472229
                    ],
                    [
                      2.5680277347564697,
                      2.568713426589966,
                      2.569606065750122,
                      2.5689504146575928,
                      2.5684564113616943,
                      2.5675387382507324,
                      2.570190906524658,
                      2.5737006664276123,
                      2.569020986557007,
                      2.570896863937378,
                      2.5709221363067627,
                      2.5701656341552734
                    ],
                    [
                      2.5683352947235107,
                      2.570962429046631,
                      2.570211172103882,
                      2.5696969032287598,
                      2.569943904876709,
                      2.5713155269622803,
                      2.571340560913086,
                      2.5695455074310303,
                      2.5702717304229736,
                      2.5694093704223633,
                      2.5660812854766846,
                      2.5697624683380127
                    ],
                    [
                      2.570004463195801,
                      2.566171884536743,
                      2.570962429046631,
                      2.570422887802124,
                      2.560307502746582,
                      2.5701000690460205,
                      2.5710432529449463,
                      2.569121837615967,
                      2.5696563720703125,
                      2.5710885524749756,
                      2.5787434577941895,
                      2.567523241043091
                    ],
                    [
                      2.569913625717163,
                      2.5709071159362793,
                      2.5699286460876465,
                      2.5711591243743896,
                      2.5648913383483887,
                      2.569439649581909,
                      2.563141345977783,
                      2.5739829540252686,
                      2.5648508071899414,
                      2.5681941509246826,
                      2.5702567100524902,
                      2.573695659637451
                    ],
                    [
                      2.569701910018921,
                      2.5657989978790283,
                      2.5693740844726562,
                      2.5645735263824463,
                      2.5713155269622803,
                      2.5749764442443848,
                      2.571512222290039,
                      2.570080041885376,
                      2.5662777423858643,
                      2.5585577487945557,
                      2.571572780609131,
                      2.5669384002685547
                    ],
                    [
                      2.569903612136841,
                      2.5721776485443115,
                      2.565657615661621,
                      2.562087297439575,
                      2.5779263973236084,
                      2.5626673698425293,
                      2.577880859375,
                      2.5666913986206055,
                      2.5694196224212646,
                      2.5717086791992188,
                      2.564805269241333,
                      2.5672459602355957
                    ],
                    [
                      2.5870232582092285,
                      2.4818289279937744,
                      2.5655667781829834,
                      2.5395772457122803,
                      2.5610134601593018,
                      2.5677754878997803,
                      2.66314697265625,
                      2.2326722145080566,
                      2.5685319900512695,
                      2.5856516361236572,
                      2.568552017211914,
                      2.5727627277374268
                    ],
                    [
                      2.5430614948272705,
                      2.5759496688842773,
                      2.5951671600341797,
                      2.560166358947754,
                      2.571683645248413,
                      2.58040714263916,
                      2.5515382289886475,
                      2.5546648502349854,
                      2.5900487899780273,
                      2.4148526191711426,
                      2.653989553451538,
                      2.572636604309082
                    ],
                    [
                      2.6026101112365723,
                      2.568037748336792,
                      2.610300064086914,
                      2.587406635284424,
                      2.549576759338379,
                      2.5901546478271484,
                      2.59997296333313,
                      2.571214437484741,
                      2.584038019180298,
                      2.5760605335235596,
                      2.566847801208496,
                      2.575147867202759
                    ],
                    [
                      2.649123430252075,
                      2.578597068786621,
                      2.5689353942871094,
                      2.563852548599243,
                      2.5759849548339844,
                      2.559359312057495,
                      2.596770763397217,
                      2.5701255798339844,
                      2.558910608291626,
                      2.5735342502593994,
                      2.578077554702759,
                      2.5674076080322266
                    ],
                    [
                      2.570180892944336,
                      2.570180892944336,
                      2.570180892944336,
                      2.570180892944336,
                      2.570180892944336,
                      2.570180892944336,
                      2.570180892944336,
                      2.570180892944336,
                      2.570180892944336,
                      2.570180892944336,
                      2.570180892944336,
                      2.570180892944336
                    ]
                  ]
                },
                {
                  "coloraxis": "coloraxis",
                  "hovertemplate": "Head: %{x}<br>Layer: %{y}<br>Percent Negative Degretation: %{z}<extra></extra>",
                  "name": "1",
                  "type": "heatmap",
                  "xaxis": "x2",
                  "yaxis": "y2",
                  "z": [
                    [
                      2.5728988647460938,
                      2.5529754161834717,
                      2.572813034057617,
                      2.565108060836792,
                      2.570493459701538,
                      2.568113327026367,
                      2.5727224349975586,
                      2.5763278007507324,
                      2.574331045150757,
                      2.573458671569824,
                      2.643092393875122,
                      2.567800760269165
                    ],
                    [
                      2.576413631439209,
                      2.5705995559692383,
                      2.571577787399292,
                      2.577467441558838,
                      2.571991205215454,
                      2.5725207328796387,
                      2.5732922554016113,
                      2.568002462387085,
                      2.5725207328796387,
                      2.5670039653778076,
                      2.568415880203247,
                      2.5819504261016846
                    ],
                    [
                      2.57308030128479,
                      2.5686631202697754,
                      2.574910879135132,
                      2.5737459659576416,
                      2.570518732070923,
                      2.5675787925720215,
                      2.5699286460876465,
                      2.5636708736419678,
                      2.569984197616577,
                      2.573932409286499,
                      2.58298921585083,
                      2.569943904876709
                    ],
                    [
                      2.5929081439971924,
                      2.569232940673828,
                      2.57161808013916,
                      2.576146364212036,
                      2.55822491645813,
                      2.5653700828552246,
                      2.5730502605438232,
                      2.5719809532165527,
                      2.5660107135772705,
                      2.5694496631622314,
                      2.5709877014160156,
                      2.5706095695495605
                    ],
                    [
                      2.569903612136841,
                      2.57045316696167,
                      2.568415880203247,
                      2.5707759857177734,
                      2.5843911170959473,
                      2.5710833072662354,
                      2.5582549571990967,
                      2.5691018104553223,
                      2.5717339515686035,
                      2.570080041885376,
                      2.5683352947235107,
                      2.5714263916015625
                    ],
                    [
                      2.569636344909668,
                      2.6249186992645264,
                      2.569303512573242,
                      2.566883087158203,
                      2.567735195159912,
                      2.5960748195648193,
                      2.5765347480773926,
                      2.5701656341552734,
                      2.5776591300964355,
                      2.5344135761260986,
                      2.575697660446167,
                      2.568113327026367
                    ],
                    [
                      2.574618339538574,
                      2.5713305473327637,
                      2.4997000694274902,
                      2.56241512298584,
                      2.5745577812194824,
                      2.5523602962493896,
                      2.610612630844116,
                      2.5778708457946777,
                      2.5739829540252686,
                      2.708096981048584,
                      2.5897514820098877,
                      2.574512481689453
                    ],
                    [
                      2.5723493099212646,
                      2.5804829597473145,
                      2.6442017555236816,
                      2.565723180770874,
                      2.579474449157715,
                      2.572233200073242,
                      2.5038247108459473,
                      2.5766353607177734,
                      2.5729644298553467,
                      2.5685722827911377,
                      2.7319788932800293,
                      2.5687034130096436
                    ],
                    [
                      2.574951171875,
                      2.602947950363159,
                      2.598142147064209,
                      2.573932409286499,
                      2.569943904876709,
                      2.5595359802246094,
                      2.5803165435791016,
                      2.57515287399292,
                      2.578859329223633,
                      2.5740890502929688,
                      2.5662577152252197,
                      2.582913398742676
                    ],
                    [
                      2.600598096847534,
                      2.5793232917785645,
                      2.5890755653381348,
                      2.5684564113616943,
                      2.5778002738952637,
                      2.5560462474823,
                      2.6705949306488037,
                      2.5080151557922363,
                      2.5755765438079834,
                      2.7591888904571533,
                      2.5713155269622803,
                      2.572505474090576
                    ],
                    [
                      2.6354427337646484,
                      2.6690163612365723,
                      2.569394111633301,
                      2.524998664855957,
                      2.5675132274627686,
                      2.5666258335113525,
                      2.6152217388153076,
                      2.5586483478546143,
                      2.5523853302001953,
                      2.5728485584259033,
                      2.610950469970703,
                      2.592116355895996
                    ],
                    [
                      2.570180892944336,
                      2.570180892944336,
                      2.570180892944336,
                      2.570180892944336,
                      2.570180892944336,
                      2.570180892944336,
                      2.570180892944336,
                      2.570180892944336,
                      2.570180892944336,
                      2.570180892944336,
                      2.570180892944336,
                      2.570180892944336
                    ]
                  ]
                },
                {
                  "coloraxis": "coloraxis",
                  "hovertemplate": "Head: %{x}<br>Layer: %{y}<br>Percent Negative Degretation: %{z}<extra></extra>",
                  "name": "2",
                  "type": "heatmap",
                  "xaxis": "x3",
                  "yaxis": "y3",
                  "z": [
                    [
                      2.559419870376587,
                      2.5449373722076416,
                      2.5621681213378906,
                      2.535356283187866,
                      2.511550188064575,
                      2.5485177040100098,
                      2.556464910507202,
                      2.5536410808563232,
                      2.5560362339019775,
                      2.580604076385498,
                      2.627454996109009,
                      2.5690009593963623
                    ],
                    [
                      2.5685067176818848,
                      2.569303512573242,
                      2.571885347366333,
                      2.5709171295166016,
                      2.569565773010254,
                      2.585031509399414,
                      2.543041467666626,
                      2.5596821308135986,
                      2.5810275077819824,
                      2.5743563175201416,
                      2.5716028213500977,
                      2.580508232116699
                    ],
                    [
                      2.5701606273651123,
                      2.540086507797241,
                      2.568648099899292,
                      2.5695607662200928,
                      2.565455913543701,
                      2.5709524154663086,
                      2.5751328468322754,
                      2.580805778503418,
                      2.5686378479003906,
                      2.5617597103118896,
                      2.570765733718872,
                      2.5706095695495605
                    ],
                    [
                      2.5517852306365967,
                      2.569056272506714,
                      2.56681227684021,
                      2.5649313926696777,
                      2.5732922554016113,
                      2.560413360595703,
                      2.564760208129883,
                      2.5606603622436523,
                      2.5714919567108154,
                      2.5678763389587402,
                      2.5692176818847656,
                      2.5655667781829834
                    ],
                    [
                      2.5694196224212646,
                      2.5701255798339844,
                      2.567553758621216,
                      2.553494930267334,
                      2.5877745151519775,
                      2.5683553218841553,
                      2.566298007965088,
                      2.57308030128479,
                      2.566237449645996,
                      2.568814277648926,
                      2.5727474689483643,
                      2.5712649822235107
                    ],
                    [
                      2.5736300945281982,
                      2.598344087600708,
                      2.567629337310791,
                      2.5719003677368164,
                      2.569061279296875,
                      2.5940325260162354,
                      2.5685067176818848,
                      2.5675132274627686,
                      2.575087308883667,
                      2.5411856174468994,
                      2.50666880607605,
                      2.6344895362854004
                    ],
                    [
                      2.565592050552368,
                      2.5683302879333496,
                      2.5926105976104736,
                      2.575082302093506,
                      2.5027709007263184,
                      2.585207939147949,
                      2.585949182510376,
                      2.4954440593719482,
                      2.5731611251831055,
                      2.629230260848999,
                      2.566615581512451,
                      2.575319290161133
                    ],
                    [
                      2.5682947635650635,
                      2.4705939292907715,
                      2.574820041656494,
                      2.603280782699585,
                      2.5677504539489746,
                      2.5585577487945557,
                      2.551765203475952,
                      2.567689895629883,
                      2.5480740070343018,
                      2.5728585720062256,
                      2.5916121006011963,
                      2.5684361457824707
                    ],
                    [
                      2.5841288566589355,
                      2.5728180408477783,
                      2.5480334758758545,
                      2.558804750442505,
                      2.5682497024536133,
                      2.560786485671997,
                      2.556419610977173,
                      2.562551498413086,
                      2.4882431030273438,
                      2.5819554328918457,
                      2.637227773666382,
                      2.539335012435913
                    ],
                    [
                      2.3894126415252686,
                      2.578455686569214,
                      2.37162709236145,
                      2.5404999256134033,
                      2.5659451484680176,
                      2.6613214015960693,
                      2.4326581954956055,
                      2.596160650253296,
                      2.480215311050415,
                      2.5385937690734863,
                      2.570317029953003,
                      2.5667922496795654
                    ],
                    [
                      2.2186334133148193,
                      2.5546748638153076,
                      2.5403082370758057,
                      2.544125556945801,
                      2.5534090995788574,
                      2.5724198818206787,
                      2.394601345062256,
                      2.5974161624908447,
                      2.5796961784362793,
                      2.569364070892334,
                      2.532184600830078,
                      2.4755356311798096
                    ],
                    [
                      2.570180892944336,
                      2.570180892944336,
                      2.570180892944336,
                      2.570180892944336,
                      2.570180892944336,
                      2.570180892944336,
                      2.570180892944336,
                      2.570180892944336,
                      2.570180892944336,
                      2.570180892944336,
                      2.570180892944336,
                      2.570180892944336
                    ]
                  ]
                },
                {
                  "coloraxis": "coloraxis",
                  "hovertemplate": "Head: %{x}<br>Layer: %{y}<br>Percent Negative Degretation: %{z}<extra></extra>",
                  "name": "3",
                  "type": "heatmap",
                  "xaxis": "x4",
                  "yaxis": "y4",
                  "z": [
                    [
                      2.572389602661133,
                      2.553020715713501,
                      2.5705995559692383,
                      2.56473970413208,
                      2.5704784393310547,
                      2.568113327026367,
                      2.575092315673828,
                      2.5763227939605713,
                      2.5740184783935547,
                      2.589489221572876,
                      2.6387202739715576,
                      2.5642004013061523
                    ],
                    [
                      2.5742602348327637,
                      2.569131851196289,
                      2.57100772857666,
                      2.576277494430542,
                      2.5702717304229736,
                      2.569878339767456,
                      2.5732972621917725,
                      2.571512222290039,
                      2.5713558197021484,
                      2.5677199363708496,
                      2.5691471099853516,
                      2.5819454193115234
                    ],
                    [
                      2.571244955062866,
                      2.569439649581909,
                      2.574951171875,
                      2.5732669830322266,
                      2.570281744003296,
                      2.5687084197998047,
                      2.571133852005005,
                      2.563030481338501,
                      2.570080041885376,
                      2.5731711387634277,
                      2.5789096355438232,
                      2.5695102214813232
                    ],
                    [
                      2.5927417278289795,
                      2.5652239322662354,
                      2.572399616241455,
                      2.5764036178588867,
                      2.548391819000244,
                      2.5652894973754883,
                      2.5739173889160156,
                      2.5709221363067627,
                      2.565486192703247,
                      2.570357322692871,
                      2.5795400142669678,
                      2.567962169647217
                    ],
                    [
                      2.569641351699829,
                      2.5711793899536133,
                      2.5681586265563965,
                      2.571749210357666,
                      2.5790610313415527,
                      2.570322036743164,
                      2.551215410232544,
                      2.5728988647460938,
                      2.566403865814209,
                      2.568103313446045,
                      2.568415880203247,
                      2.574951171875
                    ],
                    [
                      2.5694196224212646,
                      2.620546817779541,
                      2.5685017108917236,
                      2.561290740966797,
                      2.5688698291778564,
                      2.600900650024414,
                      2.577880859375,
                      2.570075035095215,
                      2.5737106800079346,
                      2.522684335708618,
                      2.577094316482544,
                      2.5648860931396484
                    ],
                    [
                      2.574341058731079,
                      2.573317527770996,
                      2.4952523708343506,
                      2.554347038269043,
                      2.5822529792785645,
                      2.54488205909729,
                      2.6191599369049072,
                      2.574441909790039,
                      2.5732014179229736,
                      2.7093021869659424,
                      2.58571720123291,
                      2.5715525150299072
                    ],
                    [
                      2.589252233505249,
                      2.4939260482788086,
                      2.6395928859710693,
                      2.5354321002960205,
                      2.5703372955322266,
                      2.569838047027588,
                      2.59865665435791,
                      2.240644693374634,
                      2.571335554122925,
                      2.584073305130005,
                      2.730193614959717,
                      2.5711288452148438
                    ],
                    [
                      2.5479934215545654,
                      2.6087570190429688,
                      2.623073101043701,
                      2.5641651153564453,
                      2.571446657180786,
                      2.5698933601379395,
                      2.562112808227539,
                      2.559732437133789,
                      2.598813056945801,
                      2.421065092086792,
                      2.651906967163086,
                      2.5853843688964844
                    ],
                    [
                      2.631580114364624,
                      2.5771851539611816,
                      2.6285998821258545,
                      2.5860097408294678,
                      2.5573928356170654,
                      2.576004981994629,
                      2.7004876136779785,
                      2.5091094970703125,
                      2.5890555381774902,
                      2.7648367881774902,
                      2.5680174827575684,
                      2.577472448348999
                    ],
                    [
                      2.709690570831299,
                      2.677281379699707,
                      2.568310022354126,
                      2.518554449081421,
                      2.573383092880249,
                      2.555703639984131,
                      2.639759063720703,
                      2.5586230754852295,
                      2.5411503314971924,
                      2.576272487640381,
                      2.618640661239624,
                      2.589907646179199
                    ],
                    [
                      2.570180892944336,
                      2.570180892944336,
                      2.570180892944336,
                      2.570180892944336,
                      2.570180892944336,
                      2.570180892944336,
                      2.570180892944336,
                      2.570180892944336,
                      2.570180892944336,
                      2.570180892944336,
                      2.570180892944336,
                      2.570180892944336
                    ]
                  ]
                }
              ],
              "layout": {
                "annotations": [
                  {
                    "font": {},
                    "showarrow": false,
                    "text": "Query",
                    "x": 0.1175,
                    "xanchor": "center",
                    "xref": "paper",
                    "y": 1,
                    "yanchor": "bottom",
                    "yref": "paper"
                  },
                  {
                    "font": {},
                    "showarrow": false,
                    "text": "Key",
                    "x": 0.3725,
                    "xanchor": "center",
                    "xref": "paper",
                    "y": 1,
                    "yanchor": "bottom",
                    "yref": "paper"
                  },
                  {
                    "font": {},
                    "showarrow": false,
                    "text": "Value",
                    "x": 0.6275,
                    "xanchor": "center",
                    "xref": "paper",
                    "y": 1,
                    "yanchor": "bottom",
                    "yref": "paper"
                  },
                  {
                    "font": {},
                    "showarrow": false,
                    "text": "Pattern",
                    "x": 0.8824999999999998,
                    "xanchor": "center",
                    "xref": "paper",
                    "y": 1,
                    "yanchor": "bottom",
                    "yref": "paper"
                  }
                ],
                "coloraxis": {
                  "cmid": 0,
                  "colorbar": {
                    "ticksuffix": "%",
                    "title": {
                      "text": "Percent Negative Degretation"
                    }
                  },
                  "colorscale": [
                    [
                      0,
                      "rgb(103,0,31)"
                    ],
                    [
                      0.1,
                      "rgb(178,24,43)"
                    ],
                    [
                      0.2,
                      "rgb(214,96,77)"
                    ],
                    [
                      0.3,
                      "rgb(244,165,130)"
                    ],
                    [
                      0.4,
                      "rgb(253,219,199)"
                    ],
                    [
                      0.5,
                      "rgb(247,247,247)"
                    ],
                    [
                      0.6,
                      "rgb(209,229,240)"
                    ],
                    [
                      0.7,
                      "rgb(146,197,222)"
                    ],
                    [
                      0.8,
                      "rgb(67,147,195)"
                    ],
                    [
                      0.9,
                      "rgb(33,102,172)"
                    ],
                    [
                      1,
                      "rgb(5,48,97)"
                    ]
                  ]
                },
                "margin": {
                  "l": 100,
                  "r": 100
                },
                "template": {
                  "data": {
                    "bar": [
                      {
                        "error_x": {
                          "color": "#2a3f5f"
                        },
                        "error_y": {
                          "color": "#2a3f5f"
                        },
                        "marker": {
                          "line": {
                            "color": "#E5ECF6",
                            "width": 0.5
                          },
                          "pattern": {
                            "fillmode": "overlay",
                            "size": 10,
                            "solidity": 0.2
                          }
                        },
                        "type": "bar"
                      }
                    ],
                    "barpolar": [
                      {
                        "marker": {
                          "line": {
                            "color": "#E5ECF6",
                            "width": 0.5
                          },
                          "pattern": {
                            "fillmode": "overlay",
                            "size": 10,
                            "solidity": 0.2
                          }
                        },
                        "type": "barpolar"
                      }
                    ],
                    "carpet": [
                      {
                        "aaxis": {
                          "endlinecolor": "#2a3f5f",
                          "gridcolor": "white",
                          "linecolor": "white",
                          "minorgridcolor": "white",
                          "startlinecolor": "#2a3f5f"
                        },
                        "baxis": {
                          "endlinecolor": "#2a3f5f",
                          "gridcolor": "white",
                          "linecolor": "white",
                          "minorgridcolor": "white",
                          "startlinecolor": "#2a3f5f"
                        },
                        "type": "carpet"
                      }
                    ],
                    "choropleth": [
                      {
                        "colorbar": {
                          "outlinewidth": 0,
                          "ticks": ""
                        },
                        "type": "choropleth"
                      }
                    ],
                    "contour": [
                      {
                        "colorbar": {
                          "outlinewidth": 0,
                          "ticks": ""
                        },
                        "colorscale": [
                          [
                            0,
                            "#0d0887"
                          ],
                          [
                            0.1111111111111111,
                            "#46039f"
                          ],
                          [
                            0.2222222222222222,
                            "#7201a8"
                          ],
                          [
                            0.3333333333333333,
                            "#9c179e"
                          ],
                          [
                            0.4444444444444444,
                            "#bd3786"
                          ],
                          [
                            0.5555555555555556,
                            "#d8576b"
                          ],
                          [
                            0.6666666666666666,
                            "#ed7953"
                          ],
                          [
                            0.7777777777777778,
                            "#fb9f3a"
                          ],
                          [
                            0.8888888888888888,
                            "#fdca26"
                          ],
                          [
                            1,
                            "#f0f921"
                          ]
                        ],
                        "type": "contour"
                      }
                    ],
                    "contourcarpet": [
                      {
                        "colorbar": {
                          "outlinewidth": 0,
                          "ticks": ""
                        },
                        "type": "contourcarpet"
                      }
                    ],
                    "heatmap": [
                      {
                        "colorbar": {
                          "outlinewidth": 0,
                          "ticks": ""
                        },
                        "colorscale": [
                          [
                            0,
                            "#0d0887"
                          ],
                          [
                            0.1111111111111111,
                            "#46039f"
                          ],
                          [
                            0.2222222222222222,
                            "#7201a8"
                          ],
                          [
                            0.3333333333333333,
                            "#9c179e"
                          ],
                          [
                            0.4444444444444444,
                            "#bd3786"
                          ],
                          [
                            0.5555555555555556,
                            "#d8576b"
                          ],
                          [
                            0.6666666666666666,
                            "#ed7953"
                          ],
                          [
                            0.7777777777777778,
                            "#fb9f3a"
                          ],
                          [
                            0.8888888888888888,
                            "#fdca26"
                          ],
                          [
                            1,
                            "#f0f921"
                          ]
                        ],
                        "type": "heatmap"
                      }
                    ],
                    "heatmapgl": [
                      {
                        "colorbar": {
                          "outlinewidth": 0,
                          "ticks": ""
                        },
                        "colorscale": [
                          [
                            0,
                            "#0d0887"
                          ],
                          [
                            0.1111111111111111,
                            "#46039f"
                          ],
                          [
                            0.2222222222222222,
                            "#7201a8"
                          ],
                          [
                            0.3333333333333333,
                            "#9c179e"
                          ],
                          [
                            0.4444444444444444,
                            "#bd3786"
                          ],
                          [
                            0.5555555555555556,
                            "#d8576b"
                          ],
                          [
                            0.6666666666666666,
                            "#ed7953"
                          ],
                          [
                            0.7777777777777778,
                            "#fb9f3a"
                          ],
                          [
                            0.8888888888888888,
                            "#fdca26"
                          ],
                          [
                            1,
                            "#f0f921"
                          ]
                        ],
                        "type": "heatmapgl"
                      }
                    ],
                    "histogram": [
                      {
                        "marker": {
                          "pattern": {
                            "fillmode": "overlay",
                            "size": 10,
                            "solidity": 0.2
                          }
                        },
                        "type": "histogram"
                      }
                    ],
                    "histogram2d": [
                      {
                        "colorbar": {
                          "outlinewidth": 0,
                          "ticks": ""
                        },
                        "colorscale": [
                          [
                            0,
                            "#0d0887"
                          ],
                          [
                            0.1111111111111111,
                            "#46039f"
                          ],
                          [
                            0.2222222222222222,
                            "#7201a8"
                          ],
                          [
                            0.3333333333333333,
                            "#9c179e"
                          ],
                          [
                            0.4444444444444444,
                            "#bd3786"
                          ],
                          [
                            0.5555555555555556,
                            "#d8576b"
                          ],
                          [
                            0.6666666666666666,
                            "#ed7953"
                          ],
                          [
                            0.7777777777777778,
                            "#fb9f3a"
                          ],
                          [
                            0.8888888888888888,
                            "#fdca26"
                          ],
                          [
                            1,
                            "#f0f921"
                          ]
                        ],
                        "type": "histogram2d"
                      }
                    ],
                    "histogram2dcontour": [
                      {
                        "colorbar": {
                          "outlinewidth": 0,
                          "ticks": ""
                        },
                        "colorscale": [
                          [
                            0,
                            "#0d0887"
                          ],
                          [
                            0.1111111111111111,
                            "#46039f"
                          ],
                          [
                            0.2222222222222222,
                            "#7201a8"
                          ],
                          [
                            0.3333333333333333,
                            "#9c179e"
                          ],
                          [
                            0.4444444444444444,
                            "#bd3786"
                          ],
                          [
                            0.5555555555555556,
                            "#d8576b"
                          ],
                          [
                            0.6666666666666666,
                            "#ed7953"
                          ],
                          [
                            0.7777777777777778,
                            "#fb9f3a"
                          ],
                          [
                            0.8888888888888888,
                            "#fdca26"
                          ],
                          [
                            1,
                            "#f0f921"
                          ]
                        ],
                        "type": "histogram2dcontour"
                      }
                    ],
                    "mesh3d": [
                      {
                        "colorbar": {
                          "outlinewidth": 0,
                          "ticks": ""
                        },
                        "type": "mesh3d"
                      }
                    ],
                    "parcoords": [
                      {
                        "line": {
                          "colorbar": {
                            "outlinewidth": 0,
                            "ticks": ""
                          }
                        },
                        "type": "parcoords"
                      }
                    ],
                    "pie": [
                      {
                        "automargin": true,
                        "type": "pie"
                      }
                    ],
                    "scatter": [
                      {
                        "fillpattern": {
                          "fillmode": "overlay",
                          "size": 10,
                          "solidity": 0.2
                        },
                        "type": "scatter"
                      }
                    ],
                    "scatter3d": [
                      {
                        "line": {
                          "colorbar": {
                            "outlinewidth": 0,
                            "ticks": ""
                          }
                        },
                        "marker": {
                          "colorbar": {
                            "outlinewidth": 0,
                            "ticks": ""
                          }
                        },
                        "type": "scatter3d"
                      }
                    ],
                    "scattercarpet": [
                      {
                        "marker": {
                          "colorbar": {
                            "outlinewidth": 0,
                            "ticks": ""
                          }
                        },
                        "type": "scattercarpet"
                      }
                    ],
                    "scattergeo": [
                      {
                        "marker": {
                          "colorbar": {
                            "outlinewidth": 0,
                            "ticks": ""
                          }
                        },
                        "type": "scattergeo"
                      }
                    ],
                    "scattergl": [
                      {
                        "marker": {
                          "colorbar": {
                            "outlinewidth": 0,
                            "ticks": ""
                          }
                        },
                        "type": "scattergl"
                      }
                    ],
                    "scattermapbox": [
                      {
                        "marker": {
                          "colorbar": {
                            "outlinewidth": 0,
                            "ticks": ""
                          }
                        },
                        "type": "scattermapbox"
                      }
                    ],
                    "scatterpolar": [
                      {
                        "marker": {
                          "colorbar": {
                            "outlinewidth": 0,
                            "ticks": ""
                          }
                        },
                        "type": "scatterpolar"
                      }
                    ],
                    "scatterpolargl": [
                      {
                        "marker": {
                          "colorbar": {
                            "outlinewidth": 0,
                            "ticks": ""
                          }
                        },
                        "type": "scatterpolargl"
                      }
                    ],
                    "scatterternary": [
                      {
                        "marker": {
                          "colorbar": {
                            "outlinewidth": 0,
                            "ticks": ""
                          }
                        },
                        "type": "scatterternary"
                      }
                    ],
                    "surface": [
                      {
                        "colorbar": {
                          "outlinewidth": 0,
                          "ticks": ""
                        },
                        "colorscale": [
                          [
                            0,
                            "#0d0887"
                          ],
                          [
                            0.1111111111111111,
                            "#46039f"
                          ],
                          [
                            0.2222222222222222,
                            "#7201a8"
                          ],
                          [
                            0.3333333333333333,
                            "#9c179e"
                          ],
                          [
                            0.4444444444444444,
                            "#bd3786"
                          ],
                          [
                            0.5555555555555556,
                            "#d8576b"
                          ],
                          [
                            0.6666666666666666,
                            "#ed7953"
                          ],
                          [
                            0.7777777777777778,
                            "#fb9f3a"
                          ],
                          [
                            0.8888888888888888,
                            "#fdca26"
                          ],
                          [
                            1,
                            "#f0f921"
                          ]
                        ],
                        "type": "surface"
                      }
                    ],
                    "table": [
                      {
                        "cells": {
                          "fill": {
                            "color": "#EBF0F8"
                          },
                          "line": {
                            "color": "white"
                          }
                        },
                        "header": {
                          "fill": {
                            "color": "#C8D4E3"
                          },
                          "line": {
                            "color": "white"
                          }
                        },
                        "type": "table"
                      }
                    ]
                  },
                  "layout": {
                    "annotationdefaults": {
                      "arrowcolor": "#2a3f5f",
                      "arrowhead": 0,
                      "arrowwidth": 1
                    },
                    "autotypenumbers": "strict",
                    "coloraxis": {
                      "colorbar": {
                        "outlinewidth": 0,
                        "ticks": ""
                      }
                    },
                    "colorscale": {
                      "diverging": [
                        [
                          0,
                          "#8e0152"
                        ],
                        [
                          0.1,
                          "#c51b7d"
                        ],
                        [
                          0.2,
                          "#de77ae"
                        ],
                        [
                          0.3,
                          "#f1b6da"
                        ],
                        [
                          0.4,
                          "#fde0ef"
                        ],
                        [
                          0.5,
                          "#f7f7f7"
                        ],
                        [
                          0.6,
                          "#e6f5d0"
                        ],
                        [
                          0.7,
                          "#b8e186"
                        ],
                        [
                          0.8,
                          "#7fbc41"
                        ],
                        [
                          0.9,
                          "#4d9221"
                        ],
                        [
                          1,
                          "#276419"
                        ]
                      ],
                      "sequential": [
                        [
                          0,
                          "#0d0887"
                        ],
                        [
                          0.1111111111111111,
                          "#46039f"
                        ],
                        [
                          0.2222222222222222,
                          "#7201a8"
                        ],
                        [
                          0.3333333333333333,
                          "#9c179e"
                        ],
                        [
                          0.4444444444444444,
                          "#bd3786"
                        ],
                        [
                          0.5555555555555556,
                          "#d8576b"
                        ],
                        [
                          0.6666666666666666,
                          "#ed7953"
                        ],
                        [
                          0.7777777777777778,
                          "#fb9f3a"
                        ],
                        [
                          0.8888888888888888,
                          "#fdca26"
                        ],
                        [
                          1,
                          "#f0f921"
                        ]
                      ],
                      "sequentialminus": [
                        [
                          0,
                          "#0d0887"
                        ],
                        [
                          0.1111111111111111,
                          "#46039f"
                        ],
                        [
                          0.2222222222222222,
                          "#7201a8"
                        ],
                        [
                          0.3333333333333333,
                          "#9c179e"
                        ],
                        [
                          0.4444444444444444,
                          "#bd3786"
                        ],
                        [
                          0.5555555555555556,
                          "#d8576b"
                        ],
                        [
                          0.6666666666666666,
                          "#ed7953"
                        ],
                        [
                          0.7777777777777778,
                          "#fb9f3a"
                        ],
                        [
                          0.8888888888888888,
                          "#fdca26"
                        ],
                        [
                          1,
                          "#f0f921"
                        ]
                      ]
                    },
                    "colorway": [
                      "#636efa",
                      "#EF553B",
                      "#00cc96",
                      "#ab63fa",
                      "#FFA15A",
                      "#19d3f3",
                      "#FF6692",
                      "#B6E880",
                      "#FF97FF",
                      "#FECB52"
                    ],
                    "font": {
                      "color": "#2a3f5f"
                    },
                    "geo": {
                      "bgcolor": "white",
                      "lakecolor": "white",
                      "landcolor": "#E5ECF6",
                      "showlakes": true,
                      "showland": true,
                      "subunitcolor": "white"
                    },
                    "hoverlabel": {
                      "align": "left"
                    },
                    "hovermode": "closest",
                    "mapbox": {
                      "style": "light"
                    },
                    "paper_bgcolor": "white",
                    "plot_bgcolor": "#E5ECF6",
                    "polar": {
                      "angularaxis": {
                        "gridcolor": "white",
                        "linecolor": "white",
                        "ticks": ""
                      },
                      "bgcolor": "#E5ECF6",
                      "radialaxis": {
                        "gridcolor": "white",
                        "linecolor": "white",
                        "ticks": ""
                      }
                    },
                    "scene": {
                      "xaxis": {
                        "backgroundcolor": "#E5ECF6",
                        "gridcolor": "white",
                        "gridwidth": 2,
                        "linecolor": "white",
                        "showbackground": true,
                        "ticks": "",
                        "zerolinecolor": "white"
                      },
                      "yaxis": {
                        "backgroundcolor": "#E5ECF6",
                        "gridcolor": "white",
                        "gridwidth": 2,
                        "linecolor": "white",
                        "showbackground": true,
                        "ticks": "",
                        "zerolinecolor": "white"
                      },
                      "zaxis": {
                        "backgroundcolor": "#E5ECF6",
                        "gridcolor": "white",
                        "gridwidth": 2,
                        "linecolor": "white",
                        "showbackground": true,
                        "ticks": "",
                        "zerolinecolor": "white"
                      }
                    },
                    "shapedefaults": {
                      "line": {
                        "color": "#2a3f5f"
                      }
                    },
                    "ternary": {
                      "aaxis": {
                        "gridcolor": "white",
                        "linecolor": "white",
                        "ticks": ""
                      },
                      "baxis": {
                        "gridcolor": "white",
                        "linecolor": "white",
                        "ticks": ""
                      },
                      "bgcolor": "#E5ECF6",
                      "caxis": {
                        "gridcolor": "white",
                        "linecolor": "white",
                        "ticks": ""
                      }
                    },
                    "title": {
                      "x": 0.05
                    },
                    "xaxis": {
                      "automargin": true,
                      "gridcolor": "white",
                      "linecolor": "white",
                      "ticks": "",
                      "title": {
                        "standoff": 15
                      },
                      "zerolinecolor": "white",
                      "zerolinewidth": 2
                    },
                    "yaxis": {
                      "automargin": true,
                      "gridcolor": "white",
                      "linecolor": "white",
                      "ticks": "",
                      "title": {
                        "standoff": 15
                      },
                      "zerolinecolor": "white",
                      "zerolinewidth": 2
                    }
                  }
                },
                "title": {
                  "text": "Effect of Noisily Path Patching in 11.3"
                },
                "width": 1500,
                "xaxis": {
                  "anchor": "y",
                  "constrain": "domain",
                  "domain": [
                    0,
                    0.235
                  ],
                  "linecolor": "black",
                  "linewidth": 1,
                  "mirror": true,
                  "scaleanchor": "y",
                  "showline": true,
                  "title": {
                    "text": "Head"
                  }
                },
                "xaxis2": {
                  "anchor": "y2",
                  "domain": [
                    0.255,
                    0.49
                  ],
                  "linecolor": "black",
                  "linewidth": 1,
                  "matches": "x",
                  "mirror": true,
                  "showline": true,
                  "title": {
                    "text": "Head"
                  }
                },
                "xaxis3": {
                  "anchor": "y3",
                  "domain": [
                    0.51,
                    0.745
                  ],
                  "linecolor": "black",
                  "linewidth": 1,
                  "matches": "x",
                  "mirror": true,
                  "showline": true,
                  "title": {
                    "text": "Head"
                  }
                },
                "xaxis4": {
                  "anchor": "y4",
                  "domain": [
                    0.7649999999999999,
                    0.9999999999999999
                  ],
                  "linecolor": "black",
                  "linewidth": 1,
                  "matches": "x",
                  "mirror": true,
                  "showline": true,
                  "title": {
                    "text": "Head"
                  }
                },
                "yaxis": {
                  "anchor": "x",
                  "autorange": "reversed",
                  "constrain": "domain",
                  "domain": [
                    0,
                    1
                  ],
                  "linecolor": "black",
                  "linewidth": 1,
                  "mirror": true,
                  "showline": true,
                  "title": {
                    "text": "Layer"
                  }
                },
                "yaxis2": {
                  "anchor": "x2",
                  "domain": [
                    0,
                    1
                  ],
                  "linecolor": "black",
                  "linewidth": 1,
                  "matches": "y",
                  "mirror": true,
                  "showline": true,
                  "showticklabels": false
                },
                "yaxis3": {
                  "anchor": "x3",
                  "domain": [
                    0,
                    1
                  ],
                  "linecolor": "black",
                  "linewidth": 1,
                  "matches": "y",
                  "mirror": true,
                  "showline": true,
                  "showticklabels": false
                },
                "yaxis4": {
                  "anchor": "x4",
                  "domain": [
                    0,
                    1
                  ],
                  "linecolor": "black",
                  "linewidth": 1,
                  "matches": "y",
                  "mirror": true,
                  "showline": true,
                  "showticklabels": false
                }
              }
            },
            "text/html": [
              "<div>                            <div id=\"cfc529df-21b3-4eb3-8a65-b774ff53eac5\" class=\"plotly-graph-div\" style=\"height:525px; width:1500px;\"></div>            <script type=\"text/javascript\">                require([\"plotly\"], function(Plotly) {                    window.PLOTLYENV=window.PLOTLYENV || {};                                    if (document.getElementById(\"cfc529df-21b3-4eb3-8a65-b774ff53eac5\")) {                    Plotly.newPlot(                        \"cfc529df-21b3-4eb3-8a65-b774ff53eac5\",                        [{\"coloraxis\":\"coloraxis\",\"name\":\"0\",\"z\":[[2.5696613788604736,2.5702311992645264,2.5679771900177,2.5698277950286865,2.570180892944336,2.570180892944336,2.572571039199829,2.5701706409454346,2.569873332977295,2.586090326309204,2.5659701824188232,2.56661057472229],[2.5680277347564697,2.568713426589966,2.569606065750122,2.5689504146575928,2.5684564113616943,2.5675387382507324,2.570190906524658,2.5737006664276123,2.569020986557007,2.570896863937378,2.5709221363067627,2.5701656341552734],[2.5683352947235107,2.570962429046631,2.570211172103882,2.5696969032287598,2.569943904876709,2.5713155269622803,2.571340560913086,2.5695455074310303,2.5702717304229736,2.5694093704223633,2.5660812854766846,2.5697624683380127],[2.570004463195801,2.566171884536743,2.570962429046631,2.570422887802124,2.560307502746582,2.5701000690460205,2.5710432529449463,2.569121837615967,2.5696563720703125,2.5710885524749756,2.5787434577941895,2.567523241043091],[2.569913625717163,2.5709071159362793,2.5699286460876465,2.5711591243743896,2.5648913383483887,2.569439649581909,2.563141345977783,2.5739829540252686,2.5648508071899414,2.5681941509246826,2.5702567100524902,2.573695659637451],[2.569701910018921,2.5657989978790283,2.5693740844726562,2.5645735263824463,2.5713155269622803,2.5749764442443848,2.571512222290039,2.570080041885376,2.5662777423858643,2.5585577487945557,2.571572780609131,2.5669384002685547],[2.569903612136841,2.5721776485443115,2.565657615661621,2.562087297439575,2.5779263973236084,2.5626673698425293,2.577880859375,2.5666913986206055,2.5694196224212646,2.5717086791992188,2.564805269241333,2.5672459602355957],[2.5870232582092285,2.4818289279937744,2.5655667781829834,2.5395772457122803,2.5610134601593018,2.5677754878997803,2.66314697265625,2.2326722145080566,2.5685319900512695,2.5856516361236572,2.568552017211914,2.5727627277374268],[2.5430614948272705,2.5759496688842773,2.5951671600341797,2.560166358947754,2.571683645248413,2.58040714263916,2.5515382289886475,2.5546648502349854,2.5900487899780273,2.4148526191711426,2.653989553451538,2.572636604309082],[2.6026101112365723,2.568037748336792,2.610300064086914,2.587406635284424,2.549576759338379,2.5901546478271484,2.59997296333313,2.571214437484741,2.584038019180298,2.5760605335235596,2.566847801208496,2.575147867202759],[2.649123430252075,2.578597068786621,2.5689353942871094,2.563852548599243,2.5759849548339844,2.559359312057495,2.596770763397217,2.5701255798339844,2.558910608291626,2.5735342502593994,2.578077554702759,2.5674076080322266],[2.570180892944336,2.570180892944336,2.570180892944336,2.570180892944336,2.570180892944336,2.570180892944336,2.570180892944336,2.570180892944336,2.570180892944336,2.570180892944336,2.570180892944336,2.570180892944336]],\"type\":\"heatmap\",\"xaxis\":\"x\",\"yaxis\":\"y\",\"hovertemplate\":\"Head: %{x}\\u003cbr\\u003eLayer: %{y}\\u003cbr\\u003ePercent Negative Degretation: %{z}\\u003cextra\\u003e\\u003c\\u002fextra\\u003e\"},{\"coloraxis\":\"coloraxis\",\"name\":\"1\",\"z\":[[2.5728988647460938,2.5529754161834717,2.572813034057617,2.565108060836792,2.570493459701538,2.568113327026367,2.5727224349975586,2.5763278007507324,2.574331045150757,2.573458671569824,2.643092393875122,2.567800760269165],[2.576413631439209,2.5705995559692383,2.571577787399292,2.577467441558838,2.571991205215454,2.5725207328796387,2.5732922554016113,2.568002462387085,2.5725207328796387,2.5670039653778076,2.568415880203247,2.5819504261016846],[2.57308030128479,2.5686631202697754,2.574910879135132,2.5737459659576416,2.570518732070923,2.5675787925720215,2.5699286460876465,2.5636708736419678,2.569984197616577,2.573932409286499,2.58298921585083,2.569943904876709],[2.5929081439971924,2.569232940673828,2.57161808013916,2.576146364212036,2.55822491645813,2.5653700828552246,2.5730502605438232,2.5719809532165527,2.5660107135772705,2.5694496631622314,2.5709877014160156,2.5706095695495605],[2.569903612136841,2.57045316696167,2.568415880203247,2.5707759857177734,2.5843911170959473,2.5710833072662354,2.5582549571990967,2.5691018104553223,2.5717339515686035,2.570080041885376,2.5683352947235107,2.5714263916015625],[2.569636344909668,2.6249186992645264,2.569303512573242,2.566883087158203,2.567735195159912,2.5960748195648193,2.5765347480773926,2.5701656341552734,2.5776591300964355,2.5344135761260986,2.575697660446167,2.568113327026367],[2.574618339538574,2.5713305473327637,2.4997000694274902,2.56241512298584,2.5745577812194824,2.5523602962493896,2.610612630844116,2.5778708457946777,2.5739829540252686,2.708096981048584,2.5897514820098877,2.574512481689453],[2.5723493099212646,2.5804829597473145,2.6442017555236816,2.565723180770874,2.579474449157715,2.572233200073242,2.5038247108459473,2.5766353607177734,2.5729644298553467,2.5685722827911377,2.7319788932800293,2.5687034130096436],[2.574951171875,2.602947950363159,2.598142147064209,2.573932409286499,2.569943904876709,2.5595359802246094,2.5803165435791016,2.57515287399292,2.578859329223633,2.5740890502929688,2.5662577152252197,2.582913398742676],[2.600598096847534,2.5793232917785645,2.5890755653381348,2.5684564113616943,2.5778002738952637,2.5560462474823,2.6705949306488037,2.5080151557922363,2.5755765438079834,2.7591888904571533,2.5713155269622803,2.572505474090576],[2.6354427337646484,2.6690163612365723,2.569394111633301,2.524998664855957,2.5675132274627686,2.5666258335113525,2.6152217388153076,2.5586483478546143,2.5523853302001953,2.5728485584259033,2.610950469970703,2.592116355895996],[2.570180892944336,2.570180892944336,2.570180892944336,2.570180892944336,2.570180892944336,2.570180892944336,2.570180892944336,2.570180892944336,2.570180892944336,2.570180892944336,2.570180892944336,2.570180892944336]],\"type\":\"heatmap\",\"xaxis\":\"x2\",\"yaxis\":\"y2\",\"hovertemplate\":\"Head: %{x}\\u003cbr\\u003eLayer: %{y}\\u003cbr\\u003ePercent Negative Degretation: %{z}\\u003cextra\\u003e\\u003c\\u002fextra\\u003e\"},{\"coloraxis\":\"coloraxis\",\"name\":\"2\",\"z\":[[2.559419870376587,2.5449373722076416,2.5621681213378906,2.535356283187866,2.511550188064575,2.5485177040100098,2.556464910507202,2.5536410808563232,2.5560362339019775,2.580604076385498,2.627454996109009,2.5690009593963623],[2.5685067176818848,2.569303512573242,2.571885347366333,2.5709171295166016,2.569565773010254,2.585031509399414,2.543041467666626,2.5596821308135986,2.5810275077819824,2.5743563175201416,2.5716028213500977,2.580508232116699],[2.5701606273651123,2.540086507797241,2.568648099899292,2.5695607662200928,2.565455913543701,2.5709524154663086,2.5751328468322754,2.580805778503418,2.5686378479003906,2.5617597103118896,2.570765733718872,2.5706095695495605],[2.5517852306365967,2.569056272506714,2.56681227684021,2.5649313926696777,2.5732922554016113,2.560413360595703,2.564760208129883,2.5606603622436523,2.5714919567108154,2.5678763389587402,2.5692176818847656,2.5655667781829834],[2.5694196224212646,2.5701255798339844,2.567553758621216,2.553494930267334,2.5877745151519775,2.5683553218841553,2.566298007965088,2.57308030128479,2.566237449645996,2.568814277648926,2.5727474689483643,2.5712649822235107],[2.5736300945281982,2.598344087600708,2.567629337310791,2.5719003677368164,2.569061279296875,2.5940325260162354,2.5685067176818848,2.5675132274627686,2.575087308883667,2.5411856174468994,2.50666880607605,2.6344895362854004],[2.565592050552368,2.5683302879333496,2.5926105976104736,2.575082302093506,2.5027709007263184,2.585207939147949,2.585949182510376,2.4954440593719482,2.5731611251831055,2.629230260848999,2.566615581512451,2.575319290161133],[2.5682947635650635,2.4705939292907715,2.574820041656494,2.603280782699585,2.5677504539489746,2.5585577487945557,2.551765203475952,2.567689895629883,2.5480740070343018,2.5728585720062256,2.5916121006011963,2.5684361457824707],[2.5841288566589355,2.5728180408477783,2.5480334758758545,2.558804750442505,2.5682497024536133,2.560786485671997,2.556419610977173,2.562551498413086,2.4882431030273438,2.5819554328918457,2.637227773666382,2.539335012435913],[2.3894126415252686,2.578455686569214,2.37162709236145,2.5404999256134033,2.5659451484680176,2.6613214015960693,2.4326581954956055,2.596160650253296,2.480215311050415,2.5385937690734863,2.570317029953003,2.5667922496795654],[2.2186334133148193,2.5546748638153076,2.5403082370758057,2.544125556945801,2.5534090995788574,2.5724198818206787,2.394601345062256,2.5974161624908447,2.5796961784362793,2.569364070892334,2.532184600830078,2.4755356311798096],[2.570180892944336,2.570180892944336,2.570180892944336,2.570180892944336,2.570180892944336,2.570180892944336,2.570180892944336,2.570180892944336,2.570180892944336,2.570180892944336,2.570180892944336,2.570180892944336]],\"type\":\"heatmap\",\"xaxis\":\"x3\",\"yaxis\":\"y3\",\"hovertemplate\":\"Head: %{x}\\u003cbr\\u003eLayer: %{y}\\u003cbr\\u003ePercent Negative Degretation: %{z}\\u003cextra\\u003e\\u003c\\u002fextra\\u003e\"},{\"coloraxis\":\"coloraxis\",\"name\":\"3\",\"z\":[[2.572389602661133,2.553020715713501,2.5705995559692383,2.56473970413208,2.5704784393310547,2.568113327026367,2.575092315673828,2.5763227939605713,2.5740184783935547,2.589489221572876,2.6387202739715576,2.5642004013061523],[2.5742602348327637,2.569131851196289,2.57100772857666,2.576277494430542,2.5702717304229736,2.569878339767456,2.5732972621917725,2.571512222290039,2.5713558197021484,2.5677199363708496,2.5691471099853516,2.5819454193115234],[2.571244955062866,2.569439649581909,2.574951171875,2.5732669830322266,2.570281744003296,2.5687084197998047,2.571133852005005,2.563030481338501,2.570080041885376,2.5731711387634277,2.5789096355438232,2.5695102214813232],[2.5927417278289795,2.5652239322662354,2.572399616241455,2.5764036178588867,2.548391819000244,2.5652894973754883,2.5739173889160156,2.5709221363067627,2.565486192703247,2.570357322692871,2.5795400142669678,2.567962169647217],[2.569641351699829,2.5711793899536133,2.5681586265563965,2.571749210357666,2.5790610313415527,2.570322036743164,2.551215410232544,2.5728988647460938,2.566403865814209,2.568103313446045,2.568415880203247,2.574951171875],[2.5694196224212646,2.620546817779541,2.5685017108917236,2.561290740966797,2.5688698291778564,2.600900650024414,2.577880859375,2.570075035095215,2.5737106800079346,2.522684335708618,2.577094316482544,2.5648860931396484],[2.574341058731079,2.573317527770996,2.4952523708343506,2.554347038269043,2.5822529792785645,2.54488205909729,2.6191599369049072,2.574441909790039,2.5732014179229736,2.7093021869659424,2.58571720123291,2.5715525150299072],[2.589252233505249,2.4939260482788086,2.6395928859710693,2.5354321002960205,2.5703372955322266,2.569838047027588,2.59865665435791,2.240644693374634,2.571335554122925,2.584073305130005,2.730193614959717,2.5711288452148438],[2.5479934215545654,2.6087570190429688,2.623073101043701,2.5641651153564453,2.571446657180786,2.5698933601379395,2.562112808227539,2.559732437133789,2.598813056945801,2.421065092086792,2.651906967163086,2.5853843688964844],[2.631580114364624,2.5771851539611816,2.6285998821258545,2.5860097408294678,2.5573928356170654,2.576004981994629,2.7004876136779785,2.5091094970703125,2.5890555381774902,2.7648367881774902,2.5680174827575684,2.577472448348999],[2.709690570831299,2.677281379699707,2.568310022354126,2.518554449081421,2.573383092880249,2.555703639984131,2.639759063720703,2.5586230754852295,2.5411503314971924,2.576272487640381,2.618640661239624,2.589907646179199],[2.570180892944336,2.570180892944336,2.570180892944336,2.570180892944336,2.570180892944336,2.570180892944336,2.570180892944336,2.570180892944336,2.570180892944336,2.570180892944336,2.570180892944336,2.570180892944336]],\"type\":\"heatmap\",\"xaxis\":\"x4\",\"yaxis\":\"y4\",\"hovertemplate\":\"Head: %{x}\\u003cbr\\u003eLayer: %{y}\\u003cbr\\u003ePercent Negative Degretation: %{z}\\u003cextra\\u003e\\u003c\\u002fextra\\u003e\"}],                        {\"template\":{\"data\":{\"histogram2dcontour\":[{\"type\":\"histogram2dcontour\",\"colorbar\":{\"outlinewidth\":0,\"ticks\":\"\"},\"colorscale\":[[0.0,\"#0d0887\"],[0.1111111111111111,\"#46039f\"],[0.2222222222222222,\"#7201a8\"],[0.3333333333333333,\"#9c179e\"],[0.4444444444444444,\"#bd3786\"],[0.5555555555555556,\"#d8576b\"],[0.6666666666666666,\"#ed7953\"],[0.7777777777777778,\"#fb9f3a\"],[0.8888888888888888,\"#fdca26\"],[1.0,\"#f0f921\"]]}],\"choropleth\":[{\"type\":\"choropleth\",\"colorbar\":{\"outlinewidth\":0,\"ticks\":\"\"}}],\"histogram2d\":[{\"type\":\"histogram2d\",\"colorbar\":{\"outlinewidth\":0,\"ticks\":\"\"},\"colorscale\":[[0.0,\"#0d0887\"],[0.1111111111111111,\"#46039f\"],[0.2222222222222222,\"#7201a8\"],[0.3333333333333333,\"#9c179e\"],[0.4444444444444444,\"#bd3786\"],[0.5555555555555556,\"#d8576b\"],[0.6666666666666666,\"#ed7953\"],[0.7777777777777778,\"#fb9f3a\"],[0.8888888888888888,\"#fdca26\"],[1.0,\"#f0f921\"]]}],\"heatmap\":[{\"type\":\"heatmap\",\"colorbar\":{\"outlinewidth\":0,\"ticks\":\"\"},\"colorscale\":[[0.0,\"#0d0887\"],[0.1111111111111111,\"#46039f\"],[0.2222222222222222,\"#7201a8\"],[0.3333333333333333,\"#9c179e\"],[0.4444444444444444,\"#bd3786\"],[0.5555555555555556,\"#d8576b\"],[0.6666666666666666,\"#ed7953\"],[0.7777777777777778,\"#fb9f3a\"],[0.8888888888888888,\"#fdca26\"],[1.0,\"#f0f921\"]]}],\"heatmapgl\":[{\"type\":\"heatmapgl\",\"colorbar\":{\"outlinewidth\":0,\"ticks\":\"\"},\"colorscale\":[[0.0,\"#0d0887\"],[0.1111111111111111,\"#46039f\"],[0.2222222222222222,\"#7201a8\"],[0.3333333333333333,\"#9c179e\"],[0.4444444444444444,\"#bd3786\"],[0.5555555555555556,\"#d8576b\"],[0.6666666666666666,\"#ed7953\"],[0.7777777777777778,\"#fb9f3a\"],[0.8888888888888888,\"#fdca26\"],[1.0,\"#f0f921\"]]}],\"contourcarpet\":[{\"type\":\"contourcarpet\",\"colorbar\":{\"outlinewidth\":0,\"ticks\":\"\"}}],\"contour\":[{\"type\":\"contour\",\"colorbar\":{\"outlinewidth\":0,\"ticks\":\"\"},\"colorscale\":[[0.0,\"#0d0887\"],[0.1111111111111111,\"#46039f\"],[0.2222222222222222,\"#7201a8\"],[0.3333333333333333,\"#9c179e\"],[0.4444444444444444,\"#bd3786\"],[0.5555555555555556,\"#d8576b\"],[0.6666666666666666,\"#ed7953\"],[0.7777777777777778,\"#fb9f3a\"],[0.8888888888888888,\"#fdca26\"],[1.0,\"#f0f921\"]]}],\"surface\":[{\"type\":\"surface\",\"colorbar\":{\"outlinewidth\":0,\"ticks\":\"\"},\"colorscale\":[[0.0,\"#0d0887\"],[0.1111111111111111,\"#46039f\"],[0.2222222222222222,\"#7201a8\"],[0.3333333333333333,\"#9c179e\"],[0.4444444444444444,\"#bd3786\"],[0.5555555555555556,\"#d8576b\"],[0.6666666666666666,\"#ed7953\"],[0.7777777777777778,\"#fb9f3a\"],[0.8888888888888888,\"#fdca26\"],[1.0,\"#f0f921\"]]}],\"mesh3d\":[{\"type\":\"mesh3d\",\"colorbar\":{\"outlinewidth\":0,\"ticks\":\"\"}}],\"scatter\":[{\"fillpattern\":{\"fillmode\":\"overlay\",\"size\":10,\"solidity\":0.2},\"type\":\"scatter\"}],\"parcoords\":[{\"type\":\"parcoords\",\"line\":{\"colorbar\":{\"outlinewidth\":0,\"ticks\":\"\"}}}],\"scatterpolargl\":[{\"type\":\"scatterpolargl\",\"marker\":{\"colorbar\":{\"outlinewidth\":0,\"ticks\":\"\"}}}],\"bar\":[{\"error_x\":{\"color\":\"#2a3f5f\"},\"error_y\":{\"color\":\"#2a3f5f\"},\"marker\":{\"line\":{\"color\":\"#E5ECF6\",\"width\":0.5},\"pattern\":{\"fillmode\":\"overlay\",\"size\":10,\"solidity\":0.2}},\"type\":\"bar\"}],\"scattergeo\":[{\"type\":\"scattergeo\",\"marker\":{\"colorbar\":{\"outlinewidth\":0,\"ticks\":\"\"}}}],\"scatterpolar\":[{\"type\":\"scatterpolar\",\"marker\":{\"colorbar\":{\"outlinewidth\":0,\"ticks\":\"\"}}}],\"histogram\":[{\"marker\":{\"pattern\":{\"fillmode\":\"overlay\",\"size\":10,\"solidity\":0.2}},\"type\":\"histogram\"}],\"scattergl\":[{\"type\":\"scattergl\",\"marker\":{\"colorbar\":{\"outlinewidth\":0,\"ticks\":\"\"}}}],\"scatter3d\":[{\"type\":\"scatter3d\",\"line\":{\"colorbar\":{\"outlinewidth\":0,\"ticks\":\"\"}},\"marker\":{\"colorbar\":{\"outlinewidth\":0,\"ticks\":\"\"}}}],\"scattermapbox\":[{\"type\":\"scattermapbox\",\"marker\":{\"colorbar\":{\"outlinewidth\":0,\"ticks\":\"\"}}}],\"scatterternary\":[{\"type\":\"scatterternary\",\"marker\":{\"colorbar\":{\"outlinewidth\":0,\"ticks\":\"\"}}}],\"scattercarpet\":[{\"type\":\"scattercarpet\",\"marker\":{\"colorbar\":{\"outlinewidth\":0,\"ticks\":\"\"}}}],\"carpet\":[{\"aaxis\":{\"endlinecolor\":\"#2a3f5f\",\"gridcolor\":\"white\",\"linecolor\":\"white\",\"minorgridcolor\":\"white\",\"startlinecolor\":\"#2a3f5f\"},\"baxis\":{\"endlinecolor\":\"#2a3f5f\",\"gridcolor\":\"white\",\"linecolor\":\"white\",\"minorgridcolor\":\"white\",\"startlinecolor\":\"#2a3f5f\"},\"type\":\"carpet\"}],\"table\":[{\"cells\":{\"fill\":{\"color\":\"#EBF0F8\"},\"line\":{\"color\":\"white\"}},\"header\":{\"fill\":{\"color\":\"#C8D4E3\"},\"line\":{\"color\":\"white\"}},\"type\":\"table\"}],\"barpolar\":[{\"marker\":{\"line\":{\"color\":\"#E5ECF6\",\"width\":0.5},\"pattern\":{\"fillmode\":\"overlay\",\"size\":10,\"solidity\":0.2}},\"type\":\"barpolar\"}],\"pie\":[{\"automargin\":true,\"type\":\"pie\"}]},\"layout\":{\"autotypenumbers\":\"strict\",\"colorway\":[\"#636efa\",\"#EF553B\",\"#00cc96\",\"#ab63fa\",\"#FFA15A\",\"#19d3f3\",\"#FF6692\",\"#B6E880\",\"#FF97FF\",\"#FECB52\"],\"font\":{\"color\":\"#2a3f5f\"},\"hovermode\":\"closest\",\"hoverlabel\":{\"align\":\"left\"},\"paper_bgcolor\":\"white\",\"plot_bgcolor\":\"#E5ECF6\",\"polar\":{\"bgcolor\":\"#E5ECF6\",\"angularaxis\":{\"gridcolor\":\"white\",\"linecolor\":\"white\",\"ticks\":\"\"},\"radialaxis\":{\"gridcolor\":\"white\",\"linecolor\":\"white\",\"ticks\":\"\"}},\"ternary\":{\"bgcolor\":\"#E5ECF6\",\"aaxis\":{\"gridcolor\":\"white\",\"linecolor\":\"white\",\"ticks\":\"\"},\"baxis\":{\"gridcolor\":\"white\",\"linecolor\":\"white\",\"ticks\":\"\"},\"caxis\":{\"gridcolor\":\"white\",\"linecolor\":\"white\",\"ticks\":\"\"}},\"coloraxis\":{\"colorbar\":{\"outlinewidth\":0,\"ticks\":\"\"}},\"colorscale\":{\"sequential\":[[0.0,\"#0d0887\"],[0.1111111111111111,\"#46039f\"],[0.2222222222222222,\"#7201a8\"],[0.3333333333333333,\"#9c179e\"],[0.4444444444444444,\"#bd3786\"],[0.5555555555555556,\"#d8576b\"],[0.6666666666666666,\"#ed7953\"],[0.7777777777777778,\"#fb9f3a\"],[0.8888888888888888,\"#fdca26\"],[1.0,\"#f0f921\"]],\"sequentialminus\":[[0.0,\"#0d0887\"],[0.1111111111111111,\"#46039f\"],[0.2222222222222222,\"#7201a8\"],[0.3333333333333333,\"#9c179e\"],[0.4444444444444444,\"#bd3786\"],[0.5555555555555556,\"#d8576b\"],[0.6666666666666666,\"#ed7953\"],[0.7777777777777778,\"#fb9f3a\"],[0.8888888888888888,\"#fdca26\"],[1.0,\"#f0f921\"]],\"diverging\":[[0,\"#8e0152\"],[0.1,\"#c51b7d\"],[0.2,\"#de77ae\"],[0.3,\"#f1b6da\"],[0.4,\"#fde0ef\"],[0.5,\"#f7f7f7\"],[0.6,\"#e6f5d0\"],[0.7,\"#b8e186\"],[0.8,\"#7fbc41\"],[0.9,\"#4d9221\"],[1,\"#276419\"]]},\"xaxis\":{\"gridcolor\":\"white\",\"linecolor\":\"white\",\"ticks\":\"\",\"title\":{\"standoff\":15},\"zerolinecolor\":\"white\",\"automargin\":true,\"zerolinewidth\":2},\"yaxis\":{\"gridcolor\":\"white\",\"linecolor\":\"white\",\"ticks\":\"\",\"title\":{\"standoff\":15},\"zerolinecolor\":\"white\",\"automargin\":true,\"zerolinewidth\":2},\"scene\":{\"xaxis\":{\"backgroundcolor\":\"#E5ECF6\",\"gridcolor\":\"white\",\"linecolor\":\"white\",\"showbackground\":true,\"ticks\":\"\",\"zerolinecolor\":\"white\",\"gridwidth\":2},\"yaxis\":{\"backgroundcolor\":\"#E5ECF6\",\"gridcolor\":\"white\",\"linecolor\":\"white\",\"showbackground\":true,\"ticks\":\"\",\"zerolinecolor\":\"white\",\"gridwidth\":2},\"zaxis\":{\"backgroundcolor\":\"#E5ECF6\",\"gridcolor\":\"white\",\"linecolor\":\"white\",\"showbackground\":true,\"ticks\":\"\",\"zerolinecolor\":\"white\",\"gridwidth\":2}},\"shapedefaults\":{\"line\":{\"color\":\"#2a3f5f\"}},\"annotationdefaults\":{\"arrowcolor\":\"#2a3f5f\",\"arrowhead\":0,\"arrowwidth\":1},\"geo\":{\"bgcolor\":\"white\",\"landcolor\":\"#E5ECF6\",\"subunitcolor\":\"white\",\"showland\":true,\"showlakes\":true,\"lakecolor\":\"white\"},\"title\":{\"x\":0.05},\"mapbox\":{\"style\":\"light\"}}},\"xaxis\":{\"anchor\":\"y\",\"domain\":[0.0,0.235],\"scaleanchor\":\"y\",\"constrain\":\"domain\",\"title\":{\"text\":\"Head\"},\"showline\":true,\"linewidth\":1,\"linecolor\":\"black\",\"mirror\":true},\"yaxis\":{\"anchor\":\"x\",\"domain\":[0.0,1.0],\"autorange\":\"reversed\",\"constrain\":\"domain\",\"title\":{\"text\":\"Layer\"},\"showline\":true,\"linewidth\":1,\"linecolor\":\"black\",\"mirror\":true},\"xaxis2\":{\"anchor\":\"y2\",\"domain\":[0.255,0.49],\"matches\":\"x\",\"title\":{\"text\":\"Head\"},\"showline\":true,\"linewidth\":1,\"linecolor\":\"black\",\"mirror\":true},\"yaxis2\":{\"anchor\":\"x2\",\"domain\":[0.0,1.0],\"matches\":\"y\",\"showticklabels\":false,\"showline\":true,\"linewidth\":1,\"linecolor\":\"black\",\"mirror\":true},\"xaxis3\":{\"anchor\":\"y3\",\"domain\":[0.51,0.745],\"matches\":\"x\",\"title\":{\"text\":\"Head\"},\"showline\":true,\"linewidth\":1,\"linecolor\":\"black\",\"mirror\":true},\"yaxis3\":{\"anchor\":\"x3\",\"domain\":[0.0,1.0],\"matches\":\"y\",\"showticklabels\":false,\"showline\":true,\"linewidth\":1,\"linecolor\":\"black\",\"mirror\":true},\"xaxis4\":{\"anchor\":\"y4\",\"domain\":[0.7649999999999999,0.9999999999999999],\"matches\":\"x\",\"title\":{\"text\":\"Head\"},\"showline\":true,\"linewidth\":1,\"linecolor\":\"black\",\"mirror\":true},\"yaxis4\":{\"anchor\":\"x4\",\"domain\":[0.0,1.0],\"matches\":\"y\",\"showticklabels\":false,\"showline\":true,\"linewidth\":1,\"linecolor\":\"black\",\"mirror\":true},\"annotations\":[{\"font\":{},\"showarrow\":false,\"text\":\"Query\",\"x\":0.1175,\"xanchor\":\"center\",\"xref\":\"paper\",\"y\":1.0,\"yanchor\":\"bottom\",\"yref\":\"paper\"},{\"font\":{},\"showarrow\":false,\"text\":\"Key\",\"x\":0.3725,\"xanchor\":\"center\",\"xref\":\"paper\",\"y\":1.0,\"yanchor\":\"bottom\",\"yref\":\"paper\"},{\"font\":{},\"showarrow\":false,\"text\":\"Value\",\"x\":0.6275,\"xanchor\":\"center\",\"xref\":\"paper\",\"y\":1.0,\"yanchor\":\"bottom\",\"yref\":\"paper\"},{\"font\":{},\"showarrow\":false,\"text\":\"Pattern\",\"x\":0.8824999999999998,\"xanchor\":\"center\",\"xref\":\"paper\",\"y\":1.0,\"yanchor\":\"bottom\",\"yref\":\"paper\"}],\"coloraxis\":{\"colorbar\":{\"title\":{\"text\":\"Percent Negative Degretation\"},\"ticksuffix\":\"%\"},\"colorscale\":[[0.0,\"rgb(103,0,31)\"],[0.1,\"rgb(178,24,43)\"],[0.2,\"rgb(214,96,77)\"],[0.3,\"rgb(244,165,130)\"],[0.4,\"rgb(253,219,199)\"],[0.5,\"rgb(247,247,247)\"],[0.6,\"rgb(209,229,240)\"],[0.7,\"rgb(146,197,222)\"],[0.8,\"rgb(67,147,195)\"],[0.9,\"rgb(33,102,172)\"],[1.0,\"rgb(5,48,97)\"]],\"cmid\":0.0},\"title\":{\"text\":\"Effect of Noisily Path Patching in 11.3\"},\"width\":1500,\"margin\":{\"r\":100,\"l\":100}},                        {\"responsive\": true}                    ).then(function(){\n",
              "                            \n",
              "var gd = document.getElementById('cfc529df-21b3-4eb3-8a65-b774ff53eac5');\n",
              "var x = new MutationObserver(function (mutations, observer) {{\n",
              "        var display = window.getComputedStyle(gd).display;\n",
              "        if (!display || display === 'none') {{\n",
              "            console.log([gd, 'removed!']);\n",
              "            Plotly.purge(gd);\n",
              "            observer.disconnect();\n",
              "        }}\n",
              "}});\n",
              "\n",
              "// Listen for the removal of the full notebook cells\n",
              "var notebookContainer = gd.closest('#notebook-container');\n",
              "if (notebookContainer) {{\n",
              "    x.observe(notebookContainer, {childList: true});\n",
              "}}\n",
              "\n",
              "// Listen for the clearing of the current output cell\n",
              "var outputEl = gd.closest('.output');\n",
              "if (outputEl) {{\n",
              "    x.observe(outputEl, {childList: true});\n",
              "}}\n",
              "\n",
              "                        })                };                });            </script>        </div>"
            ]
          },
          "metadata": {},
          "output_type": "display_data"
        }
      ],
      "source": [
        "layer = 11\n",
        "head = 3\n",
        "imshow(\n",
        "  torch.stack(path_patch_to_head(layer,head)) * 100,\n",
        "  facet_col = 0,\n",
        "  facet_labels = [\"Query\", \"Key\", \"Value\", \"Pattern\"],\n",
        "  title=f\"Effect of Noisily Path Patching in {layer}.{head}\",\n",
        "  labels={\"x\": \"Head\", \"y\": \"Layer\", \"color\": \"Percent Negative Degretation\"},\n",
        "  coloraxis=dict(colorbar_ticksuffix = \"%\"),\n",
        "  border=True,\n",
        "  width=1500,\n",
        "  margin={\"r\": 100, \"l\": 100},\n",
        ")"
      ]
    },
    {
      "cell_type": "markdown",
      "metadata": {},
      "source": [
        "## ablation experiments\n",
        "i want to see if backup is actually going on lol"
      ]
    },
    {
      "cell_type": "code",
      "execution_count": 440,
      "metadata": {},
      "outputs": [],
      "source": [
        "def return_item(item):\n",
        "  return item\n"
      ]
    },
    {
      "cell_type": "code",
      "execution_count": 446,
      "metadata": {},
      "outputs": [
        {
          "name": "stdout",
          "output_type": "stream",
          "text": [
            "Tried to stack head results when they weren't cached. Computing head results now\n"
          ]
        },
        {
          "data": {
            "application/vnd.plotly.v1+json": {
              "config": {
                "plotlyServerURL": "https://plot.ly"
              },
              "data": [
                {
                  "coloraxis": "coloraxis",
                  "hovertemplate": "Head: %{x}<br>Layer: %{y}<br>Logit Contribution: %{z}<extra></extra>",
                  "name": "0",
                  "type": "heatmap",
                  "xaxis": "x",
                  "yaxis": "y",
                  "z": [
                    [
                      0.006719513330608606,
                      -0.005666243378072977,
                      0.00417169788852334,
                      0.002081508981063962,
                      -0.0032229300122708082,
                      0.0010421909391880035,
                      0.006740386597812176,
                      0.005389879457652569,
                      0.00361698679625988,
                      0.00770182441920042,
                      -0.003698060754686594,
                      0.00681133521720767
                    ],
                    [
                      -0.0006793165812268853,
                      0.0016266454476863146,
                      -0.0031678073573857546,
                      -0.008572347462177277,
                      0.0018684817478060722,
                      -0.0014593272935599089,
                      0.022524133324623108,
                      0.03487264737486839,
                      -0.007282545790076256,
                      -0.00698041683062911,
                      0.004632031545042992,
                      -0.007363492157310247
                    ],
                    [
                      0.004899261984974146,
                      0.016455531120300293,
                      0.0007070990977808833,
                      -0.002290000906214118,
                      -0.0020718302112072706,
                      0.006599076092243195,
                      -0.006014975253492594,
                      -0.0018000103300437331,
                      0.0029802119825035334,
                      -0.005097659770399332,
                      0.011076465249061584,
                      -0.010198022238910198
                    ],
                    [
                      0.001138456747867167,
                      0.0021604455541819334,
                      -0.0021713413298130035,
                      0.0014190694782882929,
                      -0.005990166682749987,
                      0.010018027387559414,
                      -0.0022545300889760256,
                      -0.0063880146481096745,
                      0.0014512889320030808,
                      0.000963264552410692,
                      -0.0007001689518801868,
                      -0.0007483619847334921
                    ],
                    [
                      -0.0009822772117331624,
                      0.0014561566058546305,
                      0.004647779278457165,
                      0.0007614758796989918,
                      -0.005787878297269344,
                      0.0013035328593105078,
                      0.002162027405574918,
                      -0.004073804710060358,
                      0.003705599345266819,
                      0.003571651643142104,
                      -0.001321548712439835,
                      0.0004287610063329339
                    ],
                    [
                      0.01757826656103134,
                      0.009601625613868237,
                      0.0054534440860152245,
                      0.0044022127985954285,
                      -0.0008071365300565958,
                      0.0247108805924654,
                      0.004058776423335075,
                      -0.0018010260537266731,
                      -0.0011814645258709788,
                      -0.006492304150015116,
                      0.010915745049715042,
                      -0.011427752673625946
                    ],
                    [
                      0.006021717097610235,
                      0.0047174920327961445,
                      -0.01186622679233551,
                      0.017360767349600792,
                      0.03109491430222988,
                      -0.011273693293333054,
                      -0.0232948400080204,
                      0.01491304486989975,
                      -0.0021261158399283886,
                      0.030456846579909325,
                      0.01710118167102337,
                      -0.00016544970276299864
                    ],
                    [
                      0.0005069306353107095,
                      0.09878964722156525,
                      0.028095858171582222,
                      -0.003720005974173546,
                      0.004942846484482288,
                      0.013190598227083683,
                      -0.0017762650968506932,
                      0.09043078124523163,
                      0.003405907889828086,
                      -0.01004139892756939,
                      0.04160422459244728,
                      0.012838468886911869
                    ],
                    [
                      -0.004131918307393789,
                      -0.020428670570254326,
                      0.0013049626722931862,
                      -0.013354337774217129,
                      -0.001964916242286563,
                      -0.009984731674194336,
                      -0.0693579688668251,
                      -0.01202510017901659,
                      -0.03316642716526985,
                      0.011174910701811314,
                      0.07160302251577377,
                      -0.00723034655675292
                    ],
                    [
                      0.050425443798303604,
                      0.0338001623749733,
                      0.05859009921550751,
                      0.016107046976685524,
                      0.006303110159933567,
                      -0.02924058958888054,
                      0.0982765406370163,
                      -0.004047089256346226,
                      0.041974857449531555,
                      0.0826297253370285,
                      0.004588361829519272,
                      0.05298217013478279
                    ],
                    [
                      0.18509045243263245,
                      0.11872842907905579,
                      0.10543461889028549,
                      0.04216013476252556,
                      0.06322364509105682,
                      0.0042382837273180485,
                      0.1010676845908165,
                      -0.0025699820835143328,
                      0.0166640467941761,
                      0.005705295130610466,
                      0.10555479675531387,
                      0.11753062158823013
                    ],
                    [
                      0.002554323524236679,
                      0.07910685241222382,
                      0.24214310944080353,
                      0.2627909481525421,
                      0.01399283204227686,
                      0.09925681352615356,
                      0.16502313315868378,
                      0.030962247401475906,
                      0.04489895701408386,
                      0.20834077894687653,
                      0.02954687736928463,
                      0.12396745383739471
                    ]
                  ]
                },
                {
                  "coloraxis": "coloraxis",
                  "hovertemplate": "Head: %{x}<br>Layer: %{y}<br>Logit Contribution: %{z}<extra></extra>",
                  "name": "1",
                  "type": "heatmap",
                  "xaxis": "x2",
                  "yaxis": "y2",
                  "z": [
                    [
                      0.008002554066479206,
                      -0.004530024249106646,
                      0.004060158971697092,
                      0.0031240431126207113,
                      -0.003767815651372075,
                      0.004951982758939266,
                      0.010411899536848068,
                      0.006747311446815729,
                      0.006474629510194063,
                      0.0036648137029260397,
                      0.002924666740000248,
                      -0.0036565912887454033
                    ],
                    [
                      0.0003295416245236993,
                      -0.0015285627450793982,
                      -0.002001098357141018,
                      -0.004401669837534428,
                      0.003631873754784465,
                      0.00032594395452179015,
                      0.0217052660882473,
                      0.03448652848601341,
                      -0.011802840046584606,
                      -0.006925990805029869,
                      0.0015024094609543681,
                      -0.009886536747217178
                    ],
                    [
                      0.00280926376581192,
                      0.017244359478354454,
                      -0.00019653952040243894,
                      -0.003488191170617938,
                      -0.00046027390635572374,
                      0.002745553618296981,
                      -0.006325529422610998,
                      -0.0002208495425293222,
                      0.002239865018054843,
                      -0.001677367021329701,
                      0.004735768772661686,
                      -0.006307142786681652
                    ],
                    [
                      0.0032665885519236326,
                      -0.0006113018607720733,
                      -0.0006651132716797292,
                      0.0005705296061933041,
                      -0.000054398671636590734,
                      0.0118681900203228,
                      0.00011829401773866266,
                      -0.0036045117303729057,
                      -0.0001298601127928123,
                      0.0018109397497028112,
                      -0.0007867589592933655,
                      -0.00006082854088163003
                    ],
                    [
                      -0.00003836597170447931,
                      0.0002604088222142309,
                      0.005053042899817228,
                      0.0015046881744638085,
                      -0.0022180441301316023,
                      0.0012812684290111065,
                      -0.003597581759095192,
                      0.00030509912176057696,
                      0.006100591737776995,
                      0.0026054021436721087,
                      -0.00024245388340204954,
                      -0.00046593399019911885
                    ],
                    [
                      0.016069510951638222,
                      -0.000875595083925873,
                      0.0023542866110801697,
                      0.005461960099637508,
                      0.0019755952525883913,
                      0.018699226900935173,
                      0.002550316508859396,
                      -0.00023302137560676783,
                      -0.0013766746269538999,
                      -0.01991354115307331,
                      0.01148176845163107,
                      -0.013654090464115143
                    ],
                    [
                      0.0034184614196419716,
                      0.004036878235638142,
                      -0.012960956431925297,
                      0.012101073749363422,
                      0.032489947974681854,
                      -0.004869113210588694,
                      -0.021108146756887436,
                      0.013840566389262676,
                      -0.0025129029527306557,
                      0.017774883657693863,
                      0.01995556429028511,
                      0.0011053901398554444
                    ],
                    [
                      0.000595864315982908,
                      0.10308860242366791,
                      0.02433260716497898,
                      -0.009554577991366386,
                      0.0034859590232372284,
                      0.012924924492835999,
                      -0.011244761757552624,
                      0.09308665245771408,
                      0.002637694124132395,
                      -0.00527309300377965,
                      0.01869833655655384,
                      0.011990864761173725
                    ],
                    [
                      -0.005957397166639566,
                      0.005304132588207722,
                      0.015801524743437767,
                      0.004068938549607992,
                      -0.00011295494914520532,
                      0.006834577769041061,
                      0.00454715546220541,
                      0.0026444538962095976,
                      0.009933548048138618,
                      0.0018322310643270612,
                      -0.002264677546918392,
                      0.008101708255708218
                    ],
                    [
                      0.05071963742375374,
                      0.03172944113612175,
                      0.05914695933461189,
                      0.024254489690065384,
                      0.010071891359984875,
                      -0.034708231687545776,
                      0.08531523495912552,
                      -0.008063793182373047,
                      0.04669329524040222,
                      0.06059641391038895,
                      0.0075730872340500355,
                      0.05462756007909775
                    ],
                    [
                      0.18286576867103577,
                      0.10860879719257355,
                      0.10564389824867249,
                      0.038598138839006424,
                      0.07207010686397552,
                      0.014994433149695396,
                      0.10124237835407257,
                      0.008884984068572521,
                      0.016329403966665268,
                      0.00829798448830843,
                      0.11221057921648026,
                      0.11887519061565399
                    ],
                    [
                      -0.001944774528965354,
                      0.09105316549539566,
                      0.2472112774848938,
                      0.28270119428634644,
                      0.006378298159688711,
                      0.08646005392074585,
                      0.1688573658466339,
                      0.03908393532037735,
                      0.05540968105196953,
                      0.2229665219783783,
                      0.0387510322034359,
                      0.1266782432794571
                    ]
                  ]
                },
                {
                  "coloraxis": "coloraxis",
                  "hovertemplate": "Head: %{x}<br>Layer: %{y}<br>Logit Contribution: %{z}<extra></extra>",
                  "name": "2",
                  "type": "heatmap",
                  "xaxis": "x3",
                  "yaxis": "y3",
                  "z": [
                    [
                      0.0012830414343625307,
                      0.0011362212244421244,
                      -0.0001115364721044898,
                      0.0010425334330648184,
                      -0.0005448847659863532,
                      0.0039097899571061134,
                      0.0036715210881084204,
                      0.0013574280310422182,
                      0.002857644110918045,
                      -0.004037019331008196,
                      0.0066227237693965435,
                      -0.010467923246324062
                    ],
                    [
                      0.0010088580893352628,
                      -0.0031552070286124945,
                      0.0011667115613818169,
                      0.004170683212578297,
                      0.001763391774147749,
                      0.001785269589163363,
                      -0.0008188689243979752,
                      -0.0003861185978166759,
                      -0.004520295653492212,
                      0.00005442434121505357,
                      -0.003129618940874934,
                      -0.002523043891415
                    ],
                    [
                      -0.002089995890855789,
                      0.0007888299296610057,
                      -0.0009036394767463207,
                      -0.0011981928255409002,
                      0.0016115573234856129,
                      -0.0038535255007445812,
                      -0.00031055131694301963,
                      0.0015791592886671424,
                      -0.0007403477793559432,
                      0.003420294960960746,
                      -0.006340693216770887,
                      0.003890878288075328
                    ],
                    [
                      0.0021281344816088676,
                      -0.0027717524208128452,
                      0.0015062252059578896,
                      -0.0008485447033308446,
                      0.00593577278777957,
                      0.0018501587910577655,
                      0.002372822491452098,
                      0.00278349407017231,
                      -0.001581147313117981,
                      0.0008476738585159183,
                      -0.00008658850128995255,
                      0.0006875310791656375
                    ],
                    [
                      0.0009439097484573722,
                      -0.0011957477545365691,
                      0.00040526443626731634,
                      0.0007432159036397934,
                      0.003569832071661949,
                      -0.000022264994186116382,
                      -0.0057596019469201565,
                      0.004378905054181814,
                      0.002394992159679532,
                      -0.0009662525844760239,
                      0.0010790947126224637,
                      -0.0008946899324655533
                    ],
                    [
                      -0.0015087653882801533,
                      -0.01047722902148962,
                      -0.0030991544481366873,
                      0.0010597467189654708,
                      0.002782733179628849,
                      -0.00601165322586894,
                      -0.0015084621263667941,
                      0.001568006118759513,
                      -0.00019520838395692408,
                      -0.01342124491930008,
                      0.0005660216556861997,
                      -0.002226342912763357
                    ],
                    [
                      -0.0026032563764601946,
                      -0.0006806137389503419,
                      -0.0010947278933599591,
                      -0.0052597010508179665,
                      0.0013950314605608582,
                      0.006404583342373371,
                      0.0021866988390684128,
                      -0.001072478131391108,
                      -0.00038679008139297366,
                      -0.012681973166763783,
                      0.0028543767984956503,
                      0.0012708395952358842
                    ],
                    [
                      0.00008892922778613865,
                      0.004298935644328594,
                      -0.0037632586900144815,
                      -0.005834569223225117,
                      -0.001456884783692658,
                      -0.0002656743745319545,
                      -0.009468501433730125,
                      0.002655869582667947,
                      -0.000768214522395283,
                      0.0047683073207736015,
                      -0.022905876860022545,
                      -0.0008475997601635754
                    ],
                    [
                      -0.0018254793249070644,
                      0.025732798501849174,
                      0.014496558345854282,
                      0.017423277720808983,
                      0.0018519604345783591,
                      0.016819315031170845,
                      0.07390511780977249,
                      0.01466955617070198,
                      0.04309997707605362,
                      -0.009342675097286701,
                      -0.07386769354343414,
                      0.015332058072090149
                    ],
                    [
                      0.00029418739723041654,
                      -0.0020707312505692244,
                      0.0005568698979914188,
                      0.008147441782057285,
                      0.0037687753792852163,
                      -0.005467644892632961,
                      -0.012961304746568203,
                      -0.004016702529042959,
                      0.00471844058483839,
                      -0.022033285349607468,
                      0.0029847281984984875,
                      0.0016453908756375313
                    ],
                    [
                      -0.002224644646048546,
                      -0.010119637474417686,
                      0.00020929952734149992,
                      -0.0035619926638901234,
                      0.008846468292176723,
                      0.010756155475974083,
                      0.00017467571888118982,
                      0.011454944498836994,
                      -0.00033464402076788247,
                      0.00259268656373024,
                      0.006655785255134106,
                      0.001344572752714157
                    ],
                    [
                      -0.004499110858887434,
                      0.011946307495236397,
                      0.005068154539912939,
                      0.01991027407348156,
                      -0.007614531088620424,
                      -0.012796754948794842,
                      0.003834230825304985,
                      0.00812168326228857,
                      0.01051072683185339,
                      0.014625679701566696,
                      0.009204153902828693,
                      0.0027107996866106987
                    ]
                  ]
                },
                {
                  "coloraxis": "coloraxis",
                  "hovertemplate": "Head: %{x}<br>Layer: %{y}<br>Logit Contribution: %{z}<extra></extra>",
                  "name": "3",
                  "type": "heatmap",
                  "xaxis": "x4",
                  "yaxis": "y4",
                  "z": [
                    [
                      0.000030444469302892685,
                      0.000042242929339408875,
                      -0.00004520406946539879,
                      -0.000050409696996212006,
                      -0.00004502013325691223,
                      -0.00003237440250813961,
                      -0.0000882614403963089,
                      0.00005974620580673218,
                      0.00024827709421515465,
                      -0.0002173781394958496,
                      0.0001395398285239935,
                      0.0003761732950806618
                    ],
                    [
                      0.00002605776535347104,
                      0.000018322025425732136,
                      -0.00019406969659030437,
                      -0.00006811972707509995,
                      0.00011056952644139528,
                      0.00001827930100262165,
                      0.00004388578236103058,
                      0.0001662038266658783,
                      0.00006302259862422943,
                      -0.00006411876529455185,
                      -0.00000670459121465683,
                      -0.00005130236968398094
                    ],
                    [
                      0.00009497907012701035,
                      0.00004353746771812439,
                      0.000022181891836225986,
                      0.00004829186946153641,
                      -0.00002522394061088562,
                      0.0001013544388115406,
                      -0.0001396462321281433,
                      -0.00007869640830904245,
                      0.00004176865331828594,
                      -0.000014959368854761124,
                      0.00024641770869493484,
                      -0.00007899943739175797
                    ],
                    [
                      0.00006325915455818176,
                      0.00005803676322102547,
                      7.895287126302719e-7,
                      -0.000029164599254727364,
                      -0.00021718256175518036,
                      -0.0000033276155591011047,
                      0.00007638940587639809,
                      -0.00003260420635342598,
                      -0.000018260558135807514,
                      -0.00004942709347233176,
                      0.0000027279602363705635,
                      0.000048422778490930796
                    ],
                    [
                      -0.00005085510201752186,
                      -0.000007709604687988758,
                      -0.0000017355196177959442,
                      0.00003604404628276825,
                      0.00003379816189408302,
                      0.00003788154572248459,
                      0.000008626608178019524,
                      0.000004366505891084671,
                      -0.00012973113916814327,
                      0.0000013997778296470642,
                      -0.00003944942727684975,
                      0.00009428989142179489
                    ],
                    [
                      -0.00015165656805038452,
                      -0.00028848182410001755,
                      0.00002663256600499153,
                      0.00006950506940484047,
                      -0.00006881204899400473,
                      -0.0002908632159233093,
                      0.00011828262358903885,
                      -0.000030812923796474934,
                      -0.000039515900425612926,
                      -0.00007188180461525917,
                      -0.00002183578908443451,
                      -0.00011355150490999222
                    ],
                    [
                      0.00003116857260465622,
                      0.00003439048305153847,
                      -0.00006856583058834076,
                      0.0001920517534017563,
                      0.00006932951509952545,
                      -0.00004227086901664734,
                      0.0000014025717973709106,
                      -0.00006438884884119034,
                      -0.00003814557567238808,
                      -0.00037665851414203644,
                      0.00004122219979763031,
                      -0.00003345088043715805
                    ],
                    [
                      -0.00006647058762609959,
                      0.00015282630920410156,
                      -0.00016046501696109772,
                      -0.00007246597670018673,
                      0.00010600965470075607,
                      0.00006363075226545334,
                      0.00004240311682224274,
                      0.00003396719694137573,
                      0.000008730916306376457,
                      -0.000015933066606521606,
                      -0.00019701942801475525,
                      -0.00006916280835866928
                    ],
                    [
                      0.00414989935234189,
                      -0.038005631417036057,
                      -0.02444053441286087,
                      -0.02608601562678814,
                      -0.003232808317989111,
                      -0.02065645530819893,
                      -0.10679177939891815,
                      -0.022881507873535156,
                      -0.05938547104597092,
                      0.018318703398108482,
                      0.13017040491104126,
                      -0.022192878648638725
                    ],
                    [
                      0.00193081796169281,
                      0.006185270845890045,
                      0.004034958779811859,
                      -0.005427546799182892,
                      -0.0019109994173049927,
                      0.003710143268108368,
                      0.00557052344083786,
                      -0.0013643659185618162,
                      -0.0016038045287132263,
                      0.014561429619789124,
                      -0.0008361958898603916,
                      0.0019479990005493164
                    ],
                    [
                      0.0046234577894210815,
                      0.0075383856892585754,
                      0.006352819502353668,
                      0.0007117018103599548,
                      0.0033412128686904907,
                      -0.0021504471078515053,
                      0.005186446011066437,
                      0.0013177581131458282,
                      0.0008803363889455795,
                      -0.0023952554911375046,
                      0.006633929908275604,
                      0.008457466959953308
                    ],
                    [
                      -0.0010065454989671707,
                      0.0017257779836654663,
                      0.002977043390274048,
                      0.00038748979568481445,
                      0.0011287229135632515,
                      0.0027110055088996887,
                      0.005367383360862732,
                      0.0003574788570404053,
                      -0.0014020279049873352,
                      0.011316299438476562,
                      -0.0001082252711057663,
                      0.005425676703453064
                    ]
                  ]
                },
                {
                  "coloraxis": "coloraxis",
                  "hovertemplate": "Head: %{x}<br>Layer: %{y}<br>Logit Contribution: %{z}<extra></extra>",
                  "name": "4",
                  "type": "heatmap",
                  "xaxis": "x5",
                  "yaxis": "y5",
                  "z": [
                    [
                      0.0000425390899181366,
                      0.00001630093902349472,
                      -0.00008381856605410576,
                      -0.000003376975655555725,
                      -0.00001910305581986904,
                      -0.00005483347922563553,
                      -0.0000022472813725471497,
                      0.000056245364248752594,
                      0.00015321513637900352,
                      -0.00007200893014669418,
                      0.00003444589674472809,
                      0.00014335685409605503
                    ],
                    [
                      0.00005781318759545684,
                      0.0000065318308770656586,
                      -0.00010201847180724144,
                      -0.00004228344187140465,
                      0.00011132913641631603,
                      0.000038251193473115563,
                      0.00004808977246284485,
                      0.00015547499060630798,
                      -8.558854460716248e-7,
                      -0.00008107302710413933,
                      0.00001458846963942051,
                      -0.00003398861736059189
                    ],
                    [
                      0.00008051237091422081,
                      0.00004392117261886597,
                      -0.0000036483979783952236,
                      0.000028502894565463066,
                      -1.1801603250205517e-7,
                      0.00004171067848801613,
                      -0.00009299721568822861,
                      -0.00004094322503078729,
                      0.00006855512037873268,
                      0.000050262780860066414,
                      0.00014188885688781738,
                      -0.00006317393854260445
                    ],
                    [
                      0.000012188451364636421,
                      0.0000066828797571361065,
                      0.000012543692719191313,
                      -0.00002893875353038311,
                      -0.00014326399832498282,
                      0.000019857659935951233,
                      0.00005269608664093539,
                      0.000027123605832457542,
                      -0.000005981361027806997,
                      -0.000013959244824945927,
                      0.00001403852365911007,
                      0.000015454199456144124
                    ],
                    [
                      -0.000012469814464566298,
                      -0.000005399604560807347,
                      0.000037010759115219116,
                      0.0000411374494433403,
                      -0.000009772833436727524,
                      0.00001484481617808342,
                      0.00003980542533099651,
                      0.00005931136547587812,
                      -0.00007994705811142921,
                      -0.000010492047294974327,
                      -0.00001430993143003434,
                      0.00005084718577563763
                    ],
                    [
                      -0.00011029653251171112,
                      -0.00013683910947293043,
                      0.00000484660267829895,
                      0.00006324471905827522,
                      -0.00003546965308487415,
                      -0.00024925172328948975,
                      0.000023054657503962517,
                      0.00002253941784147173,
                      -0.00007144699338823557,
                      -0.000009451061487197876,
                      -0.000004219822585582733,
                      -0.00006814952939748764
                    ],
                    [
                      0.000029282644391059875,
                      0.000025584828108549118,
                      -0.00007292907685041428,
                      0.00007835309952497482,
                      0.00010598823428153992,
                      -0.0000016815029084682465,
                      0.000055812299251556396,
                      -5.150213837623596e-7,
                      -0.000035804929211735725,
                      -0.00007265061140060425,
                      0.00008033029735088348,
                      -0.000050429836846888065
                    ],
                    [
                      -0.0000088853994384408,
                      0.0002362579107284546,
                      0.00006486475467681885,
                      -0.0001470288261771202,
                      0.00006437255069613457,
                      0.000039538368582725525,
                      0.000020527280867099762,
                      0.00018993020057678223,
                      0.000026481691747903824,
                      0.000021649524569511414,
                      -0.00027888640761375427,
                      -0.00006946735084056854
                    ],
                    [
                      0.0007606879808008671,
                      -0.00804190430790186,
                      -0.010670436546206474,
                      -0.010283339768648148,
                      -0.0004544179537333548,
                      -0.0044697122648358345,
                      -0.03411729261279106,
                      -0.004509368911385536,
                      -0.016359245404601097,
                      0.007743616122752428,
                      0.05378784239292145,
                      -0.006777753122150898
                    ],
                    [
                      0.002712409943342209,
                      0.005579782649874687,
                      0.004382364451885223,
                      0.0008698925375938416,
                      -0.0005388511344790459,
                      -0.0010703615844249725,
                      0.005567073822021484,
                      -0.001128986943513155,
                      -0.0018558129668235779,
                      0.011987045407295227,
                      0.00002010120078921318,
                      0.002055652439594269
                    ],
                    [
                      0.0038094818592071533,
                      0.00739191472530365,
                      0.007088974118232727,
                      0.0006872750818729401,
                      0.004262663424015045,
                      -0.00047489628195762634,
                      0.005227856338024139,
                      0.0013944427482783794,
                      0.0010137781500816345,
                      -0.00007819663733243942,
                      0.0062329769134521484,
                      0.00960184633731842
                    ],
                    [
                      -0.0006638275226578116,
                      0.0017903298139572144,
                      0.0038207024335861206,
                      0.004300445318222046,
                      0.0007140063680708408,
                      0.0036974549293518066,
                      0.005372375249862671,
                      0.0005063116550445557,
                      0.0018720030784606934,
                      0.01178082823753357,
                      0.0022391267120838165,
                      0.006876431405544281
                    ]
                  ]
                },
                {
                  "coloraxis": "coloraxis",
                  "hovertemplate": "Head: %{x}<br>Layer: %{y}<br>Logit Contribution: %{z}<extra></extra>",
                  "name": "5",
                  "type": "heatmap",
                  "xaxis": "x6",
                  "yaxis": "y6",
                  "z": [
                    [
                      0.000012096832506358624,
                      -0.000025944318622350693,
                      -0.00003861595905618742,
                      0.000047030276618897915,
                      0.000025915622245520353,
                      -0.00002246210351586342,
                      0.00008602486923336983,
                      -0.0000035047996789216995,
                      -0.00009506568312644958,
                      0.00014534499496221542,
                      -0.00010510347783565521,
                      -0.00023281481117010117
                    ],
                    [
                      0.00003175460733473301,
                      -0.000011787516996264458,
                      0.00009205786045640707,
                      0.00002584001049399376,
                      7.596099749207497e-7,
                      0.000019968370907008648,
                      0.0000042059109546244144,
                      -0.000010736839612945914,
                      -0.0000638812780380249,
                      -0.000016953166777966544,
                      0.00002128956839442253,
                      0.000017309794202446938
                    ],
                    [
                      -0.000014464138075709343,
                      3.8940925151109695e-7,
                      -0.000025835528504103422,
                      -0.000019792583771049976,
                      0.000025107990950345993,
                      -0.00005964585579931736,
                      0.00004665018059313297,
                      0.00003775232471525669,
                      0.000026785361114889383,
                      0.0000652228482067585,
                      -0.00010451534762978554,
                      0.000015828292816877365
                    ],
                    [
                      -0.000051074428483843803,
                      -0.00005135894753038883,
                      0.000011750147677958012,
                      2.173474058508873e-7,
                      0.00007392372936010361,
                      0.000023182248696684837,
                      -0.000023699132725596428,
                      0.000059715937823057175,
                      0.000012279488146305084,
                      0.00003546685911715031,
                      0.00001131311000790447,
                      -0.00003297184593975544
                    ],
                    [
                      0.00003838317934423685,
                      0.0000023087486624717712,
                      0.00003874648245982826,
                      0.000005094450898468494,
                      -0.00004357192665338516,
                      -0.000023036440325086005,
                      0.000031181611120700836,
                      0.000054946169257164,
                      0.000049788039177656174,
                      -0.0000118953175842762,
                      0.000025140470825135708,
                      -0.000043439504224807024
                    ],
                    [
                      0.000041343504562973976,
                      0.0001516425982117653,
                      -0.00002178177237510681,
                      -0.000006266054697334766,
                      0.0000333455391228199,
                      0.00004160497337579727,
                      -0.00009523238986730576,
                      0.00005335372406989336,
                      -0.00003192968142684549,
                      0.0000624191015958786,
                      0.00001761416206136346,
                      0.000045394059270620346
                    ],
                    [
                      -0.000001884298399090767,
                      -0.000008807284757494926,
                      -0.000004359986633062363,
                      -0.00011370563879609108,
                      0.00003665895201265812,
                      0.000040594954043626785,
                      0.000054417410865426064,
                      0.00006387312896549702,
                      0.0000023321190383285284,
                      0.0003039948642253876,
                      0.00003909831866621971,
                      -0.000016981037333607674
                    ],
                    [
                      0.00005758393672294915,
                      0.00008343951776623726,
                      0.0002253109123557806,
                      -0.00007455423474311829,
                      -0.00004163209814578295,
                      -0.000024093329557217658,
                      -0.00002188701182603836,
                      0.000155966030433774,
                      0.000017750717233866453,
                      0.00003758305683732033,
                      -0.00008184276521205902,
                      -3.022141754627228e-7
                    ],
                    [
                      -0.003389212302863598,
                      0.029963720589876175,
                      0.013770085759460926,
                      0.015802673995494843,
                      0.0027783899568021297,
                      0.016186751425266266,
                      0.0726744756102562,
                      0.01837214268743992,
                      0.04302623122930527,
                      -0.010575074702501297,
                      -0.07638255506753922,
                      0.015415128320455551
                    ],
                    [
                      0.0007815833669155836,
                      -0.0006054971599951386,
                      0.0003474096884019673,
                      0.006297440733760595,
                      0.0013721429277211428,
                      -0.0047805095091462135,
                      -0.0000034337863326072693,
                      0.00023538339883089066,
                      -0.0002520051784813404,
                      -0.002574348822236061,
                      0.0008562994189560413,
                      0.00010765169281512499
                    ],
                    [
                      -0.0008139372803270817,
                      -0.00014646723866462708,
                      0.0007361752213910222,
                      -0.000024433014914393425,
                      0.0009214552119374275,
                      0.0016755536198616028,
                      0.00004141120007261634,
                      0.0000766851007938385,
                      0.00013343722093850374,
                      0.0023170574568212032,
                      -0.00040094880387187004,
                      0.0011444013798609376
                    ],
                    [
                      0.00034271925687789917,
                      0.0000645490363240242,
                      0.000843624584376812,
                      0.003913011401891708,
                      -0.0004147132858633995,
                      0.0009864354506134987,
                      0.000004997244104743004,
                      0.0001488327980041504,
                      0.003274034708738327,
                      0.000464477576315403,
                      0.0023473533801734447,
                      0.0014507482992485166
                    ]
                  ]
                }
              ],
              "layout": {
                "annotations": [
                  {
                    "font": {},
                    "showarrow": false,
                    "text": "Logit Diff - 3.15",
                    "x": 0.075,
                    "xanchor": "center",
                    "xref": "paper",
                    "y": 1,
                    "yanchor": "bottom",
                    "yref": "paper"
                  },
                  {
                    "font": {},
                    "showarrow": false,
                    "text": "Correct Direction",
                    "x": 0.24499999999999997,
                    "xanchor": "center",
                    "xref": "paper",
                    "y": 1,
                    "yanchor": "bottom",
                    "yref": "paper"
                  },
                  {
                    "font": {},
                    "showarrow": false,
                    "text": "Incorrect Direction",
                    "x": 0.415,
                    "xanchor": "center",
                    "xref": "paper",
                    "y": 1,
                    "yanchor": "bottom",
                    "yref": "paper"
                  },
                  {
                    "font": {},
                    "showarrow": false,
                    "text": "Logit Diff Diff",
                    "x": 0.585,
                    "xanchor": "center",
                    "xref": "paper",
                    "y": 1,
                    "yanchor": "bottom",
                    "yref": "paper"
                  },
                  {
                    "font": {},
                    "showarrow": false,
                    "text": "Correction Direction Diff",
                    "x": 0.7549999999999999,
                    "xanchor": "center",
                    "xref": "paper",
                    "y": 1,
                    "yanchor": "bottom",
                    "yref": "paper"
                  },
                  {
                    "font": {},
                    "showarrow": false,
                    "text": "Incorrect Direction Diff",
                    "x": 0.925,
                    "xanchor": "center",
                    "xref": "paper",
                    "y": 1,
                    "yanchor": "bottom",
                    "yref": "paper"
                  }
                ],
                "coloraxis": {
                  "cmid": 0,
                  "colorbar": {
                    "title": {
                      "text": "Logit Contribution"
                    }
                  },
                  "colorscale": [
                    [
                      0,
                      "rgb(103,0,31)"
                    ],
                    [
                      0.1,
                      "rgb(178,24,43)"
                    ],
                    [
                      0.2,
                      "rgb(214,96,77)"
                    ],
                    [
                      0.3,
                      "rgb(244,165,130)"
                    ],
                    [
                      0.4,
                      "rgb(253,219,199)"
                    ],
                    [
                      0.5,
                      "rgb(247,247,247)"
                    ],
                    [
                      0.6,
                      "rgb(209,229,240)"
                    ],
                    [
                      0.7,
                      "rgb(146,197,222)"
                    ],
                    [
                      0.8,
                      "rgb(67,147,195)"
                    ],
                    [
                      0.9,
                      "rgb(33,102,172)"
                    ],
                    [
                      1,
                      "rgb(5,48,97)"
                    ]
                  ]
                },
                "margin": {
                  "l": 100,
                  "r": 100
                },
                "template": {
                  "data": {
                    "bar": [
                      {
                        "error_x": {
                          "color": "#2a3f5f"
                        },
                        "error_y": {
                          "color": "#2a3f5f"
                        },
                        "marker": {
                          "line": {
                            "color": "#E5ECF6",
                            "width": 0.5
                          },
                          "pattern": {
                            "fillmode": "overlay",
                            "size": 10,
                            "solidity": 0.2
                          }
                        },
                        "type": "bar"
                      }
                    ],
                    "barpolar": [
                      {
                        "marker": {
                          "line": {
                            "color": "#E5ECF6",
                            "width": 0.5
                          },
                          "pattern": {
                            "fillmode": "overlay",
                            "size": 10,
                            "solidity": 0.2
                          }
                        },
                        "type": "barpolar"
                      }
                    ],
                    "carpet": [
                      {
                        "aaxis": {
                          "endlinecolor": "#2a3f5f",
                          "gridcolor": "white",
                          "linecolor": "white",
                          "minorgridcolor": "white",
                          "startlinecolor": "#2a3f5f"
                        },
                        "baxis": {
                          "endlinecolor": "#2a3f5f",
                          "gridcolor": "white",
                          "linecolor": "white",
                          "minorgridcolor": "white",
                          "startlinecolor": "#2a3f5f"
                        },
                        "type": "carpet"
                      }
                    ],
                    "choropleth": [
                      {
                        "colorbar": {
                          "outlinewidth": 0,
                          "ticks": ""
                        },
                        "type": "choropleth"
                      }
                    ],
                    "contour": [
                      {
                        "colorbar": {
                          "outlinewidth": 0,
                          "ticks": ""
                        },
                        "colorscale": [
                          [
                            0,
                            "#0d0887"
                          ],
                          [
                            0.1111111111111111,
                            "#46039f"
                          ],
                          [
                            0.2222222222222222,
                            "#7201a8"
                          ],
                          [
                            0.3333333333333333,
                            "#9c179e"
                          ],
                          [
                            0.4444444444444444,
                            "#bd3786"
                          ],
                          [
                            0.5555555555555556,
                            "#d8576b"
                          ],
                          [
                            0.6666666666666666,
                            "#ed7953"
                          ],
                          [
                            0.7777777777777778,
                            "#fb9f3a"
                          ],
                          [
                            0.8888888888888888,
                            "#fdca26"
                          ],
                          [
                            1,
                            "#f0f921"
                          ]
                        ],
                        "type": "contour"
                      }
                    ],
                    "contourcarpet": [
                      {
                        "colorbar": {
                          "outlinewidth": 0,
                          "ticks": ""
                        },
                        "type": "contourcarpet"
                      }
                    ],
                    "heatmap": [
                      {
                        "colorbar": {
                          "outlinewidth": 0,
                          "ticks": ""
                        },
                        "colorscale": [
                          [
                            0,
                            "#0d0887"
                          ],
                          [
                            0.1111111111111111,
                            "#46039f"
                          ],
                          [
                            0.2222222222222222,
                            "#7201a8"
                          ],
                          [
                            0.3333333333333333,
                            "#9c179e"
                          ],
                          [
                            0.4444444444444444,
                            "#bd3786"
                          ],
                          [
                            0.5555555555555556,
                            "#d8576b"
                          ],
                          [
                            0.6666666666666666,
                            "#ed7953"
                          ],
                          [
                            0.7777777777777778,
                            "#fb9f3a"
                          ],
                          [
                            0.8888888888888888,
                            "#fdca26"
                          ],
                          [
                            1,
                            "#f0f921"
                          ]
                        ],
                        "type": "heatmap"
                      }
                    ],
                    "heatmapgl": [
                      {
                        "colorbar": {
                          "outlinewidth": 0,
                          "ticks": ""
                        },
                        "colorscale": [
                          [
                            0,
                            "#0d0887"
                          ],
                          [
                            0.1111111111111111,
                            "#46039f"
                          ],
                          [
                            0.2222222222222222,
                            "#7201a8"
                          ],
                          [
                            0.3333333333333333,
                            "#9c179e"
                          ],
                          [
                            0.4444444444444444,
                            "#bd3786"
                          ],
                          [
                            0.5555555555555556,
                            "#d8576b"
                          ],
                          [
                            0.6666666666666666,
                            "#ed7953"
                          ],
                          [
                            0.7777777777777778,
                            "#fb9f3a"
                          ],
                          [
                            0.8888888888888888,
                            "#fdca26"
                          ],
                          [
                            1,
                            "#f0f921"
                          ]
                        ],
                        "type": "heatmapgl"
                      }
                    ],
                    "histogram": [
                      {
                        "marker": {
                          "pattern": {
                            "fillmode": "overlay",
                            "size": 10,
                            "solidity": 0.2
                          }
                        },
                        "type": "histogram"
                      }
                    ],
                    "histogram2d": [
                      {
                        "colorbar": {
                          "outlinewidth": 0,
                          "ticks": ""
                        },
                        "colorscale": [
                          [
                            0,
                            "#0d0887"
                          ],
                          [
                            0.1111111111111111,
                            "#46039f"
                          ],
                          [
                            0.2222222222222222,
                            "#7201a8"
                          ],
                          [
                            0.3333333333333333,
                            "#9c179e"
                          ],
                          [
                            0.4444444444444444,
                            "#bd3786"
                          ],
                          [
                            0.5555555555555556,
                            "#d8576b"
                          ],
                          [
                            0.6666666666666666,
                            "#ed7953"
                          ],
                          [
                            0.7777777777777778,
                            "#fb9f3a"
                          ],
                          [
                            0.8888888888888888,
                            "#fdca26"
                          ],
                          [
                            1,
                            "#f0f921"
                          ]
                        ],
                        "type": "histogram2d"
                      }
                    ],
                    "histogram2dcontour": [
                      {
                        "colorbar": {
                          "outlinewidth": 0,
                          "ticks": ""
                        },
                        "colorscale": [
                          [
                            0,
                            "#0d0887"
                          ],
                          [
                            0.1111111111111111,
                            "#46039f"
                          ],
                          [
                            0.2222222222222222,
                            "#7201a8"
                          ],
                          [
                            0.3333333333333333,
                            "#9c179e"
                          ],
                          [
                            0.4444444444444444,
                            "#bd3786"
                          ],
                          [
                            0.5555555555555556,
                            "#d8576b"
                          ],
                          [
                            0.6666666666666666,
                            "#ed7953"
                          ],
                          [
                            0.7777777777777778,
                            "#fb9f3a"
                          ],
                          [
                            0.8888888888888888,
                            "#fdca26"
                          ],
                          [
                            1,
                            "#f0f921"
                          ]
                        ],
                        "type": "histogram2dcontour"
                      }
                    ],
                    "mesh3d": [
                      {
                        "colorbar": {
                          "outlinewidth": 0,
                          "ticks": ""
                        },
                        "type": "mesh3d"
                      }
                    ],
                    "parcoords": [
                      {
                        "line": {
                          "colorbar": {
                            "outlinewidth": 0,
                            "ticks": ""
                          }
                        },
                        "type": "parcoords"
                      }
                    ],
                    "pie": [
                      {
                        "automargin": true,
                        "type": "pie"
                      }
                    ],
                    "scatter": [
                      {
                        "fillpattern": {
                          "fillmode": "overlay",
                          "size": 10,
                          "solidity": 0.2
                        },
                        "type": "scatter"
                      }
                    ],
                    "scatter3d": [
                      {
                        "line": {
                          "colorbar": {
                            "outlinewidth": 0,
                            "ticks": ""
                          }
                        },
                        "marker": {
                          "colorbar": {
                            "outlinewidth": 0,
                            "ticks": ""
                          }
                        },
                        "type": "scatter3d"
                      }
                    ],
                    "scattercarpet": [
                      {
                        "marker": {
                          "colorbar": {
                            "outlinewidth": 0,
                            "ticks": ""
                          }
                        },
                        "type": "scattercarpet"
                      }
                    ],
                    "scattergeo": [
                      {
                        "marker": {
                          "colorbar": {
                            "outlinewidth": 0,
                            "ticks": ""
                          }
                        },
                        "type": "scattergeo"
                      }
                    ],
                    "scattergl": [
                      {
                        "marker": {
                          "colorbar": {
                            "outlinewidth": 0,
                            "ticks": ""
                          }
                        },
                        "type": "scattergl"
                      }
                    ],
                    "scattermapbox": [
                      {
                        "marker": {
                          "colorbar": {
                            "outlinewidth": 0,
                            "ticks": ""
                          }
                        },
                        "type": "scattermapbox"
                      }
                    ],
                    "scatterpolar": [
                      {
                        "marker": {
                          "colorbar": {
                            "outlinewidth": 0,
                            "ticks": ""
                          }
                        },
                        "type": "scatterpolar"
                      }
                    ],
                    "scatterpolargl": [
                      {
                        "marker": {
                          "colorbar": {
                            "outlinewidth": 0,
                            "ticks": ""
                          }
                        },
                        "type": "scatterpolargl"
                      }
                    ],
                    "scatterternary": [
                      {
                        "marker": {
                          "colorbar": {
                            "outlinewidth": 0,
                            "ticks": ""
                          }
                        },
                        "type": "scatterternary"
                      }
                    ],
                    "surface": [
                      {
                        "colorbar": {
                          "outlinewidth": 0,
                          "ticks": ""
                        },
                        "colorscale": [
                          [
                            0,
                            "#0d0887"
                          ],
                          [
                            0.1111111111111111,
                            "#46039f"
                          ],
                          [
                            0.2222222222222222,
                            "#7201a8"
                          ],
                          [
                            0.3333333333333333,
                            "#9c179e"
                          ],
                          [
                            0.4444444444444444,
                            "#bd3786"
                          ],
                          [
                            0.5555555555555556,
                            "#d8576b"
                          ],
                          [
                            0.6666666666666666,
                            "#ed7953"
                          ],
                          [
                            0.7777777777777778,
                            "#fb9f3a"
                          ],
                          [
                            0.8888888888888888,
                            "#fdca26"
                          ],
                          [
                            1,
                            "#f0f921"
                          ]
                        ],
                        "type": "surface"
                      }
                    ],
                    "table": [
                      {
                        "cells": {
                          "fill": {
                            "color": "#EBF0F8"
                          },
                          "line": {
                            "color": "white"
                          }
                        },
                        "header": {
                          "fill": {
                            "color": "#C8D4E3"
                          },
                          "line": {
                            "color": "white"
                          }
                        },
                        "type": "table"
                      }
                    ]
                  },
                  "layout": {
                    "annotationdefaults": {
                      "arrowcolor": "#2a3f5f",
                      "arrowhead": 0,
                      "arrowwidth": 1
                    },
                    "autotypenumbers": "strict",
                    "coloraxis": {
                      "colorbar": {
                        "outlinewidth": 0,
                        "ticks": ""
                      }
                    },
                    "colorscale": {
                      "diverging": [
                        [
                          0,
                          "#8e0152"
                        ],
                        [
                          0.1,
                          "#c51b7d"
                        ],
                        [
                          0.2,
                          "#de77ae"
                        ],
                        [
                          0.3,
                          "#f1b6da"
                        ],
                        [
                          0.4,
                          "#fde0ef"
                        ],
                        [
                          0.5,
                          "#f7f7f7"
                        ],
                        [
                          0.6,
                          "#e6f5d0"
                        ],
                        [
                          0.7,
                          "#b8e186"
                        ],
                        [
                          0.8,
                          "#7fbc41"
                        ],
                        [
                          0.9,
                          "#4d9221"
                        ],
                        [
                          1,
                          "#276419"
                        ]
                      ],
                      "sequential": [
                        [
                          0,
                          "#0d0887"
                        ],
                        [
                          0.1111111111111111,
                          "#46039f"
                        ],
                        [
                          0.2222222222222222,
                          "#7201a8"
                        ],
                        [
                          0.3333333333333333,
                          "#9c179e"
                        ],
                        [
                          0.4444444444444444,
                          "#bd3786"
                        ],
                        [
                          0.5555555555555556,
                          "#d8576b"
                        ],
                        [
                          0.6666666666666666,
                          "#ed7953"
                        ],
                        [
                          0.7777777777777778,
                          "#fb9f3a"
                        ],
                        [
                          0.8888888888888888,
                          "#fdca26"
                        ],
                        [
                          1,
                          "#f0f921"
                        ]
                      ],
                      "sequentialminus": [
                        [
                          0,
                          "#0d0887"
                        ],
                        [
                          0.1111111111111111,
                          "#46039f"
                        ],
                        [
                          0.2222222222222222,
                          "#7201a8"
                        ],
                        [
                          0.3333333333333333,
                          "#9c179e"
                        ],
                        [
                          0.4444444444444444,
                          "#bd3786"
                        ],
                        [
                          0.5555555555555556,
                          "#d8576b"
                        ],
                        [
                          0.6666666666666666,
                          "#ed7953"
                        ],
                        [
                          0.7777777777777778,
                          "#fb9f3a"
                        ],
                        [
                          0.8888888888888888,
                          "#fdca26"
                        ],
                        [
                          1,
                          "#f0f921"
                        ]
                      ]
                    },
                    "colorway": [
                      "#636efa",
                      "#EF553B",
                      "#00cc96",
                      "#ab63fa",
                      "#FFA15A",
                      "#19d3f3",
                      "#FF6692",
                      "#B6E880",
                      "#FF97FF",
                      "#FECB52"
                    ],
                    "font": {
                      "color": "#2a3f5f"
                    },
                    "geo": {
                      "bgcolor": "white",
                      "lakecolor": "white",
                      "landcolor": "#E5ECF6",
                      "showlakes": true,
                      "showland": true,
                      "subunitcolor": "white"
                    },
                    "hoverlabel": {
                      "align": "left"
                    },
                    "hovermode": "closest",
                    "mapbox": {
                      "style": "light"
                    },
                    "paper_bgcolor": "white",
                    "plot_bgcolor": "#E5ECF6",
                    "polar": {
                      "angularaxis": {
                        "gridcolor": "white",
                        "linecolor": "white",
                        "ticks": ""
                      },
                      "bgcolor": "#E5ECF6",
                      "radialaxis": {
                        "gridcolor": "white",
                        "linecolor": "white",
                        "ticks": ""
                      }
                    },
                    "scene": {
                      "xaxis": {
                        "backgroundcolor": "#E5ECF6",
                        "gridcolor": "white",
                        "gridwidth": 2,
                        "linecolor": "white",
                        "showbackground": true,
                        "ticks": "",
                        "zerolinecolor": "white"
                      },
                      "yaxis": {
                        "backgroundcolor": "#E5ECF6",
                        "gridcolor": "white",
                        "gridwidth": 2,
                        "linecolor": "white",
                        "showbackground": true,
                        "ticks": "",
                        "zerolinecolor": "white"
                      },
                      "zaxis": {
                        "backgroundcolor": "#E5ECF6",
                        "gridcolor": "white",
                        "gridwidth": 2,
                        "linecolor": "white",
                        "showbackground": true,
                        "ticks": "",
                        "zerolinecolor": "white"
                      }
                    },
                    "shapedefaults": {
                      "line": {
                        "color": "#2a3f5f"
                      }
                    },
                    "ternary": {
                      "aaxis": {
                        "gridcolor": "white",
                        "linecolor": "white",
                        "ticks": ""
                      },
                      "baxis": {
                        "gridcolor": "white",
                        "linecolor": "white",
                        "ticks": ""
                      },
                      "bgcolor": "#E5ECF6",
                      "caxis": {
                        "gridcolor": "white",
                        "linecolor": "white",
                        "ticks": ""
                      }
                    },
                    "title": {
                      "x": 0.05
                    },
                    "xaxis": {
                      "automargin": true,
                      "gridcolor": "white",
                      "linecolor": "white",
                      "ticks": "",
                      "title": {
                        "standoff": 15
                      },
                      "zerolinecolor": "white",
                      "zerolinewidth": 2
                    },
                    "yaxis": {
                      "automargin": true,
                      "gridcolor": "white",
                      "linecolor": "white",
                      "ticks": "",
                      "title": {
                        "standoff": 15
                      },
                      "zerolinecolor": "white",
                      "zerolinewidth": 2
                    }
                  }
                },
                "title": {
                  "text": "Logits when Act Patching in 11.3"
                },
                "width": 1500,
                "xaxis": {
                  "anchor": "y",
                  "constrain": "domain",
                  "domain": [
                    0,
                    0.15
                  ],
                  "linecolor": "black",
                  "linewidth": 1,
                  "mirror": true,
                  "scaleanchor": "y",
                  "showline": true,
                  "title": {
                    "text": "Head"
                  }
                },
                "xaxis2": {
                  "anchor": "y2",
                  "domain": [
                    0.16999999999999998,
                    0.31999999999999995
                  ],
                  "linecolor": "black",
                  "linewidth": 1,
                  "matches": "x",
                  "mirror": true,
                  "showline": true,
                  "title": {
                    "text": "Head"
                  }
                },
                "xaxis3": {
                  "anchor": "y3",
                  "domain": [
                    0.33999999999999997,
                    0.49
                  ],
                  "linecolor": "black",
                  "linewidth": 1,
                  "matches": "x",
                  "mirror": true,
                  "showline": true,
                  "title": {
                    "text": "Head"
                  }
                },
                "xaxis4": {
                  "anchor": "y4",
                  "domain": [
                    0.51,
                    0.66
                  ],
                  "linecolor": "black",
                  "linewidth": 1,
                  "matches": "x",
                  "mirror": true,
                  "showline": true,
                  "title": {
                    "text": "Head"
                  }
                },
                "xaxis5": {
                  "anchor": "y5",
                  "domain": [
                    0.6799999999999999,
                    0.83
                  ],
                  "linecolor": "black",
                  "linewidth": 1,
                  "matches": "x",
                  "mirror": true,
                  "showline": true,
                  "title": {
                    "text": "Head"
                  }
                },
                "xaxis6": {
                  "anchor": "y6",
                  "domain": [
                    0.85,
                    1
                  ],
                  "linecolor": "black",
                  "linewidth": 1,
                  "matches": "x",
                  "mirror": true,
                  "showline": true,
                  "title": {
                    "text": "Head"
                  }
                },
                "yaxis": {
                  "anchor": "x",
                  "autorange": "reversed",
                  "constrain": "domain",
                  "domain": [
                    0,
                    1
                  ],
                  "linecolor": "black",
                  "linewidth": 1,
                  "mirror": true,
                  "showline": true,
                  "title": {
                    "text": "Layer"
                  }
                },
                "yaxis2": {
                  "anchor": "x2",
                  "domain": [
                    0,
                    1
                  ],
                  "linecolor": "black",
                  "linewidth": 1,
                  "matches": "y",
                  "mirror": true,
                  "showline": true,
                  "showticklabels": false
                },
                "yaxis3": {
                  "anchor": "x3",
                  "domain": [
                    0,
                    1
                  ],
                  "linecolor": "black",
                  "linewidth": 1,
                  "matches": "y",
                  "mirror": true,
                  "showline": true,
                  "showticklabels": false
                },
                "yaxis4": {
                  "anchor": "x4",
                  "domain": [
                    0,
                    1
                  ],
                  "linecolor": "black",
                  "linewidth": 1,
                  "matches": "y",
                  "mirror": true,
                  "showline": true,
                  "showticklabels": false
                },
                "yaxis5": {
                  "anchor": "x5",
                  "domain": [
                    0,
                    1
                  ],
                  "linecolor": "black",
                  "linewidth": 1,
                  "matches": "y",
                  "mirror": true,
                  "showline": true,
                  "showticklabels": false
                },
                "yaxis6": {
                  "anchor": "x6",
                  "domain": [
                    0,
                    1
                  ],
                  "linecolor": "black",
                  "linewidth": 1,
                  "matches": "y",
                  "mirror": true,
                  "showline": true,
                  "showticklabels": false
                }
              }
            },
            "text/html": [
              "<div>                            <div id=\"5fab8e5c-a997-4809-ac60-4b9119fa5bc5\" class=\"plotly-graph-div\" style=\"height:525px; width:1500px;\"></div>            <script type=\"text/javascript\">                require([\"plotly\"], function(Plotly) {                    window.PLOTLYENV=window.PLOTLYENV || {};                                    if (document.getElementById(\"5fab8e5c-a997-4809-ac60-4b9119fa5bc5\")) {                    Plotly.newPlot(                        \"5fab8e5c-a997-4809-ac60-4b9119fa5bc5\",                        [{\"coloraxis\":\"coloraxis\",\"name\":\"0\",\"z\":[[0.006719513330608606,-0.005666243378072977,0.00417169788852334,0.002081508981063962,-0.0032229300122708082,0.0010421909391880035,0.006740386597812176,0.005389879457652569,0.00361698679625988,0.00770182441920042,-0.003698060754686594,0.00681133521720767],[-0.0006793165812268853,0.0016266454476863146,-0.0031678073573857546,-0.008572347462177277,0.0018684817478060722,-0.0014593272935599089,0.022524133324623108,0.03487264737486839,-0.007282545790076256,-0.00698041683062911,0.004632031545042992,-0.007363492157310247],[0.004899261984974146,0.016455531120300293,0.0007070990977808833,-0.002290000906214118,-0.0020718302112072706,0.006599076092243195,-0.006014975253492594,-0.0018000103300437331,0.0029802119825035334,-0.005097659770399332,0.011076465249061584,-0.010198022238910198],[0.001138456747867167,0.0021604455541819334,-0.0021713413298130035,0.0014190694782882929,-0.005990166682749987,0.010018027387559414,-0.0022545300889760256,-0.0063880146481096745,0.0014512889320030808,0.000963264552410692,-0.0007001689518801868,-0.0007483619847334921],[-0.0009822772117331624,0.0014561566058546305,0.004647779278457165,0.0007614758796989918,-0.005787878297269344,0.0013035328593105078,0.002162027405574918,-0.004073804710060358,0.003705599345266819,0.003571651643142104,-0.001321548712439835,0.0004287610063329339],[0.01757826656103134,0.009601625613868237,0.0054534440860152245,0.0044022127985954285,-0.0008071365300565958,0.0247108805924654,0.004058776423335075,-0.0018010260537266731,-0.0011814645258709788,-0.006492304150015116,0.010915745049715042,-0.011427752673625946],[0.006021717097610235,0.0047174920327961445,-0.01186622679233551,0.017360767349600792,0.03109491430222988,-0.011273693293333054,-0.0232948400080204,0.01491304486989975,-0.0021261158399283886,0.030456846579909325,0.01710118167102337,-0.00016544970276299864],[0.0005069306353107095,0.09878964722156525,0.028095858171582222,-0.003720005974173546,0.004942846484482288,0.013190598227083683,-0.0017762650968506932,0.09043078124523163,0.003405907889828086,-0.01004139892756939,0.04160422459244728,0.012838468886911869],[-0.004131918307393789,-0.020428670570254326,0.0013049626722931862,-0.013354337774217129,-0.001964916242286563,-0.009984731674194336,-0.0693579688668251,-0.01202510017901659,-0.03316642716526985,0.011174910701811314,0.07160302251577377,-0.00723034655675292],[0.050425443798303604,0.0338001623749733,0.05859009921550751,0.016107046976685524,0.006303110159933567,-0.02924058958888054,0.0982765406370163,-0.004047089256346226,0.041974857449531555,0.0826297253370285,0.004588361829519272,0.05298217013478279],[0.18509045243263245,0.11872842907905579,0.10543461889028549,0.04216013476252556,0.06322364509105682,0.0042382837273180485,0.1010676845908165,-0.0025699820835143328,0.0166640467941761,0.005705295130610466,0.10555479675531387,0.11753062158823013],[0.002554323524236679,0.07910685241222382,0.24214310944080353,0.2627909481525421,0.01399283204227686,0.09925681352615356,0.16502313315868378,0.030962247401475906,0.04489895701408386,0.20834077894687653,0.02954687736928463,0.12396745383739471]],\"type\":\"heatmap\",\"xaxis\":\"x\",\"yaxis\":\"y\",\"hovertemplate\":\"Head: %{x}\\u003cbr\\u003eLayer: %{y}\\u003cbr\\u003eLogit Contribution: %{z}\\u003cextra\\u003e\\u003c\\u002fextra\\u003e\"},{\"coloraxis\":\"coloraxis\",\"name\":\"1\",\"z\":[[0.008002554066479206,-0.004530024249106646,0.004060158971697092,0.0031240431126207113,-0.003767815651372075,0.004951982758939266,0.010411899536848068,0.006747311446815729,0.006474629510194063,0.0036648137029260397,0.002924666740000248,-0.0036565912887454033],[0.0003295416245236993,-0.0015285627450793982,-0.002001098357141018,-0.004401669837534428,0.003631873754784465,0.00032594395452179015,0.0217052660882473,0.03448652848601341,-0.011802840046584606,-0.006925990805029869,0.0015024094609543681,-0.009886536747217178],[0.00280926376581192,0.017244359478354454,-0.00019653952040243894,-0.003488191170617938,-0.00046027390635572374,0.002745553618296981,-0.006325529422610998,-0.0002208495425293222,0.002239865018054843,-0.001677367021329701,0.004735768772661686,-0.006307142786681652],[0.0032665885519236326,-0.0006113018607720733,-0.0006651132716797292,0.0005705296061933041,-5.4398671636590734e-05,0.0118681900203228,0.00011829401773866266,-0.0036045117303729057,-0.0001298601127928123,0.0018109397497028112,-0.0007867589592933655,-6.082854088163003e-05],[-3.836597170447931e-05,0.0002604088222142309,0.005053042899817228,0.0015046881744638085,-0.0022180441301316023,0.0012812684290111065,-0.003597581759095192,0.00030509912176057696,0.006100591737776995,0.0026054021436721087,-0.00024245388340204954,-0.00046593399019911885],[0.016069510951638222,-0.000875595083925873,0.0023542866110801697,0.005461960099637508,0.0019755952525883913,0.018699226900935173,0.002550316508859396,-0.00023302137560676783,-0.0013766746269538999,-0.01991354115307331,0.01148176845163107,-0.013654090464115143],[0.0034184614196419716,0.004036878235638142,-0.012960956431925297,0.012101073749363422,0.032489947974681854,-0.004869113210588694,-0.021108146756887436,0.013840566389262676,-0.0025129029527306557,0.017774883657693863,0.01995556429028511,0.0011053901398554444],[0.000595864315982908,0.10308860242366791,0.02433260716497898,-0.009554577991366386,0.0034859590232372284,0.012924924492835999,-0.011244761757552624,0.09308665245771408,0.002637694124132395,-0.00527309300377965,0.01869833655655384,0.011990864761173725],[-0.005957397166639566,0.005304132588207722,0.015801524743437767,0.004068938549607992,-0.00011295494914520532,0.006834577769041061,0.00454715546220541,0.0026444538962095976,0.009933548048138618,0.0018322310643270612,-0.002264677546918392,0.008101708255708218],[0.05071963742375374,0.03172944113612175,0.05914695933461189,0.024254489690065384,0.010071891359984875,-0.034708231687545776,0.08531523495912552,-0.008063793182373047,0.04669329524040222,0.06059641391038895,0.0075730872340500355,0.05462756007909775],[0.18286576867103577,0.10860879719257355,0.10564389824867249,0.038598138839006424,0.07207010686397552,0.014994433149695396,0.10124237835407257,0.008884984068572521,0.016329403966665268,0.00829798448830843,0.11221057921648026,0.11887519061565399],[-0.001944774528965354,0.09105316549539566,0.2472112774848938,0.28270119428634644,0.006378298159688711,0.08646005392074585,0.1688573658466339,0.03908393532037735,0.05540968105196953,0.2229665219783783,0.0387510322034359,0.1266782432794571]],\"type\":\"heatmap\",\"xaxis\":\"x2\",\"yaxis\":\"y2\",\"hovertemplate\":\"Head: %{x}\\u003cbr\\u003eLayer: %{y}\\u003cbr\\u003eLogit Contribution: %{z}\\u003cextra\\u003e\\u003c\\u002fextra\\u003e\"},{\"coloraxis\":\"coloraxis\",\"name\":\"2\",\"z\":[[0.0012830414343625307,0.0011362212244421244,-0.0001115364721044898,0.0010425334330648184,-0.0005448847659863532,0.0039097899571061134,0.0036715210881084204,0.0013574280310422182,0.002857644110918045,-0.004037019331008196,0.0066227237693965435,-0.010467923246324062],[0.0010088580893352628,-0.0031552070286124945,0.0011667115613818169,0.004170683212578297,0.001763391774147749,0.001785269589163363,-0.0008188689243979752,-0.0003861185978166759,-0.004520295653492212,5.442434121505357e-05,-0.003129618940874934,-0.002523043891415],[-0.002089995890855789,0.0007888299296610057,-0.0009036394767463207,-0.0011981928255409002,0.0016115573234856129,-0.0038535255007445812,-0.00031055131694301963,0.0015791592886671424,-0.0007403477793559432,0.003420294960960746,-0.006340693216770887,0.003890878288075328],[0.0021281344816088676,-0.0027717524208128452,0.0015062252059578896,-0.0008485447033308446,0.00593577278777957,0.0018501587910577655,0.002372822491452098,0.00278349407017231,-0.001581147313117981,0.0008476738585159183,-8.658850128995255e-05,0.0006875310791656375],[0.0009439097484573722,-0.0011957477545365691,0.00040526443626731634,0.0007432159036397934,0.003569832071661949,-2.2264994186116382e-05,-0.0057596019469201565,0.004378905054181814,0.002394992159679532,-0.0009662525844760239,0.0010790947126224637,-0.0008946899324655533],[-0.0015087653882801533,-0.01047722902148962,-0.0030991544481366873,0.0010597467189654708,0.002782733179628849,-0.00601165322586894,-0.0015084621263667941,0.001568006118759513,-0.00019520838395692408,-0.01342124491930008,0.0005660216556861997,-0.002226342912763357],[-0.0026032563764601946,-0.0006806137389503419,-0.0010947278933599591,-0.0052597010508179665,0.0013950314605608582,0.006404583342373371,0.0021866988390684128,-0.001072478131391108,-0.00038679008139297366,-0.012681973166763783,0.0028543767984956503,0.0012708395952358842],[8.892922778613865e-05,0.004298935644328594,-0.0037632586900144815,-0.005834569223225117,-0.001456884783692658,-0.0002656743745319545,-0.009468501433730125,0.002655869582667947,-0.000768214522395283,0.0047683073207736015,-0.022905876860022545,-0.0008475997601635754],[-0.0018254793249070644,0.025732798501849174,0.014496558345854282,0.017423277720808983,0.0018519604345783591,0.016819315031170845,0.07390511780977249,0.01466955617070198,0.04309997707605362,-0.009342675097286701,-0.07386769354343414,0.015332058072090149],[0.00029418739723041654,-0.0020707312505692244,0.0005568698979914188,0.008147441782057285,0.0037687753792852163,-0.005467644892632961,-0.012961304746568203,-0.004016702529042959,0.00471844058483839,-0.022033285349607468,0.0029847281984984875,0.0016453908756375313],[-0.002224644646048546,-0.010119637474417686,0.00020929952734149992,-0.0035619926638901234,0.008846468292176723,0.010756155475974083,0.00017467571888118982,0.011454944498836994,-0.00033464402076788247,0.00259268656373024,0.006655785255134106,0.001344572752714157],[-0.004499110858887434,0.011946307495236397,0.005068154539912939,0.01991027407348156,-0.007614531088620424,-0.012796754948794842,0.003834230825304985,0.00812168326228857,0.01051072683185339,0.014625679701566696,0.009204153902828693,0.0027107996866106987]],\"type\":\"heatmap\",\"xaxis\":\"x3\",\"yaxis\":\"y3\",\"hovertemplate\":\"Head: %{x}\\u003cbr\\u003eLayer: %{y}\\u003cbr\\u003eLogit Contribution: %{z}\\u003cextra\\u003e\\u003c\\u002fextra\\u003e\"},{\"coloraxis\":\"coloraxis\",\"name\":\"3\",\"z\":[[3.0444469302892685e-05,4.2242929339408875e-05,-4.520406946539879e-05,-5.0409696996212006e-05,-4.502013325691223e-05,-3.237440250813961e-05,-8.82614403963089e-05,5.974620580673218e-05,0.00024827709421515465,-0.0002173781394958496,0.0001395398285239935,0.0003761732950806618],[2.605776535347104e-05,1.8322025425732136e-05,-0.00019406969659030437,-6.811972707509995e-05,0.00011056952644139528,1.827930100262165e-05,4.388578236103058e-05,0.0001662038266658783,6.302259862422943e-05,-6.411876529455185e-05,-6.70459121465683e-06,-5.130236968398094e-05],[9.497907012701035e-05,4.353746771812439e-05,2.2181891836225986e-05,4.829186946153641e-05,-2.522394061088562e-05,0.0001013544388115406,-0.0001396462321281433,-7.869640830904245e-05,4.176865331828594e-05,-1.4959368854761124e-05,0.00024641770869493484,-7.899943739175797e-05],[6.325915455818176e-05,5.803676322102547e-05,7.895287126302719e-07,-2.9164599254727364e-05,-0.00021718256175518036,-3.3276155591011047e-06,7.638940587639809e-05,-3.260420635342598e-05,-1.8260558135807514e-05,-4.942709347233176e-05,2.7279602363705635e-06,4.8422778490930796e-05],[-5.085510201752186e-05,-7.709604687988758e-06,-1.7355196177959442e-06,3.604404628276825e-05,3.379816189408302e-05,3.788154572248459e-05,8.626608178019524e-06,4.366505891084671e-06,-0.00012973113916814327,1.3997778296470642e-06,-3.944942727684975e-05,9.428989142179489e-05],[-0.00015165656805038452,-0.00028848182410001755,2.663256600499153e-05,6.950506940484047e-05,-6.881204899400473e-05,-0.0002908632159233093,0.00011828262358903885,-3.0812923796474934e-05,-3.9515900425612926e-05,-7.188180461525917e-05,-2.183578908443451e-05,-0.00011355150490999222],[3.116857260465622e-05,3.439048305153847e-05,-6.856583058834076e-05,0.0001920517534017563,6.932951509952545e-05,-4.227086901664734e-05,1.4025717973709106e-06,-6.438884884119034e-05,-3.814557567238808e-05,-0.00037665851414203644,4.122219979763031e-05,-3.345088043715805e-05],[-6.647058762609959e-05,0.00015282630920410156,-0.00016046501696109772,-7.246597670018673e-05,0.00010600965470075607,6.363075226545334e-05,4.240311682224274e-05,3.396719694137573e-05,8.730916306376457e-06,-1.5933066606521606e-05,-0.00019701942801475525,-6.916280835866928e-05],[0.00414989935234189,-0.038005631417036057,-0.02444053441286087,-0.02608601562678814,-0.003232808317989111,-0.02065645530819893,-0.10679177939891815,-0.022881507873535156,-0.05938547104597092,0.018318703398108482,0.13017040491104126,-0.022192878648638725],[0.00193081796169281,0.006185270845890045,0.004034958779811859,-0.005427546799182892,-0.0019109994173049927,0.003710143268108368,0.00557052344083786,-0.0013643659185618162,-0.0016038045287132263,0.014561429619789124,-0.0008361958898603916,0.0019479990005493164],[0.0046234577894210815,0.0075383856892585754,0.006352819502353668,0.0007117018103599548,0.0033412128686904907,-0.0021504471078515053,0.005186446011066437,0.0013177581131458282,0.0008803363889455795,-0.0023952554911375046,0.006633929908275604,0.008457466959953308],[-0.0010065454989671707,0.0017257779836654663,0.002977043390274048,0.00038748979568481445,0.0011287229135632515,0.0027110055088996887,0.005367383360862732,0.0003574788570404053,-0.0014020279049873352,0.011316299438476562,-0.0001082252711057663,0.005425676703453064]],\"type\":\"heatmap\",\"xaxis\":\"x4\",\"yaxis\":\"y4\",\"hovertemplate\":\"Head: %{x}\\u003cbr\\u003eLayer: %{y}\\u003cbr\\u003eLogit Contribution: %{z}\\u003cextra\\u003e\\u003c\\u002fextra\\u003e\"},{\"coloraxis\":\"coloraxis\",\"name\":\"4\",\"z\":[[4.25390899181366e-05,1.630093902349472e-05,-8.381856605410576e-05,-3.376975655555725e-06,-1.910305581986904e-05,-5.483347922563553e-05,-2.2472813725471497e-06,5.6245364248752594e-05,0.00015321513637900352,-7.200893014669418e-05,3.444589674472809e-05,0.00014335685409605503],[5.781318759545684e-05,6.5318308770656586e-06,-0.00010201847180724144,-4.228344187140465e-05,0.00011132913641631603,3.8251193473115563e-05,4.808977246284485e-05,0.00015547499060630798,-8.558854460716248e-07,-8.107302710413933e-05,1.458846963942051e-05,-3.398861736059189e-05],[8.051237091422081e-05,4.392117261886597e-05,-3.6483979783952236e-06,2.8502894565463066e-05,-1.1801603250205517e-07,4.171067848801613e-05,-9.299721568822861e-05,-4.094322503078729e-05,6.855512037873268e-05,5.0262780860066414e-05,0.00014188885688781738,-6.317393854260445e-05],[1.2188451364636421e-05,6.6828797571361065e-06,1.2543692719191313e-05,-2.893875353038311e-05,-0.00014326399832498282,1.9857659935951233e-05,5.269608664093539e-05,2.7123605832457542e-05,-5.981361027806997e-06,-1.3959244824945927e-05,1.403852365911007e-05,1.5454199456144124e-05],[-1.2469814464566298e-05,-5.399604560807347e-06,3.7010759115219116e-05,4.11374494433403e-05,-9.772833436727524e-06,1.484481617808342e-05,3.980542533099651e-05,5.931136547587812e-05,-7.994705811142921e-05,-1.0492047294974327e-05,-1.430993143003434e-05,5.084718577563763e-05],[-0.00011029653251171112,-0.00013683910947293043,4.84660267829895e-06,6.324471905827522e-05,-3.546965308487415e-05,-0.00024925172328948975,2.3054657503962517e-05,2.253941784147173e-05,-7.144699338823557e-05,-9.451061487197876e-06,-4.219822585582733e-06,-6.814952939748764e-05],[2.9282644391059875e-05,2.5584828108549118e-05,-7.292907685041428e-05,7.835309952497482e-05,0.00010598823428153992,-1.6815029084682465e-06,5.5812299251556396e-05,-5.150213837623596e-07,-3.5804929211735725e-05,-7.265061140060425e-05,8.033029735088348e-05,-5.0429836846888065e-05],[-8.8853994384408e-06,0.0002362579107284546,6.486475467681885e-05,-0.0001470288261771202,6.437255069613457e-05,3.9538368582725525e-05,2.0527280867099762e-05,0.00018993020057678223,2.6481691747903824e-05,2.1649524569511414e-05,-0.00027888640761375427,-6.946735084056854e-05],[0.0007606879808008671,-0.00804190430790186,-0.010670436546206474,-0.010283339768648148,-0.0004544179537333548,-0.0044697122648358345,-0.03411729261279106,-0.004509368911385536,-0.016359245404601097,0.007743616122752428,0.05378784239292145,-0.006777753122150898],[0.002712409943342209,0.005579782649874687,0.004382364451885223,0.0008698925375938416,-0.0005388511344790459,-0.0010703615844249725,0.005567073822021484,-0.001128986943513155,-0.0018558129668235779,0.011987045407295227,2.010120078921318e-05,0.002055652439594269],[0.0038094818592071533,0.00739191472530365,0.007088974118232727,0.0006872750818729401,0.004262663424015045,-0.00047489628195762634,0.005227856338024139,0.0013944427482783794,0.0010137781500816345,-7.819663733243942e-05,0.0062329769134521484,0.00960184633731842],[-0.0006638275226578116,0.0017903298139572144,0.0038207024335861206,0.004300445318222046,0.0007140063680708408,0.0036974549293518066,0.005372375249862671,0.0005063116550445557,0.0018720030784606934,0.01178082823753357,0.0022391267120838165,0.006876431405544281]],\"type\":\"heatmap\",\"xaxis\":\"x5\",\"yaxis\":\"y5\",\"hovertemplate\":\"Head: %{x}\\u003cbr\\u003eLayer: %{y}\\u003cbr\\u003eLogit Contribution: %{z}\\u003cextra\\u003e\\u003c\\u002fextra\\u003e\"},{\"coloraxis\":\"coloraxis\",\"name\":\"5\",\"z\":[[1.2096832506358624e-05,-2.5944318622350693e-05,-3.861595905618742e-05,4.7030276618897915e-05,2.5915622245520353e-05,-2.246210351586342e-05,8.602486923336983e-05,-3.5047996789216995e-06,-9.506568312644958e-05,0.00014534499496221542,-0.00010510347783565521,-0.00023281481117010117],[3.175460733473301e-05,-1.1787516996264458e-05,9.205786045640707e-05,2.584001049399376e-05,7.596099749207497e-07,1.9968370907008648e-05,4.2059109546244144e-06,-1.0736839612945914e-05,-6.38812780380249e-05,-1.6953166777966544e-05,2.128956839442253e-05,1.7309794202446938e-05],[-1.4464138075709343e-05,3.8940925151109695e-07,-2.5835528504103422e-05,-1.9792583771049976e-05,2.5107990950345993e-05,-5.964585579931736e-05,4.665018059313297e-05,3.775232471525669e-05,2.6785361114889383e-05,6.52228482067585e-05,-0.00010451534762978554,1.5828292816877365e-05],[-5.1074428483843803e-05,-5.135894753038883e-05,1.1750147677958012e-05,2.173474058508873e-07,7.392372936010361e-05,2.3182248696684837e-05,-2.3699132725596428e-05,5.9715937823057175e-05,1.2279488146305084e-05,3.546685911715031e-05,1.131311000790447e-05,-3.297184593975544e-05],[3.838317934423685e-05,2.3087486624717712e-06,3.874648245982826e-05,5.094450898468494e-06,-4.357192665338516e-05,-2.3036440325086005e-05,3.1181611120700836e-05,5.4946169257164e-05,4.9788039177656174e-05,-1.18953175842762e-05,2.5140470825135708e-05,-4.3439504224807024e-05],[4.1343504562973976e-05,0.0001516425982117653,-2.178177237510681e-05,-6.266054697334766e-06,3.33455391228199e-05,4.160497337579727e-05,-9.523238986730576e-05,5.335372406989336e-05,-3.192968142684549e-05,6.24191015958786e-05,1.761416206136346e-05,4.5394059270620346e-05],[-1.884298399090767e-06,-8.807284757494926e-06,-4.359986633062363e-06,-0.00011370563879609108,3.665895201265812e-05,4.0594954043626785e-05,5.4417410865426064e-05,6.387312896549702e-05,2.3321190383285284e-06,0.0003039948642253876,3.909831866621971e-05,-1.6981037333607674e-05],[5.758393672294915e-05,8.343951776623726e-05,0.0002253109123557806,-7.455423474311829e-05,-4.163209814578295e-05,-2.4093329557217658e-05,-2.188701182603836e-05,0.000155966030433774,1.7750717233866453e-05,3.758305683732033e-05,-8.184276521205902e-05,-3.022141754627228e-07],[-0.003389212302863598,0.029963720589876175,0.013770085759460926,0.015802673995494843,0.0027783899568021297,0.016186751425266266,0.0726744756102562,0.01837214268743992,0.04302623122930527,-0.010575074702501297,-0.07638255506753922,0.015415128320455551],[0.0007815833669155836,-0.0006054971599951386,0.0003474096884019673,0.006297440733760595,0.0013721429277211428,-0.0047805095091462135,-3.4337863326072693e-06,0.00023538339883089066,-0.0002520051784813404,-0.002574348822236061,0.0008562994189560413,0.00010765169281512499],[-0.0008139372803270817,-0.00014646723866462708,0.0007361752213910222,-2.4433014914393425e-05,0.0009214552119374275,0.0016755536198616028,4.141120007261634e-05,7.66851007938385e-05,0.00013343722093850374,0.0023170574568212032,-0.00040094880387187004,0.0011444013798609376],[0.00034271925687789917,6.45490363240242e-05,0.000843624584376812,0.003913011401891708,-0.0004147132858633995,0.0009864354506134987,4.997244104743004e-06,0.0001488327980041504,0.003274034708738327,0.000464477576315403,0.0023473533801734447,0.0014507482992485166]],\"type\":\"heatmap\",\"xaxis\":\"x6\",\"yaxis\":\"y6\",\"hovertemplate\":\"Head: %{x}\\u003cbr\\u003eLayer: %{y}\\u003cbr\\u003eLogit Contribution: %{z}\\u003cextra\\u003e\\u003c\\u002fextra\\u003e\"}],                        {\"template\":{\"data\":{\"histogram2dcontour\":[{\"type\":\"histogram2dcontour\",\"colorbar\":{\"outlinewidth\":0,\"ticks\":\"\"},\"colorscale\":[[0.0,\"#0d0887\"],[0.1111111111111111,\"#46039f\"],[0.2222222222222222,\"#7201a8\"],[0.3333333333333333,\"#9c179e\"],[0.4444444444444444,\"#bd3786\"],[0.5555555555555556,\"#d8576b\"],[0.6666666666666666,\"#ed7953\"],[0.7777777777777778,\"#fb9f3a\"],[0.8888888888888888,\"#fdca26\"],[1.0,\"#f0f921\"]]}],\"choropleth\":[{\"type\":\"choropleth\",\"colorbar\":{\"outlinewidth\":0,\"ticks\":\"\"}}],\"histogram2d\":[{\"type\":\"histogram2d\",\"colorbar\":{\"outlinewidth\":0,\"ticks\":\"\"},\"colorscale\":[[0.0,\"#0d0887\"],[0.1111111111111111,\"#46039f\"],[0.2222222222222222,\"#7201a8\"],[0.3333333333333333,\"#9c179e\"],[0.4444444444444444,\"#bd3786\"],[0.5555555555555556,\"#d8576b\"],[0.6666666666666666,\"#ed7953\"],[0.7777777777777778,\"#fb9f3a\"],[0.8888888888888888,\"#fdca26\"],[1.0,\"#f0f921\"]]}],\"heatmap\":[{\"type\":\"heatmap\",\"colorbar\":{\"outlinewidth\":0,\"ticks\":\"\"},\"colorscale\":[[0.0,\"#0d0887\"],[0.1111111111111111,\"#46039f\"],[0.2222222222222222,\"#7201a8\"],[0.3333333333333333,\"#9c179e\"],[0.4444444444444444,\"#bd3786\"],[0.5555555555555556,\"#d8576b\"],[0.6666666666666666,\"#ed7953\"],[0.7777777777777778,\"#fb9f3a\"],[0.8888888888888888,\"#fdca26\"],[1.0,\"#f0f921\"]]}],\"heatmapgl\":[{\"type\":\"heatmapgl\",\"colorbar\":{\"outlinewidth\":0,\"ticks\":\"\"},\"colorscale\":[[0.0,\"#0d0887\"],[0.1111111111111111,\"#46039f\"],[0.2222222222222222,\"#7201a8\"],[0.3333333333333333,\"#9c179e\"],[0.4444444444444444,\"#bd3786\"],[0.5555555555555556,\"#d8576b\"],[0.6666666666666666,\"#ed7953\"],[0.7777777777777778,\"#fb9f3a\"],[0.8888888888888888,\"#fdca26\"],[1.0,\"#f0f921\"]]}],\"contourcarpet\":[{\"type\":\"contourcarpet\",\"colorbar\":{\"outlinewidth\":0,\"ticks\":\"\"}}],\"contour\":[{\"type\":\"contour\",\"colorbar\":{\"outlinewidth\":0,\"ticks\":\"\"},\"colorscale\":[[0.0,\"#0d0887\"],[0.1111111111111111,\"#46039f\"],[0.2222222222222222,\"#7201a8\"],[0.3333333333333333,\"#9c179e\"],[0.4444444444444444,\"#bd3786\"],[0.5555555555555556,\"#d8576b\"],[0.6666666666666666,\"#ed7953\"],[0.7777777777777778,\"#fb9f3a\"],[0.8888888888888888,\"#fdca26\"],[1.0,\"#f0f921\"]]}],\"surface\":[{\"type\":\"surface\",\"colorbar\":{\"outlinewidth\":0,\"ticks\":\"\"},\"colorscale\":[[0.0,\"#0d0887\"],[0.1111111111111111,\"#46039f\"],[0.2222222222222222,\"#7201a8\"],[0.3333333333333333,\"#9c179e\"],[0.4444444444444444,\"#bd3786\"],[0.5555555555555556,\"#d8576b\"],[0.6666666666666666,\"#ed7953\"],[0.7777777777777778,\"#fb9f3a\"],[0.8888888888888888,\"#fdca26\"],[1.0,\"#f0f921\"]]}],\"mesh3d\":[{\"type\":\"mesh3d\",\"colorbar\":{\"outlinewidth\":0,\"ticks\":\"\"}}],\"scatter\":[{\"fillpattern\":{\"fillmode\":\"overlay\",\"size\":10,\"solidity\":0.2},\"type\":\"scatter\"}],\"parcoords\":[{\"type\":\"parcoords\",\"line\":{\"colorbar\":{\"outlinewidth\":0,\"ticks\":\"\"}}}],\"scatterpolargl\":[{\"type\":\"scatterpolargl\",\"marker\":{\"colorbar\":{\"outlinewidth\":0,\"ticks\":\"\"}}}],\"bar\":[{\"error_x\":{\"color\":\"#2a3f5f\"},\"error_y\":{\"color\":\"#2a3f5f\"},\"marker\":{\"line\":{\"color\":\"#E5ECF6\",\"width\":0.5},\"pattern\":{\"fillmode\":\"overlay\",\"size\":10,\"solidity\":0.2}},\"type\":\"bar\"}],\"scattergeo\":[{\"type\":\"scattergeo\",\"marker\":{\"colorbar\":{\"outlinewidth\":0,\"ticks\":\"\"}}}],\"scatterpolar\":[{\"type\":\"scatterpolar\",\"marker\":{\"colorbar\":{\"outlinewidth\":0,\"ticks\":\"\"}}}],\"histogram\":[{\"marker\":{\"pattern\":{\"fillmode\":\"overlay\",\"size\":10,\"solidity\":0.2}},\"type\":\"histogram\"}],\"scattergl\":[{\"type\":\"scattergl\",\"marker\":{\"colorbar\":{\"outlinewidth\":0,\"ticks\":\"\"}}}],\"scatter3d\":[{\"type\":\"scatter3d\",\"line\":{\"colorbar\":{\"outlinewidth\":0,\"ticks\":\"\"}},\"marker\":{\"colorbar\":{\"outlinewidth\":0,\"ticks\":\"\"}}}],\"scattermapbox\":[{\"type\":\"scattermapbox\",\"marker\":{\"colorbar\":{\"outlinewidth\":0,\"ticks\":\"\"}}}],\"scatterternary\":[{\"type\":\"scatterternary\",\"marker\":{\"colorbar\":{\"outlinewidth\":0,\"ticks\":\"\"}}}],\"scattercarpet\":[{\"type\":\"scattercarpet\",\"marker\":{\"colorbar\":{\"outlinewidth\":0,\"ticks\":\"\"}}}],\"carpet\":[{\"aaxis\":{\"endlinecolor\":\"#2a3f5f\",\"gridcolor\":\"white\",\"linecolor\":\"white\",\"minorgridcolor\":\"white\",\"startlinecolor\":\"#2a3f5f\"},\"baxis\":{\"endlinecolor\":\"#2a3f5f\",\"gridcolor\":\"white\",\"linecolor\":\"white\",\"minorgridcolor\":\"white\",\"startlinecolor\":\"#2a3f5f\"},\"type\":\"carpet\"}],\"table\":[{\"cells\":{\"fill\":{\"color\":\"#EBF0F8\"},\"line\":{\"color\":\"white\"}},\"header\":{\"fill\":{\"color\":\"#C8D4E3\"},\"line\":{\"color\":\"white\"}},\"type\":\"table\"}],\"barpolar\":[{\"marker\":{\"line\":{\"color\":\"#E5ECF6\",\"width\":0.5},\"pattern\":{\"fillmode\":\"overlay\",\"size\":10,\"solidity\":0.2}},\"type\":\"barpolar\"}],\"pie\":[{\"automargin\":true,\"type\":\"pie\"}]},\"layout\":{\"autotypenumbers\":\"strict\",\"colorway\":[\"#636efa\",\"#EF553B\",\"#00cc96\",\"#ab63fa\",\"#FFA15A\",\"#19d3f3\",\"#FF6692\",\"#B6E880\",\"#FF97FF\",\"#FECB52\"],\"font\":{\"color\":\"#2a3f5f\"},\"hovermode\":\"closest\",\"hoverlabel\":{\"align\":\"left\"},\"paper_bgcolor\":\"white\",\"plot_bgcolor\":\"#E5ECF6\",\"polar\":{\"bgcolor\":\"#E5ECF6\",\"angularaxis\":{\"gridcolor\":\"white\",\"linecolor\":\"white\",\"ticks\":\"\"},\"radialaxis\":{\"gridcolor\":\"white\",\"linecolor\":\"white\",\"ticks\":\"\"}},\"ternary\":{\"bgcolor\":\"#E5ECF6\",\"aaxis\":{\"gridcolor\":\"white\",\"linecolor\":\"white\",\"ticks\":\"\"},\"baxis\":{\"gridcolor\":\"white\",\"linecolor\":\"white\",\"ticks\":\"\"},\"caxis\":{\"gridcolor\":\"white\",\"linecolor\":\"white\",\"ticks\":\"\"}},\"coloraxis\":{\"colorbar\":{\"outlinewidth\":0,\"ticks\":\"\"}},\"colorscale\":{\"sequential\":[[0.0,\"#0d0887\"],[0.1111111111111111,\"#46039f\"],[0.2222222222222222,\"#7201a8\"],[0.3333333333333333,\"#9c179e\"],[0.4444444444444444,\"#bd3786\"],[0.5555555555555556,\"#d8576b\"],[0.6666666666666666,\"#ed7953\"],[0.7777777777777778,\"#fb9f3a\"],[0.8888888888888888,\"#fdca26\"],[1.0,\"#f0f921\"]],\"sequentialminus\":[[0.0,\"#0d0887\"],[0.1111111111111111,\"#46039f\"],[0.2222222222222222,\"#7201a8\"],[0.3333333333333333,\"#9c179e\"],[0.4444444444444444,\"#bd3786\"],[0.5555555555555556,\"#d8576b\"],[0.6666666666666666,\"#ed7953\"],[0.7777777777777778,\"#fb9f3a\"],[0.8888888888888888,\"#fdca26\"],[1.0,\"#f0f921\"]],\"diverging\":[[0,\"#8e0152\"],[0.1,\"#c51b7d\"],[0.2,\"#de77ae\"],[0.3,\"#f1b6da\"],[0.4,\"#fde0ef\"],[0.5,\"#f7f7f7\"],[0.6,\"#e6f5d0\"],[0.7,\"#b8e186\"],[0.8,\"#7fbc41\"],[0.9,\"#4d9221\"],[1,\"#276419\"]]},\"xaxis\":{\"gridcolor\":\"white\",\"linecolor\":\"white\",\"ticks\":\"\",\"title\":{\"standoff\":15},\"zerolinecolor\":\"white\",\"automargin\":true,\"zerolinewidth\":2},\"yaxis\":{\"gridcolor\":\"white\",\"linecolor\":\"white\",\"ticks\":\"\",\"title\":{\"standoff\":15},\"zerolinecolor\":\"white\",\"automargin\":true,\"zerolinewidth\":2},\"scene\":{\"xaxis\":{\"backgroundcolor\":\"#E5ECF6\",\"gridcolor\":\"white\",\"linecolor\":\"white\",\"showbackground\":true,\"ticks\":\"\",\"zerolinecolor\":\"white\",\"gridwidth\":2},\"yaxis\":{\"backgroundcolor\":\"#E5ECF6\",\"gridcolor\":\"white\",\"linecolor\":\"white\",\"showbackground\":true,\"ticks\":\"\",\"zerolinecolor\":\"white\",\"gridwidth\":2},\"zaxis\":{\"backgroundcolor\":\"#E5ECF6\",\"gridcolor\":\"white\",\"linecolor\":\"white\",\"showbackground\":true,\"ticks\":\"\",\"zerolinecolor\":\"white\",\"gridwidth\":2}},\"shapedefaults\":{\"line\":{\"color\":\"#2a3f5f\"}},\"annotationdefaults\":{\"arrowcolor\":\"#2a3f5f\",\"arrowhead\":0,\"arrowwidth\":1},\"geo\":{\"bgcolor\":\"white\",\"landcolor\":\"#E5ECF6\",\"subunitcolor\":\"white\",\"showland\":true,\"showlakes\":true,\"lakecolor\":\"white\"},\"title\":{\"x\":0.05},\"mapbox\":{\"style\":\"light\"}}},\"xaxis\":{\"anchor\":\"y\",\"domain\":[0.0,0.15],\"scaleanchor\":\"y\",\"constrain\":\"domain\",\"title\":{\"text\":\"Head\"},\"showline\":true,\"linewidth\":1,\"linecolor\":\"black\",\"mirror\":true},\"yaxis\":{\"anchor\":\"x\",\"domain\":[0.0,1.0],\"autorange\":\"reversed\",\"constrain\":\"domain\",\"title\":{\"text\":\"Layer\"},\"showline\":true,\"linewidth\":1,\"linecolor\":\"black\",\"mirror\":true},\"xaxis2\":{\"anchor\":\"y2\",\"domain\":[0.16999999999999998,0.31999999999999995],\"matches\":\"x\",\"title\":{\"text\":\"Head\"},\"showline\":true,\"linewidth\":1,\"linecolor\":\"black\",\"mirror\":true},\"yaxis2\":{\"anchor\":\"x2\",\"domain\":[0.0,1.0],\"matches\":\"y\",\"showticklabels\":false,\"showline\":true,\"linewidth\":1,\"linecolor\":\"black\",\"mirror\":true},\"xaxis3\":{\"anchor\":\"y3\",\"domain\":[0.33999999999999997,0.49],\"matches\":\"x\",\"title\":{\"text\":\"Head\"},\"showline\":true,\"linewidth\":1,\"linecolor\":\"black\",\"mirror\":true},\"yaxis3\":{\"anchor\":\"x3\",\"domain\":[0.0,1.0],\"matches\":\"y\",\"showticklabels\":false,\"showline\":true,\"linewidth\":1,\"linecolor\":\"black\",\"mirror\":true},\"xaxis4\":{\"anchor\":\"y4\",\"domain\":[0.51,0.66],\"matches\":\"x\",\"title\":{\"text\":\"Head\"},\"showline\":true,\"linewidth\":1,\"linecolor\":\"black\",\"mirror\":true},\"yaxis4\":{\"anchor\":\"x4\",\"domain\":[0.0,1.0],\"matches\":\"y\",\"showticklabels\":false,\"showline\":true,\"linewidth\":1,\"linecolor\":\"black\",\"mirror\":true},\"xaxis5\":{\"anchor\":\"y5\",\"domain\":[0.6799999999999999,0.83],\"matches\":\"x\",\"title\":{\"text\":\"Head\"},\"showline\":true,\"linewidth\":1,\"linecolor\":\"black\",\"mirror\":true},\"yaxis5\":{\"anchor\":\"x5\",\"domain\":[0.0,1.0],\"matches\":\"y\",\"showticklabels\":false,\"showline\":true,\"linewidth\":1,\"linecolor\":\"black\",\"mirror\":true},\"xaxis6\":{\"anchor\":\"y6\",\"domain\":[0.85,1.0],\"matches\":\"x\",\"title\":{\"text\":\"Head\"},\"showline\":true,\"linewidth\":1,\"linecolor\":\"black\",\"mirror\":true},\"yaxis6\":{\"anchor\":\"x6\",\"domain\":[0.0,1.0],\"matches\":\"y\",\"showticklabels\":false,\"showline\":true,\"linewidth\":1,\"linecolor\":\"black\",\"mirror\":true},\"annotations\":[{\"font\":{},\"showarrow\":false,\"text\":\"Logit Diff - 3.15\",\"x\":0.075,\"xanchor\":\"center\",\"xref\":\"paper\",\"y\":1.0,\"yanchor\":\"bottom\",\"yref\":\"paper\"},{\"font\":{},\"showarrow\":false,\"text\":\"Correct Direction\",\"x\":0.24499999999999997,\"xanchor\":\"center\",\"xref\":\"paper\",\"y\":1.0,\"yanchor\":\"bottom\",\"yref\":\"paper\"},{\"font\":{},\"showarrow\":false,\"text\":\"Incorrect Direction\",\"x\":0.415,\"xanchor\":\"center\",\"xref\":\"paper\",\"y\":1.0,\"yanchor\":\"bottom\",\"yref\":\"paper\"},{\"font\":{},\"showarrow\":false,\"text\":\"Logit Diff Diff\",\"x\":0.585,\"xanchor\":\"center\",\"xref\":\"paper\",\"y\":1.0,\"yanchor\":\"bottom\",\"yref\":\"paper\"},{\"font\":{},\"showarrow\":false,\"text\":\"Correction Direction Diff\",\"x\":0.7549999999999999,\"xanchor\":\"center\",\"xref\":\"paper\",\"y\":1.0,\"yanchor\":\"bottom\",\"yref\":\"paper\"},{\"font\":{},\"showarrow\":false,\"text\":\"Incorrect Direction Diff\",\"x\":0.925,\"xanchor\":\"center\",\"xref\":\"paper\",\"y\":1.0,\"yanchor\":\"bottom\",\"yref\":\"paper\"}],\"coloraxis\":{\"colorbar\":{\"title\":{\"text\":\"Logit Contribution\"}},\"colorscale\":[[0.0,\"rgb(103,0,31)\"],[0.1,\"rgb(178,24,43)\"],[0.2,\"rgb(214,96,77)\"],[0.3,\"rgb(244,165,130)\"],[0.4,\"rgb(253,219,199)\"],[0.5,\"rgb(247,247,247)\"],[0.6,\"rgb(209,229,240)\"],[0.7,\"rgb(146,197,222)\"],[0.8,\"rgb(67,147,195)\"],[0.9,\"rgb(33,102,172)\"],[1.0,\"rgb(5,48,97)\"]],\"cmid\":0.0},\"title\":{\"text\":\"Logits when Act Patching in 11.3\"},\"width\":1500,\"margin\":{\"r\":100,\"l\":100}},                        {\"responsive\": true}                    ).then(function(){\n",
              "                            \n",
              "var gd = document.getElementById('5fab8e5c-a997-4809-ac60-4b9119fa5bc5');\n",
              "var x = new MutationObserver(function (mutations, observer) {{\n",
              "        var display = window.getComputedStyle(gd).display;\n",
              "        if (!display || display === 'none') {{\n",
              "            console.log([gd, 'removed!']);\n",
              "            Plotly.purge(gd);\n",
              "            observer.disconnect();\n",
              "        }}\n",
              "}});\n",
              "\n",
              "// Listen for the removal of the full notebook cells\n",
              "var notebookContainer = gd.closest('#notebook-container');\n",
              "if (notebookContainer) {{\n",
              "    x.observe(notebookContainer, {childList: true});\n",
              "}}\n",
              "\n",
              "// Listen for the clearing of the current output cell\n",
              "var outputEl = gd.closest('.output');\n",
              "if (outputEl) {{\n",
              "    x.observe(outputEl, {childList: true});\n",
              "}}\n",
              "\n",
              "                        })                };                });            </script>        </div>"
            ]
          },
          "metadata": {},
          "output_type": "display_data"
        }
      ],
      "source": [
        "ablate_heads = [(8,i) for i in range(12)]#(7,i) for i in range(12)]\n",
        "act_logit_results = act_patch(\n",
        "    model = model,\n",
        "    orig_input = clean_tokens,\n",
        "    new_cache = corrupted_cache,\n",
        "    patching_nodes = [Node(\"z\", layer = int(layer), head = int(head)) for layer, head in ablate_heads],\n",
        "    patching_metric = return_item,\n",
        "    apply_metric_to_cache = False\n",
        "    )\n",
        "\n",
        "\n",
        "act_patching_results = act_patch(\n",
        "    model = model,\n",
        "    orig_input = clean_tokens,\n",
        "    new_cache = corrupted_cache,\n",
        "    patching_nodes =  [Node(\"z\", layer = int(layer), head = int(head)) for layer, head in ablate_heads],\n",
        "    patching_metric = partial(display_all_logits, title = f\"Logits when Act Patching in {layer}.{head}\", comparison = True, logits = act_logit_results),\n",
        "    apply_metric_to_cache = True\n",
        "    )"
      ]
    },
    {
      "cell_type": "code",
      "execution_count": null,
      "metadata": {},
      "outputs": [],
      "source": []
    }
  ],
  "metadata": {
    "accelerator": "GPU",
    "colab": {
      "gpuType": "T4",
      "machine_shape": "hm",
      "provenance": []
    },
    "kernelspec": {
      "display_name": "Python 3 (ipykernel)",
      "language": "python",
      "name": "python3"
    },
    "widgets": {
      "application/vnd.jupyter.widget-state+json": {
        "0636bbcd0c8b4399b21fb2fd524e729e": {
          "model_module": "@jupyter-widgets/base",
          "model_module_version": "1.2.0",
          "model_name": "LayoutModel",
          "state": {
            "_model_module": "@jupyter-widgets/base",
            "_model_module_version": "1.2.0",
            "_model_name": "LayoutModel",
            "_view_count": null,
            "_view_module": "@jupyter-widgets/base",
            "_view_module_version": "1.2.0",
            "_view_name": "LayoutView",
            "align_content": null,
            "align_items": null,
            "align_self": null,
            "border": null,
            "bottom": null,
            "display": null,
            "flex": null,
            "flex_flow": null,
            "grid_area": null,
            "grid_auto_columns": null,
            "grid_auto_flow": null,
            "grid_auto_rows": null,
            "grid_column": null,
            "grid_gap": null,
            "grid_row": null,
            "grid_template_areas": null,
            "grid_template_columns": null,
            "grid_template_rows": null,
            "height": null,
            "justify_content": null,
            "justify_items": null,
            "left": null,
            "margin": null,
            "max_height": null,
            "max_width": null,
            "min_height": null,
            "min_width": null,
            "object_fit": null,
            "object_position": null,
            "order": null,
            "overflow": null,
            "overflow_x": null,
            "overflow_y": null,
            "padding": null,
            "right": null,
            "top": null,
            "visibility": null,
            "width": null
          }
        },
        "099aeb45e2b444beb5e1f3a0a87e13aa": {
          "model_module": "@jupyter-widgets/base",
          "model_module_version": "1.2.0",
          "model_name": "LayoutModel",
          "state": {
            "_model_module": "@jupyter-widgets/base",
            "_model_module_version": "1.2.0",
            "_model_name": "LayoutModel",
            "_view_count": null,
            "_view_module": "@jupyter-widgets/base",
            "_view_module_version": "1.2.0",
            "_view_name": "LayoutView",
            "align_content": null,
            "align_items": null,
            "align_self": null,
            "border": null,
            "bottom": null,
            "display": null,
            "flex": null,
            "flex_flow": null,
            "grid_area": null,
            "grid_auto_columns": null,
            "grid_auto_flow": null,
            "grid_auto_rows": null,
            "grid_column": null,
            "grid_gap": null,
            "grid_row": null,
            "grid_template_areas": null,
            "grid_template_columns": null,
            "grid_template_rows": null,
            "height": null,
            "justify_content": null,
            "justify_items": null,
            "left": null,
            "margin": null,
            "max_height": null,
            "max_width": null,
            "min_height": null,
            "min_width": null,
            "object_fit": null,
            "object_position": null,
            "order": null,
            "overflow": null,
            "overflow_x": null,
            "overflow_y": null,
            "padding": null,
            "right": null,
            "top": null,
            "visibility": null,
            "width": null
          }
        },
        "0a2d5dd9618249d7b0c7daf54fbd60a6": {
          "model_module": "@jupyter-widgets/base",
          "model_module_version": "1.2.0",
          "model_name": "LayoutModel",
          "state": {
            "_model_module": "@jupyter-widgets/base",
            "_model_module_version": "1.2.0",
            "_model_name": "LayoutModel",
            "_view_count": null,
            "_view_module": "@jupyter-widgets/base",
            "_view_module_version": "1.2.0",
            "_view_name": "LayoutView",
            "align_content": null,
            "align_items": null,
            "align_self": null,
            "border": null,
            "bottom": null,
            "display": null,
            "flex": null,
            "flex_flow": null,
            "grid_area": null,
            "grid_auto_columns": null,
            "grid_auto_flow": null,
            "grid_auto_rows": null,
            "grid_column": null,
            "grid_gap": null,
            "grid_row": null,
            "grid_template_areas": null,
            "grid_template_columns": null,
            "grid_template_rows": null,
            "height": null,
            "justify_content": null,
            "justify_items": null,
            "left": null,
            "margin": null,
            "max_height": null,
            "max_width": null,
            "min_height": null,
            "min_width": null,
            "object_fit": null,
            "object_position": null,
            "order": null,
            "overflow": null,
            "overflow_x": null,
            "overflow_y": null,
            "padding": null,
            "right": null,
            "top": null,
            "visibility": null,
            "width": null
          }
        },
        "0bb005f6771e4e838c9c0dcac8a20acd": {
          "model_module": "@jupyter-widgets/controls",
          "model_module_version": "1.5.0",
          "model_name": "DescriptionStyleModel",
          "state": {
            "_model_module": "@jupyter-widgets/controls",
            "_model_module_version": "1.5.0",
            "_model_name": "DescriptionStyleModel",
            "_view_count": null,
            "_view_module": "@jupyter-widgets/base",
            "_view_module_version": "1.2.0",
            "_view_name": "StyleView",
            "description_width": ""
          }
        },
        "0bee4fdba43b4c809091d010b4dbb9f9": {
          "model_module": "@jupyter-widgets/controls",
          "model_module_version": "1.5.0",
          "model_name": "DescriptionStyleModel",
          "state": {
            "_model_module": "@jupyter-widgets/controls",
            "_model_module_version": "1.5.0",
            "_model_name": "DescriptionStyleModel",
            "_view_count": null,
            "_view_module": "@jupyter-widgets/base",
            "_view_module_version": "1.2.0",
            "_view_name": "StyleView",
            "description_width": ""
          }
        },
        "0f08f05e809244aba9ccece26ab7add2": {
          "model_module": "@jupyter-widgets/base",
          "model_module_version": "1.2.0",
          "model_name": "LayoutModel",
          "state": {
            "_model_module": "@jupyter-widgets/base",
            "_model_module_version": "1.2.0",
            "_model_name": "LayoutModel",
            "_view_count": null,
            "_view_module": "@jupyter-widgets/base",
            "_view_module_version": "1.2.0",
            "_view_name": "LayoutView",
            "align_content": null,
            "align_items": null,
            "align_self": null,
            "border": null,
            "bottom": null,
            "display": null,
            "flex": null,
            "flex_flow": null,
            "grid_area": null,
            "grid_auto_columns": null,
            "grid_auto_flow": null,
            "grid_auto_rows": null,
            "grid_column": null,
            "grid_gap": null,
            "grid_row": null,
            "grid_template_areas": null,
            "grid_template_columns": null,
            "grid_template_rows": null,
            "height": null,
            "justify_content": null,
            "justify_items": null,
            "left": null,
            "margin": null,
            "max_height": null,
            "max_width": null,
            "min_height": null,
            "min_width": null,
            "object_fit": null,
            "object_position": null,
            "order": null,
            "overflow": null,
            "overflow_x": null,
            "overflow_y": null,
            "padding": null,
            "right": null,
            "top": null,
            "visibility": null,
            "width": null
          }
        },
        "12fa6b2e572442aa99440350d34d31d4": {
          "model_module": "@jupyter-widgets/base",
          "model_module_version": "1.2.0",
          "model_name": "LayoutModel",
          "state": {
            "_model_module": "@jupyter-widgets/base",
            "_model_module_version": "1.2.0",
            "_model_name": "LayoutModel",
            "_view_count": null,
            "_view_module": "@jupyter-widgets/base",
            "_view_module_version": "1.2.0",
            "_view_name": "LayoutView",
            "align_content": null,
            "align_items": null,
            "align_self": null,
            "border": null,
            "bottom": null,
            "display": null,
            "flex": null,
            "flex_flow": null,
            "grid_area": null,
            "grid_auto_columns": null,
            "grid_auto_flow": null,
            "grid_auto_rows": null,
            "grid_column": null,
            "grid_gap": null,
            "grid_row": null,
            "grid_template_areas": null,
            "grid_template_columns": null,
            "grid_template_rows": null,
            "height": null,
            "justify_content": null,
            "justify_items": null,
            "left": null,
            "margin": null,
            "max_height": null,
            "max_width": null,
            "min_height": null,
            "min_width": null,
            "object_fit": null,
            "object_position": null,
            "order": null,
            "overflow": null,
            "overflow_x": null,
            "overflow_y": null,
            "padding": null,
            "right": null,
            "top": null,
            "visibility": null,
            "width": null
          }
        },
        "186d81228815442f88e2153629cec242": {
          "model_module": "@jupyter-widgets/base",
          "model_module_version": "1.2.0",
          "model_name": "LayoutModel",
          "state": {
            "_model_module": "@jupyter-widgets/base",
            "_model_module_version": "1.2.0",
            "_model_name": "LayoutModel",
            "_view_count": null,
            "_view_module": "@jupyter-widgets/base",
            "_view_module_version": "1.2.0",
            "_view_name": "LayoutView",
            "align_content": null,
            "align_items": null,
            "align_self": null,
            "border": null,
            "bottom": null,
            "display": null,
            "flex": null,
            "flex_flow": null,
            "grid_area": null,
            "grid_auto_columns": null,
            "grid_auto_flow": null,
            "grid_auto_rows": null,
            "grid_column": null,
            "grid_gap": null,
            "grid_row": null,
            "grid_template_areas": null,
            "grid_template_columns": null,
            "grid_template_rows": null,
            "height": null,
            "justify_content": null,
            "justify_items": null,
            "left": null,
            "margin": null,
            "max_height": null,
            "max_width": null,
            "min_height": null,
            "min_width": null,
            "object_fit": null,
            "object_position": null,
            "order": null,
            "overflow": null,
            "overflow_x": null,
            "overflow_y": null,
            "padding": null,
            "right": null,
            "top": null,
            "visibility": null,
            "width": null
          }
        },
        "195d5f1338a94e578a5e69a1a6f58f88": {
          "model_module": "@jupyter-widgets/controls",
          "model_module_version": "1.5.0",
          "model_name": "ProgressStyleModel",
          "state": {
            "_model_module": "@jupyter-widgets/controls",
            "_model_module_version": "1.5.0",
            "_model_name": "ProgressStyleModel",
            "_view_count": null,
            "_view_module": "@jupyter-widgets/base",
            "_view_module_version": "1.2.0",
            "_view_name": "StyleView",
            "bar_color": null,
            "description_width": ""
          }
        },
        "19cabf7c2fd441b2b6a8084b58f62c52": {
          "model_module": "@jupyter-widgets/base",
          "model_module_version": "1.2.0",
          "model_name": "LayoutModel",
          "state": {
            "_model_module": "@jupyter-widgets/base",
            "_model_module_version": "1.2.0",
            "_model_name": "LayoutModel",
            "_view_count": null,
            "_view_module": "@jupyter-widgets/base",
            "_view_module_version": "1.2.0",
            "_view_name": "LayoutView",
            "align_content": null,
            "align_items": null,
            "align_self": null,
            "border": null,
            "bottom": null,
            "display": null,
            "flex": null,
            "flex_flow": null,
            "grid_area": null,
            "grid_auto_columns": null,
            "grid_auto_flow": null,
            "grid_auto_rows": null,
            "grid_column": null,
            "grid_gap": null,
            "grid_row": null,
            "grid_template_areas": null,
            "grid_template_columns": null,
            "grid_template_rows": null,
            "height": null,
            "justify_content": null,
            "justify_items": null,
            "left": null,
            "margin": null,
            "max_height": null,
            "max_width": null,
            "min_height": null,
            "min_width": null,
            "object_fit": null,
            "object_position": null,
            "order": null,
            "overflow": null,
            "overflow_x": null,
            "overflow_y": null,
            "padding": null,
            "right": null,
            "top": null,
            "visibility": null,
            "width": null
          }
        },
        "1cb1d528ab5a493e96f2032dd9aa5f76": {
          "model_module": "@jupyter-widgets/controls",
          "model_module_version": "1.5.0",
          "model_name": "ProgressStyleModel",
          "state": {
            "_model_module": "@jupyter-widgets/controls",
            "_model_module_version": "1.5.0",
            "_model_name": "ProgressStyleModel",
            "_view_count": null,
            "_view_module": "@jupyter-widgets/base",
            "_view_module_version": "1.2.0",
            "_view_name": "StyleView",
            "bar_color": null,
            "description_width": ""
          }
        },
        "1e9b9526b98a49adb0eab84c8fd3f825": {
          "model_module": "@jupyter-widgets/base",
          "model_module_version": "1.2.0",
          "model_name": "LayoutModel",
          "state": {
            "_model_module": "@jupyter-widgets/base",
            "_model_module_version": "1.2.0",
            "_model_name": "LayoutModel",
            "_view_count": null,
            "_view_module": "@jupyter-widgets/base",
            "_view_module_version": "1.2.0",
            "_view_name": "LayoutView",
            "align_content": null,
            "align_items": null,
            "align_self": null,
            "border": null,
            "bottom": null,
            "display": null,
            "flex": null,
            "flex_flow": null,
            "grid_area": null,
            "grid_auto_columns": null,
            "grid_auto_flow": null,
            "grid_auto_rows": null,
            "grid_column": null,
            "grid_gap": null,
            "grid_row": null,
            "grid_template_areas": null,
            "grid_template_columns": null,
            "grid_template_rows": null,
            "height": null,
            "justify_content": null,
            "justify_items": null,
            "left": null,
            "margin": null,
            "max_height": null,
            "max_width": null,
            "min_height": null,
            "min_width": null,
            "object_fit": null,
            "object_position": null,
            "order": null,
            "overflow": null,
            "overflow_x": null,
            "overflow_y": null,
            "padding": null,
            "right": null,
            "top": null,
            "visibility": null,
            "width": null
          }
        },
        "20233b0d534f425a81afb953526a11a2": {
          "model_module": "@jupyter-widgets/controls",
          "model_module_version": "1.5.0",
          "model_name": "FloatProgressModel",
          "state": {
            "_dom_classes": [],
            "_model_module": "@jupyter-widgets/controls",
            "_model_module_version": "1.5.0",
            "_model_name": "FloatProgressModel",
            "_view_count": null,
            "_view_module": "@jupyter-widgets/controls",
            "_view_module_version": "1.5.0",
            "_view_name": "ProgressView",
            "bar_style": "success",
            "description": "",
            "description_tooltip": null,
            "layout": "IPY_MODEL_d70cfd9927ab44ff9b9181378d819ffe",
            "max": 1355256,
            "min": 0,
            "orientation": "horizontal",
            "style": "IPY_MODEL_195d5f1338a94e578a5e69a1a6f58f88",
            "value": 1355256
          }
        },
        "20aac82b5efa48fea64cc33ae75280b7": {
          "model_module": "@jupyter-widgets/controls",
          "model_module_version": "1.5.0",
          "model_name": "HTMLModel",
          "state": {
            "_dom_classes": [],
            "_model_module": "@jupyter-widgets/controls",
            "_model_module_version": "1.5.0",
            "_model_name": "HTMLModel",
            "_view_count": null,
            "_view_module": "@jupyter-widgets/controls",
            "_view_module_version": "1.5.0",
            "_view_name": "HTMLView",
            "description": "",
            "description_tooltip": null,
            "layout": "IPY_MODEL_6a33234bdc0c47c69d9ec4530474b2b9",
            "placeholder": "​",
            "style": "IPY_MODEL_0bee4fdba43b4c809091d010b4dbb9f9",
            "value": "Downloading (…)olve/main/vocab.json: 100%"
          }
        },
        "24f496e3495a46f88e595fde06cd3956": {
          "model_module": "@jupyter-widgets/base",
          "model_module_version": "1.2.0",
          "model_name": "LayoutModel",
          "state": {
            "_model_module": "@jupyter-widgets/base",
            "_model_module_version": "1.2.0",
            "_model_name": "LayoutModel",
            "_view_count": null,
            "_view_module": "@jupyter-widgets/base",
            "_view_module_version": "1.2.0",
            "_view_name": "LayoutView",
            "align_content": null,
            "align_items": null,
            "align_self": null,
            "border": null,
            "bottom": null,
            "display": null,
            "flex": null,
            "flex_flow": null,
            "grid_area": null,
            "grid_auto_columns": null,
            "grid_auto_flow": null,
            "grid_auto_rows": null,
            "grid_column": null,
            "grid_gap": null,
            "grid_row": null,
            "grid_template_areas": null,
            "grid_template_columns": null,
            "grid_template_rows": null,
            "height": null,
            "justify_content": null,
            "justify_items": null,
            "left": null,
            "margin": null,
            "max_height": null,
            "max_width": null,
            "min_height": null,
            "min_width": null,
            "object_fit": null,
            "object_position": null,
            "order": null,
            "overflow": null,
            "overflow_x": null,
            "overflow_y": null,
            "padding": null,
            "right": null,
            "top": null,
            "visibility": null,
            "width": null
          }
        },
        "2d3c5b22c30540cd81a54b491e33bfac": {
          "model_module": "@jupyter-widgets/controls",
          "model_module_version": "1.5.0",
          "model_name": "HTMLModel",
          "state": {
            "_dom_classes": [],
            "_model_module": "@jupyter-widgets/controls",
            "_model_module_version": "1.5.0",
            "_model_name": "HTMLModel",
            "_view_count": null,
            "_view_module": "@jupyter-widgets/controls",
            "_view_module_version": "1.5.0",
            "_view_name": "HTMLView",
            "description": "",
            "description_tooltip": null,
            "layout": "IPY_MODEL_2e481e0fd8ab4fae9c9798950d6d2481",
            "placeholder": "​",
            "style": "IPY_MODEL_44de3fe5ad57442484c94aee02fae8dc",
            "value": " 665/665 [00:00&lt;00:00, 53.7kB/s]"
          }
        },
        "2e481e0fd8ab4fae9c9798950d6d2481": {
          "model_module": "@jupyter-widgets/base",
          "model_module_version": "1.2.0",
          "model_name": "LayoutModel",
          "state": {
            "_model_module": "@jupyter-widgets/base",
            "_model_module_version": "1.2.0",
            "_model_name": "LayoutModel",
            "_view_count": null,
            "_view_module": "@jupyter-widgets/base",
            "_view_module_version": "1.2.0",
            "_view_name": "LayoutView",
            "align_content": null,
            "align_items": null,
            "align_self": null,
            "border": null,
            "bottom": null,
            "display": null,
            "flex": null,
            "flex_flow": null,
            "grid_area": null,
            "grid_auto_columns": null,
            "grid_auto_flow": null,
            "grid_auto_rows": null,
            "grid_column": null,
            "grid_gap": null,
            "grid_row": null,
            "grid_template_areas": null,
            "grid_template_columns": null,
            "grid_template_rows": null,
            "height": null,
            "justify_content": null,
            "justify_items": null,
            "left": null,
            "margin": null,
            "max_height": null,
            "max_width": null,
            "min_height": null,
            "min_width": null,
            "object_fit": null,
            "object_position": null,
            "order": null,
            "overflow": null,
            "overflow_x": null,
            "overflow_y": null,
            "padding": null,
            "right": null,
            "top": null,
            "visibility": null,
            "width": null
          }
        },
        "307d263332f3476b9f5367fb3a963328": {
          "model_module": "@jupyter-widgets/controls",
          "model_module_version": "1.5.0",
          "model_name": "FloatProgressModel",
          "state": {
            "_dom_classes": [],
            "_model_module": "@jupyter-widgets/controls",
            "_model_module_version": "1.5.0",
            "_model_name": "FloatProgressModel",
            "_view_count": null,
            "_view_module": "@jupyter-widgets/controls",
            "_view_module_version": "1.5.0",
            "_view_name": "ProgressView",
            "bar_style": "success",
            "description": "",
            "description_tooltip": null,
            "layout": "IPY_MODEL_72c4a0efe8634aff93308d6db4fc2e16",
            "max": 124,
            "min": 0,
            "orientation": "horizontal",
            "style": "IPY_MODEL_a05dad315b3d4aeb9ce3fafe003e3ae9",
            "value": 124
          }
        },
        "31e7ff0dc8794b56983809d684112569": {
          "model_module": "@jupyter-widgets/controls",
          "model_module_version": "1.5.0",
          "model_name": "HBoxModel",
          "state": {
            "_dom_classes": [],
            "_model_module": "@jupyter-widgets/controls",
            "_model_module_version": "1.5.0",
            "_model_name": "HBoxModel",
            "_view_count": null,
            "_view_module": "@jupyter-widgets/controls",
            "_view_module_version": "1.5.0",
            "_view_name": "HBoxView",
            "box_style": "",
            "children": [
              "IPY_MODEL_c29858dda35b4a789db8d3a491266aed",
              "IPY_MODEL_9b923268df7940cdaf4e4ad94db16443",
              "IPY_MODEL_2d3c5b22c30540cd81a54b491e33bfac"
            ],
            "layout": "IPY_MODEL_6b7b38f33d9746658704a821ba3227f7"
          }
        },
        "3276e4dce3c541de9a82b742c3031345": {
          "model_module": "@jupyter-widgets/controls",
          "model_module_version": "1.5.0",
          "model_name": "HTMLModel",
          "state": {
            "_dom_classes": [],
            "_model_module": "@jupyter-widgets/controls",
            "_model_module_version": "1.5.0",
            "_model_name": "HTMLModel",
            "_view_count": null,
            "_view_module": "@jupyter-widgets/controls",
            "_view_module_version": "1.5.0",
            "_view_name": "HTMLView",
            "description": "",
            "description_tooltip": null,
            "layout": "IPY_MODEL_0f08f05e809244aba9ccece26ab7add2",
            "placeholder": "​",
            "style": "IPY_MODEL_bb115ca860e846008c7c30aa54496aa9",
            "value": "Downloading (…)/main/tokenizer.json: 100%"
          }
        },
        "32c73425f88e47268bde6189e18a2b8b": {
          "model_module": "@jupyter-widgets/controls",
          "model_module_version": "1.5.0",
          "model_name": "HBoxModel",
          "state": {
            "_dom_classes": [],
            "_model_module": "@jupyter-widgets/controls",
            "_model_module_version": "1.5.0",
            "_model_name": "HBoxModel",
            "_view_count": null,
            "_view_module": "@jupyter-widgets/controls",
            "_view_module_version": "1.5.0",
            "_view_name": "HBoxView",
            "box_style": "",
            "children": [
              "IPY_MODEL_e924391807544c4fb71a891dfd157412",
              "IPY_MODEL_307d263332f3476b9f5367fb3a963328",
              "IPY_MODEL_fc6775b66ee045d0b65e46f918ebef75"
            ],
            "layout": "IPY_MODEL_bcaf8f637dac4903a3f6c690c362d3a1"
          }
        },
        "32dedea417664197b4a8d540a7d52928": {
          "model_module": "@jupyter-widgets/controls",
          "model_module_version": "1.5.0",
          "model_name": "ProgressStyleModel",
          "state": {
            "_model_module": "@jupyter-widgets/controls",
            "_model_module_version": "1.5.0",
            "_model_name": "ProgressStyleModel",
            "_view_count": null,
            "_view_module": "@jupyter-widgets/base",
            "_view_module_version": "1.2.0",
            "_view_name": "StyleView",
            "bar_color": null,
            "description_width": ""
          }
        },
        "3c0b051afb9349838b02347376b28996": {
          "model_module": "@jupyter-widgets/controls",
          "model_module_version": "1.5.0",
          "model_name": "DescriptionStyleModel",
          "state": {
            "_model_module": "@jupyter-widgets/controls",
            "_model_module_version": "1.5.0",
            "_model_name": "DescriptionStyleModel",
            "_view_count": null,
            "_view_module": "@jupyter-widgets/base",
            "_view_module_version": "1.2.0",
            "_view_name": "StyleView",
            "description_width": ""
          }
        },
        "3ec27f831cad487497f118974fc20dba": {
          "model_module": "@jupyter-widgets/controls",
          "model_module_version": "1.5.0",
          "model_name": "DescriptionStyleModel",
          "state": {
            "_model_module": "@jupyter-widgets/controls",
            "_model_module_version": "1.5.0",
            "_model_name": "DescriptionStyleModel",
            "_view_count": null,
            "_view_module": "@jupyter-widgets/base",
            "_view_module_version": "1.2.0",
            "_view_name": "StyleView",
            "description_width": ""
          }
        },
        "3f12c1453474401fae9877e1d780e183": {
          "model_module": "@jupyter-widgets/base",
          "model_module_version": "1.2.0",
          "model_name": "LayoutModel",
          "state": {
            "_model_module": "@jupyter-widgets/base",
            "_model_module_version": "1.2.0",
            "_model_name": "LayoutModel",
            "_view_count": null,
            "_view_module": "@jupyter-widgets/base",
            "_view_module_version": "1.2.0",
            "_view_name": "LayoutView",
            "align_content": null,
            "align_items": null,
            "align_self": null,
            "border": null,
            "bottom": null,
            "display": null,
            "flex": null,
            "flex_flow": null,
            "grid_area": null,
            "grid_auto_columns": null,
            "grid_auto_flow": null,
            "grid_auto_rows": null,
            "grid_column": null,
            "grid_gap": null,
            "grid_row": null,
            "grid_template_areas": null,
            "grid_template_columns": null,
            "grid_template_rows": null,
            "height": null,
            "justify_content": null,
            "justify_items": null,
            "left": null,
            "margin": null,
            "max_height": null,
            "max_width": null,
            "min_height": null,
            "min_width": null,
            "object_fit": null,
            "object_position": null,
            "order": null,
            "overflow": null,
            "overflow_x": null,
            "overflow_y": null,
            "padding": null,
            "right": null,
            "top": null,
            "visibility": null,
            "width": null
          }
        },
        "3fe8356f79a24e33a18604a3bc9500cb": {
          "model_module": "@jupyter-widgets/base",
          "model_module_version": "1.2.0",
          "model_name": "LayoutModel",
          "state": {
            "_model_module": "@jupyter-widgets/base",
            "_model_module_version": "1.2.0",
            "_model_name": "LayoutModel",
            "_view_count": null,
            "_view_module": "@jupyter-widgets/base",
            "_view_module_version": "1.2.0",
            "_view_name": "LayoutView",
            "align_content": null,
            "align_items": null,
            "align_self": null,
            "border": null,
            "bottom": null,
            "display": null,
            "flex": null,
            "flex_flow": null,
            "grid_area": null,
            "grid_auto_columns": null,
            "grid_auto_flow": null,
            "grid_auto_rows": null,
            "grid_column": null,
            "grid_gap": null,
            "grid_row": null,
            "grid_template_areas": null,
            "grid_template_columns": null,
            "grid_template_rows": null,
            "height": null,
            "justify_content": null,
            "justify_items": null,
            "left": null,
            "margin": null,
            "max_height": null,
            "max_width": null,
            "min_height": null,
            "min_width": null,
            "object_fit": null,
            "object_position": null,
            "order": null,
            "overflow": null,
            "overflow_x": null,
            "overflow_y": null,
            "padding": null,
            "right": null,
            "top": null,
            "visibility": null,
            "width": null
          }
        },
        "42ebb999d9244955b17974902095d33e": {
          "model_module": "@jupyter-widgets/controls",
          "model_module_version": "1.5.0",
          "model_name": "HTMLModel",
          "state": {
            "_dom_classes": [],
            "_model_module": "@jupyter-widgets/controls",
            "_model_module_version": "1.5.0",
            "_model_name": "HTMLModel",
            "_view_count": null,
            "_view_module": "@jupyter-widgets/controls",
            "_view_module_version": "1.5.0",
            "_view_name": "HTMLView",
            "description": "",
            "description_tooltip": null,
            "layout": "IPY_MODEL_3fe8356f79a24e33a18604a3bc9500cb",
            "placeholder": "​",
            "style": "IPY_MODEL_db8b9b69d1b541b6a8203a016c0c68d2",
            "value": " 1.04M/1.04M [00:00&lt;00:00, 3.18MB/s]"
          }
        },
        "43c46cc68bbc4305b49dafb48f78d01f": {
          "model_module": "@jupyter-widgets/base",
          "model_module_version": "1.2.0",
          "model_name": "LayoutModel",
          "state": {
            "_model_module": "@jupyter-widgets/base",
            "_model_module_version": "1.2.0",
            "_model_name": "LayoutModel",
            "_view_count": null,
            "_view_module": "@jupyter-widgets/base",
            "_view_module_version": "1.2.0",
            "_view_name": "LayoutView",
            "align_content": null,
            "align_items": null,
            "align_self": null,
            "border": null,
            "bottom": null,
            "display": null,
            "flex": null,
            "flex_flow": null,
            "grid_area": null,
            "grid_auto_columns": null,
            "grid_auto_flow": null,
            "grid_auto_rows": null,
            "grid_column": null,
            "grid_gap": null,
            "grid_row": null,
            "grid_template_areas": null,
            "grid_template_columns": null,
            "grid_template_rows": null,
            "height": null,
            "justify_content": null,
            "justify_items": null,
            "left": null,
            "margin": null,
            "max_height": null,
            "max_width": null,
            "min_height": null,
            "min_width": null,
            "object_fit": null,
            "object_position": null,
            "order": null,
            "overflow": null,
            "overflow_x": null,
            "overflow_y": null,
            "padding": null,
            "right": null,
            "top": null,
            "visibility": null,
            "width": null
          }
        },
        "44de3fe5ad57442484c94aee02fae8dc": {
          "model_module": "@jupyter-widgets/controls",
          "model_module_version": "1.5.0",
          "model_name": "DescriptionStyleModel",
          "state": {
            "_model_module": "@jupyter-widgets/controls",
            "_model_module_version": "1.5.0",
            "_model_name": "DescriptionStyleModel",
            "_view_count": null,
            "_view_module": "@jupyter-widgets/base",
            "_view_module_version": "1.2.0",
            "_view_name": "StyleView",
            "description_width": ""
          }
        },
        "4774b06b634747d09f64671c6fea0c23": {
          "model_module": "@jupyter-widgets/controls",
          "model_module_version": "1.5.0",
          "model_name": "DescriptionStyleModel",
          "state": {
            "_model_module": "@jupyter-widgets/controls",
            "_model_module_version": "1.5.0",
            "_model_name": "DescriptionStyleModel",
            "_view_count": null,
            "_view_module": "@jupyter-widgets/base",
            "_view_module_version": "1.2.0",
            "_view_name": "StyleView",
            "description_width": ""
          }
        },
        "51eefdb3004745fc9778481ab64a1bf8": {
          "model_module": "@jupyter-widgets/base",
          "model_module_version": "1.2.0",
          "model_name": "LayoutModel",
          "state": {
            "_model_module": "@jupyter-widgets/base",
            "_model_module_version": "1.2.0",
            "_model_name": "LayoutModel",
            "_view_count": null,
            "_view_module": "@jupyter-widgets/base",
            "_view_module_version": "1.2.0",
            "_view_name": "LayoutView",
            "align_content": null,
            "align_items": null,
            "align_self": null,
            "border": null,
            "bottom": null,
            "display": null,
            "flex": null,
            "flex_flow": null,
            "grid_area": null,
            "grid_auto_columns": null,
            "grid_auto_flow": null,
            "grid_auto_rows": null,
            "grid_column": null,
            "grid_gap": null,
            "grid_row": null,
            "grid_template_areas": null,
            "grid_template_columns": null,
            "grid_template_rows": null,
            "height": null,
            "justify_content": null,
            "justify_items": null,
            "left": null,
            "margin": null,
            "max_height": null,
            "max_width": null,
            "min_height": null,
            "min_width": null,
            "object_fit": null,
            "object_position": null,
            "order": null,
            "overflow": null,
            "overflow_x": null,
            "overflow_y": null,
            "padding": null,
            "right": null,
            "top": null,
            "visibility": null,
            "width": null
          }
        },
        "54d7d13e1b704c6bb5cae8a90a761595": {
          "model_module": "@jupyter-widgets/controls",
          "model_module_version": "1.5.0",
          "model_name": "DescriptionStyleModel",
          "state": {
            "_model_module": "@jupyter-widgets/controls",
            "_model_module_version": "1.5.0",
            "_model_name": "DescriptionStyleModel",
            "_view_count": null,
            "_view_module": "@jupyter-widgets/base",
            "_view_module_version": "1.2.0",
            "_view_name": "StyleView",
            "description_width": ""
          }
        },
        "588b080c5b084c079bf083e8e6bb23ba": {
          "model_module": "@jupyter-widgets/controls",
          "model_module_version": "1.5.0",
          "model_name": "HBoxModel",
          "state": {
            "_dom_classes": [],
            "_model_module": "@jupyter-widgets/controls",
            "_model_module_version": "1.5.0",
            "_model_name": "HBoxModel",
            "_view_count": null,
            "_view_module": "@jupyter-widgets/controls",
            "_view_module_version": "1.5.0",
            "_view_name": "HBoxView",
            "box_style": "",
            "children": [
              "IPY_MODEL_c9cdbb3a4e9d434eb570d80bdc4f560f",
              "IPY_MODEL_af4763b0818e47279d594ad8501b4fa1",
              "IPY_MODEL_ac1bfc6c950f4136bdbb508ba35c0125"
            ],
            "layout": "IPY_MODEL_e3842288f96d40449a839f4ab150b77f"
          }
        },
        "5ce614f1c84c4d31a8e296c61cc9a472": {
          "model_module": "@jupyter-widgets/controls",
          "model_module_version": "1.5.0",
          "model_name": "DescriptionStyleModel",
          "state": {
            "_model_module": "@jupyter-widgets/controls",
            "_model_module_version": "1.5.0",
            "_model_name": "DescriptionStyleModel",
            "_view_count": null,
            "_view_module": "@jupyter-widgets/base",
            "_view_module_version": "1.2.0",
            "_view_name": "StyleView",
            "description_width": ""
          }
        },
        "5dc7494605cd49b181f5bc4deb1c45b2": {
          "model_module": "@jupyter-widgets/controls",
          "model_module_version": "1.5.0",
          "model_name": "ProgressStyleModel",
          "state": {
            "_model_module": "@jupyter-widgets/controls",
            "_model_module_version": "1.5.0",
            "_model_name": "ProgressStyleModel",
            "_view_count": null,
            "_view_module": "@jupyter-widgets/base",
            "_view_module_version": "1.2.0",
            "_view_name": "StyleView",
            "bar_color": null,
            "description_width": ""
          }
        },
        "6a33234bdc0c47c69d9ec4530474b2b9": {
          "model_module": "@jupyter-widgets/base",
          "model_module_version": "1.2.0",
          "model_name": "LayoutModel",
          "state": {
            "_model_module": "@jupyter-widgets/base",
            "_model_module_version": "1.2.0",
            "_model_name": "LayoutModel",
            "_view_count": null,
            "_view_module": "@jupyter-widgets/base",
            "_view_module_version": "1.2.0",
            "_view_name": "LayoutView",
            "align_content": null,
            "align_items": null,
            "align_self": null,
            "border": null,
            "bottom": null,
            "display": null,
            "flex": null,
            "flex_flow": null,
            "grid_area": null,
            "grid_auto_columns": null,
            "grid_auto_flow": null,
            "grid_auto_rows": null,
            "grid_column": null,
            "grid_gap": null,
            "grid_row": null,
            "grid_template_areas": null,
            "grid_template_columns": null,
            "grid_template_rows": null,
            "height": null,
            "justify_content": null,
            "justify_items": null,
            "left": null,
            "margin": null,
            "max_height": null,
            "max_width": null,
            "min_height": null,
            "min_width": null,
            "object_fit": null,
            "object_position": null,
            "order": null,
            "overflow": null,
            "overflow_x": null,
            "overflow_y": null,
            "padding": null,
            "right": null,
            "top": null,
            "visibility": null,
            "width": null
          }
        },
        "6b7b38f33d9746658704a821ba3227f7": {
          "model_module": "@jupyter-widgets/base",
          "model_module_version": "1.2.0",
          "model_name": "LayoutModel",
          "state": {
            "_model_module": "@jupyter-widgets/base",
            "_model_module_version": "1.2.0",
            "_model_name": "LayoutModel",
            "_view_count": null,
            "_view_module": "@jupyter-widgets/base",
            "_view_module_version": "1.2.0",
            "_view_name": "LayoutView",
            "align_content": null,
            "align_items": null,
            "align_self": null,
            "border": null,
            "bottom": null,
            "display": null,
            "flex": null,
            "flex_flow": null,
            "grid_area": null,
            "grid_auto_columns": null,
            "grid_auto_flow": null,
            "grid_auto_rows": null,
            "grid_column": null,
            "grid_gap": null,
            "grid_row": null,
            "grid_template_areas": null,
            "grid_template_columns": null,
            "grid_template_rows": null,
            "height": null,
            "justify_content": null,
            "justify_items": null,
            "left": null,
            "margin": null,
            "max_height": null,
            "max_width": null,
            "min_height": null,
            "min_width": null,
            "object_fit": null,
            "object_position": null,
            "order": null,
            "overflow": null,
            "overflow_x": null,
            "overflow_y": null,
            "padding": null,
            "right": null,
            "top": null,
            "visibility": null,
            "width": null
          }
        },
        "6e8f466a3fe84ab09b00aac83cd96ccb": {
          "model_module": "@jupyter-widgets/controls",
          "model_module_version": "1.5.0",
          "model_name": "HTMLModel",
          "state": {
            "_dom_classes": [],
            "_model_module": "@jupyter-widgets/controls",
            "_model_module_version": "1.5.0",
            "_model_name": "HTMLModel",
            "_view_count": null,
            "_view_module": "@jupyter-widgets/controls",
            "_view_module_version": "1.5.0",
            "_view_name": "HTMLView",
            "description": "",
            "description_tooltip": null,
            "layout": "IPY_MODEL_12fa6b2e572442aa99440350d34d31d4",
            "placeholder": "​",
            "style": "IPY_MODEL_5ce614f1c84c4d31a8e296c61cc9a472",
            "value": "Downloading (…)olve/main/merges.txt: 100%"
          }
        },
        "72c4a0efe8634aff93308d6db4fc2e16": {
          "model_module": "@jupyter-widgets/base",
          "model_module_version": "1.2.0",
          "model_name": "LayoutModel",
          "state": {
            "_model_module": "@jupyter-widgets/base",
            "_model_module_version": "1.2.0",
            "_model_name": "LayoutModel",
            "_view_count": null,
            "_view_module": "@jupyter-widgets/base",
            "_view_module_version": "1.2.0",
            "_view_name": "LayoutView",
            "align_content": null,
            "align_items": null,
            "align_self": null,
            "border": null,
            "bottom": null,
            "display": null,
            "flex": null,
            "flex_flow": null,
            "grid_area": null,
            "grid_auto_columns": null,
            "grid_auto_flow": null,
            "grid_auto_rows": null,
            "grid_column": null,
            "grid_gap": null,
            "grid_row": null,
            "grid_template_areas": null,
            "grid_template_columns": null,
            "grid_template_rows": null,
            "height": null,
            "justify_content": null,
            "justify_items": null,
            "left": null,
            "margin": null,
            "max_height": null,
            "max_width": null,
            "min_height": null,
            "min_width": null,
            "object_fit": null,
            "object_position": null,
            "order": null,
            "overflow": null,
            "overflow_x": null,
            "overflow_y": null,
            "padding": null,
            "right": null,
            "top": null,
            "visibility": null,
            "width": null
          }
        },
        "873cf36925ba4a09b6765bbfe7a2e508": {
          "model_module": "@jupyter-widgets/controls",
          "model_module_version": "1.5.0",
          "model_name": "HTMLModel",
          "state": {
            "_dom_classes": [],
            "_model_module": "@jupyter-widgets/controls",
            "_model_module_version": "1.5.0",
            "_model_name": "HTMLModel",
            "_view_count": null,
            "_view_module": "@jupyter-widgets/controls",
            "_view_module_version": "1.5.0",
            "_view_name": "HTMLView",
            "description": "",
            "description_tooltip": null,
            "layout": "IPY_MODEL_099aeb45e2b444beb5e1f3a0a87e13aa",
            "placeholder": "​",
            "style": "IPY_MODEL_0bb005f6771e4e838c9c0dcac8a20acd",
            "value": " 456k/456k [00:00&lt;00:00, 1.86MB/s]"
          }
        },
        "8c5e96216d104b99ba0037501fcd8bd5": {
          "model_module": "@jupyter-widgets/controls",
          "model_module_version": "1.5.0",
          "model_name": "HTMLModel",
          "state": {
            "_dom_classes": [],
            "_model_module": "@jupyter-widgets/controls",
            "_model_module_version": "1.5.0",
            "_model_name": "HTMLModel",
            "_view_count": null,
            "_view_module": "@jupyter-widgets/controls",
            "_view_module_version": "1.5.0",
            "_view_name": "HTMLView",
            "description": "",
            "description_tooltip": null,
            "layout": "IPY_MODEL_186d81228815442f88e2153629cec242",
            "placeholder": "​",
            "style": "IPY_MODEL_a35211a703c04f849ee6db1e4fdb2e16",
            "value": " 1.36M/1.36M [00:00&lt;00:00, 15.8MB/s]"
          }
        },
        "9b39edfe8070460fa202865524bb264f": {
          "model_module": "@jupyter-widgets/controls",
          "model_module_version": "1.5.0",
          "model_name": "DescriptionStyleModel",
          "state": {
            "_model_module": "@jupyter-widgets/controls",
            "_model_module_version": "1.5.0",
            "_model_name": "DescriptionStyleModel",
            "_view_count": null,
            "_view_module": "@jupyter-widgets/base",
            "_view_module_version": "1.2.0",
            "_view_name": "StyleView",
            "description_width": ""
          }
        },
        "9b923268df7940cdaf4e4ad94db16443": {
          "model_module": "@jupyter-widgets/controls",
          "model_module_version": "1.5.0",
          "model_name": "FloatProgressModel",
          "state": {
            "_dom_classes": [],
            "_model_module": "@jupyter-widgets/controls",
            "_model_module_version": "1.5.0",
            "_model_name": "FloatProgressModel",
            "_view_count": null,
            "_view_module": "@jupyter-widgets/controls",
            "_view_module_version": "1.5.0",
            "_view_name": "ProgressView",
            "bar_style": "success",
            "description": "",
            "description_tooltip": null,
            "layout": "IPY_MODEL_0a2d5dd9618249d7b0c7daf54fbd60a6",
            "max": 665,
            "min": 0,
            "orientation": "horizontal",
            "style": "IPY_MODEL_1cb1d528ab5a493e96f2032dd9aa5f76",
            "value": 665
          }
        },
        "9bc9d9b75ac44d62b099c799da714595": {
          "model_module": "@jupyter-widgets/base",
          "model_module_version": "1.2.0",
          "model_name": "LayoutModel",
          "state": {
            "_model_module": "@jupyter-widgets/base",
            "_model_module_version": "1.2.0",
            "_model_name": "LayoutModel",
            "_view_count": null,
            "_view_module": "@jupyter-widgets/base",
            "_view_module_version": "1.2.0",
            "_view_name": "LayoutView",
            "align_content": null,
            "align_items": null,
            "align_self": null,
            "border": null,
            "bottom": null,
            "display": null,
            "flex": null,
            "flex_flow": null,
            "grid_area": null,
            "grid_auto_columns": null,
            "grid_auto_flow": null,
            "grid_auto_rows": null,
            "grid_column": null,
            "grid_gap": null,
            "grid_row": null,
            "grid_template_areas": null,
            "grid_template_columns": null,
            "grid_template_rows": null,
            "height": null,
            "justify_content": null,
            "justify_items": null,
            "left": null,
            "margin": null,
            "max_height": null,
            "max_width": null,
            "min_height": null,
            "min_width": null,
            "object_fit": null,
            "object_position": null,
            "order": null,
            "overflow": null,
            "overflow_x": null,
            "overflow_y": null,
            "padding": null,
            "right": null,
            "top": null,
            "visibility": null,
            "width": null
          }
        },
        "a05dad315b3d4aeb9ce3fafe003e3ae9": {
          "model_module": "@jupyter-widgets/controls",
          "model_module_version": "1.5.0",
          "model_name": "ProgressStyleModel",
          "state": {
            "_model_module": "@jupyter-widgets/controls",
            "_model_module_version": "1.5.0",
            "_model_name": "ProgressStyleModel",
            "_view_count": null,
            "_view_module": "@jupyter-widgets/base",
            "_view_module_version": "1.2.0",
            "_view_name": "StyleView",
            "bar_color": null,
            "description_width": ""
          }
        },
        "a35211a703c04f849ee6db1e4fdb2e16": {
          "model_module": "@jupyter-widgets/controls",
          "model_module_version": "1.5.0",
          "model_name": "DescriptionStyleModel",
          "state": {
            "_model_module": "@jupyter-widgets/controls",
            "_model_module_version": "1.5.0",
            "_model_name": "DescriptionStyleModel",
            "_view_count": null,
            "_view_module": "@jupyter-widgets/base",
            "_view_module_version": "1.2.0",
            "_view_name": "StyleView",
            "description_width": ""
          }
        },
        "a39c38106b494dc2bfbbb21185ce936c": {
          "model_module": "@jupyter-widgets/base",
          "model_module_version": "1.2.0",
          "model_name": "LayoutModel",
          "state": {
            "_model_module": "@jupyter-widgets/base",
            "_model_module_version": "1.2.0",
            "_model_name": "LayoutModel",
            "_view_count": null,
            "_view_module": "@jupyter-widgets/base",
            "_view_module_version": "1.2.0",
            "_view_name": "LayoutView",
            "align_content": null,
            "align_items": null,
            "align_self": null,
            "border": null,
            "bottom": null,
            "display": null,
            "flex": null,
            "flex_flow": null,
            "grid_area": null,
            "grid_auto_columns": null,
            "grid_auto_flow": null,
            "grid_auto_rows": null,
            "grid_column": null,
            "grid_gap": null,
            "grid_row": null,
            "grid_template_areas": null,
            "grid_template_columns": null,
            "grid_template_rows": null,
            "height": null,
            "justify_content": null,
            "justify_items": null,
            "left": null,
            "margin": null,
            "max_height": null,
            "max_width": null,
            "min_height": null,
            "min_width": null,
            "object_fit": null,
            "object_position": null,
            "order": null,
            "overflow": null,
            "overflow_x": null,
            "overflow_y": null,
            "padding": null,
            "right": null,
            "top": null,
            "visibility": null,
            "width": null
          }
        },
        "ac1bfc6c950f4136bdbb508ba35c0125": {
          "model_module": "@jupyter-widgets/controls",
          "model_module_version": "1.5.0",
          "model_name": "HTMLModel",
          "state": {
            "_dom_classes": [],
            "_model_module": "@jupyter-widgets/controls",
            "_model_module_version": "1.5.0",
            "_model_name": "HTMLModel",
            "_view_count": null,
            "_view_module": "@jupyter-widgets/controls",
            "_view_module_version": "1.5.0",
            "_view_name": "HTMLView",
            "description": "",
            "description_tooltip": null,
            "layout": "IPY_MODEL_3f12c1453474401fae9877e1d780e183",
            "placeholder": "​",
            "style": "IPY_MODEL_54d7d13e1b704c6bb5cae8a90a761595",
            "value": " 548M/548M [00:01&lt;00:00, 369MB/s]"
          }
        },
        "af4763b0818e47279d594ad8501b4fa1": {
          "model_module": "@jupyter-widgets/controls",
          "model_module_version": "1.5.0",
          "model_name": "FloatProgressModel",
          "state": {
            "_dom_classes": [],
            "_model_module": "@jupyter-widgets/controls",
            "_model_module_version": "1.5.0",
            "_model_name": "FloatProgressModel",
            "_view_count": null,
            "_view_module": "@jupyter-widgets/controls",
            "_view_module_version": "1.5.0",
            "_view_name": "ProgressView",
            "bar_style": "success",
            "description": "",
            "description_tooltip": null,
            "layout": "IPY_MODEL_51eefdb3004745fc9778481ab64a1bf8",
            "max": 548105171,
            "min": 0,
            "orientation": "horizontal",
            "style": "IPY_MODEL_32dedea417664197b4a8d540a7d52928",
            "value": 548105171
          }
        },
        "b881862100cf4f5ca004b9b3d3626010": {
          "model_module": "@jupyter-widgets/base",
          "model_module_version": "1.2.0",
          "model_name": "LayoutModel",
          "state": {
            "_model_module": "@jupyter-widgets/base",
            "_model_module_version": "1.2.0",
            "_model_name": "LayoutModel",
            "_view_count": null,
            "_view_module": "@jupyter-widgets/base",
            "_view_module_version": "1.2.0",
            "_view_name": "LayoutView",
            "align_content": null,
            "align_items": null,
            "align_self": null,
            "border": null,
            "bottom": null,
            "display": null,
            "flex": null,
            "flex_flow": null,
            "grid_area": null,
            "grid_auto_columns": null,
            "grid_auto_flow": null,
            "grid_auto_rows": null,
            "grid_column": null,
            "grid_gap": null,
            "grid_row": null,
            "grid_template_areas": null,
            "grid_template_columns": null,
            "grid_template_rows": null,
            "height": null,
            "justify_content": null,
            "justify_items": null,
            "left": null,
            "margin": null,
            "max_height": null,
            "max_width": null,
            "min_height": null,
            "min_width": null,
            "object_fit": null,
            "object_position": null,
            "order": null,
            "overflow": null,
            "overflow_x": null,
            "overflow_y": null,
            "padding": null,
            "right": null,
            "top": null,
            "visibility": null,
            "width": null
          }
        },
        "bb115ca860e846008c7c30aa54496aa9": {
          "model_module": "@jupyter-widgets/controls",
          "model_module_version": "1.5.0",
          "model_name": "DescriptionStyleModel",
          "state": {
            "_model_module": "@jupyter-widgets/controls",
            "_model_module_version": "1.5.0",
            "_model_name": "DescriptionStyleModel",
            "_view_count": null,
            "_view_module": "@jupyter-widgets/base",
            "_view_module_version": "1.2.0",
            "_view_name": "StyleView",
            "description_width": ""
          }
        },
        "bcaf8f637dac4903a3f6c690c362d3a1": {
          "model_module": "@jupyter-widgets/base",
          "model_module_version": "1.2.0",
          "model_name": "LayoutModel",
          "state": {
            "_model_module": "@jupyter-widgets/base",
            "_model_module_version": "1.2.0",
            "_model_name": "LayoutModel",
            "_view_count": null,
            "_view_module": "@jupyter-widgets/base",
            "_view_module_version": "1.2.0",
            "_view_name": "LayoutView",
            "align_content": null,
            "align_items": null,
            "align_self": null,
            "border": null,
            "bottom": null,
            "display": null,
            "flex": null,
            "flex_flow": null,
            "grid_area": null,
            "grid_auto_columns": null,
            "grid_auto_flow": null,
            "grid_auto_rows": null,
            "grid_column": null,
            "grid_gap": null,
            "grid_row": null,
            "grid_template_areas": null,
            "grid_template_columns": null,
            "grid_template_rows": null,
            "height": null,
            "justify_content": null,
            "justify_items": null,
            "left": null,
            "margin": null,
            "max_height": null,
            "max_width": null,
            "min_height": null,
            "min_width": null,
            "object_fit": null,
            "object_position": null,
            "order": null,
            "overflow": null,
            "overflow_x": null,
            "overflow_y": null,
            "padding": null,
            "right": null,
            "top": null,
            "visibility": null,
            "width": null
          }
        },
        "c29858dda35b4a789db8d3a491266aed": {
          "model_module": "@jupyter-widgets/controls",
          "model_module_version": "1.5.0",
          "model_name": "HTMLModel",
          "state": {
            "_dom_classes": [],
            "_model_module": "@jupyter-widgets/controls",
            "_model_module_version": "1.5.0",
            "_model_name": "HTMLModel",
            "_view_count": null,
            "_view_module": "@jupyter-widgets/controls",
            "_view_module_version": "1.5.0",
            "_view_name": "HTMLView",
            "description": "",
            "description_tooltip": null,
            "layout": "IPY_MODEL_a39c38106b494dc2bfbbb21185ce936c",
            "placeholder": "​",
            "style": "IPY_MODEL_9b39edfe8070460fa202865524bb264f",
            "value": "Downloading (…)lve/main/config.json: 100%"
          }
        },
        "c83725cebe4645219dd15d89e61da601": {
          "model_module": "@jupyter-widgets/controls",
          "model_module_version": "1.5.0",
          "model_name": "HBoxModel",
          "state": {
            "_dom_classes": [],
            "_model_module": "@jupyter-widgets/controls",
            "_model_module_version": "1.5.0",
            "_model_name": "HBoxModel",
            "_view_count": null,
            "_view_module": "@jupyter-widgets/controls",
            "_view_module_version": "1.5.0",
            "_view_name": "HBoxView",
            "box_style": "",
            "children": [
              "IPY_MODEL_20aac82b5efa48fea64cc33ae75280b7",
              "IPY_MODEL_e5b617cb1c4a4b03abc70a8c448c7f82",
              "IPY_MODEL_42ebb999d9244955b17974902095d33e"
            ],
            "layout": "IPY_MODEL_1e9b9526b98a49adb0eab84c8fd3f825"
          }
        },
        "c9cdbb3a4e9d434eb570d80bdc4f560f": {
          "model_module": "@jupyter-widgets/controls",
          "model_module_version": "1.5.0",
          "model_name": "HTMLModel",
          "state": {
            "_dom_classes": [],
            "_model_module": "@jupyter-widgets/controls",
            "_model_module_version": "1.5.0",
            "_model_name": "HTMLModel",
            "_view_count": null,
            "_view_module": "@jupyter-widgets/controls",
            "_view_module_version": "1.5.0",
            "_view_name": "HTMLView",
            "description": "",
            "description_tooltip": null,
            "layout": "IPY_MODEL_df663546d94b4aeb88d1ee7b4c1e5a2c",
            "placeholder": "​",
            "style": "IPY_MODEL_3ec27f831cad487497f118974fc20dba",
            "value": "Downloading model.safetensors: 100%"
          }
        },
        "ccceb3641cf049cbaa7907090baa89f9": {
          "model_module": "@jupyter-widgets/controls",
          "model_module_version": "1.5.0",
          "model_name": "HBoxModel",
          "state": {
            "_dom_classes": [],
            "_model_module": "@jupyter-widgets/controls",
            "_model_module_version": "1.5.0",
            "_model_name": "HBoxModel",
            "_view_count": null,
            "_view_module": "@jupyter-widgets/controls",
            "_view_module_version": "1.5.0",
            "_view_name": "HBoxView",
            "box_style": "",
            "children": [
              "IPY_MODEL_6e8f466a3fe84ab09b00aac83cd96ccb",
              "IPY_MODEL_fe247a95b769492185413b025f3c1b85",
              "IPY_MODEL_873cf36925ba4a09b6765bbfe7a2e508"
            ],
            "layout": "IPY_MODEL_24f496e3495a46f88e595fde06cd3956"
          }
        },
        "d70cfd9927ab44ff9b9181378d819ffe": {
          "model_module": "@jupyter-widgets/base",
          "model_module_version": "1.2.0",
          "model_name": "LayoutModel",
          "state": {
            "_model_module": "@jupyter-widgets/base",
            "_model_module_version": "1.2.0",
            "_model_name": "LayoutModel",
            "_view_count": null,
            "_view_module": "@jupyter-widgets/base",
            "_view_module_version": "1.2.0",
            "_view_name": "LayoutView",
            "align_content": null,
            "align_items": null,
            "align_self": null,
            "border": null,
            "bottom": null,
            "display": null,
            "flex": null,
            "flex_flow": null,
            "grid_area": null,
            "grid_auto_columns": null,
            "grid_auto_flow": null,
            "grid_auto_rows": null,
            "grid_column": null,
            "grid_gap": null,
            "grid_row": null,
            "grid_template_areas": null,
            "grid_template_columns": null,
            "grid_template_rows": null,
            "height": null,
            "justify_content": null,
            "justify_items": null,
            "left": null,
            "margin": null,
            "max_height": null,
            "max_width": null,
            "min_height": null,
            "min_width": null,
            "object_fit": null,
            "object_position": null,
            "order": null,
            "overflow": null,
            "overflow_x": null,
            "overflow_y": null,
            "padding": null,
            "right": null,
            "top": null,
            "visibility": null,
            "width": null
          }
        },
        "db8b9b69d1b541b6a8203a016c0c68d2": {
          "model_module": "@jupyter-widgets/controls",
          "model_module_version": "1.5.0",
          "model_name": "DescriptionStyleModel",
          "state": {
            "_model_module": "@jupyter-widgets/controls",
            "_model_module_version": "1.5.0",
            "_model_name": "DescriptionStyleModel",
            "_view_count": null,
            "_view_module": "@jupyter-widgets/base",
            "_view_module_version": "1.2.0",
            "_view_name": "StyleView",
            "description_width": ""
          }
        },
        "df663546d94b4aeb88d1ee7b4c1e5a2c": {
          "model_module": "@jupyter-widgets/base",
          "model_module_version": "1.2.0",
          "model_name": "LayoutModel",
          "state": {
            "_model_module": "@jupyter-widgets/base",
            "_model_module_version": "1.2.0",
            "_model_name": "LayoutModel",
            "_view_count": null,
            "_view_module": "@jupyter-widgets/base",
            "_view_module_version": "1.2.0",
            "_view_name": "LayoutView",
            "align_content": null,
            "align_items": null,
            "align_self": null,
            "border": null,
            "bottom": null,
            "display": null,
            "flex": null,
            "flex_flow": null,
            "grid_area": null,
            "grid_auto_columns": null,
            "grid_auto_flow": null,
            "grid_auto_rows": null,
            "grid_column": null,
            "grid_gap": null,
            "grid_row": null,
            "grid_template_areas": null,
            "grid_template_columns": null,
            "grid_template_rows": null,
            "height": null,
            "justify_content": null,
            "justify_items": null,
            "left": null,
            "margin": null,
            "max_height": null,
            "max_width": null,
            "min_height": null,
            "min_width": null,
            "object_fit": null,
            "object_position": null,
            "order": null,
            "overflow": null,
            "overflow_x": null,
            "overflow_y": null,
            "padding": null,
            "right": null,
            "top": null,
            "visibility": null,
            "width": null
          }
        },
        "e2583058b4184fb099c1fef0d63eb6fd": {
          "model_module": "@jupyter-widgets/controls",
          "model_module_version": "1.5.0",
          "model_name": "HBoxModel",
          "state": {
            "_dom_classes": [],
            "_model_module": "@jupyter-widgets/controls",
            "_model_module_version": "1.5.0",
            "_model_name": "HBoxModel",
            "_view_count": null,
            "_view_module": "@jupyter-widgets/controls",
            "_view_module_version": "1.5.0",
            "_view_name": "HBoxView",
            "box_style": "",
            "children": [
              "IPY_MODEL_3276e4dce3c541de9a82b742c3031345",
              "IPY_MODEL_20233b0d534f425a81afb953526a11a2",
              "IPY_MODEL_8c5e96216d104b99ba0037501fcd8bd5"
            ],
            "layout": "IPY_MODEL_19cabf7c2fd441b2b6a8084b58f62c52"
          }
        },
        "e3842288f96d40449a839f4ab150b77f": {
          "model_module": "@jupyter-widgets/base",
          "model_module_version": "1.2.0",
          "model_name": "LayoutModel",
          "state": {
            "_model_module": "@jupyter-widgets/base",
            "_model_module_version": "1.2.0",
            "_model_name": "LayoutModel",
            "_view_count": null,
            "_view_module": "@jupyter-widgets/base",
            "_view_module_version": "1.2.0",
            "_view_name": "LayoutView",
            "align_content": null,
            "align_items": null,
            "align_self": null,
            "border": null,
            "bottom": null,
            "display": null,
            "flex": null,
            "flex_flow": null,
            "grid_area": null,
            "grid_auto_columns": null,
            "grid_auto_flow": null,
            "grid_auto_rows": null,
            "grid_column": null,
            "grid_gap": null,
            "grid_row": null,
            "grid_template_areas": null,
            "grid_template_columns": null,
            "grid_template_rows": null,
            "height": null,
            "justify_content": null,
            "justify_items": null,
            "left": null,
            "margin": null,
            "max_height": null,
            "max_width": null,
            "min_height": null,
            "min_width": null,
            "object_fit": null,
            "object_position": null,
            "order": null,
            "overflow": null,
            "overflow_x": null,
            "overflow_y": null,
            "padding": null,
            "right": null,
            "top": null,
            "visibility": null,
            "width": null
          }
        },
        "e5b617cb1c4a4b03abc70a8c448c7f82": {
          "model_module": "@jupyter-widgets/controls",
          "model_module_version": "1.5.0",
          "model_name": "FloatProgressModel",
          "state": {
            "_dom_classes": [],
            "_model_module": "@jupyter-widgets/controls",
            "_model_module_version": "1.5.0",
            "_model_name": "FloatProgressModel",
            "_view_count": null,
            "_view_module": "@jupyter-widgets/controls",
            "_view_module_version": "1.5.0",
            "_view_name": "ProgressView",
            "bar_style": "success",
            "description": "",
            "description_tooltip": null,
            "layout": "IPY_MODEL_0636bbcd0c8b4399b21fb2fd524e729e",
            "max": 1042301,
            "min": 0,
            "orientation": "horizontal",
            "style": "IPY_MODEL_f7e890954d4a44f7b911b8a459abdd68",
            "value": 1042301
          }
        },
        "e924391807544c4fb71a891dfd157412": {
          "model_module": "@jupyter-widgets/controls",
          "model_module_version": "1.5.0",
          "model_name": "HTMLModel",
          "state": {
            "_dom_classes": [],
            "_model_module": "@jupyter-widgets/controls",
            "_model_module_version": "1.5.0",
            "_model_name": "HTMLModel",
            "_view_count": null,
            "_view_module": "@jupyter-widgets/controls",
            "_view_module_version": "1.5.0",
            "_view_name": "HTMLView",
            "description": "",
            "description_tooltip": null,
            "layout": "IPY_MODEL_43c46cc68bbc4305b49dafb48f78d01f",
            "placeholder": "​",
            "style": "IPY_MODEL_3c0b051afb9349838b02347376b28996",
            "value": "Downloading (…)neration_config.json: 100%"
          }
        },
        "f7e890954d4a44f7b911b8a459abdd68": {
          "model_module": "@jupyter-widgets/controls",
          "model_module_version": "1.5.0",
          "model_name": "ProgressStyleModel",
          "state": {
            "_model_module": "@jupyter-widgets/controls",
            "_model_module_version": "1.5.0",
            "_model_name": "ProgressStyleModel",
            "_view_count": null,
            "_view_module": "@jupyter-widgets/base",
            "_view_module_version": "1.2.0",
            "_view_name": "StyleView",
            "bar_color": null,
            "description_width": ""
          }
        },
        "fc6775b66ee045d0b65e46f918ebef75": {
          "model_module": "@jupyter-widgets/controls",
          "model_module_version": "1.5.0",
          "model_name": "HTMLModel",
          "state": {
            "_dom_classes": [],
            "_model_module": "@jupyter-widgets/controls",
            "_model_module_version": "1.5.0",
            "_model_name": "HTMLModel",
            "_view_count": null,
            "_view_module": "@jupyter-widgets/controls",
            "_view_module_version": "1.5.0",
            "_view_name": "HTMLView",
            "description": "",
            "description_tooltip": null,
            "layout": "IPY_MODEL_9bc9d9b75ac44d62b099c799da714595",
            "placeholder": "​",
            "style": "IPY_MODEL_4774b06b634747d09f64671c6fea0c23",
            "value": " 124/124 [00:00&lt;00:00, 6.21kB/s]"
          }
        },
        "fe247a95b769492185413b025f3c1b85": {
          "model_module": "@jupyter-widgets/controls",
          "model_module_version": "1.5.0",
          "model_name": "FloatProgressModel",
          "state": {
            "_dom_classes": [],
            "_model_module": "@jupyter-widgets/controls",
            "_model_module_version": "1.5.0",
            "_model_name": "FloatProgressModel",
            "_view_count": null,
            "_view_module": "@jupyter-widgets/controls",
            "_view_module_version": "1.5.0",
            "_view_name": "ProgressView",
            "bar_style": "success",
            "description": "",
            "description_tooltip": null,
            "layout": "IPY_MODEL_b881862100cf4f5ca004b9b3d3626010",
            "max": 456318,
            "min": 0,
            "orientation": "horizontal",
            "style": "IPY_MODEL_5dc7494605cd49b181f5bc4deb1c45b2",
            "value": 456318
          }
        }
      }
    }
  },
  "nbformat": 4,
  "nbformat_minor": 0
}
