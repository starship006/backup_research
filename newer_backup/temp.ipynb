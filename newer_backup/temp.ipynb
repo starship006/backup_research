{
 "cells": [
  {
   "cell_type": "markdown",
   "metadata": {},
   "source": [
    "# Imports"
   ]
  },
  {
   "cell_type": "code",
   "execution_count": null,
   "metadata": {},
   "outputs": [],
   "source": []
  },
  {
   "cell_type": "code",
   "execution_count": 1,
   "metadata": {},
   "outputs": [],
   "source": [
    "#%pip install git+https://github.com/neelnanda-io/TransformerLens.git"
   ]
  },
  {
   "cell_type": "code",
   "execution_count": 2,
   "metadata": {},
   "outputs": [],
   "source": [
    "#%pip install plotly"
   ]
  },
  {
   "cell_type": "code",
   "execution_count": 3,
   "metadata": {},
   "outputs": [
    {
     "name": "stdout",
     "output_type": "stream",
     "text": [
      "Collecting git+https://github.com/callummcdougall/CircuitsVis.git#subdirectory=python\n",
      "  Cloning https://github.com/callummcdougall/CircuitsVis.git to /tmp/pip-req-build-ya5ihpif\n",
      "  Running command git clone --filter=blob:none --quiet https://github.com/callummcdougall/CircuitsVis.git /tmp/pip-req-build-ya5ihpif\n",
      "^C\n",
      "\u001b[31mERROR: Operation cancelled by user\u001b[0m\u001b[31m\n",
      "\u001b[0mNote: you may need to restart the kernel to use updated packages.\n"
     ]
    }
   ],
   "source": [
    "#%pip install git+https://github.com/callummcdougall/CircuitsVis.git#subdirectory=python"
   ]
  },
  {
   "cell_type": "code",
   "execution_count": null,
   "metadata": {},
   "outputs": [],
   "source": [
    "#%pip install git+https://github.com/callummcdougall/CircuitsVis.git#subdirectory=python"
   ]
  },
  {
   "cell_type": "code",
   "execution_count": 1,
   "metadata": {},
   "outputs": [],
   "source": [
    "import math\n",
    "import torch\n",
    "import torch.nn as nn\n",
    "import torch.nn.functional as F\n",
    "import torch.optim as optim\n",
    "from torch import Tensor\n",
    "\n",
    "import numpy as np\n",
    "import pandas as pd\n",
    "import einops\n",
    "from fancy_einsum import einsum\n",
    "import tqdm.auto as tqdm\n",
    "import random\n",
    "from pathlib import Path\n",
    "# import plotly.express as px\n",
    "from torch.utils.data import DataLoader\n",
    "from typing import Union, List, Optional, Callable, Tuple, Dict, Literal, Set\n",
    "from jaxtyping import Float, Int\n",
    "from functools import partial\n",
    "import copy\n",
    "\n",
    "import itertools\n",
    "from transformers import AutoModelForCausalLM, AutoConfig, AutoTokenizer\n",
    "import dataclasses\n",
    "import datasets\n",
    "from IPython.display import HTML\n",
    "\n",
    "import transformer_lens\n",
    "import transformer_lens.utils as utils\n",
    "from transformer_lens.utils import to_numpy\n",
    "from transformer_lens.hook_points import (\n",
    "    HookedRootModule,\n",
    "    HookPoint,\n",
    ")  # Hooking utilities\n",
    "from transformer_lens import HookedTransformer, HookedTransformerConfig, FactoredMatrix, ActivationCache, patching\n",
    "\n",
    "import plotly.express as px\n",
    "import circuitsvis as cv\n",
    "import os, sys"
   ]
  },
  {
   "cell_type": "code",
   "execution_count": 2,
   "metadata": {},
   "outputs": [],
   "source": [
    "#%pip install git+https://github.com/neelnanda-io/neel-plotly.git\n",
    "from neel_plotly import imshow, line, scatter, histogram\n",
    "import tqdm\n",
    "torch.set_grad_enabled(False)\n",
    "device = \"cuda\" if torch.cuda.is_available() else \"cpu\""
   ]
  },
  {
   "cell_type": "code",
   "execution_count": 3,
   "metadata": {},
   "outputs": [
    {
     "data": {
      "text/plain": [
       "'cuda'"
      ]
     },
     "execution_count": 3,
     "metadata": {},
     "output_type": "execute_result"
    }
   ],
   "source": [
    "device"
   ]
  },
  {
   "cell_type": "code",
   "execution_count": 4,
   "metadata": {},
   "outputs": [],
   "source": [
    "if not os.path.exists(\"path_patching.py\"):\n",
    "        !wget https://github.com/callummcdougall/path_patching/archive/refs/heads/main.zip\n",
    "        !unzip main.zip 'path_patching-main/ioi_dataset.py'\n",
    "        !unzip main.zip 'path_patching-main/path_patching.py'\n",
    "        sys.path.append(\"/path_patching-main\")\n",
    "        os.remove(\"main.zip\")\n",
    "        os.rename(\"/path_patching-main/ioi_dataset.py\", \"ioi_dataset.py\")\n",
    "        os.rename(\"/path_patching-main/path_patching.py\", \"path_patching.py\")\n",
    "        os.rmdir(\"/path_patching-main\")\n",
    "\n",
    "from path_patching import Node, IterNode, path_patch, act_patch"
   ]
  },
  {
   "cell_type": "code",
   "execution_count": 5,
   "metadata": {},
   "outputs": [],
   "source": [
    "update_layout_set = {\n",
    "    \"xaxis_range\", \"yaxis_range\", \"hovermode\", \"xaxis_title\", \"yaxis_title\", \"colorbar\", \"colorscale\", \"coloraxis\", \"title_x\", \"bargap\", \"bargroupgap\", \"xaxis_tickformat\",\n",
    "    \"yaxis_tickformat\", \"title_y\", \"legend_title_text\", \"xaxis_showgrid\", \"xaxis_gridwidth\", \"xaxis_gridcolor\", \"yaxis_showgrid\", \"yaxis_gridwidth\", \"yaxis_gridcolor\",\n",
    "    \"showlegend\", \"xaxis_tickmode\", \"yaxis_tickmode\", \"xaxis_tickangle\", \"yaxis_tickangle\", \"margin\", \"xaxis_visible\", \"yaxis_visible\", \"bargap\", \"bargroupgap\"\n",
    "}\n",
    "\n",
    "def imshow(tensor, return_fig = False, renderer=None, **kwargs):\n",
    "    kwargs_post = {k: v for k, v in kwargs.items() if k in update_layout_set}\n",
    "    kwargs_pre = {k: v for k, v in kwargs.items() if k not in update_layout_set}\n",
    "    facet_labels = kwargs_pre.pop(\"facet_labels\", None)\n",
    "    border = kwargs_pre.pop(\"border\", False)\n",
    "    if \"color_continuous_scale\" not in kwargs_pre:\n",
    "        kwargs_pre[\"color_continuous_scale\"] = \"RdBu\"\n",
    "    if \"margin\" in kwargs_post and isinstance(kwargs_post[\"margin\"], int):\n",
    "        kwargs_post[\"margin\"] = dict.fromkeys(list(\"tblr\"), kwargs_post[\"margin\"])\n",
    "    fig = px.imshow(utils.to_numpy(tensor), color_continuous_midpoint=0.0, **kwargs_pre)\n",
    "    if facet_labels:\n",
    "        for i, label in enumerate(facet_labels):\n",
    "            fig.layout.annotations[i]['text'] = label\n",
    "    if border:\n",
    "        fig.update_xaxes(showline=True, linewidth=1, linecolor='black', mirror=True)\n",
    "        fig.update_yaxes(showline=True, linewidth=1, linecolor='black', mirror=True)\n",
    "    # things like `xaxis_tickmode` should be applied to all subplots. This is super janky lol but I'm under time pressure\n",
    "    for setting in [\"tickangle\"]:\n",
    "      if f\"xaxis_{setting}\" in kwargs_post:\n",
    "          i = 2\n",
    "          while f\"xaxis{i}\" in fig[\"layout\"]:\n",
    "            kwargs_post[f\"xaxis{i}_{setting}\"] = kwargs_post[f\"xaxis_{setting}\"]\n",
    "            i += 1\n",
    "    fig.update_layout(**kwargs_post)\n",
    "    fig.show(renderer=renderer)\n",
    "    if return_fig:\n",
    "      return fig\n",
    "\n",
    "def hist(tensor, renderer=None, **kwargs):\n",
    "    kwargs_post = {k: v for k, v in kwargs.items() if k in update_layout_set}\n",
    "    kwargs_pre = {k: v for k, v in kwargs.items() if k not in update_layout_set}\n",
    "    names = kwargs_pre.pop(\"names\", None)\n",
    "    if \"barmode\" not in kwargs_post:\n",
    "        kwargs_post[\"barmode\"] = \"overlay\"\n",
    "    if \"bargap\" not in kwargs_post:\n",
    "        kwargs_post[\"bargap\"] = 0.0\n",
    "    if \"margin\" in kwargs_post and isinstance(kwargs_post[\"margin\"], int):\n",
    "        kwargs_post[\"margin\"] = dict.fromkeys(list(\"tblr\"), kwargs_post[\"margin\"])\n",
    "    fig = px.histogram(x=tensor, **kwargs_pre).update_layout(**kwargs_post)\n",
    "    if names is not None:\n",
    "        for i in range(len(fig.data)):\n",
    "            fig.data[i][\"name\"] = names[i // 2]\n",
    "    fig.show(renderer)"
   ]
  },
  {
   "cell_type": "code",
   "execution_count": 6,
   "metadata": {},
   "outputs": [],
   "source": [
    "from plotly import graph_objects as go\n",
    "from plotly.subplots import make_subplots"
   ]
  },
  {
   "cell_type": "markdown",
   "metadata": {},
   "source": [
    "# Model + Dataset Setup"
   ]
  },
  {
   "cell_type": "code",
   "execution_count": 60,
   "metadata": {},
   "outputs": [
    {
     "data": {
      "application/vnd.jupyter.widget-view+json": {
       "model_id": "d2f5405640004dafb98938e60370f09f",
       "version_major": 2,
       "version_minor": 0
      },
      "text/plain": [
       "Downloading (…)lve/main/config.json:   0%|          | 0.00/1.35k [00:00<?, ?B/s]"
      ]
     },
     "metadata": {},
     "output_type": "display_data"
    },
    {
     "data": {
      "application/vnd.jupyter.widget-view+json": {
       "model_id": "c834f53995f64ca0ba209c311207ddb6",
       "version_major": 2,
       "version_minor": 0
      },
      "text/plain": [
       "Downloading model.safetensors:   0%|          | 0.00/5.31G [00:00<?, ?B/s]"
      ]
     },
     "metadata": {},
     "output_type": "display_data"
    },
    {
     "data": {
      "application/vnd.jupyter.widget-view+json": {
       "model_id": "550970573cfd4beba9604d52e6276a3a",
       "version_major": 2,
       "version_minor": 0
      },
      "text/plain": [
       "Downloading (…)okenizer_config.json:   0%|          | 0.00/200 [00:00<?, ?B/s]"
      ]
     },
     "metadata": {},
     "output_type": "display_data"
    },
    {
     "data": {
      "application/vnd.jupyter.widget-view+json": {
       "model_id": "6f3c344736c24c37b29efc265c9d428d",
       "version_major": 2,
       "version_minor": 0
      },
      "text/plain": [
       "Downloading (…)olve/main/vocab.json:   0%|          | 0.00/798k [00:00<?, ?B/s]"
      ]
     },
     "metadata": {},
     "output_type": "display_data"
    },
    {
     "data": {
      "application/vnd.jupyter.widget-view+json": {
       "model_id": "2bd59aa9090349e7800c71e61f13f593",
       "version_major": 2,
       "version_minor": 0
      },
      "text/plain": [
       "Downloading (…)olve/main/merges.txt:   0%|          | 0.00/456k [00:00<?, ?B/s]"
      ]
     },
     "metadata": {},
     "output_type": "display_data"
    },
    {
     "data": {
      "application/vnd.jupyter.widget-view+json": {
       "model_id": "6311ca4b4eaa48dbb73b8357ee58895c",
       "version_major": 2,
       "version_minor": 0
      },
      "text/plain": [
       "Downloading (…)cial_tokens_map.json:   0%|          | 0.00/90.0 [00:00<?, ?B/s]"
      ]
     },
     "metadata": {},
     "output_type": "display_data"
    },
    {
     "name": "stderr",
     "output_type": "stream",
     "text": [
      "Using pad_token, but it is not set yet.\n"
     ]
    },
    {
     "name": "stdout",
     "output_type": "stream",
     "text": [
      "Loaded pretrained model gpt-neo-1.3B into HookedTransformer\n"
     ]
    }
   ],
   "source": [
    "model = HookedTransformer.from_pretrained(\n",
    "    \"gpt-neo-1.3B\",\n",
    "    center_unembed=True,\n",
    "    center_writing_weights=True,\n",
    "    fold_ln=True,\n",
    "    device = device\n",
    ")"
   ]
  },
  {
   "cell_type": "code",
   "execution_count": 61,
   "metadata": {},
   "outputs": [],
   "source": [
    "clean_format = [\n",
    "    \"When John and Mary went to the shops,{} gave the bag to\",\n",
    "    \"When Tom and James went to the park,{} gave the ball to\",\n",
    "    \"When Dan and Sid went to the shops,{} gave an apple to\",\n",
    "    \"After Martin and Amy went to the park,{} gave a drink to\",\n",
    "    \"After Cody and Jay went to the park,{} gave a drink to\",\n",
    "    \"After Jack and Jill ran up the hill,{} gave some water to\",\n",
    "    \"When Mark and Martin went to the store,{} gave an apple to\",\n",
    "    \"When Sarah and Emily went to the library,{} gave a book to\",\n",
    "    \"When Cole and George went to the store,{} gave a book to\",\n",
    "    \"When Kai and Bryce went to the park,{} gave an apple to\",\n",
    "]\n",
    "name_pairs = [\n",
    "    (\" Mary\", \" John\"),\n",
    "    (\" Tom\", \" James\"),\n",
    "    (\" Dan\", \" Sid\"),\n",
    "    (\" Martin\", \" Amy\"),\n",
    "    (\" Cody\", \" Jay\"),\n",
    "    (\" Jack\", \" Jill\"),\n",
    "    (\" Mark\", \" Martin\"),\n",
    "    (\" Sarah\", \" Emily\"),\n",
    "    (\" Cole\", \" George\"),\n",
    "    (\" Kai\", \" Bryce\"),\n",
    "]\n",
    "\n",
    "# Define 8 prompts\n",
    "clean_prompts = [\n",
    "    prompt.format(name)\n",
    "    for (prompt, names) in zip(clean_format, name_pairs) for name in names[::-1]\n",
    "]\n",
    "\n",
    "clean_prompts = [clean_prompts[i] for i in [0, 3, 5, 7, 9, 11, 13, 15, 17, 19]]\n",
    "\n",
    "\n",
    "# Define the answers for each prompt, in the form (correct, incorrect)\n",
    "clean_answers = [names[::i] for names in name_pairs for i in (1, -1)]\n",
    "clean_answers = [clean_answers[i] for i in [0, 3, 5, 7, 9, 11, 13, 15, 17, 19]]\n",
    "\n",
    "\n",
    "# Define the answer tokens (same shape as the answers)\n",
    "clean_answer_tokens = torch.concat([\n",
    "    model.to_tokens(names, prepend_bos=False).T for names in clean_answers\n",
    "])\n",
    "\n",
    "# generate 'corrupted ABC prompts'\n",
    "abc_format = [\n",
    "    \"When Sarah and James went to the shops,{} gave the bag to\",\n",
    "    \"When John and Sid went to the park,{} gave the ball to\",\n",
    "    \"When Tom and Amy went to the shops,{} gave an apple to\",\n",
    "    \"After Dan and Jay went to the park,{} gave a drink to\",\n",
    "    \"After Martin and Jill went to the park,{} gave a drink to\",\n",
    "    \"After Cody and Martin ran up the hill,{} gave some water to\",\n",
    "    \"When Jack and Emily went to the store,{} gave an apple to\",\n",
    "    \"When Mark and Mary went to the library,{} gave a book to\",\n",
    "    \"When Kai and Bryce went to the store,{} gave a book to\",\n",
    "    \"When Cole and George went to the park,{} gave an apple to\",\n",
    "\n",
    "]\n",
    "\n",
    "abc_name_pairs = [\n",
    "    (\" Cody\", \" Jay\"),\n",
    "    (\" Jack\", \" Jill\"),\n",
    "    (\" Mark\", \" Martin\"),\n",
    "    (\" Sarah\", \" Emily\"),\n",
    "    (\" Mary\", \" John\"),\n",
    "    (\" Tom\", \" James\"),\n",
    "    (\" Dan\", \" Sid\"),\n",
    "    (\" Martin\", \" Amy\"),\n",
    "    (\" Grant\", \" Mark\"),\n",
    "    (\" Chase\", \" Miles\")\n",
    "]\n",
    "\n",
    "\n",
    "abc_prompts = [\n",
    "    prompt.format(name)\n",
    "    for (prompt, names) in zip(abc_format, abc_name_pairs) for name in names[::-1]\n",
    "]\n",
    "abc_prompts = [abc_prompts[i] for i in [0, 3, 5, 7, 9, 11, 13, 15, 17, 19]]\n",
    "\n",
    "\n",
    "abc_answers = [names[::i] for names in name_pairs for i in (1, -1)]\n",
    "abc_answers = [abc_answers[i] for i in [0, 3, 5, 7, 9, 11, 13, 15, 17, 19]]\n",
    "\n",
    "abc_answer_tokens = torch.concat([\n",
    "    model.to_tokens(names, prepend_bos=False).T for names in abc_answers\n",
    "])"
   ]
  },
  {
   "cell_type": "code",
   "execution_count": 62,
   "metadata": {},
   "outputs": [
    {
     "name": "stdout",
     "output_type": "stream",
     "text": [
      "torch.Size([10, 15])\n",
      "torch.Size([10, 15])\n"
     ]
    }
   ],
   "source": [
    "clean_tokens: Float[Tensor, \"batch seq\"] = model.to_tokens(clean_prompts)\n",
    "corrupted_tokens: Float[Tensor, \"batch seq\"] = model.to_tokens(abc_prompts)\n",
    "\n",
    "print(clean_tokens.shape)\n",
    "print(corrupted_tokens.shape)\n",
    "clean_logits, clean_cache = model.run_with_cache(clean_tokens, prepend_bos = False)\n",
    "corrupted_logits, corrupted_cache = model.run_with_cache(corrupted_tokens, prepend_bos = False)\n",
    "\n",
    "clean_answer_tokens, corrupted_answer_tokens = clean_answer_tokens[:, 0], clean_answer_tokens[:, 1]\n",
    "\n",
    "answer_tokens: Float[Tensor, \"batch 2\"] = torch.stack((clean_answer_tokens, corrupted_answer_tokens))\n",
    "answer_tokens = einops.rearrange(answer_tokens, \"answer batch -> batch answer\")"
   ]
  },
  {
   "cell_type": "code",
   "execution_count": 63,
   "metadata": {},
   "outputs": [],
   "source": [
    "batch_size, seq_len = clean_tokens.shape[0], clean_tokens.shape[1]"
   ]
  },
  {
   "cell_type": "code",
   "execution_count": 64,
   "metadata": {},
   "outputs": [],
   "source": [
    "model.reset_hooks()\n",
    "clean_logits, clean_cache = model.run_with_cache(clean_tokens, prepend_bos = False)\n",
    "corrupted_logits, corrupted_cache = model.run_with_cache(corrupted_tokens, prepend_bos = False)"
   ]
  },
  {
   "cell_type": "code",
   "execution_count": 65,
   "metadata": {},
   "outputs": [],
   "source": [
    "def logits_to_ave_logit_diff(\n",
    "    logits: Float[Tensor, \"batch seq d_vocab\"],\n",
    "    answer_tokens: Float[Tensor, \"batch 2\"] = answer_tokens,\n",
    "    per_prompt: bool = False\n",
    "):\n",
    "    '''\n",
    "    Returns logit difference between the correct and incorrect answer.\n",
    "\n",
    "    If per_prompt=True, return the array of differences rather than the average.\n",
    "    '''\n",
    "    # Only the final logits are relevant for the answer\n",
    "    final_logits: Float[Tensor, \"batch d_vocab\"] = logits[:, -1, :]\n",
    "    # Get the logits corresponding to the indirect object / subject tokens respectively\n",
    "    answer_logits: Float[Tensor, \"batch 2\"] = final_logits.gather(dim=-1, index=answer_tokens)\n",
    "    # Find logit difference\n",
    "    correct_logits, incorrect_logits = answer_logits.unbind(dim=-1)\n",
    "    answer_logit_diff = correct_logits - incorrect_logits\n",
    "    return answer_logit_diff if per_prompt else answer_logit_diff.mean().item()"
   ]
  },
  {
   "cell_type": "code",
   "execution_count": 66,
   "metadata": {},
   "outputs": [
    {
     "name": "stdout",
     "output_type": "stream",
     "text": [
      "4.891021728515625\n",
      "-0.4926516115665436\n",
      "5.383673340082169\n"
     ]
    }
   ],
   "source": [
    "clean_per_prompt_diff = logits_to_ave_logit_diff(clean_logits, per_prompt = True)\n",
    "corrupted_per_prompt_diff = logits_to_ave_logit_diff(corrupted_logits, per_prompt = True)\n",
    "\n",
    "#print(logits_to_ave_logit_diff(clean_logits))\n",
    "\n",
    "clean_average_logit_diff = logits_to_ave_logit_diff(clean_logits)\n",
    "corrupted_average_logit_diff = logits_to_ave_logit_diff(corrupted_logits)\n",
    "print(clean_average_logit_diff)\n",
    "print(corrupted_average_logit_diff)\n",
    "print(clean_average_logit_diff-corrupted_average_logit_diff)"
   ]
  },
  {
   "cell_type": "code",
   "execution_count": 67,
   "metadata": {},
   "outputs": [
    {
     "name": "stdout",
     "output_type": "stream",
     "text": [
      "IOI metric (IOI dataset): 0.0000\n",
      "IOI metric (ABC dataset): -1.0000\n"
     ]
    }
   ],
   "source": [
    "def noising_ioi_metric(\n",
    "    logits: Float[Tensor, \"batch seq d_vocab\"],\n",
    "    clean_logit_diff: float = clean_average_logit_diff,\n",
    "    corrupted_logit_diff: float = corrupted_average_logit_diff,\n",
    ") -> float:\n",
    "    '''\n",
    "    Given logits, returns how much the performance has been corrupted due to noising.\n",
    "\n",
    "    We calibrate this so that the value is 0 when performance isn't harmed (i.e. same as IOI dataset),\n",
    "    and -1 when performance has been destroyed (i.e. is same as ABC dataset).\n",
    "    '''\n",
    "    #print(logits[-1, -1])\n",
    "    patched_logit_diff = logits_to_ave_logit_diff(logits)\n",
    "    return ((patched_logit_diff - clean_logit_diff) / (clean_logit_diff - corrupted_logit_diff))\n",
    "\n",
    "print(f\"IOI metric (IOI dataset): {noising_ioi_metric(clean_logits):.4f}\")\n",
    "print(f\"IOI metric (ABC dataset): {noising_ioi_metric(corrupted_logits):.4f}\")"
   ]
  },
  {
   "cell_type": "code",
   "execution_count": 68,
   "metadata": {},
   "outputs": [
    {
     "name": "stdout",
     "output_type": "stream",
     "text": [
      "IOI metric (IOI dataset): 1.0000\n",
      "IOI metric (ABC dataset): 0.0000\n"
     ]
    }
   ],
   "source": [
    "def denoising_ioi_metric(\n",
    "    logits: Float[Tensor, \"batch seq d_vocab\"],\n",
    "    clean_logit_diff: float = clean_average_logit_diff,\n",
    "    corrupted_logit_diff: float = corrupted_average_logit_diff,\n",
    ") -> float:\n",
    "    '''\n",
    "    We calibrate this so that the value is 1 when performance got restored (i.e. same as IOI dataset),\n",
    "    and 0 when performance has been destroyed (i.e. is same as ABC dataset).\n",
    "    '''\n",
    "    patched_logit_diff = logits_to_ave_logit_diff(logits)\n",
    "    return ((patched_logit_diff - clean_logit_diff) / (clean_logit_diff - corrupted_logit_diff) + 1)\n",
    "\n",
    "\n",
    "print(f\"IOI metric (IOI dataset): {denoising_ioi_metric(clean_logits):.4f}\")\n",
    "print(f\"IOI metric (ABC dataset): {denoising_ioi_metric(corrupted_logits):.4f}\")"
   ]
  },
  {
   "cell_type": "code",
   "execution_count": 69,
   "metadata": {},
   "outputs": [],
   "source": [
    "answer_residual_directions: Float[Tensor, \"batch 2 d_model\"] = model.tokens_to_residual_directions(answer_tokens)\n",
    "correct_residual_direction, incorrect_residual_direction = answer_residual_directions.unbind(dim=1)\n",
    "logit_diff_directions: Float[Tensor, \"batch d_model\"] = correct_residual_direction - incorrect_residual_direction"
   ]
  },
  {
   "cell_type": "code",
   "execution_count": 70,
   "metadata": {},
   "outputs": [],
   "source": [
    "def residual_stack_to_logit_diff(\n",
    "    residual_stack: Float[Tensor, \"... batch d_model\"],\n",
    "    cache: ActivationCache,\n",
    "    logit_diff_directions: Float[Tensor, \"batch d_model\"] = logit_diff_directions,\n",
    ") -> Float[Tensor, \"...\"]:\n",
    "    '''\n",
    "    Gets the avg logit difference between the correct and incorrect answer for a given\n",
    "    stack of components in the residual stream.\n",
    "    '''\n",
    "    batch_size = residual_stack.size(-2)\n",
    "    scaled_residual_stack = residual_stack #cache.apply_ln_to_stack(residual_stack, layer=-1, pos_slice=-1)\n",
    "    return einops.einsum(\n",
    "        scaled_residual_stack, logit_diff_directions,\n",
    "        \"... batch d_model, batch d_model -> ...\"\n",
    "    ) / batch_size"
   ]
  },
  {
   "cell_type": "markdown",
   "metadata": {},
   "source": [
    "# Helper Functions"
   ]
  },
  {
   "cell_type": "markdown",
   "metadata": {},
   "source": []
  },
  {
   "cell_type": "code",
   "execution_count": 71,
   "metadata": {},
   "outputs": [
    {
     "name": "stdout",
     "output_type": "stream",
     "text": [
      "Tried to stack head results when they weren't cached. Computing head results now\n"
     ]
    }
   ],
   "source": [
    "def calc_all_logit_diffs(cache):\n",
    "  clean_per_head_residual, labels = cache.stack_head_results(layer = -1, return_labels = True, apply_ln = True) # per_head_residual.shape = heads batch seq_pos d_model\n",
    "  # also, for the worried, no, we're not missing the application of LN here since it gets applied in the below function call\n",
    "  per_head_logit_diff: Float[Tensor, \"batch head\"] = residual_stack_to_logit_diff(clean_per_head_residual[:, :, -1, :], cache)\n",
    "\n",
    "  per_head_logit_diff = einops.rearrange(\n",
    "      per_head_logit_diff,\n",
    "      \"(layer head) ... -> layer head ...\",\n",
    "      layer=model.cfg.n_layers\n",
    "  )\n",
    "\n",
    "  correct_direction_per_head_logit: Float[Tensor, \"batch head\"] = residual_stack_to_logit_diff(clean_per_head_residual[:, :, -1, :], cache, logit_diff_directions = correct_residual_direction)\n",
    "\n",
    "  correct_direction_per_head_logit = einops.rearrange(\n",
    "      correct_direction_per_head_logit,\n",
    "      \"(layer head) ... -> layer head ...\",\n",
    "      layer=model.cfg.n_layers\n",
    "  )\n",
    "\n",
    "  incorrect_direction_per_head_logit: Float[Tensor, \"batch head\"] = residual_stack_to_logit_diff(clean_per_head_residual[:, :, -1, :], cache, logit_diff_directions = incorrect_residual_direction)\n",
    "\n",
    "  incorrect_direction_per_head_logit = einops.rearrange(\n",
    "      incorrect_direction_per_head_logit,\n",
    "      \"(layer head) ... -> layer head ...\",\n",
    "      layer=model.cfg.n_layers\n",
    "  )\n",
    "\n",
    "  return per_head_logit_diff, correct_direction_per_head_logit, incorrect_direction_per_head_logit\n",
    "\n",
    "per_head_logit_diff, correct_direction_per_head_logit, incorrect_direction_per_head_logit = calc_all_logit_diffs(clean_cache)"
   ]
  },
  {
   "cell_type": "code",
   "execution_count": 95,
   "metadata": {},
   "outputs": [],
   "source": [
    "def topk_of_Nd_tensor(tensor: Float[Tensor, \"rows cols\"], k: int):\n",
    "    '''\n",
    "    Helper function: does same as tensor.topk(k).indices, but works over 2D tensors.\n",
    "    Returns a list of indices, i.e. shape [k, tensor.ndim].\n",
    "\n",
    "    Example: if tensor is 2D array of values for each head in each layer, this will\n",
    "    return a list of heads.\n",
    "    '''\n",
    "    i = torch.topk(tensor.flatten(), k).indices\n",
    "    return np.array(np.unravel_index(utils.to_numpy(i), tensor.shape)).T.tolist()\n"
   ]
  },
  {
   "cell_type": "code",
   "execution_count": 92,
   "metadata": {},
   "outputs": [
    {
     "name": "stdout",
     "output_type": "stream",
     "text": [
      "[(14, 13), (20, 6), (22, 2), (23, 8), (18, 6)]\n"
     ]
    }
   ],
   "source": [
    "top_heads = []\n",
    "k = 5\n",
    "\n",
    "flattened_tensor = per_head_logit_diff.flatten().cpu()\n",
    "_, topk_indices = torch.topk(flattened_tensor, k)\n",
    "top_layer_arr, top_index_arr = np.unravel_index(topk_indices.numpy(), per_head_logit_diff.shape)\n",
    "\n",
    "for l, i in zip(top_layer_arr, top_index_arr):\n",
    "  top_heads.append((l,i))\n",
    "\n",
    "print(top_heads)"
   ]
  },
  {
   "cell_type": "code",
   "execution_count": 96,
   "metadata": {},
   "outputs": [
    {
     "name": "stdout",
     "output_type": "stream",
     "text": [
      "[(0, 0), (0, 2), (0, 3), (0, 4), (0, 6), (0, 8), (0, 9), (0, 11), (0, 15), (1, 1), (1, 8), (1, 10), (1, 11), (1, 14), (2, 2), (2, 6), (2, 11), (2, 14), (2, 15), (3, 5), (3, 8), (3, 11), (3, 14), (4, 4), (4, 10), (4, 11), (5, 0), (5, 1), (5, 2), (5, 3), (5, 4), (5, 6), (5, 8), (5, 9), (5, 10), (5, 15), (6, 1), (6, 3), (6, 6), (6, 7), (6, 10), (6, 12), (6, 14), (7, 0), (7, 1), (7, 2), (7, 3), (7, 4), (7, 7), (7, 9), (7, 11), (7, 13), (7, 14), (8, 0), (8, 2), (8, 3), (8, 4), (8, 5), (8, 7), (8, 9), (8, 11), (8, 13), (8, 14), (8, 15), (9, 0), (9, 3), (9, 5), (9, 7), (9, 8), (9, 9), (9, 10), (9, 12), (9, 15), (10, 0), (10, 2), (10, 3), (10, 4), (10, 8), (10, 10), (10, 11), (10, 15), (11, 1), (11, 3), (11, 4), (11, 6), (11, 8), (11, 13), (11, 14), (12, 0), (12, 1), (12, 4), (12, 5), (12, 7), (12, 11), (12, 12), (12, 14), (13, 0), (13, 4), (13, 6), (13, 7), (13, 10), (14, 1), (14, 2), (14, 3), (14, 4), (14, 8), (15, 2), (15, 3), (15, 6), (15, 9), (15, 13), (15, 15), (16, 3), (16, 9), (16, 11), (16, 14), (17, 5), (17, 6), (17, 7), (17, 8), (17, 10), (17, 11), (17, 12), (17, 13), (18, 1), (18, 2), (18, 12), (19, 2), (19, 3), (19, 4), (19, 5), (19, 6), (19, 8), (19, 10), (19, 13), (19, 15), (20, 2), (20, 3), (20, 4), (20, 5), (20, 7), (20, 10), (20, 12), (20, 14), (21, 1), (21, 2), (21, 3), (21, 4), (21, 5), (21, 7), (21, 8), (21, 11), (21, 12), (21, 13), (22, 9), (22, 11), (22, 12), (22, 13), (22, 14), (23, 4), (23, 10), (23, 13), (23, 14), (23, 15)]\n"
     ]
    }
   ],
   "source": [
    "neg_heads = []\n",
    "neg_indices = torch.nonzero(torch.lt(per_head_logit_diff, -0.1))\n",
    "neg_heads_list = neg_indices.squeeze().tolist()\n",
    "for i in neg_heads_list:\n",
    "  neg_heads.append((i[0], i[1]))\n",
    "\n",
    "print(neg_heads)\n",
    "\n",
    "top_neg_heads = topk_of_Nd_tensor(-1 * per_head_logit_diff, 5)"
   ]
  },
  {
   "cell_type": "code",
   "execution_count": 97,
   "metadata": {},
   "outputs": [
    {
     "data": {
      "text/plain": [
       "[[15, 6], [20, 7], [17, 8], [22, 12], [19, 10]]"
      ]
     },
     "execution_count": 97,
     "metadata": {},
     "output_type": "execute_result"
    }
   ],
   "source": [
    "top_neg_heads"
   ]
  },
  {
   "cell_type": "code",
   "execution_count": 74,
   "metadata": {},
   "outputs": [],
   "source": [
    "def calc_all_logit_diffs(cache):\n",
    "  clean_per_head_residual, labels = cache.stack_head_results(layer = -1, return_labels = True) # per_head_residual.shape = heads batch seq_pos d_model\n",
    "  # also, for the worried, no, we're not missing the application of LN here since it gets applied in the below function call\n",
    "  per_head_logit_diff: Float[Tensor, \"batch head\"] = residual_stack_to_logit_diff(clean_per_head_residual[:, :, -1, :], cache)\n",
    "\n",
    "  per_head_logit_diff = einops.rearrange(\n",
    "      per_head_logit_diff,\n",
    "      \"(layer head) ... -> layer head ...\",\n",
    "      layer=model.cfg.n_layers\n",
    "  )\n",
    "\n",
    "  correct_direction_per_head_logit: Float[Tensor, \"batch head\"] = residual_stack_to_logit_diff(clean_per_head_residual[:, :, -1, :], cache, logit_diff_directions = correct_residual_direction)\n",
    "\n",
    "  correct_direction_per_head_logit = einops.rearrange(\n",
    "      correct_direction_per_head_logit,\n",
    "      \"(layer head) ... -> layer head ...\",\n",
    "      layer=model.cfg.n_layers\n",
    "  )\n",
    "\n",
    "  incorrect_direction_per_head_logit: Float[Tensor, \"batch head\"] = residual_stack_to_logit_diff(clean_per_head_residual[:, :, -1, :], cache, logit_diff_directions = incorrect_residual_direction)\n",
    "\n",
    "  incorrect_direction_per_head_logit = einops.rearrange(\n",
    "      incorrect_direction_per_head_logit,\n",
    "      \"(layer head) ... -> layer head ...\",\n",
    "      layer=model.cfg.n_layers\n",
    "  )\n",
    "\n",
    "  return per_head_logit_diff, correct_direction_per_head_logit, incorrect_direction_per_head_logit\n",
    "\n",
    "per_head_logit_diff, correct_direction_per_head_logit, incorrect_direction_per_head_logit = calc_all_logit_diffs(clean_cache)"
   ]
  },
  {
   "cell_type": "code",
   "execution_count": 75,
   "metadata": {},
   "outputs": [
    {
     "data": {
      "application/vnd.plotly.v1+json": {
       "config": {
        "plotlyServerURL": "https://plot.ly"
       },
       "data": [
        {
         "coloraxis": "coloraxis",
         "hovertemplate": "Head: %{x}<br>Layer: %{y}<br>Logit Contribution: %{z}<extra></extra>",
         "name": "0",
         "type": "heatmap",
         "xaxis": "x",
         "yaxis": "y",
         "z": [
          [
           -0.1145087406039238,
           0.5667784810066223,
           -0.538989782333374,
           -0.3613179624080658,
           -0.3012672960758209,
           0.7992265820503235,
           -0.5383342504501343,
           0.02761051617562771,
           -1.0101665258407593,
           -0.17828719317913055,
           0.9894011616706848,
           -0.19632075726985931,
           0.37099361419677734,
           -0.014707083813846111,
           0.054913606494665146,
           -0.18442541360855103
          ],
          [
           0.14973321557044983,
           -0.29291942715644836,
           0.12666454911231995,
           -0.010810608975589275,
           0.334591805934906,
           0.7311654686927795,
           0.4493961036205292,
           0.41103336215019226,
           -0.14409124851226807,
           0.5870444178581238,
           -0.17557433247566223,
           -0.7872776389122009,
           0.18162000179290771,
           -0.02943297289311886,
           -0.3703528940677643,
           -0.07704872637987137
          ],
          [
           -0.07366212457418442,
           0.18601761758327484,
           -0.506269633769989,
           0.1262928545475006,
           -0.05247591808438301,
           1.154410481452942,
           -0.25861552357673645,
           0.04893195629119873,
           0.09621759504079819,
           0.031143903732299805,
           0.22895336151123047,
           -0.5257713198661804,
           0.1384357213973999,
           0.11081188172101974,
           -0.28101369738578796,
           -0.10790351778268814
          ],
          [
           0.07573717087507248,
           0.5487416386604309,
           -0.056255679577589035,
           2.330556631088257,
           -0.0022310521453619003,
           -0.16631606221199036,
           -0.0185562651604414,
           0.5419440865516663,
           -0.11502525955438614,
           0.1452016532421112,
           0.41624903678894043,
           -0.18981893360614777,
           0.09456630051136017,
           -0.09466098248958588,
           -0.5180763602256775,
           0.22436372935771942
          ],
          [
           -0.057090070098638535,
           0.23533940315246582,
           -0.09530618786811829,
           0.15737472474575043,
           -0.24540884792804718,
           -0.09321757405996323,
           -0.07281235605478287,
           0.12777206301689148,
           -0.05196850374341011,
           -0.07123428583145142,
           -0.31217679381370544,
           -0.25388869643211365,
           0.006725613959133625,
           -0.08994664996862411,
           0.036326661705970764,
           -0.05067719146609306
          ],
          [
           -0.40576672554016113,
           -0.3070845305919647,
           -0.5572508573532104,
           -0.4444309175014496,
           -0.30862122774124146,
           0.041687753051519394,
           -0.2292933464050293,
           0.1393452286720276,
           -0.20276795327663422,
           -0.5518742799758911,
           -0.2775360941886902,
           -0.013184464536607265,
           0.06247609853744507,
           0.027068812400102615,
           0.16927605867385864,
           -0.3344126045703888
          ],
          [
           0.04880913719534874,
           -0.16439881920814514,
           -0.0681934729218483,
           -0.2557213008403778,
           -0.08330217748880386,
           0.101531021296978,
           -0.7559179663658142,
           -0.18624089658260345,
           0.025498611852526665,
           -0.03672882542014122,
           -0.1275682896375656,
           0.02859230898320675,
           -0.7503969669342041,
           0.12632639706134796,
           -0.5788623094558716,
           0.10090414434671402
          ],
          [
           -0.3782869279384613,
           -0.1792626827955246,
           -0.6394239664077759,
           -0.40633782744407654,
           -0.1533900946378708,
           0.006268322467803955,
           0.4716551899909973,
           -0.7782639861106873,
           -0.09702412784099579,
           -0.24679994583129883,
           -0.029509400948882103,
           -0.5248643159866333,
           0.164153054356575,
           -0.620387613773346,
           -1.7362308502197266,
           0.18860463798046112
          ],
          [
           -0.47420820593833923,
           0.012105043046176434,
           -0.576408863067627,
           -0.34974631667137146,
           -0.11544833332300186,
           -0.6928631663322449,
           2.1388659477233887,
           -0.43802952766418457,
           0.004624366760253906,
           -0.27775296568870544,
           0.12583188712596893,
           -0.11166899651288986,
           0.24848158657550812,
           -0.11113523691892624,
           -1.101693034172058,
           -0.13757558166980743
          ],
          [
           -0.5021489262580872,
           0.3677479922771454,
           -0.007614036090672016,
           -0.2630394399166107,
           0.2232891172170639,
           -0.20781074464321136,
           0.08134391158819199,
           -0.26647233963012695,
           -0.10250415652990341,
           -0.3212863504886627,
           -0.11288990080356598,
           0.34474560618400574,
           -0.2967948019504547,
           -0.07578389346599579,
           0.09925004094839096,
           -0.12495993822813034
          ],
          [
           -0.1205567866563797,
           0.004202269483357668,
           -0.21352873742580414,
           -0.20129303634166718,
           -0.5622881054878235,
           0.44034385681152344,
           0.016795843839645386,
           0.09131181985139847,
           -0.1585071086883545,
           0.013425663113594055,
           -0.1545582264661789,
           -0.16597522795200348,
           0.32154855132102966,
           -0.035454727709293365,
           0.06336509436368942,
           -0.29881030321121216
          ],
          [
           0.09034913033246994,
           -0.26305755972862244,
           3.21641206741333,
           -0.18215790390968323,
           -0.4145495891571045,
           0.005675405263900757,
           -0.3597959876060486,
           0.014237791299819946,
           -0.45974770188331604,
           0.37582823634147644,
           0.5601311326026917,
           0.08415108174085617,
           0.09815018624067307,
           -0.6143572926521301,
           -0.20255494117736816,
           0.005748712923377752
          ],
          [
           -0.25497838854789734,
           -0.1031983271241188,
           -0.0592007152736187,
           0.0457862913608551,
           -0.10998902469873428,
           -0.1699579805135727,
           -0.011027602478861809,
           -0.30485978722572327,
           0.6288257837295532,
           0.4405934810638428,
           0.8493348956108093,
           -0.1220192238688469,
           -0.10780048370361328,
           0.12637852132320404,
           -0.37431541085243225,
           0.22027547657489777
          ],
          [
           -0.30983757972717285,
           0.24387326836585999,
           -0.08508766442537308,
           0.11780045181512833,
           -0.2875899076461792,
           0.30431947112083435,
           -0.25583675503730774,
           -0.9410726428031921,
           -0.04603983834385872,
           3.5677058696746826,
           -0.6679455637931824,
           0.14574788510799408,
           0.2756321430206299,
           0.0850428119301796,
           0.087651327252388,
           0.3058638572692871
          ],
          [
           0.18418823182582855,
           -0.274383008480072,
           -0.32477283477783203,
           -0.2852902114391327,
           -0.18758581578731537,
           0.48275622725486755,
           0.08968222141265869,
           0.06100327894091606,
           -0.21897296607494354,
           2.1646270751953125,
           0.09548117220401764,
           0.7913933992385864,
           -0.03926186263561249,
           11.191378593444824,
           3.3939976692199707,
           0.1909598559141159
          ],
          [
           1.3898028135299683,
           3.8650670051574707,
           -0.2507260739803314,
           -0.2990656793117523,
           0.12018714100122452,
           -0.09066279977560043,
           -4.896877288818359,
           0.05522434785962105,
           0.44057998061180115,
           -0.6730756163597107,
           0.2615707814693451,
           1.982708215713501,
           0.14061254262924194,
           -0.19909565150737762,
           -0.09620657563209534,
           -0.3762330710887909
          ],
          [
           1.4079586267471313,
           0.036791421473026276,
           1.1135847568511963,
           -0.22993551194667816,
           -0.032137367874383926,
           0.2365218847990036,
           -0.03647691756486893,
           1.5587658882141113,
           1.1739332675933838,
           -0.2023935765028,
           1.5885142087936401,
           -0.8524038195610046,
           0.10095198452472687,
           0.0843886137008667,
           -0.1513427346944809,
           0.007212730590254068
          ],
          [
           -0.028556177392601967,
           -0.03527611121535301,
           0.694709300994873,
           0.5378305912017822,
           1.398389220237732,
           -0.6338498592376709,
           -0.8661110997200012,
           -0.5152799487113953,
           -3.210216999053955,
           -0.04239801689982414,
           -0.20896898210048676,
           -0.6030973792076111,
           -0.45957785844802856,
           -0.11632683128118515,
           -0.06134362146258354,
           0.2691102921962738
          ],
          [
           0.0967864915728569,
           -0.5148586630821228,
           -2.0236661434173584,
           0.5668485760688782,
           2.540973663330078,
           0.28586113452911377,
           5.083163738250732,
           0.2085162252187729,
           0.007667765021324158,
           4.881539821624756,
           -0.004766878671944141,
           -0.0759885236620903,
           -1.0881656408309937,
           0.005406035576015711,
           -0.01960236392915249,
           0.010865903459489346
          ],
          [
           0.031894098967313766,
           0.11311154812574387,
           -0.27990153431892395,
           -0.21810372173786163,
           -0.29208672046661377,
           -0.20317816734313965,
           -0.38383421301841736,
           0.11286582797765732,
           -0.11081891506910324,
           0.05665203556418419,
           -2.112761974334717,
           0.029115675017237663,
           0.7395581603050232,
           -0.4040568470954895,
           0.07971511036157608,
           -0.5659853219985962
          ],
          [
           -0.03955298289656639,
           0.2870200574398041,
           -0.1707318127155304,
           -0.1437189131975174,
           -0.280722439289093,
           -0.3082437217235565,
           6.593421459197998,
           -4.761573314666748,
           -0.04602060467004776,
           2.9161932468414307,
           -0.11185016483068466,
           -0.024286532774567604,
           -0.5824081897735596,
           -0.07378065586090088,
           -0.15054315328598022,
           -0.007017404772341251
          ],
          [
           0.1706857681274414,
           -0.13213472068309784,
           -0.18436865508556366,
           -0.18017052114009857,
           -0.22947919368743896,
           -0.3962230384349823,
           0.6917769312858582,
           -0.31510528922080994,
           -0.5609738826751709,
           0.09707742184400558,
           0.14104251563549042,
           -0.2868179678916931,
           -0.2682032287120819,
           -0.4227806031703949,
           -0.005050953011959791,
           -0.03484722971916199
          ],
          [
           0.016140829771757126,
           4.958836078643799,
           5.682337284088135,
           0.43152332305908203,
           1.0462169647216797,
           0.6085994839668274,
           0.6159809231758118,
           -0.08237843960523605,
           0.010715405456721783,
           -0.1688399314880371,
           0.8441471457481384,
           -0.3636857569217682,
           -2.519771099090576,
           -0.2717326581478119,
           -0.39598962664604187,
           0.03268057107925415
          ],
          [
           0.30513307452201843,
           4.921748638153076,
           -0.06584002077579498,
           0.02123638428747654,
           -0.36348387598991394,
           0.1606309711933136,
           3.099506378173828,
           0.04132910817861557,
           5.21484375,
           0.6560952663421631,
           -0.6450768709182739,
           0.8138085603713989,
           1.538055419921875,
           -1.99423348903656,
           -0.4833165109157562,
           -0.2654980719089508
          ]
         ]
        },
        {
         "coloraxis": "coloraxis",
         "hovertemplate": "Head: %{x}<br>Layer: %{y}<br>Logit Contribution: %{z}<extra></extra>",
         "name": "1",
         "type": "heatmap",
         "xaxis": "x2",
         "yaxis": "y2",
         "z": [
          [
           1.103385090827942,
           -0.7270626425743103,
           0.3884316384792328,
           0.2608758807182312,
           0.9412757158279419,
           -0.6213057041168213,
           -0.29662275314331055,
           -0.19336704909801483,
           0.8504394888877869,
           0.12118013948202133,
           0.8681520819664001,
           -0.3369123637676239,
           -0.3527502715587616,
           0.4001460671424866,
           0.2914264500141144,
           0.41274401545524597
          ],
          [
           -0.009241948835551739,
           -0.2292746603488922,
           -0.3583589196205139,
           0.24658921360969543,
           0.026555268093943596,
           -1.5806845426559448,
           0.736674427986145,
           0.2157103568315506,
           0.04799497127532959,
           0.765530526638031,
           -0.3520596921443939,
           1.2661685943603516,
           -0.3737170696258545,
           0.13365422189235687,
           -0.1953401267528534,
           -0.15592190623283386
          ],
          [
           0.21740829944610596,
           0.1459810584783554,
           -1.0507029294967651,
           -0.2862492799758911,
           -0.30557915568351746,
           -1.490793228149414,
           -0.8629792332649231,
           -0.6084415912628174,
           0.3506741225719452,
           0.20854957401752472,
           -0.48853322863578796,
           -0.25663623213768005,
           -0.10441595315933228,
           -0.9004503488540649,
           -0.3520079553127289,
           0.07573460787534714
          ],
          [
           0.04844912514090538,
           -4.424654006958008,
           0.47150468826293945,
           -7.235101222991943,
           0.10255863517522812,
           -0.27465400099754333,
           -0.03771766647696495,
           -4.064467906951904,
           -0.06778782606124878,
           0.20134912431240082,
           -1.7373600006103516,
           0.4359404742717743,
           -0.6280682682991028,
           -0.24693606793880463,
           -1.5051640272140503,
           0.14771156013011932
          ],
          [
           -0.17992448806762695,
           0.2105320245027542,
           0.3420361876487732,
           0.515676736831665,
           -0.08615516871213913,
           -0.10696262121200562,
           -0.021180644631385803,
           -0.009210911579430103,
           0.072032131254673,
           0.12238039821386337,
           0.359211802482605,
           -0.07102245092391968,
           -0.1099596843123436,
           -0.6777143478393555,
           0.005760772619396448,
           0.9171072244644165
          ],
          [
           -0.3824995160102844,
           -0.037719178944826126,
           0.4836423099040985,
           1.1652212142944336,
           0.2588041126728058,
           0.4765823483467102,
           -0.07280301302671432,
           0.23243241012096405,
           0.1948598474264145,
           -0.2179841548204422,
           0.3236812949180603,
           0.4208814203739166,
           0.6464899182319641,
           0.13702140748500824,
           0.42428478598594666,
           0.33739805221557617
          ],
          [
           0.432455837726593,
           0.300655335187912,
           0.2991211414337158,
           -0.08679933100938797,
           -0.034470152109861374,
           0.5236544013023376,
           -0.15895850956439972,
           0.8152560591697693,
           0.48935604095458984,
           0.004422956611961126,
           -0.0002446711005177349,
           0.8057853579521179,
           0.38362833857536316,
           -0.10643080621957779,
           0.2263038009405136,
           0.0498410239815712
          ],
          [
           -0.03389265760779381,
           0.04939459636807442,
           0.011622822843492031,
           -0.3265725374221802,
           -0.3348115384578705,
           0.029437128454446793,
           0.658397912979126,
           -0.12290585041046143,
           0.03673236444592476,
           -0.07061036676168442,
           -0.1431761085987091,
           0.46220827102661133,
           0.6757346987724304,
           -0.0075838565826416016,
           1.1207834482192993,
           0.20844081044197083
          ],
          [
           0.3134280741214752,
           0.3239211440086365,
           1.2683839797973633,
           0.709014356136322,
           -1.7663921117782593,
           0.24177180230617523,
           -1.5848554372787476,
           0.03125865012407303,
           -1.815704345703125,
           -0.164613276720047,
           -0.6398931741714478,
           0.2973216474056244,
           -0.1399020105600357,
           0.08451025933027267,
           0.4407801330089569,
           -0.2267996370792389
          ],
          [
           0.20640984177589417,
           0.136418879032135,
           0.12124989181756973,
           -0.023990986868739128,
           -0.03308992460370064,
           0.2536650598049164,
           1.1017879247665405,
           0.08045884966850281,
           -0.14969341456890106,
           -0.3730226159095764,
           0.34629496932029724,
           0.03269201144576073,
           -0.196232408285141,
           -0.007930904626846313,
           -0.5046067237854004,
           -0.29360756278038025
          ],
          [
           0.1190197616815567,
           -0.3036920726299286,
           -0.27699682116508484,
           0.02295638434588909,
           0.4451596736907959,
           -0.192389115691185,
           -0.1559455245733261,
           0.41015011072158813,
           0.19595476984977722,
           0.03546508029103279,
           0.25964078307151794,
           0.08759361505508423,
           0.07880549877882004,
           -0.4500708281993866,
           -0.3433055579662323,
           0.5502521395683289
          ],
          [
           -0.24052734673023224,
           -0.769720733165741,
           1.0339487791061401,
           -0.15243718028068542,
           0.15772190690040588,
           0.11754205077886581,
           -0.3649624288082123,
           0.3943665623664856,
           0.05643736198544502,
           -0.5684691667556763,
           0.22369356453418732,
           0.5527081489562988,
           -0.3189990222454071,
           0.5494991540908813,
           -0.03794540464878082,
           0.37928667664527893
          ],
          [
           0.07096908986568451,
           -0.0028037012089043856,
           0.08595242351293564,
           -0.36202678084373474,
           0.26474329829216003,
           0.6124073266983032,
           -0.9526346325874329,
           -0.06949643790721893,
           0.8207892775535583,
           0.11469800770282745,
           0.7408636808395386,
           0.06891393661499023,
           0.07252617925405502,
           0.18076708912849426,
           -0.052530426532030106,
           0.46184268593788147
          ],
          [
           0.042647864669561386,
           -0.46104010939598083,
           -0.8867325186729431,
           -1.003401756286621,
           -0.03497413918375969,
           0.24212034046649933,
           -0.015433973632752895,
           -0.22429592907428741,
           -0.48491916060447693,
           3.1958024501800537,
           -0.3238390386104584,
           0.08134962618350983,
           0.5454795956611633,
           -0.03530021384358406,
           0.011643665842711926,
           0.6454133987426758
          ],
          [
           0.08828303962945938,
           0.2508352994918823,
           0.017661839723587036,
           -0.09608786553144455,
           0.08608275651931763,
           0.7929103970527649,
           0.19109883904457092,
           -0.12800189852714539,
           0.10717401653528214,
           2.388183832168579,
           0.2568448483943939,
           0.07560509443283081,
           0.30028674006462097,
           10.234174728393555,
           3.08418345451355,
           0.9079321026802063
          ],
          [
           1.834885597229004,
           0.3251973092556,
           0.047788675874471664,
           -0.2595520317554474,
           -0.09492283314466476,
           0.5336378216743469,
           -4.944108486175537,
           0.23737092316150665,
           0.6745216846466064,
           0.49288368225097656,
           -0.05343259125947952,
           0.18353044986724854,
           0.6996554136276245,
           0.1252264529466629,
           0.29998311400413513,
           0.9423648118972778
          ],
          [
           1.873576045036316,
           0.23433494567871094,
           1.371970772743225,
           0.5671999454498291,
           0.29361483454704285,
           0.42270395159721375,
           -0.014071139506995678,
           1.7869189977645874,
           4.179774284362793,
           0.6509872078895569,
           1.8047150373458862,
           1.042018175125122,
           0.30037617683410645,
           0.21211805939674377,
           0.19538091123104095,
           0.04624107480049133
          ],
          [
           0.32535725831985474,
           0.12680989503860474,
           1.0177112817764282,
           0.7032332420349121,
           -1.6513842344284058,
           0.24197888374328613,
           2.4571495056152344,
           0.13654184341430664,
           -1.8851028680801392,
           0.2255546599626541,
           0.3365476131439209,
           -0.7040433883666992,
           0.35529473423957825,
           0.5153189301490784,
           0.7063533067703247,
           0.7338215112686157
          ],
          [
           0.0711745023727417,
           -0.530173122882843,
           2.972700357437134,
           6.292451858520508,
           2.4577884674072266,
           0.33492279052734375,
           7.725987434387207,
           0.39417004585266113,
           0.4227641224861145,
           5.369070529937744,
           0.18761678040027618,
           -0.06279336661100388,
           1.262813925743103,
           0.0171351321041584,
           0.25449514389038086,
           0.2551722228527069
          ],
          [
           0.2245178520679474,
           0.9742993712425232,
           0.20648053288459778,
           0.5865335464477539,
           0.8565449118614197,
           1.1182054281234741,
           0.30941811203956604,
           1.2455549240112305,
           0.35813960433006287,
           0.3592675030231476,
           0.5693108439445496,
           0.4603215157985687,
           1.2835440635681152,
           0.9212266206741333,
           0.3475925326347351,
           0.4955015778541565
          ],
          [
           -0.15409636497497559,
           0.45739027857780457,
           0.3347477912902832,
           -0.017845898866653442,
           -0.16415713727474213,
           0.1517937034368515,
           7.216859340667725,
           -3.560333013534546,
           0.21463166177272797,
           3.614508867263794,
           0.2462828904390335,
           0.16118985414505005,
           0.04675835371017456,
           0.1278044730424881,
           0.05012808367609978,
           -0.16473256051540375
          ],
          [
           0.7473368048667908,
           0.45453405380249023,
           0.7080066204071045,
           0.9389958381652832,
           1.0901426076889038,
           0.7693870067596436,
           3.1160218715667725,
           1.7361398935317993,
           1.2671072483062744,
           2.571101665496826,
           1.4963456392288208,
           0.7388325929641724,
           0.9334481358528137,
           1.1126965284347534,
           0.870567262172699,
           0.37551817297935486
          ],
          [
           0.006782555487006903,
           7.420602321624756,
           6.042664051055908,
           1.8881396055221558,
           0.8318018317222595,
           0.6254966259002686,
           0.6123205423355103,
           -0.4610883891582489,
           -0.12593428790569305,
           -0.19293460249900818,
           0.8916605114936829,
           0.1923733651638031,
           3.410693883895874,
           -0.304297536611557,
           0.48076167702674866,
           -0.25968363881111145
          ],
          [
           1.8488937616348267,
           6.450599670410156,
           0.8312980532646179,
           0.5262566804885864,
           1.2802571058273315,
           2.927173137664795,
           7.087426662445068,
           0.35077914595603943,
           53.133094787597656,
           0.9373193979263306,
           -2.368924617767334,
           3.952948808670044,
           4.233724117279053,
           11.85765552520752,
           1.1842120885849,
           0.3751799166202545
          ]
         ]
        },
        {
         "coloraxis": "coloraxis",
         "hovertemplate": "Head: %{x}<br>Layer: %{y}<br>Logit Contribution: %{z}<extra></extra>",
         "name": "2",
         "type": "heatmap",
         "xaxis": "x3",
         "yaxis": "y3",
         "z": [
          [
           1.2178937196731567,
           -1.2938412427902222,
           0.9274215698242188,
           0.6221937537193298,
           1.24254310131073,
           -1.4205322265625,
           0.2417113333940506,
           -0.22097769379615784,
           1.8606046438217163,
           0.2994673252105713,
           -0.12124931812286377,
           -0.1405915468931198,
           -0.7237438559532166,
           0.4148532450199127,
           0.23651280999183655,
           0.5971693396568298
          ],
          [
           -0.15897519886493683,
           0.06364475935697556,
           -0.48502349853515625,
           0.25739970803260803,
           -0.3080365061759949,
           -2.311850070953369,
           0.28727850317955017,
           -0.19532302021980286,
           0.19208621978759766,
           0.17848601937294006,
           -0.17648550868034363,
           2.0534462928771973,
           -0.555337131023407,
           0.16308711469173431,
           0.1750127375125885,
           -0.0788731575012207
          ],
          [
           0.29107052087783813,
           -0.04003655165433884,
           -0.5444335341453552,
           -0.4125421941280365,
           -0.25310319662094116,
           -2.6452035903930664,
           -0.6043636202812195,
           -0.6573736071586609,
           0.2544565498828888,
           0.1774057298898697,
           -0.7174866795539856,
           0.2691349685192108,
           -0.2428516447544098,
           -1.0112619400024414,
           -0.07099425792694092,
           0.18363814055919647
          ],
          [
           -0.027288049459457397,
           -4.973394870758057,
           0.5277605652809143,
           -9.565659523010254,
           0.10478974878787994,
           -0.10833790153265,
           -0.019161347299814224,
           -4.606411933898926,
           0.04723738506436348,
           0.05614745244383812,
           -2.153609037399292,
           0.6257595419883728,
           -0.7226345539093018,
           -0.15227511525154114,
           -0.9870877265930176,
           -0.0766521617770195
          ],
          [
           -0.12283439934253693,
           -0.02480739913880825,
           0.43734246492385864,
           0.3583020865917206,
           0.1592535376548767,
           -0.013745150528848171,
           0.0516316182911396,
           -0.1369830220937729,
           0.12400063127279282,
           0.193614661693573,
           0.671388566493988,
           0.1828661412000656,
           -0.1166854277253151,
           -0.5877677202224731,
           -0.030565911903977394,
           0.9677843451499939
          ],
          [
           0.02326725423336029,
           0.2693653404712677,
           1.0408930778503418,
           1.6096521615982056,
           0.5674253702163696,
           0.4348946213722229,
           0.156490296125412,
           0.09308721125125885,
           0.3976278603076935,
           0.33389002084732056,
           0.6012173891067505,
           0.43406572937965393,
           0.5840138792991638,
           0.10995256900787354,
           0.25500866770744324,
           0.6718106865882874
          ],
          [
           0.383646696805954,
           0.4650540351867676,
           0.36731454730033875,
           0.16892199218273163,
           0.04883202910423279,
           0.4221231937408447,
           0.5969594717025757,
           1.0014971494674683,
           0.463857501745224,
           0.04115181788802147,
           0.12732355296611786,
           0.7771930694580078,
           1.134024977684021,
           -0.23275712132453918,
           0.8051662445068359,
           -0.051063161343336105
          ],
          [
           0.34439417719841003,
           0.22865717113018036,
           0.651046633720398,
           0.0797652006149292,
           -0.1814213991165161,
           0.023168763145804405,
           0.18674270808696747,
           0.655358076095581,
           0.13375651836395264,
           0.176189586520195,
           -0.11366673558950424,
           0.987072765827179,
           0.511581540107727,
           0.6128039360046387,
           2.8570146560668945,
           0.019836118444800377
          ],
          [
           0.7876362800598145,
           0.31181618571281433,
           1.8447927236557007,
           1.0587607622146606,
           -1.650943636894226,
           0.934634804725647,
           -3.723721742630005,
           0.4692881107330322,
           -1.820328712463379,
           0.11313968151807785,
           -0.7657250165939331,
           0.4089905917644501,
           -0.3883835971355438,
           0.1956454962491989,
           1.5424728393554688,
           -0.08922410756349564
          ],
          [
           0.7085587382316589,
           -0.23132911324501038,
           0.12886393070220947,
           0.23904843628406525,
           -0.25637906789779663,
           0.4614757001399994,
           1.0204440355300903,
           0.3469311594963074,
           -0.04718928039073944,
           -0.05173642560839653,
           0.459184855222702,
           -0.31205371022224426,
           0.10056240856647491,
           0.06785300374031067,
           -0.6038567423820496,
           -0.16864758729934692
          ],
          [
           0.2395765632390976,
           -0.3078943192958832,
           -0.0634680688381195,
           0.22424952685832977,
           1.007447600364685,
           -0.6327329277992249,
           -0.17274126410484314,
           0.31883832812309265,
           0.3544619083404541,
           0.02203940600156784,
           0.4141990840435028,
           0.25356876850128174,
           -0.24274301528930664,
           -0.4146161675453186,
           -0.40667077898979187,
           0.8490626215934753
          ],
          [
           -0.3308764398097992,
           -0.5066630840301514,
           -2.1824634075164795,
           0.02972075343132019,
           0.5722715258598328,
           0.1118667870759964,
           -0.005166483111679554,
           0.3801288306713104,
           0.5161850452423096,
           -0.9442974328994751,
           -0.3364376127719879,
           0.46855708956718445,
           -0.417149156332016,
           1.1638566255569458,
           0.16460953652858734,
           0.3735380172729492
          ],
          [
           0.32594749331474304,
           0.100394606590271,
           0.14515314996242523,
           -0.4078128933906555,
           0.3747323155403137,
           0.7823654413223267,
           -0.9416069984436035,
           0.23536328971385956,
           0.1919633448123932,
           -0.32589542865753174,
           -0.10847138613462448,
           0.19093313813209534,
           0.18032662570476532,
           0.05438852310180664,
           0.3217848241329193,
           0.24156735837459564
          ],
          [
           0.3524855077266693,
           -0.7049132585525513,
           -0.8016449213027954,
           -1.1212022304534912,
           0.2526158392429352,
           -0.062199126929044724,
           0.24040274322032928,
           0.7167768478393555,
           -0.4388793408870697,
           -0.37190380692481995,
           0.344106525182724,
           -0.06439834088087082,
           0.2698473632335663,
           -0.1203429251909256,
           -0.0760076567530632,
           0.33954939246177673
          ],
          [
           -0.09590530395507812,
           0.5252182483673096,
           0.3424346148967743,
           0.1892024129629135,
           0.2736686170101166,
           0.31015416979789734,
           0.10141655057668686,
           -0.18900516629219055,
           0.32614707946777344,
           0.22355662286281586,
           0.1613636463880539,
           -0.7157880663871765,
           0.33954864740371704,
           -0.9572029113769531,
           -0.3098141849040985,
           0.7169720530509949
          ],
          [
           0.4450831413269043,
           -3.5398690700531006,
           0.298514723777771,
           0.03951365500688553,
           -0.21510985493659973,
           0.6243007183074951,
           -0.04722985252737999,
           0.18214666843414307,
           0.2339417189359665,
           1.165959119796753,
           -0.3150034248828888,
           -1.7991771697998047,
           0.559042751789093,
           0.3243221044540405,
           0.39618968963623047,
           1.3185981512069702
          ],
          [
           0.4656171500682831,
           0.19754348695278168,
           0.2583860456943512,
           0.7971353530883789,
           0.32575222849845886,
           0.1861821860074997,
           0.022405782714486122,
           0.22815291583538055,
           3.005841016769409,
           0.8533807992935181,
           0.21620063483715057,
           1.8944215774536133,
           0.19942419230937958,
           0.1277293711900711,
           0.34672364592552185,
           0.0390283577144146
          ],
          [
           0.35391345620155334,
           0.16208596527576447,
           0.32300207018852234,
           0.16540271043777466,
           -3.0497734546661377,
           0.8758289217948914,
           3.323260545730591,
           0.6518217325210571,
           1.3251146078109741,
           0.2679527699947357,
           0.5455164909362793,
           -0.10094615072011948,
           0.8148724436759949,
           0.631645679473877,
           0.7676967978477478,
           0.4647112488746643
          ],
          [
           -0.02561202086508274,
           -0.01531443651765585,
           4.996366500854492,
           5.725602626800537,
           -0.08318541198968887,
           0.04906163737177849,
           2.6428232192993164,
           0.18565379083156586,
           0.41509634256362915,
           0.48753100633621216,
           0.19238369166851044,
           0.013195276260375977,
           2.3509790897369385,
           0.011729136109352112,
           0.2740975320339203,
           0.24430643022060394
          ],
          [
           0.19262371957302094,
           0.861187756061554,
           0.48638206720352173,
           0.8046373724937439,
           1.1486314535140991,
           1.3213837146759033,
           0.6932522654533386,
           1.132689118385315,
           0.46895861625671387,
           0.3026154935359955,
           2.682072877883911,
           0.4312058091163635,
           0.5439856648445129,
           1.325283408164978,
           0.2678774297237396,
           1.0614866018295288
          ],
          [
           -0.11454339325428009,
           0.17037014663219452,
           0.5054795742034912,
           0.12587301433086395,
           0.11656530201435089,
           0.4600374400615692,
           0.6234388947486877,
           1.2012404203414917,
           0.2606522738933563,
           0.6983159780502319,
           0.3581329584121704,
           0.18547634780406952,
           0.6291666626930237,
           0.201585054397583,
           0.20067130029201508,
           -0.1577150970697403
          ],
          [
           0.5766512155532837,
           0.5866689085960388,
           0.8923754096031189,
           1.1191664934158325,
           1.3196216821670532,
           1.1656097173690796,
           2.4242451190948486,
           2.0512454509735107,
           1.8280810117721558,
           2.474024534225464,
           1.3553029298782349,
           1.0256505012512207,
           1.2016514539718628,
           1.535476803779602,
           0.8756181597709656,
           0.4103652536869049
          ],
          [
           -0.009358244948089123,
           2.4617667198181152,
           0.3603266179561615,
           1.4566161632537842,
           -0.21441510319709778,
           0.01689719222486019,
           -0.0036603957414627075,
           -0.37870994210243225,
           -0.1366497129201889,
           -0.024094482883810997,
           0.04751335084438324,
           0.5560590624809265,
           5.930464267730713,
           -0.03256480395793915,
           0.8767512440681458,
           -0.2923642098903656
          ],
          [
           1.5437610149383545,
           1.5288517475128174,
           0.8971378207206726,
           0.5050200819969177,
           1.6437410116195679,
           2.7665419578552246,
           3.9879205226898193,
           0.3094501197338104,
           47.918251037597656,
           0.28122377395629883,
           -1.7238472700119019,
           3.1391406059265137,
           2.6956684589385986,
           13.851892471313477,
           1.6675289869308472,
           0.6406781077384949
          ]
         ]
        }
       ],
       "layout": {
        "annotations": [
         {
          "font": {},
          "showarrow": false,
          "text": "Logit Diff - 4.89",
          "x": 0.15999999999999998,
          "xanchor": "center",
          "xref": "paper",
          "y": 1,
          "yanchor": "bottom",
          "yref": "paper"
         },
         {
          "font": {},
          "showarrow": false,
          "text": "Correct Direction",
          "x": 0.49999999999999994,
          "xanchor": "center",
          "xref": "paper",
          "y": 1,
          "yanchor": "bottom",
          "yref": "paper"
         },
         {
          "font": {},
          "showarrow": false,
          "text": "Incorrect Direction",
          "x": 0.8399999999999999,
          "xanchor": "center",
          "xref": "paper",
          "y": 1,
          "yanchor": "bottom",
          "yref": "paper"
         }
        ],
        "coloraxis": {
         "cmid": 0,
         "colorbar": {
          "title": {
           "text": "Logit Contribution"
          }
         },
         "colorscale": [
          [
           0,
           "rgb(103,0,31)"
          ],
          [
           0.1,
           "rgb(178,24,43)"
          ],
          [
           0.2,
           "rgb(214,96,77)"
          ],
          [
           0.3,
           "rgb(244,165,130)"
          ],
          [
           0.4,
           "rgb(253,219,199)"
          ],
          [
           0.5,
           "rgb(247,247,247)"
          ],
          [
           0.6,
           "rgb(209,229,240)"
          ],
          [
           0.7,
           "rgb(146,197,222)"
          ],
          [
           0.8,
           "rgb(67,147,195)"
          ],
          [
           0.9,
           "rgb(33,102,172)"
          ],
          [
           1,
           "rgb(5,48,97)"
          ]
         ]
        },
        "margin": {
         "l": 100,
         "r": 100
        },
        "template": {
         "data": {
          "bar": [
           {
            "error_x": {
             "color": "#2a3f5f"
            },
            "error_y": {
             "color": "#2a3f5f"
            },
            "marker": {
             "line": {
              "color": "#E5ECF6",
              "width": 0.5
             },
             "pattern": {
              "fillmode": "overlay",
              "size": 10,
              "solidity": 0.2
             }
            },
            "type": "bar"
           }
          ],
          "barpolar": [
           {
            "marker": {
             "line": {
              "color": "#E5ECF6",
              "width": 0.5
             },
             "pattern": {
              "fillmode": "overlay",
              "size": 10,
              "solidity": 0.2
             }
            },
            "type": "barpolar"
           }
          ],
          "carpet": [
           {
            "aaxis": {
             "endlinecolor": "#2a3f5f",
             "gridcolor": "white",
             "linecolor": "white",
             "minorgridcolor": "white",
             "startlinecolor": "#2a3f5f"
            },
            "baxis": {
             "endlinecolor": "#2a3f5f",
             "gridcolor": "white",
             "linecolor": "white",
             "minorgridcolor": "white",
             "startlinecolor": "#2a3f5f"
            },
            "type": "carpet"
           }
          ],
          "choropleth": [
           {
            "colorbar": {
             "outlinewidth": 0,
             "ticks": ""
            },
            "type": "choropleth"
           }
          ],
          "contour": [
           {
            "colorbar": {
             "outlinewidth": 0,
             "ticks": ""
            },
            "colorscale": [
             [
              0,
              "#0d0887"
             ],
             [
              0.1111111111111111,
              "#46039f"
             ],
             [
              0.2222222222222222,
              "#7201a8"
             ],
             [
              0.3333333333333333,
              "#9c179e"
             ],
             [
              0.4444444444444444,
              "#bd3786"
             ],
             [
              0.5555555555555556,
              "#d8576b"
             ],
             [
              0.6666666666666666,
              "#ed7953"
             ],
             [
              0.7777777777777778,
              "#fb9f3a"
             ],
             [
              0.8888888888888888,
              "#fdca26"
             ],
             [
              1,
              "#f0f921"
             ]
            ],
            "type": "contour"
           }
          ],
          "contourcarpet": [
           {
            "colorbar": {
             "outlinewidth": 0,
             "ticks": ""
            },
            "type": "contourcarpet"
           }
          ],
          "heatmap": [
           {
            "colorbar": {
             "outlinewidth": 0,
             "ticks": ""
            },
            "colorscale": [
             [
              0,
              "#0d0887"
             ],
             [
              0.1111111111111111,
              "#46039f"
             ],
             [
              0.2222222222222222,
              "#7201a8"
             ],
             [
              0.3333333333333333,
              "#9c179e"
             ],
             [
              0.4444444444444444,
              "#bd3786"
             ],
             [
              0.5555555555555556,
              "#d8576b"
             ],
             [
              0.6666666666666666,
              "#ed7953"
             ],
             [
              0.7777777777777778,
              "#fb9f3a"
             ],
             [
              0.8888888888888888,
              "#fdca26"
             ],
             [
              1,
              "#f0f921"
             ]
            ],
            "type": "heatmap"
           }
          ],
          "heatmapgl": [
           {
            "colorbar": {
             "outlinewidth": 0,
             "ticks": ""
            },
            "colorscale": [
             [
              0,
              "#0d0887"
             ],
             [
              0.1111111111111111,
              "#46039f"
             ],
             [
              0.2222222222222222,
              "#7201a8"
             ],
             [
              0.3333333333333333,
              "#9c179e"
             ],
             [
              0.4444444444444444,
              "#bd3786"
             ],
             [
              0.5555555555555556,
              "#d8576b"
             ],
             [
              0.6666666666666666,
              "#ed7953"
             ],
             [
              0.7777777777777778,
              "#fb9f3a"
             ],
             [
              0.8888888888888888,
              "#fdca26"
             ],
             [
              1,
              "#f0f921"
             ]
            ],
            "type": "heatmapgl"
           }
          ],
          "histogram": [
           {
            "marker": {
             "pattern": {
              "fillmode": "overlay",
              "size": 10,
              "solidity": 0.2
             }
            },
            "type": "histogram"
           }
          ],
          "histogram2d": [
           {
            "colorbar": {
             "outlinewidth": 0,
             "ticks": ""
            },
            "colorscale": [
             [
              0,
              "#0d0887"
             ],
             [
              0.1111111111111111,
              "#46039f"
             ],
             [
              0.2222222222222222,
              "#7201a8"
             ],
             [
              0.3333333333333333,
              "#9c179e"
             ],
             [
              0.4444444444444444,
              "#bd3786"
             ],
             [
              0.5555555555555556,
              "#d8576b"
             ],
             [
              0.6666666666666666,
              "#ed7953"
             ],
             [
              0.7777777777777778,
              "#fb9f3a"
             ],
             [
              0.8888888888888888,
              "#fdca26"
             ],
             [
              1,
              "#f0f921"
             ]
            ],
            "type": "histogram2d"
           }
          ],
          "histogram2dcontour": [
           {
            "colorbar": {
             "outlinewidth": 0,
             "ticks": ""
            },
            "colorscale": [
             [
              0,
              "#0d0887"
             ],
             [
              0.1111111111111111,
              "#46039f"
             ],
             [
              0.2222222222222222,
              "#7201a8"
             ],
             [
              0.3333333333333333,
              "#9c179e"
             ],
             [
              0.4444444444444444,
              "#bd3786"
             ],
             [
              0.5555555555555556,
              "#d8576b"
             ],
             [
              0.6666666666666666,
              "#ed7953"
             ],
             [
              0.7777777777777778,
              "#fb9f3a"
             ],
             [
              0.8888888888888888,
              "#fdca26"
             ],
             [
              1,
              "#f0f921"
             ]
            ],
            "type": "histogram2dcontour"
           }
          ],
          "mesh3d": [
           {
            "colorbar": {
             "outlinewidth": 0,
             "ticks": ""
            },
            "type": "mesh3d"
           }
          ],
          "parcoords": [
           {
            "line": {
             "colorbar": {
              "outlinewidth": 0,
              "ticks": ""
             }
            },
            "type": "parcoords"
           }
          ],
          "pie": [
           {
            "automargin": true,
            "type": "pie"
           }
          ],
          "scatter": [
           {
            "fillpattern": {
             "fillmode": "overlay",
             "size": 10,
             "solidity": 0.2
            },
            "type": "scatter"
           }
          ],
          "scatter3d": [
           {
            "line": {
             "colorbar": {
              "outlinewidth": 0,
              "ticks": ""
             }
            },
            "marker": {
             "colorbar": {
              "outlinewidth": 0,
              "ticks": ""
             }
            },
            "type": "scatter3d"
           }
          ],
          "scattercarpet": [
           {
            "marker": {
             "colorbar": {
              "outlinewidth": 0,
              "ticks": ""
             }
            },
            "type": "scattercarpet"
           }
          ],
          "scattergeo": [
           {
            "marker": {
             "colorbar": {
              "outlinewidth": 0,
              "ticks": ""
             }
            },
            "type": "scattergeo"
           }
          ],
          "scattergl": [
           {
            "marker": {
             "colorbar": {
              "outlinewidth": 0,
              "ticks": ""
             }
            },
            "type": "scattergl"
           }
          ],
          "scattermapbox": [
           {
            "marker": {
             "colorbar": {
              "outlinewidth": 0,
              "ticks": ""
             }
            },
            "type": "scattermapbox"
           }
          ],
          "scatterpolar": [
           {
            "marker": {
             "colorbar": {
              "outlinewidth": 0,
              "ticks": ""
             }
            },
            "type": "scatterpolar"
           }
          ],
          "scatterpolargl": [
           {
            "marker": {
             "colorbar": {
              "outlinewidth": 0,
              "ticks": ""
             }
            },
            "type": "scatterpolargl"
           }
          ],
          "scatterternary": [
           {
            "marker": {
             "colorbar": {
              "outlinewidth": 0,
              "ticks": ""
             }
            },
            "type": "scatterternary"
           }
          ],
          "surface": [
           {
            "colorbar": {
             "outlinewidth": 0,
             "ticks": ""
            },
            "colorscale": [
             [
              0,
              "#0d0887"
             ],
             [
              0.1111111111111111,
              "#46039f"
             ],
             [
              0.2222222222222222,
              "#7201a8"
             ],
             [
              0.3333333333333333,
              "#9c179e"
             ],
             [
              0.4444444444444444,
              "#bd3786"
             ],
             [
              0.5555555555555556,
              "#d8576b"
             ],
             [
              0.6666666666666666,
              "#ed7953"
             ],
             [
              0.7777777777777778,
              "#fb9f3a"
             ],
             [
              0.8888888888888888,
              "#fdca26"
             ],
             [
              1,
              "#f0f921"
             ]
            ],
            "type": "surface"
           }
          ],
          "table": [
           {
            "cells": {
             "fill": {
              "color": "#EBF0F8"
             },
             "line": {
              "color": "white"
             }
            },
            "header": {
             "fill": {
              "color": "#C8D4E3"
             },
             "line": {
              "color": "white"
             }
            },
            "type": "table"
           }
          ]
         },
         "layout": {
          "annotationdefaults": {
           "arrowcolor": "#2a3f5f",
           "arrowhead": 0,
           "arrowwidth": 1
          },
          "autotypenumbers": "strict",
          "coloraxis": {
           "colorbar": {
            "outlinewidth": 0,
            "ticks": ""
           }
          },
          "colorscale": {
           "diverging": [
            [
             0,
             "#8e0152"
            ],
            [
             0.1,
             "#c51b7d"
            ],
            [
             0.2,
             "#de77ae"
            ],
            [
             0.3,
             "#f1b6da"
            ],
            [
             0.4,
             "#fde0ef"
            ],
            [
             0.5,
             "#f7f7f7"
            ],
            [
             0.6,
             "#e6f5d0"
            ],
            [
             0.7,
             "#b8e186"
            ],
            [
             0.8,
             "#7fbc41"
            ],
            [
             0.9,
             "#4d9221"
            ],
            [
             1,
             "#276419"
            ]
           ],
           "sequential": [
            [
             0,
             "#0d0887"
            ],
            [
             0.1111111111111111,
             "#46039f"
            ],
            [
             0.2222222222222222,
             "#7201a8"
            ],
            [
             0.3333333333333333,
             "#9c179e"
            ],
            [
             0.4444444444444444,
             "#bd3786"
            ],
            [
             0.5555555555555556,
             "#d8576b"
            ],
            [
             0.6666666666666666,
             "#ed7953"
            ],
            [
             0.7777777777777778,
             "#fb9f3a"
            ],
            [
             0.8888888888888888,
             "#fdca26"
            ],
            [
             1,
             "#f0f921"
            ]
           ],
           "sequentialminus": [
            [
             0,
             "#0d0887"
            ],
            [
             0.1111111111111111,
             "#46039f"
            ],
            [
             0.2222222222222222,
             "#7201a8"
            ],
            [
             0.3333333333333333,
             "#9c179e"
            ],
            [
             0.4444444444444444,
             "#bd3786"
            ],
            [
             0.5555555555555556,
             "#d8576b"
            ],
            [
             0.6666666666666666,
             "#ed7953"
            ],
            [
             0.7777777777777778,
             "#fb9f3a"
            ],
            [
             0.8888888888888888,
             "#fdca26"
            ],
            [
             1,
             "#f0f921"
            ]
           ]
          },
          "colorway": [
           "#636efa",
           "#EF553B",
           "#00cc96",
           "#ab63fa",
           "#FFA15A",
           "#19d3f3",
           "#FF6692",
           "#B6E880",
           "#FF97FF",
           "#FECB52"
          ],
          "font": {
           "color": "#2a3f5f"
          },
          "geo": {
           "bgcolor": "white",
           "lakecolor": "white",
           "landcolor": "#E5ECF6",
           "showlakes": true,
           "showland": true,
           "subunitcolor": "white"
          },
          "hoverlabel": {
           "align": "left"
          },
          "hovermode": "closest",
          "mapbox": {
           "style": "light"
          },
          "paper_bgcolor": "white",
          "plot_bgcolor": "#E5ECF6",
          "polar": {
           "angularaxis": {
            "gridcolor": "white",
            "linecolor": "white",
            "ticks": ""
           },
           "bgcolor": "#E5ECF6",
           "radialaxis": {
            "gridcolor": "white",
            "linecolor": "white",
            "ticks": ""
           }
          },
          "scene": {
           "xaxis": {
            "backgroundcolor": "#E5ECF6",
            "gridcolor": "white",
            "gridwidth": 2,
            "linecolor": "white",
            "showbackground": true,
            "ticks": "",
            "zerolinecolor": "white"
           },
           "yaxis": {
            "backgroundcolor": "#E5ECF6",
            "gridcolor": "white",
            "gridwidth": 2,
            "linecolor": "white",
            "showbackground": true,
            "ticks": "",
            "zerolinecolor": "white"
           },
           "zaxis": {
            "backgroundcolor": "#E5ECF6",
            "gridcolor": "white",
            "gridwidth": 2,
            "linecolor": "white",
            "showbackground": true,
            "ticks": "",
            "zerolinecolor": "white"
           }
          },
          "shapedefaults": {
           "line": {
            "color": "#2a3f5f"
           }
          },
          "ternary": {
           "aaxis": {
            "gridcolor": "white",
            "linecolor": "white",
            "ticks": ""
           },
           "baxis": {
            "gridcolor": "white",
            "linecolor": "white",
            "ticks": ""
           },
           "bgcolor": "#E5ECF6",
           "caxis": {
            "gridcolor": "white",
            "linecolor": "white",
            "ticks": ""
           }
          },
          "title": {
           "x": 0.05
          },
          "xaxis": {
           "automargin": true,
           "gridcolor": "white",
           "linecolor": "white",
           "ticks": "",
           "title": {
            "standoff": 15
           },
           "zerolinecolor": "white",
           "zerolinewidth": 2
          },
          "yaxis": {
           "automargin": true,
           "gridcolor": "white",
           "linecolor": "white",
           "ticks": "",
           "title": {
            "standoff": 15
           },
           "zerolinecolor": "white",
           "zerolinewidth": 2
          }
         }
        },
        "title": {
         "text": "Logit Contributions on Clean Dataset"
        },
        "width": 1500,
        "xaxis": {
         "anchor": "y",
         "constrain": "domain",
         "domain": [
          0,
          0.31999999999999995
         ],
         "linecolor": "black",
         "linewidth": 1,
         "mirror": true,
         "scaleanchor": "y",
         "showline": true,
         "title": {
          "text": "Head"
         }
        },
        "xaxis2": {
         "anchor": "y2",
         "domain": [
          0.33999999999999997,
          0.6599999999999999
         ],
         "linecolor": "black",
         "linewidth": 1,
         "matches": "x",
         "mirror": true,
         "showline": true,
         "title": {
          "text": "Head"
         }
        },
        "xaxis3": {
         "anchor": "y3",
         "domain": [
          0.6799999999999999,
          0.9999999999999999
         ],
         "linecolor": "black",
         "linewidth": 1,
         "matches": "x",
         "mirror": true,
         "showline": true,
         "title": {
          "text": "Head"
         }
        },
        "yaxis": {
         "anchor": "x",
         "autorange": "reversed",
         "constrain": "domain",
         "domain": [
          0,
          1
         ],
         "linecolor": "black",
         "linewidth": 1,
         "mirror": true,
         "showline": true,
         "title": {
          "text": "Layer"
         }
        },
        "yaxis2": {
         "anchor": "x2",
         "domain": [
          0,
          1
         ],
         "linecolor": "black",
         "linewidth": 1,
         "matches": "y",
         "mirror": true,
         "showline": true,
         "showticklabels": false
        },
        "yaxis3": {
         "anchor": "x3",
         "domain": [
          0,
          1
         ],
         "linecolor": "black",
         "linewidth": 1,
         "matches": "y",
         "mirror": true,
         "showline": true,
         "showticklabels": false
        }
       }
      },
      "text/html": [
       "<div>                            <div id=\"6d657380-9b42-489b-b300-1d2d1105541c\" class=\"plotly-graph-div\" style=\"height:525px; width:1500px;\"></div>            <script type=\"text/javascript\">                require([\"plotly\"], function(Plotly) {                    window.PLOTLYENV=window.PLOTLYENV || {};                                    if (document.getElementById(\"6d657380-9b42-489b-b300-1d2d1105541c\")) {                    Plotly.newPlot(                        \"6d657380-9b42-489b-b300-1d2d1105541c\",                        [{\"coloraxis\":\"coloraxis\",\"name\":\"0\",\"z\":[[-0.1145087406039238,0.5667784810066223,-0.538989782333374,-0.3613179624080658,-0.3012672960758209,0.7992265820503235,-0.5383342504501343,0.02761051617562771,-1.0101665258407593,-0.17828719317913055,0.9894011616706848,-0.19632075726985931,0.37099361419677734,-0.014707083813846111,0.054913606494665146,-0.18442541360855103],[0.14973321557044983,-0.29291942715644836,0.12666454911231995,-0.010810608975589275,0.334591805934906,0.7311654686927795,0.4493961036205292,0.41103336215019226,-0.14409124851226807,0.5870444178581238,-0.17557433247566223,-0.7872776389122009,0.18162000179290771,-0.02943297289311886,-0.3703528940677643,-0.07704872637987137],[-0.07366212457418442,0.18601761758327484,-0.506269633769989,0.1262928545475006,-0.05247591808438301,1.154410481452942,-0.25861552357673645,0.04893195629119873,0.09621759504079819,0.031143903732299805,0.22895336151123047,-0.5257713198661804,0.1384357213973999,0.11081188172101974,-0.28101369738578796,-0.10790351778268814],[0.07573717087507248,0.5487416386604309,-0.056255679577589035,2.330556631088257,-0.0022310521453619003,-0.16631606221199036,-0.0185562651604414,0.5419440865516663,-0.11502525955438614,0.1452016532421112,0.41624903678894043,-0.18981893360614777,0.09456630051136017,-0.09466098248958588,-0.5180763602256775,0.22436372935771942],[-0.057090070098638535,0.23533940315246582,-0.09530618786811829,0.15737472474575043,-0.24540884792804718,-0.09321757405996323,-0.07281235605478287,0.12777206301689148,-0.05196850374341011,-0.07123428583145142,-0.31217679381370544,-0.25388869643211365,0.006725613959133625,-0.08994664996862411,0.036326661705970764,-0.05067719146609306],[-0.40576672554016113,-0.3070845305919647,-0.5572508573532104,-0.4444309175014496,-0.30862122774124146,0.041687753051519394,-0.2292933464050293,0.1393452286720276,-0.20276795327663422,-0.5518742799758911,-0.2775360941886902,-0.013184464536607265,0.06247609853744507,0.027068812400102615,0.16927605867385864,-0.3344126045703888],[0.04880913719534874,-0.16439881920814514,-0.0681934729218483,-0.2557213008403778,-0.08330217748880386,0.101531021296978,-0.7559179663658142,-0.18624089658260345,0.025498611852526665,-0.03672882542014122,-0.1275682896375656,0.02859230898320675,-0.7503969669342041,0.12632639706134796,-0.5788623094558716,0.10090414434671402],[-0.3782869279384613,-0.1792626827955246,-0.6394239664077759,-0.40633782744407654,-0.1533900946378708,0.006268322467803955,0.4716551899909973,-0.7782639861106873,-0.09702412784099579,-0.24679994583129883,-0.029509400948882103,-0.5248643159866333,0.164153054356575,-0.620387613773346,-1.7362308502197266,0.18860463798046112],[-0.47420820593833923,0.012105043046176434,-0.576408863067627,-0.34974631667137146,-0.11544833332300186,-0.6928631663322449,2.1388659477233887,-0.43802952766418457,0.004624366760253906,-0.27775296568870544,0.12583188712596893,-0.11166899651288986,0.24848158657550812,-0.11113523691892624,-1.101693034172058,-0.13757558166980743],[-0.5021489262580872,0.3677479922771454,-0.007614036090672016,-0.2630394399166107,0.2232891172170639,-0.20781074464321136,0.08134391158819199,-0.26647233963012695,-0.10250415652990341,-0.3212863504886627,-0.11288990080356598,0.34474560618400574,-0.2967948019504547,-0.07578389346599579,0.09925004094839096,-0.12495993822813034],[-0.1205567866563797,0.004202269483357668,-0.21352873742580414,-0.20129303634166718,-0.5622881054878235,0.44034385681152344,0.016795843839645386,0.09131181985139847,-0.1585071086883545,0.013425663113594055,-0.1545582264661789,-0.16597522795200348,0.32154855132102966,-0.035454727709293365,0.06336509436368942,-0.29881030321121216],[0.09034913033246994,-0.26305755972862244,3.21641206741333,-0.18215790390968323,-0.4145495891571045,0.005675405263900757,-0.3597959876060486,0.014237791299819946,-0.45974770188331604,0.37582823634147644,0.5601311326026917,0.08415108174085617,0.09815018624067307,-0.6143572926521301,-0.20255494117736816,0.005748712923377752],[-0.25497838854789734,-0.1031983271241188,-0.0592007152736187,0.0457862913608551,-0.10998902469873428,-0.1699579805135727,-0.011027602478861809,-0.30485978722572327,0.6288257837295532,0.4405934810638428,0.8493348956108093,-0.1220192238688469,-0.10780048370361328,0.12637852132320404,-0.37431541085243225,0.22027547657489777],[-0.30983757972717285,0.24387326836585999,-0.08508766442537308,0.11780045181512833,-0.2875899076461792,0.30431947112083435,-0.25583675503730774,-0.9410726428031921,-0.04603983834385872,3.5677058696746826,-0.6679455637931824,0.14574788510799408,0.2756321430206299,0.0850428119301796,0.087651327252388,0.3058638572692871],[0.18418823182582855,-0.274383008480072,-0.32477283477783203,-0.2852902114391327,-0.18758581578731537,0.48275622725486755,0.08968222141265869,0.06100327894091606,-0.21897296607494354,2.1646270751953125,0.09548117220401764,0.7913933992385864,-0.03926186263561249,11.191378593444824,3.3939976692199707,0.1909598559141159],[1.3898028135299683,3.8650670051574707,-0.2507260739803314,-0.2990656793117523,0.12018714100122452,-0.09066279977560043,-4.896877288818359,0.05522434785962105,0.44057998061180115,-0.6730756163597107,0.2615707814693451,1.982708215713501,0.14061254262924194,-0.19909565150737762,-0.09620657563209534,-0.3762330710887909],[1.4079586267471313,0.036791421473026276,1.1135847568511963,-0.22993551194667816,-0.032137367874383926,0.2365218847990036,-0.03647691756486893,1.5587658882141113,1.1739332675933838,-0.2023935765028,1.5885142087936401,-0.8524038195610046,0.10095198452472687,0.0843886137008667,-0.1513427346944809,0.007212730590254068],[-0.028556177392601967,-0.03527611121535301,0.694709300994873,0.5378305912017822,1.398389220237732,-0.6338498592376709,-0.8661110997200012,-0.5152799487113953,-3.210216999053955,-0.04239801689982414,-0.20896898210048676,-0.6030973792076111,-0.45957785844802856,-0.11632683128118515,-0.06134362146258354,0.2691102921962738],[0.0967864915728569,-0.5148586630821228,-2.0236661434173584,0.5668485760688782,2.540973663330078,0.28586113452911377,5.083163738250732,0.2085162252187729,0.007667765021324158,4.881539821624756,-0.004766878671944141,-0.0759885236620903,-1.0881656408309937,0.005406035576015711,-0.01960236392915249,0.010865903459489346],[0.031894098967313766,0.11311154812574387,-0.27990153431892395,-0.21810372173786163,-0.29208672046661377,-0.20317816734313965,-0.38383421301841736,0.11286582797765732,-0.11081891506910324,0.05665203556418419,-2.112761974334717,0.029115675017237663,0.7395581603050232,-0.4040568470954895,0.07971511036157608,-0.5659853219985962],[-0.03955298289656639,0.2870200574398041,-0.1707318127155304,-0.1437189131975174,-0.280722439289093,-0.3082437217235565,6.593421459197998,-4.761573314666748,-0.04602060467004776,2.9161932468414307,-0.11185016483068466,-0.024286532774567604,-0.5824081897735596,-0.07378065586090088,-0.15054315328598022,-0.007017404772341251],[0.1706857681274414,-0.13213472068309784,-0.18436865508556366,-0.18017052114009857,-0.22947919368743896,-0.3962230384349823,0.6917769312858582,-0.31510528922080994,-0.5609738826751709,0.09707742184400558,0.14104251563549042,-0.2868179678916931,-0.2682032287120819,-0.4227806031703949,-0.005050953011959791,-0.03484722971916199],[0.016140829771757126,4.958836078643799,5.682337284088135,0.43152332305908203,1.0462169647216797,0.6085994839668274,0.6159809231758118,-0.08237843960523605,0.010715405456721783,-0.1688399314880371,0.8441471457481384,-0.3636857569217682,-2.519771099090576,-0.2717326581478119,-0.39598962664604187,0.03268057107925415],[0.30513307452201843,4.921748638153076,-0.06584002077579498,0.02123638428747654,-0.36348387598991394,0.1606309711933136,3.099506378173828,0.04132910817861557,5.21484375,0.6560952663421631,-0.6450768709182739,0.8138085603713989,1.538055419921875,-1.99423348903656,-0.4833165109157562,-0.2654980719089508]],\"type\":\"heatmap\",\"xaxis\":\"x\",\"yaxis\":\"y\",\"hovertemplate\":\"Head: %{x}\\u003cbr\\u003eLayer: %{y}\\u003cbr\\u003eLogit Contribution: %{z}\\u003cextra\\u003e\\u003c\\u002fextra\\u003e\"},{\"coloraxis\":\"coloraxis\",\"name\":\"1\",\"z\":[[1.103385090827942,-0.7270626425743103,0.3884316384792328,0.2608758807182312,0.9412757158279419,-0.6213057041168213,-0.29662275314331055,-0.19336704909801483,0.8504394888877869,0.12118013948202133,0.8681520819664001,-0.3369123637676239,-0.3527502715587616,0.4001460671424866,0.2914264500141144,0.41274401545524597],[-0.009241948835551739,-0.2292746603488922,-0.3583589196205139,0.24658921360969543,0.026555268093943596,-1.5806845426559448,0.736674427986145,0.2157103568315506,0.04799497127532959,0.765530526638031,-0.3520596921443939,1.2661685943603516,-0.3737170696258545,0.13365422189235687,-0.1953401267528534,-0.15592190623283386],[0.21740829944610596,0.1459810584783554,-1.0507029294967651,-0.2862492799758911,-0.30557915568351746,-1.490793228149414,-0.8629792332649231,-0.6084415912628174,0.3506741225719452,0.20854957401752472,-0.48853322863578796,-0.25663623213768005,-0.10441595315933228,-0.9004503488540649,-0.3520079553127289,0.07573460787534714],[0.04844912514090538,-4.424654006958008,0.47150468826293945,-7.235101222991943,0.10255863517522812,-0.27465400099754333,-0.03771766647696495,-4.064467906951904,-0.06778782606124878,0.20134912431240082,-1.7373600006103516,0.4359404742717743,-0.6280682682991028,-0.24693606793880463,-1.5051640272140503,0.14771156013011932],[-0.17992448806762695,0.2105320245027542,0.3420361876487732,0.515676736831665,-0.08615516871213913,-0.10696262121200562,-0.021180644631385803,-0.009210911579430103,0.072032131254673,0.12238039821386337,0.359211802482605,-0.07102245092391968,-0.1099596843123436,-0.6777143478393555,0.005760772619396448,0.9171072244644165],[-0.3824995160102844,-0.037719178944826126,0.4836423099040985,1.1652212142944336,0.2588041126728058,0.4765823483467102,-0.07280301302671432,0.23243241012096405,0.1948598474264145,-0.2179841548204422,0.3236812949180603,0.4208814203739166,0.6464899182319641,0.13702140748500824,0.42428478598594666,0.33739805221557617],[0.432455837726593,0.300655335187912,0.2991211414337158,-0.08679933100938797,-0.034470152109861374,0.5236544013023376,-0.15895850956439972,0.8152560591697693,0.48935604095458984,0.004422956611961126,-0.0002446711005177349,0.8057853579521179,0.38362833857536316,-0.10643080621957779,0.2263038009405136,0.0498410239815712],[-0.03389265760779381,0.04939459636807442,0.011622822843492031,-0.3265725374221802,-0.3348115384578705,0.029437128454446793,0.658397912979126,-0.12290585041046143,0.03673236444592476,-0.07061036676168442,-0.1431761085987091,0.46220827102661133,0.6757346987724304,-0.0075838565826416016,1.1207834482192993,0.20844081044197083],[0.3134280741214752,0.3239211440086365,1.2683839797973633,0.709014356136322,-1.7663921117782593,0.24177180230617523,-1.5848554372787476,0.03125865012407303,-1.815704345703125,-0.164613276720047,-0.6398931741714478,0.2973216474056244,-0.1399020105600357,0.08451025933027267,0.4407801330089569,-0.2267996370792389],[0.20640984177589417,0.136418879032135,0.12124989181756973,-0.023990986868739128,-0.03308992460370064,0.2536650598049164,1.1017879247665405,0.08045884966850281,-0.14969341456890106,-0.3730226159095764,0.34629496932029724,0.03269201144576073,-0.196232408285141,-0.007930904626846313,-0.5046067237854004,-0.29360756278038025],[0.1190197616815567,-0.3036920726299286,-0.27699682116508484,0.02295638434588909,0.4451596736907959,-0.192389115691185,-0.1559455245733261,0.41015011072158813,0.19595476984977722,0.03546508029103279,0.25964078307151794,0.08759361505508423,0.07880549877882004,-0.4500708281993866,-0.3433055579662323,0.5502521395683289],[-0.24052734673023224,-0.769720733165741,1.0339487791061401,-0.15243718028068542,0.15772190690040588,0.11754205077886581,-0.3649624288082123,0.3943665623664856,0.05643736198544502,-0.5684691667556763,0.22369356453418732,0.5527081489562988,-0.3189990222454071,0.5494991540908813,-0.03794540464878082,0.37928667664527893],[0.07096908986568451,-0.0028037012089043856,0.08595242351293564,-0.36202678084373474,0.26474329829216003,0.6124073266983032,-0.9526346325874329,-0.06949643790721893,0.8207892775535583,0.11469800770282745,0.7408636808395386,0.06891393661499023,0.07252617925405502,0.18076708912849426,-0.052530426532030106,0.46184268593788147],[0.042647864669561386,-0.46104010939598083,-0.8867325186729431,-1.003401756286621,-0.03497413918375969,0.24212034046649933,-0.015433973632752895,-0.22429592907428741,-0.48491916060447693,3.1958024501800537,-0.3238390386104584,0.08134962618350983,0.5454795956611633,-0.03530021384358406,0.011643665842711926,0.6454133987426758],[0.08828303962945938,0.2508352994918823,0.017661839723587036,-0.09608786553144455,0.08608275651931763,0.7929103970527649,0.19109883904457092,-0.12800189852714539,0.10717401653528214,2.388183832168579,0.2568448483943939,0.07560509443283081,0.30028674006462097,10.234174728393555,3.08418345451355,0.9079321026802063],[1.834885597229004,0.3251973092556,0.047788675874471664,-0.2595520317554474,-0.09492283314466476,0.5336378216743469,-4.944108486175537,0.23737092316150665,0.6745216846466064,0.49288368225097656,-0.05343259125947952,0.18353044986724854,0.6996554136276245,0.1252264529466629,0.29998311400413513,0.9423648118972778],[1.873576045036316,0.23433494567871094,1.371970772743225,0.5671999454498291,0.29361483454704285,0.42270395159721375,-0.014071139506995678,1.7869189977645874,4.179774284362793,0.6509872078895569,1.8047150373458862,1.042018175125122,0.30037617683410645,0.21211805939674377,0.19538091123104095,0.04624107480049133],[0.32535725831985474,0.12680989503860474,1.0177112817764282,0.7032332420349121,-1.6513842344284058,0.24197888374328613,2.4571495056152344,0.13654184341430664,-1.8851028680801392,0.2255546599626541,0.3365476131439209,-0.7040433883666992,0.35529473423957825,0.5153189301490784,0.7063533067703247,0.7338215112686157],[0.0711745023727417,-0.530173122882843,2.972700357437134,6.292451858520508,2.4577884674072266,0.33492279052734375,7.725987434387207,0.39417004585266113,0.4227641224861145,5.369070529937744,0.18761678040027618,-0.06279336661100388,1.262813925743103,0.0171351321041584,0.25449514389038086,0.2551722228527069],[0.2245178520679474,0.9742993712425232,0.20648053288459778,0.5865335464477539,0.8565449118614197,1.1182054281234741,0.30941811203956604,1.2455549240112305,0.35813960433006287,0.3592675030231476,0.5693108439445496,0.4603215157985687,1.2835440635681152,0.9212266206741333,0.3475925326347351,0.4955015778541565],[-0.15409636497497559,0.45739027857780457,0.3347477912902832,-0.017845898866653442,-0.16415713727474213,0.1517937034368515,7.216859340667725,-3.560333013534546,0.21463166177272797,3.614508867263794,0.2462828904390335,0.16118985414505005,0.04675835371017456,0.1278044730424881,0.05012808367609978,-0.16473256051540375],[0.7473368048667908,0.45453405380249023,0.7080066204071045,0.9389958381652832,1.0901426076889038,0.7693870067596436,3.1160218715667725,1.7361398935317993,1.2671072483062744,2.571101665496826,1.4963456392288208,0.7388325929641724,0.9334481358528137,1.1126965284347534,0.870567262172699,0.37551817297935486],[0.006782555487006903,7.420602321624756,6.042664051055908,1.8881396055221558,0.8318018317222595,0.6254966259002686,0.6123205423355103,-0.4610883891582489,-0.12593428790569305,-0.19293460249900818,0.8916605114936829,0.1923733651638031,3.410693883895874,-0.304297536611557,0.48076167702674866,-0.25968363881111145],[1.8488937616348267,6.450599670410156,0.8312980532646179,0.5262566804885864,1.2802571058273315,2.927173137664795,7.087426662445068,0.35077914595603943,53.133094787597656,0.9373193979263306,-2.368924617767334,3.952948808670044,4.233724117279053,11.85765552520752,1.1842120885849,0.3751799166202545]],\"type\":\"heatmap\",\"xaxis\":\"x2\",\"yaxis\":\"y2\",\"hovertemplate\":\"Head: %{x}\\u003cbr\\u003eLayer: %{y}\\u003cbr\\u003eLogit Contribution: %{z}\\u003cextra\\u003e\\u003c\\u002fextra\\u003e\"},{\"coloraxis\":\"coloraxis\",\"name\":\"2\",\"z\":[[1.2178937196731567,-1.2938412427902222,0.9274215698242188,0.6221937537193298,1.24254310131073,-1.4205322265625,0.2417113333940506,-0.22097769379615784,1.8606046438217163,0.2994673252105713,-0.12124931812286377,-0.1405915468931198,-0.7237438559532166,0.4148532450199127,0.23651280999183655,0.5971693396568298],[-0.15897519886493683,0.06364475935697556,-0.48502349853515625,0.25739970803260803,-0.3080365061759949,-2.311850070953369,0.28727850317955017,-0.19532302021980286,0.19208621978759766,0.17848601937294006,-0.17648550868034363,2.0534462928771973,-0.555337131023407,0.16308711469173431,0.1750127375125885,-0.0788731575012207],[0.29107052087783813,-0.04003655165433884,-0.5444335341453552,-0.4125421941280365,-0.25310319662094116,-2.6452035903930664,-0.6043636202812195,-0.6573736071586609,0.2544565498828888,0.1774057298898697,-0.7174866795539856,0.2691349685192108,-0.2428516447544098,-1.0112619400024414,-0.07099425792694092,0.18363814055919647],[-0.027288049459457397,-4.973394870758057,0.5277605652809143,-9.565659523010254,0.10478974878787994,-0.10833790153265,-0.019161347299814224,-4.606411933898926,0.04723738506436348,0.05614745244383812,-2.153609037399292,0.6257595419883728,-0.7226345539093018,-0.15227511525154114,-0.9870877265930176,-0.0766521617770195],[-0.12283439934253693,-0.02480739913880825,0.43734246492385864,0.3583020865917206,0.1592535376548767,-0.013745150528848171,0.0516316182911396,-0.1369830220937729,0.12400063127279282,0.193614661693573,0.671388566493988,0.1828661412000656,-0.1166854277253151,-0.5877677202224731,-0.030565911903977394,0.9677843451499939],[0.02326725423336029,0.2693653404712677,1.0408930778503418,1.6096521615982056,0.5674253702163696,0.4348946213722229,0.156490296125412,0.09308721125125885,0.3976278603076935,0.33389002084732056,0.6012173891067505,0.43406572937965393,0.5840138792991638,0.10995256900787354,0.25500866770744324,0.6718106865882874],[0.383646696805954,0.4650540351867676,0.36731454730033875,0.16892199218273163,0.04883202910423279,0.4221231937408447,0.5969594717025757,1.0014971494674683,0.463857501745224,0.04115181788802147,0.12732355296611786,0.7771930694580078,1.134024977684021,-0.23275712132453918,0.8051662445068359,-0.051063161343336105],[0.34439417719841003,0.22865717113018036,0.651046633720398,0.0797652006149292,-0.1814213991165161,0.023168763145804405,0.18674270808696747,0.655358076095581,0.13375651836395264,0.176189586520195,-0.11366673558950424,0.987072765827179,0.511581540107727,0.6128039360046387,2.8570146560668945,0.019836118444800377],[0.7876362800598145,0.31181618571281433,1.8447927236557007,1.0587607622146606,-1.650943636894226,0.934634804725647,-3.723721742630005,0.4692881107330322,-1.820328712463379,0.11313968151807785,-0.7657250165939331,0.4089905917644501,-0.3883835971355438,0.1956454962491989,1.5424728393554688,-0.08922410756349564],[0.7085587382316589,-0.23132911324501038,0.12886393070220947,0.23904843628406525,-0.25637906789779663,0.4614757001399994,1.0204440355300903,0.3469311594963074,-0.04718928039073944,-0.05173642560839653,0.459184855222702,-0.31205371022224426,0.10056240856647491,0.06785300374031067,-0.6038567423820496,-0.16864758729934692],[0.2395765632390976,-0.3078943192958832,-0.0634680688381195,0.22424952685832977,1.007447600364685,-0.6327329277992249,-0.17274126410484314,0.31883832812309265,0.3544619083404541,0.02203940600156784,0.4141990840435028,0.25356876850128174,-0.24274301528930664,-0.4146161675453186,-0.40667077898979187,0.8490626215934753],[-0.3308764398097992,-0.5066630840301514,-2.1824634075164795,0.02972075343132019,0.5722715258598328,0.1118667870759964,-0.005166483111679554,0.3801288306713104,0.5161850452423096,-0.9442974328994751,-0.3364376127719879,0.46855708956718445,-0.417149156332016,1.1638566255569458,0.16460953652858734,0.3735380172729492],[0.32594749331474304,0.100394606590271,0.14515314996242523,-0.4078128933906555,0.3747323155403137,0.7823654413223267,-0.9416069984436035,0.23536328971385956,0.1919633448123932,-0.32589542865753174,-0.10847138613462448,0.19093313813209534,0.18032662570476532,0.05438852310180664,0.3217848241329193,0.24156735837459564],[0.3524855077266693,-0.7049132585525513,-0.8016449213027954,-1.1212022304534912,0.2526158392429352,-0.062199126929044724,0.24040274322032928,0.7167768478393555,-0.4388793408870697,-0.37190380692481995,0.344106525182724,-0.06439834088087082,0.2698473632335663,-0.1203429251909256,-0.0760076567530632,0.33954939246177673],[-0.09590530395507812,0.5252182483673096,0.3424346148967743,0.1892024129629135,0.2736686170101166,0.31015416979789734,0.10141655057668686,-0.18900516629219055,0.32614707946777344,0.22355662286281586,0.1613636463880539,-0.7157880663871765,0.33954864740371704,-0.9572029113769531,-0.3098141849040985,0.7169720530509949],[0.4450831413269043,-3.5398690700531006,0.298514723777771,0.03951365500688553,-0.21510985493659973,0.6243007183074951,-0.04722985252737999,0.18214666843414307,0.2339417189359665,1.165959119796753,-0.3150034248828888,-1.7991771697998047,0.559042751789093,0.3243221044540405,0.39618968963623047,1.3185981512069702],[0.4656171500682831,0.19754348695278168,0.2583860456943512,0.7971353530883789,0.32575222849845886,0.1861821860074997,0.022405782714486122,0.22815291583538055,3.005841016769409,0.8533807992935181,0.21620063483715057,1.8944215774536133,0.19942419230937958,0.1277293711900711,0.34672364592552185,0.0390283577144146],[0.35391345620155334,0.16208596527576447,0.32300207018852234,0.16540271043777466,-3.0497734546661377,0.8758289217948914,3.323260545730591,0.6518217325210571,1.3251146078109741,0.2679527699947357,0.5455164909362793,-0.10094615072011948,0.8148724436759949,0.631645679473877,0.7676967978477478,0.4647112488746643],[-0.02561202086508274,-0.01531443651765585,4.996366500854492,5.725602626800537,-0.08318541198968887,0.04906163737177849,2.6428232192993164,0.18565379083156586,0.41509634256362915,0.48753100633621216,0.19238369166851044,0.013195276260375977,2.3509790897369385,0.011729136109352112,0.2740975320339203,0.24430643022060394],[0.19262371957302094,0.861187756061554,0.48638206720352173,0.8046373724937439,1.1486314535140991,1.3213837146759033,0.6932522654533386,1.132689118385315,0.46895861625671387,0.3026154935359955,2.682072877883911,0.4312058091163635,0.5439856648445129,1.325283408164978,0.2678774297237396,1.0614866018295288],[-0.11454339325428009,0.17037014663219452,0.5054795742034912,0.12587301433086395,0.11656530201435089,0.4600374400615692,0.6234388947486877,1.2012404203414917,0.2606522738933563,0.6983159780502319,0.3581329584121704,0.18547634780406952,0.6291666626930237,0.201585054397583,0.20067130029201508,-0.1577150970697403],[0.5766512155532837,0.5866689085960388,0.8923754096031189,1.1191664934158325,1.3196216821670532,1.1656097173690796,2.4242451190948486,2.0512454509735107,1.8280810117721558,2.474024534225464,1.3553029298782349,1.0256505012512207,1.2016514539718628,1.535476803779602,0.8756181597709656,0.4103652536869049],[-0.009358244948089123,2.4617667198181152,0.3603266179561615,1.4566161632537842,-0.21441510319709778,0.01689719222486019,-0.0036603957414627075,-0.37870994210243225,-0.1366497129201889,-0.024094482883810997,0.04751335084438324,0.5560590624809265,5.930464267730713,-0.03256480395793915,0.8767512440681458,-0.2923642098903656],[1.5437610149383545,1.5288517475128174,0.8971378207206726,0.5050200819969177,1.6437410116195679,2.7665419578552246,3.9879205226898193,0.3094501197338104,47.918251037597656,0.28122377395629883,-1.7238472700119019,3.1391406059265137,2.6956684589385986,13.851892471313477,1.6675289869308472,0.6406781077384949]],\"type\":\"heatmap\",\"xaxis\":\"x3\",\"yaxis\":\"y3\",\"hovertemplate\":\"Head: %{x}\\u003cbr\\u003eLayer: %{y}\\u003cbr\\u003eLogit Contribution: %{z}\\u003cextra\\u003e\\u003c\\u002fextra\\u003e\"}],                        {\"template\":{\"data\":{\"histogram2dcontour\":[{\"type\":\"histogram2dcontour\",\"colorbar\":{\"outlinewidth\":0,\"ticks\":\"\"},\"colorscale\":[[0.0,\"#0d0887\"],[0.1111111111111111,\"#46039f\"],[0.2222222222222222,\"#7201a8\"],[0.3333333333333333,\"#9c179e\"],[0.4444444444444444,\"#bd3786\"],[0.5555555555555556,\"#d8576b\"],[0.6666666666666666,\"#ed7953\"],[0.7777777777777778,\"#fb9f3a\"],[0.8888888888888888,\"#fdca26\"],[1.0,\"#f0f921\"]]}],\"choropleth\":[{\"type\":\"choropleth\",\"colorbar\":{\"outlinewidth\":0,\"ticks\":\"\"}}],\"histogram2d\":[{\"type\":\"histogram2d\",\"colorbar\":{\"outlinewidth\":0,\"ticks\":\"\"},\"colorscale\":[[0.0,\"#0d0887\"],[0.1111111111111111,\"#46039f\"],[0.2222222222222222,\"#7201a8\"],[0.3333333333333333,\"#9c179e\"],[0.4444444444444444,\"#bd3786\"],[0.5555555555555556,\"#d8576b\"],[0.6666666666666666,\"#ed7953\"],[0.7777777777777778,\"#fb9f3a\"],[0.8888888888888888,\"#fdca26\"],[1.0,\"#f0f921\"]]}],\"heatmap\":[{\"type\":\"heatmap\",\"colorbar\":{\"outlinewidth\":0,\"ticks\":\"\"},\"colorscale\":[[0.0,\"#0d0887\"],[0.1111111111111111,\"#46039f\"],[0.2222222222222222,\"#7201a8\"],[0.3333333333333333,\"#9c179e\"],[0.4444444444444444,\"#bd3786\"],[0.5555555555555556,\"#d8576b\"],[0.6666666666666666,\"#ed7953\"],[0.7777777777777778,\"#fb9f3a\"],[0.8888888888888888,\"#fdca26\"],[1.0,\"#f0f921\"]]}],\"heatmapgl\":[{\"type\":\"heatmapgl\",\"colorbar\":{\"outlinewidth\":0,\"ticks\":\"\"},\"colorscale\":[[0.0,\"#0d0887\"],[0.1111111111111111,\"#46039f\"],[0.2222222222222222,\"#7201a8\"],[0.3333333333333333,\"#9c179e\"],[0.4444444444444444,\"#bd3786\"],[0.5555555555555556,\"#d8576b\"],[0.6666666666666666,\"#ed7953\"],[0.7777777777777778,\"#fb9f3a\"],[0.8888888888888888,\"#fdca26\"],[1.0,\"#f0f921\"]]}],\"contourcarpet\":[{\"type\":\"contourcarpet\",\"colorbar\":{\"outlinewidth\":0,\"ticks\":\"\"}}],\"contour\":[{\"type\":\"contour\",\"colorbar\":{\"outlinewidth\":0,\"ticks\":\"\"},\"colorscale\":[[0.0,\"#0d0887\"],[0.1111111111111111,\"#46039f\"],[0.2222222222222222,\"#7201a8\"],[0.3333333333333333,\"#9c179e\"],[0.4444444444444444,\"#bd3786\"],[0.5555555555555556,\"#d8576b\"],[0.6666666666666666,\"#ed7953\"],[0.7777777777777778,\"#fb9f3a\"],[0.8888888888888888,\"#fdca26\"],[1.0,\"#f0f921\"]]}],\"surface\":[{\"type\":\"surface\",\"colorbar\":{\"outlinewidth\":0,\"ticks\":\"\"},\"colorscale\":[[0.0,\"#0d0887\"],[0.1111111111111111,\"#46039f\"],[0.2222222222222222,\"#7201a8\"],[0.3333333333333333,\"#9c179e\"],[0.4444444444444444,\"#bd3786\"],[0.5555555555555556,\"#d8576b\"],[0.6666666666666666,\"#ed7953\"],[0.7777777777777778,\"#fb9f3a\"],[0.8888888888888888,\"#fdca26\"],[1.0,\"#f0f921\"]]}],\"mesh3d\":[{\"type\":\"mesh3d\",\"colorbar\":{\"outlinewidth\":0,\"ticks\":\"\"}}],\"scatter\":[{\"fillpattern\":{\"fillmode\":\"overlay\",\"size\":10,\"solidity\":0.2},\"type\":\"scatter\"}],\"parcoords\":[{\"type\":\"parcoords\",\"line\":{\"colorbar\":{\"outlinewidth\":0,\"ticks\":\"\"}}}],\"scatterpolargl\":[{\"type\":\"scatterpolargl\",\"marker\":{\"colorbar\":{\"outlinewidth\":0,\"ticks\":\"\"}}}],\"bar\":[{\"error_x\":{\"color\":\"#2a3f5f\"},\"error_y\":{\"color\":\"#2a3f5f\"},\"marker\":{\"line\":{\"color\":\"#E5ECF6\",\"width\":0.5},\"pattern\":{\"fillmode\":\"overlay\",\"size\":10,\"solidity\":0.2}},\"type\":\"bar\"}],\"scattergeo\":[{\"type\":\"scattergeo\",\"marker\":{\"colorbar\":{\"outlinewidth\":0,\"ticks\":\"\"}}}],\"scatterpolar\":[{\"type\":\"scatterpolar\",\"marker\":{\"colorbar\":{\"outlinewidth\":0,\"ticks\":\"\"}}}],\"histogram\":[{\"marker\":{\"pattern\":{\"fillmode\":\"overlay\",\"size\":10,\"solidity\":0.2}},\"type\":\"histogram\"}],\"scattergl\":[{\"type\":\"scattergl\",\"marker\":{\"colorbar\":{\"outlinewidth\":0,\"ticks\":\"\"}}}],\"scatter3d\":[{\"type\":\"scatter3d\",\"line\":{\"colorbar\":{\"outlinewidth\":0,\"ticks\":\"\"}},\"marker\":{\"colorbar\":{\"outlinewidth\":0,\"ticks\":\"\"}}}],\"scattermapbox\":[{\"type\":\"scattermapbox\",\"marker\":{\"colorbar\":{\"outlinewidth\":0,\"ticks\":\"\"}}}],\"scatterternary\":[{\"type\":\"scatterternary\",\"marker\":{\"colorbar\":{\"outlinewidth\":0,\"ticks\":\"\"}}}],\"scattercarpet\":[{\"type\":\"scattercarpet\",\"marker\":{\"colorbar\":{\"outlinewidth\":0,\"ticks\":\"\"}}}],\"carpet\":[{\"aaxis\":{\"endlinecolor\":\"#2a3f5f\",\"gridcolor\":\"white\",\"linecolor\":\"white\",\"minorgridcolor\":\"white\",\"startlinecolor\":\"#2a3f5f\"},\"baxis\":{\"endlinecolor\":\"#2a3f5f\",\"gridcolor\":\"white\",\"linecolor\":\"white\",\"minorgridcolor\":\"white\",\"startlinecolor\":\"#2a3f5f\"},\"type\":\"carpet\"}],\"table\":[{\"cells\":{\"fill\":{\"color\":\"#EBF0F8\"},\"line\":{\"color\":\"white\"}},\"header\":{\"fill\":{\"color\":\"#C8D4E3\"},\"line\":{\"color\":\"white\"}},\"type\":\"table\"}],\"barpolar\":[{\"marker\":{\"line\":{\"color\":\"#E5ECF6\",\"width\":0.5},\"pattern\":{\"fillmode\":\"overlay\",\"size\":10,\"solidity\":0.2}},\"type\":\"barpolar\"}],\"pie\":[{\"automargin\":true,\"type\":\"pie\"}]},\"layout\":{\"autotypenumbers\":\"strict\",\"colorway\":[\"#636efa\",\"#EF553B\",\"#00cc96\",\"#ab63fa\",\"#FFA15A\",\"#19d3f3\",\"#FF6692\",\"#B6E880\",\"#FF97FF\",\"#FECB52\"],\"font\":{\"color\":\"#2a3f5f\"},\"hovermode\":\"closest\",\"hoverlabel\":{\"align\":\"left\"},\"paper_bgcolor\":\"white\",\"plot_bgcolor\":\"#E5ECF6\",\"polar\":{\"bgcolor\":\"#E5ECF6\",\"angularaxis\":{\"gridcolor\":\"white\",\"linecolor\":\"white\",\"ticks\":\"\"},\"radialaxis\":{\"gridcolor\":\"white\",\"linecolor\":\"white\",\"ticks\":\"\"}},\"ternary\":{\"bgcolor\":\"#E5ECF6\",\"aaxis\":{\"gridcolor\":\"white\",\"linecolor\":\"white\",\"ticks\":\"\"},\"baxis\":{\"gridcolor\":\"white\",\"linecolor\":\"white\",\"ticks\":\"\"},\"caxis\":{\"gridcolor\":\"white\",\"linecolor\":\"white\",\"ticks\":\"\"}},\"coloraxis\":{\"colorbar\":{\"outlinewidth\":0,\"ticks\":\"\"}},\"colorscale\":{\"sequential\":[[0.0,\"#0d0887\"],[0.1111111111111111,\"#46039f\"],[0.2222222222222222,\"#7201a8\"],[0.3333333333333333,\"#9c179e\"],[0.4444444444444444,\"#bd3786\"],[0.5555555555555556,\"#d8576b\"],[0.6666666666666666,\"#ed7953\"],[0.7777777777777778,\"#fb9f3a\"],[0.8888888888888888,\"#fdca26\"],[1.0,\"#f0f921\"]],\"sequentialminus\":[[0.0,\"#0d0887\"],[0.1111111111111111,\"#46039f\"],[0.2222222222222222,\"#7201a8\"],[0.3333333333333333,\"#9c179e\"],[0.4444444444444444,\"#bd3786\"],[0.5555555555555556,\"#d8576b\"],[0.6666666666666666,\"#ed7953\"],[0.7777777777777778,\"#fb9f3a\"],[0.8888888888888888,\"#fdca26\"],[1.0,\"#f0f921\"]],\"diverging\":[[0,\"#8e0152\"],[0.1,\"#c51b7d\"],[0.2,\"#de77ae\"],[0.3,\"#f1b6da\"],[0.4,\"#fde0ef\"],[0.5,\"#f7f7f7\"],[0.6,\"#e6f5d0\"],[0.7,\"#b8e186\"],[0.8,\"#7fbc41\"],[0.9,\"#4d9221\"],[1,\"#276419\"]]},\"xaxis\":{\"gridcolor\":\"white\",\"linecolor\":\"white\",\"ticks\":\"\",\"title\":{\"standoff\":15},\"zerolinecolor\":\"white\",\"automargin\":true,\"zerolinewidth\":2},\"yaxis\":{\"gridcolor\":\"white\",\"linecolor\":\"white\",\"ticks\":\"\",\"title\":{\"standoff\":15},\"zerolinecolor\":\"white\",\"automargin\":true,\"zerolinewidth\":2},\"scene\":{\"xaxis\":{\"backgroundcolor\":\"#E5ECF6\",\"gridcolor\":\"white\",\"linecolor\":\"white\",\"showbackground\":true,\"ticks\":\"\",\"zerolinecolor\":\"white\",\"gridwidth\":2},\"yaxis\":{\"backgroundcolor\":\"#E5ECF6\",\"gridcolor\":\"white\",\"linecolor\":\"white\",\"showbackground\":true,\"ticks\":\"\",\"zerolinecolor\":\"white\",\"gridwidth\":2},\"zaxis\":{\"backgroundcolor\":\"#E5ECF6\",\"gridcolor\":\"white\",\"linecolor\":\"white\",\"showbackground\":true,\"ticks\":\"\",\"zerolinecolor\":\"white\",\"gridwidth\":2}},\"shapedefaults\":{\"line\":{\"color\":\"#2a3f5f\"}},\"annotationdefaults\":{\"arrowcolor\":\"#2a3f5f\",\"arrowhead\":0,\"arrowwidth\":1},\"geo\":{\"bgcolor\":\"white\",\"landcolor\":\"#E5ECF6\",\"subunitcolor\":\"white\",\"showland\":true,\"showlakes\":true,\"lakecolor\":\"white\"},\"title\":{\"x\":0.05},\"mapbox\":{\"style\":\"light\"}}},\"xaxis\":{\"anchor\":\"y\",\"domain\":[0.0,0.31999999999999995],\"scaleanchor\":\"y\",\"constrain\":\"domain\",\"title\":{\"text\":\"Head\"},\"showline\":true,\"linewidth\":1,\"linecolor\":\"black\",\"mirror\":true},\"yaxis\":{\"anchor\":\"x\",\"domain\":[0.0,1.0],\"autorange\":\"reversed\",\"constrain\":\"domain\",\"title\":{\"text\":\"Layer\"},\"showline\":true,\"linewidth\":1,\"linecolor\":\"black\",\"mirror\":true},\"xaxis2\":{\"anchor\":\"y2\",\"domain\":[0.33999999999999997,0.6599999999999999],\"matches\":\"x\",\"title\":{\"text\":\"Head\"},\"showline\":true,\"linewidth\":1,\"linecolor\":\"black\",\"mirror\":true},\"yaxis2\":{\"anchor\":\"x2\",\"domain\":[0.0,1.0],\"matches\":\"y\",\"showticklabels\":false,\"showline\":true,\"linewidth\":1,\"linecolor\":\"black\",\"mirror\":true},\"xaxis3\":{\"anchor\":\"y3\",\"domain\":[0.6799999999999999,0.9999999999999999],\"matches\":\"x\",\"title\":{\"text\":\"Head\"},\"showline\":true,\"linewidth\":1,\"linecolor\":\"black\",\"mirror\":true},\"yaxis3\":{\"anchor\":\"x3\",\"domain\":[0.0,1.0],\"matches\":\"y\",\"showticklabels\":false,\"showline\":true,\"linewidth\":1,\"linecolor\":\"black\",\"mirror\":true},\"annotations\":[{\"font\":{},\"showarrow\":false,\"text\":\"Logit Diff - 4.89\",\"x\":0.15999999999999998,\"xanchor\":\"center\",\"xref\":\"paper\",\"y\":1.0,\"yanchor\":\"bottom\",\"yref\":\"paper\"},{\"font\":{},\"showarrow\":false,\"text\":\"Correct Direction\",\"x\":0.49999999999999994,\"xanchor\":\"center\",\"xref\":\"paper\",\"y\":1.0,\"yanchor\":\"bottom\",\"yref\":\"paper\"},{\"font\":{},\"showarrow\":false,\"text\":\"Incorrect Direction\",\"x\":0.8399999999999999,\"xanchor\":\"center\",\"xref\":\"paper\",\"y\":1.0,\"yanchor\":\"bottom\",\"yref\":\"paper\"}],\"coloraxis\":{\"colorbar\":{\"title\":{\"text\":\"Logit Contribution\"}},\"colorscale\":[[0.0,\"rgb(103,0,31)\"],[0.1,\"rgb(178,24,43)\"],[0.2,\"rgb(214,96,77)\"],[0.3,\"rgb(244,165,130)\"],[0.4,\"rgb(253,219,199)\"],[0.5,\"rgb(247,247,247)\"],[0.6,\"rgb(209,229,240)\"],[0.7,\"rgb(146,197,222)\"],[0.8,\"rgb(67,147,195)\"],[0.9,\"rgb(33,102,172)\"],[1.0,\"rgb(5,48,97)\"]],\"cmid\":0.0},\"title\":{\"text\":\"Logit Contributions on Clean Dataset\"},\"width\":1500,\"margin\":{\"r\":100,\"l\":100}},                        {\"responsive\": true}                    ).then(function(){\n",
       "                            \n",
       "var gd = document.getElementById('6d657380-9b42-489b-b300-1d2d1105541c');\n",
       "var x = new MutationObserver(function (mutations, observer) {{\n",
       "        var display = window.getComputedStyle(gd).display;\n",
       "        if (!display || display === 'none') {{\n",
       "            console.log([gd, 'removed!']);\n",
       "            Plotly.purge(gd);\n",
       "            observer.disconnect();\n",
       "        }}\n",
       "}});\n",
       "\n",
       "// Listen for the removal of the full notebook cells\n",
       "var notebookContainer = gd.closest('#notebook-container');\n",
       "if (notebookContainer) {{\n",
       "    x.observe(notebookContainer, {childList: true});\n",
       "}}\n",
       "\n",
       "// Listen for the clearing of the current output cell\n",
       "var outputEl = gd.closest('.output');\n",
       "if (outputEl) {{\n",
       "    x.observe(outputEl, {childList: true});\n",
       "}}\n",
       "\n",
       "                        })                };                });            </script>        </div>"
      ]
     },
     "metadata": {},
     "output_type": "display_data"
    }
   ],
   "source": [
    "def display_all_logits(cache, title = \"Logit Contributions\", comparison = False, return_fig = False, logits = None):\n",
    "\n",
    "  a,b,c = calc_all_logit_diffs(cache)\n",
    "  if logits is not None:\n",
    "    ld = logits_to_ave_logit_diff(logits)\n",
    "  else:\n",
    "    ld = 0.00\n",
    "\n",
    "  if not comparison:\n",
    "    fig = imshow(\n",
    "        torch.stack([a,b,c]),\n",
    "        return_fig = True,\n",
    "        facet_col = 0,\n",
    "        facet_labels = [f\"Logit Diff - {ld:.2f}\", \"Correct Direction\", \"Incorrect Direction\"],\n",
    "        title=title,\n",
    "        labels={\"x\": \"Head\", \"y\": \"Layer\", \"color\": \"Logit Contribution\"},\n",
    "        #coloraxis=dict(colorbar_ticksuffix = \"%\"),\n",
    "        border=True,\n",
    "        width=1500,\n",
    "        margin={\"r\": 100, \"l\": 100}\n",
    "    )\n",
    "  else:\n",
    "\n",
    "    ca, cb, cc = calc_all_logit_diffs(clean_cache)\n",
    "    fig = imshow(\n",
    "        torch.stack([a, b, c, a - ca, b - cb, c - cc]),\n",
    "        return_fig = True,\n",
    "        facet_col = 0,\n",
    "        facet_labels = [f\"Logit Diff - {ld:.2f}\", \"Correct Direction\", \"Incorrect Direction\", \"Logit Diff Diff\", \"Correction Direction Diff\", \"Incorrect Direction Diff\"],\n",
    "        title=title,\n",
    "        labels={\"x\": \"Head\", \"y\": \"Layer\", \"color\": \"Logit Contribution\"},\n",
    "        #coloraxis=dict(colorbar_ticksuffix = \"%\"),\n",
    "        border=True,\n",
    "        width=1500,\n",
    "        margin={\"r\": 100, \"l\": 100}\n",
    "    )\n",
    "\n",
    "\n",
    "  if return_fig:\n",
    "    return fig\n",
    "\n",
    "\n",
    "\n",
    "fig = display_all_logits(clean_cache, title = \"Logit Contributions on Clean Dataset\", return_fig = True, logits = clean_logits)"
   ]
  },
  {
   "cell_type": "code",
   "execution_count": 76,
   "metadata": {},
   "outputs": [],
   "source": [
    "def stare_at_attention_and_head_pat(cache, layer_to_stare_at, head_to_isolate, display_corrupted_text = False, verbose = True, specific = False, specific_index = 0):\n",
    "  \"\"\"\n",
    "  given a cache from a run, displays the attention patterns of a layer, as well as printing out how much the model\n",
    "  attends to the S1, S2, and IO token\n",
    "  \"\"\"\n",
    "\n",
    "  tokenized_str_tokens = model.to_str_tokens(corrupted_tokens[0]) if display_corrupted_text else model.to_str_tokens(clean_tokens[0])\n",
    "  attention_patten = cache[\"pattern\", layer_to_stare_at]\n",
    "  print(f\"Layer {layer_to_stare_at} Head {head_to_isolate} Activation Patterns:\")\n",
    "\n",
    "\n",
    "  if not specific:\n",
    "    S1 = attention_patten.mean(0)[head_to_isolate][-1][2].item()\n",
    "    IO = attention_patten.mean(0)[head_to_isolate][-1][4].item()\n",
    "    S2 = attention_patten.mean(0)[head_to_isolate][-1][10].item()\n",
    "  else:\n",
    "    S1 = attention_patten[specific_index, head_to_isolate][-1][2].item()\n",
    "    IO = attention_patten[specific_index, head_to_isolate][-1][4].item()\n",
    "    S2 = attention_patten[specific_index, head_to_isolate][-1][10].item()\n",
    "\n",
    "\n",
    "  print(\"Attention on S1: \" + str(S1))\n",
    "  print(\"Attention on IO: \" + str(IO))\n",
    "  print(\"Attention on S2: \" + str(S2))\n",
    "  print(\"S1 + IO - S2 = \" + str(S1 + IO - S2))\n",
    "  print(\"S1 + S2 - IO = \" + str(S1 + S2 - IO))\n",
    "  print(\"S1 - IO - S2 = \" + str(S1 - S2 - IO))\n",
    "\n",
    "\n",
    "  if verbose:\n",
    "    display(cv.attention.attention_heads(\n",
    "      tokens=tokenized_str_tokens,\n",
    "      attention= attention_patten.mean(0) if not specific else attention_patten[specific_index],\n",
    "      #attention_head_names=[f\"L{layer_to_stare_at}H{i}\" for i in range(model.cfg.n_heads)],\n",
    "    ))\n",
    "  else:\n",
    "    print(attention_patten.mean(0).shape)\n",
    "\n",
    "    display(cv.attention.attention_patterns(\n",
    "      tokens=tokenized_str_tokens,\n",
    "      attention=attention_patten.mean(0)if not specific else attention_patten[specific_index],\n",
    "      attention_head_names=[f\"L{layer_to_stare_at} H{i}\" for i in range(model.cfg.n_heads)],\n",
    "    ))"
   ]
  },
  {
   "cell_type": "code",
   "execution_count": 44,
   "metadata": {},
   "outputs": [],
   "source": [
    "def display_corrupted_clean_logits(cache, title = \"Logit Contributions\", comparison = False, return_fig = False, logits = None):\n",
    "\n",
    "  a,b,c = calc_all_logit_diffs(cache)\n",
    "  if logits is not None:\n",
    "    ld = logits_to_ave_logit_diff(logits)\n",
    "  else:\n",
    "    ld = 0.00\n",
    "\n",
    "  if not comparison:\n",
    "    fig = imshow(\n",
    "        torch.stack([a]),\n",
    "        return_fig = True,\n",
    "        facet_col = 0,\n",
    "        facet_labels = [f\"Logit Diff - {ld:.2f}\"],\n",
    "        title=title,\n",
    "        labels={\"x\": \"Head\", \"y\": \"Layer\", \"color\": \"Logit Contribution\"},\n",
    "        #coloraxis=dict(colorbar_ticksuffix = \"%\"),\n",
    "        border=True,\n",
    "        width=1500,\n",
    "        margin={\"r\": 100, \"l\": 100}\n",
    "    )\n",
    "  else:\n",
    "\n",
    "    ca, cb, cc = calc_all_logit_diffs(clean_cache)\n",
    "    fig = imshow(\n",
    "        torch.stack([a, a - ca]),\n",
    "        return_fig = True,\n",
    "        facet_col = 0,\n",
    "        facet_labels = [f\"New Logit Diff - {ld:.2f}\", \"New Logit Diff - Clean Logit Diff\",],\n",
    "        title=title,\n",
    "        labels={\"x\": \"Head\", \"y\": \"Layer\", \"color\": \"Logit Contribution\"},\n",
    "        #coloraxis=dict(colorbar_ticksuffix = \"%\"),\n",
    "        border=True,\n",
    "        width=1000,\n",
    "        margin={\"r\": 100, \"l\": 100}\n",
    "    )\n",
    "\n",
    "\n",
    "  if return_fig:\n",
    "    return fig\n"
   ]
  },
  {
   "cell_type": "code",
   "execution_count": 77,
   "metadata": {},
   "outputs": [
    {
     "name": "stdout",
     "output_type": "stream",
     "text": [
      "Tried to stack head results when they weren't cached. Computing head results now\n"
     ]
    },
    {
     "data": {
      "application/vnd.plotly.v1+json": {
       "config": {
        "plotlyServerURL": "https://plot.ly"
       },
       "data": [
        {
         "coloraxis": "coloraxis",
         "hovertemplate": "Head: %{x}<br>Layer: %{y}<br>Logit Contribution: %{z}<extra></extra>",
         "name": "0",
         "type": "heatmap",
         "xaxis": "x",
         "yaxis": "y",
         "z": [
          [
           -0.1145087406039238,
           0.5667784810066223,
           -0.538989782333374,
           -0.3613179624080658,
           -0.3012672960758209,
           0.7992265820503235,
           -0.5383342504501343,
           0.02761051617562771,
           -1.0101665258407593,
           -0.17828719317913055,
           0.9894011616706848,
           -0.19632075726985931,
           0.37099361419677734,
           -0.014707083813846111,
           0.054913606494665146,
           -0.18442541360855103
          ],
          [
           0.14973321557044983,
           -0.29291942715644836,
           0.12666454911231995,
           -0.010810608975589275,
           0.334591805934906,
           0.7311654686927795,
           0.4493961036205292,
           0.41103336215019226,
           -0.14409124851226807,
           0.5870444178581238,
           -0.17557433247566223,
           -0.7872776389122009,
           0.18162000179290771,
           -0.02943297289311886,
           -0.3703528940677643,
           -0.07704872637987137
          ],
          [
           -0.07366212457418442,
           0.18601761758327484,
           -0.506269633769989,
           0.1262928545475006,
           -0.05247591808438301,
           1.154410481452942,
           -0.25861552357673645,
           0.04893195629119873,
           0.09621759504079819,
           0.031143903732299805,
           0.22895336151123047,
           -0.5257713198661804,
           0.1384357213973999,
           0.11081188172101974,
           -0.28101369738578796,
           -0.10790351778268814
          ],
          [
           0.07573717087507248,
           0.5487416386604309,
           -0.056255679577589035,
           2.330556631088257,
           -0.0022310521453619003,
           -0.16631606221199036,
           -0.0185562651604414,
           0.5419440865516663,
           -0.11502525955438614,
           0.1452016532421112,
           0.41624903678894043,
           -0.18981893360614777,
           0.09456630051136017,
           -0.09466098248958588,
           -0.5180763602256775,
           0.22436372935771942
          ],
          [
           -0.057090070098638535,
           0.23533940315246582,
           -0.09530618786811829,
           0.15737472474575043,
           -0.24540884792804718,
           -0.09321757405996323,
           -0.07281235605478287,
           0.12777206301689148,
           -0.05196850374341011,
           -0.07123428583145142,
           -0.31217679381370544,
           -0.25388869643211365,
           0.006725613959133625,
           -0.08994664996862411,
           0.036326661705970764,
           -0.05067719146609306
          ],
          [
           -0.40576672554016113,
           -0.3070845305919647,
           -0.5572508573532104,
           -0.4444309175014496,
           -0.30862122774124146,
           0.041687753051519394,
           -0.2292933464050293,
           0.1393452286720276,
           -0.20276795327663422,
           -0.5518742799758911,
           -0.2775360941886902,
           -0.013184464536607265,
           0.06247609853744507,
           0.027068812400102615,
           0.16927605867385864,
           -0.3344126045703888
          ],
          [
           0.04880913719534874,
           -0.16439881920814514,
           -0.0681934729218483,
           -0.2557213008403778,
           -0.08330217748880386,
           0.101531021296978,
           -0.7559179663658142,
           -0.18624089658260345,
           0.025498611852526665,
           -0.03672882542014122,
           -0.1275682896375656,
           0.02859230898320675,
           -0.7503969669342041,
           0.12632639706134796,
           -0.5788623094558716,
           0.10090414434671402
          ],
          [
           -0.3782869279384613,
           -0.1792626827955246,
           -0.6394239664077759,
           -0.40633782744407654,
           -0.1533900946378708,
           0.006268322467803955,
           0.4716551899909973,
           -0.7782639861106873,
           -0.09702412784099579,
           -0.24679994583129883,
           -0.029509400948882103,
           -0.5248643159866333,
           0.164153054356575,
           -0.620387613773346,
           -1.7362308502197266,
           0.18860463798046112
          ],
          [
           -0.47420820593833923,
           0.012105043046176434,
           -0.576408863067627,
           -0.34974631667137146,
           -0.11544833332300186,
           -0.6928631663322449,
           2.1388659477233887,
           -0.43802952766418457,
           0.004624366760253906,
           -0.27775296568870544,
           0.12583188712596893,
           -0.11166899651288986,
           0.24848158657550812,
           -0.11113523691892624,
           -1.101693034172058,
           -0.13757558166980743
          ],
          [
           -0.5021489262580872,
           0.3677479922771454,
           -0.007614036090672016,
           -0.2630394399166107,
           0.2232891172170639,
           -0.20781074464321136,
           0.05098521709442139,
           -0.26647233963012695,
           -0.10250415652990341,
           -0.31958746910095215,
           -0.11288990080356598,
           0.34474560618400574,
           -0.2967948019504547,
           -0.07578389346599579,
           0.09925004094839096,
           -0.12495993822813034
          ],
          [
           -0.11365006119012833,
           0.008941134437918663,
           -0.21417728066444397,
           -0.223061665892601,
           -0.5624123811721802,
           0.4407331943511963,
           0.01614302210509777,
           0.09596111625432968,
           -0.1529139280319214,
           0.012652955949306488,
           -0.13543085753917694,
           -0.1661173552274704,
           0.3171769678592682,
           -0.03412937372922897,
           0.06990411132574081,
           -0.2978404462337494
          ],
          [
           0.07869358360767365,
           -0.23872318863868713,
           3.1421425342559814,
           -0.16633817553520203,
           -0.4308569133281708,
           0.003530138870701194,
           -0.36065414547920227,
           0.03684879094362259,
           -0.45147886872291565,
           0.37680208683013916,
           0.5564493536949158,
           0.09305662661790848,
           0.1016596108675003,
           -0.6218408346176147,
           -0.17568634450435638,
           -0.0218752920627594
          ],
          [
           -0.2573030889034271,
           -0.1041729673743248,
           -0.061094995588064194,
           0.024077126756310463,
           -0.12135235220193863,
           -0.16581425070762634,
           -0.003616084111854434,
           -0.3069703280925751,
           0.6045645475387573,
           0.3941568434238434,
           0.8273825645446777,
           -0.1256026029586792,
           -0.1066633090376854,
           0.12649093568325043,
           -0.3776765465736389,
           0.20247094333171844
          ],
          [
           -0.3071659207344055,
           0.31302544474601746,
           -0.0874786376953125,
           0.10393458604812622,
           -0.2951830327510834,
           0.3198949694633484,
           -0.27579134702682495,
           -0.963333249092102,
           -0.04341454058885574,
           3.3885529041290283,
           -0.6995149254798889,
           0.13414987921714783,
           0.28490060567855835,
           0.08279219269752502,
           0.06621623039245605,
           0.3094744384288788
          ],
          [
           0.20340731739997864,
           -0.2773336172103882,
           -0.3250053822994232,
           -0.2682682275772095,
           -0.18332888185977936,
           0.45903825759887695,
           0.08817868679761887,
           0.06108591705560684,
           -0.22852282226085663,
           2.073164224624634,
           0.08474089950323105,
           0.7392762899398804,
           -0.05581897497177124,
           11.010092735290527,
           3.2745819091796875,
           0.1460377275943756
          ],
          [
           1.4407378435134888,
           3.834388017654419,
           -0.2350412905216217,
           -0.2992800772190094,
           0.10673674196004868,
           -0.07656314224004745,
           -5.0226216316223145,
           0.042826663702726364,
           0.43285784125328064,
           -0.7155906558036804,
           0.2508171796798706,
           1.9757368564605713,
           0.1362285315990448,
           -0.22556208074092865,
           -0.09408661723136902,
           -0.34408456087112427
          ],
          [
           1.3401851654052734,
           0.0386321134865284,
           1.062400221824646,
           -0.25618550181388855,
           -0.007485588081181049,
           0.2470025271177292,
           -0.033467650413513184,
           1.533730387687683,
           1.3813549280166626,
           -0.2007928192615509,
           1.5659879446029663,
           -0.840592086315155,
           0.10235362499952316,
           0.0843571275472641,
           -0.14980749785900116,
           0.010485648177564144
          ],
          [
           -0.004965163767337799,
           -0.03264934942126274,
           0.6859441995620728,
           0.5488143563270569,
           1.2929788827896118,
           -0.6398946642875671,
           -0.8740885853767395,
           -0.5204944014549255,
           -3.1967084407806396,
           -0.05502012372016907,
           -0.2325677126646042,
           -0.6118177771568298,
           -0.45392879843711853,
           -0.11113695055246353,
           -0.10410882532596588,
           0.2624131143093109
          ],
          [
           0.09183891117572784,
           -0.5222245454788208,
           -2.0280444622039795,
           0.5333295464515686,
           2.504777669906616,
           0.2822500467300415,
           4.740331172943115,
           0.22792744636535645,
           0.0043311091139912605,
           4.777352809906006,
           -0.0008642941829748452,
           -0.07667585462331772,
           -1.087570071220398,
           -0.0005666852230206132,
           -0.012139270082116127,
           0.009472351521253586
          ],
          [
           0.03305384889245033,
           0.11443310230970383,
           -0.28599271178245544,
           -0.21764230728149414,
           -0.296342134475708,
           -0.24613776803016663,
           -0.38425108790397644,
           0.1143670454621315,
           -0.11926815658807755,
           0.053476132452487946,
           -2.154367446899414,
           0.02225850522518158,
           0.7366062998771667,
           -0.41467809677124023,
           0.09258022159337997,
           -0.5689167380332947
          ],
          [
           -0.04032614454627037,
           0.29300588369369507,
           -0.17394913733005524,
           -0.1518591046333313,
           -0.29032084345817566,
           -0.3097061812877655,
           6.494537353515625,
           -4.623630523681641,
           -0.04592292755842209,
           2.8502585887908936,
           -0.11068296432495117,
           -0.026903340592980385,
           -0.5815643668174744,
           -0.06890102475881577,
           -0.14645586907863617,
           -0.014283259399235249
          ],
          [
           0.17155173420906067,
           -0.11957770586013794,
           -0.19536654651165009,
           -0.18692247569561005,
           -0.23702044785022736,
           -0.3895646035671234,
           0.7170581817626953,
           -0.3170507550239563,
           -0.5628823637962341,
           0.09290271252393723,
           0.13648824393749237,
           -0.3002583980560303,
           -0.27158603072166443,
           -0.4321027398109436,
           -0.006530141923576593,
           -0.047007739543914795
          ],
          [
           0.017343705520033836,
           4.802886486053467,
           5.310555458068848,
           0.46267232298851013,
           1.0657169818878174,
           0.5876914262771606,
           0.5843302011489868,
           -0.07764320820569992,
           0.010615586303174496,
           -0.17506322264671326,
           0.9017874598503113,
           -0.3718896806240082,
           -2.4754765033721924,
           -0.27524954080581665,
           -0.4056525230407715,
           0.030951136723160744
          ],
          [
           0.2612437605857849,
           4.730852127075195,
           -0.06349270790815353,
           0.022998834028840065,
           -0.3684326112270355,
           0.13751156628131866,
           2.921429395675659,
           0.04752470180392265,
           5.156116962432861,
           0.6393359899520874,
           -0.6696978807449341,
           0.8293812870979309,
           1.5236417055130005,
           -2.1076982021331787,
           -0.5001173615455627,
           -0.26775822043418884
          ]
         ]
        },
        {
         "coloraxis": "coloraxis",
         "hovertemplate": "Head: %{x}<br>Layer: %{y}<br>Logit Contribution: %{z}<extra></extra>",
         "name": "1",
         "type": "heatmap",
         "xaxis": "x2",
         "yaxis": "y2",
         "z": [
          [
           0,
           0,
           0,
           0,
           0,
           0,
           0,
           0,
           0,
           0,
           0,
           0,
           0,
           0,
           0,
           0
          ],
          [
           0,
           0,
           0,
           0,
           0,
           0,
           0,
           0,
           0,
           0,
           0,
           0,
           0,
           0,
           0,
           0
          ],
          [
           0,
           0,
           0,
           0,
           0,
           0,
           0,
           0,
           0,
           0,
           0,
           0,
           0,
           0,
           0,
           0
          ],
          [
           0,
           0,
           0,
           0,
           0,
           0,
           0,
           0,
           0,
           0,
           0,
           0,
           0,
           0,
           0,
           0
          ],
          [
           0,
           0,
           0,
           0,
           0,
           0,
           0,
           0,
           0,
           0,
           0,
           0,
           0,
           0,
           0,
           0
          ],
          [
           0,
           0,
           0,
           0,
           0,
           0,
           0,
           0,
           0,
           0,
           0,
           0,
           0,
           0,
           0,
           0
          ],
          [
           0,
           0,
           0,
           0,
           0,
           0,
           0,
           0,
           0,
           0,
           0,
           0,
           0,
           0,
           0,
           0
          ],
          [
           0,
           0,
           0,
           0,
           0,
           0,
           0,
           0,
           0,
           0,
           0,
           0,
           0,
           0,
           0,
           0
          ],
          [
           0,
           0,
           0,
           0,
           0,
           0,
           0,
           0,
           0,
           0,
           0,
           0,
           0,
           0,
           0,
           0
          ],
          [
           0,
           0,
           0,
           0,
           0,
           0,
           -0.0303586944937706,
           0,
           0,
           0.0016988813877105713,
           0,
           0,
           0,
           0,
           0,
           0
          ],
          [
           0.006906725466251373,
           0.004738864954560995,
           -0.0006485432386398315,
           -0.021768629550933838,
           -0.00012427568435668945,
           0.00038933753967285156,
           -0.000652821734547615,
           0.004649296402931213,
           0.0055931806564331055,
           -0.0007727071642875671,
           0.019127368927001953,
           -0.00014212727546691895,
           -0.004371583461761475,
           0.001325353980064392,
           0.006539016962051392,
           0.0009698569774627686
          ],
          [
           -0.011655546724796295,
           0.024334371089935303,
           -0.07426953315734863,
           0.0158197283744812,
           -0.016307324171066284,
           -0.002145266393199563,
           -0.0008581578731536865,
           0.022610999643802643,
           0.00826883316040039,
           0.0009738504886627197,
           -0.003681778907775879,
           0.008905544877052307,
           0.00350942462682724,
           -0.007483541965484619,
           0.02686859667301178,
           -0.02762400545179844
          ],
          [
           -0.002324700355529785,
           -0.0009746402502059937,
           -0.0018942803144454956,
           -0.02170916460454464,
           -0.011363327503204346,
           0.00414372980594635,
           0.007411518134176731,
           -0.0021105408668518066,
           -0.0242612361907959,
           -0.04643663763999939,
           -0.021952331066131592,
           -0.003583379089832306,
           0.001137174665927887,
           0.00011241436004638672,
           -0.003361135721206665,
           -0.01780453324317932
          ],
          [
           0.002671658992767334,
           0.06915217638015747,
           -0.0023909732699394226,
           -0.013865865767002106,
           -0.007593125104904175,
           0.015575498342514038,
           -0.019954591989517212,
           -0.022260606288909912,
           0.0026252977550029755,
           -0.1791529655456543,
           -0.03156936168670654,
           -0.011598005890846252,
           0.009268462657928467,
           -0.0022506192326545715,
           -0.021435096859931946,
           0.003610581159591675
          ],
          [
           0.019219085574150085,
           -0.002950608730316162,
           -0.00023254752159118652,
           0.017021983861923218,
           0.004256933927536011,
           -0.0237179696559906,
           -0.0015035346150398254,
           0.00008263811469078064,
           -0.009549856185913086,
           -0.09146285057067871,
           -0.01074027270078659,
           -0.052117109298706055,
           -0.016557112336158752,
           -0.18128585815429688,
           -0.1194157600402832,
           -0.044922128319740295
          ],
          [
           0.05093502998352051,
           -0.030678987503051758,
           0.015684783458709717,
           -0.00021439790725708008,
           -0.013450399041175842,
           0.014099657535552979,
           -0.12574434280395508,
           -0.012397684156894684,
           -0.007722139358520508,
           -0.04251503944396973,
           -0.010753601789474487,
           -0.0069713592529296875,
           -0.0043840110301971436,
           -0.026466429233551025,
           0.0021199584007263184,
           0.032148510217666626
          ],
          [
           -0.06777346134185791,
           0.001840692013502121,
           -0.05118453502655029,
           -0.026249989867210388,
           0.02465178072452545,
           0.010480642318725586,
           0.0030092671513557434,
           -0.025035500526428223,
           0.2074216604232788,
           0.0016007572412490845,
           -0.022526264190673828,
           0.01181173324584961,
           0.0014016404747962952,
           -0.0000314861536026001,
           0.0015352368354797363,
           0.0032729175873100758
          ],
          [
           0.023591013625264168,
           0.002626761794090271,
           -0.008765101432800293,
           0.010983765125274658,
           -0.10541033744812012,
           -0.00604480504989624,
           -0.007977485656738281,
           -0.0052144527435302734,
           0.01350855827331543,
           -0.012622106820344925,
           -0.02359873056411743,
           -0.00872039794921875,
           0.005649060010910034,
           0.005189880728721619,
           -0.04276520386338234,
           -0.006697177886962891
          ],
          [
           -0.004947580397129059,
           -0.007365882396697998,
           -0.004378318786621094,
           -0.03351902961730957,
           -0.036195993423461914,
           -0.0036110877990722656,
           -0.3428325653076172,
           0.019411221146583557,
           -0.003336655907332897,
           -0.10418701171875,
           0.003902584547176957,
           -0.000687330961227417,
           0.0005955696105957031,
           -0.005972720682621002,
           0.007463093847036362,
           -0.0013935519382357597
          ],
          [
           0.0011597499251365662,
           0.001321554183959961,
           -0.006091177463531494,
           0.0004614144563674927,
           -0.004255414009094238,
           -0.04295960068702698,
           -0.00041687488555908203,
           0.0015012174844741821,
           -0.008449241518974304,
           -0.0031759031116962433,
           -0.041605472564697266,
           -0.006857169792056084,
           -0.0029518604278564453,
           -0.010621249675750732,
           0.012865111231803894,
           -0.0029314160346984863
          ],
          [
           -0.0007731616497039795,
           0.005985826253890991,
           -0.0032173246145248413,
           -0.008140191435813904,
           -0.009598404169082642,
           -0.0014624595642089844,
           -0.09888410568237305,
           0.13794279098510742,
           0.00009767711162567139,
           -0.06593465805053711,
           0.00116720050573349,
           -0.0026168078184127808,
           0.0008438229560852051,
           0.0048796311020851135,
           0.004087284207344055,
           -0.007265854626893997
          ],
          [
           0.0008659660816192627,
           0.0125570148229599,
           -0.010997891426086426,
           -0.006751954555511475,
           -0.007541254162788391,
           0.006658434867858887,
           0.025281250476837158,
           -0.0019454658031463623,
           -0.0019084811210632324,
           -0.004174709320068359,
           -0.004554271697998047,
           -0.013440430164337158,
           -0.0033828020095825195,
           -0.009322136640548706,
           -0.0014791889116168022,
           -0.012160509824752808
          ],
          [
           0.0012028757482767105,
           -0.15594959259033203,
           -0.3717818260192871,
           0.0311489999294281,
           0.019500017166137695,
           -0.020908057689666748,
           -0.03165072202682495,
           0.004735231399536133,
           -0.00009981915354728699,
           -0.0062232911586761475,
           0.05764031410217285,
           -0.00820392370223999,
           0.04429459571838379,
           -0.0035168826580047607,
           -0.009662896394729614,
           -0.0017294343560934067
          ],
          [
           -0.04388931393623352,
           -0.19089651107788086,
           0.002347312867641449,
           0.0017624497413635254,
           -0.004948735237121582,
           -0.023119404911994934,
           -0.17807698249816895,
           0.006195593625307083,
           -0.05872678756713867,
           -0.016759276390075684,
           -0.024621009826660156,
           0.015572726726531982,
           -0.014413714408874512,
           -0.11346471309661865,
           -0.01680085062980652,
           -0.002260148525238037
          ]
         ]
        }
       ],
       "layout": {
        "annotations": [
         {
          "font": {},
          "showarrow": false,
          "text": "New Logit Diff - 4.69",
          "x": 0.245,
          "xanchor": "center",
          "xref": "paper",
          "y": 1,
          "yanchor": "bottom",
          "yref": "paper"
         },
         {
          "font": {},
          "showarrow": false,
          "text": "New Logit Diff - Clean Logit Diff",
          "x": 0.755,
          "xanchor": "center",
          "xref": "paper",
          "y": 1,
          "yanchor": "bottom",
          "yref": "paper"
         }
        ],
        "coloraxis": {
         "cmid": 0,
         "colorbar": {
          "title": {
           "text": "Logit Contribution"
          }
         },
         "colorscale": [
          [
           0,
           "rgb(103,0,31)"
          ],
          [
           0.1,
           "rgb(178,24,43)"
          ],
          [
           0.2,
           "rgb(214,96,77)"
          ],
          [
           0.3,
           "rgb(244,165,130)"
          ],
          [
           0.4,
           "rgb(253,219,199)"
          ],
          [
           0.5,
           "rgb(247,247,247)"
          ],
          [
           0.6,
           "rgb(209,229,240)"
          ],
          [
           0.7,
           "rgb(146,197,222)"
          ],
          [
           0.8,
           "rgb(67,147,195)"
          ],
          [
           0.9,
           "rgb(33,102,172)"
          ],
          [
           1,
           "rgb(5,48,97)"
          ]
         ]
        },
        "margin": {
         "l": 100,
         "r": 100
        },
        "template": {
         "data": {
          "bar": [
           {
            "error_x": {
             "color": "#2a3f5f"
            },
            "error_y": {
             "color": "#2a3f5f"
            },
            "marker": {
             "line": {
              "color": "#E5ECF6",
              "width": 0.5
             },
             "pattern": {
              "fillmode": "overlay",
              "size": 10,
              "solidity": 0.2
             }
            },
            "type": "bar"
           }
          ],
          "barpolar": [
           {
            "marker": {
             "line": {
              "color": "#E5ECF6",
              "width": 0.5
             },
             "pattern": {
              "fillmode": "overlay",
              "size": 10,
              "solidity": 0.2
             }
            },
            "type": "barpolar"
           }
          ],
          "carpet": [
           {
            "aaxis": {
             "endlinecolor": "#2a3f5f",
             "gridcolor": "white",
             "linecolor": "white",
             "minorgridcolor": "white",
             "startlinecolor": "#2a3f5f"
            },
            "baxis": {
             "endlinecolor": "#2a3f5f",
             "gridcolor": "white",
             "linecolor": "white",
             "minorgridcolor": "white",
             "startlinecolor": "#2a3f5f"
            },
            "type": "carpet"
           }
          ],
          "choropleth": [
           {
            "colorbar": {
             "outlinewidth": 0,
             "ticks": ""
            },
            "type": "choropleth"
           }
          ],
          "contour": [
           {
            "colorbar": {
             "outlinewidth": 0,
             "ticks": ""
            },
            "colorscale": [
             [
              0,
              "#0d0887"
             ],
             [
              0.1111111111111111,
              "#46039f"
             ],
             [
              0.2222222222222222,
              "#7201a8"
             ],
             [
              0.3333333333333333,
              "#9c179e"
             ],
             [
              0.4444444444444444,
              "#bd3786"
             ],
             [
              0.5555555555555556,
              "#d8576b"
             ],
             [
              0.6666666666666666,
              "#ed7953"
             ],
             [
              0.7777777777777778,
              "#fb9f3a"
             ],
             [
              0.8888888888888888,
              "#fdca26"
             ],
             [
              1,
              "#f0f921"
             ]
            ],
            "type": "contour"
           }
          ],
          "contourcarpet": [
           {
            "colorbar": {
             "outlinewidth": 0,
             "ticks": ""
            },
            "type": "contourcarpet"
           }
          ],
          "heatmap": [
           {
            "colorbar": {
             "outlinewidth": 0,
             "ticks": ""
            },
            "colorscale": [
             [
              0,
              "#0d0887"
             ],
             [
              0.1111111111111111,
              "#46039f"
             ],
             [
              0.2222222222222222,
              "#7201a8"
             ],
             [
              0.3333333333333333,
              "#9c179e"
             ],
             [
              0.4444444444444444,
              "#bd3786"
             ],
             [
              0.5555555555555556,
              "#d8576b"
             ],
             [
              0.6666666666666666,
              "#ed7953"
             ],
             [
              0.7777777777777778,
              "#fb9f3a"
             ],
             [
              0.8888888888888888,
              "#fdca26"
             ],
             [
              1,
              "#f0f921"
             ]
            ],
            "type": "heatmap"
           }
          ],
          "heatmapgl": [
           {
            "colorbar": {
             "outlinewidth": 0,
             "ticks": ""
            },
            "colorscale": [
             [
              0,
              "#0d0887"
             ],
             [
              0.1111111111111111,
              "#46039f"
             ],
             [
              0.2222222222222222,
              "#7201a8"
             ],
             [
              0.3333333333333333,
              "#9c179e"
             ],
             [
              0.4444444444444444,
              "#bd3786"
             ],
             [
              0.5555555555555556,
              "#d8576b"
             ],
             [
              0.6666666666666666,
              "#ed7953"
             ],
             [
              0.7777777777777778,
              "#fb9f3a"
             ],
             [
              0.8888888888888888,
              "#fdca26"
             ],
             [
              1,
              "#f0f921"
             ]
            ],
            "type": "heatmapgl"
           }
          ],
          "histogram": [
           {
            "marker": {
             "pattern": {
              "fillmode": "overlay",
              "size": 10,
              "solidity": 0.2
             }
            },
            "type": "histogram"
           }
          ],
          "histogram2d": [
           {
            "colorbar": {
             "outlinewidth": 0,
             "ticks": ""
            },
            "colorscale": [
             [
              0,
              "#0d0887"
             ],
             [
              0.1111111111111111,
              "#46039f"
             ],
             [
              0.2222222222222222,
              "#7201a8"
             ],
             [
              0.3333333333333333,
              "#9c179e"
             ],
             [
              0.4444444444444444,
              "#bd3786"
             ],
             [
              0.5555555555555556,
              "#d8576b"
             ],
             [
              0.6666666666666666,
              "#ed7953"
             ],
             [
              0.7777777777777778,
              "#fb9f3a"
             ],
             [
              0.8888888888888888,
              "#fdca26"
             ],
             [
              1,
              "#f0f921"
             ]
            ],
            "type": "histogram2d"
           }
          ],
          "histogram2dcontour": [
           {
            "colorbar": {
             "outlinewidth": 0,
             "ticks": ""
            },
            "colorscale": [
             [
              0,
              "#0d0887"
             ],
             [
              0.1111111111111111,
              "#46039f"
             ],
             [
              0.2222222222222222,
              "#7201a8"
             ],
             [
              0.3333333333333333,
              "#9c179e"
             ],
             [
              0.4444444444444444,
              "#bd3786"
             ],
             [
              0.5555555555555556,
              "#d8576b"
             ],
             [
              0.6666666666666666,
              "#ed7953"
             ],
             [
              0.7777777777777778,
              "#fb9f3a"
             ],
             [
              0.8888888888888888,
              "#fdca26"
             ],
             [
              1,
              "#f0f921"
             ]
            ],
            "type": "histogram2dcontour"
           }
          ],
          "mesh3d": [
           {
            "colorbar": {
             "outlinewidth": 0,
             "ticks": ""
            },
            "type": "mesh3d"
           }
          ],
          "parcoords": [
           {
            "line": {
             "colorbar": {
              "outlinewidth": 0,
              "ticks": ""
             }
            },
            "type": "parcoords"
           }
          ],
          "pie": [
           {
            "automargin": true,
            "type": "pie"
           }
          ],
          "scatter": [
           {
            "fillpattern": {
             "fillmode": "overlay",
             "size": 10,
             "solidity": 0.2
            },
            "type": "scatter"
           }
          ],
          "scatter3d": [
           {
            "line": {
             "colorbar": {
              "outlinewidth": 0,
              "ticks": ""
             }
            },
            "marker": {
             "colorbar": {
              "outlinewidth": 0,
              "ticks": ""
             }
            },
            "type": "scatter3d"
           }
          ],
          "scattercarpet": [
           {
            "marker": {
             "colorbar": {
              "outlinewidth": 0,
              "ticks": ""
             }
            },
            "type": "scattercarpet"
           }
          ],
          "scattergeo": [
           {
            "marker": {
             "colorbar": {
              "outlinewidth": 0,
              "ticks": ""
             }
            },
            "type": "scattergeo"
           }
          ],
          "scattergl": [
           {
            "marker": {
             "colorbar": {
              "outlinewidth": 0,
              "ticks": ""
             }
            },
            "type": "scattergl"
           }
          ],
          "scattermapbox": [
           {
            "marker": {
             "colorbar": {
              "outlinewidth": 0,
              "ticks": ""
             }
            },
            "type": "scattermapbox"
           }
          ],
          "scatterpolar": [
           {
            "marker": {
             "colorbar": {
              "outlinewidth": 0,
              "ticks": ""
             }
            },
            "type": "scatterpolar"
           }
          ],
          "scatterpolargl": [
           {
            "marker": {
             "colorbar": {
              "outlinewidth": 0,
              "ticks": ""
             }
            },
            "type": "scatterpolargl"
           }
          ],
          "scatterternary": [
           {
            "marker": {
             "colorbar": {
              "outlinewidth": 0,
              "ticks": ""
             }
            },
            "type": "scatterternary"
           }
          ],
          "surface": [
           {
            "colorbar": {
             "outlinewidth": 0,
             "ticks": ""
            },
            "colorscale": [
             [
              0,
              "#0d0887"
             ],
             [
              0.1111111111111111,
              "#46039f"
             ],
             [
              0.2222222222222222,
              "#7201a8"
             ],
             [
              0.3333333333333333,
              "#9c179e"
             ],
             [
              0.4444444444444444,
              "#bd3786"
             ],
             [
              0.5555555555555556,
              "#d8576b"
             ],
             [
              0.6666666666666666,
              "#ed7953"
             ],
             [
              0.7777777777777778,
              "#fb9f3a"
             ],
             [
              0.8888888888888888,
              "#fdca26"
             ],
             [
              1,
              "#f0f921"
             ]
            ],
            "type": "surface"
           }
          ],
          "table": [
           {
            "cells": {
             "fill": {
              "color": "#EBF0F8"
             },
             "line": {
              "color": "white"
             }
            },
            "header": {
             "fill": {
              "color": "#C8D4E3"
             },
             "line": {
              "color": "white"
             }
            },
            "type": "table"
           }
          ]
         },
         "layout": {
          "annotationdefaults": {
           "arrowcolor": "#2a3f5f",
           "arrowhead": 0,
           "arrowwidth": 1
          },
          "autotypenumbers": "strict",
          "coloraxis": {
           "colorbar": {
            "outlinewidth": 0,
            "ticks": ""
           }
          },
          "colorscale": {
           "diverging": [
            [
             0,
             "#8e0152"
            ],
            [
             0.1,
             "#c51b7d"
            ],
            [
             0.2,
             "#de77ae"
            ],
            [
             0.3,
             "#f1b6da"
            ],
            [
             0.4,
             "#fde0ef"
            ],
            [
             0.5,
             "#f7f7f7"
            ],
            [
             0.6,
             "#e6f5d0"
            ],
            [
             0.7,
             "#b8e186"
            ],
            [
             0.8,
             "#7fbc41"
            ],
            [
             0.9,
             "#4d9221"
            ],
            [
             1,
             "#276419"
            ]
           ],
           "sequential": [
            [
             0,
             "#0d0887"
            ],
            [
             0.1111111111111111,
             "#46039f"
            ],
            [
             0.2222222222222222,
             "#7201a8"
            ],
            [
             0.3333333333333333,
             "#9c179e"
            ],
            [
             0.4444444444444444,
             "#bd3786"
            ],
            [
             0.5555555555555556,
             "#d8576b"
            ],
            [
             0.6666666666666666,
             "#ed7953"
            ],
            [
             0.7777777777777778,
             "#fb9f3a"
            ],
            [
             0.8888888888888888,
             "#fdca26"
            ],
            [
             1,
             "#f0f921"
            ]
           ],
           "sequentialminus": [
            [
             0,
             "#0d0887"
            ],
            [
             0.1111111111111111,
             "#46039f"
            ],
            [
             0.2222222222222222,
             "#7201a8"
            ],
            [
             0.3333333333333333,
             "#9c179e"
            ],
            [
             0.4444444444444444,
             "#bd3786"
            ],
            [
             0.5555555555555556,
             "#d8576b"
            ],
            [
             0.6666666666666666,
             "#ed7953"
            ],
            [
             0.7777777777777778,
             "#fb9f3a"
            ],
            [
             0.8888888888888888,
             "#fdca26"
            ],
            [
             1,
             "#f0f921"
            ]
           ]
          },
          "colorway": [
           "#636efa",
           "#EF553B",
           "#00cc96",
           "#ab63fa",
           "#FFA15A",
           "#19d3f3",
           "#FF6692",
           "#B6E880",
           "#FF97FF",
           "#FECB52"
          ],
          "font": {
           "color": "#2a3f5f"
          },
          "geo": {
           "bgcolor": "white",
           "lakecolor": "white",
           "landcolor": "#E5ECF6",
           "showlakes": true,
           "showland": true,
           "subunitcolor": "white"
          },
          "hoverlabel": {
           "align": "left"
          },
          "hovermode": "closest",
          "mapbox": {
           "style": "light"
          },
          "paper_bgcolor": "white",
          "plot_bgcolor": "#E5ECF6",
          "polar": {
           "angularaxis": {
            "gridcolor": "white",
            "linecolor": "white",
            "ticks": ""
           },
           "bgcolor": "#E5ECF6",
           "radialaxis": {
            "gridcolor": "white",
            "linecolor": "white",
            "ticks": ""
           }
          },
          "scene": {
           "xaxis": {
            "backgroundcolor": "#E5ECF6",
            "gridcolor": "white",
            "gridwidth": 2,
            "linecolor": "white",
            "showbackground": true,
            "ticks": "",
            "zerolinecolor": "white"
           },
           "yaxis": {
            "backgroundcolor": "#E5ECF6",
            "gridcolor": "white",
            "gridwidth": 2,
            "linecolor": "white",
            "showbackground": true,
            "ticks": "",
            "zerolinecolor": "white"
           },
           "zaxis": {
            "backgroundcolor": "#E5ECF6",
            "gridcolor": "white",
            "gridwidth": 2,
            "linecolor": "white",
            "showbackground": true,
            "ticks": "",
            "zerolinecolor": "white"
           }
          },
          "shapedefaults": {
           "line": {
            "color": "#2a3f5f"
           }
          },
          "ternary": {
           "aaxis": {
            "gridcolor": "white",
            "linecolor": "white",
            "ticks": ""
           },
           "baxis": {
            "gridcolor": "white",
            "linecolor": "white",
            "ticks": ""
           },
           "bgcolor": "#E5ECF6",
           "caxis": {
            "gridcolor": "white",
            "linecolor": "white",
            "ticks": ""
           }
          },
          "title": {
           "x": 0.05
          },
          "xaxis": {
           "automargin": true,
           "gridcolor": "white",
           "linecolor": "white",
           "ticks": "",
           "title": {
            "standoff": 15
           },
           "zerolinecolor": "white",
           "zerolinewidth": 2
          },
          "yaxis": {
           "automargin": true,
           "gridcolor": "white",
           "linecolor": "white",
           "ticks": "",
           "title": {
            "standoff": 15
           },
           "zerolinecolor": "white",
           "zerolinewidth": 2
          }
         }
        },
        "title": {
         "text": "Logits When Sample Ablating in NMHs"
        },
        "width": 1000,
        "xaxis": {
         "anchor": "y",
         "constrain": "domain",
         "domain": [
          0,
          0.49
         ],
         "linecolor": "black",
         "linewidth": 1,
         "mirror": true,
         "scaleanchor": "y",
         "showline": true,
         "title": {
          "text": "Head"
         }
        },
        "xaxis2": {
         "anchor": "y2",
         "domain": [
          0.51,
          1
         ],
         "linecolor": "black",
         "linewidth": 1,
         "matches": "x",
         "mirror": true,
         "showline": true,
         "title": {
          "text": "Head"
         }
        },
        "yaxis": {
         "anchor": "x",
         "autorange": "reversed",
         "constrain": "domain",
         "domain": [
          0,
          1
         ],
         "linecolor": "black",
         "linewidth": 1,
         "mirror": true,
         "showline": true,
         "title": {
          "text": "Layer"
         }
        },
        "yaxis2": {
         "anchor": "x2",
         "domain": [
          0,
          1
         ],
         "linecolor": "black",
         "linewidth": 1,
         "matches": "y",
         "mirror": true,
         "showline": true,
         "showticklabels": false
        }
       }
      },
      "text/html": [
       "<div>                            <div id=\"12cc2ae7-b813-42ee-8184-1566d3e247b4\" class=\"plotly-graph-div\" style=\"height:525px; width:1000px;\"></div>            <script type=\"text/javascript\">                require([\"plotly\"], function(Plotly) {                    window.PLOTLYENV=window.PLOTLYENV || {};                                    if (document.getElementById(\"12cc2ae7-b813-42ee-8184-1566d3e247b4\")) {                    Plotly.newPlot(                        \"12cc2ae7-b813-42ee-8184-1566d3e247b4\",                        [{\"coloraxis\":\"coloraxis\",\"name\":\"0\",\"z\":[[-0.1145087406039238,0.5667784810066223,-0.538989782333374,-0.3613179624080658,-0.3012672960758209,0.7992265820503235,-0.5383342504501343,0.02761051617562771,-1.0101665258407593,-0.17828719317913055,0.9894011616706848,-0.19632075726985931,0.37099361419677734,-0.014707083813846111,0.054913606494665146,-0.18442541360855103],[0.14973321557044983,-0.29291942715644836,0.12666454911231995,-0.010810608975589275,0.334591805934906,0.7311654686927795,0.4493961036205292,0.41103336215019226,-0.14409124851226807,0.5870444178581238,-0.17557433247566223,-0.7872776389122009,0.18162000179290771,-0.02943297289311886,-0.3703528940677643,-0.07704872637987137],[-0.07366212457418442,0.18601761758327484,-0.506269633769989,0.1262928545475006,-0.05247591808438301,1.154410481452942,-0.25861552357673645,0.04893195629119873,0.09621759504079819,0.031143903732299805,0.22895336151123047,-0.5257713198661804,0.1384357213973999,0.11081188172101974,-0.28101369738578796,-0.10790351778268814],[0.07573717087507248,0.5487416386604309,-0.056255679577589035,2.330556631088257,-0.0022310521453619003,-0.16631606221199036,-0.0185562651604414,0.5419440865516663,-0.11502525955438614,0.1452016532421112,0.41624903678894043,-0.18981893360614777,0.09456630051136017,-0.09466098248958588,-0.5180763602256775,0.22436372935771942],[-0.057090070098638535,0.23533940315246582,-0.09530618786811829,0.15737472474575043,-0.24540884792804718,-0.09321757405996323,-0.07281235605478287,0.12777206301689148,-0.05196850374341011,-0.07123428583145142,-0.31217679381370544,-0.25388869643211365,0.006725613959133625,-0.08994664996862411,0.036326661705970764,-0.05067719146609306],[-0.40576672554016113,-0.3070845305919647,-0.5572508573532104,-0.4444309175014496,-0.30862122774124146,0.041687753051519394,-0.2292933464050293,0.1393452286720276,-0.20276795327663422,-0.5518742799758911,-0.2775360941886902,-0.013184464536607265,0.06247609853744507,0.027068812400102615,0.16927605867385864,-0.3344126045703888],[0.04880913719534874,-0.16439881920814514,-0.0681934729218483,-0.2557213008403778,-0.08330217748880386,0.101531021296978,-0.7559179663658142,-0.18624089658260345,0.025498611852526665,-0.03672882542014122,-0.1275682896375656,0.02859230898320675,-0.7503969669342041,0.12632639706134796,-0.5788623094558716,0.10090414434671402],[-0.3782869279384613,-0.1792626827955246,-0.6394239664077759,-0.40633782744407654,-0.1533900946378708,0.006268322467803955,0.4716551899909973,-0.7782639861106873,-0.09702412784099579,-0.24679994583129883,-0.029509400948882103,-0.5248643159866333,0.164153054356575,-0.620387613773346,-1.7362308502197266,0.18860463798046112],[-0.47420820593833923,0.012105043046176434,-0.576408863067627,-0.34974631667137146,-0.11544833332300186,-0.6928631663322449,2.1388659477233887,-0.43802952766418457,0.004624366760253906,-0.27775296568870544,0.12583188712596893,-0.11166899651288986,0.24848158657550812,-0.11113523691892624,-1.101693034172058,-0.13757558166980743],[-0.5021489262580872,0.3677479922771454,-0.007614036090672016,-0.2630394399166107,0.2232891172170639,-0.20781074464321136,0.05098521709442139,-0.26647233963012695,-0.10250415652990341,-0.31958746910095215,-0.11288990080356598,0.34474560618400574,-0.2967948019504547,-0.07578389346599579,0.09925004094839096,-0.12495993822813034],[-0.11365006119012833,0.008941134437918663,-0.21417728066444397,-0.223061665892601,-0.5624123811721802,0.4407331943511963,0.01614302210509777,0.09596111625432968,-0.1529139280319214,0.012652955949306488,-0.13543085753917694,-0.1661173552274704,0.3171769678592682,-0.03412937372922897,0.06990411132574081,-0.2978404462337494],[0.07869358360767365,-0.23872318863868713,3.1421425342559814,-0.16633817553520203,-0.4308569133281708,0.003530138870701194,-0.36065414547920227,0.03684879094362259,-0.45147886872291565,0.37680208683013916,0.5564493536949158,0.09305662661790848,0.1016596108675003,-0.6218408346176147,-0.17568634450435638,-0.0218752920627594],[-0.2573030889034271,-0.1041729673743248,-0.061094995588064194,0.024077126756310463,-0.12135235220193863,-0.16581425070762634,-0.003616084111854434,-0.3069703280925751,0.6045645475387573,0.3941568434238434,0.8273825645446777,-0.1256026029586792,-0.1066633090376854,0.12649093568325043,-0.3776765465736389,0.20247094333171844],[-0.3071659207344055,0.31302544474601746,-0.0874786376953125,0.10393458604812622,-0.2951830327510834,0.3198949694633484,-0.27579134702682495,-0.963333249092102,-0.04341454058885574,3.3885529041290283,-0.6995149254798889,0.13414987921714783,0.28490060567855835,0.08279219269752502,0.06621623039245605,0.3094744384288788],[0.20340731739997864,-0.2773336172103882,-0.3250053822994232,-0.2682682275772095,-0.18332888185977936,0.45903825759887695,0.08817868679761887,0.06108591705560684,-0.22852282226085663,2.073164224624634,0.08474089950323105,0.7392762899398804,-0.05581897497177124,11.010092735290527,3.2745819091796875,0.1460377275943756],[1.4407378435134888,3.834388017654419,-0.2350412905216217,-0.2992800772190094,0.10673674196004868,-0.07656314224004745,-5.0226216316223145,0.042826663702726364,0.43285784125328064,-0.7155906558036804,0.2508171796798706,1.9757368564605713,0.1362285315990448,-0.22556208074092865,-0.09408661723136902,-0.34408456087112427],[1.3401851654052734,0.0386321134865284,1.062400221824646,-0.25618550181388855,-0.007485588081181049,0.2470025271177292,-0.033467650413513184,1.533730387687683,1.3813549280166626,-0.2007928192615509,1.5659879446029663,-0.840592086315155,0.10235362499952316,0.0843571275472641,-0.14980749785900116,0.010485648177564144],[-0.004965163767337799,-0.03264934942126274,0.6859441995620728,0.5488143563270569,1.2929788827896118,-0.6398946642875671,-0.8740885853767395,-0.5204944014549255,-3.1967084407806396,-0.05502012372016907,-0.2325677126646042,-0.6118177771568298,-0.45392879843711853,-0.11113695055246353,-0.10410882532596588,0.2624131143093109],[0.09183891117572784,-0.5222245454788208,-2.0280444622039795,0.5333295464515686,2.504777669906616,0.2822500467300415,4.740331172943115,0.22792744636535645,0.0043311091139912605,4.777352809906006,-0.0008642941829748452,-0.07667585462331772,-1.087570071220398,-0.0005666852230206132,-0.012139270082116127,0.009472351521253586],[0.03305384889245033,0.11443310230970383,-0.28599271178245544,-0.21764230728149414,-0.296342134475708,-0.24613776803016663,-0.38425108790397644,0.1143670454621315,-0.11926815658807755,0.053476132452487946,-2.154367446899414,0.02225850522518158,0.7366062998771667,-0.41467809677124023,0.09258022159337997,-0.5689167380332947],[-0.04032614454627037,0.29300588369369507,-0.17394913733005524,-0.1518591046333313,-0.29032084345817566,-0.3097061812877655,6.494537353515625,-4.623630523681641,-0.04592292755842209,2.8502585887908936,-0.11068296432495117,-0.026903340592980385,-0.5815643668174744,-0.06890102475881577,-0.14645586907863617,-0.014283259399235249],[0.17155173420906067,-0.11957770586013794,-0.19536654651165009,-0.18692247569561005,-0.23702044785022736,-0.3895646035671234,0.7170581817626953,-0.3170507550239563,-0.5628823637962341,0.09290271252393723,0.13648824393749237,-0.3002583980560303,-0.27158603072166443,-0.4321027398109436,-0.006530141923576593,-0.047007739543914795],[0.017343705520033836,4.802886486053467,5.310555458068848,0.46267232298851013,1.0657169818878174,0.5876914262771606,0.5843302011489868,-0.07764320820569992,0.010615586303174496,-0.17506322264671326,0.9017874598503113,-0.3718896806240082,-2.4754765033721924,-0.27524954080581665,-0.4056525230407715,0.030951136723160744],[0.2612437605857849,4.730852127075195,-0.06349270790815353,0.022998834028840065,-0.3684326112270355,0.13751156628131866,2.921429395675659,0.04752470180392265,5.156116962432861,0.6393359899520874,-0.6696978807449341,0.8293812870979309,1.5236417055130005,-2.1076982021331787,-0.5001173615455627,-0.26775822043418884]],\"type\":\"heatmap\",\"xaxis\":\"x\",\"yaxis\":\"y\",\"hovertemplate\":\"Head: %{x}\\u003cbr\\u003eLayer: %{y}\\u003cbr\\u003eLogit Contribution: %{z}\\u003cextra\\u003e\\u003c\\u002fextra\\u003e\"},{\"coloraxis\":\"coloraxis\",\"name\":\"1\",\"z\":[[0.0,0.0,0.0,0.0,0.0,0.0,0.0,0.0,0.0,0.0,0.0,0.0,0.0,0.0,0.0,0.0],[0.0,0.0,0.0,0.0,0.0,0.0,0.0,0.0,0.0,0.0,0.0,0.0,0.0,0.0,0.0,0.0],[0.0,0.0,0.0,0.0,0.0,0.0,0.0,0.0,0.0,0.0,0.0,0.0,0.0,0.0,0.0,0.0],[0.0,0.0,0.0,0.0,0.0,0.0,0.0,0.0,0.0,0.0,0.0,0.0,0.0,0.0,0.0,0.0],[0.0,0.0,0.0,0.0,0.0,0.0,0.0,0.0,0.0,0.0,0.0,0.0,0.0,0.0,0.0,0.0],[0.0,0.0,0.0,0.0,0.0,0.0,0.0,0.0,0.0,0.0,0.0,0.0,0.0,0.0,0.0,0.0],[0.0,0.0,0.0,0.0,0.0,0.0,0.0,0.0,0.0,0.0,0.0,0.0,0.0,0.0,0.0,0.0],[0.0,0.0,0.0,0.0,0.0,0.0,0.0,0.0,0.0,0.0,0.0,0.0,0.0,0.0,0.0,0.0],[0.0,0.0,0.0,0.0,0.0,0.0,0.0,0.0,0.0,0.0,0.0,0.0,0.0,0.0,0.0,0.0],[0.0,0.0,0.0,0.0,0.0,0.0,-0.0303586944937706,0.0,0.0,0.0016988813877105713,0.0,0.0,0.0,0.0,0.0,0.0],[0.006906725466251373,0.004738864954560995,-0.0006485432386398315,-0.021768629550933838,-0.00012427568435668945,0.00038933753967285156,-0.000652821734547615,0.004649296402931213,0.0055931806564331055,-0.0007727071642875671,0.019127368927001953,-0.00014212727546691895,-0.004371583461761475,0.001325353980064392,0.006539016962051392,0.0009698569774627686],[-0.011655546724796295,0.024334371089935303,-0.07426953315734863,0.0158197283744812,-0.016307324171066284,-0.002145266393199563,-0.0008581578731536865,0.022610999643802643,0.00826883316040039,0.0009738504886627197,-0.003681778907775879,0.008905544877052307,0.00350942462682724,-0.007483541965484619,0.02686859667301178,-0.02762400545179844],[-0.002324700355529785,-0.0009746402502059937,-0.0018942803144454956,-0.02170916460454464,-0.011363327503204346,0.00414372980594635,0.007411518134176731,-0.0021105408668518066,-0.0242612361907959,-0.04643663763999939,-0.021952331066131592,-0.003583379089832306,0.001137174665927887,0.00011241436004638672,-0.003361135721206665,-0.01780453324317932],[0.002671658992767334,0.06915217638015747,-0.0023909732699394226,-0.013865865767002106,-0.007593125104904175,0.015575498342514038,-0.019954591989517212,-0.022260606288909912,0.0026252977550029755,-0.1791529655456543,-0.03156936168670654,-0.011598005890846252,0.009268462657928467,-0.0022506192326545715,-0.021435096859931946,0.003610581159591675],[0.019219085574150085,-0.002950608730316162,-0.00023254752159118652,0.017021983861923218,0.004256933927536011,-0.0237179696559906,-0.0015035346150398254,8.263811469078064e-05,-0.009549856185913086,-0.09146285057067871,-0.01074027270078659,-0.052117109298706055,-0.016557112336158752,-0.18128585815429688,-0.1194157600402832,-0.044922128319740295],[0.05093502998352051,-0.030678987503051758,0.015684783458709717,-0.00021439790725708008,-0.013450399041175842,0.014099657535552979,-0.12574434280395508,-0.012397684156894684,-0.007722139358520508,-0.04251503944396973,-0.010753601789474487,-0.0069713592529296875,-0.0043840110301971436,-0.026466429233551025,0.0021199584007263184,0.032148510217666626],[-0.06777346134185791,0.001840692013502121,-0.05118453502655029,-0.026249989867210388,0.02465178072452545,0.010480642318725586,0.0030092671513557434,-0.025035500526428223,0.2074216604232788,0.0016007572412490845,-0.022526264190673828,0.01181173324584961,0.0014016404747962952,-3.14861536026001e-05,0.0015352368354797363,0.0032729175873100758],[0.023591013625264168,0.002626761794090271,-0.008765101432800293,0.010983765125274658,-0.10541033744812012,-0.00604480504989624,-0.007977485656738281,-0.0052144527435302734,0.01350855827331543,-0.012622106820344925,-0.02359873056411743,-0.00872039794921875,0.005649060010910034,0.005189880728721619,-0.04276520386338234,-0.006697177886962891],[-0.004947580397129059,-0.007365882396697998,-0.004378318786621094,-0.03351902961730957,-0.036195993423461914,-0.0036110877990722656,-0.3428325653076172,0.019411221146583557,-0.003336655907332897,-0.10418701171875,0.003902584547176957,-0.000687330961227417,0.0005955696105957031,-0.005972720682621002,0.007463093847036362,-0.0013935519382357597],[0.0011597499251365662,0.001321554183959961,-0.006091177463531494,0.0004614144563674927,-0.004255414009094238,-0.04295960068702698,-0.00041687488555908203,0.0015012174844741821,-0.008449241518974304,-0.0031759031116962433,-0.041605472564697266,-0.006857169792056084,-0.0029518604278564453,-0.010621249675750732,0.012865111231803894,-0.0029314160346984863],[-0.0007731616497039795,0.005985826253890991,-0.0032173246145248413,-0.008140191435813904,-0.009598404169082642,-0.0014624595642089844,-0.09888410568237305,0.13794279098510742,9.767711162567139e-05,-0.06593465805053711,0.00116720050573349,-0.0026168078184127808,0.0008438229560852051,0.0048796311020851135,0.004087284207344055,-0.007265854626893997],[0.0008659660816192627,0.0125570148229599,-0.010997891426086426,-0.006751954555511475,-0.007541254162788391,0.006658434867858887,0.025281250476837158,-0.0019454658031463623,-0.0019084811210632324,-0.004174709320068359,-0.004554271697998047,-0.013440430164337158,-0.0033828020095825195,-0.009322136640548706,-0.0014791889116168022,-0.012160509824752808],[0.0012028757482767105,-0.15594959259033203,-0.3717818260192871,0.0311489999294281,0.019500017166137695,-0.020908057689666748,-0.03165072202682495,0.004735231399536133,-9.981915354728699e-05,-0.0062232911586761475,0.05764031410217285,-0.00820392370223999,0.04429459571838379,-0.0035168826580047607,-0.009662896394729614,-0.0017294343560934067],[-0.04388931393623352,-0.19089651107788086,0.002347312867641449,0.0017624497413635254,-0.004948735237121582,-0.023119404911994934,-0.17807698249816895,0.006195593625307083,-0.05872678756713867,-0.016759276390075684,-0.024621009826660156,0.015572726726531982,-0.014413714408874512,-0.11346471309661865,-0.01680085062980652,-0.002260148525238037]],\"type\":\"heatmap\",\"xaxis\":\"x2\",\"yaxis\":\"y2\",\"hovertemplate\":\"Head: %{x}\\u003cbr\\u003eLayer: %{y}\\u003cbr\\u003eLogit Contribution: %{z}\\u003cextra\\u003e\\u003c\\u002fextra\\u003e\"}],                        {\"template\":{\"data\":{\"histogram2dcontour\":[{\"type\":\"histogram2dcontour\",\"colorbar\":{\"outlinewidth\":0,\"ticks\":\"\"},\"colorscale\":[[0.0,\"#0d0887\"],[0.1111111111111111,\"#46039f\"],[0.2222222222222222,\"#7201a8\"],[0.3333333333333333,\"#9c179e\"],[0.4444444444444444,\"#bd3786\"],[0.5555555555555556,\"#d8576b\"],[0.6666666666666666,\"#ed7953\"],[0.7777777777777778,\"#fb9f3a\"],[0.8888888888888888,\"#fdca26\"],[1.0,\"#f0f921\"]]}],\"choropleth\":[{\"type\":\"choropleth\",\"colorbar\":{\"outlinewidth\":0,\"ticks\":\"\"}}],\"histogram2d\":[{\"type\":\"histogram2d\",\"colorbar\":{\"outlinewidth\":0,\"ticks\":\"\"},\"colorscale\":[[0.0,\"#0d0887\"],[0.1111111111111111,\"#46039f\"],[0.2222222222222222,\"#7201a8\"],[0.3333333333333333,\"#9c179e\"],[0.4444444444444444,\"#bd3786\"],[0.5555555555555556,\"#d8576b\"],[0.6666666666666666,\"#ed7953\"],[0.7777777777777778,\"#fb9f3a\"],[0.8888888888888888,\"#fdca26\"],[1.0,\"#f0f921\"]]}],\"heatmap\":[{\"type\":\"heatmap\",\"colorbar\":{\"outlinewidth\":0,\"ticks\":\"\"},\"colorscale\":[[0.0,\"#0d0887\"],[0.1111111111111111,\"#46039f\"],[0.2222222222222222,\"#7201a8\"],[0.3333333333333333,\"#9c179e\"],[0.4444444444444444,\"#bd3786\"],[0.5555555555555556,\"#d8576b\"],[0.6666666666666666,\"#ed7953\"],[0.7777777777777778,\"#fb9f3a\"],[0.8888888888888888,\"#fdca26\"],[1.0,\"#f0f921\"]]}],\"heatmapgl\":[{\"type\":\"heatmapgl\",\"colorbar\":{\"outlinewidth\":0,\"ticks\":\"\"},\"colorscale\":[[0.0,\"#0d0887\"],[0.1111111111111111,\"#46039f\"],[0.2222222222222222,\"#7201a8\"],[0.3333333333333333,\"#9c179e\"],[0.4444444444444444,\"#bd3786\"],[0.5555555555555556,\"#d8576b\"],[0.6666666666666666,\"#ed7953\"],[0.7777777777777778,\"#fb9f3a\"],[0.8888888888888888,\"#fdca26\"],[1.0,\"#f0f921\"]]}],\"contourcarpet\":[{\"type\":\"contourcarpet\",\"colorbar\":{\"outlinewidth\":0,\"ticks\":\"\"}}],\"contour\":[{\"type\":\"contour\",\"colorbar\":{\"outlinewidth\":0,\"ticks\":\"\"},\"colorscale\":[[0.0,\"#0d0887\"],[0.1111111111111111,\"#46039f\"],[0.2222222222222222,\"#7201a8\"],[0.3333333333333333,\"#9c179e\"],[0.4444444444444444,\"#bd3786\"],[0.5555555555555556,\"#d8576b\"],[0.6666666666666666,\"#ed7953\"],[0.7777777777777778,\"#fb9f3a\"],[0.8888888888888888,\"#fdca26\"],[1.0,\"#f0f921\"]]}],\"surface\":[{\"type\":\"surface\",\"colorbar\":{\"outlinewidth\":0,\"ticks\":\"\"},\"colorscale\":[[0.0,\"#0d0887\"],[0.1111111111111111,\"#46039f\"],[0.2222222222222222,\"#7201a8\"],[0.3333333333333333,\"#9c179e\"],[0.4444444444444444,\"#bd3786\"],[0.5555555555555556,\"#d8576b\"],[0.6666666666666666,\"#ed7953\"],[0.7777777777777778,\"#fb9f3a\"],[0.8888888888888888,\"#fdca26\"],[1.0,\"#f0f921\"]]}],\"mesh3d\":[{\"type\":\"mesh3d\",\"colorbar\":{\"outlinewidth\":0,\"ticks\":\"\"}}],\"scatter\":[{\"fillpattern\":{\"fillmode\":\"overlay\",\"size\":10,\"solidity\":0.2},\"type\":\"scatter\"}],\"parcoords\":[{\"type\":\"parcoords\",\"line\":{\"colorbar\":{\"outlinewidth\":0,\"ticks\":\"\"}}}],\"scatterpolargl\":[{\"type\":\"scatterpolargl\",\"marker\":{\"colorbar\":{\"outlinewidth\":0,\"ticks\":\"\"}}}],\"bar\":[{\"error_x\":{\"color\":\"#2a3f5f\"},\"error_y\":{\"color\":\"#2a3f5f\"},\"marker\":{\"line\":{\"color\":\"#E5ECF6\",\"width\":0.5},\"pattern\":{\"fillmode\":\"overlay\",\"size\":10,\"solidity\":0.2}},\"type\":\"bar\"}],\"scattergeo\":[{\"type\":\"scattergeo\",\"marker\":{\"colorbar\":{\"outlinewidth\":0,\"ticks\":\"\"}}}],\"scatterpolar\":[{\"type\":\"scatterpolar\",\"marker\":{\"colorbar\":{\"outlinewidth\":0,\"ticks\":\"\"}}}],\"histogram\":[{\"marker\":{\"pattern\":{\"fillmode\":\"overlay\",\"size\":10,\"solidity\":0.2}},\"type\":\"histogram\"}],\"scattergl\":[{\"type\":\"scattergl\",\"marker\":{\"colorbar\":{\"outlinewidth\":0,\"ticks\":\"\"}}}],\"scatter3d\":[{\"type\":\"scatter3d\",\"line\":{\"colorbar\":{\"outlinewidth\":0,\"ticks\":\"\"}},\"marker\":{\"colorbar\":{\"outlinewidth\":0,\"ticks\":\"\"}}}],\"scattermapbox\":[{\"type\":\"scattermapbox\",\"marker\":{\"colorbar\":{\"outlinewidth\":0,\"ticks\":\"\"}}}],\"scatterternary\":[{\"type\":\"scatterternary\",\"marker\":{\"colorbar\":{\"outlinewidth\":0,\"ticks\":\"\"}}}],\"scattercarpet\":[{\"type\":\"scattercarpet\",\"marker\":{\"colorbar\":{\"outlinewidth\":0,\"ticks\":\"\"}}}],\"carpet\":[{\"aaxis\":{\"endlinecolor\":\"#2a3f5f\",\"gridcolor\":\"white\",\"linecolor\":\"white\",\"minorgridcolor\":\"white\",\"startlinecolor\":\"#2a3f5f\"},\"baxis\":{\"endlinecolor\":\"#2a3f5f\",\"gridcolor\":\"white\",\"linecolor\":\"white\",\"minorgridcolor\":\"white\",\"startlinecolor\":\"#2a3f5f\"},\"type\":\"carpet\"}],\"table\":[{\"cells\":{\"fill\":{\"color\":\"#EBF0F8\"},\"line\":{\"color\":\"white\"}},\"header\":{\"fill\":{\"color\":\"#C8D4E3\"},\"line\":{\"color\":\"white\"}},\"type\":\"table\"}],\"barpolar\":[{\"marker\":{\"line\":{\"color\":\"#E5ECF6\",\"width\":0.5},\"pattern\":{\"fillmode\":\"overlay\",\"size\":10,\"solidity\":0.2}},\"type\":\"barpolar\"}],\"pie\":[{\"automargin\":true,\"type\":\"pie\"}]},\"layout\":{\"autotypenumbers\":\"strict\",\"colorway\":[\"#636efa\",\"#EF553B\",\"#00cc96\",\"#ab63fa\",\"#FFA15A\",\"#19d3f3\",\"#FF6692\",\"#B6E880\",\"#FF97FF\",\"#FECB52\"],\"font\":{\"color\":\"#2a3f5f\"},\"hovermode\":\"closest\",\"hoverlabel\":{\"align\":\"left\"},\"paper_bgcolor\":\"white\",\"plot_bgcolor\":\"#E5ECF6\",\"polar\":{\"bgcolor\":\"#E5ECF6\",\"angularaxis\":{\"gridcolor\":\"white\",\"linecolor\":\"white\",\"ticks\":\"\"},\"radialaxis\":{\"gridcolor\":\"white\",\"linecolor\":\"white\",\"ticks\":\"\"}},\"ternary\":{\"bgcolor\":\"#E5ECF6\",\"aaxis\":{\"gridcolor\":\"white\",\"linecolor\":\"white\",\"ticks\":\"\"},\"baxis\":{\"gridcolor\":\"white\",\"linecolor\":\"white\",\"ticks\":\"\"},\"caxis\":{\"gridcolor\":\"white\",\"linecolor\":\"white\",\"ticks\":\"\"}},\"coloraxis\":{\"colorbar\":{\"outlinewidth\":0,\"ticks\":\"\"}},\"colorscale\":{\"sequential\":[[0.0,\"#0d0887\"],[0.1111111111111111,\"#46039f\"],[0.2222222222222222,\"#7201a8\"],[0.3333333333333333,\"#9c179e\"],[0.4444444444444444,\"#bd3786\"],[0.5555555555555556,\"#d8576b\"],[0.6666666666666666,\"#ed7953\"],[0.7777777777777778,\"#fb9f3a\"],[0.8888888888888888,\"#fdca26\"],[1.0,\"#f0f921\"]],\"sequentialminus\":[[0.0,\"#0d0887\"],[0.1111111111111111,\"#46039f\"],[0.2222222222222222,\"#7201a8\"],[0.3333333333333333,\"#9c179e\"],[0.4444444444444444,\"#bd3786\"],[0.5555555555555556,\"#d8576b\"],[0.6666666666666666,\"#ed7953\"],[0.7777777777777778,\"#fb9f3a\"],[0.8888888888888888,\"#fdca26\"],[1.0,\"#f0f921\"]],\"diverging\":[[0,\"#8e0152\"],[0.1,\"#c51b7d\"],[0.2,\"#de77ae\"],[0.3,\"#f1b6da\"],[0.4,\"#fde0ef\"],[0.5,\"#f7f7f7\"],[0.6,\"#e6f5d0\"],[0.7,\"#b8e186\"],[0.8,\"#7fbc41\"],[0.9,\"#4d9221\"],[1,\"#276419\"]]},\"xaxis\":{\"gridcolor\":\"white\",\"linecolor\":\"white\",\"ticks\":\"\",\"title\":{\"standoff\":15},\"zerolinecolor\":\"white\",\"automargin\":true,\"zerolinewidth\":2},\"yaxis\":{\"gridcolor\":\"white\",\"linecolor\":\"white\",\"ticks\":\"\",\"title\":{\"standoff\":15},\"zerolinecolor\":\"white\",\"automargin\":true,\"zerolinewidth\":2},\"scene\":{\"xaxis\":{\"backgroundcolor\":\"#E5ECF6\",\"gridcolor\":\"white\",\"linecolor\":\"white\",\"showbackground\":true,\"ticks\":\"\",\"zerolinecolor\":\"white\",\"gridwidth\":2},\"yaxis\":{\"backgroundcolor\":\"#E5ECF6\",\"gridcolor\":\"white\",\"linecolor\":\"white\",\"showbackground\":true,\"ticks\":\"\",\"zerolinecolor\":\"white\",\"gridwidth\":2},\"zaxis\":{\"backgroundcolor\":\"#E5ECF6\",\"gridcolor\":\"white\",\"linecolor\":\"white\",\"showbackground\":true,\"ticks\":\"\",\"zerolinecolor\":\"white\",\"gridwidth\":2}},\"shapedefaults\":{\"line\":{\"color\":\"#2a3f5f\"}},\"annotationdefaults\":{\"arrowcolor\":\"#2a3f5f\",\"arrowhead\":0,\"arrowwidth\":1},\"geo\":{\"bgcolor\":\"white\",\"landcolor\":\"#E5ECF6\",\"subunitcolor\":\"white\",\"showland\":true,\"showlakes\":true,\"lakecolor\":\"white\"},\"title\":{\"x\":0.05},\"mapbox\":{\"style\":\"light\"}}},\"xaxis\":{\"anchor\":\"y\",\"domain\":[0.0,0.49],\"scaleanchor\":\"y\",\"constrain\":\"domain\",\"title\":{\"text\":\"Head\"},\"showline\":true,\"linewidth\":1,\"linecolor\":\"black\",\"mirror\":true},\"yaxis\":{\"anchor\":\"x\",\"domain\":[0.0,1.0],\"autorange\":\"reversed\",\"constrain\":\"domain\",\"title\":{\"text\":\"Layer\"},\"showline\":true,\"linewidth\":1,\"linecolor\":\"black\",\"mirror\":true},\"xaxis2\":{\"anchor\":\"y2\",\"domain\":[0.51,1.0],\"matches\":\"x\",\"title\":{\"text\":\"Head\"},\"showline\":true,\"linewidth\":1,\"linecolor\":\"black\",\"mirror\":true},\"yaxis2\":{\"anchor\":\"x2\",\"domain\":[0.0,1.0],\"matches\":\"y\",\"showticklabels\":false,\"showline\":true,\"linewidth\":1,\"linecolor\":\"black\",\"mirror\":true},\"annotations\":[{\"font\":{},\"showarrow\":false,\"text\":\"New Logit Diff - 4.69\",\"x\":0.245,\"xanchor\":\"center\",\"xref\":\"paper\",\"y\":1.0,\"yanchor\":\"bottom\",\"yref\":\"paper\"},{\"font\":{},\"showarrow\":false,\"text\":\"New Logit Diff - Clean Logit Diff\",\"x\":0.755,\"xanchor\":\"center\",\"xref\":\"paper\",\"y\":1.0,\"yanchor\":\"bottom\",\"yref\":\"paper\"}],\"coloraxis\":{\"colorbar\":{\"title\":{\"text\":\"Logit Contribution\"}},\"colorscale\":[[0.0,\"rgb(103,0,31)\"],[0.1,\"rgb(178,24,43)\"],[0.2,\"rgb(214,96,77)\"],[0.3,\"rgb(244,165,130)\"],[0.4,\"rgb(253,219,199)\"],[0.5,\"rgb(247,247,247)\"],[0.6,\"rgb(209,229,240)\"],[0.7,\"rgb(146,197,222)\"],[0.8,\"rgb(67,147,195)\"],[0.9,\"rgb(33,102,172)\"],[1.0,\"rgb(5,48,97)\"]],\"cmid\":0.0},\"title\":{\"text\":\"Logits When Sample Ablating in NMHs\"},\"width\":1000,\"margin\":{\"r\":100,\"l\":100}},                        {\"responsive\": true}                    ).then(function(){\n",
       "                            \n",
       "var gd = document.getElementById('12cc2ae7-b813-42ee-8184-1566d3e247b4');\n",
       "var x = new MutationObserver(function (mutations, observer) {{\n",
       "        var display = window.getComputedStyle(gd).display;\n",
       "        if (!display || display === 'none') {{\n",
       "            console.log([gd, 'removed!']);\n",
       "            Plotly.purge(gd);\n",
       "            observer.disconnect();\n",
       "        }}\n",
       "}});\n",
       "\n",
       "// Listen for the removal of the full notebook cells\n",
       "var notebookContainer = gd.closest('#notebook-container');\n",
       "if (notebookContainer) {{\n",
       "    x.observe(notebookContainer, {childList: true});\n",
       "}}\n",
       "\n",
       "// Listen for the clearing of the current output cell\n",
       "var outputEl = gd.closest('.output');\n",
       "if (outputEl) {{\n",
       "    x.observe(outputEl, {childList: true});\n",
       "}}\n",
       "\n",
       "                        })                };                });            </script>        </div>"
      ]
     },
     "metadata": {},
     "output_type": "display_data"
    }
   ],
   "source": [
    "heads =  [(9,9), (9,6), (10,0)]\n",
    "model.reset_hooks() # callum library buggy\n",
    "def return_item(item):\n",
    "  return item\n",
    "\n",
    "model.reset_hooks()\n",
    "patched_logits = act_patch(\n",
    "    model = model,\n",
    "    orig_input = clean_tokens,\n",
    "    new_cache = corrupted_cache,\n",
    "    patching_nodes = [Node(\"z\", layer = layer, head = head) for layer, head in heads],\n",
    "    patching_metric = return_item,\n",
    "    verbose = False,\n",
    "    apply_metric_to_cache = False\n",
    ")\n",
    "\n",
    "model.reset_hooks()\n",
    "noise_patching_results = act_patch(\n",
    "    model = model,\n",
    "    orig_input = clean_tokens,\n",
    "    new_cache = corrupted_cache,\n",
    "    patching_nodes = [Node(\"z\", layer = layer, head = head) for layer, head in heads],\n",
    "    patching_metric = partial(display_corrupted_clean_logits, title = f\"Logits When Sample Ablating in NMHs\", comparison = True, logits = patched_logits),\n",
    "    verbose = False,\n",
    "    apply_metric_to_cache = True\n",
    ")"
   ]
  },
  {
   "cell_type": "code",
   "execution_count": 78,
   "metadata": {},
   "outputs": [],
   "source": [
    "neg_m_heads = [(10,7), (11,10)]\n",
    "name_mover_heads = [(9,9), (9,6), (10,0)]\n",
    "backup_heads = [(9,0), (9,7), (10,1), (10,2), (10,6), (10,10), (11,2), (11,9)]\n",
    "key_backup_heads = [(10,2), (10,10), (11,2)]\n",
    "strong_neg_backup_heads = [(11,2), (10,2), (10,0), (11,6)]\n",
    "\n",
    "\n",
    "\n",
    "head_names = [\"Negative\", \"Name Mover\", \"Backup\"]\n",
    "head_list = [neg_m_heads, name_mover_heads, backup_heads]"
   ]
  },
  {
   "cell_type": "code",
   "execution_count": 79,
   "metadata": {},
   "outputs": [],
   "source": [
    "def store_activation(\n",
    "    activation,\n",
    "    hook: HookPoint,\n",
    "    where_to_store\n",
    "):\n",
    "    \"\"\"\n",
    "    takes a storage container where_to_store, and stores the activation in it at a hook\n",
    "    \"\"\"\"\"\n",
    "    where_to_store[:] = activation"
   ]
  },
  {
   "cell_type": "code",
   "execution_count": 80,
   "metadata": {},
   "outputs": [],
   "source": [
    "def kq_rewrite_hook(\n",
    "    internal_value: Float[Tensor, \"batch seq head d_head\"],\n",
    "    hook: HookPoint,\n",
    "    head,\n",
    "    unnormalized_resid:  Float[Tensor, \"batch seq d_model\"],\n",
    "    vector,\n",
    "    act_name,\n",
    "    scale = 1,\n",
    "    position = -1,\n",
    "    pre_ln = True\n",
    "):\n",
    "  \"\"\"\n",
    "  replaces keys or queries with a new result which we get from adding a vector to a position at the residual stream\n",
    "  head: tuple for head to rewrite keys for\n",
    "  unnormalized_resid: stored unnormalized residual stream needed to recalculated activations\n",
    "  \"\"\"\n",
    "\n",
    "  ln1 = model.blocks[hook.layer()].ln1\n",
    "  temp_resid = unnormalized_resid.clone()\n",
    "\n",
    "  if pre_ln:\n",
    "    temp_resid[:, position, :] = temp_resid[:, position, :] + scale * vector\n",
    "    normalized_resid = ln1(temp_resid)\n",
    "  else:\n",
    "    temp_resid = ln1(temp_resid)\n",
    "    temp_resid[:, position, :] = temp_resid[:, position, :] + scale * vector\n",
    "    normalized_resid = temp_resid\n",
    "\n",
    "\n",
    "  assert act_name == \"q\" or act_name == \"k\"\n",
    "  if act_name == \"q\":\n",
    "    W_Q, b_Q = model.W_Q[head[0], head[1]], model.b_Q[head[0], head[1]]\n",
    "    internal_value[..., head[1], :] = einops.einsum(normalized_resid, W_Q, \"batch seq d_model, d_model d_head -> batch seq d_head\") + b_Q\n",
    "\n",
    "  elif act_name == \"k\":\n",
    "    W_K, b_K = model.W_K[head[0], head[1]], model.b_K[head[0], head[1]]\n",
    "    internal_value[..., head[1], :] = einops.einsum(normalized_resid, W_K, \"batch seq d_model, d_model d_head -> batch seq d_head\") + b_K\n"
   ]
  },
  {
   "cell_type": "code",
   "execution_count": 81,
   "metadata": {},
   "outputs": [],
   "source": [
    "def patch_head_vector(\n",
    "    head_vector: Float[Tensor, \"batch pos head_index d_head\"],\n",
    "    hook: HookPoint,\n",
    "    head_indices: int,\n",
    "    other_cache: ActivationCache\n",
    ") -> Float[Tensor, \"batch pos head_index d_head\"]:\n",
    "    '''\n",
    "    Patches the output of a given head (before it's added to the residual stream) at\n",
    "    every sequence position, using the value from the other cache.\n",
    "    '''\n",
    "    for head_index in head_indices:\n",
    "      head_vector[:, :, head_index] = other_cache[hook.name][:, :, head_index]\n",
    "    return head_vector"
   ]
  },
  {
   "cell_type": "code",
   "execution_count": 82,
   "metadata": {},
   "outputs": [],
   "source": [
    "def patch_ln_scale(ln_scale, hook):\n",
    "  #print(torch.equal(ln_scale, clean_cache[\"blocks.\" + str(hook.layer()) + \".ln1.hook_scale\"]))\n",
    "  ln_scale = clean_cache[\"blocks.\" + str(hook.layer()) + \".ln1.hook_scale\"]\n",
    "  return ln_scale"
   ]
  },
  {
   "cell_type": "code",
   "execution_count": 83,
   "metadata": {},
   "outputs": [],
   "source": [
    "def causal_write_into_component(act_comp, head, direction, x, pre_ln = True, result_cache_function = None, result_cache_fun_has_head_input = False, freeze_layernorm = False, ablate_heads = []):\n",
    "  '''\n",
    "  writes a vector into the component at a given head\n",
    "  returns new logit differences of run by default, or pass result_cache_funciton to run on cache\n",
    "\n",
    "  head - tuple for head to intervene in act_comp for\n",
    "  direction - vector to add to the act_comp in the head\n",
    "  x - tensor of amount to scale\n",
    "  '''\n",
    "  y = torch.zeros(x.shape)\n",
    "  for i in range(len(x)):\n",
    "    scale = x[i]\n",
    "    model.reset_hooks()\n",
    "    temp = torch.zeros((batch_size, seq_len, model.cfg.d_model)).cuda()\n",
    "    model.add_hook(utils.get_act_name(\"resid_pre\", head[0]), partial(store_activation, where_to_store = temp))\n",
    "    if freeze_layernorm:\n",
    "      model.add_hook(\"blocks.\" + str(head[0]) + \".ln1.hook_scale\", patch_ln_scale)\n",
    "    model.add_hook(utils.get_act_name(act_comp, head[0]), partial(kq_rewrite_hook, head = head, unnormalized_resid = temp, vector = direction, act_name = act_comp, scale = scale, pre_ln = pre_ln))\n",
    "\n",
    "\n",
    "    if len(ablate_heads) != 0:\n",
    "      for j in ablate_heads:\n",
    "        model.add_hook(utils.get_act_name(\"z\", j[0]), partial(patch_head_vector, head_indices = [j[1]], other_cache = corrupted_cache))\n",
    "\n",
    "\n",
    "    hooked_logits, hooked_cache = model.run_with_cache(clean_tokens)\n",
    "    model.reset_hooks()\n",
    "\n",
    "\n",
    "    if result_cache_function != None:\n",
    "      if not result_cache_fun_has_head_input:\n",
    "        y[i] = result_cache_function(hooked_cache)\n",
    "      else:\n",
    "        y[i] = result_cache_function(hooked_cache, head)\n",
    "    else:\n",
    "      # just calculate logit diff\n",
    "      y[i] = logits_to_ave_logit_diff(hooked_logits)\n",
    "\n",
    "  return y\n"
   ]
  },
  {
   "cell_type": "code",
   "execution_count": 84,
   "metadata": {},
   "outputs": [],
   "source": [
    "def graph_lines(results, heads, x, title = \"Effect of adding/subtracting direction\", xtitle = \"Scaling on direction\", ytitle = \"Logit Diff\"):\n",
    "  fig = px.line(title = title)\n",
    "  for i in range(len(results)):\n",
    "    fig.add_trace(go.Scatter(x = x, y = results[i], name = str(heads[i])))\n",
    "\n",
    "  fig.update_xaxes(title = xtitle)\n",
    "  fig.update_yaxes(title = ytitle)\n",
    "  fig.show()"
   ]
  },
  {
   "cell_type": "code",
   "execution_count": 85,
   "metadata": {},
   "outputs": [],
   "source": [
    "def get_head_IO_minus_S_attn(cache, head):\n",
    "\n",
    "  layer, h_index = head\n",
    "\n",
    "  attention_patten = cache[\"pattern\", layer]\n",
    "  S1 = attention_patten.mean(0)[h_index][-1][2].item()\n",
    "  IO = attention_patten.mean(0)[h_index][-1][4].item()\n",
    "  S2 = attention_patten.mean(0)[h_index][-1][10].item()\n",
    "\n",
    "  return IO - S1 - S2\n",
    "\n",
    "def get_head_attn(cache, head, token):\n",
    "\n",
    "  layer, h_index = head\n",
    "\n",
    "  attention_patten = cache[\"pattern\", layer]\n",
    "\n",
    "  if token == \"S1\":\n",
    "     return attention_patten.mean(0)[h_index][-1][2].item()\n",
    "  elif token == \"IO\":\n",
    "     return attention_patten.mean(0)[h_index][-1][4].item()\n",
    "  elif token == \"S2\":\n",
    "     return attention_patten.mean(0)[h_index][-1][10].item()\n",
    "  elif token == \"BOS\":\n",
    "     return attention_patten.mean(0)[h_index][-1][0].item()\n",
    "  else:\n",
    "    print(\"RAHHHHH YOU MISSTYPED SOMETHING\")\n",
    "\n",
    "def patch_head_vector(\n",
    "    head_vector: Float[Tensor, \"batch pos head_index d_head\"],\n",
    "    hook: HookPoint,\n",
    "    head_indices: int,\n",
    "    other_cache: ActivationCache\n",
    ") -> Float[Tensor, \"batch pos head_index d_head\"]:\n",
    "    '''\n",
    "    Patches the output of a given head (before it's added to the residual stream) at\n",
    "    every sequence position, using the value from the other cache.\n",
    "    '''\n",
    "    for head_index in head_indices:\n",
    "      head_vector[:, :, head_index] = other_cache[hook.name][:, :, head_index]\n",
    "    return head_vector\n",
    "\n",
    "def get_attn_results_into_head_dirs(heads, direction, scale_amounts, ablate_heads = []):\n",
    "  io_attn_postln_nmh_results = []\n",
    "  for i in range(len(heads)):\n",
    "    io_attn_postln_nmh_results.append(causal_write_into_component(\"q\", heads[i], direction, scale_amounts,\n",
    "                                                        pre_ln = True, result_cache_function = partial(get_head_attn, token = \"IO\"), result_cache_fun_has_head_input = True, ablate_heads=ablate_heads))\n",
    "\n",
    "\n",
    "  s1_attn_postln_nmh_results = []\n",
    "  for i in range(len(heads)):\n",
    "    s1_attn_postln_nmh_results.append(causal_write_into_component(\"q\", heads[i], direction, scale_amounts,\n",
    "                                                        pre_ln = True, result_cache_function = partial(get_head_attn, token = \"S1\"), result_cache_fun_has_head_input = True, ablate_heads=ablate_heads))\n",
    "\n",
    "  s2_attn_postln_nmh_results = []\n",
    "  for i in range(len(heads)):\n",
    "    s2_attn_postln_nmh_results.append(causal_write_into_component(\"q\", heads[i], direction, scale_amounts,\n",
    "                                                        pre_ln = True, result_cache_function = partial(get_head_attn, token = \"S2\"), result_cache_fun_has_head_input = True, ablate_heads=ablate_heads))\n",
    "\n",
    "  diff_results = []\n",
    "  for i in range(len(heads)):\n",
    "    diff_results.append(causal_write_into_component(\"q\", heads[i], direction, scale_amounts,\n",
    "                                                        pre_ln = True, result_cache_function = get_head_IO_minus_S_attn, result_cache_fun_has_head_input = True, ablate_heads=ablate_heads))\n",
    "\n",
    "\n",
    "  bos_attn_postln_nmh_results = []\n",
    "  for i in range(len(heads)):\n",
    "    bos_attn_postln_nmh_results.append(causal_write_into_component(\"q\", heads[i], direction, scale_amounts,\n",
    "                                                        pre_ln = True, result_cache_function = partial(get_head_attn, token = \"BOS\"), result_cache_fun_has_head_input = True, ablate_heads=ablate_heads))\n",
    "\n",
    "  return [io_attn_postln_nmh_results, s1_attn_postln_nmh_results, s2_attn_postln_nmh_results, diff_results, bos_attn_postln_nmh_results]"
   ]
  },
  {
   "cell_type": "code",
   "execution_count": 86,
   "metadata": {},
   "outputs": [],
   "source": [
    "IO_unembed_direction = model.W_U.T[clean_tokens][:, 4, :]"
   ]
  },
  {
   "cell_type": "code",
   "execution_count": 87,
   "metadata": {},
   "outputs": [],
   "source": [
    "def get_projection_onto(a, b):\n",
    "  '''\n",
    "  gets projection of a onto b\n",
    "  '''\n",
    "  dot_product = einops.einsum(a, b, \"batch d_model, batch d_model -> batch\")\n",
    "  length_of_vector = einops.einsum(b, b, \"batch d_model, batch d_model -> batch\")\n",
    "  projected_lengths = dot_product / length_of_vector\n",
    "  return b * einops.repeat(projected_lengths, \"batch -> batch d_model\", d_model = model.cfg.d_model)\n",
    "\n",
    "\n",
    "def get_io_and_non_io(direction):\n",
    " \n",
    "  io_in_9_9_direction = get_projection_onto(direction, IO_unembed_direction)\n",
    "  everything_but_9_9_direction = direction - io_in_9_9_direction\n",
    "  return io_in_9_9_direction, everything_but_9_9_direction"
   ]
  },
  {
   "cell_type": "markdown",
   "metadata": {},
   "source": [
    "# Looking into GPT-2 Backup"
   ]
  },
  {
   "cell_type": "code",
   "execution_count": 88,
   "metadata": {},
   "outputs": [],
   "source": [
    "W_O_9_9 = model.W_O[9,9]\n",
    "\n",
    "layer_nine_z = clean_cache[utils.get_act_name(\"z\", 9)]\n",
    "layer_nine_result = einops.einsum(W_O_9_9, layer_nine_z, \"d_head d_model, batch seq h_idx d_head -> batch seq h_idx d_model\")\n",
    "output_9_9 = layer_nine_result[:, -1, 9, :]     #[:, 10, :]  # 10 = Subject,   4 = IO\n",
    "\n",
    "_, non_9_9_io = get_io_and_non_io(output_9_9)\n",
    "\n",
    "W_O_9_6 = model.W_O[9,6]\n",
    "layer_nine_z = clean_cache[utils.get_act_name(\"z\", 9)]\n",
    "layer_nine_result = einops.einsum(W_O_9_6, layer_nine_z, \"d_head d_model, batch seq h_idx d_head -> batch seq h_idx d_model\")\n",
    "output_9_6 = layer_nine_result[:, -1, 6, :]     #[:, 10, :]  # 10 = Subject,   4 = IO\n",
    "\n",
    "_, non_9_6_io = get_io_and_non_io(output_9_6)"
   ]
  },
  {
   "cell_type": "code",
   "execution_count": 89,
   "metadata": {},
   "outputs": [],
   "source": [
    "overlap_dir = get_projection_onto(non_9_9_io, non_9_6_io)"
   ]
  },
  {
   "cell_type": "code",
   "execution_count": 98,
   "metadata": {},
   "outputs": [],
   "source": [
    "scaling_amounts = torch.linspace(-20, 20, 101)\n",
    "overlap_into_backup = get_attn_results_into_head_dirs(top_neg_heads, overlap_dir, scaling_amounts)"
   ]
  },
  {
   "cell_type": "code",
   "execution_count": 100,
   "metadata": {},
   "outputs": [
    {
     "data": {
      "application/vnd.plotly.v1+json": {
       "config": {
        "plotlyServerURL": "https://plot.ly"
       },
       "data": [
        {
         "legendgroup": "0",
         "line": {
          "color": "pink"
         },
         "name": "[15, 6]",
         "type": "scatter",
         "x": [
          -20,
          -19.600000381469727,
          -19.200000762939453,
          -18.799999237060547,
          -18.399999618530273,
          -18,
          -17.600000381469727,
          -17.200000762939453,
          -16.799999237060547,
          -16.399999618530273,
          -16,
          -15.600000381469727,
          -15.199999809265137,
          -14.800000190734863,
          -14.399999618530273,
          -14,
          -13.600000381469727,
          -13.199999809265137,
          -12.800000190734863,
          -12.399999618530273,
          -12,
          -11.59999942779541,
          -11.199999809265137,
          -10.800000190734863,
          -10.399999618530273,
          -10,
          -9.59999942779541,
          -9.199999809265137,
          -8.800000190734863,
          -8.399999618530273,
          -8,
          -7.599999904632568,
          -7.199999809265137,
          -6.799999713897705,
          -6.399999618530273,
          -6,
          -5.599999904632568,
          -5.199999809265137,
          -4.799999713897705,
          -4.399999618530273,
          -3.999999761581421,
          -3.5999996662139893,
          -3.1999998092651367,
          -2.799999713897705,
          -2.3999996185302734,
          -1.999999761581421,
          -1.5999996662139893,
          -1.1999996900558472,
          -0.7999997138977051,
          -0.3999997079372406,
          -2.980232238769531e-7,
          0.3999997079372406,
          0.7999997138977051,
          1.1999996900558472,
          1.5999996662139893,
          1.999999761581421,
          2.3999996185302734,
          2.799999713897705,
          3.1999998092651367,
          3.5999996662139893,
          3.999999761581421,
          4.399999618530273,
          4.799999713897705,
          5.199999809265137,
          5.599999904632568,
          6,
          6.399999618530273,
          6.799999713897705,
          7.199999809265137,
          7.599999904632568,
          8,
          8.399999618530273,
          8.800000190734863,
          9.199999809265137,
          9.59999942779541,
          10,
          10.399999618530273,
          10.800000190734863,
          11.199999809265137,
          11.59999942779541,
          12,
          12.399999618530273,
          12.800000190734863,
          13.199999809265137,
          13.600000381469727,
          14,
          14.399999618530273,
          14.800000190734863,
          15.199999809265137,
          15.600000381469727,
          16,
          16.399999618530273,
          16.799999237060547,
          17.200000762939453,
          17.600000381469727,
          18,
          18.399999618530273,
          18.799999237060547,
          19.200000762939453,
          19.600000381469727,
          20
         ],
         "xaxis": "x",
         "y": [
          0.42916035652160645,
          0.4276773929595947,
          0.42617711424827576,
          0.42465969920158386,
          0.42312508821487427,
          0.42157307267189026,
          0.4200051426887512,
          0.4184204638004303,
          0.41681981086730957,
          0.41520243883132935,
          0.4135701358318329,
          0.41192299127578735,
          0.41025957465171814,
          0.40858203172683716,
          0.4068896770477295,
          0.4051833152770996,
          0.40346264839172363,
          0.4017286002635956,
          0.3999811112880707,
          0.3982198238372803,
          0.3964463174343109,
          0.39466002583503723,
          0.3928615152835846,
          0.3910510241985321,
          0.3892286717891693,
          0.38739466667175293,
          0.38554978370666504,
          0.3836946189403534,
          0.3818281292915344,
          0.37995171546936035,
          0.3780656158924103,
          0.37616977095603943,
          0.37426456809043884,
          0.3723497986793518,
          0.37042728066444397,
          0.36849600076675415,
          0.36655640602111816,
          0.3646091818809509,
          0.36265501379966736,
          0.3606925904750824,
          0.358724445104599,
          0.35674914717674255,
          0.3547680974006653,
          0.3527800738811493,
          0.35078760981559753,
          0.348789781332016,
          0.3467865586280823,
          0.3447788655757904,
          0.34276682138442993,
          0.3407507836818695,
          0.3387310206890106,
          0.33670759201049805,
          0.33468127250671387,
          0.33265239000320435,
          0.330620676279068,
          0.32858729362487793,
          0.32655152678489685,
          0.3245142698287964,
          0.32247620820999146,
          0.3204367160797119,
          0.3183971345424652,
          0.31635671854019165,
          0.31431612372398376,
          0.3122761845588684,
          0.3102366626262665,
          0.3081977963447571,
          0.3061601221561432,
          0.3041238784790039,
          0.30208930373191833,
          0.30005666613578796,
          0.29802635312080383,
          0.29599881172180176,
          0.29397377371788025,
          0.29195165634155273,
          0.28993305563926697,
          0.28791818022727966,
          0.28590697050094604,
          0.28389984369277954,
          0.2818973958492279,
          0.2798992097377777,
          0.27790603041648865,
          0.2759179174900055,
          0.2739352583885193,
          0.27195799350738525,
          0.26998651027679443,
          0.26802119612693787,
          0.26606231927871704,
          0.26410940289497375,
          0.2621636390686035,
          0.26022443175315857,
          0.25829261541366577,
          0.25636783242225647,
          0.2544507682323456,
          0.2525411546230316,
          0.2506396770477295,
          0.24874602258205414,
          0.24686065316200256,
          0.2449837177991867,
          0.24311530590057373,
          0.2412557452917099,
          0.23940511047840118
         ],
         "yaxis": "y"
        },
        {
         "legendgroup": "1",
         "line": {
          "color": "darkviolet"
         },
         "name": "[20, 7]",
         "type": "scatter",
         "x": [
          -20,
          -19.600000381469727,
          -19.200000762939453,
          -18.799999237060547,
          -18.399999618530273,
          -18,
          -17.600000381469727,
          -17.200000762939453,
          -16.799999237060547,
          -16.399999618530273,
          -16,
          -15.600000381469727,
          -15.199999809265137,
          -14.800000190734863,
          -14.399999618530273,
          -14,
          -13.600000381469727,
          -13.199999809265137,
          -12.800000190734863,
          -12.399999618530273,
          -12,
          -11.59999942779541,
          -11.199999809265137,
          -10.800000190734863,
          -10.399999618530273,
          -10,
          -9.59999942779541,
          -9.199999809265137,
          -8.800000190734863,
          -8.399999618530273,
          -8,
          -7.599999904632568,
          -7.199999809265137,
          -6.799999713897705,
          -6.399999618530273,
          -6,
          -5.599999904632568,
          -5.199999809265137,
          -4.799999713897705,
          -4.399999618530273,
          -3.999999761581421,
          -3.5999996662139893,
          -3.1999998092651367,
          -2.799999713897705,
          -2.3999996185302734,
          -1.999999761581421,
          -1.5999996662139893,
          -1.1999996900558472,
          -0.7999997138977051,
          -0.3999997079372406,
          -2.980232238769531e-7,
          0.3999997079372406,
          0.7999997138977051,
          1.1999996900558472,
          1.5999996662139893,
          1.999999761581421,
          2.3999996185302734,
          2.799999713897705,
          3.1999998092651367,
          3.5999996662139893,
          3.999999761581421,
          4.399999618530273,
          4.799999713897705,
          5.199999809265137,
          5.599999904632568,
          6,
          6.399999618530273,
          6.799999713897705,
          7.199999809265137,
          7.599999904632568,
          8,
          8.399999618530273,
          8.800000190734863,
          9.199999809265137,
          9.59999942779541,
          10,
          10.399999618530273,
          10.800000190734863,
          11.199999809265137,
          11.59999942779541,
          12,
          12.399999618530273,
          12.800000190734863,
          13.199999809265137,
          13.600000381469727,
          14,
          14.399999618530273,
          14.800000190734863,
          15.199999809265137,
          15.600000381469727,
          16,
          16.399999618530273,
          16.799999237060547,
          17.200000762939453,
          17.600000381469727,
          18,
          18.399999618530273,
          18.799999237060547,
          19.200000762939453,
          19.600000381469727,
          20
         ],
         "xaxis": "x",
         "y": [
          0.6610895395278931,
          0.6588141322135925,
          0.6565260291099548,
          0.6542250514030457,
          0.6519112586975098,
          0.649584949016571,
          0.6472464799880981,
          0.6448955535888672,
          0.6425325274467468,
          0.6401576399803162,
          0.6377712488174438,
          0.6353729367256165,
          0.6329633593559265,
          0.6305422186851501,
          0.6281103491783142,
          0.62566739320755,
          0.6232137084007263,
          0.6207495331764221,
          0.6182748079299927,
          0.615790069103241,
          0.6132950782775879,
          0.6107906699180603,
          0.6082763075828552,
          0.6057526469230652,
          0.603219747543335,
          0.6006777286529541,
          0.5981269478797913,
          0.5955674052238464,
          0.5929993987083435,
          0.590423583984375,
          0.5878395438194275,
          0.5852476358413696,
          0.582647979259491,
          0.5800411105155945,
          0.5774268507957458,
          0.5748056769371033,
          0.5721780061721802,
          0.5695434808731079,
          0.566902756690979,
          0.5642558932304382,
          0.5616031289100647,
          0.558944582939148,
          0.5562807321548462,
          0.5536114573478699,
          0.5509370565414429,
          0.5482576489448547,
          0.545573890209198,
          0.5428854823112488,
          0.5401930212974548,
          0.5374965071678162,
          0.5347961187362671,
          0.532092273235321,
          0.529384970664978,
          0.5266744494438171,
          0.5239608287811279,
          0.5212446451187134,
          0.5185258388519287,
          0.515804648399353,
          0.5130812525749207,
          0.5103561282157898,
          0.5076290965080261,
          0.5049005746841431,
          0.502170741558075,
          0.4994398057460785,
          0.4967077374458313,
          0.49397507309913635,
          0.49124184250831604,
          0.48850852251052856,
          0.4857747256755829,
          0.4830411374568939,
          0.4803077280521393,
          0.47757488489151,
          0.47484245896339417,
          0.47211119532585144,
          0.4693806767463684,
          0.46665164828300476,
          0.4639239013195038,
          0.4611978232860565,
          0.4584735929965973,
          0.4557512700557709,
          0.4530312716960907,
          0.45031365752220154,
          0.4475984573364258,
          0.4448865056037903,
          0.4421772062778473,
          0.43947121500968933,
          0.43676862120628357,
          0.4340694546699524,
          0.43137428164482117,
          0.4286828637123108,
          0.42599567770957947,
          0.4233129620552063,
          0.42063483595848083,
          0.4179614186286926,
          0.4152928292751312,
          0.4126296043395996,
          0.4099716246128082,
          0.40731945633888245,
          0.40467262268066406,
          0.40203219652175903,
          0.39939767122268677
         ],
         "yaxis": "y"
        },
        {
         "legendgroup": "2",
         "line": {
          "color": "blue"
         },
         "name": "[17, 8]",
         "type": "scatter",
         "x": [
          -20,
          -19.600000381469727,
          -19.200000762939453,
          -18.799999237060547,
          -18.399999618530273,
          -18,
          -17.600000381469727,
          -17.200000762939453,
          -16.799999237060547,
          -16.399999618530273,
          -16,
          -15.600000381469727,
          -15.199999809265137,
          -14.800000190734863,
          -14.399999618530273,
          -14,
          -13.600000381469727,
          -13.199999809265137,
          -12.800000190734863,
          -12.399999618530273,
          -12,
          -11.59999942779541,
          -11.199999809265137,
          -10.800000190734863,
          -10.399999618530273,
          -10,
          -9.59999942779541,
          -9.199999809265137,
          -8.800000190734863,
          -8.399999618530273,
          -8,
          -7.599999904632568,
          -7.199999809265137,
          -6.799999713897705,
          -6.399999618530273,
          -6,
          -5.599999904632568,
          -5.199999809265137,
          -4.799999713897705,
          -4.399999618530273,
          -3.999999761581421,
          -3.5999996662139893,
          -3.1999998092651367,
          -2.799999713897705,
          -2.3999996185302734,
          -1.999999761581421,
          -1.5999996662139893,
          -1.1999996900558472,
          -0.7999997138977051,
          -0.3999997079372406,
          -2.980232238769531e-7,
          0.3999997079372406,
          0.7999997138977051,
          1.1999996900558472,
          1.5999996662139893,
          1.999999761581421,
          2.3999996185302734,
          2.799999713897705,
          3.1999998092651367,
          3.5999996662139893,
          3.999999761581421,
          4.399999618530273,
          4.799999713897705,
          5.199999809265137,
          5.599999904632568,
          6,
          6.399999618530273,
          6.799999713897705,
          7.199999809265137,
          7.599999904632568,
          8,
          8.399999618530273,
          8.800000190734863,
          9.199999809265137,
          9.59999942779541,
          10,
          10.399999618530273,
          10.800000190734863,
          11.199999809265137,
          11.59999942779541,
          12,
          12.399999618530273,
          12.800000190734863,
          13.199999809265137,
          13.600000381469727,
          14,
          14.399999618530273,
          14.800000190734863,
          15.199999809265137,
          15.600000381469727,
          16,
          16.399999618530273,
          16.799999237060547,
          17.200000762939453,
          17.600000381469727,
          18,
          18.399999618530273,
          18.799999237060547,
          19.200000762939453,
          19.600000381469727,
          20
         ],
         "xaxis": "x",
         "y": [
          0.46665000915527344,
          0.46520692110061646,
          0.46375495195388794,
          0.462294340133667,
          0.4608252942562103,
          0.45934781432151794,
          0.4578622877597809,
          0.45636874437332153,
          0.45486727356910706,
          0.45335832238197327,
          0.451841801404953,
          0.45031794905662537,
          0.4487871825695038,
          0.4472494125366211,
          0.44570499658584595,
          0.4441540837287903,
          0.4425968825817108,
          0.4410335123538971,
          0.4394642412662506,
          0.4378894865512848,
          0.4363090991973877,
          0.43472346663475037,
          0.4331327974796295,
          0.43153735995292664,
          0.42993733286857605,
          0.4283328056335449,
          0.42672425508499146,
          0.4251117706298828,
          0.42349550127983093,
          0.4218757748603821,
          0.42025279998779297,
          0.4186268448829651,
          0.41699811816215515,
          0.4153667390346527,
          0.4137330651283264,
          0.4120972156524658,
          0.41045960783958435,
          0.4088203012943268,
          0.40717965364456177,
          0.4055376648902893,
          0.4038948118686676,
          0.40225109457969666,
          0.40060701966285706,
          0.3989626467227936,
          0.39731812477111816,
          0.3956737816333771,
          0.394029825925827,
          0.39238640666007996,
          0.39074379205703735,
          0.3891022801399231,
          0.3874618709087372,
          0.38582301139831543,
          0.3841857612133026,
          0.38255032896995544,
          0.3809169828891754,
          0.3792857527732849,
          0.3776571452617645,
          0.3760311007499695,
          0.3744078576564789,
          0.37278756499290466,
          0.3711705803871155,
          0.36955681443214417,
          0.36794668436050415,
          0.3663402199745178,
          0.3647375702857971,
          0.36313900351524353,
          0.361544668674469,
          0.35995450615882874,
          0.35836899280548096,
          0.3567880690097809,
          0.3552118241786957,
          0.3536406457424164,
          0.35207441449165344,
          0.35051342844963074,
          0.34895774722099304,
          0.34740734100341797,
          0.34586259722709656,
          0.34432345628738403,
          0.34278997778892517,
          0.3412624001502991,
          0.3397407531738281,
          0.33822521567344666,
          0.3367156684398651,
          0.335212379693985,
          0.33371543884277344,
          0.3322248160839081,
          0.3307405710220337,
          0.32926279306411743,
          0.32779157161712646,
          0.32632699608802795,
          0.3248690664768219,
          0.32341787219047546,
          0.3219733238220215,
          0.3205356001853943,
          0.31910470128059387,
          0.31768059730529785,
          0.31626343727111816,
          0.3148531913757324,
          0.31344980001449585,
          0.3120534121990204,
          0.31066378951072693
         ],
         "yaxis": "y"
        },
        {
         "legendgroup": "3",
         "line": {
          "color": "purple"
         },
         "name": "[22, 12]",
         "type": "scatter",
         "x": [
          -20,
          -19.600000381469727,
          -19.200000762939453,
          -18.799999237060547,
          -18.399999618530273,
          -18,
          -17.600000381469727,
          -17.200000762939453,
          -16.799999237060547,
          -16.399999618530273,
          -16,
          -15.600000381469727,
          -15.199999809265137,
          -14.800000190734863,
          -14.399999618530273,
          -14,
          -13.600000381469727,
          -13.199999809265137,
          -12.800000190734863,
          -12.399999618530273,
          -12,
          -11.59999942779541,
          -11.199999809265137,
          -10.800000190734863,
          -10.399999618530273,
          -10,
          -9.59999942779541,
          -9.199999809265137,
          -8.800000190734863,
          -8.399999618530273,
          -8,
          -7.599999904632568,
          -7.199999809265137,
          -6.799999713897705,
          -6.399999618530273,
          -6,
          -5.599999904632568,
          -5.199999809265137,
          -4.799999713897705,
          -4.399999618530273,
          -3.999999761581421,
          -3.5999996662139893,
          -3.1999998092651367,
          -2.799999713897705,
          -2.3999996185302734,
          -1.999999761581421,
          -1.5999996662139893,
          -1.1999996900558472,
          -0.7999997138977051,
          -0.3999997079372406,
          -2.980232238769531e-7,
          0.3999997079372406,
          0.7999997138977051,
          1.1999996900558472,
          1.5999996662139893,
          1.999999761581421,
          2.3999996185302734,
          2.799999713897705,
          3.1999998092651367,
          3.5999996662139893,
          3.999999761581421,
          4.399999618530273,
          4.799999713897705,
          5.199999809265137,
          5.599999904632568,
          6,
          6.399999618530273,
          6.799999713897705,
          7.199999809265137,
          7.599999904632568,
          8,
          8.399999618530273,
          8.800000190734863,
          9.199999809265137,
          9.59999942779541,
          10,
          10.399999618530273,
          10.800000190734863,
          11.199999809265137,
          11.59999942779541,
          12,
          12.399999618530273,
          12.800000190734863,
          13.199999809265137,
          13.600000381469727,
          14,
          14.399999618530273,
          14.800000190734863,
          15.199999809265137,
          15.600000381469727,
          16,
          16.399999618530273,
          16.799999237060547,
          17.200000762939453,
          17.600000381469727,
          18,
          18.399999618530273,
          18.799999237060547,
          19.200000762939453,
          19.600000381469727,
          20
         ],
         "xaxis": "x",
         "y": [
          0.21873226761817932,
          0.21842072904109955,
          0.2180986851453781,
          0.21776628494262695,
          0.2174234241247177,
          0.2170700579881668,
          0.2167063057422638,
          0.21633203327655792,
          0.21594730019569397,
          0.21555212140083313,
          0.21514642238616943,
          0.214730367064476,
          0.21430383622646332,
          0.2138669341802597,
          0.21341954171657562,
          0.21296177804470062,
          0.2124936580657959,
          0.2120153158903122,
          0.2115265429019928,
          0.21102754771709442,
          0.21051831543445587,
          0.20999884605407715,
          0.20946919918060303,
          0.20892952382564545,
          0.20837970077991486,
          0.20781996846199036,
          0.2072502225637436,
          0.2066705971956253,
          0.20608103275299072,
          0.20548176765441895,
          0.2048727571964264,
          0.20425403118133545,
          0.20362582802772522,
          0.20298807322978973,
          0.20234088599681854,
          0.2016844004392624,
          0.20101861655712128,
          0.20034372806549072,
          0.19965964555740356,
          0.1989665925502777,
          0.19826467335224152,
          0.19755394756793976,
          0.1968344897031784,
          0.19610647857189178,
          0.19537000358104706,
          0.1946251094341278,
          0.19387196004390717,
          0.19311068952083588,
          0.1923414170742035,
          0.19156412780284882,
          0.19077913463115692,
          0.18998654186725616,
          0.18918631970882416,
          0.18837864696979523,
          0.1875639110803604,
          0.1867418736219406,
          0.18591299653053284,
          0.18507717549800873,
          0.18423472344875336,
          0.1833856701850891,
          0.1825302094221115,
          0.18166856467723846,
          0.18080078065395355,
          0.1799270361661911,
          0.17904755473136902,
          0.1781623512506485,
          0.177271768450737,
          0.17637582123279572,
          0.17547473311424255,
          0.17456865310668945,
          0.17365777492523193,
          0.17274220287799835,
          0.1718222200870514,
          0.17089791595935822,
          0.16996939480304718,
          0.16903695464134216,
          0.16810064017772675,
          0.16716068983078003,
          0.1662173718214035,
          0.16527073085308075,
          0.1643209606409073,
          0.16336825489997864,
          0.16241274774074554,
          0.1614547073841095,
          0.16049419343471527,
          0.15953141450881958,
          0.15856660902500153,
          0.15759991109371185,
          0.1566314548254013,
          0.1556614488363266,
          0.15469004213809967,
          0.15371745824813843,
          0.15274380147457123,
          0.15176919102668762,
          0.15079395473003387,
          0.14981813728809357,
          0.1488419473171234,
          0.14786551892757416,
          0.14688898622989655,
          0.14591260254383087,
          0.1449364274740219
         ],
         "yaxis": "y"
        },
        {
         "legendgroup": "4",
         "line": {
          "color": "turquoise"
         },
         "name": "[19, 10]",
         "type": "scatter",
         "x": [
          -20,
          -19.600000381469727,
          -19.200000762939453,
          -18.799999237060547,
          -18.399999618530273,
          -18,
          -17.600000381469727,
          -17.200000762939453,
          -16.799999237060547,
          -16.399999618530273,
          -16,
          -15.600000381469727,
          -15.199999809265137,
          -14.800000190734863,
          -14.399999618530273,
          -14,
          -13.600000381469727,
          -13.199999809265137,
          -12.800000190734863,
          -12.399999618530273,
          -12,
          -11.59999942779541,
          -11.199999809265137,
          -10.800000190734863,
          -10.399999618530273,
          -10,
          -9.59999942779541,
          -9.199999809265137,
          -8.800000190734863,
          -8.399999618530273,
          -8,
          -7.599999904632568,
          -7.199999809265137,
          -6.799999713897705,
          -6.399999618530273,
          -6,
          -5.599999904632568,
          -5.199999809265137,
          -4.799999713897705,
          -4.399999618530273,
          -3.999999761581421,
          -3.5999996662139893,
          -3.1999998092651367,
          -2.799999713897705,
          -2.3999996185302734,
          -1.999999761581421,
          -1.5999996662139893,
          -1.1999996900558472,
          -0.7999997138977051,
          -0.3999997079372406,
          -2.980232238769531e-7,
          0.3999997079372406,
          0.7999997138977051,
          1.1999996900558472,
          1.5999996662139893,
          1.999999761581421,
          2.3999996185302734,
          2.799999713897705,
          3.1999998092651367,
          3.5999996662139893,
          3.999999761581421,
          4.399999618530273,
          4.799999713897705,
          5.199999809265137,
          5.599999904632568,
          6,
          6.399999618530273,
          6.799999713897705,
          7.199999809265137,
          7.599999904632568,
          8,
          8.399999618530273,
          8.800000190734863,
          9.199999809265137,
          9.59999942779541,
          10,
          10.399999618530273,
          10.800000190734863,
          11.199999809265137,
          11.59999942779541,
          12,
          12.399999618530273,
          12.800000190734863,
          13.199999809265137,
          13.600000381469727,
          14,
          14.399999618530273,
          14.800000190734863,
          15.199999809265137,
          15.600000381469727,
          16,
          16.399999618530273,
          16.799999237060547,
          17.200000762939453,
          17.600000381469727,
          18,
          18.399999618530273,
          18.799999237060547,
          19.200000762939453,
          19.600000381469727,
          20
         ],
         "xaxis": "x",
         "y": [
          0.25478729605674744,
          0.2536107897758484,
          0.2524315118789673,
          0.2512495219707489,
          0.2500649392604828,
          0.24887783825397491,
          0.24768805503845215,
          0.24649587273597717,
          0.2453012317419052,
          0.24410434067249298,
          0.24290497601032257,
          0.24170343577861786,
          0.2404996007680893,
          0.23929353058338165,
          0.2380855530500412,
          0.23687537014484406,
          0.2356632947921753,
          0.2344491332769394,
          0.23323309421539307,
          0.23201516270637512,
          0.23079542815685272,
          0.2295740842819214,
          0.22835087776184082,
          0.2271261215209961,
          0.2258998453617096,
          0.224671870470047,
          0.22344259917736053,
          0.2222118377685547,
          0.2209796905517578,
          0.21974626183509827,
          0.21851153671741486,
          0.2172757387161255,
          0.21603861451148987,
          0.21480052173137665,
          0.21356140077114105,
          0.2123212069272995,
          0.21108029782772064,
          0.20983831584453583,
          0.20859570801258087,
          0.2073523849248886,
          0.20610828697681427,
          0.20486365258693695,
          0.20361848175525665,
          0.20237283408641815,
          0.20112676918506622,
          0.19988027215003967,
          0.19863355159759521,
          0.19738657772541046,
          0.19613949954509735,
          0.19489224255084991,
          0.19364503026008606,
          0.19239775836467743,
          0.1911506950855255,
          0.18990376591682434,
          0.18865719437599182,
          0.18741074204444885,
          0.1861647367477417,
          0.18491923809051514,
          0.18367429077625275,
          0.1824299395084381,
          0.18118615448474884,
          0.17994315922260284,
          0.17870108783245087,
          0.17745979130268097,
          0.17621958255767822,
          0.1749802976846695,
          0.17374220490455627,
          0.17250530421733856,
          0.17126981914043427,
          0.17003551125526428,
          0.16880269348621368,
          0.16757142543792725,
          0.1663418412208557,
          0.1651139110326767,
          0.16388775408267975,
          0.16266344487667084,
          0.1614409238100052,
          0.16022062301635742,
          0.15900234878063202,
          0.1577863097190857,
          0.15657249093055725,
          0.15536104142665863,
          0.1541520208120346,
          0.15294548869132996,
          0.15174172818660736,
          0.15054060518741608,
          0.14934228360652924,
          0.14814677834510803,
          0.1469542384147644,
          0.1457648128271103,
          0.14457854628562927,
          0.14339546859264374,
          0.14221571385860443,
          0.14103937149047852,
          0.13986645638942719,
          0.13869716227054596,
          0.13753150403499603,
          0.13636958599090576,
          0.1352115422487259,
          0.1340574473142624,
          0.13290733098983765
         ],
         "yaxis": "y"
        },
        {
         "legendgroup": "0",
         "line": {
          "color": "pink"
         },
         "name": "[15, 6]",
         "type": "scatter",
         "x": [
          -20,
          -19.600000381469727,
          -19.200000762939453,
          -18.799999237060547,
          -18.399999618530273,
          -18,
          -17.600000381469727,
          -17.200000762939453,
          -16.799999237060547,
          -16.399999618530273,
          -16,
          -15.600000381469727,
          -15.199999809265137,
          -14.800000190734863,
          -14.399999618530273,
          -14,
          -13.600000381469727,
          -13.199999809265137,
          -12.800000190734863,
          -12.399999618530273,
          -12,
          -11.59999942779541,
          -11.199999809265137,
          -10.800000190734863,
          -10.399999618530273,
          -10,
          -9.59999942779541,
          -9.199999809265137,
          -8.800000190734863,
          -8.399999618530273,
          -8,
          -7.599999904632568,
          -7.199999809265137,
          -6.799999713897705,
          -6.399999618530273,
          -6,
          -5.599999904632568,
          -5.199999809265137,
          -4.799999713897705,
          -4.399999618530273,
          -3.999999761581421,
          -3.5999996662139893,
          -3.1999998092651367,
          -2.799999713897705,
          -2.3999996185302734,
          -1.999999761581421,
          -1.5999996662139893,
          -1.1999996900558472,
          -0.7999997138977051,
          -0.3999997079372406,
          -2.980232238769531e-7,
          0.3999997079372406,
          0.7999997138977051,
          1.1999996900558472,
          1.5999996662139893,
          1.999999761581421,
          2.3999996185302734,
          2.799999713897705,
          3.1999998092651367,
          3.5999996662139893,
          3.999999761581421,
          4.399999618530273,
          4.799999713897705,
          5.199999809265137,
          5.599999904632568,
          6,
          6.399999618530273,
          6.799999713897705,
          7.199999809265137,
          7.599999904632568,
          8,
          8.399999618530273,
          8.800000190734863,
          9.199999809265137,
          9.59999942779541,
          10,
          10.399999618530273,
          10.800000190734863,
          11.199999809265137,
          11.59999942779541,
          12,
          12.399999618530273,
          12.800000190734863,
          13.199999809265137,
          13.600000381469727,
          14,
          14.399999618530273,
          14.800000190734863,
          15.199999809265137,
          15.600000381469727,
          16,
          16.399999618530273,
          16.799999237060547,
          17.200000762939453,
          17.600000381469727,
          18,
          18.399999618530273,
          18.799999237060547,
          19.200000762939453,
          19.600000381469727,
          20
         ],
         "xaxis": "x2",
         "y": [
          0.0141169223934412,
          0.01396617479622364,
          0.01381694059818983,
          0.01366922166198492,
          0.013522960245609283,
          0.013378264382481575,
          0.013234938494861126,
          0.013093127869069576,
          0.012952737510204315,
          0.012813818641006947,
          0.012676261365413666,
          0.012540139257907867,
          0.01240542996674776,
          0.012272083200514317,
          0.012140120379626751,
          0.012009533122181892,
          0.01188028696924448,
          0.011752338148653507,
          0.011625775136053562,
          0.011500498279929161,
          0.011376502923667431,
          0.011253822594881058,
          0.011132401414215565,
          0.011012229137122631,
          0.010893357917666435,
          0.010775686241686344,
          0.010659275576472282,
          0.010544034652411938,
          0.01043002214282751,
          0.01031718123704195,
          0.010205556638538837,
          0.010095097124576569,
          0.0099857859313488,
          0.009877614676952362,
          0.009770589880645275,
          0.00966469943523407,
          0.009559893980622292,
          0.009456212632358074,
          0.0093536376953125,
          0.009252089075744152,
          0.009151659905910492,
          0.009052274748682976,
          0.008953936398029327,
          0.008856644853949547,
          0.008760366588830948,
          0.00866512581706047,
          0.008570870384573936,
          0.00847762543708086,
          0.008385366760194302,
          0.008294077590107918,
          0.008203774690628052,
          0.008114413358271122,
          0.008026028983294964,
          0.0079385656863451,
          0.007852031849324703,
          0.007766425143927336,
          0.007681723218411207,
          0.007597923278808594,
          0.007515027653425932,
          0.007433016784489155,
          0.007351879961788654,
          0.007271614857017994,
          0.007192195858806372,
          0.0071136439219117165,
          0.007035926915705204,
          0.0069590541534125805,
          0.006883000023663044,
          0.006807773839682341,
          0.0067333499900996685,
          0.006659739650785923,
          0.006586909294128418,
          0.0065148756839334965,
          0.006443625781685114,
          0.006373141892254353,
          0.0063034244813025,
          0.006234462838619947,
          0.006166254635900259,
          0.006098793353885412,
          0.0060320585034787655,
          0.005966060794889927,
          0.005900782998651266,
          0.00583621533587575,
          0.005772359203547239,
          0.005709205288439989,
          0.00564674474298954,
          0.0055849733762443066,
          0.005523881409317255,
          0.005463463719934225,
          0.005403714254498482,
          0.00534462695941329,
          0.005286200437694788,
          0.0052284072153270245,
          0.005171270575374365,
          0.005114763509482145,
          0.005058890208601952,
          0.0050036367028951645,
          0.004949003923684359,
          0.004894983023405075,
          0.004841569811105728,
          0.004788754042237997,
          0.00473652733489871
         ],
         "yaxis": "y2"
        },
        {
         "legendgroup": "1",
         "line": {
          "color": "darkviolet"
         },
         "name": "[20, 7]",
         "type": "scatter",
         "x": [
          -20,
          -19.600000381469727,
          -19.200000762939453,
          -18.799999237060547,
          -18.399999618530273,
          -18,
          -17.600000381469727,
          -17.200000762939453,
          -16.799999237060547,
          -16.399999618530273,
          -16,
          -15.600000381469727,
          -15.199999809265137,
          -14.800000190734863,
          -14.399999618530273,
          -14,
          -13.600000381469727,
          -13.199999809265137,
          -12.800000190734863,
          -12.399999618530273,
          -12,
          -11.59999942779541,
          -11.199999809265137,
          -10.800000190734863,
          -10.399999618530273,
          -10,
          -9.59999942779541,
          -9.199999809265137,
          -8.800000190734863,
          -8.399999618530273,
          -8,
          -7.599999904632568,
          -7.199999809265137,
          -6.799999713897705,
          -6.399999618530273,
          -6,
          -5.599999904632568,
          -5.199999809265137,
          -4.799999713897705,
          -4.399999618530273,
          -3.999999761581421,
          -3.5999996662139893,
          -3.1999998092651367,
          -2.799999713897705,
          -2.3999996185302734,
          -1.999999761581421,
          -1.5999996662139893,
          -1.1999996900558472,
          -0.7999997138977051,
          -0.3999997079372406,
          -2.980232238769531e-7,
          0.3999997079372406,
          0.7999997138977051,
          1.1999996900558472,
          1.5999996662139893,
          1.999999761581421,
          2.3999996185302734,
          2.799999713897705,
          3.1999998092651367,
          3.5999996662139893,
          3.999999761581421,
          4.399999618530273,
          4.799999713897705,
          5.199999809265137,
          5.599999904632568,
          6,
          6.399999618530273,
          6.799999713897705,
          7.199999809265137,
          7.599999904632568,
          8,
          8.399999618530273,
          8.800000190734863,
          9.199999809265137,
          9.59999942779541,
          10,
          10.399999618530273,
          10.800000190734863,
          11.199999809265137,
          11.59999942779541,
          12,
          12.399999618530273,
          12.800000190734863,
          13.199999809265137,
          13.600000381469727,
          14,
          14.399999618530273,
          14.800000190734863,
          15.199999809265137,
          15.600000381469727,
          16,
          16.399999618530273,
          16.799999237060547,
          17.200000762939453,
          17.600000381469727,
          18,
          18.399999618530273,
          18.799999237060547,
          19.200000762939453,
          19.600000381469727,
          20
         ],
         "xaxis": "x2",
         "y": [
          0.0014224557671695948,
          0.0014034005580469966,
          0.0013846744550392032,
          0.001366272452287376,
          0.0013481896603479981,
          0.0013304207241162658,
          0.0013129612198099494,
          0.0012958059087395668,
          0.0012789505999535322,
          0.0012623899383470416,
          0.001246119849383831,
          0.00123013521078974,
          0.0012144324136897922,
          0.0011990065686404705,
          0.0011838529026135802,
          0.001168966991826892,
          0.0011543456930667162,
          0.0011399833019822836,
          0.0011258766753599048,
          0.0011120217386633158,
          0.0010984136024489999,
          0.0010850481921806931,
          0.0010719230631366372,
          0.0010590319288894534,
          0.0010463711805641651,
          0.0010339402360841632,
          0.001021730713546276,
          0.0010097419144585729,
          0.0009979686001315713,
          0.0009864077437669039,
          0.0009750554454512894,
          0.0009639073396101594,
          0.0009529613307677209,
          0.00094221270410344,
          0.0009316578507423401,
          0.000921294093132019,
          0.0009111179388128221,
          0.000901124847587198,
          0.0008913122001104057,
          0.0008816771442070603,
          0.000872215663548559,
          0.0008629248477518559,
          0.0008538006222806871,
          0.0008448410662822425,
          0.0008360420470125973,
          0.0008273999555967748,
          0.0008189130458049476,
          0.0008105771848931909,
          0.0008023897535167634,
          0.000794347666669637,
          0.0007864475483074784,
          0.0007786869537085295,
          0.0007710636127740145,
          0.0007635719957761467,
          0.000756212102714926,
          0.000748980266507715,
          0.000741872179787606,
          0.0007348875515162945,
          0.0007280220743268728,
          0.0007212733617052436,
          0.0007146381540223956,
          0.0007081149378791451,
          0.0007017006282694638,
          0.0006953926640562713,
          0.0006891884841024876,
          0.0006830848287791014,
          0.0006770804175175726,
          0.0006711722817271948,
          0.0006653577438555658,
          0.0006596349994651973,
          0.000654001662041992,
          0.000648454821202904,
          0.0006429927889257669,
          0.000637612771242857,
          0.0006323130801320076,
          0.0006270913872867823,
          0.0006219458882696927,
          0.0006168740219436586,
          0.0006118734017945826,
          0.0006069432129152119,
          0.0006020802538841963,
          0.0005972831859253347,
          0.0005925501463934779,
          0.0005878793890587986,
          0.0005832680617459118,
          0.0005787158734165132,
          0.0005742203211411834,
          0.0005697791348211467,
          0.0005653916741721332,
          0.0005610555526800454,
          0.0005567697226069868,
          0.00055253243772313,
          0.0005483417771756649,
          0.0005441965768113732,
          0.0005400952650234103,
          0.0005360374925658107,
          0.0005320202908478677,
          0.0005280429031699896,
          0.0005241040489636362,
          0.0005202029715292156,
          0.0005163378082215786
         ],
         "yaxis": "y2"
        },
        {
         "legendgroup": "2",
         "line": {
          "color": "blue"
         },
         "name": "[17, 8]",
         "type": "scatter",
         "x": [
          -20,
          -19.600000381469727,
          -19.200000762939453,
          -18.799999237060547,
          -18.399999618530273,
          -18,
          -17.600000381469727,
          -17.200000762939453,
          -16.799999237060547,
          -16.399999618530273,
          -16,
          -15.600000381469727,
          -15.199999809265137,
          -14.800000190734863,
          -14.399999618530273,
          -14,
          -13.600000381469727,
          -13.199999809265137,
          -12.800000190734863,
          -12.399999618530273,
          -12,
          -11.59999942779541,
          -11.199999809265137,
          -10.800000190734863,
          -10.399999618530273,
          -10,
          -9.59999942779541,
          -9.199999809265137,
          -8.800000190734863,
          -8.399999618530273,
          -8,
          -7.599999904632568,
          -7.199999809265137,
          -6.799999713897705,
          -6.399999618530273,
          -6,
          -5.599999904632568,
          -5.199999809265137,
          -4.799999713897705,
          -4.399999618530273,
          -3.999999761581421,
          -3.5999996662139893,
          -3.1999998092651367,
          -2.799999713897705,
          -2.3999996185302734,
          -1.999999761581421,
          -1.5999996662139893,
          -1.1999996900558472,
          -0.7999997138977051,
          -0.3999997079372406,
          -2.980232238769531e-7,
          0.3999997079372406,
          0.7999997138977051,
          1.1999996900558472,
          1.5999996662139893,
          1.999999761581421,
          2.3999996185302734,
          2.799999713897705,
          3.1999998092651367,
          3.5999996662139893,
          3.999999761581421,
          4.399999618530273,
          4.799999713897705,
          5.199999809265137,
          5.599999904632568,
          6,
          6.399999618530273,
          6.799999713897705,
          7.199999809265137,
          7.599999904632568,
          8,
          8.399999618530273,
          8.800000190734863,
          9.199999809265137,
          9.59999942779541,
          10,
          10.399999618530273,
          10.800000190734863,
          11.199999809265137,
          11.59999942779541,
          12,
          12.399999618530273,
          12.800000190734863,
          13.199999809265137,
          13.600000381469727,
          14,
          14.399999618530273,
          14.800000190734863,
          15.199999809265137,
          15.600000381469727,
          16,
          16.399999618530273,
          16.799999237060547,
          17.200000762939453,
          17.600000381469727,
          18,
          18.399999618530273,
          18.799999237060547,
          19.200000762939453,
          19.600000381469727,
          20
         ],
         "xaxis": "x2",
         "y": [
          0.0034126569516956806,
          0.003417553147301078,
          0.0034224074333906174,
          0.003427218645811081,
          0.0034319867845624685,
          0.0034367048647254705,
          0.0034413759130984545,
          0.003445992013439536,
          0.0034505543299019337,
          0.0034550593700259924,
          0.0034595062024891376,
          0.003463891102001071,
          0.003468209644779563,
          0.0034724604338407516,
          0.003476647427305579,
          0.003480761544778943,
          0.003484804881736636,
          0.0034887713845819235,
          0.0034926633816212416,
          0.0034964741207659245,
          0.0035002045333385468,
          0.0035038532223552465,
          0.0035074171610176563,
          0.0035108961164951324,
          0.0035142884589731693,
          0.0035175923258066177,
          0.0035208004992455244,
          0.0035239183343946934,
          0.003526942105963826,
          0.003529876936227083,
          0.003532707691192627,
          0.003535444615408778,
          0.0035380867775529623,
          0.003540624398738146,
          0.0035430609714239836,
          0.003545403480529785,
          0.0035476379562169313,
          0.0035497755743563175,
          0.0035518058575689793,
          0.0035537381190806627,
          0.003555564908310771,
          0.003557289484888315,
          0.0035589050967246294,
          0.0035604212898761034,
          0.0035618336405605078,
          0.0035631402861326933,
          0.0035643503069877625,
          0.0035654560197144747,
          0.0035664536990225315,
          0.003567352658137679,
          0.0035681568551808596,
          0.0035688572097569704,
          0.0035694565158337355,
          0.003569958498701453,
          0.0035703685134649277,
          0.0035706774797290564,
          0.0035708968061953783,
          0.0035710164811462164,
          0.003571049077436328,
          0.003570991801097989,
          0.0035708497744053602,
          0.0035706148482859135,
          0.0035702975001186132,
          0.0035698998253792524,
          0.003569419728592038,
          0.0035688590724021196,
          0.003568227170035243,
          0.0035675191320478916,
          0.0035667382180690765,
          0.0035658911801874638,
          0.0035649724304676056,
          0.0035639924462884665,
          0.0035629544872790575,
          0.0035618518013507128,
          0.0035606909077614546,
          0.0035594776272773743,
          0.003558218479156494,
          0.003556908341124654,
          0.003555548144504428,
          0.0035541546531021595,
          0.003552716923877597,
          0.00355124450288713,
          0.0035497357603162527,
          0.003548200475051999,
          0.003546637250110507,
          0.0035450474824756384,
          0.003543440019711852,
          0.003541812766343355,
          0.003540173638612032,
          0.003538518911227584,
          0.0035368555691093206,
          0.003535189898684621,
          0.003533520270138979,
          0.003531853435561061,
          0.003530190559104085,
          0.0035285339690744877,
          0.00352688692510128,
          0.003525254549458623,
          0.003523637307807803,
          0.0035220421850681305,
          0.003520467085763812
         ],
         "yaxis": "y2"
        },
        {
         "legendgroup": "3",
         "line": {
          "color": "purple"
         },
         "name": "[22, 12]",
         "type": "scatter",
         "x": [
          -20,
          -19.600000381469727,
          -19.200000762939453,
          -18.799999237060547,
          -18.399999618530273,
          -18,
          -17.600000381469727,
          -17.200000762939453,
          -16.799999237060547,
          -16.399999618530273,
          -16,
          -15.600000381469727,
          -15.199999809265137,
          -14.800000190734863,
          -14.399999618530273,
          -14,
          -13.600000381469727,
          -13.199999809265137,
          -12.800000190734863,
          -12.399999618530273,
          -12,
          -11.59999942779541,
          -11.199999809265137,
          -10.800000190734863,
          -10.399999618530273,
          -10,
          -9.59999942779541,
          -9.199999809265137,
          -8.800000190734863,
          -8.399999618530273,
          -8,
          -7.599999904632568,
          -7.199999809265137,
          -6.799999713897705,
          -6.399999618530273,
          -6,
          -5.599999904632568,
          -5.199999809265137,
          -4.799999713897705,
          -4.399999618530273,
          -3.999999761581421,
          -3.5999996662139893,
          -3.1999998092651367,
          -2.799999713897705,
          -2.3999996185302734,
          -1.999999761581421,
          -1.5999996662139893,
          -1.1999996900558472,
          -0.7999997138977051,
          -0.3999997079372406,
          -2.980232238769531e-7,
          0.3999997079372406,
          0.7999997138977051,
          1.1999996900558472,
          1.5999996662139893,
          1.999999761581421,
          2.3999996185302734,
          2.799999713897705,
          3.1999998092651367,
          3.5999996662139893,
          3.999999761581421,
          4.399999618530273,
          4.799999713897705,
          5.199999809265137,
          5.599999904632568,
          6,
          6.399999618530273,
          6.799999713897705,
          7.199999809265137,
          7.599999904632568,
          8,
          8.399999618530273,
          8.800000190734863,
          9.199999809265137,
          9.59999942779541,
          10,
          10.399999618530273,
          10.800000190734863,
          11.199999809265137,
          11.59999942779541,
          12,
          12.399999618530273,
          12.800000190734863,
          13.199999809265137,
          13.600000381469727,
          14,
          14.399999618530273,
          14.800000190734863,
          15.199999809265137,
          15.600000381469727,
          16,
          16.399999618530273,
          16.799999237060547,
          17.200000762939453,
          17.600000381469727,
          18,
          18.399999618530273,
          18.799999237060547,
          19.200000762939453,
          19.600000381469727,
          20
         ],
         "xaxis": "x2",
         "y": [
          0.15645121037960052,
          0.15524674952030182,
          0.15404312312602997,
          0.15284042060375214,
          0.15163882076740265,
          0.15043829381465912,
          0.1492389738559723,
          0.1480410397052765,
          0.14684438705444336,
          0.14564934372901917,
          0.14445586502552032,
          0.14326409995555878,
          0.1420740932226181,
          0.14088600873947144,
          0.1396998167037964,
          0.13851578533649445,
          0.13733386993408203,
          0.13615429401397705,
          0.13497702777385712,
          0.13380225002765656,
          0.13263002038002014,
          0.13146042823791504,
          0.13029363751411438,
          0.12912975251674652,
          0.1279687136411667,
          0.12681081891059875,
          0.12565603852272034,
          0.1245044469833374,
          0.12335623800754547,
          0.1222115308046341,
          0.12107032537460327,
          0.11993277072906494,
          0.11879896372556686,
          0.11766894906759262,
          0.11654295772314072,
          0.11542091518640518,
          0.11430293321609497,
          0.11318929493427277,
          0.1120799332857132,
          0.11097496002912521,
          0.10987450182437897,
          0.10877861827611923,
          0.10768745094537735,
          0.10660099983215332,
          0.10551941394805908,
          0.10444289445877075,
          0.10337131470441818,
          0.10230487585067749,
          0.10124371200799942,
          0.10018779337406158,
          0.0991373211145401,
          0.09809227287769318,
          0.09705284982919693,
          0.09601906687021255,
          0.09499092400074005,
          0.09396866708993912,
          0.09295222908258438,
          0.09194177389144897,
          0.09093736857175827,
          0.08993897587060928,
          0.08894681185483932,
          0.08796089887619019,
          0.08698128908872604,
          0.08600805699825287,
          0.08504129201173782,
          0.08408098667860031,
          0.08312728255987167,
          0.0821802169084549,
          0.08123979717493057,
          0.08030612766742706,
          0.07937931269407272,
          0.0784592404961586,
          0.07754615694284439,
          0.07663994282484055,
          0.07574077695608139,
          0.07484861463308334,
          0.07396359741687775,
          0.07308558374643326,
          0.072214774787426,
          0.07135122269392014,
          0.07049479335546494,
          0.06964564323425293,
          0.0688038095831871,
          0.06796924769878387,
          0.06714203953742981,
          0.0663222074508667,
          0.06550966948270798,
          0.06470456719398499,
          0.06390690803527832,
          0.0631166324019432,
          0.062333811074495316,
          0.061558403074741364,
          0.06079047545790672,
          0.060029949992895126,
          0.05927689000964165,
          0.058531295508146286,
          0.05779317766427994,
          0.057062458246946335,
          0.056339215487241745,
          0.055623359978199005,
          0.05491497740149498
         ],
         "yaxis": "y2"
        },
        {
         "legendgroup": "4",
         "line": {
          "color": "turquoise"
         },
         "name": "[19, 10]",
         "type": "scatter",
         "x": [
          -20,
          -19.600000381469727,
          -19.200000762939453,
          -18.799999237060547,
          -18.399999618530273,
          -18,
          -17.600000381469727,
          -17.200000762939453,
          -16.799999237060547,
          -16.399999618530273,
          -16,
          -15.600000381469727,
          -15.199999809265137,
          -14.800000190734863,
          -14.399999618530273,
          -14,
          -13.600000381469727,
          -13.199999809265137,
          -12.800000190734863,
          -12.399999618530273,
          -12,
          -11.59999942779541,
          -11.199999809265137,
          -10.800000190734863,
          -10.399999618530273,
          -10,
          -9.59999942779541,
          -9.199999809265137,
          -8.800000190734863,
          -8.399999618530273,
          -8,
          -7.599999904632568,
          -7.199999809265137,
          -6.799999713897705,
          -6.399999618530273,
          -6,
          -5.599999904632568,
          -5.199999809265137,
          -4.799999713897705,
          -4.399999618530273,
          -3.999999761581421,
          -3.5999996662139893,
          -3.1999998092651367,
          -2.799999713897705,
          -2.3999996185302734,
          -1.999999761581421,
          -1.5999996662139893,
          -1.1999996900558472,
          -0.7999997138977051,
          -0.3999997079372406,
          -2.980232238769531e-7,
          0.3999997079372406,
          0.7999997138977051,
          1.1999996900558472,
          1.5999996662139893,
          1.999999761581421,
          2.3999996185302734,
          2.799999713897705,
          3.1999998092651367,
          3.5999996662139893,
          3.999999761581421,
          4.399999618530273,
          4.799999713897705,
          5.199999809265137,
          5.599999904632568,
          6,
          6.399999618530273,
          6.799999713897705,
          7.199999809265137,
          7.599999904632568,
          8,
          8.399999618530273,
          8.800000190734863,
          9.199999809265137,
          9.59999942779541,
          10,
          10.399999618530273,
          10.800000190734863,
          11.199999809265137,
          11.59999942779541,
          12,
          12.399999618530273,
          12.800000190734863,
          13.199999809265137,
          13.600000381469727,
          14,
          14.399999618530273,
          14.800000190734863,
          15.199999809265137,
          15.600000381469727,
          16,
          16.399999618530273,
          16.799999237060547,
          17.200000762939453,
          17.600000381469727,
          18,
          18.399999618530273,
          18.799999237060547,
          19.200000762939453,
          19.600000381469727,
          20
         ],
         "xaxis": "x2",
         "y": [
          0.31032687425613403,
          0.3096958100795746,
          0.30905672907829285,
          0.30840936303138733,
          0.30775362253189087,
          0.3070894777774811,
          0.30641698837280273,
          0.3057360351085663,
          0.30504661798477173,
          0.30434849858283997,
          0.3036420941352844,
          0.30292707681655884,
          0.30220338702201843,
          0.30147114396095276,
          0.3007301986217499,
          0.2999805808067322,
          0.29922211170196533,
          0.298455148935318,
          0.2976793944835663,
          0.2968948483467102,
          0.29610154032707214,
          0.2952995002269745,
          0.2944887578487396,
          0.29366907477378845,
          0.2928406298160553,
          0.2920033931732178,
          0.2911573350429535,
          0.290302574634552,
          0.289438933134079,
          0.288566529750824,
          0.2876856029033661,
          0.2867954671382904,
          0.2858969271183014,
          0.2849896252155304,
          0.28407368063926697,
          0.2831489145755768,
          0.2822156250476837,
          0.28127366304397583,
          0.2803231477737427,
          0.2793639600276947,
          0.27839645743370056,
          0.27742037177085876,
          0.27643582224845886,
          0.27544304728507996,
          0.2744417190551758,
          0.27343231439590454,
          0.27241450548171997,
          0.2713887393474579,
          0.2703547179698944,
          0.26931270956993103,
          0.26826268434524536,
          0.2672048807144165,
          0.26613911986351013,
          0.2650657594203949,
          0.2639845311641693,
          0.2628958821296692,
          0.26179972290992737,
          0.26069602370262146,
          0.2595851421356201,
          0.25846704840660095,
          0.25734183192253113,
          0.25620946288108826,
          0.2550702691078186,
          0.25392434000968933,
          0.2527717649936676,
          0.25161251425743103,
          0.2504468858242035,
          0.24927480518817902,
          0.24809661507606506,
          0.2469124048948288,
          0.24572227895259857,
          0.24452631175518036,
          0.2433246225118637,
          0.2421174794435501,
          0.2409050017595291,
          0.23968711495399475,
          0.23846445977687836,
          0.23723666369915009,
          0.23600426316261292,
          0.2347671240568161,
          0.23352566361427307,
          0.2322799414396286,
          0.2310301512479782,
          0.22977638244628906,
          0.22851887345314026,
          0.2272578924894333,
          0.22599346935749054,
          0.22472591698169708,
          0.22345538437366486,
          0.22218191623687744,
          0.22090588510036469,
          0.21962741017341614,
          0.2183467447757721,
          0.21706397831439972,
          0.2157794088125229,
          0.21449331939220428,
          0.2132057398557663,
          0.21191692352294922,
          0.21062707901000977,
          0.209336519241333,
          0.20804528892040253
         ],
         "yaxis": "y2"
        },
        {
         "legendgroup": "0",
         "line": {
          "color": "pink"
         },
         "name": "[15, 6]",
         "type": "scatter",
         "x": [
          -20,
          -19.600000381469727,
          -19.200000762939453,
          -18.799999237060547,
          -18.399999618530273,
          -18,
          -17.600000381469727,
          -17.200000762939453,
          -16.799999237060547,
          -16.399999618530273,
          -16,
          -15.600000381469727,
          -15.199999809265137,
          -14.800000190734863,
          -14.399999618530273,
          -14,
          -13.600000381469727,
          -13.199999809265137,
          -12.800000190734863,
          -12.399999618530273,
          -12,
          -11.59999942779541,
          -11.199999809265137,
          -10.800000190734863,
          -10.399999618530273,
          -10,
          -9.59999942779541,
          -9.199999809265137,
          -8.800000190734863,
          -8.399999618530273,
          -8,
          -7.599999904632568,
          -7.199999809265137,
          -6.799999713897705,
          -6.399999618530273,
          -6,
          -5.599999904632568,
          -5.199999809265137,
          -4.799999713897705,
          -4.399999618530273,
          -3.999999761581421,
          -3.5999996662139893,
          -3.1999998092651367,
          -2.799999713897705,
          -2.3999996185302734,
          -1.999999761581421,
          -1.5999996662139893,
          -1.1999996900558472,
          -0.7999997138977051,
          -0.3999997079372406,
          -2.980232238769531e-7,
          0.3999997079372406,
          0.7999997138977051,
          1.1999996900558472,
          1.5999996662139893,
          1.999999761581421,
          2.3999996185302734,
          2.799999713897705,
          3.1999998092651367,
          3.5999996662139893,
          3.999999761581421,
          4.399999618530273,
          4.799999713897705,
          5.199999809265137,
          5.599999904632568,
          6,
          6.399999618530273,
          6.799999713897705,
          7.199999809265137,
          7.599999904632568,
          8,
          8.399999618530273,
          8.800000190734863,
          9.199999809265137,
          9.59999942779541,
          10,
          10.399999618530273,
          10.800000190734863,
          11.199999809265137,
          11.59999942779541,
          12,
          12.399999618530273,
          12.800000190734863,
          13.199999809265137,
          13.600000381469727,
          14,
          14.399999618530273,
          14.800000190734863,
          15.199999809265137,
          15.600000381469727,
          16,
          16.399999618530273,
          16.799999237060547,
          17.200000762939453,
          17.600000381469727,
          18,
          18.399999618530273,
          18.799999237060547,
          19.200000762939453,
          19.600000381469727,
          20
         ],
         "xaxis": "x3",
         "y": [
          0.10988267511129379,
          0.10988195985555649,
          0.10987724363803864,
          0.10986882448196411,
          0.10985682159662247,
          0.10984122008085251,
          0.10982181876897812,
          0.10979898273944855,
          0.10977251827716827,
          0.10974223911762238,
          0.10970856249332428,
          0.10967113077640533,
          0.10963034629821777,
          0.10958585888147354,
          0.10953797399997711,
          0.10948634147644043,
          0.10943124443292618,
          0.10937269777059555,
          0.10931070148944855,
          0.10924526304006577,
          0.10917653143405914,
          0.1091039702296257,
          0.10902829468250275,
          0.10894906520843506,
          0.10886651277542114,
          0.10878056287765503,
          0.10869132727384567,
          0.10859870165586472,
          0.10850264132022858,
          0.10840346664190292,
          0.10830116271972656,
          0.1081952452659607,
          0.1080864667892456,
          0.10797419399023056,
          0.1078587993979454,
          0.10774046182632446,
          0.10761884599924088,
          0.10749403387308121,
          0.10736600309610367,
          0.10723533481359482,
          0.10710126161575317,
          0.10696440190076828,
          0.10682421177625656,
          0.10668154805898666,
          0.10653556883335114,
          0.10638679563999176,
          0.10623525828123093,
          0.10608082264661789,
          0.10592341423034668,
          0.10576354712247849,
          0.10560071468353271,
          0.10543503612279892,
          0.10526694357395172,
          0.10509598255157471,
          0.10492267459630966,
          0.1047464981675148,
          0.10456784814596176,
          0.10438672453165054,
          0.104203000664711,
          0.1040169820189476,
          0.1038285493850708,
          0.1036376953125,
          0.10344444960355759,
          0.10324901342391968,
          0.10305136442184448,
          0.1028515100479126,
          0.10264944285154343,
          0.10244524478912354,
          0.10223893076181412,
          0.10203064978122711,
          0.10182023048400879,
          0.10160788148641586,
          0.10139373689889908,
          0.10117758810520172,
          0.10095969587564468,
          0.10073995590209961,
          0.10051853954792023,
          0.10029537975788116,
          0.1000705286860466,
          0.0998440608382225,
          0.09961612522602081,
          0.09938670694828033,
          0.0991557165980339,
          0.09892331808805466,
          0.09868963062763214,
          0.0984545350074768,
          0.09821809083223343,
          0.09798050671815872,
          0.09774171561002731,
          0.09750180691480637,
          0.09726068377494812,
          0.09701859205961227,
          0.09677546471357346,
          0.096531443297863,
          0.09628640860319138,
          0.09604062885046005,
          0.09579389542341232,
          0.09554646164178848,
          0.09529829025268555,
          0.09504946321249008,
          0.09479991346597672
         ],
         "yaxis": "y3"
        },
        {
         "legendgroup": "1",
         "line": {
          "color": "darkviolet"
         },
         "name": "[20, 7]",
         "type": "scatter",
         "x": [
          -20,
          -19.600000381469727,
          -19.200000762939453,
          -18.799999237060547,
          -18.399999618530273,
          -18,
          -17.600000381469727,
          -17.200000762939453,
          -16.799999237060547,
          -16.399999618530273,
          -16,
          -15.600000381469727,
          -15.199999809265137,
          -14.800000190734863,
          -14.399999618530273,
          -14,
          -13.600000381469727,
          -13.199999809265137,
          -12.800000190734863,
          -12.399999618530273,
          -12,
          -11.59999942779541,
          -11.199999809265137,
          -10.800000190734863,
          -10.399999618530273,
          -10,
          -9.59999942779541,
          -9.199999809265137,
          -8.800000190734863,
          -8.399999618530273,
          -8,
          -7.599999904632568,
          -7.199999809265137,
          -6.799999713897705,
          -6.399999618530273,
          -6,
          -5.599999904632568,
          -5.199999809265137,
          -4.799999713897705,
          -4.399999618530273,
          -3.999999761581421,
          -3.5999996662139893,
          -3.1999998092651367,
          -2.799999713897705,
          -2.3999996185302734,
          -1.999999761581421,
          -1.5999996662139893,
          -1.1999996900558472,
          -0.7999997138977051,
          -0.3999997079372406,
          -2.980232238769531e-7,
          0.3999997079372406,
          0.7999997138977051,
          1.1999996900558472,
          1.5999996662139893,
          1.999999761581421,
          2.3999996185302734,
          2.799999713897705,
          3.1999998092651367,
          3.5999996662139893,
          3.999999761581421,
          4.399999618530273,
          4.799999713897705,
          5.199999809265137,
          5.599999904632568,
          6,
          6.399999618530273,
          6.799999713897705,
          7.199999809265137,
          7.599999904632568,
          8,
          8.399999618530273,
          8.800000190734863,
          9.199999809265137,
          9.59999942779541,
          10,
          10.399999618530273,
          10.800000190734863,
          11.199999809265137,
          11.59999942779541,
          12,
          12.399999618530273,
          12.800000190734863,
          13.199999809265137,
          13.600000381469727,
          14,
          14.399999618530273,
          14.800000190734863,
          15.199999809265137,
          15.600000381469727,
          16,
          16.399999618530273,
          16.799999237060547,
          17.200000762939453,
          17.600000381469727,
          18,
          18.399999618530273,
          18.799999237060547,
          19.200000762939453,
          19.600000381469727,
          20
         ],
         "xaxis": "x3",
         "y": [
          0.005995376966893673,
          0.0059773875400424,
          0.0059593147598207,
          0.005941156297922134,
          0.005922917276620865,
          0.0059045953676104546,
          0.0058861980214715,
          0.005867722909897566,
          0.005849177483469248,
          0.0058305589482188225,
          0.005811871495097876,
          0.005793117918074131,
          0.005774302873760462,
          0.005755425430834293,
          0.005736488848924637,
          0.005717498250305653,
          0.00569845549762249,
          0.005679361987859011,
          0.005660224240273237,
          0.005641039926558733,
          0.005621816497296095,
          0.005602553486824036,
          0.005583257880061865,
          0.0055639296770095825,
          0.005544567946344614,
          0.005525188520550728,
          0.005505779292434454,
          0.005486351903527975,
          0.005466909613460302,
          0.005447454284876585,
          0.005427987780421972,
          0.005408511962741613,
          0.005389032419770956,
          0.00536955613642931,
          0.005350075196474791,
          0.0053306035697460175,
          0.005311138462275267,
          0.0052916849963366985,
          0.005272245034575462,
          0.005252825561910868,
          0.0052334219217300415,
          0.005214044824242592,
          0.005194691475480795,
          0.005175368394702673,
          0.0051560779102146626,
          0.00513681722804904,
          0.0051175975240767,
          0.005098414141684771,
          0.005079277791082859,
          0.005060182418674231,
          0.0050411345437169075,
          0.005022135563194752,
          0.00500319292768836,
          0.004984298720955849,
          0.0049654655158519745,
          0.004946691449731588,
          0.004927974194288254,
          0.00490932259708643,
          0.004890733398497105,
          0.004872211720794439,
          0.004853758495301008,
          0.004835376050323248,
          0.004817064385861158,
          0.004798825364559889,
          0.0047806622460484505,
          0.004762571305036545,
          0.004744559992104769,
          0.00472662877291441,
          0.004708773456513882,
          0.0046910010278224945,
          0.004673306830227375,
          0.004655697848647833,
          0.00463816849514842,
          0.0046207234263420105,
          0.004603364039212465,
          0.004586086142808199,
          0.004568895790725946,
          0.004551790188997984,
          0.004534767474979162,
          0.004517834167927504,
          0.004500984214246273,
          0.004484220873564482,
          0.004467539023607969,
          0.00445094658061862,
          0.004434437490999699,
          0.004418013617396355,
          0.004401675425469875,
          0.004385421518236399,
          0.004369248170405626,
          0.0043531605042517185,
          0.004337154794484377,
          0.004321230109781027,
          0.004305387381464243,
          0.004289622884243727,
          0.004273938946425915,
          0.004258336964994669,
          0.004242809023708105,
          0.00422735745087266,
          0.00421198271214962,
          0.004196682944893837,
          0.004181455355137587
         ],
         "yaxis": "y3"
        },
        {
         "legendgroup": "2",
         "line": {
          "color": "blue"
         },
         "name": "[17, 8]",
         "type": "scatter",
         "x": [
          -20,
          -19.600000381469727,
          -19.200000762939453,
          -18.799999237060547,
          -18.399999618530273,
          -18,
          -17.600000381469727,
          -17.200000762939453,
          -16.799999237060547,
          -16.399999618530273,
          -16,
          -15.600000381469727,
          -15.199999809265137,
          -14.800000190734863,
          -14.399999618530273,
          -14,
          -13.600000381469727,
          -13.199999809265137,
          -12.800000190734863,
          -12.399999618530273,
          -12,
          -11.59999942779541,
          -11.199999809265137,
          -10.800000190734863,
          -10.399999618530273,
          -10,
          -9.59999942779541,
          -9.199999809265137,
          -8.800000190734863,
          -8.399999618530273,
          -8,
          -7.599999904632568,
          -7.199999809265137,
          -6.799999713897705,
          -6.399999618530273,
          -6,
          -5.599999904632568,
          -5.199999809265137,
          -4.799999713897705,
          -4.399999618530273,
          -3.999999761581421,
          -3.5999996662139893,
          -3.1999998092651367,
          -2.799999713897705,
          -2.3999996185302734,
          -1.999999761581421,
          -1.5999996662139893,
          -1.1999996900558472,
          -0.7999997138977051,
          -0.3999997079372406,
          -2.980232238769531e-7,
          0.3999997079372406,
          0.7999997138977051,
          1.1999996900558472,
          1.5999996662139893,
          1.999999761581421,
          2.3999996185302734,
          2.799999713897705,
          3.1999998092651367,
          3.5999996662139893,
          3.999999761581421,
          4.399999618530273,
          4.799999713897705,
          5.199999809265137,
          5.599999904632568,
          6,
          6.399999618530273,
          6.799999713897705,
          7.199999809265137,
          7.599999904632568,
          8,
          8.399999618530273,
          8.800000190734863,
          9.199999809265137,
          9.59999942779541,
          10,
          10.399999618530273,
          10.800000190734863,
          11.199999809265137,
          11.59999942779541,
          12,
          12.399999618530273,
          12.800000190734863,
          13.199999809265137,
          13.600000381469727,
          14,
          14.399999618530273,
          14.800000190734863,
          15.199999809265137,
          15.600000381469727,
          16,
          16.399999618530273,
          16.799999237060547,
          17.200000762939453,
          17.600000381469727,
          18,
          18.399999618530273,
          18.799999237060547,
          19.200000762939453,
          19.600000381469727,
          20
         ],
         "xaxis": "x3",
         "y": [
          0.012794598005712032,
          0.012768208049237728,
          0.012741764076054096,
          0.012715286575257778,
          0.012688768096268177,
          0.012662201188504696,
          0.012635576538741589,
          0.0126089071854949,
          0.012582178227603436,
          0.01255538035184145,
          0.012528530322015285,
          0.012501603923738003,
          0.012474614195525646,
          0.012447544373571873,
          0.012420414946973324,
          0.012393197976052761,
          0.012365900911390781,
          0.012338521890342236,
          0.012311073020100594,
          0.01228352077305317,
          0.012255887500941753,
          0.012228171341121197,
          0.012200350873172283,
          0.012172452174127102,
          0.012144449166953564,
          0.01211636420339346,
          0.012088175863027573,
          0.012059895321726799,
          0.012031519785523415,
          0.01200304739177227,
          0.01197448093444109,
          0.011945810168981552,
          0.0119170518592,
          0.011888188309967518,
          0.011859237216413021,
          0.011830189265310764,
          0.011801051907241344,
          0.011771813966333866,
          0.011742482893168926,
          0.011713074520230293,
          0.011683570221066475,
          0.01165397372096777,
          0.011624297127127647,
          0.011594543233513832,
          0.011564702726900578,
          0.011534783989191055,
          0.011504790745675564,
          0.01147473230957985,
          0.011444599367678165,
          0.011414396576583385,
          0.011384139768779278,
          0.0113538121804595,
          0.011323437094688416,
          0.011293004266917706,
          0.011262521147727966,
          0.01123200636357069,
          0.011201436631381512,
          0.011170834302902222,
          0.011140192858874798,
          0.011109542101621628,
          0.011078855954110622,
          0.011048157699406147,
          0.01101743709295988,
          0.010986716486513615,
          0.010955980978906155,
          0.010925251059234142,
          0.0108945332467556,
          0.01086382009088993,
          0.01083313301205635,
          0.010802454315125942,
          0.010771804489195347,
          0.010741188190877438,
          0.010710622183978558,
          0.010680082254111767,
          0.010649595409631729,
          0.010619167238473892,
          0.010588792152702808,
          0.010558485053479671,
          0.010528246872127056,
          0.010498079471290112,
          0.010467995889484882,
          0.010438002645969391,
          0.010408090427517891,
          0.010378277860581875,
          0.010348574258387089,
          0.010318976826965809,
          0.01028948463499546,
          0.010260109789669514,
          0.010230864398181438,
          0.010201743803918362,
          0.010172756388783455,
          0.010143906809389591,
          0.010115193203091621,
          0.010086636058986187,
          0.010058222338557243,
          0.010029968805611134,
          0.010001878254115582,
          0.009973956272006035,
          0.009946192614734173,
          0.009918618015944958,
          0.009891207329928875
         ],
         "yaxis": "y3"
        },
        {
         "legendgroup": "3",
         "line": {
          "color": "purple"
         },
         "name": "[22, 12]",
         "type": "scatter",
         "x": [
          -20,
          -19.600000381469727,
          -19.200000762939453,
          -18.799999237060547,
          -18.399999618530273,
          -18,
          -17.600000381469727,
          -17.200000762939453,
          -16.799999237060547,
          -16.399999618530273,
          -16,
          -15.600000381469727,
          -15.199999809265137,
          -14.800000190734863,
          -14.399999618530273,
          -14,
          -13.600000381469727,
          -13.199999809265137,
          -12.800000190734863,
          -12.399999618530273,
          -12,
          -11.59999942779541,
          -11.199999809265137,
          -10.800000190734863,
          -10.399999618530273,
          -10,
          -9.59999942779541,
          -9.199999809265137,
          -8.800000190734863,
          -8.399999618530273,
          -8,
          -7.599999904632568,
          -7.199999809265137,
          -6.799999713897705,
          -6.399999618530273,
          -6,
          -5.599999904632568,
          -5.199999809265137,
          -4.799999713897705,
          -4.399999618530273,
          -3.999999761581421,
          -3.5999996662139893,
          -3.1999998092651367,
          -2.799999713897705,
          -2.3999996185302734,
          -1.999999761581421,
          -1.5999996662139893,
          -1.1999996900558472,
          -0.7999997138977051,
          -0.3999997079372406,
          -2.980232238769531e-7,
          0.3999997079372406,
          0.7999997138977051,
          1.1999996900558472,
          1.5999996662139893,
          1.999999761581421,
          2.3999996185302734,
          2.799999713897705,
          3.1999998092651367,
          3.5999996662139893,
          3.999999761581421,
          4.399999618530273,
          4.799999713897705,
          5.199999809265137,
          5.599999904632568,
          6,
          6.399999618530273,
          6.799999713897705,
          7.199999809265137,
          7.599999904632568,
          8,
          8.399999618530273,
          8.800000190734863,
          9.199999809265137,
          9.59999942779541,
          10,
          10.399999618530273,
          10.800000190734863,
          11.199999809265137,
          11.59999942779541,
          12,
          12.399999618530273,
          12.800000190734863,
          13.199999809265137,
          13.600000381469727,
          14,
          14.399999618530273,
          14.800000190734863,
          15.199999809265137,
          15.600000381469727,
          16,
          16.399999618530273,
          16.799999237060547,
          17.200000762939453,
          17.600000381469727,
          18,
          18.399999618530273,
          18.799999237060547,
          19.200000762939453,
          19.600000381469727,
          20
         ],
         "xaxis": "x3",
         "y": [
          0.04581737145781517,
          0.045600395649671555,
          0.04538263753056526,
          0.0451640784740448,
          0.044944778084754944,
          0.0447247140109539,
          0.044503938406705856,
          0.04428243264555931,
          0.04406024143099785,
          0.04383736476302147,
          0.043613843619823456,
          0.04338964819908142,
          0.043164849281311035,
          0.0429394505918026,
          0.04271344840526581,
          0.04248688742518425,
          0.04225977882742882,
          0.04203211888670921,
          0.04180395230650902,
          0.041575293987989426,
          0.041346143931150436,
          0.04111656919121742,
          0.0408865250647068,
          0.040656086057424545,
          0.04042524844408035,
          0.04019402712583542,
          0.03996247425675392,
          0.03973056375980377,
          0.03949834778904915,
          0.03926582634449005,
          0.03903304412961006,
          0.038800016045570374,
          0.03856672719120979,
          0.03833327442407608,
          0.03809959441423416,
          0.037865761667490005,
          0.037631768733263016,
          0.03739766404032707,
          0.03716345503926277,
          0.03692915663123131,
          0.03669479861855507,
          0.03646039590239525,
          0.036225974559783936,
          0.03599156066775322,
          0.0357571616768837,
          0.035522814840078354,
          0.035288527607917786,
          0.03505433723330498,
          0.03482025861740112,
          0.03458629176020622,
          0.03435250371694565,
          0.03411887213587761,
          0.03388543426990509,
          0.033652227371931076,
          0.033419232815504074,
          0.03318653255701065,
          0.03295407444238663,
          0.03272193297743797,
          0.032490115612745285,
          0.03225862607359886,
          0.03202752023935318,
          0.031796783208847046,
          0.031566448509693146,
          0.03133654594421387,
          0.031107088550925255,
          0.03087807632982731,
          0.030649567022919655,
          0.030421549454331398,
          0.03019406832754612,
          0.029967118054628372,
          0.029740730300545692,
          0.029514921829104424,
          0.0292897317558527,
          0.029065150767564774,
          0.02884119749069214,
          0.02861790731549263,
          0.028395280241966248,
          0.028173351660370827,
          0.027952134609222412,
          0.027731655165553093,
          0.027511894702911377,
          0.027292896062135696,
          0.027074692770838737,
          0.026857266202569008,
          0.026640653610229492,
          0.026424875482916832,
          0.02620992623269558,
          0.025995835661888123,
          0.02578260563313961,
          0.02557026781141758,
          0.02535884641110897,
          0.02514832653105259,
          0.024938734248280525,
          0.024730075150728226,
          0.024522384628653526,
          0.02431565336883068,
          0.02410990186035633,
          0.023905141279101372,
          0.023701390251517296,
          0.023498643189668655,
          0.023296933621168137
         ],
         "yaxis": "y3"
        },
        {
         "legendgroup": "4",
         "line": {
          "color": "turquoise"
         },
         "name": "[19, 10]",
         "type": "scatter",
         "x": [
          -20,
          -19.600000381469727,
          -19.200000762939453,
          -18.799999237060547,
          -18.399999618530273,
          -18,
          -17.600000381469727,
          -17.200000762939453,
          -16.799999237060547,
          -16.399999618530273,
          -16,
          -15.600000381469727,
          -15.199999809265137,
          -14.800000190734863,
          -14.399999618530273,
          -14,
          -13.600000381469727,
          -13.199999809265137,
          -12.800000190734863,
          -12.399999618530273,
          -12,
          -11.59999942779541,
          -11.199999809265137,
          -10.800000190734863,
          -10.399999618530273,
          -10,
          -9.59999942779541,
          -9.199999809265137,
          -8.800000190734863,
          -8.399999618530273,
          -8,
          -7.599999904632568,
          -7.199999809265137,
          -6.799999713897705,
          -6.399999618530273,
          -6,
          -5.599999904632568,
          -5.199999809265137,
          -4.799999713897705,
          -4.399999618530273,
          -3.999999761581421,
          -3.5999996662139893,
          -3.1999998092651367,
          -2.799999713897705,
          -2.3999996185302734,
          -1.999999761581421,
          -1.5999996662139893,
          -1.1999996900558472,
          -0.7999997138977051,
          -0.3999997079372406,
          -2.980232238769531e-7,
          0.3999997079372406,
          0.7999997138977051,
          1.1999996900558472,
          1.5999996662139893,
          1.999999761581421,
          2.3999996185302734,
          2.799999713897705,
          3.1999998092651367,
          3.5999996662139893,
          3.999999761581421,
          4.399999618530273,
          4.799999713897705,
          5.199999809265137,
          5.599999904632568,
          6,
          6.399999618530273,
          6.799999713897705,
          7.199999809265137,
          7.599999904632568,
          8,
          8.399999618530273,
          8.800000190734863,
          9.199999809265137,
          9.59999942779541,
          10,
          10.399999618530273,
          10.800000190734863,
          11.199999809265137,
          11.59999942779541,
          12,
          12.399999618530273,
          12.800000190734863,
          13.199999809265137,
          13.600000381469727,
          14,
          14.399999618530273,
          14.800000190734863,
          15.199999809265137,
          15.600000381469727,
          16,
          16.399999618530273,
          16.799999237060547,
          17.200000762939453,
          17.600000381469727,
          18,
          18.399999618530273,
          18.799999237060547,
          19.200000762939453,
          19.600000381469727,
          20
         ],
         "xaxis": "x3",
         "y": [
          0.08646179735660553,
          0.08611123263835907,
          0.0857599601149559,
          0.08540802448987961,
          0.08505536615848541,
          0.0847020372748375,
          0.08434810489416122,
          0.08399342000484467,
          0.08363806456327438,
          0.08328203111886978,
          0.08292529731988907,
          0.08256784826517105,
          0.08220972865819931,
          0.08185090124607086,
          0.08149134367704391,
          0.08113111555576324,
          0.08077018707990646,
          0.08040855079889297,
          0.08004619926214218,
          0.07968321442604065,
          0.07931946963071823,
          0.07895504683256149,
          0.07858993113040924,
          0.07822414487600327,
          0.0778576135635376,
          0.07749048620462418,
          0.07712260633707047,
          0.07675410062074661,
          0.07638489454984665,
          0.07601507753133774,
          0.07564449310302734,
          0.07527340203523636,
          0.0749015361070633,
          0.07452916353940964,
          0.07415603846311569,
          0.07378239184617996,
          0.07340805977582932,
          0.07303319126367569,
          0.07265762984752655,
          0.07228156179189682,
          0.07190492004156113,
          0.0715276375412941,
          0.07114984095096588,
          0.0707714855670929,
          0.07039263099431992,
          0.07001322507858276,
          0.06963330507278442,
          0.06925288587808609,
          0.06887201219797134,
          0.06849061697721481,
          0.06810881197452545,
          0.06772658228874207,
          0.0673438236117363,
          0.06696069985628128,
          0.06657718867063522,
          0.06619330495595932,
          0.06580902636051178,
          0.06542443484067917,
          0.06503944098949432,
          0.0646541491150856,
          0.0642685741186142,
          0.06388267874717712,
          0.06349657475948334,
          0.06311019510030746,
          0.06272357702255249,
          0.06233673915266991,
          0.0619497187435627,
          0.06156250834465027,
          0.061175163835287094,
          0.06078767776489258,
          0.06040006875991821,
          0.06001243740320206,
          0.05962466821074486,
          0.05923687294125557,
          0.05884901434183121,
          0.058461230248212814,
          0.05807342007756233,
          0.05768566206097603,
          0.057297952473163605,
          0.05691036581993103,
          0.056522876024246216,
          0.056135501712560654,
          0.055748362094163895,
          0.055361390113830566,
          0.05497462674975395,
          0.05458807945251465,
          0.05420184135437012,
          0.05381589010357857,
          0.05343024805188179,
          0.05304495245218277,
          0.05266004428267479,
          0.05227557569742203,
          0.05189148336648941,
          0.051507897675037384,
          0.051124799996614456,
          0.05074222758412361,
          0.05036018416285515,
          0.04997873306274414,
          0.04959789291024208,
          0.04921770840883255,
          0.048838187009096146
         ],
         "yaxis": "y3"
        },
        {
         "legendgroup": "0",
         "line": {
          "color": "pink"
         },
         "name": "[15, 6]",
         "type": "scatter",
         "x": [
          -20,
          -19.600000381469727,
          -19.200000762939453,
          -18.799999237060547,
          -18.399999618530273,
          -18,
          -17.600000381469727,
          -17.200000762939453,
          -16.799999237060547,
          -16.399999618530273,
          -16,
          -15.600000381469727,
          -15.199999809265137,
          -14.800000190734863,
          -14.399999618530273,
          -14,
          -13.600000381469727,
          -13.199999809265137,
          -12.800000190734863,
          -12.399999618530273,
          -12,
          -11.59999942779541,
          -11.199999809265137,
          -10.800000190734863,
          -10.399999618530273,
          -10,
          -9.59999942779541,
          -9.199999809265137,
          -8.800000190734863,
          -8.399999618530273,
          -8,
          -7.599999904632568,
          -7.199999809265137,
          -6.799999713897705,
          -6.399999618530273,
          -6,
          -5.599999904632568,
          -5.199999809265137,
          -4.799999713897705,
          -4.399999618530273,
          -3.999999761581421,
          -3.5999996662139893,
          -3.1999998092651367,
          -2.799999713897705,
          -2.3999996185302734,
          -1.999999761581421,
          -1.5999996662139893,
          -1.1999996900558472,
          -0.7999997138977051,
          -0.3999997079372406,
          -2.980232238769531e-7,
          0.3999997079372406,
          0.7999997138977051,
          1.1999996900558472,
          1.5999996662139893,
          1.999999761581421,
          2.3999996185302734,
          2.799999713897705,
          3.1999998092651367,
          3.5999996662139893,
          3.999999761581421,
          4.399999618530273,
          4.799999713897705,
          5.199999809265137,
          5.599999904632568,
          6,
          6.399999618530273,
          6.799999713897705,
          7.199999809265137,
          7.599999904632568,
          8,
          8.399999618530273,
          8.800000190734863,
          9.199999809265137,
          9.59999942779541,
          10,
          10.399999618530273,
          10.800000190734863,
          11.199999809265137,
          11.59999942779541,
          12,
          12.399999618530273,
          12.800000190734863,
          13.199999809265137,
          13.600000381469727,
          14,
          14.399999618530273,
          14.800000190734863,
          15.199999809265137,
          15.600000381469727,
          16,
          16.399999618530273,
          16.799999237060547,
          17.200000762939453,
          17.600000381469727,
          18,
          18.399999618530273,
          18.799999237060547,
          19.200000762939453,
          19.600000381469727,
          20
         ],
         "xaxis": "x4",
         "y": [
          0.3051607608795166,
          0.30382925271987915,
          0.302482932806015,
          0.30112165212631226,
          0.2997453212738037,
          0.2983535826206207,
          0.2969483733177185,
          0.2955283522605896,
          0.2940945625305176,
          0.2926463782787323,
          0.29118531942367554,
          0.28971171379089355,
          0.2882238030433655,
          0.2867240905761719,
          0.28521159291267395,
          0.28368744254112244,
          0.28215110301971436,
          0.2806035578250885,
          0.27904462814331055,
          0.2774740755558014,
          0.27589327096939087,
          0.27430224418640137,
          0.27270081639289856,
          0.27108973264694214,
          0.2694688141345978,
          0.26783841848373413,
          0.26619917154312134,
          0.26455187797546387,
          0.26289546489715576,
          0.26123106479644775,
          0.25955888628959656,
          0.25787943601608276,
          0.25619232654571533,
          0.2544980049133301,
          0.2527979016304016,
          0.2510908246040344,
          0.24937766790390015,
          0.24765893816947937,
          0.2459353804588318,
          0.24420516192913055,
          0.24247151613235474,
          0.24073247611522675,
          0.2389899492263794,
          0.23724187910556793,
          0.23549167811870575,
          0.23373785614967346,
          0.23198042809963226,
          0.23022042214870453,
          0.22845804691314697,
          0.22669315338134766,
          0.22492653131484985,
          0.22315813601016998,
          0.2213882952928543,
          0.2196178436279297,
          0.21784597635269165,
          0.2160743772983551,
          0.2143019586801529,
          0.21252962946891785,
          0.21075817942619324,
          0.20898671448230743,
          0.20721670985221863,
          0.20544740557670593,
          0.20367947220802307,
          0.201913520693779,
          0.20014937222003937,
          0.1983872354030609,
          0.196627676486969,
          0.19487085938453674,
          0.19311702251434326,
          0.1913662701845169,
          0.18961921334266663,
          0.18787606060504913,
          0.1861364096403122,
          0.18440093100070953,
          0.18266993761062622,
          0.18094375729560852,
          0.17922218143939972,
          0.17750567197799683,
          0.1757948100566864,
          0.17408908903598785,
          0.17238911986351013,
          0.1706949919462204,
          0.16900718212127686,
          0.1673254668712616,
          0.1656501293182373,
          0.16398169100284576,
          0.1623203456401825,
          0.16066543757915497,
          0.15901820361614227,
          0.15737800300121307,
          0.155745729804039,
          0.15412083268165588,
          0.15250402688980103,
          0.15089495480060577,
          0.14929437637329102,
          0.14770175516605377,
          0.14611774682998657,
          0.14454227685928345,
          0.14297544956207275,
          0.14141753315925598,
          0.13986867666244507
         ],
         "yaxis": "y4"
        },
        {
         "legendgroup": "1",
         "line": {
          "color": "darkviolet"
         },
         "name": "[20, 7]",
         "type": "scatter",
         "x": [
          -20,
          -19.600000381469727,
          -19.200000762939453,
          -18.799999237060547,
          -18.399999618530273,
          -18,
          -17.600000381469727,
          -17.200000762939453,
          -16.799999237060547,
          -16.399999618530273,
          -16,
          -15.600000381469727,
          -15.199999809265137,
          -14.800000190734863,
          -14.399999618530273,
          -14,
          -13.600000381469727,
          -13.199999809265137,
          -12.800000190734863,
          -12.399999618530273,
          -12,
          -11.59999942779541,
          -11.199999809265137,
          -10.800000190734863,
          -10.399999618530273,
          -10,
          -9.59999942779541,
          -9.199999809265137,
          -8.800000190734863,
          -8.399999618530273,
          -8,
          -7.599999904632568,
          -7.199999809265137,
          -6.799999713897705,
          -6.399999618530273,
          -6,
          -5.599999904632568,
          -5.199999809265137,
          -4.799999713897705,
          -4.399999618530273,
          -3.999999761581421,
          -3.5999996662139893,
          -3.1999998092651367,
          -2.799999713897705,
          -2.3999996185302734,
          -1.999999761581421,
          -1.5999996662139893,
          -1.1999996900558472,
          -0.7999997138977051,
          -0.3999997079372406,
          -2.980232238769531e-7,
          0.3999997079372406,
          0.7999997138977051,
          1.1999996900558472,
          1.5999996662139893,
          1.999999761581421,
          2.3999996185302734,
          2.799999713897705,
          3.1999998092651367,
          3.5999996662139893,
          3.999999761581421,
          4.399999618530273,
          4.799999713897705,
          5.199999809265137,
          5.599999904632568,
          6,
          6.399999618530273,
          6.799999713897705,
          7.199999809265137,
          7.599999904632568,
          8,
          8.399999618530273,
          8.800000190734863,
          9.199999809265137,
          9.59999942779541,
          10,
          10.399999618530273,
          10.800000190734863,
          11.199999809265137,
          11.59999942779541,
          12,
          12.399999618530273,
          12.800000190734863,
          13.199999809265137,
          13.600000381469727,
          14,
          14.399999618530273,
          14.800000190734863,
          15.199999809265137,
          15.600000381469727,
          16,
          16.399999618530273,
          16.799999237060547,
          17.200000762939453,
          17.600000381469727,
          18,
          18.399999618530273,
          18.799999237060547,
          19.200000762939453,
          19.600000381469727,
          20
         ],
         "xaxis": "x4",
         "y": [
          0.6536716818809509,
          0.6514333486557007,
          0.6491820216178894,
          0.6469176411628723,
          0.6446401476860046,
          0.6423499584197998,
          0.6400473117828369,
          0.6377320289611816,
          0.6354044079780579,
          0.6330646872520447,
          0.6307132840156555,
          0.6283496618270874,
          0.6259745955467224,
          0.6235877871513367,
          0.6211900115013123,
          0.6187809109687805,
          0.6163609027862549,
          0.6139301657676697,
          0.6114886999130249,
          0.6090369820594788,
          0.6065748333930969,
          0.6041030883789062,
          0.601621150970459,
          0.5991296768188477,
          0.5966287851333618,
          0.594118595123291,
          0.5915994644165039,
          0.5890713334083557,
          0.5865345001220703,
          0.5839897394180298,
          0.5814365148544312,
          0.5788752436637878,
          0.5763059854507446,
          0.5737293362617493,
          0.5711451172828674,
          0.5685538053512573,
          0.5659557580947876,
          0.5633506774902344,
          0.5607392191886902,
          0.558121383190155,
          0.5554974675178528,
          0.552867591381073,
          0.5502322316169739,
          0.5475912690162659,
          0.5449449419975281,
          0.5422934293746948,
          0.5396373867988586,
          0.5369765162467957,
          0.5343113541603088,
          0.531641960144043,
          0.5289685130119324,
          0.5262914299964905,
          0.5236107110977173,
          0.5209265947341919,
          0.5182391405105591,
          0.5155489444732666,
          0.5128560066223145,
          0.5101604461669922,
          0.5074625015258789,
          0.5047626495361328,
          0.5020607113838196,
          0.49935707449913025,
          0.4966519773006439,
          0.4939455986022949,
          0.4912378787994385,
          0.48852941393852234,
          0.4858202040195465,
          0.4831107258796692,
          0.48040059208869934,
          0.4776904881000519,
          0.4749804139137268,
          0.4722707271575928,
          0.46956130862236023,
          0.4668528735637665,
          0.4641450047492981,
          0.46143847703933716,
          0.45873305201530457,
          0.45602914690971375,
          0.453326940536499,
          0.4506264925003052,
          0.44792822003364563,
          0.4452321529388428,
          0.44253838062286377,
          0.4398476779460907,
          0.4371595084667206,
          0.43447449803352356,
          0.4317927360534668,
          0.4291142523288727,
          0.42643964290618896,
          0.42376863956451416,
          0.42110174894332886,
          0.41843920946121216,
          0.4157811105251312,
          0.413127601146698,
          0.410478800535202,
          0.4078352153301239,
          0.40519678592681885,
          0.40256404876708984,
          0.3999365270137787,
          0.3973153233528137,
          0.3946998715400696
         ],
         "yaxis": "y4"
        },
        {
         "legendgroup": "2",
         "line": {
          "color": "blue"
         },
         "name": "[17, 8]",
         "type": "scatter",
         "x": [
          -20,
          -19.600000381469727,
          -19.200000762939453,
          -18.799999237060547,
          -18.399999618530273,
          -18,
          -17.600000381469727,
          -17.200000762939453,
          -16.799999237060547,
          -16.399999618530273,
          -16,
          -15.600000381469727,
          -15.199999809265137,
          -14.800000190734863,
          -14.399999618530273,
          -14,
          -13.600000381469727,
          -13.199999809265137,
          -12.800000190734863,
          -12.399999618530273,
          -12,
          -11.59999942779541,
          -11.199999809265137,
          -10.800000190734863,
          -10.399999618530273,
          -10,
          -9.59999942779541,
          -9.199999809265137,
          -8.800000190734863,
          -8.399999618530273,
          -8,
          -7.599999904632568,
          -7.199999809265137,
          -6.799999713897705,
          -6.399999618530273,
          -6,
          -5.599999904632568,
          -5.199999809265137,
          -4.799999713897705,
          -4.399999618530273,
          -3.999999761581421,
          -3.5999996662139893,
          -3.1999998092651367,
          -2.799999713897705,
          -2.3999996185302734,
          -1.999999761581421,
          -1.5999996662139893,
          -1.1999996900558472,
          -0.7999997138977051,
          -0.3999997079372406,
          -2.980232238769531e-7,
          0.3999997079372406,
          0.7999997138977051,
          1.1999996900558472,
          1.5999996662139893,
          1.999999761581421,
          2.3999996185302734,
          2.799999713897705,
          3.1999998092651367,
          3.5999996662139893,
          3.999999761581421,
          4.399999618530273,
          4.799999713897705,
          5.199999809265137,
          5.599999904632568,
          6,
          6.399999618530273,
          6.799999713897705,
          7.199999809265137,
          7.599999904632568,
          8,
          8.399999618530273,
          8.800000190734863,
          9.199999809265137,
          9.59999942779541,
          10,
          10.399999618530273,
          10.800000190734863,
          11.199999809265137,
          11.59999942779541,
          12,
          12.399999618530273,
          12.800000190734863,
          13.199999809265137,
          13.600000381469727,
          14,
          14.399999618530273,
          14.800000190734863,
          15.199999809265137,
          15.600000381469727,
          16,
          16.399999618530273,
          16.799999237060547,
          17.200000762939453,
          17.600000381469727,
          18,
          18.399999618530273,
          18.799999237060547,
          19.200000762939453,
          19.600000381469727,
          20
         ],
         "xaxis": "x4",
         "y": [
          0.45044276118278503,
          0.4490211606025696,
          0.44759076833724976,
          0.44615182280540466,
          0.444704532623291,
          0.4432488977909088,
          0.4417853355407715,
          0.44031384587287903,
          0.438834547996521,
          0.4373478889465332,
          0.4358537793159485,
          0.43435245752334595,
          0.4328443706035614,
          0.4313293993473053,
          0.4298079311847687,
          0.4282801151275635,
          0.4267461895942688,
          0.4252062141895294,
          0.4236605167388916,
          0.4221094846725464,
          0.4205529987812042,
          0.41899144649505615,
          0.4174250364303589,
          0.41585400700569153,
          0.4142785966396332,
          0.4126988351345062,
          0.41111528873443604,
          0.4095279574394226,
          0.40793704986572266,
          0.40634286403656006,
          0.40474560856819153,
          0.40314558148384094,
          0.401542991399765,
          0.3999379277229309,
          0.39833077788352966,
          0.39672163128852844,
          0.3951109051704407,
          0.3934987187385559,
          0.391885370016098,
          0.390270859003067,
          0.3886556625366211,
          0.38703984022140503,
          0.38542380928993225,
          0.3838076889514923,
          0.38219159841537476,
          0.38057586550712585,
          0.3789606988430023,
          0.3773462176322937,
          0.37573274970054626,
          0.3741205334663391,
          0.37250956892967224,
          0.37090033292770386,
          0.36929285526275635,
          0.3676873743534088,
          0.36608409881591797,
          0.3644830584526062,
          0.3628848195075989,
          0.36128926277160645,
          0.359696626663208,
          0.3581070303916931,
          0.3565208613872528,
          0.3549380302429199,
          0.3533589541912079,
          0.3517836034297943,
          0.3502121567726135,
          0.348644882440567,
          0.34708189964294434,
          0.3455231785774231,
          0.34396910667419434,
          0.34241971373558044,
          0.3408750593662262,
          0.33933547139167786,
          0.3378008306026459,
          0.3362714946269989,
          0.33474746346473694,
          0.3332287073135376,
          0.33171558380126953,
          0.33020806312561035,
          0.32870617508888245,
          0.3272101581096649,
          0.32572004199028015,
          0.3242359757423401,
          0.3227578401565552,
          0.3212859034538269,
          0.31982022523880005,
          0.3183608055114746,
          0.3169076442718506,
          0.31546086072921753,
          0.3140205442905426,
          0.3125867247581482,
          0.3111594617366791,
          0.30973878502845764,
          0.3083246052265167,
          0.30691710114479065,
          0.3055163025856018,
          0.30412209033966064,
          0.3027346730232239,
          0.30135399103164673,
          0.2999799847602844,
          0.2986127436161041,
          0.2972521185874939
         ],
         "yaxis": "y4"
        },
        {
         "legendgroup": "3",
         "line": {
          "color": "purple"
         },
         "name": "[22, 12]",
         "type": "scatter",
         "x": [
          -20,
          -19.600000381469727,
          -19.200000762939453,
          -18.799999237060547,
          -18.399999618530273,
          -18,
          -17.600000381469727,
          -17.200000762939453,
          -16.799999237060547,
          -16.399999618530273,
          -16,
          -15.600000381469727,
          -15.199999809265137,
          -14.800000190734863,
          -14.399999618530273,
          -14,
          -13.600000381469727,
          -13.199999809265137,
          -12.800000190734863,
          -12.399999618530273,
          -12,
          -11.59999942779541,
          -11.199999809265137,
          -10.800000190734863,
          -10.399999618530273,
          -10,
          -9.59999942779541,
          -9.199999809265137,
          -8.800000190734863,
          -8.399999618530273,
          -8,
          -7.599999904632568,
          -7.199999809265137,
          -6.799999713897705,
          -6.399999618530273,
          -6,
          -5.599999904632568,
          -5.199999809265137,
          -4.799999713897705,
          -4.399999618530273,
          -3.999999761581421,
          -3.5999996662139893,
          -3.1999998092651367,
          -2.799999713897705,
          -2.3999996185302734,
          -1.999999761581421,
          -1.5999996662139893,
          -1.1999996900558472,
          -0.7999997138977051,
          -0.3999997079372406,
          -2.980232238769531e-7,
          0.3999997079372406,
          0.7999997138977051,
          1.1999996900558472,
          1.5999996662139893,
          1.999999761581421,
          2.3999996185302734,
          2.799999713897705,
          3.1999998092651367,
          3.5999996662139893,
          3.999999761581421,
          4.399999618530273,
          4.799999713897705,
          5.199999809265137,
          5.599999904632568,
          6,
          6.399999618530273,
          6.799999713897705,
          7.199999809265137,
          7.599999904632568,
          8,
          8.399999618530273,
          8.800000190734863,
          9.199999809265137,
          9.59999942779541,
          10,
          10.399999618530273,
          10.800000190734863,
          11.199999809265137,
          11.59999942779541,
          12,
          12.399999618530273,
          12.800000190734863,
          13.199999809265137,
          13.600000381469727,
          14,
          14.399999618530273,
          14.800000190734863,
          15.199999809265137,
          15.600000381469727,
          16,
          16.399999618530273,
          16.799999237060547,
          17.200000762939453,
          17.600000381469727,
          18,
          18.399999618530273,
          18.799999237060547,
          19.200000762939453,
          19.600000381469727,
          20
         ],
         "xaxis": "x4",
         "y": [
          0.016463685780763626,
          0.017573583871126175,
          0.018672924488782883,
          0.019761785864830017,
          0.02083982527256012,
          0.021907050162553787,
          0.022963393479585648,
          0.024008560925722122,
          0.025042671710252762,
          0.026065412908792496,
          0.027076713740825653,
          0.028076618909835815,
          0.02906489372253418,
          0.030041474848985672,
          0.031006276607513428,
          0.03195910528302193,
          0.03290000930428505,
          0.03382890298962593,
          0.03474556282162666,
          0.03565000370144844,
          0.036542151123285294,
          0.03742184862494469,
          0.038289036601781845,
          0.03914368525147438,
          0.039985738694667816,
          0.04081512242555618,
          0.04163170978426933,
          0.04243558645248413,
          0.0432264469563961,
          0.0440044105052948,
          0.04476938769221306,
          0.045521244406700134,
          0.04626013711094856,
          0.04698584973812103,
          0.047698333859443665,
          0.0483977235853672,
          0.04908391460776329,
          0.049756769090890884,
          0.0504162572324276,
          0.05106247588992119,
          0.05169537290930748,
          0.05231493338942528,
          0.05292106419801712,
          0.053513918071985245,
          0.05409342795610428,
          0.0546594001352787,
          0.0552121177315712,
          0.05575147643685341,
          0.05627744644880295,
          0.05679004266858101,
          0.05728930979967117,
          0.05777539685368538,
          0.05824803560972214,
          0.058707352727651596,
          0.05915375426411629,
          0.059586673974990845,
          0.06000669300556183,
          0.06041346862912178,
          0.0608072392642498,
          0.061188068240880966,
          0.061555877327919006,
          0.06191088259220123,
          0.06225304305553436,
          0.06258243322372437,
          0.06289917230606079,
          0.06320329010486603,
          0.06349492073059082,
          0.06377405673265457,
          0.06404086947441101,
          0.06429541110992432,
          0.06453773379325867,
          0.06476803869009018,
          0.06498633325099945,
          0.0651928186416626,
          0.06538742035627365,
          0.06557042896747589,
          0.06574176251888275,
          0.0659017562866211,
          0.0660504624247551,
          0.06618785113096237,
          0.06631427258253098,
          0.06642971932888031,
          0.06653424352407455,
          0.06662819534540176,
          0.06671150028705597,
          0.0667843297123909,
          0.06684701144695282,
          0.06689950823783875,
          0.06694193929433823,
          0.06697455048561096,
          0.06699738651514053,
          0.06701073050498962,
          0.06701458990573883,
          0.06700916588306427,
          0.06699468195438385,
          0.06697119027376175,
          0.0669388696551323,
          0.0668979212641716,
          0.06684838235378265,
          0.06679059565067291,
          0.0667245164513588
         ],
         "yaxis": "y4"
        },
        {
         "legendgroup": "4",
         "line": {
          "color": "turquoise"
         },
         "name": "[19, 10]",
         "type": "scatter",
         "x": [
          -20,
          -19.600000381469727,
          -19.200000762939453,
          -18.799999237060547,
          -18.399999618530273,
          -18,
          -17.600000381469727,
          -17.200000762939453,
          -16.799999237060547,
          -16.399999618530273,
          -16,
          -15.600000381469727,
          -15.199999809265137,
          -14.800000190734863,
          -14.399999618530273,
          -14,
          -13.600000381469727,
          -13.199999809265137,
          -12.800000190734863,
          -12.399999618530273,
          -12,
          -11.59999942779541,
          -11.199999809265137,
          -10.800000190734863,
          -10.399999618530273,
          -10,
          -9.59999942779541,
          -9.199999809265137,
          -8.800000190734863,
          -8.399999618530273,
          -8,
          -7.599999904632568,
          -7.199999809265137,
          -6.799999713897705,
          -6.399999618530273,
          -6,
          -5.599999904632568,
          -5.199999809265137,
          -4.799999713897705,
          -4.399999618530273,
          -3.999999761581421,
          -3.5999996662139893,
          -3.1999998092651367,
          -2.799999713897705,
          -2.3999996185302734,
          -1.999999761581421,
          -1.5999996662139893,
          -1.1999996900558472,
          -0.7999997138977051,
          -0.3999997079372406,
          -2.980232238769531e-7,
          0.3999997079372406,
          0.7999997138977051,
          1.1999996900558472,
          1.5999996662139893,
          1.999999761581421,
          2.3999996185302734,
          2.799999713897705,
          3.1999998092651367,
          3.5999996662139893,
          3.999999761581421,
          4.399999618530273,
          4.799999713897705,
          5.199999809265137,
          5.599999904632568,
          6,
          6.399999618530273,
          6.799999713897705,
          7.199999809265137,
          7.599999904632568,
          8,
          8.399999618530273,
          8.800000190734863,
          9.199999809265137,
          9.59999942779541,
          10,
          10.399999618530273,
          10.800000190734863,
          11.199999809265137,
          11.59999942779541,
          12,
          12.399999618530273,
          12.800000190734863,
          13.199999809265137,
          13.600000381469727,
          14,
          14.399999618530273,
          14.800000190734863,
          15.199999809265137,
          15.600000381469727,
          16,
          16.399999618530273,
          16.799999237060547,
          17.200000762939453,
          17.600000381469727,
          18,
          18.399999618530273,
          18.799999237060547,
          19.200000762939453,
          19.600000381469727,
          20
         ],
         "xaxis": "x4",
         "y": [
          -0.14200137555599213,
          -0.14219625294208527,
          -0.14238518476486206,
          -0.14256787300109863,
          -0.1427440494298935,
          -0.14291366934776306,
          -0.1430770456790924,
          -0.14323358237743378,
          -0.1433834433555603,
          -0.14352619647979736,
          -0.14366242289543152,
          -0.14379149675369263,
          -0.14391350746154785,
          -0.14402851462364197,
          -0.144135981798172,
          -0.14423632621765137,
          -0.1443290114402771,
          -0.14441457390785217,
          -0.144492506980896,
          -0.14456290006637573,
          -0.14462557435035706,
          -0.1446804702281952,
          -0.14472781121730804,
          -0.14476710557937622,
          -0.1447983980178833,
          -0.14482200145721436,
          -0.14483734965324402,
          -0.14484483003616333,
          -0.1448441445827484,
          -0.14483535289764404,
          -0.14481855928897858,
          -0.14479312300682068,
          -0.14475984871387482,
          -0.1447182595729828,
          -0.144668310880661,
          -0.14461010694503784,
          -0.1445433795452118,
          -0.1444685459136963,
          -0.14438506960868835,
          -0.14429312944412231,
          -0.14419308304786682,
          -0.1440843641757965,
          -0.1439671814441681,
          -0.1438416987657547,
          -0.14370757341384888,
          -0.14356526732444763,
          -0.14341425895690918,
          -0.1432550549507141,
          -0.143087238073349,
          -0.14291107654571533,
          -0.14272646605968475,
          -0.14253370463848114,
          -0.1423322558403015,
          -0.14212268590927124,
          -0.1419045329093933,
          -0.14167845249176025,
          -0.14144401252269745,
          -0.1412012279033661,
          -0.1409502923488617,
          -0.14069125056266785,
          -0.14042425155639648,
          -0.14014898240566254,
          -0.13986575603485107,
          -0.13957473635673523,
          -0.13927575945854187,
          -0.13896895945072174,
          -0.13865439593791962,
          -0.13833200931549072,
          -0.1380019634962082,
          -0.1376645714044571,
          -0.1373196542263031,
          -0.13696733117103577,
          -0.13660745322704315,
          -0.13624043762683868,
          -0.13586625456809998,
          -0.13548490405082703,
          -0.1350969523191452,
          -0.1347016990184784,
          -0.1342998743057251,
          -0.13389118015766144,
          -0.13347604870796204,
          -0.13305440545082092,
          -0.1326264888048172,
          -0.13219228386878967,
          -0.13175177574157715,
          -0.13130536675453186,
          -0.13085302710533142,
          -0.13039502501487732,
          -0.12993139028549194,
          -0.12946206331253052,
          -0.1289873868227005,
          -0.12850752472877502,
          -0.12802252173423767,
          -0.12753251194953918,
          -0.12703774869441986,
          -0.12653838098049164,
          -0.1260344237089157,
          -0.1255260705947876,
          -0.12501342594623566,
          -0.12449678033590317,
          -0.12397614121437073
         ],
         "yaxis": "y4"
        },
        {
         "legendgroup": "0",
         "line": {
          "color": "pink"
         },
         "name": "[15, 6]",
         "type": "scatter",
         "x": [
          -20,
          -19.600000381469727,
          -19.200000762939453,
          -18.799999237060547,
          -18.399999618530273,
          -18,
          -17.600000381469727,
          -17.200000762939453,
          -16.799999237060547,
          -16.399999618530273,
          -16,
          -15.600000381469727,
          -15.199999809265137,
          -14.800000190734863,
          -14.399999618530273,
          -14,
          -13.600000381469727,
          -13.199999809265137,
          -12.800000190734863,
          -12.399999618530273,
          -12,
          -11.59999942779541,
          -11.199999809265137,
          -10.800000190734863,
          -10.399999618530273,
          -10,
          -9.59999942779541,
          -9.199999809265137,
          -8.800000190734863,
          -8.399999618530273,
          -8,
          -7.599999904632568,
          -7.199999809265137,
          -6.799999713897705,
          -6.399999618530273,
          -6,
          -5.599999904632568,
          -5.199999809265137,
          -4.799999713897705,
          -4.399999618530273,
          -3.999999761581421,
          -3.5999996662139893,
          -3.1999998092651367,
          -2.799999713897705,
          -2.3999996185302734,
          -1.999999761581421,
          -1.5999996662139893,
          -1.1999996900558472,
          -0.7999997138977051,
          -0.3999997079372406,
          -2.980232238769531e-7,
          0.3999997079372406,
          0.7999997138977051,
          1.1999996900558472,
          1.5999996662139893,
          1.999999761581421,
          2.3999996185302734,
          2.799999713897705,
          3.1999998092651367,
          3.5999996662139893,
          3.999999761581421,
          4.399999618530273,
          4.799999713897705,
          5.199999809265137,
          5.599999904632568,
          6,
          6.399999618530273,
          6.799999713897705,
          7.199999809265137,
          7.599999904632568,
          8,
          8.399999618530273,
          8.800000190734863,
          9.199999809265137,
          9.59999942779541,
          10,
          10.399999618530273,
          10.800000190734863,
          11.199999809265137,
          11.59999942779541,
          12,
          12.399999618530273,
          12.800000190734863,
          13.199999809265137,
          13.600000381469727,
          14,
          14.399999618530273,
          14.800000190734863,
          15.199999809265137,
          15.600000381469727,
          16,
          16.399999618530273,
          16.799999237060547,
          17.200000762939453,
          17.600000381469727,
          18,
          18.399999618530273,
          18.799999237060547,
          19.200000762939453,
          19.600000381469727,
          20
         ],
         "xaxis": "x5",
         "y": [
          0.18339942395687103,
          0.18515479564666748,
          0.18691875040531158,
          0.18869151175022125,
          0.19047296047210693,
          0.19226321578025818,
          0.19406187534332275,
          0.19586920738220215,
          0.19768497347831726,
          0.19950948655605316,
          0.20134222507476807,
          0.2031828910112381,
          0.20503215491771698,
          0.20688961446285248,
          0.20875492691993713,
          0.2106284201145172,
          0.2125096321105957,
          0.2143988162279129,
          0.21629539132118225,
          0.21820056438446045,
          0.22011207044124603,
          0.2220315933227539,
          0.223958358168602,
          0.22589218616485596,
          0.22783339023590088,
          0.22978167235851288,
          0.2317367047071457,
          0.2336980551481247,
          0.23566682636737823,
          0.23764191567897797,
          0.23962271213531494,
          0.2416103333234787,
          0.2436039000749588,
          0.2456040233373642,
          0.2476092129945755,
          0.2496202439069748,
          0.25163698196411133,
          0.2536592185497284,
          0.2556860148906708,
          0.25771889090538025,
          0.259755939245224,
          0.26179811358451843,
          0.2638445794582367,
          0.26589593291282654,
          0.2679511606693268,
          0.27001023292541504,
          0.2720734179019928,
          0.274140328168869,
          0.27621084451675415,
          0.2782844007015228,
          0.2803612947463989,
          0.28244152665138245,
          0.28452402353286743,
          0.28660908341407776,
          0.2886965274810791,
          0.29078617691993713,
          0.292877733707428,
          0.29497143626213074,
          0.2970660626888275,
          0.2991623878479004,
          0.30125951766967773,
          0.3033578395843506,
          0.30545705556869507,
          0.30755630135536194,
          0.30965596437454224,
          0.3117556869983673,
          0.31385526061058044,
          0.3159543573856354,
          0.31805291771888733,
          0.32015061378479004,
          0.3222474157810211,
          0.32434260845184326,
          0.3264363706111908,
          0.32852861285209656,
          0.3306187093257904,
          0.3327065110206604,
          0.33479204773902893,
          0.3368750512599945,
          0.33895495533943176,
          0.3410319983959198,
          0.34310558438301086,
          0.3451758325099945,
          0.3472417891025543,
          0.3493042588233948,
          0.35136255621910095,
          0.3534163236618042,
          0.35546523332595825,
          0.3575098514556885,
          0.3595488965511322,
          0.36158284544944763,
          0.3636111319065094,
          0.3656340539455414,
          0.36765074729919434,
          0.3696616291999817,
          0.3716658353805542,
          0.37366369366645813,
          0.3756549060344696,
          0.37763911485671997,
          0.37961623072624207,
          0.38158583641052246,
          0.38354796171188354
         ],
         "yaxis": "y5"
        },
        {
         "legendgroup": "1",
         "line": {
          "color": "darkviolet"
         },
         "name": "[20, 7]",
         "type": "scatter",
         "x": [
          -20,
          -19.600000381469727,
          -19.200000762939453,
          -18.799999237060547,
          -18.399999618530273,
          -18,
          -17.600000381469727,
          -17.200000762939453,
          -16.799999237060547,
          -16.399999618530273,
          -16,
          -15.600000381469727,
          -15.199999809265137,
          -14.800000190734863,
          -14.399999618530273,
          -14,
          -13.600000381469727,
          -13.199999809265137,
          -12.800000190734863,
          -12.399999618530273,
          -12,
          -11.59999942779541,
          -11.199999809265137,
          -10.800000190734863,
          -10.399999618530273,
          -10,
          -9.59999942779541,
          -9.199999809265137,
          -8.800000190734863,
          -8.399999618530273,
          -8,
          -7.599999904632568,
          -7.199999809265137,
          -6.799999713897705,
          -6.399999618530273,
          -6,
          -5.599999904632568,
          -5.199999809265137,
          -4.799999713897705,
          -4.399999618530273,
          -3.999999761581421,
          -3.5999996662139893,
          -3.1999998092651367,
          -2.799999713897705,
          -2.3999996185302734,
          -1.999999761581421,
          -1.5999996662139893,
          -1.1999996900558472,
          -0.7999997138977051,
          -0.3999997079372406,
          -2.980232238769531e-7,
          0.3999997079372406,
          0.7999997138977051,
          1.1999996900558472,
          1.5999996662139893,
          1.999999761581421,
          2.3999996185302734,
          2.799999713897705,
          3.1999998092651367,
          3.5999996662139893,
          3.999999761581421,
          4.399999618530273,
          4.799999713897705,
          5.199999809265137,
          5.599999904632568,
          6,
          6.399999618530273,
          6.799999713897705,
          7.199999809265137,
          7.599999904632568,
          8,
          8.399999618530273,
          8.800000190734863,
          9.199999809265137,
          9.59999942779541,
          10,
          10.399999618530273,
          10.800000190734863,
          11.199999809265137,
          11.59999942779541,
          12,
          12.399999618530273,
          12.800000190734863,
          13.199999809265137,
          13.600000381469727,
          14,
          14.399999618530273,
          14.800000190734863,
          15.199999809265137,
          15.600000381469727,
          16,
          16.399999618530273,
          16.799999237060547,
          17.200000762939453,
          17.600000381469727,
          18,
          18.399999618530273,
          18.799999237060547,
          19.200000762939453,
          19.600000381469727,
          20
         ],
         "xaxis": "x5",
         "y": [
          0.23926658928394318,
          0.24129366874694824,
          0.2433333843946457,
          0.24538598954677582,
          0.24745140969753265,
          0.24952936172485352,
          0.2516196370124817,
          0.2537224292755127,
          0.25583750009536743,
          0.2579646110534668,
          0.2601035535335541,
          0.2622545659542084,
          0.26441726088523865,
          0.2665916383266449,
          0.26877737045288086,
          0.2709745168685913,
          0.27318274974823,
          0.2754019796848297,
          0.2776322364807129,
          0.2798730432987213,
          0.28212451934814453,
          0.2843862473964691,
          0.2866583466529846,
          0.2889404892921448,
          0.29123246669769287,
          0.29353412985801697,
          0.2958454489707947,
          0.2981662452220917,
          0.3004961609840393,
          0.3028348386287689,
          0.30518242716789246,
          0.30753880739212036,
          0.30990371108055115,
          0.312276691198349,
          0.31465810537338257,
          0.31704720854759216,
          0.31944379210472107,
          0.32184815406799316,
          0.32425975799560547,
          0.32667842507362366,
          0.3291040062904358,
          0.3315364420413971,
          0.33397525548934937,
          0.3364203870296478,
          0.3388718068599701,
          0.34132930636405945,
          0.34379228949546814,
          0.34626102447509766,
          0.34873485565185547,
          0.3512139618396759,
          0.3536980152130127,
          0.3561866283416748,
          0.35867995023727417,
          0.36117762327194214,
          0.3636796176433563,
          0.3661852478981018,
          0.3686947822570801,
          0.3712078630924225,
          0.3737243413925171,
          0.37624379992485046,
          0.37876635789871216,
          0.38129162788391113,
          0.38381943106651306,
          0.3863496482372284,
          0.388882040977478,
          0.39141643047332764,
          0.3939525783061981,
          0.3964901864528656,
          0.39902931451797485,
          0.4015696048736572,
          0.4041110575199127,
          0.4066530168056488,
          0.4091959595680237,
          0.41173896193504333,
          0.41428253054618835,
          0.4168258607387543,
          0.4193692207336426,
          0.42191219329833984,
          0.4244546592235565,
          0.4269963800907135,
          0.4295371174812317,
          0.43207675218582153,
          0.4346153736114502,
          0.43715205788612366,
          0.4396873414516449,
          0.44222068786621094,
          0.44475194811820984,
          0.44728097319602966,
          0.4498074948787689,
          0.4523316025733948,
          0.45485273003578186,
          0.4573707580566406,
          0.4598855972290039,
          0.46239709854125977,
          0.46490517258644104,
          0.4674091041088104,
          0.46990928053855896,
          0.4724050462245941,
          0.4748968183994293,
          0.47738367319107056,
          0.47986599802970886
         ],
         "yaxis": "y5"
        },
        {
         "legendgroup": "2",
         "line": {
          "color": "blue"
         },
         "name": "[17, 8]",
         "type": "scatter",
         "x": [
          -20,
          -19.600000381469727,
          -19.200000762939453,
          -18.799999237060547,
          -18.399999618530273,
          -18,
          -17.600000381469727,
          -17.200000762939453,
          -16.799999237060547,
          -16.399999618530273,
          -16,
          -15.600000381469727,
          -15.199999809265137,
          -14.800000190734863,
          -14.399999618530273,
          -14,
          -13.600000381469727,
          -13.199999809265137,
          -12.800000190734863,
          -12.399999618530273,
          -12,
          -11.59999942779541,
          -11.199999809265137,
          -10.800000190734863,
          -10.399999618530273,
          -10,
          -9.59999942779541,
          -9.199999809265137,
          -8.800000190734863,
          -8.399999618530273,
          -8,
          -7.599999904632568,
          -7.199999809265137,
          -6.799999713897705,
          -6.399999618530273,
          -6,
          -5.599999904632568,
          -5.199999809265137,
          -4.799999713897705,
          -4.399999618530273,
          -3.999999761581421,
          -3.5999996662139893,
          -3.1999998092651367,
          -2.799999713897705,
          -2.3999996185302734,
          -1.999999761581421,
          -1.5999996662139893,
          -1.1999996900558472,
          -0.7999997138977051,
          -0.3999997079372406,
          -2.980232238769531e-7,
          0.3999997079372406,
          0.7999997138977051,
          1.1999996900558472,
          1.5999996662139893,
          1.999999761581421,
          2.3999996185302734,
          2.799999713897705,
          3.1999998092651367,
          3.5999996662139893,
          3.999999761581421,
          4.399999618530273,
          4.799999713897705,
          5.199999809265137,
          5.599999904632568,
          6,
          6.399999618530273,
          6.799999713897705,
          7.199999809265137,
          7.599999904632568,
          8,
          8.399999618530273,
          8.800000190734863,
          9.199999809265137,
          9.59999942779541,
          10,
          10.399999618530273,
          10.800000190734863,
          11.199999809265137,
          11.59999942779541,
          12,
          12.399999618530273,
          12.800000190734863,
          13.199999809265137,
          13.600000381469727,
          14,
          14.399999618530273,
          14.800000190734863,
          15.199999809265137,
          15.600000381469727,
          16,
          16.399999618530273,
          16.799999237060547,
          17.200000762939453,
          17.600000381469727,
          18,
          18.399999618530273,
          18.799999237060547,
          19.200000762939453,
          19.600000381469727,
          20
         ],
         "xaxis": "x5",
         "y": [
          0.1905372589826584,
          0.19185662269592285,
          0.19318315386772156,
          0.1945166438817978,
          0.1958572119474411,
          0.1972046196460724,
          0.19855883717536926,
          0.19991973042488098,
          0.2012873739004135,
          0.20266146957874298,
          0.20404203236103058,
          0.20542900264263153,
          0.2068222016096115,
          0.20822159945964813,
          0.2096269130706787,
          0.21103830635547638,
          0.21245534718036652,
          0.21387825906276703,
          0.2153066247701645,
          0.2167404145002365,
          0.2181795835494995,
          0.21962399780750275,
          0.22107338905334473,
          0.22252769768238068,
          0.22398678958415985,
          0.22545044124126434,
          0.22691862285137177,
          0.22839117050170898,
          0.22986789047718048,
          0.23134851455688477,
          0.23283305764198303,
          0.23432140052318573,
          0.23581306636333466,
          0.23730821907520294,
          0.23880663514137268,
          0.2403080314397812,
          0.24181227385997772,
          0.24331915378570557,
          0.24482861161231995,
          0.24634042382240295,
          0.2478543519973755,
          0.24937041103839874,
          0.2508881688117981,
          0.2524075210094452,
          0.25392839312553406,
          0.2554504871368408,
          0.2569736838340759,
          0.25849780440330505,
          0.26002269983291626,
          0.2615480422973633,
          0.2630738615989685,
          0.2645997703075409,
          0.2661256790161133,
          0.26765140891075134,
          0.26917678117752075,
          0.27070167660713196,
          0.2722257077693939,
          0.2737489640712738,
          0.27527114748954773,
          0.276792049407959,
          0.2783113718032837,
          0.27982935309410095,
          0.2813453674316406,
          0.2828595042228699,
          0.28437167406082153,
          0.285881370306015,
          0.2873886525630951,
          0.288893461227417,
          0.2903953194618225,
          0.2918942868709564,
          0.29339033365249634,
          0.2948829233646393,
          0.29637226462364197,
          0.29785799980163574,
          0.29934006929397583,
          0.30081838369369507,
          0.3022926449775696,
          0.30376285314559937,
          0.3052287697792053,
          0.30669036507606506,
          0.30814751982688904,
          0.30959978699684143,
          0.3110475242137909,
          0.3124903738498688,
          0.3139280676841736,
          0.31536075472831726,
          0.3167882263660431,
          0.3182103633880615,
          0.31962698698043823,
          0.321038156747818,
          0.3224436938762665,
          0.3238433301448822,
          0.32523733377456665,
          0.3266253173351288,
          0.328007310628891,
          0.32938313484191895,
          0.3307528495788574,
          0.3321162164211273,
          0.33347344398498535,
          0.3348240554332733,
          0.3361683487892151
         ],
         "yaxis": "y5"
        },
        {
         "legendgroup": "3",
         "line": {
          "color": "purple"
         },
         "name": "[22, 12]",
         "type": "scatter",
         "x": [
          -20,
          -19.600000381469727,
          -19.200000762939453,
          -18.799999237060547,
          -18.399999618530273,
          -18,
          -17.600000381469727,
          -17.200000762939453,
          -16.799999237060547,
          -16.399999618530273,
          -16,
          -15.600000381469727,
          -15.199999809265137,
          -14.800000190734863,
          -14.399999618530273,
          -14,
          -13.600000381469727,
          -13.199999809265137,
          -12.800000190734863,
          -12.399999618530273,
          -12,
          -11.59999942779541,
          -11.199999809265137,
          -10.800000190734863,
          -10.399999618530273,
          -10,
          -9.59999942779541,
          -9.199999809265137,
          -8.800000190734863,
          -8.399999618530273,
          -8,
          -7.599999904632568,
          -7.199999809265137,
          -6.799999713897705,
          -6.399999618530273,
          -6,
          -5.599999904632568,
          -5.199999809265137,
          -4.799999713897705,
          -4.399999618530273,
          -3.999999761581421,
          -3.5999996662139893,
          -3.1999998092651367,
          -2.799999713897705,
          -2.3999996185302734,
          -1.999999761581421,
          -1.5999996662139893,
          -1.1999996900558472,
          -0.7999997138977051,
          -0.3999997079372406,
          -2.980232238769531e-7,
          0.3999997079372406,
          0.7999997138977051,
          1.1999996900558472,
          1.5999996662139893,
          1.999999761581421,
          2.3999996185302734,
          2.799999713897705,
          3.1999998092651367,
          3.5999996662139893,
          3.999999761581421,
          4.399999618530273,
          4.799999713897705,
          5.199999809265137,
          5.599999904632568,
          6,
          6.399999618530273,
          6.799999713897705,
          7.199999809265137,
          7.599999904632568,
          8,
          8.399999618530273,
          8.800000190734863,
          9.199999809265137,
          9.59999942779541,
          10,
          10.399999618530273,
          10.800000190734863,
          11.199999809265137,
          11.59999942779541,
          12,
          12.399999618530273,
          12.800000190734863,
          13.199999809265137,
          13.600000381469727,
          14,
          14.399999618530273,
          14.800000190734863,
          15.199999809265137,
          15.600000381469727,
          16,
          16.399999618530273,
          16.799999237060547,
          17.200000762939453,
          17.600000381469727,
          18,
          18.399999618530273,
          18.799999237060547,
          19.200000762939453,
          19.600000381469727,
          20
         ],
         "xaxis": "x5",
         "y": [
          0.27676984667778015,
          0.2794214189052582,
          0.28208568692207336,
          0.2847622334957123,
          0.2874508798122406,
          0.2901516854763031,
          0.29286429286003113,
          0.2955884635448456,
          0.29832419753074646,
          0.3010709583759308,
          0.30382880568504333,
          0.30659735202789307,
          0.3093765676021576,
          0.3121660649776459,
          0.3149658739566803,
          0.3177754580974579,
          0.32059478759765625,
          0.32342347502708435,
          0.32626160979270935,
          0.32910868525505066,
          0.3319644033908844,
          0.33482876420021057,
          0.33770138025283813,
          0.34058186411857605,
          0.3434703052043915,
          0.34636613726615906,
          0.3492691218852997,
          0.35217925906181335,
          0.35509610176086426,
          0.35801956057548523,
          0.3609490990638733,
          0.3638845980167389,
          0.366825670003891,
          0.3697720468044281,
          0.37272366881370544,
          0.37568017840385437,
          0.37864118814468384,
          0.38160625100135803,
          0.3845754861831665,
          0.38754841685295105,
          0.39052459597587585,
          0.3935040533542633,
          0.3964862525463104,
          0.39947089552879333,
          0.40245771408081055,
          0.40544643998146057,
          0.4084368348121643,
          0.4114285409450531,
          0.4144211709499359,
          0.41741466522216797,
          0.42040833830833435,
          0.42340216040611267,
          0.42639580368995667,
          0.4293888509273529,
          0.43238112330436707,
          0.43537211418151855,
          0.43836164474487305,
          0.44134950637817383,
          0.4443351924419403,
          0.4473184645175934,
          0.4502990245819092,
          0.45327648520469666,
          0.4562505781650543,
          0.45922112464904785,
          0.46218761801719666,
          0.46514996886253357,
          0.4681076109409332,
          0.4710603356361389,
          0.47400781512260437,
          0.47694993019104004,
          0.4798860251903534,
          0.48281627893447876,
          0.4857396185398102,
          0.48865652084350586,
          0.4915664792060852,
          0.49446901679039,
          0.49736395478248596,
          0.5002509951591492,
          0.5031296610832214,
          0.5059999227523804,
          0.5088614821434021,
          0.5117139220237732,
          0.5145569443702698,
          0.5173903703689575,
          0.5202139616012573,
          0.5230274200439453,
          0.5258304476737976,
          0.5286226272583008,
          0.5314039587974548,
          0.5341740846633911,
          0.5369327068328857,
          0.5396794676780701,
          0.5424144864082336,
          0.545137345790863,
          0.5478476881980896,
          0.550545334815979,
          0.5532301068305969,
          0.5559017062187195,
          0.5585601925849915,
          0.5612048506736755,
          0.5638360381126404
         ],
         "yaxis": "y5"
        },
        {
         "legendgroup": "4",
         "line": {
          "color": "turquoise"
         },
         "name": "[19, 10]",
         "type": "scatter",
         "x": [
          -20,
          -19.600000381469727,
          -19.200000762939453,
          -18.799999237060547,
          -18.399999618530273,
          -18,
          -17.600000381469727,
          -17.200000762939453,
          -16.799999237060547,
          -16.399999618530273,
          -16,
          -15.600000381469727,
          -15.199999809265137,
          -14.800000190734863,
          -14.399999618530273,
          -14,
          -13.600000381469727,
          -13.199999809265137,
          -12.800000190734863,
          -12.399999618530273,
          -12,
          -11.59999942779541,
          -11.199999809265137,
          -10.800000190734863,
          -10.399999618530273,
          -10,
          -9.59999942779541,
          -9.199999809265137,
          -8.800000190734863,
          -8.399999618530273,
          -8,
          -7.599999904632568,
          -7.199999809265137,
          -6.799999713897705,
          -6.399999618530273,
          -6,
          -5.599999904632568,
          -5.199999809265137,
          -4.799999713897705,
          -4.399999618530273,
          -3.999999761581421,
          -3.5999996662139893,
          -3.1999998092651367,
          -2.799999713897705,
          -2.3999996185302734,
          -1.999999761581421,
          -1.5999996662139893,
          -1.1999996900558472,
          -0.7999997138977051,
          -0.3999997079372406,
          -2.980232238769531e-7,
          0.3999997079372406,
          0.7999997138977051,
          1.1999996900558472,
          1.5999996662139893,
          1.999999761581421,
          2.3999996185302734,
          2.799999713897705,
          3.1999998092651367,
          3.5999996662139893,
          3.999999761581421,
          4.399999618530273,
          4.799999713897705,
          5.199999809265137,
          5.599999904632568,
          6,
          6.399999618530273,
          6.799999713897705,
          7.199999809265137,
          7.599999904632568,
          8,
          8.399999618530273,
          8.800000190734863,
          9.199999809265137,
          9.59999942779541,
          10,
          10.399999618530273,
          10.800000190734863,
          11.199999809265137,
          11.59999942779541,
          12,
          12.399999618530273,
          12.800000190734863,
          13.199999809265137,
          13.600000381469727,
          14,
          14.399999618530273,
          14.800000190734863,
          15.199999809265137,
          15.600000381469727,
          16,
          16.399999618530273,
          16.799999237060547,
          17.200000762939453,
          17.600000381469727,
          18,
          18.399999618530273,
          18.799999237060547,
          19.200000762939453,
          19.600000381469727,
          20
         ],
         "xaxis": "x5",
         "y": [
          0.07258068770170212,
          0.07354771345853806,
          0.07452496886253357,
          0.07551257312297821,
          0.0765104740858078,
          0.07751887291669846,
          0.07853769510984421,
          0.0795670747756958,
          0.08060705661773682,
          0.08165762573480606,
          0.0827188789844513,
          0.0837908610701561,
          0.08487357944250107,
          0.0859670639038086,
          0.08707141876220703,
          0.08818677812814713,
          0.08931292593479156,
          0.09045001119375229,
          0.09159820526838303,
          0.09275736659765244,
          0.09392763674259186,
          0.09510894119739532,
          0.0963013619184494,
          0.09750498831272125,
          0.0987197682261467,
          0.09994566440582275,
          0.10118287801742554,
          0.1024312973022461,
          0.1036909818649292,
          0.10496188700199127,
          0.10624408721923828,
          0.10753756761550903,
          0.10884232819080353,
          0.11015830188989639,
          0.11148571223020554,
          0.11282433569431305,
          0.11417417973279953,
          0.11553537845611572,
          0.11690785735845566,
          0.11829155683517456,
          0.11968647688627243,
          0.12109266966581345,
          0.12251000851392746,
          0.12393846362829208,
          0.12537816166877747,
          0.12682895362377167,
          0.1282907873392105,
          0.1297636479139328,
          0.13124755024909973,
          0.13274236023426056,
          0.1342480331659317,
          0.13576452434062958,
          0.13729190826416016,
          0.13882987201213837,
          0.14037854969501495,
          0.14193788170814514,
          0.14350762963294983,
          0.1450878232717514,
          0.14667831361293793,
          0.1482791304588318,
          0.14989009499549866,
          0.15151117742061615,
          0.15314219892024994,
          0.15478305518627167,
          0.15643367171287537,
          0.15809403359889984,
          0.15976381301879883,
          0.16144311428070068,
          0.16313162446022034,
          0.16482926905155182,
          0.16653601825237274,
          0.16825157403945923,
          0.16997580230236053,
          0.1717086285352707,
          0.1734498292207718,
          0.17519943416118622,
          0.17695701122283936,
          0.17872254550457,
          0.18049584329128265,
          0.1822766810655594,
          0.1840648204088211,
          0.185860276222229,
          0.18766264617443085,
          0.18947187066078186,
          0.1912875920534134,
          0.1931096911430359,
          0.19493794441223145,
          0.19677220284938812,
          0.19861216843128204,
          0.20045757293701172,
          0.20230846107006073,
          0.204164057970047,
          0.2060246467590332,
          0.20788970589637756,
          0.20975904166698456,
          0.2116324007511139,
          0.21350963413715363,
          0.21539032459259033,
          0.2172742336988449,
          0.2191610336303711,
          0.22105073928833008
         ],
         "yaxis": "y5"
        }
       ],
       "layout": {
        "annotations": [
         {
          "font": {
           "size": 16
          },
          "showarrow": false,
          "text": "IO",
          "x": 0.08399999999999999,
          "xanchor": "center",
          "xref": "paper",
          "y": 1,
          "yanchor": "bottom",
          "yref": "paper"
         },
         {
          "font": {
           "size": 16
          },
          "showarrow": false,
          "text": "S1",
          "x": 0.292,
          "xanchor": "center",
          "xref": "paper",
          "y": 1,
          "yanchor": "bottom",
          "yref": "paper"
         },
         {
          "font": {
           "size": 16
          },
          "showarrow": false,
          "text": "S2",
          "x": 0.5,
          "xanchor": "center",
          "xref": "paper",
          "y": 1,
          "yanchor": "bottom",
          "yref": "paper"
         },
         {
          "font": {
           "size": 16
          },
          "showarrow": false,
          "text": "IO - S1 - S2",
          "x": 0.708,
          "xanchor": "center",
          "xref": "paper",
          "y": 1,
          "yanchor": "bottom",
          "yref": "paper"
         },
         {
          "font": {
           "size": 16
          },
          "showarrow": false,
          "text": "BOS",
          "x": 0.9159999999999999,
          "xanchor": "center",
          "xref": "paper",
          "y": 1,
          "yanchor": "bottom",
          "yref": "paper"
         }
        ],
        "height": 400,
        "template": {
         "data": {
          "bar": [
           {
            "error_x": {
             "color": "#2a3f5f"
            },
            "error_y": {
             "color": "#2a3f5f"
            },
            "marker": {
             "line": {
              "color": "#E5ECF6",
              "width": 0.5
             },
             "pattern": {
              "fillmode": "overlay",
              "size": 10,
              "solidity": 0.2
             }
            },
            "type": "bar"
           }
          ],
          "barpolar": [
           {
            "marker": {
             "line": {
              "color": "#E5ECF6",
              "width": 0.5
             },
             "pattern": {
              "fillmode": "overlay",
              "size": 10,
              "solidity": 0.2
             }
            },
            "type": "barpolar"
           }
          ],
          "carpet": [
           {
            "aaxis": {
             "endlinecolor": "#2a3f5f",
             "gridcolor": "white",
             "linecolor": "white",
             "minorgridcolor": "white",
             "startlinecolor": "#2a3f5f"
            },
            "baxis": {
             "endlinecolor": "#2a3f5f",
             "gridcolor": "white",
             "linecolor": "white",
             "minorgridcolor": "white",
             "startlinecolor": "#2a3f5f"
            },
            "type": "carpet"
           }
          ],
          "choropleth": [
           {
            "colorbar": {
             "outlinewidth": 0,
             "ticks": ""
            },
            "type": "choropleth"
           }
          ],
          "contour": [
           {
            "colorbar": {
             "outlinewidth": 0,
             "ticks": ""
            },
            "colorscale": [
             [
              0,
              "#0d0887"
             ],
             [
              0.1111111111111111,
              "#46039f"
             ],
             [
              0.2222222222222222,
              "#7201a8"
             ],
             [
              0.3333333333333333,
              "#9c179e"
             ],
             [
              0.4444444444444444,
              "#bd3786"
             ],
             [
              0.5555555555555556,
              "#d8576b"
             ],
             [
              0.6666666666666666,
              "#ed7953"
             ],
             [
              0.7777777777777778,
              "#fb9f3a"
             ],
             [
              0.8888888888888888,
              "#fdca26"
             ],
             [
              1,
              "#f0f921"
             ]
            ],
            "type": "contour"
           }
          ],
          "contourcarpet": [
           {
            "colorbar": {
             "outlinewidth": 0,
             "ticks": ""
            },
            "type": "contourcarpet"
           }
          ],
          "heatmap": [
           {
            "colorbar": {
             "outlinewidth": 0,
             "ticks": ""
            },
            "colorscale": [
             [
              0,
              "#0d0887"
             ],
             [
              0.1111111111111111,
              "#46039f"
             ],
             [
              0.2222222222222222,
              "#7201a8"
             ],
             [
              0.3333333333333333,
              "#9c179e"
             ],
             [
              0.4444444444444444,
              "#bd3786"
             ],
             [
              0.5555555555555556,
              "#d8576b"
             ],
             [
              0.6666666666666666,
              "#ed7953"
             ],
             [
              0.7777777777777778,
              "#fb9f3a"
             ],
             [
              0.8888888888888888,
              "#fdca26"
             ],
             [
              1,
              "#f0f921"
             ]
            ],
            "type": "heatmap"
           }
          ],
          "heatmapgl": [
           {
            "colorbar": {
             "outlinewidth": 0,
             "ticks": ""
            },
            "colorscale": [
             [
              0,
              "#0d0887"
             ],
             [
              0.1111111111111111,
              "#46039f"
             ],
             [
              0.2222222222222222,
              "#7201a8"
             ],
             [
              0.3333333333333333,
              "#9c179e"
             ],
             [
              0.4444444444444444,
              "#bd3786"
             ],
             [
              0.5555555555555556,
              "#d8576b"
             ],
             [
              0.6666666666666666,
              "#ed7953"
             ],
             [
              0.7777777777777778,
              "#fb9f3a"
             ],
             [
              0.8888888888888888,
              "#fdca26"
             ],
             [
              1,
              "#f0f921"
             ]
            ],
            "type": "heatmapgl"
           }
          ],
          "histogram": [
           {
            "marker": {
             "pattern": {
              "fillmode": "overlay",
              "size": 10,
              "solidity": 0.2
             }
            },
            "type": "histogram"
           }
          ],
          "histogram2d": [
           {
            "colorbar": {
             "outlinewidth": 0,
             "ticks": ""
            },
            "colorscale": [
             [
              0,
              "#0d0887"
             ],
             [
              0.1111111111111111,
              "#46039f"
             ],
             [
              0.2222222222222222,
              "#7201a8"
             ],
             [
              0.3333333333333333,
              "#9c179e"
             ],
             [
              0.4444444444444444,
              "#bd3786"
             ],
             [
              0.5555555555555556,
              "#d8576b"
             ],
             [
              0.6666666666666666,
              "#ed7953"
             ],
             [
              0.7777777777777778,
              "#fb9f3a"
             ],
             [
              0.8888888888888888,
              "#fdca26"
             ],
             [
              1,
              "#f0f921"
             ]
            ],
            "type": "histogram2d"
           }
          ],
          "histogram2dcontour": [
           {
            "colorbar": {
             "outlinewidth": 0,
             "ticks": ""
            },
            "colorscale": [
             [
              0,
              "#0d0887"
             ],
             [
              0.1111111111111111,
              "#46039f"
             ],
             [
              0.2222222222222222,
              "#7201a8"
             ],
             [
              0.3333333333333333,
              "#9c179e"
             ],
             [
              0.4444444444444444,
              "#bd3786"
             ],
             [
              0.5555555555555556,
              "#d8576b"
             ],
             [
              0.6666666666666666,
              "#ed7953"
             ],
             [
              0.7777777777777778,
              "#fb9f3a"
             ],
             [
              0.8888888888888888,
              "#fdca26"
             ],
             [
              1,
              "#f0f921"
             ]
            ],
            "type": "histogram2dcontour"
           }
          ],
          "mesh3d": [
           {
            "colorbar": {
             "outlinewidth": 0,
             "ticks": ""
            },
            "type": "mesh3d"
           }
          ],
          "parcoords": [
           {
            "line": {
             "colorbar": {
              "outlinewidth": 0,
              "ticks": ""
             }
            },
            "type": "parcoords"
           }
          ],
          "pie": [
           {
            "automargin": true,
            "type": "pie"
           }
          ],
          "scatter": [
           {
            "fillpattern": {
             "fillmode": "overlay",
             "size": 10,
             "solidity": 0.2
            },
            "type": "scatter"
           }
          ],
          "scatter3d": [
           {
            "line": {
             "colorbar": {
              "outlinewidth": 0,
              "ticks": ""
             }
            },
            "marker": {
             "colorbar": {
              "outlinewidth": 0,
              "ticks": ""
             }
            },
            "type": "scatter3d"
           }
          ],
          "scattercarpet": [
           {
            "marker": {
             "colorbar": {
              "outlinewidth": 0,
              "ticks": ""
             }
            },
            "type": "scattercarpet"
           }
          ],
          "scattergeo": [
           {
            "marker": {
             "colorbar": {
              "outlinewidth": 0,
              "ticks": ""
             }
            },
            "type": "scattergeo"
           }
          ],
          "scattergl": [
           {
            "marker": {
             "colorbar": {
              "outlinewidth": 0,
              "ticks": ""
             }
            },
            "type": "scattergl"
           }
          ],
          "scattermapbox": [
           {
            "marker": {
             "colorbar": {
              "outlinewidth": 0,
              "ticks": ""
             }
            },
            "type": "scattermapbox"
           }
          ],
          "scatterpolar": [
           {
            "marker": {
             "colorbar": {
              "outlinewidth": 0,
              "ticks": ""
             }
            },
            "type": "scatterpolar"
           }
          ],
          "scatterpolargl": [
           {
            "marker": {
             "colorbar": {
              "outlinewidth": 0,
              "ticks": ""
             }
            },
            "type": "scatterpolargl"
           }
          ],
          "scatterternary": [
           {
            "marker": {
             "colorbar": {
              "outlinewidth": 0,
              "ticks": ""
             }
            },
            "type": "scatterternary"
           }
          ],
          "surface": [
           {
            "colorbar": {
             "outlinewidth": 0,
             "ticks": ""
            },
            "colorscale": [
             [
              0,
              "#0d0887"
             ],
             [
              0.1111111111111111,
              "#46039f"
             ],
             [
              0.2222222222222222,
              "#7201a8"
             ],
             [
              0.3333333333333333,
              "#9c179e"
             ],
             [
              0.4444444444444444,
              "#bd3786"
             ],
             [
              0.5555555555555556,
              "#d8576b"
             ],
             [
              0.6666666666666666,
              "#ed7953"
             ],
             [
              0.7777777777777778,
              "#fb9f3a"
             ],
             [
              0.8888888888888888,
              "#fdca26"
             ],
             [
              1,
              "#f0f921"
             ]
            ],
            "type": "surface"
           }
          ],
          "table": [
           {
            "cells": {
             "fill": {
              "color": "#EBF0F8"
             },
             "line": {
              "color": "white"
             }
            },
            "header": {
             "fill": {
              "color": "#C8D4E3"
             },
             "line": {
              "color": "white"
             }
            },
            "type": "table"
           }
          ]
         },
         "layout": {
          "annotationdefaults": {
           "arrowcolor": "#2a3f5f",
           "arrowhead": 0,
           "arrowwidth": 1
          },
          "autotypenumbers": "strict",
          "coloraxis": {
           "colorbar": {
            "outlinewidth": 0,
            "ticks": ""
           }
          },
          "colorscale": {
           "diverging": [
            [
             0,
             "#8e0152"
            ],
            [
             0.1,
             "#c51b7d"
            ],
            [
             0.2,
             "#de77ae"
            ],
            [
             0.3,
             "#f1b6da"
            ],
            [
             0.4,
             "#fde0ef"
            ],
            [
             0.5,
             "#f7f7f7"
            ],
            [
             0.6,
             "#e6f5d0"
            ],
            [
             0.7,
             "#b8e186"
            ],
            [
             0.8,
             "#7fbc41"
            ],
            [
             0.9,
             "#4d9221"
            ],
            [
             1,
             "#276419"
            ]
           ],
           "sequential": [
            [
             0,
             "#0d0887"
            ],
            [
             0.1111111111111111,
             "#46039f"
            ],
            [
             0.2222222222222222,
             "#7201a8"
            ],
            [
             0.3333333333333333,
             "#9c179e"
            ],
            [
             0.4444444444444444,
             "#bd3786"
            ],
            [
             0.5555555555555556,
             "#d8576b"
            ],
            [
             0.6666666666666666,
             "#ed7953"
            ],
            [
             0.7777777777777778,
             "#fb9f3a"
            ],
            [
             0.8888888888888888,
             "#fdca26"
            ],
            [
             1,
             "#f0f921"
            ]
           ],
           "sequentialminus": [
            [
             0,
             "#0d0887"
            ],
            [
             0.1111111111111111,
             "#46039f"
            ],
            [
             0.2222222222222222,
             "#7201a8"
            ],
            [
             0.3333333333333333,
             "#9c179e"
            ],
            [
             0.4444444444444444,
             "#bd3786"
            ],
            [
             0.5555555555555556,
             "#d8576b"
            ],
            [
             0.6666666666666666,
             "#ed7953"
            ],
            [
             0.7777777777777778,
             "#fb9f3a"
            ],
            [
             0.8888888888888888,
             "#fdca26"
            ],
            [
             1,
             "#f0f921"
            ]
           ]
          },
          "colorway": [
           "#636efa",
           "#EF553B",
           "#00cc96",
           "#ab63fa",
           "#FFA15A",
           "#19d3f3",
           "#FF6692",
           "#B6E880",
           "#FF97FF",
           "#FECB52"
          ],
          "font": {
           "color": "#2a3f5f"
          },
          "geo": {
           "bgcolor": "white",
           "lakecolor": "white",
           "landcolor": "#E5ECF6",
           "showlakes": true,
           "showland": true,
           "subunitcolor": "white"
          },
          "hoverlabel": {
           "align": "left"
          },
          "hovermode": "closest",
          "mapbox": {
           "style": "light"
          },
          "paper_bgcolor": "white",
          "plot_bgcolor": "#E5ECF6",
          "polar": {
           "angularaxis": {
            "gridcolor": "white",
            "linecolor": "white",
            "ticks": ""
           },
           "bgcolor": "#E5ECF6",
           "radialaxis": {
            "gridcolor": "white",
            "linecolor": "white",
            "ticks": ""
           }
          },
          "scene": {
           "xaxis": {
            "backgroundcolor": "#E5ECF6",
            "gridcolor": "white",
            "gridwidth": 2,
            "linecolor": "white",
            "showbackground": true,
            "ticks": "",
            "zerolinecolor": "white"
           },
           "yaxis": {
            "backgroundcolor": "#E5ECF6",
            "gridcolor": "white",
            "gridwidth": 2,
            "linecolor": "white",
            "showbackground": true,
            "ticks": "",
            "zerolinecolor": "white"
           },
           "zaxis": {
            "backgroundcolor": "#E5ECF6",
            "gridcolor": "white",
            "gridwidth": 2,
            "linecolor": "white",
            "showbackground": true,
            "ticks": "",
            "zerolinecolor": "white"
           }
          },
          "shapedefaults": {
           "line": {
            "color": "#2a3f5f"
           }
          },
          "ternary": {
           "aaxis": {
            "gridcolor": "white",
            "linecolor": "white",
            "ticks": ""
           },
           "baxis": {
            "gridcolor": "white",
            "linecolor": "white",
            "ticks": ""
           },
           "bgcolor": "#E5ECF6",
           "caxis": {
            "gridcolor": "white",
            "linecolor": "white",
            "ticks": ""
           }
          },
          "title": {
           "x": 0.05
          },
          "xaxis": {
           "automargin": true,
           "gridcolor": "white",
           "linecolor": "white",
           "ticks": "",
           "title": {
            "standoff": 15
           },
           "zerolinecolor": "white",
           "zerolinewidth": 2
          },
          "yaxis": {
           "automargin": true,
           "gridcolor": "white",
           "linecolor": "white",
           "ticks": "",
           "title": {
            "standoff": 15
           },
           "zerolinecolor": "white",
           "zerolinewidth": 2
          }
         }
        },
        "title": {
         "text": "GPT-2 Small Effect of adding/subtracting components pre_ln to Backup Heads while NMHs are Ablated"
        },
        "xaxis": {
         "anchor": "y",
         "domain": [
          0,
          0.16799999999999998
         ],
         "title": {
          "text": "Scaling on (9.9 ∥ 9.6) ⊥"
         }
        },
        "xaxis2": {
         "anchor": "y2",
         "domain": [
          0.208,
          0.376
         ],
         "title": {
          "text": "Scaling on (9.9 ∥ 9.6) ⊥"
         }
        },
        "xaxis3": {
         "anchor": "y3",
         "domain": [
          0.416,
          0.584
         ],
         "title": {
          "text": "Scaling on (9.9 ∥ 9.6) ⊥"
         }
        },
        "xaxis4": {
         "anchor": "y4",
         "domain": [
          0.624,
          0.792
         ],
         "title": {
          "text": "Scaling on (9.9 ∥ 9.6) ⊥"
         }
        },
        "xaxis5": {
         "anchor": "y5",
         "domain": [
          0.832,
          1
         ],
         "title": {
          "text": "Scaling on (9.9 ∥ 9.6) ⊥"
         }
        },
        "yaxis": {
         "anchor": "x",
         "domain": [
          0,
          1
         ],
         "title": {
          "text": "Attn to token"
         }
        },
        "yaxis2": {
         "anchor": "x2",
         "domain": [
          0,
          1
         ],
         "matches": "y",
         "showticklabels": false,
         "title": {
          "text": "Attn to token"
         }
        },
        "yaxis3": {
         "anchor": "x3",
         "domain": [
          0,
          1
         ],
         "matches": "y",
         "showticklabels": false,
         "title": {
          "text": "Attn to token"
         }
        },
        "yaxis4": {
         "anchor": "x4",
         "domain": [
          0,
          1
         ],
         "matches": "y",
         "showticklabels": false,
         "title": {
          "text": "Attn to token"
         }
        },
        "yaxis5": {
         "anchor": "x5",
         "domain": [
          0,
          1
         ],
         "matches": "y",
         "showticklabels": false,
         "title": {
          "text": "Attn to token"
         }
        }
       }
      },
      "text/html": [
       "<div>                            <div id=\"39d31512-b36c-4524-8083-66604410f307\" class=\"plotly-graph-div\" style=\"height:400px; width:100%;\"></div>            <script type=\"text/javascript\">                require([\"plotly\"], function(Plotly) {                    window.PLOTLYENV=window.PLOTLYENV || {};                                    if (document.getElementById(\"39d31512-b36c-4524-8083-66604410f307\")) {                    Plotly.newPlot(                        \"39d31512-b36c-4524-8083-66604410f307\",                        [{\"legendgroup\":\"0\",\"line\":{\"color\":\"pink\"},\"name\":\"[15, 6]\",\"x\":[-20.0,-19.600000381469727,-19.200000762939453,-18.799999237060547,-18.399999618530273,-18.0,-17.600000381469727,-17.200000762939453,-16.799999237060547,-16.399999618530273,-16.0,-15.600000381469727,-15.199999809265137,-14.800000190734863,-14.399999618530273,-14.0,-13.600000381469727,-13.199999809265137,-12.800000190734863,-12.399999618530273,-12.0,-11.59999942779541,-11.199999809265137,-10.800000190734863,-10.399999618530273,-10.0,-9.59999942779541,-9.199999809265137,-8.800000190734863,-8.399999618530273,-8.0,-7.599999904632568,-7.199999809265137,-6.799999713897705,-6.399999618530273,-6.0,-5.599999904632568,-5.199999809265137,-4.799999713897705,-4.399999618530273,-3.999999761581421,-3.5999996662139893,-3.1999998092651367,-2.799999713897705,-2.3999996185302734,-1.999999761581421,-1.5999996662139893,-1.1999996900558472,-0.7999997138977051,-0.3999997079372406,-2.980232238769531e-07,0.3999997079372406,0.7999997138977051,1.1999996900558472,1.5999996662139893,1.999999761581421,2.3999996185302734,2.799999713897705,3.1999998092651367,3.5999996662139893,3.999999761581421,4.399999618530273,4.799999713897705,5.199999809265137,5.599999904632568,6.0,6.399999618530273,6.799999713897705,7.199999809265137,7.599999904632568,8.0,8.399999618530273,8.800000190734863,9.199999809265137,9.59999942779541,10.0,10.399999618530273,10.800000190734863,11.199999809265137,11.59999942779541,12.0,12.399999618530273,12.800000190734863,13.199999809265137,13.600000381469727,14.0,14.399999618530273,14.800000190734863,15.199999809265137,15.600000381469727,16.0,16.399999618530273,16.799999237060547,17.200000762939453,17.600000381469727,18.0,18.399999618530273,18.799999237060547,19.200000762939453,19.600000381469727,20.0],\"y\":[0.42916035652160645,0.4276773929595947,0.42617711424827576,0.42465969920158386,0.42312508821487427,0.42157307267189026,0.4200051426887512,0.4184204638004303,0.41681981086730957,0.41520243883132935,0.4135701358318329,0.41192299127578735,0.41025957465171814,0.40858203172683716,0.4068896770477295,0.4051833152770996,0.40346264839172363,0.4017286002635956,0.3999811112880707,0.3982198238372803,0.3964463174343109,0.39466002583503723,0.3928615152835846,0.3910510241985321,0.3892286717891693,0.38739466667175293,0.38554978370666504,0.3836946189403534,0.3818281292915344,0.37995171546936035,0.3780656158924103,0.37616977095603943,0.37426456809043884,0.3723497986793518,0.37042728066444397,0.36849600076675415,0.36655640602111816,0.3646091818809509,0.36265501379966736,0.3606925904750824,0.358724445104599,0.35674914717674255,0.3547680974006653,0.3527800738811493,0.35078760981559753,0.348789781332016,0.3467865586280823,0.3447788655757904,0.34276682138442993,0.3407507836818695,0.3387310206890106,0.33670759201049805,0.33468127250671387,0.33265239000320435,0.330620676279068,0.32858729362487793,0.32655152678489685,0.3245142698287964,0.32247620820999146,0.3204367160797119,0.3183971345424652,0.31635671854019165,0.31431612372398376,0.3122761845588684,0.3102366626262665,0.3081977963447571,0.3061601221561432,0.3041238784790039,0.30208930373191833,0.30005666613578796,0.29802635312080383,0.29599881172180176,0.29397377371788025,0.29195165634155273,0.28993305563926697,0.28791818022727966,0.28590697050094604,0.28389984369277954,0.2818973958492279,0.2798992097377777,0.27790603041648865,0.2759179174900055,0.2739352583885193,0.27195799350738525,0.26998651027679443,0.26802119612693787,0.26606231927871704,0.26410940289497375,0.2621636390686035,0.26022443175315857,0.25829261541366577,0.25636783242225647,0.2544507682323456,0.2525411546230316,0.2506396770477295,0.24874602258205414,0.24686065316200256,0.2449837177991867,0.24311530590057373,0.2412557452917099,0.23940511047840118],\"type\":\"scatter\",\"xaxis\":\"x\",\"yaxis\":\"y\"},{\"legendgroup\":\"1\",\"line\":{\"color\":\"darkviolet\"},\"name\":\"[20, 7]\",\"x\":[-20.0,-19.600000381469727,-19.200000762939453,-18.799999237060547,-18.399999618530273,-18.0,-17.600000381469727,-17.200000762939453,-16.799999237060547,-16.399999618530273,-16.0,-15.600000381469727,-15.199999809265137,-14.800000190734863,-14.399999618530273,-14.0,-13.600000381469727,-13.199999809265137,-12.800000190734863,-12.399999618530273,-12.0,-11.59999942779541,-11.199999809265137,-10.800000190734863,-10.399999618530273,-10.0,-9.59999942779541,-9.199999809265137,-8.800000190734863,-8.399999618530273,-8.0,-7.599999904632568,-7.199999809265137,-6.799999713897705,-6.399999618530273,-6.0,-5.599999904632568,-5.199999809265137,-4.799999713897705,-4.399999618530273,-3.999999761581421,-3.5999996662139893,-3.1999998092651367,-2.799999713897705,-2.3999996185302734,-1.999999761581421,-1.5999996662139893,-1.1999996900558472,-0.7999997138977051,-0.3999997079372406,-2.980232238769531e-07,0.3999997079372406,0.7999997138977051,1.1999996900558472,1.5999996662139893,1.999999761581421,2.3999996185302734,2.799999713897705,3.1999998092651367,3.5999996662139893,3.999999761581421,4.399999618530273,4.799999713897705,5.199999809265137,5.599999904632568,6.0,6.399999618530273,6.799999713897705,7.199999809265137,7.599999904632568,8.0,8.399999618530273,8.800000190734863,9.199999809265137,9.59999942779541,10.0,10.399999618530273,10.800000190734863,11.199999809265137,11.59999942779541,12.0,12.399999618530273,12.800000190734863,13.199999809265137,13.600000381469727,14.0,14.399999618530273,14.800000190734863,15.199999809265137,15.600000381469727,16.0,16.399999618530273,16.799999237060547,17.200000762939453,17.600000381469727,18.0,18.399999618530273,18.799999237060547,19.200000762939453,19.600000381469727,20.0],\"y\":[0.6610895395278931,0.6588141322135925,0.6565260291099548,0.6542250514030457,0.6519112586975098,0.649584949016571,0.6472464799880981,0.6448955535888672,0.6425325274467468,0.6401576399803162,0.6377712488174438,0.6353729367256165,0.6329633593559265,0.6305422186851501,0.6281103491783142,0.62566739320755,0.6232137084007263,0.6207495331764221,0.6182748079299927,0.615790069103241,0.6132950782775879,0.6107906699180603,0.6082763075828552,0.6057526469230652,0.603219747543335,0.6006777286529541,0.5981269478797913,0.5955674052238464,0.5929993987083435,0.590423583984375,0.5878395438194275,0.5852476358413696,0.582647979259491,0.5800411105155945,0.5774268507957458,0.5748056769371033,0.5721780061721802,0.5695434808731079,0.566902756690979,0.5642558932304382,0.5616031289100647,0.558944582939148,0.5562807321548462,0.5536114573478699,0.5509370565414429,0.5482576489448547,0.545573890209198,0.5428854823112488,0.5401930212974548,0.5374965071678162,0.5347961187362671,0.532092273235321,0.529384970664978,0.5266744494438171,0.5239608287811279,0.5212446451187134,0.5185258388519287,0.515804648399353,0.5130812525749207,0.5103561282157898,0.5076290965080261,0.5049005746841431,0.502170741558075,0.4994398057460785,0.4967077374458313,0.49397507309913635,0.49124184250831604,0.48850852251052856,0.4857747256755829,0.4830411374568939,0.4803077280521393,0.47757488489151,0.47484245896339417,0.47211119532585144,0.4693806767463684,0.46665164828300476,0.4639239013195038,0.4611978232860565,0.4584735929965973,0.4557512700557709,0.4530312716960907,0.45031365752220154,0.4475984573364258,0.4448865056037903,0.4421772062778473,0.43947121500968933,0.43676862120628357,0.4340694546699524,0.43137428164482117,0.4286828637123108,0.42599567770957947,0.4233129620552063,0.42063483595848083,0.4179614186286926,0.4152928292751312,0.4126296043395996,0.4099716246128082,0.40731945633888245,0.40467262268066406,0.40203219652175903,0.39939767122268677],\"type\":\"scatter\",\"xaxis\":\"x\",\"yaxis\":\"y\"},{\"legendgroup\":\"2\",\"line\":{\"color\":\"blue\"},\"name\":\"[17, 8]\",\"x\":[-20.0,-19.600000381469727,-19.200000762939453,-18.799999237060547,-18.399999618530273,-18.0,-17.600000381469727,-17.200000762939453,-16.799999237060547,-16.399999618530273,-16.0,-15.600000381469727,-15.199999809265137,-14.800000190734863,-14.399999618530273,-14.0,-13.600000381469727,-13.199999809265137,-12.800000190734863,-12.399999618530273,-12.0,-11.59999942779541,-11.199999809265137,-10.800000190734863,-10.399999618530273,-10.0,-9.59999942779541,-9.199999809265137,-8.800000190734863,-8.399999618530273,-8.0,-7.599999904632568,-7.199999809265137,-6.799999713897705,-6.399999618530273,-6.0,-5.599999904632568,-5.199999809265137,-4.799999713897705,-4.399999618530273,-3.999999761581421,-3.5999996662139893,-3.1999998092651367,-2.799999713897705,-2.3999996185302734,-1.999999761581421,-1.5999996662139893,-1.1999996900558472,-0.7999997138977051,-0.3999997079372406,-2.980232238769531e-07,0.3999997079372406,0.7999997138977051,1.1999996900558472,1.5999996662139893,1.999999761581421,2.3999996185302734,2.799999713897705,3.1999998092651367,3.5999996662139893,3.999999761581421,4.399999618530273,4.799999713897705,5.199999809265137,5.599999904632568,6.0,6.399999618530273,6.799999713897705,7.199999809265137,7.599999904632568,8.0,8.399999618530273,8.800000190734863,9.199999809265137,9.59999942779541,10.0,10.399999618530273,10.800000190734863,11.199999809265137,11.59999942779541,12.0,12.399999618530273,12.800000190734863,13.199999809265137,13.600000381469727,14.0,14.399999618530273,14.800000190734863,15.199999809265137,15.600000381469727,16.0,16.399999618530273,16.799999237060547,17.200000762939453,17.600000381469727,18.0,18.399999618530273,18.799999237060547,19.200000762939453,19.600000381469727,20.0],\"y\":[0.46665000915527344,0.46520692110061646,0.46375495195388794,0.462294340133667,0.4608252942562103,0.45934781432151794,0.4578622877597809,0.45636874437332153,0.45486727356910706,0.45335832238197327,0.451841801404953,0.45031794905662537,0.4487871825695038,0.4472494125366211,0.44570499658584595,0.4441540837287903,0.4425968825817108,0.4410335123538971,0.4394642412662506,0.4378894865512848,0.4363090991973877,0.43472346663475037,0.4331327974796295,0.43153735995292664,0.42993733286857605,0.4283328056335449,0.42672425508499146,0.4251117706298828,0.42349550127983093,0.4218757748603821,0.42025279998779297,0.4186268448829651,0.41699811816215515,0.4153667390346527,0.4137330651283264,0.4120972156524658,0.41045960783958435,0.4088203012943268,0.40717965364456177,0.4055376648902893,0.4038948118686676,0.40225109457969666,0.40060701966285706,0.3989626467227936,0.39731812477111816,0.3956737816333771,0.394029825925827,0.39238640666007996,0.39074379205703735,0.3891022801399231,0.3874618709087372,0.38582301139831543,0.3841857612133026,0.38255032896995544,0.3809169828891754,0.3792857527732849,0.3776571452617645,0.3760311007499695,0.3744078576564789,0.37278756499290466,0.3711705803871155,0.36955681443214417,0.36794668436050415,0.3663402199745178,0.3647375702857971,0.36313900351524353,0.361544668674469,0.35995450615882874,0.35836899280548096,0.3567880690097809,0.3552118241786957,0.3536406457424164,0.35207441449165344,0.35051342844963074,0.34895774722099304,0.34740734100341797,0.34586259722709656,0.34432345628738403,0.34278997778892517,0.3412624001502991,0.3397407531738281,0.33822521567344666,0.3367156684398651,0.335212379693985,0.33371543884277344,0.3322248160839081,0.3307405710220337,0.32926279306411743,0.32779157161712646,0.32632699608802795,0.3248690664768219,0.32341787219047546,0.3219733238220215,0.3205356001853943,0.31910470128059387,0.31768059730529785,0.31626343727111816,0.3148531913757324,0.31344980001449585,0.3120534121990204,0.31066378951072693],\"type\":\"scatter\",\"xaxis\":\"x\",\"yaxis\":\"y\"},{\"legendgroup\":\"3\",\"line\":{\"color\":\"purple\"},\"name\":\"[22, 12]\",\"x\":[-20.0,-19.600000381469727,-19.200000762939453,-18.799999237060547,-18.399999618530273,-18.0,-17.600000381469727,-17.200000762939453,-16.799999237060547,-16.399999618530273,-16.0,-15.600000381469727,-15.199999809265137,-14.800000190734863,-14.399999618530273,-14.0,-13.600000381469727,-13.199999809265137,-12.800000190734863,-12.399999618530273,-12.0,-11.59999942779541,-11.199999809265137,-10.800000190734863,-10.399999618530273,-10.0,-9.59999942779541,-9.199999809265137,-8.800000190734863,-8.399999618530273,-8.0,-7.599999904632568,-7.199999809265137,-6.799999713897705,-6.399999618530273,-6.0,-5.599999904632568,-5.199999809265137,-4.799999713897705,-4.399999618530273,-3.999999761581421,-3.5999996662139893,-3.1999998092651367,-2.799999713897705,-2.3999996185302734,-1.999999761581421,-1.5999996662139893,-1.1999996900558472,-0.7999997138977051,-0.3999997079372406,-2.980232238769531e-07,0.3999997079372406,0.7999997138977051,1.1999996900558472,1.5999996662139893,1.999999761581421,2.3999996185302734,2.799999713897705,3.1999998092651367,3.5999996662139893,3.999999761581421,4.399999618530273,4.799999713897705,5.199999809265137,5.599999904632568,6.0,6.399999618530273,6.799999713897705,7.199999809265137,7.599999904632568,8.0,8.399999618530273,8.800000190734863,9.199999809265137,9.59999942779541,10.0,10.399999618530273,10.800000190734863,11.199999809265137,11.59999942779541,12.0,12.399999618530273,12.800000190734863,13.199999809265137,13.600000381469727,14.0,14.399999618530273,14.800000190734863,15.199999809265137,15.600000381469727,16.0,16.399999618530273,16.799999237060547,17.200000762939453,17.600000381469727,18.0,18.399999618530273,18.799999237060547,19.200000762939453,19.600000381469727,20.0],\"y\":[0.21873226761817932,0.21842072904109955,0.2180986851453781,0.21776628494262695,0.2174234241247177,0.2170700579881668,0.2167063057422638,0.21633203327655792,0.21594730019569397,0.21555212140083313,0.21514642238616943,0.214730367064476,0.21430383622646332,0.2138669341802597,0.21341954171657562,0.21296177804470062,0.2124936580657959,0.2120153158903122,0.2115265429019928,0.21102754771709442,0.21051831543445587,0.20999884605407715,0.20946919918060303,0.20892952382564545,0.20837970077991486,0.20781996846199036,0.2072502225637436,0.2066705971956253,0.20608103275299072,0.20548176765441895,0.2048727571964264,0.20425403118133545,0.20362582802772522,0.20298807322978973,0.20234088599681854,0.2016844004392624,0.20101861655712128,0.20034372806549072,0.19965964555740356,0.1989665925502777,0.19826467335224152,0.19755394756793976,0.1968344897031784,0.19610647857189178,0.19537000358104706,0.1946251094341278,0.19387196004390717,0.19311068952083588,0.1923414170742035,0.19156412780284882,0.19077913463115692,0.18998654186725616,0.18918631970882416,0.18837864696979523,0.1875639110803604,0.1867418736219406,0.18591299653053284,0.18507717549800873,0.18423472344875336,0.1833856701850891,0.1825302094221115,0.18166856467723846,0.18080078065395355,0.1799270361661911,0.17904755473136902,0.1781623512506485,0.177271768450737,0.17637582123279572,0.17547473311424255,0.17456865310668945,0.17365777492523193,0.17274220287799835,0.1718222200870514,0.17089791595935822,0.16996939480304718,0.16903695464134216,0.16810064017772675,0.16716068983078003,0.1662173718214035,0.16527073085308075,0.1643209606409073,0.16336825489997864,0.16241274774074554,0.1614547073841095,0.16049419343471527,0.15953141450881958,0.15856660902500153,0.15759991109371185,0.1566314548254013,0.1556614488363266,0.15469004213809967,0.15371745824813843,0.15274380147457123,0.15176919102668762,0.15079395473003387,0.14981813728809357,0.1488419473171234,0.14786551892757416,0.14688898622989655,0.14591260254383087,0.1449364274740219],\"type\":\"scatter\",\"xaxis\":\"x\",\"yaxis\":\"y\"},{\"legendgroup\":\"4\",\"line\":{\"color\":\"turquoise\"},\"name\":\"[19, 10]\",\"x\":[-20.0,-19.600000381469727,-19.200000762939453,-18.799999237060547,-18.399999618530273,-18.0,-17.600000381469727,-17.200000762939453,-16.799999237060547,-16.399999618530273,-16.0,-15.600000381469727,-15.199999809265137,-14.800000190734863,-14.399999618530273,-14.0,-13.600000381469727,-13.199999809265137,-12.800000190734863,-12.399999618530273,-12.0,-11.59999942779541,-11.199999809265137,-10.800000190734863,-10.399999618530273,-10.0,-9.59999942779541,-9.199999809265137,-8.800000190734863,-8.399999618530273,-8.0,-7.599999904632568,-7.199999809265137,-6.799999713897705,-6.399999618530273,-6.0,-5.599999904632568,-5.199999809265137,-4.799999713897705,-4.399999618530273,-3.999999761581421,-3.5999996662139893,-3.1999998092651367,-2.799999713897705,-2.3999996185302734,-1.999999761581421,-1.5999996662139893,-1.1999996900558472,-0.7999997138977051,-0.3999997079372406,-2.980232238769531e-07,0.3999997079372406,0.7999997138977051,1.1999996900558472,1.5999996662139893,1.999999761581421,2.3999996185302734,2.799999713897705,3.1999998092651367,3.5999996662139893,3.999999761581421,4.399999618530273,4.799999713897705,5.199999809265137,5.599999904632568,6.0,6.399999618530273,6.799999713897705,7.199999809265137,7.599999904632568,8.0,8.399999618530273,8.800000190734863,9.199999809265137,9.59999942779541,10.0,10.399999618530273,10.800000190734863,11.199999809265137,11.59999942779541,12.0,12.399999618530273,12.800000190734863,13.199999809265137,13.600000381469727,14.0,14.399999618530273,14.800000190734863,15.199999809265137,15.600000381469727,16.0,16.399999618530273,16.799999237060547,17.200000762939453,17.600000381469727,18.0,18.399999618530273,18.799999237060547,19.200000762939453,19.600000381469727,20.0],\"y\":[0.25478729605674744,0.2536107897758484,0.2524315118789673,0.2512495219707489,0.2500649392604828,0.24887783825397491,0.24768805503845215,0.24649587273597717,0.2453012317419052,0.24410434067249298,0.24290497601032257,0.24170343577861786,0.2404996007680893,0.23929353058338165,0.2380855530500412,0.23687537014484406,0.2356632947921753,0.2344491332769394,0.23323309421539307,0.23201516270637512,0.23079542815685272,0.2295740842819214,0.22835087776184082,0.2271261215209961,0.2258998453617096,0.224671870470047,0.22344259917736053,0.2222118377685547,0.2209796905517578,0.21974626183509827,0.21851153671741486,0.2172757387161255,0.21603861451148987,0.21480052173137665,0.21356140077114105,0.2123212069272995,0.21108029782772064,0.20983831584453583,0.20859570801258087,0.2073523849248886,0.20610828697681427,0.20486365258693695,0.20361848175525665,0.20237283408641815,0.20112676918506622,0.19988027215003967,0.19863355159759521,0.19738657772541046,0.19613949954509735,0.19489224255084991,0.19364503026008606,0.19239775836467743,0.1911506950855255,0.18990376591682434,0.18865719437599182,0.18741074204444885,0.1861647367477417,0.18491923809051514,0.18367429077625275,0.1824299395084381,0.18118615448474884,0.17994315922260284,0.17870108783245087,0.17745979130268097,0.17621958255767822,0.1749802976846695,0.17374220490455627,0.17250530421733856,0.17126981914043427,0.17003551125526428,0.16880269348621368,0.16757142543792725,0.1663418412208557,0.1651139110326767,0.16388775408267975,0.16266344487667084,0.1614409238100052,0.16022062301635742,0.15900234878063202,0.1577863097190857,0.15657249093055725,0.15536104142665863,0.1541520208120346,0.15294548869132996,0.15174172818660736,0.15054060518741608,0.14934228360652924,0.14814677834510803,0.1469542384147644,0.1457648128271103,0.14457854628562927,0.14339546859264374,0.14221571385860443,0.14103937149047852,0.13986645638942719,0.13869716227054596,0.13753150403499603,0.13636958599090576,0.1352115422487259,0.1340574473142624,0.13290733098983765],\"type\":\"scatter\",\"xaxis\":\"x\",\"yaxis\":\"y\"},{\"legendgroup\":\"0\",\"line\":{\"color\":\"pink\"},\"name\":\"[15, 6]\",\"x\":[-20.0,-19.600000381469727,-19.200000762939453,-18.799999237060547,-18.399999618530273,-18.0,-17.600000381469727,-17.200000762939453,-16.799999237060547,-16.399999618530273,-16.0,-15.600000381469727,-15.199999809265137,-14.800000190734863,-14.399999618530273,-14.0,-13.600000381469727,-13.199999809265137,-12.800000190734863,-12.399999618530273,-12.0,-11.59999942779541,-11.199999809265137,-10.800000190734863,-10.399999618530273,-10.0,-9.59999942779541,-9.199999809265137,-8.800000190734863,-8.399999618530273,-8.0,-7.599999904632568,-7.199999809265137,-6.799999713897705,-6.399999618530273,-6.0,-5.599999904632568,-5.199999809265137,-4.799999713897705,-4.399999618530273,-3.999999761581421,-3.5999996662139893,-3.1999998092651367,-2.799999713897705,-2.3999996185302734,-1.999999761581421,-1.5999996662139893,-1.1999996900558472,-0.7999997138977051,-0.3999997079372406,-2.980232238769531e-07,0.3999997079372406,0.7999997138977051,1.1999996900558472,1.5999996662139893,1.999999761581421,2.3999996185302734,2.799999713897705,3.1999998092651367,3.5999996662139893,3.999999761581421,4.399999618530273,4.799999713897705,5.199999809265137,5.599999904632568,6.0,6.399999618530273,6.799999713897705,7.199999809265137,7.599999904632568,8.0,8.399999618530273,8.800000190734863,9.199999809265137,9.59999942779541,10.0,10.399999618530273,10.800000190734863,11.199999809265137,11.59999942779541,12.0,12.399999618530273,12.800000190734863,13.199999809265137,13.600000381469727,14.0,14.399999618530273,14.800000190734863,15.199999809265137,15.600000381469727,16.0,16.399999618530273,16.799999237060547,17.200000762939453,17.600000381469727,18.0,18.399999618530273,18.799999237060547,19.200000762939453,19.600000381469727,20.0],\"y\":[0.0141169223934412,0.01396617479622364,0.01381694059818983,0.01366922166198492,0.013522960245609283,0.013378264382481575,0.013234938494861126,0.013093127869069576,0.012952737510204315,0.012813818641006947,0.012676261365413666,0.012540139257907867,0.01240542996674776,0.012272083200514317,0.012140120379626751,0.012009533122181892,0.01188028696924448,0.011752338148653507,0.011625775136053562,0.011500498279929161,0.011376502923667431,0.011253822594881058,0.011132401414215565,0.011012229137122631,0.010893357917666435,0.010775686241686344,0.010659275576472282,0.010544034652411938,0.01043002214282751,0.01031718123704195,0.010205556638538837,0.010095097124576569,0.0099857859313488,0.009877614676952362,0.009770589880645275,0.00966469943523407,0.009559893980622292,0.009456212632358074,0.0093536376953125,0.009252089075744152,0.009151659905910492,0.009052274748682976,0.008953936398029327,0.008856644853949547,0.008760366588830948,0.00866512581706047,0.008570870384573936,0.00847762543708086,0.008385366760194302,0.008294077590107918,0.008203774690628052,0.008114413358271122,0.008026028983294964,0.0079385656863451,0.007852031849324703,0.007766425143927336,0.007681723218411207,0.007597923278808594,0.007515027653425932,0.007433016784489155,0.007351879961788654,0.007271614857017994,0.007192195858806372,0.0071136439219117165,0.007035926915705204,0.0069590541534125805,0.006883000023663044,0.006807773839682341,0.0067333499900996685,0.006659739650785923,0.006586909294128418,0.0065148756839334965,0.006443625781685114,0.006373141892254353,0.0063034244813025,0.006234462838619947,0.006166254635900259,0.006098793353885412,0.0060320585034787655,0.005966060794889927,0.005900782998651266,0.00583621533587575,0.005772359203547239,0.005709205288439989,0.00564674474298954,0.0055849733762443066,0.005523881409317255,0.005463463719934225,0.005403714254498482,0.00534462695941329,0.005286200437694788,0.0052284072153270245,0.005171270575374365,0.005114763509482145,0.005058890208601952,0.0050036367028951645,0.004949003923684359,0.004894983023405075,0.004841569811105728,0.004788754042237997,0.00473652733489871],\"type\":\"scatter\",\"xaxis\":\"x2\",\"yaxis\":\"y2\"},{\"legendgroup\":\"1\",\"line\":{\"color\":\"darkviolet\"},\"name\":\"[20, 7]\",\"x\":[-20.0,-19.600000381469727,-19.200000762939453,-18.799999237060547,-18.399999618530273,-18.0,-17.600000381469727,-17.200000762939453,-16.799999237060547,-16.399999618530273,-16.0,-15.600000381469727,-15.199999809265137,-14.800000190734863,-14.399999618530273,-14.0,-13.600000381469727,-13.199999809265137,-12.800000190734863,-12.399999618530273,-12.0,-11.59999942779541,-11.199999809265137,-10.800000190734863,-10.399999618530273,-10.0,-9.59999942779541,-9.199999809265137,-8.800000190734863,-8.399999618530273,-8.0,-7.599999904632568,-7.199999809265137,-6.799999713897705,-6.399999618530273,-6.0,-5.599999904632568,-5.199999809265137,-4.799999713897705,-4.399999618530273,-3.999999761581421,-3.5999996662139893,-3.1999998092651367,-2.799999713897705,-2.3999996185302734,-1.999999761581421,-1.5999996662139893,-1.1999996900558472,-0.7999997138977051,-0.3999997079372406,-2.980232238769531e-07,0.3999997079372406,0.7999997138977051,1.1999996900558472,1.5999996662139893,1.999999761581421,2.3999996185302734,2.799999713897705,3.1999998092651367,3.5999996662139893,3.999999761581421,4.399999618530273,4.799999713897705,5.199999809265137,5.599999904632568,6.0,6.399999618530273,6.799999713897705,7.199999809265137,7.599999904632568,8.0,8.399999618530273,8.800000190734863,9.199999809265137,9.59999942779541,10.0,10.399999618530273,10.800000190734863,11.199999809265137,11.59999942779541,12.0,12.399999618530273,12.800000190734863,13.199999809265137,13.600000381469727,14.0,14.399999618530273,14.800000190734863,15.199999809265137,15.600000381469727,16.0,16.399999618530273,16.799999237060547,17.200000762939453,17.600000381469727,18.0,18.399999618530273,18.799999237060547,19.200000762939453,19.600000381469727,20.0],\"y\":[0.0014224557671695948,0.0014034005580469966,0.0013846744550392032,0.001366272452287376,0.0013481896603479981,0.0013304207241162658,0.0013129612198099494,0.0012958059087395668,0.0012789505999535322,0.0012623899383470416,0.001246119849383831,0.00123013521078974,0.0012144324136897922,0.0011990065686404705,0.0011838529026135802,0.001168966991826892,0.0011543456930667162,0.0011399833019822836,0.0011258766753599048,0.0011120217386633158,0.0010984136024489999,0.0010850481921806931,0.0010719230631366372,0.0010590319288894534,0.0010463711805641651,0.0010339402360841632,0.001021730713546276,0.0010097419144585729,0.0009979686001315713,0.0009864077437669039,0.0009750554454512894,0.0009639073396101594,0.0009529613307677209,0.00094221270410344,0.0009316578507423401,0.000921294093132019,0.0009111179388128221,0.000901124847587198,0.0008913122001104057,0.0008816771442070603,0.000872215663548559,0.0008629248477518559,0.0008538006222806871,0.0008448410662822425,0.0008360420470125973,0.0008273999555967748,0.0008189130458049476,0.0008105771848931909,0.0008023897535167634,0.000794347666669637,0.0007864475483074784,0.0007786869537085295,0.0007710636127740145,0.0007635719957761467,0.000756212102714926,0.000748980266507715,0.000741872179787606,0.0007348875515162945,0.0007280220743268728,0.0007212733617052436,0.0007146381540223956,0.0007081149378791451,0.0007017006282694638,0.0006953926640562713,0.0006891884841024876,0.0006830848287791014,0.0006770804175175726,0.0006711722817271948,0.0006653577438555658,0.0006596349994651973,0.000654001662041992,0.000648454821202904,0.0006429927889257669,0.000637612771242857,0.0006323130801320076,0.0006270913872867823,0.0006219458882696927,0.0006168740219436586,0.0006118734017945826,0.0006069432129152119,0.0006020802538841963,0.0005972831859253347,0.0005925501463934779,0.0005878793890587986,0.0005832680617459118,0.0005787158734165132,0.0005742203211411834,0.0005697791348211467,0.0005653916741721332,0.0005610555526800454,0.0005567697226069868,0.00055253243772313,0.0005483417771756649,0.0005441965768113732,0.0005400952650234103,0.0005360374925658107,0.0005320202908478677,0.0005280429031699896,0.0005241040489636362,0.0005202029715292156,0.0005163378082215786],\"type\":\"scatter\",\"xaxis\":\"x2\",\"yaxis\":\"y2\"},{\"legendgroup\":\"2\",\"line\":{\"color\":\"blue\"},\"name\":\"[17, 8]\",\"x\":[-20.0,-19.600000381469727,-19.200000762939453,-18.799999237060547,-18.399999618530273,-18.0,-17.600000381469727,-17.200000762939453,-16.799999237060547,-16.399999618530273,-16.0,-15.600000381469727,-15.199999809265137,-14.800000190734863,-14.399999618530273,-14.0,-13.600000381469727,-13.199999809265137,-12.800000190734863,-12.399999618530273,-12.0,-11.59999942779541,-11.199999809265137,-10.800000190734863,-10.399999618530273,-10.0,-9.59999942779541,-9.199999809265137,-8.800000190734863,-8.399999618530273,-8.0,-7.599999904632568,-7.199999809265137,-6.799999713897705,-6.399999618530273,-6.0,-5.599999904632568,-5.199999809265137,-4.799999713897705,-4.399999618530273,-3.999999761581421,-3.5999996662139893,-3.1999998092651367,-2.799999713897705,-2.3999996185302734,-1.999999761581421,-1.5999996662139893,-1.1999996900558472,-0.7999997138977051,-0.3999997079372406,-2.980232238769531e-07,0.3999997079372406,0.7999997138977051,1.1999996900558472,1.5999996662139893,1.999999761581421,2.3999996185302734,2.799999713897705,3.1999998092651367,3.5999996662139893,3.999999761581421,4.399999618530273,4.799999713897705,5.199999809265137,5.599999904632568,6.0,6.399999618530273,6.799999713897705,7.199999809265137,7.599999904632568,8.0,8.399999618530273,8.800000190734863,9.199999809265137,9.59999942779541,10.0,10.399999618530273,10.800000190734863,11.199999809265137,11.59999942779541,12.0,12.399999618530273,12.800000190734863,13.199999809265137,13.600000381469727,14.0,14.399999618530273,14.800000190734863,15.199999809265137,15.600000381469727,16.0,16.399999618530273,16.799999237060547,17.200000762939453,17.600000381469727,18.0,18.399999618530273,18.799999237060547,19.200000762939453,19.600000381469727,20.0],\"y\":[0.0034126569516956806,0.003417553147301078,0.0034224074333906174,0.003427218645811081,0.0034319867845624685,0.0034367048647254705,0.0034413759130984545,0.003445992013439536,0.0034505543299019337,0.0034550593700259924,0.0034595062024891376,0.003463891102001071,0.003468209644779563,0.0034724604338407516,0.003476647427305579,0.003480761544778943,0.003484804881736636,0.0034887713845819235,0.0034926633816212416,0.0034964741207659245,0.0035002045333385468,0.0035038532223552465,0.0035074171610176563,0.0035108961164951324,0.0035142884589731693,0.0035175923258066177,0.0035208004992455244,0.0035239183343946934,0.003526942105963826,0.003529876936227083,0.003532707691192627,0.003535444615408778,0.0035380867775529623,0.003540624398738146,0.0035430609714239836,0.003545403480529785,0.0035476379562169313,0.0035497755743563175,0.0035518058575689793,0.0035537381190806627,0.003555564908310771,0.003557289484888315,0.0035589050967246294,0.0035604212898761034,0.0035618336405605078,0.0035631402861326933,0.0035643503069877625,0.0035654560197144747,0.0035664536990225315,0.003567352658137679,0.0035681568551808596,0.0035688572097569704,0.0035694565158337355,0.003569958498701453,0.0035703685134649277,0.0035706774797290564,0.0035708968061953783,0.0035710164811462164,0.003571049077436328,0.003570991801097989,0.0035708497744053602,0.0035706148482859135,0.0035702975001186132,0.0035698998253792524,0.003569419728592038,0.0035688590724021196,0.003568227170035243,0.0035675191320478916,0.0035667382180690765,0.0035658911801874638,0.0035649724304676056,0.0035639924462884665,0.0035629544872790575,0.0035618518013507128,0.0035606909077614546,0.0035594776272773743,0.003558218479156494,0.003556908341124654,0.003555548144504428,0.0035541546531021595,0.003552716923877597,0.00355124450288713,0.0035497357603162527,0.003548200475051999,0.003546637250110507,0.0035450474824756384,0.003543440019711852,0.003541812766343355,0.003540173638612032,0.003538518911227584,0.0035368555691093206,0.003535189898684621,0.003533520270138979,0.003531853435561061,0.003530190559104085,0.0035285339690744877,0.00352688692510128,0.003525254549458623,0.003523637307807803,0.0035220421850681305,0.003520467085763812],\"type\":\"scatter\",\"xaxis\":\"x2\",\"yaxis\":\"y2\"},{\"legendgroup\":\"3\",\"line\":{\"color\":\"purple\"},\"name\":\"[22, 12]\",\"x\":[-20.0,-19.600000381469727,-19.200000762939453,-18.799999237060547,-18.399999618530273,-18.0,-17.600000381469727,-17.200000762939453,-16.799999237060547,-16.399999618530273,-16.0,-15.600000381469727,-15.199999809265137,-14.800000190734863,-14.399999618530273,-14.0,-13.600000381469727,-13.199999809265137,-12.800000190734863,-12.399999618530273,-12.0,-11.59999942779541,-11.199999809265137,-10.800000190734863,-10.399999618530273,-10.0,-9.59999942779541,-9.199999809265137,-8.800000190734863,-8.399999618530273,-8.0,-7.599999904632568,-7.199999809265137,-6.799999713897705,-6.399999618530273,-6.0,-5.599999904632568,-5.199999809265137,-4.799999713897705,-4.399999618530273,-3.999999761581421,-3.5999996662139893,-3.1999998092651367,-2.799999713897705,-2.3999996185302734,-1.999999761581421,-1.5999996662139893,-1.1999996900558472,-0.7999997138977051,-0.3999997079372406,-2.980232238769531e-07,0.3999997079372406,0.7999997138977051,1.1999996900558472,1.5999996662139893,1.999999761581421,2.3999996185302734,2.799999713897705,3.1999998092651367,3.5999996662139893,3.999999761581421,4.399999618530273,4.799999713897705,5.199999809265137,5.599999904632568,6.0,6.399999618530273,6.799999713897705,7.199999809265137,7.599999904632568,8.0,8.399999618530273,8.800000190734863,9.199999809265137,9.59999942779541,10.0,10.399999618530273,10.800000190734863,11.199999809265137,11.59999942779541,12.0,12.399999618530273,12.800000190734863,13.199999809265137,13.600000381469727,14.0,14.399999618530273,14.800000190734863,15.199999809265137,15.600000381469727,16.0,16.399999618530273,16.799999237060547,17.200000762939453,17.600000381469727,18.0,18.399999618530273,18.799999237060547,19.200000762939453,19.600000381469727,20.0],\"y\":[0.15645121037960052,0.15524674952030182,0.15404312312602997,0.15284042060375214,0.15163882076740265,0.15043829381465912,0.1492389738559723,0.1480410397052765,0.14684438705444336,0.14564934372901917,0.14445586502552032,0.14326409995555878,0.1420740932226181,0.14088600873947144,0.1396998167037964,0.13851578533649445,0.13733386993408203,0.13615429401397705,0.13497702777385712,0.13380225002765656,0.13263002038002014,0.13146042823791504,0.13029363751411438,0.12912975251674652,0.1279687136411667,0.12681081891059875,0.12565603852272034,0.1245044469833374,0.12335623800754547,0.1222115308046341,0.12107032537460327,0.11993277072906494,0.11879896372556686,0.11766894906759262,0.11654295772314072,0.11542091518640518,0.11430293321609497,0.11318929493427277,0.1120799332857132,0.11097496002912521,0.10987450182437897,0.10877861827611923,0.10768745094537735,0.10660099983215332,0.10551941394805908,0.10444289445877075,0.10337131470441818,0.10230487585067749,0.10124371200799942,0.10018779337406158,0.0991373211145401,0.09809227287769318,0.09705284982919693,0.09601906687021255,0.09499092400074005,0.09396866708993912,0.09295222908258438,0.09194177389144897,0.09093736857175827,0.08993897587060928,0.08894681185483932,0.08796089887619019,0.08698128908872604,0.08600805699825287,0.08504129201173782,0.08408098667860031,0.08312728255987167,0.0821802169084549,0.08123979717493057,0.08030612766742706,0.07937931269407272,0.0784592404961586,0.07754615694284439,0.07663994282484055,0.07574077695608139,0.07484861463308334,0.07396359741687775,0.07308558374643326,0.072214774787426,0.07135122269392014,0.07049479335546494,0.06964564323425293,0.0688038095831871,0.06796924769878387,0.06714203953742981,0.0663222074508667,0.06550966948270798,0.06470456719398499,0.06390690803527832,0.0631166324019432,0.062333811074495316,0.061558403074741364,0.06079047545790672,0.060029949992895126,0.05927689000964165,0.058531295508146286,0.05779317766427994,0.057062458246946335,0.056339215487241745,0.055623359978199005,0.05491497740149498],\"type\":\"scatter\",\"xaxis\":\"x2\",\"yaxis\":\"y2\"},{\"legendgroup\":\"4\",\"line\":{\"color\":\"turquoise\"},\"name\":\"[19, 10]\",\"x\":[-20.0,-19.600000381469727,-19.200000762939453,-18.799999237060547,-18.399999618530273,-18.0,-17.600000381469727,-17.200000762939453,-16.799999237060547,-16.399999618530273,-16.0,-15.600000381469727,-15.199999809265137,-14.800000190734863,-14.399999618530273,-14.0,-13.600000381469727,-13.199999809265137,-12.800000190734863,-12.399999618530273,-12.0,-11.59999942779541,-11.199999809265137,-10.800000190734863,-10.399999618530273,-10.0,-9.59999942779541,-9.199999809265137,-8.800000190734863,-8.399999618530273,-8.0,-7.599999904632568,-7.199999809265137,-6.799999713897705,-6.399999618530273,-6.0,-5.599999904632568,-5.199999809265137,-4.799999713897705,-4.399999618530273,-3.999999761581421,-3.5999996662139893,-3.1999998092651367,-2.799999713897705,-2.3999996185302734,-1.999999761581421,-1.5999996662139893,-1.1999996900558472,-0.7999997138977051,-0.3999997079372406,-2.980232238769531e-07,0.3999997079372406,0.7999997138977051,1.1999996900558472,1.5999996662139893,1.999999761581421,2.3999996185302734,2.799999713897705,3.1999998092651367,3.5999996662139893,3.999999761581421,4.399999618530273,4.799999713897705,5.199999809265137,5.599999904632568,6.0,6.399999618530273,6.799999713897705,7.199999809265137,7.599999904632568,8.0,8.399999618530273,8.800000190734863,9.199999809265137,9.59999942779541,10.0,10.399999618530273,10.800000190734863,11.199999809265137,11.59999942779541,12.0,12.399999618530273,12.800000190734863,13.199999809265137,13.600000381469727,14.0,14.399999618530273,14.800000190734863,15.199999809265137,15.600000381469727,16.0,16.399999618530273,16.799999237060547,17.200000762939453,17.600000381469727,18.0,18.399999618530273,18.799999237060547,19.200000762939453,19.600000381469727,20.0],\"y\":[0.31032687425613403,0.3096958100795746,0.30905672907829285,0.30840936303138733,0.30775362253189087,0.3070894777774811,0.30641698837280273,0.3057360351085663,0.30504661798477173,0.30434849858283997,0.3036420941352844,0.30292707681655884,0.30220338702201843,0.30147114396095276,0.3007301986217499,0.2999805808067322,0.29922211170196533,0.298455148935318,0.2976793944835663,0.2968948483467102,0.29610154032707214,0.2952995002269745,0.2944887578487396,0.29366907477378845,0.2928406298160553,0.2920033931732178,0.2911573350429535,0.290302574634552,0.289438933134079,0.288566529750824,0.2876856029033661,0.2867954671382904,0.2858969271183014,0.2849896252155304,0.28407368063926697,0.2831489145755768,0.2822156250476837,0.28127366304397583,0.2803231477737427,0.2793639600276947,0.27839645743370056,0.27742037177085876,0.27643582224845886,0.27544304728507996,0.2744417190551758,0.27343231439590454,0.27241450548171997,0.2713887393474579,0.2703547179698944,0.26931270956993103,0.26826268434524536,0.2672048807144165,0.26613911986351013,0.2650657594203949,0.2639845311641693,0.2628958821296692,0.26179972290992737,0.26069602370262146,0.2595851421356201,0.25846704840660095,0.25734183192253113,0.25620946288108826,0.2550702691078186,0.25392434000968933,0.2527717649936676,0.25161251425743103,0.2504468858242035,0.24927480518817902,0.24809661507606506,0.2469124048948288,0.24572227895259857,0.24452631175518036,0.2433246225118637,0.2421174794435501,0.2409050017595291,0.23968711495399475,0.23846445977687836,0.23723666369915009,0.23600426316261292,0.2347671240568161,0.23352566361427307,0.2322799414396286,0.2310301512479782,0.22977638244628906,0.22851887345314026,0.2272578924894333,0.22599346935749054,0.22472591698169708,0.22345538437366486,0.22218191623687744,0.22090588510036469,0.21962741017341614,0.2183467447757721,0.21706397831439972,0.2157794088125229,0.21449331939220428,0.2132057398557663,0.21191692352294922,0.21062707901000977,0.209336519241333,0.20804528892040253],\"type\":\"scatter\",\"xaxis\":\"x2\",\"yaxis\":\"y2\"},{\"legendgroup\":\"0\",\"line\":{\"color\":\"pink\"},\"name\":\"[15, 6]\",\"x\":[-20.0,-19.600000381469727,-19.200000762939453,-18.799999237060547,-18.399999618530273,-18.0,-17.600000381469727,-17.200000762939453,-16.799999237060547,-16.399999618530273,-16.0,-15.600000381469727,-15.199999809265137,-14.800000190734863,-14.399999618530273,-14.0,-13.600000381469727,-13.199999809265137,-12.800000190734863,-12.399999618530273,-12.0,-11.59999942779541,-11.199999809265137,-10.800000190734863,-10.399999618530273,-10.0,-9.59999942779541,-9.199999809265137,-8.800000190734863,-8.399999618530273,-8.0,-7.599999904632568,-7.199999809265137,-6.799999713897705,-6.399999618530273,-6.0,-5.599999904632568,-5.199999809265137,-4.799999713897705,-4.399999618530273,-3.999999761581421,-3.5999996662139893,-3.1999998092651367,-2.799999713897705,-2.3999996185302734,-1.999999761581421,-1.5999996662139893,-1.1999996900558472,-0.7999997138977051,-0.3999997079372406,-2.980232238769531e-07,0.3999997079372406,0.7999997138977051,1.1999996900558472,1.5999996662139893,1.999999761581421,2.3999996185302734,2.799999713897705,3.1999998092651367,3.5999996662139893,3.999999761581421,4.399999618530273,4.799999713897705,5.199999809265137,5.599999904632568,6.0,6.399999618530273,6.799999713897705,7.199999809265137,7.599999904632568,8.0,8.399999618530273,8.800000190734863,9.199999809265137,9.59999942779541,10.0,10.399999618530273,10.800000190734863,11.199999809265137,11.59999942779541,12.0,12.399999618530273,12.800000190734863,13.199999809265137,13.600000381469727,14.0,14.399999618530273,14.800000190734863,15.199999809265137,15.600000381469727,16.0,16.399999618530273,16.799999237060547,17.200000762939453,17.600000381469727,18.0,18.399999618530273,18.799999237060547,19.200000762939453,19.600000381469727,20.0],\"y\":[0.10988267511129379,0.10988195985555649,0.10987724363803864,0.10986882448196411,0.10985682159662247,0.10984122008085251,0.10982181876897812,0.10979898273944855,0.10977251827716827,0.10974223911762238,0.10970856249332428,0.10967113077640533,0.10963034629821777,0.10958585888147354,0.10953797399997711,0.10948634147644043,0.10943124443292618,0.10937269777059555,0.10931070148944855,0.10924526304006577,0.10917653143405914,0.1091039702296257,0.10902829468250275,0.10894906520843506,0.10886651277542114,0.10878056287765503,0.10869132727384567,0.10859870165586472,0.10850264132022858,0.10840346664190292,0.10830116271972656,0.1081952452659607,0.1080864667892456,0.10797419399023056,0.1078587993979454,0.10774046182632446,0.10761884599924088,0.10749403387308121,0.10736600309610367,0.10723533481359482,0.10710126161575317,0.10696440190076828,0.10682421177625656,0.10668154805898666,0.10653556883335114,0.10638679563999176,0.10623525828123093,0.10608082264661789,0.10592341423034668,0.10576354712247849,0.10560071468353271,0.10543503612279892,0.10526694357395172,0.10509598255157471,0.10492267459630966,0.1047464981675148,0.10456784814596176,0.10438672453165054,0.104203000664711,0.1040169820189476,0.1038285493850708,0.1036376953125,0.10344444960355759,0.10324901342391968,0.10305136442184448,0.1028515100479126,0.10264944285154343,0.10244524478912354,0.10223893076181412,0.10203064978122711,0.10182023048400879,0.10160788148641586,0.10139373689889908,0.10117758810520172,0.10095969587564468,0.10073995590209961,0.10051853954792023,0.10029537975788116,0.1000705286860466,0.0998440608382225,0.09961612522602081,0.09938670694828033,0.0991557165980339,0.09892331808805466,0.09868963062763214,0.0984545350074768,0.09821809083223343,0.09798050671815872,0.09774171561002731,0.09750180691480637,0.09726068377494812,0.09701859205961227,0.09677546471357346,0.096531443297863,0.09628640860319138,0.09604062885046005,0.09579389542341232,0.09554646164178848,0.09529829025268555,0.09504946321249008,0.09479991346597672],\"type\":\"scatter\",\"xaxis\":\"x3\",\"yaxis\":\"y3\"},{\"legendgroup\":\"1\",\"line\":{\"color\":\"darkviolet\"},\"name\":\"[20, 7]\",\"x\":[-20.0,-19.600000381469727,-19.200000762939453,-18.799999237060547,-18.399999618530273,-18.0,-17.600000381469727,-17.200000762939453,-16.799999237060547,-16.399999618530273,-16.0,-15.600000381469727,-15.199999809265137,-14.800000190734863,-14.399999618530273,-14.0,-13.600000381469727,-13.199999809265137,-12.800000190734863,-12.399999618530273,-12.0,-11.59999942779541,-11.199999809265137,-10.800000190734863,-10.399999618530273,-10.0,-9.59999942779541,-9.199999809265137,-8.800000190734863,-8.399999618530273,-8.0,-7.599999904632568,-7.199999809265137,-6.799999713897705,-6.399999618530273,-6.0,-5.599999904632568,-5.199999809265137,-4.799999713897705,-4.399999618530273,-3.999999761581421,-3.5999996662139893,-3.1999998092651367,-2.799999713897705,-2.3999996185302734,-1.999999761581421,-1.5999996662139893,-1.1999996900558472,-0.7999997138977051,-0.3999997079372406,-2.980232238769531e-07,0.3999997079372406,0.7999997138977051,1.1999996900558472,1.5999996662139893,1.999999761581421,2.3999996185302734,2.799999713897705,3.1999998092651367,3.5999996662139893,3.999999761581421,4.399999618530273,4.799999713897705,5.199999809265137,5.599999904632568,6.0,6.399999618530273,6.799999713897705,7.199999809265137,7.599999904632568,8.0,8.399999618530273,8.800000190734863,9.199999809265137,9.59999942779541,10.0,10.399999618530273,10.800000190734863,11.199999809265137,11.59999942779541,12.0,12.399999618530273,12.800000190734863,13.199999809265137,13.600000381469727,14.0,14.399999618530273,14.800000190734863,15.199999809265137,15.600000381469727,16.0,16.399999618530273,16.799999237060547,17.200000762939453,17.600000381469727,18.0,18.399999618530273,18.799999237060547,19.200000762939453,19.600000381469727,20.0],\"y\":[0.005995376966893673,0.0059773875400424,0.0059593147598207,0.005941156297922134,0.005922917276620865,0.0059045953676104546,0.0058861980214715,0.005867722909897566,0.005849177483469248,0.0058305589482188225,0.005811871495097876,0.005793117918074131,0.005774302873760462,0.005755425430834293,0.005736488848924637,0.005717498250305653,0.00569845549762249,0.005679361987859011,0.005660224240273237,0.005641039926558733,0.005621816497296095,0.005602553486824036,0.005583257880061865,0.0055639296770095825,0.005544567946344614,0.005525188520550728,0.005505779292434454,0.005486351903527975,0.005466909613460302,0.005447454284876585,0.005427987780421972,0.005408511962741613,0.005389032419770956,0.00536955613642931,0.005350075196474791,0.0053306035697460175,0.005311138462275267,0.0052916849963366985,0.005272245034575462,0.005252825561910868,0.0052334219217300415,0.005214044824242592,0.005194691475480795,0.005175368394702673,0.0051560779102146626,0.00513681722804904,0.0051175975240767,0.005098414141684771,0.005079277791082859,0.005060182418674231,0.0050411345437169075,0.005022135563194752,0.00500319292768836,0.004984298720955849,0.0049654655158519745,0.004946691449731588,0.004927974194288254,0.00490932259708643,0.004890733398497105,0.004872211720794439,0.004853758495301008,0.004835376050323248,0.004817064385861158,0.004798825364559889,0.0047806622460484505,0.004762571305036545,0.004744559992104769,0.00472662877291441,0.004708773456513882,0.0046910010278224945,0.004673306830227375,0.004655697848647833,0.00463816849514842,0.0046207234263420105,0.004603364039212465,0.004586086142808199,0.004568895790725946,0.004551790188997984,0.004534767474979162,0.004517834167927504,0.004500984214246273,0.004484220873564482,0.004467539023607969,0.00445094658061862,0.004434437490999699,0.004418013617396355,0.004401675425469875,0.004385421518236399,0.004369248170405626,0.0043531605042517185,0.004337154794484377,0.004321230109781027,0.004305387381464243,0.004289622884243727,0.004273938946425915,0.004258336964994669,0.004242809023708105,0.00422735745087266,0.00421198271214962,0.004196682944893837,0.004181455355137587],\"type\":\"scatter\",\"xaxis\":\"x3\",\"yaxis\":\"y3\"},{\"legendgroup\":\"2\",\"line\":{\"color\":\"blue\"},\"name\":\"[17, 8]\",\"x\":[-20.0,-19.600000381469727,-19.200000762939453,-18.799999237060547,-18.399999618530273,-18.0,-17.600000381469727,-17.200000762939453,-16.799999237060547,-16.399999618530273,-16.0,-15.600000381469727,-15.199999809265137,-14.800000190734863,-14.399999618530273,-14.0,-13.600000381469727,-13.199999809265137,-12.800000190734863,-12.399999618530273,-12.0,-11.59999942779541,-11.199999809265137,-10.800000190734863,-10.399999618530273,-10.0,-9.59999942779541,-9.199999809265137,-8.800000190734863,-8.399999618530273,-8.0,-7.599999904632568,-7.199999809265137,-6.799999713897705,-6.399999618530273,-6.0,-5.599999904632568,-5.199999809265137,-4.799999713897705,-4.399999618530273,-3.999999761581421,-3.5999996662139893,-3.1999998092651367,-2.799999713897705,-2.3999996185302734,-1.999999761581421,-1.5999996662139893,-1.1999996900558472,-0.7999997138977051,-0.3999997079372406,-2.980232238769531e-07,0.3999997079372406,0.7999997138977051,1.1999996900558472,1.5999996662139893,1.999999761581421,2.3999996185302734,2.799999713897705,3.1999998092651367,3.5999996662139893,3.999999761581421,4.399999618530273,4.799999713897705,5.199999809265137,5.599999904632568,6.0,6.399999618530273,6.799999713897705,7.199999809265137,7.599999904632568,8.0,8.399999618530273,8.800000190734863,9.199999809265137,9.59999942779541,10.0,10.399999618530273,10.800000190734863,11.199999809265137,11.59999942779541,12.0,12.399999618530273,12.800000190734863,13.199999809265137,13.600000381469727,14.0,14.399999618530273,14.800000190734863,15.199999809265137,15.600000381469727,16.0,16.399999618530273,16.799999237060547,17.200000762939453,17.600000381469727,18.0,18.399999618530273,18.799999237060547,19.200000762939453,19.600000381469727,20.0],\"y\":[0.012794598005712032,0.012768208049237728,0.012741764076054096,0.012715286575257778,0.012688768096268177,0.012662201188504696,0.012635576538741589,0.0126089071854949,0.012582178227603436,0.01255538035184145,0.012528530322015285,0.012501603923738003,0.012474614195525646,0.012447544373571873,0.012420414946973324,0.012393197976052761,0.012365900911390781,0.012338521890342236,0.012311073020100594,0.01228352077305317,0.012255887500941753,0.012228171341121197,0.012200350873172283,0.012172452174127102,0.012144449166953564,0.01211636420339346,0.012088175863027573,0.012059895321726799,0.012031519785523415,0.01200304739177227,0.01197448093444109,0.011945810168981552,0.0119170518592,0.011888188309967518,0.011859237216413021,0.011830189265310764,0.011801051907241344,0.011771813966333866,0.011742482893168926,0.011713074520230293,0.011683570221066475,0.01165397372096777,0.011624297127127647,0.011594543233513832,0.011564702726900578,0.011534783989191055,0.011504790745675564,0.01147473230957985,0.011444599367678165,0.011414396576583385,0.011384139768779278,0.0113538121804595,0.011323437094688416,0.011293004266917706,0.011262521147727966,0.01123200636357069,0.011201436631381512,0.011170834302902222,0.011140192858874798,0.011109542101621628,0.011078855954110622,0.011048157699406147,0.01101743709295988,0.010986716486513615,0.010955980978906155,0.010925251059234142,0.0108945332467556,0.01086382009088993,0.01083313301205635,0.010802454315125942,0.010771804489195347,0.010741188190877438,0.010710622183978558,0.010680082254111767,0.010649595409631729,0.010619167238473892,0.010588792152702808,0.010558485053479671,0.010528246872127056,0.010498079471290112,0.010467995889484882,0.010438002645969391,0.010408090427517891,0.010378277860581875,0.010348574258387089,0.010318976826965809,0.01028948463499546,0.010260109789669514,0.010230864398181438,0.010201743803918362,0.010172756388783455,0.010143906809389591,0.010115193203091621,0.010086636058986187,0.010058222338557243,0.010029968805611134,0.010001878254115582,0.009973956272006035,0.009946192614734173,0.009918618015944958,0.009891207329928875],\"type\":\"scatter\",\"xaxis\":\"x3\",\"yaxis\":\"y3\"},{\"legendgroup\":\"3\",\"line\":{\"color\":\"purple\"},\"name\":\"[22, 12]\",\"x\":[-20.0,-19.600000381469727,-19.200000762939453,-18.799999237060547,-18.399999618530273,-18.0,-17.600000381469727,-17.200000762939453,-16.799999237060547,-16.399999618530273,-16.0,-15.600000381469727,-15.199999809265137,-14.800000190734863,-14.399999618530273,-14.0,-13.600000381469727,-13.199999809265137,-12.800000190734863,-12.399999618530273,-12.0,-11.59999942779541,-11.199999809265137,-10.800000190734863,-10.399999618530273,-10.0,-9.59999942779541,-9.199999809265137,-8.800000190734863,-8.399999618530273,-8.0,-7.599999904632568,-7.199999809265137,-6.799999713897705,-6.399999618530273,-6.0,-5.599999904632568,-5.199999809265137,-4.799999713897705,-4.399999618530273,-3.999999761581421,-3.5999996662139893,-3.1999998092651367,-2.799999713897705,-2.3999996185302734,-1.999999761581421,-1.5999996662139893,-1.1999996900558472,-0.7999997138977051,-0.3999997079372406,-2.980232238769531e-07,0.3999997079372406,0.7999997138977051,1.1999996900558472,1.5999996662139893,1.999999761581421,2.3999996185302734,2.799999713897705,3.1999998092651367,3.5999996662139893,3.999999761581421,4.399999618530273,4.799999713897705,5.199999809265137,5.599999904632568,6.0,6.399999618530273,6.799999713897705,7.199999809265137,7.599999904632568,8.0,8.399999618530273,8.800000190734863,9.199999809265137,9.59999942779541,10.0,10.399999618530273,10.800000190734863,11.199999809265137,11.59999942779541,12.0,12.399999618530273,12.800000190734863,13.199999809265137,13.600000381469727,14.0,14.399999618530273,14.800000190734863,15.199999809265137,15.600000381469727,16.0,16.399999618530273,16.799999237060547,17.200000762939453,17.600000381469727,18.0,18.399999618530273,18.799999237060547,19.200000762939453,19.600000381469727,20.0],\"y\":[0.04581737145781517,0.045600395649671555,0.04538263753056526,0.0451640784740448,0.044944778084754944,0.0447247140109539,0.044503938406705856,0.04428243264555931,0.04406024143099785,0.04383736476302147,0.043613843619823456,0.04338964819908142,0.043164849281311035,0.0429394505918026,0.04271344840526581,0.04248688742518425,0.04225977882742882,0.04203211888670921,0.04180395230650902,0.041575293987989426,0.041346143931150436,0.04111656919121742,0.0408865250647068,0.040656086057424545,0.04042524844408035,0.04019402712583542,0.03996247425675392,0.03973056375980377,0.03949834778904915,0.03926582634449005,0.03903304412961006,0.038800016045570374,0.03856672719120979,0.03833327442407608,0.03809959441423416,0.037865761667490005,0.037631768733263016,0.03739766404032707,0.03716345503926277,0.03692915663123131,0.03669479861855507,0.03646039590239525,0.036225974559783936,0.03599156066775322,0.0357571616768837,0.035522814840078354,0.035288527607917786,0.03505433723330498,0.03482025861740112,0.03458629176020622,0.03435250371694565,0.03411887213587761,0.03388543426990509,0.033652227371931076,0.033419232815504074,0.03318653255701065,0.03295407444238663,0.03272193297743797,0.032490115612745285,0.03225862607359886,0.03202752023935318,0.031796783208847046,0.031566448509693146,0.03133654594421387,0.031107088550925255,0.03087807632982731,0.030649567022919655,0.030421549454331398,0.03019406832754612,0.029967118054628372,0.029740730300545692,0.029514921829104424,0.0292897317558527,0.029065150767564774,0.02884119749069214,0.02861790731549263,0.028395280241966248,0.028173351660370827,0.027952134609222412,0.027731655165553093,0.027511894702911377,0.027292896062135696,0.027074692770838737,0.026857266202569008,0.026640653610229492,0.026424875482916832,0.02620992623269558,0.025995835661888123,0.02578260563313961,0.02557026781141758,0.02535884641110897,0.02514832653105259,0.024938734248280525,0.024730075150728226,0.024522384628653526,0.02431565336883068,0.02410990186035633,0.023905141279101372,0.023701390251517296,0.023498643189668655,0.023296933621168137],\"type\":\"scatter\",\"xaxis\":\"x3\",\"yaxis\":\"y3\"},{\"legendgroup\":\"4\",\"line\":{\"color\":\"turquoise\"},\"name\":\"[19, 10]\",\"x\":[-20.0,-19.600000381469727,-19.200000762939453,-18.799999237060547,-18.399999618530273,-18.0,-17.600000381469727,-17.200000762939453,-16.799999237060547,-16.399999618530273,-16.0,-15.600000381469727,-15.199999809265137,-14.800000190734863,-14.399999618530273,-14.0,-13.600000381469727,-13.199999809265137,-12.800000190734863,-12.399999618530273,-12.0,-11.59999942779541,-11.199999809265137,-10.800000190734863,-10.399999618530273,-10.0,-9.59999942779541,-9.199999809265137,-8.800000190734863,-8.399999618530273,-8.0,-7.599999904632568,-7.199999809265137,-6.799999713897705,-6.399999618530273,-6.0,-5.599999904632568,-5.199999809265137,-4.799999713897705,-4.399999618530273,-3.999999761581421,-3.5999996662139893,-3.1999998092651367,-2.799999713897705,-2.3999996185302734,-1.999999761581421,-1.5999996662139893,-1.1999996900558472,-0.7999997138977051,-0.3999997079372406,-2.980232238769531e-07,0.3999997079372406,0.7999997138977051,1.1999996900558472,1.5999996662139893,1.999999761581421,2.3999996185302734,2.799999713897705,3.1999998092651367,3.5999996662139893,3.999999761581421,4.399999618530273,4.799999713897705,5.199999809265137,5.599999904632568,6.0,6.399999618530273,6.799999713897705,7.199999809265137,7.599999904632568,8.0,8.399999618530273,8.800000190734863,9.199999809265137,9.59999942779541,10.0,10.399999618530273,10.800000190734863,11.199999809265137,11.59999942779541,12.0,12.399999618530273,12.800000190734863,13.199999809265137,13.600000381469727,14.0,14.399999618530273,14.800000190734863,15.199999809265137,15.600000381469727,16.0,16.399999618530273,16.799999237060547,17.200000762939453,17.600000381469727,18.0,18.399999618530273,18.799999237060547,19.200000762939453,19.600000381469727,20.0],\"y\":[0.08646179735660553,0.08611123263835907,0.0857599601149559,0.08540802448987961,0.08505536615848541,0.0847020372748375,0.08434810489416122,0.08399342000484467,0.08363806456327438,0.08328203111886978,0.08292529731988907,0.08256784826517105,0.08220972865819931,0.08185090124607086,0.08149134367704391,0.08113111555576324,0.08077018707990646,0.08040855079889297,0.08004619926214218,0.07968321442604065,0.07931946963071823,0.07895504683256149,0.07858993113040924,0.07822414487600327,0.0778576135635376,0.07749048620462418,0.07712260633707047,0.07675410062074661,0.07638489454984665,0.07601507753133774,0.07564449310302734,0.07527340203523636,0.0749015361070633,0.07452916353940964,0.07415603846311569,0.07378239184617996,0.07340805977582932,0.07303319126367569,0.07265762984752655,0.07228156179189682,0.07190492004156113,0.0715276375412941,0.07114984095096588,0.0707714855670929,0.07039263099431992,0.07001322507858276,0.06963330507278442,0.06925288587808609,0.06887201219797134,0.06849061697721481,0.06810881197452545,0.06772658228874207,0.0673438236117363,0.06696069985628128,0.06657718867063522,0.06619330495595932,0.06580902636051178,0.06542443484067917,0.06503944098949432,0.0646541491150856,0.0642685741186142,0.06388267874717712,0.06349657475948334,0.06311019510030746,0.06272357702255249,0.06233673915266991,0.0619497187435627,0.06156250834465027,0.061175163835287094,0.06078767776489258,0.06040006875991821,0.06001243740320206,0.05962466821074486,0.05923687294125557,0.05884901434183121,0.058461230248212814,0.05807342007756233,0.05768566206097603,0.057297952473163605,0.05691036581993103,0.056522876024246216,0.056135501712560654,0.055748362094163895,0.055361390113830566,0.05497462674975395,0.05458807945251465,0.05420184135437012,0.05381589010357857,0.05343024805188179,0.05304495245218277,0.05266004428267479,0.05227557569742203,0.05189148336648941,0.051507897675037384,0.051124799996614456,0.05074222758412361,0.05036018416285515,0.04997873306274414,0.04959789291024208,0.04921770840883255,0.048838187009096146],\"type\":\"scatter\",\"xaxis\":\"x3\",\"yaxis\":\"y3\"},{\"legendgroup\":\"0\",\"line\":{\"color\":\"pink\"},\"name\":\"[15, 6]\",\"x\":[-20.0,-19.600000381469727,-19.200000762939453,-18.799999237060547,-18.399999618530273,-18.0,-17.600000381469727,-17.200000762939453,-16.799999237060547,-16.399999618530273,-16.0,-15.600000381469727,-15.199999809265137,-14.800000190734863,-14.399999618530273,-14.0,-13.600000381469727,-13.199999809265137,-12.800000190734863,-12.399999618530273,-12.0,-11.59999942779541,-11.199999809265137,-10.800000190734863,-10.399999618530273,-10.0,-9.59999942779541,-9.199999809265137,-8.800000190734863,-8.399999618530273,-8.0,-7.599999904632568,-7.199999809265137,-6.799999713897705,-6.399999618530273,-6.0,-5.599999904632568,-5.199999809265137,-4.799999713897705,-4.399999618530273,-3.999999761581421,-3.5999996662139893,-3.1999998092651367,-2.799999713897705,-2.3999996185302734,-1.999999761581421,-1.5999996662139893,-1.1999996900558472,-0.7999997138977051,-0.3999997079372406,-2.980232238769531e-07,0.3999997079372406,0.7999997138977051,1.1999996900558472,1.5999996662139893,1.999999761581421,2.3999996185302734,2.799999713897705,3.1999998092651367,3.5999996662139893,3.999999761581421,4.399999618530273,4.799999713897705,5.199999809265137,5.599999904632568,6.0,6.399999618530273,6.799999713897705,7.199999809265137,7.599999904632568,8.0,8.399999618530273,8.800000190734863,9.199999809265137,9.59999942779541,10.0,10.399999618530273,10.800000190734863,11.199999809265137,11.59999942779541,12.0,12.399999618530273,12.800000190734863,13.199999809265137,13.600000381469727,14.0,14.399999618530273,14.800000190734863,15.199999809265137,15.600000381469727,16.0,16.399999618530273,16.799999237060547,17.200000762939453,17.600000381469727,18.0,18.399999618530273,18.799999237060547,19.200000762939453,19.600000381469727,20.0],\"y\":[0.3051607608795166,0.30382925271987915,0.302482932806015,0.30112165212631226,0.2997453212738037,0.2983535826206207,0.2969483733177185,0.2955283522605896,0.2940945625305176,0.2926463782787323,0.29118531942367554,0.28971171379089355,0.2882238030433655,0.2867240905761719,0.28521159291267395,0.28368744254112244,0.28215110301971436,0.2806035578250885,0.27904462814331055,0.2774740755558014,0.27589327096939087,0.27430224418640137,0.27270081639289856,0.27108973264694214,0.2694688141345978,0.26783841848373413,0.26619917154312134,0.26455187797546387,0.26289546489715576,0.26123106479644775,0.25955888628959656,0.25787943601608276,0.25619232654571533,0.2544980049133301,0.2527979016304016,0.2510908246040344,0.24937766790390015,0.24765893816947937,0.2459353804588318,0.24420516192913055,0.24247151613235474,0.24073247611522675,0.2389899492263794,0.23724187910556793,0.23549167811870575,0.23373785614967346,0.23198042809963226,0.23022042214870453,0.22845804691314697,0.22669315338134766,0.22492653131484985,0.22315813601016998,0.2213882952928543,0.2196178436279297,0.21784597635269165,0.2160743772983551,0.2143019586801529,0.21252962946891785,0.21075817942619324,0.20898671448230743,0.20721670985221863,0.20544740557670593,0.20367947220802307,0.201913520693779,0.20014937222003937,0.1983872354030609,0.196627676486969,0.19487085938453674,0.19311702251434326,0.1913662701845169,0.18961921334266663,0.18787606060504913,0.1861364096403122,0.18440093100070953,0.18266993761062622,0.18094375729560852,0.17922218143939972,0.17750567197799683,0.1757948100566864,0.17408908903598785,0.17238911986351013,0.1706949919462204,0.16900718212127686,0.1673254668712616,0.1656501293182373,0.16398169100284576,0.1623203456401825,0.16066543757915497,0.15901820361614227,0.15737800300121307,0.155745729804039,0.15412083268165588,0.15250402688980103,0.15089495480060577,0.14929437637329102,0.14770175516605377,0.14611774682998657,0.14454227685928345,0.14297544956207275,0.14141753315925598,0.13986867666244507],\"type\":\"scatter\",\"xaxis\":\"x4\",\"yaxis\":\"y4\"},{\"legendgroup\":\"1\",\"line\":{\"color\":\"darkviolet\"},\"name\":\"[20, 7]\",\"x\":[-20.0,-19.600000381469727,-19.200000762939453,-18.799999237060547,-18.399999618530273,-18.0,-17.600000381469727,-17.200000762939453,-16.799999237060547,-16.399999618530273,-16.0,-15.600000381469727,-15.199999809265137,-14.800000190734863,-14.399999618530273,-14.0,-13.600000381469727,-13.199999809265137,-12.800000190734863,-12.399999618530273,-12.0,-11.59999942779541,-11.199999809265137,-10.800000190734863,-10.399999618530273,-10.0,-9.59999942779541,-9.199999809265137,-8.800000190734863,-8.399999618530273,-8.0,-7.599999904632568,-7.199999809265137,-6.799999713897705,-6.399999618530273,-6.0,-5.599999904632568,-5.199999809265137,-4.799999713897705,-4.399999618530273,-3.999999761581421,-3.5999996662139893,-3.1999998092651367,-2.799999713897705,-2.3999996185302734,-1.999999761581421,-1.5999996662139893,-1.1999996900558472,-0.7999997138977051,-0.3999997079372406,-2.980232238769531e-07,0.3999997079372406,0.7999997138977051,1.1999996900558472,1.5999996662139893,1.999999761581421,2.3999996185302734,2.799999713897705,3.1999998092651367,3.5999996662139893,3.999999761581421,4.399999618530273,4.799999713897705,5.199999809265137,5.599999904632568,6.0,6.399999618530273,6.799999713897705,7.199999809265137,7.599999904632568,8.0,8.399999618530273,8.800000190734863,9.199999809265137,9.59999942779541,10.0,10.399999618530273,10.800000190734863,11.199999809265137,11.59999942779541,12.0,12.399999618530273,12.800000190734863,13.199999809265137,13.600000381469727,14.0,14.399999618530273,14.800000190734863,15.199999809265137,15.600000381469727,16.0,16.399999618530273,16.799999237060547,17.200000762939453,17.600000381469727,18.0,18.399999618530273,18.799999237060547,19.200000762939453,19.600000381469727,20.0],\"y\":[0.6536716818809509,0.6514333486557007,0.6491820216178894,0.6469176411628723,0.6446401476860046,0.6423499584197998,0.6400473117828369,0.6377320289611816,0.6354044079780579,0.6330646872520447,0.6307132840156555,0.6283496618270874,0.6259745955467224,0.6235877871513367,0.6211900115013123,0.6187809109687805,0.6163609027862549,0.6139301657676697,0.6114886999130249,0.6090369820594788,0.6065748333930969,0.6041030883789062,0.601621150970459,0.5991296768188477,0.5966287851333618,0.594118595123291,0.5915994644165039,0.5890713334083557,0.5865345001220703,0.5839897394180298,0.5814365148544312,0.5788752436637878,0.5763059854507446,0.5737293362617493,0.5711451172828674,0.5685538053512573,0.5659557580947876,0.5633506774902344,0.5607392191886902,0.558121383190155,0.5554974675178528,0.552867591381073,0.5502322316169739,0.5475912690162659,0.5449449419975281,0.5422934293746948,0.5396373867988586,0.5369765162467957,0.5343113541603088,0.531641960144043,0.5289685130119324,0.5262914299964905,0.5236107110977173,0.5209265947341919,0.5182391405105591,0.5155489444732666,0.5128560066223145,0.5101604461669922,0.5074625015258789,0.5047626495361328,0.5020607113838196,0.49935707449913025,0.4966519773006439,0.4939455986022949,0.4912378787994385,0.48852941393852234,0.4858202040195465,0.4831107258796692,0.48040059208869934,0.4776904881000519,0.4749804139137268,0.4722707271575928,0.46956130862236023,0.4668528735637665,0.4641450047492981,0.46143847703933716,0.45873305201530457,0.45602914690971375,0.453326940536499,0.4506264925003052,0.44792822003364563,0.4452321529388428,0.44253838062286377,0.4398476779460907,0.4371595084667206,0.43447449803352356,0.4317927360534668,0.4291142523288727,0.42643964290618896,0.42376863956451416,0.42110174894332886,0.41843920946121216,0.4157811105251312,0.413127601146698,0.410478800535202,0.4078352153301239,0.40519678592681885,0.40256404876708984,0.3999365270137787,0.3973153233528137,0.3946998715400696],\"type\":\"scatter\",\"xaxis\":\"x4\",\"yaxis\":\"y4\"},{\"legendgroup\":\"2\",\"line\":{\"color\":\"blue\"},\"name\":\"[17, 8]\",\"x\":[-20.0,-19.600000381469727,-19.200000762939453,-18.799999237060547,-18.399999618530273,-18.0,-17.600000381469727,-17.200000762939453,-16.799999237060547,-16.399999618530273,-16.0,-15.600000381469727,-15.199999809265137,-14.800000190734863,-14.399999618530273,-14.0,-13.600000381469727,-13.199999809265137,-12.800000190734863,-12.399999618530273,-12.0,-11.59999942779541,-11.199999809265137,-10.800000190734863,-10.399999618530273,-10.0,-9.59999942779541,-9.199999809265137,-8.800000190734863,-8.399999618530273,-8.0,-7.599999904632568,-7.199999809265137,-6.799999713897705,-6.399999618530273,-6.0,-5.599999904632568,-5.199999809265137,-4.799999713897705,-4.399999618530273,-3.999999761581421,-3.5999996662139893,-3.1999998092651367,-2.799999713897705,-2.3999996185302734,-1.999999761581421,-1.5999996662139893,-1.1999996900558472,-0.7999997138977051,-0.3999997079372406,-2.980232238769531e-07,0.3999997079372406,0.7999997138977051,1.1999996900558472,1.5999996662139893,1.999999761581421,2.3999996185302734,2.799999713897705,3.1999998092651367,3.5999996662139893,3.999999761581421,4.399999618530273,4.799999713897705,5.199999809265137,5.599999904632568,6.0,6.399999618530273,6.799999713897705,7.199999809265137,7.599999904632568,8.0,8.399999618530273,8.800000190734863,9.199999809265137,9.59999942779541,10.0,10.399999618530273,10.800000190734863,11.199999809265137,11.59999942779541,12.0,12.399999618530273,12.800000190734863,13.199999809265137,13.600000381469727,14.0,14.399999618530273,14.800000190734863,15.199999809265137,15.600000381469727,16.0,16.399999618530273,16.799999237060547,17.200000762939453,17.600000381469727,18.0,18.399999618530273,18.799999237060547,19.200000762939453,19.600000381469727,20.0],\"y\":[0.45044276118278503,0.4490211606025696,0.44759076833724976,0.44615182280540466,0.444704532623291,0.4432488977909088,0.4417853355407715,0.44031384587287903,0.438834547996521,0.4373478889465332,0.4358537793159485,0.43435245752334595,0.4328443706035614,0.4313293993473053,0.4298079311847687,0.4282801151275635,0.4267461895942688,0.4252062141895294,0.4236605167388916,0.4221094846725464,0.4205529987812042,0.41899144649505615,0.4174250364303589,0.41585400700569153,0.4142785966396332,0.4126988351345062,0.41111528873443604,0.4095279574394226,0.40793704986572266,0.40634286403656006,0.40474560856819153,0.40314558148384094,0.401542991399765,0.3999379277229309,0.39833077788352966,0.39672163128852844,0.3951109051704407,0.3934987187385559,0.391885370016098,0.390270859003067,0.3886556625366211,0.38703984022140503,0.38542380928993225,0.3838076889514923,0.38219159841537476,0.38057586550712585,0.3789606988430023,0.3773462176322937,0.37573274970054626,0.3741205334663391,0.37250956892967224,0.37090033292770386,0.36929285526275635,0.3676873743534088,0.36608409881591797,0.3644830584526062,0.3628848195075989,0.36128926277160645,0.359696626663208,0.3581070303916931,0.3565208613872528,0.3549380302429199,0.3533589541912079,0.3517836034297943,0.3502121567726135,0.348644882440567,0.34708189964294434,0.3455231785774231,0.34396910667419434,0.34241971373558044,0.3408750593662262,0.33933547139167786,0.3378008306026459,0.3362714946269989,0.33474746346473694,0.3332287073135376,0.33171558380126953,0.33020806312561035,0.32870617508888245,0.3272101581096649,0.32572004199028015,0.3242359757423401,0.3227578401565552,0.3212859034538269,0.31982022523880005,0.3183608055114746,0.3169076442718506,0.31546086072921753,0.3140205442905426,0.3125867247581482,0.3111594617366791,0.30973878502845764,0.3083246052265167,0.30691710114479065,0.3055163025856018,0.30412209033966064,0.3027346730232239,0.30135399103164673,0.2999799847602844,0.2986127436161041,0.2972521185874939],\"type\":\"scatter\",\"xaxis\":\"x4\",\"yaxis\":\"y4\"},{\"legendgroup\":\"3\",\"line\":{\"color\":\"purple\"},\"name\":\"[22, 12]\",\"x\":[-20.0,-19.600000381469727,-19.200000762939453,-18.799999237060547,-18.399999618530273,-18.0,-17.600000381469727,-17.200000762939453,-16.799999237060547,-16.399999618530273,-16.0,-15.600000381469727,-15.199999809265137,-14.800000190734863,-14.399999618530273,-14.0,-13.600000381469727,-13.199999809265137,-12.800000190734863,-12.399999618530273,-12.0,-11.59999942779541,-11.199999809265137,-10.800000190734863,-10.399999618530273,-10.0,-9.59999942779541,-9.199999809265137,-8.800000190734863,-8.399999618530273,-8.0,-7.599999904632568,-7.199999809265137,-6.799999713897705,-6.399999618530273,-6.0,-5.599999904632568,-5.199999809265137,-4.799999713897705,-4.399999618530273,-3.999999761581421,-3.5999996662139893,-3.1999998092651367,-2.799999713897705,-2.3999996185302734,-1.999999761581421,-1.5999996662139893,-1.1999996900558472,-0.7999997138977051,-0.3999997079372406,-2.980232238769531e-07,0.3999997079372406,0.7999997138977051,1.1999996900558472,1.5999996662139893,1.999999761581421,2.3999996185302734,2.799999713897705,3.1999998092651367,3.5999996662139893,3.999999761581421,4.399999618530273,4.799999713897705,5.199999809265137,5.599999904632568,6.0,6.399999618530273,6.799999713897705,7.199999809265137,7.599999904632568,8.0,8.399999618530273,8.800000190734863,9.199999809265137,9.59999942779541,10.0,10.399999618530273,10.800000190734863,11.199999809265137,11.59999942779541,12.0,12.399999618530273,12.800000190734863,13.199999809265137,13.600000381469727,14.0,14.399999618530273,14.800000190734863,15.199999809265137,15.600000381469727,16.0,16.399999618530273,16.799999237060547,17.200000762939453,17.600000381469727,18.0,18.399999618530273,18.799999237060547,19.200000762939453,19.600000381469727,20.0],\"y\":[0.016463685780763626,0.017573583871126175,0.018672924488782883,0.019761785864830017,0.02083982527256012,0.021907050162553787,0.022963393479585648,0.024008560925722122,0.025042671710252762,0.026065412908792496,0.027076713740825653,0.028076618909835815,0.02906489372253418,0.030041474848985672,0.031006276607513428,0.03195910528302193,0.03290000930428505,0.03382890298962593,0.03474556282162666,0.03565000370144844,0.036542151123285294,0.03742184862494469,0.038289036601781845,0.03914368525147438,0.039985738694667816,0.04081512242555618,0.04163170978426933,0.04243558645248413,0.0432264469563961,0.0440044105052948,0.04476938769221306,0.045521244406700134,0.04626013711094856,0.04698584973812103,0.047698333859443665,0.0483977235853672,0.04908391460776329,0.049756769090890884,0.0504162572324276,0.05106247588992119,0.05169537290930748,0.05231493338942528,0.05292106419801712,0.053513918071985245,0.05409342795610428,0.0546594001352787,0.0552121177315712,0.05575147643685341,0.05627744644880295,0.05679004266858101,0.05728930979967117,0.05777539685368538,0.05824803560972214,0.058707352727651596,0.05915375426411629,0.059586673974990845,0.06000669300556183,0.06041346862912178,0.0608072392642498,0.061188068240880966,0.061555877327919006,0.06191088259220123,0.06225304305553436,0.06258243322372437,0.06289917230606079,0.06320329010486603,0.06349492073059082,0.06377405673265457,0.06404086947441101,0.06429541110992432,0.06453773379325867,0.06476803869009018,0.06498633325099945,0.0651928186416626,0.06538742035627365,0.06557042896747589,0.06574176251888275,0.0659017562866211,0.0660504624247551,0.06618785113096237,0.06631427258253098,0.06642971932888031,0.06653424352407455,0.06662819534540176,0.06671150028705597,0.0667843297123909,0.06684701144695282,0.06689950823783875,0.06694193929433823,0.06697455048561096,0.06699738651514053,0.06701073050498962,0.06701458990573883,0.06700916588306427,0.06699468195438385,0.06697119027376175,0.0669388696551323,0.0668979212641716,0.06684838235378265,0.06679059565067291,0.0667245164513588],\"type\":\"scatter\",\"xaxis\":\"x4\",\"yaxis\":\"y4\"},{\"legendgroup\":\"4\",\"line\":{\"color\":\"turquoise\"},\"name\":\"[19, 10]\",\"x\":[-20.0,-19.600000381469727,-19.200000762939453,-18.799999237060547,-18.399999618530273,-18.0,-17.600000381469727,-17.200000762939453,-16.799999237060547,-16.399999618530273,-16.0,-15.600000381469727,-15.199999809265137,-14.800000190734863,-14.399999618530273,-14.0,-13.600000381469727,-13.199999809265137,-12.800000190734863,-12.399999618530273,-12.0,-11.59999942779541,-11.199999809265137,-10.800000190734863,-10.399999618530273,-10.0,-9.59999942779541,-9.199999809265137,-8.800000190734863,-8.399999618530273,-8.0,-7.599999904632568,-7.199999809265137,-6.799999713897705,-6.399999618530273,-6.0,-5.599999904632568,-5.199999809265137,-4.799999713897705,-4.399999618530273,-3.999999761581421,-3.5999996662139893,-3.1999998092651367,-2.799999713897705,-2.3999996185302734,-1.999999761581421,-1.5999996662139893,-1.1999996900558472,-0.7999997138977051,-0.3999997079372406,-2.980232238769531e-07,0.3999997079372406,0.7999997138977051,1.1999996900558472,1.5999996662139893,1.999999761581421,2.3999996185302734,2.799999713897705,3.1999998092651367,3.5999996662139893,3.999999761581421,4.399999618530273,4.799999713897705,5.199999809265137,5.599999904632568,6.0,6.399999618530273,6.799999713897705,7.199999809265137,7.599999904632568,8.0,8.399999618530273,8.800000190734863,9.199999809265137,9.59999942779541,10.0,10.399999618530273,10.800000190734863,11.199999809265137,11.59999942779541,12.0,12.399999618530273,12.800000190734863,13.199999809265137,13.600000381469727,14.0,14.399999618530273,14.800000190734863,15.199999809265137,15.600000381469727,16.0,16.399999618530273,16.799999237060547,17.200000762939453,17.600000381469727,18.0,18.399999618530273,18.799999237060547,19.200000762939453,19.600000381469727,20.0],\"y\":[-0.14200137555599213,-0.14219625294208527,-0.14238518476486206,-0.14256787300109863,-0.1427440494298935,-0.14291366934776306,-0.1430770456790924,-0.14323358237743378,-0.1433834433555603,-0.14352619647979736,-0.14366242289543152,-0.14379149675369263,-0.14391350746154785,-0.14402851462364197,-0.144135981798172,-0.14423632621765137,-0.1443290114402771,-0.14441457390785217,-0.144492506980896,-0.14456290006637573,-0.14462557435035706,-0.1446804702281952,-0.14472781121730804,-0.14476710557937622,-0.1447983980178833,-0.14482200145721436,-0.14483734965324402,-0.14484483003616333,-0.1448441445827484,-0.14483535289764404,-0.14481855928897858,-0.14479312300682068,-0.14475984871387482,-0.1447182595729828,-0.144668310880661,-0.14461010694503784,-0.1445433795452118,-0.1444685459136963,-0.14438506960868835,-0.14429312944412231,-0.14419308304786682,-0.1440843641757965,-0.1439671814441681,-0.1438416987657547,-0.14370757341384888,-0.14356526732444763,-0.14341425895690918,-0.1432550549507141,-0.143087238073349,-0.14291107654571533,-0.14272646605968475,-0.14253370463848114,-0.1423322558403015,-0.14212268590927124,-0.1419045329093933,-0.14167845249176025,-0.14144401252269745,-0.1412012279033661,-0.1409502923488617,-0.14069125056266785,-0.14042425155639648,-0.14014898240566254,-0.13986575603485107,-0.13957473635673523,-0.13927575945854187,-0.13896895945072174,-0.13865439593791962,-0.13833200931549072,-0.1380019634962082,-0.1376645714044571,-0.1373196542263031,-0.13696733117103577,-0.13660745322704315,-0.13624043762683868,-0.13586625456809998,-0.13548490405082703,-0.1350969523191452,-0.1347016990184784,-0.1342998743057251,-0.13389118015766144,-0.13347604870796204,-0.13305440545082092,-0.1326264888048172,-0.13219228386878967,-0.13175177574157715,-0.13130536675453186,-0.13085302710533142,-0.13039502501487732,-0.12993139028549194,-0.12946206331253052,-0.1289873868227005,-0.12850752472877502,-0.12802252173423767,-0.12753251194953918,-0.12703774869441986,-0.12653838098049164,-0.1260344237089157,-0.1255260705947876,-0.12501342594623566,-0.12449678033590317,-0.12397614121437073],\"type\":\"scatter\",\"xaxis\":\"x4\",\"yaxis\":\"y4\"},{\"legendgroup\":\"0\",\"line\":{\"color\":\"pink\"},\"name\":\"[15, 6]\",\"x\":[-20.0,-19.600000381469727,-19.200000762939453,-18.799999237060547,-18.399999618530273,-18.0,-17.600000381469727,-17.200000762939453,-16.799999237060547,-16.399999618530273,-16.0,-15.600000381469727,-15.199999809265137,-14.800000190734863,-14.399999618530273,-14.0,-13.600000381469727,-13.199999809265137,-12.800000190734863,-12.399999618530273,-12.0,-11.59999942779541,-11.199999809265137,-10.800000190734863,-10.399999618530273,-10.0,-9.59999942779541,-9.199999809265137,-8.800000190734863,-8.399999618530273,-8.0,-7.599999904632568,-7.199999809265137,-6.799999713897705,-6.399999618530273,-6.0,-5.599999904632568,-5.199999809265137,-4.799999713897705,-4.399999618530273,-3.999999761581421,-3.5999996662139893,-3.1999998092651367,-2.799999713897705,-2.3999996185302734,-1.999999761581421,-1.5999996662139893,-1.1999996900558472,-0.7999997138977051,-0.3999997079372406,-2.980232238769531e-07,0.3999997079372406,0.7999997138977051,1.1999996900558472,1.5999996662139893,1.999999761581421,2.3999996185302734,2.799999713897705,3.1999998092651367,3.5999996662139893,3.999999761581421,4.399999618530273,4.799999713897705,5.199999809265137,5.599999904632568,6.0,6.399999618530273,6.799999713897705,7.199999809265137,7.599999904632568,8.0,8.399999618530273,8.800000190734863,9.199999809265137,9.59999942779541,10.0,10.399999618530273,10.800000190734863,11.199999809265137,11.59999942779541,12.0,12.399999618530273,12.800000190734863,13.199999809265137,13.600000381469727,14.0,14.399999618530273,14.800000190734863,15.199999809265137,15.600000381469727,16.0,16.399999618530273,16.799999237060547,17.200000762939453,17.600000381469727,18.0,18.399999618530273,18.799999237060547,19.200000762939453,19.600000381469727,20.0],\"y\":[0.18339942395687103,0.18515479564666748,0.18691875040531158,0.18869151175022125,0.19047296047210693,0.19226321578025818,0.19406187534332275,0.19586920738220215,0.19768497347831726,0.19950948655605316,0.20134222507476807,0.2031828910112381,0.20503215491771698,0.20688961446285248,0.20875492691993713,0.2106284201145172,0.2125096321105957,0.2143988162279129,0.21629539132118225,0.21820056438446045,0.22011207044124603,0.2220315933227539,0.223958358168602,0.22589218616485596,0.22783339023590088,0.22978167235851288,0.2317367047071457,0.2336980551481247,0.23566682636737823,0.23764191567897797,0.23962271213531494,0.2416103333234787,0.2436039000749588,0.2456040233373642,0.2476092129945755,0.2496202439069748,0.25163698196411133,0.2536592185497284,0.2556860148906708,0.25771889090538025,0.259755939245224,0.26179811358451843,0.2638445794582367,0.26589593291282654,0.2679511606693268,0.27001023292541504,0.2720734179019928,0.274140328168869,0.27621084451675415,0.2782844007015228,0.2803612947463989,0.28244152665138245,0.28452402353286743,0.28660908341407776,0.2886965274810791,0.29078617691993713,0.292877733707428,0.29497143626213074,0.2970660626888275,0.2991623878479004,0.30125951766967773,0.3033578395843506,0.30545705556869507,0.30755630135536194,0.30965596437454224,0.3117556869983673,0.31385526061058044,0.3159543573856354,0.31805291771888733,0.32015061378479004,0.3222474157810211,0.32434260845184326,0.3264363706111908,0.32852861285209656,0.3306187093257904,0.3327065110206604,0.33479204773902893,0.3368750512599945,0.33895495533943176,0.3410319983959198,0.34310558438301086,0.3451758325099945,0.3472417891025543,0.3493042588233948,0.35136255621910095,0.3534163236618042,0.35546523332595825,0.3575098514556885,0.3595488965511322,0.36158284544944763,0.3636111319065094,0.3656340539455414,0.36765074729919434,0.3696616291999817,0.3716658353805542,0.37366369366645813,0.3756549060344696,0.37763911485671997,0.37961623072624207,0.38158583641052246,0.38354796171188354],\"type\":\"scatter\",\"xaxis\":\"x5\",\"yaxis\":\"y5\"},{\"legendgroup\":\"1\",\"line\":{\"color\":\"darkviolet\"},\"name\":\"[20, 7]\",\"x\":[-20.0,-19.600000381469727,-19.200000762939453,-18.799999237060547,-18.399999618530273,-18.0,-17.600000381469727,-17.200000762939453,-16.799999237060547,-16.399999618530273,-16.0,-15.600000381469727,-15.199999809265137,-14.800000190734863,-14.399999618530273,-14.0,-13.600000381469727,-13.199999809265137,-12.800000190734863,-12.399999618530273,-12.0,-11.59999942779541,-11.199999809265137,-10.800000190734863,-10.399999618530273,-10.0,-9.59999942779541,-9.199999809265137,-8.800000190734863,-8.399999618530273,-8.0,-7.599999904632568,-7.199999809265137,-6.799999713897705,-6.399999618530273,-6.0,-5.599999904632568,-5.199999809265137,-4.799999713897705,-4.399999618530273,-3.999999761581421,-3.5999996662139893,-3.1999998092651367,-2.799999713897705,-2.3999996185302734,-1.999999761581421,-1.5999996662139893,-1.1999996900558472,-0.7999997138977051,-0.3999997079372406,-2.980232238769531e-07,0.3999997079372406,0.7999997138977051,1.1999996900558472,1.5999996662139893,1.999999761581421,2.3999996185302734,2.799999713897705,3.1999998092651367,3.5999996662139893,3.999999761581421,4.399999618530273,4.799999713897705,5.199999809265137,5.599999904632568,6.0,6.399999618530273,6.799999713897705,7.199999809265137,7.599999904632568,8.0,8.399999618530273,8.800000190734863,9.199999809265137,9.59999942779541,10.0,10.399999618530273,10.800000190734863,11.199999809265137,11.59999942779541,12.0,12.399999618530273,12.800000190734863,13.199999809265137,13.600000381469727,14.0,14.399999618530273,14.800000190734863,15.199999809265137,15.600000381469727,16.0,16.399999618530273,16.799999237060547,17.200000762939453,17.600000381469727,18.0,18.399999618530273,18.799999237060547,19.200000762939453,19.600000381469727,20.0],\"y\":[0.23926658928394318,0.24129366874694824,0.2433333843946457,0.24538598954677582,0.24745140969753265,0.24952936172485352,0.2516196370124817,0.2537224292755127,0.25583750009536743,0.2579646110534668,0.2601035535335541,0.2622545659542084,0.26441726088523865,0.2665916383266449,0.26877737045288086,0.2709745168685913,0.27318274974823,0.2754019796848297,0.2776322364807129,0.2798730432987213,0.28212451934814453,0.2843862473964691,0.2866583466529846,0.2889404892921448,0.29123246669769287,0.29353412985801697,0.2958454489707947,0.2981662452220917,0.3004961609840393,0.3028348386287689,0.30518242716789246,0.30753880739212036,0.30990371108055115,0.312276691198349,0.31465810537338257,0.31704720854759216,0.31944379210472107,0.32184815406799316,0.32425975799560547,0.32667842507362366,0.3291040062904358,0.3315364420413971,0.33397525548934937,0.3364203870296478,0.3388718068599701,0.34132930636405945,0.34379228949546814,0.34626102447509766,0.34873485565185547,0.3512139618396759,0.3536980152130127,0.3561866283416748,0.35867995023727417,0.36117762327194214,0.3636796176433563,0.3661852478981018,0.3686947822570801,0.3712078630924225,0.3737243413925171,0.37624379992485046,0.37876635789871216,0.38129162788391113,0.38381943106651306,0.3863496482372284,0.388882040977478,0.39141643047332764,0.3939525783061981,0.3964901864528656,0.39902931451797485,0.4015696048736572,0.4041110575199127,0.4066530168056488,0.4091959595680237,0.41173896193504333,0.41428253054618835,0.4168258607387543,0.4193692207336426,0.42191219329833984,0.4244546592235565,0.4269963800907135,0.4295371174812317,0.43207675218582153,0.4346153736114502,0.43715205788612366,0.4396873414516449,0.44222068786621094,0.44475194811820984,0.44728097319602966,0.4498074948787689,0.4523316025733948,0.45485273003578186,0.4573707580566406,0.4598855972290039,0.46239709854125977,0.46490517258644104,0.4674091041088104,0.46990928053855896,0.4724050462245941,0.4748968183994293,0.47738367319107056,0.47986599802970886],\"type\":\"scatter\",\"xaxis\":\"x5\",\"yaxis\":\"y5\"},{\"legendgroup\":\"2\",\"line\":{\"color\":\"blue\"},\"name\":\"[17, 8]\",\"x\":[-20.0,-19.600000381469727,-19.200000762939453,-18.799999237060547,-18.399999618530273,-18.0,-17.600000381469727,-17.200000762939453,-16.799999237060547,-16.399999618530273,-16.0,-15.600000381469727,-15.199999809265137,-14.800000190734863,-14.399999618530273,-14.0,-13.600000381469727,-13.199999809265137,-12.800000190734863,-12.399999618530273,-12.0,-11.59999942779541,-11.199999809265137,-10.800000190734863,-10.399999618530273,-10.0,-9.59999942779541,-9.199999809265137,-8.800000190734863,-8.399999618530273,-8.0,-7.599999904632568,-7.199999809265137,-6.799999713897705,-6.399999618530273,-6.0,-5.599999904632568,-5.199999809265137,-4.799999713897705,-4.399999618530273,-3.999999761581421,-3.5999996662139893,-3.1999998092651367,-2.799999713897705,-2.3999996185302734,-1.999999761581421,-1.5999996662139893,-1.1999996900558472,-0.7999997138977051,-0.3999997079372406,-2.980232238769531e-07,0.3999997079372406,0.7999997138977051,1.1999996900558472,1.5999996662139893,1.999999761581421,2.3999996185302734,2.799999713897705,3.1999998092651367,3.5999996662139893,3.999999761581421,4.399999618530273,4.799999713897705,5.199999809265137,5.599999904632568,6.0,6.399999618530273,6.799999713897705,7.199999809265137,7.599999904632568,8.0,8.399999618530273,8.800000190734863,9.199999809265137,9.59999942779541,10.0,10.399999618530273,10.800000190734863,11.199999809265137,11.59999942779541,12.0,12.399999618530273,12.800000190734863,13.199999809265137,13.600000381469727,14.0,14.399999618530273,14.800000190734863,15.199999809265137,15.600000381469727,16.0,16.399999618530273,16.799999237060547,17.200000762939453,17.600000381469727,18.0,18.399999618530273,18.799999237060547,19.200000762939453,19.600000381469727,20.0],\"y\":[0.1905372589826584,0.19185662269592285,0.19318315386772156,0.1945166438817978,0.1958572119474411,0.1972046196460724,0.19855883717536926,0.19991973042488098,0.2012873739004135,0.20266146957874298,0.20404203236103058,0.20542900264263153,0.2068222016096115,0.20822159945964813,0.2096269130706787,0.21103830635547638,0.21245534718036652,0.21387825906276703,0.2153066247701645,0.2167404145002365,0.2181795835494995,0.21962399780750275,0.22107338905334473,0.22252769768238068,0.22398678958415985,0.22545044124126434,0.22691862285137177,0.22839117050170898,0.22986789047718048,0.23134851455688477,0.23283305764198303,0.23432140052318573,0.23581306636333466,0.23730821907520294,0.23880663514137268,0.2403080314397812,0.24181227385997772,0.24331915378570557,0.24482861161231995,0.24634042382240295,0.2478543519973755,0.24937041103839874,0.2508881688117981,0.2524075210094452,0.25392839312553406,0.2554504871368408,0.2569736838340759,0.25849780440330505,0.26002269983291626,0.2615480422973633,0.2630738615989685,0.2645997703075409,0.2661256790161133,0.26765140891075134,0.26917678117752075,0.27070167660713196,0.2722257077693939,0.2737489640712738,0.27527114748954773,0.276792049407959,0.2783113718032837,0.27982935309410095,0.2813453674316406,0.2828595042228699,0.28437167406082153,0.285881370306015,0.2873886525630951,0.288893461227417,0.2903953194618225,0.2918942868709564,0.29339033365249634,0.2948829233646393,0.29637226462364197,0.29785799980163574,0.29934006929397583,0.30081838369369507,0.3022926449775696,0.30376285314559937,0.3052287697792053,0.30669036507606506,0.30814751982688904,0.30959978699684143,0.3110475242137909,0.3124903738498688,0.3139280676841736,0.31536075472831726,0.3167882263660431,0.3182103633880615,0.31962698698043823,0.321038156747818,0.3224436938762665,0.3238433301448822,0.32523733377456665,0.3266253173351288,0.328007310628891,0.32938313484191895,0.3307528495788574,0.3321162164211273,0.33347344398498535,0.3348240554332733,0.3361683487892151],\"type\":\"scatter\",\"xaxis\":\"x5\",\"yaxis\":\"y5\"},{\"legendgroup\":\"3\",\"line\":{\"color\":\"purple\"},\"name\":\"[22, 12]\",\"x\":[-20.0,-19.600000381469727,-19.200000762939453,-18.799999237060547,-18.399999618530273,-18.0,-17.600000381469727,-17.200000762939453,-16.799999237060547,-16.399999618530273,-16.0,-15.600000381469727,-15.199999809265137,-14.800000190734863,-14.399999618530273,-14.0,-13.600000381469727,-13.199999809265137,-12.800000190734863,-12.399999618530273,-12.0,-11.59999942779541,-11.199999809265137,-10.800000190734863,-10.399999618530273,-10.0,-9.59999942779541,-9.199999809265137,-8.800000190734863,-8.399999618530273,-8.0,-7.599999904632568,-7.199999809265137,-6.799999713897705,-6.399999618530273,-6.0,-5.599999904632568,-5.199999809265137,-4.799999713897705,-4.399999618530273,-3.999999761581421,-3.5999996662139893,-3.1999998092651367,-2.799999713897705,-2.3999996185302734,-1.999999761581421,-1.5999996662139893,-1.1999996900558472,-0.7999997138977051,-0.3999997079372406,-2.980232238769531e-07,0.3999997079372406,0.7999997138977051,1.1999996900558472,1.5999996662139893,1.999999761581421,2.3999996185302734,2.799999713897705,3.1999998092651367,3.5999996662139893,3.999999761581421,4.399999618530273,4.799999713897705,5.199999809265137,5.599999904632568,6.0,6.399999618530273,6.799999713897705,7.199999809265137,7.599999904632568,8.0,8.399999618530273,8.800000190734863,9.199999809265137,9.59999942779541,10.0,10.399999618530273,10.800000190734863,11.199999809265137,11.59999942779541,12.0,12.399999618530273,12.800000190734863,13.199999809265137,13.600000381469727,14.0,14.399999618530273,14.800000190734863,15.199999809265137,15.600000381469727,16.0,16.399999618530273,16.799999237060547,17.200000762939453,17.600000381469727,18.0,18.399999618530273,18.799999237060547,19.200000762939453,19.600000381469727,20.0],\"y\":[0.27676984667778015,0.2794214189052582,0.28208568692207336,0.2847622334957123,0.2874508798122406,0.2901516854763031,0.29286429286003113,0.2955884635448456,0.29832419753074646,0.3010709583759308,0.30382880568504333,0.30659735202789307,0.3093765676021576,0.3121660649776459,0.3149658739566803,0.3177754580974579,0.32059478759765625,0.32342347502708435,0.32626160979270935,0.32910868525505066,0.3319644033908844,0.33482876420021057,0.33770138025283813,0.34058186411857605,0.3434703052043915,0.34636613726615906,0.3492691218852997,0.35217925906181335,0.35509610176086426,0.35801956057548523,0.3609490990638733,0.3638845980167389,0.366825670003891,0.3697720468044281,0.37272366881370544,0.37568017840385437,0.37864118814468384,0.38160625100135803,0.3845754861831665,0.38754841685295105,0.39052459597587585,0.3935040533542633,0.3964862525463104,0.39947089552879333,0.40245771408081055,0.40544643998146057,0.4084368348121643,0.4114285409450531,0.4144211709499359,0.41741466522216797,0.42040833830833435,0.42340216040611267,0.42639580368995667,0.4293888509273529,0.43238112330436707,0.43537211418151855,0.43836164474487305,0.44134950637817383,0.4443351924419403,0.4473184645175934,0.4502990245819092,0.45327648520469666,0.4562505781650543,0.45922112464904785,0.46218761801719666,0.46514996886253357,0.4681076109409332,0.4710603356361389,0.47400781512260437,0.47694993019104004,0.4798860251903534,0.48281627893447876,0.4857396185398102,0.48865652084350586,0.4915664792060852,0.49446901679039,0.49736395478248596,0.5002509951591492,0.5031296610832214,0.5059999227523804,0.5088614821434021,0.5117139220237732,0.5145569443702698,0.5173903703689575,0.5202139616012573,0.5230274200439453,0.5258304476737976,0.5286226272583008,0.5314039587974548,0.5341740846633911,0.5369327068328857,0.5396794676780701,0.5424144864082336,0.545137345790863,0.5478476881980896,0.550545334815979,0.5532301068305969,0.5559017062187195,0.5585601925849915,0.5612048506736755,0.5638360381126404],\"type\":\"scatter\",\"xaxis\":\"x5\",\"yaxis\":\"y5\"},{\"legendgroup\":\"4\",\"line\":{\"color\":\"turquoise\"},\"name\":\"[19, 10]\",\"x\":[-20.0,-19.600000381469727,-19.200000762939453,-18.799999237060547,-18.399999618530273,-18.0,-17.600000381469727,-17.200000762939453,-16.799999237060547,-16.399999618530273,-16.0,-15.600000381469727,-15.199999809265137,-14.800000190734863,-14.399999618530273,-14.0,-13.600000381469727,-13.199999809265137,-12.800000190734863,-12.399999618530273,-12.0,-11.59999942779541,-11.199999809265137,-10.800000190734863,-10.399999618530273,-10.0,-9.59999942779541,-9.199999809265137,-8.800000190734863,-8.399999618530273,-8.0,-7.599999904632568,-7.199999809265137,-6.799999713897705,-6.399999618530273,-6.0,-5.599999904632568,-5.199999809265137,-4.799999713897705,-4.399999618530273,-3.999999761581421,-3.5999996662139893,-3.1999998092651367,-2.799999713897705,-2.3999996185302734,-1.999999761581421,-1.5999996662139893,-1.1999996900558472,-0.7999997138977051,-0.3999997079372406,-2.980232238769531e-07,0.3999997079372406,0.7999997138977051,1.1999996900558472,1.5999996662139893,1.999999761581421,2.3999996185302734,2.799999713897705,3.1999998092651367,3.5999996662139893,3.999999761581421,4.399999618530273,4.799999713897705,5.199999809265137,5.599999904632568,6.0,6.399999618530273,6.799999713897705,7.199999809265137,7.599999904632568,8.0,8.399999618530273,8.800000190734863,9.199999809265137,9.59999942779541,10.0,10.399999618530273,10.800000190734863,11.199999809265137,11.59999942779541,12.0,12.399999618530273,12.800000190734863,13.199999809265137,13.600000381469727,14.0,14.399999618530273,14.800000190734863,15.199999809265137,15.600000381469727,16.0,16.399999618530273,16.799999237060547,17.200000762939453,17.600000381469727,18.0,18.399999618530273,18.799999237060547,19.200000762939453,19.600000381469727,20.0],\"y\":[0.07258068770170212,0.07354771345853806,0.07452496886253357,0.07551257312297821,0.0765104740858078,0.07751887291669846,0.07853769510984421,0.0795670747756958,0.08060705661773682,0.08165762573480606,0.0827188789844513,0.0837908610701561,0.08487357944250107,0.0859670639038086,0.08707141876220703,0.08818677812814713,0.08931292593479156,0.09045001119375229,0.09159820526838303,0.09275736659765244,0.09392763674259186,0.09510894119739532,0.0963013619184494,0.09750498831272125,0.0987197682261467,0.09994566440582275,0.10118287801742554,0.1024312973022461,0.1036909818649292,0.10496188700199127,0.10624408721923828,0.10753756761550903,0.10884232819080353,0.11015830188989639,0.11148571223020554,0.11282433569431305,0.11417417973279953,0.11553537845611572,0.11690785735845566,0.11829155683517456,0.11968647688627243,0.12109266966581345,0.12251000851392746,0.12393846362829208,0.12537816166877747,0.12682895362377167,0.1282907873392105,0.1297636479139328,0.13124755024909973,0.13274236023426056,0.1342480331659317,0.13576452434062958,0.13729190826416016,0.13882987201213837,0.14037854969501495,0.14193788170814514,0.14350762963294983,0.1450878232717514,0.14667831361293793,0.1482791304588318,0.14989009499549866,0.15151117742061615,0.15314219892024994,0.15478305518627167,0.15643367171287537,0.15809403359889984,0.15976381301879883,0.16144311428070068,0.16313162446022034,0.16482926905155182,0.16653601825237274,0.16825157403945923,0.16997580230236053,0.1717086285352707,0.1734498292207718,0.17519943416118622,0.17695701122283936,0.17872254550457,0.18049584329128265,0.1822766810655594,0.1840648204088211,0.185860276222229,0.18766264617443085,0.18947187066078186,0.1912875920534134,0.1931096911430359,0.19493794441223145,0.19677220284938812,0.19861216843128204,0.20045757293701172,0.20230846107006073,0.204164057970047,0.2060246467590332,0.20788970589637756,0.20975904166698456,0.2116324007511139,0.21350963413715363,0.21539032459259033,0.2172742336988449,0.2191610336303711,0.22105073928833008],\"type\":\"scatter\",\"xaxis\":\"x5\",\"yaxis\":\"y5\"}],                        {\"template\":{\"data\":{\"histogram2dcontour\":[{\"type\":\"histogram2dcontour\",\"colorbar\":{\"outlinewidth\":0,\"ticks\":\"\"},\"colorscale\":[[0.0,\"#0d0887\"],[0.1111111111111111,\"#46039f\"],[0.2222222222222222,\"#7201a8\"],[0.3333333333333333,\"#9c179e\"],[0.4444444444444444,\"#bd3786\"],[0.5555555555555556,\"#d8576b\"],[0.6666666666666666,\"#ed7953\"],[0.7777777777777778,\"#fb9f3a\"],[0.8888888888888888,\"#fdca26\"],[1.0,\"#f0f921\"]]}],\"choropleth\":[{\"type\":\"choropleth\",\"colorbar\":{\"outlinewidth\":0,\"ticks\":\"\"}}],\"histogram2d\":[{\"type\":\"histogram2d\",\"colorbar\":{\"outlinewidth\":0,\"ticks\":\"\"},\"colorscale\":[[0.0,\"#0d0887\"],[0.1111111111111111,\"#46039f\"],[0.2222222222222222,\"#7201a8\"],[0.3333333333333333,\"#9c179e\"],[0.4444444444444444,\"#bd3786\"],[0.5555555555555556,\"#d8576b\"],[0.6666666666666666,\"#ed7953\"],[0.7777777777777778,\"#fb9f3a\"],[0.8888888888888888,\"#fdca26\"],[1.0,\"#f0f921\"]]}],\"heatmap\":[{\"type\":\"heatmap\",\"colorbar\":{\"outlinewidth\":0,\"ticks\":\"\"},\"colorscale\":[[0.0,\"#0d0887\"],[0.1111111111111111,\"#46039f\"],[0.2222222222222222,\"#7201a8\"],[0.3333333333333333,\"#9c179e\"],[0.4444444444444444,\"#bd3786\"],[0.5555555555555556,\"#d8576b\"],[0.6666666666666666,\"#ed7953\"],[0.7777777777777778,\"#fb9f3a\"],[0.8888888888888888,\"#fdca26\"],[1.0,\"#f0f921\"]]}],\"heatmapgl\":[{\"type\":\"heatmapgl\",\"colorbar\":{\"outlinewidth\":0,\"ticks\":\"\"},\"colorscale\":[[0.0,\"#0d0887\"],[0.1111111111111111,\"#46039f\"],[0.2222222222222222,\"#7201a8\"],[0.3333333333333333,\"#9c179e\"],[0.4444444444444444,\"#bd3786\"],[0.5555555555555556,\"#d8576b\"],[0.6666666666666666,\"#ed7953\"],[0.7777777777777778,\"#fb9f3a\"],[0.8888888888888888,\"#fdca26\"],[1.0,\"#f0f921\"]]}],\"contourcarpet\":[{\"type\":\"contourcarpet\",\"colorbar\":{\"outlinewidth\":0,\"ticks\":\"\"}}],\"contour\":[{\"type\":\"contour\",\"colorbar\":{\"outlinewidth\":0,\"ticks\":\"\"},\"colorscale\":[[0.0,\"#0d0887\"],[0.1111111111111111,\"#46039f\"],[0.2222222222222222,\"#7201a8\"],[0.3333333333333333,\"#9c179e\"],[0.4444444444444444,\"#bd3786\"],[0.5555555555555556,\"#d8576b\"],[0.6666666666666666,\"#ed7953\"],[0.7777777777777778,\"#fb9f3a\"],[0.8888888888888888,\"#fdca26\"],[1.0,\"#f0f921\"]]}],\"surface\":[{\"type\":\"surface\",\"colorbar\":{\"outlinewidth\":0,\"ticks\":\"\"},\"colorscale\":[[0.0,\"#0d0887\"],[0.1111111111111111,\"#46039f\"],[0.2222222222222222,\"#7201a8\"],[0.3333333333333333,\"#9c179e\"],[0.4444444444444444,\"#bd3786\"],[0.5555555555555556,\"#d8576b\"],[0.6666666666666666,\"#ed7953\"],[0.7777777777777778,\"#fb9f3a\"],[0.8888888888888888,\"#fdca26\"],[1.0,\"#f0f921\"]]}],\"mesh3d\":[{\"type\":\"mesh3d\",\"colorbar\":{\"outlinewidth\":0,\"ticks\":\"\"}}],\"scatter\":[{\"fillpattern\":{\"fillmode\":\"overlay\",\"size\":10,\"solidity\":0.2},\"type\":\"scatter\"}],\"parcoords\":[{\"type\":\"parcoords\",\"line\":{\"colorbar\":{\"outlinewidth\":0,\"ticks\":\"\"}}}],\"scatterpolargl\":[{\"type\":\"scatterpolargl\",\"marker\":{\"colorbar\":{\"outlinewidth\":0,\"ticks\":\"\"}}}],\"bar\":[{\"error_x\":{\"color\":\"#2a3f5f\"},\"error_y\":{\"color\":\"#2a3f5f\"},\"marker\":{\"line\":{\"color\":\"#E5ECF6\",\"width\":0.5},\"pattern\":{\"fillmode\":\"overlay\",\"size\":10,\"solidity\":0.2}},\"type\":\"bar\"}],\"scattergeo\":[{\"type\":\"scattergeo\",\"marker\":{\"colorbar\":{\"outlinewidth\":0,\"ticks\":\"\"}}}],\"scatterpolar\":[{\"type\":\"scatterpolar\",\"marker\":{\"colorbar\":{\"outlinewidth\":0,\"ticks\":\"\"}}}],\"histogram\":[{\"marker\":{\"pattern\":{\"fillmode\":\"overlay\",\"size\":10,\"solidity\":0.2}},\"type\":\"histogram\"}],\"scattergl\":[{\"type\":\"scattergl\",\"marker\":{\"colorbar\":{\"outlinewidth\":0,\"ticks\":\"\"}}}],\"scatter3d\":[{\"type\":\"scatter3d\",\"line\":{\"colorbar\":{\"outlinewidth\":0,\"ticks\":\"\"}},\"marker\":{\"colorbar\":{\"outlinewidth\":0,\"ticks\":\"\"}}}],\"scattermapbox\":[{\"type\":\"scattermapbox\",\"marker\":{\"colorbar\":{\"outlinewidth\":0,\"ticks\":\"\"}}}],\"scatterternary\":[{\"type\":\"scatterternary\",\"marker\":{\"colorbar\":{\"outlinewidth\":0,\"ticks\":\"\"}}}],\"scattercarpet\":[{\"type\":\"scattercarpet\",\"marker\":{\"colorbar\":{\"outlinewidth\":0,\"ticks\":\"\"}}}],\"carpet\":[{\"aaxis\":{\"endlinecolor\":\"#2a3f5f\",\"gridcolor\":\"white\",\"linecolor\":\"white\",\"minorgridcolor\":\"white\",\"startlinecolor\":\"#2a3f5f\"},\"baxis\":{\"endlinecolor\":\"#2a3f5f\",\"gridcolor\":\"white\",\"linecolor\":\"white\",\"minorgridcolor\":\"white\",\"startlinecolor\":\"#2a3f5f\"},\"type\":\"carpet\"}],\"table\":[{\"cells\":{\"fill\":{\"color\":\"#EBF0F8\"},\"line\":{\"color\":\"white\"}},\"header\":{\"fill\":{\"color\":\"#C8D4E3\"},\"line\":{\"color\":\"white\"}},\"type\":\"table\"}],\"barpolar\":[{\"marker\":{\"line\":{\"color\":\"#E5ECF6\",\"width\":0.5},\"pattern\":{\"fillmode\":\"overlay\",\"size\":10,\"solidity\":0.2}},\"type\":\"barpolar\"}],\"pie\":[{\"automargin\":true,\"type\":\"pie\"}]},\"layout\":{\"autotypenumbers\":\"strict\",\"colorway\":[\"#636efa\",\"#EF553B\",\"#00cc96\",\"#ab63fa\",\"#FFA15A\",\"#19d3f3\",\"#FF6692\",\"#B6E880\",\"#FF97FF\",\"#FECB52\"],\"font\":{\"color\":\"#2a3f5f\"},\"hovermode\":\"closest\",\"hoverlabel\":{\"align\":\"left\"},\"paper_bgcolor\":\"white\",\"plot_bgcolor\":\"#E5ECF6\",\"polar\":{\"bgcolor\":\"#E5ECF6\",\"angularaxis\":{\"gridcolor\":\"white\",\"linecolor\":\"white\",\"ticks\":\"\"},\"radialaxis\":{\"gridcolor\":\"white\",\"linecolor\":\"white\",\"ticks\":\"\"}},\"ternary\":{\"bgcolor\":\"#E5ECF6\",\"aaxis\":{\"gridcolor\":\"white\",\"linecolor\":\"white\",\"ticks\":\"\"},\"baxis\":{\"gridcolor\":\"white\",\"linecolor\":\"white\",\"ticks\":\"\"},\"caxis\":{\"gridcolor\":\"white\",\"linecolor\":\"white\",\"ticks\":\"\"}},\"coloraxis\":{\"colorbar\":{\"outlinewidth\":0,\"ticks\":\"\"}},\"colorscale\":{\"sequential\":[[0.0,\"#0d0887\"],[0.1111111111111111,\"#46039f\"],[0.2222222222222222,\"#7201a8\"],[0.3333333333333333,\"#9c179e\"],[0.4444444444444444,\"#bd3786\"],[0.5555555555555556,\"#d8576b\"],[0.6666666666666666,\"#ed7953\"],[0.7777777777777778,\"#fb9f3a\"],[0.8888888888888888,\"#fdca26\"],[1.0,\"#f0f921\"]],\"sequentialminus\":[[0.0,\"#0d0887\"],[0.1111111111111111,\"#46039f\"],[0.2222222222222222,\"#7201a8\"],[0.3333333333333333,\"#9c179e\"],[0.4444444444444444,\"#bd3786\"],[0.5555555555555556,\"#d8576b\"],[0.6666666666666666,\"#ed7953\"],[0.7777777777777778,\"#fb9f3a\"],[0.8888888888888888,\"#fdca26\"],[1.0,\"#f0f921\"]],\"diverging\":[[0,\"#8e0152\"],[0.1,\"#c51b7d\"],[0.2,\"#de77ae\"],[0.3,\"#f1b6da\"],[0.4,\"#fde0ef\"],[0.5,\"#f7f7f7\"],[0.6,\"#e6f5d0\"],[0.7,\"#b8e186\"],[0.8,\"#7fbc41\"],[0.9,\"#4d9221\"],[1,\"#276419\"]]},\"xaxis\":{\"gridcolor\":\"white\",\"linecolor\":\"white\",\"ticks\":\"\",\"title\":{\"standoff\":15},\"zerolinecolor\":\"white\",\"automargin\":true,\"zerolinewidth\":2},\"yaxis\":{\"gridcolor\":\"white\",\"linecolor\":\"white\",\"ticks\":\"\",\"title\":{\"standoff\":15},\"zerolinecolor\":\"white\",\"automargin\":true,\"zerolinewidth\":2},\"scene\":{\"xaxis\":{\"backgroundcolor\":\"#E5ECF6\",\"gridcolor\":\"white\",\"linecolor\":\"white\",\"showbackground\":true,\"ticks\":\"\",\"zerolinecolor\":\"white\",\"gridwidth\":2},\"yaxis\":{\"backgroundcolor\":\"#E5ECF6\",\"gridcolor\":\"white\",\"linecolor\":\"white\",\"showbackground\":true,\"ticks\":\"\",\"zerolinecolor\":\"white\",\"gridwidth\":2},\"zaxis\":{\"backgroundcolor\":\"#E5ECF6\",\"gridcolor\":\"white\",\"linecolor\":\"white\",\"showbackground\":true,\"ticks\":\"\",\"zerolinecolor\":\"white\",\"gridwidth\":2}},\"shapedefaults\":{\"line\":{\"color\":\"#2a3f5f\"}},\"annotationdefaults\":{\"arrowcolor\":\"#2a3f5f\",\"arrowhead\":0,\"arrowwidth\":1},\"geo\":{\"bgcolor\":\"white\",\"landcolor\":\"#E5ECF6\",\"subunitcolor\":\"white\",\"showland\":true,\"showlakes\":true,\"lakecolor\":\"white\"},\"title\":{\"x\":0.05},\"mapbox\":{\"style\":\"light\"}}},\"xaxis\":{\"anchor\":\"y\",\"domain\":[0.0,0.16799999999999998],\"title\":{\"text\":\"Scaling on (9.9 \\u2225 9.6) \\u22a5\"}},\"yaxis\":{\"anchor\":\"x\",\"domain\":[0.0,1.0],\"title\":{\"text\":\"Attn to token\"}},\"xaxis2\":{\"anchor\":\"y2\",\"domain\":[0.208,0.376],\"title\":{\"text\":\"Scaling on (9.9 \\u2225 9.6) \\u22a5\"}},\"yaxis2\":{\"anchor\":\"x2\",\"domain\":[0.0,1.0],\"matches\":\"y\",\"showticklabels\":false,\"title\":{\"text\":\"Attn to token\"}},\"xaxis3\":{\"anchor\":\"y3\",\"domain\":[0.416,0.584],\"title\":{\"text\":\"Scaling on (9.9 \\u2225 9.6) \\u22a5\"}},\"yaxis3\":{\"anchor\":\"x3\",\"domain\":[0.0,1.0],\"matches\":\"y\",\"showticklabels\":false,\"title\":{\"text\":\"Attn to token\"}},\"xaxis4\":{\"anchor\":\"y4\",\"domain\":[0.624,0.792],\"title\":{\"text\":\"Scaling on (9.9 \\u2225 9.6) \\u22a5\"}},\"yaxis4\":{\"anchor\":\"x4\",\"domain\":[0.0,1.0],\"matches\":\"y\",\"showticklabels\":false,\"title\":{\"text\":\"Attn to token\"}},\"xaxis5\":{\"anchor\":\"y5\",\"domain\":[0.832,1.0],\"title\":{\"text\":\"Scaling on (9.9 \\u2225 9.6) \\u22a5\"}},\"yaxis5\":{\"anchor\":\"x5\",\"domain\":[0.0,1.0],\"matches\":\"y\",\"showticklabels\":false,\"title\":{\"text\":\"Attn to token\"}},\"annotations\":[{\"font\":{\"size\":16},\"showarrow\":false,\"text\":\"IO\",\"x\":0.08399999999999999,\"xanchor\":\"center\",\"xref\":\"paper\",\"y\":1.0,\"yanchor\":\"bottom\",\"yref\":\"paper\"},{\"font\":{\"size\":16},\"showarrow\":false,\"text\":\"S1\",\"x\":0.292,\"xanchor\":\"center\",\"xref\":\"paper\",\"y\":1.0,\"yanchor\":\"bottom\",\"yref\":\"paper\"},{\"font\":{\"size\":16},\"showarrow\":false,\"text\":\"S2\",\"x\":0.5,\"xanchor\":\"center\",\"xref\":\"paper\",\"y\":1.0,\"yanchor\":\"bottom\",\"yref\":\"paper\"},{\"font\":{\"size\":16},\"showarrow\":false,\"text\":\"IO - S1 - S2\",\"x\":0.708,\"xanchor\":\"center\",\"xref\":\"paper\",\"y\":1.0,\"yanchor\":\"bottom\",\"yref\":\"paper\"},{\"font\":{\"size\":16},\"showarrow\":false,\"text\":\"BOS\",\"x\":0.9159999999999999,\"xanchor\":\"center\",\"xref\":\"paper\",\"y\":1.0,\"yanchor\":\"bottom\",\"yref\":\"paper\"}],\"height\":400,\"title\":{\"text\":\"GPT-2 Small Effect of adding\\u002fsubtracting components pre_ln to Backup Heads while NMHs are Ablated\"}},                        {\"responsive\": true}                    ).then(function(){\n",
       "                            \n",
       "var gd = document.getElementById('39d31512-b36c-4524-8083-66604410f307');\n",
       "var x = new MutationObserver(function (mutations, observer) {{\n",
       "        var display = window.getComputedStyle(gd).display;\n",
       "        if (!display || display === 'none') {{\n",
       "            console.log([gd, 'removed!']);\n",
       "            Plotly.purge(gd);\n",
       "            observer.disconnect();\n",
       "        }}\n",
       "}});\n",
       "\n",
       "// Listen for the removal of the full notebook cells\n",
       "var notebookContainer = gd.closest('#notebook-container');\n",
       "if (notebookContainer) {{\n",
       "    x.observe(notebookContainer, {childList: true});\n",
       "}}\n",
       "\n",
       "// Listen for the clearing of the current output cell\n",
       "var outputEl = gd.closest('.output');\n",
       "if (outputEl) {{\n",
       "    x.observe(outputEl, {childList: true});\n",
       "}}\n",
       "\n",
       "                        })                };                });            </script>        </div>"
      ]
     },
     "metadata": {},
     "output_type": "display_data"
    }
   ],
   "source": [
    "fig = make_subplots(rows = 1, cols = 5, subplot_titles = [\"IO\", \"S1\", \"S2\",\"IO - S1 - S2\", \"BOS\"], shared_yaxes=True)\n",
    "fig.update_layout(height = 400)\n",
    "\n",
    "fig.update_layout(title = \"GPT-2 Small Effect of adding/subtracting components pre_ln to Backup Heads while NMHs are Ablated\")\n",
    "colors = [\n",
    "    \"pink\", \"darkviolet\", \"blue\", \"purple\", \"turquoise\", \"red\", \"green\", \"yellow\", \"orange\", \"cyan\", \"magenta\",\n",
    "    \"lime\", \"maroon\", \"navy\", \"olive\", \"teal\", \"aqua\", \"silver\", \"gray\", \"black\", \"white\", \"indigo\", \"gold\", \"brown\",\n",
    "    \"coral\", \"crimson\", \"darkblue\", \"darkcyan\", \"darkgoldenrod\", \"darkgray\", \"darkgreen\", \"darkkhaki\", \"darkmagenta\",\n",
    "    \"darkolivegreen\", \"darkorange\", \"darkorchid\", \"darkred\", \"darksalmon\", \"darkslateblue\", \"darkslategray\",\n",
    "    \"darkturquoise\", \"darkviolet\", \"deeppink\", \"deepskyblue\", \"dimgray\", \"dodgerblue\", \"firebrick\", \"forestgreen\",\n",
    "    \"fuchsia\", \"gainsboro\", \"gold\", \"goldenrod\", \"gray\", \"greenyellow\", \"honeydew\", \"hotpink\", \"indianred\", \"indigo\",\n",
    "    \"ivory\", \"khaki\", \"lavender\", \"lavenderblush\", \"lawngreen\", \"lemonchiffon\", \"lightblue\", \"lightcoral\",\n",
    "    \"lightcyan\", \"lightgoldenrodyellow\", \"lightgray\", \"lightgreen\", \"lightpink\", \"lightsalmon\", \"lightseagreen\",\n",
    "    \"lightskyblue\", \"lightslategray\", \"lightsteelblue\", \"lightyellow\", \"lime\", \"limegreen\", \"linen\", \"magenta\",\n",
    "    \"maroon\", \"mediumaquamarine\", \"mediumblue\", \"mediumorchid\", \"mediumpurple\", \"mediumseagreen\", \"mediumslateblue\",\n",
    "    \"mediumspringgreen\", \"mediumturquoise\", \"mediumvioletred\", \"midnightblue\", \"mintcream\", \"mistyrose\", \"moccasin\",\n",
    "    \"navajowhite\", \"navy\", \"oldlace\", \"olive\", \"olivedrab\", \"orangered\", \"orchid\", \"palegoldenrod\", \"palegreen\",\n",
    "    \"paleturquoise\", \"palevioletred\", \"papayawhip\", \"peachpuff\", \"peru\", \"plum\", \"powderblue\", \"rebeccapurple\",\n",
    "    \"rosybrown\", \"royalblue\", \"saddlebrown\", \"salmon\", \"sandybrown\", \"seagreen\", \"sienna\", \"skyblue\", \"slateblue\",\n",
    "    \"slategray\", \"snow\", \"springgreen\", \"steelblue\", \"tan\", \"thistle\", \"tomato\", \"turquoise\", \"violet\", \"wheat\",\n",
    "    \"whitesmoke\", \"yellowgreen\"\n",
    "]\n",
    "\n",
    "\n",
    "for col, data in enumerate(overlap_into_backup):\n",
    "  for i in range(len(data)):\n",
    "    fig.add_trace(go.Scatter(x = scaling_amounts, y = data[i], name = str(top_neg_heads[i]), line_color = colors[i], legendgroup= str(i)), row = 1, col = col + 1)\n",
    "\n",
    "\n",
    "fig.update_xaxes(title = \"Scaling on (9.9 ∥ 9.6) ⊥\", row = 1)\n",
    "fig.update_yaxes(title = \"Attn to token\")\n",
    "fig.show()"
   ]
  },
  {
   "cell_type": "code",
   "execution_count": null,
   "metadata": {},
   "outputs": [],
   "source": []
  }
 ],
 "metadata": {
  "kernelspec": {
   "display_name": "Python 3 (ipykernel)",
   "language": "python",
   "name": "python3"
  },
  "language_info": {
   "codemirror_mode": {
    "name": "ipython",
    "version": 3
   },
   "file_extension": ".py",
   "mimetype": "text/x-python",
   "name": "python",
   "nbconvert_exporter": "python",
   "pygments_lexer": "ipython3",
   "version": "3.11.0"
  }
 },
 "nbformat": 4,
 "nbformat_minor": 2
}
