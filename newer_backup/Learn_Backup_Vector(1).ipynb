{
  "cells": [
    {
      "cell_type": "markdown",
      "metadata": {
        "id": "M2XFdE9UXk_q"
      },
      "source": [
        "# high level goal- figure out the direction which is encoding for the backup"
      ]
    },
    {
      "cell_type": "markdown",
      "metadata": {
        "id": "cECQfwPeTC_S"
      },
      "source": [
        "# Imports"
      ]
    },
    {
      "cell_type": "code",
      "source": [
        "%pip install git+https://github.com/neelnanda-io/TransformerLens.git\n",
        "%pip install git+https://github.com/callummcdougall/CircuitsVis.git#subdirectory=python\n",
        "%pip install git+https://github.com/neelnanda-io/neel-plotly.git\n",
        "import os\n",
        "import sys\n",
        "if not os.path.exists(\"path_patching.py\"):\n",
        "        !wget https://github.com/callummcdougall/path_patching/archive/refs/heads/main.zip\n",
        "        !unzip /content/main.zip 'path_patching-main/ioi_dataset.py'\n",
        "        !unzip /content/main.zip 'path_patching-main/path_patching.py'\n",
        "        sys.path.append(\"/content/path_patching-main\")\n",
        "        os.remove(\"/content/main.zip\")\n",
        "        os.rename(\"/content/path_patching-main/ioi_dataset.py\", \"ioi_dataset.py\")\n",
        "        os.rename(\"/content/path_patching-main/path_patching.py\", \"path_patching.py\")\n",
        "        os.rmdir(\"/content/path_patching-main\")\n",
        "\n",
        "from path_patching import Node, IterNode, path_patch, act_patch"
      ],
      "metadata": {
        "colab": {
          "base_uri": "https://localhost:8080/",
          "height": 1000
        },
        "id": "nO_KeqbtX_nW",
        "outputId": "34446a7f-d7bb-48e9-a1ab-4c376b009da6"
      },
      "execution_count": null,
      "outputs": [
        {
          "output_type": "stream",
          "name": "stdout",
          "text": [
            "Collecting git+https://github.com/neelnanda-io/TransformerLens.git\n",
            "  Cloning https://github.com/neelnanda-io/TransformerLens.git to /tmp/pip-req-build-5i1d1ugf\n",
            "  Running command git clone --filter=blob:none --quiet https://github.com/neelnanda-io/TransformerLens.git /tmp/pip-req-build-5i1d1ugf\n",
            "  Resolved https://github.com/neelnanda-io/TransformerLens.git to commit 65b5a6ff132e14c92db34523083a18698b960e76\n",
            "  Installing build dependencies ... \u001b[?25l\u001b[?25hdone\n",
            "  Getting requirements to build wheel ... \u001b[?25l\u001b[?25hdone\n",
            "  Preparing metadata (pyproject.toml) ... \u001b[?25l\u001b[?25hdone\n",
            "Collecting datasets>=2.7.1 (from transformer-lens==0.0.0)\n",
            "  Downloading datasets-2.13.1-py3-none-any.whl (486 kB)\n",
            "\u001b[2K     \u001b[90m━━━━━━━━━━━━━━━━━━━━━━━━━━━━━━━━━━━━━━━\u001b[0m \u001b[32m486.2/486.2 kB\u001b[0m \u001b[31m4.6 MB/s\u001b[0m eta \u001b[36m0:00:00\u001b[0m\n",
            "\u001b[?25hCollecting einops>=0.6.0 (from transformer-lens==0.0.0)\n",
            "  Downloading einops-0.6.1-py3-none-any.whl (42 kB)\n",
            "\u001b[2K     \u001b[90m━━━━━━━━━━━━━━━━━━━━━━━━━━━━━━━━━━━━━━━━\u001b[0m \u001b[32m42.2/42.2 kB\u001b[0m \u001b[31m1.7 MB/s\u001b[0m eta \u001b[36m0:00:00\u001b[0m\n",
            "\u001b[?25hCollecting fancy-einsum>=0.0.3 (from transformer-lens==0.0.0)\n",
            "  Downloading fancy_einsum-0.0.3-py3-none-any.whl (6.2 kB)\n",
            "Collecting jaxtyping>=0.2.11 (from transformer-lens==0.0.0)\n",
            "  Downloading jaxtyping-0.2.20-py3-none-any.whl (24 kB)\n",
            "Collecting numpy>=1.23 (from transformer-lens==0.0.0)\n",
            "  Downloading numpy-1.25.1-cp310-cp310-manylinux_2_17_x86_64.manylinux2014_x86_64.whl (17.6 MB)\n",
            "\u001b[2K     \u001b[90m━━━━━━━━━━━━━━━━━━━━━━━━━━━━━━━━━━━━━━━━\u001b[0m \u001b[32m17.6/17.6 MB\u001b[0m \u001b[31m34.9 MB/s\u001b[0m eta \u001b[36m0:00:00\u001b[0m\n",
            "\u001b[?25hRequirement already satisfied: pandas>=1.1.5 in /usr/local/lib/python3.10/dist-packages (from transformer-lens==0.0.0) (1.5.3)\n",
            "Requirement already satisfied: rich>=12.6.0 in /usr/local/lib/python3.10/dist-packages (from transformer-lens==0.0.0) (13.4.2)\n",
            "Requirement already satisfied: torch>=1.10 in /usr/local/lib/python3.10/dist-packages (from transformer-lens==0.0.0) (2.0.1+cu118)\n",
            "Requirement already satisfied: tqdm>=4.64.1 in /usr/local/lib/python3.10/dist-packages (from transformer-lens==0.0.0) (4.65.0)\n",
            "Collecting transformers>=4.25.1 (from transformer-lens==0.0.0)\n",
            "  Downloading transformers-4.31.0-py3-none-any.whl (7.4 MB)\n",
            "\u001b[2K     \u001b[90m━━━━━━━━━━━━━━━━━━━━━━━━━━━━━━━━━━━━━━━━\u001b[0m \u001b[32m7.4/7.4 MB\u001b[0m \u001b[31m65.6 MB/s\u001b[0m eta \u001b[36m0:00:00\u001b[0m\n",
            "\u001b[?25hCollecting typeguard<4.0.0,>=3.0.2 (from transformer-lens==0.0.0)\n",
            "  Downloading typeguard-3.0.2-py3-none-any.whl (30 kB)\n",
            "Collecting wandb>=0.13.5 (from transformer-lens==0.0.0)\n",
            "  Downloading wandb-0.15.5-py3-none-any.whl (2.1 MB)\n",
            "\u001b[2K     \u001b[90m━━━━━━━━━━━━━━━━━━━━━━━━━━━━━━━━━━━━━━━━\u001b[0m \u001b[32m2.1/2.1 MB\u001b[0m \u001b[31m69.8 MB/s\u001b[0m eta \u001b[36m0:00:00\u001b[0m\n",
            "\u001b[?25hRequirement already satisfied: pyarrow>=8.0.0 in /usr/local/lib/python3.10/dist-packages (from datasets>=2.7.1->transformer-lens==0.0.0) (9.0.0)\n",
            "Collecting dill<0.3.7,>=0.3.0 (from datasets>=2.7.1->transformer-lens==0.0.0)\n",
            "  Downloading dill-0.3.6-py3-none-any.whl (110 kB)\n",
            "\u001b[2K     \u001b[90m━━━━━━━━━━━━━━━━━━━━━━━━━━━━━━━━━━━━━━\u001b[0m \u001b[32m110.5/110.5 kB\u001b[0m \u001b[31m16.4 MB/s\u001b[0m eta \u001b[36m0:00:00\u001b[0m\n",
            "\u001b[?25hRequirement already satisfied: requests>=2.19.0 in /usr/local/lib/python3.10/dist-packages (from datasets>=2.7.1->transformer-lens==0.0.0) (2.27.1)\n",
            "Collecting xxhash (from datasets>=2.7.1->transformer-lens==0.0.0)\n",
            "  Downloading xxhash-3.2.0-cp310-cp310-manylinux_2_17_x86_64.manylinux2014_x86_64.whl (212 kB)\n",
            "\u001b[2K     \u001b[90m━━━━━━━━━━━━━━━━━━━━━━━━━━━━━━━━━━━━━━\u001b[0m \u001b[32m212.5/212.5 kB\u001b[0m \u001b[31m24.9 MB/s\u001b[0m eta \u001b[36m0:00:00\u001b[0m\n",
            "\u001b[?25hCollecting multiprocess (from datasets>=2.7.1->transformer-lens==0.0.0)\n",
            "  Downloading multiprocess-0.70.14-py310-none-any.whl (134 kB)\n",
            "\u001b[2K     \u001b[90m━━━━━━━━━━━━━━━━━━━━━━━━━━━━━━━━━━━━━━\u001b[0m \u001b[32m134.3/134.3 kB\u001b[0m \u001b[31m17.0 MB/s\u001b[0m eta \u001b[36m0:00:00\u001b[0m\n",
            "\u001b[?25hRequirement already satisfied: fsspec[http]>=2021.11.1 in /usr/local/lib/python3.10/dist-packages (from datasets>=2.7.1->transformer-lens==0.0.0) (2023.6.0)\n",
            "Requirement already satisfied: aiohttp in /usr/local/lib/python3.10/dist-packages (from datasets>=2.7.1->transformer-lens==0.0.0) (3.8.4)\n",
            "Collecting huggingface-hub<1.0.0,>=0.11.0 (from datasets>=2.7.1->transformer-lens==0.0.0)\n",
            "  Downloading huggingface_hub-0.16.4-py3-none-any.whl (268 kB)\n",
            "\u001b[2K     \u001b[90m━━━━━━━━━━━━━━━━━━━━━━━━━━━━━━━━━━━━━━\u001b[0m \u001b[32m268.8/268.8 kB\u001b[0m \u001b[31m32.2 MB/s\u001b[0m eta \u001b[36m0:00:00\u001b[0m\n",
            "\u001b[?25hRequirement already satisfied: packaging in /usr/local/lib/python3.10/dist-packages (from datasets>=2.7.1->transformer-lens==0.0.0) (23.1)\n",
            "Requirement already satisfied: pyyaml>=5.1 in /usr/local/lib/python3.10/dist-packages (from datasets>=2.7.1->transformer-lens==0.0.0) (6.0)\n",
            "Requirement already satisfied: typing-extensions>=3.7.4.1 in /usr/local/lib/python3.10/dist-packages (from jaxtyping>=0.2.11->transformer-lens==0.0.0) (4.7.1)\n",
            "Requirement already satisfied: python-dateutil>=2.8.1 in /usr/local/lib/python3.10/dist-packages (from pandas>=1.1.5->transformer-lens==0.0.0) (2.8.2)\n",
            "Requirement already satisfied: pytz>=2020.1 in /usr/local/lib/python3.10/dist-packages (from pandas>=1.1.5->transformer-lens==0.0.0) (2022.7.1)\n",
            "Requirement already satisfied: markdown-it-py>=2.2.0 in /usr/local/lib/python3.10/dist-packages (from rich>=12.6.0->transformer-lens==0.0.0) (3.0.0)\n",
            "Requirement already satisfied: pygments<3.0.0,>=2.13.0 in /usr/local/lib/python3.10/dist-packages (from rich>=12.6.0->transformer-lens==0.0.0) (2.14.0)\n",
            "Requirement already satisfied: filelock in /usr/local/lib/python3.10/dist-packages (from torch>=1.10->transformer-lens==0.0.0) (3.12.2)\n",
            "Requirement already satisfied: sympy in /usr/local/lib/python3.10/dist-packages (from torch>=1.10->transformer-lens==0.0.0) (1.11.1)\n",
            "Requirement already satisfied: networkx in /usr/local/lib/python3.10/dist-packages (from torch>=1.10->transformer-lens==0.0.0) (3.1)\n",
            "Requirement already satisfied: jinja2 in /usr/local/lib/python3.10/dist-packages (from torch>=1.10->transformer-lens==0.0.0) (3.1.2)\n",
            "Requirement already satisfied: triton==2.0.0 in /usr/local/lib/python3.10/dist-packages (from torch>=1.10->transformer-lens==0.0.0) (2.0.0)\n",
            "Requirement already satisfied: cmake in /usr/local/lib/python3.10/dist-packages (from triton==2.0.0->torch>=1.10->transformer-lens==0.0.0) (3.25.2)\n",
            "Requirement already satisfied: lit in /usr/local/lib/python3.10/dist-packages (from triton==2.0.0->torch>=1.10->transformer-lens==0.0.0) (16.0.6)\n",
            "Requirement already satisfied: regex!=2019.12.17 in /usr/local/lib/python3.10/dist-packages (from transformers>=4.25.1->transformer-lens==0.0.0) (2022.10.31)\n",
            "Collecting tokenizers!=0.11.3,<0.14,>=0.11.1 (from transformers>=4.25.1->transformer-lens==0.0.0)\n",
            "  Downloading tokenizers-0.13.3-cp310-cp310-manylinux_2_17_x86_64.manylinux2014_x86_64.whl (7.8 MB)\n",
            "\u001b[2K     \u001b[90m━━━━━━━━━━━━━━━━━━━━━━━━━━━━━━━━━━━━━━━━\u001b[0m \u001b[32m7.8/7.8 MB\u001b[0m \u001b[31m94.8 MB/s\u001b[0m eta \u001b[36m0:00:00\u001b[0m\n",
            "\u001b[?25hCollecting safetensors>=0.3.1 (from transformers>=4.25.1->transformer-lens==0.0.0)\n",
            "  Downloading safetensors-0.3.1-cp310-cp310-manylinux_2_17_x86_64.manylinux2014_x86_64.whl (1.3 MB)\n",
            "\u001b[2K     \u001b[90m━━━━━━━━━━━━━━━━━━━━━━━━━━━━━━━━━━━━━━━━\u001b[0m \u001b[32m1.3/1.3 MB\u001b[0m \u001b[31m81.6 MB/s\u001b[0m eta \u001b[36m0:00:00\u001b[0m\n",
            "\u001b[?25hRequirement already satisfied: Click!=8.0.0,>=7.1 in /usr/local/lib/python3.10/dist-packages (from wandb>=0.13.5->transformer-lens==0.0.0) (8.1.4)\n",
            "Collecting GitPython!=3.1.29,>=1.0.0 (from wandb>=0.13.5->transformer-lens==0.0.0)\n",
            "  Downloading GitPython-3.1.32-py3-none-any.whl (188 kB)\n",
            "\u001b[2K     \u001b[90m━━━━━━━━━━━━━━━━━━━━━━━━━━━━━━━━━━━━━━\u001b[0m \u001b[32m188.5/188.5 kB\u001b[0m \u001b[31m22.8 MB/s\u001b[0m eta \u001b[36m0:00:00\u001b[0m\n",
            "\u001b[?25hRequirement already satisfied: psutil>=5.0.0 in /usr/local/lib/python3.10/dist-packages (from wandb>=0.13.5->transformer-lens==0.0.0) (5.9.5)\n",
            "Collecting sentry-sdk>=1.0.0 (from wandb>=0.13.5->transformer-lens==0.0.0)\n",
            "  Downloading sentry_sdk-1.28.1-py2.py3-none-any.whl (214 kB)\n",
            "\u001b[2K     \u001b[90m━━━━━━━━━━━━━━━━━━━━━━━━━━━━━━━━━━━━━━\u001b[0m \u001b[32m214.7/214.7 kB\u001b[0m \u001b[31m25.8 MB/s\u001b[0m eta \u001b[36m0:00:00\u001b[0m\n",
            "\u001b[?25hCollecting docker-pycreds>=0.4.0 (from wandb>=0.13.5->transformer-lens==0.0.0)\n",
            "  Downloading docker_pycreds-0.4.0-py2.py3-none-any.whl (9.0 kB)\n",
            "Collecting pathtools (from wandb>=0.13.5->transformer-lens==0.0.0)\n",
            "  Downloading pathtools-0.1.2.tar.gz (11 kB)\n",
            "  Preparing metadata (setup.py) ... \u001b[?25l\u001b[?25hdone\n",
            "Collecting setproctitle (from wandb>=0.13.5->transformer-lens==0.0.0)\n",
            "  Downloading setproctitle-1.3.2-cp310-cp310-manylinux_2_5_x86_64.manylinux1_x86_64.manylinux_2_17_x86_64.manylinux2014_x86_64.whl (30 kB)\n",
            "Requirement already satisfied: setuptools in /usr/local/lib/python3.10/dist-packages (from wandb>=0.13.5->transformer-lens==0.0.0) (67.7.2)\n",
            "Requirement already satisfied: appdirs>=1.4.3 in /usr/local/lib/python3.10/dist-packages (from wandb>=0.13.5->transformer-lens==0.0.0) (1.4.4)\n",
            "Requirement already satisfied: protobuf!=4.21.0,<5,>=3.19.0 in /usr/local/lib/python3.10/dist-packages (from wandb>=0.13.5->transformer-lens==0.0.0) (3.20.3)\n",
            "Requirement already satisfied: six>=1.4.0 in /usr/local/lib/python3.10/dist-packages (from docker-pycreds>=0.4.0->wandb>=0.13.5->transformer-lens==0.0.0) (1.16.0)\n",
            "Requirement already satisfied: attrs>=17.3.0 in /usr/local/lib/python3.10/dist-packages (from aiohttp->datasets>=2.7.1->transformer-lens==0.0.0) (23.1.0)\n",
            "Requirement already satisfied: charset-normalizer<4.0,>=2.0 in /usr/local/lib/python3.10/dist-packages (from aiohttp->datasets>=2.7.1->transformer-lens==0.0.0) (2.0.12)\n",
            "Requirement already satisfied: multidict<7.0,>=4.5 in /usr/local/lib/python3.10/dist-packages (from aiohttp->datasets>=2.7.1->transformer-lens==0.0.0) (6.0.4)\n",
            "Requirement already satisfied: async-timeout<5.0,>=4.0.0a3 in /usr/local/lib/python3.10/dist-packages (from aiohttp->datasets>=2.7.1->transformer-lens==0.0.0) (4.0.2)\n",
            "Requirement already satisfied: yarl<2.0,>=1.0 in /usr/local/lib/python3.10/dist-packages (from aiohttp->datasets>=2.7.1->transformer-lens==0.0.0) (1.9.2)\n",
            "Requirement already satisfied: frozenlist>=1.1.1 in /usr/local/lib/python3.10/dist-packages (from aiohttp->datasets>=2.7.1->transformer-lens==0.0.0) (1.4.0)\n",
            "Requirement already satisfied: aiosignal>=1.1.2 in /usr/local/lib/python3.10/dist-packages (from aiohttp->datasets>=2.7.1->transformer-lens==0.0.0) (1.3.1)\n",
            "Collecting gitdb<5,>=4.0.1 (from GitPython!=3.1.29,>=1.0.0->wandb>=0.13.5->transformer-lens==0.0.0)\n",
            "  Downloading gitdb-4.0.10-py3-none-any.whl (62 kB)\n",
            "\u001b[2K     \u001b[90m━━━━━━━━━━━━━━━━━━━━━━━━━━━━━━━━━━━━━━━━\u001b[0m \u001b[32m62.7/62.7 kB\u001b[0m \u001b[31m8.9 MB/s\u001b[0m eta \u001b[36m0:00:00\u001b[0m\n",
            "\u001b[?25hRequirement already satisfied: mdurl~=0.1 in /usr/local/lib/python3.10/dist-packages (from markdown-it-py>=2.2.0->rich>=12.6.0->transformer-lens==0.0.0) (0.1.2)\n",
            "Requirement already satisfied: urllib3<1.27,>=1.21.1 in /usr/local/lib/python3.10/dist-packages (from requests>=2.19.0->datasets>=2.7.1->transformer-lens==0.0.0) (1.26.16)\n",
            "Requirement already satisfied: certifi>=2017.4.17 in /usr/local/lib/python3.10/dist-packages (from requests>=2.19.0->datasets>=2.7.1->transformer-lens==0.0.0) (2023.5.7)\n",
            "Requirement already satisfied: idna<4,>=2.5 in /usr/local/lib/python3.10/dist-packages (from requests>=2.19.0->datasets>=2.7.1->transformer-lens==0.0.0) (3.4)\n",
            "Requirement already satisfied: MarkupSafe>=2.0 in /usr/local/lib/python3.10/dist-packages (from jinja2->torch>=1.10->transformer-lens==0.0.0) (2.1.3)\n",
            "Requirement already satisfied: mpmath>=0.19 in /usr/local/lib/python3.10/dist-packages (from sympy->torch>=1.10->transformer-lens==0.0.0) (1.3.0)\n",
            "Collecting smmap<6,>=3.0.1 (from gitdb<5,>=4.0.1->GitPython!=3.1.29,>=1.0.0->wandb>=0.13.5->transformer-lens==0.0.0)\n",
            "  Downloading smmap-5.0.0-py3-none-any.whl (24 kB)\n",
            "Building wheels for collected packages: transformer-lens, pathtools\n",
            "  Building wheel for transformer-lens (pyproject.toml) ... \u001b[?25l\u001b[?25hdone\n",
            "  Created wheel for transformer-lens: filename=transformer_lens-0.0.0-py3-none-any.whl size=102647 sha256=eb7ac8a5f36f10636ff2cd38f95009ebdcb6f423550834888236e4452e16fa37\n",
            "  Stored in directory: /tmp/pip-ephem-wheel-cache-05qm__46/wheels/8a/1e/37/ffb9c15454a1725b13a9d9f5e74fb91725048884ad734b8c1f\n",
            "  Building wheel for pathtools (setup.py) ... \u001b[?25l\u001b[?25hdone\n",
            "  Created wheel for pathtools: filename=pathtools-0.1.2-py3-none-any.whl size=8791 sha256=8360a639c13d5f4882195e1fff30d2ea3497d41d4486fc7aaefd640a745e428d\n",
            "  Stored in directory: /root/.cache/pip/wheels/e7/f3/22/152153d6eb222ee7a56ff8617d80ee5207207a8c00a7aab794\n",
            "Successfully built transformer-lens pathtools\n",
            "Installing collected packages: tokenizers, safetensors, pathtools, xxhash, typeguard, smmap, setproctitle, sentry-sdk, numpy, fancy-einsum, einops, docker-pycreds, dill, multiprocess, jaxtyping, huggingface-hub, gitdb, transformers, GitPython, wandb, datasets, transformer-lens\n",
            "  Attempting uninstall: numpy\n",
            "    Found existing installation: numpy 1.22.4\n",
            "    Uninstalling numpy-1.22.4:\n",
            "      Successfully uninstalled numpy-1.22.4\n",
            "\u001b[31mERROR: pip's dependency resolver does not currently take into account all the packages that are installed. This behaviour is the source of the following dependency conflicts.\n",
            "numba 0.56.4 requires numpy<1.24,>=1.18, but you have numpy 1.25.1 which is incompatible.\n",
            "tensorflow 2.12.0 requires numpy<1.24,>=1.22, but you have numpy 1.25.1 which is incompatible.\u001b[0m\u001b[31m\n",
            "\u001b[0mSuccessfully installed GitPython-3.1.32 datasets-2.13.1 dill-0.3.6 docker-pycreds-0.4.0 einops-0.6.1 fancy-einsum-0.0.3 gitdb-4.0.10 huggingface-hub-0.16.4 jaxtyping-0.2.20 multiprocess-0.70.14 numpy-1.25.1 pathtools-0.1.2 safetensors-0.3.1 sentry-sdk-1.28.1 setproctitle-1.3.2 smmap-5.0.0 tokenizers-0.13.3 transformer-lens-0.0.0 transformers-4.31.0 typeguard-3.0.2 wandb-0.15.5 xxhash-3.2.0\n"
          ]
        },
        {
          "output_type": "display_data",
          "data": {
            "application/vnd.colab-display-data+json": {
              "pip_warning": {
                "packages": [
                  "numpy"
                ]
              }
            }
          },
          "metadata": {}
        },
        {
          "output_type": "stream",
          "name": "stdout",
          "text": [
            "Collecting git+https://github.com/callummcdougall/CircuitsVis.git#subdirectory=python\n",
            "  Cloning https://github.com/callummcdougall/CircuitsVis.git to /tmp/pip-req-build-rzak0_8q\n",
            "  Running command git clone --filter=blob:none --quiet https://github.com/callummcdougall/CircuitsVis.git /tmp/pip-req-build-rzak0_8q\n",
            "  Resolved https://github.com/callummcdougall/CircuitsVis.git to commit 1ec4a8f8fa4368e95500fe3a188b367500af5f98\n",
            "  Installing build dependencies ... \u001b[?25l\u001b[?25hdone\n",
            "  Getting requirements to build wheel ... \u001b[?25l\u001b[?25hdone\n",
            "  Preparing metadata (pyproject.toml) ... \u001b[?25l\u001b[?25hdone\n",
            "Collecting importlib-metadata<6.0.0,>=5.1.0 (from circuitsvis==0.0.0)\n",
            "  Downloading importlib_metadata-5.2.0-py3-none-any.whl (21 kB)\n",
            "Requirement already satisfied: numpy<2.0,>=1.23 in /usr/local/lib/python3.10/dist-packages (from circuitsvis==0.0.0) (1.25.1)\n",
            "Requirement already satisfied: torch<3.0,>=2.0 in /usr/local/lib/python3.10/dist-packages (from circuitsvis==0.0.0) (2.0.1+cu118)\n",
            "Requirement already satisfied: zipp>=0.5 in /usr/local/lib/python3.10/dist-packages (from importlib-metadata<6.0.0,>=5.1.0->circuitsvis==0.0.0) (3.16.1)\n",
            "Requirement already satisfied: filelock in /usr/local/lib/python3.10/dist-packages (from torch<3.0,>=2.0->circuitsvis==0.0.0) (3.12.2)\n",
            "Requirement already satisfied: typing-extensions in /usr/local/lib/python3.10/dist-packages (from torch<3.0,>=2.0->circuitsvis==0.0.0) (4.7.1)\n",
            "Requirement already satisfied: sympy in /usr/local/lib/python3.10/dist-packages (from torch<3.0,>=2.0->circuitsvis==0.0.0) (1.11.1)\n",
            "Requirement already satisfied: networkx in /usr/local/lib/python3.10/dist-packages (from torch<3.0,>=2.0->circuitsvis==0.0.0) (3.1)\n",
            "Requirement already satisfied: jinja2 in /usr/local/lib/python3.10/dist-packages (from torch<3.0,>=2.0->circuitsvis==0.0.0) (3.1.2)\n",
            "Requirement already satisfied: triton==2.0.0 in /usr/local/lib/python3.10/dist-packages (from torch<3.0,>=2.0->circuitsvis==0.0.0) (2.0.0)\n",
            "Requirement already satisfied: cmake in /usr/local/lib/python3.10/dist-packages (from triton==2.0.0->torch<3.0,>=2.0->circuitsvis==0.0.0) (3.25.2)\n",
            "Requirement already satisfied: lit in /usr/local/lib/python3.10/dist-packages (from triton==2.0.0->torch<3.0,>=2.0->circuitsvis==0.0.0) (16.0.6)\n",
            "Requirement already satisfied: MarkupSafe>=2.0 in /usr/local/lib/python3.10/dist-packages (from jinja2->torch<3.0,>=2.0->circuitsvis==0.0.0) (2.1.3)\n",
            "Requirement already satisfied: mpmath>=0.19 in /usr/local/lib/python3.10/dist-packages (from sympy->torch<3.0,>=2.0->circuitsvis==0.0.0) (1.3.0)\n",
            "Building wheels for collected packages: circuitsvis\n",
            "  Building wheel for circuitsvis (pyproject.toml) ... \u001b[?25l\u001b[?25hdone\n",
            "  Created wheel for circuitsvis: filename=circuitsvis-0.0.0-py3-none-any.whl size=1808606 sha256=dd4eaa3398f1b2f22b1abf97ed61d90d1a6923648746118d11f33bd373b04414\n",
            "  Stored in directory: /tmp/pip-ephem-wheel-cache-4blg3kxa/wheels/86/be/ad/78078aba9344d200aad61b63d35cdaecdec160212f039eed74\n",
            "Successfully built circuitsvis\n",
            "Installing collected packages: importlib-metadata, circuitsvis\n",
            "  Attempting uninstall: importlib-metadata\n",
            "    Found existing installation: importlib-metadata 4.6.4\n",
            "    Uninstalling importlib-metadata-4.6.4:\n",
            "      Successfully uninstalled importlib-metadata-4.6.4\n",
            "Successfully installed circuitsvis-0.0.0 importlib-metadata-5.2.0\n",
            "Collecting git+https://github.com/neelnanda-io/neel-plotly.git\n",
            "  Cloning https://github.com/neelnanda-io/neel-plotly.git to /tmp/pip-req-build-b_3bwm7h\n",
            "  Running command git clone --filter=blob:none --quiet https://github.com/neelnanda-io/neel-plotly.git /tmp/pip-req-build-b_3bwm7h\n",
            "  Resolved https://github.com/neelnanda-io/neel-plotly.git to commit 6dc24b26f8dec991908479d7445dae496b3430b7\n",
            "  Preparing metadata (setup.py) ... \u001b[?25l\u001b[?25hdone\n",
            "Requirement already satisfied: einops in /usr/local/lib/python3.10/dist-packages (from neel-plotly==0.0.0) (0.6.1)\n",
            "Requirement already satisfied: numpy in /usr/local/lib/python3.10/dist-packages (from neel-plotly==0.0.0) (1.25.1)\n",
            "Requirement already satisfied: torch in /usr/local/lib/python3.10/dist-packages (from neel-plotly==0.0.0) (2.0.1+cu118)\n",
            "Requirement already satisfied: plotly in /usr/local/lib/python3.10/dist-packages (from neel-plotly==0.0.0) (5.13.1)\n",
            "Requirement already satisfied: tqdm in /usr/local/lib/python3.10/dist-packages (from neel-plotly==0.0.0) (4.65.0)\n",
            "Requirement already satisfied: pandas in /usr/local/lib/python3.10/dist-packages (from neel-plotly==0.0.0) (1.5.3)\n",
            "Requirement already satisfied: python-dateutil>=2.8.1 in /usr/local/lib/python3.10/dist-packages (from pandas->neel-plotly==0.0.0) (2.8.2)\n",
            "Requirement already satisfied: pytz>=2020.1 in /usr/local/lib/python3.10/dist-packages (from pandas->neel-plotly==0.0.0) (2022.7.1)\n",
            "Requirement already satisfied: tenacity>=6.2.0 in /usr/local/lib/python3.10/dist-packages (from plotly->neel-plotly==0.0.0) (8.2.2)\n",
            "Requirement already satisfied: filelock in /usr/local/lib/python3.10/dist-packages (from torch->neel-plotly==0.0.0) (3.12.2)\n",
            "Requirement already satisfied: typing-extensions in /usr/local/lib/python3.10/dist-packages (from torch->neel-plotly==0.0.0) (4.7.1)\n",
            "Requirement already satisfied: sympy in /usr/local/lib/python3.10/dist-packages (from torch->neel-plotly==0.0.0) (1.11.1)\n",
            "Requirement already satisfied: networkx in /usr/local/lib/python3.10/dist-packages (from torch->neel-plotly==0.0.0) (3.1)\n",
            "Requirement already satisfied: jinja2 in /usr/local/lib/python3.10/dist-packages (from torch->neel-plotly==0.0.0) (3.1.2)\n",
            "Requirement already satisfied: triton==2.0.0 in /usr/local/lib/python3.10/dist-packages (from torch->neel-plotly==0.0.0) (2.0.0)\n",
            "Requirement already satisfied: cmake in /usr/local/lib/python3.10/dist-packages (from triton==2.0.0->torch->neel-plotly==0.0.0) (3.25.2)\n",
            "Requirement already satisfied: lit in /usr/local/lib/python3.10/dist-packages (from triton==2.0.0->torch->neel-plotly==0.0.0) (16.0.6)\n",
            "Requirement already satisfied: six>=1.5 in /usr/local/lib/python3.10/dist-packages (from python-dateutil>=2.8.1->pandas->neel-plotly==0.0.0) (1.16.0)\n",
            "Requirement already satisfied: MarkupSafe>=2.0 in /usr/local/lib/python3.10/dist-packages (from jinja2->torch->neel-plotly==0.0.0) (2.1.3)\n",
            "Requirement already satisfied: mpmath>=0.19 in /usr/local/lib/python3.10/dist-packages (from sympy->torch->neel-plotly==0.0.0) (1.3.0)\n",
            "Building wheels for collected packages: neel-plotly\n",
            "  Building wheel for neel-plotly (setup.py) ... \u001b[?25l\u001b[?25hdone\n",
            "  Created wheel for neel-plotly: filename=neel_plotly-0.0.0-py3-none-any.whl size=10186 sha256=484e83d1395ae2dba7dbf2643ad896f23fff36d66cfc0d09d2c692bcf1b9d24b\n",
            "  Stored in directory: /tmp/pip-ephem-wheel-cache-j_1q0944/wheels/32/cf/25/0103b4be02266c40faf008ffa9565a2ba07d1c63118fccc390\n",
            "Successfully built neel-plotly\n",
            "Installing collected packages: neel-plotly\n",
            "Successfully installed neel-plotly-0.0.0\n",
            "--2023-07-21 03:49:36--  https://github.com/callummcdougall/path_patching/archive/refs/heads/main.zip\n",
            "Resolving github.com (github.com)... 140.82.112.4\n",
            "Connecting to github.com (github.com)|140.82.112.4|:443... connected.\n",
            "HTTP request sent, awaiting response... 302 Found\n",
            "Location: https://codeload.github.com/callummcdougall/path_patching/zip/refs/heads/main [following]\n",
            "--2023-07-21 03:49:36--  https://codeload.github.com/callummcdougall/path_patching/zip/refs/heads/main\n",
            "Resolving codeload.github.com (codeload.github.com)... 140.82.112.9\n",
            "Connecting to codeload.github.com (codeload.github.com)|140.82.112.9|:443... connected.\n",
            "HTTP request sent, awaiting response... 200 OK\n",
            "Length: unspecified [application/zip]\n",
            "Saving to: ‘main.zip’\n",
            "\n",
            "main.zip                [ <=>                ]  18.40K  --.-KB/s    in 0.01s   \n",
            "\n",
            "2023-07-21 03:49:36 (1.55 MB/s) - ‘main.zip’ saved [18839]\n",
            "\n",
            "Archive:  /content/main.zip\n",
            "7d48069215eb3959940eb4c459d6e49a94d53aa2\n",
            "  inflating: path_patching-main/ioi_dataset.py  \n",
            "Archive:  /content/main.zip\n",
            "7d48069215eb3959940eb4c459d6e49a94d53aa2\n",
            "  inflating: path_patching-main/path_patching.py  \n"
          ]
        }
      ]
    },
    {
      "cell_type": "code",
      "execution_count": null,
      "metadata": {
        "id": "tn_t6ggySXUx"
      },
      "outputs": [],
      "source": [
        "import math\n",
        "import torch\n",
        "import torch.nn as nn\n",
        "import torch.nn.functional as F\n",
        "import torch.optim as optim\n",
        "from torch import Tensor\n",
        "\n",
        "import numpy as np\n",
        "import pandas as pd\n",
        "import einops\n",
        "from fancy_einsum import einsum\n",
        "import tqdm.auto as tqdm\n",
        "import random\n",
        "from pathlib import Path\n",
        "# import plotly.express as px\n",
        "from torch.utils.data import DataLoader\n",
        "from typing import Union, List, Optional, Callable, Tuple, Dict, Literal, Set\n",
        "from jaxtyping import Float, Int\n",
        "from functools import partial\n",
        "import copy\n",
        "\n",
        "import itertools\n",
        "from transformers import AutoModelForCausalLM, AutoConfig, AutoTokenizer\n",
        "import dataclasses\n",
        "import datasets\n",
        "from IPython.display import HTML\n",
        "\n",
        "import transformer_lens\n",
        "import transformer_lens.utils as utils\n",
        "from transformer_lens.utils import to_numpy\n",
        "from transformer_lens.hook_points import (\n",
        "    HookedRootModule,\n",
        "    HookPoint,\n",
        ")  # Hooking utilities\n",
        "from transformer_lens import HookedTransformer, HookedTransformerConfig, FactoredMatrix, ActivationCache, patching\n",
        "\n",
        "import plotly.express as px\n",
        "import circuitsvis as cv\n",
        "import os, sys"
      ]
    },
    {
      "cell_type": "code",
      "execution_count": null,
      "metadata": {
        "id": "F-EbXu2Wr7k8"
      },
      "outputs": [],
      "source": [
        "if not os.path.exists(\"path_patching.py\"):\n",
        "        !wget https://github.com/callummcdougall/path_patching/archive/refs/heads/main.zip\n",
        "        !unzip /content/main.zip 'path_patching-main/ioi_dataset.py'\n",
        "        !unzip /content/main.zip 'path_patching-main/path_patching.py'\n",
        "        sys.path.append(\"/content/path_patching-main\")\n",
        "        os.remove(\"/content/main.zip\")\n",
        "        os.rename(\"/content/path_patching-main/ioi_dataset.py\", \"ioi_dataset.py\")\n",
        "        os.rename(\"/content/path_patching-main/path_patching.py\", \"path_patching.py\")\n",
        "        os.rmdir(\"/content/path_patching-main\")\n",
        "\n",
        "from path_patching import Node, IterNode, path_patch, act_patch"
      ]
    },
    {
      "cell_type": "code",
      "execution_count": null,
      "metadata": {
        "id": "SUkXJ1EiS5kx"
      },
      "outputs": [],
      "source": [
        "#%pip install git+https://github.com/neelnanda-io/neel-plotly.git\n",
        "from neel_plotly import imshow, line, scatter, histogram\n",
        "import tqdm\n",
        "torch.set_grad_enabled(False)\n",
        "device = \"cuda\" if torch.cuda.is_available() else \"cpu\""
      ]
    },
    {
      "cell_type": "code",
      "execution_count": null,
      "metadata": {
        "colab": {
          "base_uri": "https://localhost:8080/",
          "height": 36
        },
        "id": "wCZqfQuvXk_t",
        "outputId": "116abe4a-54cf-4864-8331-05c96dcd3c79"
      },
      "outputs": [
        {
          "output_type": "execute_result",
          "data": {
            "text/plain": [
              "'cuda'"
            ],
            "application/vnd.google.colaboratory.intrinsic+json": {
              "type": "string"
            }
          },
          "metadata": {},
          "execution_count": 5
        }
      ],
      "source": [
        "device"
      ]
    },
    {
      "cell_type": "code",
      "execution_count": null,
      "metadata": {
        "id": "XKuRn5k2U1wd"
      },
      "outputs": [],
      "source": [
        "if not os.path.exists(\"path_patching.py\"):\n",
        "        !wget https://github.com/callummcdougall/path_patching/archive/refs/heads/main.zip\n",
        "        !unzip main.zip 'path_patching-main/ioi_dataset.py'\n",
        "        !unzip main.zip 'path_patching-main/path_patching.py'\n",
        "        sys.path.append(\"/path_patching-main\")\n",
        "        os.remove(\"main.zip\")\n",
        "        os.rename(\"/path_patching-main/ioi_dataset.py\", \"ioi_dataset.py\")\n",
        "        os.rename(\"/path_patching-main/path_patching.py\", \"path_patching.py\")\n",
        "        os.rmdir(\"/path_patching-main\")\n",
        "\n",
        "from path_patching import Node, IterNode, path_patch, act_patch"
      ]
    },
    {
      "cell_type": "code",
      "execution_count": null,
      "metadata": {
        "id": "8vlEXgxRWrZw"
      },
      "outputs": [],
      "source": [
        "update_layout_set = {\n",
        "    \"xaxis_range\", \"yaxis_range\", \"hovermode\", \"xaxis_title\", \"yaxis_title\", \"colorbar\", \"colorscale\", \"coloraxis\", \"title_x\", \"bargap\", \"bargroupgap\", \"xaxis_tickformat\",\n",
        "    \"yaxis_tickformat\", \"title_y\", \"legend_title_text\", \"xaxis_showgrid\", \"xaxis_gridwidth\", \"xaxis_gridcolor\", \"yaxis_showgrid\", \"yaxis_gridwidth\", \"yaxis_gridcolor\",\n",
        "    \"showlegend\", \"xaxis_tickmode\", \"yaxis_tickmode\", \"xaxis_tickangle\", \"yaxis_tickangle\", \"margin\", \"xaxis_visible\", \"yaxis_visible\", \"bargap\", \"bargroupgap\"\n",
        "}\n",
        "\n",
        "def imshow(tensor, return_fig = False, renderer=None, **kwargs):\n",
        "    kwargs_post = {k: v for k, v in kwargs.items() if k in update_layout_set}\n",
        "    kwargs_pre = {k: v for k, v in kwargs.items() if k not in update_layout_set}\n",
        "    facet_labels = kwargs_pre.pop(\"facet_labels\", None)\n",
        "    border = kwargs_pre.pop(\"border\", False)\n",
        "    if \"color_continuous_scale\" not in kwargs_pre:\n",
        "        kwargs_pre[\"color_continuous_scale\"] = \"RdBu\"\n",
        "    if \"margin\" in kwargs_post and isinstance(kwargs_post[\"margin\"], int):\n",
        "        kwargs_post[\"margin\"] = dict.fromkeys(list(\"tblr\"), kwargs_post[\"margin\"])\n",
        "    if \"color_continuous_midpoint\" not in kwargs_pre:\n",
        "        fig = px.imshow(utils.to_numpy(tensor), color_continuous_midpoint=0.0, **kwargs_pre)\n",
        "    else:\n",
        "        fig = px.imshow(utils.to_numpy(tensor), **kwargs_pre)\n",
        "    if facet_labels:\n",
        "        for i, label in enumerate(facet_labels):\n",
        "            fig.layout.annotations[i]['text'] = label\n",
        "    if border:\n",
        "        fig.update_xaxes(showline=True, linewidth=1, linecolor='black', mirror=True)\n",
        "        fig.update_yaxes(showline=True, linewidth=1, linecolor='black', mirror=True)\n",
        "    # things like `xaxis_tickmode` should be applied to all subplots. This is super janky lol but I'm under time pressure\n",
        "    for setting in [\"tickangle\"]:\n",
        "      if f\"xaxis_{setting}\" in kwargs_post:\n",
        "          i = 2\n",
        "          while f\"xaxis{i}\" in fig[\"layout\"]:\n",
        "            kwargs_post[f\"xaxis{i}_{setting}\"] = kwargs_post[f\"xaxis_{setting}\"]\n",
        "            i += 1\n",
        "    fig.update_layout(**kwargs_post)\n",
        "    fig.show(renderer=renderer)\n",
        "    if return_fig:\n",
        "      return fig\n",
        "\n",
        "def hist(tensor, renderer=None, **kwargs):\n",
        "    kwargs_post = {k: v for k, v in kwargs.items() if k in update_layout_set}\n",
        "    kwargs_pre = {k: v for k, v in kwargs.items() if k not in update_layout_set}\n",
        "    names = kwargs_pre.pop(\"names\", None)\n",
        "    if \"barmode\" not in kwargs_post:\n",
        "        kwargs_post[\"barmode\"] = \"overlay\"\n",
        "    if \"bargap\" not in kwargs_post:\n",
        "        kwargs_post[\"bargap\"] = 0.0\n",
        "    if \"margin\" in kwargs_post and isinstance(kwargs_post[\"margin\"], int):\n",
        "        kwargs_post[\"margin\"] = dict.fromkeys(list(\"tblr\"), kwargs_post[\"margin\"])\n",
        "    fig = px.histogram(x=tensor, **kwargs_pre).update_layout(**kwargs_post)\n",
        "    if names is not None:\n",
        "        for i in range(len(fig.data)):\n",
        "            fig.data[i][\"name\"] = names[i // 2]\n",
        "    fig.show(renderer)"
      ]
    },
    {
      "cell_type": "code",
      "execution_count": null,
      "metadata": {
        "id": "dv-vp7D36Wbp"
      },
      "outputs": [],
      "source": [
        "from plotly import graph_objects as go\n",
        "from plotly.subplots import make_subplots"
      ]
    },
    {
      "cell_type": "code",
      "execution_count": null,
      "metadata": {
        "colab": {
          "base_uri": "https://localhost:8080/",
          "height": 245,
          "referenced_widgets": [
            "39ca4f3bb3f5489a983813ad45377328",
            "4657b69f525d420eafe60a58b9eba62e",
            "a2e008a89ae4447a9035bf7cc3f1732f",
            "a9202d4d8a9b4418b3ec6b995ce8b5c6",
            "bd6fc4ad64cf468d91787b80d2d94845",
            "65e291ecb86248ec8397ef6a384e36a7",
            "44c5309e4bd34123b94affcea0a3a904",
            "d7ebce3f41234143858338cf5cb1a5e8",
            "2de9ab1c645b483ba28374fdb1b9eb35",
            "e9882d958fa24485adfeabb6ff66b38a",
            "266343ea417646cbb9f3d67bb559cebc",
            "6853447e673f476ba276f5e641097cca",
            "7c1a1dbcf6694666af2e18350020e38c",
            "9c487396cd5b494ca72b2ef3df44de34",
            "0f69cbb4c5c34265ae0d71edf3be4d78",
            "b650dc277fcd4d0eb0e0f1124ad1f06c",
            "0a52bbbb082d48df970a59d4ee5eeb15",
            "1f7c442a701e4b9ab3f92c1fe6615a95",
            "5ebf4724e76143538f27a0a53f9cc606",
            "bd2c93d1511a4a5791aebdde5eb1a602",
            "9ca053db6fac4eebb090957074154c92",
            "d230e8e90c9748c580e82ccfcda134cc",
            "e222e8ab7f954d8ebe9547bec0c5a79c",
            "171aca9616804294b1a909e3605fcc66",
            "ff6ed43bd5aa464ba6e7beb69c2a63aa",
            "9aaaef093f174f6db80cd1f238de954c",
            "e3579dfa9a7c4c05bd4b8b5fe64588a8",
            "c53dc2719fe9428f854bcaaabac559a3",
            "cc734b0cccb84576a5ab7dcfb0ad5c07",
            "69e6a160701a49c996279e815a2e098d",
            "52f2b3a45453449eb4fe3726932aba62",
            "b5bccb75c9954d05bf47ea10bc8e378d",
            "a1a22fef83e14a629d231817171eab6c",
            "fdfbe3a8b33948d6a912bdbca7fea92d",
            "7ddf6e19145a4882b2c8115a47ddf652",
            "9ec29244846b4f15a6336a082c194e57",
            "61217a71994948a686b9f91559139964",
            "6ae2af3b9f5c463fb1d39b3527a5cccb",
            "fecf92c5983b43beb49fb9a7a6c869ed",
            "2187509d93784f32a03c65332ef7b8ef",
            "1d4d2ff170744a369abd83d3278323ee",
            "9a0f6e472eff4c26938ec14c4572500e",
            "59f81a01093c40b58a39797bd2b3bd84",
            "8328734c44e247da86cc60adea7ceabb",
            "1b2583cf2de243ac971bd56ecfa056b8",
            "8f0ebe0ef06044dfb27e02ff0a4ed807",
            "f03e44a06d2649a185cb5c175fe0d41d",
            "66609e6179c649fa870485071e8cb43f",
            "04285e8fb84e45d2aa37ebf6b2479d59",
            "5cb232dbf3344473ad209914572921aa",
            "0387d302da334acb803fbca97647a34b",
            "8b03a8c5780e480c8a6cb926e857b367",
            "efb877ccc0d1420eaa4609ff3400c8d9",
            "299a2d5c07514bd0a50de244e927a370",
            "d3513f60652840eb92ddc10ea24d51ad",
            "2b2d37b26337473aba52e38ac7893cff",
            "f2ba1a4525044e19ab0f2141936065d9",
            "698fd22ec3da4d40b227bbe5935d1eb3",
            "6f830495652d4ef99215577bdcd94929",
            "e6f5aff48e2542cbac8443e6c68e2684",
            "7dad22f8b76c458cbbaf34db2b939a69",
            "5f3cd94e398545a79ad485de101799f7",
            "886a9f66549f4076a95c449707d1653f",
            "8d8ffd36a2874b959d80aced003d3b49",
            "757e5415ec324db0b430a7ee83678722",
            "36b57a3c39c04ac9ad472915d317ee25"
          ]
        },
        "id": "o8KgURIVz1gf",
        "outputId": "58168981-4fee-4d69-c678-d2ad49dc0e8e"
      },
      "outputs": [
        {
          "output_type": "display_data",
          "data": {
            "text/plain": [
              "Downloading (…)lve/main/config.json:   0%|          | 0.00/665 [00:00<?, ?B/s]"
            ],
            "application/vnd.jupyter.widget-view+json": {
              "version_major": 2,
              "version_minor": 0,
              "model_id": "39ca4f3bb3f5489a983813ad45377328"
            }
          },
          "metadata": {}
        },
        {
          "output_type": "display_data",
          "data": {
            "text/plain": [
              "Downloading model.safetensors:   0%|          | 0.00/548M [00:00<?, ?B/s]"
            ],
            "application/vnd.jupyter.widget-view+json": {
              "version_major": 2,
              "version_minor": 0,
              "model_id": "6853447e673f476ba276f5e641097cca"
            }
          },
          "metadata": {}
        },
        {
          "output_type": "display_data",
          "data": {
            "text/plain": [
              "Downloading (…)neration_config.json:   0%|          | 0.00/124 [00:00<?, ?B/s]"
            ],
            "application/vnd.jupyter.widget-view+json": {
              "version_major": 2,
              "version_minor": 0,
              "model_id": "e222e8ab7f954d8ebe9547bec0c5a79c"
            }
          },
          "metadata": {}
        },
        {
          "output_type": "display_data",
          "data": {
            "text/plain": [
              "Downloading (…)olve/main/vocab.json:   0%|          | 0.00/1.04M [00:00<?, ?B/s]"
            ],
            "application/vnd.jupyter.widget-view+json": {
              "version_major": 2,
              "version_minor": 0,
              "model_id": "fdfbe3a8b33948d6a912bdbca7fea92d"
            }
          },
          "metadata": {}
        },
        {
          "output_type": "display_data",
          "data": {
            "text/plain": [
              "Downloading (…)olve/main/merges.txt:   0%|          | 0.00/456k [00:00<?, ?B/s]"
            ],
            "application/vnd.jupyter.widget-view+json": {
              "version_major": 2,
              "version_minor": 0,
              "model_id": "1b2583cf2de243ac971bd56ecfa056b8"
            }
          },
          "metadata": {}
        },
        {
          "output_type": "display_data",
          "data": {
            "text/plain": [
              "Downloading (…)/main/tokenizer.json:   0%|          | 0.00/1.36M [00:00<?, ?B/s]"
            ],
            "application/vnd.jupyter.widget-view+json": {
              "version_major": 2,
              "version_minor": 0,
              "model_id": "2b2d37b26337473aba52e38ac7893cff"
            }
          },
          "metadata": {}
        },
        {
          "output_type": "stream",
          "name": "stderr",
          "text": [
            "Using pad_token, but it is not set yet.\n"
          ]
        },
        {
          "output_type": "stream",
          "name": "stdout",
          "text": [
            "Loaded pretrained model gpt2-small into HookedTransformer\n"
          ]
        }
      ],
      "source": [
        "model = HookedTransformer.from_pretrained(\n",
        "    \"gpt2-small\",\n",
        "    center_unembed=True,\n",
        "    center_writing_weights=True,\n",
        "    fold_ln=True,\n",
        "    refactor_factored_attn_matrices=True,\n",
        "\n",
        "    device = device\n",
        ")"
      ]
    },
    {
      "cell_type": "markdown",
      "metadata": {
        "id": "Daje7Fw1m2W1"
      },
      "source": [
        "# Model + Dataset Setup"
      ]
    },
    {
      "cell_type": "markdown",
      "metadata": {
        "id": "Gv5obrKX0dZD"
      },
      "source": [
        "## lists"
      ]
    },
    {
      "cell_type": "code",
      "execution_count": null,
      "metadata": {
        "id": "AxP_Xvfc0fb-"
      },
      "outputs": [],
      "source": [
        "objects = [\n",
        "  \"perfume\",\n",
        "  \"scissors\",\n",
        "  \"drum\",\n",
        "  \"trumpet\",\n",
        "  \"phone\",\n",
        "  \"football\",\n",
        "  \"token\",\n",
        "  \"bracelet\",\n",
        "  \"badge\",\n",
        "  \"novel\",\n",
        "  \"pillow\",\n",
        "  \"coffee\",\n",
        "  \"skirt\",\n",
        "  \"balloon\",\n",
        "  \"photo\",\n",
        "  \"plate\",\n",
        "  \"headphones\",\n",
        "  \"flask\",\n",
        "  \"menu\",\n",
        "  \"compass\",\n",
        "  \"belt\",\n",
        "  \"wallet\",\n",
        "  \"pen\",\n",
        "  \"mask\",\n",
        "  \"ticket\",\n",
        "  \"suitcase\",\n",
        "  \"sunscreen\",\n",
        "  \"letter\",\n",
        "  \"torch\",\n",
        "  \"cocktail\",\n",
        "  \"spoon\",\n",
        "  \"comb\",\n",
        "  \"shirt\",\n",
        "  \"coin\",\n",
        "  \"cable\",\n",
        "  \"button\",\n",
        "  \"recorder\",\n",
        "  \"frame\",\n",
        "  \"key\",\n",
        "  \"card\",\n",
        "  \"canvas\",\n",
        "  \"packet\",\n",
        "  \"bowl\",\n",
        "  \"receipt\",\n",
        "  \"pan\",\n",
        "  \"report\",\n",
        "  \"book\",\n",
        "  \"cap\",\n",
        "  \"charger\",\n",
        "  \"rake\",\n",
        "  \"fork\",\n",
        "  \"map\",\n",
        "  \"soap\",\n",
        "  \"cash\",\n",
        "  \"whistle\",\n",
        "  \"rope\",\n",
        "  \"violin\",\n",
        "  \"scale\",\n",
        "  \"diary\",\n",
        "  \"ruler\",\n",
        "  \"mouse\",\n",
        "  \"toy\",\n",
        "  \"cd\",\n",
        "  \"dress\",\n",
        "  \"shampoo\",\n",
        "  \"flashlight\",\n",
        "  \"newspaper\",\n",
        "  \"puzzle\",\n",
        "  \"tripod\",\n",
        "  \"brush\",\n",
        "  \"cane\",\n",
        "  \"whisk\",\n",
        "  \"tablet\",\n",
        "  \"purse\",\n",
        "  \"paper\",\n",
        "  \"vinyl\",\n",
        "  \"camera\",\n",
        "  \"guitar\",\n",
        "  \"necklace\",\n",
        "  \"mirror\",\n",
        "  \"cup\",\n",
        "  \"cloth\",\n",
        "  \"flag\",\n",
        "  \"socks\",\n",
        "  \"shovel\",\n",
        "  \"cooler\",\n",
        "  \"hammer\",\n",
        "  \"shoes\",\n",
        "  \"chalk\",\n",
        "  \"wrench\",\n",
        "  \"towel\",\n",
        "  \"glove\",\n",
        "  \"speaker\",\n",
        "  \"remote\",\n",
        "  \"leash\",\n",
        "  \"magazine\",\n",
        "  \"notebook\",\n",
        "  \"candle\",\n",
        "  \"feather\",\n",
        "  \"gloves\",\n",
        "  \"mascara\",\n",
        "  \"charcoal\",\n",
        "  \"pills\",\n",
        "  \"laptop\",\n",
        "  \"pamphlet\",\n",
        "  \"knife\",\n",
        "  \"kettle\",\n",
        "  \"scarf\",\n",
        "  \"tie\",\n",
        "  \"goggles\",\n",
        "  \"fins\",\n",
        "  \"lipstick\",\n",
        "  \"shorts\",\n",
        "  \"joystick\",\n",
        "  \"bookmark\",\n",
        "  \"microphone\",\n",
        "  \"hat\",\n",
        "  \"pants\",\n",
        "  \"umbrella\",\n",
        "  \"harness\",\n",
        "  \"roller\",\n",
        "  \"blanket\",\n",
        "  \"folder\",\n",
        "  \"bag\",\n",
        "  \"crate\",\n",
        "  \"pot\",\n",
        "  \"watch\",\n",
        "  \"mug\",\n",
        "  \"sandwich\",\n",
        "  \"yarn\",\n",
        "  \"ring\",\n",
        "  \"backpack\",\n",
        "  \"glasses\",\n",
        "  \"pencil\",\n",
        "  \"broom\",\n",
        "  \"baseball\",\n",
        "  \"basket\",\n",
        "  \"loaf\",\n",
        "  \"coins\",\n",
        "  \"bakery\",\n",
        "  \"tape\",\n",
        "  \"helmet\",\n",
        "  \"bible\",\n",
        "  \"jacket\"\n",
        "]"
      ]
    },
    {
      "cell_type": "code",
      "execution_count": null,
      "metadata": {
        "id": "mkNghQGv640F"
      },
      "outputs": [],
      "source": [
        "names = [\n",
        "  \" Sebastian\",\n",
        "  \" Jack\",\n",
        "  \" Jeremiah\",\n",
        "  \" Ellie\",\n",
        "  \" Sean\",\n",
        "  \" William\",\n",
        "  \" Caroline\",\n",
        "  \" Cooper\",\n",
        "  \" Xavier\",\n",
        "  \" Ian\",\n",
        "  \" Mark\",\n",
        "  \" Brian\",\n",
        "  \" Carter\",\n",
        "  \" Nicholas\",\n",
        "  \" Peyton\",\n",
        "  \" Luke\",\n",
        "  \" Alexis\",\n",
        "  \" Ted\",\n",
        "  \" Jan\",\n",
        "  \" Ty\",\n",
        "  \" Jen\",\n",
        "  \" Sophie\",\n",
        "  \" Kelly\",\n",
        "  \" Claire\",\n",
        "  \" Leo\",\n",
        "  \" Nolan\",\n",
        "  \" Kyle\",\n",
        "  \" Ashley\",\n",
        "  \" Samantha\",\n",
        "  \" Avery\",\n",
        "  \" Jackson\",\n",
        "  \" Hudson\",\n",
        "  \" Rebecca\",\n",
        "  \" Robert\",\n",
        "  \" Joshua\",\n",
        "  \" Olivia\",\n",
        "  \" Reagan\",\n",
        "  \" Lauren\",\n",
        "  \" Chris\",\n",
        "  \" Chelsea\",\n",
        "  \" Deb\",\n",
        "  \" Chloe\",\n",
        "  \" Madison\",\n",
        "  \" Kent\",\n",
        "  \" Thomas\",\n",
        "  \" Oliver\",\n",
        "  \" Dylan\",\n",
        "  \" Ann\",\n",
        "  \" Audrey\",\n",
        "  \" Greg\",\n",
        "  \" Henry\",\n",
        "  \" Emma\",\n",
        "  \" Josh\",\n",
        "  \" Mary\",\n",
        "  \" Daniel\",\n",
        "  \" Carl\",\n",
        "  \" Scarlett\",\n",
        "  \" Ethan\",\n",
        "  \" Levi\",\n",
        "  \" Eli\",\n",
        "  \" James\",\n",
        "  \" Patrick\",\n",
        "  \" Isaac\",\n",
        "  \" Brooke\",\n",
        "  \" Alexa\",\n",
        "  \" Eleanor\",\n",
        "  \" Anthony\",\n",
        "  \" Logan\",\n",
        "  \" Damian\",\n",
        "  \" Jordan\",\n",
        "  \" Tyler\",\n",
        "  \" Haley\",\n",
        "  \" Isabel\",\n",
        "  \" Alan\",\n",
        "  \" Lucas\",\n",
        "  \" Dave\",\n",
        "  \" Susan\",\n",
        "  \" Joseph\",\n",
        "  \" Brad\",\n",
        "  \" Joe\",\n",
        "  \" Vincent\",\n",
        "  \" Maya\",\n",
        "  \" Will\",\n",
        "  \" Jessica\",\n",
        "  \" Sophia\",\n",
        "  \" Angel\",\n",
        "  \" Steve\",\n",
        "  \" Benjamin\",\n",
        "  \" Eric\",\n",
        "  \" Cole\",\n",
        "  \" Justin\",\n",
        "  \" Amy\",\n",
        "  \" Nora\",\n",
        "  \" Seth\",\n",
        "  \" Anna\",\n",
        "  \" Stella\",\n",
        "  \" Frank\",\n",
        "  \" Larry\",\n",
        "  \" Alexandra\",\n",
        "  \" Ken\",\n",
        "  \" Lucy\",\n",
        "  \" Katherine\",\n",
        "  \" Leah\",\n",
        "  \" Adrian\",\n",
        "  \" David\",\n",
        "  \" Liam\",\n",
        "  \" Christian\",\n",
        "  \" John\",\n",
        "  \" Nathaniel\",\n",
        "  \" Andrea\",\n",
        "  \" Laura\",\n",
        "  \" Kim\",\n",
        "  \" Kevin\",\n",
        "  \" Colin\",\n",
        "  \" Marcus\",\n",
        "  \" Emily\",\n",
        "  \" Sarah\",\n",
        "  \" Steven\",\n",
        "  \" Eva\",\n",
        "  \" Richard\",\n",
        "  \" Faith\",\n",
        "  \" Amelia\",\n",
        "  \" Harper\",\n",
        "  \" Keith\",\n",
        "  \" Ross\",\n",
        "  \" Megan\",\n",
        "  \" Brooklyn\",\n",
        "  \" Tom\",\n",
        "  \" Grant\",\n",
        "  \" Savannah\",\n",
        "  \" Riley\",\n",
        "  \" Julia\",\n",
        "  \" Piper\",\n",
        "  \" Wyatt\",\n",
        "  \" Jake\",\n",
        "  \" Nathan\",\n",
        "  \" Nick\",\n",
        "  \" Blake\",\n",
        "  \" Ryan\",\n",
        "  \" Jason\",\n",
        "  \" Chase\",]"
      ]
    },
    {
      "cell_type": "code",
      "execution_count": null,
      "metadata": {
        "id": "WF0NiXJB0knJ"
      },
      "outputs": [],
      "source": [
        "# names = [\n",
        "\n",
        "#     \" Mary\", \" John\",\n",
        "#     \" Tom\", \" James\",\n",
        "#     \" Dan\", \" Sid\"  ,\n",
        "#     \" Martin\", \" Amy\",\n",
        "#     \" Cody\", \" Jay\",\n",
        "#     \" Jack\", \" Jill\",\n",
        "#     \" Mark\", \" Martin\",\n",
        "#     \" Sarah\", \" Emily\",\n",
        "#     \" Cole\", \" George\",\n",
        "#     \" Kai\", \" Bryce\",\n",
        "# ]"
      ]
    },
    {
      "cell_type": "code",
      "execution_count": null,
      "metadata": {
        "id": "3eU8W9sF0sJj"
      },
      "outputs": [],
      "source": [
        "places = [\n",
        "  \"swamp\",\n",
        "  \"school\",\n",
        "  \"volcano\",\n",
        "  \"hotel\",\n",
        "  \"subway\",\n",
        "  \"arcade\",\n",
        "  \"library\",\n",
        "  \"island\",\n",
        "  \"convent\",\n",
        "  \"pool\",\n",
        "  \"mall\",\n",
        "  \"prison\",\n",
        "  \"quarry\",\n",
        "  \"temple\",\n",
        "  \"ruins\",\n",
        "  \"factory\",\n",
        "  \"zoo\",\n",
        "  \"mansion\",\n",
        "  \"tavern\",\n",
        "  \"planet\",\n",
        "  \"forest\",\n",
        "  \"airport\",\n",
        "  \"pharmacy\",\n",
        "  \"church\",\n",
        "  \"park\",\n",
        "  \"delta\",\n",
        "  \"mosque\",\n",
        "  \"valley\",\n",
        "  \"casino\",\n",
        "  \"pyramid\",\n",
        "  \"aquarium\",\n",
        "  \"castle\",\n",
        "  \"ranch\",\n",
        "  \"clinic\",\n",
        "  \"theater\",\n",
        "  \"gym\",\n",
        "  \"studio\",\n",
        "  \"station\",\n",
        "  \"palace\",\n",
        "  \"stadium\",\n",
        "  \"museum\",\n",
        "  \"plateau\",\n",
        "  \"home\",\n",
        "  \"resort\",\n",
        "  \"garage\",\n",
        "  \"reef\",\n",
        "  \"lounge\",\n",
        "  \"chapel\",\n",
        "  \"canyon\",\n",
        "  \"brewery\",\n",
        "  \"market\",\n",
        "  \"jungle\",\n",
        "  \"office\",\n",
        "  \"cottage\",\n",
        "  \"street\",\n",
        "  \"gallery\",\n",
        "  \"landfill\",\n",
        "  \"glacier\",\n",
        "  \"barracks\",\n",
        "  \"bakery\",\n",
        "  \"synagogue\",\n",
        "  \"jersey\",\n",
        "  \"plaza\",\n",
        "  \"garden\",\n",
        "  \"cafe\",\n",
        "  \"cinema\",\n",
        "  \"beach\",\n",
        "  \"harbor\",\n",
        "  \"circus\",\n",
        "  \"bridge\",\n",
        "  \"monastery\",\n",
        "  \"desert\",\n",
        "  \"tunnel\",\n",
        "  \"motel\",\n",
        "  \"fortress\"\n",
        "]"
      ]
    },
    {
      "cell_type": "markdown",
      "metadata": {
        "id": "Tjz17uXf0eje"
      },
      "source": [
        "## code\n"
      ]
    },
    {
      "cell_type": "code",
      "execution_count": null,
      "metadata": {
        "id": "vNUmu0W2z4xZ"
      },
      "outputs": [],
      "source": [
        "template = \"When{name_A} and{name_B} went to the {place},{name_C} gave the {object} to\""
      ]
    },
    {
      "cell_type": "code",
      "execution_count": null,
      "metadata": {
        "id": "OkXEo_ew0yIl"
      },
      "outputs": [],
      "source": [
        "# prompt: generate a list of prompts using the template. ensure that no prompt uses the same two names\n",
        "\n",
        "import random\n",
        "\n",
        "# Create a list of all possible pairs of names\n",
        "names_list = list(itertools.combinations(names, 2))\n",
        "\n",
        "# Create a list of prompts\n",
        "prompts = []\n",
        "counter_prompts = []\n",
        "\n",
        "\n",
        "name_pairs = []\n",
        "corrupt_name_triplets = []\n",
        "#counter_name_pairs = []\n",
        "\n",
        "for name_pair in names_list:\n",
        "    name_A, name_B = name_pair\n",
        "    # Generate a random place\n",
        "    place = random.choice(places)\n",
        "    # Generate a random object\n",
        "    objectA = random.choice(objects)\n",
        "    # Create a prompt\n",
        "    prompt = template.format(\n",
        "        name_A=name_A,\n",
        "        name_B=name_B,\n",
        "        place=place,\n",
        "        name_C=name_A,\n",
        "        object=objectA,\n",
        "    )\n",
        "    prompts.append(prompt)\n",
        "    name_pairs.append([name_B, name_A])\n",
        "\n",
        "\n",
        "    # generate three other names that are not name_A and name_B\n",
        "    other_names = []\n",
        "    while(len(other_names) != 3):\n",
        "      new_name = random.choice(names)\n",
        "      if new_name is not name_A and new_name is not name_B and new_name not in other_names:\n",
        "        other_names.append(new_name)\n",
        "\n",
        "    counter_prompts.append(template.format(\n",
        "\n",
        "        name_A=other_names[0],\n",
        "        name_B=other_names[1],\n",
        "        place=place,\n",
        "        name_C=other_names[2],\n",
        "        object=objectA,\n",
        "\n",
        "    ))\n",
        "\n",
        "    corrupt_name_triplets.append([other_names[0], other_names[1], other_names[2]])\n",
        "# Print the prompts"
      ]
    },
    {
      "cell_type": "code",
      "execution_count": null,
      "metadata": {
        "id": "H31AjXg5Xk_x"
      },
      "outputs": [],
      "source": [
        "# generate random list of numbers\n",
        "batch_size = 20\n",
        "rand_indices = torch.randint(0, len(prompts), size = (batch_size,))\n",
        "\n",
        "# indices plus the indices + 1\n",
        "#double_rand_indices = torch.cat((rand_indices, rand_indices + 1))"
      ]
    },
    {
      "cell_type": "code",
      "execution_count": null,
      "metadata": {
        "colab": {
          "base_uri": "https://localhost:8080/"
        },
        "id": "BC-lwfdZXk_x",
        "outputId": "a4f2d852-4415-4e11-b02e-384e5c3492ab"
      },
      "outputs": [
        {
          "output_type": "execute_result",
          "data": {
            "text/plain": [
              "tensor([2998, 8423, 2065, 5197, 8683, 9654, 1706, 1146, 5185, 5590,  400, 6112,\n",
              "        2467, 8998, 4125, 2069, 9324,   86, 8326, 3765])"
            ]
          },
          "metadata": {},
          "execution_count": 19
        }
      ],
      "source": [
        "rand_indices"
      ]
    },
    {
      "cell_type": "code",
      "execution_count": null,
      "metadata": {
        "id": "UkaFniID2-t7"
      },
      "outputs": [],
      "source": [
        "clean_prompts = [prompts[i] for i in rand_indices]\n",
        "corrupted_prompts = [counter_prompts[i] for i in rand_indices]\n",
        "name_answers = [name_pairs[i] for i in rand_indices]\n",
        "corrupt_name_answer_triplets = [corrupt_name_triplets[i] for i in rand_indices]"
      ]
    },
    {
      "cell_type": "code",
      "execution_count": null,
      "metadata": {
        "id": "AOow7a593cZG"
      },
      "outputs": [],
      "source": [
        "clean_tokens = model.to_tokens(clean_prompts, prepend_bos = True).cuda()\n",
        "corrupted_tokens = model.to_tokens(corrupted_prompts, prepend_bos = True).cuda()\n",
        "answer_tokens = torch.concat([\n",
        "    model.to_tokens(names, prepend_bos=False).squeeze(dim=1).unsqueeze(dim=0) for names in name_answers\n",
        "]).cuda()\n",
        "corrupt_answer_tokens = torch.concat([\n",
        "    model.to_tokens(names, prepend_bos=False).squeeze(dim=1).unsqueeze(dim=0) for names in corrupt_name_answer_triplets\n",
        "]).cuda()\n"
      ]
    },
    {
      "cell_type": "code",
      "execution_count": null,
      "metadata": {
        "colab": {
          "base_uri": "https://localhost:8080/"
        },
        "id": "1wdv6qRZ7cjL",
        "outputId": "8b2ac9b7-8d11-4bf9-8664-8d0011ffac0d"
      },
      "outputs": [
        {
          "output_type": "execute_result",
          "data": {
            "text/plain": [
              "torch.Size([20, 15])"
            ]
          },
          "metadata": {},
          "execution_count": 22
        }
      ],
      "source": [
        "seq_len = clean_tokens.shape[1]\n",
        "clean_tokens.shape"
      ]
    },
    {
      "cell_type": "code",
      "execution_count": null,
      "metadata": {
        "colab": {
          "base_uri": "https://localhost:8080/"
        },
        "id": "MdyUUSBsXk_y",
        "outputId": "db77d5f3-1d2f-4a5a-fa0e-9eb8b08b0eb1"
      },
      "outputs": [
        {
          "output_type": "execute_result",
          "data": {
            "text/plain": [
              "('When Steve and Megan went to the gym, Steve gave the cooler to',\n",
              " 'When Claire and Amelia went to the gym, Lucas gave the cooler to',\n",
              " [' Megan', ' Steve'])"
            ]
          },
          "metadata": {},
          "execution_count": 23
        }
      ],
      "source": [
        "index = 1\n",
        "clean_prompts[index], corrupted_prompts[index], name_answers[index]"
      ]
    },
    {
      "cell_type": "code",
      "execution_count": null,
      "metadata": {
        "id": "1PzZDVgi3jwh"
      },
      "outputs": [],
      "source": [
        "model.reset_hooks()\n",
        "clean_logits, clean_cache = model.run_with_cache(clean_tokens, prepend_bos = False)\n",
        "corrupted_logits, corrupted_cache = model.run_with_cache(corrupted_tokens, prepend_bos = False)"
      ]
    },
    {
      "cell_type": "markdown",
      "metadata": {
        "id": "vCbedEz6xNZz"
      },
      "source": [
        "# chillin\n"
      ]
    },
    {
      "cell_type": "code",
      "execution_count": null,
      "metadata": {
        "id": "kHYwlc6rnmaH"
      },
      "outputs": [],
      "source": [
        "def logits_to_ave_logit_diff(\n",
        "    logits: Float[Tensor, \"batch seq d_vocab\"],\n",
        "    answer_tokens: Float[Tensor, \"batch 2\"] = answer_tokens,\n",
        "    per_prompt: bool = False\n",
        "):\n",
        "    '''\n",
        "    Returns logit difference between the correct and incorrect answer.\n",
        "\n",
        "    If per_prompt=True, return the array of differences rather than the average.\n",
        "    '''\n",
        "    # Only the final logits are relevant for the answer\n",
        "    final_logits: Float[Tensor, \"batch d_vocab\"] = logits[:, -1, :]\n",
        "    # Get the logits corresponding to the indirect object / subject tokens respectively\n",
        "    answer_logits: Float[Tensor, \"batch 2\"] = final_logits.gather(dim=-1, index=answer_tokens)\n",
        "    # Find logit difference\n",
        "    correct_logits, incorrect_logits = answer_logits.unbind(dim=-1)\n",
        "    answer_logit_diff = correct_logits - incorrect_logits\n",
        "    return answer_logit_diff if per_prompt else answer_logit_diff.mean()"
      ]
    },
    {
      "cell_type": "code",
      "execution_count": null,
      "metadata": {
        "colab": {
          "base_uri": "https://localhost:8080/"
        },
        "id": "iw2AwkrQnpYz",
        "outputId": "acea12d6-fc8c-4df1-a5e4-5b1d1d5950af"
      },
      "outputs": [
        {
          "output_type": "stream",
          "name": "stdout",
          "text": [
            "tensor(3.9684, device='cuda:0')\n",
            "tensor(0.2589, device='cuda:0')\n"
          ]
        }
      ],
      "source": [
        "clean_per_prompt_diff = logits_to_ave_logit_diff(clean_logits, per_prompt = True)\n",
        "\n",
        "clean_average_logit_diff = logits_to_ave_logit_diff(clean_logits)\n",
        "corrupted_average_logit_diff = logits_to_ave_logit_diff(corrupted_logits)\n",
        "\n",
        "print(clean_average_logit_diff)\n",
        "print(corrupted_average_logit_diff)"
      ]
    },
    {
      "cell_type": "code",
      "execution_count": null,
      "metadata": {
        "id": "es4GO_hnnum4"
      },
      "outputs": [],
      "source": [
        "answer_residual_directions: Float[Tensor, \"batch 2 d_model\"] = model.tokens_to_residual_directions(answer_tokens)\n",
        "correct_residual_direction, incorrect_residual_direction = answer_residual_directions.unbind(dim=1)\n",
        "logit_diff_directions: Float[Tensor, \"batch d_model\"] = correct_residual_direction - incorrect_residual_direction"
      ]
    },
    {
      "cell_type": "code",
      "execution_count": null,
      "metadata": {
        "id": "vys_gX-soBi4"
      },
      "outputs": [],
      "source": [
        "def residual_stack_to_logit_diff(\n",
        "    residual_stack: Float[Tensor, \"... batch d_model\"],\n",
        "    cache: ActivationCache,\n",
        "    logit_diff_directions: Float[Tensor, \"batch d_model\"] = logit_diff_directions,\n",
        ") -> Float[Tensor, \"...\"]:\n",
        "    '''\n",
        "    Gets the avg logit difference between the correct and incorrect answer for a given\n",
        "    stack of components in the residual stream.\n",
        "    '''\n",
        "    batch_size = residual_stack.size(-2)\n",
        "    scaled_residual_stack = cache.apply_ln_to_stack(residual_stack, layer=-1, pos_slice=-1)\n",
        "\n",
        "\n",
        "\n",
        "    # # some extra code for more sanity checking\n",
        "    # new_logits = scaled_residual_stack @ model.W_U\n",
        "    # print(new_logits.shape)\n",
        "    # new_logits = einops.repeat(new_logits, \"batch d_vocab -> batch 1 d_vocab\")\n",
        "    # print(new_logits.shape)\n",
        "    # print(logits_to_ave_logit_diff(new_logits))\n",
        "\n",
        "    return einops.einsum(\n",
        "        scaled_residual_stack, logit_diff_directions,\n",
        "        \"... batch d_model, batch d_model -> ...\"\n",
        "    ) / batch_size\n"
      ]
    },
    {
      "cell_type": "code",
      "execution_count": null,
      "metadata": {
        "colab": {
          "base_uri": "https://localhost:8080/"
        },
        "id": "1erVnl4Lqm_l",
        "outputId": "5d697e39-5988-4950-e434-301eac330f7d"
      },
      "outputs": [
        {
          "output_type": "stream",
          "name": "stdout",
          "text": [
            "Answer residual directions shape: torch.Size([20, 2, 768])\n",
            "Logit difference directions shape: torch.Size([20, 768])\n"
          ]
        }
      ],
      "source": [
        "answer_residual_directions: Float[Tensor, \"batch 2 d_model\"] = model.tokens_to_residual_directions(answer_tokens)\n",
        "print(\"Answer residual directions shape:\", answer_residual_directions.shape)\n",
        "\n",
        "correct_residual_directions, incorrect_residual_directions = answer_residual_directions.unbind(dim=1)\n",
        "logit_diff_directions: Float[Tensor, \"batch d_model\"] = correct_residual_directions - incorrect_residual_directions\n",
        "print(f\"Logit difference directions shape:\", logit_diff_directions.shape)"
      ]
    },
    {
      "cell_type": "code",
      "execution_count": null,
      "metadata": {
        "id": "xLIhGoy_Xk_z"
      },
      "outputs": [],
      "source": [
        "diff_from_unembedding_bias = model.b_U[answer_tokens[:, 0]] -  model.b_U[answer_tokens[:, 1]]"
      ]
    },
    {
      "cell_type": "code",
      "execution_count": null,
      "metadata": {
        "colab": {
          "base_uri": "https://localhost:8080/"
        },
        "id": "vZIobMegqnJ5",
        "outputId": "27612fe8-f7aa-4202-aa06-26d29df833f3"
      },
      "outputs": [
        {
          "output_type": "stream",
          "name": "stdout",
          "text": [
            "Final residual stream shape: torch.Size([20, 15, 768])\n",
            "Calculated average logit diff: 3.9684185982\n",
            "Original logit difference:     3.9684174061\n"
          ]
        }
      ],
      "source": [
        "final_residual_stream: Float[Tensor, \"batch seq d_model\"] = clean_cache[\"resid_post\", -1]\n",
        "print(f\"Final residual stream shape: {final_residual_stream.shape}\")\n",
        "final_token_residual_stream: Float[Tensor, \"batch d_model\"] = final_residual_stream[:, -1, :]\n",
        "\n",
        "print(f\"Calculated average logit diff: {(residual_stack_to_logit_diff(final_token_residual_stream, clean_cache, logit_diff_directions) + diff_from_unembedding_bias.mean(0)):.10f}\") # <-- okay b_U exists... and matters\n",
        "print(f\"Original logit difference:     {clean_average_logit_diff:.10f}\")"
      ]
    },
    {
      "cell_type": "markdown",
      "metadata": {
        "id": "JATymEVNrxLW"
      },
      "source": [
        "# Helper Functions"
      ]
    },
    {
      "cell_type": "markdown",
      "metadata": {
        "id": "pmcwuLTTTrhY"
      },
      "source": [
        "## Logit Diffs + Gather Important Heads"
      ]
    },
    {
      "cell_type": "code",
      "execution_count": null,
      "metadata": {
        "colab": {
          "base_uri": "https://localhost:8080/"
        },
        "id": "v59wxgS3TnD_",
        "outputId": "d6d2221d-f266-4013-c200-7567bd4b2921"
      },
      "outputs": [
        {
          "output_type": "stream",
          "name": "stdout",
          "text": [
            "Tried to stack head results when they weren't cached. Computing head results now\n"
          ]
        }
      ],
      "source": [
        "def calc_all_logit_diffs(cache):\n",
        "  clean_per_head_residual, labels = cache.stack_head_results(layer = -1, return_labels = True, apply_ln = False) # per_head_residual.shape = heads batch seq_pos d_model\n",
        "  # also, for the worried, no, we're not missing the application of LN here since it gets applied in the below function call\n",
        "  per_head_logit_diff: Float[Tensor, \"batch head\"] = residual_stack_to_logit_diff(clean_per_head_residual[:, :, -1, :], cache)\n",
        "\n",
        "  per_head_logit_diff = einops.rearrange(\n",
        "      per_head_logit_diff,\n",
        "      \"(layer head) ... -> layer head ...\",\n",
        "      layer=model.cfg.n_layers\n",
        "  )\n",
        "\n",
        "  correct_direction_per_head_logit: Float[Tensor, \"batch head\"] = residual_stack_to_logit_diff(clean_per_head_residual[:, :, -1, :], cache, logit_diff_directions = correct_residual_direction)\n",
        "\n",
        "  correct_direction_per_head_logit = einops.rearrange(\n",
        "      correct_direction_per_head_logit,\n",
        "      \"(layer head) ... -> layer head ...\",\n",
        "      layer=model.cfg.n_layers\n",
        "  )\n",
        "\n",
        "  incorrect_direction_per_head_logit: Float[Tensor, \"batch head\"] = residual_stack_to_logit_diff(clean_per_head_residual[:, :, -1, :], cache, logit_diff_directions = incorrect_residual_direction)\n",
        "\n",
        "  incorrect_direction_per_head_logit = einops.rearrange(\n",
        "      incorrect_direction_per_head_logit,\n",
        "      \"(layer head) ... -> layer head ...\",\n",
        "      layer=model.cfg.n_layers\n",
        "  )\n",
        "\n",
        "  return per_head_logit_diff, correct_direction_per_head_logit, incorrect_direction_per_head_logit\n",
        "\n",
        "per_head_logit_diff, correct_direction_per_head_logit, incorrect_direction_per_head_logit = calc_all_logit_diffs(clean_cache)"
      ]
    },
    {
      "cell_type": "code",
      "execution_count": null,
      "metadata": {
        "colab": {
          "base_uri": "https://localhost:8080/"
        },
        "id": "siL52OuCTtOT",
        "outputId": "51470e4b-e4da-4376-9298-2d821e46bfd4"
      },
      "outputs": [
        {
          "output_type": "stream",
          "name": "stdout",
          "text": [
            "[(9, 9), (9, 6), (10, 0), (10, 10), (10, 6)]\n"
          ]
        }
      ],
      "source": [
        "top_heads = []\n",
        "k = 5\n",
        "\n",
        "flattened_tensor = per_head_logit_diff.flatten().cpu()\n",
        "_, topk_indices = torch.topk(flattened_tensor, k)\n",
        "top_layer_arr, top_index_arr = np.unravel_index(topk_indices.numpy(), per_head_logit_diff.shape)\n",
        "\n",
        "for l, i in zip(top_layer_arr, top_index_arr):\n",
        "  top_heads.append((l,i))\n",
        "\n",
        "print(top_heads)"
      ]
    },
    {
      "cell_type": "code",
      "execution_count": null,
      "metadata": {
        "colab": {
          "base_uri": "https://localhost:8080/"
        },
        "id": "3x73NxlXQFEE",
        "outputId": "fb1947c0-e802-4726-cbe8-85deae138816"
      },
      "outputs": [
        {
          "output_type": "execute_result",
          "data": {
            "text/plain": [
              "tensor([ 0.0056, -0.1579, -0.4142,  0.0035, -0.0158,  0.0076,  0.0241, -0.0381,\n",
              "         0.0064, -0.0390, -1.0198, -0.0407], device='cuda:0')"
            ]
          },
          "metadata": {},
          "execution_count": 34
        }
      ],
      "source": [
        "per_head_logit_diff[11]"
      ]
    },
    {
      "cell_type": "code",
      "execution_count": null,
      "metadata": {
        "colab": {
          "base_uri": "https://localhost:8080/"
        },
        "id": "QhdinJ7TT0hp",
        "outputId": "2b4847eb-6f83-4518-d92d-df1c44b7dd90"
      },
      "outputs": [
        {
          "output_type": "stream",
          "name": "stdout",
          "text": [
            "[(10, 3), (10, 7), (11, 1), (11, 2), (11, 10)]\n"
          ]
        }
      ],
      "source": [
        "neg_heads = []\n",
        "neg_indices = torch.nonzero(torch.lt(per_head_logit_diff, -0.1))\n",
        "neg_heads_list = neg_indices.squeeze().tolist()\n",
        "for i in neg_heads_list:\n",
        "  neg_heads.append((i[0], i[1]))\n",
        "\n",
        "print(neg_heads)"
      ]
    },
    {
      "cell_type": "code",
      "execution_count": null,
      "metadata": {
        "colab": {
          "base_uri": "https://localhost:8080/",
          "height": 542
        },
        "id": "iKr56ZcJug25",
        "outputId": "36a12480-d2d6-4c0e-de64-bd300208f82f"
      },
      "outputs": [
        {
          "output_type": "display_data",
          "data": {
            "text/html": [
              "<html>\n",
              "<head><meta charset=\"utf-8\" /></head>\n",
              "<body>\n",
              "    <div>            <script src=\"https://cdnjs.cloudflare.com/ajax/libs/mathjax/2.7.5/MathJax.js?config=TeX-AMS-MML_SVG\"></script><script type=\"text/javascript\">if (window.MathJax && window.MathJax.Hub && window.MathJax.Hub.Config) {window.MathJax.Hub.Config({SVG: {font: \"STIX-Web\"}});}</script>                <script type=\"text/javascript\">window.PlotlyConfig = {MathJaxConfig: 'local'};</script>\n",
              "        <script src=\"https://cdn.plot.ly/plotly-2.18.2.min.js\"></script>                <div id=\"6554ccd3-e1d1-449a-b840-75f860da5852\" class=\"plotly-graph-div\" style=\"height:525px; width:1500px;\"></div>            <script type=\"text/javascript\">                                    window.PLOTLYENV=window.PLOTLYENV || {};                                    if (document.getElementById(\"6554ccd3-e1d1-449a-b840-75f860da5852\")) {                    Plotly.newPlot(                        \"6554ccd3-e1d1-449a-b840-75f860da5852\",                        [{\"coloraxis\":\"coloraxis\",\"name\":\"0\",\"z\":[[-0.00614745682105422,-7.330253720283508e-05,0.005045554134994745,0.016563093289732933,-0.012541281059384346,-0.020631667226552963,-0.04110113903880119,0.026432102546095848,0.02253260649740696,-0.0046966285444796085,-0.0293093454092741,-0.010590746998786926],[-0.009919439442455769,0.00486426567658782,-0.0017682493198662996,0.02590922825038433,-0.025239968672394753,-0.038114093244075775,-0.014191994443535805,0.027914388105273247,0.008367609232664108,0.019775724038481712,-0.020211605355143547,0.0027966226916760206],[0.014858873561024666,-0.007676670793443918,0.010372367687523365,-0.009651636704802513,-0.012943548150360584,0.01459167618304491,0.004636650439351797,-0.018565108999609947,-0.0340128168463707,-0.029141917824745178,-0.03839431330561638,0.03358617052435875],[0.011631404981017113,0.0048478576354682446,0.007655127439647913,0.0008706736261956394,-0.010886580683290958,-0.008321158587932587,-0.008899308741092682,-0.011701188050210476,0.0004483044322114438,-0.014960325323045254,0.010864163748919964,-0.024497685953974724],[0.0034963947255164385,-0.0053210146725177765,-0.008478851988911629,1.2792646884918213e-05,-0.0010231699561700225,-0.006151875015348196,0.03880295902490616,0.010345312766730785,-0.014639302156865597,-0.013784206472337246,0.0023708483204245567,-0.019361380487680435],[0.01651163212954998,0.014736339449882507,-0.028221851214766502,0.0003483477921690792,0.0025519945193082094,0.0054216706193983555,-0.009057446382939816,-0.035740699619054794,0.008356835693120956,-0.03743206337094307,-0.009646588936448097,0.028581464663147926],[0.01018592156469822,-0.008550755679607391,0.010095476172864437,0.009066494181752205,-0.043547630310058594,0.0013599051162600517,0.032626207917928696,-0.004653585143387318,-0.011061948724091053,-0.01707126572728157,-0.008444569073617458,-0.008509362116456032],[1.6704201470929547e-06,-0.007594942580908537,-0.0006480347365140915,0.08559756726026535,-0.00043563172221183777,-0.03687107190489769,-0.010499358177185059,0.0023567762691527605,-0.008580693043768406,0.17094533145427704,-0.010654342360794544,0.0024532091338187456],[0.008345633745193481,-0.00306456396356225,-0.021446088328957558,-0.06250263005495071,0.00042341501102782786,-0.022604549303650856,-0.09928908199071884,0.013077884912490845,-0.02056228742003441,-0.01978294551372528,0.22346678376197815,0.16309231519699097],[0.16355536878108978,-0.006417848169803619,0.03397826477885246,0.0034946890082210302,-0.049222420901060104,0.026786774396896362,1.68706476688385,0.08589662611484528,0.26527851819992065,3.4588096141815186,0.009176189079880714,0.023537306115031242],[0.7527638077735901,0.1441563218832016,0.15868090093135834,-0.1530528962612152,-0.007611023727804422,0.01521633006632328,0.27396702766418457,-2.297128200531006,-0.0023295662831515074,-0.05026501417160034,0.5753141641616821,-0.006301615387201309],[0.005609363317489624,-0.15785756707191467,-0.41415277123451233,0.003484089393168688,-0.015784669667482376,0.007639676332473755,0.02407526969909668,-0.03809242323040962,0.00636312598362565,-0.03898591920733452,-1.0197645425796509,-0.04069795086979866]],\"type\":\"heatmap\",\"xaxis\":\"x\",\"yaxis\":\"y\",\"hovertemplate\":\"Head: %{x}<br>Layer: %{y}<br>Logit Contribution: %{z}<extra></extra>\"},{\"coloraxis\":\"coloraxis\",\"name\":\"1\",\"z\":[[-0.005179218947887421,-0.014430738054215908,-0.009601796045899391,0.029513617977499962,0.011224791407585144,-0.011716211214661598,0.02197837270796299,0.009176144376397133,0.05026441812515259,-0.035193413496017456,0.046095576137304306,0.027558421716094017],[0.00602650037035346,0.0117757273837924,0.013917850330471992,0.02009025774896145,0.0009886563057079911,-0.06164045259356499,-0.011400698684155941,0.05201951786875725,0.0034331672359257936,0.001493158983066678,0.009240190498530865,0.01972121186554432],[0.03612801060080528,0.02268863283097744,0.013276264071464539,0.021525084972381592,-0.006079041864722967,0.006894024554640055,-0.033836789429187775,-0.024117833003401756,-0.017596473917365074,-0.04061049222946167,-0.017549199983477592,0.006705078762024641],[0.02613786794245243,-0.0015991181135177612,0.027221685275435448,0.012703915126621723,-0.018705306574702263,0.00394112104550004,-0.01191905327141285,-0.021844742819666862,0.016044337302446365,-0.00964330043643713,-0.013047088868916035,0.0130613436922431],[0.007811036892235279,0.014191875234246254,-0.008632183074951172,-0.01703261211514473,-0.031103715300559998,-0.006498618517071009,0.03534930571913719,-0.05304180458188057,-0.006173059344291687,0.016800755634903908,0.006215222179889679,0.010259339585900307],[0.01934114098548889,0.01961786486208439,-0.023625759407877922,0.008120493963360786,0.004947109613567591,0.031037380918860435,0.003347359597682953,-0.025378448888659477,0.013722220435738564,-0.07166048139333725,-0.03559308871626854,0.03137853741645813],[0.013182041235268116,-0.0006426535546779633,0.004075022879987955,-0.006344974972307682,-0.0068594301119446754,-0.010809055529534817,0.009249373339116573,-0.023694245144724846,-0.03339388221502304,0.029196280986070633,0.004441120661795139,0.03216005116701126],[0.02443290315568447,0.02165990322828293,0.005065907724201679,0.02173410914838314,-0.010597082786262035,0.008403371088206768,-0.12403066456317902,0.022964749485254288,0.03262815624475479,-0.06856852024793625,0.008377906866371632,0.10926546901464462],[0.021891428157687187,0.002314754296094179,0.14040826261043549,0.3849479854106903,0.026113301515579224,0.009077810682356358,0.467001348733902,0.03075583279132843,0.04155942425131798,-0.015042577870190144,-0.43180346488952637,0.2970261573791504],[0.19568274915218353,0.0053292508237063885,0.14757530391216278,0.08753281086683273,0.16160817444324493,-0.14785216748714447,2.0784685611724854,0.07467227429151535,0.715482234954834,3.722785234451294,-0.011841963045299053,0.1514701545238495],[1.3760312795639038,0.2683125436306,0.7235145568847656,0.09336936473846436,0.024593815207481384,-0.001017649075947702,0.47412919998168945,-2.534287214279175,0.012627111747860909,0.1418805718421936,0.9025198221206665,0.02827518619596958],[0.13015173375606537,0.15950974822044373,0.43440982699394226,0.3246097266674042,-0.08516400307416916,0.04949718341231346,0.3339526057243347,0.16901732981204987,0.2159961760044098,0.11353820562362671,-1.4254200458526611,0.18618012964725494]],\"type\":\"heatmap\",\"xaxis\":\"x2\",\"yaxis\":\"y2\",\"hovertemplate\":\"Head: %{x}<br>Layer: %{y}<br>Logit Contribution: %{z}<extra></extra>\"},{\"coloraxis\":\"coloraxis\",\"name\":\"2\",\"z\":[[0.0009682480595074594,-0.014357471838593483,-0.014647354371845722,0.012950524687767029,0.02376607432961464,0.008915473707020283,0.06307952851057053,-0.01725595071911812,0.02773180976510048,-0.030496779829263687,0.07540490478277206,0.0381491482257843],[0.0159459188580513,0.006911447737365961,0.015686096623539925,-0.0058189756236970425,0.02622861973941326,-0.0235263891518116,0.0027912987861782312,0.024105139076709747,-0.004934435244649649,-0.018282553181052208,0.029451817274093628,0.016924569383263588],[0.021269140765070915,0.030365293845534325,0.002903895452618599,0.031176695600152016,0.0068645179271698,-0.007697660475969315,-0.03847344592213631,-0.005552740301936865,0.016416385769844055,-0.011468587443232536,0.020845113322138786,-0.026881054043769836],[0.014506456442177296,-0.00644698878750205,0.019566548988223076,0.011833240278065205,-0.00781873520463705,0.012262281961739063,-0.003019738243892789,-0.010143551044166088,0.015596019104123116,0.005317030940204859,-0.02391125075519085,0.03755902498960495],[0.0043146549724042416,0.01951288990676403,-0.00015332996554207057,-0.017045404762029648,-0.030080540105700493,-0.00034674257040023804,-0.003453657031059265,-0.06338711827993393,0.008466239087283611,0.030584950000047684,0.003844377351924777,0.029620720073580742],[0.00282951514236629,0.00488151703029871,0.004596096929162741,0.007772163953632116,0.0023951164912432432,0.025615710765123367,0.012404808774590492,0.01036226749420166,0.0053653777576982975,-0.03422845900058746,-0.025946512818336487,0.00279707252047956],[0.002996108727529645,0.007908094674348831,-0.006020440254360437,-0.015411481261253357,0.03668821603059769,-0.01216895878314972,-0.023376837372779846,-0.019040683284401894,-0.022331928834319115,0.0462675467133522,0.012885691598057747,0.04066941514611244],[0.024431241676211357,0.029254836961627007,0.005713942926377058,-0.06386343389749527,-0.0101614473387599,0.04527444764971733,-0.11353130638599396,0.020607976242899895,0.041208840906620026,-0.2395138293504715,0.019032245501875877,0.10681229084730148],[0.013545788824558258,0.005379322916269302,0.16185438632965088,0.4474506378173828,0.025689849629998207,0.031682338565588,0.5662904381752014,0.017677946016192436,0.0621216781437397,0.0047403681091964245,-0.6552702784538269,0.13393385708332062],[0.032127391546964645,0.011747102253139019,0.11359701305627823,0.0840381607413292,0.21083061397075653,-0.17463889718055725,0.3914039134979248,-0.011224361136555672,0.45020371675491333,0.26397499442100525,-0.02101816050708294,0.1279328316450119],[0.6232675909996033,0.12415619194507599,0.5648337602615356,0.24642229080200195,0.03220481425523758,-0.01623397506773472,0.20016217231750488,-0.23715916275978088,0.014956685714423656,0.19214558601379395,0.32720550894737244,0.03457680344581604],[0.12454237788915634,0.31736740469932556,0.8485627174377441,0.3211256265640259,-0.06937932968139648,0.04185750335454941,0.3098773658275604,0.207109734416008,0.2096330225467682,0.15252411365509033,-0.4056555926799774,0.22687803208827972]],\"type\":\"heatmap\",\"xaxis\":\"x3\",\"yaxis\":\"y3\",\"hovertemplate\":\"Head: %{x}<br>Layer: %{y}<br>Logit Contribution: %{z}<extra></extra>\"}],                        {\"template\":{\"data\":{\"histogram2dcontour\":[{\"type\":\"histogram2dcontour\",\"colorbar\":{\"outlinewidth\":0,\"ticks\":\"\"},\"colorscale\":[[0.0,\"#0d0887\"],[0.1111111111111111,\"#46039f\"],[0.2222222222222222,\"#7201a8\"],[0.3333333333333333,\"#9c179e\"],[0.4444444444444444,\"#bd3786\"],[0.5555555555555556,\"#d8576b\"],[0.6666666666666666,\"#ed7953\"],[0.7777777777777778,\"#fb9f3a\"],[0.8888888888888888,\"#fdca26\"],[1.0,\"#f0f921\"]]}],\"choropleth\":[{\"type\":\"choropleth\",\"colorbar\":{\"outlinewidth\":0,\"ticks\":\"\"}}],\"histogram2d\":[{\"type\":\"histogram2d\",\"colorbar\":{\"outlinewidth\":0,\"ticks\":\"\"},\"colorscale\":[[0.0,\"#0d0887\"],[0.1111111111111111,\"#46039f\"],[0.2222222222222222,\"#7201a8\"],[0.3333333333333333,\"#9c179e\"],[0.4444444444444444,\"#bd3786\"],[0.5555555555555556,\"#d8576b\"],[0.6666666666666666,\"#ed7953\"],[0.7777777777777778,\"#fb9f3a\"],[0.8888888888888888,\"#fdca26\"],[1.0,\"#f0f921\"]]}],\"heatmap\":[{\"type\":\"heatmap\",\"colorbar\":{\"outlinewidth\":0,\"ticks\":\"\"},\"colorscale\":[[0.0,\"#0d0887\"],[0.1111111111111111,\"#46039f\"],[0.2222222222222222,\"#7201a8\"],[0.3333333333333333,\"#9c179e\"],[0.4444444444444444,\"#bd3786\"],[0.5555555555555556,\"#d8576b\"],[0.6666666666666666,\"#ed7953\"],[0.7777777777777778,\"#fb9f3a\"],[0.8888888888888888,\"#fdca26\"],[1.0,\"#f0f921\"]]}],\"heatmapgl\":[{\"type\":\"heatmapgl\",\"colorbar\":{\"outlinewidth\":0,\"ticks\":\"\"},\"colorscale\":[[0.0,\"#0d0887\"],[0.1111111111111111,\"#46039f\"],[0.2222222222222222,\"#7201a8\"],[0.3333333333333333,\"#9c179e\"],[0.4444444444444444,\"#bd3786\"],[0.5555555555555556,\"#d8576b\"],[0.6666666666666666,\"#ed7953\"],[0.7777777777777778,\"#fb9f3a\"],[0.8888888888888888,\"#fdca26\"],[1.0,\"#f0f921\"]]}],\"contourcarpet\":[{\"type\":\"contourcarpet\",\"colorbar\":{\"outlinewidth\":0,\"ticks\":\"\"}}],\"contour\":[{\"type\":\"contour\",\"colorbar\":{\"outlinewidth\":0,\"ticks\":\"\"},\"colorscale\":[[0.0,\"#0d0887\"],[0.1111111111111111,\"#46039f\"],[0.2222222222222222,\"#7201a8\"],[0.3333333333333333,\"#9c179e\"],[0.4444444444444444,\"#bd3786\"],[0.5555555555555556,\"#d8576b\"],[0.6666666666666666,\"#ed7953\"],[0.7777777777777778,\"#fb9f3a\"],[0.8888888888888888,\"#fdca26\"],[1.0,\"#f0f921\"]]}],\"surface\":[{\"type\":\"surface\",\"colorbar\":{\"outlinewidth\":0,\"ticks\":\"\"},\"colorscale\":[[0.0,\"#0d0887\"],[0.1111111111111111,\"#46039f\"],[0.2222222222222222,\"#7201a8\"],[0.3333333333333333,\"#9c179e\"],[0.4444444444444444,\"#bd3786\"],[0.5555555555555556,\"#d8576b\"],[0.6666666666666666,\"#ed7953\"],[0.7777777777777778,\"#fb9f3a\"],[0.8888888888888888,\"#fdca26\"],[1.0,\"#f0f921\"]]}],\"mesh3d\":[{\"type\":\"mesh3d\",\"colorbar\":{\"outlinewidth\":0,\"ticks\":\"\"}}],\"scatter\":[{\"fillpattern\":{\"fillmode\":\"overlay\",\"size\":10,\"solidity\":0.2},\"type\":\"scatter\"}],\"parcoords\":[{\"type\":\"parcoords\",\"line\":{\"colorbar\":{\"outlinewidth\":0,\"ticks\":\"\"}}}],\"scatterpolargl\":[{\"type\":\"scatterpolargl\",\"marker\":{\"colorbar\":{\"outlinewidth\":0,\"ticks\":\"\"}}}],\"bar\":[{\"error_x\":{\"color\":\"#2a3f5f\"},\"error_y\":{\"color\":\"#2a3f5f\"},\"marker\":{\"line\":{\"color\":\"#E5ECF6\",\"width\":0.5},\"pattern\":{\"fillmode\":\"overlay\",\"size\":10,\"solidity\":0.2}},\"type\":\"bar\"}],\"scattergeo\":[{\"type\":\"scattergeo\",\"marker\":{\"colorbar\":{\"outlinewidth\":0,\"ticks\":\"\"}}}],\"scatterpolar\":[{\"type\":\"scatterpolar\",\"marker\":{\"colorbar\":{\"outlinewidth\":0,\"ticks\":\"\"}}}],\"histogram\":[{\"marker\":{\"pattern\":{\"fillmode\":\"overlay\",\"size\":10,\"solidity\":0.2}},\"type\":\"histogram\"}],\"scattergl\":[{\"type\":\"scattergl\",\"marker\":{\"colorbar\":{\"outlinewidth\":0,\"ticks\":\"\"}}}],\"scatter3d\":[{\"type\":\"scatter3d\",\"line\":{\"colorbar\":{\"outlinewidth\":0,\"ticks\":\"\"}},\"marker\":{\"colorbar\":{\"outlinewidth\":0,\"ticks\":\"\"}}}],\"scattermapbox\":[{\"type\":\"scattermapbox\",\"marker\":{\"colorbar\":{\"outlinewidth\":0,\"ticks\":\"\"}}}],\"scatterternary\":[{\"type\":\"scatterternary\",\"marker\":{\"colorbar\":{\"outlinewidth\":0,\"ticks\":\"\"}}}],\"scattercarpet\":[{\"type\":\"scattercarpet\",\"marker\":{\"colorbar\":{\"outlinewidth\":0,\"ticks\":\"\"}}}],\"carpet\":[{\"aaxis\":{\"endlinecolor\":\"#2a3f5f\",\"gridcolor\":\"white\",\"linecolor\":\"white\",\"minorgridcolor\":\"white\",\"startlinecolor\":\"#2a3f5f\"},\"baxis\":{\"endlinecolor\":\"#2a3f5f\",\"gridcolor\":\"white\",\"linecolor\":\"white\",\"minorgridcolor\":\"white\",\"startlinecolor\":\"#2a3f5f\"},\"type\":\"carpet\"}],\"table\":[{\"cells\":{\"fill\":{\"color\":\"#EBF0F8\"},\"line\":{\"color\":\"white\"}},\"header\":{\"fill\":{\"color\":\"#C8D4E3\"},\"line\":{\"color\":\"white\"}},\"type\":\"table\"}],\"barpolar\":[{\"marker\":{\"line\":{\"color\":\"#E5ECF6\",\"width\":0.5},\"pattern\":{\"fillmode\":\"overlay\",\"size\":10,\"solidity\":0.2}},\"type\":\"barpolar\"}],\"pie\":[{\"automargin\":true,\"type\":\"pie\"}]},\"layout\":{\"autotypenumbers\":\"strict\",\"colorway\":[\"#636efa\",\"#EF553B\",\"#00cc96\",\"#ab63fa\",\"#FFA15A\",\"#19d3f3\",\"#FF6692\",\"#B6E880\",\"#FF97FF\",\"#FECB52\"],\"font\":{\"color\":\"#2a3f5f\"},\"hovermode\":\"closest\",\"hoverlabel\":{\"align\":\"left\"},\"paper_bgcolor\":\"white\",\"plot_bgcolor\":\"#E5ECF6\",\"polar\":{\"bgcolor\":\"#E5ECF6\",\"angularaxis\":{\"gridcolor\":\"white\",\"linecolor\":\"white\",\"ticks\":\"\"},\"radialaxis\":{\"gridcolor\":\"white\",\"linecolor\":\"white\",\"ticks\":\"\"}},\"ternary\":{\"bgcolor\":\"#E5ECF6\",\"aaxis\":{\"gridcolor\":\"white\",\"linecolor\":\"white\",\"ticks\":\"\"},\"baxis\":{\"gridcolor\":\"white\",\"linecolor\":\"white\",\"ticks\":\"\"},\"caxis\":{\"gridcolor\":\"white\",\"linecolor\":\"white\",\"ticks\":\"\"}},\"coloraxis\":{\"colorbar\":{\"outlinewidth\":0,\"ticks\":\"\"}},\"colorscale\":{\"sequential\":[[0.0,\"#0d0887\"],[0.1111111111111111,\"#46039f\"],[0.2222222222222222,\"#7201a8\"],[0.3333333333333333,\"#9c179e\"],[0.4444444444444444,\"#bd3786\"],[0.5555555555555556,\"#d8576b\"],[0.6666666666666666,\"#ed7953\"],[0.7777777777777778,\"#fb9f3a\"],[0.8888888888888888,\"#fdca26\"],[1.0,\"#f0f921\"]],\"sequentialminus\":[[0.0,\"#0d0887\"],[0.1111111111111111,\"#46039f\"],[0.2222222222222222,\"#7201a8\"],[0.3333333333333333,\"#9c179e\"],[0.4444444444444444,\"#bd3786\"],[0.5555555555555556,\"#d8576b\"],[0.6666666666666666,\"#ed7953\"],[0.7777777777777778,\"#fb9f3a\"],[0.8888888888888888,\"#fdca26\"],[1.0,\"#f0f921\"]],\"diverging\":[[0,\"#8e0152\"],[0.1,\"#c51b7d\"],[0.2,\"#de77ae\"],[0.3,\"#f1b6da\"],[0.4,\"#fde0ef\"],[0.5,\"#f7f7f7\"],[0.6,\"#e6f5d0\"],[0.7,\"#b8e186\"],[0.8,\"#7fbc41\"],[0.9,\"#4d9221\"],[1,\"#276419\"]]},\"xaxis\":{\"gridcolor\":\"white\",\"linecolor\":\"white\",\"ticks\":\"\",\"title\":{\"standoff\":15},\"zerolinecolor\":\"white\",\"automargin\":true,\"zerolinewidth\":2},\"yaxis\":{\"gridcolor\":\"white\",\"linecolor\":\"white\",\"ticks\":\"\",\"title\":{\"standoff\":15},\"zerolinecolor\":\"white\",\"automargin\":true,\"zerolinewidth\":2},\"scene\":{\"xaxis\":{\"backgroundcolor\":\"#E5ECF6\",\"gridcolor\":\"white\",\"linecolor\":\"white\",\"showbackground\":true,\"ticks\":\"\",\"zerolinecolor\":\"white\",\"gridwidth\":2},\"yaxis\":{\"backgroundcolor\":\"#E5ECF6\",\"gridcolor\":\"white\",\"linecolor\":\"white\",\"showbackground\":true,\"ticks\":\"\",\"zerolinecolor\":\"white\",\"gridwidth\":2},\"zaxis\":{\"backgroundcolor\":\"#E5ECF6\",\"gridcolor\":\"white\",\"linecolor\":\"white\",\"showbackground\":true,\"ticks\":\"\",\"zerolinecolor\":\"white\",\"gridwidth\":2}},\"shapedefaults\":{\"line\":{\"color\":\"#2a3f5f\"}},\"annotationdefaults\":{\"arrowcolor\":\"#2a3f5f\",\"arrowhead\":0,\"arrowwidth\":1},\"geo\":{\"bgcolor\":\"white\",\"landcolor\":\"#E5ECF6\",\"subunitcolor\":\"white\",\"showland\":true,\"showlakes\":true,\"lakecolor\":\"white\"},\"title\":{\"x\":0.05},\"mapbox\":{\"style\":\"light\"}}},\"xaxis\":{\"anchor\":\"y\",\"domain\":[0.0,0.31999999999999995],\"scaleanchor\":\"y\",\"constrain\":\"domain\",\"title\":{\"text\":\"Head\"},\"showline\":true,\"linewidth\":1,\"linecolor\":\"black\",\"mirror\":true},\"yaxis\":{\"anchor\":\"x\",\"domain\":[0.0,1.0],\"autorange\":\"reversed\",\"constrain\":\"domain\",\"title\":{\"text\":\"Layer\"},\"showline\":true,\"linewidth\":1,\"linecolor\":\"black\",\"mirror\":true},\"xaxis2\":{\"anchor\":\"y2\",\"domain\":[0.33999999999999997,0.6599999999999999],\"matches\":\"x\",\"title\":{\"text\":\"Head\"},\"showline\":true,\"linewidth\":1,\"linecolor\":\"black\",\"mirror\":true},\"yaxis2\":{\"anchor\":\"x2\",\"domain\":[0.0,1.0],\"matches\":\"y\",\"showticklabels\":false,\"showline\":true,\"linewidth\":1,\"linecolor\":\"black\",\"mirror\":true},\"xaxis3\":{\"anchor\":\"y3\",\"domain\":[0.6799999999999999,0.9999999999999999],\"matches\":\"x\",\"title\":{\"text\":\"Head\"},\"showline\":true,\"linewidth\":1,\"linecolor\":\"black\",\"mirror\":true},\"yaxis3\":{\"anchor\":\"x3\",\"domain\":[0.0,1.0],\"matches\":\"y\",\"showticklabels\":false,\"showline\":true,\"linewidth\":1,\"linecolor\":\"black\",\"mirror\":true},\"annotations\":[{\"font\":{},\"showarrow\":false,\"text\":\"Logit Diff - 3.97\",\"x\":0.15999999999999998,\"xanchor\":\"center\",\"xref\":\"paper\",\"y\":1.0,\"yanchor\":\"bottom\",\"yref\":\"paper\"},{\"font\":{},\"showarrow\":false,\"text\":\"Correct Direction\",\"x\":0.49999999999999994,\"xanchor\":\"center\",\"xref\":\"paper\",\"y\":1.0,\"yanchor\":\"bottom\",\"yref\":\"paper\"},{\"font\":{},\"showarrow\":false,\"text\":\"Incorrect Direction\",\"x\":0.8399999999999999,\"xanchor\":\"center\",\"xref\":\"paper\",\"y\":1.0,\"yanchor\":\"bottom\",\"yref\":\"paper\"}],\"coloraxis\":{\"colorbar\":{\"title\":{\"text\":\"Logit Contribution\"}},\"colorscale\":[[0.0,\"rgb(103,0,31)\"],[0.1,\"rgb(178,24,43)\"],[0.2,\"rgb(214,96,77)\"],[0.3,\"rgb(244,165,130)\"],[0.4,\"rgb(253,219,199)\"],[0.5,\"rgb(247,247,247)\"],[0.6,\"rgb(209,229,240)\"],[0.7,\"rgb(146,197,222)\"],[0.8,\"rgb(67,147,195)\"],[0.9,\"rgb(33,102,172)\"],[1.0,\"rgb(5,48,97)\"]],\"cmid\":0.0},\"title\":{\"text\":\"Logit Contributions on Clean Dataset\"},\"width\":1500,\"margin\":{\"r\":100,\"l\":100}},                        {\"responsive\": true}                    ).then(function(){\n",
              "                            \n",
              "var gd = document.getElementById('6554ccd3-e1d1-449a-b840-75f860da5852');\n",
              "var x = new MutationObserver(function (mutations, observer) {{\n",
              "        var display = window.getComputedStyle(gd).display;\n",
              "        if (!display || display === 'none') {{\n",
              "            console.log([gd, 'removed!']);\n",
              "            Plotly.purge(gd);\n",
              "            observer.disconnect();\n",
              "        }}\n",
              "}});\n",
              "\n",
              "// Listen for the removal of the full notebook cells\n",
              "var notebookContainer = gd.closest('#notebook-container');\n",
              "if (notebookContainer) {{\n",
              "    x.observe(notebookContainer, {childList: true});\n",
              "}}\n",
              "\n",
              "// Listen for the clearing of the current output cell\n",
              "var outputEl = gd.closest('.output');\n",
              "if (outputEl) {{\n",
              "    x.observe(outputEl, {childList: true});\n",
              "}}\n",
              "\n",
              "                        })                };                            </script>        </div>\n",
              "</body>\n",
              "</html>"
            ]
          },
          "metadata": {}
        }
      ],
      "source": [
        "def display_all_logits(cache, title = \"Logit Contributions\", comparison = False, return_fig = False, logits = None):\n",
        "\n",
        "  a,b,c = calc_all_logit_diffs(cache)\n",
        "  if logits is not None:\n",
        "    ld = logits_to_ave_logit_diff(logits)\n",
        "  else:\n",
        "    ld = 0.00\n",
        "\n",
        "  if not comparison:\n",
        "    fig = imshow(\n",
        "        torch.stack([a,b,c]),\n",
        "        return_fig = True,\n",
        "        facet_col = 0,\n",
        "        facet_labels = [f\"Logit Diff - {ld:.2f}\", \"Correct Direction\", \"Incorrect Direction\"],\n",
        "        title=title,\n",
        "        labels={\"x\": \"Head\", \"y\": \"Layer\", \"color\": \"Logit Contribution\"},\n",
        "        #coloraxis=dict(colorbar_ticksuffix = \"%\"),\n",
        "        border=True,\n",
        "        width=1500,\n",
        "        margin={\"r\": 100, \"l\": 100}\n",
        "    )\n",
        "  else:\n",
        "\n",
        "    ca, cb, cc = calc_all_logit_diffs(clean_cache)\n",
        "    fig = imshow(\n",
        "        torch.stack([a, b, c, a - ca, b - cb, c - cc]),\n",
        "        return_fig = True,\n",
        "        facet_col = 0,\n",
        "        facet_labels = [f\"Logit Diff - {ld:.2f}\", \"Correct Direction\", \"Incorrect Direction\", \"Logit Diff Diff\", \"Correction Direction Diff\", \"Incorrect Direction Diff\"],\n",
        "        title=title,\n",
        "        labels={\"x\": \"Head\", \"y\": \"Layer\", \"color\": \"Logit Contribution\"},\n",
        "        #coloraxis=dict(colorbar_ticksuffix = \"%\"),\n",
        "        border=True,\n",
        "        width=1500,\n",
        "        margin={\"r\": 100, \"l\": 100}\n",
        "    )\n",
        "\n",
        "\n",
        "  if return_fig:\n",
        "    return fig\n",
        "\n",
        "\n",
        "\n",
        "fig = display_all_logits(clean_cache, title = \"Logit Contributions on Clean Dataset\", return_fig = True, logits = clean_logits)"
      ]
    },
    {
      "cell_type": "code",
      "execution_count": null,
      "metadata": {
        "colab": {
          "base_uri": "https://localhost:8080/"
        },
        "id": "PmFP0-PnXk_1",
        "outputId": "10070da0-1583-477e-907f-1856b54cc1b1"
      },
      "outputs": [
        {
          "output_type": "execute_result",
          "data": {
            "text/plain": [
              "ActivationCache with keys ['hook_embed', 'hook_pos_embed', 'blocks.0.hook_resid_pre', 'blocks.0.ln1.hook_scale', 'blocks.0.ln1.hook_normalized', 'blocks.0.attn.hook_q', 'blocks.0.attn.hook_k', 'blocks.0.attn.hook_v', 'blocks.0.attn.hook_attn_scores', 'blocks.0.attn.hook_pattern', 'blocks.0.attn.hook_z', 'blocks.0.hook_attn_out', 'blocks.0.hook_resid_mid', 'blocks.0.ln2.hook_scale', 'blocks.0.ln2.hook_normalized', 'blocks.0.mlp.hook_pre', 'blocks.0.mlp.hook_post', 'blocks.0.hook_mlp_out', 'blocks.0.hook_resid_post', 'blocks.1.hook_resid_pre', 'blocks.1.ln1.hook_scale', 'blocks.1.ln1.hook_normalized', 'blocks.1.attn.hook_q', 'blocks.1.attn.hook_k', 'blocks.1.attn.hook_v', 'blocks.1.attn.hook_attn_scores', 'blocks.1.attn.hook_pattern', 'blocks.1.attn.hook_z', 'blocks.1.hook_attn_out', 'blocks.1.hook_resid_mid', 'blocks.1.ln2.hook_scale', 'blocks.1.ln2.hook_normalized', 'blocks.1.mlp.hook_pre', 'blocks.1.mlp.hook_post', 'blocks.1.hook_mlp_out', 'blocks.1.hook_resid_post', 'blocks.2.hook_resid_pre', 'blocks.2.ln1.hook_scale', 'blocks.2.ln1.hook_normalized', 'blocks.2.attn.hook_q', 'blocks.2.attn.hook_k', 'blocks.2.attn.hook_v', 'blocks.2.attn.hook_attn_scores', 'blocks.2.attn.hook_pattern', 'blocks.2.attn.hook_z', 'blocks.2.hook_attn_out', 'blocks.2.hook_resid_mid', 'blocks.2.ln2.hook_scale', 'blocks.2.ln2.hook_normalized', 'blocks.2.mlp.hook_pre', 'blocks.2.mlp.hook_post', 'blocks.2.hook_mlp_out', 'blocks.2.hook_resid_post', 'blocks.3.hook_resid_pre', 'blocks.3.ln1.hook_scale', 'blocks.3.ln1.hook_normalized', 'blocks.3.attn.hook_q', 'blocks.3.attn.hook_k', 'blocks.3.attn.hook_v', 'blocks.3.attn.hook_attn_scores', 'blocks.3.attn.hook_pattern', 'blocks.3.attn.hook_z', 'blocks.3.hook_attn_out', 'blocks.3.hook_resid_mid', 'blocks.3.ln2.hook_scale', 'blocks.3.ln2.hook_normalized', 'blocks.3.mlp.hook_pre', 'blocks.3.mlp.hook_post', 'blocks.3.hook_mlp_out', 'blocks.3.hook_resid_post', 'blocks.4.hook_resid_pre', 'blocks.4.ln1.hook_scale', 'blocks.4.ln1.hook_normalized', 'blocks.4.attn.hook_q', 'blocks.4.attn.hook_k', 'blocks.4.attn.hook_v', 'blocks.4.attn.hook_attn_scores', 'blocks.4.attn.hook_pattern', 'blocks.4.attn.hook_z', 'blocks.4.hook_attn_out', 'blocks.4.hook_resid_mid', 'blocks.4.ln2.hook_scale', 'blocks.4.ln2.hook_normalized', 'blocks.4.mlp.hook_pre', 'blocks.4.mlp.hook_post', 'blocks.4.hook_mlp_out', 'blocks.4.hook_resid_post', 'blocks.5.hook_resid_pre', 'blocks.5.ln1.hook_scale', 'blocks.5.ln1.hook_normalized', 'blocks.5.attn.hook_q', 'blocks.5.attn.hook_k', 'blocks.5.attn.hook_v', 'blocks.5.attn.hook_attn_scores', 'blocks.5.attn.hook_pattern', 'blocks.5.attn.hook_z', 'blocks.5.hook_attn_out', 'blocks.5.hook_resid_mid', 'blocks.5.ln2.hook_scale', 'blocks.5.ln2.hook_normalized', 'blocks.5.mlp.hook_pre', 'blocks.5.mlp.hook_post', 'blocks.5.hook_mlp_out', 'blocks.5.hook_resid_post', 'blocks.6.hook_resid_pre', 'blocks.6.ln1.hook_scale', 'blocks.6.ln1.hook_normalized', 'blocks.6.attn.hook_q', 'blocks.6.attn.hook_k', 'blocks.6.attn.hook_v', 'blocks.6.attn.hook_attn_scores', 'blocks.6.attn.hook_pattern', 'blocks.6.attn.hook_z', 'blocks.6.hook_attn_out', 'blocks.6.hook_resid_mid', 'blocks.6.ln2.hook_scale', 'blocks.6.ln2.hook_normalized', 'blocks.6.mlp.hook_pre', 'blocks.6.mlp.hook_post', 'blocks.6.hook_mlp_out', 'blocks.6.hook_resid_post', 'blocks.7.hook_resid_pre', 'blocks.7.ln1.hook_scale', 'blocks.7.ln1.hook_normalized', 'blocks.7.attn.hook_q', 'blocks.7.attn.hook_k', 'blocks.7.attn.hook_v', 'blocks.7.attn.hook_attn_scores', 'blocks.7.attn.hook_pattern', 'blocks.7.attn.hook_z', 'blocks.7.hook_attn_out', 'blocks.7.hook_resid_mid', 'blocks.7.ln2.hook_scale', 'blocks.7.ln2.hook_normalized', 'blocks.7.mlp.hook_pre', 'blocks.7.mlp.hook_post', 'blocks.7.hook_mlp_out', 'blocks.7.hook_resid_post', 'blocks.8.hook_resid_pre', 'blocks.8.ln1.hook_scale', 'blocks.8.ln1.hook_normalized', 'blocks.8.attn.hook_q', 'blocks.8.attn.hook_k', 'blocks.8.attn.hook_v', 'blocks.8.attn.hook_attn_scores', 'blocks.8.attn.hook_pattern', 'blocks.8.attn.hook_z', 'blocks.8.hook_attn_out', 'blocks.8.hook_resid_mid', 'blocks.8.ln2.hook_scale', 'blocks.8.ln2.hook_normalized', 'blocks.8.mlp.hook_pre', 'blocks.8.mlp.hook_post', 'blocks.8.hook_mlp_out', 'blocks.8.hook_resid_post', 'blocks.9.hook_resid_pre', 'blocks.9.ln1.hook_scale', 'blocks.9.ln1.hook_normalized', 'blocks.9.attn.hook_q', 'blocks.9.attn.hook_k', 'blocks.9.attn.hook_v', 'blocks.9.attn.hook_attn_scores', 'blocks.9.attn.hook_pattern', 'blocks.9.attn.hook_z', 'blocks.9.hook_attn_out', 'blocks.9.hook_resid_mid', 'blocks.9.ln2.hook_scale', 'blocks.9.ln2.hook_normalized', 'blocks.9.mlp.hook_pre', 'blocks.9.mlp.hook_post', 'blocks.9.hook_mlp_out', 'blocks.9.hook_resid_post', 'blocks.10.hook_resid_pre', 'blocks.10.ln1.hook_scale', 'blocks.10.ln1.hook_normalized', 'blocks.10.attn.hook_q', 'blocks.10.attn.hook_k', 'blocks.10.attn.hook_v', 'blocks.10.attn.hook_attn_scores', 'blocks.10.attn.hook_pattern', 'blocks.10.attn.hook_z', 'blocks.10.hook_attn_out', 'blocks.10.hook_resid_mid', 'blocks.10.ln2.hook_scale', 'blocks.10.ln2.hook_normalized', 'blocks.10.mlp.hook_pre', 'blocks.10.mlp.hook_post', 'blocks.10.hook_mlp_out', 'blocks.10.hook_resid_post', 'blocks.11.hook_resid_pre', 'blocks.11.ln1.hook_scale', 'blocks.11.ln1.hook_normalized', 'blocks.11.attn.hook_q', 'blocks.11.attn.hook_k', 'blocks.11.attn.hook_v', 'blocks.11.attn.hook_attn_scores', 'blocks.11.attn.hook_pattern', 'blocks.11.attn.hook_z', 'blocks.11.hook_attn_out', 'blocks.11.hook_resid_mid', 'blocks.11.ln2.hook_scale', 'blocks.11.ln2.hook_normalized', 'blocks.11.mlp.hook_pre', 'blocks.11.mlp.hook_post', 'blocks.11.hook_mlp_out', 'blocks.11.hook_resid_post', 'ln_final.hook_scale', 'ln_final.hook_normalized', 'blocks.0.attn.hook_result', 'blocks.1.attn.hook_result', 'blocks.2.attn.hook_result', 'blocks.3.attn.hook_result', 'blocks.4.attn.hook_result', 'blocks.5.attn.hook_result', 'blocks.6.attn.hook_result', 'blocks.7.attn.hook_result', 'blocks.8.attn.hook_result', 'blocks.9.attn.hook_result', 'blocks.10.attn.hook_result', 'blocks.11.attn.hook_result']"
            ]
          },
          "metadata": {},
          "execution_count": 37
        }
      ],
      "source": [
        "clean_cache"
      ]
    },
    {
      "cell_type": "code",
      "execution_count": null,
      "metadata": {
        "id": "jzi26MUvXk_1"
      },
      "outputs": [],
      "source": [
        "# # testing\n",
        "# #resid_layer_ten = clean_cache[utils.get_act_name(\"resid_pre\", 10)]\n",
        "# #new_residual_stream = model.blocks[10].ln1(resid_layer_ten)\n",
        "\n",
        "# new_residual_stream = clean_cache[\"blocks.9.ln1.hook_normalized\"]\n",
        "# clean_ten_two_predict = simulate_head(new_residual_stream, 9, 10)[:, -1, :]\n",
        "# actual_output = get_output_of_head(9, 10, clean_cache)\n",
        "\n",
        "# print(residual_stack_to_logit_diff(actual_output, clean_cache))\n",
        "# residual_stack_to_logit_diff(clean_ten_two_predict, clean_cache)"
      ]
    },
    {
      "cell_type": "code",
      "execution_count": null,
      "metadata": {
        "id": "UB0atA8oXk_1"
      },
      "outputs": [],
      "source": []
    },
    {
      "cell_type": "code",
      "execution_count": null,
      "metadata": {
        "id": "cg0QXfBAFCgz"
      },
      "outputs": [],
      "source": [
        "def stare_at_attention_and_head_pat(cache, layer_to_stare_at, head_to_isolate, display_corrupted_text = False, verbose = True, specific = False, specific_index = 0):\n",
        "  \"\"\"\n",
        "  given a cache from a run, displays the attention patterns of a layer, as well as printing out how much the model\n",
        "  attends to the S1, S2, and IO token\n",
        "  \"\"\"\n",
        "\n",
        "  tokenized_str_tokens = model.to_str_tokens(corrupted_tokens[0]) if display_corrupted_text else model.to_str_tokens(clean_tokens[0])\n",
        "  attention_patten = cache[\"pattern\", layer_to_stare_at]\n",
        "  print(f\"Layer {layer_to_stare_at} Head {head_to_isolate} Activation Patterns:\")\n",
        "\n",
        "\n",
        "  if not specific:\n",
        "    S1 = attention_patten.mean(0)[head_to_isolate][-1][2].item()\n",
        "    IO = attention_patten.mean(0)[head_to_isolate][-1][4].item()\n",
        "    S2 = attention_patten.mean(0)[head_to_isolate][-1][10].item()\n",
        "  else:\n",
        "    S1 = attention_patten[specific_index, head_to_isolate][-1][2].item()\n",
        "    IO = attention_patten[specific_index, head_to_isolate][-1][4].item()\n",
        "    S2 = attention_patten[specific_index, head_to_isolate][-1][10].item()\n",
        "\n",
        "\n",
        "  print(\"Attention on S1: \" + str(S1))\n",
        "  print(\"Attention on IO: \" + str(IO))\n",
        "  print(\"Attention on S2: \" + str(S2))\n",
        "  print(\"S1 + IO - S2 = \" + str(S1 + IO - S2))\n",
        "  print(\"S1 + S2 - IO = \" + str(S1 + S2 - IO))\n",
        "  print(\"S1 - IO - S2 = \" + str(S1 - S2 - IO))\n",
        "\n",
        "\n",
        "  if verbose:\n",
        "    display(cv.attention.attention_heads(\n",
        "      tokens=tokenized_str_tokens,\n",
        "      attention= attention_patten.mean(0) if not specific else attention_patten[specific_index],\n",
        "      #attention_head_names=[f\"L{layer_to_stare_at}H{i}\" for i in range(model.cfg.n_heads)],\n",
        "    ))\n",
        "  else:\n",
        "    print(attention_patten.mean(0).shape)\n",
        "\n",
        "    display(cv.attention.attention_patterns(\n",
        "      tokens=tokenized_str_tokens,\n",
        "      attention=attention_patten.mean(0)if not specific else attention_patten[specific_index],\n",
        "      attention_head_names=[f\"L{layer_to_stare_at} H{i}\" for i in range(model.cfg.n_heads)],\n",
        "    ))"
      ]
    },
    {
      "cell_type": "code",
      "execution_count": null,
      "metadata": {
        "id": "vvBeXMV8Betp"
      },
      "outputs": [],
      "source": [
        "def display_corrupted_clean_logits(cache, title = \"Logit Contributions\", comparison = False, return_fig = False, logits = None):\n",
        "\n",
        "  a,b,c = calc_all_logit_diffs(cache)\n",
        "  if logits is not None:\n",
        "    ld = logits_to_ave_logit_diff(logits)\n",
        "  else:\n",
        "    ld = 0.00\n",
        "\n",
        "  if not comparison:\n",
        "    fig = imshow(\n",
        "        torch.stack([a]),\n",
        "        return_fig = True,\n",
        "        facet_col = 0,\n",
        "        facet_labels = [f\"Logit Diff - {ld:.2f}\"],\n",
        "        title=title,\n",
        "        labels={\"x\": \"Head\", \"y\": \"Layer\", \"color\": \"Logit Contribution\"},\n",
        "        #coloraxis=dict(colorbar_ticksuffix = \"%\"),\n",
        "        border=True,\n",
        "        width=1500,\n",
        "        margin={\"r\": 100, \"l\": 100}\n",
        "    )\n",
        "  else:\n",
        "\n",
        "    ca, cb, cc = calc_all_logit_diffs(clean_cache)\n",
        "    fig = imshow(\n",
        "        torch.stack([a, ca, a - ca]),\n",
        "        return_fig = True,\n",
        "        facet_col = 0,\n",
        "        facet_labels = [f\"Ablated Logit Differences: {ld:.2f}\", f\"Clean Logit Differences: {clean_average_logit_diff:.2f}\", f\"Difference between Ablated and Clea: {(ld - clean_average_logit_diff):.2f}\",],\n",
        "        title=title,\n",
        "        labels={\"x\": \"Head\", \"y\": \"Layer\", \"color\": \"Logit Contribution\"},\n",
        "        #coloraxis=dict(colorbar_ticksuffix = \"%\"),\n",
        "        border=True,\n",
        "        width=1000,\n",
        "        margin={\"r\": 100, \"l\": 100}\n",
        "    )\n",
        "\n",
        "\n",
        "  if return_fig:\n",
        "    return fig\n",
        "  else:\n",
        "    return a - ca"
      ]
    },
    {
      "cell_type": "code",
      "execution_count": null,
      "metadata": {
        "colab": {
          "base_uri": "https://localhost:8080/",
          "height": 560
        },
        "id": "IfRvIIAPBHAy",
        "outputId": "41b0d9f3-3a6d-4ce2-f229-e74bf735a56f"
      },
      "outputs": [
        {
          "output_type": "stream",
          "name": "stdout",
          "text": [
            "Tried to stack head results when they weren't cached. Computing head results now\n"
          ]
        },
        {
          "output_type": "display_data",
          "data": {
            "text/html": [
              "<html>\n",
              "<head><meta charset=\"utf-8\" /></head>\n",
              "<body>\n",
              "    <div>            <script src=\"https://cdnjs.cloudflare.com/ajax/libs/mathjax/2.7.5/MathJax.js?config=TeX-AMS-MML_SVG\"></script><script type=\"text/javascript\">if (window.MathJax && window.MathJax.Hub && window.MathJax.Hub.Config) {window.MathJax.Hub.Config({SVG: {font: \"STIX-Web\"}});}</script>                <script type=\"text/javascript\">window.PlotlyConfig = {MathJaxConfig: 'local'};</script>\n",
              "        <script src=\"https://cdn.plot.ly/plotly-2.18.2.min.js\"></script>                <div id=\"18997703-2a4d-430e-ab48-2eed02268a0e\" class=\"plotly-graph-div\" style=\"height:525px; width:1000px;\"></div>            <script type=\"text/javascript\">                                    window.PLOTLYENV=window.PLOTLYENV || {};                                    if (document.getElementById(\"18997703-2a4d-430e-ab48-2eed02268a0e\")) {                    Plotly.newPlot(                        \"18997703-2a4d-430e-ab48-2eed02268a0e\",                        [{\"coloraxis\":\"coloraxis\",\"name\":\"0\",\"z\":[[-0.006618828978389502,1.5407800901812152e-06,0.00559630524367094,0.017348570749163628,-0.013611802831292152,-0.022733375430107117,-0.045021310448646545,0.02887685038149357,0.023976098746061325,-0.0037719935644418,-0.03211479261517525,-0.01161203719675541],[-0.010947742499411106,0.005102578084915876,-0.0015255153411999345,0.02878224290907383,-0.027411311864852905,-0.041085291653871536,-0.015447496436536312,0.030326170846819878,0.009152333252131939,0.021484853699803352,-0.022349920123815536,0.0031503201462328434],[0.01618276722729206,-0.008240615017712116,0.011319522745907307,-0.010279427282512188,-0.013794883154332638,0.01562623307108879,0.005176122300326824,-0.02012745849788189,-0.03657084330916405,-0.03194264695048332,-0.041594114154577255,0.03679009899497032],[0.012576088309288025,0.0054316893219947815,0.008322449401021004,0.0013624364510178566,-0.011753900907933712,-0.008991050533950329,-0.009703553281724453,-0.01313513983041048,0.0004161825345363468,-0.016091499477624893,0.01158804353326559,-0.02642962336540222],[0.0036289356648921967,-0.005649800878018141,-0.009028946049511433,-0.0007994458428584039,-0.0010496418690308928,-0.006429450120776892,0.041570402681827545,0.011110723949968815,-0.015980487689375877,-0.014992929995059967,0.002627084730193019,-0.021281050518155098],[0.018138328567147255,0.015614566393196583,-0.031367260962724686,0.0005408223951235414,0.0028502573259174824,0.005516793578863144,-0.009840583428740501,-0.03802461922168732,0.00890621729195118,-0.0402555838227272,-0.010872827842831612,0.0309071596711874],[0.011227183043956757,-0.009366624057292938,0.011324443854391575,0.009548857808113098,-0.0464036762714386,0.001298602670431137,0.0345756821334362,-0.005962534341961145,-0.011534467339515686,-0.018686935305595398,-0.009137189015746117,-0.009042557328939438],[-0.00014060140529181808,-0.008207492530345917,-0.0007138405344448984,0.09066499769687653,-0.0002636224089656025,-0.03931942582130432,-0.011102906428277493,0.00262686749920249,-0.009356598369777203,0.18437550961971283,-0.011759703047573566,0.0023494993802160025],[0.009132646024227142,-0.0033985383342951536,-0.022615045309066772,-0.06913026422262192,0.0005275100702419877,-0.024167954921722412,-0.10713846981525421,0.013852891512215137,-0.02272207848727703,-0.0210882481187582,0.2415608912706375,0.17855237424373627],[0.17733722925186157,-0.006642249878495932,0.038755785673856735,0.0034768865443766117,-0.05338472127914429,0.028461351990699768,0.0853658989071846,0.0931585431098938,0.29504579305648804,0.14156021177768707,0.009917529299855232,0.025103315711021423],[0.15217988193035126,0.4514417350292206,0.7277003526687622,-0.12691698968410492,-0.007705334573984146,0.016629178076982498,0.8160025477409363,-0.33809635043144226,-0.004369385540485382,-0.05241794139146805,1.496924877166748,-0.0021429776679724455],[0.011827713809907436,-0.15247108042240143,-0.024540631100535393,0.044086940586566925,-0.014307195320725441,0.014702822081744671,0.05134644731879234,-0.03747665509581566,0.0034844770561903715,0.017445027828216553,-0.9294918179512024,-0.02234090305864811]],\"type\":\"heatmap\",\"xaxis\":\"x\",\"yaxis\":\"y\",\"hovertemplate\":\"Head: %{x}<br>Layer: %{y}<br>Logit Contribution: %{z}<extra></extra>\"},{\"coloraxis\":\"coloraxis\",\"name\":\"1\",\"z\":[[-0.00614745682105422,-7.330253720283508e-05,0.005045554134994745,0.016563093289732933,-0.012541281059384346,-0.020631667226552963,-0.04110113903880119,0.026432102546095848,0.02253260649740696,-0.0046966285444796085,-0.0293093454092741,-0.010590746998786926],[-0.009919439442455769,0.00486426567658782,-0.0017682493198662996,0.02590922825038433,-0.025239968672394753,-0.038114093244075775,-0.014191994443535805,0.027914388105273247,0.008367609232664108,0.019775724038481712,-0.020211605355143547,0.0027966226916760206],[0.014858873561024666,-0.007676670793443918,0.010372367687523365,-0.009651636704802513,-0.012943548150360584,0.01459167618304491,0.004636650439351797,-0.018565108999609947,-0.0340128168463707,-0.029141917824745178,-0.03839431330561638,0.03358617052435875],[0.011631404981017113,0.0048478576354682446,0.007655127439647913,0.0008706736261956394,-0.010886580683290958,-0.008321158587932587,-0.008899308741092682,-0.011701188050210476,0.0004483044322114438,-0.014960325323045254,0.010864163748919964,-0.024497685953974724],[0.0034963947255164385,-0.0053210146725177765,-0.008478851988911629,1.2792646884918213e-05,-0.0010231699561700225,-0.006151875015348196,0.03880295902490616,0.010345312766730785,-0.014639302156865597,-0.013784206472337246,0.0023708483204245567,-0.019361380487680435],[0.01651163212954998,0.014736339449882507,-0.028221851214766502,0.0003483477921690792,0.0025519945193082094,0.0054216706193983555,-0.009057446382939816,-0.035740699619054794,0.008356835693120956,-0.03743206337094307,-0.009646588936448097,0.028581464663147926],[0.01018592156469822,-0.008550755679607391,0.010095476172864437,0.009066494181752205,-0.043547630310058594,0.0013599051162600517,0.032626207917928696,-0.004653585143387318,-0.011061948724091053,-0.01707126572728157,-0.008444569073617458,-0.008509362116456032],[1.6704201470929547e-06,-0.007594942580908537,-0.0006480347365140915,0.08559756726026535,-0.00043563172221183777,-0.03687107190489769,-0.010499358177185059,0.0023567762691527605,-0.008580693043768406,0.17094533145427704,-0.010654342360794544,0.0024532091338187456],[0.008345633745193481,-0.00306456396356225,-0.021446088328957558,-0.06250263005495071,0.00042341501102782786,-0.022604549303650856,-0.09928908199071884,0.013077884912490845,-0.02056228742003441,-0.01978294551372528,0.22346678376197815,0.16309231519699097],[0.16355536878108978,-0.006417848169803619,0.03397826477885246,0.0034946890082210302,-0.049222420901060104,0.026786774396896362,1.68706476688385,0.08589662611484528,0.26527851819992065,3.4588096141815186,0.009176189079880714,0.023537306115031242],[0.7527638077735901,0.1441563218832016,0.15868090093135834,-0.1530528962612152,-0.007611023727804422,0.01521633006632328,0.27396702766418457,-2.297128200531006,-0.0023295662831515074,-0.05026501417160034,0.5753141641616821,-0.006301615387201309],[0.005609363317489624,-0.15785756707191467,-0.41415277123451233,0.003484089393168688,-0.015784669667482376,0.007639676332473755,0.02407526969909668,-0.03809242323040962,0.00636312598362565,-0.03898591920733452,-1.0197645425796509,-0.04069795086979866]],\"type\":\"heatmap\",\"xaxis\":\"x2\",\"yaxis\":\"y2\",\"hovertemplate\":\"Head: %{x}<br>Layer: %{y}<br>Logit Contribution: %{z}<extra></extra>\"},{\"coloraxis\":\"coloraxis\",\"name\":\"2\",\"z\":[[-0.00047137215733528137,7.484331581508741e-05,0.0005507511086761951,0.0007854774594306946,-0.0010705217719078064,-0.0021017082035541534,-0.003920171409845352,0.0024447478353977203,0.0014434922486543655,0.0009246349800378084,-0.002805447205901146,-0.001021290197968483],[-0.0010283030569553375,0.00023831240832805634,0.00024273397866636515,0.002873014658689499,-0.0021713431924581528,-0.002971198409795761,-0.0012555019930005074,0.002411782741546631,0.0007847240194678307,0.00170912966132164,-0.0021383147686719894,0.0003536974545568228],[0.001323893666267395,-0.000563944224268198,0.0009471550583839417,-0.0006277905777096748,-0.0008513350039720535,0.0010345568880438805,0.0005394718609750271,-0.0015623494982719421,-0.0025580264627933502,-0.002800729125738144,-0.0031998008489608765,0.0032039284706115723],[0.0009446833282709122,0.0005838316865265369,0.0006673219613730907,0.0004917628248222172,-0.0008673202246427536,-0.0006698919460177422,-0.0008042445406317711,-0.0014339517802000046,-3.212189767509699e-05,-0.0011311741545796394,0.0007238797843456268,-0.0019319374114274979],[0.00013254093937575817,-0.0003287862055003643,-0.0005500940605998039,-0.0008122384897433221,-2.647191286087036e-05,-0.0002775751054286957,0.0027674436569213867,0.0007654111832380295,-0.0013411855325102806,-0.001208723522722721,0.0002562364097684622,-0.0019196700304746628],[0.0016266964375972748,0.0008782269433140755,-0.0031454097479581833,0.00019247460295446217,0.00029826280660927296,9.512295946478844e-05,-0.0007831370458006859,-0.0022839196026325226,0.0005493815988302231,-0.002823520451784134,-0.0012262389063835144,0.0023256950080394745],[0.0010412614792585373,-0.0008158683776855469,0.0012289676815271378,0.00048236362636089325,-0.002856045961380005,-6.130244582891464e-05,0.0019494742155075073,-0.0013089491985738277,-0.000472518615424633,-0.0016156695783138275,-0.0006926199421286583,-0.0005331952124834061],[-0.0001422718196408823,-0.0006125499494373798,-6.580579793080688e-05,0.0050674304366111755,0.00017200931324623525,-0.0024483539164066315,-0.0006035482510924339,0.00027009123004972935,-0.0007759053260087967,0.013430178165435791,-0.0011053606867790222,-0.00010370975360274315],[0.0007870122790336609,-0.0003339743707329035,-0.0011689569801092148,-0.006627634167671204,0.00010409505921415985,-0.001563405618071556,-0.00784938782453537,0.0007750065997242928,-0.0021597910672426224,-0.0013053026050329208,0.018094107508659363,0.0154600590467453],[0.01378186047077179,-0.00022440170869231224,0.0047775208950042725,-1.7802463844418526e-05,-0.004162300378084183,0.0016745775938034058,-1.601698875427246,0.007261916995048523,0.029767274856567383,-3.317249298095703,0.0007413402199745178,0.001566009595990181],[-0.6005839109420776,0.3072854280471802,0.5690194368362427,0.02613590657711029,-9.431084617972374e-05,0.0014128480106592178,0.5420355200767517,1.9590318202972412,-0.0020398192573338747,-0.0021529272198677063,0.9216107130050659,0.00415863748639822],[0.006218350492417812,0.005386486649513245,0.3896121382713318,0.040602851659059525,0.0014774743467569351,0.007063145749270916,0.027271177619695663,0.0006157681345939636,-0.002878648927435279,0.05643094703555107,0.09027272462844849,0.01835704781115055]],\"type\":\"heatmap\",\"xaxis\":\"x3\",\"yaxis\":\"y3\",\"hovertemplate\":\"Head: %{x}<br>Layer: %{y}<br>Logit Contribution: %{z}<extra></extra>\"}],                        {\"template\":{\"data\":{\"histogram2dcontour\":[{\"type\":\"histogram2dcontour\",\"colorbar\":{\"outlinewidth\":0,\"ticks\":\"\"},\"colorscale\":[[0.0,\"#0d0887\"],[0.1111111111111111,\"#46039f\"],[0.2222222222222222,\"#7201a8\"],[0.3333333333333333,\"#9c179e\"],[0.4444444444444444,\"#bd3786\"],[0.5555555555555556,\"#d8576b\"],[0.6666666666666666,\"#ed7953\"],[0.7777777777777778,\"#fb9f3a\"],[0.8888888888888888,\"#fdca26\"],[1.0,\"#f0f921\"]]}],\"choropleth\":[{\"type\":\"choropleth\",\"colorbar\":{\"outlinewidth\":0,\"ticks\":\"\"}}],\"histogram2d\":[{\"type\":\"histogram2d\",\"colorbar\":{\"outlinewidth\":0,\"ticks\":\"\"},\"colorscale\":[[0.0,\"#0d0887\"],[0.1111111111111111,\"#46039f\"],[0.2222222222222222,\"#7201a8\"],[0.3333333333333333,\"#9c179e\"],[0.4444444444444444,\"#bd3786\"],[0.5555555555555556,\"#d8576b\"],[0.6666666666666666,\"#ed7953\"],[0.7777777777777778,\"#fb9f3a\"],[0.8888888888888888,\"#fdca26\"],[1.0,\"#f0f921\"]]}],\"heatmap\":[{\"type\":\"heatmap\",\"colorbar\":{\"outlinewidth\":0,\"ticks\":\"\"},\"colorscale\":[[0.0,\"#0d0887\"],[0.1111111111111111,\"#46039f\"],[0.2222222222222222,\"#7201a8\"],[0.3333333333333333,\"#9c179e\"],[0.4444444444444444,\"#bd3786\"],[0.5555555555555556,\"#d8576b\"],[0.6666666666666666,\"#ed7953\"],[0.7777777777777778,\"#fb9f3a\"],[0.8888888888888888,\"#fdca26\"],[1.0,\"#f0f921\"]]}],\"heatmapgl\":[{\"type\":\"heatmapgl\",\"colorbar\":{\"outlinewidth\":0,\"ticks\":\"\"},\"colorscale\":[[0.0,\"#0d0887\"],[0.1111111111111111,\"#46039f\"],[0.2222222222222222,\"#7201a8\"],[0.3333333333333333,\"#9c179e\"],[0.4444444444444444,\"#bd3786\"],[0.5555555555555556,\"#d8576b\"],[0.6666666666666666,\"#ed7953\"],[0.7777777777777778,\"#fb9f3a\"],[0.8888888888888888,\"#fdca26\"],[1.0,\"#f0f921\"]]}],\"contourcarpet\":[{\"type\":\"contourcarpet\",\"colorbar\":{\"outlinewidth\":0,\"ticks\":\"\"}}],\"contour\":[{\"type\":\"contour\",\"colorbar\":{\"outlinewidth\":0,\"ticks\":\"\"},\"colorscale\":[[0.0,\"#0d0887\"],[0.1111111111111111,\"#46039f\"],[0.2222222222222222,\"#7201a8\"],[0.3333333333333333,\"#9c179e\"],[0.4444444444444444,\"#bd3786\"],[0.5555555555555556,\"#d8576b\"],[0.6666666666666666,\"#ed7953\"],[0.7777777777777778,\"#fb9f3a\"],[0.8888888888888888,\"#fdca26\"],[1.0,\"#f0f921\"]]}],\"surface\":[{\"type\":\"surface\",\"colorbar\":{\"outlinewidth\":0,\"ticks\":\"\"},\"colorscale\":[[0.0,\"#0d0887\"],[0.1111111111111111,\"#46039f\"],[0.2222222222222222,\"#7201a8\"],[0.3333333333333333,\"#9c179e\"],[0.4444444444444444,\"#bd3786\"],[0.5555555555555556,\"#d8576b\"],[0.6666666666666666,\"#ed7953\"],[0.7777777777777778,\"#fb9f3a\"],[0.8888888888888888,\"#fdca26\"],[1.0,\"#f0f921\"]]}],\"mesh3d\":[{\"type\":\"mesh3d\",\"colorbar\":{\"outlinewidth\":0,\"ticks\":\"\"}}],\"scatter\":[{\"fillpattern\":{\"fillmode\":\"overlay\",\"size\":10,\"solidity\":0.2},\"type\":\"scatter\"}],\"parcoords\":[{\"type\":\"parcoords\",\"line\":{\"colorbar\":{\"outlinewidth\":0,\"ticks\":\"\"}}}],\"scatterpolargl\":[{\"type\":\"scatterpolargl\",\"marker\":{\"colorbar\":{\"outlinewidth\":0,\"ticks\":\"\"}}}],\"bar\":[{\"error_x\":{\"color\":\"#2a3f5f\"},\"error_y\":{\"color\":\"#2a3f5f\"},\"marker\":{\"line\":{\"color\":\"#E5ECF6\",\"width\":0.5},\"pattern\":{\"fillmode\":\"overlay\",\"size\":10,\"solidity\":0.2}},\"type\":\"bar\"}],\"scattergeo\":[{\"type\":\"scattergeo\",\"marker\":{\"colorbar\":{\"outlinewidth\":0,\"ticks\":\"\"}}}],\"scatterpolar\":[{\"type\":\"scatterpolar\",\"marker\":{\"colorbar\":{\"outlinewidth\":0,\"ticks\":\"\"}}}],\"histogram\":[{\"marker\":{\"pattern\":{\"fillmode\":\"overlay\",\"size\":10,\"solidity\":0.2}},\"type\":\"histogram\"}],\"scattergl\":[{\"type\":\"scattergl\",\"marker\":{\"colorbar\":{\"outlinewidth\":0,\"ticks\":\"\"}}}],\"scatter3d\":[{\"type\":\"scatter3d\",\"line\":{\"colorbar\":{\"outlinewidth\":0,\"ticks\":\"\"}},\"marker\":{\"colorbar\":{\"outlinewidth\":0,\"ticks\":\"\"}}}],\"scattermapbox\":[{\"type\":\"scattermapbox\",\"marker\":{\"colorbar\":{\"outlinewidth\":0,\"ticks\":\"\"}}}],\"scatterternary\":[{\"type\":\"scatterternary\",\"marker\":{\"colorbar\":{\"outlinewidth\":0,\"ticks\":\"\"}}}],\"scattercarpet\":[{\"type\":\"scattercarpet\",\"marker\":{\"colorbar\":{\"outlinewidth\":0,\"ticks\":\"\"}}}],\"carpet\":[{\"aaxis\":{\"endlinecolor\":\"#2a3f5f\",\"gridcolor\":\"white\",\"linecolor\":\"white\",\"minorgridcolor\":\"white\",\"startlinecolor\":\"#2a3f5f\"},\"baxis\":{\"endlinecolor\":\"#2a3f5f\",\"gridcolor\":\"white\",\"linecolor\":\"white\",\"minorgridcolor\":\"white\",\"startlinecolor\":\"#2a3f5f\"},\"type\":\"carpet\"}],\"table\":[{\"cells\":{\"fill\":{\"color\":\"#EBF0F8\"},\"line\":{\"color\":\"white\"}},\"header\":{\"fill\":{\"color\":\"#C8D4E3\"},\"line\":{\"color\":\"white\"}},\"type\":\"table\"}],\"barpolar\":[{\"marker\":{\"line\":{\"color\":\"#E5ECF6\",\"width\":0.5},\"pattern\":{\"fillmode\":\"overlay\",\"size\":10,\"solidity\":0.2}},\"type\":\"barpolar\"}],\"pie\":[{\"automargin\":true,\"type\":\"pie\"}]},\"layout\":{\"autotypenumbers\":\"strict\",\"colorway\":[\"#636efa\",\"#EF553B\",\"#00cc96\",\"#ab63fa\",\"#FFA15A\",\"#19d3f3\",\"#FF6692\",\"#B6E880\",\"#FF97FF\",\"#FECB52\"],\"font\":{\"color\":\"#2a3f5f\"},\"hovermode\":\"closest\",\"hoverlabel\":{\"align\":\"left\"},\"paper_bgcolor\":\"white\",\"plot_bgcolor\":\"#E5ECF6\",\"polar\":{\"bgcolor\":\"#E5ECF6\",\"angularaxis\":{\"gridcolor\":\"white\",\"linecolor\":\"white\",\"ticks\":\"\"},\"radialaxis\":{\"gridcolor\":\"white\",\"linecolor\":\"white\",\"ticks\":\"\"}},\"ternary\":{\"bgcolor\":\"#E5ECF6\",\"aaxis\":{\"gridcolor\":\"white\",\"linecolor\":\"white\",\"ticks\":\"\"},\"baxis\":{\"gridcolor\":\"white\",\"linecolor\":\"white\",\"ticks\":\"\"},\"caxis\":{\"gridcolor\":\"white\",\"linecolor\":\"white\",\"ticks\":\"\"}},\"coloraxis\":{\"colorbar\":{\"outlinewidth\":0,\"ticks\":\"\"}},\"colorscale\":{\"sequential\":[[0.0,\"#0d0887\"],[0.1111111111111111,\"#46039f\"],[0.2222222222222222,\"#7201a8\"],[0.3333333333333333,\"#9c179e\"],[0.4444444444444444,\"#bd3786\"],[0.5555555555555556,\"#d8576b\"],[0.6666666666666666,\"#ed7953\"],[0.7777777777777778,\"#fb9f3a\"],[0.8888888888888888,\"#fdca26\"],[1.0,\"#f0f921\"]],\"sequentialminus\":[[0.0,\"#0d0887\"],[0.1111111111111111,\"#46039f\"],[0.2222222222222222,\"#7201a8\"],[0.3333333333333333,\"#9c179e\"],[0.4444444444444444,\"#bd3786\"],[0.5555555555555556,\"#d8576b\"],[0.6666666666666666,\"#ed7953\"],[0.7777777777777778,\"#fb9f3a\"],[0.8888888888888888,\"#fdca26\"],[1.0,\"#f0f921\"]],\"diverging\":[[0,\"#8e0152\"],[0.1,\"#c51b7d\"],[0.2,\"#de77ae\"],[0.3,\"#f1b6da\"],[0.4,\"#fde0ef\"],[0.5,\"#f7f7f7\"],[0.6,\"#e6f5d0\"],[0.7,\"#b8e186\"],[0.8,\"#7fbc41\"],[0.9,\"#4d9221\"],[1,\"#276419\"]]},\"xaxis\":{\"gridcolor\":\"white\",\"linecolor\":\"white\",\"ticks\":\"\",\"title\":{\"standoff\":15},\"zerolinecolor\":\"white\",\"automargin\":true,\"zerolinewidth\":2},\"yaxis\":{\"gridcolor\":\"white\",\"linecolor\":\"white\",\"ticks\":\"\",\"title\":{\"standoff\":15},\"zerolinecolor\":\"white\",\"automargin\":true,\"zerolinewidth\":2},\"scene\":{\"xaxis\":{\"backgroundcolor\":\"#E5ECF6\",\"gridcolor\":\"white\",\"linecolor\":\"white\",\"showbackground\":true,\"ticks\":\"\",\"zerolinecolor\":\"white\",\"gridwidth\":2},\"yaxis\":{\"backgroundcolor\":\"#E5ECF6\",\"gridcolor\":\"white\",\"linecolor\":\"white\",\"showbackground\":true,\"ticks\":\"\",\"zerolinecolor\":\"white\",\"gridwidth\":2},\"zaxis\":{\"backgroundcolor\":\"#E5ECF6\",\"gridcolor\":\"white\",\"linecolor\":\"white\",\"showbackground\":true,\"ticks\":\"\",\"zerolinecolor\":\"white\",\"gridwidth\":2}},\"shapedefaults\":{\"line\":{\"color\":\"#2a3f5f\"}},\"annotationdefaults\":{\"arrowcolor\":\"#2a3f5f\",\"arrowhead\":0,\"arrowwidth\":1},\"geo\":{\"bgcolor\":\"white\",\"landcolor\":\"#E5ECF6\",\"subunitcolor\":\"white\",\"showland\":true,\"showlakes\":true,\"lakecolor\":\"white\"},\"title\":{\"x\":0.05},\"mapbox\":{\"style\":\"light\"}}},\"xaxis\":{\"anchor\":\"y\",\"domain\":[0.0,0.31999999999999995],\"scaleanchor\":\"y\",\"constrain\":\"domain\",\"title\":{\"text\":\"Head\"},\"showline\":true,\"linewidth\":1,\"linecolor\":\"black\",\"mirror\":true},\"yaxis\":{\"anchor\":\"x\",\"domain\":[0.0,1.0],\"autorange\":\"reversed\",\"constrain\":\"domain\",\"title\":{\"text\":\"Layer\"},\"showline\":true,\"linewidth\":1,\"linecolor\":\"black\",\"mirror\":true},\"xaxis2\":{\"anchor\":\"y2\",\"domain\":[0.33999999999999997,0.6599999999999999],\"matches\":\"x\",\"title\":{\"text\":\"Head\"},\"showline\":true,\"linewidth\":1,\"linecolor\":\"black\",\"mirror\":true},\"yaxis2\":{\"anchor\":\"x2\",\"domain\":[0.0,1.0],\"matches\":\"y\",\"showticklabels\":false,\"showline\":true,\"linewidth\":1,\"linecolor\":\"black\",\"mirror\":true},\"xaxis3\":{\"anchor\":\"y3\",\"domain\":[0.6799999999999999,0.9999999999999999],\"matches\":\"x\",\"title\":{\"text\":\"Head\"},\"showline\":true,\"linewidth\":1,\"linecolor\":\"black\",\"mirror\":true},\"yaxis3\":{\"anchor\":\"x3\",\"domain\":[0.0,1.0],\"matches\":\"y\",\"showticklabels\":false,\"showline\":true,\"linewidth\":1,\"linecolor\":\"black\",\"mirror\":true},\"annotations\":[{\"font\":{},\"showarrow\":false,\"text\":\"Ablated Logit Differences: 3.33\",\"x\":0.15999999999999998,\"xanchor\":\"center\",\"xref\":\"paper\",\"y\":1.0,\"yanchor\":\"bottom\",\"yref\":\"paper\"},{\"font\":{},\"showarrow\":false,\"text\":\"Clean Logit Differences: 3.97\",\"x\":0.49999999999999994,\"xanchor\":\"center\",\"xref\":\"paper\",\"y\":1.0,\"yanchor\":\"bottom\",\"yref\":\"paper\"},{\"font\":{},\"showarrow\":false,\"text\":\"Difference between Ablated and Clea: -0.64\",\"x\":0.8399999999999999,\"xanchor\":\"center\",\"xref\":\"paper\",\"y\":1.0,\"yanchor\":\"bottom\",\"yref\":\"paper\"}],\"coloraxis\":{\"colorbar\":{\"title\":{\"text\":\"Logit Contribution\"}},\"colorscale\":[[0.0,\"rgb(103,0,31)\"],[0.1,\"rgb(178,24,43)\"],[0.2,\"rgb(214,96,77)\"],[0.3,\"rgb(244,165,130)\"],[0.4,\"rgb(253,219,199)\"],[0.5,\"rgb(247,247,247)\"],[0.6,\"rgb(209,229,240)\"],[0.7,\"rgb(146,197,222)\"],[0.8,\"rgb(67,147,195)\"],[0.9,\"rgb(33,102,172)\"],[1.0,\"rgb(5,48,97)\"]],\"cmid\":0.0},\"title\":{\"text\":\"Logit Differences When Sample Ablating in Name Mover Heads\"},\"width\":1000,\"margin\":{\"r\":100,\"l\":100}},                        {\"responsive\": true}                    ).then(function(){\n",
              "                            \n",
              "var gd = document.getElementById('18997703-2a4d-430e-ab48-2eed02268a0e');\n",
              "var x = new MutationObserver(function (mutations, observer) {{\n",
              "        var display = window.getComputedStyle(gd).display;\n",
              "        if (!display || display === 'none') {{\n",
              "            console.log([gd, 'removed!']);\n",
              "            Plotly.purge(gd);\n",
              "            observer.disconnect();\n",
              "        }}\n",
              "}});\n",
              "\n",
              "// Listen for the removal of the full notebook cells\n",
              "var notebookContainer = gd.closest('#notebook-container');\n",
              "if (notebookContainer) {{\n",
              "    x.observe(notebookContainer, {childList: true});\n",
              "}}\n",
              "\n",
              "// Listen for the clearing of the current output cell\n",
              "var outputEl = gd.closest('.output');\n",
              "if (outputEl) {{\n",
              "    x.observe(outputEl, {childList: true});\n",
              "}}\n",
              "\n",
              "                        })                };                            </script>        </div>\n",
              "</body>\n",
              "</html>"
            ]
          },
          "metadata": {}
        }
      ],
      "source": [
        "heads =  [(9,9), (9,6), (10,0)]\n",
        "model.reset_hooks() # callum library buggy\n",
        "def return_item(item):\n",
        "  return item\n",
        "\n",
        "model.reset_hooks()\n",
        "patched_logits = act_patch(\n",
        "    model = model,\n",
        "    orig_input = clean_tokens,\n",
        "    new_cache = corrupted_cache,\n",
        "    patching_nodes = [Node(\"z\", layer = layer, head = head) for layer, head in heads],\n",
        "    patching_metric = return_item,\n",
        "    verbose = False,\n",
        "    apply_metric_to_cache = False\n",
        ")\n",
        "\n",
        "model.reset_hooks()\n",
        "noise_sample_ablating_results = act_patch(\n",
        "    model = model,\n",
        "    orig_input = clean_tokens,\n",
        "    new_cache = corrupted_cache,\n",
        "    patching_nodes = [Node(\"z\", layer = layer, head = head) for layer, head in heads],\n",
        "    patching_metric = partial(display_corrupted_clean_logits, title = f\"Logit Differences When Sample Ablating in Name Mover Heads\", comparison = True, logits = patched_logits),\n",
        "    verbose = False,\n",
        "    apply_metric_to_cache = True\n",
        ")"
      ]
    },
    {
      "cell_type": "code",
      "execution_count": null,
      "metadata": {
        "colab": {
          "base_uri": "https://localhost:8080/",
          "height": 560
        },
        "id": "CIPoWHIF4vuy",
        "outputId": "ec9cfd31-9870-4ffe-feba-23078493a9a0"
      },
      "outputs": [
        {
          "output_type": "stream",
          "name": "stdout",
          "text": [
            "Tried to stack head results when they weren't cached. Computing head results now\n"
          ]
        },
        {
          "output_type": "display_data",
          "data": {
            "text/html": [
              "<html>\n",
              "<head><meta charset=\"utf-8\" /></head>\n",
              "<body>\n",
              "    <div>            <script src=\"https://cdnjs.cloudflare.com/ajax/libs/mathjax/2.7.5/MathJax.js?config=TeX-AMS-MML_SVG\"></script><script type=\"text/javascript\">if (window.MathJax && window.MathJax.Hub && window.MathJax.Hub.Config) {window.MathJax.Hub.Config({SVG: {font: \"STIX-Web\"}});}</script>                <script type=\"text/javascript\">window.PlotlyConfig = {MathJaxConfig: 'local'};</script>\n",
              "        <script src=\"https://cdn.plot.ly/plotly-2.18.2.min.js\"></script>                <div id=\"6fe4bf8b-8926-425f-b3c3-ce5a4f4636a5\" class=\"plotly-graph-div\" style=\"height:525px; width:1000px;\"></div>            <script type=\"text/javascript\">                                    window.PLOTLYENV=window.PLOTLYENV || {};                                    if (document.getElementById(\"6fe4bf8b-8926-425f-b3c3-ce5a4f4636a5\")) {                    Plotly.newPlot(                        \"6fe4bf8b-8926-425f-b3c3-ce5a4f4636a5\",                        [{\"coloraxis\":\"coloraxis\",\"name\":\"0\",\"z\":[[-0.007036437280476093,-9.424984455108643e-06,0.006035677623003721,0.017661992460489273,-0.0139250997453928,-0.023460865020751953,-0.046178270131349564,0.02979022078216076,0.024032611399888992,-0.003450915217399597,-0.03216173127293587,-0.012895846739411354],[-0.011417127214372158,0.0052261934615671635,-0.0013815686106681824,0.030117293819785118,-0.02799406461417675,-0.04216163977980614,-0.015718022361397743,0.030917230993509293,0.009190230630338192,0.02186715602874756,-0.02340603433549404,0.0030777694191783667],[0.015567131340503693,-0.008622044697403908,0.011397069320082664,-0.009647744707763195,-0.014489606022834778,0.01617479883134365,0.005435059312731028,-0.020545026287436485,-0.03748587518930435,-0.032721247524023056,-0.042748626321554184,0.03763905167579651],[0.01307040173560381,0.005709029268473387,0.00872292835265398,0.0015245081158354878,-0.012536314316093922,-0.009248965419828892,-0.009901873767375946,-0.013526208698749542,0.00041889623389579356,-0.016491789370775223,0.011903208680450916,-0.026706695556640625],[0.0034489878453314304,-0.005446205381304026,-0.009227327071130276,-0.0008965894812718034,-0.001116282306611538,-0.006637962069362402,0.04230301082134247,0.011718162335455418,-0.01606743596494198,-0.015301510691642761,0.002597420709207654,-0.021626019850373268],[0.017856044694781303,0.015495429746806622,-0.03218529745936394,0.0003924107295460999,0.002904710127040744,0.005811534821987152,-0.010099895298480988,-0.03796809911727905,0.009009288623929024,-0.04066944494843483,-0.010718261823058128,0.03141375258564949],[0.0113392798230052,-0.00940749328583479,0.011292051523923874,0.00991842895746231,-0.046918805688619614,0.0016624050913378596,0.03407832607626915,-0.006539796479046345,-0.011851928196847439,-0.018631726503372192,-0.00916368793696165,-0.009170819073915482],[-0.0002372108428971842,-0.008174064569175243,-0.000763795746024698,0.09145960956811905,-0.0009462416055612266,-0.039726439863443375,-0.011070476844906807,0.002719117095693946,-0.009272950701415539,0.18700896203517914,-0.012136944569647312,0.0020803362131118774],[0.009072943590581417,-0.003570887492969632,-0.02382180653512478,-0.06921612471342087,0.0009680509683676064,-0.025147175416350365,-0.10914283990859985,0.01377061940729618,-0.022669309750199318,-0.02094992995262146,0.24584756791591644,0.18368516862392426],[0.01033463142812252,-0.0021778035443276167,0.006001706700772047,-0.0001131296157836914,0.03310409188270569,-0.021355727687478065,0.08433370292186737,-0.01895742118358612,0.04067819565534592,0.1456412822008133,0.005676544737070799,-0.008570040576159954],[0.1518571674823761,0.039201218634843826,0.09750811755657196,-0.014134354889392853,-0.004182359669357538,0.01871638372540474,0.02268511988222599,-0.12062030285596848,0.0053033712320029736,-0.04546916112303734,0.07102332264184952,0.003444628557190299],[0.013236281462013721,-0.17367051541805267,1.0808364152908325,-0.02872598171234131,-0.013776453211903572,0.01542698498815298,0.4307933449745178,-0.041970815509557724,0.0063393861055374146,0.04566162824630737,0.0444016307592392,-0.017085006460547447]],\"type\":\"heatmap\",\"xaxis\":\"x\",\"yaxis\":\"y\",\"hovertemplate\":\"Head: %{x}<br>Layer: %{y}<br>Logit Contribution: %{z}<extra></extra>\"},{\"coloraxis\":\"coloraxis\",\"name\":\"1\",\"z\":[[-0.00614745682105422,-7.330253720283508e-05,0.005045554134994745,0.016563093289732933,-0.012541281059384346,-0.020631667226552963,-0.04110113903880119,0.026432102546095848,0.02253260649740696,-0.0046966285444796085,-0.0293093454092741,-0.010590746998786926],[-0.009919439442455769,0.00486426567658782,-0.0017682493198662996,0.02590922825038433,-0.025239968672394753,-0.038114093244075775,-0.014191994443535805,0.027914388105273247,0.008367609232664108,0.019775724038481712,-0.020211605355143547,0.0027966226916760206],[0.014858873561024666,-0.007676670793443918,0.010372367687523365,-0.009651636704802513,-0.012943548150360584,0.01459167618304491,0.004636650439351797,-0.018565108999609947,-0.0340128168463707,-0.029141917824745178,-0.03839431330561638,0.03358617052435875],[0.011631404981017113,0.0048478576354682446,0.007655127439647913,0.0008706736261956394,-0.010886580683290958,-0.008321158587932587,-0.008899308741092682,-0.011701188050210476,0.0004483044322114438,-0.014960325323045254,0.010864163748919964,-0.024497685953974724],[0.0034963947255164385,-0.0053210146725177765,-0.008478851988911629,1.2792646884918213e-05,-0.0010231699561700225,-0.006151875015348196,0.03880295902490616,0.010345312766730785,-0.014639302156865597,-0.013784206472337246,0.0023708483204245567,-0.019361380487680435],[0.01651163212954998,0.014736339449882507,-0.028221851214766502,0.0003483477921690792,0.0025519945193082094,0.0054216706193983555,-0.009057446382939816,-0.035740699619054794,0.008356835693120956,-0.03743206337094307,-0.009646588936448097,0.028581464663147926],[0.01018592156469822,-0.008550755679607391,0.010095476172864437,0.009066494181752205,-0.043547630310058594,0.0013599051162600517,0.032626207917928696,-0.004653585143387318,-0.011061948724091053,-0.01707126572728157,-0.008444569073617458,-0.008509362116456032],[1.6704201470929547e-06,-0.007594942580908537,-0.0006480347365140915,0.08559756726026535,-0.00043563172221183777,-0.03687107190489769,-0.010499358177185059,0.0023567762691527605,-0.008580693043768406,0.17094533145427704,-0.010654342360794544,0.0024532091338187456],[0.008345633745193481,-0.00306456396356225,-0.021446088328957558,-0.06250263005495071,0.00042341501102782786,-0.022604549303650856,-0.09928908199071884,0.013077884912490845,-0.02056228742003441,-0.01978294551372528,0.22346678376197815,0.16309231519699097],[0.16355536878108978,-0.006417848169803619,0.03397826477885246,0.0034946890082210302,-0.049222420901060104,0.026786774396896362,1.68706476688385,0.08589662611484528,0.26527851819992065,3.4588096141815186,0.009176189079880714,0.023537306115031242],[0.7527638077735901,0.1441563218832016,0.15868090093135834,-0.1530528962612152,-0.007611023727804422,0.01521633006632328,0.27396702766418457,-2.297128200531006,-0.0023295662831515074,-0.05026501417160034,0.5753141641616821,-0.006301615387201309],[0.005609363317489624,-0.15785756707191467,-0.41415277123451233,0.003484089393168688,-0.015784669667482376,0.007639676332473755,0.02407526969909668,-0.03809242323040962,0.00636312598362565,-0.03898591920733452,-1.0197645425796509,-0.04069795086979866]],\"type\":\"heatmap\",\"xaxis\":\"x2\",\"yaxis\":\"y2\",\"hovertemplate\":\"Head: %{x}<br>Layer: %{y}<br>Logit Contribution: %{z}<extra></extra>\"},{\"coloraxis\":\"coloraxis\",\"name\":\"2\",\"z\":[[-0.0008889804594218731,6.387755274772644e-05,0.000990123488008976,0.00109889917075634,-0.0013838186860084534,-0.00282919779419899,-0.00507713109254837,0.003358118236064911,0.0015000049024820328,0.0012457133270800114,-0.002852385863661766,-0.002305099740624428],[-0.0014976877719163895,0.0003619277849793434,0.00038668070919811726,0.004208065569400787,-0.0027540959417819977,-0.004047546535730362,-0.0015260279178619385,0.003002842888236046,0.0008226213976740837,0.0020914319902658463,-0.0031944289803504944,0.00028114672750234604],[0.0007082577794790268,-0.0009453739039599895,0.0010247016325592995,3.891997039318085e-06,-0.0015460578724741936,0.0015831226482987404,0.0007984088733792305,-0.001979917287826538,-0.003473058342933655,-0.003579329699277878,-0.004354313015937805,0.004052881151437759],[0.0014389967545866966,0.0008611716330051422,0.0010678009130060673,0.0006538344896398485,-0.0016497336328029633,-0.0009278068318963051,-0.0010025650262832642,-0.0018250206485390663,-2.9408198315650225e-05,-0.001531464047729969,0.0010390449315309525,-0.002209009602665901],[-4.740688018500805e-05,-0.00012519070878624916,-0.000748475082218647,-0.0009093821281567216,-9.311235044151545e-05,-0.00048608705401420593,0.00350005179643631,0.0013728495687246323,-0.0014281338080763817,-0.0015173042193055153,0.00022657238878309727,-0.002264639362692833],[0.0013444125652313232,0.0007590902969241142,-0.003963446244597435,4.406293737702072e-05,0.0003527156077325344,0.0003898642025887966,-0.001042448915541172,-0.0022273994982242584,0.0006524529308080673,-0.0032373815774917603,-0.0010716728866100311,0.002832287922501564],[0.0011533582583069801,-0.0008567376062273979,0.0011965753510594368,0.0008519347757101059,-0.00337117537856102,0.0003024999750778079,0.001452118158340454,-0.001886211335659027,-0.0007899794727563858,-0.001560460776090622,-0.0007191188633441925,-0.0006614569574594498],[-0.00023888125724624842,-0.0005791219882667065,-0.00011576100951060653,0.005862042307853699,-0.0005106098833493888,-0.002855367958545685,-0.0005711186677217484,0.0003623408265411854,-0.0006922576576471329,0.0160636305809021,-0.001482602208852768,-0.00037287292070686817],[0.0007273098453879356,-0.000506323529407382,-0.002375718206167221,-0.006713494658470154,0.0005446359282359481,-0.0025426261126995087,-0.009853757917881012,0.000692734494805336,-0.0021070223301649094,-0.0011669844388961792,0.022380784153938293,0.02059285342693329],[-0.1532207429409027,0.004240044392645359,-0.02797655761241913,-0.0036078186240047216,0.08232651650905609,-0.04814250022172928,-1.6027311086654663,-0.1048540472984314,-0.22460031509399414,-3.3131682872772217,-0.0034996443428099155,-0.03210734575986862],[-0.6009066104888916,-0.10495510697364807,-0.06117278337478638,0.13891854882240295,0.003428664058446884,0.003500053659081459,-0.2512819170951843,2.1765079498291016,0.007632937282323837,0.0047958530485630035,-0.5042908191680908,0.009746244177222252],[0.0076269181445240974,-0.015812948346138,1.4949891567230225,-0.03221007063984871,0.002008216455578804,0.007787308655679226,0.40671807527542114,-0.003878392279148102,-2.3739878088235855e-05,0.08464755117893219,1.0641661882400513,0.023612944409251213]],\"type\":\"heatmap\",\"xaxis\":\"x3\",\"yaxis\":\"y3\",\"hovertemplate\":\"Head: %{x}<br>Layer: %{y}<br>Logit Contribution: %{z}<extra></extra>\"}],                        {\"template\":{\"data\":{\"histogram2dcontour\":[{\"type\":\"histogram2dcontour\",\"colorbar\":{\"outlinewidth\":0,\"ticks\":\"\"},\"colorscale\":[[0.0,\"#0d0887\"],[0.1111111111111111,\"#46039f\"],[0.2222222222222222,\"#7201a8\"],[0.3333333333333333,\"#9c179e\"],[0.4444444444444444,\"#bd3786\"],[0.5555555555555556,\"#d8576b\"],[0.6666666666666666,\"#ed7953\"],[0.7777777777777778,\"#fb9f3a\"],[0.8888888888888888,\"#fdca26\"],[1.0,\"#f0f921\"]]}],\"choropleth\":[{\"type\":\"choropleth\",\"colorbar\":{\"outlinewidth\":0,\"ticks\":\"\"}}],\"histogram2d\":[{\"type\":\"histogram2d\",\"colorbar\":{\"outlinewidth\":0,\"ticks\":\"\"},\"colorscale\":[[0.0,\"#0d0887\"],[0.1111111111111111,\"#46039f\"],[0.2222222222222222,\"#7201a8\"],[0.3333333333333333,\"#9c179e\"],[0.4444444444444444,\"#bd3786\"],[0.5555555555555556,\"#d8576b\"],[0.6666666666666666,\"#ed7953\"],[0.7777777777777778,\"#fb9f3a\"],[0.8888888888888888,\"#fdca26\"],[1.0,\"#f0f921\"]]}],\"heatmap\":[{\"type\":\"heatmap\",\"colorbar\":{\"outlinewidth\":0,\"ticks\":\"\"},\"colorscale\":[[0.0,\"#0d0887\"],[0.1111111111111111,\"#46039f\"],[0.2222222222222222,\"#7201a8\"],[0.3333333333333333,\"#9c179e\"],[0.4444444444444444,\"#bd3786\"],[0.5555555555555556,\"#d8576b\"],[0.6666666666666666,\"#ed7953\"],[0.7777777777777778,\"#fb9f3a\"],[0.8888888888888888,\"#fdca26\"],[1.0,\"#f0f921\"]]}],\"heatmapgl\":[{\"type\":\"heatmapgl\",\"colorbar\":{\"outlinewidth\":0,\"ticks\":\"\"},\"colorscale\":[[0.0,\"#0d0887\"],[0.1111111111111111,\"#46039f\"],[0.2222222222222222,\"#7201a8\"],[0.3333333333333333,\"#9c179e\"],[0.4444444444444444,\"#bd3786\"],[0.5555555555555556,\"#d8576b\"],[0.6666666666666666,\"#ed7953\"],[0.7777777777777778,\"#fb9f3a\"],[0.8888888888888888,\"#fdca26\"],[1.0,\"#f0f921\"]]}],\"contourcarpet\":[{\"type\":\"contourcarpet\",\"colorbar\":{\"outlinewidth\":0,\"ticks\":\"\"}}],\"contour\":[{\"type\":\"contour\",\"colorbar\":{\"outlinewidth\":0,\"ticks\":\"\"},\"colorscale\":[[0.0,\"#0d0887\"],[0.1111111111111111,\"#46039f\"],[0.2222222222222222,\"#7201a8\"],[0.3333333333333333,\"#9c179e\"],[0.4444444444444444,\"#bd3786\"],[0.5555555555555556,\"#d8576b\"],[0.6666666666666666,\"#ed7953\"],[0.7777777777777778,\"#fb9f3a\"],[0.8888888888888888,\"#fdca26\"],[1.0,\"#f0f921\"]]}],\"surface\":[{\"type\":\"surface\",\"colorbar\":{\"outlinewidth\":0,\"ticks\":\"\"},\"colorscale\":[[0.0,\"#0d0887\"],[0.1111111111111111,\"#46039f\"],[0.2222222222222222,\"#7201a8\"],[0.3333333333333333,\"#9c179e\"],[0.4444444444444444,\"#bd3786\"],[0.5555555555555556,\"#d8576b\"],[0.6666666666666666,\"#ed7953\"],[0.7777777777777778,\"#fb9f3a\"],[0.8888888888888888,\"#fdca26\"],[1.0,\"#f0f921\"]]}],\"mesh3d\":[{\"type\":\"mesh3d\",\"colorbar\":{\"outlinewidth\":0,\"ticks\":\"\"}}],\"scatter\":[{\"fillpattern\":{\"fillmode\":\"overlay\",\"size\":10,\"solidity\":0.2},\"type\":\"scatter\"}],\"parcoords\":[{\"type\":\"parcoords\",\"line\":{\"colorbar\":{\"outlinewidth\":0,\"ticks\":\"\"}}}],\"scatterpolargl\":[{\"type\":\"scatterpolargl\",\"marker\":{\"colorbar\":{\"outlinewidth\":0,\"ticks\":\"\"}}}],\"bar\":[{\"error_x\":{\"color\":\"#2a3f5f\"},\"error_y\":{\"color\":\"#2a3f5f\"},\"marker\":{\"line\":{\"color\":\"#E5ECF6\",\"width\":0.5},\"pattern\":{\"fillmode\":\"overlay\",\"size\":10,\"solidity\":0.2}},\"type\":\"bar\"}],\"scattergeo\":[{\"type\":\"scattergeo\",\"marker\":{\"colorbar\":{\"outlinewidth\":0,\"ticks\":\"\"}}}],\"scatterpolar\":[{\"type\":\"scatterpolar\",\"marker\":{\"colorbar\":{\"outlinewidth\":0,\"ticks\":\"\"}}}],\"histogram\":[{\"marker\":{\"pattern\":{\"fillmode\":\"overlay\",\"size\":10,\"solidity\":0.2}},\"type\":\"histogram\"}],\"scattergl\":[{\"type\":\"scattergl\",\"marker\":{\"colorbar\":{\"outlinewidth\":0,\"ticks\":\"\"}}}],\"scatter3d\":[{\"type\":\"scatter3d\",\"line\":{\"colorbar\":{\"outlinewidth\":0,\"ticks\":\"\"}},\"marker\":{\"colorbar\":{\"outlinewidth\":0,\"ticks\":\"\"}}}],\"scattermapbox\":[{\"type\":\"scattermapbox\",\"marker\":{\"colorbar\":{\"outlinewidth\":0,\"ticks\":\"\"}}}],\"scatterternary\":[{\"type\":\"scatterternary\",\"marker\":{\"colorbar\":{\"outlinewidth\":0,\"ticks\":\"\"}}}],\"scattercarpet\":[{\"type\":\"scattercarpet\",\"marker\":{\"colorbar\":{\"outlinewidth\":0,\"ticks\":\"\"}}}],\"carpet\":[{\"aaxis\":{\"endlinecolor\":\"#2a3f5f\",\"gridcolor\":\"white\",\"linecolor\":\"white\",\"minorgridcolor\":\"white\",\"startlinecolor\":\"#2a3f5f\"},\"baxis\":{\"endlinecolor\":\"#2a3f5f\",\"gridcolor\":\"white\",\"linecolor\":\"white\",\"minorgridcolor\":\"white\",\"startlinecolor\":\"#2a3f5f\"},\"type\":\"carpet\"}],\"table\":[{\"cells\":{\"fill\":{\"color\":\"#EBF0F8\"},\"line\":{\"color\":\"white\"}},\"header\":{\"fill\":{\"color\":\"#C8D4E3\"},\"line\":{\"color\":\"white\"}},\"type\":\"table\"}],\"barpolar\":[{\"marker\":{\"line\":{\"color\":\"#E5ECF6\",\"width\":0.5},\"pattern\":{\"fillmode\":\"overlay\",\"size\":10,\"solidity\":0.2}},\"type\":\"barpolar\"}],\"pie\":[{\"automargin\":true,\"type\":\"pie\"}]},\"layout\":{\"autotypenumbers\":\"strict\",\"colorway\":[\"#636efa\",\"#EF553B\",\"#00cc96\",\"#ab63fa\",\"#FFA15A\",\"#19d3f3\",\"#FF6692\",\"#B6E880\",\"#FF97FF\",\"#FECB52\"],\"font\":{\"color\":\"#2a3f5f\"},\"hovermode\":\"closest\",\"hoverlabel\":{\"align\":\"left\"},\"paper_bgcolor\":\"white\",\"plot_bgcolor\":\"#E5ECF6\",\"polar\":{\"bgcolor\":\"#E5ECF6\",\"angularaxis\":{\"gridcolor\":\"white\",\"linecolor\":\"white\",\"ticks\":\"\"},\"radialaxis\":{\"gridcolor\":\"white\",\"linecolor\":\"white\",\"ticks\":\"\"}},\"ternary\":{\"bgcolor\":\"#E5ECF6\",\"aaxis\":{\"gridcolor\":\"white\",\"linecolor\":\"white\",\"ticks\":\"\"},\"baxis\":{\"gridcolor\":\"white\",\"linecolor\":\"white\",\"ticks\":\"\"},\"caxis\":{\"gridcolor\":\"white\",\"linecolor\":\"white\",\"ticks\":\"\"}},\"coloraxis\":{\"colorbar\":{\"outlinewidth\":0,\"ticks\":\"\"}},\"colorscale\":{\"sequential\":[[0.0,\"#0d0887\"],[0.1111111111111111,\"#46039f\"],[0.2222222222222222,\"#7201a8\"],[0.3333333333333333,\"#9c179e\"],[0.4444444444444444,\"#bd3786\"],[0.5555555555555556,\"#d8576b\"],[0.6666666666666666,\"#ed7953\"],[0.7777777777777778,\"#fb9f3a\"],[0.8888888888888888,\"#fdca26\"],[1.0,\"#f0f921\"]],\"sequentialminus\":[[0.0,\"#0d0887\"],[0.1111111111111111,\"#46039f\"],[0.2222222222222222,\"#7201a8\"],[0.3333333333333333,\"#9c179e\"],[0.4444444444444444,\"#bd3786\"],[0.5555555555555556,\"#d8576b\"],[0.6666666666666666,\"#ed7953\"],[0.7777777777777778,\"#fb9f3a\"],[0.8888888888888888,\"#fdca26\"],[1.0,\"#f0f921\"]],\"diverging\":[[0,\"#8e0152\"],[0.1,\"#c51b7d\"],[0.2,\"#de77ae\"],[0.3,\"#f1b6da\"],[0.4,\"#fde0ef\"],[0.5,\"#f7f7f7\"],[0.6,\"#e6f5d0\"],[0.7,\"#b8e186\"],[0.8,\"#7fbc41\"],[0.9,\"#4d9221\"],[1,\"#276419\"]]},\"xaxis\":{\"gridcolor\":\"white\",\"linecolor\":\"white\",\"ticks\":\"\",\"title\":{\"standoff\":15},\"zerolinecolor\":\"white\",\"automargin\":true,\"zerolinewidth\":2},\"yaxis\":{\"gridcolor\":\"white\",\"linecolor\":\"white\",\"ticks\":\"\",\"title\":{\"standoff\":15},\"zerolinecolor\":\"white\",\"automargin\":true,\"zerolinewidth\":2},\"scene\":{\"xaxis\":{\"backgroundcolor\":\"#E5ECF6\",\"gridcolor\":\"white\",\"linecolor\":\"white\",\"showbackground\":true,\"ticks\":\"\",\"zerolinecolor\":\"white\",\"gridwidth\":2},\"yaxis\":{\"backgroundcolor\":\"#E5ECF6\",\"gridcolor\":\"white\",\"linecolor\":\"white\",\"showbackground\":true,\"ticks\":\"\",\"zerolinecolor\":\"white\",\"gridwidth\":2},\"zaxis\":{\"backgroundcolor\":\"#E5ECF6\",\"gridcolor\":\"white\",\"linecolor\":\"white\",\"showbackground\":true,\"ticks\":\"\",\"zerolinecolor\":\"white\",\"gridwidth\":2}},\"shapedefaults\":{\"line\":{\"color\":\"#2a3f5f\"}},\"annotationdefaults\":{\"arrowcolor\":\"#2a3f5f\",\"arrowhead\":0,\"arrowwidth\":1},\"geo\":{\"bgcolor\":\"white\",\"landcolor\":\"#E5ECF6\",\"subunitcolor\":\"white\",\"showland\":true,\"showlakes\":true,\"lakecolor\":\"white\"},\"title\":{\"x\":0.05},\"mapbox\":{\"style\":\"light\"}}},\"xaxis\":{\"anchor\":\"y\",\"domain\":[0.0,0.31999999999999995],\"scaleanchor\":\"y\",\"constrain\":\"domain\",\"title\":{\"text\":\"Head\"},\"showline\":true,\"linewidth\":1,\"linecolor\":\"black\",\"mirror\":true},\"yaxis\":{\"anchor\":\"x\",\"domain\":[0.0,1.0],\"autorange\":\"reversed\",\"constrain\":\"domain\",\"title\":{\"text\":\"Layer\"},\"showline\":true,\"linewidth\":1,\"linecolor\":\"black\",\"mirror\":true},\"xaxis2\":{\"anchor\":\"y2\",\"domain\":[0.33999999999999997,0.6599999999999999],\"matches\":\"x\",\"title\":{\"text\":\"Head\"},\"showline\":true,\"linewidth\":1,\"linecolor\":\"black\",\"mirror\":true},\"yaxis2\":{\"anchor\":\"x2\",\"domain\":[0.0,1.0],\"matches\":\"y\",\"showticklabels\":false,\"showline\":true,\"linewidth\":1,\"linecolor\":\"black\",\"mirror\":true},\"xaxis3\":{\"anchor\":\"y3\",\"domain\":[0.6799999999999999,0.9999999999999999],\"matches\":\"x\",\"title\":{\"text\":\"Head\"},\"showline\":true,\"linewidth\":1,\"linecolor\":\"black\",\"mirror\":true},\"yaxis3\":{\"anchor\":\"x3\",\"domain\":[0.0,1.0],\"matches\":\"y\",\"showticklabels\":false,\"showline\":true,\"linewidth\":1,\"linecolor\":\"black\",\"mirror\":true},\"annotations\":[{\"font\":{},\"showarrow\":false,\"text\":\"Ablated Logit Differences: 1.92\",\"x\":0.15999999999999998,\"xanchor\":\"center\",\"xref\":\"paper\",\"y\":1.0,\"yanchor\":\"bottom\",\"yref\":\"paper\"},{\"font\":{},\"showarrow\":false,\"text\":\"Clean Logit Differences: 3.97\",\"x\":0.49999999999999994,\"xanchor\":\"center\",\"xref\":\"paper\",\"y\":1.0,\"yanchor\":\"bottom\",\"yref\":\"paper\"},{\"font\":{},\"showarrow\":false,\"text\":\"Difference between Ablated and Clea: -2.05\",\"x\":0.8399999999999999,\"xanchor\":\"center\",\"xref\":\"paper\",\"y\":1.0,\"yanchor\":\"bottom\",\"yref\":\"paper\"}],\"coloraxis\":{\"colorbar\":{\"title\":{\"text\":\"Logit Contribution\"}},\"colorscale\":[[0.0,\"rgb(103,0,31)\"],[0.1,\"rgb(178,24,43)\"],[0.2,\"rgb(214,96,77)\"],[0.3,\"rgb(244,165,130)\"],[0.4,\"rgb(253,219,199)\"],[0.5,\"rgb(247,247,247)\"],[0.6,\"rgb(209,229,240)\"],[0.7,\"rgb(146,197,222)\"],[0.8,\"rgb(67,147,195)\"],[0.9,\"rgb(33,102,172)\"],[1.0,\"rgb(5,48,97)\"]],\"cmid\":0.0},\"title\":{\"text\":\"Logits When Sample Ablating in Layer 9\"},\"width\":1000,\"margin\":{\"r\":100,\"l\":100}},                        {\"responsive\": true}                    ).then(function(){\n",
              "                            \n",
              "var gd = document.getElementById('6fe4bf8b-8926-425f-b3c3-ce5a4f4636a5');\n",
              "var x = new MutationObserver(function (mutations, observer) {{\n",
              "        var display = window.getComputedStyle(gd).display;\n",
              "        if (!display || display === 'none') {{\n",
              "            console.log([gd, 'removed!']);\n",
              "            Plotly.purge(gd);\n",
              "            observer.disconnect();\n",
              "        }}\n",
              "}});\n",
              "\n",
              "// Listen for the removal of the full notebook cells\n",
              "var notebookContainer = gd.closest('#notebook-container');\n",
              "if (notebookContainer) {{\n",
              "    x.observe(notebookContainer, {childList: true});\n",
              "}}\n",
              "\n",
              "// Listen for the clearing of the current output cell\n",
              "var outputEl = gd.closest('.output');\n",
              "if (outputEl) {{\n",
              "    x.observe(outputEl, {childList: true});\n",
              "}}\n",
              "\n",
              "                        })                };                            </script>        </div>\n",
              "</body>\n",
              "</html>"
            ]
          },
          "metadata": {}
        }
      ],
      "source": [
        "heads =  [(9,i) for i in range(12)] +  [(10,i) for i in range(12)]\n",
        "model.reset_hooks() # callum library buggy\n",
        "def return_item(item):\n",
        "  return item\n",
        "\n",
        "model.reset_hooks()\n",
        "patched_logits = act_patch(\n",
        "    model = model,\n",
        "    orig_input = clean_tokens,\n",
        "    new_cache = corrupted_cache,\n",
        "    patching_nodes = [Node(\"z\", layer = layer, head = head) for layer, head in heads],\n",
        "    patching_metric = return_item,\n",
        "    verbose = False,\n",
        "    apply_metric_to_cache = False\n",
        ")\n",
        "\n",
        "model.reset_hooks()\n",
        "all_layernine_noise_patching_results = act_patch(\n",
        "    model = model,\n",
        "    orig_input = clean_tokens,\n",
        "    new_cache = corrupted_cache,\n",
        "    patching_nodes = [Node(\"z\", layer = layer, head = head) for layer, head in heads],\n",
        "    patching_metric = partial(display_corrupted_clean_logits, title = f\"Logits When Sample Ablating in Layer 9\", comparison = True, logits = patched_logits),\n",
        "    verbose = False,\n",
        "    apply_metric_to_cache = True\n",
        ")"
      ]
    },
    {
      "cell_type": "code",
      "execution_count": null,
      "metadata": {
        "colab": {
          "base_uri": "https://localhost:8080/",
          "height": 560
        },
        "id": "q90wgub9Xk_2",
        "outputId": "54bbca62-e4af-4d37-8b3d-c6593c437800"
      },
      "outputs": [
        {
          "output_type": "stream",
          "name": "stdout",
          "text": [
            "Tried to stack head results when they weren't cached. Computing head results now\n"
          ]
        },
        {
          "output_type": "display_data",
          "data": {
            "text/html": [
              "<html>\n",
              "<head><meta charset=\"utf-8\" /></head>\n",
              "<body>\n",
              "    <div>            <script src=\"https://cdnjs.cloudflare.com/ajax/libs/mathjax/2.7.5/MathJax.js?config=TeX-AMS-MML_SVG\"></script><script type=\"text/javascript\">if (window.MathJax && window.MathJax.Hub && window.MathJax.Hub.Config) {window.MathJax.Hub.Config({SVG: {font: \"STIX-Web\"}});}</script>                <script type=\"text/javascript\">window.PlotlyConfig = {MathJaxConfig: 'local'};</script>\n",
              "        <script src=\"https://cdn.plot.ly/plotly-2.18.2.min.js\"></script>                <div id=\"03a1d26a-aca4-4767-8cc7-ab07de06384c\" class=\"plotly-graph-div\" style=\"height:525px; width:1000px;\"></div>            <script type=\"text/javascript\">                                    window.PLOTLYENV=window.PLOTLYENV || {};                                    if (document.getElementById(\"03a1d26a-aca4-4767-8cc7-ab07de06384c\")) {                    Plotly.newPlot(                        \"03a1d26a-aca4-4767-8cc7-ab07de06384c\",                        [{\"coloraxis\":\"coloraxis\",\"name\":\"0\",\"z\":[[-0.0064496188424527645,9.597092866897583e-05,0.005319609306752682,0.017051665112376213,-0.013362142257392406,-0.021721793338656425,-0.04345307871699333,0.027972672134637833,0.023854224011301994,-0.0045144930481910706,-0.031130710616707802,-0.011112771928310394],[-0.010383966378867626,0.004932121839374304,-0.0014913261402398348,0.027137085795402527,-0.02665206789970398,-0.03989136219024658,-0.014733195304870605,0.029352370649576187,0.008777142502367496,0.020701108500361443,-0.02126501128077507,0.0025979254860430956],[0.015402770601212978,-0.007935471832752228,0.010831426829099655,-0.010008073411881924,-0.013539120554924011,0.015399510972201824,0.004815088119357824,-0.019518334418535233,-0.035624582320451736,-0.03066575899720192,-0.040276966989040375,0.03531956672668457],[0.012225579470396042,0.0052074710838496685,0.00805580709129572,0.0008722564089111984,-0.011506358161568642,-0.008671663701534271,-0.009176008403301239,-0.01235874928534031,0.00038531850441358984,-0.015464979223906994,0.011210327036678791,-0.025687044486403465],[0.003677506698295474,-0.005689592566341162,-0.008685282431542873,-0.0007157221552915871,-0.0012366094160825014,-0.006323766894638538,0.040479518473148346,0.011330787092447281,-0.015336108393967152,-0.014363348484039307,0.0025584176182746887,-0.020471451804041862],[0.017255796119570732,0.015507069416344166,-0.029716545715928078,0.00045258348109200597,0.0027757890056818724,0.005524720996618271,-0.009559386409819126,-0.03736213594675064,0.008642873726785183,-0.039061617106199265,-0.010451565496623516,0.029853975400328636],[0.010716482065618038,-0.009010881185531616,0.010691732168197632,0.009339655749499798,-0.045304298400878906,0.0013996448833495378,0.03376350551843643,-0.005374021362513304,-0.011342977173626423,-0.01779191754758358,-0.008882000111043453,-0.008901871740818024],[-4.0820243157213554e-05,-0.007953671738505363,-0.0006449915817938745,0.08922739326953888,-0.0007841169717721641,-0.03823668509721756,-0.010986912995576859,0.0025224778801202774,-0.009109744802117348,0.1783088743686676,-0.01106035616248846,0.0025965438690036535],[0.008819451555609703,-0.003300237003713846,-0.02221437357366085,-0.06529907137155533,0.00031081438646651804,-0.023066779598593712,-0.10369829088449478,0.013797766529023647,-0.02187269926071167,-0.02079719491302967,0.23310792446136475,0.17110437154769897],[0.17030328512191772,-0.006452634464949369,0.03600255772471428,0.0035718828439712524,-0.05167616158723831,0.027355650439858437,1.7654491662979126,0.09046192467212677,0.27807074785232544,0.13562671840190887,0.009763549081981182,0.02454914152622223],[1.2981771230697632,0.28750959038734436,0.4813931882381439,-0.15551380813121796,-0.009543213061988354,0.015255669131875038,0.5104455947875977,-1.4670429229736328,-0.004476805217564106,-0.05625506862998009,1.1121025085449219,-0.005697945598512888],[0.011795214377343655,-0.16352109611034393,-0.4805053770542145,0.0382927805185318,-0.01363722886890173,0.0080254590138793,-0.0014959432883188128,-0.037906672805547714,2.3645163309993222e-05,-0.040526390075683594,-0.9719125032424927,-0.027398154139518738]],\"type\":\"heatmap\",\"xaxis\":\"x\",\"yaxis\":\"y\",\"hovertemplate\":\"Head: %{x}<br>Layer: %{y}<br>Logit Contribution: %{z}<extra></extra>\"},{\"coloraxis\":\"coloraxis\",\"name\":\"1\",\"z\":[[-0.00614745682105422,-7.330253720283508e-05,0.005045554134994745,0.016563093289732933,-0.012541281059384346,-0.020631667226552963,-0.04110113903880119,0.026432102546095848,0.02253260649740696,-0.0046966285444796085,-0.0293093454092741,-0.010590746998786926],[-0.009919439442455769,0.00486426567658782,-0.0017682493198662996,0.02590922825038433,-0.025239968672394753,-0.038114093244075775,-0.014191994443535805,0.027914388105273247,0.008367609232664108,0.019775724038481712,-0.020211605355143547,0.0027966226916760206],[0.014858873561024666,-0.007676670793443918,0.010372367687523365,-0.009651636704802513,-0.012943548150360584,0.01459167618304491,0.004636650439351797,-0.018565108999609947,-0.0340128168463707,-0.029141917824745178,-0.03839431330561638,0.03358617052435875],[0.011631404981017113,0.0048478576354682446,0.007655127439647913,0.0008706736261956394,-0.010886580683290958,-0.008321158587932587,-0.008899308741092682,-0.011701188050210476,0.0004483044322114438,-0.014960325323045254,0.010864163748919964,-0.024497685953974724],[0.0034963947255164385,-0.0053210146725177765,-0.008478851988911629,1.2792646884918213e-05,-0.0010231699561700225,-0.006151875015348196,0.03880295902490616,0.010345312766730785,-0.014639302156865597,-0.013784206472337246,0.0023708483204245567,-0.019361380487680435],[0.01651163212954998,0.014736339449882507,-0.028221851214766502,0.0003483477921690792,0.0025519945193082094,0.0054216706193983555,-0.009057446382939816,-0.035740699619054794,0.008356835693120956,-0.03743206337094307,-0.009646588936448097,0.028581464663147926],[0.01018592156469822,-0.008550755679607391,0.010095476172864437,0.009066494181752205,-0.043547630310058594,0.0013599051162600517,0.032626207917928696,-0.004653585143387318,-0.011061948724091053,-0.01707126572728157,-0.008444569073617458,-0.008509362116456032],[1.6704201470929547e-06,-0.007594942580908537,-0.0006480347365140915,0.08559756726026535,-0.00043563172221183777,-0.03687107190489769,-0.010499358177185059,0.0023567762691527605,-0.008580693043768406,0.17094533145427704,-0.010654342360794544,0.0024532091338187456],[0.008345633745193481,-0.00306456396356225,-0.021446088328957558,-0.06250263005495071,0.00042341501102782786,-0.022604549303650856,-0.09928908199071884,0.013077884912490845,-0.02056228742003441,-0.01978294551372528,0.22346678376197815,0.16309231519699097],[0.16355536878108978,-0.006417848169803619,0.03397826477885246,0.0034946890082210302,-0.049222420901060104,0.026786774396896362,1.68706476688385,0.08589662611484528,0.26527851819992065,3.4588096141815186,0.009176189079880714,0.023537306115031242],[0.7527638077735901,0.1441563218832016,0.15868090093135834,-0.1530528962612152,-0.007611023727804422,0.01521633006632328,0.27396702766418457,-2.297128200531006,-0.0023295662831515074,-0.05026501417160034,0.5753141641616821,-0.006301615387201309],[0.005609363317489624,-0.15785756707191467,-0.41415277123451233,0.003484089393168688,-0.015784669667482376,0.007639676332473755,0.02407526969909668,-0.03809242323040962,0.00636312598362565,-0.03898591920733452,-1.0197645425796509,-0.04069795086979866]],\"type\":\"heatmap\",\"xaxis\":\"x2\",\"yaxis\":\"y2\",\"hovertemplate\":\"Head: %{x}<br>Layer: %{y}<br>Logit Contribution: %{z}<extra></extra>\"},{\"coloraxis\":\"coloraxis\",\"name\":\"2\",\"z\":[[-0.0003021620213985443,0.0001692734658718109,0.0002740551717579365,0.00048857182264328,-0.0008208611980080605,-0.0010901261121034622,-0.0023519396781921387,0.0015405695885419846,0.0013216175138950348,0.00018213549628853798,-0.0018213652074337006,-0.000522024929523468],[-0.0004645269364118576,6.785616278648376e-05,0.00027692317962646484,0.001227857545018196,-0.001412099227309227,-0.0017772689461708069,-0.0005412008613348007,0.0014379825443029404,0.0004095332697033882,0.0009253844618797302,-0.0010534059256315231,-0.00019869720563292503],[0.0005438970401883125,-0.00025880103930830956,0.00045905914157629013,-0.00035643670707941055,-0.000595572404563427,0.0008078347891569138,0.00017843768000602722,-0.0009532254189252853,-0.0016117654740810394,-0.0015238411724567413,-0.001882653683423996,0.001733396202325821],[0.0005941744893789291,0.00035961344838142395,0.00040067965164780617,1.5827827155590057e-06,-0.0006197774782776833,-0.00035050511360168457,-0.00027669966220855713,-0.0006575612351298332,-6.298592779785395e-05,-0.0005046539008617401,0.0003461632877588272,-0.0011893585324287415],[0.00018111197277903557,-0.00036857789382338524,-0.00020643044263124466,-0.0007285148021765053,-0.00021343945991247892,-0.00017189187929034233,0.0016765594482421875,0.0009854743257164955,-0.0006968062371015549,-0.0005791420117020607,0.000187569297850132,-0.0011100713163614273],[0.000744163990020752,0.0007707299664616585,-0.0014946945011615753,0.00010423568892292678,0.00022379448637366295,0.00010305037721991539,-0.0005019400268793106,-0.0016214363276958466,0.00028603803366422653,-0.001629553735256195,-0.0008049765601754189,0.0012725107371807098],[0.0005305605009198189,-0.00046012550592422485,0.0005962559953331947,0.0002731615677475929,-0.0017566680908203125,3.973976708948612e-05,0.0011372976005077362,-0.0007204362191259861,-0.0002810284495353699,-0.0007206518203020096,-0.0004374310374259949,-0.0003925096243619919],[-4.24906647822354e-05,-0.00035872915759682655,3.0431547202169895e-06,0.003629826009273529,-0.00034848524956032634,-0.00136561319231987,-0.0004875548183917999,0.0001657016109675169,-0.0005290517583489418,0.007363542914390564,-0.0004060138016939163,0.0001433347351849079],[0.0004738178104162216,-0.00023567304015159607,-0.0007682852447032928,-0.0027964413166046143,-0.00011260062456130981,-0.00046223029494285583,-0.00440920889377594,0.0007198816165328026,-0.0013104118406772614,-0.00101424939930439,0.009641140699386597,0.008012056350708008],[0.006747916340827942,-3.4786295145750046e-05,0.0020242929458618164,7.71938357502222e-05,-0.0024537406861782074,0.0005688760429620743,0.0783843994140625,0.004565298557281494,0.012792229652404785,-3.3231828212738037,0.0005873600021004677,0.0010118354111909866],[0.5454133152961731,0.14335326850414276,0.3227123022079468,-0.0024609118700027466,-0.0019321893341839314,3.933906555175781e-05,0.23647856712341309,0.830085277557373,-0.0021472389344125986,-0.0059900544583797455,0.5367883443832397,0.0006036697886884212],[0.006185851059854031,-0.00566352903842926,-0.06635260581970215,0.0348086915910244,0.0021474407985806465,0.0003857826814055443,-0.02557121217250824,0.00018575042486190796,-0.006339480634778738,-0.0015404708683490753,0.0478520393371582,0.013299796730279922]],\"type\":\"heatmap\",\"xaxis\":\"x3\",\"yaxis\":\"y3\",\"hovertemplate\":\"Head: %{x}<br>Layer: %{y}<br>Logit Contribution: %{z}<extra></extra>\"}],                        {\"template\":{\"data\":{\"histogram2dcontour\":[{\"type\":\"histogram2dcontour\",\"colorbar\":{\"outlinewidth\":0,\"ticks\":\"\"},\"colorscale\":[[0.0,\"#0d0887\"],[0.1111111111111111,\"#46039f\"],[0.2222222222222222,\"#7201a8\"],[0.3333333333333333,\"#9c179e\"],[0.4444444444444444,\"#bd3786\"],[0.5555555555555556,\"#d8576b\"],[0.6666666666666666,\"#ed7953\"],[0.7777777777777778,\"#fb9f3a\"],[0.8888888888888888,\"#fdca26\"],[1.0,\"#f0f921\"]]}],\"choropleth\":[{\"type\":\"choropleth\",\"colorbar\":{\"outlinewidth\":0,\"ticks\":\"\"}}],\"histogram2d\":[{\"type\":\"histogram2d\",\"colorbar\":{\"outlinewidth\":0,\"ticks\":\"\"},\"colorscale\":[[0.0,\"#0d0887\"],[0.1111111111111111,\"#46039f\"],[0.2222222222222222,\"#7201a8\"],[0.3333333333333333,\"#9c179e\"],[0.4444444444444444,\"#bd3786\"],[0.5555555555555556,\"#d8576b\"],[0.6666666666666666,\"#ed7953\"],[0.7777777777777778,\"#fb9f3a\"],[0.8888888888888888,\"#fdca26\"],[1.0,\"#f0f921\"]]}],\"heatmap\":[{\"type\":\"heatmap\",\"colorbar\":{\"outlinewidth\":0,\"ticks\":\"\"},\"colorscale\":[[0.0,\"#0d0887\"],[0.1111111111111111,\"#46039f\"],[0.2222222222222222,\"#7201a8\"],[0.3333333333333333,\"#9c179e\"],[0.4444444444444444,\"#bd3786\"],[0.5555555555555556,\"#d8576b\"],[0.6666666666666666,\"#ed7953\"],[0.7777777777777778,\"#fb9f3a\"],[0.8888888888888888,\"#fdca26\"],[1.0,\"#f0f921\"]]}],\"heatmapgl\":[{\"type\":\"heatmapgl\",\"colorbar\":{\"outlinewidth\":0,\"ticks\":\"\"},\"colorscale\":[[0.0,\"#0d0887\"],[0.1111111111111111,\"#46039f\"],[0.2222222222222222,\"#7201a8\"],[0.3333333333333333,\"#9c179e\"],[0.4444444444444444,\"#bd3786\"],[0.5555555555555556,\"#d8576b\"],[0.6666666666666666,\"#ed7953\"],[0.7777777777777778,\"#fb9f3a\"],[0.8888888888888888,\"#fdca26\"],[1.0,\"#f0f921\"]]}],\"contourcarpet\":[{\"type\":\"contourcarpet\",\"colorbar\":{\"outlinewidth\":0,\"ticks\":\"\"}}],\"contour\":[{\"type\":\"contour\",\"colorbar\":{\"outlinewidth\":0,\"ticks\":\"\"},\"colorscale\":[[0.0,\"#0d0887\"],[0.1111111111111111,\"#46039f\"],[0.2222222222222222,\"#7201a8\"],[0.3333333333333333,\"#9c179e\"],[0.4444444444444444,\"#bd3786\"],[0.5555555555555556,\"#d8576b\"],[0.6666666666666666,\"#ed7953\"],[0.7777777777777778,\"#fb9f3a\"],[0.8888888888888888,\"#fdca26\"],[1.0,\"#f0f921\"]]}],\"surface\":[{\"type\":\"surface\",\"colorbar\":{\"outlinewidth\":0,\"ticks\":\"\"},\"colorscale\":[[0.0,\"#0d0887\"],[0.1111111111111111,\"#46039f\"],[0.2222222222222222,\"#7201a8\"],[0.3333333333333333,\"#9c179e\"],[0.4444444444444444,\"#bd3786\"],[0.5555555555555556,\"#d8576b\"],[0.6666666666666666,\"#ed7953\"],[0.7777777777777778,\"#fb9f3a\"],[0.8888888888888888,\"#fdca26\"],[1.0,\"#f0f921\"]]}],\"mesh3d\":[{\"type\":\"mesh3d\",\"colorbar\":{\"outlinewidth\":0,\"ticks\":\"\"}}],\"scatter\":[{\"fillpattern\":{\"fillmode\":\"overlay\",\"size\":10,\"solidity\":0.2},\"type\":\"scatter\"}],\"parcoords\":[{\"type\":\"parcoords\",\"line\":{\"colorbar\":{\"outlinewidth\":0,\"ticks\":\"\"}}}],\"scatterpolargl\":[{\"type\":\"scatterpolargl\",\"marker\":{\"colorbar\":{\"outlinewidth\":0,\"ticks\":\"\"}}}],\"bar\":[{\"error_x\":{\"color\":\"#2a3f5f\"},\"error_y\":{\"color\":\"#2a3f5f\"},\"marker\":{\"line\":{\"color\":\"#E5ECF6\",\"width\":0.5},\"pattern\":{\"fillmode\":\"overlay\",\"size\":10,\"solidity\":0.2}},\"type\":\"bar\"}],\"scattergeo\":[{\"type\":\"scattergeo\",\"marker\":{\"colorbar\":{\"outlinewidth\":0,\"ticks\":\"\"}}}],\"scatterpolar\":[{\"type\":\"scatterpolar\",\"marker\":{\"colorbar\":{\"outlinewidth\":0,\"ticks\":\"\"}}}],\"histogram\":[{\"marker\":{\"pattern\":{\"fillmode\":\"overlay\",\"size\":10,\"solidity\":0.2}},\"type\":\"histogram\"}],\"scattergl\":[{\"type\":\"scattergl\",\"marker\":{\"colorbar\":{\"outlinewidth\":0,\"ticks\":\"\"}}}],\"scatter3d\":[{\"type\":\"scatter3d\",\"line\":{\"colorbar\":{\"outlinewidth\":0,\"ticks\":\"\"}},\"marker\":{\"colorbar\":{\"outlinewidth\":0,\"ticks\":\"\"}}}],\"scattermapbox\":[{\"type\":\"scattermapbox\",\"marker\":{\"colorbar\":{\"outlinewidth\":0,\"ticks\":\"\"}}}],\"scatterternary\":[{\"type\":\"scatterternary\",\"marker\":{\"colorbar\":{\"outlinewidth\":0,\"ticks\":\"\"}}}],\"scattercarpet\":[{\"type\":\"scattercarpet\",\"marker\":{\"colorbar\":{\"outlinewidth\":0,\"ticks\":\"\"}}}],\"carpet\":[{\"aaxis\":{\"endlinecolor\":\"#2a3f5f\",\"gridcolor\":\"white\",\"linecolor\":\"white\",\"minorgridcolor\":\"white\",\"startlinecolor\":\"#2a3f5f\"},\"baxis\":{\"endlinecolor\":\"#2a3f5f\",\"gridcolor\":\"white\",\"linecolor\":\"white\",\"minorgridcolor\":\"white\",\"startlinecolor\":\"#2a3f5f\"},\"type\":\"carpet\"}],\"table\":[{\"cells\":{\"fill\":{\"color\":\"#EBF0F8\"},\"line\":{\"color\":\"white\"}},\"header\":{\"fill\":{\"color\":\"#C8D4E3\"},\"line\":{\"color\":\"white\"}},\"type\":\"table\"}],\"barpolar\":[{\"marker\":{\"line\":{\"color\":\"#E5ECF6\",\"width\":0.5},\"pattern\":{\"fillmode\":\"overlay\",\"size\":10,\"solidity\":0.2}},\"type\":\"barpolar\"}],\"pie\":[{\"automargin\":true,\"type\":\"pie\"}]},\"layout\":{\"autotypenumbers\":\"strict\",\"colorway\":[\"#636efa\",\"#EF553B\",\"#00cc96\",\"#ab63fa\",\"#FFA15A\",\"#19d3f3\",\"#FF6692\",\"#B6E880\",\"#FF97FF\",\"#FECB52\"],\"font\":{\"color\":\"#2a3f5f\"},\"hovermode\":\"closest\",\"hoverlabel\":{\"align\":\"left\"},\"paper_bgcolor\":\"white\",\"plot_bgcolor\":\"#E5ECF6\",\"polar\":{\"bgcolor\":\"#E5ECF6\",\"angularaxis\":{\"gridcolor\":\"white\",\"linecolor\":\"white\",\"ticks\":\"\"},\"radialaxis\":{\"gridcolor\":\"white\",\"linecolor\":\"white\",\"ticks\":\"\"}},\"ternary\":{\"bgcolor\":\"#E5ECF6\",\"aaxis\":{\"gridcolor\":\"white\",\"linecolor\":\"white\",\"ticks\":\"\"},\"baxis\":{\"gridcolor\":\"white\",\"linecolor\":\"white\",\"ticks\":\"\"},\"caxis\":{\"gridcolor\":\"white\",\"linecolor\":\"white\",\"ticks\":\"\"}},\"coloraxis\":{\"colorbar\":{\"outlinewidth\":0,\"ticks\":\"\"}},\"colorscale\":{\"sequential\":[[0.0,\"#0d0887\"],[0.1111111111111111,\"#46039f\"],[0.2222222222222222,\"#7201a8\"],[0.3333333333333333,\"#9c179e\"],[0.4444444444444444,\"#bd3786\"],[0.5555555555555556,\"#d8576b\"],[0.6666666666666666,\"#ed7953\"],[0.7777777777777778,\"#fb9f3a\"],[0.8888888888888888,\"#fdca26\"],[1.0,\"#f0f921\"]],\"sequentialminus\":[[0.0,\"#0d0887\"],[0.1111111111111111,\"#46039f\"],[0.2222222222222222,\"#7201a8\"],[0.3333333333333333,\"#9c179e\"],[0.4444444444444444,\"#bd3786\"],[0.5555555555555556,\"#d8576b\"],[0.6666666666666666,\"#ed7953\"],[0.7777777777777778,\"#fb9f3a\"],[0.8888888888888888,\"#fdca26\"],[1.0,\"#f0f921\"]],\"diverging\":[[0,\"#8e0152\"],[0.1,\"#c51b7d\"],[0.2,\"#de77ae\"],[0.3,\"#f1b6da\"],[0.4,\"#fde0ef\"],[0.5,\"#f7f7f7\"],[0.6,\"#e6f5d0\"],[0.7,\"#b8e186\"],[0.8,\"#7fbc41\"],[0.9,\"#4d9221\"],[1,\"#276419\"]]},\"xaxis\":{\"gridcolor\":\"white\",\"linecolor\":\"white\",\"ticks\":\"\",\"title\":{\"standoff\":15},\"zerolinecolor\":\"white\",\"automargin\":true,\"zerolinewidth\":2},\"yaxis\":{\"gridcolor\":\"white\",\"linecolor\":\"white\",\"ticks\":\"\",\"title\":{\"standoff\":15},\"zerolinecolor\":\"white\",\"automargin\":true,\"zerolinewidth\":2},\"scene\":{\"xaxis\":{\"backgroundcolor\":\"#E5ECF6\",\"gridcolor\":\"white\",\"linecolor\":\"white\",\"showbackground\":true,\"ticks\":\"\",\"zerolinecolor\":\"white\",\"gridwidth\":2},\"yaxis\":{\"backgroundcolor\":\"#E5ECF6\",\"gridcolor\":\"white\",\"linecolor\":\"white\",\"showbackground\":true,\"ticks\":\"\",\"zerolinecolor\":\"white\",\"gridwidth\":2},\"zaxis\":{\"backgroundcolor\":\"#E5ECF6\",\"gridcolor\":\"white\",\"linecolor\":\"white\",\"showbackground\":true,\"ticks\":\"\",\"zerolinecolor\":\"white\",\"gridwidth\":2}},\"shapedefaults\":{\"line\":{\"color\":\"#2a3f5f\"}},\"annotationdefaults\":{\"arrowcolor\":\"#2a3f5f\",\"arrowhead\":0,\"arrowwidth\":1},\"geo\":{\"bgcolor\":\"white\",\"landcolor\":\"#E5ECF6\",\"subunitcolor\":\"white\",\"showland\":true,\"showlakes\":true,\"lakecolor\":\"white\"},\"title\":{\"x\":0.05},\"mapbox\":{\"style\":\"light\"}}},\"xaxis\":{\"anchor\":\"y\",\"domain\":[0.0,0.31999999999999995],\"scaleanchor\":\"y\",\"constrain\":\"domain\",\"title\":{\"text\":\"Head\"},\"showline\":true,\"linewidth\":1,\"linecolor\":\"black\",\"mirror\":true},\"yaxis\":{\"anchor\":\"x\",\"domain\":[0.0,1.0],\"autorange\":\"reversed\",\"constrain\":\"domain\",\"title\":{\"text\":\"Layer\"},\"showline\":true,\"linewidth\":1,\"linecolor\":\"black\",\"mirror\":true},\"xaxis2\":{\"anchor\":\"y2\",\"domain\":[0.33999999999999997,0.6599999999999999],\"matches\":\"x\",\"title\":{\"text\":\"Head\"},\"showline\":true,\"linewidth\":1,\"linecolor\":\"black\",\"mirror\":true},\"yaxis2\":{\"anchor\":\"x2\",\"domain\":[0.0,1.0],\"matches\":\"y\",\"showticklabels\":false,\"showline\":true,\"linewidth\":1,\"linecolor\":\"black\",\"mirror\":true},\"xaxis3\":{\"anchor\":\"y3\",\"domain\":[0.6799999999999999,0.9999999999999999],\"matches\":\"x\",\"title\":{\"text\":\"Head\"},\"showline\":true,\"linewidth\":1,\"linecolor\":\"black\",\"mirror\":true},\"yaxis3\":{\"anchor\":\"x3\",\"domain\":[0.0,1.0],\"matches\":\"y\",\"showticklabels\":false,\"showline\":true,\"linewidth\":1,\"linecolor\":\"black\",\"mirror\":true},\"annotations\":[{\"font\":{},\"showarrow\":false,\"text\":\"Ablated Logit Differences: 3.23\",\"x\":0.15999999999999998,\"xanchor\":\"center\",\"xref\":\"paper\",\"y\":1.0,\"yanchor\":\"bottom\",\"yref\":\"paper\"},{\"font\":{},\"showarrow\":false,\"text\":\"Clean Logit Differences: 3.97\",\"x\":0.49999999999999994,\"xanchor\":\"center\",\"xref\":\"paper\",\"y\":1.0,\"yanchor\":\"bottom\",\"yref\":\"paper\"},{\"font\":{},\"showarrow\":false,\"text\":\"Difference between Ablated and Clea: -0.74\",\"x\":0.8399999999999999,\"xanchor\":\"center\",\"xref\":\"paper\",\"y\":1.0,\"yanchor\":\"bottom\",\"yref\":\"paper\"}],\"coloraxis\":{\"colorbar\":{\"title\":{\"text\":\"Logit Contribution\"}},\"colorscale\":[[0.0,\"rgb(103,0,31)\"],[0.1,\"rgb(178,24,43)\"],[0.2,\"rgb(214,96,77)\"],[0.3,\"rgb(244,165,130)\"],[0.4,\"rgb(253,219,199)\"],[0.5,\"rgb(247,247,247)\"],[0.6,\"rgb(209,229,240)\"],[0.7,\"rgb(146,197,222)\"],[0.8,\"rgb(67,147,195)\"],[0.9,\"rgb(33,102,172)\"],[1.0,\"rgb(5,48,97)\"]],\"cmid\":0.0},\"title\":{\"text\":\"Logit Differences When Sample Ablating in Name Mover Heads\"},\"width\":1000,\"margin\":{\"r\":100,\"l\":100}},                        {\"responsive\": true}                    ).then(function(){\n",
              "                            \n",
              "var gd = document.getElementById('03a1d26a-aca4-4767-8cc7-ab07de06384c');\n",
              "var x = new MutationObserver(function (mutations, observer) {{\n",
              "        var display = window.getComputedStyle(gd).display;\n",
              "        if (!display || display === 'none') {{\n",
              "            console.log([gd, 'removed!']);\n",
              "            Plotly.purge(gd);\n",
              "            observer.disconnect();\n",
              "        }}\n",
              "}});\n",
              "\n",
              "// Listen for the removal of the full notebook cells\n",
              "var notebookContainer = gd.closest('#notebook-container');\n",
              "if (notebookContainer) {{\n",
              "    x.observe(notebookContainer, {childList: true});\n",
              "}}\n",
              "\n",
              "// Listen for the clearing of the current output cell\n",
              "var outputEl = gd.closest('.output');\n",
              "if (outputEl) {{\n",
              "    x.observe(outputEl, {childList: true});\n",
              "}}\n",
              "\n",
              "                        })                };                            </script>        </div>\n",
              "</body>\n",
              "</html>"
            ]
          },
          "metadata": {}
        }
      ],
      "source": [
        "heads =  [(9,9)]\n",
        "model.reset_hooks() # callum library buggy\n",
        "def return_item(item):\n",
        "  return item\n",
        "\n",
        "model.reset_hooks()\n",
        "patched_logits = act_patch(\n",
        "    model = model,\n",
        "    orig_input = clean_tokens,\n",
        "    new_cache = corrupted_cache,\n",
        "    patching_nodes = [Node(\"z\", layer = layer, head = head) for layer, head in heads],\n",
        "    patching_metric = return_item,\n",
        "    verbose = False,\n",
        "    apply_metric_to_cache = False\n",
        ")\n",
        "\n",
        "nine_nine_sample_ablating_cache = act_patch(\n",
        "    model = model,\n",
        "    orig_input = clean_tokens,\n",
        "    new_cache = corrupted_cache,\n",
        "    patching_nodes = [Node(\"z\", layer = layer, head = head) for layer, head in heads],\n",
        "    patching_metric = return_item,\n",
        "    verbose = False,\n",
        "    apply_metric_to_cache = True\n",
        ")\n",
        "\n",
        "\n",
        "model.reset_hooks()\n",
        "nine_nine_sample_ablating_results = act_patch(\n",
        "    model = model,\n",
        "    orig_input = clean_tokens,\n",
        "    new_cache = corrupted_cache,\n",
        "    patching_nodes = [Node(\"z\", layer = layer, head = head) for layer, head in heads],\n",
        "    patching_metric = partial(display_corrupted_clean_logits, title = f\"Logit Differences When Sample Ablating in Name Mover Heads\", comparison = True, logits = patched_logits),\n",
        "    verbose = False,\n",
        "    apply_metric_to_cache = True\n",
        ")"
      ]
    },
    {
      "cell_type": "code",
      "execution_count": null,
      "metadata": {
        "id": "f5ezr2iwpz7m"
      },
      "outputs": [],
      "source": [
        "neg_m_heads = [(10,7), (11,10)]\n",
        "name_mover_heads = [(9,9), (9,6), (10,0)]\n",
        "backup_heads = [(9,0), (9,7), (10,1), (10,2), (10,6), (10,10), (11,2), (11,9)]\n",
        "key_backup_heads = [(10,2), (10,6), (10,10), (11,2)]\n",
        "strong_neg_backup_heads = [(11,2), (10,2), (10,0), (11,6)]\n",
        "\n",
        "\n",
        "\n",
        "head_names = [\"Negative\", \"Name Mover\", \"Backup\"]\n",
        "head_list = [neg_m_heads, name_mover_heads, backup_heads]"
      ]
    },
    {
      "cell_type": "code",
      "execution_count": null,
      "metadata": {
        "colab": {
          "base_uri": "https://localhost:8080/"
        },
        "id": "58aBmkFeXk_2",
        "outputId": "509af9aa-7f28-46af-f6d3-31354a34b027"
      },
      "outputs": [
        {
          "output_type": "stream",
          "name": "stdout",
          "text": [
            "IOI metric (IOI dataset): 0.0000\n",
            "IOI metric (ABC dataset): -1.0000\n"
          ]
        }
      ],
      "source": [
        "def noising_ioi_metric(\n",
        "    logits: Float[Tensor, \"batch seq d_vocab\"],\n",
        "    clean_logit_diff: float = clean_average_logit_diff,\n",
        "    corrupted_logit_diff: float = corrupted_average_logit_diff,\n",
        ") -> float:\n",
        "    '''\n",
        "    Given logits, returns how much the performance has been corrupted due to noising.\n",
        "\n",
        "    We calibrate this so that the value is 0 when performance isn't harmed (i.e. same as IOI dataset),\n",
        "    and -1 when performance has been destroyed (i.e. is same as ABC dataset).\n",
        "    '''\n",
        "    #print(logits[-1, -1])\n",
        "    patched_logit_diff = logits_to_ave_logit_diff(logits)\n",
        "    return ((patched_logit_diff - clean_logit_diff) / (clean_logit_diff - corrupted_logit_diff))\n",
        "\n",
        "print(f\"IOI metric (IOI dataset): {noising_ioi_metric(clean_logits):.4f}\")\n",
        "print(f\"IOI metric (ABC dataset): {noising_ioi_metric(corrupted_logits):.4f}\")"
      ]
    },
    {
      "cell_type": "code",
      "execution_count": null,
      "metadata": {
        "colab": {
          "base_uri": "https://localhost:8080/"
        },
        "id": "hgA01LkiXk_3",
        "outputId": "fddb2956-a9d7-414f-dec9-1b353ce7f24b"
      },
      "outputs": [
        {
          "output_type": "stream",
          "name": "stdout",
          "text": [
            "IOI metric (IOI dataset): 1.0000\n",
            "IOI metric (ABC dataset): 0.0000\n"
          ]
        }
      ],
      "source": [
        "def denoising_ioi_metric(\n",
        "    logits: Float[Tensor, \"batch seq d_vocab\"],\n",
        "    clean_logit_diff: float = clean_average_logit_diff,\n",
        "    corrupted_logit_diff: float = corrupted_average_logit_diff,\n",
        ") -> float:\n",
        "    '''\n",
        "    We calibrate this so that the value is 1 when performance got restored (i.e. same as IOI dataset),\n",
        "    and 0 when performance has been destroyed (i.e. is same as ABC dataset).\n",
        "    '''\n",
        "    patched_logit_diff = logits_to_ave_logit_diff(logits)\n",
        "    return ((patched_logit_diff - clean_logit_diff) / (clean_logit_diff - corrupted_logit_diff) + 1)\n",
        "\n",
        "\n",
        "print(f\"IOI metric (IOI dataset): {denoising_ioi_metric(clean_logits):.4f}\")\n",
        "print(f\"IOI metric (ABC dataset): {denoising_ioi_metric(corrupted_logits):.4f}\")"
      ]
    },
    {
      "cell_type": "markdown",
      "metadata": {
        "id": "j-n1WgQ3wI42"
      },
      "source": [
        "## Query Intervention"
      ]
    },
    {
      "cell_type": "code",
      "execution_count": null,
      "metadata": {
        "id": "TbaPrch3wUe_"
      },
      "outputs": [],
      "source": [
        "def store_activation(\n",
        "    activation,\n",
        "    hook: HookPoint,\n",
        "    where_to_store\n",
        "):\n",
        "    \"\"\"\n",
        "    takes a storage container where_to_store, and stores the activation in it at a hook\n",
        "    \"\"\"\"\"\n",
        "    where_to_store[:] = activation"
      ]
    },
    {
      "cell_type": "code",
      "execution_count": null,
      "metadata": {
        "id": "ZEivke9cwRFL"
      },
      "outputs": [],
      "source": [
        "def kq_rewrite_hook(\n",
        "    internal_value: Float[Tensor, \"batch seq head d_head\"],\n",
        "    hook: HookPoint,\n",
        "    head,\n",
        "    unnormalized_resid:  Float[Tensor, \"batch seq d_model\"],\n",
        "    vector,\n",
        "    act_name,\n",
        "    scale = 1,\n",
        "    position = -1,\n",
        "    pre_ln = True\n",
        "):\n",
        "  \"\"\"\n",
        "  replaces keys or queries with a new result which we get from adding a vector to a position at the residual stream\n",
        "  head: tuple for head to rewrite keys for\n",
        "  unnormalized_resid: stored unnormalized residual stream needed to recalculated activations\n",
        "  \"\"\"\n",
        "\n",
        "  ln1 = model.blocks[hook.layer()].ln1\n",
        "  temp_resid = unnormalized_resid.clone()\n",
        "\n",
        "  if pre_ln:\n",
        "    temp_resid[:, position, :] = temp_resid[:, position, :] + scale * vector\n",
        "    normalized_resid = ln1(temp_resid)\n",
        "  else:\n",
        "    temp_resid = ln1(temp_resid)\n",
        "    temp_resid[:, position, :] = temp_resid[:, position, :] + scale * vector\n",
        "    normalized_resid = temp_resid\n",
        "\n",
        "\n",
        "  assert act_name == \"q\" or act_name == \"k\"\n",
        "  if act_name == \"q\":\n",
        "    W_Q, b_Q = model.W_Q[head[0], head[1]], model.b_Q[head[0], head[1]]\n",
        "    internal_value[..., head[1], :] = einops.einsum(normalized_resid, W_Q, \"batch seq d_model, d_model d_head -> batch seq d_head\") + b_Q\n",
        "\n",
        "  elif act_name == \"k\":\n",
        "    W_K, b_K = model.W_K[head[0], head[1]], model.b_K[head[0], head[1]]\n",
        "    internal_value[..., head[1], :] = einops.einsum(normalized_resid, W_K, \"batch seq d_model, d_model d_head -> batch seq d_head\") + b_K\n"
      ]
    },
    {
      "cell_type": "code",
      "execution_count": null,
      "metadata": {
        "id": "GBYtXCAUwT3b"
      },
      "outputs": [],
      "source": [
        "def patch_head_vector(\n",
        "    head_vector: Float[Tensor, \"batch pos head_index d_head\"],\n",
        "    hook: HookPoint,\n",
        "    head_indices: int,\n",
        "    other_cache: ActivationCache\n",
        ") -> Float[Tensor, \"batch pos head_index d_head\"]:\n",
        "    '''\n",
        "    Patches the output of a given head (before it's added to the residual stream) at\n",
        "    every sequence position, using the value from the other cache.\n",
        "    '''\n",
        "    for head_index in head_indices:\n",
        "      head_vector[:, :, head_index] = other_cache[hook.name][:, :, head_index]\n",
        "    return head_vector"
      ]
    },
    {
      "cell_type": "code",
      "execution_count": null,
      "metadata": {
        "id": "f7QGFDu3TgyS"
      },
      "outputs": [],
      "source": [
        "def patch_ln_scale(ln_scale, hook):\n",
        "  #print(torch.equal(ln_scale, clean_cache[\"blocks.\" + str(hook.layer()) + \".ln1.hook_scale\"]))\n",
        "  #print(\"freezing ln1\")\n",
        "  ln_scale = clean_cache[\"blocks.\" + str(hook.layer()) + \".ln1.hook_scale\"]\n",
        "  return ln_scale\n",
        "\n",
        "\n",
        "def patch_ln2_scale(ln_scale, hook):\n",
        "  #print(torch.equal(ln_scale, clean_cache[\"blocks.\" + str(hook.layer()) + \".ln1.hook_scale\"]))\n",
        "  #print(\"froze ln2\")\n",
        "  ln_scale = clean_cache[\"blocks.\" + str(hook.layer()) + \".ln2.hook_scale\"]\n",
        "  return ln_scale"
      ]
    },
    {
      "cell_type": "code",
      "execution_count": null,
      "metadata": {
        "id": "YDlAHwPHwZx8"
      },
      "outputs": [],
      "source": [
        "def causal_write_into_component(act_comp, head, direction, x, pre_ln = True, result_cache_function = None, result_cache_fun_has_head_input = False, freeze_layernorm = False, ablate_heads = []):\n",
        "  '''\n",
        "  writes a vector into the component at a given head\n",
        "  returns new logit differences of run by default, or pass result_cache_funciton to run on cache\n",
        "\n",
        "  head - tuple for head to intervene in act_comp for\n",
        "  direction - vector to add to the act_comp in the head\n",
        "  x - tensor of amount to scale\n",
        "  '''\n",
        "  y = torch.zeros(x.shape)\n",
        "  for i in range(len(x)):\n",
        "    scale = x[i]\n",
        "    model.reset_hooks()\n",
        "    temp = torch.zeros((batch_size, seq_len, model.cfg.d_model)).cuda()\n",
        "    model.add_hook(utils.get_act_name(\"resid_pre\", head[0]), partial(store_activation, where_to_store = temp))\n",
        "    if freeze_layernorm:\n",
        "      model.add_hook(\"blocks.\" + str(head[0]) + \".ln1.hook_scale\", patch_ln_scale)\n",
        "    model.add_hook(utils.get_act_name(act_comp, head[0]), partial(kq_rewrite_hook, head = head, unnormalized_resid = temp, vector = direction, act_name = act_comp, scale = scale, pre_ln = pre_ln))\n",
        "\n",
        "\n",
        "    if len(ablate_heads) != 0:\n",
        "      for j in ablate_heads:\n",
        "        model.add_hook(utils.get_act_name(\"z\", j[0]), partial(patch_head_vector, head_indices = [j[1]], other_cache = corrupted_cache))\n",
        "\n",
        "\n",
        "    hooked_logits, hooked_cache = model.run_with_cache(clean_tokens)\n",
        "    model.reset_hooks()\n",
        "\n",
        "\n",
        "    if result_cache_function != None:\n",
        "      if not result_cache_fun_has_head_input:\n",
        "        y[i] = result_cache_function(hooked_cache)\n",
        "      else:\n",
        "        y[i] = result_cache_function(hooked_cache, head)\n",
        "    else:\n",
        "      # just calculate logit diff\n",
        "      y[i] = logits_to_ave_logit_diff(hooked_logits)\n",
        "\n",
        "  return y\n"
      ]
    },
    {
      "cell_type": "code",
      "execution_count": null,
      "metadata": {
        "id": "U_q21PDbyo2R"
      },
      "outputs": [],
      "source": [
        "def graph_lines(results, heads, x, title = \"Effect of adding/subtracting direction\", xtitle = \"Scaling on direction\", ytitle = \"Logit Diff\"):\n",
        "  fig = px.line(title = title)\n",
        "  for i in range(len(results)):\n",
        "    fig.add_trace(go.Scatter(x = x, y = results[i], name = str(heads[i])))\n",
        "\n",
        "  fig.update_xaxes(title = xtitle)\n",
        "  fig.update_yaxes(title = ytitle)\n",
        "  fig.show()"
      ]
    },
    {
      "cell_type": "code",
      "execution_count": null,
      "metadata": {
        "id": "5YNnE8De8lPY"
      },
      "outputs": [],
      "source": [
        "def get_head_IO_minus_S_attn(cache, head, scores = True):\n",
        "\n",
        "  layer, h_index = head\n",
        "\n",
        "  if scores:\n",
        "    attention_patten = cache[\"attn_scores\", layer]\n",
        "  else:\n",
        "    attention_patten = cache[\"pattern\", layer]\n",
        "  S1 = attention_patten.mean(0)[h_index][-1][2].item()\n",
        "  IO = attention_patten.mean(0)[h_index][-1][4].item()\n",
        "  S2 = attention_patten.mean(0)[h_index][-1][10].item()\n",
        "\n",
        "  return IO - S1 - S2\n",
        "\n",
        "\n",
        "def get_head_IO_minus_just_S1_attn(cache, head, scores = True):\n",
        "\n",
        "    layer, h_index = head\n",
        "\n",
        "    if scores:\n",
        "      attention_patten = cache[\"attn_scores\", layer]\n",
        "    else:\n",
        "      attention_patten = cache[\"pattern\", layer]\n",
        "    S1 = attention_patten.mean(0)[h_index][-1][2].item()\n",
        "    IO = attention_patten.mean(0)[h_index][-1][4].item()\n",
        "    S2 = attention_patten.mean(0)[h_index][-1][10].item()\n",
        "\n",
        "    return IO - S1\n",
        "\n",
        "def get_head_last_token(cache, head):\n",
        "  layer, h_index = head\n",
        "  return cache[\"pattern\", layer][:, h_index, -1, :]\n",
        "\n",
        "\n",
        "def get_head_attn(cache, head, token, scores = True, mean = True):\n",
        "\n",
        "  layer, h_index = head\n",
        "\n",
        "  if scores:\n",
        "    attention_patten = cache[\"attn_scores\", layer]\n",
        "  else:\n",
        "    attention_patten = cache[\"pattern\", layer]\n",
        "\n",
        "\n",
        "  if mean:\n",
        "    if token == \"S1\":\n",
        "      return attention_patten.mean(0)[h_index][-1][2].item()\n",
        "    elif token == \"IO\":\n",
        "      return attention_patten.mean(0)[h_index][-1][4].item()\n",
        "    elif token == \"S2\":\n",
        "      return attention_patten.mean(0)[h_index][-1][10].item()\n",
        "    elif token == \"BOS\":\n",
        "      return attention_patten.mean(0)[h_index][-1][0].item()\n",
        "    else:\n",
        "      print(\"RAHHHHH YOU MISSTYPED SOMETHING\")\n",
        "\n",
        "  else:\n",
        "    if token == \"S1\":\n",
        "      return attention_patten[:, h_index, -1, 2]\n",
        "    elif token == \"IO\":\n",
        "      return attention_patten[:, h_index, -1, 4]\n",
        "    elif token == \"S2\":\n",
        "      return attention_patten[:, h_index, -1, 10]\n",
        "    elif token == \"BOS\":\n",
        "      return attention_patten[:, h_index, -1, 0]\n",
        "    else:\n",
        "      print(\"RAHHHHH YOU MISSTYPED SOMETHING\")\n",
        "\n",
        "\n",
        "def patch_head_vector(\n",
        "    head_vector: Float[Tensor, \"batch pos head_index d_head\"],\n",
        "    hook: HookPoint,\n",
        "    head_indices: int,\n",
        "    other_cache: ActivationCache\n",
        ") -> Float[Tensor, \"batch pos head_index d_head\"]:\n",
        "    '''\n",
        "    Patches the output of a given head (before it's added to the residual stream) at\n",
        "    every sequence position, using the value from the other cache.\n",
        "    '''\n",
        "    for head_index in head_indices:\n",
        "      head_vector[:, :, head_index] = other_cache[hook.name][:, :, head_index]\n",
        "    return head_vector\n",
        "\n",
        "def get_attn_results_into_head_dirs(heads, direction, scale_amounts, ablate_heads = [], freeze_ln = False, only_S1 = False):\n",
        "  io_attn_postln_nmh_results = []\n",
        "  for i in range(len(heads)):\n",
        "    io_attn_postln_nmh_results.append(causal_write_into_component(\"q\", heads[i], direction, scale_amounts,\n",
        "                                                        pre_ln = True, freeze_layernorm = freeze_ln, result_cache_function = partial(get_head_attn, token = \"IO\"), result_cache_fun_has_head_input = True, ablate_heads=ablate_heads))\n",
        "\n",
        "\n",
        "  s1_attn_postln_nmh_results = []\n",
        "  for i in range(len(heads)):\n",
        "    s1_attn_postln_nmh_results.append(causal_write_into_component(\"q\", heads[i], direction, scale_amounts,\n",
        "                                                        pre_ln = True, freeze_layernorm = freeze_ln,result_cache_function = partial(get_head_attn, token = \"S1\"), result_cache_fun_has_head_input = True, ablate_heads=ablate_heads))\n",
        "\n",
        "  s2_attn_postln_nmh_results = []\n",
        "  for i in range(len(heads)):\n",
        "    s2_attn_postln_nmh_results.append(causal_write_into_component(\"q\", heads[i], direction, scale_amounts,\n",
        "                                                        pre_ln = True, freeze_layernorm = freeze_ln,result_cache_function = partial(get_head_attn, token = \"S2\"), result_cache_fun_has_head_input = True, ablate_heads=ablate_heads))\n",
        "\n",
        "  diff_results = []\n",
        "  if not only_S1:\n",
        "    for i in range(len(heads)):\n",
        "      diff_results.append(causal_write_into_component(\"q\", heads[i], direction, scale_amounts,\n",
        "                                                          pre_ln = True, freeze_layernorm = freeze_ln,result_cache_function = get_head_IO_minus_S_attn, result_cache_fun_has_head_input = True, ablate_heads=ablate_heads))\n",
        "  else:\n",
        "    for i in range(len(heads)):\n",
        "      diff_results.append(causal_write_into_component(\"q\", heads[i], direction, scale_amounts,\n",
        "                                                          pre_ln = True, freeze_layernorm = freeze_ln,result_cache_function = get_head_IO_minus_just_S1_attn, result_cache_fun_has_head_input = True, ablate_heads=ablate_heads))\n",
        "\n",
        "\n",
        "  bos_attn_postln_nmh_results = []\n",
        "  for i in range(len(heads)):\n",
        "    bos_attn_postln_nmh_results.append(causal_write_into_component(\"q\", heads[i], direction, scale_amounts,\n",
        "                                                        pre_ln = True, freeze_layernorm = freeze_ln,result_cache_function = partial(get_head_attn, token = \"BOS\"), result_cache_fun_has_head_input = True, ablate_heads=ablate_heads))\n",
        "\n",
        "  return [io_attn_postln_nmh_results, s1_attn_postln_nmh_results, s2_attn_postln_nmh_results, diff_results, bos_attn_postln_nmh_results]"
      ]
    },
    {
      "cell_type": "markdown",
      "metadata": {
        "id": "91PXruwxXk_4"
      },
      "source": [
        "# Unembedding to Not Ratios"
      ]
    },
    {
      "cell_type": "code",
      "execution_count": null,
      "metadata": {
        "id": "vd5TYW7pXk_4"
      },
      "outputs": [],
      "source": [
        "model.set_use_attn_result(True)"
      ]
    },
    {
      "cell_type": "code",
      "execution_count": null,
      "metadata": {
        "id": "kTGb53FUXk_4"
      },
      "outputs": [],
      "source": [
        "def get_projection(from_vector, to_vector):\n",
        "    dot_product = einops.einsum(from_vector, to_vector, \"batch d_model, batch d_model -> batch\")\n",
        "    #print(\"Average Dot Product of Output Across Batch: \" + str(dot_product.mean(0)))\n",
        "    length_of_from_vector = einops.einsum(from_vector, from_vector, \"batch d_model, batch d_model -> batch\")\n",
        "    length_of_vector = einops.einsum(to_vector, to_vector, \"batch d_model, batch d_model -> batch\")\n",
        "\n",
        "\n",
        "\n",
        "\n",
        "    projected_lengths = (dot_product) / (length_of_vector)\n",
        "    #print( einops.repeat(projected_lengths, \"batch -> batch d_model\", d_model = model.cfg.d_model)[0])\n",
        "    projections = to_vector * einops.repeat(projected_lengths, \"batch -> batch d_model\", d_model = to_vector.shape[-1])\n",
        "    return projections"
      ]
    },
    {
      "cell_type": "code",
      "execution_count": null,
      "metadata": {
        "id": "bC-EB2bPXk_4"
      },
      "outputs": [],
      "source": [
        "import torch.nn.functional as F\n",
        "\n",
        "def compute_cosine_similarity(tensor1, tensor2):\n",
        "    # Compute cosine similarity\n",
        "    similarity = F.cosine_similarity(tensor1, tensor2, dim=1)\n",
        "    return similarity"
      ]
    },
    {
      "cell_type": "code",
      "execution_count": null,
      "metadata": {
        "id": "JkXOSntMXk_4"
      },
      "outputs": [],
      "source": [
        "def project_vector_operation(\n",
        "    original_resid_stream: Float[Tensor, \"batch seq head_idx d_model\"],\n",
        "    hook: HookPoint,\n",
        "    vector: Float[Tensor, \"batch d_model\"],\n",
        "    position = -1,\n",
        "    heads = [], # array of ints\n",
        "    scale_proj = 1,\n",
        "    project_only = False\n",
        ") -> Float[Tensor, \"batch n_head pos pos\"]:\n",
        "  '''\n",
        "  Function which gets orthogonal projection of residual stream to a vector, and either subtracts it or keeps only it\n",
        "  '''\n",
        "  print(\"RUH\")\n",
        "  for head in heads:\n",
        "    projections = get_projection(original_resid_stream[:, position, head, :], vector)\n",
        "    if project_only:\n",
        "      original_resid_stream[:, position, head, :] = projections * scale_proj\n",
        "    else:\n",
        "      original_resid_stream[:, position, head, :] = (original_resid_stream[:, position, head, :] - projections) * scale_proj #torch.zeros(original_resid_stream[:, position, head, :].shape)#\n",
        "\n",
        "  return original_resid_stream"
      ]
    },
    {
      "cell_type": "code",
      "execution_count": null,
      "metadata": {
        "id": "HzUToPNqXk_4"
      },
      "outputs": [],
      "source": [
        "# get ldds when intervening and replacing with directions of corrupted runs\n",
        "def project_away_component_and_replace_with_something_else(\n",
        "    original_resid_out: Float[Tensor, \"batch seq head_idx d_model\"],\n",
        "    hook: HookPoint,\n",
        "    project_away_vector: Float[Tensor, \"batch d_model\"],\n",
        "    replace_vector : Float[Tensor, \"batch d_model\"],\n",
        "    position = -1,\n",
        "    heads = [], # array of ints,\n",
        "    project_only = False # whether to, instead of projecting away the vector, keep it!\n",
        ") -> Float[Tensor, \"batch n_head pos pos\"]:\n",
        "    '''\n",
        "    Function which gets removes a specific component (or keeps only it, if project_only = True) of the an output of a head and replaces it with another vector\n",
        "    '''\n",
        "    # right now this projects away the IO direction!\n",
        "    assert project_away_vector.shape == replace_vector.shape and len(project_away_vector.shape) == 2\n",
        "\n",
        "    for head in heads:\n",
        "\n",
        "        head_output = original_resid_out[:, position, head, :]\n",
        "        projections = get_projection(head_output, project_away_vector)\n",
        "\n",
        "        if project_only:\n",
        "            resid_without_projection =  projections\n",
        "        else:\n",
        "            resid_without_projection = (head_output - projections)\n",
        "\n",
        "        updated_resid = resid_without_projection + replace_vector\n",
        "        original_resid_out[:, position, head, :] = updated_resid\n",
        "\n",
        "    return original_resid_out"
      ]
    },
    {
      "cell_type": "code",
      "execution_count": null,
      "metadata": {
        "id": "yXa04Qj4Xk_5"
      },
      "outputs": [],
      "source": [
        "def patch_last_ln(ln_scale, hook):\n",
        "  ln_scale = clean_cache[\"ln_final.hook_scale\"]\n",
        "  return ln_scale"
      ]
    },
    {
      "cell_type": "code",
      "execution_count": null,
      "metadata": {
        "id": "JX3d7weQXk_5"
      },
      "outputs": [],
      "source": [
        "unembed_io_directions = model.tokens_to_residual_directions(answer_tokens[:, 0])\n",
        "unembed_s_directions = model.tokens_to_residual_directions(answer_tokens[:, 1])\n",
        "unembed_diff_directions = unembed_io_directions - unembed_s_directions\n",
        "\n",
        "unembed_N1_directions = model.tokens_to_residual_directions(corrupt_answer_tokens[:, 0])\n",
        "unembed_N2_directions = model.tokens_to_residual_directions(corrupt_answer_tokens[:, 1])\n",
        "unembed_N3_directions = model.tokens_to_residual_directions(corrupt_answer_tokens[:, 2])\n",
        "\n",
        "heads_whose_output_to_replace = [(9,9)] # note that if we do anything abote alyer 9, we may need to add more LNs\n",
        "\n",
        "target_intervene_direction = unembed_io_directions\n",
        "ln_on = True\n",
        "ca, cb, cc = calc_all_logit_diffs(clean_cache)"
      ]
    },
    {
      "cell_type": "code",
      "execution_count": null,
      "metadata": {
        "id": "h63TRE6WXk_5"
      },
      "outputs": [],
      "source": [
        "def project_stuff_on_heads(project_heads, direction, project_only = False, scale_proj = 1, output = \"display_logits\", freeze_ln = False):\n",
        "    model.reset_hooks()\n",
        "\n",
        "    # project_heads is a list of tuples (layer, head). for each layer, write a hook which projects all the heads from the layer\n",
        "    for layer in range(model.cfg.n_layers):\n",
        "        key_heads = [head[1] for head in project_heads if head[0] == layer]\n",
        "        if len(key_heads) > 0:\n",
        "            #print(key_heads)\n",
        "            model.add_hook(utils.get_act_name(\"result\", layer), partial(project_vector_operation, vector = direction, heads = key_heads, scale_proj = scale_proj, project_only = project_only))\n",
        "\n",
        "    if freeze_ln:\n",
        "        for layer in [9,10,11]:\n",
        "            model.add_hook(\"blocks.\" + str(layer) + \".ln1.hook_scale\", patch_ln_scale)\n",
        "            model.add_hook(\"blocks.\" + str(layer) + \".ln2.hook_scale\", patch_ln2_scale)\n",
        "        model.add_hook(\"ln_final.hook_scale\", patch_last_ln)\n",
        "\n",
        "    hooked_logits, hooked_cache = model.run_with_cache(clean_tokens)\n",
        "    model.reset_hooks()\n",
        "    if output == \"display_logits\":\n",
        "        return display_all_logits(hooked_cache, comparison=True, logits = hooked_logits, title = f\"Projecting {('only' if project_only else 'away')} IO direction in heads {project_heads}\")\n",
        "    elif output == \"get_ldd\":\n",
        "        a,_,_ = calc_all_logit_diffs(hooked_cache)\n",
        "\n",
        "        return a - ca"
      ]
    },
    {
      "cell_type": "code",
      "execution_count": null,
      "metadata": {
        "id": "pXXfNFnSXk_5"
      },
      "outputs": [],
      "source": [
        "def compare_intervention_ldds_with_sample_ablated(all_ldds, ldds_names, heads = key_backup_heads, just_logits = False):\n",
        "    results = torch.zeros((len(all_ldds), len(heads)))\n",
        "\n",
        "\n",
        "    if just_logits:\n",
        "        for ldd_index, compare_ldds in enumerate(all_ldds):\n",
        "            for i, head in enumerate(heads):\n",
        "                #print(head)\n",
        "                results[ldd_index, i] = ((compare_ldds[head[0], head[1]]).item()) # / noise_sample_ablating_results[head[0], head[1]]).item())\n",
        "    else:\n",
        "        for ldd_index, compare_ldds in enumerate(all_ldds):\n",
        "            for i, head in enumerate(heads):\n",
        "                #print(head)\n",
        "                results[ldd_index, i] = ((compare_ldds[head[0], head[1]] / noise_sample_ablating_results[head[0], head[1]]).item())\n",
        "\n",
        "    return imshow(\n",
        "        results,\n",
        "        #facet_col = 0,\n",
        "        #labels = [f\"Head {head}\" for head in key_backup_heads],\n",
        "        title=f\"The {'Ratio of Backup (Logit Diff Diff)' if not just_logits else 'Logit Diff Diffs'} of Intervention\" + (\"to Sample Ablation Backup\" if not just_logits else \"\"),\n",
        "        labels={\"x\": \"Receiver Head\", \"y\": \"Intervention\", \"color\": \"Ratio of Logit Diff Diff to Sample Ablation\" if not just_logits else \"Logit Diff Diff\"},\n",
        "        #coloraxis=dict(colorbar_ticksuffix = \"%\"),\n",
        "        # range of y-axis color from 0 to 2\n",
        "        #color_continuous_scale=\"mint\",\n",
        "        color_continuous_midpoint=1 if not just_logits else 0,\n",
        "        # give x-axis labels\n",
        "        x = [str(head) for head in heads],\n",
        "        y = ldds_names,\n",
        "        border=True,\n",
        "        width=900,\n",
        "        height = 50 * len(all_ldds) + 300,\n",
        "        margin={\"r\": 100, \"l\": 100},\n",
        "        # show the values of the results above the heatmap\n",
        "        text_auto = True,\n",
        "        return_fig = True\n",
        "    )"
      ]
    },
    {
      "cell_type": "markdown",
      "metadata": {
        "id": "ksxG6iPSXk_5"
      },
      "source": [
        "get results from replacing all IO directions"
      ]
    },
    {
      "cell_type": "code",
      "execution_count": null,
      "metadata": {
        "id": "NZbOYJb6Xk_5"
      },
      "outputs": [],
      "source": [
        "def run_interventions():\n",
        "    zero_ablate_all_heads_ldds = project_stuff_on_heads(heads_whose_output_to_replace, target_intervene_direction, project_only = True, scale_proj = 0, output = \"get_ldd\", freeze_ln=ln_on)\n",
        "    project_only_io_direction = project_stuff_on_heads(heads_whose_output_to_replace, target_intervene_direction, project_only = True, scale_proj = 1, output = \"get_ldd\", freeze_ln=ln_on)\n",
        "    project_away_io_direction = project_stuff_on_heads(heads_whose_output_to_replace, target_intervene_direction, project_only = False, scale_proj = 1, output = \"get_ldd\", freeze_ln=ln_on)\n",
        "\n",
        "    target_heads = heads_whose_output_to_replace\n",
        "    model.reset_hooks()\n",
        "\n",
        "    if ln_on:\n",
        "        for layer in [9,10,11]:\n",
        "            model.add_hook(\"blocks.\" + str(layer) + \".ln1.hook_scale\", patch_ln_scale)\n",
        "            model.add_hook(\"blocks.\" + str(layer) + \".ln2.hook_scale\", patch_ln2_scale)\n",
        "        model.add_hook(\"ln_final.hook_scale\", patch_last_ln)\n",
        "\n",
        "    for head in target_heads:\n",
        "\n",
        "        # get the output of head on CORRUPTED RUN\n",
        "        W_O_temp = model.W_O[head[0], head[1]]\n",
        "        layer_z = corrupted_cache[utils.get_act_name(\"z\", head[0])]\n",
        "        layer_result = einops.einsum(W_O_temp, layer_z, \"d_head d_model, batch seq h_idx d_head -> batch seq h_idx d_model\")\n",
        "        output_head = layer_result[:, -1, head[1], :]\n",
        "\n",
        "        # get projection of CORRUPTED HEAD OUTPUT onto IO token\n",
        "        corrupted_head_only_IO_output = get_projection(output_head, target_intervene_direction)\n",
        "\n",
        "        # add hook to now replace with this corrupted IO direction\n",
        "        model.add_hook(utils.get_act_name(\"result\", head[0]), partial(project_away_component_and_replace_with_something_else, project_away_vector = target_intervene_direction, heads = [head[1]], replace_vector = corrupted_head_only_IO_output))\n",
        "\n",
        "    replace_with_new_IO_logits, replace_with_new_IO_cache = model.run_with_cache(clean_tokens)\n",
        "\n",
        "    replace_all_IOs_ldds = calc_all_logit_diffs(replace_with_new_IO_cache)[0] - ca\n",
        "    model.reset_hooks()\n",
        "\n",
        "    target_heads = heads_whose_output_to_replace\n",
        "    model.reset_hooks()\n",
        "    if ln_on:\n",
        "        for layer in [9,10,11]:\n",
        "                    model.add_hook(\"blocks.\" + str(layer) + \".ln1.hook_scale\", patch_ln_scale)\n",
        "                    model.add_hook(\"blocks.\" + str(layer) + \".ln2.hook_scale\", patch_ln2_scale)\n",
        "\n",
        "    model.add_hook(\"ln_final.hook_scale\", patch_last_ln)\n",
        "    for head in target_heads:\n",
        "\n",
        "        # get the output of head on CORRUPTED RUN\n",
        "        W_O_temp = model.W_O[head[0], head[1]]\n",
        "        layer_z = corrupted_cache[utils.get_act_name(\"z\", head[0])]\n",
        "        layer_result = einops.einsum(W_O_temp, layer_z, \"d_head d_model, batch seq h_idx d_head -> batch seq h_idx d_model\")\n",
        "        output_head = layer_result[:, -1, head[1], :]\n",
        "\n",
        "\n",
        "        # get projection of CORRUPTED HEAD OUTPUT onto IO perp token\n",
        "        corrupted_head_only_IO_output = get_projection(output_head, target_intervene_direction)\n",
        "        everything_else_but_that = output_head - corrupted_head_only_IO_output\n",
        "\n",
        "        # add hook to now replace with this corrupted IO perp direction\n",
        "        model.add_hook(utils.get_act_name(\"result\", head[0]), partial(project_away_component_and_replace_with_something_else, project_away_vector = target_intervene_direction, heads = [head[1]], replace_vector = everything_else_but_that, project_only = True))\n",
        "\n",
        "    replace_with_new_perp_IO_logits, replace_with_new_perp_IO_cache = model.run_with_cache(clean_tokens)\n",
        "    replace_all_perp_IOs_ldds = calc_all_logit_diffs(replace_with_new_perp_IO_cache)[0] - ca\n",
        "    model.reset_hooks()\n",
        "\n",
        "    return [zero_ablate_all_heads_ldds, project_only_io_direction, replace_all_perp_IOs_ldds, project_away_io_direction, replace_all_IOs_ldds]"
      ]
    },
    {
      "cell_type": "code",
      "execution_count": null,
      "metadata": {
        "colab": {
          "base_uri": "https://localhost:8080/"
        },
        "id": "D8bQ2WiSXk_5",
        "outputId": "f03a12ad-19a6-4c96-98b5-5896dd286cec"
      },
      "outputs": [
        {
          "output_type": "stream",
          "name": "stdout",
          "text": [
            "RUH\n",
            "RUH\n",
            "RUH\n"
          ]
        }
      ],
      "source": [
        "first_intervention = run_interventions()"
      ]
    },
    {
      "cell_type": "markdown",
      "metadata": {
        "id": "eMREeackXk_5"
      },
      "source": [
        "get results from replacing all perp to IO directions"
      ]
    },
    {
      "cell_type": "markdown",
      "metadata": {
        "id": "fWvfDJ9iXk_5"
      },
      "source": [
        "# and now we arrive at my own personal stuff"
      ]
    },
    {
      "cell_type": "code",
      "execution_count": null,
      "metadata": {
        "id": "Y0fdJsNuXk_5"
      },
      "outputs": [],
      "source": [
        "def get_output_of_head(layer, head, cache = clean_cache):\n",
        "    matrix = model.W_O[layer, head]\n",
        "    layer_output = cache[utils.get_act_name(\"z\", layer)]\n",
        "    layer_result = einops.einsum(matrix, layer_output, \"d_head d_model, batch seq h_idx d_head -> batch seq h_idx d_model\")\n",
        "    output_of_head = layer_result[:, -1, head, :]\n",
        "    return output_of_head"
      ]
    },
    {
      "cell_type": "code",
      "execution_count": null,
      "metadata": {
        "id": "Dm3AILgcXk_6"
      },
      "outputs": [],
      "source": [
        "# Find the vector in the direction of both 9.9 and 9.6\n",
        "nine_six_output = get_output_of_head(9, 6)\n",
        "nine_nine_output = get_output_of_head(9, 9)\n",
        "ten_zero_output = get_output_of_head(10, 0)\n",
        "\n",
        "corrupted_nine_nine_output = get_output_of_head(9, 9, corrupted_cache)"
      ]
    },
    {
      "cell_type": "code",
      "execution_count": null,
      "metadata": {
        "id": "Kfr8PVG-Xk_6"
      },
      "outputs": [],
      "source": [
        "def get_cleansed_head_ouptut(layer, head):\n",
        "    output = get_output_of_head(layer, head)\n",
        "    no_IO = output - get_projection(output, unembed_io_directions)\n",
        "    no_IO_S = no_IO - get_projection(no_IO, unembed_s_directions)\n",
        "    return no_IO_S\n",
        "\n",
        "\n",
        "def get_corrupt_cleansed_head_output(layer, head):\n",
        "    output = get_output_of_head(layer, head, corrupted_cache)\n",
        "    no_N1 = output - get_projection(output, unembed_N1_directions)\n",
        "    no_N1_N2 = no_N1 - get_projection(no_N1, unembed_N2_directions)\n",
        "    no_N1_N2_N3 = no_N1_N2 - get_projection(no_N1_N2, unembed_N3_directions)\n",
        "    return no_N1_N2_N3"
      ]
    },
    {
      "cell_type": "code",
      "execution_count": null,
      "metadata": {
        "id": "GHPDcjAmXk_6"
      },
      "outputs": [],
      "source": [
        "cleansed_nine_six = get_cleansed_head_ouptut(9, 6)\n",
        "cleansed_nine_nine = get_cleansed_head_ouptut(9, 9)\n",
        "\n",
        "corrupt_cleansed_nine_nine = get_corrupt_cleansed_head_output(9, 9)\n",
        "\n",
        "nine_six_output_perp_to_IO = nine_six_output - get_projection(nine_six_output, unembed_io_directions)\n",
        "nine_nine_output_perp_to_IO = nine_nine_output - get_projection(nine_nine_output, unembed_io_directions)\n",
        "\n",
        "nine_six_IO = get_projection(nine_six_output, unembed_io_directions)\n",
        "nine_nine_IO = get_projection(nine_nine_output, unembed_io_directions)\n",
        "\n",
        "diff_between_96_99_no_IO = nine_six_output_perp_to_IO - nine_nine_output_perp_to_IO"
      ]
    },
    {
      "cell_type": "code",
      "execution_count": null,
      "metadata": {
        "id": "Au25-AI2Xk_6"
      },
      "outputs": [],
      "source": [
        "\n",
        "def compute_cosine_similarity(tensor1, tensor2, dim = 1):\n",
        "    #print(tensor1.shape)\n",
        "    # Compute cosine similarity\n",
        "    similarity = F.cosine_similarity(tensor1, tensor2, dim=dim)\n",
        "    return similarity"
      ]
    },
    {
      "cell_type": "code",
      "execution_count": null,
      "metadata": {
        "colab": {
          "base_uri": "https://localhost:8080/"
        },
        "id": "Js1hJkCDXk_6",
        "outputId": "6c427f74-6c96-46d1-c57f-ac3016b4eb75"
      },
      "outputs": [
        {
          "output_type": "execute_result",
          "data": {
            "text/plain": [
              "torch.Size([20, 768])"
            ]
          },
          "metadata": {},
          "execution_count": 70
        }
      ],
      "source": [
        "cleansed_nine_nine.shape"
      ]
    },
    {
      "cell_type": "code",
      "execution_count": null,
      "metadata": {
        "colab": {
          "base_uri": "https://localhost:8080/"
        },
        "id": "Lq4xa4f2Xk_6",
        "outputId": "9f56cd18-3b40-402f-9ae3-7e770eaf9a9d"
      },
      "outputs": [
        {
          "output_type": "stream",
          "name": "stdout",
          "text": [
            "tensor(0.0658, device='cuda:0')\n",
            "tensor(-0.0643, device='cuda:0')\n",
            "tensor(1., device='cuda:0')\n",
            "tensor(-0.0655, device='cuda:0')\n",
            "--------- look at 9.9 and its ablated version -------\n",
            "tensor(0.1210, device='cuda:0')\n",
            "tensor(0.1176, device='cuda:0')\n",
            "tensor(0.1681, device='cuda:0')\n",
            "---- and itself? ----\n",
            "tensor(0.2132, device='cuda:0')\n"
          ]
        }
      ],
      "source": [
        "print(compute_cosine_similarity(nine_six_output, nine_nine_output).mean(0))\n",
        "print(compute_cosine_similarity(nine_six_output_perp_to_IO, nine_nine_output_perp_to_IO).mean(0))\n",
        "print(compute_cosine_similarity(nine_six_IO, nine_nine_IO).mean(0))\n",
        "print(compute_cosine_similarity(cleansed_nine_nine, cleansed_nine_six).mean(0))\n",
        "\n",
        "print(\"--------- look at 9.9 and its ablated version -------\")\n",
        "print(compute_cosine_similarity(nine_nine_output, corrupted_nine_nine_output).mean(0))\n",
        "print(compute_cosine_similarity(nine_nine_output_perp_to_IO, corrupted_nine_nine_output).mean(0))\n",
        "print(compute_cosine_similarity(cleansed_nine_nine, corrupt_cleansed_nine_nine).mean(0))\n",
        "\n",
        "print(\"---- and itself? ----\")\n",
        "\n",
        "sum = 0\n",
        "for index in range(cleansed_nine_nine.shape[0] - 2):\n",
        "    sum += compute_cosine_similarity(cleansed_nine_nine[index], cleansed_nine_nine[index + 1], dim = 0)\n",
        "\n",
        "print(sum / (cleansed_nine_nine.shape[0] - 2))"
      ]
    },
    {
      "cell_type": "code",
      "execution_count": null,
      "metadata": {
        "id": "CJAcA4v0Xk_6"
      },
      "outputs": [],
      "source": [
        "overlap = get_projection(nine_six_output, nine_nine_output)\n",
        "\n",
        "# Find overlap with IO\n",
        "overlap_with_io = get_projection(overlap, unembed_io_directions)\n",
        "overlap_with_io_perp = overlap - overlap_with_io"
      ]
    },
    {
      "cell_type": "code",
      "execution_count": null,
      "metadata": {
        "colab": {
          "base_uri": "https://localhost:8080/",
          "height": 560
        },
        "id": "v57gfAx3Xk_6",
        "outputId": "603fbb44-2514-4624-f8a8-b501ee62cc5d"
      },
      "outputs": [
        {
          "output_type": "stream",
          "name": "stdout",
          "text": [
            "RUH\n"
          ]
        },
        {
          "output_type": "display_data",
          "data": {
            "text/html": [
              "<html>\n",
              "<head><meta charset=\"utf-8\" /></head>\n",
              "<body>\n",
              "    <div>            <script src=\"https://cdnjs.cloudflare.com/ajax/libs/mathjax/2.7.5/MathJax.js?config=TeX-AMS-MML_SVG\"></script><script type=\"text/javascript\">if (window.MathJax && window.MathJax.Hub && window.MathJax.Hub.Config) {window.MathJax.Hub.Config({SVG: {font: \"STIX-Web\"}});}</script>                <script type=\"text/javascript\">window.PlotlyConfig = {MathJaxConfig: 'local'};</script>\n",
              "        <script src=\"https://cdn.plot.ly/plotly-2.18.2.min.js\"></script>                <div id=\"c1ea58f6-36f4-4bf5-b33e-6626d5a50928\" class=\"plotly-graph-div\" style=\"height:525px; width:1500px;\"></div>            <script type=\"text/javascript\">                                    window.PLOTLYENV=window.PLOTLYENV || {};                                    if (document.getElementById(\"c1ea58f6-36f4-4bf5-b33e-6626d5a50928\")) {                    Plotly.newPlot(                        \"c1ea58f6-36f4-4bf5-b33e-6626d5a50928\",                        [{\"coloraxis\":\"coloraxis\",\"name\":\"0\",\"z\":[[-0.00614745682105422,-7.330253720283508e-05,0.005045554134994745,0.016563093289732933,-0.012541281059384346,-0.020631667226552963,-0.04110113903880119,0.026432102546095848,0.02253260649740696,-0.0046966285444796085,-0.0293093454092741,-0.010590746998786926],[-0.009919424541294575,0.004864268004894257,-0.0017682433826848865,0.025909220799803734,-0.025239964947104454,-0.03811408579349518,-0.014191999100148678,0.027914388105273247,0.008367607370018959,0.01977572590112686,-0.020211605355143547,0.0027966091874986887],[0.014858859591186047,-0.007676664274185896,0.010372387245297432,-0.009651611559092999,-0.012943500652909279,0.01459168829023838,0.004636653233319521,-0.018565108999609947,-0.0340128019452095,-0.029141927137970924,-0.03839430212974548,0.03358614072203636],[0.01163141056895256,0.004847839009016752,0.007655130233615637,0.0008706530788913369,-0.01088658720254898,-0.008321158587932587,-0.008899301290512085,-0.011701173149049282,0.0004483541415538639,-0.01496034860610962,0.010864217765629292,-0.024497676640748978],[0.003496348625048995,-0.005321025848388672,-0.008478852920234203,1.281350887438748e-05,-0.0010231602936983109,-0.006151837762445211,0.038802992552518845,0.010345309041440487,-0.014639295637607574,-0.013784194365143776,0.002370850881561637,-0.019361358135938644],[0.016511624678969383,0.014736338518559933,-0.028221866115927696,0.0003483617620076984,0.0025520191993564367,0.005421673413366079,-0.009057442657649517,-0.03574070334434509,0.008356853388249874,-0.03743203356862068,-0.009646621532738209,0.02858148328959942],[0.01018595602363348,-0.008550751954317093,0.010095476172864437,0.009066492319107056,-0.04354764148592949,0.0013598949881270528,0.03262625262141228,-0.00465355021879077,-0.011061960831284523,-0.017071273177862167,-0.008444570004940033,-0.008509351871907711],[1.6197562899833429e-06,-0.007594945374876261,-0.0006480237352661788,0.0855976939201355,-0.000435640657087788,-0.03687107190489769,-0.010499350726604462,0.002356782788410783,-0.00858069397509098,0.17094539105892181,-0.010654334910213947,0.0024531965609639883],[0.00834562536329031,-0.003064553253352642,-0.021446136757731438,-0.0625026747584343,0.0004234269435983151,-0.02260454371571541,-0.09928911179304123,0.01307786162942648,-0.020562276244163513,-0.019782984629273415,0.22346697747707367,0.16309213638305664],[0.163555309176445,-0.006417857948690653,0.033978421241045,0.0034947486128658056,-0.0492224283516407,0.026786817237734795,1.6870651245117188,0.08589672297239304,0.2652789056301117,0.13789795339107513,0.009176189079880714,0.023537347093224525],[1.114994764328003,0.21688146889209747,0.4646833539009094,-0.15018777549266815,-0.011017716489732265,0.014156791381537914,0.41486015915870667,-1.3108735084533691,-0.005908611696213484,-0.04834255576133728,0.9791189432144165,-0.0021672642324119806],[0.00827665813267231,-0.15235288441181183,-0.4052424430847168,0.03873065859079361,-0.013037479482591152,0.009526016190648079,-0.003256559371948242,-0.03927766904234886,0.0015928082866594195,-0.045548465102910995,-0.8622276186943054,-0.029384350404143333]],\"type\":\"heatmap\",\"xaxis\":\"x\",\"yaxis\":\"y\",\"hovertemplate\":\"Head: %{x}<br>Layer: %{y}<br>Logit Contribution: %{z}<extra></extra>\"},{\"coloraxis\":\"coloraxis\",\"name\":\"1\",\"z\":[[-0.005179218947887421,-0.014430738054215908,-0.009601796045899391,0.029513617977499962,0.011224791407585144,-0.011716211214661598,0.02197837270796299,0.009176144376397133,0.05026441812515259,-0.035193413496017456,0.046095576137304306,0.027558421716094017],[0.006026511546224356,0.011775711551308632,0.013917854987084866,0.020090267062187195,0.0009886518819257617,-0.06164047122001648,-0.01140070240944624,0.052019525319337845,0.0034331802744418383,0.001493147574365139,0.009240220300853252,0.019721215590834618],[0.03612798452377319,0.022688645869493484,0.013276270590722561,0.021525096148252487,-0.006079015787690878,0.006894025485962629,-0.03383681923151016,-0.024117829278111458,-0.01759645715355873,-0.040610507130622864,-0.017549211159348488,0.006705089006572962],[0.026137858629226685,-0.0015991333639249206,0.02722167782485485,0.01270387601107359,-0.018705306574702263,0.003941113594919443,-0.011919043026864529,-0.021844742819666862,0.0160443726927042,-0.00964328832924366,-0.013047048822045326,0.013061351142823696],[0.007811012212187052,0.014191880822181702,-0.008632175624370575,-0.01703263260424137,-0.03110370598733425,-0.006498602218925953,0.0353492870926857,-0.05304177477955818,-0.006173066329210997,0.016800785437226295,0.006215223576873541,0.010259351693093777],[0.019341139122843742,0.019617872312664986,-0.023625768721103668,0.00812048465013504,0.004947145935148001,0.03103739023208618,0.0033473451621830463,-0.02537843957543373,0.013722245581448078,-0.07166045904159546,-0.03559315204620361,0.031378526240587234],[0.013182058930397034,-0.0006426595500670373,0.004075031727552414,-0.006344981491565704,-0.0068594240583479404,-0.010809019207954407,0.009249401278793812,-0.023694228380918503,-0.03339385241270065,0.02919629216194153,0.004441110882908106,0.03215999901294708],[0.024432895705103874,0.021659908816218376,0.005065904464572668,0.02173410728573799,-0.010597087442874908,0.008403394371271133,-0.12403076142072678,0.022964760661125183,0.03262807056307793,-0.0685686394572258,0.008377902209758759,0.10926546156406403],[0.021891482174396515,0.002314769895747304,0.14040829241275787,0.38494807481765747,0.026113227009773254,0.009077735245227814,0.467001348733902,0.030755817890167236,0.041559409350156784,-0.015042622573673725,-0.43180352449417114,0.297026127576828],[0.19568270444869995,0.005329243838787079,0.1475755125284195,0.0875328928232193,0.16160808503627777,-0.1478521078824997,2.0784690380096436,0.07467224448919296,0.7154825329780579,0.17773108184337616,-0.011841966770589352,0.15147025883197784],[1.8422664403915405,0.3915937840938568,1.237062692642212,0.14032082259655,0.024646392092108727,-0.0011401784140616655,0.6806109547615051,-1.7474313974380493,0.013097116723656654,0.12761491537094116,1.3305991888046265,0.04095159098505974],[0.1115654930472374,0.1928754597902298,0.5420698523521423,0.369017094373703,-0.08798187971115112,0.04873321205377579,0.3706420958042145,0.17764431238174438,0.20170743763446808,0.1516539305448532,-1.3515589237213135,0.21064019203186035]],\"type\":\"heatmap\",\"xaxis\":\"x2\",\"yaxis\":\"y2\",\"hovertemplate\":\"Head: %{x}<br>Layer: %{y}<br>Logit Contribution: %{z}<extra></extra>\"},{\"coloraxis\":\"coloraxis\",\"name\":\"2\",\"z\":[[0.0009682480595074594,-0.014357471838593483,-0.014647354371845722,0.012950524687767029,0.02376607432961464,0.008915473707020283,0.06307952851057053,-0.01725595071911812,0.02773180976510048,-0.030496779829263687,0.07540490478277206,0.0381491482257843],[0.015945924445986748,0.006911441218107939,0.015686113387346268,-0.005818966776132584,0.02622862160205841,-0.023526394739747047,0.0027912957593798637,0.024105140939354897,-0.004934429656714201,-0.018282566219568253,0.02945181541144848,0.01692458800971508],[0.021269144490361214,0.03036530874669552,0.002903890563175082,0.031176680698990822,0.006864496972411871,-0.007697672583162785,-0.038473449647426605,-0.005552722606807947,0.016416344791650772,-0.011468596756458282,0.020845113322138786,-0.02688104473054409],[0.014506454579532146,-0.0064469873905181885,0.019566558301448822,0.011833230964839458,-0.007818733341991901,0.01226227730512619,-0.0030197487212717533,-0.010143566876649857,0.015596014447510242,0.005317042116075754,-0.023911256343126297,0.03755902871489525],[0.0043146745301783085,0.01951291412115097,-0.00015331768372561783,-0.01704546809196472,-0.030080532655119896,-0.00034676940413191915,-0.0034536831080913544,-0.06338706612586975,0.008466227911412716,0.030584974214434624,0.0038443764206022024,0.029620707035064697],[0.00282951514236629,0.004881531000137329,0.0045960950665175915,0.007772131357342005,0.00239512394182384,0.025615721940994263,0.012404794804751873,0.010362274013459682,0.005365398712456226,-0.03422844037413597,-0.025946518406271935,0.0027970464434474707],[0.002996087772771716,0.007908090017735958,-0.0060204388573765755,-0.01541147381067276,0.03668824955821037,-0.01216892059892416,-0.023376867175102234,-0.019040672108530998,-0.022331884130835533,0.046267569065093994,0.012885681353509426,0.04066934809088707],[0.024431273341178894,0.029254857450723648,0.005713930819183588,-0.06386356055736542,-0.0101614473387599,0.04527447745203972,-0.11353140324354172,0.020607978105545044,0.04120875149965286,-0.2395140379667282,0.01903223805129528,0.10681227594614029],[0.013545848429203033,0.005379321053624153,0.16185443103313446,0.4474508464336395,0.02568979561328888,0.03168227896094322,0.5662904977798462,0.017677953466773033,0.0621216781437397,0.004740364383906126,-0.6552705764770508,0.1339339315891266],[0.03212737664580345,0.011747096665203571,0.1135970950126648,0.08403821289539337,0.21083055436611176,-0.17463888227939606,0.3914038836956024,-0.01122443750500679,0.4502035081386566,0.03983309492468834,-0.02101816050708294,0.12793290615081787],[0.7272716760635376,0.17471225559711456,0.7723793983459473,0.29050859808921814,0.03566407784819603,-0.015296979807317257,0.26575085520744324,-0.4365580081939697,0.01900572143495083,0.17595745623111725,0.35148024559020996,0.043118856847286224],[0.10328886657953262,0.3452283442020416,0.9473123550415039,0.3302864730358124,-0.0749443992972374,0.03920719027519226,0.3738986551761627,0.21692195534706116,0.2001146823167801,0.19720230996608734,-0.4893311560153961,0.24002456665039062]],\"type\":\"heatmap\",\"xaxis\":\"x3\",\"yaxis\":\"y3\",\"hovertemplate\":\"Head: %{x}<br>Layer: %{y}<br>Logit Contribution: %{z}<extra></extra>\"},{\"coloraxis\":\"coloraxis\",\"name\":\"3\",\"z\":[[0.0,0.0,0.0,0.0,0.0,0.0,0.0,0.0,0.0,0.0,0.0,0.0],[1.4901161193847656e-08,2.3283064365386963e-09,5.9371814131736755e-09,-7.450580596923828e-09,3.725290298461914e-09,7.450580596923828e-09,-4.6566128730773926e-09,0.0,-1.862645149230957e-09,1.862645149230957e-09,0.0,-1.3504177331924438e-08],[-1.3969838619232178e-08,6.51925802230835e-09,1.955777406692505e-08,2.514570951461792e-08,4.7497451305389404e-08,1.210719347000122e-08,2.7939677238464355e-09,0.0,1.4901161193847656e-08,-9.313225746154785e-09,1.1175870895385742e-08,-2.9802322387695312e-08],[5.587935447692871e-09,-1.862645149230957e-08,2.7939677238464355e-09,-2.0547304302453995e-08,-6.51925802230835e-09,0.0,7.450580596923828e-09,1.4901161193847656e-08,4.9709342420101166e-08,-2.3283064365386963e-08,5.4016709327697754e-08,9.313225746154785e-09],[-4.6100467443466187e-08,-1.1175870895385742e-08,-9.313225746154785e-10,2.0861989469267428e-08,9.66247171163559e-09,3.725290298461914e-08,3.3527612686157227e-08,-3.725290298461914e-09,6.51925802230835e-09,1.210719347000122e-08,2.561137080192566e-09,2.2351741790771484e-08],[-7.450580596923828e-09,-9.313225746154785e-10,-1.4901161193847656e-08,1.3969838619232178e-08,2.468004822731018e-08,2.7939677238464355e-09,3.725290298461914e-09,-3.725290298461914e-09,1.7695128917694092e-08,2.9802322387695312e-08,-3.259629011154175e-08,1.862645149230957e-08],[3.4458935260772705e-08,3.725290298461914e-09,0.0,-1.862645149230957e-09,-1.1175870895385742e-08,-1.0128132998943329e-08,4.470348358154297e-08,3.4924596548080444e-08,-1.210719347000122e-08,-7.450580596923828e-09,-9.313225746154785e-10,1.0244548320770264e-08],[-5.0663857109611854e-08,-2.7939677238464355e-09,1.100124791264534e-08,1.2665987014770508e-07,-8.934875950217247e-09,0.0,7.450580596923828e-09,6.51925802230835e-09,-9.313225746154785e-10,5.960464477539063e-08,7.450580596923828e-09,-1.257285475730896e-08],[-8.381903171539307e-09,1.0710209608078003e-08,-4.842877388000488e-08,-4.470348358154297e-08,1.1932570487260818e-08,5.587935447692871e-09,-2.9802322387695312e-08,-2.3283064365386963e-08,1.1175870895385742e-08,-3.91155481338501e-08,1.9371509552001953e-07,-1.7881393432617188e-07],[-5.960464477539063e-08,-9.778887033462524e-09,1.564621925354004e-07,5.960464477539063e-08,-7.450580596923828e-09,4.284083843231201e-08,3.5762786865234375e-07,9.685754776000977e-08,3.8743019104003906e-07,-3.3209116458892822,0.0,4.0978193283081055e-08],[0.36223095655441284,0.07272514700889587,0.3060024380683899,0.002865120768547058,-0.003406692761927843,-0.001059538684785366,0.1408931314945221,0.9862546920776367,-0.0035790454130619764,0.0019224584102630615,0.4038047790527344,0.004134351387619972],[0.002667294815182686,0.005504682660102844,0.008910328149795532,0.03524656966328621,0.002747190184891224,0.001886339858174324,-0.027331829071044922,-0.0011852458119392395,-0.004770317580550909,-0.006562545895576477,0.15753692388534546,0.011313600465655327]],\"type\":\"heatmap\",\"xaxis\":\"x4\",\"yaxis\":\"y4\",\"hovertemplate\":\"Head: %{x}<br>Layer: %{y}<br>Logit Contribution: %{z}<extra></extra>\"},{\"coloraxis\":\"coloraxis\",\"name\":\"4\",\"z\":[[0.0,0.0,0.0,0.0,0.0,0.0,0.0,0.0,0.0,0.0,0.0,0.0],[1.1175870895385742e-08,-1.5832483768463135e-08,4.6566128730773926e-09,9.313225746154785e-09,-4.423782229423523e-09,-1.862645149230957e-08,-3.725290298461914e-09,7.450580596923828e-09,1.30385160446167e-08,-1.1408701539039612e-08,2.9802322387695312e-08,3.725290298461914e-09],[-2.60770320892334e-08,1.30385160446167e-08,6.51925802230835e-09,1.1175870895385742e-08,2.60770320892334e-08,9.313225746154785e-10,-2.9802322387695312e-08,3.725290298461914e-09,1.6763806343078613e-08,-1.4901161193847656e-08,-1.1175870895385742e-08,1.0244548320770264e-08],[-9.313225746154785e-09,-1.525040715932846e-08,-7.450580596923828e-09,-3.91155481338501e-08,0.0,-7.450580596923828e-09,1.0244548320770264e-08,0.0,3.5390257835388184e-08,1.210719347000122e-08,4.0046870708465576e-08,7.450580596923828e-09],[-2.468004822731018e-08,5.587935447692871e-09,7.450580596923828e-09,-2.0489096641540527e-08,9.313225746154785e-09,1.6298145055770874e-08,-1.862645149230957e-08,2.9802322387695312e-08,-6.984919309616089e-09,2.9802322387695312e-08,1.3969838619232178e-09,1.210719347000122e-08],[-1.862645149230957e-09,7.450580596923828e-09,-9.313225746154785e-09,-9.313225746154785e-09,3.632158041000366e-08,9.313225746154785e-09,-1.4435499906539917e-08,9.313225746154785e-09,2.514570951461792e-08,2.2351741790771484e-08,-6.332993507385254e-08,-1.1175870895385742e-08],[1.7695128917694092e-08,-5.995389074087143e-09,8.847564458847046e-09,-6.51925802230835e-09,6.05359673500061e-09,3.632158041000366e-08,2.7939677238464355e-08,1.6763806343078613e-08,2.9802322387695312e-08,1.1175870895385742e-08,-9.778887033462524e-09,-5.21540641784668e-08],[-7.450580596923828e-09,5.587935447692871e-09,-3.259629011154175e-09,-1.862645149230957e-09,-4.6566128730773926e-09,2.3283064365386963e-08,-9.685754776000977e-08,1.1175870895385742e-08,-8.568167686462402e-08,-1.1920928955078125e-07,-4.6566128730773926e-09,-7.450580596923828e-09],[5.4016709327697754e-08,1.5599653124809265e-08,2.9802322387695312e-08,8.940696716308594e-08,-7.450580596923828e-08,-7.543712854385376e-08,0.0,-1.4901161193847656e-08,-1.4901161193847656e-08,-4.470348358154297e-08,-5.960464477539063e-08,-2.9802322387695312e-08],[-4.470348358154297e-08,-6.984919309616089e-09,2.086162567138672e-07,8.195638656616211e-08,-8.940696716308594e-08,5.960464477539063e-08,4.76837158203125e-07,-2.9802322387695312e-08,2.980232238769531e-07,-3.5450541973114014,-3.725290298461914e-09,1.043081283569336e-07],[0.4662351608276367,0.12328124046325684,0.5135481357574463,0.04695145785808563,5.2576884627342224e-05,-0.0001225293381139636,0.20648175477981567,0.7868558168411255,0.00047000497579574585,-0.014265656471252441,0.42807936668395996,0.012676404789090157],[-0.018586240708827972,0.03336571156978607,0.10766002535820007,0.04440736770629883,-0.002817876636981964,-0.000763971358537674,0.03668949007987976,0.008626982569694519,-0.014288738369941711,0.0381157249212265,0.07386112213134766,0.024460062384605408]],\"type\":\"heatmap\",\"xaxis\":\"x5\",\"yaxis\":\"y5\",\"hovertemplate\":\"Head: %{x}<br>Layer: %{y}<br>Logit Contribution: %{z}<extra></extra>\"},{\"coloraxis\":\"coloraxis\",\"name\":\"5\",\"z\":[[0.0,0.0,0.0,0.0,0.0,0.0,0.0,0.0,0.0,0.0,0.0,0.0],[5.587935447692871e-09,-6.51925802230835e-09,1.6763806343078613e-08,8.847564458847046e-09,1.862645149230957e-09,-5.587935447692871e-09,-3.026798367500305e-09,1.862645149230957e-09,5.587935447692871e-09,-1.30385160446167e-08,-1.862645149230957e-09,1.862645149230957e-08],[3.725290298461914e-09,1.4901161193847656e-08,-4.889443516731262e-09,-1.4901161193847656e-08,-2.0954757928848267e-08,-1.210719347000122e-08,-3.725290298461914e-09,1.7695128917694092e-08,-4.0978193283081055e-08,-9.313225746154785e-09,0.0,9.313225746154785e-09],[-1.862645149230957e-09,1.3969838619232178e-09,9.313225746154785e-09,-9.313225746154785e-09,1.862645149230957e-09,-4.6566128730773926e-09,-1.0477378964424133e-08,-1.5832483768463135e-08,-4.6566128730773926e-09,1.1175870895385742e-08,-5.587935447692871e-09,3.725290298461914e-09],[1.955777406692505e-08,2.421438694000244e-08,1.2281816452741623e-08,-6.332993507385254e-08,7.450580596923828e-09,-2.6833731681108475e-08,-2.60770320892334e-08,5.21540641784668e-08,-1.1175870895385742e-08,2.421438694000244e-08,-9.313225746154785e-10,-1.30385160446167e-08],[0.0,1.3969838619232178e-08,-1.862645149230957e-09,-3.259629011154175e-08,7.450580596923828e-09,1.1175870895385742e-08,-1.3969838619232178e-08,6.51925802230835e-09,2.0954757928848267e-08,1.862645149230957e-08,-5.587935447692871e-09,-2.60770320892334e-08],[-2.0954757928848267e-08,-4.6566128730773926e-09,1.3969838619232178e-09,7.450580596923828e-09,3.3527612686157227e-08,3.818422555923462e-08,-2.9802322387695312e-08,1.1175870895385742e-08,4.470348358154297e-08,2.2351741790771484e-08,-1.0244548320770264e-08,-6.705522537231445e-08],[3.166496753692627e-08,2.0489096641540527e-08,-1.210719347000122e-08,-1.2665987014770508e-07,0.0,2.9802322387695312e-08,-9.685754776000977e-08,1.862645149230957e-09,-8.940696716308594e-08,-2.086162567138672e-07,-7.450580596923828e-09,-1.4901161193847656e-08],[5.960464477539063e-08,-1.862645149230957e-09,4.470348358154297e-08,2.086162567138672e-07,-5.4016709327697754e-08,-5.960464477539063e-08,5.960464477539063e-08,7.450580596923828e-09,0.0,-3.725290298461914e-09,-2.980232238769531e-07,7.450580596923828e-08],[-1.4901161193847656e-08,-5.587935447692871e-09,8.195638656616211e-08,5.21540641784668e-08,-5.960464477539063e-08,1.4901161193847656e-08,-2.9802322387695312e-08,-7.636845111846924e-08,-2.086162567138672e-07,-0.2241418957710266,0.0,7.450580596923828e-08],[0.10400408506393433,0.050556063652038574,0.20754563808441162,0.044086307287216187,0.0034592635929584503,0.0009369952604174614,0.06558868288993835,-0.19939884543418884,0.004049035720527172,-0.016188129782676697,0.024274736642837524,0.008542053401470184],[-0.021253511309623718,0.027860939502716064,0.09874963760375977,0.009160846471786499,-0.005565069615840912,-0.002650313079357147,0.0640212893486023,0.009812220931053162,-0.009518340229988098,0.04467819631099701,-0.0836755633354187,0.013146534562110901]],\"type\":\"heatmap\",\"xaxis\":\"x6\",\"yaxis\":\"y6\",\"hovertemplate\":\"Head: %{x}<br>Layer: %{y}<br>Logit Contribution: %{z}<extra></extra>\"}],                        {\"template\":{\"data\":{\"histogram2dcontour\":[{\"type\":\"histogram2dcontour\",\"colorbar\":{\"outlinewidth\":0,\"ticks\":\"\"},\"colorscale\":[[0.0,\"#0d0887\"],[0.1111111111111111,\"#46039f\"],[0.2222222222222222,\"#7201a8\"],[0.3333333333333333,\"#9c179e\"],[0.4444444444444444,\"#bd3786\"],[0.5555555555555556,\"#d8576b\"],[0.6666666666666666,\"#ed7953\"],[0.7777777777777778,\"#fb9f3a\"],[0.8888888888888888,\"#fdca26\"],[1.0,\"#f0f921\"]]}],\"choropleth\":[{\"type\":\"choropleth\",\"colorbar\":{\"outlinewidth\":0,\"ticks\":\"\"}}],\"histogram2d\":[{\"type\":\"histogram2d\",\"colorbar\":{\"outlinewidth\":0,\"ticks\":\"\"},\"colorscale\":[[0.0,\"#0d0887\"],[0.1111111111111111,\"#46039f\"],[0.2222222222222222,\"#7201a8\"],[0.3333333333333333,\"#9c179e\"],[0.4444444444444444,\"#bd3786\"],[0.5555555555555556,\"#d8576b\"],[0.6666666666666666,\"#ed7953\"],[0.7777777777777778,\"#fb9f3a\"],[0.8888888888888888,\"#fdca26\"],[1.0,\"#f0f921\"]]}],\"heatmap\":[{\"type\":\"heatmap\",\"colorbar\":{\"outlinewidth\":0,\"ticks\":\"\"},\"colorscale\":[[0.0,\"#0d0887\"],[0.1111111111111111,\"#46039f\"],[0.2222222222222222,\"#7201a8\"],[0.3333333333333333,\"#9c179e\"],[0.4444444444444444,\"#bd3786\"],[0.5555555555555556,\"#d8576b\"],[0.6666666666666666,\"#ed7953\"],[0.7777777777777778,\"#fb9f3a\"],[0.8888888888888888,\"#fdca26\"],[1.0,\"#f0f921\"]]}],\"heatmapgl\":[{\"type\":\"heatmapgl\",\"colorbar\":{\"outlinewidth\":0,\"ticks\":\"\"},\"colorscale\":[[0.0,\"#0d0887\"],[0.1111111111111111,\"#46039f\"],[0.2222222222222222,\"#7201a8\"],[0.3333333333333333,\"#9c179e\"],[0.4444444444444444,\"#bd3786\"],[0.5555555555555556,\"#d8576b\"],[0.6666666666666666,\"#ed7953\"],[0.7777777777777778,\"#fb9f3a\"],[0.8888888888888888,\"#fdca26\"],[1.0,\"#f0f921\"]]}],\"contourcarpet\":[{\"type\":\"contourcarpet\",\"colorbar\":{\"outlinewidth\":0,\"ticks\":\"\"}}],\"contour\":[{\"type\":\"contour\",\"colorbar\":{\"outlinewidth\":0,\"ticks\":\"\"},\"colorscale\":[[0.0,\"#0d0887\"],[0.1111111111111111,\"#46039f\"],[0.2222222222222222,\"#7201a8\"],[0.3333333333333333,\"#9c179e\"],[0.4444444444444444,\"#bd3786\"],[0.5555555555555556,\"#d8576b\"],[0.6666666666666666,\"#ed7953\"],[0.7777777777777778,\"#fb9f3a\"],[0.8888888888888888,\"#fdca26\"],[1.0,\"#f0f921\"]]}],\"surface\":[{\"type\":\"surface\",\"colorbar\":{\"outlinewidth\":0,\"ticks\":\"\"},\"colorscale\":[[0.0,\"#0d0887\"],[0.1111111111111111,\"#46039f\"],[0.2222222222222222,\"#7201a8\"],[0.3333333333333333,\"#9c179e\"],[0.4444444444444444,\"#bd3786\"],[0.5555555555555556,\"#d8576b\"],[0.6666666666666666,\"#ed7953\"],[0.7777777777777778,\"#fb9f3a\"],[0.8888888888888888,\"#fdca26\"],[1.0,\"#f0f921\"]]}],\"mesh3d\":[{\"type\":\"mesh3d\",\"colorbar\":{\"outlinewidth\":0,\"ticks\":\"\"}}],\"scatter\":[{\"fillpattern\":{\"fillmode\":\"overlay\",\"size\":10,\"solidity\":0.2},\"type\":\"scatter\"}],\"parcoords\":[{\"type\":\"parcoords\",\"line\":{\"colorbar\":{\"outlinewidth\":0,\"ticks\":\"\"}}}],\"scatterpolargl\":[{\"type\":\"scatterpolargl\",\"marker\":{\"colorbar\":{\"outlinewidth\":0,\"ticks\":\"\"}}}],\"bar\":[{\"error_x\":{\"color\":\"#2a3f5f\"},\"error_y\":{\"color\":\"#2a3f5f\"},\"marker\":{\"line\":{\"color\":\"#E5ECF6\",\"width\":0.5},\"pattern\":{\"fillmode\":\"overlay\",\"size\":10,\"solidity\":0.2}},\"type\":\"bar\"}],\"scattergeo\":[{\"type\":\"scattergeo\",\"marker\":{\"colorbar\":{\"outlinewidth\":0,\"ticks\":\"\"}}}],\"scatterpolar\":[{\"type\":\"scatterpolar\",\"marker\":{\"colorbar\":{\"outlinewidth\":0,\"ticks\":\"\"}}}],\"histogram\":[{\"marker\":{\"pattern\":{\"fillmode\":\"overlay\",\"size\":10,\"solidity\":0.2}},\"type\":\"histogram\"}],\"scattergl\":[{\"type\":\"scattergl\",\"marker\":{\"colorbar\":{\"outlinewidth\":0,\"ticks\":\"\"}}}],\"scatter3d\":[{\"type\":\"scatter3d\",\"line\":{\"colorbar\":{\"outlinewidth\":0,\"ticks\":\"\"}},\"marker\":{\"colorbar\":{\"outlinewidth\":0,\"ticks\":\"\"}}}],\"scattermapbox\":[{\"type\":\"scattermapbox\",\"marker\":{\"colorbar\":{\"outlinewidth\":0,\"ticks\":\"\"}}}],\"scatterternary\":[{\"type\":\"scatterternary\",\"marker\":{\"colorbar\":{\"outlinewidth\":0,\"ticks\":\"\"}}}],\"scattercarpet\":[{\"type\":\"scattercarpet\",\"marker\":{\"colorbar\":{\"outlinewidth\":0,\"ticks\":\"\"}}}],\"carpet\":[{\"aaxis\":{\"endlinecolor\":\"#2a3f5f\",\"gridcolor\":\"white\",\"linecolor\":\"white\",\"minorgridcolor\":\"white\",\"startlinecolor\":\"#2a3f5f\"},\"baxis\":{\"endlinecolor\":\"#2a3f5f\",\"gridcolor\":\"white\",\"linecolor\":\"white\",\"minorgridcolor\":\"white\",\"startlinecolor\":\"#2a3f5f\"},\"type\":\"carpet\"}],\"table\":[{\"cells\":{\"fill\":{\"color\":\"#EBF0F8\"},\"line\":{\"color\":\"white\"}},\"header\":{\"fill\":{\"color\":\"#C8D4E3\"},\"line\":{\"color\":\"white\"}},\"type\":\"table\"}],\"barpolar\":[{\"marker\":{\"line\":{\"color\":\"#E5ECF6\",\"width\":0.5},\"pattern\":{\"fillmode\":\"overlay\",\"size\":10,\"solidity\":0.2}},\"type\":\"barpolar\"}],\"pie\":[{\"automargin\":true,\"type\":\"pie\"}]},\"layout\":{\"autotypenumbers\":\"strict\",\"colorway\":[\"#636efa\",\"#EF553B\",\"#00cc96\",\"#ab63fa\",\"#FFA15A\",\"#19d3f3\",\"#FF6692\",\"#B6E880\",\"#FF97FF\",\"#FECB52\"],\"font\":{\"color\":\"#2a3f5f\"},\"hovermode\":\"closest\",\"hoverlabel\":{\"align\":\"left\"},\"paper_bgcolor\":\"white\",\"plot_bgcolor\":\"#E5ECF6\",\"polar\":{\"bgcolor\":\"#E5ECF6\",\"angularaxis\":{\"gridcolor\":\"white\",\"linecolor\":\"white\",\"ticks\":\"\"},\"radialaxis\":{\"gridcolor\":\"white\",\"linecolor\":\"white\",\"ticks\":\"\"}},\"ternary\":{\"bgcolor\":\"#E5ECF6\",\"aaxis\":{\"gridcolor\":\"white\",\"linecolor\":\"white\",\"ticks\":\"\"},\"baxis\":{\"gridcolor\":\"white\",\"linecolor\":\"white\",\"ticks\":\"\"},\"caxis\":{\"gridcolor\":\"white\",\"linecolor\":\"white\",\"ticks\":\"\"}},\"coloraxis\":{\"colorbar\":{\"outlinewidth\":0,\"ticks\":\"\"}},\"colorscale\":{\"sequential\":[[0.0,\"#0d0887\"],[0.1111111111111111,\"#46039f\"],[0.2222222222222222,\"#7201a8\"],[0.3333333333333333,\"#9c179e\"],[0.4444444444444444,\"#bd3786\"],[0.5555555555555556,\"#d8576b\"],[0.6666666666666666,\"#ed7953\"],[0.7777777777777778,\"#fb9f3a\"],[0.8888888888888888,\"#fdca26\"],[1.0,\"#f0f921\"]],\"sequentialminus\":[[0.0,\"#0d0887\"],[0.1111111111111111,\"#46039f\"],[0.2222222222222222,\"#7201a8\"],[0.3333333333333333,\"#9c179e\"],[0.4444444444444444,\"#bd3786\"],[0.5555555555555556,\"#d8576b\"],[0.6666666666666666,\"#ed7953\"],[0.7777777777777778,\"#fb9f3a\"],[0.8888888888888888,\"#fdca26\"],[1.0,\"#f0f921\"]],\"diverging\":[[0,\"#8e0152\"],[0.1,\"#c51b7d\"],[0.2,\"#de77ae\"],[0.3,\"#f1b6da\"],[0.4,\"#fde0ef\"],[0.5,\"#f7f7f7\"],[0.6,\"#e6f5d0\"],[0.7,\"#b8e186\"],[0.8,\"#7fbc41\"],[0.9,\"#4d9221\"],[1,\"#276419\"]]},\"xaxis\":{\"gridcolor\":\"white\",\"linecolor\":\"white\",\"ticks\":\"\",\"title\":{\"standoff\":15},\"zerolinecolor\":\"white\",\"automargin\":true,\"zerolinewidth\":2},\"yaxis\":{\"gridcolor\":\"white\",\"linecolor\":\"white\",\"ticks\":\"\",\"title\":{\"standoff\":15},\"zerolinecolor\":\"white\",\"automargin\":true,\"zerolinewidth\":2},\"scene\":{\"xaxis\":{\"backgroundcolor\":\"#E5ECF6\",\"gridcolor\":\"white\",\"linecolor\":\"white\",\"showbackground\":true,\"ticks\":\"\",\"zerolinecolor\":\"white\",\"gridwidth\":2},\"yaxis\":{\"backgroundcolor\":\"#E5ECF6\",\"gridcolor\":\"white\",\"linecolor\":\"white\",\"showbackground\":true,\"ticks\":\"\",\"zerolinecolor\":\"white\",\"gridwidth\":2},\"zaxis\":{\"backgroundcolor\":\"#E5ECF6\",\"gridcolor\":\"white\",\"linecolor\":\"white\",\"showbackground\":true,\"ticks\":\"\",\"zerolinecolor\":\"white\",\"gridwidth\":2}},\"shapedefaults\":{\"line\":{\"color\":\"#2a3f5f\"}},\"annotationdefaults\":{\"arrowcolor\":\"#2a3f5f\",\"arrowhead\":0,\"arrowwidth\":1},\"geo\":{\"bgcolor\":\"white\",\"landcolor\":\"#E5ECF6\",\"subunitcolor\":\"white\",\"showland\":true,\"showlakes\":true,\"lakecolor\":\"white\"},\"title\":{\"x\":0.05},\"mapbox\":{\"style\":\"light\"}}},\"xaxis\":{\"anchor\":\"y\",\"domain\":[0.0,0.15],\"scaleanchor\":\"y\",\"constrain\":\"domain\",\"title\":{\"text\":\"Head\"},\"showline\":true,\"linewidth\":1,\"linecolor\":\"black\",\"mirror\":true},\"yaxis\":{\"anchor\":\"x\",\"domain\":[0.0,1.0],\"autorange\":\"reversed\",\"constrain\":\"domain\",\"title\":{\"text\":\"Layer\"},\"showline\":true,\"linewidth\":1,\"linecolor\":\"black\",\"mirror\":true},\"xaxis2\":{\"anchor\":\"y2\",\"domain\":[0.16999999999999998,0.31999999999999995],\"matches\":\"x\",\"title\":{\"text\":\"Head\"},\"showline\":true,\"linewidth\":1,\"linecolor\":\"black\",\"mirror\":true},\"yaxis2\":{\"anchor\":\"x2\",\"domain\":[0.0,1.0],\"matches\":\"y\",\"showticklabels\":false,\"showline\":true,\"linewidth\":1,\"linecolor\":\"black\",\"mirror\":true},\"xaxis3\":{\"anchor\":\"y3\",\"domain\":[0.33999999999999997,0.49],\"matches\":\"x\",\"title\":{\"text\":\"Head\"},\"showline\":true,\"linewidth\":1,\"linecolor\":\"black\",\"mirror\":true},\"yaxis3\":{\"anchor\":\"x3\",\"domain\":[0.0,1.0],\"matches\":\"y\",\"showticklabels\":false,\"showline\":true,\"linewidth\":1,\"linecolor\":\"black\",\"mirror\":true},\"xaxis4\":{\"anchor\":\"y4\",\"domain\":[0.51,0.66],\"matches\":\"x\",\"title\":{\"text\":\"Head\"},\"showline\":true,\"linewidth\":1,\"linecolor\":\"black\",\"mirror\":true},\"yaxis4\":{\"anchor\":\"x4\",\"domain\":[0.0,1.0],\"matches\":\"y\",\"showticklabels\":false,\"showline\":true,\"linewidth\":1,\"linecolor\":\"black\",\"mirror\":true},\"xaxis5\":{\"anchor\":\"y5\",\"domain\":[0.6799999999999999,0.83],\"matches\":\"x\",\"title\":{\"text\":\"Head\"},\"showline\":true,\"linewidth\":1,\"linecolor\":\"black\",\"mirror\":true},\"yaxis5\":{\"anchor\":\"x5\",\"domain\":[0.0,1.0],\"matches\":\"y\",\"showticklabels\":false,\"showline\":true,\"linewidth\":1,\"linecolor\":\"black\",\"mirror\":true},\"xaxis6\":{\"anchor\":\"y6\",\"domain\":[0.85,1.0],\"matches\":\"x\",\"title\":{\"text\":\"Head\"},\"showline\":true,\"linewidth\":1,\"linecolor\":\"black\",\"mirror\":true},\"yaxis6\":{\"anchor\":\"x6\",\"domain\":[0.0,1.0],\"matches\":\"y\",\"showticklabels\":false,\"showline\":true,\"linewidth\":1,\"linecolor\":\"black\",\"mirror\":true},\"annotations\":[{\"font\":{},\"showarrow\":false,\"text\":\"Logit Diff - 2.89\",\"x\":0.075,\"xanchor\":\"center\",\"xref\":\"paper\",\"y\":1.0,\"yanchor\":\"bottom\",\"yref\":\"paper\"},{\"font\":{},\"showarrow\":false,\"text\":\"Correct Direction\",\"x\":0.24499999999999997,\"xanchor\":\"center\",\"xref\":\"paper\",\"y\":1.0,\"yanchor\":\"bottom\",\"yref\":\"paper\"},{\"font\":{},\"showarrow\":false,\"text\":\"Incorrect Direction\",\"x\":0.415,\"xanchor\":\"center\",\"xref\":\"paper\",\"y\":1.0,\"yanchor\":\"bottom\",\"yref\":\"paper\"},{\"font\":{},\"showarrow\":false,\"text\":\"Logit Diff Diff\",\"x\":0.585,\"xanchor\":\"center\",\"xref\":\"paper\",\"y\":1.0,\"yanchor\":\"bottom\",\"yref\":\"paper\"},{\"font\":{},\"showarrow\":false,\"text\":\"Correction Direction Diff\",\"x\":0.7549999999999999,\"xanchor\":\"center\",\"xref\":\"paper\",\"y\":1.0,\"yanchor\":\"bottom\",\"yref\":\"paper\"},{\"font\":{},\"showarrow\":false,\"text\":\"Incorrect Direction Diff\",\"x\":0.925,\"xanchor\":\"center\",\"xref\":\"paper\",\"y\":1.0,\"yanchor\":\"bottom\",\"yref\":\"paper\"}],\"coloraxis\":{\"colorbar\":{\"title\":{\"text\":\"Logit Contribution\"}},\"colorscale\":[[0.0,\"rgb(103,0,31)\"],[0.1,\"rgb(178,24,43)\"],[0.2,\"rgb(214,96,77)\"],[0.3,\"rgb(244,165,130)\"],[0.4,\"rgb(253,219,199)\"],[0.5,\"rgb(247,247,247)\"],[0.6,\"rgb(209,229,240)\"],[0.7,\"rgb(146,197,222)\"],[0.8,\"rgb(67,147,195)\"],[0.9,\"rgb(33,102,172)\"],[1.0,\"rgb(5,48,97)\"]],\"cmid\":0.0},\"title\":{\"text\":\"Projecting only IO direction in heads [(9, 9)]\"},\"width\":1500,\"margin\":{\"r\":100,\"l\":100}},                        {\"responsive\": true}                    ).then(function(){\n",
              "                            \n",
              "var gd = document.getElementById('c1ea58f6-36f4-4bf5-b33e-6626d5a50928');\n",
              "var x = new MutationObserver(function (mutations, observer) {{\n",
              "        var display = window.getComputedStyle(gd).display;\n",
              "        if (!display || display === 'none') {{\n",
              "            console.log([gd, 'removed!']);\n",
              "            Plotly.purge(gd);\n",
              "            observer.disconnect();\n",
              "        }}\n",
              "}});\n",
              "\n",
              "// Listen for the removal of the full notebook cells\n",
              "var notebookContainer = gd.closest('#notebook-container');\n",
              "if (notebookContainer) {{\n",
              "    x.observe(notebookContainer, {childList: true});\n",
              "}}\n",
              "\n",
              "// Listen for the clearing of the current output cell\n",
              "var outputEl = gd.closest('.output');\n",
              "if (outputEl) {{\n",
              "    x.observe(outputEl, {childList: true});\n",
              "}}\n",
              "\n",
              "                        })                };                            </script>        </div>\n",
              "</body>\n",
              "</html>"
            ]
          },
          "metadata": {}
        }
      ],
      "source": [
        "project_stuff_on_heads(heads_whose_output_to_replace, nine_six_output, project_only = True, scale_proj = 1, output = \"display_logits\", freeze_ln=True)"
      ]
    },
    {
      "cell_type": "code",
      "execution_count": null,
      "metadata": {
        "colab": {
          "base_uri": "https://localhost:8080/"
        },
        "id": "trt7pABBXk_7",
        "outputId": "9616de79-e6ab-4afa-aac8-ff43dc3ac34a"
      },
      "outputs": [
        {
          "output_type": "stream",
          "name": "stdout",
          "text": [
            "RUH\n",
            "RUH\n",
            "RUH\n",
            "RUH\n"
          ]
        }
      ],
      "source": [
        "just_9_6 = project_stuff_on_heads( heads_whose_output_to_replace, nine_six_output, project_only = True, scale_proj = 1, output = \"get_ldd\", freeze_ln=True)\n",
        "just_9_9 = project_stuff_on_heads(heads_whose_output_to_replace, nine_nine_output, project_only = True, scale_proj = 1, output = \"get_ldd\", freeze_ln=True)\n",
        "away_just_9_6 = project_stuff_on_heads(heads_whose_output_to_replace, nine_six_output, project_only = False, scale_proj = 1, output = \"get_ldd\", freeze_ln=True)\n",
        "away_just_9_9 = project_stuff_on_heads(heads_whose_output_to_replace, nine_nine_output, project_only = False, scale_proj = 1, output = \"get_ldd\", freeze_ln=True)\n",
        "\n",
        "\n",
        "\n",
        "#overlap_9_6_9_9 = project_stuff_on_heads(heads_whose_output_to_replace, overlap, project_only = True, scale_proj = 1, output = \"get_ldd\", freeze_ln=True)\n",
        "#away_overlap_9_6_9_9 = project_stuff_on_heads(heads_whose_output_to_replace, overlap, project_only = False, scale_proj = 1, output = \"get_ldd\", freeze_ln=True)\n",
        "\n",
        "#ldd_from_96_99_feature_and_parra_to_io = project_stuff_on_heads(heads_whose_output_to_replace, overlap_with_io, project_only = True, scale_proj = 1, output = \"get_ldd\", freeze_ln=True)\n",
        "#ldd_from_away_96_99_feature_and_parra_to_io = project_stuff_on_heads(heads_whose_output_to_replace, overlap_with_io, project_only = False, scale_proj = 1, output = \"get_ldd\", freeze_ln=True)"
      ]
    },
    {
      "cell_type": "code",
      "execution_count": null,
      "metadata": {
        "id": "8Hff3sccXk_7"
      },
      "outputs": [],
      "source": [
        "activate_interventions = {\n",
        "    \"Clean Run\" : ca - ca,\n",
        "    #\"Sample Ablation of NMHs\" : noise_sample_ablating_results,\n",
        "    \"Sample Ablation of (9.9)\" : nine_nine_sample_ablating_results,\n",
        "    \"Zero Ablation of NMHs\" : first_intervention[0],\n",
        "    #\"Project Only IO Direction (Zero ⊥ IO direction)\" : first_intervention[1],\n",
        "    #\"Replace ⊥ IO directions with Corrupted ⊥ IO directions\" : first_intervention[2],\n",
        "    #\"Project Away IO Direction (Zero IO direction)\" : first_intervention[3],\n",
        "    #\"Replace IO directions with Corrupted IO directions\" : first_intervention[4],\n",
        "\n",
        "\n",
        "    \"Project Only (9.6)\" : just_9_6,\n",
        "    \"Project Away (9.6)\" : away_just_9_6,\n",
        "    \"Project Only (9.9)\" : just_9_9,\n",
        "    \"Project Away (9.9)\" : away_just_9_9,\n",
        "    #\"Projecting Only (9.6 ∥ 9.9) ∥ IO\" : ldd_from_96_99_feature_and_parra_to_io,\n",
        "    #\"Projecting Away (9.6 ∥ 9.9) ∥ IO\" : ldd_from_away_96_99_feature_and_parra_to_io,\n",
        "    #\"Project Only (9.6 ∥ 9.9)\" : overlap_9_6_9_9,\n",
        "    #\"Project Away (9.6 ∥ 9.9)\" : away_overlap_9_6_9_9,\n",
        "\n",
        "}"
      ]
    },
    {
      "cell_type": "code",
      "execution_count": null,
      "metadata": {
        "colab": {
          "base_uri": "https://localhost:8080/",
          "height": 667
        },
        "id": "O7q7AtpoXk_7",
        "outputId": "8641e90c-eec3-4305-f6b2-9c135672a66f"
      },
      "outputs": [
        {
          "output_type": "display_data",
          "data": {
            "text/html": [
              "<html>\n",
              "<head><meta charset=\"utf-8\" /></head>\n",
              "<body>\n",
              "    <div>            <script src=\"https://cdnjs.cloudflare.com/ajax/libs/mathjax/2.7.5/MathJax.js?config=TeX-AMS-MML_SVG\"></script><script type=\"text/javascript\">if (window.MathJax && window.MathJax.Hub && window.MathJax.Hub.Config) {window.MathJax.Hub.Config({SVG: {font: \"STIX-Web\"}});}</script>                <script type=\"text/javascript\">window.PlotlyConfig = {MathJaxConfig: 'local'};</script>\n",
              "        <script src=\"https://cdn.plot.ly/plotly-2.18.2.min.js\"></script>                <div id=\"d393772a-ad97-4870-bad8-eb029340a53c\" class=\"plotly-graph-div\" style=\"height:650px; width:900px;\"></div>            <script type=\"text/javascript\">                                    window.PLOTLYENV=window.PLOTLYENV || {};                                    if (document.getElementById(\"d393772a-ad97-4870-bad8-eb029340a53c\")) {                    Plotly.newPlot(                        \"d393772a-ad97-4870-bad8-eb029340a53c\",                        [{\"coloraxis\":\"coloraxis\",\"name\":\"0\",\"texttemplate\":\"%{z}\",\"x\":[\"(10, 2)\",\"(10, 6)\",\"(10, 10)\",\"(11, 2)\"],\"y\":[\"Clean Run\",\"Sample Ablation of (9.9)\",\"Zero Ablation of NMHs\",\"Project Only (9.6)\",\"Project Away (9.6)\",\"Project Only (9.9)\",\"Project Away (9.9)\"],\"z\":[[0.0,0.0,0.0,0.0],[0.3227123022079468,0.23647856712341309,0.5367883443832397,-0.06635260581970215],[0.32822513580322266,0.16314074397087097,0.43675780296325684,0.0011674761772155762],[0.3060024380683899,0.1408931314945221,0.4038047790527344,0.008910328149795532],[0.012271806597709656,0.01739048957824707,0.028921306133270264,-0.003947585821151733],[-4.470348358154297e-08,4.76837158203125e-07,9.5367431640625e-07,-6.556510925292969e-07],[0.3282250761985779,0.16314086318016052,0.4367576837539673,0.0011672377586364746]],\"type\":\"heatmap\",\"xaxis\":\"x\",\"yaxis\":\"y\",\"hovertemplate\":\"Receiver Head: %{x}<br>Intervention: %{y}<br>Logit Diff Diff: %{z}<extra></extra>\"}],                        {\"template\":{\"data\":{\"histogram2dcontour\":[{\"type\":\"histogram2dcontour\",\"colorbar\":{\"outlinewidth\":0,\"ticks\":\"\"},\"colorscale\":[[0.0,\"#0d0887\"],[0.1111111111111111,\"#46039f\"],[0.2222222222222222,\"#7201a8\"],[0.3333333333333333,\"#9c179e\"],[0.4444444444444444,\"#bd3786\"],[0.5555555555555556,\"#d8576b\"],[0.6666666666666666,\"#ed7953\"],[0.7777777777777778,\"#fb9f3a\"],[0.8888888888888888,\"#fdca26\"],[1.0,\"#f0f921\"]]}],\"choropleth\":[{\"type\":\"choropleth\",\"colorbar\":{\"outlinewidth\":0,\"ticks\":\"\"}}],\"histogram2d\":[{\"type\":\"histogram2d\",\"colorbar\":{\"outlinewidth\":0,\"ticks\":\"\"},\"colorscale\":[[0.0,\"#0d0887\"],[0.1111111111111111,\"#46039f\"],[0.2222222222222222,\"#7201a8\"],[0.3333333333333333,\"#9c179e\"],[0.4444444444444444,\"#bd3786\"],[0.5555555555555556,\"#d8576b\"],[0.6666666666666666,\"#ed7953\"],[0.7777777777777778,\"#fb9f3a\"],[0.8888888888888888,\"#fdca26\"],[1.0,\"#f0f921\"]]}],\"heatmap\":[{\"type\":\"heatmap\",\"colorbar\":{\"outlinewidth\":0,\"ticks\":\"\"},\"colorscale\":[[0.0,\"#0d0887\"],[0.1111111111111111,\"#46039f\"],[0.2222222222222222,\"#7201a8\"],[0.3333333333333333,\"#9c179e\"],[0.4444444444444444,\"#bd3786\"],[0.5555555555555556,\"#d8576b\"],[0.6666666666666666,\"#ed7953\"],[0.7777777777777778,\"#fb9f3a\"],[0.8888888888888888,\"#fdca26\"],[1.0,\"#f0f921\"]]}],\"heatmapgl\":[{\"type\":\"heatmapgl\",\"colorbar\":{\"outlinewidth\":0,\"ticks\":\"\"},\"colorscale\":[[0.0,\"#0d0887\"],[0.1111111111111111,\"#46039f\"],[0.2222222222222222,\"#7201a8\"],[0.3333333333333333,\"#9c179e\"],[0.4444444444444444,\"#bd3786\"],[0.5555555555555556,\"#d8576b\"],[0.6666666666666666,\"#ed7953\"],[0.7777777777777778,\"#fb9f3a\"],[0.8888888888888888,\"#fdca26\"],[1.0,\"#f0f921\"]]}],\"contourcarpet\":[{\"type\":\"contourcarpet\",\"colorbar\":{\"outlinewidth\":0,\"ticks\":\"\"}}],\"contour\":[{\"type\":\"contour\",\"colorbar\":{\"outlinewidth\":0,\"ticks\":\"\"},\"colorscale\":[[0.0,\"#0d0887\"],[0.1111111111111111,\"#46039f\"],[0.2222222222222222,\"#7201a8\"],[0.3333333333333333,\"#9c179e\"],[0.4444444444444444,\"#bd3786\"],[0.5555555555555556,\"#d8576b\"],[0.6666666666666666,\"#ed7953\"],[0.7777777777777778,\"#fb9f3a\"],[0.8888888888888888,\"#fdca26\"],[1.0,\"#f0f921\"]]}],\"surface\":[{\"type\":\"surface\",\"colorbar\":{\"outlinewidth\":0,\"ticks\":\"\"},\"colorscale\":[[0.0,\"#0d0887\"],[0.1111111111111111,\"#46039f\"],[0.2222222222222222,\"#7201a8\"],[0.3333333333333333,\"#9c179e\"],[0.4444444444444444,\"#bd3786\"],[0.5555555555555556,\"#d8576b\"],[0.6666666666666666,\"#ed7953\"],[0.7777777777777778,\"#fb9f3a\"],[0.8888888888888888,\"#fdca26\"],[1.0,\"#f0f921\"]]}],\"mesh3d\":[{\"type\":\"mesh3d\",\"colorbar\":{\"outlinewidth\":0,\"ticks\":\"\"}}],\"scatter\":[{\"fillpattern\":{\"fillmode\":\"overlay\",\"size\":10,\"solidity\":0.2},\"type\":\"scatter\"}],\"parcoords\":[{\"type\":\"parcoords\",\"line\":{\"colorbar\":{\"outlinewidth\":0,\"ticks\":\"\"}}}],\"scatterpolargl\":[{\"type\":\"scatterpolargl\",\"marker\":{\"colorbar\":{\"outlinewidth\":0,\"ticks\":\"\"}}}],\"bar\":[{\"error_x\":{\"color\":\"#2a3f5f\"},\"error_y\":{\"color\":\"#2a3f5f\"},\"marker\":{\"line\":{\"color\":\"#E5ECF6\",\"width\":0.5},\"pattern\":{\"fillmode\":\"overlay\",\"size\":10,\"solidity\":0.2}},\"type\":\"bar\"}],\"scattergeo\":[{\"type\":\"scattergeo\",\"marker\":{\"colorbar\":{\"outlinewidth\":0,\"ticks\":\"\"}}}],\"scatterpolar\":[{\"type\":\"scatterpolar\",\"marker\":{\"colorbar\":{\"outlinewidth\":0,\"ticks\":\"\"}}}],\"histogram\":[{\"marker\":{\"pattern\":{\"fillmode\":\"overlay\",\"size\":10,\"solidity\":0.2}},\"type\":\"histogram\"}],\"scattergl\":[{\"type\":\"scattergl\",\"marker\":{\"colorbar\":{\"outlinewidth\":0,\"ticks\":\"\"}}}],\"scatter3d\":[{\"type\":\"scatter3d\",\"line\":{\"colorbar\":{\"outlinewidth\":0,\"ticks\":\"\"}},\"marker\":{\"colorbar\":{\"outlinewidth\":0,\"ticks\":\"\"}}}],\"scattermapbox\":[{\"type\":\"scattermapbox\",\"marker\":{\"colorbar\":{\"outlinewidth\":0,\"ticks\":\"\"}}}],\"scatterternary\":[{\"type\":\"scatterternary\",\"marker\":{\"colorbar\":{\"outlinewidth\":0,\"ticks\":\"\"}}}],\"scattercarpet\":[{\"type\":\"scattercarpet\",\"marker\":{\"colorbar\":{\"outlinewidth\":0,\"ticks\":\"\"}}}],\"carpet\":[{\"aaxis\":{\"endlinecolor\":\"#2a3f5f\",\"gridcolor\":\"white\",\"linecolor\":\"white\",\"minorgridcolor\":\"white\",\"startlinecolor\":\"#2a3f5f\"},\"baxis\":{\"endlinecolor\":\"#2a3f5f\",\"gridcolor\":\"white\",\"linecolor\":\"white\",\"minorgridcolor\":\"white\",\"startlinecolor\":\"#2a3f5f\"},\"type\":\"carpet\"}],\"table\":[{\"cells\":{\"fill\":{\"color\":\"#EBF0F8\"},\"line\":{\"color\":\"white\"}},\"header\":{\"fill\":{\"color\":\"#C8D4E3\"},\"line\":{\"color\":\"white\"}},\"type\":\"table\"}],\"barpolar\":[{\"marker\":{\"line\":{\"color\":\"#E5ECF6\",\"width\":0.5},\"pattern\":{\"fillmode\":\"overlay\",\"size\":10,\"solidity\":0.2}},\"type\":\"barpolar\"}],\"pie\":[{\"automargin\":true,\"type\":\"pie\"}]},\"layout\":{\"autotypenumbers\":\"strict\",\"colorway\":[\"#636efa\",\"#EF553B\",\"#00cc96\",\"#ab63fa\",\"#FFA15A\",\"#19d3f3\",\"#FF6692\",\"#B6E880\",\"#FF97FF\",\"#FECB52\"],\"font\":{\"color\":\"#2a3f5f\"},\"hovermode\":\"closest\",\"hoverlabel\":{\"align\":\"left\"},\"paper_bgcolor\":\"white\",\"plot_bgcolor\":\"#E5ECF6\",\"polar\":{\"bgcolor\":\"#E5ECF6\",\"angularaxis\":{\"gridcolor\":\"white\",\"linecolor\":\"white\",\"ticks\":\"\"},\"radialaxis\":{\"gridcolor\":\"white\",\"linecolor\":\"white\",\"ticks\":\"\"}},\"ternary\":{\"bgcolor\":\"#E5ECF6\",\"aaxis\":{\"gridcolor\":\"white\",\"linecolor\":\"white\",\"ticks\":\"\"},\"baxis\":{\"gridcolor\":\"white\",\"linecolor\":\"white\",\"ticks\":\"\"},\"caxis\":{\"gridcolor\":\"white\",\"linecolor\":\"white\",\"ticks\":\"\"}},\"coloraxis\":{\"colorbar\":{\"outlinewidth\":0,\"ticks\":\"\"}},\"colorscale\":{\"sequential\":[[0.0,\"#0d0887\"],[0.1111111111111111,\"#46039f\"],[0.2222222222222222,\"#7201a8\"],[0.3333333333333333,\"#9c179e\"],[0.4444444444444444,\"#bd3786\"],[0.5555555555555556,\"#d8576b\"],[0.6666666666666666,\"#ed7953\"],[0.7777777777777778,\"#fb9f3a\"],[0.8888888888888888,\"#fdca26\"],[1.0,\"#f0f921\"]],\"sequentialminus\":[[0.0,\"#0d0887\"],[0.1111111111111111,\"#46039f\"],[0.2222222222222222,\"#7201a8\"],[0.3333333333333333,\"#9c179e\"],[0.4444444444444444,\"#bd3786\"],[0.5555555555555556,\"#d8576b\"],[0.6666666666666666,\"#ed7953\"],[0.7777777777777778,\"#fb9f3a\"],[0.8888888888888888,\"#fdca26\"],[1.0,\"#f0f921\"]],\"diverging\":[[0,\"#8e0152\"],[0.1,\"#c51b7d\"],[0.2,\"#de77ae\"],[0.3,\"#f1b6da\"],[0.4,\"#fde0ef\"],[0.5,\"#f7f7f7\"],[0.6,\"#e6f5d0\"],[0.7,\"#b8e186\"],[0.8,\"#7fbc41\"],[0.9,\"#4d9221\"],[1,\"#276419\"]]},\"xaxis\":{\"gridcolor\":\"white\",\"linecolor\":\"white\",\"ticks\":\"\",\"title\":{\"standoff\":15},\"zerolinecolor\":\"white\",\"automargin\":true,\"zerolinewidth\":2},\"yaxis\":{\"gridcolor\":\"white\",\"linecolor\":\"white\",\"ticks\":\"\",\"title\":{\"standoff\":15},\"zerolinecolor\":\"white\",\"automargin\":true,\"zerolinewidth\":2},\"scene\":{\"xaxis\":{\"backgroundcolor\":\"#E5ECF6\",\"gridcolor\":\"white\",\"linecolor\":\"white\",\"showbackground\":true,\"ticks\":\"\",\"zerolinecolor\":\"white\",\"gridwidth\":2},\"yaxis\":{\"backgroundcolor\":\"#E5ECF6\",\"gridcolor\":\"white\",\"linecolor\":\"white\",\"showbackground\":true,\"ticks\":\"\",\"zerolinecolor\":\"white\",\"gridwidth\":2},\"zaxis\":{\"backgroundcolor\":\"#E5ECF6\",\"gridcolor\":\"white\",\"linecolor\":\"white\",\"showbackground\":true,\"ticks\":\"\",\"zerolinecolor\":\"white\",\"gridwidth\":2}},\"shapedefaults\":{\"line\":{\"color\":\"#2a3f5f\"}},\"annotationdefaults\":{\"arrowcolor\":\"#2a3f5f\",\"arrowhead\":0,\"arrowwidth\":1},\"geo\":{\"bgcolor\":\"white\",\"landcolor\":\"#E5ECF6\",\"subunitcolor\":\"white\",\"showland\":true,\"showlakes\":true,\"lakecolor\":\"white\"},\"title\":{\"x\":0.05},\"mapbox\":{\"style\":\"light\"}}},\"xaxis\":{\"anchor\":\"y\",\"domain\":[0.0,1.0],\"scaleanchor\":\"y\",\"constrain\":\"domain\",\"title\":{\"text\":\"Receiver Head\"},\"showline\":true,\"linewidth\":1,\"linecolor\":\"black\",\"mirror\":true},\"yaxis\":{\"anchor\":\"x\",\"domain\":[0.0,1.0],\"autorange\":\"reversed\",\"constrain\":\"domain\",\"title\":{\"text\":\"Intervention\"},\"showline\":true,\"linewidth\":1,\"linecolor\":\"black\",\"mirror\":true},\"coloraxis\":{\"colorbar\":{\"title\":{\"text\":\"Logit Diff Diff\"}},\"colorscale\":[[0.0,\"rgb(103,0,31)\"],[0.1,\"rgb(178,24,43)\"],[0.2,\"rgb(214,96,77)\"],[0.3,\"rgb(244,165,130)\"],[0.4,\"rgb(253,219,199)\"],[0.5,\"rgb(247,247,247)\"],[0.6,\"rgb(209,229,240)\"],[0.7,\"rgb(146,197,222)\"],[0.8,\"rgb(67,147,195)\"],[0.9,\"rgb(33,102,172)\"],[1.0,\"rgb(5,48,97)\"]],\"cmid\":0},\"title\":{\"text\":\"The Logit Diff Diffs of Intervention\"},\"height\":650,\"width\":900,\"margin\":{\"r\":100,\"l\":100}},                        {\"responsive\": true}                    ).then(function(){\n",
              "                            \n",
              "var gd = document.getElementById('d393772a-ad97-4870-bad8-eb029340a53c');\n",
              "var x = new MutationObserver(function (mutations, observer) {{\n",
              "        var display = window.getComputedStyle(gd).display;\n",
              "        if (!display || display === 'none') {{\n",
              "            console.log([gd, 'removed!']);\n",
              "            Plotly.purge(gd);\n",
              "            observer.disconnect();\n",
              "        }}\n",
              "}});\n",
              "\n",
              "// Listen for the removal of the full notebook cells\n",
              "var notebookContainer = gd.closest('#notebook-container');\n",
              "if (notebookContainer) {{\n",
              "    x.observe(notebookContainer, {childList: true});\n",
              "}}\n",
              "\n",
              "// Listen for the clearing of the current output cell\n",
              "var outputEl = gd.closest('.output');\n",
              "if (outputEl) {{\n",
              "    x.observe(outputEl, {childList: true});\n",
              "}}\n",
              "\n",
              "                        })                };                            </script>        </div>\n",
              "</body>\n",
              "</html>"
            ]
          },
          "metadata": {}
        }
      ],
      "source": [
        "row_labels = [str(i) for i in activate_interventions.keys()]\n",
        "values = [activate_interventions[key] for key in activate_interventions.keys()]\n",
        "\n",
        "fig = compare_intervention_ldds_with_sample_ablated(values, row_labels, heads = key_backup_heads , just_logits = True) # + neg_m_heads"
      ]
    },
    {
      "cell_type": "code",
      "execution_count": null,
      "metadata": {
        "id": "UbowDQo-Xk_7"
      },
      "outputs": [],
      "source": [
        "model.set_use_attn_result(False)"
      ]
    },
    {
      "cell_type": "markdown",
      "metadata": {
        "id": "N81V1nHjXk_7"
      },
      "source": [
        "# Learn the Backup Vector\n",
        "\n",
        "Here, we are trying to find the minimal vector which activates Backup. We will attempt this with two constraints:\n",
        "1) the vector should have low cossim with 9.9 output\n",
        "2) 9.9 subtracted by this vector should activate maximal backup\n",
        "\n",
        "\n",
        "1 should optimally converge to zero, and so should 2 (i can do 9.9 Ablation LD - current LD)"
      ]
    },
    {
      "cell_type": "markdown",
      "metadata": {
        "id": "OR_2VwSJXk_7"
      },
      "source": [
        "## Helper Functions + Metrics"
      ]
    },
    {
      "cell_type": "code",
      "execution_count": null,
      "metadata": {
        "colab": {
          "base_uri": "https://localhost:8080/"
        },
        "id": "P_9R1lV0Xk_7",
        "outputId": "3cdfa3ff-5cea-43bb-e72a-1d33f37bf3d4"
      },
      "outputs": [
        {
          "output_type": "execute_result",
          "data": {
            "text/plain": [
              "<torch.autograd.grad_mode.set_grad_enabled at 0x7803decaef50>"
            ]
          },
          "metadata": {},
          "execution_count": 226
        }
      ],
      "source": [
        "torch.set_grad_enabled(True)"
      ]
    },
    {
      "cell_type": "code",
      "execution_count": null,
      "metadata": {
        "colab": {
          "base_uri": "https://localhost:8080/"
        },
        "id": "PATt_8mnXk_7",
        "outputId": "37fd889c-b882-4ec3-80d1-f1df0b9bb1fb"
      },
      "outputs": [
        {
          "output_type": "execute_result",
          "data": {
            "text/plain": [
              "torch.Size([12, 768])"
            ]
          },
          "metadata": {},
          "execution_count": 227
        }
      ],
      "source": [
        "model.b_O.shape"
      ]
    },
    {
      "cell_type": "code",
      "execution_count": null,
      "metadata": {
        "id": "1v0-pxGLXk_8"
      },
      "outputs": [],
      "source": [
        "\n",
        "def apply_causal_mask(\n",
        "        attn_scores: Float[Tensor, \"batch n_heads query_pos key_pos\"]\n",
        "    ) -> Float[Tensor, \"batch n_heads query_pos key_pos\"]:\n",
        "        '''\n",
        "        Applies a causal mask to attention scores, and returns masked scores.\n",
        "        '''\n",
        "        # Define a mask that is True for all positions we want to set probabilities to zero for\n",
        "        all_ones = torch.ones(attn_scores.size(-2), attn_scores.size(-1), device=attn_scores.device)\n",
        "        mask = torch.triu(all_ones, diagonal=1).bool()\n",
        "        # Apply the mask to attention scores, then return the masked scores\n",
        "        attn_scores.masked_fill_(mask, 1e-6)\n",
        "        return attn_scores\n",
        "\n",
        "\n",
        "def simulate_head(resid, layer, head):\n",
        "    \"\"\"\n",
        "    given a specific head in the model, simulates running a normalized residual stream through it\n",
        "    note that this does the normal gpt-2 style head. not the fancy stuff.\n",
        "    \"\"\"\n",
        "\n",
        "    # get parameters for head\n",
        "    W_Q = model.W_Q[layer, head]\n",
        "    W_K = model.W_K[layer, head]\n",
        "    W_V = model.W_V[layer, head]\n",
        "    W_O = model.W_O[layer, head]\n",
        "\n",
        "    b_Q = model.b_Q[layer, head]\n",
        "    b_K = model.b_K[layer, head]\n",
        "    b_V = model.b_V[layer, head]\n",
        "    #b_O = model.b_O[layer, head]\n",
        "\n",
        "    # calculate keys, queries, and values\n",
        "    Q = einops.einsum(resid, W_Q, \"batch seq d_model, d_model d_head -> batch seq d_head\") + b_Q\n",
        "    K = einops.einsum(resid, W_K, \"batch seq d_model, d_model d_head -> batch seq d_head\") + b_K\n",
        "    V = einops.einsum(resid, W_V, \"batch seq d_model, d_model d_head -> batch seq d_head\") + b_V\n",
        "\n",
        "    # calculate attention scores\n",
        "    attn_scores = einops.einsum(\n",
        "            Q, K,\n",
        "            \"batch posn_Q d_head, batch posn_K d_head -> batch posn_Q posn_K\",\n",
        "        )\n",
        "\n",
        "    # mask\n",
        "    attn_scores = apply_causal_mask(attn_scores/ model.cfg.d_head ** 0.5)\n",
        "\n",
        "    # calculate attention probs\n",
        "    attn_probs = F.softmax(attn_scores, dim=-1)\n",
        "\n",
        "    # weighted sum of values, according to attention probs\n",
        "    z = einops.einsum(\n",
        "            V, attn_probs,\n",
        "            \"batch posn_K d_head, batch posn_Q posn_K -> batch posn_Q d_head\",\n",
        "        )\n",
        "\n",
        "    attn_out = einops.einsum(\n",
        "            z, W_O,\n",
        "            \"batch posn_Q d_head, d_head d_model -> batch posn_Q d_model\")#+ b_O\n",
        "\n",
        "    return attn_out\n"
      ]
    },
    {
      "cell_type": "code",
      "execution_count": null,
      "metadata": {
        "id": "jL239LD2Xk_8"
      },
      "outputs": [],
      "source": [
        "resid_mid_layer_nine = clean_cache[utils.get_act_name(\"resid_mid\", 9)]\n",
        "\n",
        "\n",
        "\n",
        "sample_ablate_ten_two = get_output_of_head(10, 2, nine_nine_sample_ablating_cache)\n",
        "sample_ablate_ten_six = get_output_of_head(10, 6, nine_nine_sample_ablating_cache)\n",
        "sample_ablate_ten_ten = get_output_of_head(10, 10, nine_nine_sample_ablating_cache)\n",
        "\n",
        "clean_ten_two = get_output_of_head(10, 2)\n",
        "clean_ten_six = get_output_of_head(10, 6)\n",
        "clean_ten_ten = get_output_of_head(10, 10)\n",
        "\n",
        "nine_nine_output = get_output_of_head(9, 9, clean_cache)"
      ]
    },
    {
      "cell_type": "code",
      "execution_count": null,
      "metadata": {
        "id": "qx3YftNpXk_8"
      },
      "outputs": [],
      "source": []
    },
    {
      "cell_type": "code",
      "execution_count": null,
      "metadata": {
        "id": "AOskcH0OXk_8"
      },
      "outputs": [],
      "source": [
        "def backup_loss_metric(current_head_output, abs = True, ablated_output = sample_ablate_ten_two):\n",
        "    # find logit diff of current head output and ablated output\n",
        "    assert current_head_output.shape == ablated_output.shape\n",
        "    cur_head_logit_diff = residual_stack_to_logit_diff(current_head_output, nine_nine_sample_ablating_cache)\n",
        "    ablated_logit_diff = residual_stack_to_logit_diff(ablated_output, nine_nine_sample_ablating_cache)\n",
        "\n",
        "    #print(cur_head_logit_diff)\n",
        "    #print(cur_head_logit_diff, ablated_logit_diff)\n",
        "\n",
        "    if abs:\n",
        "        return (ablated_logit_diff - cur_head_logit_diff).abs()\n",
        "    else:\n",
        "        return ablated_logit_diff - cur_head_logit_diff\n",
        "\n",
        "def perp_to_9_9_metric(vector, output_9_9 = nine_nine_output):\n",
        "    expanded_vector = einops.repeat(vector, \"d_model -> batch d_model\", batch = output_9_9.shape[0])\n",
        "    return F.cosine_similarity(expanded_vector, output_9_9, dim=-1).mean(0).abs()\n",
        "\n",
        "def normalize_metric(vector):\n",
        "    # push down norm of vector\n",
        "    return einops.einsum(vector, vector, \"d_model, d_model -> \") / 100\n"
      ]
    },
    {
      "cell_type": "markdown",
      "metadata": {
        "id": "lutrA6rTXk_8"
      },
      "source": [
        "## Create the Training Loop"
      ]
    },
    {
      "cell_type": "code",
      "execution_count": null,
      "metadata": {
        "id": "IVAT9jOGXk_8"
      },
      "outputs": [],
      "source": [
        "if False:\n",
        "  learned_vectors = []"
      ]
    },
    {
      "cell_type": "code",
      "execution_count": null,
      "metadata": {
        "colab": {
          "base_uri": "https://localhost:8080/"
        },
        "id": "o_yUz6bPXk_9",
        "outputId": "031f0870-45e4-4747-f414-bcc4b20667d0"
      },
      "outputs": [
        {
          "output_type": "stream",
          "name": "stderr",
          "text": [
            "100%|██████████| 3/3 [01:01<00:00, 20.59s/it]\n"
          ]
        }
      ],
      "source": [
        "for i in tqdm.tqdm(range(3)):\n",
        "  trained_vector = torch.randn(model.cfg.d_model, requires_grad=True, device = device)\n",
        "  optimizer = torch.optim.Adam([trained_vector], lr=0.1)\n",
        "\n",
        "  for i in range(700):\n",
        "      optimizer.zero_grad()\n",
        "      repeated_learned_vector = einops.repeat(trained_vector, \"d_model -> batch d_model\", batch = nine_nine_output.shape[0])\n",
        "\n",
        "      # part 1 -- the removing vector should ACTIVATE backup\n",
        "      new_residual_stream = resid_mid_layer_nine.clone()\n",
        "      new_residual_stream[:, -1, :] = new_residual_stream[:, -1, :] - get_projection(nine_nine_output, repeated_learned_vector)\n",
        "\n",
        "      # run through MLP\n",
        "      new_residual_stream = new_residual_stream + model.blocks[9].mlp(model.blocks[9].ln2(new_residual_stream))\n",
        "      new_residual_stream = model.blocks[10].ln1(new_residual_stream)\n",
        "\n",
        "      ten_two_output = simulate_head(new_residual_stream, 10, 2)[:, -1, :]\n",
        "      ten_six_output = simulate_head(new_residual_stream, 10, 6)[:, -1, :]\n",
        "      ten_ten_output = simulate_head(new_residual_stream, 10, 10)[:, -1, :]\n",
        "\n",
        "      activate_loss = backup_loss_metric(ten_ten_output, ablated_output = sample_ablate_ten_ten) + backup_loss_metric(ten_two_output, ablated_output = sample_ablate_ten_two) + backup_loss_metric(ten_six_output, ablated_output = sample_ablate_ten_six)  + perp_to_9_9_metric(trained_vector)\n",
        "\n",
        "\n",
        "\n",
        "      # part 2 --- if you constrain the heads output to ONLY this, it should NOT activate backup\n",
        "      second_residual_stream = resid_mid_layer_nine.clone()\n",
        "      second_residual_stream[:, -1, :] = second_residual_stream[:, -1, :] - nine_nine_output + get_projection(nine_nine_output, repeated_learned_vector)\n",
        "\n",
        "      # run through MLP\n",
        "      second_residual_stream = second_residual_stream + model.blocks[9].mlp(model.blocks[9].ln2(second_residual_stream))\n",
        "      second_residual_stream = model.blocks[10].ln1(second_residual_stream)\n",
        "\n",
        "      ten_two_output = simulate_head(second_residual_stream, 10, 2)[:, -1, :]\n",
        "      ten_six_output = simulate_head(second_residual_stream, 10, 6)[:, -1, :]\n",
        "      ten_ten_output = simulate_head(second_residual_stream, 10, 10)[:, -1, :]\n",
        "\n",
        "      # constraint three - make the vector perp to the IO direction\n",
        "      perp_io_loss = F.cosine_similarity(repeated_learned_vector, unembed_io_directions, dim=-1).mean(0).abs()\n",
        "\n",
        "      silence_loss = backup_loss_metric(ten_two_output, ablated_output = clean_ten_two) + backup_loss_metric(ten_six_output, ablated_output = clean_ten_six) + backup_loss_metric(ten_ten_output, ablated_output = clean_ten_ten) #+ perp_to_9_9_metric(trained_vector)\n",
        "\n",
        "\n",
        "      similarity_to_other_learned_vector_loss =  0 #F.cosine_similarity(trained_vector, learned_vectors[0], dim=0).abs() + F.cosine_similarity(trained_vector, learned_vectors[7], dim=0).abs()\n",
        "      if len(learned_vectors) != 0:\n",
        "        for i in range(len(learned_vectors)):\n",
        "          similarity_to_other_learned_vector_loss += F.cosine_similarity(trained_vector, learned_vectors[i], dim=0).abs()\n",
        "        similarity_to_other_learned_vector_loss = similarity_to_other_learned_vector_loss / len(learned_vectors) * 6\n",
        "\n",
        "\n",
        "\n",
        "      loss = activate_loss + 2 *  silence_loss + perp_io_loss + normalize_metric(trained_vector) + similarity_to_other_learned_vector_loss\n",
        "      #print(activate_loss.item(), silence_loss.item(), loss.item())\n",
        "      loss.backward()#retain_graph=True)\n",
        "      optimizer.step()\n",
        "  learned_vectors.append(trained_vector)\n"
      ]
    },
    {
      "cell_type": "code",
      "source": [
        "# prompt: calculate the cosine similarities between the vectors in learned_vectors\n",
        "\n",
        "cosine_similarities = torch.zeros((len(learned_vectors), len(learned_vectors)))\n",
        "for i in range(len(learned_vectors)):\n",
        " for j in range(len(learned_vectors)):\n",
        "        cosine_similarities[i][j] = (F.cosine_similarity(learned_vectors[i], learned_vectors[j], dim=0))"
      ],
      "metadata": {
        "id": "UUUFnWFpdyX4"
      },
      "execution_count": null,
      "outputs": []
    },
    {
      "cell_type": "code",
      "source": [
        "imshow(cosine_similarities, title = \"cos sims between the learned 'backup vectors'\", width = 600\n",
        "       )"
      ],
      "metadata": {
        "colab": {
          "base_uri": "https://localhost:8080/",
          "height": 542
        },
        "id": "2Cajd4PpeTn7",
        "outputId": "a6a5fc96-671b-4731-a9ad-65e76963ef67"
      },
      "execution_count": null,
      "outputs": [
        {
          "output_type": "display_data",
          "data": {
            "text/html": [
              "<html>\n",
              "<head><meta charset=\"utf-8\" /></head>\n",
              "<body>\n",
              "    <div>            <script src=\"https://cdnjs.cloudflare.com/ajax/libs/mathjax/2.7.5/MathJax.js?config=TeX-AMS-MML_SVG\"></script><script type=\"text/javascript\">if (window.MathJax && window.MathJax.Hub && window.MathJax.Hub.Config) {window.MathJax.Hub.Config({SVG: {font: \"STIX-Web\"}});}</script>                <script type=\"text/javascript\">window.PlotlyConfig = {MathJaxConfig: 'local'};</script>\n",
              "        <script src=\"https://cdn.plot.ly/plotly-2.18.2.min.js\"></script>                <div id=\"45226efc-7c71-4af7-a578-f05bd7e7b82e\" class=\"plotly-graph-div\" style=\"height:525px; width:600px;\"></div>            <script type=\"text/javascript\">                                    window.PLOTLYENV=window.PLOTLYENV || {};                                    if (document.getElementById(\"45226efc-7c71-4af7-a578-f05bd7e7b82e\")) {                    Plotly.newPlot(                        \"45226efc-7c71-4af7-a578-f05bd7e7b82e\",                        [{\"coloraxis\":\"coloraxis\",\"name\":\"0\",\"z\":[[1.0,-0.054541684687137604,-0.5707007646560669,0.20240435004234314,-0.667744517326355,-0.2667633891105652,0.8388649225234985,-0.06343470513820648,-0.10808320343494415,0.2970089316368103],[-0.054541684687137604,1.0,0.003276495262980461,-0.7124760150909424,0.16051803529262543,0.6614779829978943,-0.020610440522432327,-0.004490770399570465,0.7650977373123169,-0.6328699588775635],[-0.5707007646560669,0.003276495262980461,1.0,0.0022615790367126465,0.3911745846271515,-0.06668592244386673,-0.6939980387687683,-0.08861345797777176,0.0009649188723415136,-0.014433007687330246],[0.20240435004234314,-0.7124760150909424,0.0022615790367126465,1.0,0.0022033583372831345,-0.5879204273223877,0.09877730906009674,-0.10504991561174393,-0.48028427362442017,0.7307334542274475],[-0.667744517326355,0.16051803529262543,0.3911745846271515,0.0022033583372831345,0.9999999403953552,-0.03732849657535553,-0.5905191898345947,0.00812828540802002,0.40473541617393494,-0.01904926262795925],[-0.2667633891105652,0.6614779829978943,-0.06668592244386673,-0.5879204273223877,-0.03732849657535553,1.0,-0.0708053708076477,0.13011124730110168,0.28904128074645996,-0.8108378648757935],[0.8388649225234985,-0.020610440522432327,-0.6939980387687683,0.09877730906009674,-0.5905191898345947,-0.0708053708076477,1.0,-0.05960797891020775,-0.031174805015325546,0.1260657161474228],[-0.06343470513820648,-0.004490770399570465,-0.08861345797777176,-0.10504991561174393,0.00812828540802002,0.13011124730110168,-0.05960797891020775,1.0,0.0035233423113822937,-0.020792914554476738],[-0.10808320343494415,0.7650977373123169,0.0009649188723415136,-0.48028427362442017,0.40473541617393494,0.28904128074645996,-0.031174805015325546,0.0035233423113822937,0.9999998807907104,-0.24679860472679138],[0.2970089316368103,-0.6328699588775635,-0.014433007687330246,0.7307334542274475,-0.01904926262795925,-0.8108378648757935,0.1260657161474228,-0.020792914554476738,-0.24679860472679138,1.0000001192092896]],\"type\":\"heatmap\",\"xaxis\":\"x\",\"yaxis\":\"y\",\"hovertemplate\":\"x: %{x}<br>y: %{y}<br>color: %{z}<extra></extra>\"}],                        {\"template\":{\"data\":{\"histogram2dcontour\":[{\"type\":\"histogram2dcontour\",\"colorbar\":{\"outlinewidth\":0,\"ticks\":\"\"},\"colorscale\":[[0.0,\"#0d0887\"],[0.1111111111111111,\"#46039f\"],[0.2222222222222222,\"#7201a8\"],[0.3333333333333333,\"#9c179e\"],[0.4444444444444444,\"#bd3786\"],[0.5555555555555556,\"#d8576b\"],[0.6666666666666666,\"#ed7953\"],[0.7777777777777778,\"#fb9f3a\"],[0.8888888888888888,\"#fdca26\"],[1.0,\"#f0f921\"]]}],\"choropleth\":[{\"type\":\"choropleth\",\"colorbar\":{\"outlinewidth\":0,\"ticks\":\"\"}}],\"histogram2d\":[{\"type\":\"histogram2d\",\"colorbar\":{\"outlinewidth\":0,\"ticks\":\"\"},\"colorscale\":[[0.0,\"#0d0887\"],[0.1111111111111111,\"#46039f\"],[0.2222222222222222,\"#7201a8\"],[0.3333333333333333,\"#9c179e\"],[0.4444444444444444,\"#bd3786\"],[0.5555555555555556,\"#d8576b\"],[0.6666666666666666,\"#ed7953\"],[0.7777777777777778,\"#fb9f3a\"],[0.8888888888888888,\"#fdca26\"],[1.0,\"#f0f921\"]]}],\"heatmap\":[{\"type\":\"heatmap\",\"colorbar\":{\"outlinewidth\":0,\"ticks\":\"\"},\"colorscale\":[[0.0,\"#0d0887\"],[0.1111111111111111,\"#46039f\"],[0.2222222222222222,\"#7201a8\"],[0.3333333333333333,\"#9c179e\"],[0.4444444444444444,\"#bd3786\"],[0.5555555555555556,\"#d8576b\"],[0.6666666666666666,\"#ed7953\"],[0.7777777777777778,\"#fb9f3a\"],[0.8888888888888888,\"#fdca26\"],[1.0,\"#f0f921\"]]}],\"heatmapgl\":[{\"type\":\"heatmapgl\",\"colorbar\":{\"outlinewidth\":0,\"ticks\":\"\"},\"colorscale\":[[0.0,\"#0d0887\"],[0.1111111111111111,\"#46039f\"],[0.2222222222222222,\"#7201a8\"],[0.3333333333333333,\"#9c179e\"],[0.4444444444444444,\"#bd3786\"],[0.5555555555555556,\"#d8576b\"],[0.6666666666666666,\"#ed7953\"],[0.7777777777777778,\"#fb9f3a\"],[0.8888888888888888,\"#fdca26\"],[1.0,\"#f0f921\"]]}],\"contourcarpet\":[{\"type\":\"contourcarpet\",\"colorbar\":{\"outlinewidth\":0,\"ticks\":\"\"}}],\"contour\":[{\"type\":\"contour\",\"colorbar\":{\"outlinewidth\":0,\"ticks\":\"\"},\"colorscale\":[[0.0,\"#0d0887\"],[0.1111111111111111,\"#46039f\"],[0.2222222222222222,\"#7201a8\"],[0.3333333333333333,\"#9c179e\"],[0.4444444444444444,\"#bd3786\"],[0.5555555555555556,\"#d8576b\"],[0.6666666666666666,\"#ed7953\"],[0.7777777777777778,\"#fb9f3a\"],[0.8888888888888888,\"#fdca26\"],[1.0,\"#f0f921\"]]}],\"surface\":[{\"type\":\"surface\",\"colorbar\":{\"outlinewidth\":0,\"ticks\":\"\"},\"colorscale\":[[0.0,\"#0d0887\"],[0.1111111111111111,\"#46039f\"],[0.2222222222222222,\"#7201a8\"],[0.3333333333333333,\"#9c179e\"],[0.4444444444444444,\"#bd3786\"],[0.5555555555555556,\"#d8576b\"],[0.6666666666666666,\"#ed7953\"],[0.7777777777777778,\"#fb9f3a\"],[0.8888888888888888,\"#fdca26\"],[1.0,\"#f0f921\"]]}],\"mesh3d\":[{\"type\":\"mesh3d\",\"colorbar\":{\"outlinewidth\":0,\"ticks\":\"\"}}],\"scatter\":[{\"fillpattern\":{\"fillmode\":\"overlay\",\"size\":10,\"solidity\":0.2},\"type\":\"scatter\"}],\"parcoords\":[{\"type\":\"parcoords\",\"line\":{\"colorbar\":{\"outlinewidth\":0,\"ticks\":\"\"}}}],\"scatterpolargl\":[{\"type\":\"scatterpolargl\",\"marker\":{\"colorbar\":{\"outlinewidth\":0,\"ticks\":\"\"}}}],\"bar\":[{\"error_x\":{\"color\":\"#2a3f5f\"},\"error_y\":{\"color\":\"#2a3f5f\"},\"marker\":{\"line\":{\"color\":\"#E5ECF6\",\"width\":0.5},\"pattern\":{\"fillmode\":\"overlay\",\"size\":10,\"solidity\":0.2}},\"type\":\"bar\"}],\"scattergeo\":[{\"type\":\"scattergeo\",\"marker\":{\"colorbar\":{\"outlinewidth\":0,\"ticks\":\"\"}}}],\"scatterpolar\":[{\"type\":\"scatterpolar\",\"marker\":{\"colorbar\":{\"outlinewidth\":0,\"ticks\":\"\"}}}],\"histogram\":[{\"marker\":{\"pattern\":{\"fillmode\":\"overlay\",\"size\":10,\"solidity\":0.2}},\"type\":\"histogram\"}],\"scattergl\":[{\"type\":\"scattergl\",\"marker\":{\"colorbar\":{\"outlinewidth\":0,\"ticks\":\"\"}}}],\"scatter3d\":[{\"type\":\"scatter3d\",\"line\":{\"colorbar\":{\"outlinewidth\":0,\"ticks\":\"\"}},\"marker\":{\"colorbar\":{\"outlinewidth\":0,\"ticks\":\"\"}}}],\"scattermapbox\":[{\"type\":\"scattermapbox\",\"marker\":{\"colorbar\":{\"outlinewidth\":0,\"ticks\":\"\"}}}],\"scatterternary\":[{\"type\":\"scatterternary\",\"marker\":{\"colorbar\":{\"outlinewidth\":0,\"ticks\":\"\"}}}],\"scattercarpet\":[{\"type\":\"scattercarpet\",\"marker\":{\"colorbar\":{\"outlinewidth\":0,\"ticks\":\"\"}}}],\"carpet\":[{\"aaxis\":{\"endlinecolor\":\"#2a3f5f\",\"gridcolor\":\"white\",\"linecolor\":\"white\",\"minorgridcolor\":\"white\",\"startlinecolor\":\"#2a3f5f\"},\"baxis\":{\"endlinecolor\":\"#2a3f5f\",\"gridcolor\":\"white\",\"linecolor\":\"white\",\"minorgridcolor\":\"white\",\"startlinecolor\":\"#2a3f5f\"},\"type\":\"carpet\"}],\"table\":[{\"cells\":{\"fill\":{\"color\":\"#EBF0F8\"},\"line\":{\"color\":\"white\"}},\"header\":{\"fill\":{\"color\":\"#C8D4E3\"},\"line\":{\"color\":\"white\"}},\"type\":\"table\"}],\"barpolar\":[{\"marker\":{\"line\":{\"color\":\"#E5ECF6\",\"width\":0.5},\"pattern\":{\"fillmode\":\"overlay\",\"size\":10,\"solidity\":0.2}},\"type\":\"barpolar\"}],\"pie\":[{\"automargin\":true,\"type\":\"pie\"}]},\"layout\":{\"autotypenumbers\":\"strict\",\"colorway\":[\"#636efa\",\"#EF553B\",\"#00cc96\",\"#ab63fa\",\"#FFA15A\",\"#19d3f3\",\"#FF6692\",\"#B6E880\",\"#FF97FF\",\"#FECB52\"],\"font\":{\"color\":\"#2a3f5f\"},\"hovermode\":\"closest\",\"hoverlabel\":{\"align\":\"left\"},\"paper_bgcolor\":\"white\",\"plot_bgcolor\":\"#E5ECF6\",\"polar\":{\"bgcolor\":\"#E5ECF6\",\"angularaxis\":{\"gridcolor\":\"white\",\"linecolor\":\"white\",\"ticks\":\"\"},\"radialaxis\":{\"gridcolor\":\"white\",\"linecolor\":\"white\",\"ticks\":\"\"}},\"ternary\":{\"bgcolor\":\"#E5ECF6\",\"aaxis\":{\"gridcolor\":\"white\",\"linecolor\":\"white\",\"ticks\":\"\"},\"baxis\":{\"gridcolor\":\"white\",\"linecolor\":\"white\",\"ticks\":\"\"},\"caxis\":{\"gridcolor\":\"white\",\"linecolor\":\"white\",\"ticks\":\"\"}},\"coloraxis\":{\"colorbar\":{\"outlinewidth\":0,\"ticks\":\"\"}},\"colorscale\":{\"sequential\":[[0.0,\"#0d0887\"],[0.1111111111111111,\"#46039f\"],[0.2222222222222222,\"#7201a8\"],[0.3333333333333333,\"#9c179e\"],[0.4444444444444444,\"#bd3786\"],[0.5555555555555556,\"#d8576b\"],[0.6666666666666666,\"#ed7953\"],[0.7777777777777778,\"#fb9f3a\"],[0.8888888888888888,\"#fdca26\"],[1.0,\"#f0f921\"]],\"sequentialminus\":[[0.0,\"#0d0887\"],[0.1111111111111111,\"#46039f\"],[0.2222222222222222,\"#7201a8\"],[0.3333333333333333,\"#9c179e\"],[0.4444444444444444,\"#bd3786\"],[0.5555555555555556,\"#d8576b\"],[0.6666666666666666,\"#ed7953\"],[0.7777777777777778,\"#fb9f3a\"],[0.8888888888888888,\"#fdca26\"],[1.0,\"#f0f921\"]],\"diverging\":[[0,\"#8e0152\"],[0.1,\"#c51b7d\"],[0.2,\"#de77ae\"],[0.3,\"#f1b6da\"],[0.4,\"#fde0ef\"],[0.5,\"#f7f7f7\"],[0.6,\"#e6f5d0\"],[0.7,\"#b8e186\"],[0.8,\"#7fbc41\"],[0.9,\"#4d9221\"],[1,\"#276419\"]]},\"xaxis\":{\"gridcolor\":\"white\",\"linecolor\":\"white\",\"ticks\":\"\",\"title\":{\"standoff\":15},\"zerolinecolor\":\"white\",\"automargin\":true,\"zerolinewidth\":2},\"yaxis\":{\"gridcolor\":\"white\",\"linecolor\":\"white\",\"ticks\":\"\",\"title\":{\"standoff\":15},\"zerolinecolor\":\"white\",\"automargin\":true,\"zerolinewidth\":2},\"scene\":{\"xaxis\":{\"backgroundcolor\":\"#E5ECF6\",\"gridcolor\":\"white\",\"linecolor\":\"white\",\"showbackground\":true,\"ticks\":\"\",\"zerolinecolor\":\"white\",\"gridwidth\":2},\"yaxis\":{\"backgroundcolor\":\"#E5ECF6\",\"gridcolor\":\"white\",\"linecolor\":\"white\",\"showbackground\":true,\"ticks\":\"\",\"zerolinecolor\":\"white\",\"gridwidth\":2},\"zaxis\":{\"backgroundcolor\":\"#E5ECF6\",\"gridcolor\":\"white\",\"linecolor\":\"white\",\"showbackground\":true,\"ticks\":\"\",\"zerolinecolor\":\"white\",\"gridwidth\":2}},\"shapedefaults\":{\"line\":{\"color\":\"#2a3f5f\"}},\"annotationdefaults\":{\"arrowcolor\":\"#2a3f5f\",\"arrowhead\":0,\"arrowwidth\":1},\"geo\":{\"bgcolor\":\"white\",\"landcolor\":\"#E5ECF6\",\"subunitcolor\":\"white\",\"showland\":true,\"showlakes\":true,\"lakecolor\":\"white\"},\"title\":{\"x\":0.05},\"mapbox\":{\"style\":\"light\"}}},\"xaxis\":{\"anchor\":\"y\",\"domain\":[0.0,1.0],\"scaleanchor\":\"y\",\"constrain\":\"domain\"},\"yaxis\":{\"anchor\":\"x\",\"domain\":[0.0,1.0],\"autorange\":\"reversed\",\"constrain\":\"domain\"},\"coloraxis\":{\"colorscale\":[[0.0,\"rgb(103,0,31)\"],[0.1,\"rgb(178,24,43)\"],[0.2,\"rgb(214,96,77)\"],[0.3,\"rgb(244,165,130)\"],[0.4,\"rgb(253,219,199)\"],[0.5,\"rgb(247,247,247)\"],[0.6,\"rgb(209,229,240)\"],[0.7,\"rgb(146,197,222)\"],[0.8,\"rgb(67,147,195)\"],[0.9,\"rgb(33,102,172)\"],[1.0,\"rgb(5,48,97)\"]],\"cmid\":0.0},\"title\":{\"text\":\"cos sims between the learned 'backup vectors'\"},\"width\":600},                        {\"responsive\": true}                    ).then(function(){\n",
              "                            \n",
              "var gd = document.getElementById('45226efc-7c71-4af7-a578-f05bd7e7b82e');\n",
              "var x = new MutationObserver(function (mutations, observer) {{\n",
              "        var display = window.getComputedStyle(gd).display;\n",
              "        if (!display || display === 'none') {{\n",
              "            console.log([gd, 'removed!']);\n",
              "            Plotly.purge(gd);\n",
              "            observer.disconnect();\n",
              "        }}\n",
              "}});\n",
              "\n",
              "// Listen for the removal of the full notebook cells\n",
              "var notebookContainer = gd.closest('#notebook-container');\n",
              "if (notebookContainer) {{\n",
              "    x.observe(notebookContainer, {childList: true});\n",
              "}}\n",
              "\n",
              "// Listen for the clearing of the current output cell\n",
              "var outputEl = gd.closest('.output');\n",
              "if (outputEl) {{\n",
              "    x.observe(outputEl, {childList: true});\n",
              "}}\n",
              "\n",
              "                        })                };                            </script>        </div>\n",
              "</body>\n",
              "</html>"
            ]
          },
          "metadata": {}
        }
      ]
    },
    {
      "cell_type": "code",
      "execution_count": null,
      "metadata": {
        "colab": {
          "base_uri": "https://localhost:8080/"
        },
        "id": "950zwU5_Xk_9",
        "outputId": "fbd54d83-0b37-4c63-bd80-c9b586681bbb"
      },
      "outputs": [
        {
          "output_type": "execute_result",
          "data": {
            "text/plain": [
              "tensor(0.1617, device='cuda:0', grad_fn=<AbsBackward0>)"
            ]
          },
          "metadata": {},
          "execution_count": 235
        }
      ],
      "source": [
        "perp_to_9_9_metric(learned_vectors[2])"
      ]
    },
    {
      "cell_type": "code",
      "execution_count": null,
      "metadata": {
        "colab": {
          "base_uri": "https://localhost:8080/"
        },
        "id": "pGpNLqZdXk_-",
        "outputId": "18f17018-f1cd-47cd-c1a5-21fed0b1fbdf"
      },
      "outputs": [
        {
          "output_type": "stream",
          "name": "stdout",
          "text": [
            "tensor(20.9580, device='cuda:0', grad_fn=<ViewBackward0>)\n",
            "tensor(23.3546, device='cuda:0', grad_fn=<ViewBackward0>)\n",
            "tensor(11.8660, device='cuda:0', grad_fn=<ViewBackward0>)\n",
            "tensor(14.1227, device='cuda:0', grad_fn=<ViewBackward0>)\n",
            "tensor(13.2017, device='cuda:0', grad_fn=<ViewBackward0>)\n",
            "tensor(26.7330, device='cuda:0', grad_fn=<ViewBackward0>)\n",
            "tensor(10.6086, device='cuda:0', grad_fn=<ViewBackward0>)\n",
            "tensor(12.0525, device='cuda:0', grad_fn=<ViewBackward0>)\n",
            "tensor(18.0147, device='cuda:0', grad_fn=<ViewBackward0>)\n",
            "tensor(16.7909, device='cuda:0', grad_fn=<ViewBackward0>)\n",
            "tensor(1723.6044, device='cuda:0')\n"
          ]
        }
      ],
      "source": [
        "# get length of trained vector\n",
        "for vec in learned_vectors:\n",
        "  print(einops.einsum(vec, vec, \"d_model, d_model -> \"))\n",
        "print(einops.einsum(nine_nine_output, nine_nine_output, \"batch d_model, batch d_model -> batch\").mean(0))"
      ]
    },
    {
      "cell_type": "code",
      "execution_count": null,
      "metadata": {
        "colab": {
          "base_uri": "https://localhost:8080/"
        },
        "id": "cMLwBda9Xk_-",
        "outputId": "9d6484d5-b577-451c-cb6e-5efc82f3d48c"
      },
      "outputs": [
        {
          "output_type": "execute_result",
          "data": {
            "text/plain": [
              "<torch.autograd.grad_mode.set_grad_enabled at 0x7803dcb39810>"
            ]
          },
          "metadata": {},
          "execution_count": 237
        }
      ],
      "source": [
        "torch.set_grad_enabled(False)"
      ]
    },
    {
      "cell_type": "markdown",
      "metadata": {
        "id": "LDeMRaT2Xk_-"
      },
      "source": [
        "## Test the Vector to see if this actually works well!"
      ]
    },
    {
      "cell_type": "code",
      "source": [
        "model.set_use_attn_result(True)"
      ],
      "metadata": {
        "id": "Y2r9ZKpGn_y9"
      },
      "execution_count": null,
      "outputs": []
    },
    {
      "cell_type": "code",
      "execution_count": null,
      "metadata": {
        "colab": {
          "base_uri": "https://localhost:8080/"
        },
        "id": "-X3io7kDXk_-",
        "outputId": "d3f8e483-270a-4489-8475-1b43ae28bd07"
      },
      "outputs": [
        {
          "output_type": "stream",
          "name": "stdout",
          "text": [
            "tensor(0.0042, device='cuda:0')\n",
            "tensor(0.0234, device='cuda:0')\n",
            "tensor(0.0077, device='cuda:0')\n",
            "tensor(0.0105, device='cuda:0')\n",
            "tensor(0.0008, device='cuda:0')\n",
            "tensor(0.0033, device='cuda:0')\n",
            "tensor(0.0062, device='cuda:0')\n",
            "tensor(0.0055, device='cuda:0')\n",
            "tensor(0.0213, device='cuda:0')\n",
            "tensor(0.0035, device='cuda:0')\n"
          ]
        }
      ],
      "source": [
        "for vec in learned_vectors:\n",
        "  print(perp_to_9_9_metric(vec, output_9_9 = nine_six_output))"
      ]
    },
    {
      "cell_type": "code",
      "execution_count": null,
      "metadata": {
        "colab": {
          "base_uri": "https://localhost:8080/"
        },
        "id": "RXINecYDXk_-",
        "outputId": "4cc035c0-d610-485d-ee5d-5e59e9249cda"
      },
      "outputs": [
        {
          "output_type": "execute_result",
          "data": {
            "text/plain": [
              "[(9, 9)]"
            ]
          },
          "metadata": {},
          "execution_count": 240
        }
      ],
      "source": [
        "heads_whose_output_to_replace"
      ]
    },
    {
      "cell_type": "code",
      "execution_count": null,
      "metadata": {
        "colab": {
          "base_uri": "https://localhost:8080/",
          "height": 560
        },
        "id": "VA-NtaKgXk__",
        "outputId": "af6ec8da-1ef8-4ca9-8c0b-7ad9b6ce4df7"
      },
      "outputs": [
        {
          "output_type": "stream",
          "name": "stdout",
          "text": [
            "RUH\n"
          ]
        },
        {
          "output_type": "display_data",
          "data": {
            "text/html": [
              "<html>\n",
              "<head><meta charset=\"utf-8\" /></head>\n",
              "<body>\n",
              "    <div>            <script src=\"https://cdnjs.cloudflare.com/ajax/libs/mathjax/2.7.5/MathJax.js?config=TeX-AMS-MML_SVG\"></script><script type=\"text/javascript\">if (window.MathJax && window.MathJax.Hub && window.MathJax.Hub.Config) {window.MathJax.Hub.Config({SVG: {font: \"STIX-Web\"}});}</script>                <script type=\"text/javascript\">window.PlotlyConfig = {MathJaxConfig: 'local'};</script>\n",
              "        <script src=\"https://cdn.plot.ly/plotly-2.18.2.min.js\"></script>                <div id=\"571f988f-510c-4410-967e-82b4796fdf7d\" class=\"plotly-graph-div\" style=\"height:525px; width:1500px;\"></div>            <script type=\"text/javascript\">                                    window.PLOTLYENV=window.PLOTLYENV || {};                                    if (document.getElementById(\"571f988f-510c-4410-967e-82b4796fdf7d\")) {                    Plotly.newPlot(                        \"571f988f-510c-4410-967e-82b4796fdf7d\",                        [{\"coloraxis\":\"coloraxis\",\"name\":\"0\",\"z\":[[-0.0068211741745471954,-0.0011645794147625566,0.004405476152896881,0.01577460579574108,-0.011580022983253002,-0.021682774648070335,-0.04218494892120361,0.02679433301091194,0.02402898482978344,-0.0025013431441038847,-0.029093418270349503,-0.011212830431759357],[-0.011364012956619263,0.004281176719814539,-0.0022900239564478397,0.025461673736572266,-0.026344751939177513,-0.040390994399785995,-0.011644610203802586,0.027877813205122948,0.008372853510081768,0.018820032477378845,-0.01926483027637005,0.0023840342182666063],[0.01210719347000122,-0.008434894494712353,0.009120511822402477,-0.008856168948113918,-0.013785210438072681,0.013974874280393124,0.004493079613894224,-0.018763838335871696,-0.03138206526637077,-0.027703845873475075,-0.039428990334272385,0.03208920732140541],[0.010785545222461224,0.005135705228894949,0.006883098278194666,-0.0001152131735580042,-0.010030485689640045,-0.00854320079088211,-0.009646176360547543,-0.009140419773757458,-0.0006248634308576584,-0.013703462667763233,0.012523837387561798,-0.02498013898730278],[0.003708326956257224,-0.005423589609563351,-0.008446860127151012,0.00012915134720969945,-0.0011438260553404689,-0.006400172598659992,0.03656582906842232,0.012345360592007637,-0.014502120204269886,-0.01313858013600111,0.0029053394682705402,-0.020175190642476082],[0.015910649672150612,0.015903186053037643,-0.027360862120985985,0.000430908432463184,0.0015012085204944015,0.0042278035543859005,-0.009241783991456032,-0.035394150763750076,0.007717932108789682,-0.03688953444361687,-0.009800005704164505,0.026504814624786377],[0.0093539385125041,-0.008647638373076916,0.008724835701286793,0.009412026964128017,-0.04306107386946678,0.0026403830852359533,0.03281107544898987,-0.0051459684036672115,-0.010608755052089691,-0.016883669421076775,-0.007681410294026136,-0.009697345085442066],[0.0006519168964587152,-0.00768149783834815,-0.0009249827126041055,0.0809766873717308,-0.002672899281606078,-0.03641684725880623,-0.009669866412878036,0.0021149038802832365,-0.008797403424978256,0.16365480422973633,-0.009412799961864948,0.0007599823293276131],[0.00847066193819046,-0.003326721955090761,-0.02156682126224041,-0.06138017773628235,-0.0004378736193757504,-0.024607738479971886,-0.10369113832712173,0.011986388824880123,-0.020989131182432175,-0.02015947550535202,0.22163896262645721,0.1533331274986267],[0.15495918691158295,-0.006887173745781183,0.028440728783607483,-0.0011913239723071456,-0.04745957627892494,0.02994498610496521,1.6014378070831299,0.08377885073423386,0.24059076607227325,3.2009613513946533,0.008213818073272705,0.020889831706881523],[1.0781385898590088,0.27860936522483826,0.37954965233802795,-0.10484665632247925,-0.004936841316521168,0.016798950731754303,0.4429762065410614,-2.2099788188934326,-0.011483716778457165,-0.045187294483184814,0.8937410712242126,0.00412745401263237],[0.0031640545930713415,-0.1655576229095459,-0.5560904145240784,0.00029410870047286153,-0.018078124150633812,-0.0006651938310824335,-0.0181118156760931,-0.04029243066906929,0.004344865679740906,-0.03441211208701134,-1.165460467338562,-0.045721348375082016]],\"type\":\"heatmap\",\"xaxis\":\"x\",\"yaxis\":\"y\",\"hovertemplate\":\"Head: %{x}<br>Layer: %{y}<br>Logit Contribution: %{z}<extra></extra>\"},{\"coloraxis\":\"coloraxis\",\"name\":\"1\",\"z\":[[-0.00533535098657012,-0.013990956358611584,-0.009392069652676582,0.027730537578463554,0.011162846349179745,-0.013274597004055977,0.01797429658472538,0.009853574447333813,0.048961956053972244,-0.03270743414759636,0.043290942907333374,0.02690103091299534],[0.0037427886854857206,0.011510289274156094,0.012151970528066158,0.020084839314222336,-0.0007657386595383286,-0.06178567558526993,-0.009818724356591702,0.05145266279578209,0.003979608416557312,0.0017513182247057557,0.006873686797916889,0.01795453578233719],[0.030727678909897804,0.021244937554001808,0.011480567045509815,0.020472507923841476,-0.006468108389526606,0.006319472100585699,-0.031211858615279198,-0.024033384397625923,-0.014677277766168118,-0.0390344113111496,-0.01916094496846199,0.0076172067783772945],[0.02454930916428566,-0.000874493271112442,0.025414442643523216,0.01129917986690998,-0.017327135428786278,0.0035842792131006718,-0.012926660478115082,-0.020160753279924393,0.014432774856686592,-0.007978715002536774,-0.010287090204656124,0.011778962798416615],[0.008260545320808887,0.012943225912749767,-0.007942835800349712,-0.015560120344161987,-0.03013341687619686,-0.007002925965934992,0.032975390553474426,-0.046912480145692825,-0.00600398750975728,0.016185102984309196,0.0064481766894459724,0.008090716786682606],[0.019052639603614807,0.020183561369776726,-0.023738984018564224,0.008108777925372124,0.004481319338083267,0.028477061539888382,0.0022521137725561857,-0.02504393272101879,0.011918334290385246,-0.06913198530673981,-0.032789088785648346,0.029080316424369812],[0.012316015549004078,-0.0009484775364398956,0.003211809089407325,-0.005186022724956274,-0.0068003954365849495,-0.009117123670876026,0.009302472695708275,-0.02232303097844124,-0.03153831511735916,0.026642555370926857,0.004907721187919378,0.02858022227883339],[0.023859195411205292,0.020145108923316002,0.004201922565698624,0.01965782605111599,-0.012146144174039364,0.007632036693394184,-0.11614087969064713,0.021724164485931396,0.030383789911866188,-0.06355747580528259,0.008209466002881527,0.10145516693592072],[0.0219679307192564,0.0016565397381782532,0.13256244361400604,0.36111685633659363,0.024796083569526672,0.005972638260573149,0.4389835298061371,0.027962684631347656,0.039375126361846924,-0.01565495692193508,-0.4023516774177551,0.2797141373157501],[0.18689894676208496,0.004269044380635023,0.13706167042255402,0.07909820973873138,0.15308986604213715,-0.1368296891450882,1.9770475625991821,0.07382243871688843,0.6733630299568176,3.4356391429901123,-0.011998675763607025,0.1434510499238968],[1.7295862436294556,0.4141678512096405,1.178146243095398,0.16343680024147034,0.033795181661844254,-0.0009720653179101646,0.685292661190033,-2.4509685039520264,0.014201330952346325,0.1577831357717514,1.2646194696426392,0.05787210538983345],[0.12018334120512009,0.16684484481811523,0.3910669982433319,0.30892524123191833,-0.08772378414869308,0.04597894102334976,0.2963554263114929,0.17108765244483948,0.20077811181545258,0.12295081466436386,-1.5689221620559692,0.1841469556093216]],\"type\":\"heatmap\",\"xaxis\":\"x2\",\"yaxis\":\"y2\",\"hovertemplate\":\"Head: %{x}<br>Layer: %{y}<br>Logit Contribution: %{z}<extra></extra>\"},{\"coloraxis\":\"coloraxis\",\"name\":\"2\",\"z\":[[0.0014858186477795243,-0.012826377525925636,-0.013797543942928314,0.011955934576690197,0.022742873057723045,0.008408153429627419,0.06015923246741295,-0.016940757632255554,0.02493295632302761,-0.030206074938178062,0.07238435745239258,0.038113873451948166],[0.015106797218322754,0.007229133974760771,0.014441977255046368,-0.005376794841140509,0.025579018518328667,-0.021394643932580948,0.0018259056378155947,0.02357485704123974,-0.00439324090257287,-0.017068717628717422,0.026138562709093094,0.015570479445159435],[0.018620459362864494,0.029679838567972183,0.0023600589483976364,0.029328662902116776,0.007317106705158949,-0.007655409164726734,-0.03570493683218956,-0.00526955584064126,0.016704795882105827,-0.011330573819577694,0.02026805281639099,-0.024472009390592575],[0.013763750903308392,-0.0060102068819105625,0.018531370908021927,0.011414400301873684,-0.0072966511361300945,0.012127483263611794,-0.0032805034425109625,-0.01102033443748951,0.01505765225738287,0.005724758841097355,-0.02281094901263714,0.03675910457968712],[0.004552229307591915,0.01836683228611946,0.0005040325340814888,-0.015689268708229065,-0.028989586979150772,-0.0006027505150996149,-0.0035904727410525084,-0.059257831424474716,0.008498125709593296,0.029323680326342583,0.003542837454006076,0.02826591208577156],[0.0031419917941093445,0.004280360881239176,0.0036218815948814154,0.007677887566387653,0.0029800981283187866,0.024249259382486343,0.011493903584778309,0.01035022921860218,0.004200385417789221,-0.032242465764284134,-0.022989114746451378,0.002575492952018976],[0.0029620726127177477,0.007699151523411274,-0.005513026844710112,-0.014598041772842407,0.0362606942653656,-0.011757509782910347,-0.023508626967668533,-0.017177065834403038,-0.020929580554366112,0.04352622479200363,0.012589131481945515,0.038277555257081985],[0.023207275196909904,0.02782660722732544,0.005126904230564833,-0.06131885200738907,-0.009473246522247791,0.04404887184500694,-0.1064709946513176,0.01960926316678524,0.039181191474199295,-0.2272123098373413,0.01762225665152073,0.1006951704621315],[0.013497251085937023,0.004983268212527037,0.1541292667388916,0.4224970042705536,0.025233978405594826,0.030580410733819008,0.542674720287323,0.01597628928720951,0.0603642538189888,0.0045045181177556515,-0.623990535736084,0.1263810247182846],[0.03193975239992142,0.011156211607158184,0.10862095654010773,0.08028946816921234,0.2005494087934494,-0.1667746901512146,0.3756093978881836,-0.009956425987184048,0.4327722489833832,0.23467843234539032,-0.020212499424815178,0.12256119400262833],[0.6514474749565125,0.13555848598480225,0.7985967993736267,0.2682834565639496,0.03873203322291374,-0.017770985141396523,0.24231652915477753,-0.2409893274307251,0.02568504773080349,0.20297043025493622,0.3708783686161041,0.05374464392662048],[0.11701925843954086,0.33240243792533875,0.9471575021743774,0.30863115191459656,-0.06964563578367233,0.046644143760204315,0.31446728110313416,0.21138004958629608,0.19643323123455048,0.1573629379272461,-0.4034615159034729,0.2298683226108551]],\"type\":\"heatmap\",\"xaxis\":\"x3\",\"yaxis\":\"y3\",\"hovertemplate\":\"Head: %{x}<br>Layer: %{y}<br>Logit Contribution: %{z}<extra></extra>\"},{\"coloraxis\":\"coloraxis\",\"name\":\"3\",\"z\":[[-0.0006737173534929752,-0.0010912768775597215,-0.0006400779820978642,-0.0007884874939918518,0.0009612580761313438,-0.0010511074215173721,-0.00108380988240242,0.00036223046481609344,0.00149637833237648,0.002195285400375724,0.0002159271389245987,-0.0006220834329724312],[-0.0014445735141634941,-0.0005830889567732811,-0.0005217746365815401,-0.0004475545138120651,-0.0011047832667827606,-0.0022769011557102203,0.002547384239733219,-3.657490015029907e-05,5.2442774176597595e-06,-0.0009556915611028671,0.0009467750787734985,-0.0004125884734094143],[-0.002751680091023445,-0.0007582237012684345,-0.0012518558651208878,0.0007954677566885948,-0.0008416622877120972,-0.0006168019026517868,-0.00014357082545757294,-0.00019872933626174927,0.0026307515799999237,0.0014380719512701035,-0.0010346770286560059,-0.0014969632029533386],[-0.0008458597585558891,0.0002878475934267044,-0.0007720291614532471,-0.0009858867852017283,0.0008560949936509132,-0.00022204220294952393,-0.0007468676194548607,0.002560768276453018,-0.0010731678921729326,0.0012568626552820206,0.0016596736386418343,-0.00048245303332805634],[0.0002119322307407856,-0.00010257493704557419,3.19918617606163e-05,0.00011635870032478124,-0.0001206560991704464,-0.0002482975833117962,-0.002237129956483841,0.0020000478252768517,0.00013718195259571075,0.0006456263363361359,0.0005344911478459835,-0.0008138101547956467],[-0.0006009824573993683,0.001166846603155136,0.0008609890937805176,8.256064029410481e-05,-0.001050785998813808,-0.001193867065012455,-0.00018433760851621628,0.000346548855304718,-0.000638903584331274,0.0005425289273262024,-0.00015341676771640778,-0.0020766500383615494],[-0.0008319830521941185,-9.688269346952438e-05,-0.0013706404715776443,0.00034553278237581253,0.00048655644059181213,0.0012804779689759016,0.00018486753106117249,-0.0004923832602798939,0.00045319367200136185,0.00018759630620479584,0.0007631587795913219,-0.0011879829689860344],[0.0006502464530058205,-8.655525743961334e-05,-0.000276947976090014,-0.004620879888534546,-0.0022372675593942404,0.0004542246460914612,0.0008294917643070221,-0.000241872388869524,-0.0002167103812098503,-0.0072905272245407104,0.001241542398929596,-0.0016932268626987934],[0.00012502819299697876,-0.00026215799152851105,-0.00012073293328285217,0.0011224523186683655,-0.0008612886304035783,-0.0020031891763210297,-0.004402056336402893,-0.0010914960876107216,-0.0004268437623977661,-0.0003765299916267395,-0.001827821135520935,-0.009759187698364258],[-0.008596181869506836,-0.00046932557597756386,-0.00553753599524498,-0.004686012864112854,0.0017628446221351624,0.0031582117080688477,-0.08562695980072021,-0.0021177753806114197,-0.0246877521276474,-0.25784826278686523,-0.0009623710066080093,-0.0026474744081497192],[0.3253747820854187,0.13445304334163666,0.22086875140666962,0.04820623993873596,0.0026741824112832546,0.0015826206654310226,0.16900917887687683,0.08714938163757324,-0.009154150262475014,0.005077719688415527,0.3184269070625305,0.01042906939983368],[-0.0024453087244182825,-0.007700055837631226,-0.14193764328956604,-0.003189980750903487,-0.002293454483151436,-0.008304869756102562,-0.04218708723783493,-0.002200007438659668,-0.0020182603038847446,0.004573807120323181,-0.14569592475891113,-0.005023397505283356]],\"type\":\"heatmap\",\"xaxis\":\"x4\",\"yaxis\":\"y4\",\"hovertemplate\":\"Head: %{x}<br>Layer: %{y}<br>Logit Contribution: %{z}<extra></extra>\"},{\"coloraxis\":\"coloraxis\",\"name\":\"4\",\"z\":[[-0.0001561320386826992,0.00043978169560432434,0.00020972639322280884,-0.0017830803990364075,-6.194505840539932e-05,-0.0015583857893943787,-0.00400407612323761,0.0006774300709366798,-0.0013024620711803436,0.002485979348421097,-0.002804633229970932,-0.0006573908030986786],[-0.0022837116848677397,-0.00026543810963630676,-0.0017658798024058342,-5.418434739112854e-06,-0.0017543949652463198,-0.0001452229917049408,0.0015819743275642395,-0.0005668550729751587,0.0005464411806315184,0.00025815924163907766,-0.0023665037006139755,-0.0017666760832071304],[-0.005400331690907478,-0.0014436952769756317,-0.0017956970259547234,-0.0010525770485401154,-0.00038906652480363846,-0.0005745524540543556,0.002624930813908577,8.444860577583313e-05,0.0029191961511969566,0.0015760809183120728,-0.0016117449849843979,0.0009121280163526535],[-0.001588558778166771,0.0007246248424053192,-0.0018072426319122314,-0.0014047352597117424,0.001378171145915985,-0.0003568418323993683,-0.0010076072067022324,0.0016839895397424698,-0.0016115624457597733,0.0016645854339003563,0.0027599986642599106,-0.0012823808938264847],[0.0004495084285736084,-0.0012486493214964867,0.0006893472746014595,0.0014724917709827423,0.0009702984243631363,-0.0005043074488639832,-0.0023739151656627655,0.006129324436187744,0.00016907183453440666,-0.0006156526505947113,0.0002329545095562935,-0.002168622799217701],[-0.00028850138187408447,0.000565696507692337,-0.00011322461068630219,-1.171603798866272e-05,-0.0004657902754843235,-0.0025603193789720535,-0.0010952458251267672,0.00033451616764068604,-0.0018038861453533173,0.0025284960865974426,0.0028039999306201935,-0.002298220992088318],[-0.0008660256862640381,-0.0003058239817619324,-0.0008632137905806303,0.001158952247351408,5.903467535972595e-05,0.0016919318586587906,5.309935659170151e-05,0.0013712141662836075,0.0018555670976638794,-0.002553725615143776,0.00046660052612423897,-0.0035798288881778717],[-0.0005737077444791794,-0.0015147943049669266,-0.0008639851585030556,-0.002076283097267151,-0.0015490613877773285,-0.0007713343948125839,0.007889784872531891,-0.0012405849993228912,-0.002244366332888603,0.005011044442653656,-0.00016844086349010468,-0.0078103020787239075],[7.650256156921387e-05,-0.000658214557915926,-0.007845818996429443,-0.02383112907409668,-0.0013172179460525513,-0.003105172421783209,-0.028017818927764893,-0.002793148159980774,-0.002184297889471054,-0.0006123790517449379,0.02945178747177124,-0.01731202006340027],[-0.008783802390098572,-0.0010602064430713654,-0.010513633489608765,-0.008434601128101349,-0.008518308401107788,0.011022478342056274,-0.10142099857330322,-0.0008498355746269226,-0.04211920499801636,-0.28714609146118164,-0.00015671271830797195,-0.008019104599952698],[0.35355496406555176,0.14585530757904053,0.4546316862106323,0.07006743550300598,0.00920136645436287,4.5583758037537336e-05,0.2111634612083435,0.08331871032714844,0.0015742192044854164,0.0159025639295578,0.36209964752197266,0.02959691919386387],[-0.009968392550945282,0.007335096597671509,-0.04334282875061035,-0.01568448543548584,-0.0025597810745239258,-0.0035182423889636993,-0.0375971794128418,0.002070322632789612,-0.015218064188957214,0.009412609040737152,-0.1435021162033081,-0.0020331740379333496]],\"type\":\"heatmap\",\"xaxis\":\"x5\",\"yaxis\":\"y5\",\"hovertemplate\":\"Head: %{x}<br>Layer: %{y}<br>Logit Contribution: %{z}<extra></extra>\"},{\"coloraxis\":\"coloraxis\",\"name\":\"5\",\"z\":[[0.0005175705882720649,0.0015310943126678467,0.000849810428917408,-0.0009945901110768318,-0.001023201271891594,-0.0005073202773928642,-0.0029202960431575775,0.0003151930868625641,-0.0027988534420728683,0.0002907048910856247,-0.003020547330379486,-3.5274773836135864e-05],[-0.0008391216397285461,0.0003176862373948097,-0.001244119368493557,0.0004421807825565338,-0.0006496012210845947,0.002131745219230652,-0.0009653931483626366,-0.0005302820354700089,0.0005411943420767784,0.0012138355523347855,-0.003313254565000534,-0.0013540899381041527],[-0.002648681402206421,-0.0006854552775621414,-0.0005438365042209625,-0.0018480326980352402,0.0004525887779891491,4.2251311242580414e-05,0.002768509089946747,0.0002831844612956047,0.00028841011226177216,0.00013801362365484238,-0.0005770605057477951,0.0024090446531772614],[-0.0007427055388689041,0.0004367819055914879,-0.001035178080201149,-0.0004188399761915207,0.0005220840685069561,-0.00013479869812726974,-0.0002607651986181736,-0.0008767833933234215,-0.0005383668467402458,0.0004077279008924961,0.001100301742553711,-0.0007999204099178314],[0.00023757433518767357,-0.0011460576206445694,0.0006573625141754746,0.0013561360538005829,0.0010909531265497208,-0.0002560079446993768,-0.00013681570999324322,0.004129286855459213,3.1886622309684753e-05,-0.001261269673705101,-0.00030153989791870117,-0.0013548079878091812],[0.0003124766517430544,-0.0006011561490595341,-0.0009742153342813253,-9.427638724446297e-05,0.0005849816370755434,-0.001366451382637024,-0.0009109051898121834,-1.2038275599479675e-05,-0.0011649923399090767,0.0019859932363033295,0.002957398071885109,-0.0002215795684605837],[-3.403611481189728e-05,-0.00020894315093755722,0.0005074134096503258,0.0008134394884109497,-0.0004275217652320862,0.00041144900023937225,-0.00013178959488868713,0.0018636174499988556,0.001402348279953003,-0.0027413219213485718,-0.0002965601161122322,-0.0023918598890304565],[-0.0012239664793014526,-0.001428229734301567,-0.0005870386958122253,0.002544581890106201,0.0006882008165121078,-0.0012255758047103882,0.007060311734676361,-0.0009987130761146545,-0.0020276494324207306,0.012301519513130188,-0.0014099888503551483,-0.006117120385169983],[-4.8537738621234894e-05,-0.0003960547037422657,-0.007725119590759277,-0.024953633546829224,-0.00045587122440338135,-0.0011019278317689896,-0.023615717887878418,-0.0017016567289829254,-0.0017574243247509003,-0.000235849991440773,0.03127974271774292,-0.007552832365036011],[-0.00018763914704322815,-0.000590890645980835,-0.004976056516170502,-0.003748692572116852,-0.010281205177307129,0.007864207029342651,-0.01579451560974121,0.001267935149371624,-0.01743146777153015,-0.02929656207561493,0.0008056610822677612,-0.0053716376423835754],[0.02817988395690918,0.011402294039726257,0.23376303911209106,0.021861165761947632,0.006527218967676163,-0.0015370100736618042,0.042154356837272644,-0.003830164670944214,0.010728362016379833,0.010824844241142273,0.04367285966873169,0.019167840480804443],[-0.0075231194496154785,0.015035033226013184,0.0985947847366333,-0.012494474649429321,-0.0002663061022758484,0.004786640405654907,0.0045899152755737305,0.004270315170288086,-0.013199791312217712,0.004838824272155762,0.0021940767765045166,0.0029902905225753784]],\"type\":\"heatmap\",\"xaxis\":\"x6\",\"yaxis\":\"y6\",\"hovertemplate\":\"Head: %{x}<br>Layer: %{y}<br>Logit Contribution: %{z}<extra></extra>\"}],                        {\"template\":{\"data\":{\"histogram2dcontour\":[{\"type\":\"histogram2dcontour\",\"colorbar\":{\"outlinewidth\":0,\"ticks\":\"\"},\"colorscale\":[[0.0,\"#0d0887\"],[0.1111111111111111,\"#46039f\"],[0.2222222222222222,\"#7201a8\"],[0.3333333333333333,\"#9c179e\"],[0.4444444444444444,\"#bd3786\"],[0.5555555555555556,\"#d8576b\"],[0.6666666666666666,\"#ed7953\"],[0.7777777777777778,\"#fb9f3a\"],[0.8888888888888888,\"#fdca26\"],[1.0,\"#f0f921\"]]}],\"choropleth\":[{\"type\":\"choropleth\",\"colorbar\":{\"outlinewidth\":0,\"ticks\":\"\"}}],\"histogram2d\":[{\"type\":\"histogram2d\",\"colorbar\":{\"outlinewidth\":0,\"ticks\":\"\"},\"colorscale\":[[0.0,\"#0d0887\"],[0.1111111111111111,\"#46039f\"],[0.2222222222222222,\"#7201a8\"],[0.3333333333333333,\"#9c179e\"],[0.4444444444444444,\"#bd3786\"],[0.5555555555555556,\"#d8576b\"],[0.6666666666666666,\"#ed7953\"],[0.7777777777777778,\"#fb9f3a\"],[0.8888888888888888,\"#fdca26\"],[1.0,\"#f0f921\"]]}],\"heatmap\":[{\"type\":\"heatmap\",\"colorbar\":{\"outlinewidth\":0,\"ticks\":\"\"},\"colorscale\":[[0.0,\"#0d0887\"],[0.1111111111111111,\"#46039f\"],[0.2222222222222222,\"#7201a8\"],[0.3333333333333333,\"#9c179e\"],[0.4444444444444444,\"#bd3786\"],[0.5555555555555556,\"#d8576b\"],[0.6666666666666666,\"#ed7953\"],[0.7777777777777778,\"#fb9f3a\"],[0.8888888888888888,\"#fdca26\"],[1.0,\"#f0f921\"]]}],\"heatmapgl\":[{\"type\":\"heatmapgl\",\"colorbar\":{\"outlinewidth\":0,\"ticks\":\"\"},\"colorscale\":[[0.0,\"#0d0887\"],[0.1111111111111111,\"#46039f\"],[0.2222222222222222,\"#7201a8\"],[0.3333333333333333,\"#9c179e\"],[0.4444444444444444,\"#bd3786\"],[0.5555555555555556,\"#d8576b\"],[0.6666666666666666,\"#ed7953\"],[0.7777777777777778,\"#fb9f3a\"],[0.8888888888888888,\"#fdca26\"],[1.0,\"#f0f921\"]]}],\"contourcarpet\":[{\"type\":\"contourcarpet\",\"colorbar\":{\"outlinewidth\":0,\"ticks\":\"\"}}],\"contour\":[{\"type\":\"contour\",\"colorbar\":{\"outlinewidth\":0,\"ticks\":\"\"},\"colorscale\":[[0.0,\"#0d0887\"],[0.1111111111111111,\"#46039f\"],[0.2222222222222222,\"#7201a8\"],[0.3333333333333333,\"#9c179e\"],[0.4444444444444444,\"#bd3786\"],[0.5555555555555556,\"#d8576b\"],[0.6666666666666666,\"#ed7953\"],[0.7777777777777778,\"#fb9f3a\"],[0.8888888888888888,\"#fdca26\"],[1.0,\"#f0f921\"]]}],\"surface\":[{\"type\":\"surface\",\"colorbar\":{\"outlinewidth\":0,\"ticks\":\"\"},\"colorscale\":[[0.0,\"#0d0887\"],[0.1111111111111111,\"#46039f\"],[0.2222222222222222,\"#7201a8\"],[0.3333333333333333,\"#9c179e\"],[0.4444444444444444,\"#bd3786\"],[0.5555555555555556,\"#d8576b\"],[0.6666666666666666,\"#ed7953\"],[0.7777777777777778,\"#fb9f3a\"],[0.8888888888888888,\"#fdca26\"],[1.0,\"#f0f921\"]]}],\"mesh3d\":[{\"type\":\"mesh3d\",\"colorbar\":{\"outlinewidth\":0,\"ticks\":\"\"}}],\"scatter\":[{\"fillpattern\":{\"fillmode\":\"overlay\",\"size\":10,\"solidity\":0.2},\"type\":\"scatter\"}],\"parcoords\":[{\"type\":\"parcoords\",\"line\":{\"colorbar\":{\"outlinewidth\":0,\"ticks\":\"\"}}}],\"scatterpolargl\":[{\"type\":\"scatterpolargl\",\"marker\":{\"colorbar\":{\"outlinewidth\":0,\"ticks\":\"\"}}}],\"bar\":[{\"error_x\":{\"color\":\"#2a3f5f\"},\"error_y\":{\"color\":\"#2a3f5f\"},\"marker\":{\"line\":{\"color\":\"#E5ECF6\",\"width\":0.5},\"pattern\":{\"fillmode\":\"overlay\",\"size\":10,\"solidity\":0.2}},\"type\":\"bar\"}],\"scattergeo\":[{\"type\":\"scattergeo\",\"marker\":{\"colorbar\":{\"outlinewidth\":0,\"ticks\":\"\"}}}],\"scatterpolar\":[{\"type\":\"scatterpolar\",\"marker\":{\"colorbar\":{\"outlinewidth\":0,\"ticks\":\"\"}}}],\"histogram\":[{\"marker\":{\"pattern\":{\"fillmode\":\"overlay\",\"size\":10,\"solidity\":0.2}},\"type\":\"histogram\"}],\"scattergl\":[{\"type\":\"scattergl\",\"marker\":{\"colorbar\":{\"outlinewidth\":0,\"ticks\":\"\"}}}],\"scatter3d\":[{\"type\":\"scatter3d\",\"line\":{\"colorbar\":{\"outlinewidth\":0,\"ticks\":\"\"}},\"marker\":{\"colorbar\":{\"outlinewidth\":0,\"ticks\":\"\"}}}],\"scattermapbox\":[{\"type\":\"scattermapbox\",\"marker\":{\"colorbar\":{\"outlinewidth\":0,\"ticks\":\"\"}}}],\"scatterternary\":[{\"type\":\"scatterternary\",\"marker\":{\"colorbar\":{\"outlinewidth\":0,\"ticks\":\"\"}}}],\"scattercarpet\":[{\"type\":\"scattercarpet\",\"marker\":{\"colorbar\":{\"outlinewidth\":0,\"ticks\":\"\"}}}],\"carpet\":[{\"aaxis\":{\"endlinecolor\":\"#2a3f5f\",\"gridcolor\":\"white\",\"linecolor\":\"white\",\"minorgridcolor\":\"white\",\"startlinecolor\":\"#2a3f5f\"},\"baxis\":{\"endlinecolor\":\"#2a3f5f\",\"gridcolor\":\"white\",\"linecolor\":\"white\",\"minorgridcolor\":\"white\",\"startlinecolor\":\"#2a3f5f\"},\"type\":\"carpet\"}],\"table\":[{\"cells\":{\"fill\":{\"color\":\"#EBF0F8\"},\"line\":{\"color\":\"white\"}},\"header\":{\"fill\":{\"color\":\"#C8D4E3\"},\"line\":{\"color\":\"white\"}},\"type\":\"table\"}],\"barpolar\":[{\"marker\":{\"line\":{\"color\":\"#E5ECF6\",\"width\":0.5},\"pattern\":{\"fillmode\":\"overlay\",\"size\":10,\"solidity\":0.2}},\"type\":\"barpolar\"}],\"pie\":[{\"automargin\":true,\"type\":\"pie\"}]},\"layout\":{\"autotypenumbers\":\"strict\",\"colorway\":[\"#636efa\",\"#EF553B\",\"#00cc96\",\"#ab63fa\",\"#FFA15A\",\"#19d3f3\",\"#FF6692\",\"#B6E880\",\"#FF97FF\",\"#FECB52\"],\"font\":{\"color\":\"#2a3f5f\"},\"hovermode\":\"closest\",\"hoverlabel\":{\"align\":\"left\"},\"paper_bgcolor\":\"white\",\"plot_bgcolor\":\"#E5ECF6\",\"polar\":{\"bgcolor\":\"#E5ECF6\",\"angularaxis\":{\"gridcolor\":\"white\",\"linecolor\":\"white\",\"ticks\":\"\"},\"radialaxis\":{\"gridcolor\":\"white\",\"linecolor\":\"white\",\"ticks\":\"\"}},\"ternary\":{\"bgcolor\":\"#E5ECF6\",\"aaxis\":{\"gridcolor\":\"white\",\"linecolor\":\"white\",\"ticks\":\"\"},\"baxis\":{\"gridcolor\":\"white\",\"linecolor\":\"white\",\"ticks\":\"\"},\"caxis\":{\"gridcolor\":\"white\",\"linecolor\":\"white\",\"ticks\":\"\"}},\"coloraxis\":{\"colorbar\":{\"outlinewidth\":0,\"ticks\":\"\"}},\"colorscale\":{\"sequential\":[[0.0,\"#0d0887\"],[0.1111111111111111,\"#46039f\"],[0.2222222222222222,\"#7201a8\"],[0.3333333333333333,\"#9c179e\"],[0.4444444444444444,\"#bd3786\"],[0.5555555555555556,\"#d8576b\"],[0.6666666666666666,\"#ed7953\"],[0.7777777777777778,\"#fb9f3a\"],[0.8888888888888888,\"#fdca26\"],[1.0,\"#f0f921\"]],\"sequentialminus\":[[0.0,\"#0d0887\"],[0.1111111111111111,\"#46039f\"],[0.2222222222222222,\"#7201a8\"],[0.3333333333333333,\"#9c179e\"],[0.4444444444444444,\"#bd3786\"],[0.5555555555555556,\"#d8576b\"],[0.6666666666666666,\"#ed7953\"],[0.7777777777777778,\"#fb9f3a\"],[0.8888888888888888,\"#fdca26\"],[1.0,\"#f0f921\"]],\"diverging\":[[0,\"#8e0152\"],[0.1,\"#c51b7d\"],[0.2,\"#de77ae\"],[0.3,\"#f1b6da\"],[0.4,\"#fde0ef\"],[0.5,\"#f7f7f7\"],[0.6,\"#e6f5d0\"],[0.7,\"#b8e186\"],[0.8,\"#7fbc41\"],[0.9,\"#4d9221\"],[1,\"#276419\"]]},\"xaxis\":{\"gridcolor\":\"white\",\"linecolor\":\"white\",\"ticks\":\"\",\"title\":{\"standoff\":15},\"zerolinecolor\":\"white\",\"automargin\":true,\"zerolinewidth\":2},\"yaxis\":{\"gridcolor\":\"white\",\"linecolor\":\"white\",\"ticks\":\"\",\"title\":{\"standoff\":15},\"zerolinecolor\":\"white\",\"automargin\":true,\"zerolinewidth\":2},\"scene\":{\"xaxis\":{\"backgroundcolor\":\"#E5ECF6\",\"gridcolor\":\"white\",\"linecolor\":\"white\",\"showbackground\":true,\"ticks\":\"\",\"zerolinecolor\":\"white\",\"gridwidth\":2},\"yaxis\":{\"backgroundcolor\":\"#E5ECF6\",\"gridcolor\":\"white\",\"linecolor\":\"white\",\"showbackground\":true,\"ticks\":\"\",\"zerolinecolor\":\"white\",\"gridwidth\":2},\"zaxis\":{\"backgroundcolor\":\"#E5ECF6\",\"gridcolor\":\"white\",\"linecolor\":\"white\",\"showbackground\":true,\"ticks\":\"\",\"zerolinecolor\":\"white\",\"gridwidth\":2}},\"shapedefaults\":{\"line\":{\"color\":\"#2a3f5f\"}},\"annotationdefaults\":{\"arrowcolor\":\"#2a3f5f\",\"arrowhead\":0,\"arrowwidth\":1},\"geo\":{\"bgcolor\":\"white\",\"landcolor\":\"#E5ECF6\",\"subunitcolor\":\"white\",\"showland\":true,\"showlakes\":true,\"lakecolor\":\"white\"},\"title\":{\"x\":0.05},\"mapbox\":{\"style\":\"light\"}}},\"xaxis\":{\"anchor\":\"y\",\"domain\":[0.0,0.15],\"scaleanchor\":\"y\",\"constrain\":\"domain\",\"title\":{\"text\":\"Head\"},\"showline\":true,\"linewidth\":1,\"linecolor\":\"black\",\"mirror\":true},\"yaxis\":{\"anchor\":\"x\",\"domain\":[0.0,1.0],\"autorange\":\"reversed\",\"constrain\":\"domain\",\"title\":{\"text\":\"Layer\"},\"showline\":true,\"linewidth\":1,\"linecolor\":\"black\",\"mirror\":true},\"xaxis2\":{\"anchor\":\"y2\",\"domain\":[0.16999999999999998,0.31999999999999995],\"matches\":\"x\",\"title\":{\"text\":\"Head\"},\"showline\":true,\"linewidth\":1,\"linecolor\":\"black\",\"mirror\":true},\"yaxis2\":{\"anchor\":\"x2\",\"domain\":[0.0,1.0],\"matches\":\"y\",\"showticklabels\":false,\"showline\":true,\"linewidth\":1,\"linecolor\":\"black\",\"mirror\":true},\"xaxis3\":{\"anchor\":\"y3\",\"domain\":[0.33999999999999997,0.49],\"matches\":\"x\",\"title\":{\"text\":\"Head\"},\"showline\":true,\"linewidth\":1,\"linecolor\":\"black\",\"mirror\":true},\"yaxis3\":{\"anchor\":\"x3\",\"domain\":[0.0,1.0],\"matches\":\"y\",\"showticklabels\":false,\"showline\":true,\"linewidth\":1,\"linecolor\":\"black\",\"mirror\":true},\"xaxis4\":{\"anchor\":\"y4\",\"domain\":[0.51,0.66],\"matches\":\"x\",\"title\":{\"text\":\"Head\"},\"showline\":true,\"linewidth\":1,\"linecolor\":\"black\",\"mirror\":true},\"yaxis4\":{\"anchor\":\"x4\",\"domain\":[0.0,1.0],\"matches\":\"y\",\"showticklabels\":false,\"showline\":true,\"linewidth\":1,\"linecolor\":\"black\",\"mirror\":true},\"xaxis5\":{\"anchor\":\"y5\",\"domain\":[0.6799999999999999,0.83],\"matches\":\"x\",\"title\":{\"text\":\"Head\"},\"showline\":true,\"linewidth\":1,\"linecolor\":\"black\",\"mirror\":true},\"yaxis5\":{\"anchor\":\"x5\",\"domain\":[0.0,1.0],\"matches\":\"y\",\"showticklabels\":false,\"showline\":true,\"linewidth\":1,\"linecolor\":\"black\",\"mirror\":true},\"xaxis6\":{\"anchor\":\"y6\",\"domain\":[0.85,1.0],\"matches\":\"x\",\"title\":{\"text\":\"Head\"},\"showline\":true,\"linewidth\":1,\"linecolor\":\"black\",\"mirror\":true},\"yaxis6\":{\"anchor\":\"x6\",\"domain\":[0.0,1.0],\"matches\":\"y\",\"showticklabels\":false,\"showline\":true,\"linewidth\":1,\"linecolor\":\"black\",\"mirror\":true},\"annotations\":[{\"font\":{},\"showarrow\":false,\"text\":\"Logit Diff - 4.48\",\"x\":0.075,\"xanchor\":\"center\",\"xref\":\"paper\",\"y\":1.0,\"yanchor\":\"bottom\",\"yref\":\"paper\"},{\"font\":{},\"showarrow\":false,\"text\":\"Correct Direction\",\"x\":0.24499999999999997,\"xanchor\":\"center\",\"xref\":\"paper\",\"y\":1.0,\"yanchor\":\"bottom\",\"yref\":\"paper\"},{\"font\":{},\"showarrow\":false,\"text\":\"Incorrect Direction\",\"x\":0.415,\"xanchor\":\"center\",\"xref\":\"paper\",\"y\":1.0,\"yanchor\":\"bottom\",\"yref\":\"paper\"},{\"font\":{},\"showarrow\":false,\"text\":\"Logit Diff Diff\",\"x\":0.585,\"xanchor\":\"center\",\"xref\":\"paper\",\"y\":1.0,\"yanchor\":\"bottom\",\"yref\":\"paper\"},{\"font\":{},\"showarrow\":false,\"text\":\"Correction Direction Diff\",\"x\":0.7549999999999999,\"xanchor\":\"center\",\"xref\":\"paper\",\"y\":1.0,\"yanchor\":\"bottom\",\"yref\":\"paper\"},{\"font\":{},\"showarrow\":false,\"text\":\"Incorrect Direction Diff\",\"x\":0.925,\"xanchor\":\"center\",\"xref\":\"paper\",\"y\":1.0,\"yanchor\":\"bottom\",\"yref\":\"paper\"}],\"coloraxis\":{\"colorbar\":{\"title\":{\"text\":\"Logit Contribution\"}},\"colorscale\":[[0.0,\"rgb(103,0,31)\"],[0.1,\"rgb(178,24,43)\"],[0.2,\"rgb(214,96,77)\"],[0.3,\"rgb(244,165,130)\"],[0.4,\"rgb(253,219,199)\"],[0.5,\"rgb(247,247,247)\"],[0.6,\"rgb(209,229,240)\"],[0.7,\"rgb(146,197,222)\"],[0.8,\"rgb(67,147,195)\"],[0.9,\"rgb(33,102,172)\"],[1.0,\"rgb(5,48,97)\"]],\"cmid\":0.0},\"title\":{\"text\":\"Projecting away IO direction in heads [(9, 9)]\"},\"width\":1500,\"margin\":{\"r\":100,\"l\":100}},                        {\"responsive\": true}                    ).then(function(){\n",
              "                            \n",
              "var gd = document.getElementById('571f988f-510c-4410-967e-82b4796fdf7d');\n",
              "var x = new MutationObserver(function (mutations, observer) {{\n",
              "        var display = window.getComputedStyle(gd).display;\n",
              "        if (!display || display === 'none') {{\n",
              "            console.log([gd, 'removed!']);\n",
              "            Plotly.purge(gd);\n",
              "            observer.disconnect();\n",
              "        }}\n",
              "}});\n",
              "\n",
              "// Listen for the removal of the full notebook cells\n",
              "var notebookContainer = gd.closest('#notebook-container');\n",
              "if (notebookContainer) {{\n",
              "    x.observe(notebookContainer, {childList: true});\n",
              "}}\n",
              "\n",
              "// Listen for the clearing of the current output cell\n",
              "var outputEl = gd.closest('.output');\n",
              "if (outputEl) {{\n",
              "    x.observe(outputEl, {childList: true});\n",
              "}}\n",
              "\n",
              "                        })                };                            </script>        </div>\n",
              "</body>\n",
              "</html>"
            ]
          },
          "metadata": {}
        }
      ],
      "source": [
        "repeated_trained_vector = einops.repeat(learned_vectors[2], \"d_model -> batch d_model\", batch = nine_nine_output.shape[0])\n",
        "\n",
        "project_stuff_on_heads([(9,9)], repeated_trained_vector, project_only = False, scale_proj = 1, output = \"display_logits\", freeze_ln=False)"
      ]
    },
    {
      "cell_type": "code",
      "execution_count": null,
      "metadata": {
        "colab": {
          "base_uri": "https://localhost:8080/",
          "height": 542
        },
        "id": "_tx551ABXk__",
        "outputId": "0a5d59b6-a1a7-4fc2-8633-38992b767d20"
      },
      "outputs": [
        {
          "output_type": "display_data",
          "data": {
            "text/html": [
              "<html>\n",
              "<head><meta charset=\"utf-8\" /></head>\n",
              "<body>\n",
              "    <div>            <script src=\"https://cdnjs.cloudflare.com/ajax/libs/mathjax/2.7.5/MathJax.js?config=TeX-AMS-MML_SVG\"></script><script type=\"text/javascript\">if (window.MathJax && window.MathJax.Hub && window.MathJax.Hub.Config) {window.MathJax.Hub.Config({SVG: {font: \"STIX-Web\"}});}</script>                <script type=\"text/javascript\">window.PlotlyConfig = {MathJaxConfig: 'local'};</script>\n",
              "        <script src=\"https://cdn.plot.ly/plotly-2.18.2.min.js\"></script>                <div id=\"789698f4-59e0-4544-8ba5-99facd9c7265\" class=\"plotly-graph-div\" style=\"height:525px; width:1000px;\"></div>            <script type=\"text/javascript\">                                    window.PLOTLYENV=window.PLOTLYENV || {};                                    if (document.getElementById(\"789698f4-59e0-4544-8ba5-99facd9c7265\")) {                    Plotly.newPlot(                        \"789698f4-59e0-4544-8ba5-99facd9c7265\",                        [{\"coloraxis\":\"coloraxis\",\"name\":\"0\",\"z\":[[-0.006265619304031134,-0.00021305233531165868,0.005125680007040501,0.0167399775236845,-0.012596549466252327,-0.021010950207710266,-0.041528549045324326,0.026647809892892838,0.022329416126012802,-0.004315663129091263,-0.029621845111250877,-0.01070734765380621],[-0.010173472575843334,0.004971836693584919,-0.0017350390553474426,0.026505453512072563,-0.025581439957022667,-0.03852642700076103,-0.014547884464263916,0.02820485271513462,0.008505120873451233,0.020084068179130554,-0.020370589569211006,0.00334763596765697],[0.015319808386266232,-0.007823845371603966,0.010577612556517124,-0.009824223816394806,-0.012920799665153027,0.014741368591785431,0.004752058535814285,-0.018692055717110634,-0.034115809947252274,-0.029779521748423576,-0.03891752287745476,0.03399347886443138],[0.011805626563727856,0.004827279597520828,0.0077691227197647095,0.0010573130566626787,-0.011025682091712952,-0.008440698496997356,-0.009103461168706417,-0.012134198099374771,0.0005523558938875794,-0.01511528342962265,0.010993845760822296,-0.024850895628333092],[0.003492560936138034,-0.0052433498203754425,-0.008607358671724796,-7.075220491969958e-05,-0.000940510246437043,-0.006229425314813852,0.03913211077451706,0.010114097036421299,-0.014917204156517982,-0.013964283280074596,0.002329257084056735,-0.01957157626748085],[0.016814062371850014,0.014702794142067432,-0.028786981478333473,0.0003229849098715931,0.002568088239058852,0.005458369385451078,-0.009126069955527782,-0.03602169454097748,0.008446498773992062,-0.037900470197200775,-0.009867817163467407,0.029046637937426567],[0.010395332239568233,-0.008694358170032501,0.010323992930352688,0.009110038168728352,-0.044107407331466675,0.0014147087931632996,0.0328819565474987,-0.005060314666479826,-0.01106996275484562,-0.017329256981611252,-0.008570424281060696,-0.008510171435773373],[-6.774962093913928e-05,-0.007720659952610731,-0.0006335211801342666,0.08594468981027603,-3.7153811717871577e-05,-0.03732290491461754,-0.010682386346161366,0.0023853317834436893,-0.008685555309057236,0.17332176864147186,-0.01096268929541111,0.002370005240663886],[0.00855863094329834,-0.0031214000191539526,-0.021809836849570274,-0.06446797400712967,0.0005134404054842889,-0.02281627058982849,-0.10067936033010483,0.013182017020881176,-0.02084409072995186,-0.019871924072504044,0.22686056792736053,0.1659778207540512],[0.16659009456634521,-0.006429112050682306,0.03535839542746544,0.0035274983383715153,-0.0500565767288208,0.027187863364815712,0.07868912070989609,0.08683615177869797,0.272551029920578,3.5115349292755127,0.009221005253493786,0.023699918761849403],[1.322121024131775,0.2777116298675537,0.30363431572914124,-0.13496610522270203,-0.005410776939243078,0.016239887103438377,0.5103381872177124,-1.616282343864441,-0.002190513303503394,-0.04700982943177223,0.9151930809020996,-0.004975235555320978],[0.003170449985191226,-0.1551300287246704,-0.38552579283714294,0.01581520587205887,-0.016648873686790466,0.009957119822502136,0.0373193621635437,-0.03711579367518425,0.012623491697013378,-0.01524787675589323,-1.1661491394042969,-0.03430464491248131]],\"type\":\"heatmap\",\"xaxis\":\"x\",\"yaxis\":\"y\",\"hovertemplate\":\"Head: %{x}<br>Layer: %{y}<br>Logit Contribution: %{z}<extra></extra>\"},{\"coloraxis\":\"coloraxis\",\"name\":\"1\",\"z\":[[-0.00614745682105422,-7.330253720283508e-05,0.005045554134994745,0.016563093289732933,-0.012541281059384346,-0.020631667226552963,-0.04110113903880119,0.026432102546095848,0.02253260649740696,-0.0046966285444796085,-0.0293093454092741,-0.010590746998786926],[-0.009919439442455769,0.00486426567658782,-0.0017682493198662996,0.02590922825038433,-0.025239968672394753,-0.038114093244075775,-0.014191994443535805,0.027914388105273247,0.008367609232664108,0.019775724038481712,-0.020211605355143547,0.0027966226916760206],[0.014858873561024666,-0.007676670793443918,0.010372367687523365,-0.009651636704802513,-0.012943548150360584,0.01459167618304491,0.004636650439351797,-0.018565108999609947,-0.0340128168463707,-0.029141917824745178,-0.03839431330561638,0.03358617052435875],[0.011631404981017113,0.0048478576354682446,0.007655127439647913,0.0008706736261956394,-0.010886580683290958,-0.008321158587932587,-0.008899308741092682,-0.011701188050210476,0.0004483044322114438,-0.014960325323045254,0.010864163748919964,-0.024497685953974724],[0.0034963947255164385,-0.0053210146725177765,-0.008478851988911629,1.2792646884918213e-05,-0.0010231699561700225,-0.006151875015348196,0.03880295902490616,0.010345312766730785,-0.014639302156865597,-0.013784206472337246,0.0023708483204245567,-0.019361380487680435],[0.01651163212954998,0.014736339449882507,-0.028221851214766502,0.0003483477921690792,0.0025519945193082094,0.0054216706193983555,-0.009057446382939816,-0.035740699619054794,0.008356835693120956,-0.03743206337094307,-0.009646588936448097,0.028581464663147926],[0.01018592156469822,-0.008550755679607391,0.010095476172864437,0.009066494181752205,-0.043547630310058594,0.0013599051162600517,0.032626207917928696,-0.004653585143387318,-0.011061948724091053,-0.01707126572728157,-0.008444569073617458,-0.008509362116456032],[1.6704201470929547e-06,-0.007594942580908537,-0.0006480347365140915,0.08559756726026535,-0.00043563172221183777,-0.03687107190489769,-0.010499358177185059,0.0023567762691527605,-0.008580693043768406,0.17094533145427704,-0.010654342360794544,0.0024532091338187456],[0.008345633745193481,-0.00306456396356225,-0.021446088328957558,-0.06250263005495071,0.00042341501102782786,-0.022604549303650856,-0.09928908199071884,0.013077884912490845,-0.02056228742003441,-0.01978294551372528,0.22346678376197815,0.16309231519699097],[0.16355536878108978,-0.006417848169803619,0.03397826477885246,0.0034946890082210302,-0.049222420901060104,0.026786774396896362,1.68706476688385,0.08589662611484528,0.26527851819992065,3.4588096141815186,0.009176189079880714,0.023537306115031242],[0.7527638077735901,0.1441563218832016,0.15868090093135834,-0.1530528962612152,-0.007611023727804422,0.01521633006632328,0.27396702766418457,-2.297128200531006,-0.0023295662831515074,-0.05026501417160034,0.5753141641616821,-0.006301615387201309],[0.005609363317489624,-0.15785756707191467,-0.41415277123451233,0.003484089393168688,-0.015784669667482376,0.007639676332473755,0.02407526969909668,-0.03809242323040962,0.00636312598362565,-0.03898591920733452,-1.0197645425796509,-0.04069795086979866]],\"type\":\"heatmap\",\"xaxis\":\"x2\",\"yaxis\":\"y2\",\"hovertemplate\":\"Head: %{x}<br>Layer: %{y}<br>Logit Contribution: %{z}<extra></extra>\"},{\"coloraxis\":\"coloraxis\",\"name\":\"2\",\"z\":[[-0.00011816248297691345,-0.0001397497981088236,8.012587204575539e-05,0.0001768842339515686,-5.526840686798096e-05,-0.00037928298115730286,-0.0004274100065231323,0.00021570734679698944,-0.0002031903713941574,0.0003809654153883457,-0.0003124997019767761,-0.0001166006550192833],[-0.0002540331333875656,0.00010757101699709892,3.3210264518857e-05,0.0005962252616882324,-0.00034147128462791443,-0.00041233375668525696,-0.00035589002072811127,0.0002904646098613739,0.00013751164078712463,0.00030834414064884186,-0.0001589842140674591,0.0005510132759809494],[0.0004609348252415657,-0.00014717457816004753,0.00020524486899375916,-0.00017258711159229279,2.2748485207557678e-05,0.00014969240874052048,0.00011540809646248817,-0.00012694671750068665,-0.00010299310088157654,-0.0006376039236783981,-0.0005232095718383789,0.00040730834007263184],[0.00017422158271074295,-2.0578037947416306e-05,0.0001139952801167965,0.00018663943046703935,-0.00013910140842199326,-0.00011953990906476974,-0.0002041524276137352,-0.0004330100491642952,0.00010405146167613566,-0.0001549581065773964,0.0001296820119023323,-0.0003532096743583679],[-3.833789378404617e-06,7.766485214233398e-05,-0.00012850668281316757,-8.354485180461779e-05,8.265970973297954e-05,-7.755029946565628e-05,0.0003291517496109009,-0.0002312157303094864,-0.0002779019996523857,-0.00018007680773735046,-4.1591236367821693e-05,-0.00021019577980041504],[0.00030243024230003357,-3.354530781507492e-05,-0.0005651302635669708,-2.5362882297486067e-05,1.6093719750642776e-05,3.669876605272293e-05,-6.862357258796692e-05,-0.0002809949219226837,8.96630808711052e-05,-0.0004684068262577057,-0.00022122822701931,0.00046517327427864075],[0.0002094106748700142,-0.00014360249042510986,0.00022851675748825073,4.35439869761467e-05,-0.0005597770214080811,5.480367690324783e-05,0.0002557486295700073,-0.0004067295230925083,-8.014030754566193e-06,-0.0002579912543296814,-0.0001258552074432373,-8.093193173408508e-07],[-6.942004256416112e-05,-0.00012571737170219421,1.4513556379824877e-05,0.00034712255001068115,0.0003984779177699238,-0.00045183300971984863,-0.00018302816897630692,2.855551429092884e-05,-0.0001048622652888298,0.0023764371871948242,-0.0003083469346165657,-8.320389315485954e-05],[0.0002129971981048584,-5.683605559170246e-05,-0.0003637485206127167,-0.001965343952178955,9.002539445646107e-05,-0.0002117212861776352,-0.0013902783393859863,0.00010413210839033127,-0.00028180330991744995,-8.897855877876282e-05,0.0033937841653823853,0.0028855055570602417],[0.003034725785255432,-1.1263880878686905e-05,0.001380130648612976,3.280933015048504e-05,-0.0008341558277606964,0.00040108896791934967,-1.6083756685256958,0.0009395256638526917,0.007272511720657349,0.05272531509399414,4.481617361307144e-05,0.000162612646818161],[0.5693572163581848,0.1335553079843521,0.1449534147977829,0.018086791038513184,0.002200246788561344,0.001023557037115097,0.23637115955352783,0.6808458566665649,0.00013905297964811325,0.0032551847398281097,0.3398789167404175,0.001326379831880331],[-0.002438913332298398,0.0027275383472442627,0.028626978397369385,0.012331116944551468,-0.0008642040193080902,0.0023174434900283813,0.013244092464447021,0.0009766295552253723,0.006260365713387728,0.023738041520118713,-0.146384596824646,0.006393305957317352]],\"type\":\"heatmap\",\"xaxis\":\"x3\",\"yaxis\":\"y3\",\"hovertemplate\":\"Head: %{x}<br>Layer: %{y}<br>Logit Contribution: %{z}<extra></extra>\"}],                        {\"template\":{\"data\":{\"histogram2dcontour\":[{\"type\":\"histogram2dcontour\",\"colorbar\":{\"outlinewidth\":0,\"ticks\":\"\"},\"colorscale\":[[0.0,\"#0d0887\"],[0.1111111111111111,\"#46039f\"],[0.2222222222222222,\"#7201a8\"],[0.3333333333333333,\"#9c179e\"],[0.4444444444444444,\"#bd3786\"],[0.5555555555555556,\"#d8576b\"],[0.6666666666666666,\"#ed7953\"],[0.7777777777777778,\"#fb9f3a\"],[0.8888888888888888,\"#fdca26\"],[1.0,\"#f0f921\"]]}],\"choropleth\":[{\"type\":\"choropleth\",\"colorbar\":{\"outlinewidth\":0,\"ticks\":\"\"}}],\"histogram2d\":[{\"type\":\"histogram2d\",\"colorbar\":{\"outlinewidth\":0,\"ticks\":\"\"},\"colorscale\":[[0.0,\"#0d0887\"],[0.1111111111111111,\"#46039f\"],[0.2222222222222222,\"#7201a8\"],[0.3333333333333333,\"#9c179e\"],[0.4444444444444444,\"#bd3786\"],[0.5555555555555556,\"#d8576b\"],[0.6666666666666666,\"#ed7953\"],[0.7777777777777778,\"#fb9f3a\"],[0.8888888888888888,\"#fdca26\"],[1.0,\"#f0f921\"]]}],\"heatmap\":[{\"type\":\"heatmap\",\"colorbar\":{\"outlinewidth\":0,\"ticks\":\"\"},\"colorscale\":[[0.0,\"#0d0887\"],[0.1111111111111111,\"#46039f\"],[0.2222222222222222,\"#7201a8\"],[0.3333333333333333,\"#9c179e\"],[0.4444444444444444,\"#bd3786\"],[0.5555555555555556,\"#d8576b\"],[0.6666666666666666,\"#ed7953\"],[0.7777777777777778,\"#fb9f3a\"],[0.8888888888888888,\"#fdca26\"],[1.0,\"#f0f921\"]]}],\"heatmapgl\":[{\"type\":\"heatmapgl\",\"colorbar\":{\"outlinewidth\":0,\"ticks\":\"\"},\"colorscale\":[[0.0,\"#0d0887\"],[0.1111111111111111,\"#46039f\"],[0.2222222222222222,\"#7201a8\"],[0.3333333333333333,\"#9c179e\"],[0.4444444444444444,\"#bd3786\"],[0.5555555555555556,\"#d8576b\"],[0.6666666666666666,\"#ed7953\"],[0.7777777777777778,\"#fb9f3a\"],[0.8888888888888888,\"#fdca26\"],[1.0,\"#f0f921\"]]}],\"contourcarpet\":[{\"type\":\"contourcarpet\",\"colorbar\":{\"outlinewidth\":0,\"ticks\":\"\"}}],\"contour\":[{\"type\":\"contour\",\"colorbar\":{\"outlinewidth\":0,\"ticks\":\"\"},\"colorscale\":[[0.0,\"#0d0887\"],[0.1111111111111111,\"#46039f\"],[0.2222222222222222,\"#7201a8\"],[0.3333333333333333,\"#9c179e\"],[0.4444444444444444,\"#bd3786\"],[0.5555555555555556,\"#d8576b\"],[0.6666666666666666,\"#ed7953\"],[0.7777777777777778,\"#fb9f3a\"],[0.8888888888888888,\"#fdca26\"],[1.0,\"#f0f921\"]]}],\"surface\":[{\"type\":\"surface\",\"colorbar\":{\"outlinewidth\":0,\"ticks\":\"\"},\"colorscale\":[[0.0,\"#0d0887\"],[0.1111111111111111,\"#46039f\"],[0.2222222222222222,\"#7201a8\"],[0.3333333333333333,\"#9c179e\"],[0.4444444444444444,\"#bd3786\"],[0.5555555555555556,\"#d8576b\"],[0.6666666666666666,\"#ed7953\"],[0.7777777777777778,\"#fb9f3a\"],[0.8888888888888888,\"#fdca26\"],[1.0,\"#f0f921\"]]}],\"mesh3d\":[{\"type\":\"mesh3d\",\"colorbar\":{\"outlinewidth\":0,\"ticks\":\"\"}}],\"scatter\":[{\"fillpattern\":{\"fillmode\":\"overlay\",\"size\":10,\"solidity\":0.2},\"type\":\"scatter\"}],\"parcoords\":[{\"type\":\"parcoords\",\"line\":{\"colorbar\":{\"outlinewidth\":0,\"ticks\":\"\"}}}],\"scatterpolargl\":[{\"type\":\"scatterpolargl\",\"marker\":{\"colorbar\":{\"outlinewidth\":0,\"ticks\":\"\"}}}],\"bar\":[{\"error_x\":{\"color\":\"#2a3f5f\"},\"error_y\":{\"color\":\"#2a3f5f\"},\"marker\":{\"line\":{\"color\":\"#E5ECF6\",\"width\":0.5},\"pattern\":{\"fillmode\":\"overlay\",\"size\":10,\"solidity\":0.2}},\"type\":\"bar\"}],\"scattergeo\":[{\"type\":\"scattergeo\",\"marker\":{\"colorbar\":{\"outlinewidth\":0,\"ticks\":\"\"}}}],\"scatterpolar\":[{\"type\":\"scatterpolar\",\"marker\":{\"colorbar\":{\"outlinewidth\":0,\"ticks\":\"\"}}}],\"histogram\":[{\"marker\":{\"pattern\":{\"fillmode\":\"overlay\",\"size\":10,\"solidity\":0.2}},\"type\":\"histogram\"}],\"scattergl\":[{\"type\":\"scattergl\",\"marker\":{\"colorbar\":{\"outlinewidth\":0,\"ticks\":\"\"}}}],\"scatter3d\":[{\"type\":\"scatter3d\",\"line\":{\"colorbar\":{\"outlinewidth\":0,\"ticks\":\"\"}},\"marker\":{\"colorbar\":{\"outlinewidth\":0,\"ticks\":\"\"}}}],\"scattermapbox\":[{\"type\":\"scattermapbox\",\"marker\":{\"colorbar\":{\"outlinewidth\":0,\"ticks\":\"\"}}}],\"scatterternary\":[{\"type\":\"scatterternary\",\"marker\":{\"colorbar\":{\"outlinewidth\":0,\"ticks\":\"\"}}}],\"scattercarpet\":[{\"type\":\"scattercarpet\",\"marker\":{\"colorbar\":{\"outlinewidth\":0,\"ticks\":\"\"}}}],\"carpet\":[{\"aaxis\":{\"endlinecolor\":\"#2a3f5f\",\"gridcolor\":\"white\",\"linecolor\":\"white\",\"minorgridcolor\":\"white\",\"startlinecolor\":\"#2a3f5f\"},\"baxis\":{\"endlinecolor\":\"#2a3f5f\",\"gridcolor\":\"white\",\"linecolor\":\"white\",\"minorgridcolor\":\"white\",\"startlinecolor\":\"#2a3f5f\"},\"type\":\"carpet\"}],\"table\":[{\"cells\":{\"fill\":{\"color\":\"#EBF0F8\"},\"line\":{\"color\":\"white\"}},\"header\":{\"fill\":{\"color\":\"#C8D4E3\"},\"line\":{\"color\":\"white\"}},\"type\":\"table\"}],\"barpolar\":[{\"marker\":{\"line\":{\"color\":\"#E5ECF6\",\"width\":0.5},\"pattern\":{\"fillmode\":\"overlay\",\"size\":10,\"solidity\":0.2}},\"type\":\"barpolar\"}],\"pie\":[{\"automargin\":true,\"type\":\"pie\"}]},\"layout\":{\"autotypenumbers\":\"strict\",\"colorway\":[\"#636efa\",\"#EF553B\",\"#00cc96\",\"#ab63fa\",\"#FFA15A\",\"#19d3f3\",\"#FF6692\",\"#B6E880\",\"#FF97FF\",\"#FECB52\"],\"font\":{\"color\":\"#2a3f5f\"},\"hovermode\":\"closest\",\"hoverlabel\":{\"align\":\"left\"},\"paper_bgcolor\":\"white\",\"plot_bgcolor\":\"#E5ECF6\",\"polar\":{\"bgcolor\":\"#E5ECF6\",\"angularaxis\":{\"gridcolor\":\"white\",\"linecolor\":\"white\",\"ticks\":\"\"},\"radialaxis\":{\"gridcolor\":\"white\",\"linecolor\":\"white\",\"ticks\":\"\"}},\"ternary\":{\"bgcolor\":\"#E5ECF6\",\"aaxis\":{\"gridcolor\":\"white\",\"linecolor\":\"white\",\"ticks\":\"\"},\"baxis\":{\"gridcolor\":\"white\",\"linecolor\":\"white\",\"ticks\":\"\"},\"caxis\":{\"gridcolor\":\"white\",\"linecolor\":\"white\",\"ticks\":\"\"}},\"coloraxis\":{\"colorbar\":{\"outlinewidth\":0,\"ticks\":\"\"}},\"colorscale\":{\"sequential\":[[0.0,\"#0d0887\"],[0.1111111111111111,\"#46039f\"],[0.2222222222222222,\"#7201a8\"],[0.3333333333333333,\"#9c179e\"],[0.4444444444444444,\"#bd3786\"],[0.5555555555555556,\"#d8576b\"],[0.6666666666666666,\"#ed7953\"],[0.7777777777777778,\"#fb9f3a\"],[0.8888888888888888,\"#fdca26\"],[1.0,\"#f0f921\"]],\"sequentialminus\":[[0.0,\"#0d0887\"],[0.1111111111111111,\"#46039f\"],[0.2222222222222222,\"#7201a8\"],[0.3333333333333333,\"#9c179e\"],[0.4444444444444444,\"#bd3786\"],[0.5555555555555556,\"#d8576b\"],[0.6666666666666666,\"#ed7953\"],[0.7777777777777778,\"#fb9f3a\"],[0.8888888888888888,\"#fdca26\"],[1.0,\"#f0f921\"]],\"diverging\":[[0,\"#8e0152\"],[0.1,\"#c51b7d\"],[0.2,\"#de77ae\"],[0.3,\"#f1b6da\"],[0.4,\"#fde0ef\"],[0.5,\"#f7f7f7\"],[0.6,\"#e6f5d0\"],[0.7,\"#b8e186\"],[0.8,\"#7fbc41\"],[0.9,\"#4d9221\"],[1,\"#276419\"]]},\"xaxis\":{\"gridcolor\":\"white\",\"linecolor\":\"white\",\"ticks\":\"\",\"title\":{\"standoff\":15},\"zerolinecolor\":\"white\",\"automargin\":true,\"zerolinewidth\":2},\"yaxis\":{\"gridcolor\":\"white\",\"linecolor\":\"white\",\"ticks\":\"\",\"title\":{\"standoff\":15},\"zerolinecolor\":\"white\",\"automargin\":true,\"zerolinewidth\":2},\"scene\":{\"xaxis\":{\"backgroundcolor\":\"#E5ECF6\",\"gridcolor\":\"white\",\"linecolor\":\"white\",\"showbackground\":true,\"ticks\":\"\",\"zerolinecolor\":\"white\",\"gridwidth\":2},\"yaxis\":{\"backgroundcolor\":\"#E5ECF6\",\"gridcolor\":\"white\",\"linecolor\":\"white\",\"showbackground\":true,\"ticks\":\"\",\"zerolinecolor\":\"white\",\"gridwidth\":2},\"zaxis\":{\"backgroundcolor\":\"#E5ECF6\",\"gridcolor\":\"white\",\"linecolor\":\"white\",\"showbackground\":true,\"ticks\":\"\",\"zerolinecolor\":\"white\",\"gridwidth\":2}},\"shapedefaults\":{\"line\":{\"color\":\"#2a3f5f\"}},\"annotationdefaults\":{\"arrowcolor\":\"#2a3f5f\",\"arrowhead\":0,\"arrowwidth\":1},\"geo\":{\"bgcolor\":\"white\",\"landcolor\":\"#E5ECF6\",\"subunitcolor\":\"white\",\"showland\":true,\"showlakes\":true,\"lakecolor\":\"white\"},\"title\":{\"x\":0.05},\"mapbox\":{\"style\":\"light\"}}},\"xaxis\":{\"anchor\":\"y\",\"domain\":[0.0,0.31999999999999995],\"scaleanchor\":\"y\",\"constrain\":\"domain\",\"title\":{\"text\":\"Head\"},\"showline\":true,\"linewidth\":1,\"linecolor\":\"black\",\"mirror\":true},\"yaxis\":{\"anchor\":\"x\",\"domain\":[0.0,1.0],\"autorange\":\"reversed\",\"constrain\":\"domain\",\"title\":{\"text\":\"Layer\"},\"showline\":true,\"linewidth\":1,\"linecolor\":\"black\",\"mirror\":true},\"xaxis2\":{\"anchor\":\"y2\",\"domain\":[0.33999999999999997,0.6599999999999999],\"matches\":\"x\",\"title\":{\"text\":\"Head\"},\"showline\":true,\"linewidth\":1,\"linecolor\":\"black\",\"mirror\":true},\"yaxis2\":{\"anchor\":\"x2\",\"domain\":[0.0,1.0],\"matches\":\"y\",\"showticklabels\":false,\"showline\":true,\"linewidth\":1,\"linecolor\":\"black\",\"mirror\":true},\"xaxis3\":{\"anchor\":\"y3\",\"domain\":[0.6799999999999999,0.9999999999999999],\"matches\":\"x\",\"title\":{\"text\":\"Head\"},\"showline\":true,\"linewidth\":1,\"linecolor\":\"black\",\"mirror\":true},\"yaxis3\":{\"anchor\":\"x3\",\"domain\":[0.0,1.0],\"matches\":\"y\",\"showticklabels\":false,\"showline\":true,\"linewidth\":1,\"linecolor\":\"black\",\"mirror\":true},\"annotations\":[{\"font\":{},\"showarrow\":false,\"text\":\"Ablated Logit Differences: 4.49\",\"x\":0.15999999999999998,\"xanchor\":\"center\",\"xref\":\"paper\",\"y\":1.0,\"yanchor\":\"bottom\",\"yref\":\"paper\"},{\"font\":{},\"showarrow\":false,\"text\":\"Clean Logit Differences: 3.97\",\"x\":0.49999999999999994,\"xanchor\":\"center\",\"xref\":\"paper\",\"y\":1.0,\"yanchor\":\"bottom\",\"yref\":\"paper\"},{\"font\":{},\"showarrow\":false,\"text\":\"Difference between Ablated and Clea: 0.52\",\"x\":0.8399999999999999,\"xanchor\":\"center\",\"xref\":\"paper\",\"y\":1.0,\"yanchor\":\"bottom\",\"yref\":\"paper\"}],\"coloraxis\":{\"colorbar\":{\"title\":{\"text\":\"Logit Contribution\"}},\"colorscale\":[[0.0,\"rgb(103,0,31)\"],[0.1,\"rgb(178,24,43)\"],[0.2,\"rgb(214,96,77)\"],[0.3,\"rgb(244,165,130)\"],[0.4,\"rgb(253,219,199)\"],[0.5,\"rgb(247,247,247)\"],[0.6,\"rgb(209,229,240)\"],[0.7,\"rgb(146,197,222)\"],[0.8,\"rgb(67,147,195)\"],[0.9,\"rgb(33,102,172)\"],[1.0,\"rgb(5,48,97)\"]],\"cmid\":0.0},\"title\":{\"text\":\"Logit Differences When Sample Ablating in Name Mover Heads\"},\"width\":1000,\"margin\":{\"r\":100,\"l\":100}},                        {\"responsive\": true}                    ).then(function(){\n",
              "                            \n",
              "var gd = document.getElementById('789698f4-59e0-4544-8ba5-99facd9c7265');\n",
              "var x = new MutationObserver(function (mutations, observer) {{\n",
              "        var display = window.getComputedStyle(gd).display;\n",
              "        if (!display || display === 'none') {{\n",
              "            console.log([gd, 'removed!']);\n",
              "            Plotly.purge(gd);\n",
              "            observer.disconnect();\n",
              "        }}\n",
              "}});\n",
              "\n",
              "// Listen for the removal of the full notebook cells\n",
              "var notebookContainer = gd.closest('#notebook-container');\n",
              "if (notebookContainer) {{\n",
              "    x.observe(notebookContainer, {childList: true});\n",
              "}}\n",
              "\n",
              "// Listen for the clearing of the current output cell\n",
              "var outputEl = gd.closest('.output');\n",
              "if (outputEl) {{\n",
              "    x.observe(outputEl, {childList: true});\n",
              "}}\n",
              "\n",
              "                        })                };                            </script>        </div>\n",
              "</body>\n",
              "</html>"
            ]
          },
          "metadata": {}
        }
      ],
      "source": [
        "heads =  [(9,6)]\n",
        "model.reset_hooks() # callum library buggy\n",
        "def return_item(item):\n",
        "  return item\n",
        "\n",
        "model.reset_hooks()\n",
        "patched_logits = act_patch(\n",
        "    model = model,\n",
        "    orig_input = clean_tokens,\n",
        "    new_cache = corrupted_cache,\n",
        "    patching_nodes = [Node(\"z\", layer = layer, head = head) for layer, head in heads],\n",
        "    patching_metric = return_item,\n",
        "    verbose = False,\n",
        "    apply_metric_to_cache = False\n",
        ")\n",
        "\n",
        "nine_six_sample_ablating_cache = act_patch(\n",
        "    model = model,\n",
        "    orig_input = clean_tokens,\n",
        "    new_cache = corrupted_cache,\n",
        "    patching_nodes = [Node(\"z\", layer = layer, head = head) for layer, head in heads],\n",
        "    patching_metric = return_item,\n",
        "    verbose = False,\n",
        "    apply_metric_to_cache = True\n",
        ")\n",
        "\n",
        "\n",
        "model.reset_hooks()\n",
        "nine_six_sample_ablating_results = act_patch(\n",
        "    model = model,\n",
        "    orig_input = clean_tokens,\n",
        "    new_cache = corrupted_cache,\n",
        "    patching_nodes = [Node(\"z\", layer = layer, head = head) for layer, head in heads],\n",
        "    patching_metric = partial(display_corrupted_clean_logits, title = f\"Logit Differences When Sample Ablating in Name Mover Heads\", comparison = True, logits = patched_logits),\n",
        "    verbose = False,\n",
        "    apply_metric_to_cache = True\n",
        ")"
      ]
    },
    {
      "cell_type": "code",
      "execution_count": null,
      "metadata": {
        "colab": {
          "base_uri": "https://localhost:8080/"
        },
        "id": "wawqDhawXk__",
        "outputId": "5f579c6c-7b61-45b1-8ac8-c5707eefb9e6"
      },
      "outputs": [
        {
          "output_type": "stream",
          "name": "stdout",
          "text": [
            "RUH\n",
            "RUH\n"
          ]
        }
      ],
      "source": [
        "just_mystery_vector = project_stuff_on_heads(heads_whose_output_to_replace, repeated_trained_vector, project_only = True, scale_proj = 1, output = \"get_ldd\", freeze_ln=True)\n",
        "away_mystery_vector = project_stuff_on_heads(heads_whose_output_to_replace, repeated_trained_vector, project_only = False, scale_proj = 1, output = \"get_ldd\", freeze_ln=True)"
      ]
    },
    {
      "cell_type": "code",
      "source": [
        "just_mystery_vectors = []\n",
        "away_mystery_vectors = []\n",
        "\n",
        "for vec in learned_vectors:\n",
        "  repeated_trained_vector = einops.repeat(vec, \"d_model -> batch d_model\", batch = nine_nine_output.shape[0])\n",
        "\n",
        "  just_mystery_vectors.append(project_stuff_on_heads(heads_whose_output_to_replace, repeated_trained_vector, project_only = True, scale_proj = 1, output = \"get_ldd\", freeze_ln=True))\n",
        "  away_mystery_vectors.append(project_stuff_on_heads(heads_whose_output_to_replace, repeated_trained_vector, project_only = False, scale_proj = 1, output = \"get_ldd\", freeze_ln=True))"
      ],
      "metadata": {
        "colab": {
          "base_uri": "https://localhost:8080/"
        },
        "id": "sYfUG3MzgKLi",
        "outputId": "c3043610-5b34-4263-f4ca-534a224486c2"
      },
      "execution_count": null,
      "outputs": [
        {
          "output_type": "stream",
          "name": "stdout",
          "text": [
            "RUH\n",
            "RUH\n",
            "RUH\n",
            "RUH\n",
            "RUH\n",
            "RUH\n",
            "RUH\n",
            "RUH\n",
            "RUH\n",
            "RUH\n",
            "RUH\n",
            "RUH\n",
            "RUH\n",
            "RUH\n",
            "RUH\n",
            "RUH\n",
            "RUH\n",
            "RUH\n",
            "RUH\n",
            "RUH\n"
          ]
        }
      ]
    },
    {
      "cell_type": "code",
      "execution_count": null,
      "metadata": {
        "id": "hKwk_XwqXk__"
      },
      "outputs": [],
      "source": [
        "activate_interventions = {\n",
        "    \"Clean Run\" : ca - ca,\n",
        "    #\"Sample Ablation of NMHs\" : noise_sample_ablating_results,\n",
        "    \"Sample Ablation of (9.6)\" : nine_six_sample_ablating_results,\n",
        "    \"Zero Ablation of NMHs\" : first_intervention[0],\n",
        "    #\"Project Only IO Direction (Zero ⊥ IO direction)\" : first_intervention[1],\n",
        "    #\"Replace ⊥ IO directions with Corrupted ⊥ IO directions\" : first_intervention[2],\n",
        "    #\"Project Away IO Direction (Zero IO direction)\" : first_intervention[3],\n",
        "    #\"Replace IO directions with Corrupted IO directions\" : first_intervention[4],\n",
        "\n",
        "\n",
        "    \"Project Only (9.6)\" : just_9_6,\n",
        "    \"Project Away (9.6)\" : away_just_9_6,\n",
        "    \"Project Only (9.9)\" : just_9_9,\n",
        "    \"Project Away (9.9)\" : away_just_9_9,\n",
        "    #\"Projecting Only (9.6 ∥ 9.9) ∥ IO\" : ldd_from_96_99_feature_and_parra_to_io,\n",
        "    #\"Projecting Away (9.6 ∥ 9.9) ∥ IO\" : ldd_from_away_96_99_feature_and_parra_to_io,\n",
        "    #\"Project Only (9.6 ∥ 9.9)\" : overlap_9_6_9_9,\n",
        "    #\"Project Away (9.6 ∥ 9.9)\" : away_overlap_9_6_9_9,\n",
        "    #\"Just the Learned Vector\" : just_mystery_vector,\n",
        "    #\"Project Away the Learned Vector\" : away_mystery_vector\n",
        "}\n",
        "\n",
        "for i, results in enumerate(just_mystery_vectors):\n",
        "    activate_interventions[\"just \" + str(i)] = results\n",
        "\n",
        "for i, results in enumerate(away_mystery_vectors):\n",
        "    activate_interventions[\"away \" + str(i)] = results\n"
      ]
    },
    {
      "cell_type": "code",
      "execution_count": null,
      "metadata": {
        "colab": {
          "base_uri": "https://localhost:8080/",
          "height": 1000
        },
        "id": "jhHBaKwWXk__",
        "outputId": "579a1b58-c841-4117-b96e-bd87e0879c54"
      },
      "outputs": [
        {
          "output_type": "display_data",
          "data": {
            "text/html": [
              "<html>\n",
              "<head><meta charset=\"utf-8\" /></head>\n",
              "<body>\n",
              "    <div>            <script src=\"https://cdnjs.cloudflare.com/ajax/libs/mathjax/2.7.5/MathJax.js?config=TeX-AMS-MML_SVG\"></script><script type=\"text/javascript\">if (window.MathJax && window.MathJax.Hub && window.MathJax.Hub.Config) {window.MathJax.Hub.Config({SVG: {font: \"STIX-Web\"}});}</script>                <script type=\"text/javascript\">window.PlotlyConfig = {MathJaxConfig: 'local'};</script>\n",
              "        <script src=\"https://cdn.plot.ly/plotly-2.18.2.min.js\"></script>                <div id=\"24826b52-7caa-4e77-bc33-1b98ac7111eb\" class=\"plotly-graph-div\" style=\"height:1650px; width:900px;\"></div>            <script type=\"text/javascript\">                                    window.PLOTLYENV=window.PLOTLYENV || {};                                    if (document.getElementById(\"24826b52-7caa-4e77-bc33-1b98ac7111eb\")) {                    Plotly.newPlot(                        \"24826b52-7caa-4e77-bc33-1b98ac7111eb\",                        [{\"coloraxis\":\"coloraxis\",\"name\":\"0\",\"texttemplate\":\"%{z}\",\"x\":[\"(10, 2)\",\"(10, 6)\",\"(10, 10)\",\"(11, 2)\"],\"y\":[\"Clean Run\",\"Sample Ablation of (9.6)\",\"Zero Ablation of NMHs\",\"Project Only (9.6)\",\"Project Away (9.6)\",\"Project Only (9.9)\",\"Project Away (9.9)\",\"just 0\",\"just 1\",\"just 2\",\"just 3\",\"just 4\",\"just 5\",\"just 6\",\"just 7\",\"just 8\",\"just 9\",\"away 0\",\"away 1\",\"away 2\",\"away 3\",\"away 4\",\"away 5\",\"away 6\",\"away 7\",\"away 8\",\"away 9\"],\"z\":[[0.0,0.0,0.0,0.0],[0.1449534147977829,0.23637115955352783,0.3398789167404175,0.028626978397369385],[0.32822513580322266,0.16314074397087097,0.43675780296325684,0.0011674761772155762],[0.3060024380683899,0.1408931314945221,0.4038047790527344,0.008910328149795532],[0.012271806597709656,0.01739048957824707,0.028921306133270264,-0.003947585821151733],[-4.470348358154297e-08,4.76837158203125e-07,9.5367431640625e-07,-6.556510925292969e-07],[0.3282250761985779,0.16314086318016052,0.4367576837539673,0.0011672377586364746],[-0.02897539734840393,-0.07082948088645935,-0.08834221959114075,0.19513773918151855],[0.021511852741241455,-0.07371091842651367,-0.08198252320289612,0.06828677654266357],[0.060767337679862976,-0.020053178071975708,0.0033954381942749023,0.1649852842092514],[0.04141812026500702,-0.0369998961687088,-0.015692949295043945,0.05657172203063965],[0.03503382205963135,-0.03635883331298828,0.010773181915283203,0.195779949426651],[0.03990761935710907,-0.016654670238494873,-0.006801605224609375,0.022791802883148193],[0.012342587113380432,-0.030470743775367737,-0.07846084237098694,0.20756129920482635],[0.2221977859735489,-0.01856747269630432,0.17715340852737427,0.06991767883300781],[0.05116117000579834,-0.05314025282859802,-0.048216044902801514,0.07013797760009766],[0.039318278431892395,-0.059433504939079285,-0.11769047379493713,0.0490378737449646],[0.3324286937713623,0.2284514307975769,0.5072668790817261,-0.24223259091377258],[0.22013796865940094,0.2172296941280365,0.42199647426605225,0.023410022258758545],[0.2634449005126953,0.21508798003196716,0.40618056058883667,-0.22033903002738953],[0.2455652505159378,0.19614863395690918,0.42830049991607666,0.002043426036834717],[0.26574546098709106,0.1843450963497162,0.34726589918136597,-0.2003609836101532],[0.21020348370075226,0.16663017868995667,0.3379724621772766,0.023355811834335327],[0.2637350559234619,0.16496235132217407,0.47147250175476074,-0.2262924611568451],[-0.030555203557014465,0.012051314115524292,-0.005046546459197998,0.04899871349334717],[0.15352018177509308,0.20136579871177673,0.3912944793701172,0.02409505844116211],[0.21285749971866608,0.1769276261329651,0.3872583508491516,0.03926962614059448]],\"type\":\"heatmap\",\"xaxis\":\"x\",\"yaxis\":\"y\",\"hovertemplate\":\"Receiver Head: %{x}<br>Intervention: %{y}<br>Logit Diff Diff: %{z}<extra></extra>\"}],                        {\"template\":{\"data\":{\"histogram2dcontour\":[{\"type\":\"histogram2dcontour\",\"colorbar\":{\"outlinewidth\":0,\"ticks\":\"\"},\"colorscale\":[[0.0,\"#0d0887\"],[0.1111111111111111,\"#46039f\"],[0.2222222222222222,\"#7201a8\"],[0.3333333333333333,\"#9c179e\"],[0.4444444444444444,\"#bd3786\"],[0.5555555555555556,\"#d8576b\"],[0.6666666666666666,\"#ed7953\"],[0.7777777777777778,\"#fb9f3a\"],[0.8888888888888888,\"#fdca26\"],[1.0,\"#f0f921\"]]}],\"choropleth\":[{\"type\":\"choropleth\",\"colorbar\":{\"outlinewidth\":0,\"ticks\":\"\"}}],\"histogram2d\":[{\"type\":\"histogram2d\",\"colorbar\":{\"outlinewidth\":0,\"ticks\":\"\"},\"colorscale\":[[0.0,\"#0d0887\"],[0.1111111111111111,\"#46039f\"],[0.2222222222222222,\"#7201a8\"],[0.3333333333333333,\"#9c179e\"],[0.4444444444444444,\"#bd3786\"],[0.5555555555555556,\"#d8576b\"],[0.6666666666666666,\"#ed7953\"],[0.7777777777777778,\"#fb9f3a\"],[0.8888888888888888,\"#fdca26\"],[1.0,\"#f0f921\"]]}],\"heatmap\":[{\"type\":\"heatmap\",\"colorbar\":{\"outlinewidth\":0,\"ticks\":\"\"},\"colorscale\":[[0.0,\"#0d0887\"],[0.1111111111111111,\"#46039f\"],[0.2222222222222222,\"#7201a8\"],[0.3333333333333333,\"#9c179e\"],[0.4444444444444444,\"#bd3786\"],[0.5555555555555556,\"#d8576b\"],[0.6666666666666666,\"#ed7953\"],[0.7777777777777778,\"#fb9f3a\"],[0.8888888888888888,\"#fdca26\"],[1.0,\"#f0f921\"]]}],\"heatmapgl\":[{\"type\":\"heatmapgl\",\"colorbar\":{\"outlinewidth\":0,\"ticks\":\"\"},\"colorscale\":[[0.0,\"#0d0887\"],[0.1111111111111111,\"#46039f\"],[0.2222222222222222,\"#7201a8\"],[0.3333333333333333,\"#9c179e\"],[0.4444444444444444,\"#bd3786\"],[0.5555555555555556,\"#d8576b\"],[0.6666666666666666,\"#ed7953\"],[0.7777777777777778,\"#fb9f3a\"],[0.8888888888888888,\"#fdca26\"],[1.0,\"#f0f921\"]]}],\"contourcarpet\":[{\"type\":\"contourcarpet\",\"colorbar\":{\"outlinewidth\":0,\"ticks\":\"\"}}],\"contour\":[{\"type\":\"contour\",\"colorbar\":{\"outlinewidth\":0,\"ticks\":\"\"},\"colorscale\":[[0.0,\"#0d0887\"],[0.1111111111111111,\"#46039f\"],[0.2222222222222222,\"#7201a8\"],[0.3333333333333333,\"#9c179e\"],[0.4444444444444444,\"#bd3786\"],[0.5555555555555556,\"#d8576b\"],[0.6666666666666666,\"#ed7953\"],[0.7777777777777778,\"#fb9f3a\"],[0.8888888888888888,\"#fdca26\"],[1.0,\"#f0f921\"]]}],\"surface\":[{\"type\":\"surface\",\"colorbar\":{\"outlinewidth\":0,\"ticks\":\"\"},\"colorscale\":[[0.0,\"#0d0887\"],[0.1111111111111111,\"#46039f\"],[0.2222222222222222,\"#7201a8\"],[0.3333333333333333,\"#9c179e\"],[0.4444444444444444,\"#bd3786\"],[0.5555555555555556,\"#d8576b\"],[0.6666666666666666,\"#ed7953\"],[0.7777777777777778,\"#fb9f3a\"],[0.8888888888888888,\"#fdca26\"],[1.0,\"#f0f921\"]]}],\"mesh3d\":[{\"type\":\"mesh3d\",\"colorbar\":{\"outlinewidth\":0,\"ticks\":\"\"}}],\"scatter\":[{\"fillpattern\":{\"fillmode\":\"overlay\",\"size\":10,\"solidity\":0.2},\"type\":\"scatter\"}],\"parcoords\":[{\"type\":\"parcoords\",\"line\":{\"colorbar\":{\"outlinewidth\":0,\"ticks\":\"\"}}}],\"scatterpolargl\":[{\"type\":\"scatterpolargl\",\"marker\":{\"colorbar\":{\"outlinewidth\":0,\"ticks\":\"\"}}}],\"bar\":[{\"error_x\":{\"color\":\"#2a3f5f\"},\"error_y\":{\"color\":\"#2a3f5f\"},\"marker\":{\"line\":{\"color\":\"#E5ECF6\",\"width\":0.5},\"pattern\":{\"fillmode\":\"overlay\",\"size\":10,\"solidity\":0.2}},\"type\":\"bar\"}],\"scattergeo\":[{\"type\":\"scattergeo\",\"marker\":{\"colorbar\":{\"outlinewidth\":0,\"ticks\":\"\"}}}],\"scatterpolar\":[{\"type\":\"scatterpolar\",\"marker\":{\"colorbar\":{\"outlinewidth\":0,\"ticks\":\"\"}}}],\"histogram\":[{\"marker\":{\"pattern\":{\"fillmode\":\"overlay\",\"size\":10,\"solidity\":0.2}},\"type\":\"histogram\"}],\"scattergl\":[{\"type\":\"scattergl\",\"marker\":{\"colorbar\":{\"outlinewidth\":0,\"ticks\":\"\"}}}],\"scatter3d\":[{\"type\":\"scatter3d\",\"line\":{\"colorbar\":{\"outlinewidth\":0,\"ticks\":\"\"}},\"marker\":{\"colorbar\":{\"outlinewidth\":0,\"ticks\":\"\"}}}],\"scattermapbox\":[{\"type\":\"scattermapbox\",\"marker\":{\"colorbar\":{\"outlinewidth\":0,\"ticks\":\"\"}}}],\"scatterternary\":[{\"type\":\"scatterternary\",\"marker\":{\"colorbar\":{\"outlinewidth\":0,\"ticks\":\"\"}}}],\"scattercarpet\":[{\"type\":\"scattercarpet\",\"marker\":{\"colorbar\":{\"outlinewidth\":0,\"ticks\":\"\"}}}],\"carpet\":[{\"aaxis\":{\"endlinecolor\":\"#2a3f5f\",\"gridcolor\":\"white\",\"linecolor\":\"white\",\"minorgridcolor\":\"white\",\"startlinecolor\":\"#2a3f5f\"},\"baxis\":{\"endlinecolor\":\"#2a3f5f\",\"gridcolor\":\"white\",\"linecolor\":\"white\",\"minorgridcolor\":\"white\",\"startlinecolor\":\"#2a3f5f\"},\"type\":\"carpet\"}],\"table\":[{\"cells\":{\"fill\":{\"color\":\"#EBF0F8\"},\"line\":{\"color\":\"white\"}},\"header\":{\"fill\":{\"color\":\"#C8D4E3\"},\"line\":{\"color\":\"white\"}},\"type\":\"table\"}],\"barpolar\":[{\"marker\":{\"line\":{\"color\":\"#E5ECF6\",\"width\":0.5},\"pattern\":{\"fillmode\":\"overlay\",\"size\":10,\"solidity\":0.2}},\"type\":\"barpolar\"}],\"pie\":[{\"automargin\":true,\"type\":\"pie\"}]},\"layout\":{\"autotypenumbers\":\"strict\",\"colorway\":[\"#636efa\",\"#EF553B\",\"#00cc96\",\"#ab63fa\",\"#FFA15A\",\"#19d3f3\",\"#FF6692\",\"#B6E880\",\"#FF97FF\",\"#FECB52\"],\"font\":{\"color\":\"#2a3f5f\"},\"hovermode\":\"closest\",\"hoverlabel\":{\"align\":\"left\"},\"paper_bgcolor\":\"white\",\"plot_bgcolor\":\"#E5ECF6\",\"polar\":{\"bgcolor\":\"#E5ECF6\",\"angularaxis\":{\"gridcolor\":\"white\",\"linecolor\":\"white\",\"ticks\":\"\"},\"radialaxis\":{\"gridcolor\":\"white\",\"linecolor\":\"white\",\"ticks\":\"\"}},\"ternary\":{\"bgcolor\":\"#E5ECF6\",\"aaxis\":{\"gridcolor\":\"white\",\"linecolor\":\"white\",\"ticks\":\"\"},\"baxis\":{\"gridcolor\":\"white\",\"linecolor\":\"white\",\"ticks\":\"\"},\"caxis\":{\"gridcolor\":\"white\",\"linecolor\":\"white\",\"ticks\":\"\"}},\"coloraxis\":{\"colorbar\":{\"outlinewidth\":0,\"ticks\":\"\"}},\"colorscale\":{\"sequential\":[[0.0,\"#0d0887\"],[0.1111111111111111,\"#46039f\"],[0.2222222222222222,\"#7201a8\"],[0.3333333333333333,\"#9c179e\"],[0.4444444444444444,\"#bd3786\"],[0.5555555555555556,\"#d8576b\"],[0.6666666666666666,\"#ed7953\"],[0.7777777777777778,\"#fb9f3a\"],[0.8888888888888888,\"#fdca26\"],[1.0,\"#f0f921\"]],\"sequentialminus\":[[0.0,\"#0d0887\"],[0.1111111111111111,\"#46039f\"],[0.2222222222222222,\"#7201a8\"],[0.3333333333333333,\"#9c179e\"],[0.4444444444444444,\"#bd3786\"],[0.5555555555555556,\"#d8576b\"],[0.6666666666666666,\"#ed7953\"],[0.7777777777777778,\"#fb9f3a\"],[0.8888888888888888,\"#fdca26\"],[1.0,\"#f0f921\"]],\"diverging\":[[0,\"#8e0152\"],[0.1,\"#c51b7d\"],[0.2,\"#de77ae\"],[0.3,\"#f1b6da\"],[0.4,\"#fde0ef\"],[0.5,\"#f7f7f7\"],[0.6,\"#e6f5d0\"],[0.7,\"#b8e186\"],[0.8,\"#7fbc41\"],[0.9,\"#4d9221\"],[1,\"#276419\"]]},\"xaxis\":{\"gridcolor\":\"white\",\"linecolor\":\"white\",\"ticks\":\"\",\"title\":{\"standoff\":15},\"zerolinecolor\":\"white\",\"automargin\":true,\"zerolinewidth\":2},\"yaxis\":{\"gridcolor\":\"white\",\"linecolor\":\"white\",\"ticks\":\"\",\"title\":{\"standoff\":15},\"zerolinecolor\":\"white\",\"automargin\":true,\"zerolinewidth\":2},\"scene\":{\"xaxis\":{\"backgroundcolor\":\"#E5ECF6\",\"gridcolor\":\"white\",\"linecolor\":\"white\",\"showbackground\":true,\"ticks\":\"\",\"zerolinecolor\":\"white\",\"gridwidth\":2},\"yaxis\":{\"backgroundcolor\":\"#E5ECF6\",\"gridcolor\":\"white\",\"linecolor\":\"white\",\"showbackground\":true,\"ticks\":\"\",\"zerolinecolor\":\"white\",\"gridwidth\":2},\"zaxis\":{\"backgroundcolor\":\"#E5ECF6\",\"gridcolor\":\"white\",\"linecolor\":\"white\",\"showbackground\":true,\"ticks\":\"\",\"zerolinecolor\":\"white\",\"gridwidth\":2}},\"shapedefaults\":{\"line\":{\"color\":\"#2a3f5f\"}},\"annotationdefaults\":{\"arrowcolor\":\"#2a3f5f\",\"arrowhead\":0,\"arrowwidth\":1},\"geo\":{\"bgcolor\":\"white\",\"landcolor\":\"#E5ECF6\",\"subunitcolor\":\"white\",\"showland\":true,\"showlakes\":true,\"lakecolor\":\"white\"},\"title\":{\"x\":0.05},\"mapbox\":{\"style\":\"light\"}}},\"xaxis\":{\"anchor\":\"y\",\"domain\":[0.0,1.0],\"scaleanchor\":\"y\",\"constrain\":\"domain\",\"title\":{\"text\":\"Receiver Head\"},\"showline\":true,\"linewidth\":1,\"linecolor\":\"black\",\"mirror\":true},\"yaxis\":{\"anchor\":\"x\",\"domain\":[0.0,1.0],\"autorange\":\"reversed\",\"constrain\":\"domain\",\"title\":{\"text\":\"Intervention\"},\"showline\":true,\"linewidth\":1,\"linecolor\":\"black\",\"mirror\":true},\"coloraxis\":{\"colorbar\":{\"title\":{\"text\":\"Logit Diff Diff\"}},\"colorscale\":[[0.0,\"rgb(103,0,31)\"],[0.1,\"rgb(178,24,43)\"],[0.2,\"rgb(214,96,77)\"],[0.3,\"rgb(244,165,130)\"],[0.4,\"rgb(253,219,199)\"],[0.5,\"rgb(247,247,247)\"],[0.6,\"rgb(209,229,240)\"],[0.7,\"rgb(146,197,222)\"],[0.8,\"rgb(67,147,195)\"],[0.9,\"rgb(33,102,172)\"],[1.0,\"rgb(5,48,97)\"]],\"cmid\":0},\"title\":{\"text\":\"The Logit Diff Diffs of Intervention\"},\"height\":1650,\"width\":900,\"margin\":{\"r\":100,\"l\":100}},                        {\"responsive\": true}                    ).then(function(){\n",
              "                            \n",
              "var gd = document.getElementById('24826b52-7caa-4e77-bc33-1b98ac7111eb');\n",
              "var x = new MutationObserver(function (mutations, observer) {{\n",
              "        var display = window.getComputedStyle(gd).display;\n",
              "        if (!display || display === 'none') {{\n",
              "            console.log([gd, 'removed!']);\n",
              "            Plotly.purge(gd);\n",
              "            observer.disconnect();\n",
              "        }}\n",
              "}});\n",
              "\n",
              "// Listen for the removal of the full notebook cells\n",
              "var notebookContainer = gd.closest('#notebook-container');\n",
              "if (notebookContainer) {{\n",
              "    x.observe(notebookContainer, {childList: true});\n",
              "}}\n",
              "\n",
              "// Listen for the clearing of the current output cell\n",
              "var outputEl = gd.closest('.output');\n",
              "if (outputEl) {{\n",
              "    x.observe(outputEl, {childList: true});\n",
              "}}\n",
              "\n",
              "                        })                };                            </script>        </div>\n",
              "</body>\n",
              "</html>"
            ]
          },
          "metadata": {}
        }
      ],
      "source": [
        "row_labels = [str(i) for i in activate_interventions.keys()]\n",
        "values = [activate_interventions[key] for key in activate_interventions.keys()]\n",
        "\n",
        "fig = compare_intervention_ldds_with_sample_ablated(values, row_labels, heads = key_backup_heads , just_logits = True) # + neg_m_heads"
      ]
    },
    {
      "cell_type": "code",
      "source": [
        "model.set_use_attn_result(False)"
      ],
      "metadata": {
        "id": "Dl4_e4NWcbNw"
      },
      "execution_count": null,
      "outputs": []
    },
    {
      "cell_type": "code",
      "source": [],
      "metadata": {
        "id": "JnkaXtPOpUpd"
      },
      "execution_count": null,
      "outputs": []
    }
  ],
  "metadata": {
    "colab": {
      "provenance": [],
      "toc_visible": true,
      "machine_shape": "hm",
      "gpuType": "T4"
    },
    "kernelspec": {
      "display_name": "Python 3",
      "name": "python3"
    },
    "language_info": {
      "codemirror_mode": {
        "name": "ipython",
        "version": 3
      },
      "file_extension": ".py",
      "mimetype": "text/x-python",
      "name": "python",
      "nbconvert_exporter": "python",
      "pygments_lexer": "ipython3",
      "version": "3.11.0"
    },
    "widgets": {
      "application/vnd.jupyter.widget-state+json": {
        "39ca4f3bb3f5489a983813ad45377328": {
          "model_module": "@jupyter-widgets/controls",
          "model_name": "HBoxModel",
          "model_module_version": "1.5.0",
          "state": {
            "_dom_classes": [],
            "_model_module": "@jupyter-widgets/controls",
            "_model_module_version": "1.5.0",
            "_model_name": "HBoxModel",
            "_view_count": null,
            "_view_module": "@jupyter-widgets/controls",
            "_view_module_version": "1.5.0",
            "_view_name": "HBoxView",
            "box_style": "",
            "children": [
              "IPY_MODEL_4657b69f525d420eafe60a58b9eba62e",
              "IPY_MODEL_a2e008a89ae4447a9035bf7cc3f1732f",
              "IPY_MODEL_a9202d4d8a9b4418b3ec6b995ce8b5c6"
            ],
            "layout": "IPY_MODEL_bd6fc4ad64cf468d91787b80d2d94845"
          }
        },
        "4657b69f525d420eafe60a58b9eba62e": {
          "model_module": "@jupyter-widgets/controls",
          "model_name": "HTMLModel",
          "model_module_version": "1.5.0",
          "state": {
            "_dom_classes": [],
            "_model_module": "@jupyter-widgets/controls",
            "_model_module_version": "1.5.0",
            "_model_name": "HTMLModel",
            "_view_count": null,
            "_view_module": "@jupyter-widgets/controls",
            "_view_module_version": "1.5.0",
            "_view_name": "HTMLView",
            "description": "",
            "description_tooltip": null,
            "layout": "IPY_MODEL_65e291ecb86248ec8397ef6a384e36a7",
            "placeholder": "​",
            "style": "IPY_MODEL_44c5309e4bd34123b94affcea0a3a904",
            "value": "Downloading (…)lve/main/config.json: 100%"
          }
        },
        "a2e008a89ae4447a9035bf7cc3f1732f": {
          "model_module": "@jupyter-widgets/controls",
          "model_name": "FloatProgressModel",
          "model_module_version": "1.5.0",
          "state": {
            "_dom_classes": [],
            "_model_module": "@jupyter-widgets/controls",
            "_model_module_version": "1.5.0",
            "_model_name": "FloatProgressModel",
            "_view_count": null,
            "_view_module": "@jupyter-widgets/controls",
            "_view_module_version": "1.5.0",
            "_view_name": "ProgressView",
            "bar_style": "success",
            "description": "",
            "description_tooltip": null,
            "layout": "IPY_MODEL_d7ebce3f41234143858338cf5cb1a5e8",
            "max": 665,
            "min": 0,
            "orientation": "horizontal",
            "style": "IPY_MODEL_2de9ab1c645b483ba28374fdb1b9eb35",
            "value": 665
          }
        },
        "a9202d4d8a9b4418b3ec6b995ce8b5c6": {
          "model_module": "@jupyter-widgets/controls",
          "model_name": "HTMLModel",
          "model_module_version": "1.5.0",
          "state": {
            "_dom_classes": [],
            "_model_module": "@jupyter-widgets/controls",
            "_model_module_version": "1.5.0",
            "_model_name": "HTMLModel",
            "_view_count": null,
            "_view_module": "@jupyter-widgets/controls",
            "_view_module_version": "1.5.0",
            "_view_name": "HTMLView",
            "description": "",
            "description_tooltip": null,
            "layout": "IPY_MODEL_e9882d958fa24485adfeabb6ff66b38a",
            "placeholder": "​",
            "style": "IPY_MODEL_266343ea417646cbb9f3d67bb559cebc",
            "value": " 665/665 [00:00&lt;00:00, 35.5kB/s]"
          }
        },
        "bd6fc4ad64cf468d91787b80d2d94845": {
          "model_module": "@jupyter-widgets/base",
          "model_name": "LayoutModel",
          "model_module_version": "1.2.0",
          "state": {
            "_model_module": "@jupyter-widgets/base",
            "_model_module_version": "1.2.0",
            "_model_name": "LayoutModel",
            "_view_count": null,
            "_view_module": "@jupyter-widgets/base",
            "_view_module_version": "1.2.0",
            "_view_name": "LayoutView",
            "align_content": null,
            "align_items": null,
            "align_self": null,
            "border": null,
            "bottom": null,
            "display": null,
            "flex": null,
            "flex_flow": null,
            "grid_area": null,
            "grid_auto_columns": null,
            "grid_auto_flow": null,
            "grid_auto_rows": null,
            "grid_column": null,
            "grid_gap": null,
            "grid_row": null,
            "grid_template_areas": null,
            "grid_template_columns": null,
            "grid_template_rows": null,
            "height": null,
            "justify_content": null,
            "justify_items": null,
            "left": null,
            "margin": null,
            "max_height": null,
            "max_width": null,
            "min_height": null,
            "min_width": null,
            "object_fit": null,
            "object_position": null,
            "order": null,
            "overflow": null,
            "overflow_x": null,
            "overflow_y": null,
            "padding": null,
            "right": null,
            "top": null,
            "visibility": null,
            "width": null
          }
        },
        "65e291ecb86248ec8397ef6a384e36a7": {
          "model_module": "@jupyter-widgets/base",
          "model_name": "LayoutModel",
          "model_module_version": "1.2.0",
          "state": {
            "_model_module": "@jupyter-widgets/base",
            "_model_module_version": "1.2.0",
            "_model_name": "LayoutModel",
            "_view_count": null,
            "_view_module": "@jupyter-widgets/base",
            "_view_module_version": "1.2.0",
            "_view_name": "LayoutView",
            "align_content": null,
            "align_items": null,
            "align_self": null,
            "border": null,
            "bottom": null,
            "display": null,
            "flex": null,
            "flex_flow": null,
            "grid_area": null,
            "grid_auto_columns": null,
            "grid_auto_flow": null,
            "grid_auto_rows": null,
            "grid_column": null,
            "grid_gap": null,
            "grid_row": null,
            "grid_template_areas": null,
            "grid_template_columns": null,
            "grid_template_rows": null,
            "height": null,
            "justify_content": null,
            "justify_items": null,
            "left": null,
            "margin": null,
            "max_height": null,
            "max_width": null,
            "min_height": null,
            "min_width": null,
            "object_fit": null,
            "object_position": null,
            "order": null,
            "overflow": null,
            "overflow_x": null,
            "overflow_y": null,
            "padding": null,
            "right": null,
            "top": null,
            "visibility": null,
            "width": null
          }
        },
        "44c5309e4bd34123b94affcea0a3a904": {
          "model_module": "@jupyter-widgets/controls",
          "model_name": "DescriptionStyleModel",
          "model_module_version": "1.5.0",
          "state": {
            "_model_module": "@jupyter-widgets/controls",
            "_model_module_version": "1.5.0",
            "_model_name": "DescriptionStyleModel",
            "_view_count": null,
            "_view_module": "@jupyter-widgets/base",
            "_view_module_version": "1.2.0",
            "_view_name": "StyleView",
            "description_width": ""
          }
        },
        "d7ebce3f41234143858338cf5cb1a5e8": {
          "model_module": "@jupyter-widgets/base",
          "model_name": "LayoutModel",
          "model_module_version": "1.2.0",
          "state": {
            "_model_module": "@jupyter-widgets/base",
            "_model_module_version": "1.2.0",
            "_model_name": "LayoutModel",
            "_view_count": null,
            "_view_module": "@jupyter-widgets/base",
            "_view_module_version": "1.2.0",
            "_view_name": "LayoutView",
            "align_content": null,
            "align_items": null,
            "align_self": null,
            "border": null,
            "bottom": null,
            "display": null,
            "flex": null,
            "flex_flow": null,
            "grid_area": null,
            "grid_auto_columns": null,
            "grid_auto_flow": null,
            "grid_auto_rows": null,
            "grid_column": null,
            "grid_gap": null,
            "grid_row": null,
            "grid_template_areas": null,
            "grid_template_columns": null,
            "grid_template_rows": null,
            "height": null,
            "justify_content": null,
            "justify_items": null,
            "left": null,
            "margin": null,
            "max_height": null,
            "max_width": null,
            "min_height": null,
            "min_width": null,
            "object_fit": null,
            "object_position": null,
            "order": null,
            "overflow": null,
            "overflow_x": null,
            "overflow_y": null,
            "padding": null,
            "right": null,
            "top": null,
            "visibility": null,
            "width": null
          }
        },
        "2de9ab1c645b483ba28374fdb1b9eb35": {
          "model_module": "@jupyter-widgets/controls",
          "model_name": "ProgressStyleModel",
          "model_module_version": "1.5.0",
          "state": {
            "_model_module": "@jupyter-widgets/controls",
            "_model_module_version": "1.5.0",
            "_model_name": "ProgressStyleModel",
            "_view_count": null,
            "_view_module": "@jupyter-widgets/base",
            "_view_module_version": "1.2.0",
            "_view_name": "StyleView",
            "bar_color": null,
            "description_width": ""
          }
        },
        "e9882d958fa24485adfeabb6ff66b38a": {
          "model_module": "@jupyter-widgets/base",
          "model_name": "LayoutModel",
          "model_module_version": "1.2.0",
          "state": {
            "_model_module": "@jupyter-widgets/base",
            "_model_module_version": "1.2.0",
            "_model_name": "LayoutModel",
            "_view_count": null,
            "_view_module": "@jupyter-widgets/base",
            "_view_module_version": "1.2.0",
            "_view_name": "LayoutView",
            "align_content": null,
            "align_items": null,
            "align_self": null,
            "border": null,
            "bottom": null,
            "display": null,
            "flex": null,
            "flex_flow": null,
            "grid_area": null,
            "grid_auto_columns": null,
            "grid_auto_flow": null,
            "grid_auto_rows": null,
            "grid_column": null,
            "grid_gap": null,
            "grid_row": null,
            "grid_template_areas": null,
            "grid_template_columns": null,
            "grid_template_rows": null,
            "height": null,
            "justify_content": null,
            "justify_items": null,
            "left": null,
            "margin": null,
            "max_height": null,
            "max_width": null,
            "min_height": null,
            "min_width": null,
            "object_fit": null,
            "object_position": null,
            "order": null,
            "overflow": null,
            "overflow_x": null,
            "overflow_y": null,
            "padding": null,
            "right": null,
            "top": null,
            "visibility": null,
            "width": null
          }
        },
        "266343ea417646cbb9f3d67bb559cebc": {
          "model_module": "@jupyter-widgets/controls",
          "model_name": "DescriptionStyleModel",
          "model_module_version": "1.5.0",
          "state": {
            "_model_module": "@jupyter-widgets/controls",
            "_model_module_version": "1.5.0",
            "_model_name": "DescriptionStyleModel",
            "_view_count": null,
            "_view_module": "@jupyter-widgets/base",
            "_view_module_version": "1.2.0",
            "_view_name": "StyleView",
            "description_width": ""
          }
        },
        "6853447e673f476ba276f5e641097cca": {
          "model_module": "@jupyter-widgets/controls",
          "model_name": "HBoxModel",
          "model_module_version": "1.5.0",
          "state": {
            "_dom_classes": [],
            "_model_module": "@jupyter-widgets/controls",
            "_model_module_version": "1.5.0",
            "_model_name": "HBoxModel",
            "_view_count": null,
            "_view_module": "@jupyter-widgets/controls",
            "_view_module_version": "1.5.0",
            "_view_name": "HBoxView",
            "box_style": "",
            "children": [
              "IPY_MODEL_7c1a1dbcf6694666af2e18350020e38c",
              "IPY_MODEL_9c487396cd5b494ca72b2ef3df44de34",
              "IPY_MODEL_0f69cbb4c5c34265ae0d71edf3be4d78"
            ],
            "layout": "IPY_MODEL_b650dc277fcd4d0eb0e0f1124ad1f06c"
          }
        },
        "7c1a1dbcf6694666af2e18350020e38c": {
          "model_module": "@jupyter-widgets/controls",
          "model_name": "HTMLModel",
          "model_module_version": "1.5.0",
          "state": {
            "_dom_classes": [],
            "_model_module": "@jupyter-widgets/controls",
            "_model_module_version": "1.5.0",
            "_model_name": "HTMLModel",
            "_view_count": null,
            "_view_module": "@jupyter-widgets/controls",
            "_view_module_version": "1.5.0",
            "_view_name": "HTMLView",
            "description": "",
            "description_tooltip": null,
            "layout": "IPY_MODEL_0a52bbbb082d48df970a59d4ee5eeb15",
            "placeholder": "​",
            "style": "IPY_MODEL_1f7c442a701e4b9ab3f92c1fe6615a95",
            "value": "Downloading model.safetensors: 100%"
          }
        },
        "9c487396cd5b494ca72b2ef3df44de34": {
          "model_module": "@jupyter-widgets/controls",
          "model_name": "FloatProgressModel",
          "model_module_version": "1.5.0",
          "state": {
            "_dom_classes": [],
            "_model_module": "@jupyter-widgets/controls",
            "_model_module_version": "1.5.0",
            "_model_name": "FloatProgressModel",
            "_view_count": null,
            "_view_module": "@jupyter-widgets/controls",
            "_view_module_version": "1.5.0",
            "_view_name": "ProgressView",
            "bar_style": "success",
            "description": "",
            "description_tooltip": null,
            "layout": "IPY_MODEL_5ebf4724e76143538f27a0a53f9cc606",
            "max": 548105171,
            "min": 0,
            "orientation": "horizontal",
            "style": "IPY_MODEL_bd2c93d1511a4a5791aebdde5eb1a602",
            "value": 548105171
          }
        },
        "0f69cbb4c5c34265ae0d71edf3be4d78": {
          "model_module": "@jupyter-widgets/controls",
          "model_name": "HTMLModel",
          "model_module_version": "1.5.0",
          "state": {
            "_dom_classes": [],
            "_model_module": "@jupyter-widgets/controls",
            "_model_module_version": "1.5.0",
            "_model_name": "HTMLModel",
            "_view_count": null,
            "_view_module": "@jupyter-widgets/controls",
            "_view_module_version": "1.5.0",
            "_view_name": "HTMLView",
            "description": "",
            "description_tooltip": null,
            "layout": "IPY_MODEL_9ca053db6fac4eebb090957074154c92",
            "placeholder": "​",
            "style": "IPY_MODEL_d230e8e90c9748c580e82ccfcda134cc",
            "value": " 548M/548M [00:04&lt;00:00, 139MB/s]"
          }
        },
        "b650dc277fcd4d0eb0e0f1124ad1f06c": {
          "model_module": "@jupyter-widgets/base",
          "model_name": "LayoutModel",
          "model_module_version": "1.2.0",
          "state": {
            "_model_module": "@jupyter-widgets/base",
            "_model_module_version": "1.2.0",
            "_model_name": "LayoutModel",
            "_view_count": null,
            "_view_module": "@jupyter-widgets/base",
            "_view_module_version": "1.2.0",
            "_view_name": "LayoutView",
            "align_content": null,
            "align_items": null,
            "align_self": null,
            "border": null,
            "bottom": null,
            "display": null,
            "flex": null,
            "flex_flow": null,
            "grid_area": null,
            "grid_auto_columns": null,
            "grid_auto_flow": null,
            "grid_auto_rows": null,
            "grid_column": null,
            "grid_gap": null,
            "grid_row": null,
            "grid_template_areas": null,
            "grid_template_columns": null,
            "grid_template_rows": null,
            "height": null,
            "justify_content": null,
            "justify_items": null,
            "left": null,
            "margin": null,
            "max_height": null,
            "max_width": null,
            "min_height": null,
            "min_width": null,
            "object_fit": null,
            "object_position": null,
            "order": null,
            "overflow": null,
            "overflow_x": null,
            "overflow_y": null,
            "padding": null,
            "right": null,
            "top": null,
            "visibility": null,
            "width": null
          }
        },
        "0a52bbbb082d48df970a59d4ee5eeb15": {
          "model_module": "@jupyter-widgets/base",
          "model_name": "LayoutModel",
          "model_module_version": "1.2.0",
          "state": {
            "_model_module": "@jupyter-widgets/base",
            "_model_module_version": "1.2.0",
            "_model_name": "LayoutModel",
            "_view_count": null,
            "_view_module": "@jupyter-widgets/base",
            "_view_module_version": "1.2.0",
            "_view_name": "LayoutView",
            "align_content": null,
            "align_items": null,
            "align_self": null,
            "border": null,
            "bottom": null,
            "display": null,
            "flex": null,
            "flex_flow": null,
            "grid_area": null,
            "grid_auto_columns": null,
            "grid_auto_flow": null,
            "grid_auto_rows": null,
            "grid_column": null,
            "grid_gap": null,
            "grid_row": null,
            "grid_template_areas": null,
            "grid_template_columns": null,
            "grid_template_rows": null,
            "height": null,
            "justify_content": null,
            "justify_items": null,
            "left": null,
            "margin": null,
            "max_height": null,
            "max_width": null,
            "min_height": null,
            "min_width": null,
            "object_fit": null,
            "object_position": null,
            "order": null,
            "overflow": null,
            "overflow_x": null,
            "overflow_y": null,
            "padding": null,
            "right": null,
            "top": null,
            "visibility": null,
            "width": null
          }
        },
        "1f7c442a701e4b9ab3f92c1fe6615a95": {
          "model_module": "@jupyter-widgets/controls",
          "model_name": "DescriptionStyleModel",
          "model_module_version": "1.5.0",
          "state": {
            "_model_module": "@jupyter-widgets/controls",
            "_model_module_version": "1.5.0",
            "_model_name": "DescriptionStyleModel",
            "_view_count": null,
            "_view_module": "@jupyter-widgets/base",
            "_view_module_version": "1.2.0",
            "_view_name": "StyleView",
            "description_width": ""
          }
        },
        "5ebf4724e76143538f27a0a53f9cc606": {
          "model_module": "@jupyter-widgets/base",
          "model_name": "LayoutModel",
          "model_module_version": "1.2.0",
          "state": {
            "_model_module": "@jupyter-widgets/base",
            "_model_module_version": "1.2.0",
            "_model_name": "LayoutModel",
            "_view_count": null,
            "_view_module": "@jupyter-widgets/base",
            "_view_module_version": "1.2.0",
            "_view_name": "LayoutView",
            "align_content": null,
            "align_items": null,
            "align_self": null,
            "border": null,
            "bottom": null,
            "display": null,
            "flex": null,
            "flex_flow": null,
            "grid_area": null,
            "grid_auto_columns": null,
            "grid_auto_flow": null,
            "grid_auto_rows": null,
            "grid_column": null,
            "grid_gap": null,
            "grid_row": null,
            "grid_template_areas": null,
            "grid_template_columns": null,
            "grid_template_rows": null,
            "height": null,
            "justify_content": null,
            "justify_items": null,
            "left": null,
            "margin": null,
            "max_height": null,
            "max_width": null,
            "min_height": null,
            "min_width": null,
            "object_fit": null,
            "object_position": null,
            "order": null,
            "overflow": null,
            "overflow_x": null,
            "overflow_y": null,
            "padding": null,
            "right": null,
            "top": null,
            "visibility": null,
            "width": null
          }
        },
        "bd2c93d1511a4a5791aebdde5eb1a602": {
          "model_module": "@jupyter-widgets/controls",
          "model_name": "ProgressStyleModel",
          "model_module_version": "1.5.0",
          "state": {
            "_model_module": "@jupyter-widgets/controls",
            "_model_module_version": "1.5.0",
            "_model_name": "ProgressStyleModel",
            "_view_count": null,
            "_view_module": "@jupyter-widgets/base",
            "_view_module_version": "1.2.0",
            "_view_name": "StyleView",
            "bar_color": null,
            "description_width": ""
          }
        },
        "9ca053db6fac4eebb090957074154c92": {
          "model_module": "@jupyter-widgets/base",
          "model_name": "LayoutModel",
          "model_module_version": "1.2.0",
          "state": {
            "_model_module": "@jupyter-widgets/base",
            "_model_module_version": "1.2.0",
            "_model_name": "LayoutModel",
            "_view_count": null,
            "_view_module": "@jupyter-widgets/base",
            "_view_module_version": "1.2.0",
            "_view_name": "LayoutView",
            "align_content": null,
            "align_items": null,
            "align_self": null,
            "border": null,
            "bottom": null,
            "display": null,
            "flex": null,
            "flex_flow": null,
            "grid_area": null,
            "grid_auto_columns": null,
            "grid_auto_flow": null,
            "grid_auto_rows": null,
            "grid_column": null,
            "grid_gap": null,
            "grid_row": null,
            "grid_template_areas": null,
            "grid_template_columns": null,
            "grid_template_rows": null,
            "height": null,
            "justify_content": null,
            "justify_items": null,
            "left": null,
            "margin": null,
            "max_height": null,
            "max_width": null,
            "min_height": null,
            "min_width": null,
            "object_fit": null,
            "object_position": null,
            "order": null,
            "overflow": null,
            "overflow_x": null,
            "overflow_y": null,
            "padding": null,
            "right": null,
            "top": null,
            "visibility": null,
            "width": null
          }
        },
        "d230e8e90c9748c580e82ccfcda134cc": {
          "model_module": "@jupyter-widgets/controls",
          "model_name": "DescriptionStyleModel",
          "model_module_version": "1.5.0",
          "state": {
            "_model_module": "@jupyter-widgets/controls",
            "_model_module_version": "1.5.0",
            "_model_name": "DescriptionStyleModel",
            "_view_count": null,
            "_view_module": "@jupyter-widgets/base",
            "_view_module_version": "1.2.0",
            "_view_name": "StyleView",
            "description_width": ""
          }
        },
        "e222e8ab7f954d8ebe9547bec0c5a79c": {
          "model_module": "@jupyter-widgets/controls",
          "model_name": "HBoxModel",
          "model_module_version": "1.5.0",
          "state": {
            "_dom_classes": [],
            "_model_module": "@jupyter-widgets/controls",
            "_model_module_version": "1.5.0",
            "_model_name": "HBoxModel",
            "_view_count": null,
            "_view_module": "@jupyter-widgets/controls",
            "_view_module_version": "1.5.0",
            "_view_name": "HBoxView",
            "box_style": "",
            "children": [
              "IPY_MODEL_171aca9616804294b1a909e3605fcc66",
              "IPY_MODEL_ff6ed43bd5aa464ba6e7beb69c2a63aa",
              "IPY_MODEL_9aaaef093f174f6db80cd1f238de954c"
            ],
            "layout": "IPY_MODEL_e3579dfa9a7c4c05bd4b8b5fe64588a8"
          }
        },
        "171aca9616804294b1a909e3605fcc66": {
          "model_module": "@jupyter-widgets/controls",
          "model_name": "HTMLModel",
          "model_module_version": "1.5.0",
          "state": {
            "_dom_classes": [],
            "_model_module": "@jupyter-widgets/controls",
            "_model_module_version": "1.5.0",
            "_model_name": "HTMLModel",
            "_view_count": null,
            "_view_module": "@jupyter-widgets/controls",
            "_view_module_version": "1.5.0",
            "_view_name": "HTMLView",
            "description": "",
            "description_tooltip": null,
            "layout": "IPY_MODEL_c53dc2719fe9428f854bcaaabac559a3",
            "placeholder": "​",
            "style": "IPY_MODEL_cc734b0cccb84576a5ab7dcfb0ad5c07",
            "value": "Downloading (…)neration_config.json: 100%"
          }
        },
        "ff6ed43bd5aa464ba6e7beb69c2a63aa": {
          "model_module": "@jupyter-widgets/controls",
          "model_name": "FloatProgressModel",
          "model_module_version": "1.5.0",
          "state": {
            "_dom_classes": [],
            "_model_module": "@jupyter-widgets/controls",
            "_model_module_version": "1.5.0",
            "_model_name": "FloatProgressModel",
            "_view_count": null,
            "_view_module": "@jupyter-widgets/controls",
            "_view_module_version": "1.5.0",
            "_view_name": "ProgressView",
            "bar_style": "success",
            "description": "",
            "description_tooltip": null,
            "layout": "IPY_MODEL_69e6a160701a49c996279e815a2e098d",
            "max": 124,
            "min": 0,
            "orientation": "horizontal",
            "style": "IPY_MODEL_52f2b3a45453449eb4fe3726932aba62",
            "value": 124
          }
        },
        "9aaaef093f174f6db80cd1f238de954c": {
          "model_module": "@jupyter-widgets/controls",
          "model_name": "HTMLModel",
          "model_module_version": "1.5.0",
          "state": {
            "_dom_classes": [],
            "_model_module": "@jupyter-widgets/controls",
            "_model_module_version": "1.5.0",
            "_model_name": "HTMLModel",
            "_view_count": null,
            "_view_module": "@jupyter-widgets/controls",
            "_view_module_version": "1.5.0",
            "_view_name": "HTMLView",
            "description": "",
            "description_tooltip": null,
            "layout": "IPY_MODEL_b5bccb75c9954d05bf47ea10bc8e378d",
            "placeholder": "​",
            "style": "IPY_MODEL_a1a22fef83e14a629d231817171eab6c",
            "value": " 124/124 [00:00&lt;00:00, 6.39kB/s]"
          }
        },
        "e3579dfa9a7c4c05bd4b8b5fe64588a8": {
          "model_module": "@jupyter-widgets/base",
          "model_name": "LayoutModel",
          "model_module_version": "1.2.0",
          "state": {
            "_model_module": "@jupyter-widgets/base",
            "_model_module_version": "1.2.0",
            "_model_name": "LayoutModel",
            "_view_count": null,
            "_view_module": "@jupyter-widgets/base",
            "_view_module_version": "1.2.0",
            "_view_name": "LayoutView",
            "align_content": null,
            "align_items": null,
            "align_self": null,
            "border": null,
            "bottom": null,
            "display": null,
            "flex": null,
            "flex_flow": null,
            "grid_area": null,
            "grid_auto_columns": null,
            "grid_auto_flow": null,
            "grid_auto_rows": null,
            "grid_column": null,
            "grid_gap": null,
            "grid_row": null,
            "grid_template_areas": null,
            "grid_template_columns": null,
            "grid_template_rows": null,
            "height": null,
            "justify_content": null,
            "justify_items": null,
            "left": null,
            "margin": null,
            "max_height": null,
            "max_width": null,
            "min_height": null,
            "min_width": null,
            "object_fit": null,
            "object_position": null,
            "order": null,
            "overflow": null,
            "overflow_x": null,
            "overflow_y": null,
            "padding": null,
            "right": null,
            "top": null,
            "visibility": null,
            "width": null
          }
        },
        "c53dc2719fe9428f854bcaaabac559a3": {
          "model_module": "@jupyter-widgets/base",
          "model_name": "LayoutModel",
          "model_module_version": "1.2.0",
          "state": {
            "_model_module": "@jupyter-widgets/base",
            "_model_module_version": "1.2.0",
            "_model_name": "LayoutModel",
            "_view_count": null,
            "_view_module": "@jupyter-widgets/base",
            "_view_module_version": "1.2.0",
            "_view_name": "LayoutView",
            "align_content": null,
            "align_items": null,
            "align_self": null,
            "border": null,
            "bottom": null,
            "display": null,
            "flex": null,
            "flex_flow": null,
            "grid_area": null,
            "grid_auto_columns": null,
            "grid_auto_flow": null,
            "grid_auto_rows": null,
            "grid_column": null,
            "grid_gap": null,
            "grid_row": null,
            "grid_template_areas": null,
            "grid_template_columns": null,
            "grid_template_rows": null,
            "height": null,
            "justify_content": null,
            "justify_items": null,
            "left": null,
            "margin": null,
            "max_height": null,
            "max_width": null,
            "min_height": null,
            "min_width": null,
            "object_fit": null,
            "object_position": null,
            "order": null,
            "overflow": null,
            "overflow_x": null,
            "overflow_y": null,
            "padding": null,
            "right": null,
            "top": null,
            "visibility": null,
            "width": null
          }
        },
        "cc734b0cccb84576a5ab7dcfb0ad5c07": {
          "model_module": "@jupyter-widgets/controls",
          "model_name": "DescriptionStyleModel",
          "model_module_version": "1.5.0",
          "state": {
            "_model_module": "@jupyter-widgets/controls",
            "_model_module_version": "1.5.0",
            "_model_name": "DescriptionStyleModel",
            "_view_count": null,
            "_view_module": "@jupyter-widgets/base",
            "_view_module_version": "1.2.0",
            "_view_name": "StyleView",
            "description_width": ""
          }
        },
        "69e6a160701a49c996279e815a2e098d": {
          "model_module": "@jupyter-widgets/base",
          "model_name": "LayoutModel",
          "model_module_version": "1.2.0",
          "state": {
            "_model_module": "@jupyter-widgets/base",
            "_model_module_version": "1.2.0",
            "_model_name": "LayoutModel",
            "_view_count": null,
            "_view_module": "@jupyter-widgets/base",
            "_view_module_version": "1.2.0",
            "_view_name": "LayoutView",
            "align_content": null,
            "align_items": null,
            "align_self": null,
            "border": null,
            "bottom": null,
            "display": null,
            "flex": null,
            "flex_flow": null,
            "grid_area": null,
            "grid_auto_columns": null,
            "grid_auto_flow": null,
            "grid_auto_rows": null,
            "grid_column": null,
            "grid_gap": null,
            "grid_row": null,
            "grid_template_areas": null,
            "grid_template_columns": null,
            "grid_template_rows": null,
            "height": null,
            "justify_content": null,
            "justify_items": null,
            "left": null,
            "margin": null,
            "max_height": null,
            "max_width": null,
            "min_height": null,
            "min_width": null,
            "object_fit": null,
            "object_position": null,
            "order": null,
            "overflow": null,
            "overflow_x": null,
            "overflow_y": null,
            "padding": null,
            "right": null,
            "top": null,
            "visibility": null,
            "width": null
          }
        },
        "52f2b3a45453449eb4fe3726932aba62": {
          "model_module": "@jupyter-widgets/controls",
          "model_name": "ProgressStyleModel",
          "model_module_version": "1.5.0",
          "state": {
            "_model_module": "@jupyter-widgets/controls",
            "_model_module_version": "1.5.0",
            "_model_name": "ProgressStyleModel",
            "_view_count": null,
            "_view_module": "@jupyter-widgets/base",
            "_view_module_version": "1.2.0",
            "_view_name": "StyleView",
            "bar_color": null,
            "description_width": ""
          }
        },
        "b5bccb75c9954d05bf47ea10bc8e378d": {
          "model_module": "@jupyter-widgets/base",
          "model_name": "LayoutModel",
          "model_module_version": "1.2.0",
          "state": {
            "_model_module": "@jupyter-widgets/base",
            "_model_module_version": "1.2.0",
            "_model_name": "LayoutModel",
            "_view_count": null,
            "_view_module": "@jupyter-widgets/base",
            "_view_module_version": "1.2.0",
            "_view_name": "LayoutView",
            "align_content": null,
            "align_items": null,
            "align_self": null,
            "border": null,
            "bottom": null,
            "display": null,
            "flex": null,
            "flex_flow": null,
            "grid_area": null,
            "grid_auto_columns": null,
            "grid_auto_flow": null,
            "grid_auto_rows": null,
            "grid_column": null,
            "grid_gap": null,
            "grid_row": null,
            "grid_template_areas": null,
            "grid_template_columns": null,
            "grid_template_rows": null,
            "height": null,
            "justify_content": null,
            "justify_items": null,
            "left": null,
            "margin": null,
            "max_height": null,
            "max_width": null,
            "min_height": null,
            "min_width": null,
            "object_fit": null,
            "object_position": null,
            "order": null,
            "overflow": null,
            "overflow_x": null,
            "overflow_y": null,
            "padding": null,
            "right": null,
            "top": null,
            "visibility": null,
            "width": null
          }
        },
        "a1a22fef83e14a629d231817171eab6c": {
          "model_module": "@jupyter-widgets/controls",
          "model_name": "DescriptionStyleModel",
          "model_module_version": "1.5.0",
          "state": {
            "_model_module": "@jupyter-widgets/controls",
            "_model_module_version": "1.5.0",
            "_model_name": "DescriptionStyleModel",
            "_view_count": null,
            "_view_module": "@jupyter-widgets/base",
            "_view_module_version": "1.2.0",
            "_view_name": "StyleView",
            "description_width": ""
          }
        },
        "fdfbe3a8b33948d6a912bdbca7fea92d": {
          "model_module": "@jupyter-widgets/controls",
          "model_name": "HBoxModel",
          "model_module_version": "1.5.0",
          "state": {
            "_dom_classes": [],
            "_model_module": "@jupyter-widgets/controls",
            "_model_module_version": "1.5.0",
            "_model_name": "HBoxModel",
            "_view_count": null,
            "_view_module": "@jupyter-widgets/controls",
            "_view_module_version": "1.5.0",
            "_view_name": "HBoxView",
            "box_style": "",
            "children": [
              "IPY_MODEL_7ddf6e19145a4882b2c8115a47ddf652",
              "IPY_MODEL_9ec29244846b4f15a6336a082c194e57",
              "IPY_MODEL_61217a71994948a686b9f91559139964"
            ],
            "layout": "IPY_MODEL_6ae2af3b9f5c463fb1d39b3527a5cccb"
          }
        },
        "7ddf6e19145a4882b2c8115a47ddf652": {
          "model_module": "@jupyter-widgets/controls",
          "model_name": "HTMLModel",
          "model_module_version": "1.5.0",
          "state": {
            "_dom_classes": [],
            "_model_module": "@jupyter-widgets/controls",
            "_model_module_version": "1.5.0",
            "_model_name": "HTMLModel",
            "_view_count": null,
            "_view_module": "@jupyter-widgets/controls",
            "_view_module_version": "1.5.0",
            "_view_name": "HTMLView",
            "description": "",
            "description_tooltip": null,
            "layout": "IPY_MODEL_fecf92c5983b43beb49fb9a7a6c869ed",
            "placeholder": "​",
            "style": "IPY_MODEL_2187509d93784f32a03c65332ef7b8ef",
            "value": "Downloading (…)olve/main/vocab.json: 100%"
          }
        },
        "9ec29244846b4f15a6336a082c194e57": {
          "model_module": "@jupyter-widgets/controls",
          "model_name": "FloatProgressModel",
          "model_module_version": "1.5.0",
          "state": {
            "_dom_classes": [],
            "_model_module": "@jupyter-widgets/controls",
            "_model_module_version": "1.5.0",
            "_model_name": "FloatProgressModel",
            "_view_count": null,
            "_view_module": "@jupyter-widgets/controls",
            "_view_module_version": "1.5.0",
            "_view_name": "ProgressView",
            "bar_style": "success",
            "description": "",
            "description_tooltip": null,
            "layout": "IPY_MODEL_1d4d2ff170744a369abd83d3278323ee",
            "max": 1042301,
            "min": 0,
            "orientation": "horizontal",
            "style": "IPY_MODEL_9a0f6e472eff4c26938ec14c4572500e",
            "value": 1042301
          }
        },
        "61217a71994948a686b9f91559139964": {
          "model_module": "@jupyter-widgets/controls",
          "model_name": "HTMLModel",
          "model_module_version": "1.5.0",
          "state": {
            "_dom_classes": [],
            "_model_module": "@jupyter-widgets/controls",
            "_model_module_version": "1.5.0",
            "_model_name": "HTMLModel",
            "_view_count": null,
            "_view_module": "@jupyter-widgets/controls",
            "_view_module_version": "1.5.0",
            "_view_name": "HTMLView",
            "description": "",
            "description_tooltip": null,
            "layout": "IPY_MODEL_59f81a01093c40b58a39797bd2b3bd84",
            "placeholder": "​",
            "style": "IPY_MODEL_8328734c44e247da86cc60adea7ceabb",
            "value": " 1.04M/1.04M [00:00&lt;00:00, 10.2MB/s]"
          }
        },
        "6ae2af3b9f5c463fb1d39b3527a5cccb": {
          "model_module": "@jupyter-widgets/base",
          "model_name": "LayoutModel",
          "model_module_version": "1.2.0",
          "state": {
            "_model_module": "@jupyter-widgets/base",
            "_model_module_version": "1.2.0",
            "_model_name": "LayoutModel",
            "_view_count": null,
            "_view_module": "@jupyter-widgets/base",
            "_view_module_version": "1.2.0",
            "_view_name": "LayoutView",
            "align_content": null,
            "align_items": null,
            "align_self": null,
            "border": null,
            "bottom": null,
            "display": null,
            "flex": null,
            "flex_flow": null,
            "grid_area": null,
            "grid_auto_columns": null,
            "grid_auto_flow": null,
            "grid_auto_rows": null,
            "grid_column": null,
            "grid_gap": null,
            "grid_row": null,
            "grid_template_areas": null,
            "grid_template_columns": null,
            "grid_template_rows": null,
            "height": null,
            "justify_content": null,
            "justify_items": null,
            "left": null,
            "margin": null,
            "max_height": null,
            "max_width": null,
            "min_height": null,
            "min_width": null,
            "object_fit": null,
            "object_position": null,
            "order": null,
            "overflow": null,
            "overflow_x": null,
            "overflow_y": null,
            "padding": null,
            "right": null,
            "top": null,
            "visibility": null,
            "width": null
          }
        },
        "fecf92c5983b43beb49fb9a7a6c869ed": {
          "model_module": "@jupyter-widgets/base",
          "model_name": "LayoutModel",
          "model_module_version": "1.2.0",
          "state": {
            "_model_module": "@jupyter-widgets/base",
            "_model_module_version": "1.2.0",
            "_model_name": "LayoutModel",
            "_view_count": null,
            "_view_module": "@jupyter-widgets/base",
            "_view_module_version": "1.2.0",
            "_view_name": "LayoutView",
            "align_content": null,
            "align_items": null,
            "align_self": null,
            "border": null,
            "bottom": null,
            "display": null,
            "flex": null,
            "flex_flow": null,
            "grid_area": null,
            "grid_auto_columns": null,
            "grid_auto_flow": null,
            "grid_auto_rows": null,
            "grid_column": null,
            "grid_gap": null,
            "grid_row": null,
            "grid_template_areas": null,
            "grid_template_columns": null,
            "grid_template_rows": null,
            "height": null,
            "justify_content": null,
            "justify_items": null,
            "left": null,
            "margin": null,
            "max_height": null,
            "max_width": null,
            "min_height": null,
            "min_width": null,
            "object_fit": null,
            "object_position": null,
            "order": null,
            "overflow": null,
            "overflow_x": null,
            "overflow_y": null,
            "padding": null,
            "right": null,
            "top": null,
            "visibility": null,
            "width": null
          }
        },
        "2187509d93784f32a03c65332ef7b8ef": {
          "model_module": "@jupyter-widgets/controls",
          "model_name": "DescriptionStyleModel",
          "model_module_version": "1.5.0",
          "state": {
            "_model_module": "@jupyter-widgets/controls",
            "_model_module_version": "1.5.0",
            "_model_name": "DescriptionStyleModel",
            "_view_count": null,
            "_view_module": "@jupyter-widgets/base",
            "_view_module_version": "1.2.0",
            "_view_name": "StyleView",
            "description_width": ""
          }
        },
        "1d4d2ff170744a369abd83d3278323ee": {
          "model_module": "@jupyter-widgets/base",
          "model_name": "LayoutModel",
          "model_module_version": "1.2.0",
          "state": {
            "_model_module": "@jupyter-widgets/base",
            "_model_module_version": "1.2.0",
            "_model_name": "LayoutModel",
            "_view_count": null,
            "_view_module": "@jupyter-widgets/base",
            "_view_module_version": "1.2.0",
            "_view_name": "LayoutView",
            "align_content": null,
            "align_items": null,
            "align_self": null,
            "border": null,
            "bottom": null,
            "display": null,
            "flex": null,
            "flex_flow": null,
            "grid_area": null,
            "grid_auto_columns": null,
            "grid_auto_flow": null,
            "grid_auto_rows": null,
            "grid_column": null,
            "grid_gap": null,
            "grid_row": null,
            "grid_template_areas": null,
            "grid_template_columns": null,
            "grid_template_rows": null,
            "height": null,
            "justify_content": null,
            "justify_items": null,
            "left": null,
            "margin": null,
            "max_height": null,
            "max_width": null,
            "min_height": null,
            "min_width": null,
            "object_fit": null,
            "object_position": null,
            "order": null,
            "overflow": null,
            "overflow_x": null,
            "overflow_y": null,
            "padding": null,
            "right": null,
            "top": null,
            "visibility": null,
            "width": null
          }
        },
        "9a0f6e472eff4c26938ec14c4572500e": {
          "model_module": "@jupyter-widgets/controls",
          "model_name": "ProgressStyleModel",
          "model_module_version": "1.5.0",
          "state": {
            "_model_module": "@jupyter-widgets/controls",
            "_model_module_version": "1.5.0",
            "_model_name": "ProgressStyleModel",
            "_view_count": null,
            "_view_module": "@jupyter-widgets/base",
            "_view_module_version": "1.2.0",
            "_view_name": "StyleView",
            "bar_color": null,
            "description_width": ""
          }
        },
        "59f81a01093c40b58a39797bd2b3bd84": {
          "model_module": "@jupyter-widgets/base",
          "model_name": "LayoutModel",
          "model_module_version": "1.2.0",
          "state": {
            "_model_module": "@jupyter-widgets/base",
            "_model_module_version": "1.2.0",
            "_model_name": "LayoutModel",
            "_view_count": null,
            "_view_module": "@jupyter-widgets/base",
            "_view_module_version": "1.2.0",
            "_view_name": "LayoutView",
            "align_content": null,
            "align_items": null,
            "align_self": null,
            "border": null,
            "bottom": null,
            "display": null,
            "flex": null,
            "flex_flow": null,
            "grid_area": null,
            "grid_auto_columns": null,
            "grid_auto_flow": null,
            "grid_auto_rows": null,
            "grid_column": null,
            "grid_gap": null,
            "grid_row": null,
            "grid_template_areas": null,
            "grid_template_columns": null,
            "grid_template_rows": null,
            "height": null,
            "justify_content": null,
            "justify_items": null,
            "left": null,
            "margin": null,
            "max_height": null,
            "max_width": null,
            "min_height": null,
            "min_width": null,
            "object_fit": null,
            "object_position": null,
            "order": null,
            "overflow": null,
            "overflow_x": null,
            "overflow_y": null,
            "padding": null,
            "right": null,
            "top": null,
            "visibility": null,
            "width": null
          }
        },
        "8328734c44e247da86cc60adea7ceabb": {
          "model_module": "@jupyter-widgets/controls",
          "model_name": "DescriptionStyleModel",
          "model_module_version": "1.5.0",
          "state": {
            "_model_module": "@jupyter-widgets/controls",
            "_model_module_version": "1.5.0",
            "_model_name": "DescriptionStyleModel",
            "_view_count": null,
            "_view_module": "@jupyter-widgets/base",
            "_view_module_version": "1.2.0",
            "_view_name": "StyleView",
            "description_width": ""
          }
        },
        "1b2583cf2de243ac971bd56ecfa056b8": {
          "model_module": "@jupyter-widgets/controls",
          "model_name": "HBoxModel",
          "model_module_version": "1.5.0",
          "state": {
            "_dom_classes": [],
            "_model_module": "@jupyter-widgets/controls",
            "_model_module_version": "1.5.0",
            "_model_name": "HBoxModel",
            "_view_count": null,
            "_view_module": "@jupyter-widgets/controls",
            "_view_module_version": "1.5.0",
            "_view_name": "HBoxView",
            "box_style": "",
            "children": [
              "IPY_MODEL_8f0ebe0ef06044dfb27e02ff0a4ed807",
              "IPY_MODEL_f03e44a06d2649a185cb5c175fe0d41d",
              "IPY_MODEL_66609e6179c649fa870485071e8cb43f"
            ],
            "layout": "IPY_MODEL_04285e8fb84e45d2aa37ebf6b2479d59"
          }
        },
        "8f0ebe0ef06044dfb27e02ff0a4ed807": {
          "model_module": "@jupyter-widgets/controls",
          "model_name": "HTMLModel",
          "model_module_version": "1.5.0",
          "state": {
            "_dom_classes": [],
            "_model_module": "@jupyter-widgets/controls",
            "_model_module_version": "1.5.0",
            "_model_name": "HTMLModel",
            "_view_count": null,
            "_view_module": "@jupyter-widgets/controls",
            "_view_module_version": "1.5.0",
            "_view_name": "HTMLView",
            "description": "",
            "description_tooltip": null,
            "layout": "IPY_MODEL_5cb232dbf3344473ad209914572921aa",
            "placeholder": "​",
            "style": "IPY_MODEL_0387d302da334acb803fbca97647a34b",
            "value": "Downloading (…)olve/main/merges.txt: 100%"
          }
        },
        "f03e44a06d2649a185cb5c175fe0d41d": {
          "model_module": "@jupyter-widgets/controls",
          "model_name": "FloatProgressModel",
          "model_module_version": "1.5.0",
          "state": {
            "_dom_classes": [],
            "_model_module": "@jupyter-widgets/controls",
            "_model_module_version": "1.5.0",
            "_model_name": "FloatProgressModel",
            "_view_count": null,
            "_view_module": "@jupyter-widgets/controls",
            "_view_module_version": "1.5.0",
            "_view_name": "ProgressView",
            "bar_style": "success",
            "description": "",
            "description_tooltip": null,
            "layout": "IPY_MODEL_8b03a8c5780e480c8a6cb926e857b367",
            "max": 456318,
            "min": 0,
            "orientation": "horizontal",
            "style": "IPY_MODEL_efb877ccc0d1420eaa4609ff3400c8d9",
            "value": 456318
          }
        },
        "66609e6179c649fa870485071e8cb43f": {
          "model_module": "@jupyter-widgets/controls",
          "model_name": "HTMLModel",
          "model_module_version": "1.5.0",
          "state": {
            "_dom_classes": [],
            "_model_module": "@jupyter-widgets/controls",
            "_model_module_version": "1.5.0",
            "_model_name": "HTMLModel",
            "_view_count": null,
            "_view_module": "@jupyter-widgets/controls",
            "_view_module_version": "1.5.0",
            "_view_name": "HTMLView",
            "description": "",
            "description_tooltip": null,
            "layout": "IPY_MODEL_299a2d5c07514bd0a50de244e927a370",
            "placeholder": "​",
            "style": "IPY_MODEL_d3513f60652840eb92ddc10ea24d51ad",
            "value": " 456k/456k [00:00&lt;00:00, 5.91MB/s]"
          }
        },
        "04285e8fb84e45d2aa37ebf6b2479d59": {
          "model_module": "@jupyter-widgets/base",
          "model_name": "LayoutModel",
          "model_module_version": "1.2.0",
          "state": {
            "_model_module": "@jupyter-widgets/base",
            "_model_module_version": "1.2.0",
            "_model_name": "LayoutModel",
            "_view_count": null,
            "_view_module": "@jupyter-widgets/base",
            "_view_module_version": "1.2.0",
            "_view_name": "LayoutView",
            "align_content": null,
            "align_items": null,
            "align_self": null,
            "border": null,
            "bottom": null,
            "display": null,
            "flex": null,
            "flex_flow": null,
            "grid_area": null,
            "grid_auto_columns": null,
            "grid_auto_flow": null,
            "grid_auto_rows": null,
            "grid_column": null,
            "grid_gap": null,
            "grid_row": null,
            "grid_template_areas": null,
            "grid_template_columns": null,
            "grid_template_rows": null,
            "height": null,
            "justify_content": null,
            "justify_items": null,
            "left": null,
            "margin": null,
            "max_height": null,
            "max_width": null,
            "min_height": null,
            "min_width": null,
            "object_fit": null,
            "object_position": null,
            "order": null,
            "overflow": null,
            "overflow_x": null,
            "overflow_y": null,
            "padding": null,
            "right": null,
            "top": null,
            "visibility": null,
            "width": null
          }
        },
        "5cb232dbf3344473ad209914572921aa": {
          "model_module": "@jupyter-widgets/base",
          "model_name": "LayoutModel",
          "model_module_version": "1.2.0",
          "state": {
            "_model_module": "@jupyter-widgets/base",
            "_model_module_version": "1.2.0",
            "_model_name": "LayoutModel",
            "_view_count": null,
            "_view_module": "@jupyter-widgets/base",
            "_view_module_version": "1.2.0",
            "_view_name": "LayoutView",
            "align_content": null,
            "align_items": null,
            "align_self": null,
            "border": null,
            "bottom": null,
            "display": null,
            "flex": null,
            "flex_flow": null,
            "grid_area": null,
            "grid_auto_columns": null,
            "grid_auto_flow": null,
            "grid_auto_rows": null,
            "grid_column": null,
            "grid_gap": null,
            "grid_row": null,
            "grid_template_areas": null,
            "grid_template_columns": null,
            "grid_template_rows": null,
            "height": null,
            "justify_content": null,
            "justify_items": null,
            "left": null,
            "margin": null,
            "max_height": null,
            "max_width": null,
            "min_height": null,
            "min_width": null,
            "object_fit": null,
            "object_position": null,
            "order": null,
            "overflow": null,
            "overflow_x": null,
            "overflow_y": null,
            "padding": null,
            "right": null,
            "top": null,
            "visibility": null,
            "width": null
          }
        },
        "0387d302da334acb803fbca97647a34b": {
          "model_module": "@jupyter-widgets/controls",
          "model_name": "DescriptionStyleModel",
          "model_module_version": "1.5.0",
          "state": {
            "_model_module": "@jupyter-widgets/controls",
            "_model_module_version": "1.5.0",
            "_model_name": "DescriptionStyleModel",
            "_view_count": null,
            "_view_module": "@jupyter-widgets/base",
            "_view_module_version": "1.2.0",
            "_view_name": "StyleView",
            "description_width": ""
          }
        },
        "8b03a8c5780e480c8a6cb926e857b367": {
          "model_module": "@jupyter-widgets/base",
          "model_name": "LayoutModel",
          "model_module_version": "1.2.0",
          "state": {
            "_model_module": "@jupyter-widgets/base",
            "_model_module_version": "1.2.0",
            "_model_name": "LayoutModel",
            "_view_count": null,
            "_view_module": "@jupyter-widgets/base",
            "_view_module_version": "1.2.0",
            "_view_name": "LayoutView",
            "align_content": null,
            "align_items": null,
            "align_self": null,
            "border": null,
            "bottom": null,
            "display": null,
            "flex": null,
            "flex_flow": null,
            "grid_area": null,
            "grid_auto_columns": null,
            "grid_auto_flow": null,
            "grid_auto_rows": null,
            "grid_column": null,
            "grid_gap": null,
            "grid_row": null,
            "grid_template_areas": null,
            "grid_template_columns": null,
            "grid_template_rows": null,
            "height": null,
            "justify_content": null,
            "justify_items": null,
            "left": null,
            "margin": null,
            "max_height": null,
            "max_width": null,
            "min_height": null,
            "min_width": null,
            "object_fit": null,
            "object_position": null,
            "order": null,
            "overflow": null,
            "overflow_x": null,
            "overflow_y": null,
            "padding": null,
            "right": null,
            "top": null,
            "visibility": null,
            "width": null
          }
        },
        "efb877ccc0d1420eaa4609ff3400c8d9": {
          "model_module": "@jupyter-widgets/controls",
          "model_name": "ProgressStyleModel",
          "model_module_version": "1.5.0",
          "state": {
            "_model_module": "@jupyter-widgets/controls",
            "_model_module_version": "1.5.0",
            "_model_name": "ProgressStyleModel",
            "_view_count": null,
            "_view_module": "@jupyter-widgets/base",
            "_view_module_version": "1.2.0",
            "_view_name": "StyleView",
            "bar_color": null,
            "description_width": ""
          }
        },
        "299a2d5c07514bd0a50de244e927a370": {
          "model_module": "@jupyter-widgets/base",
          "model_name": "LayoutModel",
          "model_module_version": "1.2.0",
          "state": {
            "_model_module": "@jupyter-widgets/base",
            "_model_module_version": "1.2.0",
            "_model_name": "LayoutModel",
            "_view_count": null,
            "_view_module": "@jupyter-widgets/base",
            "_view_module_version": "1.2.0",
            "_view_name": "LayoutView",
            "align_content": null,
            "align_items": null,
            "align_self": null,
            "border": null,
            "bottom": null,
            "display": null,
            "flex": null,
            "flex_flow": null,
            "grid_area": null,
            "grid_auto_columns": null,
            "grid_auto_flow": null,
            "grid_auto_rows": null,
            "grid_column": null,
            "grid_gap": null,
            "grid_row": null,
            "grid_template_areas": null,
            "grid_template_columns": null,
            "grid_template_rows": null,
            "height": null,
            "justify_content": null,
            "justify_items": null,
            "left": null,
            "margin": null,
            "max_height": null,
            "max_width": null,
            "min_height": null,
            "min_width": null,
            "object_fit": null,
            "object_position": null,
            "order": null,
            "overflow": null,
            "overflow_x": null,
            "overflow_y": null,
            "padding": null,
            "right": null,
            "top": null,
            "visibility": null,
            "width": null
          }
        },
        "d3513f60652840eb92ddc10ea24d51ad": {
          "model_module": "@jupyter-widgets/controls",
          "model_name": "DescriptionStyleModel",
          "model_module_version": "1.5.0",
          "state": {
            "_model_module": "@jupyter-widgets/controls",
            "_model_module_version": "1.5.0",
            "_model_name": "DescriptionStyleModel",
            "_view_count": null,
            "_view_module": "@jupyter-widgets/base",
            "_view_module_version": "1.2.0",
            "_view_name": "StyleView",
            "description_width": ""
          }
        },
        "2b2d37b26337473aba52e38ac7893cff": {
          "model_module": "@jupyter-widgets/controls",
          "model_name": "HBoxModel",
          "model_module_version": "1.5.0",
          "state": {
            "_dom_classes": [],
            "_model_module": "@jupyter-widgets/controls",
            "_model_module_version": "1.5.0",
            "_model_name": "HBoxModel",
            "_view_count": null,
            "_view_module": "@jupyter-widgets/controls",
            "_view_module_version": "1.5.0",
            "_view_name": "HBoxView",
            "box_style": "",
            "children": [
              "IPY_MODEL_f2ba1a4525044e19ab0f2141936065d9",
              "IPY_MODEL_698fd22ec3da4d40b227bbe5935d1eb3",
              "IPY_MODEL_6f830495652d4ef99215577bdcd94929"
            ],
            "layout": "IPY_MODEL_e6f5aff48e2542cbac8443e6c68e2684"
          }
        },
        "f2ba1a4525044e19ab0f2141936065d9": {
          "model_module": "@jupyter-widgets/controls",
          "model_name": "HTMLModel",
          "model_module_version": "1.5.0",
          "state": {
            "_dom_classes": [],
            "_model_module": "@jupyter-widgets/controls",
            "_model_module_version": "1.5.0",
            "_model_name": "HTMLModel",
            "_view_count": null,
            "_view_module": "@jupyter-widgets/controls",
            "_view_module_version": "1.5.0",
            "_view_name": "HTMLView",
            "description": "",
            "description_tooltip": null,
            "layout": "IPY_MODEL_7dad22f8b76c458cbbaf34db2b939a69",
            "placeholder": "​",
            "style": "IPY_MODEL_5f3cd94e398545a79ad485de101799f7",
            "value": "Downloading (…)/main/tokenizer.json: 100%"
          }
        },
        "698fd22ec3da4d40b227bbe5935d1eb3": {
          "model_module": "@jupyter-widgets/controls",
          "model_name": "FloatProgressModel",
          "model_module_version": "1.5.0",
          "state": {
            "_dom_classes": [],
            "_model_module": "@jupyter-widgets/controls",
            "_model_module_version": "1.5.0",
            "_model_name": "FloatProgressModel",
            "_view_count": null,
            "_view_module": "@jupyter-widgets/controls",
            "_view_module_version": "1.5.0",
            "_view_name": "ProgressView",
            "bar_style": "success",
            "description": "",
            "description_tooltip": null,
            "layout": "IPY_MODEL_886a9f66549f4076a95c449707d1653f",
            "max": 1355256,
            "min": 0,
            "orientation": "horizontal",
            "style": "IPY_MODEL_8d8ffd36a2874b959d80aced003d3b49",
            "value": 1355256
          }
        },
        "6f830495652d4ef99215577bdcd94929": {
          "model_module": "@jupyter-widgets/controls",
          "model_name": "HTMLModel",
          "model_module_version": "1.5.0",
          "state": {
            "_dom_classes": [],
            "_model_module": "@jupyter-widgets/controls",
            "_model_module_version": "1.5.0",
            "_model_name": "HTMLModel",
            "_view_count": null,
            "_view_module": "@jupyter-widgets/controls",
            "_view_module_version": "1.5.0",
            "_view_name": "HTMLView",
            "description": "",
            "description_tooltip": null,
            "layout": "IPY_MODEL_757e5415ec324db0b430a7ee83678722",
            "placeholder": "​",
            "style": "IPY_MODEL_36b57a3c39c04ac9ad472915d317ee25",
            "value": " 1.36M/1.36M [00:00&lt;00:00, 32.0MB/s]"
          }
        },
        "e6f5aff48e2542cbac8443e6c68e2684": {
          "model_module": "@jupyter-widgets/base",
          "model_name": "LayoutModel",
          "model_module_version": "1.2.0",
          "state": {
            "_model_module": "@jupyter-widgets/base",
            "_model_module_version": "1.2.0",
            "_model_name": "LayoutModel",
            "_view_count": null,
            "_view_module": "@jupyter-widgets/base",
            "_view_module_version": "1.2.0",
            "_view_name": "LayoutView",
            "align_content": null,
            "align_items": null,
            "align_self": null,
            "border": null,
            "bottom": null,
            "display": null,
            "flex": null,
            "flex_flow": null,
            "grid_area": null,
            "grid_auto_columns": null,
            "grid_auto_flow": null,
            "grid_auto_rows": null,
            "grid_column": null,
            "grid_gap": null,
            "grid_row": null,
            "grid_template_areas": null,
            "grid_template_columns": null,
            "grid_template_rows": null,
            "height": null,
            "justify_content": null,
            "justify_items": null,
            "left": null,
            "margin": null,
            "max_height": null,
            "max_width": null,
            "min_height": null,
            "min_width": null,
            "object_fit": null,
            "object_position": null,
            "order": null,
            "overflow": null,
            "overflow_x": null,
            "overflow_y": null,
            "padding": null,
            "right": null,
            "top": null,
            "visibility": null,
            "width": null
          }
        },
        "7dad22f8b76c458cbbaf34db2b939a69": {
          "model_module": "@jupyter-widgets/base",
          "model_name": "LayoutModel",
          "model_module_version": "1.2.0",
          "state": {
            "_model_module": "@jupyter-widgets/base",
            "_model_module_version": "1.2.0",
            "_model_name": "LayoutModel",
            "_view_count": null,
            "_view_module": "@jupyter-widgets/base",
            "_view_module_version": "1.2.0",
            "_view_name": "LayoutView",
            "align_content": null,
            "align_items": null,
            "align_self": null,
            "border": null,
            "bottom": null,
            "display": null,
            "flex": null,
            "flex_flow": null,
            "grid_area": null,
            "grid_auto_columns": null,
            "grid_auto_flow": null,
            "grid_auto_rows": null,
            "grid_column": null,
            "grid_gap": null,
            "grid_row": null,
            "grid_template_areas": null,
            "grid_template_columns": null,
            "grid_template_rows": null,
            "height": null,
            "justify_content": null,
            "justify_items": null,
            "left": null,
            "margin": null,
            "max_height": null,
            "max_width": null,
            "min_height": null,
            "min_width": null,
            "object_fit": null,
            "object_position": null,
            "order": null,
            "overflow": null,
            "overflow_x": null,
            "overflow_y": null,
            "padding": null,
            "right": null,
            "top": null,
            "visibility": null,
            "width": null
          }
        },
        "5f3cd94e398545a79ad485de101799f7": {
          "model_module": "@jupyter-widgets/controls",
          "model_name": "DescriptionStyleModel",
          "model_module_version": "1.5.0",
          "state": {
            "_model_module": "@jupyter-widgets/controls",
            "_model_module_version": "1.5.0",
            "_model_name": "DescriptionStyleModel",
            "_view_count": null,
            "_view_module": "@jupyter-widgets/base",
            "_view_module_version": "1.2.0",
            "_view_name": "StyleView",
            "description_width": ""
          }
        },
        "886a9f66549f4076a95c449707d1653f": {
          "model_module": "@jupyter-widgets/base",
          "model_name": "LayoutModel",
          "model_module_version": "1.2.0",
          "state": {
            "_model_module": "@jupyter-widgets/base",
            "_model_module_version": "1.2.0",
            "_model_name": "LayoutModel",
            "_view_count": null,
            "_view_module": "@jupyter-widgets/base",
            "_view_module_version": "1.2.0",
            "_view_name": "LayoutView",
            "align_content": null,
            "align_items": null,
            "align_self": null,
            "border": null,
            "bottom": null,
            "display": null,
            "flex": null,
            "flex_flow": null,
            "grid_area": null,
            "grid_auto_columns": null,
            "grid_auto_flow": null,
            "grid_auto_rows": null,
            "grid_column": null,
            "grid_gap": null,
            "grid_row": null,
            "grid_template_areas": null,
            "grid_template_columns": null,
            "grid_template_rows": null,
            "height": null,
            "justify_content": null,
            "justify_items": null,
            "left": null,
            "margin": null,
            "max_height": null,
            "max_width": null,
            "min_height": null,
            "min_width": null,
            "object_fit": null,
            "object_position": null,
            "order": null,
            "overflow": null,
            "overflow_x": null,
            "overflow_y": null,
            "padding": null,
            "right": null,
            "top": null,
            "visibility": null,
            "width": null
          }
        },
        "8d8ffd36a2874b959d80aced003d3b49": {
          "model_module": "@jupyter-widgets/controls",
          "model_name": "ProgressStyleModel",
          "model_module_version": "1.5.0",
          "state": {
            "_model_module": "@jupyter-widgets/controls",
            "_model_module_version": "1.5.0",
            "_model_name": "ProgressStyleModel",
            "_view_count": null,
            "_view_module": "@jupyter-widgets/base",
            "_view_module_version": "1.2.0",
            "_view_name": "StyleView",
            "bar_color": null,
            "description_width": ""
          }
        },
        "757e5415ec324db0b430a7ee83678722": {
          "model_module": "@jupyter-widgets/base",
          "model_name": "LayoutModel",
          "model_module_version": "1.2.0",
          "state": {
            "_model_module": "@jupyter-widgets/base",
            "_model_module_version": "1.2.0",
            "_model_name": "LayoutModel",
            "_view_count": null,
            "_view_module": "@jupyter-widgets/base",
            "_view_module_version": "1.2.0",
            "_view_name": "LayoutView",
            "align_content": null,
            "align_items": null,
            "align_self": null,
            "border": null,
            "bottom": null,
            "display": null,
            "flex": null,
            "flex_flow": null,
            "grid_area": null,
            "grid_auto_columns": null,
            "grid_auto_flow": null,
            "grid_auto_rows": null,
            "grid_column": null,
            "grid_gap": null,
            "grid_row": null,
            "grid_template_areas": null,
            "grid_template_columns": null,
            "grid_template_rows": null,
            "height": null,
            "justify_content": null,
            "justify_items": null,
            "left": null,
            "margin": null,
            "max_height": null,
            "max_width": null,
            "min_height": null,
            "min_width": null,
            "object_fit": null,
            "object_position": null,
            "order": null,
            "overflow": null,
            "overflow_x": null,
            "overflow_y": null,
            "padding": null,
            "right": null,
            "top": null,
            "visibility": null,
            "width": null
          }
        },
        "36b57a3c39c04ac9ad472915d317ee25": {
          "model_module": "@jupyter-widgets/controls",
          "model_name": "DescriptionStyleModel",
          "model_module_version": "1.5.0",
          "state": {
            "_model_module": "@jupyter-widgets/controls",
            "_model_module_version": "1.5.0",
            "_model_name": "DescriptionStyleModel",
            "_view_count": null,
            "_view_module": "@jupyter-widgets/base",
            "_view_module_version": "1.2.0",
            "_view_name": "StyleView",
            "description_width": ""
          }
        }
      }
    },
    "accelerator": "GPU"
  },
  "nbformat": 4,
  "nbformat_minor": 0
}