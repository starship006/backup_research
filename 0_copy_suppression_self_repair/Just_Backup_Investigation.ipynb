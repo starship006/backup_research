{
  "cells": [
    {
      "cell_type": "markdown",
      "metadata": {
        "id": "cECQfwPeTC_S"
      },
      "source": [
        "# Imports"
      ]
    },
    {
      "cell_type": "code",
      "execution_count": 1,
      "metadata": {
        "colab": {
          "base_uri": "https://localhost:8080/",
          "height": 1000
        },
        "id": "tn_t6ggySXUx",
        "outputId": "f9d63391-81b9-4cfe-f588-0dcd1125a918"
      },
      "outputs": [],
      "source": [
        "import math\n",
        "import torch\n",
        "import torch.nn as nn\n",
        "import torch.nn.functional as F\n",
        "import torch.optim as optim\n",
        "from torch import Tensor\n",
        "\n",
        "import numpy as np\n",
        "import pandas as pd\n",
        "import einops\n",
        "from fancy_einsum import einsum\n",
        "import tqdm.auto as tqdm\n",
        "import random\n",
        "from pathlib import Path\n",
        "# import plotly.express as px\n",
        "from torch.utils.data import DataLoader\n",
        "from typing import Union, List, Optional, Callable, Tuple, Dict, Literal, Set\n",
        "from jaxtyping import Float, Int\n",
        "from functools import partial\n",
        "import copy\n",
        "\n",
        "import itertools\n",
        "from transformers import AutoModelForCausalLM, AutoConfig, AutoTokenizer\n",
        "import dataclasses\n",
        "import datasets\n",
        "from IPython.display import HTML\n",
        "\n",
        "import transformer_lens\n",
        "import transformer_lens.utils as utils\n",
        "from transformer_lens.utils import to_numpy\n",
        "from transformer_lens.hook_points import (\n",
        "    HookedRootModule,\n",
        "    HookPoint,\n",
        ")  # Hooking utilities\n",
        "from transformer_lens import HookedTransformer, HookedTransformerConfig, FactoredMatrix, ActivationCache, patching\n",
        "\n",
        "import plotly.express as px\n",
        "import circuitsvis as cv\n",
        "import os, sys"
      ]
    },
    {
      "cell_type": "code",
      "execution_count": 2,
      "metadata": {
        "colab": {
          "base_uri": "https://localhost:8080/"
        },
        "id": "F-EbXu2Wr7k8",
        "outputId": "12516e33-4f4c-4a28-c4f6-e70b7dc5bc73"
      },
      "outputs": [],
      "source": [
        "if not os.path.exists(\"path_patching.py\"):\n",
        "        !wget https://github.com/callummcdougall/path_patching/archive/refs/heads/main.zip\n",
        "        !unzip /content/main.zip 'path_patching-main/ioi_dataset.py'\n",
        "        !unzip /content/main.zip 'path_patching-main/path_patching.py'\n",
        "        sys.path.append(\"/content/path_patching-main\")\n",
        "        os.remove(\"/content/main.zip\")\n",
        "        os.rename(\"/content/path_patching-main/ioi_dataset.py\", \"ioi_dataset.py\")\n",
        "        os.rename(\"/content/path_patching-main/path_patching.py\", \"path_patching.py\")\n",
        "        os.rmdir(\"/content/path_patching-main\")\n",
        "\n",
        "from path_patching import Node, IterNode, path_patch, act_patch"
      ]
    },
    {
      "cell_type": "code",
      "execution_count": 3,
      "metadata": {
        "colab": {
          "base_uri": "https://localhost:8080/"
        },
        "id": "SUkXJ1EiS5kx",
        "outputId": "ecee8021-5c24-49ac-fe67-d3d7685abd33"
      },
      "outputs": [],
      "source": [
        "#%pip install git+https://github.com/neelnanda-io/neel-plotly.git\n",
        "from neel_plotly import imshow, line, scatter, histogram\n",
        "import tqdm\n",
        "torch.set_grad_enabled(False)\n",
        "device = \"cuda\" if torch.cuda.is_available() else \"cpu\""
      ]
    },
    {
      "cell_type": "code",
      "execution_count": 4,
      "metadata": {},
      "outputs": [
        {
          "data": {
            "text/plain": [
              "'cuda'"
            ]
          },
          "execution_count": 4,
          "metadata": {},
          "output_type": "execute_result"
        }
      ],
      "source": [
        "device"
      ]
    },
    {
      "cell_type": "code",
      "execution_count": 5,
      "metadata": {
        "id": "XKuRn5k2U1wd"
      },
      "outputs": [],
      "source": [
        "if not os.path.exists(\"path_patching.py\"):\n",
        "        !wget https://github.com/callummcdougall/path_patching/archive/refs/heads/main.zip\n",
        "        !unzip main.zip 'path_patching-main/ioi_dataset.py'\n",
        "        !unzip main.zip 'path_patching-main/path_patching.py'\n",
        "        sys.path.append(\"/path_patching-main\")\n",
        "        os.remove(\"main.zip\")\n",
        "        os.rename(\"/path_patching-main/ioi_dataset.py\", \"ioi_dataset.py\")\n",
        "        os.rename(\"/path_patching-main/path_patching.py\", \"path_patching.py\")\n",
        "        os.rmdir(\"/path_patching-main\")\n",
        "\n",
        "from path_patching import Node, IterNode, path_patch, act_patch"
      ]
    },
    {
      "cell_type": "code",
      "execution_count": 6,
      "metadata": {
        "id": "8vlEXgxRWrZw"
      },
      "outputs": [],
      "source": [
        "update_layout_set = {\n",
        "    \"xaxis_range\", \"yaxis_range\", \"hovermode\", \"xaxis_title\", \"yaxis_title\", \"colorbar\", \"colorscale\", \"coloraxis\", \"title_x\", \"bargap\", \"bargroupgap\", \"xaxis_tickformat\",\n",
        "    \"yaxis_tickformat\", \"title_y\", \"legend_title_text\", \"xaxis_showgrid\", \"xaxis_gridwidth\", \"xaxis_gridcolor\", \"yaxis_showgrid\", \"yaxis_gridwidth\", \"yaxis_gridcolor\",\n",
        "    \"showlegend\", \"xaxis_tickmode\", \"yaxis_tickmode\", \"xaxis_tickangle\", \"yaxis_tickangle\", \"margin\", \"xaxis_visible\", \"yaxis_visible\", \"bargap\", \"bargroupgap\"\n",
        "}\n",
        "\n",
        "def imshow(tensor, return_fig = False, renderer=None, **kwargs):\n",
        "    kwargs_post = {k: v for k, v in kwargs.items() if k in update_layout_set}\n",
        "    kwargs_pre = {k: v for k, v in kwargs.items() if k not in update_layout_set}\n",
        "    facet_labels = kwargs_pre.pop(\"facet_labels\", None)\n",
        "    border = kwargs_pre.pop(\"border\", False)\n",
        "    if \"color_continuous_scale\" not in kwargs_pre:\n",
        "        kwargs_pre[\"color_continuous_scale\"] = \"RdBu\"\n",
        "    if \"margin\" in kwargs_post and isinstance(kwargs_post[\"margin\"], int):\n",
        "        kwargs_post[\"margin\"] = dict.fromkeys(list(\"tblr\"), kwargs_post[\"margin\"])\n",
        "    if \"color_continuous_midpoint\" not in kwargs_pre:\n",
        "        fig = px.imshow(utils.to_numpy(tensor), color_continuous_midpoint=0.0, **kwargs_pre)\n",
        "    else:\n",
        "        fig = px.imshow(utils.to_numpy(tensor), **kwargs_pre)\n",
        "    if facet_labels:\n",
        "        for i, label in enumerate(facet_labels):\n",
        "            fig.layout.annotations[i]['text'] = label\n",
        "    if border:\n",
        "        fig.update_xaxes(showline=True, linewidth=1, linecolor='black', mirror=True)\n",
        "        fig.update_yaxes(showline=True, linewidth=1, linecolor='black', mirror=True)\n",
        "    # things like `xaxis_tickmode` should be applied to all subplots. This is super janky lol but I'm under time pressure\n",
        "    for setting in [\"tickangle\"]:\n",
        "      if f\"xaxis_{setting}\" in kwargs_post:\n",
        "          i = 2\n",
        "          while f\"xaxis{i}\" in fig[\"layout\"]:\n",
        "            kwargs_post[f\"xaxis{i}_{setting}\"] = kwargs_post[f\"xaxis_{setting}\"]\n",
        "            i += 1\n",
        "    fig.update_layout(**kwargs_post)\n",
        "    fig.show(renderer=renderer)\n",
        "    if return_fig:\n",
        "      return fig\n",
        "\n",
        "def hist(tensor, renderer=None, **kwargs):\n",
        "    kwargs_post = {k: v for k, v in kwargs.items() if k in update_layout_set}\n",
        "    kwargs_pre = {k: v for k, v in kwargs.items() if k not in update_layout_set}\n",
        "    names = kwargs_pre.pop(\"names\", None)\n",
        "    if \"barmode\" not in kwargs_post:\n",
        "        kwargs_post[\"barmode\"] = \"overlay\"\n",
        "    if \"bargap\" not in kwargs_post:\n",
        "        kwargs_post[\"bargap\"] = 0.0\n",
        "    if \"margin\" in kwargs_post and isinstance(kwargs_post[\"margin\"], int):\n",
        "        kwargs_post[\"margin\"] = dict.fromkeys(list(\"tblr\"), kwargs_post[\"margin\"])\n",
        "    fig = px.histogram(x=tensor, **kwargs_pre).update_layout(**kwargs_post)\n",
        "    if names is not None:\n",
        "        for i in range(len(fig.data)):\n",
        "            fig.data[i][\"name\"] = names[i // 2]\n",
        "    fig.show(renderer)"
      ]
    },
    {
      "cell_type": "code",
      "execution_count": 7,
      "metadata": {
        "id": "dv-vp7D36Wbp"
      },
      "outputs": [],
      "source": [
        "from plotly import graph_objects as go\n",
        "from plotly.subplots import make_subplots"
      ]
    },
    {
      "cell_type": "code",
      "execution_count": 8,
      "metadata": {
        "colab": {
          "base_uri": "https://localhost:8080/",
          "height": 713,
          "referenced_widgets": [
            "e923e3829a8843aba3848efaeccd924b",
            "cf013367fc4f43be99a8fd303775824a",
            "7b4e59cad01e445dab2e640527c8989b",
            "4835c08ba29f44bab706eced9c0e5fc4",
            "349b3b55c6b94ec1b5cac00279328317",
            "5514c4a24cf34570b9c67f5af5cc680f",
            "5a7411e3407a4b059ce664f91438bee3",
            "ab2c741a30cc40aab2db12a042ff65ba",
            "15d5408516014936886e8e61f5ecf87b",
            "c40bb8ad30fe4c4a8bfb9bed8db9e7b9",
            "dee70b717baf4f4bb3d57032788890eb",
            "c75f7de87cb948a3af42e92f77ccb698",
            "71269e3c947d476ba7e68d55a21cf246",
            "cdbb5eae59e94878a72f148d3ed74534",
            "3a49806f238947a8b02241d2f71dc2ea",
            "195b8da1781849a697b9b6ad783ff585",
            "13401c53dfa94b15a8a2e7cd99052e65",
            "c2a351a5a782461790892193ac826712",
            "4a47842ce39c493aa417e7cc1656eeb3",
            "88dbb6e6aebc42dc8fd3c39653d7025a",
            "d582a6b924a84dab8952e5df51ef49b8",
            "e8b9fc46cea64f17a8de3359da6782cd",
            "bd484fb6989b428e8fed3381f436c702",
            "97bc7555d76f4eec9c9245af3e9eaf66",
            "f920042487d84c63b7c234584a19ac41",
            "341ef673608b441dba22e3890b0de81e",
            "fe2fdd94a757410883df75ad9c217884",
            "b64d0a7e38764885a1ab4be9b720c257",
            "c1bf49b8bd2d48fcbae87326b3d3e0d0",
            "3d3ba7a71dac40f7b2a2415a548e2e33",
            "b167061a133146c48e6fb225dc0f9cd7",
            "220f625eb44046efa59d7b7678847669",
            "5c57be58df7c4b34b785947e1e749c37",
            "97e8f384e6614ff4b7b588c62c7aba73",
            "ba93dbd6d62b436cb722f3a981030112",
            "e077707170d1496cb19582ca832d0b56",
            "cd88b5587e5840b9a71c28e864bcff89",
            "c1e66cb4f5ed49118f501db9e6b00f5c",
            "c09a3066563249ac9eee9d84978b27f7",
            "7df8da209ab44e87b21397ad4008d5ec",
            "f42e4eb1c0f446cc886bf4893167d294",
            "6f75246d6711461aae23acc651886857",
            "0bbe2b9932b24c809b3ac6f202d42d1c",
            "72aef4fc204a4d439184c362081af7da",
            "e0224ab127364da7bf45303a3b026f35",
            "c68981afc8d44440a9e045ae94a23a3a",
            "64338f70774f45989214b62357383bbe",
            "445a2888f78c4eceac5cfaa08be0c913",
            "3fec108289054b7da672b6b583e309c5",
            "911dae51d42445d7bfa919c2dd687546",
            "b3a393f2225e4e528da9db9f5d0d924d",
            "5ff84ab65de346349dabfd0a55dd52ef",
            "8d31ca8a320c4095bac6d7b705ca7b9e",
            "d82f19768e7744919ce77a0d020d6345",
            "e892a18c9b4c45edb637013389f774d4",
            "e50e81a24cc64cc884ce6db3bb229053",
            "0dd556d3d7d6428b8d99c74a7223f3e8",
            "707d3f3efbe84f8799ec1bc889b9762c",
            "45d78730e2664a65927a1627de5a4d72",
            "c59c03e7920f4662ac599347df5213ef",
            "ca12a1699cb7441d920202055b90f091",
            "97d6587da8a74547ba66ebbb8d7575d5",
            "52e0aa84e9294f00a6637e92ac50628c",
            "bfdcb730daab4a5a930784547f23f88a",
            "6b6b16c3d2204897a68d14b6abab2d4b",
            "620146517a9844708f7386024b4382ff"
          ]
        },
        "id": "o8KgURIVz1gf",
        "outputId": "1a815ccd-5767-40cd-e7c4-fbd6de53b66a"
      },
      "outputs": [
        {
          "name": "stderr",
          "output_type": "stream",
          "text": [
            "Using pad_token, but it is not set yet.\n"
          ]
        },
        {
          "name": "stdout",
          "output_type": "stream",
          "text": [
            "Loaded pretrained model gpt2-small into HookedTransformer\n"
          ]
        }
      ],
      "source": [
        "model = HookedTransformer.from_pretrained(\n",
        "    \"gpt2-small\",\n",
        "    center_unembed=True,\n",
        "    center_writing_weights=True,\n",
        "    fold_ln=True,\n",
        "    refactor_factored_attn_matrices=True,\n",
        "\n",
        "    device = device\n",
        ")"
      ]
    },
    {
      "cell_type": "markdown",
      "metadata": {
        "id": "Daje7Fw1m2W1"
      },
      "source": [
        "# Model + Dataset Setup"
      ]
    },
    {
      "cell_type": "markdown",
      "metadata": {
        "id": "Gv5obrKX0dZD"
      },
      "source": [
        "## lists"
      ]
    },
    {
      "cell_type": "code",
      "execution_count": 9,
      "metadata": {
        "id": "AxP_Xvfc0fb-"
      },
      "outputs": [],
      "source": [
        "objects = [\n",
        "  \"perfume\",\n",
        "  \"scissors\",\n",
        "  \"drum\",\n",
        "  \"trumpet\",\n",
        "  \"phone\",\n",
        "  \"football\",\n",
        "  \"token\",\n",
        "  \"bracelet\",\n",
        "  \"badge\",\n",
        "  \"novel\",\n",
        "  \"pillow\",\n",
        "  \"coffee\",\n",
        "  \"skirt\",\n",
        "  \"balloon\",\n",
        "  \"photo\",\n",
        "  \"plate\",\n",
        "  \"headphones\",\n",
        "  \"flask\",\n",
        "  \"menu\",\n",
        "  \"compass\",\n",
        "  \"belt\",\n",
        "  \"wallet\",\n",
        "  \"pen\",\n",
        "  \"mask\",\n",
        "  \"ticket\",\n",
        "  \"suitcase\",\n",
        "  \"sunscreen\",\n",
        "  \"letter\",\n",
        "  \"torch\",\n",
        "  \"cocktail\",\n",
        "  \"spoon\",\n",
        "  \"comb\",\n",
        "  \"shirt\",\n",
        "  \"coin\",\n",
        "  \"cable\",\n",
        "  \"button\",\n",
        "  \"recorder\",\n",
        "  \"frame\",\n",
        "  \"key\",\n",
        "  \"card\",\n",
        "  \"canvas\",\n",
        "  \"packet\",\n",
        "  \"bowl\",\n",
        "  \"receipt\",\n",
        "  \"pan\",\n",
        "  \"report\",\n",
        "  \"book\",\n",
        "  \"cap\",\n",
        "  \"charger\",\n",
        "  \"rake\",\n",
        "  \"fork\",\n",
        "  \"map\",\n",
        "  \"soap\",\n",
        "  \"cash\",\n",
        "  \"whistle\",\n",
        "  \"rope\",\n",
        "  \"violin\",\n",
        "  \"scale\",\n",
        "  \"diary\",\n",
        "  \"ruler\",\n",
        "  \"mouse\",\n",
        "  \"toy\",\n",
        "  \"cd\",\n",
        "  \"dress\",\n",
        "  \"shampoo\",\n",
        "  \"flashlight\",\n",
        "  \"newspaper\",\n",
        "  \"puzzle\",\n",
        "  \"tripod\",\n",
        "  \"brush\",\n",
        "  \"cane\",\n",
        "  \"whisk\",\n",
        "  \"tablet\",\n",
        "  \"purse\",\n",
        "  \"paper\",\n",
        "  \"vinyl\",\n",
        "  \"camera\",\n",
        "  \"guitar\",\n",
        "  \"necklace\",\n",
        "  \"mirror\",\n",
        "  \"cup\",\n",
        "  \"cloth\",\n",
        "  \"flag\",\n",
        "  \"socks\",\n",
        "  \"shovel\",\n",
        "  \"cooler\",\n",
        "  \"hammer\",\n",
        "  \"shoes\",\n",
        "  \"chalk\",\n",
        "  \"wrench\",\n",
        "  \"towel\",\n",
        "  \"glove\",\n",
        "  \"speaker\",\n",
        "  \"remote\",\n",
        "  \"leash\",\n",
        "  \"magazine\",\n",
        "  \"notebook\",\n",
        "  \"candle\",\n",
        "  \"feather\",\n",
        "  \"gloves\",\n",
        "  \"mascara\",\n",
        "  \"charcoal\",\n",
        "  \"pills\",\n",
        "  \"laptop\",\n",
        "  \"pamphlet\",\n",
        "  \"knife\",\n",
        "  \"kettle\",\n",
        "  \"scarf\",\n",
        "  \"tie\",\n",
        "  \"goggles\",\n",
        "  \"fins\",\n",
        "  \"lipstick\",\n",
        "  \"shorts\",\n",
        "  \"joystick\",\n",
        "  \"bookmark\",\n",
        "  \"microphone\",\n",
        "  \"hat\",\n",
        "  \"pants\",\n",
        "  \"umbrella\",\n",
        "  \"harness\",\n",
        "  \"roller\",\n",
        "  \"blanket\",\n",
        "  \"folder\",\n",
        "  \"bag\",\n",
        "  \"crate\",\n",
        "  \"pot\",\n",
        "  \"watch\",\n",
        "  \"mug\",\n",
        "  \"sandwich\",\n",
        "  \"yarn\",\n",
        "  \"ring\",\n",
        "  \"backpack\",\n",
        "  \"glasses\",\n",
        "  \"pencil\",\n",
        "  \"broom\",\n",
        "  \"baseball\",\n",
        "  \"basket\",\n",
        "  \"loaf\",\n",
        "  \"coins\",\n",
        "  \"bakery\",\n",
        "  \"tape\",\n",
        "  \"helmet\",\n",
        "  \"bible\",\n",
        "  \"jacket\"\n",
        "]"
      ]
    },
    {
      "cell_type": "code",
      "execution_count": 10,
      "metadata": {
        "id": "mkNghQGv640F"
      },
      "outputs": [],
      "source": [
        "names = [\n",
        "  \" Sebastian\",\n",
        "  \" Jack\",\n",
        "  \" Jeremiah\",\n",
        "  \" Ellie\",\n",
        "  \" Sean\",\n",
        "  \" William\",\n",
        "  \" Caroline\",\n",
        "  \" Cooper\",\n",
        "  \" Xavier\",\n",
        "  \" Ian\",\n",
        "  \" Mark\",\n",
        "  \" Brian\",\n",
        "  \" Carter\",\n",
        "  \" Nicholas\",\n",
        "  \" Peyton\",\n",
        "  \" Luke\",\n",
        "  \" Alexis\",\n",
        "  \" Ted\",\n",
        "  \" Jan\",\n",
        "  \" Ty\",\n",
        "  \" Jen\",\n",
        "  \" Sophie\",\n",
        "  \" Kelly\",\n",
        "  \" Claire\",\n",
        "  \" Leo\",\n",
        "  \" Nolan\",\n",
        "  \" Kyle\",\n",
        "  \" Ashley\",\n",
        "  \" Samantha\",\n",
        "  \" Avery\",\n",
        "  \" Jackson\",\n",
        "  \" Hudson\",\n",
        "  \" Rebecca\",\n",
        "  \" Robert\",\n",
        "  \" Joshua\",\n",
        "  \" Olivia\",\n",
        "  \" Reagan\",\n",
        "  \" Lauren\",\n",
        "  \" Chris\",\n",
        "  \" Chelsea\",\n",
        "  \" Deb\",\n",
        "  \" Chloe\",\n",
        "  \" Madison\",\n",
        "  \" Kent\",\n",
        "  \" Thomas\",\n",
        "  \" Oliver\",\n",
        "  \" Dylan\",\n",
        "  \" Ann\",\n",
        "  \" Audrey\",\n",
        "  \" Greg\",\n",
        "  \" Henry\",\n",
        "  \" Emma\",\n",
        "  \" Josh\",\n",
        "  \" Mary\",\n",
        "  \" Daniel\",\n",
        "  \" Carl\",\n",
        "  \" Scarlett\",\n",
        "  \" Ethan\",\n",
        "  \" Levi\",\n",
        "  \" Eli\",\n",
        "  \" James\",\n",
        "  \" Patrick\",\n",
        "  \" Isaac\",\n",
        "  \" Brooke\",\n",
        "  \" Alexa\",\n",
        "  \" Eleanor\",\n",
        "  \" Anthony\",\n",
        "  \" Logan\",\n",
        "  \" Damian\",\n",
        "  \" Jordan\",\n",
        "  \" Tyler\",\n",
        "  \" Haley\",\n",
        "  \" Isabel\",\n",
        "  \" Alan\",\n",
        "  \" Lucas\",\n",
        "  \" Dave\",\n",
        "  \" Susan\",\n",
        "  \" Joseph\",\n",
        "  \" Brad\",\n",
        "  \" Joe\",\n",
        "  \" Vincent\",\n",
        "  \" Maya\",\n",
        "  \" Will\",\n",
        "  \" Jessica\",\n",
        "  \" Sophia\",\n",
        "  \" Angel\",\n",
        "  \" Steve\",\n",
        "  \" Benjamin\",\n",
        "  \" Eric\",\n",
        "  \" Cole\",\n",
        "  \" Justin\",\n",
        "  \" Amy\",\n",
        "  \" Nora\",\n",
        "  \" Seth\",\n",
        "  \" Anna\",\n",
        "  \" Stella\",\n",
        "  \" Frank\",\n",
        "  \" Larry\",\n",
        "  \" Alexandra\",\n",
        "  \" Ken\",\n",
        "  \" Lucy\",\n",
        "  \" Katherine\",\n",
        "  \" Leah\",\n",
        "  \" Adrian\",\n",
        "  \" David\",\n",
        "  \" Liam\",\n",
        "  \" Christian\",\n",
        "  \" John\",\n",
        "  \" Nathaniel\",\n",
        "  \" Andrea\",\n",
        "  \" Laura\",\n",
        "  \" Kim\",\n",
        "  \" Kevin\",\n",
        "  \" Colin\",\n",
        "  \" Marcus\",\n",
        "  \" Emily\",\n",
        "  \" Sarah\",\n",
        "  \" Steven\",\n",
        "  \" Eva\",\n",
        "  \" Richard\",\n",
        "  \" Faith\",\n",
        "  \" Amelia\",\n",
        "  \" Harper\",\n",
        "  \" Keith\",\n",
        "  \" Ross\",\n",
        "  \" Megan\",\n",
        "  \" Brooklyn\",\n",
        "  \" Tom\",\n",
        "  \" Grant\",\n",
        "  \" Savannah\",\n",
        "  \" Riley\",\n",
        "  \" Julia\",\n",
        "  \" Piper\",\n",
        "  \" Wyatt\",\n",
        "  \" Jake\",\n",
        "  \" Nathan\",\n",
        "  \" Nick\",\n",
        "  \" Blake\",\n",
        "  \" Ryan\",\n",
        "  \" Jason\",\n",
        "  \" Chase\",]"
      ]
    },
    {
      "cell_type": "code",
      "execution_count": 11,
      "metadata": {
        "id": "WF0NiXJB0knJ"
      },
      "outputs": [],
      "source": [
        "# names = [\n",
        "\n",
        "#     \" Mary\", \" John\",\n",
        "#     \" Tom\", \" James\",\n",
        "#     \" Dan\", \" Sid\"  ,\n",
        "#     \" Martin\", \" Amy\",\n",
        "#     \" Cody\", \" Jay\",\n",
        "#     \" Jack\", \" Jill\",\n",
        "#     \" Mark\", \" Martin\",\n",
        "#     \" Sarah\", \" Emily\",\n",
        "#     \" Cole\", \" George\",\n",
        "#     \" Kai\", \" Bryce\",\n",
        "# ]"
      ]
    },
    {
      "cell_type": "code",
      "execution_count": 12,
      "metadata": {
        "id": "3eU8W9sF0sJj"
      },
      "outputs": [],
      "source": [
        "places = [\n",
        "  \"swamp\",\n",
        "  \"school\",\n",
        "  \"volcano\",\n",
        "  \"hotel\",\n",
        "  \"subway\",\n",
        "  \"arcade\",\n",
        "  \"library\",\n",
        "  \"island\",\n",
        "  \"convent\",\n",
        "  \"pool\",\n",
        "  \"mall\",\n",
        "  \"prison\",\n",
        "  \"quarry\",\n",
        "  \"temple\",\n",
        "  \"ruins\",\n",
        "  \"factory\",\n",
        "  \"zoo\",\n",
        "  \"mansion\",\n",
        "  \"tavern\",\n",
        "  \"planet\",\n",
        "  \"forest\",\n",
        "  \"airport\",\n",
        "  \"pharmacy\",\n",
        "  \"church\",\n",
        "  \"park\",\n",
        "  \"delta\",\n",
        "  \"mosque\",\n",
        "  \"valley\",\n",
        "  \"casino\",\n",
        "  \"pyramid\",\n",
        "  \"aquarium\",\n",
        "  \"castle\",\n",
        "  \"ranch\",\n",
        "  \"clinic\",\n",
        "  \"theater\",\n",
        "  \"gym\",\n",
        "  \"studio\",\n",
        "  \"station\",\n",
        "  \"palace\",\n",
        "  \"stadium\",\n",
        "  \"museum\",\n",
        "  \"plateau\",\n",
        "  \"home\",\n",
        "  \"resort\",\n",
        "  \"garage\",\n",
        "  \"reef\",\n",
        "  \"lounge\",\n",
        "  \"chapel\",\n",
        "  \"canyon\",\n",
        "  \"brewery\",\n",
        "  \"market\",\n",
        "  \"jungle\",\n",
        "  \"office\",\n",
        "  \"cottage\",\n",
        "  \"street\",\n",
        "  \"gallery\",\n",
        "  \"landfill\",\n",
        "  \"glacier\",\n",
        "  \"barracks\",\n",
        "  \"bakery\",\n",
        "  \"synagogue\",\n",
        "  \"jersey\",\n",
        "  \"plaza\",\n",
        "  \"garden\",\n",
        "  \"cafe\",\n",
        "  \"cinema\",\n",
        "  \"beach\",\n",
        "  \"harbor\",\n",
        "  \"circus\",\n",
        "  \"bridge\",\n",
        "  \"monastery\",\n",
        "  \"desert\",\n",
        "  \"tunnel\",\n",
        "  \"motel\",\n",
        "  \"fortress\"\n",
        "]"
      ]
    },
    {
      "cell_type": "markdown",
      "metadata": {
        "id": "Tjz17uXf0eje"
      },
      "source": [
        "## code\n"
      ]
    },
    {
      "cell_type": "code",
      "execution_count": 339,
      "metadata": {
        "id": "vNUmu0W2z4xZ"
      },
      "outputs": [],
      "source": [
        "template = \"When{name_A} and{name_B} went to the {place},{name_C} gave the {object} to\""
      ]
    },
    {
      "cell_type": "code",
      "execution_count": 340,
      "metadata": {
        "id": "OkXEo_ew0yIl"
      },
      "outputs": [],
      "source": [
        "# prompt: generate a list of prompts using the template. ensure that no prompt uses the same two names\n",
        "\n",
        "import random\n",
        "\n",
        "# Create a list of all possible pairs of names\n",
        "names_list = list(itertools.combinations(names, 2))\n",
        "\n",
        "# Create a list of prompts\n",
        "prompts = []\n",
        "counter_prompts = []\n",
        "\n",
        "\n",
        "name_pairs = []\n",
        "#counter_name_pairs = []\n",
        "\n",
        "for name_pair in names_list:\n",
        "    name_A, name_B = name_pair\n",
        "    # Generate a random place\n",
        "    place = random.choice(places)\n",
        "    # Generate a random object\n",
        "    objectA = random.choice(objects)\n",
        "    # Create a prompt\n",
        "    prompt = template.format(\n",
        "        name_A=name_A,\n",
        "        name_B=name_B,\n",
        "        place=place,\n",
        "        name_C=name_B,\n",
        "        object=objectA,\n",
        "    )\n",
        "    prompts.append(prompt)\n",
        "    name_pairs.append([name_A, name_B])\n",
        "\n",
        "\n",
        "    # generate three other names that are not name_A and name_B\n",
        "    other_names = []\n",
        "    while(len(other_names) != 3):\n",
        "      new_name = random.choice(names)\n",
        "      if new_name is not name_A and new_name is not name_B and new_name not in other_names:\n",
        "        other_names.append(new_name)\n",
        "\n",
        "    counter_prompts.append(template.format(\n",
        "\n",
        "        name_A=other_names[0],\n",
        "        name_B=other_names[1],\n",
        "        place=place,\n",
        "        name_C=other_names[2],\n",
        "        object=objectA,\n",
        "\n",
        "    ))\n",
        "\n",
        "# Print the prompts"
      ]
    },
    {
      "cell_type": "code",
      "execution_count": 341,
      "metadata": {},
      "outputs": [],
      "source": [
        "# generate random list of numbers\n",
        "rand_indices = torch.randint(0, len(prompts), size = (600,))\n",
        "\n",
        "# indices plus the indices + 1\n",
        "#double_rand_indices = torch.cat((rand_indices, rand_indices + 1))"
      ]
    },
    {
      "cell_type": "code",
      "execution_count": 342,
      "metadata": {},
      "outputs": [
        {
          "data": {
            "text/plain": [
              "tensor([4002, 5706, 8078, 2424, 7849, 5222, 6352, 2337, 7861, 6037, 8994, 6278,\n",
              "        1332, 2575, 6506,  393, 1871,  608, 8634, 6215, 5271,  707, 5584, 1082,\n",
              "        8994, 3416, 7087, 1621, 1696, 3391, 8720,  207, 7070, 6327, 6187, 2464,\n",
              "        7298, 6981, 8743, 1437, 7080, 6688, 1565, 8995,  430, 2299, 5935,  969,\n",
              "        1046, 7423, 7941, 8681, 9139, 5134, 3153, 9339, 4803, 6487,  514, 3069,\n",
              "        4059, 9683, 7105, 5302, 1742, 5650, 3964,  768,  320, 1597, 2283, 8073,\n",
              "        5642, 4230, 1919, 6925, 6042, 7903, 2471, 4349,  522, 8715, 2314, 9203,\n",
              "        3133, 5328,  333, 9585, 3293, 5405, 7027, 5067,  148, 2948, 7600, 4565,\n",
              "        7259, 5918, 8499, 4666, 6562, 6033, 1750, 9147, 5135, 2335, 3741, 5202,\n",
              "        8445, 7480, 2478, 9313,  363, 3549, 6807,  443,  498, 8613, 3047, 7740,\n",
              "        2919, 8328, 4596, 1614, 3313, 2868, 6188, 9394, 6430, 3809, 3863, 2326,\n",
              "        2777, 4493, 1186, 1953, 2630, 3901, 2726, 3629, 4150,   92,  364, 4853,\n",
              "        6008, 1213, 7134, 5321, 8565,  882, 8565,  255, 5904, 1188, 4446, 7642,\n",
              "        4063, 9326, 4771, 4416, 5350, 2719, 1747, 6933, 2106, 7232, 7209, 3922,\n",
              "        2167, 8009, 7213, 6134,  808, 8676, 3537, 3376, 8071, 6402, 3517, 8849,\n",
              "        6112, 8246, 9423, 4458, 1745, 3256, 6709, 2497, 2343, 6323, 7496, 9667,\n",
              "        3739, 2236, 6351, 7808, 3168, 7430, 4608, 3818, 5493,  823, 4013, 7251,\n",
              "        5475, 2717,  746, 9081, 4579,  388,  314, 2946, 5762, 9648, 7314, 4449,\n",
              "        5001, 2060, 6842, 7478, 3005, 9813, 1370, 6851, 5564, 5056, 3186, 1566,\n",
              "        3999, 9777, 3975, 5092, 2740, 1613, 2269, 7600, 5914, 2414, 2914, 7646,\n",
              "        8659, 3720, 8459, 3535, 3474, 3932, 8808, 8422, 6700, 6930, 8630, 7104,\n",
              "        6214, 5644, 2036, 3420, 6154, 4570, 1246, 5311, 9770, 7281, 5415, 6377,\n",
              "        1050, 3551, 2434, 1231, 4199, 2711, 5915, 5761, 9454, 8842, 4668, 5303,\n",
              "         188, 7446, 7125, 2494, 2053, 8278, 3786, 9015, 1581, 3351, 6601, 3013,\n",
              "        3870, 6794,  252, 6952, 6145, 3117, 2605, 7613,  562, 2056, 8500, 3719,\n",
              "        3499,  912, 1297, 4765, 4405, 5399, 4818, 6673,   45, 6000, 9545, 6526,\n",
              "        6159, 5092, 8115, 8865, 1798, 9229, 8065, 8283, 4868, 3168, 5179, 8507,\n",
              "        7384, 1516, 6445, 3829, 5077, 5657, 3777, 6527, 2924, 6542, 3196, 4309,\n",
              "        7136, 4674, 1558, 3080,  857,    0, 9102, 6645, 9077, 2235, 6591, 1820,\n",
              "        3944, 6007, 4666, 8191, 2638,  633, 7631, 7521, 1451, 3082, 4077, 3969,\n",
              "        2508, 9701, 8148, 5428, 8312, 4535, 7685, 1757, 3717, 3700, 5424, 5337,\n",
              "        6946, 4684, 3889, 7113, 9607, 4922,  354, 8906,  671, 3836,  639, 8128,\n",
              "        4669, 1012, 9768, 7836,  116, 8833,  649, 4771, 8560, 7264, 7407, 5753,\n",
              "        6980, 1486, 6781, 1739, 4278, 4769, 5284, 4338, 9041, 1521, 7410, 6740,\n",
              "        2469, 3084, 9221, 8720,  456, 7056,  131, 1759, 8673, 6998, 8823, 9350,\n",
              "        8160, 9153, 1975, 3882, 2643,  925,  470, 7204, 4990, 7724, 6666, 2875,\n",
              "        4557, 8325, 7183, 4663, 2612, 7123, 2143, 1820, 2721, 4676, 7950, 1976,\n",
              "        9366,  425,  818, 5790, 2432, 4693, 6099, 5320, 9222, 1151, 8667, 6170,\n",
              "        8369, 7172, 3765, 2488, 7978, 9766, 7759, 5691, 1019, 7613, 6381, 9639,\n",
              "        3272, 6364, 1485, 1639, 7101, 8911, 9311, 3575, 9739, 9085, 1635, 5453,\n",
              "        3389, 8229, 9643, 3828, 8470, 5431, 3000,  842, 8847, 2515, 4364, 8467,\n",
              "        9033, 2540, 3363, 2589, 5549, 7625, 5349, 8194, 3877, 4016,  363, 4328,\n",
              "        8136, 3501, 9700, 1538,  919, 7144, 2379, 4326, 6819, 6474, 3209, 3245,\n",
              "        4899, 1551, 3628, 7592,  241, 5693, 6260, 7682, 3610, 8446, 8160, 3068,\n",
              "        5007, 9639, 8006, 5582,  422, 2841, 1178, 7293, 6903, 5551, 4314,  411,\n",
              "        8139, 9151, 5864, 8281, 1397, 5316, 5351, 5550, 2467, 2825,  532, 5458,\n",
              "        8601, 3234, 8368, 2621, 9793, 6810, 6782, 5689, 5914, 5725, 5358,  757,\n",
              "        5239, 1352, 6262, 1789, 9247,  109, 8103, 8011, 9660, 5921, 7979, 1087,\n",
              "        9272, 6185, 5400, 3683, 7413, 5969, 3784, 6693, 9678, 7939, 3077, 9241,\n",
              "        4236, 5492, 2214, 4127, 7236, 3309, 7359, 5455, 9810, 6586, 8725, 8361])"
            ]
          },
          "execution_count": 342,
          "metadata": {},
          "output_type": "execute_result"
        }
      ],
      "source": [
        "rand_indices"
      ]
    },
    {
      "cell_type": "code",
      "execution_count": 343,
      "metadata": {
        "id": "UkaFniID2-t7"
      },
      "outputs": [],
      "source": [
        "clean_prompts = [prompts[i] for i in rand_indices]\n",
        "corrupted_prompts = [counter_prompts[i] for i in rand_indices]\n",
        "name_answers = [name_pairs[i] for i in rand_indices]\n"
      ]
    },
    {
      "cell_type": "code",
      "execution_count": 344,
      "metadata": {
        "id": "AOow7a593cZG"
      },
      "outputs": [],
      "source": [
        "clean_tokens = model.to_tokens(clean_prompts, prepend_bos = True).cuda()\n",
        "corrupted_tokens = model.to_tokens(corrupted_prompts, prepend_bos = True).cuda()\n",
        "answer_tokens = torch.concat([\n",
        "    model.to_tokens(names, prepend_bos=False).squeeze(dim=1).unsqueeze(dim=0) for names in name_answers\n",
        "]).cuda()"
      ]
    },
    {
      "cell_type": "code",
      "execution_count": 345,
      "metadata": {
        "colab": {
          "base_uri": "https://localhost:8080/"
        },
        "id": "1wdv6qRZ7cjL",
        "outputId": "2ed45430-dca9-4561-ad4d-0a6c648a0210"
      },
      "outputs": [
        {
          "data": {
            "text/plain": [
              "torch.Size([600, 15])"
            ]
          },
          "execution_count": 345,
          "metadata": {},
          "output_type": "execute_result"
        }
      ],
      "source": [
        "clean_tokens.shape"
      ]
    },
    {
      "cell_type": "code",
      "execution_count": 346,
      "metadata": {},
      "outputs": [
        {
          "data": {
            "text/plain": [
              "('When Greg and Isabel went to the gym, Isabel gave the scarf to',\n",
              " 'When Eleanor and Harper went to the gym, Thomas gave the scarf to',\n",
              " [' Greg', ' Isabel'])"
            ]
          },
          "execution_count": 346,
          "metadata": {},
          "output_type": "execute_result"
        }
      ],
      "source": [
        "index = 1\n",
        "clean_prompts[index], corrupted_prompts[index], name_answers[index]"
      ]
    },
    {
      "cell_type": "code",
      "execution_count": 347,
      "metadata": {
        "id": "1PzZDVgi3jwh"
      },
      "outputs": [],
      "source": [
        "model.reset_hooks()\n",
        "clean_logits, clean_cache = model.run_with_cache(clean_tokens, prepend_bos = False)\n",
        "corrupted_logits, corrupted_cache = model.run_with_cache(corrupted_tokens, prepend_bos = False)"
      ]
    },
    {
      "cell_type": "markdown",
      "metadata": {
        "id": "vCbedEz6xNZz"
      },
      "source": [
        "# chillin\n"
      ]
    },
    {
      "cell_type": "code",
      "execution_count": 348,
      "metadata": {
        "id": "kHYwlc6rnmaH"
      },
      "outputs": [],
      "source": [
        "def logits_to_ave_logit_diff(\n",
        "    logits: Float[Tensor, \"batch seq d_vocab\"],\n",
        "    answer_tokens: Float[Tensor, \"batch 2\"] = answer_tokens,\n",
        "    per_prompt: bool = False\n",
        "):\n",
        "    '''\n",
        "    Returns logit difference between the correct and incorrect answer.\n",
        "\n",
        "    If per_prompt=True, return the array of differences rather than the average.\n",
        "    '''\n",
        "    # Only the final logits are relevant for the answer\n",
        "    final_logits: Float[Tensor, \"batch d_vocab\"] = logits[:, -1, :]\n",
        "    # Get the logits corresponding to the indirect object / subject tokens respectively\n",
        "    answer_logits: Float[Tensor, \"batch 2\"] = final_logits.gather(dim=-1, index=answer_tokens)\n",
        "    # Find logit difference\n",
        "    correct_logits, incorrect_logits = answer_logits.unbind(dim=-1)\n",
        "    answer_logit_diff = correct_logits - incorrect_logits\n",
        "    return answer_logit_diff if per_prompt else answer_logit_diff.mean()"
      ]
    },
    {
      "cell_type": "code",
      "execution_count": 349,
      "metadata": {
        "colab": {
          "base_uri": "https://localhost:8080/"
        },
        "id": "iw2AwkrQnpYz",
        "outputId": "144a6bbe-649c-4d9b-986e-91ecfcf57528"
      },
      "outputs": [
        {
          "name": "stdout",
          "output_type": "stream",
          "text": [
            "tensor(3.4891, device='cuda:0')\n",
            "tensor(-0.1788, device='cuda:0')\n"
          ]
        }
      ],
      "source": [
        "clean_per_prompt_diff = logits_to_ave_logit_diff(clean_logits, per_prompt = True)\n",
        "\n",
        "clean_average_logit_diff = logits_to_ave_logit_diff(clean_logits)\n",
        "corrupted_average_logit_diff = logits_to_ave_logit_diff(corrupted_logits)\n",
        "\n",
        "print(clean_average_logit_diff)\n",
        "print(corrupted_average_logit_diff)"
      ]
    },
    {
      "cell_type": "code",
      "execution_count": 350,
      "metadata": {
        "id": "es4GO_hnnum4"
      },
      "outputs": [],
      "source": [
        "answer_residual_directions: Float[Tensor, \"batch 2 d_model\"] = model.tokens_to_residual_directions(answer_tokens)\n",
        "correct_residual_direction, incorrect_residual_direction = answer_residual_directions.unbind(dim=1)\n",
        "logit_diff_directions: Float[Tensor, \"batch d_model\"] = correct_residual_direction - incorrect_residual_direction"
      ]
    },
    {
      "cell_type": "code",
      "execution_count": 351,
      "metadata": {
        "id": "vys_gX-soBi4"
      },
      "outputs": [],
      "source": [
        "def residual_stack_to_logit_diff(\n",
        "    residual_stack: Float[Tensor, \"... batch d_model\"],\n",
        "    cache: ActivationCache,\n",
        "    logit_diff_directions: Float[Tensor, \"batch d_model\"] = logit_diff_directions,\n",
        ") -> Float[Tensor, \"...\"]:\n",
        "    '''\n",
        "    Gets the avg logit difference between the correct and incorrect answer for a given\n",
        "    stack of components in the residual stream.\n",
        "    '''\n",
        "    batch_size = residual_stack.size(-2)\n",
        "    scaled_residual_stack = cache.apply_ln_to_stack(residual_stack, layer=-1, pos_slice=-1)\n",
        "\n",
        "\n",
        "\n",
        "    # # some extra code for more sanity checking\n",
        "    # new_logits = scaled_residual_stack @ model.W_U\n",
        "    # print(new_logits.shape)\n",
        "    # new_logits = einops.repeat(new_logits, \"batch d_vocab -> batch 1 d_vocab\")\n",
        "    # print(new_logits.shape)\n",
        "    # print(logits_to_ave_logit_diff(new_logits))\n",
        "\n",
        "    return einops.einsum(\n",
        "        scaled_residual_stack, logit_diff_directions,\n",
        "        \"... batch d_model, batch d_model -> ...\"\n",
        "    ) / batch_size\n"
      ]
    },
    {
      "cell_type": "code",
      "execution_count": 352,
      "metadata": {
        "colab": {
          "base_uri": "https://localhost:8080/"
        },
        "id": "1erVnl4Lqm_l",
        "outputId": "48040a7e-6f9e-405c-9f1a-97d648222949"
      },
      "outputs": [
        {
          "name": "stdout",
          "output_type": "stream",
          "text": [
            "Answer residual directions shape: torch.Size([600, 2, 768])\n",
            "Logit difference directions shape: torch.Size([600, 768])\n"
          ]
        }
      ],
      "source": [
        "answer_residual_directions: Float[Tensor, \"batch 2 d_model\"] = model.tokens_to_residual_directions(answer_tokens)\n",
        "print(\"Answer residual directions shape:\", answer_residual_directions.shape)\n",
        "\n",
        "correct_residual_directions, incorrect_residual_directions = answer_residual_directions.unbind(dim=1)\n",
        "logit_diff_directions: Float[Tensor, \"batch d_model\"] = correct_residual_directions - incorrect_residual_directions\n",
        "print(f\"Logit difference directions shape:\", logit_diff_directions.shape)"
      ]
    },
    {
      "cell_type": "code",
      "execution_count": 353,
      "metadata": {},
      "outputs": [
        {
          "data": {
            "text/plain": [
              "torch.Size([50257])"
            ]
          },
          "execution_count": 353,
          "metadata": {},
          "output_type": "execute_result"
        }
      ],
      "source": [
        "model.b_U.shape"
      ]
    },
    {
      "cell_type": "code",
      "execution_count": 354,
      "metadata": {},
      "outputs": [],
      "source": [
        "diff_from_unembedding_bias = model.b_U[answer_tokens[:, 0]] -  model.b_U[answer_tokens[:, 1]]"
      ]
    },
    {
      "cell_type": "code",
      "execution_count": 355,
      "metadata": {
        "colab": {
          "base_uri": "https://localhost:8080/"
        },
        "id": "vZIobMegqnJ5",
        "outputId": "40234cc9-dfae-4015-ced7-adb4fbdb92df"
      },
      "outputs": [
        {
          "name": "stdout",
          "output_type": "stream",
          "text": [
            "Final residual stream shape: torch.Size([600, 15, 768])\n",
            "Calculated average logit diff: 3.4891030788\n",
            "Original logit difference:     3.4891028404\n"
          ]
        }
      ],
      "source": [
        "final_residual_stream: Float[Tensor, \"batch seq d_model\"] = clean_cache[\"resid_post\", -1]\n",
        "print(f\"Final residual stream shape: {final_residual_stream.shape}\")\n",
        "final_token_residual_stream: Float[Tensor, \"batch d_model\"] = final_residual_stream[:, -1, :]\n",
        "\n",
        "print(f\"Calculated average logit diff: {(residual_stack_to_logit_diff(final_token_residual_stream, clean_cache, logit_diff_directions) + diff_from_unembedding_bias.mean(0)):.10f}\") # <-- okay b_U exists... and matters\n",
        "print(f\"Original logit difference:     {clean_average_logit_diff:.10f}\")"
      ]
    },
    {
      "cell_type": "markdown",
      "metadata": {
        "id": "JATymEVNrxLW"
      },
      "source": [
        "# Helper Functions"
      ]
    },
    {
      "cell_type": "markdown",
      "metadata": {
        "id": "pmcwuLTTTrhY"
      },
      "source": [
        "## Logit Diffs + Gather Important Heads"
      ]
    },
    {
      "cell_type": "code",
      "execution_count": 356,
      "metadata": {
        "colab": {
          "base_uri": "https://localhost:8080/"
        },
        "id": "v59wxgS3TnD_",
        "outputId": "97f2129b-3381-49f0-b7c4-7fb88a24aa8c"
      },
      "outputs": [],
      "source": [
        "def calc_all_logit_diffs(cache):\n",
        "  clean_per_head_residual, labels = cache.stack_head_results(layer = -1, return_labels = True, apply_ln = False) # per_head_residual.shape = heads batch seq_pos d_model\n",
        "  # also, for the worried, no, we're not missing the application of LN here since it gets applied in the below function call\n",
        "  per_head_logit_diff: Float[Tensor, \"batch head\"] = residual_stack_to_logit_diff(clean_per_head_residual[:, :, -1, :], cache)\n",
        "\n",
        "  per_head_logit_diff = einops.rearrange(\n",
        "      per_head_logit_diff,\n",
        "      \"(layer head) ... -> layer head ...\",\n",
        "      layer=model.cfg.n_layers\n",
        "  )\n",
        "\n",
        "  correct_direction_per_head_logit: Float[Tensor, \"batch head\"] = residual_stack_to_logit_diff(clean_per_head_residual[:, :, -1, :], cache, logit_diff_directions = correct_residual_direction)\n",
        "\n",
        "  correct_direction_per_head_logit = einops.rearrange(\n",
        "      correct_direction_per_head_logit,\n",
        "      \"(layer head) ... -> layer head ...\",\n",
        "      layer=model.cfg.n_layers\n",
        "  )\n",
        "\n",
        "  incorrect_direction_per_head_logit: Float[Tensor, \"batch head\"] = residual_stack_to_logit_diff(clean_per_head_residual[:, :, -1, :], cache, logit_diff_directions = incorrect_residual_direction)\n",
        "\n",
        "  incorrect_direction_per_head_logit = einops.rearrange(\n",
        "      incorrect_direction_per_head_logit,\n",
        "      \"(layer head) ... -> layer head ...\",\n",
        "      layer=model.cfg.n_layers\n",
        "  )\n",
        "\n",
        "  return per_head_logit_diff, correct_direction_per_head_logit, incorrect_direction_per_head_logit\n",
        "\n",
        "per_head_logit_diff, correct_direction_per_head_logit, incorrect_direction_per_head_logit = calc_all_logit_diffs(clean_cache)"
      ]
    },
    {
      "cell_type": "code",
      "execution_count": 357,
      "metadata": {
        "colab": {
          "base_uri": "https://localhost:8080/"
        },
        "id": "siL52OuCTtOT",
        "outputId": "0e4732e7-e781-4771-f62c-be397cdb6014"
      },
      "outputs": [
        {
          "name": "stdout",
          "output_type": "stream",
          "text": [
            "[(9, 9), (9, 6), (10, 0), (10, 10), (8, 10)]\n"
          ]
        }
      ],
      "source": [
        "top_heads = []\n",
        "k = 5\n",
        "\n",
        "flattened_tensor = per_head_logit_diff.flatten().cpu()\n",
        "_, topk_indices = torch.topk(flattened_tensor, k)\n",
        "top_layer_arr, top_index_arr = np.unravel_index(topk_indices.numpy(), per_head_logit_diff.shape)\n",
        "\n",
        "for l, i in zip(top_layer_arr, top_index_arr):\n",
        "  top_heads.append((l,i))\n",
        "\n",
        "print(top_heads)"
      ]
    },
    {
      "cell_type": "code",
      "execution_count": 358,
      "metadata": {
        "colab": {
          "base_uri": "https://localhost:8080/"
        },
        "id": "3x73NxlXQFEE",
        "outputId": "1fd97737-1481-4453-ea36-2fb8ccafdfac"
      },
      "outputs": [
        {
          "data": {
            "text/plain": [
              "tensor([ 0.0209,  0.0386, -0.4956,  0.0488, -0.0039,  0.0071, -0.1548,  0.0175,\n",
              "         0.0278,  0.0378, -0.9700,  0.0718], device='cuda:0')"
            ]
          },
          "execution_count": 358,
          "metadata": {},
          "output_type": "execute_result"
        }
      ],
      "source": [
        "per_head_logit_diff[11]"
      ]
    },
    {
      "cell_type": "code",
      "execution_count": 359,
      "metadata": {
        "colab": {
          "base_uri": "https://localhost:8080/"
        },
        "id": "QhdinJ7TT0hp",
        "outputId": "943d7d1c-7669-4cf4-9e5f-3fcd754b60b0"
      },
      "outputs": [
        {
          "name": "stdout",
          "output_type": "stream",
          "text": [
            "[(8, 6), (8, 11), (9, 8), (10, 7), (11, 2), (11, 6), (11, 10)]\n"
          ]
        }
      ],
      "source": [
        "neg_heads = []\n",
        "neg_indices = torch.nonzero(torch.lt(per_head_logit_diff, -0.1))\n",
        "neg_heads_list = neg_indices.squeeze().tolist()\n",
        "for i in neg_heads_list:\n",
        "  neg_heads.append((i[0], i[1]))\n",
        "\n",
        "print(neg_heads)"
      ]
    },
    {
      "cell_type": "code",
      "execution_count": 360,
      "metadata": {
        "colab": {
          "base_uri": "https://localhost:8080/",
          "height": 542
        },
        "id": "iKr56ZcJug25",
        "outputId": "3c9ff391-f6d2-40c9-8b5b-6b95b1afc58d"
      },
      "outputs": [
        {
          "data": {
            "application/vnd.plotly.v1+json": {
              "config": {
                "plotlyServerURL": "https://plot.ly"
              },
              "data": [
                {
                  "coloraxis": "coloraxis",
                  "hovertemplate": "Head: %{x}<br>Layer: %{y}<br>Logit Contribution: %{z}<extra></extra>",
                  "name": "0",
                  "type": "heatmap",
                  "xaxis": "x",
                  "yaxis": "y",
                  "z": [
                    [
                      -0.0034922612830996513,
                      -0.00982425082474947,
                      -0.0015795145882293582,
                      0.0012077449355274439,
                      -0.0019943846855312586,
                      -0.001699170097708702,
                      -0.012550841085612774,
                      -0.0006941905012354255,
                      -0.0006700810045003891,
                      0.007695272099226713,
                      -0.0011639632284641266,
                      -0.002014674013480544
                    ],
                    [
                      -0.003131509991362691,
                      -0.00016029168909881264,
                      -0.007061866112053394,
                      0.0011078453389927745,
                      0.006510507315397263,
                      0.006100717931985855,
                      -0.00285167433321476,
                      -0.008421100676059723,
                      0.004811587743461132,
                      0.001969455275684595,
                      -0.005654809530824423,
                      -0.0019707076717168093
                    ],
                    [
                      -0.003845459781587124,
                      -0.0016832264373078942,
                      -0.0016941176727414131,
                      0.008192059583961964,
                      -0.000890723371412605,
                      -0.004178810399025679,
                      0.005975923500955105,
                      0.008421914651989937,
                      0.0036759499926120043,
                      -0.00015910834190435708,
                      0.0027794211637228727,
                      -0.0009706843411549926
                    ],
                    [
                      -0.0024035279639065266,
                      0.0018424845766276121,
                      -0.00198877090588212,
                      0.0014865639386698604,
                      0.0031644790433347225,
                      -0.0007100669899955392,
                      -0.0029017289634793997,
                      0.0002061722188955173,
                      -0.004814551677554846,
                      -0.00608452083542943,
                      -0.0005106081371195614,
                      0.008967180736362934
                    ],
                    [
                      -0.0024777166545391083,
                      -0.0007280320860445499,
                      -0.00039641853072680533,
                      -0.002656519180163741,
                      0.001438735518604517,
                      0.0026905967388302088,
                      0.0017092730849981308,
                      0.007495542522519827,
                      -0.0004360145831014961,
                      -0.00029019228531979024,
                      -0.0004044723464176059,
                      0.003953250590711832
                    ],
                    [
                      -0.0041380710899829865,
                      -0.0009754369966685772,
                      0.0007225063745863736,
                      0.00015814414655324072,
                      -0.004954444244503975,
                      -0.0023841739166527987,
                      0.0014456326607614756,
                      -0.005768944509327412,
                      0.0007863608188927174,
                      0.002311109798029065,
                      -0.005682514514774084,
                      0.0002914651413448155
                    ],
                    [
                      -0.011454756371676922,
                      -0.0031323714647442102,
                      0.0020715249702334404,
                      -0.0005816697957925498,
                      -0.00789731740951538,
                      0.003431906457990408,
                      0.006839348468929529,
                      -0.0016325421165674925,
                      0.003100479254499078,
                      0.002532007871195674,
                      0.0014455141499638557,
                      0.0003697053762152791
                    ],
                    [
                      0.00008819132926873863,
                      0.00034495146246626973,
                      0.0034133903682231903,
                      0.08348731696605682,
                      -0.0027536775451153517,
                      -0.02151661366224289,
                      -0.002379536395892501,
                      -0.0024258336052298546,
                      -0.011843075044453144,
                      0.16584666073322296,
                      0.000871466938406229,
                      -0.00728655606508255
                    ],
                    [
                      0.0035277779679745436,
                      -0.001554685877636075,
                      -0.035890378057956696,
                      0.09397172182798386,
                      -0.0009157786262221634,
                      -0.0037368512712419033,
                      -0.13536155223846436,
                      -0.0015410868218168616,
                      -0.036740344017744064,
                      0.00802040845155716,
                      0.35797709226608276,
                      -0.10459550470113754
                    ],
                    [
                      0.09305117279291153,
                      -0.002723390469327569,
                      0.07661706954240799,
                      0.012377857230603695,
                      0.04754117503762245,
                      0.04254193976521492,
                      1.1889044046401978,
                      0.09237222373485565,
                      -0.32190462946891785,
                      2.9419736862182617,
                      -0.0007917875191196799,
                      -0.02752073109149933
                    ],
                    [
                      0.9022158980369568,
                      0.2949140965938568,
                      -0.09195523709058762,
                      0.07487712055444717,
                      -0.0010235524969175458,
                      0.0018318109214305878,
                      0.3365001678466797,
                      -1.89674973487854,
                      0.000584118184633553,
                      0.003207477508112788,
                      0.510745644569397,
                      0.008865522220730782
                    ],
                    [
                      0.02085963450372219,
                      0.038565877825021744,
                      -0.4955630600452423,
                      0.048799630254507065,
                      -0.003890174673870206,
                      0.007069997023791075,
                      -0.15479886531829834,
                      0.017479315400123596,
                      0.027766171842813492,
                      0.037819940596818924,
                      -0.9700069427490234,
                      0.07184841483831406
                    ]
                  ]
                },
                {
                  "coloraxis": "coloraxis",
                  "hovertemplate": "Head: %{x}<br>Layer: %{y}<br>Logit Contribution: %{z}<extra></extra>",
                  "name": "1",
                  "type": "heatmap",
                  "xaxis": "x2",
                  "yaxis": "y2",
                  "z": [
                    [
                      -0.009078828617930412,
                      -0.012192411348223686,
                      -0.008297260850667953,
                      0.01902329921722412,
                      0.01148228533565998,
                      0.009005973115563393,
                      0.0610034316778183,
                      0.0020699140150099993,
                      0.01190857496112585,
                      -0.037710338830947876,
                      0.055848900228738785,
                      0.014194315299391747
                    ],
                    [
                      0.012909462675452232,
                      0.0038406969979405403,
                      0.007867061533033848,
                      0.016459014266729355,
                      0.017688604071736336,
                      -0.033734556287527084,
                      -0.001981462584808469,
                      0.02534404583275318,
                      0.00004814048588741571,
                      -0.004590604454278946,
                      0.0026527622248977423,
                      0.017460661008954048
                    ],
                    [
                      0.032173167914152145,
                      0.0350286066532135,
                      0.0067218574695289135,
                      0.027456125244498253,
                      -0.0019713484216481447,
                      -0.00906556285917759,
                      -0.02989322505891323,
                      -0.013129918836057186,
                      -0.0021910034120082855,
                      -0.028639310970902443,
                      -0.013156315311789513,
                      -0.0075184935703873634
                    ],
                    [
                      0.0216104406863451,
                      -0.00023474318732041866,
                      0.017881572246551514,
                      0.009361475706100464,
                      -0.01870446652173996,
                      0.004737852606922388,
                      0.0013642532285302877,
                      -0.027716560289263725,
                      0.01418918464332819,
                      -0.009648358449339867,
                      -0.026850320398807526,
                      0.033775921911001205
                    ],
                    [
                      0.00026143659488298,
                      0.01923772506415844,
                      -0.002279272535815835,
                      -0.03371182829141617,
                      -0.027599919587373734,
                      -0.004902639426290989,
                      0.012319084256887436,
                      -0.04716043919324875,
                      -0.0003247214190196246,
                      0.019638804718852043,
                      -0.00034718457027338445,
                      0.014939356595277786
                    ],
                    [
                      0.005933711305260658,
                      0.009861437603831291,
                      0.00010500143253011629,
                      0.005224008113145828,
                      -0.00388220208697021,
                      0.030048415064811707,
                      0.005157574079930782,
                      0.0024410581681877375,
                      0.01586076058447361,
                      -0.04978301003575325,
                      -0.024201398715376854,
                      0.017148882150650024
                    ],
                    [
                      0.006654161959886551,
                      0.011797570623457432,
                      -0.0033503791783005,
                      -0.011621210724115372,
                      0.02495604008436203,
                      -0.01204853318631649,
                      -0.017881091684103012,
                      -0.012736550532281399,
                      -0.023612966760993004,
                      0.04233087599277496,
                      0.003460461273789406,
                      0.03241195157170296
                    ],
                    [
                      0.027040043845772743,
                      0.030021125450730324,
                      0.009390228427946568,
                      0.006457471288740635,
                      -0.014778555370867252,
                      0.01625276356935501,
                      -0.12028492242097855,
                      0.026695160195231438,
                      0.04031550511717796,
                      0.016799848526716232,
                      0.009793372824788094,
                      0.11970110982656479
                    ],
                    [
                      0.0003765275760088116,
                      0.0010800774907693267,
                      0.15492995083332062,
                      0.4961504638195038,
                      0.02704603224992752,
                      0.037558574229478836,
                      0.4834337532520294,
                      0.022350536659359932,
                      0.04579881951212883,
                      0.0023522628471255302,
                      -0.3694389760494232,
                      0.15987104177474976
                    ],
                    [
                      0.1559947431087494,
                      0.010065640322864056,
                      0.20240147411823273,
                      0.09506192803382874,
                      0.1678219437599182,
                      -0.1786939948797226,
                      1.9223238229751587,
                      0.05270346626639366,
                      0.5457117557525635,
                      3.4064106941223145,
                      -0.010824895463883877,
                      0.14460505545139313
                    ],
                    [
                      1.5196843147277832,
                      0.43179750442504883,
                      0.7646222710609436,
                      0.19014248251914978,
                      0.04346684738993645,
                      -0.006365730427205563,
                      0.5698963403701782,
                      -2.5657031536102295,
                      0.010763500817120075,
                      0.20854777097702026,
                      0.8468222618103027,
                      0.054836682975292206
                    ],
                    [
                      0.1332738995552063,
                      0.29654860496520996,
                      0.4579489231109619,
                      0.43434953689575195,
                      -0.08327024430036545,
                      0.04152629151940346,
                      0.2536267340183258,
                      0.21636131405830383,
                      0.2306612730026245,
                      0.20132207870483398,
                      -1.6781469583511353,
                      0.27300363779067993
                    ]
                  ]
                },
                {
                  "coloraxis": "coloraxis",
                  "hovertemplate": "Head: %{x}<br>Layer: %{y}<br>Logit Contribution: %{z}<extra></extra>",
                  "name": "2",
                  "type": "heatmap",
                  "xaxis": "x3",
                  "yaxis": "y3",
                  "z": [
                    [
                      -0.005586565937846899,
                      -0.0023681509774178267,
                      -0.00671774335205555,
                      0.017815563827753067,
                      0.013476674444973469,
                      0.010705139487981796,
                      0.07355429232120514,
                      0.0027641139458864927,
                      0.012578649446368217,
                      -0.04540559649467468,
                      0.05701283738017082,
                      0.016209008172154427
                    ],
                    [
                      0.0160409826785326,
                      0.004000992048531771,
                      0.014928927645087242,
                      0.01535117533057928,
                      0.011178085580468178,
                      -0.039835263043642044,
                      0.0008702140185050666,
                      0.033765148371458054,
                      -0.004763443022966385,
                      -0.006560065783560276,
                      0.00830757338553667,
                      0.01943136192858219
                    ],
                    [
                      0.03601863235235214,
                      0.03671183064579964,
                      0.008415968157351017,
                      0.019264066591858864,
                      -0.00108062953222543,
                      -0.004886752925813198,
                      -0.035869136452674866,
                      -0.021551834419369698,
                      -0.0058669475838541985,
                      -0.028480200096964836,
                      -0.015935730189085007,
                      -0.006547827739268541
                    ],
                    [
                      0.02401397004723549,
                      -0.002077220706269145,
                      0.019870350137352943,
                      0.007874916307628155,
                      -0.02186894603073597,
                      0.0054479194805026054,
                      0.004265984985977411,
                      -0.0279227327555418,
                      0.0190037339925766,
                      -0.0035638415720313787,
                      -0.026339715346693993,
                      0.024808738380670547
                    ],
                    [
                      0.0027391482144594193,
                      0.019965756684541702,
                      -0.0018828518223017454,
                      -0.031055310741066933,
                      -0.029038652777671814,
                      -0.007593236863613129,
                      0.010609809309244156,
                      -0.0546560063958168,
                      0.00011129181075375527,
                      0.01992899924516678,
                      0.000057286175433546305,
                      0.010986100882291794
                    ],
                    [
                      0.010071778669953346,
                      0.010836881585419178,
                      -0.0006174985319375992,
                      0.005065858829766512,
                      0.0010722426231950521,
                      0.032432593405246735,
                      0.0037119416519999504,
                      0.008210007101297379,
                      0.015074399299919605,
                      -0.052094146609306335,
                      -0.01851889304816723,
                      0.016857417300343513
                    ],
                    [
                      0.01810891553759575,
                      0.014929943718016148,
                      -0.005421913228929043,
                      -0.011039551347494125,
                      0.03285336494445801,
                      -0.01548043917864561,
                      -0.024720449000597,
                      -0.01110401377081871,
                      -0.026713451370596886,
                      0.03979887068271637,
                      0.0020149482879787683,
                      0.032042261213064194
                    ],
                    [
                      0.026951853185892105,
                      0.029676171019673347,
                      0.0059768338687717915,
                      -0.07702985405921936,
                      -0.012024883180856705,
                      0.0377693772315979,
                      -0.117905393242836,
                      0.029120992869138718,
                      0.05215858668088913,
                      -0.14904679358005524,
                      0.008921906352043152,
                      0.12698765099048615
                    ],
                    [
                      -0.0031512558925896883,
                      0.0026347620878368616,
                      0.1908203363418579,
                      0.4021787941455841,
                      0.027961798012256622,
                      0.04129541665315628,
                      0.6187953352928162,
                      0.023891624063253403,
                      0.0825391560792923,
                      -0.005668154917657375,
                      -0.7274160981178284,
                      0.2644665837287903
                    ],
                    [
                      0.06294357776641846,
                      0.012789028696715832,
                      0.12578439712524414,
                      0.08268407732248306,
                      0.12028076499700546,
                      -0.2212359607219696,
                      0.7334195375442505,
                      -0.03966875001788139,
                      0.8676162958145142,
                      0.46443694829940796,
                      -0.01003311201930046,
                      0.17212577164173126
                    ],
                    [
                      0.6174683570861816,
                      0.13688339293003082,
                      0.856577455997467,
                      0.11526533961296082,
                      0.044490400701761246,
                      -0.008197539485991001,
                      0.23339617252349854,
                      -0.6689534783363342,
                      0.010179375298321247,
                      0.20534029603004456,
                      0.336076557636261,
                      0.04597117379307747
                    ],
                    [
                      0.11241423338651657,
                      0.2579827308654785,
                      0.9535120725631714,
                      0.3855498731136322,
                      -0.0793800950050354,
                      0.03445630148053169,
                      0.4084256589412689,
                      0.19888201355934143,
                      0.20289507508277893,
                      0.16350211203098297,
                      -0.7081401348114014,
                      0.20115524530410767
                    ]
                  ]
                }
              ],
              "layout": {
                "annotations": [
                  {
                    "font": {},
                    "showarrow": false,
                    "text": "Logit Diff - 3.49",
                    "x": 0.15999999999999998,
                    "xanchor": "center",
                    "xref": "paper",
                    "y": 1,
                    "yanchor": "bottom",
                    "yref": "paper"
                  },
                  {
                    "font": {},
                    "showarrow": false,
                    "text": "Correct Direction",
                    "x": 0.49999999999999994,
                    "xanchor": "center",
                    "xref": "paper",
                    "y": 1,
                    "yanchor": "bottom",
                    "yref": "paper"
                  },
                  {
                    "font": {},
                    "showarrow": false,
                    "text": "Incorrect Direction",
                    "x": 0.8399999999999999,
                    "xanchor": "center",
                    "xref": "paper",
                    "y": 1,
                    "yanchor": "bottom",
                    "yref": "paper"
                  }
                ],
                "coloraxis": {
                  "cmid": 0,
                  "colorbar": {
                    "title": {
                      "text": "Logit Contribution"
                    }
                  },
                  "colorscale": [
                    [
                      0,
                      "rgb(103,0,31)"
                    ],
                    [
                      0.1,
                      "rgb(178,24,43)"
                    ],
                    [
                      0.2,
                      "rgb(214,96,77)"
                    ],
                    [
                      0.3,
                      "rgb(244,165,130)"
                    ],
                    [
                      0.4,
                      "rgb(253,219,199)"
                    ],
                    [
                      0.5,
                      "rgb(247,247,247)"
                    ],
                    [
                      0.6,
                      "rgb(209,229,240)"
                    ],
                    [
                      0.7,
                      "rgb(146,197,222)"
                    ],
                    [
                      0.8,
                      "rgb(67,147,195)"
                    ],
                    [
                      0.9,
                      "rgb(33,102,172)"
                    ],
                    [
                      1,
                      "rgb(5,48,97)"
                    ]
                  ]
                },
                "margin": {
                  "l": 100,
                  "r": 100
                },
                "template": {
                  "data": {
                    "bar": [
                      {
                        "error_x": {
                          "color": "#2a3f5f"
                        },
                        "error_y": {
                          "color": "#2a3f5f"
                        },
                        "marker": {
                          "line": {
                            "color": "#E5ECF6",
                            "width": 0.5
                          },
                          "pattern": {
                            "fillmode": "overlay",
                            "size": 10,
                            "solidity": 0.2
                          }
                        },
                        "type": "bar"
                      }
                    ],
                    "barpolar": [
                      {
                        "marker": {
                          "line": {
                            "color": "#E5ECF6",
                            "width": 0.5
                          },
                          "pattern": {
                            "fillmode": "overlay",
                            "size": 10,
                            "solidity": 0.2
                          }
                        },
                        "type": "barpolar"
                      }
                    ],
                    "carpet": [
                      {
                        "aaxis": {
                          "endlinecolor": "#2a3f5f",
                          "gridcolor": "white",
                          "linecolor": "white",
                          "minorgridcolor": "white",
                          "startlinecolor": "#2a3f5f"
                        },
                        "baxis": {
                          "endlinecolor": "#2a3f5f",
                          "gridcolor": "white",
                          "linecolor": "white",
                          "minorgridcolor": "white",
                          "startlinecolor": "#2a3f5f"
                        },
                        "type": "carpet"
                      }
                    ],
                    "choropleth": [
                      {
                        "colorbar": {
                          "outlinewidth": 0,
                          "ticks": ""
                        },
                        "type": "choropleth"
                      }
                    ],
                    "contour": [
                      {
                        "colorbar": {
                          "outlinewidth": 0,
                          "ticks": ""
                        },
                        "colorscale": [
                          [
                            0,
                            "#0d0887"
                          ],
                          [
                            0.1111111111111111,
                            "#46039f"
                          ],
                          [
                            0.2222222222222222,
                            "#7201a8"
                          ],
                          [
                            0.3333333333333333,
                            "#9c179e"
                          ],
                          [
                            0.4444444444444444,
                            "#bd3786"
                          ],
                          [
                            0.5555555555555556,
                            "#d8576b"
                          ],
                          [
                            0.6666666666666666,
                            "#ed7953"
                          ],
                          [
                            0.7777777777777778,
                            "#fb9f3a"
                          ],
                          [
                            0.8888888888888888,
                            "#fdca26"
                          ],
                          [
                            1,
                            "#f0f921"
                          ]
                        ],
                        "type": "contour"
                      }
                    ],
                    "contourcarpet": [
                      {
                        "colorbar": {
                          "outlinewidth": 0,
                          "ticks": ""
                        },
                        "type": "contourcarpet"
                      }
                    ],
                    "heatmap": [
                      {
                        "colorbar": {
                          "outlinewidth": 0,
                          "ticks": ""
                        },
                        "colorscale": [
                          [
                            0,
                            "#0d0887"
                          ],
                          [
                            0.1111111111111111,
                            "#46039f"
                          ],
                          [
                            0.2222222222222222,
                            "#7201a8"
                          ],
                          [
                            0.3333333333333333,
                            "#9c179e"
                          ],
                          [
                            0.4444444444444444,
                            "#bd3786"
                          ],
                          [
                            0.5555555555555556,
                            "#d8576b"
                          ],
                          [
                            0.6666666666666666,
                            "#ed7953"
                          ],
                          [
                            0.7777777777777778,
                            "#fb9f3a"
                          ],
                          [
                            0.8888888888888888,
                            "#fdca26"
                          ],
                          [
                            1,
                            "#f0f921"
                          ]
                        ],
                        "type": "heatmap"
                      }
                    ],
                    "heatmapgl": [
                      {
                        "colorbar": {
                          "outlinewidth": 0,
                          "ticks": ""
                        },
                        "colorscale": [
                          [
                            0,
                            "#0d0887"
                          ],
                          [
                            0.1111111111111111,
                            "#46039f"
                          ],
                          [
                            0.2222222222222222,
                            "#7201a8"
                          ],
                          [
                            0.3333333333333333,
                            "#9c179e"
                          ],
                          [
                            0.4444444444444444,
                            "#bd3786"
                          ],
                          [
                            0.5555555555555556,
                            "#d8576b"
                          ],
                          [
                            0.6666666666666666,
                            "#ed7953"
                          ],
                          [
                            0.7777777777777778,
                            "#fb9f3a"
                          ],
                          [
                            0.8888888888888888,
                            "#fdca26"
                          ],
                          [
                            1,
                            "#f0f921"
                          ]
                        ],
                        "type": "heatmapgl"
                      }
                    ],
                    "histogram": [
                      {
                        "marker": {
                          "pattern": {
                            "fillmode": "overlay",
                            "size": 10,
                            "solidity": 0.2
                          }
                        },
                        "type": "histogram"
                      }
                    ],
                    "histogram2d": [
                      {
                        "colorbar": {
                          "outlinewidth": 0,
                          "ticks": ""
                        },
                        "colorscale": [
                          [
                            0,
                            "#0d0887"
                          ],
                          [
                            0.1111111111111111,
                            "#46039f"
                          ],
                          [
                            0.2222222222222222,
                            "#7201a8"
                          ],
                          [
                            0.3333333333333333,
                            "#9c179e"
                          ],
                          [
                            0.4444444444444444,
                            "#bd3786"
                          ],
                          [
                            0.5555555555555556,
                            "#d8576b"
                          ],
                          [
                            0.6666666666666666,
                            "#ed7953"
                          ],
                          [
                            0.7777777777777778,
                            "#fb9f3a"
                          ],
                          [
                            0.8888888888888888,
                            "#fdca26"
                          ],
                          [
                            1,
                            "#f0f921"
                          ]
                        ],
                        "type": "histogram2d"
                      }
                    ],
                    "histogram2dcontour": [
                      {
                        "colorbar": {
                          "outlinewidth": 0,
                          "ticks": ""
                        },
                        "colorscale": [
                          [
                            0,
                            "#0d0887"
                          ],
                          [
                            0.1111111111111111,
                            "#46039f"
                          ],
                          [
                            0.2222222222222222,
                            "#7201a8"
                          ],
                          [
                            0.3333333333333333,
                            "#9c179e"
                          ],
                          [
                            0.4444444444444444,
                            "#bd3786"
                          ],
                          [
                            0.5555555555555556,
                            "#d8576b"
                          ],
                          [
                            0.6666666666666666,
                            "#ed7953"
                          ],
                          [
                            0.7777777777777778,
                            "#fb9f3a"
                          ],
                          [
                            0.8888888888888888,
                            "#fdca26"
                          ],
                          [
                            1,
                            "#f0f921"
                          ]
                        ],
                        "type": "histogram2dcontour"
                      }
                    ],
                    "mesh3d": [
                      {
                        "colorbar": {
                          "outlinewidth": 0,
                          "ticks": ""
                        },
                        "type": "mesh3d"
                      }
                    ],
                    "parcoords": [
                      {
                        "line": {
                          "colorbar": {
                            "outlinewidth": 0,
                            "ticks": ""
                          }
                        },
                        "type": "parcoords"
                      }
                    ],
                    "pie": [
                      {
                        "automargin": true,
                        "type": "pie"
                      }
                    ],
                    "scatter": [
                      {
                        "fillpattern": {
                          "fillmode": "overlay",
                          "size": 10,
                          "solidity": 0.2
                        },
                        "type": "scatter"
                      }
                    ],
                    "scatter3d": [
                      {
                        "line": {
                          "colorbar": {
                            "outlinewidth": 0,
                            "ticks": ""
                          }
                        },
                        "marker": {
                          "colorbar": {
                            "outlinewidth": 0,
                            "ticks": ""
                          }
                        },
                        "type": "scatter3d"
                      }
                    ],
                    "scattercarpet": [
                      {
                        "marker": {
                          "colorbar": {
                            "outlinewidth": 0,
                            "ticks": ""
                          }
                        },
                        "type": "scattercarpet"
                      }
                    ],
                    "scattergeo": [
                      {
                        "marker": {
                          "colorbar": {
                            "outlinewidth": 0,
                            "ticks": ""
                          }
                        },
                        "type": "scattergeo"
                      }
                    ],
                    "scattergl": [
                      {
                        "marker": {
                          "colorbar": {
                            "outlinewidth": 0,
                            "ticks": ""
                          }
                        },
                        "type": "scattergl"
                      }
                    ],
                    "scattermapbox": [
                      {
                        "marker": {
                          "colorbar": {
                            "outlinewidth": 0,
                            "ticks": ""
                          }
                        },
                        "type": "scattermapbox"
                      }
                    ],
                    "scatterpolar": [
                      {
                        "marker": {
                          "colorbar": {
                            "outlinewidth": 0,
                            "ticks": ""
                          }
                        },
                        "type": "scatterpolar"
                      }
                    ],
                    "scatterpolargl": [
                      {
                        "marker": {
                          "colorbar": {
                            "outlinewidth": 0,
                            "ticks": ""
                          }
                        },
                        "type": "scatterpolargl"
                      }
                    ],
                    "scatterternary": [
                      {
                        "marker": {
                          "colorbar": {
                            "outlinewidth": 0,
                            "ticks": ""
                          }
                        },
                        "type": "scatterternary"
                      }
                    ],
                    "surface": [
                      {
                        "colorbar": {
                          "outlinewidth": 0,
                          "ticks": ""
                        },
                        "colorscale": [
                          [
                            0,
                            "#0d0887"
                          ],
                          [
                            0.1111111111111111,
                            "#46039f"
                          ],
                          [
                            0.2222222222222222,
                            "#7201a8"
                          ],
                          [
                            0.3333333333333333,
                            "#9c179e"
                          ],
                          [
                            0.4444444444444444,
                            "#bd3786"
                          ],
                          [
                            0.5555555555555556,
                            "#d8576b"
                          ],
                          [
                            0.6666666666666666,
                            "#ed7953"
                          ],
                          [
                            0.7777777777777778,
                            "#fb9f3a"
                          ],
                          [
                            0.8888888888888888,
                            "#fdca26"
                          ],
                          [
                            1,
                            "#f0f921"
                          ]
                        ],
                        "type": "surface"
                      }
                    ],
                    "table": [
                      {
                        "cells": {
                          "fill": {
                            "color": "#EBF0F8"
                          },
                          "line": {
                            "color": "white"
                          }
                        },
                        "header": {
                          "fill": {
                            "color": "#C8D4E3"
                          },
                          "line": {
                            "color": "white"
                          }
                        },
                        "type": "table"
                      }
                    ]
                  },
                  "layout": {
                    "annotationdefaults": {
                      "arrowcolor": "#2a3f5f",
                      "arrowhead": 0,
                      "arrowwidth": 1
                    },
                    "autotypenumbers": "strict",
                    "coloraxis": {
                      "colorbar": {
                        "outlinewidth": 0,
                        "ticks": ""
                      }
                    },
                    "colorscale": {
                      "diverging": [
                        [
                          0,
                          "#8e0152"
                        ],
                        [
                          0.1,
                          "#c51b7d"
                        ],
                        [
                          0.2,
                          "#de77ae"
                        ],
                        [
                          0.3,
                          "#f1b6da"
                        ],
                        [
                          0.4,
                          "#fde0ef"
                        ],
                        [
                          0.5,
                          "#f7f7f7"
                        ],
                        [
                          0.6,
                          "#e6f5d0"
                        ],
                        [
                          0.7,
                          "#b8e186"
                        ],
                        [
                          0.8,
                          "#7fbc41"
                        ],
                        [
                          0.9,
                          "#4d9221"
                        ],
                        [
                          1,
                          "#276419"
                        ]
                      ],
                      "sequential": [
                        [
                          0,
                          "#0d0887"
                        ],
                        [
                          0.1111111111111111,
                          "#46039f"
                        ],
                        [
                          0.2222222222222222,
                          "#7201a8"
                        ],
                        [
                          0.3333333333333333,
                          "#9c179e"
                        ],
                        [
                          0.4444444444444444,
                          "#bd3786"
                        ],
                        [
                          0.5555555555555556,
                          "#d8576b"
                        ],
                        [
                          0.6666666666666666,
                          "#ed7953"
                        ],
                        [
                          0.7777777777777778,
                          "#fb9f3a"
                        ],
                        [
                          0.8888888888888888,
                          "#fdca26"
                        ],
                        [
                          1,
                          "#f0f921"
                        ]
                      ],
                      "sequentialminus": [
                        [
                          0,
                          "#0d0887"
                        ],
                        [
                          0.1111111111111111,
                          "#46039f"
                        ],
                        [
                          0.2222222222222222,
                          "#7201a8"
                        ],
                        [
                          0.3333333333333333,
                          "#9c179e"
                        ],
                        [
                          0.4444444444444444,
                          "#bd3786"
                        ],
                        [
                          0.5555555555555556,
                          "#d8576b"
                        ],
                        [
                          0.6666666666666666,
                          "#ed7953"
                        ],
                        [
                          0.7777777777777778,
                          "#fb9f3a"
                        ],
                        [
                          0.8888888888888888,
                          "#fdca26"
                        ],
                        [
                          1,
                          "#f0f921"
                        ]
                      ]
                    },
                    "colorway": [
                      "#636efa",
                      "#EF553B",
                      "#00cc96",
                      "#ab63fa",
                      "#FFA15A",
                      "#19d3f3",
                      "#FF6692",
                      "#B6E880",
                      "#FF97FF",
                      "#FECB52"
                    ],
                    "font": {
                      "color": "#2a3f5f"
                    },
                    "geo": {
                      "bgcolor": "white",
                      "lakecolor": "white",
                      "landcolor": "#E5ECF6",
                      "showlakes": true,
                      "showland": true,
                      "subunitcolor": "white"
                    },
                    "hoverlabel": {
                      "align": "left"
                    },
                    "hovermode": "closest",
                    "mapbox": {
                      "style": "light"
                    },
                    "paper_bgcolor": "white",
                    "plot_bgcolor": "#E5ECF6",
                    "polar": {
                      "angularaxis": {
                        "gridcolor": "white",
                        "linecolor": "white",
                        "ticks": ""
                      },
                      "bgcolor": "#E5ECF6",
                      "radialaxis": {
                        "gridcolor": "white",
                        "linecolor": "white",
                        "ticks": ""
                      }
                    },
                    "scene": {
                      "xaxis": {
                        "backgroundcolor": "#E5ECF6",
                        "gridcolor": "white",
                        "gridwidth": 2,
                        "linecolor": "white",
                        "showbackground": true,
                        "ticks": "",
                        "zerolinecolor": "white"
                      },
                      "yaxis": {
                        "backgroundcolor": "#E5ECF6",
                        "gridcolor": "white",
                        "gridwidth": 2,
                        "linecolor": "white",
                        "showbackground": true,
                        "ticks": "",
                        "zerolinecolor": "white"
                      },
                      "zaxis": {
                        "backgroundcolor": "#E5ECF6",
                        "gridcolor": "white",
                        "gridwidth": 2,
                        "linecolor": "white",
                        "showbackground": true,
                        "ticks": "",
                        "zerolinecolor": "white"
                      }
                    },
                    "shapedefaults": {
                      "line": {
                        "color": "#2a3f5f"
                      }
                    },
                    "ternary": {
                      "aaxis": {
                        "gridcolor": "white",
                        "linecolor": "white",
                        "ticks": ""
                      },
                      "baxis": {
                        "gridcolor": "white",
                        "linecolor": "white",
                        "ticks": ""
                      },
                      "bgcolor": "#E5ECF6",
                      "caxis": {
                        "gridcolor": "white",
                        "linecolor": "white",
                        "ticks": ""
                      }
                    },
                    "title": {
                      "x": 0.05
                    },
                    "xaxis": {
                      "automargin": true,
                      "gridcolor": "white",
                      "linecolor": "white",
                      "ticks": "",
                      "title": {
                        "standoff": 15
                      },
                      "zerolinecolor": "white",
                      "zerolinewidth": 2
                    },
                    "yaxis": {
                      "automargin": true,
                      "gridcolor": "white",
                      "linecolor": "white",
                      "ticks": "",
                      "title": {
                        "standoff": 15
                      },
                      "zerolinecolor": "white",
                      "zerolinewidth": 2
                    }
                  }
                },
                "title": {
                  "text": "Logit Contributions on Clean Dataset"
                },
                "width": 1500,
                "xaxis": {
                  "anchor": "y",
                  "constrain": "domain",
                  "domain": [
                    0,
                    0.31999999999999995
                  ],
                  "linecolor": "black",
                  "linewidth": 1,
                  "mirror": true,
                  "scaleanchor": "y",
                  "showline": true,
                  "title": {
                    "text": "Head"
                  }
                },
                "xaxis2": {
                  "anchor": "y2",
                  "domain": [
                    0.33999999999999997,
                    0.6599999999999999
                  ],
                  "linecolor": "black",
                  "linewidth": 1,
                  "matches": "x",
                  "mirror": true,
                  "showline": true,
                  "title": {
                    "text": "Head"
                  }
                },
                "xaxis3": {
                  "anchor": "y3",
                  "domain": [
                    0.6799999999999999,
                    0.9999999999999999
                  ],
                  "linecolor": "black",
                  "linewidth": 1,
                  "matches": "x",
                  "mirror": true,
                  "showline": true,
                  "title": {
                    "text": "Head"
                  }
                },
                "yaxis": {
                  "anchor": "x",
                  "autorange": "reversed",
                  "constrain": "domain",
                  "domain": [
                    0,
                    1
                  ],
                  "linecolor": "black",
                  "linewidth": 1,
                  "mirror": true,
                  "showline": true,
                  "title": {
                    "text": "Layer"
                  }
                },
                "yaxis2": {
                  "anchor": "x2",
                  "domain": [
                    0,
                    1
                  ],
                  "linecolor": "black",
                  "linewidth": 1,
                  "matches": "y",
                  "mirror": true,
                  "showline": true,
                  "showticklabels": false
                },
                "yaxis3": {
                  "anchor": "x3",
                  "domain": [
                    0,
                    1
                  ],
                  "linecolor": "black",
                  "linewidth": 1,
                  "matches": "y",
                  "mirror": true,
                  "showline": true,
                  "showticklabels": false
                }
              }
            },
            "text/html": [
              "<div>                            <div id=\"bd053d5c-91a0-4235-b519-c0557277dc69\" class=\"plotly-graph-div\" style=\"height:525px; width:1500px;\"></div>            <script type=\"text/javascript\">                require([\"plotly\"], function(Plotly) {                    window.PLOTLYENV=window.PLOTLYENV || {};                                    if (document.getElementById(\"bd053d5c-91a0-4235-b519-c0557277dc69\")) {                    Plotly.newPlot(                        \"bd053d5c-91a0-4235-b519-c0557277dc69\",                        [{\"coloraxis\":\"coloraxis\",\"name\":\"0\",\"z\":[[-0.0034922612830996513,-0.00982425082474947,-0.0015795145882293582,0.0012077449355274439,-0.0019943846855312586,-0.001699170097708702,-0.012550841085612774,-0.0006941905012354255,-0.0006700810045003891,0.007695272099226713,-0.0011639632284641266,-0.002014674013480544],[-0.003131509991362691,-0.00016029168909881264,-0.007061866112053394,0.0011078453389927745,0.006510507315397263,0.006100717931985855,-0.00285167433321476,-0.008421100676059723,0.004811587743461132,0.001969455275684595,-0.005654809530824423,-0.0019707076717168093],[-0.003845459781587124,-0.0016832264373078942,-0.0016941176727414131,0.008192059583961964,-0.000890723371412605,-0.004178810399025679,0.005975923500955105,0.008421914651989937,0.0036759499926120043,-0.00015910834190435708,0.0027794211637228727,-0.0009706843411549926],[-0.0024035279639065266,0.0018424845766276121,-0.00198877090588212,0.0014865639386698604,0.0031644790433347225,-0.0007100669899955392,-0.0029017289634793997,0.0002061722188955173,-0.004814551677554846,-0.00608452083542943,-0.0005106081371195614,0.008967180736362934],[-0.0024777166545391083,-0.0007280320860445499,-0.00039641853072680533,-0.002656519180163741,0.001438735518604517,0.0026905967388302088,0.0017092730849981308,0.007495542522519827,-0.0004360145831014961,-0.00029019228531979024,-0.0004044723464176059,0.003953250590711832],[-0.0041380710899829865,-0.0009754369966685772,0.0007225063745863736,0.00015814414655324072,-0.004954444244503975,-0.0023841739166527987,0.0014456326607614756,-0.005768944509327412,0.0007863608188927174,0.002311109798029065,-0.005682514514774084,0.0002914651413448155],[-0.011454756371676922,-0.0031323714647442102,0.0020715249702334404,-0.0005816697957925498,-0.00789731740951538,0.003431906457990408,0.006839348468929529,-0.0016325421165674925,0.003100479254499078,0.002532007871195674,0.0014455141499638557,0.0003697053762152791],[8.819132926873863e-05,0.00034495146246626973,0.0034133903682231903,0.08348731696605682,-0.0027536775451153517,-0.02151661366224289,-0.002379536395892501,-0.0024258336052298546,-0.011843075044453144,0.16584666073322296,0.000871466938406229,-0.00728655606508255],[0.0035277779679745436,-0.001554685877636075,-0.035890378057956696,0.09397172182798386,-0.0009157786262221634,-0.0037368512712419033,-0.13536155223846436,-0.0015410868218168616,-0.036740344017744064,0.00802040845155716,0.35797709226608276,-0.10459550470113754],[0.09305117279291153,-0.002723390469327569,0.07661706954240799,0.012377857230603695,0.04754117503762245,0.04254193976521492,1.1889044046401978,0.09237222373485565,-0.32190462946891785,2.9419736862182617,-0.0007917875191196799,-0.02752073109149933],[0.9022158980369568,0.2949140965938568,-0.09195523709058762,0.07487712055444717,-0.0010235524969175458,0.0018318109214305878,0.3365001678466797,-1.89674973487854,0.000584118184633553,0.003207477508112788,0.510745644569397,0.008865522220730782],[0.02085963450372219,0.038565877825021744,-0.4955630600452423,0.048799630254507065,-0.003890174673870206,0.007069997023791075,-0.15479886531829834,0.017479315400123596,0.027766171842813492,0.037819940596818924,-0.9700069427490234,0.07184841483831406]],\"type\":\"heatmap\",\"xaxis\":\"x\",\"yaxis\":\"y\",\"hovertemplate\":\"Head: %{x}\\u003cbr\\u003eLayer: %{y}\\u003cbr\\u003eLogit Contribution: %{z}\\u003cextra\\u003e\\u003c\\u002fextra\\u003e\"},{\"coloraxis\":\"coloraxis\",\"name\":\"1\",\"z\":[[-0.009078828617930412,-0.012192411348223686,-0.008297260850667953,0.01902329921722412,0.01148228533565998,0.009005973115563393,0.0610034316778183,0.0020699140150099993,0.01190857496112585,-0.037710338830947876,0.055848900228738785,0.014194315299391747],[0.012909462675452232,0.0038406969979405403,0.007867061533033848,0.016459014266729355,0.017688604071736336,-0.033734556287527084,-0.001981462584808469,0.02534404583275318,4.814048588741571e-05,-0.004590604454278946,0.0026527622248977423,0.017460661008954048],[0.032173167914152145,0.0350286066532135,0.0067218574695289135,0.027456125244498253,-0.0019713484216481447,-0.00906556285917759,-0.02989322505891323,-0.013129918836057186,-0.0021910034120082855,-0.028639310970902443,-0.013156315311789513,-0.0075184935703873634],[0.0216104406863451,-0.00023474318732041866,0.017881572246551514,0.009361475706100464,-0.01870446652173996,0.004737852606922388,0.0013642532285302877,-0.027716560289263725,0.01418918464332819,-0.009648358449339867,-0.026850320398807526,0.033775921911001205],[0.00026143659488298,0.01923772506415844,-0.002279272535815835,-0.03371182829141617,-0.027599919587373734,-0.004902639426290989,0.012319084256887436,-0.04716043919324875,-0.0003247214190196246,0.019638804718852043,-0.00034718457027338445,0.014939356595277786],[0.005933711305260658,0.009861437603831291,0.00010500143253011629,0.005224008113145828,-0.00388220208697021,0.030048415064811707,0.005157574079930782,0.0024410581681877375,0.01586076058447361,-0.04978301003575325,-0.024201398715376854,0.017148882150650024],[0.006654161959886551,0.011797570623457432,-0.0033503791783005,-0.011621210724115372,0.02495604008436203,-0.01204853318631649,-0.017881091684103012,-0.012736550532281399,-0.023612966760993004,0.04233087599277496,0.003460461273789406,0.03241195157170296],[0.027040043845772743,0.030021125450730324,0.009390228427946568,0.006457471288740635,-0.014778555370867252,0.01625276356935501,-0.12028492242097855,0.026695160195231438,0.04031550511717796,0.016799848526716232,0.009793372824788094,0.11970110982656479],[0.0003765275760088116,0.0010800774907693267,0.15492995083332062,0.4961504638195038,0.02704603224992752,0.037558574229478836,0.4834337532520294,0.022350536659359932,0.04579881951212883,0.0023522628471255302,-0.3694389760494232,0.15987104177474976],[0.1559947431087494,0.010065640322864056,0.20240147411823273,0.09506192803382874,0.1678219437599182,-0.1786939948797226,1.9223238229751587,0.05270346626639366,0.5457117557525635,3.4064106941223145,-0.010824895463883877,0.14460505545139313],[1.5196843147277832,0.43179750442504883,0.7646222710609436,0.19014248251914978,0.04346684738993645,-0.006365730427205563,0.5698963403701782,-2.5657031536102295,0.010763500817120075,0.20854777097702026,0.8468222618103027,0.054836682975292206],[0.1332738995552063,0.29654860496520996,0.4579489231109619,0.43434953689575195,-0.08327024430036545,0.04152629151940346,0.2536267340183258,0.21636131405830383,0.2306612730026245,0.20132207870483398,-1.6781469583511353,0.27300363779067993]],\"type\":\"heatmap\",\"xaxis\":\"x2\",\"yaxis\":\"y2\",\"hovertemplate\":\"Head: %{x}\\u003cbr\\u003eLayer: %{y}\\u003cbr\\u003eLogit Contribution: %{z}\\u003cextra\\u003e\\u003c\\u002fextra\\u003e\"},{\"coloraxis\":\"coloraxis\",\"name\":\"2\",\"z\":[[-0.005586565937846899,-0.0023681509774178267,-0.00671774335205555,0.017815563827753067,0.013476674444973469,0.010705139487981796,0.07355429232120514,0.0027641139458864927,0.012578649446368217,-0.04540559649467468,0.05701283738017082,0.016209008172154427],[0.0160409826785326,0.004000992048531771,0.014928927645087242,0.01535117533057928,0.011178085580468178,-0.039835263043642044,0.0008702140185050666,0.033765148371458054,-0.004763443022966385,-0.006560065783560276,0.00830757338553667,0.01943136192858219],[0.03601863235235214,0.03671183064579964,0.008415968157351017,0.019264066591858864,-0.00108062953222543,-0.004886752925813198,-0.035869136452674866,-0.021551834419369698,-0.0058669475838541985,-0.028480200096964836,-0.015935730189085007,-0.006547827739268541],[0.02401397004723549,-0.002077220706269145,0.019870350137352943,0.007874916307628155,-0.02186894603073597,0.0054479194805026054,0.004265984985977411,-0.0279227327555418,0.0190037339925766,-0.0035638415720313787,-0.026339715346693993,0.024808738380670547],[0.0027391482144594193,0.019965756684541702,-0.0018828518223017454,-0.031055310741066933,-0.029038652777671814,-0.007593236863613129,0.010609809309244156,-0.0546560063958168,0.00011129181075375527,0.01992899924516678,5.7286175433546305e-05,0.010986100882291794],[0.010071778669953346,0.010836881585419178,-0.0006174985319375992,0.005065858829766512,0.0010722426231950521,0.032432593405246735,0.0037119416519999504,0.008210007101297379,0.015074399299919605,-0.052094146609306335,-0.01851889304816723,0.016857417300343513],[0.01810891553759575,0.014929943718016148,-0.005421913228929043,-0.011039551347494125,0.03285336494445801,-0.01548043917864561,-0.024720449000597,-0.01110401377081871,-0.026713451370596886,0.03979887068271637,0.0020149482879787683,0.032042261213064194],[0.026951853185892105,0.029676171019673347,0.0059768338687717915,-0.07702985405921936,-0.012024883180856705,0.0377693772315979,-0.117905393242836,0.029120992869138718,0.05215858668088913,-0.14904679358005524,0.008921906352043152,0.12698765099048615],[-0.0031512558925896883,0.0026347620878368616,0.1908203363418579,0.4021787941455841,0.027961798012256622,0.04129541665315628,0.6187953352928162,0.023891624063253403,0.0825391560792923,-0.005668154917657375,-0.7274160981178284,0.2644665837287903],[0.06294357776641846,0.012789028696715832,0.12578439712524414,0.08268407732248306,0.12028076499700546,-0.2212359607219696,0.7334195375442505,-0.03966875001788139,0.8676162958145142,0.46443694829940796,-0.01003311201930046,0.17212577164173126],[0.6174683570861816,0.13688339293003082,0.856577455997467,0.11526533961296082,0.044490400701761246,-0.008197539485991001,0.23339617252349854,-0.6689534783363342,0.010179375298321247,0.20534029603004456,0.336076557636261,0.04597117379307747],[0.11241423338651657,0.2579827308654785,0.9535120725631714,0.3855498731136322,-0.0793800950050354,0.03445630148053169,0.4084256589412689,0.19888201355934143,0.20289507508277893,0.16350211203098297,-0.7081401348114014,0.20115524530410767]],\"type\":\"heatmap\",\"xaxis\":\"x3\",\"yaxis\":\"y3\",\"hovertemplate\":\"Head: %{x}\\u003cbr\\u003eLayer: %{y}\\u003cbr\\u003eLogit Contribution: %{z}\\u003cextra\\u003e\\u003c\\u002fextra\\u003e\"}],                        {\"template\":{\"data\":{\"histogram2dcontour\":[{\"type\":\"histogram2dcontour\",\"colorbar\":{\"outlinewidth\":0,\"ticks\":\"\"},\"colorscale\":[[0.0,\"#0d0887\"],[0.1111111111111111,\"#46039f\"],[0.2222222222222222,\"#7201a8\"],[0.3333333333333333,\"#9c179e\"],[0.4444444444444444,\"#bd3786\"],[0.5555555555555556,\"#d8576b\"],[0.6666666666666666,\"#ed7953\"],[0.7777777777777778,\"#fb9f3a\"],[0.8888888888888888,\"#fdca26\"],[1.0,\"#f0f921\"]]}],\"choropleth\":[{\"type\":\"choropleth\",\"colorbar\":{\"outlinewidth\":0,\"ticks\":\"\"}}],\"histogram2d\":[{\"type\":\"histogram2d\",\"colorbar\":{\"outlinewidth\":0,\"ticks\":\"\"},\"colorscale\":[[0.0,\"#0d0887\"],[0.1111111111111111,\"#46039f\"],[0.2222222222222222,\"#7201a8\"],[0.3333333333333333,\"#9c179e\"],[0.4444444444444444,\"#bd3786\"],[0.5555555555555556,\"#d8576b\"],[0.6666666666666666,\"#ed7953\"],[0.7777777777777778,\"#fb9f3a\"],[0.8888888888888888,\"#fdca26\"],[1.0,\"#f0f921\"]]}],\"heatmap\":[{\"type\":\"heatmap\",\"colorbar\":{\"outlinewidth\":0,\"ticks\":\"\"},\"colorscale\":[[0.0,\"#0d0887\"],[0.1111111111111111,\"#46039f\"],[0.2222222222222222,\"#7201a8\"],[0.3333333333333333,\"#9c179e\"],[0.4444444444444444,\"#bd3786\"],[0.5555555555555556,\"#d8576b\"],[0.6666666666666666,\"#ed7953\"],[0.7777777777777778,\"#fb9f3a\"],[0.8888888888888888,\"#fdca26\"],[1.0,\"#f0f921\"]]}],\"heatmapgl\":[{\"type\":\"heatmapgl\",\"colorbar\":{\"outlinewidth\":0,\"ticks\":\"\"},\"colorscale\":[[0.0,\"#0d0887\"],[0.1111111111111111,\"#46039f\"],[0.2222222222222222,\"#7201a8\"],[0.3333333333333333,\"#9c179e\"],[0.4444444444444444,\"#bd3786\"],[0.5555555555555556,\"#d8576b\"],[0.6666666666666666,\"#ed7953\"],[0.7777777777777778,\"#fb9f3a\"],[0.8888888888888888,\"#fdca26\"],[1.0,\"#f0f921\"]]}],\"contourcarpet\":[{\"type\":\"contourcarpet\",\"colorbar\":{\"outlinewidth\":0,\"ticks\":\"\"}}],\"contour\":[{\"type\":\"contour\",\"colorbar\":{\"outlinewidth\":0,\"ticks\":\"\"},\"colorscale\":[[0.0,\"#0d0887\"],[0.1111111111111111,\"#46039f\"],[0.2222222222222222,\"#7201a8\"],[0.3333333333333333,\"#9c179e\"],[0.4444444444444444,\"#bd3786\"],[0.5555555555555556,\"#d8576b\"],[0.6666666666666666,\"#ed7953\"],[0.7777777777777778,\"#fb9f3a\"],[0.8888888888888888,\"#fdca26\"],[1.0,\"#f0f921\"]]}],\"surface\":[{\"type\":\"surface\",\"colorbar\":{\"outlinewidth\":0,\"ticks\":\"\"},\"colorscale\":[[0.0,\"#0d0887\"],[0.1111111111111111,\"#46039f\"],[0.2222222222222222,\"#7201a8\"],[0.3333333333333333,\"#9c179e\"],[0.4444444444444444,\"#bd3786\"],[0.5555555555555556,\"#d8576b\"],[0.6666666666666666,\"#ed7953\"],[0.7777777777777778,\"#fb9f3a\"],[0.8888888888888888,\"#fdca26\"],[1.0,\"#f0f921\"]]}],\"mesh3d\":[{\"type\":\"mesh3d\",\"colorbar\":{\"outlinewidth\":0,\"ticks\":\"\"}}],\"scatter\":[{\"fillpattern\":{\"fillmode\":\"overlay\",\"size\":10,\"solidity\":0.2},\"type\":\"scatter\"}],\"parcoords\":[{\"type\":\"parcoords\",\"line\":{\"colorbar\":{\"outlinewidth\":0,\"ticks\":\"\"}}}],\"scatterpolargl\":[{\"type\":\"scatterpolargl\",\"marker\":{\"colorbar\":{\"outlinewidth\":0,\"ticks\":\"\"}}}],\"bar\":[{\"error_x\":{\"color\":\"#2a3f5f\"},\"error_y\":{\"color\":\"#2a3f5f\"},\"marker\":{\"line\":{\"color\":\"#E5ECF6\",\"width\":0.5},\"pattern\":{\"fillmode\":\"overlay\",\"size\":10,\"solidity\":0.2}},\"type\":\"bar\"}],\"scattergeo\":[{\"type\":\"scattergeo\",\"marker\":{\"colorbar\":{\"outlinewidth\":0,\"ticks\":\"\"}}}],\"scatterpolar\":[{\"type\":\"scatterpolar\",\"marker\":{\"colorbar\":{\"outlinewidth\":0,\"ticks\":\"\"}}}],\"histogram\":[{\"marker\":{\"pattern\":{\"fillmode\":\"overlay\",\"size\":10,\"solidity\":0.2}},\"type\":\"histogram\"}],\"scattergl\":[{\"type\":\"scattergl\",\"marker\":{\"colorbar\":{\"outlinewidth\":0,\"ticks\":\"\"}}}],\"scatter3d\":[{\"type\":\"scatter3d\",\"line\":{\"colorbar\":{\"outlinewidth\":0,\"ticks\":\"\"}},\"marker\":{\"colorbar\":{\"outlinewidth\":0,\"ticks\":\"\"}}}],\"scattermapbox\":[{\"type\":\"scattermapbox\",\"marker\":{\"colorbar\":{\"outlinewidth\":0,\"ticks\":\"\"}}}],\"scatterternary\":[{\"type\":\"scatterternary\",\"marker\":{\"colorbar\":{\"outlinewidth\":0,\"ticks\":\"\"}}}],\"scattercarpet\":[{\"type\":\"scattercarpet\",\"marker\":{\"colorbar\":{\"outlinewidth\":0,\"ticks\":\"\"}}}],\"carpet\":[{\"aaxis\":{\"endlinecolor\":\"#2a3f5f\",\"gridcolor\":\"white\",\"linecolor\":\"white\",\"minorgridcolor\":\"white\",\"startlinecolor\":\"#2a3f5f\"},\"baxis\":{\"endlinecolor\":\"#2a3f5f\",\"gridcolor\":\"white\",\"linecolor\":\"white\",\"minorgridcolor\":\"white\",\"startlinecolor\":\"#2a3f5f\"},\"type\":\"carpet\"}],\"table\":[{\"cells\":{\"fill\":{\"color\":\"#EBF0F8\"},\"line\":{\"color\":\"white\"}},\"header\":{\"fill\":{\"color\":\"#C8D4E3\"},\"line\":{\"color\":\"white\"}},\"type\":\"table\"}],\"barpolar\":[{\"marker\":{\"line\":{\"color\":\"#E5ECF6\",\"width\":0.5},\"pattern\":{\"fillmode\":\"overlay\",\"size\":10,\"solidity\":0.2}},\"type\":\"barpolar\"}],\"pie\":[{\"automargin\":true,\"type\":\"pie\"}]},\"layout\":{\"autotypenumbers\":\"strict\",\"colorway\":[\"#636efa\",\"#EF553B\",\"#00cc96\",\"#ab63fa\",\"#FFA15A\",\"#19d3f3\",\"#FF6692\",\"#B6E880\",\"#FF97FF\",\"#FECB52\"],\"font\":{\"color\":\"#2a3f5f\"},\"hovermode\":\"closest\",\"hoverlabel\":{\"align\":\"left\"},\"paper_bgcolor\":\"white\",\"plot_bgcolor\":\"#E5ECF6\",\"polar\":{\"bgcolor\":\"#E5ECF6\",\"angularaxis\":{\"gridcolor\":\"white\",\"linecolor\":\"white\",\"ticks\":\"\"},\"radialaxis\":{\"gridcolor\":\"white\",\"linecolor\":\"white\",\"ticks\":\"\"}},\"ternary\":{\"bgcolor\":\"#E5ECF6\",\"aaxis\":{\"gridcolor\":\"white\",\"linecolor\":\"white\",\"ticks\":\"\"},\"baxis\":{\"gridcolor\":\"white\",\"linecolor\":\"white\",\"ticks\":\"\"},\"caxis\":{\"gridcolor\":\"white\",\"linecolor\":\"white\",\"ticks\":\"\"}},\"coloraxis\":{\"colorbar\":{\"outlinewidth\":0,\"ticks\":\"\"}},\"colorscale\":{\"sequential\":[[0.0,\"#0d0887\"],[0.1111111111111111,\"#46039f\"],[0.2222222222222222,\"#7201a8\"],[0.3333333333333333,\"#9c179e\"],[0.4444444444444444,\"#bd3786\"],[0.5555555555555556,\"#d8576b\"],[0.6666666666666666,\"#ed7953\"],[0.7777777777777778,\"#fb9f3a\"],[0.8888888888888888,\"#fdca26\"],[1.0,\"#f0f921\"]],\"sequentialminus\":[[0.0,\"#0d0887\"],[0.1111111111111111,\"#46039f\"],[0.2222222222222222,\"#7201a8\"],[0.3333333333333333,\"#9c179e\"],[0.4444444444444444,\"#bd3786\"],[0.5555555555555556,\"#d8576b\"],[0.6666666666666666,\"#ed7953\"],[0.7777777777777778,\"#fb9f3a\"],[0.8888888888888888,\"#fdca26\"],[1.0,\"#f0f921\"]],\"diverging\":[[0,\"#8e0152\"],[0.1,\"#c51b7d\"],[0.2,\"#de77ae\"],[0.3,\"#f1b6da\"],[0.4,\"#fde0ef\"],[0.5,\"#f7f7f7\"],[0.6,\"#e6f5d0\"],[0.7,\"#b8e186\"],[0.8,\"#7fbc41\"],[0.9,\"#4d9221\"],[1,\"#276419\"]]},\"xaxis\":{\"gridcolor\":\"white\",\"linecolor\":\"white\",\"ticks\":\"\",\"title\":{\"standoff\":15},\"zerolinecolor\":\"white\",\"automargin\":true,\"zerolinewidth\":2},\"yaxis\":{\"gridcolor\":\"white\",\"linecolor\":\"white\",\"ticks\":\"\",\"title\":{\"standoff\":15},\"zerolinecolor\":\"white\",\"automargin\":true,\"zerolinewidth\":2},\"scene\":{\"xaxis\":{\"backgroundcolor\":\"#E5ECF6\",\"gridcolor\":\"white\",\"linecolor\":\"white\",\"showbackground\":true,\"ticks\":\"\",\"zerolinecolor\":\"white\",\"gridwidth\":2},\"yaxis\":{\"backgroundcolor\":\"#E5ECF6\",\"gridcolor\":\"white\",\"linecolor\":\"white\",\"showbackground\":true,\"ticks\":\"\",\"zerolinecolor\":\"white\",\"gridwidth\":2},\"zaxis\":{\"backgroundcolor\":\"#E5ECF6\",\"gridcolor\":\"white\",\"linecolor\":\"white\",\"showbackground\":true,\"ticks\":\"\",\"zerolinecolor\":\"white\",\"gridwidth\":2}},\"shapedefaults\":{\"line\":{\"color\":\"#2a3f5f\"}},\"annotationdefaults\":{\"arrowcolor\":\"#2a3f5f\",\"arrowhead\":0,\"arrowwidth\":1},\"geo\":{\"bgcolor\":\"white\",\"landcolor\":\"#E5ECF6\",\"subunitcolor\":\"white\",\"showland\":true,\"showlakes\":true,\"lakecolor\":\"white\"},\"title\":{\"x\":0.05},\"mapbox\":{\"style\":\"light\"}}},\"xaxis\":{\"anchor\":\"y\",\"domain\":[0.0,0.31999999999999995],\"scaleanchor\":\"y\",\"constrain\":\"domain\",\"title\":{\"text\":\"Head\"},\"showline\":true,\"linewidth\":1,\"linecolor\":\"black\",\"mirror\":true},\"yaxis\":{\"anchor\":\"x\",\"domain\":[0.0,1.0],\"autorange\":\"reversed\",\"constrain\":\"domain\",\"title\":{\"text\":\"Layer\"},\"showline\":true,\"linewidth\":1,\"linecolor\":\"black\",\"mirror\":true},\"xaxis2\":{\"anchor\":\"y2\",\"domain\":[0.33999999999999997,0.6599999999999999],\"matches\":\"x\",\"title\":{\"text\":\"Head\"},\"showline\":true,\"linewidth\":1,\"linecolor\":\"black\",\"mirror\":true},\"yaxis2\":{\"anchor\":\"x2\",\"domain\":[0.0,1.0],\"matches\":\"y\",\"showticklabels\":false,\"showline\":true,\"linewidth\":1,\"linecolor\":\"black\",\"mirror\":true},\"xaxis3\":{\"anchor\":\"y3\",\"domain\":[0.6799999999999999,0.9999999999999999],\"matches\":\"x\",\"title\":{\"text\":\"Head\"},\"showline\":true,\"linewidth\":1,\"linecolor\":\"black\",\"mirror\":true},\"yaxis3\":{\"anchor\":\"x3\",\"domain\":[0.0,1.0],\"matches\":\"y\",\"showticklabels\":false,\"showline\":true,\"linewidth\":1,\"linecolor\":\"black\",\"mirror\":true},\"annotations\":[{\"font\":{},\"showarrow\":false,\"text\":\"Logit Diff - 3.49\",\"x\":0.15999999999999998,\"xanchor\":\"center\",\"xref\":\"paper\",\"y\":1.0,\"yanchor\":\"bottom\",\"yref\":\"paper\"},{\"font\":{},\"showarrow\":false,\"text\":\"Correct Direction\",\"x\":0.49999999999999994,\"xanchor\":\"center\",\"xref\":\"paper\",\"y\":1.0,\"yanchor\":\"bottom\",\"yref\":\"paper\"},{\"font\":{},\"showarrow\":false,\"text\":\"Incorrect Direction\",\"x\":0.8399999999999999,\"xanchor\":\"center\",\"xref\":\"paper\",\"y\":1.0,\"yanchor\":\"bottom\",\"yref\":\"paper\"}],\"coloraxis\":{\"colorbar\":{\"title\":{\"text\":\"Logit Contribution\"}},\"colorscale\":[[0.0,\"rgb(103,0,31)\"],[0.1,\"rgb(178,24,43)\"],[0.2,\"rgb(214,96,77)\"],[0.3,\"rgb(244,165,130)\"],[0.4,\"rgb(253,219,199)\"],[0.5,\"rgb(247,247,247)\"],[0.6,\"rgb(209,229,240)\"],[0.7,\"rgb(146,197,222)\"],[0.8,\"rgb(67,147,195)\"],[0.9,\"rgb(33,102,172)\"],[1.0,\"rgb(5,48,97)\"]],\"cmid\":0.0},\"title\":{\"text\":\"Logit Contributions on Clean Dataset\"},\"width\":1500,\"margin\":{\"r\":100,\"l\":100}},                        {\"responsive\": true}                    ).then(function(){\n",
              "                            \n",
              "var gd = document.getElementById('bd053d5c-91a0-4235-b519-c0557277dc69');\n",
              "var x = new MutationObserver(function (mutations, observer) {{\n",
              "        var display = window.getComputedStyle(gd).display;\n",
              "        if (!display || display === 'none') {{\n",
              "            console.log([gd, 'removed!']);\n",
              "            Plotly.purge(gd);\n",
              "            observer.disconnect();\n",
              "        }}\n",
              "}});\n",
              "\n",
              "// Listen for the removal of the full notebook cells\n",
              "var notebookContainer = gd.closest('#notebook-container');\n",
              "if (notebookContainer) {{\n",
              "    x.observe(notebookContainer, {childList: true});\n",
              "}}\n",
              "\n",
              "// Listen for the clearing of the current output cell\n",
              "var outputEl = gd.closest('.output');\n",
              "if (outputEl) {{\n",
              "    x.observe(outputEl, {childList: true});\n",
              "}}\n",
              "\n",
              "                        })                };                });            </script>        </div>"
            ]
          },
          "metadata": {},
          "output_type": "display_data"
        }
      ],
      "source": [
        "def display_all_logits(cache, title = \"Logit Contributions\", comparison = False, return_fig = False, logits = None):\n",
        "\n",
        "  a,b,c = calc_all_logit_diffs(cache)\n",
        "  if logits is not None:\n",
        "    ld = logits_to_ave_logit_diff(logits)\n",
        "  else:\n",
        "    ld = 0.00\n",
        "\n",
        "  if not comparison:\n",
        "    fig = imshow(\n",
        "        torch.stack([a,b,c]),\n",
        "        return_fig = True,\n",
        "        facet_col = 0,\n",
        "        facet_labels = [f\"Logit Diff - {ld:.2f}\", \"Correct Direction\", \"Incorrect Direction\"],\n",
        "        title=title,\n",
        "        labels={\"x\": \"Head\", \"y\": \"Layer\", \"color\": \"Logit Contribution\"},\n",
        "        #coloraxis=dict(colorbar_ticksuffix = \"%\"),\n",
        "        border=True,\n",
        "        width=1500,\n",
        "        margin={\"r\": 100, \"l\": 100}\n",
        "    )\n",
        "  else:\n",
        "\n",
        "    ca, cb, cc = calc_all_logit_diffs(clean_cache)\n",
        "    fig = imshow(\n",
        "        torch.stack([a, b, c, a - ca, b - cb, c - cc]),\n",
        "        return_fig = True,\n",
        "        facet_col = 0,\n",
        "        facet_labels = [f\"Logit Diff - {ld:.2f}\", \"Correct Direction\", \"Incorrect Direction\", \"Logit Diff Diff\", \"Correction Direction Diff\", \"Incorrect Direction Diff\"],\n",
        "        title=title,\n",
        "        labels={\"x\": \"Head\", \"y\": \"Layer\", \"color\": \"Logit Contribution\"},\n",
        "        #coloraxis=dict(colorbar_ticksuffix = \"%\"),\n",
        "        border=True,\n",
        "        width=1500,\n",
        "        margin={\"r\": 100, \"l\": 100}\n",
        "    )\n",
        "\n",
        "\n",
        "  if return_fig:\n",
        "    return fig\n",
        "\n",
        "\n",
        "\n",
        "fig = display_all_logits(clean_cache, title = \"Logit Contributions on Clean Dataset\", return_fig = True, logits = clean_logits)"
      ]
    },
    {
      "cell_type": "code",
      "execution_count": 361,
      "metadata": {
        "id": "cg0QXfBAFCgz"
      },
      "outputs": [],
      "source": [
        "def stare_at_attention_and_head_pat(cache, layer_to_stare_at, head_to_isolate, display_corrupted_text = False, verbose = True, specific = False, specific_index = 0):\n",
        "  \"\"\"\n",
        "  given a cache from a run, displays the attention patterns of a layer, as well as printing out how much the model\n",
        "  attends to the S1, S2, and IO token\n",
        "  \"\"\"\n",
        "\n",
        "  tokenized_str_tokens = model.to_str_tokens(corrupted_tokens[0]) if display_corrupted_text else model.to_str_tokens(clean_tokens[0])\n",
        "  attention_patten = cache[\"pattern\", layer_to_stare_at]\n",
        "  print(f\"Layer {layer_to_stare_at} Head {head_to_isolate} Activation Patterns:\")\n",
        "\n",
        "\n",
        "  if not specific:\n",
        "    S1 = attention_patten.mean(0)[head_to_isolate][-1][2].item()\n",
        "    IO = attention_patten.mean(0)[head_to_isolate][-1][4].item()\n",
        "    S2 = attention_patten.mean(0)[head_to_isolate][-1][10].item()\n",
        "  else:\n",
        "    S1 = attention_patten[specific_index, head_to_isolate][-1][2].item()\n",
        "    IO = attention_patten[specific_index, head_to_isolate][-1][4].item()\n",
        "    S2 = attention_patten[specific_index, head_to_isolate][-1][10].item()\n",
        "\n",
        "\n",
        "  print(\"Attention on S1: \" + str(S1))\n",
        "  print(\"Attention on IO: \" + str(IO))\n",
        "  print(\"Attention on S2: \" + str(S2))\n",
        "  print(\"S1 + IO - S2 = \" + str(S1 + IO - S2))\n",
        "  print(\"S1 + S2 - IO = \" + str(S1 + S2 - IO))\n",
        "  print(\"S1 - IO - S2 = \" + str(S1 - S2 - IO))\n",
        "\n",
        "\n",
        "  if verbose:\n",
        "    display(cv.attention.attention_heads(\n",
        "      tokens=tokenized_str_tokens,\n",
        "      attention= attention_patten.mean(0) if not specific else attention_patten[specific_index],\n",
        "      #attention_head_names=[f\"L{layer_to_stare_at}H{i}\" for i in range(model.cfg.n_heads)],\n",
        "    ))\n",
        "  else:\n",
        "    print(attention_patten.mean(0).shape)\n",
        "\n",
        "    display(cv.attention.attention_patterns(\n",
        "      tokens=tokenized_str_tokens,\n",
        "      attention=attention_patten.mean(0)if not specific else attention_patten[specific_index],\n",
        "      attention_head_names=[f\"L{layer_to_stare_at} H{i}\" for i in range(model.cfg.n_heads)],\n",
        "    ))"
      ]
    },
    {
      "cell_type": "code",
      "execution_count": 372,
      "metadata": {
        "id": "vvBeXMV8Betp"
      },
      "outputs": [],
      "source": [
        "def display_corrupted_clean_logits(cache, title = \"Logit Contributions\", comparison = False, return_fig = False, logits = None):\n",
        "\n",
        "  a,b,c = calc_all_logit_diffs(cache)\n",
        "  if logits is not None:\n",
        "    ld = logits_to_ave_logit_diff(logits)\n",
        "  else:\n",
        "    ld = 0.00\n",
        "\n",
        "  if not comparison:\n",
        "    fig = imshow(\n",
        "        torch.stack([a]),\n",
        "        return_fig = True,\n",
        "        facet_col = 0,\n",
        "        facet_labels = [f\"Logit Diff - {ld:.2f}\"],\n",
        "        title=title,\n",
        "        labels={\"x\": \"Head\", \"y\": \"Layer\", \"color\": \"Logit Contribution\"},\n",
        "        #coloraxis=dict(colorbar_ticksuffix = \"%\"),\n",
        "        border=True,\n",
        "        width=1500,\n",
        "        margin={\"r\": 100, \"l\": 100}\n",
        "    )\n",
        "  else:\n",
        "\n",
        "    ca, cb, cc = calc_all_logit_diffs(clean_cache)\n",
        "    fig = imshow(\n",
        "        torch.stack([a, ca, a - ca]),\n",
        "        return_fig = True,\n",
        "        facet_col = 0,\n",
        "        facet_labels = [f\"Ablated Logit Differences: {ld:.2f}\", f\"Clean Logit Differences: {clean_average_logit_diff:.2f}\", f\"Difference between Ablated and Clea: {(ld - clean_average_logit_diff):.2f}\",],\n",
        "        title=title,\n",
        "        labels={\"x\": \"Head\", \"y\": \"Layer\", \"color\": \"Logit Contribution\"},\n",
        "        #coloraxis=dict(colorbar_ticksuffix = \"%\"),\n",
        "        border=True,\n",
        "        width=1000,\n",
        "        margin={\"r\": 100, \"l\": 100}\n",
        "    )\n",
        "\n",
        "\n",
        "  if return_fig:\n",
        "    return fig\n",
        "  else:\n",
        "    return a - ca"
      ]
    },
    {
      "cell_type": "code",
      "execution_count": 373,
      "metadata": {
        "colab": {
          "base_uri": "https://localhost:8080/",
          "height": 560
        },
        "id": "IfRvIIAPBHAy",
        "outputId": "ad6fb15f-817e-4fa3-9bca-44a683590da1"
      },
      "outputs": [
        {
          "data": {
            "application/vnd.plotly.v1+json": {
              "config": {
                "plotlyServerURL": "https://plot.ly"
              },
              "data": [
                {
                  "coloraxis": "coloraxis",
                  "hovertemplate": "Head: %{x}<br>Layer: %{y}<br>Logit Contribution: %{z}<extra></extra>",
                  "name": "0",
                  "type": "heatmap",
                  "xaxis": "x",
                  "yaxis": "y",
                  "z": [
                    [
                      -0.003733372315764427,
                      -0.010492371395230293,
                      -0.001656942768022418,
                      0.0012634826125577092,
                      -0.002139775548130274,
                      -0.0020583542063832283,
                      -0.013306662440299988,
                      -0.0007577784126624465,
                      -0.0005542582366615534,
                      0.00788718368858099,
                      -0.0010330097284168005,
                      -0.0020019300282001495
                    ],
                    [
                      -0.0031643614638596773,
                      -0.00014268304221332073,
                      -0.0074060531333088875,
                      0.000993613968603313,
                      0.0070381732657551765,
                      0.0067170304246246815,
                      -0.002954888856038451,
                      -0.009053641930222511,
                      0.004964279010891914,
                      0.0020000955555588007,
                      -0.00580759858712554,
                      -0.002166577149182558
                    ],
                    [
                      -0.003970556426793337,
                      -0.0017279613530263305,
                      -0.0016295978566631675,
                      0.008522525429725647,
                      -0.0009612886351533234,
                      -0.004570033401250839,
                      0.00621750857681036,
                      0.008934042416512966,
                      0.003986917436122894,
                      -0.00015203635848592967,
                      0.0031786365434527397,
                      -0.0011927627492696047
                    ],
                    [
                      -0.0025904513895511627,
                      0.0018791439943015575,
                      -0.0021368993911892176,
                      0.001562126912176609,
                      0.0034088592510670424,
                      -0.0007347856881096959,
                      -0.003028763458132744,
                      0.0002930608461610973,
                      -0.005089252721518278,
                      -0.006282310467213392,
                      -0.0004899967461824417,
                      0.0093779182061553
                    ],
                    [
                      -0.002447070786729455,
                      -0.0008957461686804891,
                      -0.0003777688543777913,
                      -0.002889986615628004,
                      0.0015158394817262888,
                      0.0028301673009991646,
                      0.0016859519528225064,
                      0.00791991502046585,
                      -0.00044826656812801957,
                      -0.0002752796281129122,
                      -0.00039397875661961734,
                      0.004228443372994661
                    ],
                    [
                      -0.004311249125748873,
                      -0.0010909362463280559,
                      0.0008898127125576138,
                      0.00013262212451081723,
                      -0.005159198772162199,
                      -0.0027440625708550215,
                      0.0014616429107263684,
                      -0.006019964814186096,
                      0.0008161593577824533,
                      0.002794821746647358,
                      -0.005975998472422361,
                      0.0003356309898663312
                    ],
                    [
                      -0.0121439378708601,
                      -0.0032681291922926903,
                      0.0021371592301875353,
                      -0.0006407820619642735,
                      -0.008177346549928188,
                      0.003655665088444948,
                      0.007234688848257065,
                      -0.0017538615502417088,
                      0.0031882100738584995,
                      0.0025144692044705153,
                      0.0014675778802484274,
                      0.0005978659028187394
                    ],
                    [
                      0.00008784592500887811,
                      0.00036402515252120793,
                      0.0035827220417559147,
                      0.08781298995018005,
                      -0.0028945584781467915,
                      -0.02255229838192463,
                      -0.0024423073045909405,
                      -0.002577015198767185,
                      -0.012357871979475021,
                      0.17444074153900146,
                      0.0009154641884379089,
                      -0.007674934342503548
                    ],
                    [
                      0.003878947114571929,
                      -0.0016437125159427524,
                      -0.037807662039995193,
                      0.09851769357919693,
                      -0.0008646013448014855,
                      -0.003978307358920574,
                      -0.1425975263118744,
                      -0.0016220936086028814,
                      -0.03875705972313881,
                      0.008664662018418312,
                      0.37659189105033875,
                      -0.10987162590026855
                    ],
                    [
                      0.09779384732246399,
                      -0.0029589205514639616,
                      0.08088783919811249,
                      0.013144884258508682,
                      0.050055138766765594,
                      0.04440829157829285,
                      -0.0038585998117923737,
                      0.09735946357250214,
                      -0.33751970529556274,
                      -0.043607212603092194,
                      -0.0008460627286694944,
                      -0.028954707086086273
                    ],
                    [
                      -0.006268717814236879,
                      0.5787901878356934,
                      0.4826195240020752,
                      0.11979104578495026,
                      -0.002283470006659627,
                      0.0010518375784158707,
                      0.6976742148399353,
                      0.4144448935985565,
                      -0.0002808300778269768,
                      -0.0051108538173139095,
                      1.3610721826553345,
                      0.022088181227445602
                    ],
                    [
                      0.01699492707848549,
                      0.12348748743534088,
                      0.440973162651062,
                      0.08320563286542892,
                      -0.009379971772432327,
                      0.000545990071259439,
                      -0.05185674875974655,
                      0.016331486403942108,
                      0.026808694005012512,
                      0.21413740515708923,
                      -1.3247950077056885,
                      0.08228456974029541
                    ]
                  ]
                },
                {
                  "coloraxis": "coloraxis",
                  "hovertemplate": "Head: %{x}<br>Layer: %{y}<br>Logit Contribution: %{z}<extra></extra>",
                  "name": "1",
                  "type": "heatmap",
                  "xaxis": "x2",
                  "yaxis": "y2",
                  "z": [
                    [
                      -0.0034922612830996513,
                      -0.00982425082474947,
                      -0.0015795145882293582,
                      0.0012077449355274439,
                      -0.0019943846855312586,
                      -0.001699170097708702,
                      -0.012550841085612774,
                      -0.0006941905012354255,
                      -0.0006700810045003891,
                      0.007695272099226713,
                      -0.0011639632284641266,
                      -0.002014674013480544
                    ],
                    [
                      -0.003131509991362691,
                      -0.00016029168909881264,
                      -0.007061866112053394,
                      0.0011078453389927745,
                      0.006510507315397263,
                      0.006100717931985855,
                      -0.00285167433321476,
                      -0.008421100676059723,
                      0.004811587743461132,
                      0.001969455275684595,
                      -0.005654809530824423,
                      -0.0019707076717168093
                    ],
                    [
                      -0.003845459781587124,
                      -0.0016832264373078942,
                      -0.0016941176727414131,
                      0.008192059583961964,
                      -0.000890723371412605,
                      -0.004178810399025679,
                      0.005975923500955105,
                      0.008421914651989937,
                      0.0036759499926120043,
                      -0.00015910834190435708,
                      0.0027794211637228727,
                      -0.0009706843411549926
                    ],
                    [
                      -0.0024035279639065266,
                      0.0018424845766276121,
                      -0.00198877090588212,
                      0.0014865639386698604,
                      0.0031644790433347225,
                      -0.0007100669899955392,
                      -0.0029017289634793997,
                      0.0002061722188955173,
                      -0.004814551677554846,
                      -0.00608452083542943,
                      -0.0005106081371195614,
                      0.008967180736362934
                    ],
                    [
                      -0.0024777166545391083,
                      -0.0007280320860445499,
                      -0.00039641853072680533,
                      -0.002656519180163741,
                      0.001438735518604517,
                      0.0026905967388302088,
                      0.0017092730849981308,
                      0.007495542522519827,
                      -0.0004360145831014961,
                      -0.00029019228531979024,
                      -0.0004044723464176059,
                      0.003953250590711832
                    ],
                    [
                      -0.0041380710899829865,
                      -0.0009754369966685772,
                      0.0007225063745863736,
                      0.00015814414655324072,
                      -0.004954444244503975,
                      -0.0023841739166527987,
                      0.0014456326607614756,
                      -0.005768944509327412,
                      0.0007863608188927174,
                      0.002311109798029065,
                      -0.005682514514774084,
                      0.0002914651413448155
                    ],
                    [
                      -0.011454756371676922,
                      -0.0031323714647442102,
                      0.0020715249702334404,
                      -0.0005816697957925498,
                      -0.00789731740951538,
                      0.003431906457990408,
                      0.006839348468929529,
                      -0.0016325421165674925,
                      0.003100479254499078,
                      0.002532007871195674,
                      0.0014455141499638557,
                      0.0003697053762152791
                    ],
                    [
                      0.00008819132926873863,
                      0.00034495146246626973,
                      0.0034133903682231903,
                      0.08348731696605682,
                      -0.0027536775451153517,
                      -0.02151661366224289,
                      -0.002379536395892501,
                      -0.0024258336052298546,
                      -0.011843075044453144,
                      0.16584666073322296,
                      0.000871466938406229,
                      -0.00728655606508255
                    ],
                    [
                      0.0035277779679745436,
                      -0.001554685877636075,
                      -0.035890378057956696,
                      0.09397172182798386,
                      -0.0009157786262221634,
                      -0.0037368512712419033,
                      -0.13536155223846436,
                      -0.0015410868218168616,
                      -0.036740344017744064,
                      0.00802040845155716,
                      0.35797709226608276,
                      -0.10459550470113754
                    ],
                    [
                      0.09305117279291153,
                      -0.002723390469327569,
                      0.07661706954240799,
                      0.012377857230603695,
                      0.04754117503762245,
                      0.04254193976521492,
                      1.1889044046401978,
                      0.09237222373485565,
                      -0.32190462946891785,
                      2.9419736862182617,
                      -0.0007917875191196799,
                      -0.02752073109149933
                    ],
                    [
                      0.9022158980369568,
                      0.2949140965938568,
                      -0.09195523709058762,
                      0.07487712055444717,
                      -0.0010235524969175458,
                      0.0018318109214305878,
                      0.3365001678466797,
                      -1.89674973487854,
                      0.000584118184633553,
                      0.003207477508112788,
                      0.510745644569397,
                      0.008865522220730782
                    ],
                    [
                      0.02085963450372219,
                      0.038565877825021744,
                      -0.4955630600452423,
                      0.048799630254507065,
                      -0.003890174673870206,
                      0.007069997023791075,
                      -0.15479886531829834,
                      0.017479315400123596,
                      0.027766171842813492,
                      0.037819940596818924,
                      -0.9700069427490234,
                      0.07184841483831406
                    ]
                  ]
                },
                {
                  "coloraxis": "coloraxis",
                  "hovertemplate": "Head: %{x}<br>Layer: %{y}<br>Logit Contribution: %{z}<extra></extra>",
                  "name": "2",
                  "type": "heatmap",
                  "xaxis": "x3",
                  "yaxis": "y3",
                  "z": [
                    [
                      -0.00024111103266477585,
                      -0.0006681205704808235,
                      -0.00007742817979305983,
                      0.00005573767703026533,
                      -0.00014539086259901524,
                      -0.0003591841086745262,
                      -0.0007558213546872139,
                      -0.00006358791142702103,
                      0.00011582276783883572,
                      0.00019191158935427666,
                      0.0001309535000473261,
                      0.000012743985280394554
                    ],
                    [
                      -0.00003285147249698639,
                      0.000017608646885491908,
                      -0.00034418702125549316,
                      -0.00011423137038946152,
                      0.000527665950357914,
                      0.0006163124926388264,
                      -0.00010321452282369137,
                      -0.0006325412541627884,
                      0.00015269126743078232,
                      0.00003064027987420559,
                      -0.00015278905630111694,
                      -0.0001958694774657488
                    ],
                    [
                      -0.000125096645206213,
                      -0.00004473491571843624,
                      0.00006451981607824564,
                      0.0003304658457636833,
                      -0.00007056526374071836,
                      -0.0003912230022251606,
                      0.00024158507585525513,
                      0.0005121277645230293,
                      0.00031096744351089,
                      0.000007071983418427408,
                      0.000399215379729867,
                      -0.0002220784081146121
                    ],
                    [
                      -0.00018692342564463615,
                      0.00003665941767394543,
                      -0.00014812848530709743,
                      0.00007556297350674868,
                      0.00024438020773231983,
                      -0.000024718698114156723,
                      -0.00012703449465334415,
                      0.00008688862726558,
                      -0.0002747010439634323,
                      -0.00019778963178396225,
                      0.000020611390937119722,
                      0.00041073746979236603
                    ],
                    [
                      0.00003064586780965328,
                      -0.00016771408263593912,
                      0.000018649676349014044,
                      -0.00023346743546426296,
                      0.00007710396312177181,
                      0.0001395705621689558,
                      -0.00002332113217562437,
                      0.00042437249794602394,
                      -0.000012251985026523471,
                      0.000014912657206878066,
                      0.000010493589797988534,
                      0.0002751927822828293
                    ],
                    [
                      -0.0001731780357658863,
                      -0.00011549924965947866,
                      0.00016730633797124028,
                      -0.000025522022042423487,
                      -0.0002047545276582241,
                      -0.0003598886542022228,
                      0.000016010249964892864,
                      -0.00025102030485868454,
                      0.000029798538889735937,
                      0.0004837119486182928,
                      -0.0002934839576482773,
                      0.00004416584852151573
                    ],
                    [
                      -0.000689181499183178,
                      -0.00013575772754848003,
                      0.00006563425995409489,
                      -0.000059112266171723604,
                      -0.00028002914041280746,
                      0.00022375863045454025,
                      0.00039534037932753563,
                      -0.00012131943367421627,
                      0.00008773081935942173,
                      -0.00001753866672515869,
                      0.000022063730284571648,
                      0.0002281605266034603
                    ],
                    [
                      -3.454042598605156e-7,
                      0.000019073690054938197,
                      0.00016933167353272438,
                      0.00432567298412323,
                      -0.00014088093303143978,
                      -0.0010356847196817398,
                      -0.0000627709086984396,
                      -0.00015118159353733063,
                      -0.0005147969350218773,
                      0.008594080805778503,
                      0.00004399725003167987,
                      -0.0003883782774209976
                    ],
                    [
                      0.0003511691465973854,
                      -0.00008902663830667734,
                      -0.001917283982038498,
                      0.004545971751213074,
                      0.0000511772814206779,
                      -0.00024145608767867088,
                      -0.007235974073410034,
                      -0.0000810067867860198,
                      -0.002016715705394745,
                      0.0006442535668611526,
                      0.01861479878425598,
                      -0.005276121199131012
                    ],
                    [
                      0.00474267452955246,
                      -0.0002355300821363926,
                      0.004270769655704498,
                      0.0007670270279049873,
                      0.0025139637291431427,
                      0.0018663518130779266,
                      -1.1927629709243774,
                      0.004987239837646484,
                      -0.015615075826644897,
                      -2.9855809211730957,
                      -0.00005427520954981446,
                      -0.0014339759945869446
                    ],
                    [
                      -0.9084846377372742,
                      0.28387609124183655,
                      0.5745747685432434,
                      0.04491392523050308,
                      -0.0012599175097420812,
                      -0.0007799733430147171,
                      0.3611740469932556,
                      2.311194658279419,
                      -0.0008649482624605298,
                      -0.008318331092596054,
                      0.8503265380859375,
                      0.01322265900671482
                    ],
                    [
                      -0.003864707425236702,
                      0.08492161333560944,
                      0.9365361928939819,
                      0.03440600261092186,
                      -0.005489797331392765,
                      -0.006524006836116314,
                      0.10294211655855179,
                      -0.001147828996181488,
                      -0.0009574778378009796,
                      0.1763174682855606,
                      -0.35478806495666504,
                      0.010436154901981354
                    ]
                  ]
                }
              ],
              "layout": {
                "annotations": [
                  {
                    "font": {},
                    "showarrow": false,
                    "text": "Ablated Logit Differences: 3.80",
                    "x": 0.15999999999999998,
                    "xanchor": "center",
                    "xref": "paper",
                    "y": 1,
                    "yanchor": "bottom",
                    "yref": "paper"
                  },
                  {
                    "font": {},
                    "showarrow": false,
                    "text": "Clean Logit Differences: 3.49",
                    "x": 0.49999999999999994,
                    "xanchor": "center",
                    "xref": "paper",
                    "y": 1,
                    "yanchor": "bottom",
                    "yref": "paper"
                  },
                  {
                    "font": {},
                    "showarrow": false,
                    "text": "Difference between Ablated and Clean Logit Differences: 0.31",
                    "x": 0.8399999999999999,
                    "xanchor": "center",
                    "xref": "paper",
                    "y": 1,
                    "yanchor": "bottom",
                    "yref": "paper"
                  }
                ],
                "coloraxis": {
                  "cmid": 0,
                  "colorbar": {
                    "title": {
                      "text": "Logit Contribution"
                    }
                  },
                  "colorscale": [
                    [
                      0,
                      "rgb(103,0,31)"
                    ],
                    [
                      0.1,
                      "rgb(178,24,43)"
                    ],
                    [
                      0.2,
                      "rgb(214,96,77)"
                    ],
                    [
                      0.3,
                      "rgb(244,165,130)"
                    ],
                    [
                      0.4,
                      "rgb(253,219,199)"
                    ],
                    [
                      0.5,
                      "rgb(247,247,247)"
                    ],
                    [
                      0.6,
                      "rgb(209,229,240)"
                    ],
                    [
                      0.7,
                      "rgb(146,197,222)"
                    ],
                    [
                      0.8,
                      "rgb(67,147,195)"
                    ],
                    [
                      0.9,
                      "rgb(33,102,172)"
                    ],
                    [
                      1,
                      "rgb(5,48,97)"
                    ]
                  ]
                },
                "margin": {
                  "l": 100,
                  "r": 100
                },
                "template": {
                  "data": {
                    "bar": [
                      {
                        "error_x": {
                          "color": "#2a3f5f"
                        },
                        "error_y": {
                          "color": "#2a3f5f"
                        },
                        "marker": {
                          "line": {
                            "color": "#E5ECF6",
                            "width": 0.5
                          },
                          "pattern": {
                            "fillmode": "overlay",
                            "size": 10,
                            "solidity": 0.2
                          }
                        },
                        "type": "bar"
                      }
                    ],
                    "barpolar": [
                      {
                        "marker": {
                          "line": {
                            "color": "#E5ECF6",
                            "width": 0.5
                          },
                          "pattern": {
                            "fillmode": "overlay",
                            "size": 10,
                            "solidity": 0.2
                          }
                        },
                        "type": "barpolar"
                      }
                    ],
                    "carpet": [
                      {
                        "aaxis": {
                          "endlinecolor": "#2a3f5f",
                          "gridcolor": "white",
                          "linecolor": "white",
                          "minorgridcolor": "white",
                          "startlinecolor": "#2a3f5f"
                        },
                        "baxis": {
                          "endlinecolor": "#2a3f5f",
                          "gridcolor": "white",
                          "linecolor": "white",
                          "minorgridcolor": "white",
                          "startlinecolor": "#2a3f5f"
                        },
                        "type": "carpet"
                      }
                    ],
                    "choropleth": [
                      {
                        "colorbar": {
                          "outlinewidth": 0,
                          "ticks": ""
                        },
                        "type": "choropleth"
                      }
                    ],
                    "contour": [
                      {
                        "colorbar": {
                          "outlinewidth": 0,
                          "ticks": ""
                        },
                        "colorscale": [
                          [
                            0,
                            "#0d0887"
                          ],
                          [
                            0.1111111111111111,
                            "#46039f"
                          ],
                          [
                            0.2222222222222222,
                            "#7201a8"
                          ],
                          [
                            0.3333333333333333,
                            "#9c179e"
                          ],
                          [
                            0.4444444444444444,
                            "#bd3786"
                          ],
                          [
                            0.5555555555555556,
                            "#d8576b"
                          ],
                          [
                            0.6666666666666666,
                            "#ed7953"
                          ],
                          [
                            0.7777777777777778,
                            "#fb9f3a"
                          ],
                          [
                            0.8888888888888888,
                            "#fdca26"
                          ],
                          [
                            1,
                            "#f0f921"
                          ]
                        ],
                        "type": "contour"
                      }
                    ],
                    "contourcarpet": [
                      {
                        "colorbar": {
                          "outlinewidth": 0,
                          "ticks": ""
                        },
                        "type": "contourcarpet"
                      }
                    ],
                    "heatmap": [
                      {
                        "colorbar": {
                          "outlinewidth": 0,
                          "ticks": ""
                        },
                        "colorscale": [
                          [
                            0,
                            "#0d0887"
                          ],
                          [
                            0.1111111111111111,
                            "#46039f"
                          ],
                          [
                            0.2222222222222222,
                            "#7201a8"
                          ],
                          [
                            0.3333333333333333,
                            "#9c179e"
                          ],
                          [
                            0.4444444444444444,
                            "#bd3786"
                          ],
                          [
                            0.5555555555555556,
                            "#d8576b"
                          ],
                          [
                            0.6666666666666666,
                            "#ed7953"
                          ],
                          [
                            0.7777777777777778,
                            "#fb9f3a"
                          ],
                          [
                            0.8888888888888888,
                            "#fdca26"
                          ],
                          [
                            1,
                            "#f0f921"
                          ]
                        ],
                        "type": "heatmap"
                      }
                    ],
                    "heatmapgl": [
                      {
                        "colorbar": {
                          "outlinewidth": 0,
                          "ticks": ""
                        },
                        "colorscale": [
                          [
                            0,
                            "#0d0887"
                          ],
                          [
                            0.1111111111111111,
                            "#46039f"
                          ],
                          [
                            0.2222222222222222,
                            "#7201a8"
                          ],
                          [
                            0.3333333333333333,
                            "#9c179e"
                          ],
                          [
                            0.4444444444444444,
                            "#bd3786"
                          ],
                          [
                            0.5555555555555556,
                            "#d8576b"
                          ],
                          [
                            0.6666666666666666,
                            "#ed7953"
                          ],
                          [
                            0.7777777777777778,
                            "#fb9f3a"
                          ],
                          [
                            0.8888888888888888,
                            "#fdca26"
                          ],
                          [
                            1,
                            "#f0f921"
                          ]
                        ],
                        "type": "heatmapgl"
                      }
                    ],
                    "histogram": [
                      {
                        "marker": {
                          "pattern": {
                            "fillmode": "overlay",
                            "size": 10,
                            "solidity": 0.2
                          }
                        },
                        "type": "histogram"
                      }
                    ],
                    "histogram2d": [
                      {
                        "colorbar": {
                          "outlinewidth": 0,
                          "ticks": ""
                        },
                        "colorscale": [
                          [
                            0,
                            "#0d0887"
                          ],
                          [
                            0.1111111111111111,
                            "#46039f"
                          ],
                          [
                            0.2222222222222222,
                            "#7201a8"
                          ],
                          [
                            0.3333333333333333,
                            "#9c179e"
                          ],
                          [
                            0.4444444444444444,
                            "#bd3786"
                          ],
                          [
                            0.5555555555555556,
                            "#d8576b"
                          ],
                          [
                            0.6666666666666666,
                            "#ed7953"
                          ],
                          [
                            0.7777777777777778,
                            "#fb9f3a"
                          ],
                          [
                            0.8888888888888888,
                            "#fdca26"
                          ],
                          [
                            1,
                            "#f0f921"
                          ]
                        ],
                        "type": "histogram2d"
                      }
                    ],
                    "histogram2dcontour": [
                      {
                        "colorbar": {
                          "outlinewidth": 0,
                          "ticks": ""
                        },
                        "colorscale": [
                          [
                            0,
                            "#0d0887"
                          ],
                          [
                            0.1111111111111111,
                            "#46039f"
                          ],
                          [
                            0.2222222222222222,
                            "#7201a8"
                          ],
                          [
                            0.3333333333333333,
                            "#9c179e"
                          ],
                          [
                            0.4444444444444444,
                            "#bd3786"
                          ],
                          [
                            0.5555555555555556,
                            "#d8576b"
                          ],
                          [
                            0.6666666666666666,
                            "#ed7953"
                          ],
                          [
                            0.7777777777777778,
                            "#fb9f3a"
                          ],
                          [
                            0.8888888888888888,
                            "#fdca26"
                          ],
                          [
                            1,
                            "#f0f921"
                          ]
                        ],
                        "type": "histogram2dcontour"
                      }
                    ],
                    "mesh3d": [
                      {
                        "colorbar": {
                          "outlinewidth": 0,
                          "ticks": ""
                        },
                        "type": "mesh3d"
                      }
                    ],
                    "parcoords": [
                      {
                        "line": {
                          "colorbar": {
                            "outlinewidth": 0,
                            "ticks": ""
                          }
                        },
                        "type": "parcoords"
                      }
                    ],
                    "pie": [
                      {
                        "automargin": true,
                        "type": "pie"
                      }
                    ],
                    "scatter": [
                      {
                        "fillpattern": {
                          "fillmode": "overlay",
                          "size": 10,
                          "solidity": 0.2
                        },
                        "type": "scatter"
                      }
                    ],
                    "scatter3d": [
                      {
                        "line": {
                          "colorbar": {
                            "outlinewidth": 0,
                            "ticks": ""
                          }
                        },
                        "marker": {
                          "colorbar": {
                            "outlinewidth": 0,
                            "ticks": ""
                          }
                        },
                        "type": "scatter3d"
                      }
                    ],
                    "scattercarpet": [
                      {
                        "marker": {
                          "colorbar": {
                            "outlinewidth": 0,
                            "ticks": ""
                          }
                        },
                        "type": "scattercarpet"
                      }
                    ],
                    "scattergeo": [
                      {
                        "marker": {
                          "colorbar": {
                            "outlinewidth": 0,
                            "ticks": ""
                          }
                        },
                        "type": "scattergeo"
                      }
                    ],
                    "scattergl": [
                      {
                        "marker": {
                          "colorbar": {
                            "outlinewidth": 0,
                            "ticks": ""
                          }
                        },
                        "type": "scattergl"
                      }
                    ],
                    "scattermapbox": [
                      {
                        "marker": {
                          "colorbar": {
                            "outlinewidth": 0,
                            "ticks": ""
                          }
                        },
                        "type": "scattermapbox"
                      }
                    ],
                    "scatterpolar": [
                      {
                        "marker": {
                          "colorbar": {
                            "outlinewidth": 0,
                            "ticks": ""
                          }
                        },
                        "type": "scatterpolar"
                      }
                    ],
                    "scatterpolargl": [
                      {
                        "marker": {
                          "colorbar": {
                            "outlinewidth": 0,
                            "ticks": ""
                          }
                        },
                        "type": "scatterpolargl"
                      }
                    ],
                    "scatterternary": [
                      {
                        "marker": {
                          "colorbar": {
                            "outlinewidth": 0,
                            "ticks": ""
                          }
                        },
                        "type": "scatterternary"
                      }
                    ],
                    "surface": [
                      {
                        "colorbar": {
                          "outlinewidth": 0,
                          "ticks": ""
                        },
                        "colorscale": [
                          [
                            0,
                            "#0d0887"
                          ],
                          [
                            0.1111111111111111,
                            "#46039f"
                          ],
                          [
                            0.2222222222222222,
                            "#7201a8"
                          ],
                          [
                            0.3333333333333333,
                            "#9c179e"
                          ],
                          [
                            0.4444444444444444,
                            "#bd3786"
                          ],
                          [
                            0.5555555555555556,
                            "#d8576b"
                          ],
                          [
                            0.6666666666666666,
                            "#ed7953"
                          ],
                          [
                            0.7777777777777778,
                            "#fb9f3a"
                          ],
                          [
                            0.8888888888888888,
                            "#fdca26"
                          ],
                          [
                            1,
                            "#f0f921"
                          ]
                        ],
                        "type": "surface"
                      }
                    ],
                    "table": [
                      {
                        "cells": {
                          "fill": {
                            "color": "#EBF0F8"
                          },
                          "line": {
                            "color": "white"
                          }
                        },
                        "header": {
                          "fill": {
                            "color": "#C8D4E3"
                          },
                          "line": {
                            "color": "white"
                          }
                        },
                        "type": "table"
                      }
                    ]
                  },
                  "layout": {
                    "annotationdefaults": {
                      "arrowcolor": "#2a3f5f",
                      "arrowhead": 0,
                      "arrowwidth": 1
                    },
                    "autotypenumbers": "strict",
                    "coloraxis": {
                      "colorbar": {
                        "outlinewidth": 0,
                        "ticks": ""
                      }
                    },
                    "colorscale": {
                      "diverging": [
                        [
                          0,
                          "#8e0152"
                        ],
                        [
                          0.1,
                          "#c51b7d"
                        ],
                        [
                          0.2,
                          "#de77ae"
                        ],
                        [
                          0.3,
                          "#f1b6da"
                        ],
                        [
                          0.4,
                          "#fde0ef"
                        ],
                        [
                          0.5,
                          "#f7f7f7"
                        ],
                        [
                          0.6,
                          "#e6f5d0"
                        ],
                        [
                          0.7,
                          "#b8e186"
                        ],
                        [
                          0.8,
                          "#7fbc41"
                        ],
                        [
                          0.9,
                          "#4d9221"
                        ],
                        [
                          1,
                          "#276419"
                        ]
                      ],
                      "sequential": [
                        [
                          0,
                          "#0d0887"
                        ],
                        [
                          0.1111111111111111,
                          "#46039f"
                        ],
                        [
                          0.2222222222222222,
                          "#7201a8"
                        ],
                        [
                          0.3333333333333333,
                          "#9c179e"
                        ],
                        [
                          0.4444444444444444,
                          "#bd3786"
                        ],
                        [
                          0.5555555555555556,
                          "#d8576b"
                        ],
                        [
                          0.6666666666666666,
                          "#ed7953"
                        ],
                        [
                          0.7777777777777778,
                          "#fb9f3a"
                        ],
                        [
                          0.8888888888888888,
                          "#fdca26"
                        ],
                        [
                          1,
                          "#f0f921"
                        ]
                      ],
                      "sequentialminus": [
                        [
                          0,
                          "#0d0887"
                        ],
                        [
                          0.1111111111111111,
                          "#46039f"
                        ],
                        [
                          0.2222222222222222,
                          "#7201a8"
                        ],
                        [
                          0.3333333333333333,
                          "#9c179e"
                        ],
                        [
                          0.4444444444444444,
                          "#bd3786"
                        ],
                        [
                          0.5555555555555556,
                          "#d8576b"
                        ],
                        [
                          0.6666666666666666,
                          "#ed7953"
                        ],
                        [
                          0.7777777777777778,
                          "#fb9f3a"
                        ],
                        [
                          0.8888888888888888,
                          "#fdca26"
                        ],
                        [
                          1,
                          "#f0f921"
                        ]
                      ]
                    },
                    "colorway": [
                      "#636efa",
                      "#EF553B",
                      "#00cc96",
                      "#ab63fa",
                      "#FFA15A",
                      "#19d3f3",
                      "#FF6692",
                      "#B6E880",
                      "#FF97FF",
                      "#FECB52"
                    ],
                    "font": {
                      "color": "#2a3f5f"
                    },
                    "geo": {
                      "bgcolor": "white",
                      "lakecolor": "white",
                      "landcolor": "#E5ECF6",
                      "showlakes": true,
                      "showland": true,
                      "subunitcolor": "white"
                    },
                    "hoverlabel": {
                      "align": "left"
                    },
                    "hovermode": "closest",
                    "mapbox": {
                      "style": "light"
                    },
                    "paper_bgcolor": "white",
                    "plot_bgcolor": "#E5ECF6",
                    "polar": {
                      "angularaxis": {
                        "gridcolor": "white",
                        "linecolor": "white",
                        "ticks": ""
                      },
                      "bgcolor": "#E5ECF6",
                      "radialaxis": {
                        "gridcolor": "white",
                        "linecolor": "white",
                        "ticks": ""
                      }
                    },
                    "scene": {
                      "xaxis": {
                        "backgroundcolor": "#E5ECF6",
                        "gridcolor": "white",
                        "gridwidth": 2,
                        "linecolor": "white",
                        "showbackground": true,
                        "ticks": "",
                        "zerolinecolor": "white"
                      },
                      "yaxis": {
                        "backgroundcolor": "#E5ECF6",
                        "gridcolor": "white",
                        "gridwidth": 2,
                        "linecolor": "white",
                        "showbackground": true,
                        "ticks": "",
                        "zerolinecolor": "white"
                      },
                      "zaxis": {
                        "backgroundcolor": "#E5ECF6",
                        "gridcolor": "white",
                        "gridwidth": 2,
                        "linecolor": "white",
                        "showbackground": true,
                        "ticks": "",
                        "zerolinecolor": "white"
                      }
                    },
                    "shapedefaults": {
                      "line": {
                        "color": "#2a3f5f"
                      }
                    },
                    "ternary": {
                      "aaxis": {
                        "gridcolor": "white",
                        "linecolor": "white",
                        "ticks": ""
                      },
                      "baxis": {
                        "gridcolor": "white",
                        "linecolor": "white",
                        "ticks": ""
                      },
                      "bgcolor": "#E5ECF6",
                      "caxis": {
                        "gridcolor": "white",
                        "linecolor": "white",
                        "ticks": ""
                      }
                    },
                    "title": {
                      "x": 0.05
                    },
                    "xaxis": {
                      "automargin": true,
                      "gridcolor": "white",
                      "linecolor": "white",
                      "ticks": "",
                      "title": {
                        "standoff": 15
                      },
                      "zerolinecolor": "white",
                      "zerolinewidth": 2
                    },
                    "yaxis": {
                      "automargin": true,
                      "gridcolor": "white",
                      "linecolor": "white",
                      "ticks": "",
                      "title": {
                        "standoff": 15
                      },
                      "zerolinecolor": "white",
                      "zerolinewidth": 2
                    }
                  }
                },
                "title": {
                  "text": "Logit Differences When Sample Ablating in Name Mover Heads"
                },
                "width": 1000,
                "xaxis": {
                  "anchor": "y",
                  "constrain": "domain",
                  "domain": [
                    0,
                    0.31999999999999995
                  ],
                  "linecolor": "black",
                  "linewidth": 1,
                  "mirror": true,
                  "scaleanchor": "y",
                  "showline": true,
                  "title": {
                    "text": "Head"
                  }
                },
                "xaxis2": {
                  "anchor": "y2",
                  "domain": [
                    0.33999999999999997,
                    0.6599999999999999
                  ],
                  "linecolor": "black",
                  "linewidth": 1,
                  "matches": "x",
                  "mirror": true,
                  "showline": true,
                  "title": {
                    "text": "Head"
                  }
                },
                "xaxis3": {
                  "anchor": "y3",
                  "domain": [
                    0.6799999999999999,
                    0.9999999999999999
                  ],
                  "linecolor": "black",
                  "linewidth": 1,
                  "matches": "x",
                  "mirror": true,
                  "showline": true,
                  "title": {
                    "text": "Head"
                  }
                },
                "yaxis": {
                  "anchor": "x",
                  "autorange": "reversed",
                  "constrain": "domain",
                  "domain": [
                    0,
                    1
                  ],
                  "linecolor": "black",
                  "linewidth": 1,
                  "mirror": true,
                  "showline": true,
                  "title": {
                    "text": "Layer"
                  }
                },
                "yaxis2": {
                  "anchor": "x2",
                  "domain": [
                    0,
                    1
                  ],
                  "linecolor": "black",
                  "linewidth": 1,
                  "matches": "y",
                  "mirror": true,
                  "showline": true,
                  "showticklabels": false
                },
                "yaxis3": {
                  "anchor": "x3",
                  "domain": [
                    0,
                    1
                  ],
                  "linecolor": "black",
                  "linewidth": 1,
                  "matches": "y",
                  "mirror": true,
                  "showline": true,
                  "showticklabels": false
                }
              }
            },
            "text/html": [
              "<div>                            <div id=\"6a44d502-9e8b-463d-8b20-72d891ba8cd9\" class=\"plotly-graph-div\" style=\"height:525px; width:1000px;\"></div>            <script type=\"text/javascript\">                require([\"plotly\"], function(Plotly) {                    window.PLOTLYENV=window.PLOTLYENV || {};                                    if (document.getElementById(\"6a44d502-9e8b-463d-8b20-72d891ba8cd9\")) {                    Plotly.newPlot(                        \"6a44d502-9e8b-463d-8b20-72d891ba8cd9\",                        [{\"coloraxis\":\"coloraxis\",\"name\":\"0\",\"z\":[[-0.003733372315764427,-0.010492371395230293,-0.001656942768022418,0.0012634826125577092,-0.002139775548130274,-0.0020583542063832283,-0.013306662440299988,-0.0007577784126624465,-0.0005542582366615534,0.00788718368858099,-0.0010330097284168005,-0.0020019300282001495],[-0.0031643614638596773,-0.00014268304221332073,-0.0074060531333088875,0.000993613968603313,0.0070381732657551765,0.0067170304246246815,-0.002954888856038451,-0.009053641930222511,0.004964279010891914,0.0020000955555588007,-0.00580759858712554,-0.002166577149182558],[-0.003970556426793337,-0.0017279613530263305,-0.0016295978566631675,0.008522525429725647,-0.0009612886351533234,-0.004570033401250839,0.00621750857681036,0.008934042416512966,0.003986917436122894,-0.00015203635848592967,0.0031786365434527397,-0.0011927627492696047],[-0.0025904513895511627,0.0018791439943015575,-0.0021368993911892176,0.001562126912176609,0.0034088592510670424,-0.0007347856881096959,-0.003028763458132744,0.0002930608461610973,-0.005089252721518278,-0.006282310467213392,-0.0004899967461824417,0.0093779182061553],[-0.002447070786729455,-0.0008957461686804891,-0.0003777688543777913,-0.002889986615628004,0.0015158394817262888,0.0028301673009991646,0.0016859519528225064,0.00791991502046585,-0.00044826656812801957,-0.0002752796281129122,-0.00039397875661961734,0.004228443372994661],[-0.004311249125748873,-0.0010909362463280559,0.0008898127125576138,0.00013262212451081723,-0.005159198772162199,-0.0027440625708550215,0.0014616429107263684,-0.006019964814186096,0.0008161593577824533,0.002794821746647358,-0.005975998472422361,0.0003356309898663312],[-0.0121439378708601,-0.0032681291922926903,0.0021371592301875353,-0.0006407820619642735,-0.008177346549928188,0.003655665088444948,0.007234688848257065,-0.0017538615502417088,0.0031882100738584995,0.0025144692044705153,0.0014675778802484274,0.0005978659028187394],[8.784592500887811e-05,0.00036402515252120793,0.0035827220417559147,0.08781298995018005,-0.0028945584781467915,-0.02255229838192463,-0.0024423073045909405,-0.002577015198767185,-0.012357871979475021,0.17444074153900146,0.0009154641884379089,-0.007674934342503548],[0.003878947114571929,-0.0016437125159427524,-0.037807662039995193,0.09851769357919693,-0.0008646013448014855,-0.003978307358920574,-0.1425975263118744,-0.0016220936086028814,-0.03875705972313881,0.008664662018418312,0.37659189105033875,-0.10987162590026855],[0.09779384732246399,-0.0029589205514639616,0.08088783919811249,0.013144884258508682,0.050055138766765594,0.04440829157829285,-0.0038585998117923737,0.09735946357250214,-0.33751970529556274,-0.043607212603092194,-0.0008460627286694944,-0.028954707086086273],[-0.006268717814236879,0.5787901878356934,0.4826195240020752,0.11979104578495026,-0.002283470006659627,0.0010518375784158707,0.6976742148399353,0.4144448935985565,-0.0002808300778269768,-0.0051108538173139095,1.3610721826553345,0.022088181227445602],[0.01699492707848549,0.12348748743534088,0.440973162651062,0.08320563286542892,-0.009379971772432327,0.000545990071259439,-0.05185674875974655,0.016331486403942108,0.026808694005012512,0.21413740515708923,-1.3247950077056885,0.08228456974029541]],\"type\":\"heatmap\",\"xaxis\":\"x\",\"yaxis\":\"y\",\"hovertemplate\":\"Head: %{x}\\u003cbr\\u003eLayer: %{y}\\u003cbr\\u003eLogit Contribution: %{z}\\u003cextra\\u003e\\u003c\\u002fextra\\u003e\"},{\"coloraxis\":\"coloraxis\",\"name\":\"1\",\"z\":[[-0.0034922612830996513,-0.00982425082474947,-0.0015795145882293582,0.0012077449355274439,-0.0019943846855312586,-0.001699170097708702,-0.012550841085612774,-0.0006941905012354255,-0.0006700810045003891,0.007695272099226713,-0.0011639632284641266,-0.002014674013480544],[-0.003131509991362691,-0.00016029168909881264,-0.007061866112053394,0.0011078453389927745,0.006510507315397263,0.006100717931985855,-0.00285167433321476,-0.008421100676059723,0.004811587743461132,0.001969455275684595,-0.005654809530824423,-0.0019707076717168093],[-0.003845459781587124,-0.0016832264373078942,-0.0016941176727414131,0.008192059583961964,-0.000890723371412605,-0.004178810399025679,0.005975923500955105,0.008421914651989937,0.0036759499926120043,-0.00015910834190435708,0.0027794211637228727,-0.0009706843411549926],[-0.0024035279639065266,0.0018424845766276121,-0.00198877090588212,0.0014865639386698604,0.0031644790433347225,-0.0007100669899955392,-0.0029017289634793997,0.0002061722188955173,-0.004814551677554846,-0.00608452083542943,-0.0005106081371195614,0.008967180736362934],[-0.0024777166545391083,-0.0007280320860445499,-0.00039641853072680533,-0.002656519180163741,0.001438735518604517,0.0026905967388302088,0.0017092730849981308,0.007495542522519827,-0.0004360145831014961,-0.00029019228531979024,-0.0004044723464176059,0.003953250590711832],[-0.0041380710899829865,-0.0009754369966685772,0.0007225063745863736,0.00015814414655324072,-0.004954444244503975,-0.0023841739166527987,0.0014456326607614756,-0.005768944509327412,0.0007863608188927174,0.002311109798029065,-0.005682514514774084,0.0002914651413448155],[-0.011454756371676922,-0.0031323714647442102,0.0020715249702334404,-0.0005816697957925498,-0.00789731740951538,0.003431906457990408,0.006839348468929529,-0.0016325421165674925,0.003100479254499078,0.002532007871195674,0.0014455141499638557,0.0003697053762152791],[8.819132926873863e-05,0.00034495146246626973,0.0034133903682231903,0.08348731696605682,-0.0027536775451153517,-0.02151661366224289,-0.002379536395892501,-0.0024258336052298546,-0.011843075044453144,0.16584666073322296,0.000871466938406229,-0.00728655606508255],[0.0035277779679745436,-0.001554685877636075,-0.035890378057956696,0.09397172182798386,-0.0009157786262221634,-0.0037368512712419033,-0.13536155223846436,-0.0015410868218168616,-0.036740344017744064,0.00802040845155716,0.35797709226608276,-0.10459550470113754],[0.09305117279291153,-0.002723390469327569,0.07661706954240799,0.012377857230603695,0.04754117503762245,0.04254193976521492,1.1889044046401978,0.09237222373485565,-0.32190462946891785,2.9419736862182617,-0.0007917875191196799,-0.02752073109149933],[0.9022158980369568,0.2949140965938568,-0.09195523709058762,0.07487712055444717,-0.0010235524969175458,0.0018318109214305878,0.3365001678466797,-1.89674973487854,0.000584118184633553,0.003207477508112788,0.510745644569397,0.008865522220730782],[0.02085963450372219,0.038565877825021744,-0.4955630600452423,0.048799630254507065,-0.003890174673870206,0.007069997023791075,-0.15479886531829834,0.017479315400123596,0.027766171842813492,0.037819940596818924,-0.9700069427490234,0.07184841483831406]],\"type\":\"heatmap\",\"xaxis\":\"x2\",\"yaxis\":\"y2\",\"hovertemplate\":\"Head: %{x}\\u003cbr\\u003eLayer: %{y}\\u003cbr\\u003eLogit Contribution: %{z}\\u003cextra\\u003e\\u003c\\u002fextra\\u003e\"},{\"coloraxis\":\"coloraxis\",\"name\":\"2\",\"z\":[[-0.00024111103266477585,-0.0006681205704808235,-7.742817979305983e-05,5.573767703026533e-05,-0.00014539086259901524,-0.0003591841086745262,-0.0007558213546872139,-6.358791142702103e-05,0.00011582276783883572,0.00019191158935427666,0.0001309535000473261,1.2743985280394554e-05],[-3.285147249698639e-05,1.7608646885491908e-05,-0.00034418702125549316,-0.00011423137038946152,0.000527665950357914,0.0006163124926388264,-0.00010321452282369137,-0.0006325412541627884,0.00015269126743078232,3.064027987420559e-05,-0.00015278905630111694,-0.0001958694774657488],[-0.000125096645206213,-4.473491571843624e-05,6.451981607824564e-05,0.0003304658457636833,-7.056526374071836e-05,-0.0003912230022251606,0.00024158507585525513,0.0005121277645230293,0.00031096744351089,7.071983418427408e-06,0.000399215379729867,-0.0002220784081146121],[-0.00018692342564463615,3.665941767394543e-05,-0.00014812848530709743,7.556297350674868e-05,0.00024438020773231983,-2.4718698114156723e-05,-0.00012703449465334415,8.688862726558e-05,-0.0002747010439634323,-0.00019778963178396225,2.0611390937119722e-05,0.00041073746979236603],[3.064586780965328e-05,-0.00016771408263593912,1.8649676349014044e-05,-0.00023346743546426296,7.710396312177181e-05,0.0001395705621689558,-2.332113217562437e-05,0.00042437249794602394,-1.2251985026523471e-05,1.4912657206878066e-05,1.0493589797988534e-05,0.0002751927822828293],[-0.0001731780357658863,-0.00011549924965947866,0.00016730633797124028,-2.5522022042423487e-05,-0.0002047545276582241,-0.0003598886542022228,1.6010249964892864e-05,-0.00025102030485868454,2.9798538889735937e-05,0.0004837119486182928,-0.0002934839576482773,4.416584852151573e-05],[-0.000689181499183178,-0.00013575772754848003,6.563425995409489e-05,-5.9112266171723604e-05,-0.00028002914041280746,0.00022375863045454025,0.00039534037932753563,-0.00012131943367421627,8.773081935942173e-05,-1.753866672515869e-05,2.2063730284571648e-05,0.0002281605266034603],[-3.454042598605156e-07,1.9073690054938197e-05,0.00016933167353272438,0.00432567298412323,-0.00014088093303143978,-0.0010356847196817398,-6.27709086984396e-05,-0.00015118159353733063,-0.0005147969350218773,0.008594080805778503,4.399725003167987e-05,-0.0003883782774209976],[0.0003511691465973854,-8.902663830667734e-05,-0.001917283982038498,0.004545971751213074,5.11772814206779e-05,-0.00024145608767867088,-0.007235974073410034,-8.10067867860198e-05,-0.002016715705394745,0.0006442535668611526,0.01861479878425598,-0.005276121199131012],[0.00474267452955246,-0.0002355300821363926,0.004270769655704498,0.0007670270279049873,0.0025139637291431427,0.0018663518130779266,-1.1927629709243774,0.004987239837646484,-0.015615075826644897,-2.9855809211730957,-5.427520954981446e-05,-0.0014339759945869446],[-0.9084846377372742,0.28387609124183655,0.5745747685432434,0.04491392523050308,-0.0012599175097420812,-0.0007799733430147171,0.3611740469932556,2.311194658279419,-0.0008649482624605298,-0.008318331092596054,0.8503265380859375,0.01322265900671482],[-0.003864707425236702,0.08492161333560944,0.9365361928939819,0.03440600261092186,-0.005489797331392765,-0.006524006836116314,0.10294211655855179,-0.001147828996181488,-0.0009574778378009796,0.1763174682855606,-0.35478806495666504,0.010436154901981354]],\"type\":\"heatmap\",\"xaxis\":\"x3\",\"yaxis\":\"y3\",\"hovertemplate\":\"Head: %{x}\\u003cbr\\u003eLayer: %{y}\\u003cbr\\u003eLogit Contribution: %{z}\\u003cextra\\u003e\\u003c\\u002fextra\\u003e\"}],                        {\"template\":{\"data\":{\"histogram2dcontour\":[{\"type\":\"histogram2dcontour\",\"colorbar\":{\"outlinewidth\":0,\"ticks\":\"\"},\"colorscale\":[[0.0,\"#0d0887\"],[0.1111111111111111,\"#46039f\"],[0.2222222222222222,\"#7201a8\"],[0.3333333333333333,\"#9c179e\"],[0.4444444444444444,\"#bd3786\"],[0.5555555555555556,\"#d8576b\"],[0.6666666666666666,\"#ed7953\"],[0.7777777777777778,\"#fb9f3a\"],[0.8888888888888888,\"#fdca26\"],[1.0,\"#f0f921\"]]}],\"choropleth\":[{\"type\":\"choropleth\",\"colorbar\":{\"outlinewidth\":0,\"ticks\":\"\"}}],\"histogram2d\":[{\"type\":\"histogram2d\",\"colorbar\":{\"outlinewidth\":0,\"ticks\":\"\"},\"colorscale\":[[0.0,\"#0d0887\"],[0.1111111111111111,\"#46039f\"],[0.2222222222222222,\"#7201a8\"],[0.3333333333333333,\"#9c179e\"],[0.4444444444444444,\"#bd3786\"],[0.5555555555555556,\"#d8576b\"],[0.6666666666666666,\"#ed7953\"],[0.7777777777777778,\"#fb9f3a\"],[0.8888888888888888,\"#fdca26\"],[1.0,\"#f0f921\"]]}],\"heatmap\":[{\"type\":\"heatmap\",\"colorbar\":{\"outlinewidth\":0,\"ticks\":\"\"},\"colorscale\":[[0.0,\"#0d0887\"],[0.1111111111111111,\"#46039f\"],[0.2222222222222222,\"#7201a8\"],[0.3333333333333333,\"#9c179e\"],[0.4444444444444444,\"#bd3786\"],[0.5555555555555556,\"#d8576b\"],[0.6666666666666666,\"#ed7953\"],[0.7777777777777778,\"#fb9f3a\"],[0.8888888888888888,\"#fdca26\"],[1.0,\"#f0f921\"]]}],\"heatmapgl\":[{\"type\":\"heatmapgl\",\"colorbar\":{\"outlinewidth\":0,\"ticks\":\"\"},\"colorscale\":[[0.0,\"#0d0887\"],[0.1111111111111111,\"#46039f\"],[0.2222222222222222,\"#7201a8\"],[0.3333333333333333,\"#9c179e\"],[0.4444444444444444,\"#bd3786\"],[0.5555555555555556,\"#d8576b\"],[0.6666666666666666,\"#ed7953\"],[0.7777777777777778,\"#fb9f3a\"],[0.8888888888888888,\"#fdca26\"],[1.0,\"#f0f921\"]]}],\"contourcarpet\":[{\"type\":\"contourcarpet\",\"colorbar\":{\"outlinewidth\":0,\"ticks\":\"\"}}],\"contour\":[{\"type\":\"contour\",\"colorbar\":{\"outlinewidth\":0,\"ticks\":\"\"},\"colorscale\":[[0.0,\"#0d0887\"],[0.1111111111111111,\"#46039f\"],[0.2222222222222222,\"#7201a8\"],[0.3333333333333333,\"#9c179e\"],[0.4444444444444444,\"#bd3786\"],[0.5555555555555556,\"#d8576b\"],[0.6666666666666666,\"#ed7953\"],[0.7777777777777778,\"#fb9f3a\"],[0.8888888888888888,\"#fdca26\"],[1.0,\"#f0f921\"]]}],\"surface\":[{\"type\":\"surface\",\"colorbar\":{\"outlinewidth\":0,\"ticks\":\"\"},\"colorscale\":[[0.0,\"#0d0887\"],[0.1111111111111111,\"#46039f\"],[0.2222222222222222,\"#7201a8\"],[0.3333333333333333,\"#9c179e\"],[0.4444444444444444,\"#bd3786\"],[0.5555555555555556,\"#d8576b\"],[0.6666666666666666,\"#ed7953\"],[0.7777777777777778,\"#fb9f3a\"],[0.8888888888888888,\"#fdca26\"],[1.0,\"#f0f921\"]]}],\"mesh3d\":[{\"type\":\"mesh3d\",\"colorbar\":{\"outlinewidth\":0,\"ticks\":\"\"}}],\"scatter\":[{\"fillpattern\":{\"fillmode\":\"overlay\",\"size\":10,\"solidity\":0.2},\"type\":\"scatter\"}],\"parcoords\":[{\"type\":\"parcoords\",\"line\":{\"colorbar\":{\"outlinewidth\":0,\"ticks\":\"\"}}}],\"scatterpolargl\":[{\"type\":\"scatterpolargl\",\"marker\":{\"colorbar\":{\"outlinewidth\":0,\"ticks\":\"\"}}}],\"bar\":[{\"error_x\":{\"color\":\"#2a3f5f\"},\"error_y\":{\"color\":\"#2a3f5f\"},\"marker\":{\"line\":{\"color\":\"#E5ECF6\",\"width\":0.5},\"pattern\":{\"fillmode\":\"overlay\",\"size\":10,\"solidity\":0.2}},\"type\":\"bar\"}],\"scattergeo\":[{\"type\":\"scattergeo\",\"marker\":{\"colorbar\":{\"outlinewidth\":0,\"ticks\":\"\"}}}],\"scatterpolar\":[{\"type\":\"scatterpolar\",\"marker\":{\"colorbar\":{\"outlinewidth\":0,\"ticks\":\"\"}}}],\"histogram\":[{\"marker\":{\"pattern\":{\"fillmode\":\"overlay\",\"size\":10,\"solidity\":0.2}},\"type\":\"histogram\"}],\"scattergl\":[{\"type\":\"scattergl\",\"marker\":{\"colorbar\":{\"outlinewidth\":0,\"ticks\":\"\"}}}],\"scatter3d\":[{\"type\":\"scatter3d\",\"line\":{\"colorbar\":{\"outlinewidth\":0,\"ticks\":\"\"}},\"marker\":{\"colorbar\":{\"outlinewidth\":0,\"ticks\":\"\"}}}],\"scattermapbox\":[{\"type\":\"scattermapbox\",\"marker\":{\"colorbar\":{\"outlinewidth\":0,\"ticks\":\"\"}}}],\"scatterternary\":[{\"type\":\"scatterternary\",\"marker\":{\"colorbar\":{\"outlinewidth\":0,\"ticks\":\"\"}}}],\"scattercarpet\":[{\"type\":\"scattercarpet\",\"marker\":{\"colorbar\":{\"outlinewidth\":0,\"ticks\":\"\"}}}],\"carpet\":[{\"aaxis\":{\"endlinecolor\":\"#2a3f5f\",\"gridcolor\":\"white\",\"linecolor\":\"white\",\"minorgridcolor\":\"white\",\"startlinecolor\":\"#2a3f5f\"},\"baxis\":{\"endlinecolor\":\"#2a3f5f\",\"gridcolor\":\"white\",\"linecolor\":\"white\",\"minorgridcolor\":\"white\",\"startlinecolor\":\"#2a3f5f\"},\"type\":\"carpet\"}],\"table\":[{\"cells\":{\"fill\":{\"color\":\"#EBF0F8\"},\"line\":{\"color\":\"white\"}},\"header\":{\"fill\":{\"color\":\"#C8D4E3\"},\"line\":{\"color\":\"white\"}},\"type\":\"table\"}],\"barpolar\":[{\"marker\":{\"line\":{\"color\":\"#E5ECF6\",\"width\":0.5},\"pattern\":{\"fillmode\":\"overlay\",\"size\":10,\"solidity\":0.2}},\"type\":\"barpolar\"}],\"pie\":[{\"automargin\":true,\"type\":\"pie\"}]},\"layout\":{\"autotypenumbers\":\"strict\",\"colorway\":[\"#636efa\",\"#EF553B\",\"#00cc96\",\"#ab63fa\",\"#FFA15A\",\"#19d3f3\",\"#FF6692\",\"#B6E880\",\"#FF97FF\",\"#FECB52\"],\"font\":{\"color\":\"#2a3f5f\"},\"hovermode\":\"closest\",\"hoverlabel\":{\"align\":\"left\"},\"paper_bgcolor\":\"white\",\"plot_bgcolor\":\"#E5ECF6\",\"polar\":{\"bgcolor\":\"#E5ECF6\",\"angularaxis\":{\"gridcolor\":\"white\",\"linecolor\":\"white\",\"ticks\":\"\"},\"radialaxis\":{\"gridcolor\":\"white\",\"linecolor\":\"white\",\"ticks\":\"\"}},\"ternary\":{\"bgcolor\":\"#E5ECF6\",\"aaxis\":{\"gridcolor\":\"white\",\"linecolor\":\"white\",\"ticks\":\"\"},\"baxis\":{\"gridcolor\":\"white\",\"linecolor\":\"white\",\"ticks\":\"\"},\"caxis\":{\"gridcolor\":\"white\",\"linecolor\":\"white\",\"ticks\":\"\"}},\"coloraxis\":{\"colorbar\":{\"outlinewidth\":0,\"ticks\":\"\"}},\"colorscale\":{\"sequential\":[[0.0,\"#0d0887\"],[0.1111111111111111,\"#46039f\"],[0.2222222222222222,\"#7201a8\"],[0.3333333333333333,\"#9c179e\"],[0.4444444444444444,\"#bd3786\"],[0.5555555555555556,\"#d8576b\"],[0.6666666666666666,\"#ed7953\"],[0.7777777777777778,\"#fb9f3a\"],[0.8888888888888888,\"#fdca26\"],[1.0,\"#f0f921\"]],\"sequentialminus\":[[0.0,\"#0d0887\"],[0.1111111111111111,\"#46039f\"],[0.2222222222222222,\"#7201a8\"],[0.3333333333333333,\"#9c179e\"],[0.4444444444444444,\"#bd3786\"],[0.5555555555555556,\"#d8576b\"],[0.6666666666666666,\"#ed7953\"],[0.7777777777777778,\"#fb9f3a\"],[0.8888888888888888,\"#fdca26\"],[1.0,\"#f0f921\"]],\"diverging\":[[0,\"#8e0152\"],[0.1,\"#c51b7d\"],[0.2,\"#de77ae\"],[0.3,\"#f1b6da\"],[0.4,\"#fde0ef\"],[0.5,\"#f7f7f7\"],[0.6,\"#e6f5d0\"],[0.7,\"#b8e186\"],[0.8,\"#7fbc41\"],[0.9,\"#4d9221\"],[1,\"#276419\"]]},\"xaxis\":{\"gridcolor\":\"white\",\"linecolor\":\"white\",\"ticks\":\"\",\"title\":{\"standoff\":15},\"zerolinecolor\":\"white\",\"automargin\":true,\"zerolinewidth\":2},\"yaxis\":{\"gridcolor\":\"white\",\"linecolor\":\"white\",\"ticks\":\"\",\"title\":{\"standoff\":15},\"zerolinecolor\":\"white\",\"automargin\":true,\"zerolinewidth\":2},\"scene\":{\"xaxis\":{\"backgroundcolor\":\"#E5ECF6\",\"gridcolor\":\"white\",\"linecolor\":\"white\",\"showbackground\":true,\"ticks\":\"\",\"zerolinecolor\":\"white\",\"gridwidth\":2},\"yaxis\":{\"backgroundcolor\":\"#E5ECF6\",\"gridcolor\":\"white\",\"linecolor\":\"white\",\"showbackground\":true,\"ticks\":\"\",\"zerolinecolor\":\"white\",\"gridwidth\":2},\"zaxis\":{\"backgroundcolor\":\"#E5ECF6\",\"gridcolor\":\"white\",\"linecolor\":\"white\",\"showbackground\":true,\"ticks\":\"\",\"zerolinecolor\":\"white\",\"gridwidth\":2}},\"shapedefaults\":{\"line\":{\"color\":\"#2a3f5f\"}},\"annotationdefaults\":{\"arrowcolor\":\"#2a3f5f\",\"arrowhead\":0,\"arrowwidth\":1},\"geo\":{\"bgcolor\":\"white\",\"landcolor\":\"#E5ECF6\",\"subunitcolor\":\"white\",\"showland\":true,\"showlakes\":true,\"lakecolor\":\"white\"},\"title\":{\"x\":0.05},\"mapbox\":{\"style\":\"light\"}}},\"xaxis\":{\"anchor\":\"y\",\"domain\":[0.0,0.31999999999999995],\"scaleanchor\":\"y\",\"constrain\":\"domain\",\"title\":{\"text\":\"Head\"},\"showline\":true,\"linewidth\":1,\"linecolor\":\"black\",\"mirror\":true},\"yaxis\":{\"anchor\":\"x\",\"domain\":[0.0,1.0],\"autorange\":\"reversed\",\"constrain\":\"domain\",\"title\":{\"text\":\"Layer\"},\"showline\":true,\"linewidth\":1,\"linecolor\":\"black\",\"mirror\":true},\"xaxis2\":{\"anchor\":\"y2\",\"domain\":[0.33999999999999997,0.6599999999999999],\"matches\":\"x\",\"title\":{\"text\":\"Head\"},\"showline\":true,\"linewidth\":1,\"linecolor\":\"black\",\"mirror\":true},\"yaxis2\":{\"anchor\":\"x2\",\"domain\":[0.0,1.0],\"matches\":\"y\",\"showticklabels\":false,\"showline\":true,\"linewidth\":1,\"linecolor\":\"black\",\"mirror\":true},\"xaxis3\":{\"anchor\":\"y3\",\"domain\":[0.6799999999999999,0.9999999999999999],\"matches\":\"x\",\"title\":{\"text\":\"Head\"},\"showline\":true,\"linewidth\":1,\"linecolor\":\"black\",\"mirror\":true},\"yaxis3\":{\"anchor\":\"x3\",\"domain\":[0.0,1.0],\"matches\":\"y\",\"showticklabels\":false,\"showline\":true,\"linewidth\":1,\"linecolor\":\"black\",\"mirror\":true},\"annotations\":[{\"font\":{},\"showarrow\":false,\"text\":\"Ablated Logit Differences: 3.80\",\"x\":0.15999999999999998,\"xanchor\":\"center\",\"xref\":\"paper\",\"y\":1.0,\"yanchor\":\"bottom\",\"yref\":\"paper\"},{\"font\":{},\"showarrow\":false,\"text\":\"Clean Logit Differences: 3.49\",\"x\":0.49999999999999994,\"xanchor\":\"center\",\"xref\":\"paper\",\"y\":1.0,\"yanchor\":\"bottom\",\"yref\":\"paper\"},{\"font\":{},\"showarrow\":false,\"text\":\"Difference between Ablated and Clean Logit Differences: 0.31\",\"x\":0.8399999999999999,\"xanchor\":\"center\",\"xref\":\"paper\",\"y\":1.0,\"yanchor\":\"bottom\",\"yref\":\"paper\"}],\"coloraxis\":{\"colorbar\":{\"title\":{\"text\":\"Logit Contribution\"}},\"colorscale\":[[0.0,\"rgb(103,0,31)\"],[0.1,\"rgb(178,24,43)\"],[0.2,\"rgb(214,96,77)\"],[0.3,\"rgb(244,165,130)\"],[0.4,\"rgb(253,219,199)\"],[0.5,\"rgb(247,247,247)\"],[0.6,\"rgb(209,229,240)\"],[0.7,\"rgb(146,197,222)\"],[0.8,\"rgb(67,147,195)\"],[0.9,\"rgb(33,102,172)\"],[1.0,\"rgb(5,48,97)\"]],\"cmid\":0.0},\"title\":{\"text\":\"Logit Differences When Sample Ablating in Name Mover Heads\"},\"width\":1000,\"margin\":{\"r\":100,\"l\":100}},                        {\"responsive\": true}                    ).then(function(){\n",
              "                            \n",
              "var gd = document.getElementById('6a44d502-9e8b-463d-8b20-72d891ba8cd9');\n",
              "var x = new MutationObserver(function (mutations, observer) {{\n",
              "        var display = window.getComputedStyle(gd).display;\n",
              "        if (!display || display === 'none') {{\n",
              "            console.log([gd, 'removed!']);\n",
              "            Plotly.purge(gd);\n",
              "            observer.disconnect();\n",
              "        }}\n",
              "}});\n",
              "\n",
              "// Listen for the removal of the full notebook cells\n",
              "var notebookContainer = gd.closest('#notebook-container');\n",
              "if (notebookContainer) {{\n",
              "    x.observe(notebookContainer, {childList: true});\n",
              "}}\n",
              "\n",
              "// Listen for the clearing of the current output cell\n",
              "var outputEl = gd.closest('.output');\n",
              "if (outputEl) {{\n",
              "    x.observe(outputEl, {childList: true});\n",
              "}}\n",
              "\n",
              "                        })                };                });            </script>        </div>"
            ]
          },
          "metadata": {},
          "output_type": "display_data"
        }
      ],
      "source": [
        "heads =  [(9,9), (9,6), (10,0)]\n",
        "model.reset_hooks() # callum library buggy\n",
        "def return_item(item):\n",
        "  return item\n",
        "\n",
        "model.reset_hooks()\n",
        "patched_logits = act_patch(\n",
        "    model = model,\n",
        "    orig_input = clean_tokens,\n",
        "    new_cache = corrupted_cache,\n",
        "    patching_nodes = [Node(\"z\", layer = layer, head = head) for layer, head in heads],\n",
        "    patching_metric = return_item,\n",
        "    verbose = False,\n",
        "    apply_metric_to_cache = False\n",
        ")\n",
        "\n",
        "model.reset_hooks()\n",
        "noise_sample_ablating_results = act_patch(\n",
        "    model = model,\n",
        "    orig_input = clean_tokens,\n",
        "    new_cache = corrupted_cache,\n",
        "    patching_nodes = [Node(\"z\", layer = layer, head = head) for layer, head in heads],\n",
        "    patching_metric = partial(display_corrupted_clean_logits, title = f\"Logit Differences When Sample Ablating in Name Mover Heads\", comparison = True, logits = patched_logits),\n",
        "    verbose = False,\n",
        "    apply_metric_to_cache = True\n",
        ")"
      ]
    },
    {
      "cell_type": "code",
      "execution_count": 370,
      "metadata": {
        "colab": {
          "base_uri": "https://localhost:8080/",
          "height": 560
        },
        "id": "CIPoWHIF4vuy",
        "outputId": "49b4a06a-7993-434e-bea2-84b387ec6088"
      },
      "outputs": [
        {
          "data": {
            "application/vnd.plotly.v1+json": {
              "config": {
                "plotlyServerURL": "https://plot.ly"
              },
              "data": [
                {
                  "coloraxis": "coloraxis",
                  "hovertemplate": "Head: %{x}<br>Layer: %{y}<br>Logit Contribution: %{z}<extra></extra>",
                  "name": "0",
                  "type": "heatmap",
                  "xaxis": "x",
                  "yaxis": "y",
                  "z": [
                    [
                      -0.003644149750471115,
                      -0.010324826464056969,
                      -0.001698179286904633,
                      0.0012348273303359747,
                      -0.002086181193590164,
                      -0.001974689308553934,
                      -0.01318824477493763,
                      -0.0006875735707581043,
                      -0.0009898155694827437,
                      0.008267960511147976,
                      -0.001170422649011016,
                      -0.001740586245432496
                    ],
                    [
                      -0.0032954893540591,
                      -0.00011191368685103953,
                      -0.0074175335466861725,
                      0.00115194299723953,
                      0.006954869721084833,
                      0.006514665670692921,
                      -0.0029799335170537233,
                      -0.008836785331368446,
                      0.005045941565185785,
                      0.002163561526685953,
                      -0.005996806547045708,
                      -0.0021718302741646767
                    ],
                    [
                      -0.004051663912832737,
                      -0.0017046515131369233,
                      -0.0017346489476040006,
                      0.008639623410999775,
                      -0.0009211691212840378,
                      -0.004453195258975029,
                      0.006328425835818052,
                      0.009043540805578232,
                      0.0038627847097814083,
                      -0.00033567528589628637,
                      0.0030323495157063007,
                      -0.001092302962206304
                    ],
                    [
                      -0.00252238055691123,
                      0.0018915547989308834,
                      -0.0022014030255377293,
                      0.0016352951060980558,
                      0.0033294609747827053,
                      -0.0007259410922415555,
                      -0.003125131828710437,
                      0.00030088971834629774,
                      -0.005153649486601353,
                      -0.006313234101980925,
                      -0.0005329808336682618,
                      0.009495706297457218
                    ],
                    [
                      -0.002494972897693515,
                      -0.0009267763234674931,
                      -0.0003659740323200822,
                      -0.0026088424492627382,
                      0.0014879092341288924,
                      0.002868043025955558,
                      0.0016099525382742286,
                      0.008244109340012074,
                      -0.00041546320426277816,
                      -0.0002601053274702281,
                      -0.0004090990114491433,
                      0.004356695339083672
                    ],
                    [
                      -0.004518794361501932,
                      -0.0012396674137562513,
                      0.0007960873772390187,
                      0.00020374610903672874,
                      -0.005259922705590725,
                      -0.002798439934849739,
                      0.0015095744747668505,
                      -0.0061198207549750805,
                      0.0007259328267537057,
                      0.003127922536805272,
                      -0.0057494742795825005,
                      0.00015590290422551334
                    ],
                    [
                      -0.012292678467929363,
                      -0.0033332137390971184,
                      0.0019653248600661755,
                      -0.0006260942318476737,
                      -0.008023364469408989,
                      0.0037427109200507402,
                      0.007090744562447071,
                      -0.0018265164690092206,
                      0.0032330097164958715,
                      0.0024640122428536415,
                      0.0015241130022332072,
                      0.00048238004092127085
                    ],
                    [
                      -0.00006340315303532407,
                      0.00033233099384233356,
                      0.0036035741213709116,
                      0.08848478645086288,
                      -0.0029660884756594896,
                      -0.0225443784147501,
                      -0.0024417208041995764,
                      -0.002553857397288084,
                      -0.012631804682314396,
                      0.17614969611167908,
                      0.0008320039487443864,
                      -0.007869673892855644
                    ],
                    [
                      0.004008329939097166,
                      -0.00174521014560014,
                      -0.038102708756923676,
                      0.09907015413045883,
                      -0.0008941193809732795,
                      -0.004160723183304071,
                      -0.14444512128829956,
                      -0.0017037810757756233,
                      -0.039289988577365875,
                      0.008777146227657795,
                      0.3804565370082855,
                      -0.11119677126407623
                    ],
                    [
                      -0.001816056203097105,
                      -0.004145859275013208,
                      -0.0028053412679582834,
                      -0.003417454194277525,
                      0.0002008051669690758,
                      0.005323861725628376,
                      -0.004269918892532587,
                      0.0032615798991173506,
                      0.013521135784685612,
                      -0.04487517476081848,
                      -0.0007696119137108326,
                      -0.0014130803756415844
                    ],
                    [
                      -0.00651919562369585,
                      -0.01473886240273714,
                      -0.01657291315495968,
                      0.009908474050462246,
                      0.0006675418117083609,
                      -0.0001043762022163719,
                      0.005508600268512964,
                      0.0016906822565943003,
                      -0.00005131880607223138,
                      0.000816509360447526,
                      -0.00009978354501072317,
                      -0.00019848158990498632
                    ],
                    [
                      0.014475563541054726,
                      0.1964891403913498,
                      0.955062985420227,
                      0.003233029041439295,
                      -0.012718353420495987,
                      -0.009196877479553223,
                      0.3849743902683258,
                      0.014253811910748482,
                      0.01004843134433031,
                      0.2517727017402649,
                      0.2767000198364258,
                      0.03200584650039673
                    ]
                  ]
                },
                {
                  "coloraxis": "coloraxis",
                  "hovertemplate": "Head: %{x}<br>Layer: %{y}<br>Logit Contribution: %{z}<extra></extra>",
                  "name": "1",
                  "type": "heatmap",
                  "xaxis": "x2",
                  "yaxis": "y2",
                  "z": [
                    [
                      -0.0034922612830996513,
                      -0.00982425082474947,
                      -0.0015795145882293582,
                      0.0012077449355274439,
                      -0.0019943846855312586,
                      -0.001699170097708702,
                      -0.012550841085612774,
                      -0.0006941905012354255,
                      -0.0006700810045003891,
                      0.007695272099226713,
                      -0.0011639632284641266,
                      -0.002014674013480544
                    ],
                    [
                      -0.003131509991362691,
                      -0.00016029168909881264,
                      -0.007061866112053394,
                      0.0011078453389927745,
                      0.006510507315397263,
                      0.006100717931985855,
                      -0.00285167433321476,
                      -0.008421100676059723,
                      0.004811587743461132,
                      0.001969455275684595,
                      -0.005654809530824423,
                      -0.0019707076717168093
                    ],
                    [
                      -0.003845459781587124,
                      -0.0016832264373078942,
                      -0.0016941176727414131,
                      0.008192059583961964,
                      -0.000890723371412605,
                      -0.004178810399025679,
                      0.005975923500955105,
                      0.008421914651989937,
                      0.0036759499926120043,
                      -0.00015910834190435708,
                      0.0027794211637228727,
                      -0.0009706843411549926
                    ],
                    [
                      -0.0024035279639065266,
                      0.0018424845766276121,
                      -0.00198877090588212,
                      0.0014865639386698604,
                      0.0031644790433347225,
                      -0.0007100669899955392,
                      -0.0029017289634793997,
                      0.0002061722188955173,
                      -0.004814551677554846,
                      -0.00608452083542943,
                      -0.0005106081371195614,
                      0.008967180736362934
                    ],
                    [
                      -0.0024777166545391083,
                      -0.0007280320860445499,
                      -0.00039641853072680533,
                      -0.002656519180163741,
                      0.001438735518604517,
                      0.0026905967388302088,
                      0.0017092730849981308,
                      0.007495542522519827,
                      -0.0004360145831014961,
                      -0.00029019228531979024,
                      -0.0004044723464176059,
                      0.003953250590711832
                    ],
                    [
                      -0.0041380710899829865,
                      -0.0009754369966685772,
                      0.0007225063745863736,
                      0.00015814414655324072,
                      -0.004954444244503975,
                      -0.0023841739166527987,
                      0.0014456326607614756,
                      -0.005768944509327412,
                      0.0007863608188927174,
                      0.002311109798029065,
                      -0.005682514514774084,
                      0.0002914651413448155
                    ],
                    [
                      -0.011454756371676922,
                      -0.0031323714647442102,
                      0.0020715249702334404,
                      -0.0005816697957925498,
                      -0.00789731740951538,
                      0.003431906457990408,
                      0.006839348468929529,
                      -0.0016325421165674925,
                      0.003100479254499078,
                      0.002532007871195674,
                      0.0014455141499638557,
                      0.0003697053762152791
                    ],
                    [
                      0.00008819132926873863,
                      0.00034495146246626973,
                      0.0034133903682231903,
                      0.08348731696605682,
                      -0.0027536775451153517,
                      -0.02151661366224289,
                      -0.002379536395892501,
                      -0.0024258336052298546,
                      -0.011843075044453144,
                      0.16584666073322296,
                      0.000871466938406229,
                      -0.00728655606508255
                    ],
                    [
                      0.0035277779679745436,
                      -0.001554685877636075,
                      -0.035890378057956696,
                      0.09397172182798386,
                      -0.0009157786262221634,
                      -0.0037368512712419033,
                      -0.13536155223846436,
                      -0.0015410868218168616,
                      -0.036740344017744064,
                      0.00802040845155716,
                      0.35797709226608276,
                      -0.10459550470113754
                    ],
                    [
                      0.09305117279291153,
                      -0.002723390469327569,
                      0.07661706954240799,
                      0.012377857230603695,
                      0.04754117503762245,
                      0.04254193976521492,
                      1.1889044046401978,
                      0.09237222373485565,
                      -0.32190462946891785,
                      2.9419736862182617,
                      -0.0007917875191196799,
                      -0.02752073109149933
                    ],
                    [
                      0.9022158980369568,
                      0.2949140965938568,
                      -0.09195523709058762,
                      0.07487712055444717,
                      -0.0010235524969175458,
                      0.0018318109214305878,
                      0.3365001678466797,
                      -1.89674973487854,
                      0.000584118184633553,
                      0.003207477508112788,
                      0.510745644569397,
                      0.008865522220730782
                    ],
                    [
                      0.02085963450372219,
                      0.038565877825021744,
                      -0.4955630600452423,
                      0.048799630254507065,
                      -0.003890174673870206,
                      0.007069997023791075,
                      -0.15479886531829834,
                      0.017479315400123596,
                      0.027766171842813492,
                      0.037819940596818924,
                      -0.9700069427490234,
                      0.07184841483831406
                    ]
                  ]
                },
                {
                  "coloraxis": "coloraxis",
                  "hovertemplate": "Head: %{x}<br>Layer: %{y}<br>Logit Contribution: %{z}<extra></extra>",
                  "name": "2",
                  "type": "heatmap",
                  "xaxis": "x3",
                  "yaxis": "y3",
                  "z": [
                    [
                      -0.00015188846737146378,
                      -0.0005005756393074989,
                      -0.00011866469867527485,
                      0.000027082394808530807,
                      -0.0000917965080589056,
                      -0.000275519210845232,
                      -0.0006374036893248558,
                      0.000006616930477321148,
                      -0.00031973456498235464,
                      0.0005726884119212627,
                      -0.000006459420546889305,
                      0.000274087768048048
                    ],
                    [
                      -0.00016397936269640923,
                      0.00004837800224777311,
                      -0.00035566743463277817,
                      0.0000440976582467556,
                      0.00044436240568757057,
                      0.0004139477387070656,
                      -0.0001282591838389635,
                      -0.00041568465530872345,
                      0.00023435382172465324,
                      0.00019410625100135803,
                      -0.00034199701622128487,
                      -0.0002011226024478674
                    ],
                    [
                      -0.0002062041312456131,
                      -0.000021425075829029083,
                      -0.00004053127486258745,
                      0.0004475638270378113,
                      -0.00003044574987143278,
                      -0.00027438485994935036,
                      0.00035250233486294746,
                      0.000621626153588295,
                      0.00018683471716940403,
                      -0.0001765669439919293,
                      0.000252928351983428,
                      -0.00012161862105131149
                    ],
                    [
                      -0.00011885259300470352,
                      0.000049070222303271294,
                      -0.00021263211965560913,
                      0.00014873116742819548,
                      0.0001649819314479828,
                      -0.000015874102246016264,
                      -0.00022340286523103714,
                      0.00009471749945078045,
                      -0.0003390978090465069,
                      -0.0002287132665514946,
                      -0.000022372696548700333,
                      0.0005285255610942841
                    ],
                    [
                      -0.000017256243154406548,
                      -0.00019874423742294312,
                      0.00003044449840672314,
                      0.000047676730901002884,
                      0.00004917371552437544,
                      0.00017744628712534904,
                      -0.00009932054672390223,
                      0.0007485668174922466,
                      0.000020551378838717937,
                      0.000030086957849562168,
                      -0.000004626665031537414,
                      0.0004034447483718395
                    ],
                    [
                      -0.0003807232715189457,
                      -0.00026423041708767414,
                      0.00007358100265264511,
                      0.00004560196248348802,
                      -0.00030547846108675003,
                      -0.0004142660181969404,
                      0.00006394181400537491,
                      -0.00035087624564766884,
                      -0.00006042799213901162,
                      0.000816812738776207,
                      -0.00006695976480841637,
                      -0.00013556223711930215
                    ],
                    [
                      -0.0008379220962524414,
                      -0.00020084227435290813,
                      -0.00010620011016726494,
                      -0.000044424436055123806,
                      -0.0001260470598936081,
                      0.0003108044620603323,
                      0.0002513960935175419,
                      -0.00019397435244172812,
                      0.00013253046199679375,
                      -0.00006799562834203243,
                      0.00007859885226935148,
                      0.00011267466470599174
                    ],
                    [
                      -0.0001515944895800203,
                      -0.000012620468623936176,
                      0.0001901837531477213,
                      0.004997469484806061,
                      -0.00021241093054413795,
                      -0.0010277647525072098,
                      -0.0000621844083070755,
                      -0.00012802379205822945,
                      -0.0007887296378612518,
                      0.010303035378456116,
                      -0.000039462989661842585,
                      -0.0005831178277730942
                    ],
                    [
                      0.0004805519711226225,
                      -0.00019052426796406507,
                      -0.00221233069896698,
                      0.005098432302474976,
                      0.000021659245248883963,
                      -0.0004238719120621681,
                      -0.009083569049835205,
                      -0.0001626942539587617,
                      -0.002549644559621811,
                      0.0007567377761006355,
                      0.02247944474220276,
                      -0.00660126656293869
                    ],
                    [
                      -0.09486722946166992,
                      -0.0014224688056856394,
                      -0.07942241430282593,
                      -0.015795310959219933,
                      -0.04734037071466446,
                      -0.03721807897090912,
                      -1.1931743621826172,
                      -0.08911064267158508,
                      0.3354257643222809,
                      -2.986848831176758,
                      0.000022175605408847332,
                      0.026107650250196457
                    ],
                    [
                      -0.9087350964546204,
                      -0.3096529543399811,
                      0.07538232207298279,
                      -0.06496864557266235,
                      0.0016910943668335676,
                      -0.0019361871527507901,
                      -0.33099156618118286,
                      1.8984403610229492,
                      -0.0006354369688779116,
                      -0.0023909681476652622,
                      -0.510845422744751,
                      -0.009064003825187683
                    ],
                    [
                      -0.006384070962667465,
                      0.15792326629161835,
                      1.450626015663147,
                      -0.04556659981608391,
                      -0.008828178979456425,
                      -0.016266874969005585,
                      0.5397732257843018,
                      -0.0032255034893751144,
                      -0.017717741429805756,
                      0.21395276486873627,
                      1.2467069625854492,
                      -0.03984256833791733
                    ]
                  ]
                }
              ],
              "layout": {
                "annotations": [
                  {
                    "font": {},
                    "showarrow": false,
                    "text": "Ablated Logit Differences: 2.40",
                    "x": 0.15999999999999998,
                    "xanchor": "center",
                    "xref": "paper",
                    "y": 1,
                    "yanchor": "bottom",
                    "yref": "paper"
                  },
                  {
                    "font": {},
                    "showarrow": false,
                    "text": "Clean Logit Differences: 3.49",
                    "x": 0.49999999999999994,
                    "xanchor": "center",
                    "xref": "paper",
                    "y": 1,
                    "yanchor": "bottom",
                    "yref": "paper"
                  },
                  {
                    "font": {},
                    "showarrow": false,
                    "text": "Ablated - Clean Logit Differences: -1.08",
                    "x": 0.8399999999999999,
                    "xanchor": "center",
                    "xref": "paper",
                    "y": 1,
                    "yanchor": "bottom",
                    "yref": "paper"
                  }
                ],
                "coloraxis": {
                  "cmid": 0,
                  "colorbar": {
                    "title": {
                      "text": "Logit Contribution"
                    }
                  },
                  "colorscale": [
                    [
                      0,
                      "rgb(103,0,31)"
                    ],
                    [
                      0.1,
                      "rgb(178,24,43)"
                    ],
                    [
                      0.2,
                      "rgb(214,96,77)"
                    ],
                    [
                      0.3,
                      "rgb(244,165,130)"
                    ],
                    [
                      0.4,
                      "rgb(253,219,199)"
                    ],
                    [
                      0.5,
                      "rgb(247,247,247)"
                    ],
                    [
                      0.6,
                      "rgb(209,229,240)"
                    ],
                    [
                      0.7,
                      "rgb(146,197,222)"
                    ],
                    [
                      0.8,
                      "rgb(67,147,195)"
                    ],
                    [
                      0.9,
                      "rgb(33,102,172)"
                    ],
                    [
                      1,
                      "rgb(5,48,97)"
                    ]
                  ]
                },
                "margin": {
                  "l": 100,
                  "r": 100
                },
                "template": {
                  "data": {
                    "bar": [
                      {
                        "error_x": {
                          "color": "#2a3f5f"
                        },
                        "error_y": {
                          "color": "#2a3f5f"
                        },
                        "marker": {
                          "line": {
                            "color": "#E5ECF6",
                            "width": 0.5
                          },
                          "pattern": {
                            "fillmode": "overlay",
                            "size": 10,
                            "solidity": 0.2
                          }
                        },
                        "type": "bar"
                      }
                    ],
                    "barpolar": [
                      {
                        "marker": {
                          "line": {
                            "color": "#E5ECF6",
                            "width": 0.5
                          },
                          "pattern": {
                            "fillmode": "overlay",
                            "size": 10,
                            "solidity": 0.2
                          }
                        },
                        "type": "barpolar"
                      }
                    ],
                    "carpet": [
                      {
                        "aaxis": {
                          "endlinecolor": "#2a3f5f",
                          "gridcolor": "white",
                          "linecolor": "white",
                          "minorgridcolor": "white",
                          "startlinecolor": "#2a3f5f"
                        },
                        "baxis": {
                          "endlinecolor": "#2a3f5f",
                          "gridcolor": "white",
                          "linecolor": "white",
                          "minorgridcolor": "white",
                          "startlinecolor": "#2a3f5f"
                        },
                        "type": "carpet"
                      }
                    ],
                    "choropleth": [
                      {
                        "colorbar": {
                          "outlinewidth": 0,
                          "ticks": ""
                        },
                        "type": "choropleth"
                      }
                    ],
                    "contour": [
                      {
                        "colorbar": {
                          "outlinewidth": 0,
                          "ticks": ""
                        },
                        "colorscale": [
                          [
                            0,
                            "#0d0887"
                          ],
                          [
                            0.1111111111111111,
                            "#46039f"
                          ],
                          [
                            0.2222222222222222,
                            "#7201a8"
                          ],
                          [
                            0.3333333333333333,
                            "#9c179e"
                          ],
                          [
                            0.4444444444444444,
                            "#bd3786"
                          ],
                          [
                            0.5555555555555556,
                            "#d8576b"
                          ],
                          [
                            0.6666666666666666,
                            "#ed7953"
                          ],
                          [
                            0.7777777777777778,
                            "#fb9f3a"
                          ],
                          [
                            0.8888888888888888,
                            "#fdca26"
                          ],
                          [
                            1,
                            "#f0f921"
                          ]
                        ],
                        "type": "contour"
                      }
                    ],
                    "contourcarpet": [
                      {
                        "colorbar": {
                          "outlinewidth": 0,
                          "ticks": ""
                        },
                        "type": "contourcarpet"
                      }
                    ],
                    "heatmap": [
                      {
                        "colorbar": {
                          "outlinewidth": 0,
                          "ticks": ""
                        },
                        "colorscale": [
                          [
                            0,
                            "#0d0887"
                          ],
                          [
                            0.1111111111111111,
                            "#46039f"
                          ],
                          [
                            0.2222222222222222,
                            "#7201a8"
                          ],
                          [
                            0.3333333333333333,
                            "#9c179e"
                          ],
                          [
                            0.4444444444444444,
                            "#bd3786"
                          ],
                          [
                            0.5555555555555556,
                            "#d8576b"
                          ],
                          [
                            0.6666666666666666,
                            "#ed7953"
                          ],
                          [
                            0.7777777777777778,
                            "#fb9f3a"
                          ],
                          [
                            0.8888888888888888,
                            "#fdca26"
                          ],
                          [
                            1,
                            "#f0f921"
                          ]
                        ],
                        "type": "heatmap"
                      }
                    ],
                    "heatmapgl": [
                      {
                        "colorbar": {
                          "outlinewidth": 0,
                          "ticks": ""
                        },
                        "colorscale": [
                          [
                            0,
                            "#0d0887"
                          ],
                          [
                            0.1111111111111111,
                            "#46039f"
                          ],
                          [
                            0.2222222222222222,
                            "#7201a8"
                          ],
                          [
                            0.3333333333333333,
                            "#9c179e"
                          ],
                          [
                            0.4444444444444444,
                            "#bd3786"
                          ],
                          [
                            0.5555555555555556,
                            "#d8576b"
                          ],
                          [
                            0.6666666666666666,
                            "#ed7953"
                          ],
                          [
                            0.7777777777777778,
                            "#fb9f3a"
                          ],
                          [
                            0.8888888888888888,
                            "#fdca26"
                          ],
                          [
                            1,
                            "#f0f921"
                          ]
                        ],
                        "type": "heatmapgl"
                      }
                    ],
                    "histogram": [
                      {
                        "marker": {
                          "pattern": {
                            "fillmode": "overlay",
                            "size": 10,
                            "solidity": 0.2
                          }
                        },
                        "type": "histogram"
                      }
                    ],
                    "histogram2d": [
                      {
                        "colorbar": {
                          "outlinewidth": 0,
                          "ticks": ""
                        },
                        "colorscale": [
                          [
                            0,
                            "#0d0887"
                          ],
                          [
                            0.1111111111111111,
                            "#46039f"
                          ],
                          [
                            0.2222222222222222,
                            "#7201a8"
                          ],
                          [
                            0.3333333333333333,
                            "#9c179e"
                          ],
                          [
                            0.4444444444444444,
                            "#bd3786"
                          ],
                          [
                            0.5555555555555556,
                            "#d8576b"
                          ],
                          [
                            0.6666666666666666,
                            "#ed7953"
                          ],
                          [
                            0.7777777777777778,
                            "#fb9f3a"
                          ],
                          [
                            0.8888888888888888,
                            "#fdca26"
                          ],
                          [
                            1,
                            "#f0f921"
                          ]
                        ],
                        "type": "histogram2d"
                      }
                    ],
                    "histogram2dcontour": [
                      {
                        "colorbar": {
                          "outlinewidth": 0,
                          "ticks": ""
                        },
                        "colorscale": [
                          [
                            0,
                            "#0d0887"
                          ],
                          [
                            0.1111111111111111,
                            "#46039f"
                          ],
                          [
                            0.2222222222222222,
                            "#7201a8"
                          ],
                          [
                            0.3333333333333333,
                            "#9c179e"
                          ],
                          [
                            0.4444444444444444,
                            "#bd3786"
                          ],
                          [
                            0.5555555555555556,
                            "#d8576b"
                          ],
                          [
                            0.6666666666666666,
                            "#ed7953"
                          ],
                          [
                            0.7777777777777778,
                            "#fb9f3a"
                          ],
                          [
                            0.8888888888888888,
                            "#fdca26"
                          ],
                          [
                            1,
                            "#f0f921"
                          ]
                        ],
                        "type": "histogram2dcontour"
                      }
                    ],
                    "mesh3d": [
                      {
                        "colorbar": {
                          "outlinewidth": 0,
                          "ticks": ""
                        },
                        "type": "mesh3d"
                      }
                    ],
                    "parcoords": [
                      {
                        "line": {
                          "colorbar": {
                            "outlinewidth": 0,
                            "ticks": ""
                          }
                        },
                        "type": "parcoords"
                      }
                    ],
                    "pie": [
                      {
                        "automargin": true,
                        "type": "pie"
                      }
                    ],
                    "scatter": [
                      {
                        "fillpattern": {
                          "fillmode": "overlay",
                          "size": 10,
                          "solidity": 0.2
                        },
                        "type": "scatter"
                      }
                    ],
                    "scatter3d": [
                      {
                        "line": {
                          "colorbar": {
                            "outlinewidth": 0,
                            "ticks": ""
                          }
                        },
                        "marker": {
                          "colorbar": {
                            "outlinewidth": 0,
                            "ticks": ""
                          }
                        },
                        "type": "scatter3d"
                      }
                    ],
                    "scattercarpet": [
                      {
                        "marker": {
                          "colorbar": {
                            "outlinewidth": 0,
                            "ticks": ""
                          }
                        },
                        "type": "scattercarpet"
                      }
                    ],
                    "scattergeo": [
                      {
                        "marker": {
                          "colorbar": {
                            "outlinewidth": 0,
                            "ticks": ""
                          }
                        },
                        "type": "scattergeo"
                      }
                    ],
                    "scattergl": [
                      {
                        "marker": {
                          "colorbar": {
                            "outlinewidth": 0,
                            "ticks": ""
                          }
                        },
                        "type": "scattergl"
                      }
                    ],
                    "scattermapbox": [
                      {
                        "marker": {
                          "colorbar": {
                            "outlinewidth": 0,
                            "ticks": ""
                          }
                        },
                        "type": "scattermapbox"
                      }
                    ],
                    "scatterpolar": [
                      {
                        "marker": {
                          "colorbar": {
                            "outlinewidth": 0,
                            "ticks": ""
                          }
                        },
                        "type": "scatterpolar"
                      }
                    ],
                    "scatterpolargl": [
                      {
                        "marker": {
                          "colorbar": {
                            "outlinewidth": 0,
                            "ticks": ""
                          }
                        },
                        "type": "scatterpolargl"
                      }
                    ],
                    "scatterternary": [
                      {
                        "marker": {
                          "colorbar": {
                            "outlinewidth": 0,
                            "ticks": ""
                          }
                        },
                        "type": "scatterternary"
                      }
                    ],
                    "surface": [
                      {
                        "colorbar": {
                          "outlinewidth": 0,
                          "ticks": ""
                        },
                        "colorscale": [
                          [
                            0,
                            "#0d0887"
                          ],
                          [
                            0.1111111111111111,
                            "#46039f"
                          ],
                          [
                            0.2222222222222222,
                            "#7201a8"
                          ],
                          [
                            0.3333333333333333,
                            "#9c179e"
                          ],
                          [
                            0.4444444444444444,
                            "#bd3786"
                          ],
                          [
                            0.5555555555555556,
                            "#d8576b"
                          ],
                          [
                            0.6666666666666666,
                            "#ed7953"
                          ],
                          [
                            0.7777777777777778,
                            "#fb9f3a"
                          ],
                          [
                            0.8888888888888888,
                            "#fdca26"
                          ],
                          [
                            1,
                            "#f0f921"
                          ]
                        ],
                        "type": "surface"
                      }
                    ],
                    "table": [
                      {
                        "cells": {
                          "fill": {
                            "color": "#EBF0F8"
                          },
                          "line": {
                            "color": "white"
                          }
                        },
                        "header": {
                          "fill": {
                            "color": "#C8D4E3"
                          },
                          "line": {
                            "color": "white"
                          }
                        },
                        "type": "table"
                      }
                    ]
                  },
                  "layout": {
                    "annotationdefaults": {
                      "arrowcolor": "#2a3f5f",
                      "arrowhead": 0,
                      "arrowwidth": 1
                    },
                    "autotypenumbers": "strict",
                    "coloraxis": {
                      "colorbar": {
                        "outlinewidth": 0,
                        "ticks": ""
                      }
                    },
                    "colorscale": {
                      "diverging": [
                        [
                          0,
                          "#8e0152"
                        ],
                        [
                          0.1,
                          "#c51b7d"
                        ],
                        [
                          0.2,
                          "#de77ae"
                        ],
                        [
                          0.3,
                          "#f1b6da"
                        ],
                        [
                          0.4,
                          "#fde0ef"
                        ],
                        [
                          0.5,
                          "#f7f7f7"
                        ],
                        [
                          0.6,
                          "#e6f5d0"
                        ],
                        [
                          0.7,
                          "#b8e186"
                        ],
                        [
                          0.8,
                          "#7fbc41"
                        ],
                        [
                          0.9,
                          "#4d9221"
                        ],
                        [
                          1,
                          "#276419"
                        ]
                      ],
                      "sequential": [
                        [
                          0,
                          "#0d0887"
                        ],
                        [
                          0.1111111111111111,
                          "#46039f"
                        ],
                        [
                          0.2222222222222222,
                          "#7201a8"
                        ],
                        [
                          0.3333333333333333,
                          "#9c179e"
                        ],
                        [
                          0.4444444444444444,
                          "#bd3786"
                        ],
                        [
                          0.5555555555555556,
                          "#d8576b"
                        ],
                        [
                          0.6666666666666666,
                          "#ed7953"
                        ],
                        [
                          0.7777777777777778,
                          "#fb9f3a"
                        ],
                        [
                          0.8888888888888888,
                          "#fdca26"
                        ],
                        [
                          1,
                          "#f0f921"
                        ]
                      ],
                      "sequentialminus": [
                        [
                          0,
                          "#0d0887"
                        ],
                        [
                          0.1111111111111111,
                          "#46039f"
                        ],
                        [
                          0.2222222222222222,
                          "#7201a8"
                        ],
                        [
                          0.3333333333333333,
                          "#9c179e"
                        ],
                        [
                          0.4444444444444444,
                          "#bd3786"
                        ],
                        [
                          0.5555555555555556,
                          "#d8576b"
                        ],
                        [
                          0.6666666666666666,
                          "#ed7953"
                        ],
                        [
                          0.7777777777777778,
                          "#fb9f3a"
                        ],
                        [
                          0.8888888888888888,
                          "#fdca26"
                        ],
                        [
                          1,
                          "#f0f921"
                        ]
                      ]
                    },
                    "colorway": [
                      "#636efa",
                      "#EF553B",
                      "#00cc96",
                      "#ab63fa",
                      "#FFA15A",
                      "#19d3f3",
                      "#FF6692",
                      "#B6E880",
                      "#FF97FF",
                      "#FECB52"
                    ],
                    "font": {
                      "color": "#2a3f5f"
                    },
                    "geo": {
                      "bgcolor": "white",
                      "lakecolor": "white",
                      "landcolor": "#E5ECF6",
                      "showlakes": true,
                      "showland": true,
                      "subunitcolor": "white"
                    },
                    "hoverlabel": {
                      "align": "left"
                    },
                    "hovermode": "closest",
                    "mapbox": {
                      "style": "light"
                    },
                    "paper_bgcolor": "white",
                    "plot_bgcolor": "#E5ECF6",
                    "polar": {
                      "angularaxis": {
                        "gridcolor": "white",
                        "linecolor": "white",
                        "ticks": ""
                      },
                      "bgcolor": "#E5ECF6",
                      "radialaxis": {
                        "gridcolor": "white",
                        "linecolor": "white",
                        "ticks": ""
                      }
                    },
                    "scene": {
                      "xaxis": {
                        "backgroundcolor": "#E5ECF6",
                        "gridcolor": "white",
                        "gridwidth": 2,
                        "linecolor": "white",
                        "showbackground": true,
                        "ticks": "",
                        "zerolinecolor": "white"
                      },
                      "yaxis": {
                        "backgroundcolor": "#E5ECF6",
                        "gridcolor": "white",
                        "gridwidth": 2,
                        "linecolor": "white",
                        "showbackground": true,
                        "ticks": "",
                        "zerolinecolor": "white"
                      },
                      "zaxis": {
                        "backgroundcolor": "#E5ECF6",
                        "gridcolor": "white",
                        "gridwidth": 2,
                        "linecolor": "white",
                        "showbackground": true,
                        "ticks": "",
                        "zerolinecolor": "white"
                      }
                    },
                    "shapedefaults": {
                      "line": {
                        "color": "#2a3f5f"
                      }
                    },
                    "ternary": {
                      "aaxis": {
                        "gridcolor": "white",
                        "linecolor": "white",
                        "ticks": ""
                      },
                      "baxis": {
                        "gridcolor": "white",
                        "linecolor": "white",
                        "ticks": ""
                      },
                      "bgcolor": "#E5ECF6",
                      "caxis": {
                        "gridcolor": "white",
                        "linecolor": "white",
                        "ticks": ""
                      }
                    },
                    "title": {
                      "x": 0.05
                    },
                    "xaxis": {
                      "automargin": true,
                      "gridcolor": "white",
                      "linecolor": "white",
                      "ticks": "",
                      "title": {
                        "standoff": 15
                      },
                      "zerolinecolor": "white",
                      "zerolinewidth": 2
                    },
                    "yaxis": {
                      "automargin": true,
                      "gridcolor": "white",
                      "linecolor": "white",
                      "ticks": "",
                      "title": {
                        "standoff": 15
                      },
                      "zerolinecolor": "white",
                      "zerolinewidth": 2
                    }
                  }
                },
                "title": {
                  "text": "Logits When Sample Ablating in Layer 9"
                },
                "width": 1000,
                "xaxis": {
                  "anchor": "y",
                  "constrain": "domain",
                  "domain": [
                    0,
                    0.31999999999999995
                  ],
                  "linecolor": "black",
                  "linewidth": 1,
                  "mirror": true,
                  "scaleanchor": "y",
                  "showline": true,
                  "title": {
                    "text": "Head"
                  }
                },
                "xaxis2": {
                  "anchor": "y2",
                  "domain": [
                    0.33999999999999997,
                    0.6599999999999999
                  ],
                  "linecolor": "black",
                  "linewidth": 1,
                  "matches": "x",
                  "mirror": true,
                  "showline": true,
                  "title": {
                    "text": "Head"
                  }
                },
                "xaxis3": {
                  "anchor": "y3",
                  "domain": [
                    0.6799999999999999,
                    0.9999999999999999
                  ],
                  "linecolor": "black",
                  "linewidth": 1,
                  "matches": "x",
                  "mirror": true,
                  "showline": true,
                  "title": {
                    "text": "Head"
                  }
                },
                "yaxis": {
                  "anchor": "x",
                  "autorange": "reversed",
                  "constrain": "domain",
                  "domain": [
                    0,
                    1
                  ],
                  "linecolor": "black",
                  "linewidth": 1,
                  "mirror": true,
                  "showline": true,
                  "title": {
                    "text": "Layer"
                  }
                },
                "yaxis2": {
                  "anchor": "x2",
                  "domain": [
                    0,
                    1
                  ],
                  "linecolor": "black",
                  "linewidth": 1,
                  "matches": "y",
                  "mirror": true,
                  "showline": true,
                  "showticklabels": false
                },
                "yaxis3": {
                  "anchor": "x3",
                  "domain": [
                    0,
                    1
                  ],
                  "linecolor": "black",
                  "linewidth": 1,
                  "matches": "y",
                  "mirror": true,
                  "showline": true,
                  "showticklabels": false
                }
              }
            },
            "text/html": [
              "<div>                            <div id=\"67e70b83-76ec-487e-a8b7-75ed7222c085\" class=\"plotly-graph-div\" style=\"height:525px; width:1000px;\"></div>            <script type=\"text/javascript\">                require([\"plotly\"], function(Plotly) {                    window.PLOTLYENV=window.PLOTLYENV || {};                                    if (document.getElementById(\"67e70b83-76ec-487e-a8b7-75ed7222c085\")) {                    Plotly.newPlot(                        \"67e70b83-76ec-487e-a8b7-75ed7222c085\",                        [{\"coloraxis\":\"coloraxis\",\"name\":\"0\",\"z\":[[-0.003644149750471115,-0.010324826464056969,-0.001698179286904633,0.0012348273303359747,-0.002086181193590164,-0.001974689308553934,-0.01318824477493763,-0.0006875735707581043,-0.0009898155694827437,0.008267960511147976,-0.001170422649011016,-0.001740586245432496],[-0.0032954893540591,-0.00011191368685103953,-0.0074175335466861725,0.00115194299723953,0.006954869721084833,0.006514665670692921,-0.0029799335170537233,-0.008836785331368446,0.005045941565185785,0.002163561526685953,-0.005996806547045708,-0.0021718302741646767],[-0.004051663912832737,-0.0017046515131369233,-0.0017346489476040006,0.008639623410999775,-0.0009211691212840378,-0.004453195258975029,0.006328425835818052,0.009043540805578232,0.0038627847097814083,-0.00033567528589628637,0.0030323495157063007,-0.001092302962206304],[-0.00252238055691123,0.0018915547989308834,-0.0022014030255377293,0.0016352951060980558,0.0033294609747827053,-0.0007259410922415555,-0.003125131828710437,0.00030088971834629774,-0.005153649486601353,-0.006313234101980925,-0.0005329808336682618,0.009495706297457218],[-0.002494972897693515,-0.0009267763234674931,-0.0003659740323200822,-0.0026088424492627382,0.0014879092341288924,0.002868043025955558,0.0016099525382742286,0.008244109340012074,-0.00041546320426277816,-0.0002601053274702281,-0.0004090990114491433,0.004356695339083672],[-0.004518794361501932,-0.0012396674137562513,0.0007960873772390187,0.00020374610903672874,-0.005259922705590725,-0.002798439934849739,0.0015095744747668505,-0.0061198207549750805,0.0007259328267537057,0.003127922536805272,-0.0057494742795825005,0.00015590290422551334],[-0.012292678467929363,-0.0033332137390971184,0.0019653248600661755,-0.0006260942318476737,-0.008023364469408989,0.0037427109200507402,0.007090744562447071,-0.0018265164690092206,0.0032330097164958715,0.0024640122428536415,0.0015241130022332072,0.00048238004092127085],[-6.340315303532407e-05,0.00033233099384233356,0.0036035741213709116,0.08848478645086288,-0.0029660884756594896,-0.0225443784147501,-0.0024417208041995764,-0.002553857397288084,-0.012631804682314396,0.17614969611167908,0.0008320039487443864,-0.007869673892855644],[0.004008329939097166,-0.00174521014560014,-0.038102708756923676,0.09907015413045883,-0.0008941193809732795,-0.004160723183304071,-0.14444512128829956,-0.0017037810757756233,-0.039289988577365875,0.008777146227657795,0.3804565370082855,-0.11119677126407623],[-0.001816056203097105,-0.004145859275013208,-0.0028053412679582834,-0.003417454194277525,0.0002008051669690758,0.005323861725628376,-0.004269918892532587,0.0032615798991173506,0.013521135784685612,-0.04487517476081848,-0.0007696119137108326,-0.0014130803756415844],[-0.00651919562369585,-0.01473886240273714,-0.01657291315495968,0.009908474050462246,0.0006675418117083609,-0.0001043762022163719,0.005508600268512964,0.0016906822565943003,-5.131880607223138e-05,0.000816509360447526,-9.978354501072317e-05,-0.00019848158990498632],[0.014475563541054726,0.1964891403913498,0.955062985420227,0.003233029041439295,-0.012718353420495987,-0.009196877479553223,0.3849743902683258,0.014253811910748482,0.01004843134433031,0.2517727017402649,0.2767000198364258,0.03200584650039673]],\"type\":\"heatmap\",\"xaxis\":\"x\",\"yaxis\":\"y\",\"hovertemplate\":\"Head: %{x}\\u003cbr\\u003eLayer: %{y}\\u003cbr\\u003eLogit Contribution: %{z}\\u003cextra\\u003e\\u003c\\u002fextra\\u003e\"},{\"coloraxis\":\"coloraxis\",\"name\":\"1\",\"z\":[[-0.0034922612830996513,-0.00982425082474947,-0.0015795145882293582,0.0012077449355274439,-0.0019943846855312586,-0.001699170097708702,-0.012550841085612774,-0.0006941905012354255,-0.0006700810045003891,0.007695272099226713,-0.0011639632284641266,-0.002014674013480544],[-0.003131509991362691,-0.00016029168909881264,-0.007061866112053394,0.0011078453389927745,0.006510507315397263,0.006100717931985855,-0.00285167433321476,-0.008421100676059723,0.004811587743461132,0.001969455275684595,-0.005654809530824423,-0.0019707076717168093],[-0.003845459781587124,-0.0016832264373078942,-0.0016941176727414131,0.008192059583961964,-0.000890723371412605,-0.004178810399025679,0.005975923500955105,0.008421914651989937,0.0036759499926120043,-0.00015910834190435708,0.0027794211637228727,-0.0009706843411549926],[-0.0024035279639065266,0.0018424845766276121,-0.00198877090588212,0.0014865639386698604,0.0031644790433347225,-0.0007100669899955392,-0.0029017289634793997,0.0002061722188955173,-0.004814551677554846,-0.00608452083542943,-0.0005106081371195614,0.008967180736362934],[-0.0024777166545391083,-0.0007280320860445499,-0.00039641853072680533,-0.002656519180163741,0.001438735518604517,0.0026905967388302088,0.0017092730849981308,0.007495542522519827,-0.0004360145831014961,-0.00029019228531979024,-0.0004044723464176059,0.003953250590711832],[-0.0041380710899829865,-0.0009754369966685772,0.0007225063745863736,0.00015814414655324072,-0.004954444244503975,-0.0023841739166527987,0.0014456326607614756,-0.005768944509327412,0.0007863608188927174,0.002311109798029065,-0.005682514514774084,0.0002914651413448155],[-0.011454756371676922,-0.0031323714647442102,0.0020715249702334404,-0.0005816697957925498,-0.00789731740951538,0.003431906457990408,0.006839348468929529,-0.0016325421165674925,0.003100479254499078,0.002532007871195674,0.0014455141499638557,0.0003697053762152791],[8.819132926873863e-05,0.00034495146246626973,0.0034133903682231903,0.08348731696605682,-0.0027536775451153517,-0.02151661366224289,-0.002379536395892501,-0.0024258336052298546,-0.011843075044453144,0.16584666073322296,0.000871466938406229,-0.00728655606508255],[0.0035277779679745436,-0.001554685877636075,-0.035890378057956696,0.09397172182798386,-0.0009157786262221634,-0.0037368512712419033,-0.13536155223846436,-0.0015410868218168616,-0.036740344017744064,0.00802040845155716,0.35797709226608276,-0.10459550470113754],[0.09305117279291153,-0.002723390469327569,0.07661706954240799,0.012377857230603695,0.04754117503762245,0.04254193976521492,1.1889044046401978,0.09237222373485565,-0.32190462946891785,2.9419736862182617,-0.0007917875191196799,-0.02752073109149933],[0.9022158980369568,0.2949140965938568,-0.09195523709058762,0.07487712055444717,-0.0010235524969175458,0.0018318109214305878,0.3365001678466797,-1.89674973487854,0.000584118184633553,0.003207477508112788,0.510745644569397,0.008865522220730782],[0.02085963450372219,0.038565877825021744,-0.4955630600452423,0.048799630254507065,-0.003890174673870206,0.007069997023791075,-0.15479886531829834,0.017479315400123596,0.027766171842813492,0.037819940596818924,-0.9700069427490234,0.07184841483831406]],\"type\":\"heatmap\",\"xaxis\":\"x2\",\"yaxis\":\"y2\",\"hovertemplate\":\"Head: %{x}\\u003cbr\\u003eLayer: %{y}\\u003cbr\\u003eLogit Contribution: %{z}\\u003cextra\\u003e\\u003c\\u002fextra\\u003e\"},{\"coloraxis\":\"coloraxis\",\"name\":\"2\",\"z\":[[-0.00015188846737146378,-0.0005005756393074989,-0.00011866469867527485,2.7082394808530807e-05,-9.17965080589056e-05,-0.000275519210845232,-0.0006374036893248558,6.616930477321148e-06,-0.00031973456498235464,0.0005726884119212627,-6.459420546889305e-06,0.000274087768048048],[-0.00016397936269640923,4.837800224777311e-05,-0.00035566743463277817,4.40976582467556e-05,0.00044436240568757057,0.0004139477387070656,-0.0001282591838389635,-0.00041568465530872345,0.00023435382172465324,0.00019410625100135803,-0.00034199701622128487,-0.0002011226024478674],[-0.0002062041312456131,-2.1425075829029083e-05,-4.053127486258745e-05,0.0004475638270378113,-3.044574987143278e-05,-0.00027438485994935036,0.00035250233486294746,0.000621626153588295,0.00018683471716940403,-0.0001765669439919293,0.000252928351983428,-0.00012161862105131149],[-0.00011885259300470352,4.9070222303271294e-05,-0.00021263211965560913,0.00014873116742819548,0.0001649819314479828,-1.5874102246016264e-05,-0.00022340286523103714,9.471749945078045e-05,-0.0003390978090465069,-0.0002287132665514946,-2.2372696548700333e-05,0.0005285255610942841],[-1.7256243154406548e-05,-0.00019874423742294312,3.044449840672314e-05,4.7676730901002884e-05,4.917371552437544e-05,0.00017744628712534904,-9.932054672390223e-05,0.0007485668174922466,2.0551378838717937e-05,3.0086957849562168e-05,-4.626665031537414e-06,0.0004034447483718395],[-0.0003807232715189457,-0.00026423041708767414,7.358100265264511e-05,4.560196248348802e-05,-0.00030547846108675003,-0.0004142660181969404,6.394181400537491e-05,-0.00035087624564766884,-6.042799213901162e-05,0.000816812738776207,-6.695976480841637e-05,-0.00013556223711930215],[-0.0008379220962524414,-0.00020084227435290813,-0.00010620011016726494,-4.4424436055123806e-05,-0.0001260470598936081,0.0003108044620603323,0.0002513960935175419,-0.00019397435244172812,0.00013253046199679375,-6.799562834203243e-05,7.859885226935148e-05,0.00011267466470599174],[-0.0001515944895800203,-1.2620468623936176e-05,0.0001901837531477213,0.004997469484806061,-0.00021241093054413795,-0.0010277647525072098,-6.21844083070755e-05,-0.00012802379205822945,-0.0007887296378612518,0.010303035378456116,-3.9462989661842585e-05,-0.0005831178277730942],[0.0004805519711226225,-0.00019052426796406507,-0.00221233069896698,0.005098432302474976,2.1659245248883963e-05,-0.0004238719120621681,-0.009083569049835205,-0.0001626942539587617,-0.002549644559621811,0.0007567377761006355,0.02247944474220276,-0.00660126656293869],[-0.09486722946166992,-0.0014224688056856394,-0.07942241430282593,-0.015795310959219933,-0.04734037071466446,-0.03721807897090912,-1.1931743621826172,-0.08911064267158508,0.3354257643222809,-2.986848831176758,2.2175605408847332e-05,0.026107650250196457],[-0.9087350964546204,-0.3096529543399811,0.07538232207298279,-0.06496864557266235,0.0016910943668335676,-0.0019361871527507901,-0.33099156618118286,1.8984403610229492,-0.0006354369688779116,-0.0023909681476652622,-0.510845422744751,-0.009064003825187683],[-0.006384070962667465,0.15792326629161835,1.450626015663147,-0.04556659981608391,-0.008828178979456425,-0.016266874969005585,0.5397732257843018,-0.0032255034893751144,-0.017717741429805756,0.21395276486873627,1.2467069625854492,-0.03984256833791733]],\"type\":\"heatmap\",\"xaxis\":\"x3\",\"yaxis\":\"y3\",\"hovertemplate\":\"Head: %{x}\\u003cbr\\u003eLayer: %{y}\\u003cbr\\u003eLogit Contribution: %{z}\\u003cextra\\u003e\\u003c\\u002fextra\\u003e\"}],                        {\"template\":{\"data\":{\"histogram2dcontour\":[{\"type\":\"histogram2dcontour\",\"colorbar\":{\"outlinewidth\":0,\"ticks\":\"\"},\"colorscale\":[[0.0,\"#0d0887\"],[0.1111111111111111,\"#46039f\"],[0.2222222222222222,\"#7201a8\"],[0.3333333333333333,\"#9c179e\"],[0.4444444444444444,\"#bd3786\"],[0.5555555555555556,\"#d8576b\"],[0.6666666666666666,\"#ed7953\"],[0.7777777777777778,\"#fb9f3a\"],[0.8888888888888888,\"#fdca26\"],[1.0,\"#f0f921\"]]}],\"choropleth\":[{\"type\":\"choropleth\",\"colorbar\":{\"outlinewidth\":0,\"ticks\":\"\"}}],\"histogram2d\":[{\"type\":\"histogram2d\",\"colorbar\":{\"outlinewidth\":0,\"ticks\":\"\"},\"colorscale\":[[0.0,\"#0d0887\"],[0.1111111111111111,\"#46039f\"],[0.2222222222222222,\"#7201a8\"],[0.3333333333333333,\"#9c179e\"],[0.4444444444444444,\"#bd3786\"],[0.5555555555555556,\"#d8576b\"],[0.6666666666666666,\"#ed7953\"],[0.7777777777777778,\"#fb9f3a\"],[0.8888888888888888,\"#fdca26\"],[1.0,\"#f0f921\"]]}],\"heatmap\":[{\"type\":\"heatmap\",\"colorbar\":{\"outlinewidth\":0,\"ticks\":\"\"},\"colorscale\":[[0.0,\"#0d0887\"],[0.1111111111111111,\"#46039f\"],[0.2222222222222222,\"#7201a8\"],[0.3333333333333333,\"#9c179e\"],[0.4444444444444444,\"#bd3786\"],[0.5555555555555556,\"#d8576b\"],[0.6666666666666666,\"#ed7953\"],[0.7777777777777778,\"#fb9f3a\"],[0.8888888888888888,\"#fdca26\"],[1.0,\"#f0f921\"]]}],\"heatmapgl\":[{\"type\":\"heatmapgl\",\"colorbar\":{\"outlinewidth\":0,\"ticks\":\"\"},\"colorscale\":[[0.0,\"#0d0887\"],[0.1111111111111111,\"#46039f\"],[0.2222222222222222,\"#7201a8\"],[0.3333333333333333,\"#9c179e\"],[0.4444444444444444,\"#bd3786\"],[0.5555555555555556,\"#d8576b\"],[0.6666666666666666,\"#ed7953\"],[0.7777777777777778,\"#fb9f3a\"],[0.8888888888888888,\"#fdca26\"],[1.0,\"#f0f921\"]]}],\"contourcarpet\":[{\"type\":\"contourcarpet\",\"colorbar\":{\"outlinewidth\":0,\"ticks\":\"\"}}],\"contour\":[{\"type\":\"contour\",\"colorbar\":{\"outlinewidth\":0,\"ticks\":\"\"},\"colorscale\":[[0.0,\"#0d0887\"],[0.1111111111111111,\"#46039f\"],[0.2222222222222222,\"#7201a8\"],[0.3333333333333333,\"#9c179e\"],[0.4444444444444444,\"#bd3786\"],[0.5555555555555556,\"#d8576b\"],[0.6666666666666666,\"#ed7953\"],[0.7777777777777778,\"#fb9f3a\"],[0.8888888888888888,\"#fdca26\"],[1.0,\"#f0f921\"]]}],\"surface\":[{\"type\":\"surface\",\"colorbar\":{\"outlinewidth\":0,\"ticks\":\"\"},\"colorscale\":[[0.0,\"#0d0887\"],[0.1111111111111111,\"#46039f\"],[0.2222222222222222,\"#7201a8\"],[0.3333333333333333,\"#9c179e\"],[0.4444444444444444,\"#bd3786\"],[0.5555555555555556,\"#d8576b\"],[0.6666666666666666,\"#ed7953\"],[0.7777777777777778,\"#fb9f3a\"],[0.8888888888888888,\"#fdca26\"],[1.0,\"#f0f921\"]]}],\"mesh3d\":[{\"type\":\"mesh3d\",\"colorbar\":{\"outlinewidth\":0,\"ticks\":\"\"}}],\"scatter\":[{\"fillpattern\":{\"fillmode\":\"overlay\",\"size\":10,\"solidity\":0.2},\"type\":\"scatter\"}],\"parcoords\":[{\"type\":\"parcoords\",\"line\":{\"colorbar\":{\"outlinewidth\":0,\"ticks\":\"\"}}}],\"scatterpolargl\":[{\"type\":\"scatterpolargl\",\"marker\":{\"colorbar\":{\"outlinewidth\":0,\"ticks\":\"\"}}}],\"bar\":[{\"error_x\":{\"color\":\"#2a3f5f\"},\"error_y\":{\"color\":\"#2a3f5f\"},\"marker\":{\"line\":{\"color\":\"#E5ECF6\",\"width\":0.5},\"pattern\":{\"fillmode\":\"overlay\",\"size\":10,\"solidity\":0.2}},\"type\":\"bar\"}],\"scattergeo\":[{\"type\":\"scattergeo\",\"marker\":{\"colorbar\":{\"outlinewidth\":0,\"ticks\":\"\"}}}],\"scatterpolar\":[{\"type\":\"scatterpolar\",\"marker\":{\"colorbar\":{\"outlinewidth\":0,\"ticks\":\"\"}}}],\"histogram\":[{\"marker\":{\"pattern\":{\"fillmode\":\"overlay\",\"size\":10,\"solidity\":0.2}},\"type\":\"histogram\"}],\"scattergl\":[{\"type\":\"scattergl\",\"marker\":{\"colorbar\":{\"outlinewidth\":0,\"ticks\":\"\"}}}],\"scatter3d\":[{\"type\":\"scatter3d\",\"line\":{\"colorbar\":{\"outlinewidth\":0,\"ticks\":\"\"}},\"marker\":{\"colorbar\":{\"outlinewidth\":0,\"ticks\":\"\"}}}],\"scattermapbox\":[{\"type\":\"scattermapbox\",\"marker\":{\"colorbar\":{\"outlinewidth\":0,\"ticks\":\"\"}}}],\"scatterternary\":[{\"type\":\"scatterternary\",\"marker\":{\"colorbar\":{\"outlinewidth\":0,\"ticks\":\"\"}}}],\"scattercarpet\":[{\"type\":\"scattercarpet\",\"marker\":{\"colorbar\":{\"outlinewidth\":0,\"ticks\":\"\"}}}],\"carpet\":[{\"aaxis\":{\"endlinecolor\":\"#2a3f5f\",\"gridcolor\":\"white\",\"linecolor\":\"white\",\"minorgridcolor\":\"white\",\"startlinecolor\":\"#2a3f5f\"},\"baxis\":{\"endlinecolor\":\"#2a3f5f\",\"gridcolor\":\"white\",\"linecolor\":\"white\",\"minorgridcolor\":\"white\",\"startlinecolor\":\"#2a3f5f\"},\"type\":\"carpet\"}],\"table\":[{\"cells\":{\"fill\":{\"color\":\"#EBF0F8\"},\"line\":{\"color\":\"white\"}},\"header\":{\"fill\":{\"color\":\"#C8D4E3\"},\"line\":{\"color\":\"white\"}},\"type\":\"table\"}],\"barpolar\":[{\"marker\":{\"line\":{\"color\":\"#E5ECF6\",\"width\":0.5},\"pattern\":{\"fillmode\":\"overlay\",\"size\":10,\"solidity\":0.2}},\"type\":\"barpolar\"}],\"pie\":[{\"automargin\":true,\"type\":\"pie\"}]},\"layout\":{\"autotypenumbers\":\"strict\",\"colorway\":[\"#636efa\",\"#EF553B\",\"#00cc96\",\"#ab63fa\",\"#FFA15A\",\"#19d3f3\",\"#FF6692\",\"#B6E880\",\"#FF97FF\",\"#FECB52\"],\"font\":{\"color\":\"#2a3f5f\"},\"hovermode\":\"closest\",\"hoverlabel\":{\"align\":\"left\"},\"paper_bgcolor\":\"white\",\"plot_bgcolor\":\"#E5ECF6\",\"polar\":{\"bgcolor\":\"#E5ECF6\",\"angularaxis\":{\"gridcolor\":\"white\",\"linecolor\":\"white\",\"ticks\":\"\"},\"radialaxis\":{\"gridcolor\":\"white\",\"linecolor\":\"white\",\"ticks\":\"\"}},\"ternary\":{\"bgcolor\":\"#E5ECF6\",\"aaxis\":{\"gridcolor\":\"white\",\"linecolor\":\"white\",\"ticks\":\"\"},\"baxis\":{\"gridcolor\":\"white\",\"linecolor\":\"white\",\"ticks\":\"\"},\"caxis\":{\"gridcolor\":\"white\",\"linecolor\":\"white\",\"ticks\":\"\"}},\"coloraxis\":{\"colorbar\":{\"outlinewidth\":0,\"ticks\":\"\"}},\"colorscale\":{\"sequential\":[[0.0,\"#0d0887\"],[0.1111111111111111,\"#46039f\"],[0.2222222222222222,\"#7201a8\"],[0.3333333333333333,\"#9c179e\"],[0.4444444444444444,\"#bd3786\"],[0.5555555555555556,\"#d8576b\"],[0.6666666666666666,\"#ed7953\"],[0.7777777777777778,\"#fb9f3a\"],[0.8888888888888888,\"#fdca26\"],[1.0,\"#f0f921\"]],\"sequentialminus\":[[0.0,\"#0d0887\"],[0.1111111111111111,\"#46039f\"],[0.2222222222222222,\"#7201a8\"],[0.3333333333333333,\"#9c179e\"],[0.4444444444444444,\"#bd3786\"],[0.5555555555555556,\"#d8576b\"],[0.6666666666666666,\"#ed7953\"],[0.7777777777777778,\"#fb9f3a\"],[0.8888888888888888,\"#fdca26\"],[1.0,\"#f0f921\"]],\"diverging\":[[0,\"#8e0152\"],[0.1,\"#c51b7d\"],[0.2,\"#de77ae\"],[0.3,\"#f1b6da\"],[0.4,\"#fde0ef\"],[0.5,\"#f7f7f7\"],[0.6,\"#e6f5d0\"],[0.7,\"#b8e186\"],[0.8,\"#7fbc41\"],[0.9,\"#4d9221\"],[1,\"#276419\"]]},\"xaxis\":{\"gridcolor\":\"white\",\"linecolor\":\"white\",\"ticks\":\"\",\"title\":{\"standoff\":15},\"zerolinecolor\":\"white\",\"automargin\":true,\"zerolinewidth\":2},\"yaxis\":{\"gridcolor\":\"white\",\"linecolor\":\"white\",\"ticks\":\"\",\"title\":{\"standoff\":15},\"zerolinecolor\":\"white\",\"automargin\":true,\"zerolinewidth\":2},\"scene\":{\"xaxis\":{\"backgroundcolor\":\"#E5ECF6\",\"gridcolor\":\"white\",\"linecolor\":\"white\",\"showbackground\":true,\"ticks\":\"\",\"zerolinecolor\":\"white\",\"gridwidth\":2},\"yaxis\":{\"backgroundcolor\":\"#E5ECF6\",\"gridcolor\":\"white\",\"linecolor\":\"white\",\"showbackground\":true,\"ticks\":\"\",\"zerolinecolor\":\"white\",\"gridwidth\":2},\"zaxis\":{\"backgroundcolor\":\"#E5ECF6\",\"gridcolor\":\"white\",\"linecolor\":\"white\",\"showbackground\":true,\"ticks\":\"\",\"zerolinecolor\":\"white\",\"gridwidth\":2}},\"shapedefaults\":{\"line\":{\"color\":\"#2a3f5f\"}},\"annotationdefaults\":{\"arrowcolor\":\"#2a3f5f\",\"arrowhead\":0,\"arrowwidth\":1},\"geo\":{\"bgcolor\":\"white\",\"landcolor\":\"#E5ECF6\",\"subunitcolor\":\"white\",\"showland\":true,\"showlakes\":true,\"lakecolor\":\"white\"},\"title\":{\"x\":0.05},\"mapbox\":{\"style\":\"light\"}}},\"xaxis\":{\"anchor\":\"y\",\"domain\":[0.0,0.31999999999999995],\"scaleanchor\":\"y\",\"constrain\":\"domain\",\"title\":{\"text\":\"Head\"},\"showline\":true,\"linewidth\":1,\"linecolor\":\"black\",\"mirror\":true},\"yaxis\":{\"anchor\":\"x\",\"domain\":[0.0,1.0],\"autorange\":\"reversed\",\"constrain\":\"domain\",\"title\":{\"text\":\"Layer\"},\"showline\":true,\"linewidth\":1,\"linecolor\":\"black\",\"mirror\":true},\"xaxis2\":{\"anchor\":\"y2\",\"domain\":[0.33999999999999997,0.6599999999999999],\"matches\":\"x\",\"title\":{\"text\":\"Head\"},\"showline\":true,\"linewidth\":1,\"linecolor\":\"black\",\"mirror\":true},\"yaxis2\":{\"anchor\":\"x2\",\"domain\":[0.0,1.0],\"matches\":\"y\",\"showticklabels\":false,\"showline\":true,\"linewidth\":1,\"linecolor\":\"black\",\"mirror\":true},\"xaxis3\":{\"anchor\":\"y3\",\"domain\":[0.6799999999999999,0.9999999999999999],\"matches\":\"x\",\"title\":{\"text\":\"Head\"},\"showline\":true,\"linewidth\":1,\"linecolor\":\"black\",\"mirror\":true},\"yaxis3\":{\"anchor\":\"x3\",\"domain\":[0.0,1.0],\"matches\":\"y\",\"showticklabels\":false,\"showline\":true,\"linewidth\":1,\"linecolor\":\"black\",\"mirror\":true},\"annotations\":[{\"font\":{},\"showarrow\":false,\"text\":\"Ablated Logit Differences: 2.40\",\"x\":0.15999999999999998,\"xanchor\":\"center\",\"xref\":\"paper\",\"y\":1.0,\"yanchor\":\"bottom\",\"yref\":\"paper\"},{\"font\":{},\"showarrow\":false,\"text\":\"Clean Logit Differences: 3.49\",\"x\":0.49999999999999994,\"xanchor\":\"center\",\"xref\":\"paper\",\"y\":1.0,\"yanchor\":\"bottom\",\"yref\":\"paper\"},{\"font\":{},\"showarrow\":false,\"text\":\"Ablated - Clean Logit Differences: -1.08\",\"x\":0.8399999999999999,\"xanchor\":\"center\",\"xref\":\"paper\",\"y\":1.0,\"yanchor\":\"bottom\",\"yref\":\"paper\"}],\"coloraxis\":{\"colorbar\":{\"title\":{\"text\":\"Logit Contribution\"}},\"colorscale\":[[0.0,\"rgb(103,0,31)\"],[0.1,\"rgb(178,24,43)\"],[0.2,\"rgb(214,96,77)\"],[0.3,\"rgb(244,165,130)\"],[0.4,\"rgb(253,219,199)\"],[0.5,\"rgb(247,247,247)\"],[0.6,\"rgb(209,229,240)\"],[0.7,\"rgb(146,197,222)\"],[0.8,\"rgb(67,147,195)\"],[0.9,\"rgb(33,102,172)\"],[1.0,\"rgb(5,48,97)\"]],\"cmid\":0.0},\"title\":{\"text\":\"Logits When Sample Ablating in Layer 9\"},\"width\":1000,\"margin\":{\"r\":100,\"l\":100}},                        {\"responsive\": true}                    ).then(function(){\n",
              "                            \n",
              "var gd = document.getElementById('67e70b83-76ec-487e-a8b7-75ed7222c085');\n",
              "var x = new MutationObserver(function (mutations, observer) {{\n",
              "        var display = window.getComputedStyle(gd).display;\n",
              "        if (!display || display === 'none') {{\n",
              "            console.log([gd, 'removed!']);\n",
              "            Plotly.purge(gd);\n",
              "            observer.disconnect();\n",
              "        }}\n",
              "}});\n",
              "\n",
              "// Listen for the removal of the full notebook cells\n",
              "var notebookContainer = gd.closest('#notebook-container');\n",
              "if (notebookContainer) {{\n",
              "    x.observe(notebookContainer, {childList: true});\n",
              "}}\n",
              "\n",
              "// Listen for the clearing of the current output cell\n",
              "var outputEl = gd.closest('.output');\n",
              "if (outputEl) {{\n",
              "    x.observe(outputEl, {childList: true});\n",
              "}}\n",
              "\n",
              "                        })                };                });            </script>        </div>"
            ]
          },
          "metadata": {},
          "output_type": "display_data"
        }
      ],
      "source": [
        "heads =  [(9,i) for i in range(12)] +  [(10,i) for i in range(12)] \n",
        "model.reset_hooks() # callum library buggy\n",
        "def return_item(item):\n",
        "  return item\n",
        "\n",
        "model.reset_hooks()\n",
        "patched_logits = act_patch(\n",
        "    model = model,\n",
        "    orig_input = clean_tokens,\n",
        "    new_cache = corrupted_cache,\n",
        "    patching_nodes = [Node(\"z\", layer = layer, head = head) for layer, head in heads],\n",
        "    patching_metric = return_item,\n",
        "    verbose = False,\n",
        "    apply_metric_to_cache = False\n",
        ")\n",
        "\n",
        "model.reset_hooks()\n",
        "all_layernine_noise_patching_results = act_patch(\n",
        "    model = model,\n",
        "    orig_input = clean_tokens,\n",
        "    new_cache = corrupted_cache,\n",
        "    patching_nodes = [Node(\"z\", layer = layer, head = head) for layer, head in heads],\n",
        "    patching_metric = partial(display_corrupted_clean_logits, title = f\"Logits When Sample Ablating in Layer 9\", comparison = True, logits = patched_logits),\n",
        "    verbose = False,\n",
        "    apply_metric_to_cache = True\n",
        ")"
      ]
    },
    {
      "cell_type": "code",
      "execution_count": 260,
      "metadata": {
        "id": "f5ezr2iwpz7m"
      },
      "outputs": [],
      "source": [
        "neg_m_heads = [(10,7), (11,10)]\n",
        "name_mover_heads = [(9,9), (9,6), (10,0)]\n",
        "backup_heads = [(9,0), (9,7), (10,1), (10,2), (10,6), (10,10), (11,2), (11,9)]\n",
        "key_backup_heads = [(10,2), (10,6), (10,10), (11,2)]\n",
        "strong_neg_backup_heads = [(11,2), (10,2), (10,0), (11,6)]\n",
        "\n",
        "\n",
        "\n",
        "head_names = [\"Negative\", \"Name Mover\", \"Backup\"]\n",
        "head_list = [neg_m_heads, name_mover_heads, backup_heads]"
      ]
    },
    {
      "cell_type": "code",
      "execution_count": 261,
      "metadata": {},
      "outputs": [
        {
          "name": "stdout",
          "output_type": "stream",
          "text": [
            "IOI metric (IOI dataset): 0.0000\n",
            "IOI metric (ABC dataset): -1.0000\n"
          ]
        }
      ],
      "source": [
        "def noising_ioi_metric(\n",
        "    logits: Float[Tensor, \"batch seq d_vocab\"],\n",
        "    clean_logit_diff: float = clean_average_logit_diff,\n",
        "    corrupted_logit_diff: float = corrupted_average_logit_diff,\n",
        ") -> float:\n",
        "    '''\n",
        "    Given logits, returns how much the performance has been corrupted due to noising.\n",
        "\n",
        "    We calibrate this so that the value is 0 when performance isn't harmed (i.e. same as IOI dataset),\n",
        "    and -1 when performance has been destroyed (i.e. is same as ABC dataset).\n",
        "    '''\n",
        "    #print(logits[-1, -1])\n",
        "    patched_logit_diff = logits_to_ave_logit_diff(logits)\n",
        "    return ((patched_logit_diff - clean_logit_diff) / (clean_logit_diff - corrupted_logit_diff))\n",
        "\n",
        "print(f\"IOI metric (IOI dataset): {noising_ioi_metric(clean_logits):.4f}\")\n",
        "print(f\"IOI metric (ABC dataset): {noising_ioi_metric(corrupted_logits):.4f}\")"
      ]
    },
    {
      "cell_type": "code",
      "execution_count": 262,
      "metadata": {},
      "outputs": [
        {
          "name": "stdout",
          "output_type": "stream",
          "text": [
            "IOI metric (IOI dataset): 1.0000\n",
            "IOI metric (ABC dataset): 0.0000\n"
          ]
        }
      ],
      "source": [
        "def denoising_ioi_metric(\n",
        "    logits: Float[Tensor, \"batch seq d_vocab\"],\n",
        "    clean_logit_diff: float = clean_average_logit_diff,\n",
        "    corrupted_logit_diff: float = corrupted_average_logit_diff,\n",
        ") -> float:\n",
        "    '''\n",
        "    We calibrate this so that the value is 1 when performance got restored (i.e. same as IOI dataset),\n",
        "    and 0 when performance has been destroyed (i.e. is same as ABC dataset).\n",
        "    '''\n",
        "    patched_logit_diff = logits_to_ave_logit_diff(logits)\n",
        "    return ((patched_logit_diff - clean_logit_diff) / (clean_logit_diff - corrupted_logit_diff) + 1)\n",
        "\n",
        "\n",
        "print(f\"IOI metric (IOI dataset): {denoising_ioi_metric(clean_logits):.4f}\")\n",
        "print(f\"IOI metric (ABC dataset): {denoising_ioi_metric(corrupted_logits):.4f}\")"
      ]
    },
    {
      "cell_type": "markdown",
      "metadata": {
        "id": "j-n1WgQ3wI42"
      },
      "source": [
        "## Query Intervention"
      ]
    },
    {
      "cell_type": "code",
      "execution_count": 263,
      "metadata": {
        "id": "TbaPrch3wUe_"
      },
      "outputs": [],
      "source": [
        "def store_activation(\n",
        "    activation,\n",
        "    hook: HookPoint,\n",
        "    where_to_store\n",
        "):\n",
        "    \"\"\"\n",
        "    takes a storage container where_to_store, and stores the activation in it at a hook\n",
        "    \"\"\"\"\"\n",
        "    where_to_store[:] = activation"
      ]
    },
    {
      "cell_type": "code",
      "execution_count": 264,
      "metadata": {
        "id": "ZEivke9cwRFL"
      },
      "outputs": [],
      "source": [
        "def kq_rewrite_hook(\n",
        "    internal_value: Float[Tensor, \"batch seq head d_head\"],\n",
        "    hook: HookPoint,\n",
        "    head,\n",
        "    unnormalized_resid:  Float[Tensor, \"batch seq d_model\"],\n",
        "    vector,\n",
        "    act_name,\n",
        "    scale = 1,\n",
        "    position = -1,\n",
        "    pre_ln = True\n",
        "):\n",
        "  \"\"\"\n",
        "  replaces keys or queries with a new result which we get from adding a vector to a position at the residual stream\n",
        "  head: tuple for head to rewrite keys for\n",
        "  unnormalized_resid: stored unnormalized residual stream needed to recalculated activations\n",
        "  \"\"\"\n",
        "\n",
        "  ln1 = model.blocks[hook.layer()].ln1\n",
        "  temp_resid = unnormalized_resid.clone()\n",
        "\n",
        "  if pre_ln:\n",
        "    temp_resid[:, position, :] = temp_resid[:, position, :] + scale * vector\n",
        "    normalized_resid = ln1(temp_resid)\n",
        "  else:\n",
        "    temp_resid = ln1(temp_resid)\n",
        "    temp_resid[:, position, :] = temp_resid[:, position, :] + scale * vector\n",
        "    normalized_resid = temp_resid\n",
        "\n",
        "\n",
        "  assert act_name == \"q\" or act_name == \"k\"\n",
        "  if act_name == \"q\":\n",
        "    W_Q, b_Q = model.W_Q[head[0], head[1]], model.b_Q[head[0], head[1]]\n",
        "    internal_value[..., head[1], :] = einops.einsum(normalized_resid, W_Q, \"batch seq d_model, d_model d_head -> batch seq d_head\") + b_Q\n",
        "\n",
        "  elif act_name == \"k\":\n",
        "    W_K, b_K = model.W_K[head[0], head[1]], model.b_K[head[0], head[1]]\n",
        "    internal_value[..., head[1], :] = einops.einsum(normalized_resid, W_K, \"batch seq d_model, d_model d_head -> batch seq d_head\") + b_K\n"
      ]
    },
    {
      "cell_type": "code",
      "execution_count": 265,
      "metadata": {
        "id": "GBYtXCAUwT3b"
      },
      "outputs": [],
      "source": [
        "def patch_head_vector(\n",
        "    head_vector: Float[Tensor, \"batch pos head_index d_head\"],\n",
        "    hook: HookPoint,\n",
        "    head_indices: int,\n",
        "    other_cache: ActivationCache\n",
        ") -> Float[Tensor, \"batch pos head_index d_head\"]:\n",
        "    '''\n",
        "    Patches the output of a given head (before it's added to the residual stream) at\n",
        "    every sequence position, using the value from the other cache.\n",
        "    '''\n",
        "    for head_index in head_indices:\n",
        "      head_vector[:, :, head_index] = other_cache[hook.name][:, :, head_index]\n",
        "    return head_vector"
      ]
    },
    {
      "cell_type": "code",
      "execution_count": null,
      "metadata": {
        "id": "f7QGFDu3TgyS"
      },
      "outputs": [],
      "source": [
        "def patch_ln_scale(ln_scale, hook):\n",
        "  #print(torch.equal(ln_scale, clean_cache[\"blocks.\" + str(hook.layer()) + \".ln1.hook_scale\"]))\n",
        "  ln_scale = clean_cache[\"blocks.\" + str(hook.layer()) + \".ln1.hook_scale\"]\n",
        "  return ln_scale\n",
        "\n",
        "\n",
        "def patch_ln2_scale(ln_scale, hook):\n",
        "  #print(torch.equal(ln_scale, clean_cache[\"blocks.\" + str(hook.layer()) + \".ln1.hook_scale\"]))\n",
        "  ln_scale = clean_cache[\"blocks.\" + str(hook.layer()) + \".ln2.hook_scale\"]\n",
        "  return ln_scale"
      ]
    },
    {
      "cell_type": "code",
      "execution_count": null,
      "metadata": {
        "id": "YDlAHwPHwZx8"
      },
      "outputs": [
        {
          "ename": "",
          "evalue": "",
          "output_type": "error",
          "traceback": [
            "\u001b[1;31mnotebook controller is DISPOSED. \n",
            "\u001b[1;31mView Jupyter <a href='command:jupyter.viewOutput'>log</a> for further details."
          ]
        },
        {
          "ename": "",
          "evalue": "",
          "output_type": "error",
          "traceback": [
            "\u001b[1;31mnotebook controller is DISPOSED. \n",
            "\u001b[1;31mView Jupyter <a href='command:jupyter.viewOutput'>log</a> for further details."
          ]
        },
        {
          "ename": "",
          "evalue": "",
          "output_type": "error",
          "traceback": [
            "\u001b[1;31mnotebook controller is DISPOSED. \n",
            "\u001b[1;31mView Jupyter <a href='command:jupyter.viewOutput'>log</a> for further details."
          ]
        }
      ],
      "source": [
        "def causal_write_into_component(act_comp, head, direction, x, pre_ln = True, result_cache_function = None, result_cache_fun_has_head_input = False, freeze_layernorm = False, ablate_heads = []):\n",
        "  '''\n",
        "  writes a vector into the component at a given head\n",
        "  returns new logit differences of run by default, or pass result_cache_funciton to run on cache\n",
        "\n",
        "  head - tuple for head to intervene in act_comp for\n",
        "  direction - vector to add to the act_comp in the head\n",
        "  x - tensor of amount to scale\n",
        "  '''\n",
        "  y = torch.zeros(x.shape)\n",
        "  for i in range(len(x)):\n",
        "    scale = x[i]\n",
        "    model.reset_hooks()\n",
        "    temp = torch.zeros((batch_size, seq_len, model.cfg.d_model)).cuda()\n",
        "    model.add_hook(utils.get_act_name(\"resid_pre\", head[0]), partial(store_activation, where_to_store = temp))\n",
        "    if freeze_layernorm:\n",
        "      model.add_hook(\"blocks.\" + str(head[0]) + \".ln1.hook_scale\", patch_ln_scale)\n",
        "    model.add_hook(utils.get_act_name(act_comp, head[0]), partial(kq_rewrite_hook, head = head, unnormalized_resid = temp, vector = direction, act_name = act_comp, scale = scale, pre_ln = pre_ln))\n",
        "\n",
        "\n",
        "    if len(ablate_heads) != 0:\n",
        "      for j in ablate_heads:\n",
        "        model.add_hook(utils.get_act_name(\"z\", j[0]), partial(patch_head_vector, head_indices = [j[1]], other_cache = corrupted_cache))\n",
        "\n",
        "\n",
        "    hooked_logits, hooked_cache = model.run_with_cache(clean_tokens)\n",
        "    model.reset_hooks()\n",
        "\n",
        "\n",
        "    if result_cache_function != None:\n",
        "      if not result_cache_fun_has_head_input:\n",
        "        y[i] = result_cache_function(hooked_cache)\n",
        "      else:\n",
        "        y[i] = result_cache_function(hooked_cache, head)\n",
        "    else:\n",
        "      # just calculate logit diff\n",
        "      y[i] = logits_to_ave_logit_diff(hooked_logits)\n",
        "\n",
        "  return y\n"
      ]
    },
    {
      "cell_type": "code",
      "execution_count": null,
      "metadata": {
        "id": "U_q21PDbyo2R"
      },
      "outputs": [
        {
          "ename": "",
          "evalue": "",
          "output_type": "error",
          "traceback": [
            "\u001b[1;31mnotebook controller is DISPOSED. \n",
            "\u001b[1;31mView Jupyter <a href='command:jupyter.viewOutput'>log</a> for further details."
          ]
        }
      ],
      "source": [
        "def graph_lines(results, heads, x, title = \"Effect of adding/subtracting direction\", xtitle = \"Scaling on direction\", ytitle = \"Logit Diff\"):\n",
        "  fig = px.line(title = title)\n",
        "  for i in range(len(results)):\n",
        "    fig.add_trace(go.Scatter(x = x, y = results[i], name = str(heads[i])))\n",
        "\n",
        "  fig.update_xaxes(title = xtitle)\n",
        "  fig.update_yaxes(title = ytitle)\n",
        "  fig.show()"
      ]
    },
    {
      "cell_type": "code",
      "execution_count": null,
      "metadata": {
        "id": "5YNnE8De8lPY"
      },
      "outputs": [
        {
          "ename": "",
          "evalue": "",
          "output_type": "error",
          "traceback": [
            "\u001b[1;31mnotebook controller is DISPOSED. \n",
            "\u001b[1;31mView Jupyter <a href='command:jupyter.viewOutput'>log</a> for further details."
          ]
        }
      ],
      "source": [
        "def get_head_IO_minus_S_attn(cache, head, scores = True):\n",
        "\n",
        "  layer, h_index = head\n",
        "\n",
        "  if scores:\n",
        "    attention_patten = cache[\"attn_scores\", layer]\n",
        "  else:\n",
        "    attention_patten = cache[\"pattern\", layer]\n",
        "  S1 = attention_patten.mean(0)[h_index][-1][2].item()\n",
        "  IO = attention_patten.mean(0)[h_index][-1][4].item()\n",
        "  S2 = attention_patten.mean(0)[h_index][-1][10].item()\n",
        "\n",
        "  return IO - S1 - S2\n",
        "\n",
        "\n",
        "def get_head_IO_minus_just_S1_attn(cache, head, scores = True):\n",
        "\n",
        "    layer, h_index = head\n",
        "\n",
        "    if scores:\n",
        "      attention_patten = cache[\"attn_scores\", layer]\n",
        "    else:\n",
        "      attention_patten = cache[\"pattern\", layer]\n",
        "    S1 = attention_patten.mean(0)[h_index][-1][2].item()\n",
        "    IO = attention_patten.mean(0)[h_index][-1][4].item()\n",
        "    S2 = attention_patten.mean(0)[h_index][-1][10].item()\n",
        "\n",
        "    return IO - S1\n",
        "\n",
        "def get_head_last_token(cache, head):\n",
        "  layer, h_index = head\n",
        "  return cache[\"pattern\", layer][:, h_index, -1, :]\n",
        "\n",
        "\n",
        "def get_head_attn(cache, head, token, scores = True, mean = True):\n",
        "\n",
        "  layer, h_index = head\n",
        "\n",
        "  if scores:\n",
        "    attention_patten = cache[\"attn_scores\", layer]\n",
        "  else:\n",
        "    attention_patten = cache[\"pattern\", layer]\n",
        "\n",
        "\n",
        "  if mean:\n",
        "    if token == \"S1\":\n",
        "      return attention_patten.mean(0)[h_index][-1][2].item()\n",
        "    elif token == \"IO\":\n",
        "      return attention_patten.mean(0)[h_index][-1][4].item()\n",
        "    elif token == \"S2\":\n",
        "      return attention_patten.mean(0)[h_index][-1][10].item()\n",
        "    elif token == \"BOS\":\n",
        "      return attention_patten.mean(0)[h_index][-1][0].item()\n",
        "    else:\n",
        "      print(\"RAHHHHH YOU MISSTYPED SOMETHING\")\n",
        "\n",
        "  else:\n",
        "    if token == \"S1\":\n",
        "      return attention_patten[:, h_index, -1, 2]\n",
        "    elif token == \"IO\":\n",
        "      return attention_patten[:, h_index, -1, 4]\n",
        "    elif token == \"S2\":\n",
        "      return attention_patten[:, h_index, -1, 10]\n",
        "    elif token == \"BOS\":\n",
        "      return attention_patten[:, h_index, -1, 0]\n",
        "    else:\n",
        "      print(\"RAHHHHH YOU MISSTYPED SOMETHING\")\n",
        "\n",
        "      \n",
        "def patch_head_vector(\n",
        "    head_vector: Float[Tensor, \"batch pos head_index d_head\"],\n",
        "    hook: HookPoint,\n",
        "    head_indices: int,\n",
        "    other_cache: ActivationCache\n",
        ") -> Float[Tensor, \"batch pos head_index d_head\"]:\n",
        "    '''\n",
        "    Patches the output of a given head (before it's added to the residual stream) at\n",
        "    every sequence position, using the value from the other cache.\n",
        "    '''\n",
        "    for head_index in head_indices:\n",
        "      head_vector[:, :, head_index] = other_cache[hook.name][:, :, head_index]\n",
        "    return head_vector\n",
        "\n",
        "def get_attn_results_into_head_dirs(heads, direction, scale_amounts, ablate_heads = [], freeze_ln = False, only_S1 = False):\n",
        "  io_attn_postln_nmh_results = []\n",
        "  for i in range(len(heads)):\n",
        "    io_attn_postln_nmh_results.append(causal_write_into_component(\"q\", heads[i], direction, scale_amounts,\n",
        "                                                        pre_ln = True, freeze_layernorm = freeze_ln, result_cache_function = partial(get_head_attn, token = \"IO\"), result_cache_fun_has_head_input = True, ablate_heads=ablate_heads))\n",
        "\n",
        "\n",
        "  s1_attn_postln_nmh_results = []\n",
        "  for i in range(len(heads)):\n",
        "    s1_attn_postln_nmh_results.append(causal_write_into_component(\"q\", heads[i], direction, scale_amounts,\n",
        "                                                        pre_ln = True, freeze_layernorm = freeze_ln,result_cache_function = partial(get_head_attn, token = \"S1\"), result_cache_fun_has_head_input = True, ablate_heads=ablate_heads))\n",
        "\n",
        "  s2_attn_postln_nmh_results = []\n",
        "  for i in range(len(heads)):\n",
        "    s2_attn_postln_nmh_results.append(causal_write_into_component(\"q\", heads[i], direction, scale_amounts,\n",
        "                                                        pre_ln = True, freeze_layernorm = freeze_ln,result_cache_function = partial(get_head_attn, token = \"S2\"), result_cache_fun_has_head_input = True, ablate_heads=ablate_heads))\n",
        "\n",
        "  diff_results = []\n",
        "  if not only_S1:\n",
        "    for i in range(len(heads)):\n",
        "      diff_results.append(causal_write_into_component(\"q\", heads[i], direction, scale_amounts,\n",
        "                                                          pre_ln = True, freeze_layernorm = freeze_ln,result_cache_function = get_head_IO_minus_S_attn, result_cache_fun_has_head_input = True, ablate_heads=ablate_heads))\n",
        "  else:\n",
        "    for i in range(len(heads)):\n",
        "      diff_results.append(causal_write_into_component(\"q\", heads[i], direction, scale_amounts,\n",
        "                                                          pre_ln = True, freeze_layernorm = freeze_ln,result_cache_function = get_head_IO_minus_just_S1_attn, result_cache_fun_has_head_input = True, ablate_heads=ablate_heads))\n",
        "\n",
        "\n",
        "  bos_attn_postln_nmh_results = []\n",
        "  for i in range(len(heads)):\n",
        "    bos_attn_postln_nmh_results.append(causal_write_into_component(\"q\", heads[i], direction, scale_amounts,\n",
        "                                                        pre_ln = True, freeze_layernorm = freeze_ln,result_cache_function = partial(get_head_attn, token = \"BOS\"), result_cache_fun_has_head_input = True, ablate_heads=ablate_heads))\n",
        "\n",
        "  return [io_attn_postln_nmh_results, s1_attn_postln_nmh_results, s2_attn_postln_nmh_results, diff_results, bos_attn_postln_nmh_results]"
      ]
    },
    {
      "cell_type": "code",
      "execution_count": null,
      "metadata": {
        "id": "bA7cCUtL9-nk"
      },
      "outputs": [
        {
          "ename": "",
          "evalue": "",
          "output_type": "error",
          "traceback": [
            "\u001b[1;31mnotebook controller is DISPOSED. \n",
            "\u001b[1;31mView Jupyter <a href='command:jupyter.viewOutput'>log</a> for further details."
          ]
        }
      ],
      "source": [
        "IO_unembed_direction = model.W_U.T[clean_tokens][:, 4, :]"
      ]
    },
    {
      "cell_type": "markdown",
      "metadata": {},
      "source": [
        "# Unembedding to Not Ratios"
      ]
    },
    {
      "cell_type": "code",
      "execution_count": null,
      "metadata": {},
      "outputs": [
        {
          "ename": "",
          "evalue": "",
          "output_type": "error",
          "traceback": [
            "\u001b[1;31mnotebook controller is DISPOSED. \n",
            "\u001b[1;31mView Jupyter <a href='command:jupyter.viewOutput'>log</a> for further details."
          ]
        }
      ],
      "source": [
        "model.set_use_attn_result(True)"
      ]
    },
    {
      "cell_type": "code",
      "execution_count": null,
      "metadata": {},
      "outputs": [
        {
          "ename": "",
          "evalue": "",
          "output_type": "error",
          "traceback": [
            "\u001b[1;31mnotebook controller is DISPOSED. \n",
            "\u001b[1;31mView Jupyter <a href='command:jupyter.viewOutput'>log</a> for further details."
          ]
        }
      ],
      "source": [
        "def get_projection(from_vector, to_vector):\n",
        "    dot_product = einops.einsum(from_vector, to_vector, \"batch d_model, batch d_model -> batch\")\n",
        "    #print(\"Average Dot Product of Output Across Batch: \" + str(dot_product.mean(0)))\n",
        "    length_of_from_vector = einops.einsum(from_vector, from_vector, \"batch d_model, batch d_model -> batch\")\n",
        "    length_of_vector = einops.einsum(to_vector, to_vector, \"batch d_model, batch d_model -> batch\")\n",
        "    \n",
        "    \n",
        "\n",
        "\n",
        "    projected_lengths = (dot_product) / (length_of_vector)\n",
        "    #print( einops.repeat(projected_lengths, \"batch -> batch d_model\", d_model = model.cfg.d_model)[0])\n",
        "    projections = to_vector * einops.repeat(projected_lengths, \"batch -> batch d_model\", d_model = to_vector.shape[-1])\n",
        "    return projections"
      ]
    },
    {
      "cell_type": "code",
      "execution_count": null,
      "metadata": {},
      "outputs": [
        {
          "name": "stdout",
          "output_type": "stream",
          "text": [
            "tensor([[0., 0.]])\n"
          ]
        },
        {
          "ename": "",
          "evalue": "",
          "output_type": "error",
          "traceback": [
            "\u001b[1;31mnotebook controller is DISPOSED. \n",
            "\u001b[1;31mView Jupyter <a href='command:jupyter.viewOutput'>log</a> for further details."
          ]
        }
      ],
      "source": [
        "a = torch.Tensor([[-1, 1]])\n",
        "b = torch.Tensor([[1, 1]])\n",
        "print(get_projection(a, b))"
      ]
    },
    {
      "cell_type": "code",
      "execution_count": null,
      "metadata": {},
      "outputs": [
        {
          "ename": "",
          "evalue": "",
          "output_type": "error",
          "traceback": [
            "\u001b[1;31mnotebook controller is DISPOSED. \n",
            "\u001b[1;31mView Jupyter <a href='command:jupyter.viewOutput'>log</a> for further details."
          ]
        }
      ],
      "source": [
        "import torch.nn.functional as F\n",
        "\n",
        "def compute_cosine_similarity(tensor1, tensor2):\n",
        "    # Compute cosine similarity\n",
        "    similarity = F.cosine_similarity(tensor1, tensor2, dim=1)\n",
        "    return similarity"
      ]
    },
    {
      "cell_type": "code",
      "execution_count": 275,
      "metadata": {},
      "outputs": [],
      "source": [
        "def project_vector_operation(\n",
        "    original_resid_stream: Float[Tensor, \"batch seq head_idx d_model\"],\n",
        "    hook: HookPoint,\n",
        "    vector: Float[Tensor, \"batch d_model\"],\n",
        "    position = -1,\n",
        "    heads = [], # array of ints\n",
        "    scale_proj = 1,\n",
        "    project_only = False\n",
        ") -> Float[Tensor, \"batch n_head pos pos\"]:\n",
        "  '''\n",
        "  Function which gets orthogonal projection of residual stream to a vector, and either subtracts it or keeps only it\n",
        "  '''\n",
        "  #print(\"RUH\")\n",
        "  for head in heads:\n",
        "    projections = get_projection(original_resid_stream[:, position, head, :], vector)\n",
        "    if project_only:\n",
        "      original_resid_stream[:, position, head, :] = projections * scale_proj\n",
        "    else:\n",
        "      original_resid_stream[:, position, head, :] = (original_resid_stream[:, position, head, :] - projections) * scale_proj #torch.zeros(original_resid_stream[:, position, head, :].shape)#\n",
        "  \n",
        "  return original_resid_stream"
      ]
    },
    {
      "cell_type": "code",
      "execution_count": 276,
      "metadata": {},
      "outputs": [],
      "source": [
        "# get ldds when intervening and replacing with directions of corrupted runs\n",
        "def project_away_component_and_replace_with_something_else(\n",
        "    original_resid_out: Float[Tensor, \"batch seq head_idx d_model\"],\n",
        "    hook: HookPoint,\n",
        "    project_away_vector: Float[Tensor, \"batch d_model\"],\n",
        "    replace_vector : Float[Tensor, \"batch d_model\"],\n",
        "    position = -1,\n",
        "    heads = [], # array of ints,\n",
        "    project_only = False # whether to, instead of projecting away the vector, keep it!\n",
        ") -> Float[Tensor, \"batch n_head pos pos\"]:\n",
        "    '''\n",
        "    Function which gets removes a specific component (or keeps only it, if project_only = True) of the an output of a head and replaces it with another vector\n",
        "    '''\n",
        "    # right now this projects away the IO direction!\n",
        "    assert project_away_vector.shape == replace_vector.shape and len(project_away_vector.shape) == 2\n",
        "\n",
        "    for head in heads:\n",
        "        \n",
        "        head_output = original_resid_out[:, position, head, :]\n",
        "        projections = get_projection(head_output, project_away_vector)\n",
        "\n",
        "        if project_only:\n",
        "            resid_without_projection =  projections\n",
        "        else:\n",
        "            resid_without_projection = (head_output - projections) \n",
        "\n",
        "        updated_resid = resid_without_projection + replace_vector\n",
        "        original_resid_out[:, position, head, :] = updated_resid\n",
        "\n",
        "    return original_resid_out"
      ]
    },
    {
      "cell_type": "code",
      "execution_count": 277,
      "metadata": {},
      "outputs": [],
      "source": [
        "def patch_last_ln(ln_scale, hook):\n",
        "  #print(torch.equal(ln_scale, clean_cache[\"blocks.\" + str(hook.layer()) + \".ln1.hook_scale\"]))\n",
        "  print(\"froze lnfinal\")\n",
        "  ln_scale = clean_cache[\"ln_final.hook_scale\"]\n",
        "  return ln_scale"
      ]
    },
    {
      "cell_type": "code",
      "execution_count": 278,
      "metadata": {},
      "outputs": [],
      "source": [
        "unembed_io_directions = model.tokens_to_residual_directions(answer_tokens[:, 0])\n",
        "unembed_s_directions = model.tokens_to_residual_directions(answer_tokens[:, 1])\n",
        "unembed_diff_directions = unembed_io_directions - unembed_s_directions\n",
        "\n",
        "target_intervene_direction = unembed_io_directions\n",
        "ln_on = True\n",
        "ca, cb, cc = calc_all_logit_diffs(clean_cache)"
      ]
    },
    {
      "cell_type": "code",
      "execution_count": 279,
      "metadata": {},
      "outputs": [],
      "source": [
        "def project_stuff_on_heads(project_heads, project_only = False, scale_proj = 1, output = \"display_logits\", freeze_ln = False):\n",
        "    model.reset_hooks()\n",
        "\n",
        "    # project_heads is a list of tuples (layer, head). for each layer, write a hook which projects all the heads from the layer\n",
        "    for layer in range(model.cfg.n_layers):\n",
        "        key_heads = [head[1] for head in project_heads if head[0] == layer]\n",
        "        if len(key_heads) > 0:\n",
        "            #print(key_heads)\n",
        "            model.add_hook(utils.get_act_name(\"result\", layer), partial(project_vector_operation, vector = target_intervene_direction, heads = key_heads, scale_proj = scale_proj, project_only = project_only))\n",
        "            \n",
        "    if freeze_ln:\n",
        "        for layer in [9,10,11]:\n",
        "            model.add_hook(\"blocks.\" + str(layer) + \".ln1.hook_scale\", patch_ln_scale)\n",
        "            model.add_hook(\"blocks.\" + str(layer) + \".ln2.hook_scale\", patch_ln2_scale)\n",
        "        model.add_hook(\"ln_final.hook_scale\", patch_last_ln)\n",
        "\n",
        "    hooked_logits, hooked_cache = model.run_with_cache(clean_tokens)\n",
        "    model.reset_hooks()\n",
        "    if output == \"display_logits\":\n",
        "        return display_all_logits(hooked_cache, comparison=True, logits = hooked_logits, title = f\"Projecting {('only' if project_only else 'away')} IO direction in heads {project_heads}\")\n",
        "    elif output == \"get_ldd\":\n",
        "        a,_,_ = calc_all_logit_diffs(hooked_cache)\n",
        "        \n",
        "        return a - ca"
      ]
    },
    {
      "cell_type": "code",
      "execution_count": 298,
      "metadata": {},
      "outputs": [],
      "source": [
        "def compare_intervention_ldds_with_sample_ablated(all_ldds, ldds_names, heads = key_backup_heads, just_logits = False):\n",
        "    results = torch.zeros((len(all_ldds), len(heads)))\n",
        "    \n",
        "\n",
        "    if just_logits:\n",
        "        for ldd_index, compare_ldds in enumerate(all_ldds):\n",
        "            for i, head in enumerate(heads):\n",
        "                #print(head)\n",
        "                results[ldd_index, i] = ((compare_ldds[head[0], head[1]]).item()) # / noise_sample_ablating_results[head[0], head[1]]).item())\n",
        "    else:\n",
        "        for ldd_index, compare_ldds in enumerate(all_ldds):\n",
        "            for i, head in enumerate(heads):\n",
        "                #print(head)\n",
        "                results[ldd_index, i] = ((compare_ldds[head[0], head[1]] / noise_sample_ablating_results[head[0], head[1]]).item())\n",
        "    \n",
        "    return imshow(\n",
        "        results,\n",
        "        #facet_col = 0,\n",
        "        #labels = [f\"Head {head}\" for head in key_backup_heads],\n",
        "        title=f\"The {'Ratio of Backup (Logit Diff Diff)' if not just_logits else 'Logit Diff Diffs'} of Intervention\" + (\"to Sample Ablation Backup\" if not just_logits else \"\"),\n",
        "        labels={\"x\": \"Receiver Head\", \"y\": \"Intervention\", \"color\": \"Ratio of Logit Diff Diff to Sample Ablation\" if not just_logits else \"Logit Diff Diff\"},\n",
        "        #coloraxis=dict(colorbar_ticksuffix = \"%\"),\n",
        "        # range of y-axis color from 0 to 2\n",
        "        #color_continuous_scale=\"mint\",\n",
        "        color_continuous_midpoint=1 if not just_logits else 0,\n",
        "        # give x-axis labels\n",
        "        x = [str(head) for head in heads],\n",
        "        y = ldds_names,\n",
        "        border=True,\n",
        "        width=900,\n",
        "        height = 600,\n",
        "        margin={\"r\": 100, \"l\": 100},\n",
        "        # show the values of the results above the heatmap\n",
        "        text_auto = True,\n",
        "        return_fig = True\n",
        "    )"
      ]
    },
    {
      "cell_type": "markdown",
      "metadata": {},
      "source": [
        "get results from replacing all IO directions"
      ]
    },
    {
      "cell_type": "code",
      "execution_count": 281,
      "metadata": {},
      "outputs": [],
      "source": [
        "\n",
        "def run_interventions():\n",
        "    zero_ablate_all_heads_ldds = project_stuff_on_heads([(9,6), (9,9), (10,0)], project_only = True, scale_proj = 0, output = \"get_ldd\", freeze_ln=ln_on)\n",
        "    project_only_io_direction = project_stuff_on_heads([(9,6), (9,9), (10,0)], project_only = True, scale_proj = 1, output = \"get_ldd\", freeze_ln=ln_on)\n",
        "    project_away_io_direction = project_stuff_on_heads([(9,6), (9,9), (10,0)], project_only = False, scale_proj = 1, output = \"get_ldd\", freeze_ln=ln_on)\n",
        "\n",
        "    target_heads = [(9,6), (9,9), (10,0)]\n",
        "    model.reset_hooks()\n",
        "\n",
        "    if ln_on:\n",
        "        for layer in [9,10,11]:\n",
        "            model.add_hook(\"blocks.\" + str(layer) + \".ln1.hook_scale\", patch_ln_scale)\n",
        "            model.add_hook(\"blocks.\" + str(layer) + \".ln2.hook_scale\", patch_ln2_scale)\n",
        "        model.add_hook(\"ln_final.hook_scale\", patch_last_ln)\n",
        "\n",
        "    for head in target_heads:\n",
        "        \n",
        "        # get the output of head on CORRUPTED RUN\n",
        "        W_O_temp = model.W_O[head[0], head[1]]\n",
        "        layer_z = corrupted_cache[utils.get_act_name(\"z\", head[0])]\n",
        "        layer_result = einops.einsum(W_O_temp, layer_z, \"d_head d_model, batch seq h_idx d_head -> batch seq h_idx d_model\")\n",
        "        output_head = layer_result[:, -1, head[1], :]\n",
        "\n",
        "        # get projection of CORRUPTED HEAD OUTPUT onto IO token\n",
        "        corrupted_head_only_IO_output = get_projection(output_head, target_intervene_direction)\n",
        "        \n",
        "        # add hook to now replace with this corrupted IO direction\n",
        "        model.add_hook(utils.get_act_name(\"result\", head[0]), partial(project_away_component_and_replace_with_something_else, project_away_vector = target_intervene_direction, heads = [head[1]], replace_vector = corrupted_head_only_IO_output))\n",
        "\n",
        "    replace_with_new_IO_logits, replace_with_new_IO_cache = model.run_with_cache(clean_tokens)\n",
        "\n",
        "    replace_all_IOs_ldds = calc_all_logit_diffs(replace_with_new_IO_cache)[0] - ca\n",
        "    model.reset_hooks()\n",
        "\n",
        "    target_heads = [(9,6), (9,9), (10,0)]\n",
        "    model.reset_hooks()\n",
        "    if ln_on:\n",
        "        for layer in [9,10,11]:\n",
        "                    model.add_hook(\"blocks.\" + str(layer) + \".ln1.hook_scale\", patch_ln_scale)\n",
        "                    model.add_hook(\"blocks.\" + str(layer) + \".ln2.hook_scale\", patch_ln2_scale)\n",
        "\n",
        "    model.add_hook(\"ln_final.hook_scale\", patch_last_ln)\n",
        "    for head in target_heads:\n",
        "        \n",
        "        # get the output of head on CORRUPTED RUN\n",
        "        W_O_temp = model.W_O[head[0], head[1]]\n",
        "        layer_z = corrupted_cache[utils.get_act_name(\"z\", head[0])]\n",
        "        layer_result = einops.einsum(W_O_temp, layer_z, \"d_head d_model, batch seq h_idx d_head -> batch seq h_idx d_model\")\n",
        "        output_head = layer_result[:, -1, head[1], :]\n",
        "\n",
        "        \n",
        "        # get projection of CORRUPTED HEAD OUTPUT onto IO perp token\n",
        "        corrupted_head_only_IO_output = get_projection(output_head, target_intervene_direction)\n",
        "        everything_else_but_that = output_head - corrupted_head_only_IO_output\n",
        "        \n",
        "        # add hook to now replace with this corrupted IO perp direction\n",
        "        model.add_hook(utils.get_act_name(\"result\", head[0]), partial(project_away_component_and_replace_with_something_else, project_away_vector = target_intervene_direction, heads = [head[1]], replace_vector = everything_else_but_that, project_only = True))\n",
        "\n",
        "    replace_with_new_perp_IO_logits, replace_with_new_perp_IO_cache = model.run_with_cache(clean_tokens)\n",
        "    replace_all_perp_IOs_ldds = calc_all_logit_diffs(replace_with_new_perp_IO_cache)[0] - ca\n",
        "    model.reset_hooks()\n",
        "\n",
        "    return [zero_ablate_all_heads_ldds, project_only_io_direction, replace_all_perp_IOs_ldds, project_away_io_direction, replace_all_IOs_ldds]"
      ]
    },
    {
      "cell_type": "code",
      "execution_count": null,
      "metadata": {},
      "outputs": [],
      "source": [
        "third_intervention = run_interventions()"
      ]
    },
    {
      "cell_type": "code",
      "execution_count": null,
      "metadata": {},
      "outputs": [],
      "source": [
        "second_intervention = run_interventions()"
      ]
    },
    {
      "cell_type": "code",
      "execution_count": null,
      "metadata": {},
      "outputs": [],
      "source": [
        "new_intervention = run_interventions()"
      ]
    },
    {
      "cell_type": "code",
      "execution_count": 293,
      "metadata": {},
      "outputs": [
        {
          "data": {
            "text/plain": [
              "5"
            ]
          },
          "execution_count": 293,
          "metadata": {},
          "output_type": "execute_result"
        }
      ],
      "source": [
        "len(average_interventions)"
      ]
    },
    {
      "cell_type": "code",
      "execution_count": 292,
      "metadata": {},
      "outputs": [],
      "source": [
        "# average across all three interventions\n",
        "all_interventions = [third_intervention, second_intervention, new_intervention]\n",
        "average_interventions = []\n",
        "for i in range(len(third_intervention)):\n",
        "    average_interventions.append((third_intervention[i] + second_intervention[i] + new_intervention[i]) / 3)"
      ]
    },
    {
      "cell_type": "markdown",
      "metadata": {},
      "source": [
        "get results from replacing all perp to IO directions"
      ]
    },
    {
      "cell_type": "code",
      "execution_count": 328,
      "metadata": {},
      "outputs": [
        {
          "data": {
            "application/vnd.plotly.v1+json": {
              "config": {
                "plotlyServerURL": "https://plot.ly"
              },
              "data": [
                {
                  "coloraxis": "coloraxis",
                  "hovertemplate": "Receiver Head: %{x}<br>Intervention: %{y}<br>Logit Diff Diff: %{z}<extra></extra>",
                  "name": "0",
                  "texttemplate": "%{z}",
                  "type": "heatmap",
                  "x": [
                    "(10, 2)",
                    "(10, 6)",
                    "(10, 10)",
                    "(11, 2)",
                    "(10, 7)",
                    "(11, 10)"
                  ],
                  "xaxis": "x",
                  "y": [
                    "Clean Run",
                    "Zero Ablation of NMHs",
                    "Project Only IO Direction (Zero ⊥ IO direction)",
                    "Replace ⊥ IO directions with Corrupted ⊥ IO directions",
                    "Project Away IO Direction (Zero IO direction)",
                    "Replace IO directions with Corrupted IO directions",
                    "Sample Ablation of NMHs"
                  ],
                  "yaxis": "y",
                  "z": [
                    [
                      0,
                      0,
                      0,
                      0,
                      0,
                      0
                    ],
                    [
                      0.5932354927062988,
                      0.32652726769447327,
                      0.7795109748840332,
                      0.9403886795043945,
                      2.405292510986328,
                      -0.35287541151046753
                    ],
                    [
                      0.4287705421447754,
                      0.3933227062225342,
                      0.8362807631492615,
                      0.08308199048042297,
                      1.5456724166870117,
                      -0.7019073367118835
                    ],
                    [
                      0.34603556990623474,
                      0.3103703558444977,
                      0.6667260527610779,
                      0.17481839656829834,
                      1.6060118675231934,
                      -0.5088731050491333
                    ],
                    [
                      0.10479064285755157,
                      -0.03843992203474045,
                      -0.026416271924972534,
                      0.37434303760528564,
                      0.81772780418396,
                      0.4007070064544678
                    ],
                    [
                      0.10080835223197937,
                      -0.037278514355421066,
                      -0.025456270202994347,
                      0.35531753301620483,
                      0.7862197160720825,
                      0.38674116134643555
                    ],
                    [
                      0.6016330122947693,
                      0.3538908064365387,
                      0.8615529537200928,
                      0.9265639781951904,
                      2.378718852996826,
                      -0.3699657917022705
                    ]
                  ]
                }
              ],
              "layout": {
                "coloraxis": {
                  "cmid": 0,
                  "colorbar": {
                    "title": {
                      "text": "Logit Diff Diff"
                    }
                  },
                  "colorscale": [
                    [
                      0,
                      "rgb(103,0,31)"
                    ],
                    [
                      0.1,
                      "rgb(178,24,43)"
                    ],
                    [
                      0.2,
                      "rgb(214,96,77)"
                    ],
                    [
                      0.3,
                      "rgb(244,165,130)"
                    ],
                    [
                      0.4,
                      "rgb(253,219,199)"
                    ],
                    [
                      0.5,
                      "rgb(247,247,247)"
                    ],
                    [
                      0.6,
                      "rgb(209,229,240)"
                    ],
                    [
                      0.7,
                      "rgb(146,197,222)"
                    ],
                    [
                      0.8,
                      "rgb(67,147,195)"
                    ],
                    [
                      0.9,
                      "rgb(33,102,172)"
                    ],
                    [
                      1,
                      "rgb(5,48,97)"
                    ]
                  ]
                },
                "height": 600,
                "margin": {
                  "l": 100,
                  "r": 100
                },
                "template": {
                  "data": {
                    "bar": [
                      {
                        "error_x": {
                          "color": "#2a3f5f"
                        },
                        "error_y": {
                          "color": "#2a3f5f"
                        },
                        "marker": {
                          "line": {
                            "color": "#E5ECF6",
                            "width": 0.5
                          },
                          "pattern": {
                            "fillmode": "overlay",
                            "size": 10,
                            "solidity": 0.2
                          }
                        },
                        "type": "bar"
                      }
                    ],
                    "barpolar": [
                      {
                        "marker": {
                          "line": {
                            "color": "#E5ECF6",
                            "width": 0.5
                          },
                          "pattern": {
                            "fillmode": "overlay",
                            "size": 10,
                            "solidity": 0.2
                          }
                        },
                        "type": "barpolar"
                      }
                    ],
                    "carpet": [
                      {
                        "aaxis": {
                          "endlinecolor": "#2a3f5f",
                          "gridcolor": "white",
                          "linecolor": "white",
                          "minorgridcolor": "white",
                          "startlinecolor": "#2a3f5f"
                        },
                        "baxis": {
                          "endlinecolor": "#2a3f5f",
                          "gridcolor": "white",
                          "linecolor": "white",
                          "minorgridcolor": "white",
                          "startlinecolor": "#2a3f5f"
                        },
                        "type": "carpet"
                      }
                    ],
                    "choropleth": [
                      {
                        "colorbar": {
                          "outlinewidth": 0,
                          "ticks": ""
                        },
                        "type": "choropleth"
                      }
                    ],
                    "contour": [
                      {
                        "colorbar": {
                          "outlinewidth": 0,
                          "ticks": ""
                        },
                        "colorscale": [
                          [
                            0,
                            "#0d0887"
                          ],
                          [
                            0.1111111111111111,
                            "#46039f"
                          ],
                          [
                            0.2222222222222222,
                            "#7201a8"
                          ],
                          [
                            0.3333333333333333,
                            "#9c179e"
                          ],
                          [
                            0.4444444444444444,
                            "#bd3786"
                          ],
                          [
                            0.5555555555555556,
                            "#d8576b"
                          ],
                          [
                            0.6666666666666666,
                            "#ed7953"
                          ],
                          [
                            0.7777777777777778,
                            "#fb9f3a"
                          ],
                          [
                            0.8888888888888888,
                            "#fdca26"
                          ],
                          [
                            1,
                            "#f0f921"
                          ]
                        ],
                        "type": "contour"
                      }
                    ],
                    "contourcarpet": [
                      {
                        "colorbar": {
                          "outlinewidth": 0,
                          "ticks": ""
                        },
                        "type": "contourcarpet"
                      }
                    ],
                    "heatmap": [
                      {
                        "colorbar": {
                          "outlinewidth": 0,
                          "ticks": ""
                        },
                        "colorscale": [
                          [
                            0,
                            "#0d0887"
                          ],
                          [
                            0.1111111111111111,
                            "#46039f"
                          ],
                          [
                            0.2222222222222222,
                            "#7201a8"
                          ],
                          [
                            0.3333333333333333,
                            "#9c179e"
                          ],
                          [
                            0.4444444444444444,
                            "#bd3786"
                          ],
                          [
                            0.5555555555555556,
                            "#d8576b"
                          ],
                          [
                            0.6666666666666666,
                            "#ed7953"
                          ],
                          [
                            0.7777777777777778,
                            "#fb9f3a"
                          ],
                          [
                            0.8888888888888888,
                            "#fdca26"
                          ],
                          [
                            1,
                            "#f0f921"
                          ]
                        ],
                        "type": "heatmap"
                      }
                    ],
                    "heatmapgl": [
                      {
                        "colorbar": {
                          "outlinewidth": 0,
                          "ticks": ""
                        },
                        "colorscale": [
                          [
                            0,
                            "#0d0887"
                          ],
                          [
                            0.1111111111111111,
                            "#46039f"
                          ],
                          [
                            0.2222222222222222,
                            "#7201a8"
                          ],
                          [
                            0.3333333333333333,
                            "#9c179e"
                          ],
                          [
                            0.4444444444444444,
                            "#bd3786"
                          ],
                          [
                            0.5555555555555556,
                            "#d8576b"
                          ],
                          [
                            0.6666666666666666,
                            "#ed7953"
                          ],
                          [
                            0.7777777777777778,
                            "#fb9f3a"
                          ],
                          [
                            0.8888888888888888,
                            "#fdca26"
                          ],
                          [
                            1,
                            "#f0f921"
                          ]
                        ],
                        "type": "heatmapgl"
                      }
                    ],
                    "histogram": [
                      {
                        "marker": {
                          "pattern": {
                            "fillmode": "overlay",
                            "size": 10,
                            "solidity": 0.2
                          }
                        },
                        "type": "histogram"
                      }
                    ],
                    "histogram2d": [
                      {
                        "colorbar": {
                          "outlinewidth": 0,
                          "ticks": ""
                        },
                        "colorscale": [
                          [
                            0,
                            "#0d0887"
                          ],
                          [
                            0.1111111111111111,
                            "#46039f"
                          ],
                          [
                            0.2222222222222222,
                            "#7201a8"
                          ],
                          [
                            0.3333333333333333,
                            "#9c179e"
                          ],
                          [
                            0.4444444444444444,
                            "#bd3786"
                          ],
                          [
                            0.5555555555555556,
                            "#d8576b"
                          ],
                          [
                            0.6666666666666666,
                            "#ed7953"
                          ],
                          [
                            0.7777777777777778,
                            "#fb9f3a"
                          ],
                          [
                            0.8888888888888888,
                            "#fdca26"
                          ],
                          [
                            1,
                            "#f0f921"
                          ]
                        ],
                        "type": "histogram2d"
                      }
                    ],
                    "histogram2dcontour": [
                      {
                        "colorbar": {
                          "outlinewidth": 0,
                          "ticks": ""
                        },
                        "colorscale": [
                          [
                            0,
                            "#0d0887"
                          ],
                          [
                            0.1111111111111111,
                            "#46039f"
                          ],
                          [
                            0.2222222222222222,
                            "#7201a8"
                          ],
                          [
                            0.3333333333333333,
                            "#9c179e"
                          ],
                          [
                            0.4444444444444444,
                            "#bd3786"
                          ],
                          [
                            0.5555555555555556,
                            "#d8576b"
                          ],
                          [
                            0.6666666666666666,
                            "#ed7953"
                          ],
                          [
                            0.7777777777777778,
                            "#fb9f3a"
                          ],
                          [
                            0.8888888888888888,
                            "#fdca26"
                          ],
                          [
                            1,
                            "#f0f921"
                          ]
                        ],
                        "type": "histogram2dcontour"
                      }
                    ],
                    "mesh3d": [
                      {
                        "colorbar": {
                          "outlinewidth": 0,
                          "ticks": ""
                        },
                        "type": "mesh3d"
                      }
                    ],
                    "parcoords": [
                      {
                        "line": {
                          "colorbar": {
                            "outlinewidth": 0,
                            "ticks": ""
                          }
                        },
                        "type": "parcoords"
                      }
                    ],
                    "pie": [
                      {
                        "automargin": true,
                        "type": "pie"
                      }
                    ],
                    "scatter": [
                      {
                        "fillpattern": {
                          "fillmode": "overlay",
                          "size": 10,
                          "solidity": 0.2
                        },
                        "type": "scatter"
                      }
                    ],
                    "scatter3d": [
                      {
                        "line": {
                          "colorbar": {
                            "outlinewidth": 0,
                            "ticks": ""
                          }
                        },
                        "marker": {
                          "colorbar": {
                            "outlinewidth": 0,
                            "ticks": ""
                          }
                        },
                        "type": "scatter3d"
                      }
                    ],
                    "scattercarpet": [
                      {
                        "marker": {
                          "colorbar": {
                            "outlinewidth": 0,
                            "ticks": ""
                          }
                        },
                        "type": "scattercarpet"
                      }
                    ],
                    "scattergeo": [
                      {
                        "marker": {
                          "colorbar": {
                            "outlinewidth": 0,
                            "ticks": ""
                          }
                        },
                        "type": "scattergeo"
                      }
                    ],
                    "scattergl": [
                      {
                        "marker": {
                          "colorbar": {
                            "outlinewidth": 0,
                            "ticks": ""
                          }
                        },
                        "type": "scattergl"
                      }
                    ],
                    "scattermapbox": [
                      {
                        "marker": {
                          "colorbar": {
                            "outlinewidth": 0,
                            "ticks": ""
                          }
                        },
                        "type": "scattermapbox"
                      }
                    ],
                    "scatterpolar": [
                      {
                        "marker": {
                          "colorbar": {
                            "outlinewidth": 0,
                            "ticks": ""
                          }
                        },
                        "type": "scatterpolar"
                      }
                    ],
                    "scatterpolargl": [
                      {
                        "marker": {
                          "colorbar": {
                            "outlinewidth": 0,
                            "ticks": ""
                          }
                        },
                        "type": "scatterpolargl"
                      }
                    ],
                    "scatterternary": [
                      {
                        "marker": {
                          "colorbar": {
                            "outlinewidth": 0,
                            "ticks": ""
                          }
                        },
                        "type": "scatterternary"
                      }
                    ],
                    "surface": [
                      {
                        "colorbar": {
                          "outlinewidth": 0,
                          "ticks": ""
                        },
                        "colorscale": [
                          [
                            0,
                            "#0d0887"
                          ],
                          [
                            0.1111111111111111,
                            "#46039f"
                          ],
                          [
                            0.2222222222222222,
                            "#7201a8"
                          ],
                          [
                            0.3333333333333333,
                            "#9c179e"
                          ],
                          [
                            0.4444444444444444,
                            "#bd3786"
                          ],
                          [
                            0.5555555555555556,
                            "#d8576b"
                          ],
                          [
                            0.6666666666666666,
                            "#ed7953"
                          ],
                          [
                            0.7777777777777778,
                            "#fb9f3a"
                          ],
                          [
                            0.8888888888888888,
                            "#fdca26"
                          ],
                          [
                            1,
                            "#f0f921"
                          ]
                        ],
                        "type": "surface"
                      }
                    ],
                    "table": [
                      {
                        "cells": {
                          "fill": {
                            "color": "#EBF0F8"
                          },
                          "line": {
                            "color": "white"
                          }
                        },
                        "header": {
                          "fill": {
                            "color": "#C8D4E3"
                          },
                          "line": {
                            "color": "white"
                          }
                        },
                        "type": "table"
                      }
                    ]
                  },
                  "layout": {
                    "annotationdefaults": {
                      "arrowcolor": "#2a3f5f",
                      "arrowhead": 0,
                      "arrowwidth": 1
                    },
                    "autotypenumbers": "strict",
                    "coloraxis": {
                      "colorbar": {
                        "outlinewidth": 0,
                        "ticks": ""
                      }
                    },
                    "colorscale": {
                      "diverging": [
                        [
                          0,
                          "#8e0152"
                        ],
                        [
                          0.1,
                          "#c51b7d"
                        ],
                        [
                          0.2,
                          "#de77ae"
                        ],
                        [
                          0.3,
                          "#f1b6da"
                        ],
                        [
                          0.4,
                          "#fde0ef"
                        ],
                        [
                          0.5,
                          "#f7f7f7"
                        ],
                        [
                          0.6,
                          "#e6f5d0"
                        ],
                        [
                          0.7,
                          "#b8e186"
                        ],
                        [
                          0.8,
                          "#7fbc41"
                        ],
                        [
                          0.9,
                          "#4d9221"
                        ],
                        [
                          1,
                          "#276419"
                        ]
                      ],
                      "sequential": [
                        [
                          0,
                          "#0d0887"
                        ],
                        [
                          0.1111111111111111,
                          "#46039f"
                        ],
                        [
                          0.2222222222222222,
                          "#7201a8"
                        ],
                        [
                          0.3333333333333333,
                          "#9c179e"
                        ],
                        [
                          0.4444444444444444,
                          "#bd3786"
                        ],
                        [
                          0.5555555555555556,
                          "#d8576b"
                        ],
                        [
                          0.6666666666666666,
                          "#ed7953"
                        ],
                        [
                          0.7777777777777778,
                          "#fb9f3a"
                        ],
                        [
                          0.8888888888888888,
                          "#fdca26"
                        ],
                        [
                          1,
                          "#f0f921"
                        ]
                      ],
                      "sequentialminus": [
                        [
                          0,
                          "#0d0887"
                        ],
                        [
                          0.1111111111111111,
                          "#46039f"
                        ],
                        [
                          0.2222222222222222,
                          "#7201a8"
                        ],
                        [
                          0.3333333333333333,
                          "#9c179e"
                        ],
                        [
                          0.4444444444444444,
                          "#bd3786"
                        ],
                        [
                          0.5555555555555556,
                          "#d8576b"
                        ],
                        [
                          0.6666666666666666,
                          "#ed7953"
                        ],
                        [
                          0.7777777777777778,
                          "#fb9f3a"
                        ],
                        [
                          0.8888888888888888,
                          "#fdca26"
                        ],
                        [
                          1,
                          "#f0f921"
                        ]
                      ]
                    },
                    "colorway": [
                      "#636efa",
                      "#EF553B",
                      "#00cc96",
                      "#ab63fa",
                      "#FFA15A",
                      "#19d3f3",
                      "#FF6692",
                      "#B6E880",
                      "#FF97FF",
                      "#FECB52"
                    ],
                    "font": {
                      "color": "#2a3f5f"
                    },
                    "geo": {
                      "bgcolor": "white",
                      "lakecolor": "white",
                      "landcolor": "#E5ECF6",
                      "showlakes": true,
                      "showland": true,
                      "subunitcolor": "white"
                    },
                    "hoverlabel": {
                      "align": "left"
                    },
                    "hovermode": "closest",
                    "mapbox": {
                      "style": "light"
                    },
                    "paper_bgcolor": "white",
                    "plot_bgcolor": "#E5ECF6",
                    "polar": {
                      "angularaxis": {
                        "gridcolor": "white",
                        "linecolor": "white",
                        "ticks": ""
                      },
                      "bgcolor": "#E5ECF6",
                      "radialaxis": {
                        "gridcolor": "white",
                        "linecolor": "white",
                        "ticks": ""
                      }
                    },
                    "scene": {
                      "xaxis": {
                        "backgroundcolor": "#E5ECF6",
                        "gridcolor": "white",
                        "gridwidth": 2,
                        "linecolor": "white",
                        "showbackground": true,
                        "ticks": "",
                        "zerolinecolor": "white"
                      },
                      "yaxis": {
                        "backgroundcolor": "#E5ECF6",
                        "gridcolor": "white",
                        "gridwidth": 2,
                        "linecolor": "white",
                        "showbackground": true,
                        "ticks": "",
                        "zerolinecolor": "white"
                      },
                      "zaxis": {
                        "backgroundcolor": "#E5ECF6",
                        "gridcolor": "white",
                        "gridwidth": 2,
                        "linecolor": "white",
                        "showbackground": true,
                        "ticks": "",
                        "zerolinecolor": "white"
                      }
                    },
                    "shapedefaults": {
                      "line": {
                        "color": "#2a3f5f"
                      }
                    },
                    "ternary": {
                      "aaxis": {
                        "gridcolor": "white",
                        "linecolor": "white",
                        "ticks": ""
                      },
                      "baxis": {
                        "gridcolor": "white",
                        "linecolor": "white",
                        "ticks": ""
                      },
                      "bgcolor": "#E5ECF6",
                      "caxis": {
                        "gridcolor": "white",
                        "linecolor": "white",
                        "ticks": ""
                      }
                    },
                    "title": {
                      "x": 0.05
                    },
                    "xaxis": {
                      "automargin": true,
                      "gridcolor": "white",
                      "linecolor": "white",
                      "ticks": "",
                      "title": {
                        "standoff": 15
                      },
                      "zerolinecolor": "white",
                      "zerolinewidth": 2
                    },
                    "yaxis": {
                      "automargin": true,
                      "gridcolor": "white",
                      "linecolor": "white",
                      "ticks": "",
                      "title": {
                        "standoff": 15
                      },
                      "zerolinecolor": "white",
                      "zerolinewidth": 2
                    }
                  }
                },
                "title": {
                  "text": "The Logit Diff Diffs of Intervention"
                },
                "width": 900,
                "xaxis": {
                  "anchor": "y",
                  "constrain": "domain",
                  "domain": [
                    0,
                    1
                  ],
                  "linecolor": "black",
                  "linewidth": 1,
                  "mirror": true,
                  "scaleanchor": "y",
                  "showline": true,
                  "title": {
                    "text": "Receiver Head"
                  }
                },
                "yaxis": {
                  "anchor": "x",
                  "autorange": "reversed",
                  "constrain": "domain",
                  "domain": [
                    0,
                    1
                  ],
                  "linecolor": "black",
                  "linewidth": 1,
                  "mirror": true,
                  "showline": true,
                  "title": {
                    "text": "Intervention"
                  }
                }
              }
            },
            "text/html": [
              "<div>                            <div id=\"3d43e6e8-93fc-41a7-8efd-e717f4f588e7\" class=\"plotly-graph-div\" style=\"height:600px; width:900px;\"></div>            <script type=\"text/javascript\">                require([\"plotly\"], function(Plotly) {                    window.PLOTLYENV=window.PLOTLYENV || {};                                    if (document.getElementById(\"3d43e6e8-93fc-41a7-8efd-e717f4f588e7\")) {                    Plotly.newPlot(                        \"3d43e6e8-93fc-41a7-8efd-e717f4f588e7\",                        [{\"coloraxis\":\"coloraxis\",\"name\":\"0\",\"texttemplate\":\"%{z}\",\"x\":[\"(10, 2)\",\"(10, 6)\",\"(10, 10)\",\"(11, 2)\",\"(10, 7)\",\"(11, 10)\"],\"y\":[\"Clean Run\",\"Zero Ablation of NMHs\",\"Project Only IO Direction (Zero \\u22a5 IO direction)\",\"Replace \\u22a5 IO directions with Corrupted \\u22a5 IO directions\",\"Project Away IO Direction (Zero IO direction)\",\"Replace IO directions with Corrupted IO directions\",\"Sample Ablation of NMHs\"],\"z\":[[0.0,0.0,0.0,0.0,0.0,0.0],[0.5932354927062988,0.32652726769447327,0.7795109748840332,0.9403886795043945,2.405292510986328,-0.35287541151046753],[0.4287705421447754,0.3933227062225342,0.8362807631492615,0.08308199048042297,1.5456724166870117,-0.7019073367118835],[0.34603556990623474,0.3103703558444977,0.6667260527610779,0.17481839656829834,1.6060118675231934,-0.5088731050491333],[0.10479064285755157,-0.03843992203474045,-0.026416271924972534,0.37434303760528564,0.81772780418396,0.4007070064544678],[0.10080835223197937,-0.037278514355421066,-0.025456270202994347,0.35531753301620483,0.7862197160720825,0.38674116134643555],[0.6016330122947693,0.3538908064365387,0.8615529537200928,0.9265639781951904,2.378718852996826,-0.3699657917022705]],\"type\":\"heatmap\",\"xaxis\":\"x\",\"yaxis\":\"y\",\"hovertemplate\":\"Receiver Head: %{x}\\u003cbr\\u003eIntervention: %{y}\\u003cbr\\u003eLogit Diff Diff: %{z}\\u003cextra\\u003e\\u003c\\u002fextra\\u003e\"}],                        {\"template\":{\"data\":{\"histogram2dcontour\":[{\"type\":\"histogram2dcontour\",\"colorbar\":{\"outlinewidth\":0,\"ticks\":\"\"},\"colorscale\":[[0.0,\"#0d0887\"],[0.1111111111111111,\"#46039f\"],[0.2222222222222222,\"#7201a8\"],[0.3333333333333333,\"#9c179e\"],[0.4444444444444444,\"#bd3786\"],[0.5555555555555556,\"#d8576b\"],[0.6666666666666666,\"#ed7953\"],[0.7777777777777778,\"#fb9f3a\"],[0.8888888888888888,\"#fdca26\"],[1.0,\"#f0f921\"]]}],\"choropleth\":[{\"type\":\"choropleth\",\"colorbar\":{\"outlinewidth\":0,\"ticks\":\"\"}}],\"histogram2d\":[{\"type\":\"histogram2d\",\"colorbar\":{\"outlinewidth\":0,\"ticks\":\"\"},\"colorscale\":[[0.0,\"#0d0887\"],[0.1111111111111111,\"#46039f\"],[0.2222222222222222,\"#7201a8\"],[0.3333333333333333,\"#9c179e\"],[0.4444444444444444,\"#bd3786\"],[0.5555555555555556,\"#d8576b\"],[0.6666666666666666,\"#ed7953\"],[0.7777777777777778,\"#fb9f3a\"],[0.8888888888888888,\"#fdca26\"],[1.0,\"#f0f921\"]]}],\"heatmap\":[{\"type\":\"heatmap\",\"colorbar\":{\"outlinewidth\":0,\"ticks\":\"\"},\"colorscale\":[[0.0,\"#0d0887\"],[0.1111111111111111,\"#46039f\"],[0.2222222222222222,\"#7201a8\"],[0.3333333333333333,\"#9c179e\"],[0.4444444444444444,\"#bd3786\"],[0.5555555555555556,\"#d8576b\"],[0.6666666666666666,\"#ed7953\"],[0.7777777777777778,\"#fb9f3a\"],[0.8888888888888888,\"#fdca26\"],[1.0,\"#f0f921\"]]}],\"heatmapgl\":[{\"type\":\"heatmapgl\",\"colorbar\":{\"outlinewidth\":0,\"ticks\":\"\"},\"colorscale\":[[0.0,\"#0d0887\"],[0.1111111111111111,\"#46039f\"],[0.2222222222222222,\"#7201a8\"],[0.3333333333333333,\"#9c179e\"],[0.4444444444444444,\"#bd3786\"],[0.5555555555555556,\"#d8576b\"],[0.6666666666666666,\"#ed7953\"],[0.7777777777777778,\"#fb9f3a\"],[0.8888888888888888,\"#fdca26\"],[1.0,\"#f0f921\"]]}],\"contourcarpet\":[{\"type\":\"contourcarpet\",\"colorbar\":{\"outlinewidth\":0,\"ticks\":\"\"}}],\"contour\":[{\"type\":\"contour\",\"colorbar\":{\"outlinewidth\":0,\"ticks\":\"\"},\"colorscale\":[[0.0,\"#0d0887\"],[0.1111111111111111,\"#46039f\"],[0.2222222222222222,\"#7201a8\"],[0.3333333333333333,\"#9c179e\"],[0.4444444444444444,\"#bd3786\"],[0.5555555555555556,\"#d8576b\"],[0.6666666666666666,\"#ed7953\"],[0.7777777777777778,\"#fb9f3a\"],[0.8888888888888888,\"#fdca26\"],[1.0,\"#f0f921\"]]}],\"surface\":[{\"type\":\"surface\",\"colorbar\":{\"outlinewidth\":0,\"ticks\":\"\"},\"colorscale\":[[0.0,\"#0d0887\"],[0.1111111111111111,\"#46039f\"],[0.2222222222222222,\"#7201a8\"],[0.3333333333333333,\"#9c179e\"],[0.4444444444444444,\"#bd3786\"],[0.5555555555555556,\"#d8576b\"],[0.6666666666666666,\"#ed7953\"],[0.7777777777777778,\"#fb9f3a\"],[0.8888888888888888,\"#fdca26\"],[1.0,\"#f0f921\"]]}],\"mesh3d\":[{\"type\":\"mesh3d\",\"colorbar\":{\"outlinewidth\":0,\"ticks\":\"\"}}],\"scatter\":[{\"fillpattern\":{\"fillmode\":\"overlay\",\"size\":10,\"solidity\":0.2},\"type\":\"scatter\"}],\"parcoords\":[{\"type\":\"parcoords\",\"line\":{\"colorbar\":{\"outlinewidth\":0,\"ticks\":\"\"}}}],\"scatterpolargl\":[{\"type\":\"scatterpolargl\",\"marker\":{\"colorbar\":{\"outlinewidth\":0,\"ticks\":\"\"}}}],\"bar\":[{\"error_x\":{\"color\":\"#2a3f5f\"},\"error_y\":{\"color\":\"#2a3f5f\"},\"marker\":{\"line\":{\"color\":\"#E5ECF6\",\"width\":0.5},\"pattern\":{\"fillmode\":\"overlay\",\"size\":10,\"solidity\":0.2}},\"type\":\"bar\"}],\"scattergeo\":[{\"type\":\"scattergeo\",\"marker\":{\"colorbar\":{\"outlinewidth\":0,\"ticks\":\"\"}}}],\"scatterpolar\":[{\"type\":\"scatterpolar\",\"marker\":{\"colorbar\":{\"outlinewidth\":0,\"ticks\":\"\"}}}],\"histogram\":[{\"marker\":{\"pattern\":{\"fillmode\":\"overlay\",\"size\":10,\"solidity\":0.2}},\"type\":\"histogram\"}],\"scattergl\":[{\"type\":\"scattergl\",\"marker\":{\"colorbar\":{\"outlinewidth\":0,\"ticks\":\"\"}}}],\"scatter3d\":[{\"type\":\"scatter3d\",\"line\":{\"colorbar\":{\"outlinewidth\":0,\"ticks\":\"\"}},\"marker\":{\"colorbar\":{\"outlinewidth\":0,\"ticks\":\"\"}}}],\"scattermapbox\":[{\"type\":\"scattermapbox\",\"marker\":{\"colorbar\":{\"outlinewidth\":0,\"ticks\":\"\"}}}],\"scatterternary\":[{\"type\":\"scatterternary\",\"marker\":{\"colorbar\":{\"outlinewidth\":0,\"ticks\":\"\"}}}],\"scattercarpet\":[{\"type\":\"scattercarpet\",\"marker\":{\"colorbar\":{\"outlinewidth\":0,\"ticks\":\"\"}}}],\"carpet\":[{\"aaxis\":{\"endlinecolor\":\"#2a3f5f\",\"gridcolor\":\"white\",\"linecolor\":\"white\",\"minorgridcolor\":\"white\",\"startlinecolor\":\"#2a3f5f\"},\"baxis\":{\"endlinecolor\":\"#2a3f5f\",\"gridcolor\":\"white\",\"linecolor\":\"white\",\"minorgridcolor\":\"white\",\"startlinecolor\":\"#2a3f5f\"},\"type\":\"carpet\"}],\"table\":[{\"cells\":{\"fill\":{\"color\":\"#EBF0F8\"},\"line\":{\"color\":\"white\"}},\"header\":{\"fill\":{\"color\":\"#C8D4E3\"},\"line\":{\"color\":\"white\"}},\"type\":\"table\"}],\"barpolar\":[{\"marker\":{\"line\":{\"color\":\"#E5ECF6\",\"width\":0.5},\"pattern\":{\"fillmode\":\"overlay\",\"size\":10,\"solidity\":0.2}},\"type\":\"barpolar\"}],\"pie\":[{\"automargin\":true,\"type\":\"pie\"}]},\"layout\":{\"autotypenumbers\":\"strict\",\"colorway\":[\"#636efa\",\"#EF553B\",\"#00cc96\",\"#ab63fa\",\"#FFA15A\",\"#19d3f3\",\"#FF6692\",\"#B6E880\",\"#FF97FF\",\"#FECB52\"],\"font\":{\"color\":\"#2a3f5f\"},\"hovermode\":\"closest\",\"hoverlabel\":{\"align\":\"left\"},\"paper_bgcolor\":\"white\",\"plot_bgcolor\":\"#E5ECF6\",\"polar\":{\"bgcolor\":\"#E5ECF6\",\"angularaxis\":{\"gridcolor\":\"white\",\"linecolor\":\"white\",\"ticks\":\"\"},\"radialaxis\":{\"gridcolor\":\"white\",\"linecolor\":\"white\",\"ticks\":\"\"}},\"ternary\":{\"bgcolor\":\"#E5ECF6\",\"aaxis\":{\"gridcolor\":\"white\",\"linecolor\":\"white\",\"ticks\":\"\"},\"baxis\":{\"gridcolor\":\"white\",\"linecolor\":\"white\",\"ticks\":\"\"},\"caxis\":{\"gridcolor\":\"white\",\"linecolor\":\"white\",\"ticks\":\"\"}},\"coloraxis\":{\"colorbar\":{\"outlinewidth\":0,\"ticks\":\"\"}},\"colorscale\":{\"sequential\":[[0.0,\"#0d0887\"],[0.1111111111111111,\"#46039f\"],[0.2222222222222222,\"#7201a8\"],[0.3333333333333333,\"#9c179e\"],[0.4444444444444444,\"#bd3786\"],[0.5555555555555556,\"#d8576b\"],[0.6666666666666666,\"#ed7953\"],[0.7777777777777778,\"#fb9f3a\"],[0.8888888888888888,\"#fdca26\"],[1.0,\"#f0f921\"]],\"sequentialminus\":[[0.0,\"#0d0887\"],[0.1111111111111111,\"#46039f\"],[0.2222222222222222,\"#7201a8\"],[0.3333333333333333,\"#9c179e\"],[0.4444444444444444,\"#bd3786\"],[0.5555555555555556,\"#d8576b\"],[0.6666666666666666,\"#ed7953\"],[0.7777777777777778,\"#fb9f3a\"],[0.8888888888888888,\"#fdca26\"],[1.0,\"#f0f921\"]],\"diverging\":[[0,\"#8e0152\"],[0.1,\"#c51b7d\"],[0.2,\"#de77ae\"],[0.3,\"#f1b6da\"],[0.4,\"#fde0ef\"],[0.5,\"#f7f7f7\"],[0.6,\"#e6f5d0\"],[0.7,\"#b8e186\"],[0.8,\"#7fbc41\"],[0.9,\"#4d9221\"],[1,\"#276419\"]]},\"xaxis\":{\"gridcolor\":\"white\",\"linecolor\":\"white\",\"ticks\":\"\",\"title\":{\"standoff\":15},\"zerolinecolor\":\"white\",\"automargin\":true,\"zerolinewidth\":2},\"yaxis\":{\"gridcolor\":\"white\",\"linecolor\":\"white\",\"ticks\":\"\",\"title\":{\"standoff\":15},\"zerolinecolor\":\"white\",\"automargin\":true,\"zerolinewidth\":2},\"scene\":{\"xaxis\":{\"backgroundcolor\":\"#E5ECF6\",\"gridcolor\":\"white\",\"linecolor\":\"white\",\"showbackground\":true,\"ticks\":\"\",\"zerolinecolor\":\"white\",\"gridwidth\":2},\"yaxis\":{\"backgroundcolor\":\"#E5ECF6\",\"gridcolor\":\"white\",\"linecolor\":\"white\",\"showbackground\":true,\"ticks\":\"\",\"zerolinecolor\":\"white\",\"gridwidth\":2},\"zaxis\":{\"backgroundcolor\":\"#E5ECF6\",\"gridcolor\":\"white\",\"linecolor\":\"white\",\"showbackground\":true,\"ticks\":\"\",\"zerolinecolor\":\"white\",\"gridwidth\":2}},\"shapedefaults\":{\"line\":{\"color\":\"#2a3f5f\"}},\"annotationdefaults\":{\"arrowcolor\":\"#2a3f5f\",\"arrowhead\":0,\"arrowwidth\":1},\"geo\":{\"bgcolor\":\"white\",\"landcolor\":\"#E5ECF6\",\"subunitcolor\":\"white\",\"showland\":true,\"showlakes\":true,\"lakecolor\":\"white\"},\"title\":{\"x\":0.05},\"mapbox\":{\"style\":\"light\"}}},\"xaxis\":{\"anchor\":\"y\",\"domain\":[0.0,1.0],\"scaleanchor\":\"y\",\"constrain\":\"domain\",\"title\":{\"text\":\"Receiver Head\"},\"showline\":true,\"linewidth\":1,\"linecolor\":\"black\",\"mirror\":true},\"yaxis\":{\"anchor\":\"x\",\"domain\":[0.0,1.0],\"autorange\":\"reversed\",\"constrain\":\"domain\",\"title\":{\"text\":\"Intervention\"},\"showline\":true,\"linewidth\":1,\"linecolor\":\"black\",\"mirror\":true},\"coloraxis\":{\"colorbar\":{\"title\":{\"text\":\"Logit Diff Diff\"}},\"colorscale\":[[0.0,\"rgb(103,0,31)\"],[0.1,\"rgb(178,24,43)\"],[0.2,\"rgb(214,96,77)\"],[0.3,\"rgb(244,165,130)\"],[0.4,\"rgb(253,219,199)\"],[0.5,\"rgb(247,247,247)\"],[0.6,\"rgb(209,229,240)\"],[0.7,\"rgb(146,197,222)\"],[0.8,\"rgb(67,147,195)\"],[0.9,\"rgb(33,102,172)\"],[1.0,\"rgb(5,48,97)\"]],\"cmid\":0},\"title\":{\"text\":\"The Logit Diff Diffs of Intervention\"},\"height\":600,\"width\":900,\"margin\":{\"r\":100,\"l\":100}},                        {\"responsive\": true}                    ).then(function(){\n",
              "                            \n",
              "var gd = document.getElementById('3d43e6e8-93fc-41a7-8efd-e717f4f588e7');\n",
              "var x = new MutationObserver(function (mutations, observer) {{\n",
              "        var display = window.getComputedStyle(gd).display;\n",
              "        if (!display || display === 'none') {{\n",
              "            console.log([gd, 'removed!']);\n",
              "            Plotly.purge(gd);\n",
              "            observer.disconnect();\n",
              "        }}\n",
              "}});\n",
              "\n",
              "// Listen for the removal of the full notebook cells\n",
              "var notebookContainer = gd.closest('#notebook-container');\n",
              "if (notebookContainer) {{\n",
              "    x.observe(notebookContainer, {childList: true});\n",
              "}}\n",
              "\n",
              "// Listen for the clearing of the current output cell\n",
              "var outputEl = gd.closest('.output');\n",
              "if (outputEl) {{\n",
              "    x.observe(outputEl, {childList: true});\n",
              "}}\n",
              "\n",
              "                        })                };                });            </script>        </div>"
            ]
          },
          "metadata": {},
          "output_type": "display_data"
        }
      ],
      "source": [
        "fig = compare_intervention_ldds_with_sample_ablated([ca - ca] + average_interventions  + [noise_sample_ablating_results],\n",
        "                                               [\"Clean Run\", \"Zero Ablation of NMHs\", \"Project Only IO Direction (Zero ⊥ IO direction)\", \"Replace ⊥ IO directions with Corrupted ⊥ IO directions\", \"Project Away IO Direction (Zero IO direction)\", \"Replace IO directions with Corrupted IO directions\",  \"Sample Ablation of NMHs\"],\n",
        "                                               heads = key_backup_heads + neg_m_heads, just_logits = True)"
      ]
    },
    {
      "cell_type": "code",
      "execution_count": 329,
      "metadata": {},
      "outputs": [
        {
          "data": {
            "application/vnd.plotly.v1+json": {
              "config": {
                "plotlyServerURL": "https://plot.ly"
              },
              "data": [
                {
                  "coloraxis": "coloraxis",
                  "hovertemplate": "Receiver Head: %{x}<br>Intervention: %{y}<br>Logit Diff Diff: %{z}<extra></extra>",
                  "name": "0",
                  "texttemplate": "%{z}",
                  "type": "heatmap",
                  "x": [
                    "(10, 2)",
                    "(10, 6)",
                    "(10, 10)",
                    "(11, 2)",
                    "(10, 7)",
                    "(11, 10)"
                  ],
                  "xaxis": "x",
                  "y": [
                    "Clean Run",
                    "Zero Ablation of NMHs",
                    "Project Only IO Direction (Zero ⊥ IO direction)",
                    "Replace ⊥ IO directions with Corrupted ⊥ IO directions",
                    "Project Away IO Direction (Zero IO direction)",
                    "Replace IO directions with Corrupted IO directions",
                    "Sample Ablation of NMHs"
                  ],
                  "yaxis": "y",
                  "z": [
                    [
                      0,
                      0,
                      0,
                      0,
                      0,
                      0
                    ],
                    [
                      0.5932354927062988,
                      0.32652726769447327,
                      0.7795109748840332,
                      0.9403886795043945,
                      2.405292510986328,
                      -0.35287541151046753
                    ],
                    [
                      0.4287705421447754,
                      0.3933227062225342,
                      0.8362807631492615,
                      0.08308199048042297,
                      1.5456724166870117,
                      -0.7019073367118835
                    ],
                    [
                      0.34603556990623474,
                      0.3103703558444977,
                      0.6667260527610779,
                      0.17481839656829834,
                      1.6060118675231934,
                      -0.5088731050491333
                    ],
                    [
                      0.10479064285755157,
                      -0.03843992203474045,
                      -0.026416271924972534,
                      0.37434303760528564,
                      0.81772780418396,
                      0.4007070064544678
                    ],
                    [
                      0.10080835223197937,
                      -0.037278514355421066,
                      -0.025456270202994347,
                      0.35531753301620483,
                      0.7862197160720825,
                      0.38674116134643555
                    ],
                    [
                      0.6016330122947693,
                      0.3538908064365387,
                      0.8615529537200928,
                      0.9265639781951904,
                      2.378718852996826,
                      -0.3699657917022705
                    ]
                  ]
                }
              ],
              "layout": {
                "coloraxis": {
                  "cmid": 0,
                  "colorbar": {
                    "title": {
                      "text": "Logit Diff Diff"
                    }
                  },
                  "colorscale": [
                    [
                      0,
                      "rgb(103,0,31)"
                    ],
                    [
                      0.1,
                      "rgb(178,24,43)"
                    ],
                    [
                      0.2,
                      "rgb(214,96,77)"
                    ],
                    [
                      0.3,
                      "rgb(244,165,130)"
                    ],
                    [
                      0.4,
                      "rgb(253,219,199)"
                    ],
                    [
                      0.5,
                      "rgb(247,247,247)"
                    ],
                    [
                      0.6,
                      "rgb(209,229,240)"
                    ],
                    [
                      0.7,
                      "rgb(146,197,222)"
                    ],
                    [
                      0.8,
                      "rgb(67,147,195)"
                    ],
                    [
                      0.9,
                      "rgb(33,102,172)"
                    ],
                    [
                      1,
                      "rgb(5,48,97)"
                    ]
                  ]
                },
                "height": 600,
                "margin": {
                  "l": 100,
                  "r": 100
                },
                "shapes": [
                  {
                    "layer": "above",
                    "line": {
                      "color": "Black"
                    },
                    "opacity": 1,
                    "type": "rect",
                    "x0": -0.5,
                    "x1": 3.5,
                    "y0": -0.5,
                    "y1": 6.49
                  },
                  {
                    "layer": "above",
                    "line": {
                      "color": "Black"
                    },
                    "opacity": 1,
                    "type": "rect",
                    "x0": 3.5,
                    "x1": 5.5,
                    "y0": -0.5,
                    "y1": 6.49
                  }
                ],
                "template": {
                  "data": {
                    "bar": [
                      {
                        "error_x": {
                          "color": "#2a3f5f"
                        },
                        "error_y": {
                          "color": "#2a3f5f"
                        },
                        "marker": {
                          "line": {
                            "color": "#E5ECF6",
                            "width": 0.5
                          },
                          "pattern": {
                            "fillmode": "overlay",
                            "size": 10,
                            "solidity": 0.2
                          }
                        },
                        "type": "bar"
                      }
                    ],
                    "barpolar": [
                      {
                        "marker": {
                          "line": {
                            "color": "#E5ECF6",
                            "width": 0.5
                          },
                          "pattern": {
                            "fillmode": "overlay",
                            "size": 10,
                            "solidity": 0.2
                          }
                        },
                        "type": "barpolar"
                      }
                    ],
                    "carpet": [
                      {
                        "aaxis": {
                          "endlinecolor": "#2a3f5f",
                          "gridcolor": "white",
                          "linecolor": "white",
                          "minorgridcolor": "white",
                          "startlinecolor": "#2a3f5f"
                        },
                        "baxis": {
                          "endlinecolor": "#2a3f5f",
                          "gridcolor": "white",
                          "linecolor": "white",
                          "minorgridcolor": "white",
                          "startlinecolor": "#2a3f5f"
                        },
                        "type": "carpet"
                      }
                    ],
                    "choropleth": [
                      {
                        "colorbar": {
                          "outlinewidth": 0,
                          "ticks": ""
                        },
                        "type": "choropleth"
                      }
                    ],
                    "contour": [
                      {
                        "colorbar": {
                          "outlinewidth": 0,
                          "ticks": ""
                        },
                        "colorscale": [
                          [
                            0,
                            "#0d0887"
                          ],
                          [
                            0.1111111111111111,
                            "#46039f"
                          ],
                          [
                            0.2222222222222222,
                            "#7201a8"
                          ],
                          [
                            0.3333333333333333,
                            "#9c179e"
                          ],
                          [
                            0.4444444444444444,
                            "#bd3786"
                          ],
                          [
                            0.5555555555555556,
                            "#d8576b"
                          ],
                          [
                            0.6666666666666666,
                            "#ed7953"
                          ],
                          [
                            0.7777777777777778,
                            "#fb9f3a"
                          ],
                          [
                            0.8888888888888888,
                            "#fdca26"
                          ],
                          [
                            1,
                            "#f0f921"
                          ]
                        ],
                        "type": "contour"
                      }
                    ],
                    "contourcarpet": [
                      {
                        "colorbar": {
                          "outlinewidth": 0,
                          "ticks": ""
                        },
                        "type": "contourcarpet"
                      }
                    ],
                    "heatmap": [
                      {
                        "colorbar": {
                          "outlinewidth": 0,
                          "ticks": ""
                        },
                        "colorscale": [
                          [
                            0,
                            "#0d0887"
                          ],
                          [
                            0.1111111111111111,
                            "#46039f"
                          ],
                          [
                            0.2222222222222222,
                            "#7201a8"
                          ],
                          [
                            0.3333333333333333,
                            "#9c179e"
                          ],
                          [
                            0.4444444444444444,
                            "#bd3786"
                          ],
                          [
                            0.5555555555555556,
                            "#d8576b"
                          ],
                          [
                            0.6666666666666666,
                            "#ed7953"
                          ],
                          [
                            0.7777777777777778,
                            "#fb9f3a"
                          ],
                          [
                            0.8888888888888888,
                            "#fdca26"
                          ],
                          [
                            1,
                            "#f0f921"
                          ]
                        ],
                        "type": "heatmap"
                      }
                    ],
                    "heatmapgl": [
                      {
                        "colorbar": {
                          "outlinewidth": 0,
                          "ticks": ""
                        },
                        "colorscale": [
                          [
                            0,
                            "#0d0887"
                          ],
                          [
                            0.1111111111111111,
                            "#46039f"
                          ],
                          [
                            0.2222222222222222,
                            "#7201a8"
                          ],
                          [
                            0.3333333333333333,
                            "#9c179e"
                          ],
                          [
                            0.4444444444444444,
                            "#bd3786"
                          ],
                          [
                            0.5555555555555556,
                            "#d8576b"
                          ],
                          [
                            0.6666666666666666,
                            "#ed7953"
                          ],
                          [
                            0.7777777777777778,
                            "#fb9f3a"
                          ],
                          [
                            0.8888888888888888,
                            "#fdca26"
                          ],
                          [
                            1,
                            "#f0f921"
                          ]
                        ],
                        "type": "heatmapgl"
                      }
                    ],
                    "histogram": [
                      {
                        "marker": {
                          "pattern": {
                            "fillmode": "overlay",
                            "size": 10,
                            "solidity": 0.2
                          }
                        },
                        "type": "histogram"
                      }
                    ],
                    "histogram2d": [
                      {
                        "colorbar": {
                          "outlinewidth": 0,
                          "ticks": ""
                        },
                        "colorscale": [
                          [
                            0,
                            "#0d0887"
                          ],
                          [
                            0.1111111111111111,
                            "#46039f"
                          ],
                          [
                            0.2222222222222222,
                            "#7201a8"
                          ],
                          [
                            0.3333333333333333,
                            "#9c179e"
                          ],
                          [
                            0.4444444444444444,
                            "#bd3786"
                          ],
                          [
                            0.5555555555555556,
                            "#d8576b"
                          ],
                          [
                            0.6666666666666666,
                            "#ed7953"
                          ],
                          [
                            0.7777777777777778,
                            "#fb9f3a"
                          ],
                          [
                            0.8888888888888888,
                            "#fdca26"
                          ],
                          [
                            1,
                            "#f0f921"
                          ]
                        ],
                        "type": "histogram2d"
                      }
                    ],
                    "histogram2dcontour": [
                      {
                        "colorbar": {
                          "outlinewidth": 0,
                          "ticks": ""
                        },
                        "colorscale": [
                          [
                            0,
                            "#0d0887"
                          ],
                          [
                            0.1111111111111111,
                            "#46039f"
                          ],
                          [
                            0.2222222222222222,
                            "#7201a8"
                          ],
                          [
                            0.3333333333333333,
                            "#9c179e"
                          ],
                          [
                            0.4444444444444444,
                            "#bd3786"
                          ],
                          [
                            0.5555555555555556,
                            "#d8576b"
                          ],
                          [
                            0.6666666666666666,
                            "#ed7953"
                          ],
                          [
                            0.7777777777777778,
                            "#fb9f3a"
                          ],
                          [
                            0.8888888888888888,
                            "#fdca26"
                          ],
                          [
                            1,
                            "#f0f921"
                          ]
                        ],
                        "type": "histogram2dcontour"
                      }
                    ],
                    "mesh3d": [
                      {
                        "colorbar": {
                          "outlinewidth": 0,
                          "ticks": ""
                        },
                        "type": "mesh3d"
                      }
                    ],
                    "parcoords": [
                      {
                        "line": {
                          "colorbar": {
                            "outlinewidth": 0,
                            "ticks": ""
                          }
                        },
                        "type": "parcoords"
                      }
                    ],
                    "pie": [
                      {
                        "automargin": true,
                        "type": "pie"
                      }
                    ],
                    "scatter": [
                      {
                        "fillpattern": {
                          "fillmode": "overlay",
                          "size": 10,
                          "solidity": 0.2
                        },
                        "type": "scatter"
                      }
                    ],
                    "scatter3d": [
                      {
                        "line": {
                          "colorbar": {
                            "outlinewidth": 0,
                            "ticks": ""
                          }
                        },
                        "marker": {
                          "colorbar": {
                            "outlinewidth": 0,
                            "ticks": ""
                          }
                        },
                        "type": "scatter3d"
                      }
                    ],
                    "scattercarpet": [
                      {
                        "marker": {
                          "colorbar": {
                            "outlinewidth": 0,
                            "ticks": ""
                          }
                        },
                        "type": "scattercarpet"
                      }
                    ],
                    "scattergeo": [
                      {
                        "marker": {
                          "colorbar": {
                            "outlinewidth": 0,
                            "ticks": ""
                          }
                        },
                        "type": "scattergeo"
                      }
                    ],
                    "scattergl": [
                      {
                        "marker": {
                          "colorbar": {
                            "outlinewidth": 0,
                            "ticks": ""
                          }
                        },
                        "type": "scattergl"
                      }
                    ],
                    "scattermapbox": [
                      {
                        "marker": {
                          "colorbar": {
                            "outlinewidth": 0,
                            "ticks": ""
                          }
                        },
                        "type": "scattermapbox"
                      }
                    ],
                    "scatterpolar": [
                      {
                        "marker": {
                          "colorbar": {
                            "outlinewidth": 0,
                            "ticks": ""
                          }
                        },
                        "type": "scatterpolar"
                      }
                    ],
                    "scatterpolargl": [
                      {
                        "marker": {
                          "colorbar": {
                            "outlinewidth": 0,
                            "ticks": ""
                          }
                        },
                        "type": "scatterpolargl"
                      }
                    ],
                    "scatterternary": [
                      {
                        "marker": {
                          "colorbar": {
                            "outlinewidth": 0,
                            "ticks": ""
                          }
                        },
                        "type": "scatterternary"
                      }
                    ],
                    "surface": [
                      {
                        "colorbar": {
                          "outlinewidth": 0,
                          "ticks": ""
                        },
                        "colorscale": [
                          [
                            0,
                            "#0d0887"
                          ],
                          [
                            0.1111111111111111,
                            "#46039f"
                          ],
                          [
                            0.2222222222222222,
                            "#7201a8"
                          ],
                          [
                            0.3333333333333333,
                            "#9c179e"
                          ],
                          [
                            0.4444444444444444,
                            "#bd3786"
                          ],
                          [
                            0.5555555555555556,
                            "#d8576b"
                          ],
                          [
                            0.6666666666666666,
                            "#ed7953"
                          ],
                          [
                            0.7777777777777778,
                            "#fb9f3a"
                          ],
                          [
                            0.8888888888888888,
                            "#fdca26"
                          ],
                          [
                            1,
                            "#f0f921"
                          ]
                        ],
                        "type": "surface"
                      }
                    ],
                    "table": [
                      {
                        "cells": {
                          "fill": {
                            "color": "#EBF0F8"
                          },
                          "line": {
                            "color": "white"
                          }
                        },
                        "header": {
                          "fill": {
                            "color": "#C8D4E3"
                          },
                          "line": {
                            "color": "white"
                          }
                        },
                        "type": "table"
                      }
                    ]
                  },
                  "layout": {
                    "annotationdefaults": {
                      "arrowcolor": "#2a3f5f",
                      "arrowhead": 0,
                      "arrowwidth": 1
                    },
                    "autotypenumbers": "strict",
                    "coloraxis": {
                      "colorbar": {
                        "outlinewidth": 0,
                        "ticks": ""
                      }
                    },
                    "colorscale": {
                      "diverging": [
                        [
                          0,
                          "#8e0152"
                        ],
                        [
                          0.1,
                          "#c51b7d"
                        ],
                        [
                          0.2,
                          "#de77ae"
                        ],
                        [
                          0.3,
                          "#f1b6da"
                        ],
                        [
                          0.4,
                          "#fde0ef"
                        ],
                        [
                          0.5,
                          "#f7f7f7"
                        ],
                        [
                          0.6,
                          "#e6f5d0"
                        ],
                        [
                          0.7,
                          "#b8e186"
                        ],
                        [
                          0.8,
                          "#7fbc41"
                        ],
                        [
                          0.9,
                          "#4d9221"
                        ],
                        [
                          1,
                          "#276419"
                        ]
                      ],
                      "sequential": [
                        [
                          0,
                          "#0d0887"
                        ],
                        [
                          0.1111111111111111,
                          "#46039f"
                        ],
                        [
                          0.2222222222222222,
                          "#7201a8"
                        ],
                        [
                          0.3333333333333333,
                          "#9c179e"
                        ],
                        [
                          0.4444444444444444,
                          "#bd3786"
                        ],
                        [
                          0.5555555555555556,
                          "#d8576b"
                        ],
                        [
                          0.6666666666666666,
                          "#ed7953"
                        ],
                        [
                          0.7777777777777778,
                          "#fb9f3a"
                        ],
                        [
                          0.8888888888888888,
                          "#fdca26"
                        ],
                        [
                          1,
                          "#f0f921"
                        ]
                      ],
                      "sequentialminus": [
                        [
                          0,
                          "#0d0887"
                        ],
                        [
                          0.1111111111111111,
                          "#46039f"
                        ],
                        [
                          0.2222222222222222,
                          "#7201a8"
                        ],
                        [
                          0.3333333333333333,
                          "#9c179e"
                        ],
                        [
                          0.4444444444444444,
                          "#bd3786"
                        ],
                        [
                          0.5555555555555556,
                          "#d8576b"
                        ],
                        [
                          0.6666666666666666,
                          "#ed7953"
                        ],
                        [
                          0.7777777777777778,
                          "#fb9f3a"
                        ],
                        [
                          0.8888888888888888,
                          "#fdca26"
                        ],
                        [
                          1,
                          "#f0f921"
                        ]
                      ]
                    },
                    "colorway": [
                      "#636efa",
                      "#EF553B",
                      "#00cc96",
                      "#ab63fa",
                      "#FFA15A",
                      "#19d3f3",
                      "#FF6692",
                      "#B6E880",
                      "#FF97FF",
                      "#FECB52"
                    ],
                    "font": {
                      "color": "#2a3f5f"
                    },
                    "geo": {
                      "bgcolor": "white",
                      "lakecolor": "white",
                      "landcolor": "#E5ECF6",
                      "showlakes": true,
                      "showland": true,
                      "subunitcolor": "white"
                    },
                    "hoverlabel": {
                      "align": "left"
                    },
                    "hovermode": "closest",
                    "mapbox": {
                      "style": "light"
                    },
                    "paper_bgcolor": "white",
                    "plot_bgcolor": "#E5ECF6",
                    "polar": {
                      "angularaxis": {
                        "gridcolor": "white",
                        "linecolor": "white",
                        "ticks": ""
                      },
                      "bgcolor": "#E5ECF6",
                      "radialaxis": {
                        "gridcolor": "white",
                        "linecolor": "white",
                        "ticks": ""
                      }
                    },
                    "scene": {
                      "xaxis": {
                        "backgroundcolor": "#E5ECF6",
                        "gridcolor": "white",
                        "gridwidth": 2,
                        "linecolor": "white",
                        "showbackground": true,
                        "ticks": "",
                        "zerolinecolor": "white"
                      },
                      "yaxis": {
                        "backgroundcolor": "#E5ECF6",
                        "gridcolor": "white",
                        "gridwidth": 2,
                        "linecolor": "white",
                        "showbackground": true,
                        "ticks": "",
                        "zerolinecolor": "white"
                      },
                      "zaxis": {
                        "backgroundcolor": "#E5ECF6",
                        "gridcolor": "white",
                        "gridwidth": 2,
                        "linecolor": "white",
                        "showbackground": true,
                        "ticks": "",
                        "zerolinecolor": "white"
                      }
                    },
                    "shapedefaults": {
                      "line": {
                        "color": "#2a3f5f"
                      }
                    },
                    "ternary": {
                      "aaxis": {
                        "gridcolor": "white",
                        "linecolor": "white",
                        "ticks": ""
                      },
                      "baxis": {
                        "gridcolor": "white",
                        "linecolor": "white",
                        "ticks": ""
                      },
                      "bgcolor": "#E5ECF6",
                      "caxis": {
                        "gridcolor": "white",
                        "linecolor": "white",
                        "ticks": ""
                      }
                    },
                    "title": {
                      "x": 0.05
                    },
                    "xaxis": {
                      "automargin": true,
                      "gridcolor": "white",
                      "linecolor": "white",
                      "ticks": "",
                      "title": {
                        "standoff": 15
                      },
                      "zerolinecolor": "white",
                      "zerolinewidth": 2
                    },
                    "yaxis": {
                      "automargin": true,
                      "gridcolor": "white",
                      "linecolor": "white",
                      "ticks": "",
                      "title": {
                        "standoff": 15
                      },
                      "zerolinecolor": "white",
                      "zerolinewidth": 2
                    }
                  }
                },
                "title": {
                  "text": "The Logit Diff Diffs of Intervention"
                },
                "width": 900,
                "xaxis": {
                  "anchor": "y",
                  "constrain": "domain",
                  "domain": [
                    0,
                    1
                  ],
                  "linecolor": "black",
                  "linewidth": 1,
                  "mirror": true,
                  "scaleanchor": "y",
                  "showline": true,
                  "title": {
                    "text": "Receiver Head"
                  }
                },
                "yaxis": {
                  "anchor": "x",
                  "autorange": "reversed",
                  "constrain": "domain",
                  "domain": [
                    0,
                    1
                  ],
                  "linecolor": "black",
                  "linewidth": 1,
                  "mirror": true,
                  "showline": true,
                  "title": {
                    "text": "Intervention"
                  }
                }
              }
            },
            "text/html": [
              "<div>                            <div id=\"87a6103c-b0a2-495f-9efa-9d730537ca24\" class=\"plotly-graph-div\" style=\"height:600px; width:900px;\"></div>            <script type=\"text/javascript\">                require([\"plotly\"], function(Plotly) {                    window.PLOTLYENV=window.PLOTLYENV || {};                                    if (document.getElementById(\"87a6103c-b0a2-495f-9efa-9d730537ca24\")) {                    Plotly.newPlot(                        \"87a6103c-b0a2-495f-9efa-9d730537ca24\",                        [{\"coloraxis\":\"coloraxis\",\"name\":\"0\",\"texttemplate\":\"%{z}\",\"x\":[\"(10, 2)\",\"(10, 6)\",\"(10, 10)\",\"(11, 2)\",\"(10, 7)\",\"(11, 10)\"],\"y\":[\"Clean Run\",\"Zero Ablation of NMHs\",\"Project Only IO Direction (Zero \\u22a5 IO direction)\",\"Replace \\u22a5 IO directions with Corrupted \\u22a5 IO directions\",\"Project Away IO Direction (Zero IO direction)\",\"Replace IO directions with Corrupted IO directions\",\"Sample Ablation of NMHs\"],\"z\":[[0.0,0.0,0.0,0.0,0.0,0.0],[0.5932354927062988,0.32652726769447327,0.7795109748840332,0.9403886795043945,2.405292510986328,-0.35287541151046753],[0.4287705421447754,0.3933227062225342,0.8362807631492615,0.08308199048042297,1.5456724166870117,-0.7019073367118835],[0.34603556990623474,0.3103703558444977,0.6667260527610779,0.17481839656829834,1.6060118675231934,-0.5088731050491333],[0.10479064285755157,-0.03843992203474045,-0.026416271924972534,0.37434303760528564,0.81772780418396,0.4007070064544678],[0.10080835223197937,-0.037278514355421066,-0.025456270202994347,0.35531753301620483,0.7862197160720825,0.38674116134643555],[0.6016330122947693,0.3538908064365387,0.8615529537200928,0.9265639781951904,2.378718852996826,-0.3699657917022705]],\"type\":\"heatmap\",\"xaxis\":\"x\",\"yaxis\":\"y\",\"hovertemplate\":\"Receiver Head: %{x}\\u003cbr\\u003eIntervention: %{y}\\u003cbr\\u003eLogit Diff Diff: %{z}\\u003cextra\\u003e\\u003c\\u002fextra\\u003e\"}],                        {\"template\":{\"data\":{\"histogram2dcontour\":[{\"type\":\"histogram2dcontour\",\"colorbar\":{\"outlinewidth\":0,\"ticks\":\"\"},\"colorscale\":[[0.0,\"#0d0887\"],[0.1111111111111111,\"#46039f\"],[0.2222222222222222,\"#7201a8\"],[0.3333333333333333,\"#9c179e\"],[0.4444444444444444,\"#bd3786\"],[0.5555555555555556,\"#d8576b\"],[0.6666666666666666,\"#ed7953\"],[0.7777777777777778,\"#fb9f3a\"],[0.8888888888888888,\"#fdca26\"],[1.0,\"#f0f921\"]]}],\"choropleth\":[{\"type\":\"choropleth\",\"colorbar\":{\"outlinewidth\":0,\"ticks\":\"\"}}],\"histogram2d\":[{\"type\":\"histogram2d\",\"colorbar\":{\"outlinewidth\":0,\"ticks\":\"\"},\"colorscale\":[[0.0,\"#0d0887\"],[0.1111111111111111,\"#46039f\"],[0.2222222222222222,\"#7201a8\"],[0.3333333333333333,\"#9c179e\"],[0.4444444444444444,\"#bd3786\"],[0.5555555555555556,\"#d8576b\"],[0.6666666666666666,\"#ed7953\"],[0.7777777777777778,\"#fb9f3a\"],[0.8888888888888888,\"#fdca26\"],[1.0,\"#f0f921\"]]}],\"heatmap\":[{\"type\":\"heatmap\",\"colorbar\":{\"outlinewidth\":0,\"ticks\":\"\"},\"colorscale\":[[0.0,\"#0d0887\"],[0.1111111111111111,\"#46039f\"],[0.2222222222222222,\"#7201a8\"],[0.3333333333333333,\"#9c179e\"],[0.4444444444444444,\"#bd3786\"],[0.5555555555555556,\"#d8576b\"],[0.6666666666666666,\"#ed7953\"],[0.7777777777777778,\"#fb9f3a\"],[0.8888888888888888,\"#fdca26\"],[1.0,\"#f0f921\"]]}],\"heatmapgl\":[{\"type\":\"heatmapgl\",\"colorbar\":{\"outlinewidth\":0,\"ticks\":\"\"},\"colorscale\":[[0.0,\"#0d0887\"],[0.1111111111111111,\"#46039f\"],[0.2222222222222222,\"#7201a8\"],[0.3333333333333333,\"#9c179e\"],[0.4444444444444444,\"#bd3786\"],[0.5555555555555556,\"#d8576b\"],[0.6666666666666666,\"#ed7953\"],[0.7777777777777778,\"#fb9f3a\"],[0.8888888888888888,\"#fdca26\"],[1.0,\"#f0f921\"]]}],\"contourcarpet\":[{\"type\":\"contourcarpet\",\"colorbar\":{\"outlinewidth\":0,\"ticks\":\"\"}}],\"contour\":[{\"type\":\"contour\",\"colorbar\":{\"outlinewidth\":0,\"ticks\":\"\"},\"colorscale\":[[0.0,\"#0d0887\"],[0.1111111111111111,\"#46039f\"],[0.2222222222222222,\"#7201a8\"],[0.3333333333333333,\"#9c179e\"],[0.4444444444444444,\"#bd3786\"],[0.5555555555555556,\"#d8576b\"],[0.6666666666666666,\"#ed7953\"],[0.7777777777777778,\"#fb9f3a\"],[0.8888888888888888,\"#fdca26\"],[1.0,\"#f0f921\"]]}],\"surface\":[{\"type\":\"surface\",\"colorbar\":{\"outlinewidth\":0,\"ticks\":\"\"},\"colorscale\":[[0.0,\"#0d0887\"],[0.1111111111111111,\"#46039f\"],[0.2222222222222222,\"#7201a8\"],[0.3333333333333333,\"#9c179e\"],[0.4444444444444444,\"#bd3786\"],[0.5555555555555556,\"#d8576b\"],[0.6666666666666666,\"#ed7953\"],[0.7777777777777778,\"#fb9f3a\"],[0.8888888888888888,\"#fdca26\"],[1.0,\"#f0f921\"]]}],\"mesh3d\":[{\"type\":\"mesh3d\",\"colorbar\":{\"outlinewidth\":0,\"ticks\":\"\"}}],\"scatter\":[{\"fillpattern\":{\"fillmode\":\"overlay\",\"size\":10,\"solidity\":0.2},\"type\":\"scatter\"}],\"parcoords\":[{\"type\":\"parcoords\",\"line\":{\"colorbar\":{\"outlinewidth\":0,\"ticks\":\"\"}}}],\"scatterpolargl\":[{\"type\":\"scatterpolargl\",\"marker\":{\"colorbar\":{\"outlinewidth\":0,\"ticks\":\"\"}}}],\"bar\":[{\"error_x\":{\"color\":\"#2a3f5f\"},\"error_y\":{\"color\":\"#2a3f5f\"},\"marker\":{\"line\":{\"color\":\"#E5ECF6\",\"width\":0.5},\"pattern\":{\"fillmode\":\"overlay\",\"size\":10,\"solidity\":0.2}},\"type\":\"bar\"}],\"scattergeo\":[{\"type\":\"scattergeo\",\"marker\":{\"colorbar\":{\"outlinewidth\":0,\"ticks\":\"\"}}}],\"scatterpolar\":[{\"type\":\"scatterpolar\",\"marker\":{\"colorbar\":{\"outlinewidth\":0,\"ticks\":\"\"}}}],\"histogram\":[{\"marker\":{\"pattern\":{\"fillmode\":\"overlay\",\"size\":10,\"solidity\":0.2}},\"type\":\"histogram\"}],\"scattergl\":[{\"type\":\"scattergl\",\"marker\":{\"colorbar\":{\"outlinewidth\":0,\"ticks\":\"\"}}}],\"scatter3d\":[{\"type\":\"scatter3d\",\"line\":{\"colorbar\":{\"outlinewidth\":0,\"ticks\":\"\"}},\"marker\":{\"colorbar\":{\"outlinewidth\":0,\"ticks\":\"\"}}}],\"scattermapbox\":[{\"type\":\"scattermapbox\",\"marker\":{\"colorbar\":{\"outlinewidth\":0,\"ticks\":\"\"}}}],\"scatterternary\":[{\"type\":\"scatterternary\",\"marker\":{\"colorbar\":{\"outlinewidth\":0,\"ticks\":\"\"}}}],\"scattercarpet\":[{\"type\":\"scattercarpet\",\"marker\":{\"colorbar\":{\"outlinewidth\":0,\"ticks\":\"\"}}}],\"carpet\":[{\"aaxis\":{\"endlinecolor\":\"#2a3f5f\",\"gridcolor\":\"white\",\"linecolor\":\"white\",\"minorgridcolor\":\"white\",\"startlinecolor\":\"#2a3f5f\"},\"baxis\":{\"endlinecolor\":\"#2a3f5f\",\"gridcolor\":\"white\",\"linecolor\":\"white\",\"minorgridcolor\":\"white\",\"startlinecolor\":\"#2a3f5f\"},\"type\":\"carpet\"}],\"table\":[{\"cells\":{\"fill\":{\"color\":\"#EBF0F8\"},\"line\":{\"color\":\"white\"}},\"header\":{\"fill\":{\"color\":\"#C8D4E3\"},\"line\":{\"color\":\"white\"}},\"type\":\"table\"}],\"barpolar\":[{\"marker\":{\"line\":{\"color\":\"#E5ECF6\",\"width\":0.5},\"pattern\":{\"fillmode\":\"overlay\",\"size\":10,\"solidity\":0.2}},\"type\":\"barpolar\"}],\"pie\":[{\"automargin\":true,\"type\":\"pie\"}]},\"layout\":{\"autotypenumbers\":\"strict\",\"colorway\":[\"#636efa\",\"#EF553B\",\"#00cc96\",\"#ab63fa\",\"#FFA15A\",\"#19d3f3\",\"#FF6692\",\"#B6E880\",\"#FF97FF\",\"#FECB52\"],\"font\":{\"color\":\"#2a3f5f\"},\"hovermode\":\"closest\",\"hoverlabel\":{\"align\":\"left\"},\"paper_bgcolor\":\"white\",\"plot_bgcolor\":\"#E5ECF6\",\"polar\":{\"bgcolor\":\"#E5ECF6\",\"angularaxis\":{\"gridcolor\":\"white\",\"linecolor\":\"white\",\"ticks\":\"\"},\"radialaxis\":{\"gridcolor\":\"white\",\"linecolor\":\"white\",\"ticks\":\"\"}},\"ternary\":{\"bgcolor\":\"#E5ECF6\",\"aaxis\":{\"gridcolor\":\"white\",\"linecolor\":\"white\",\"ticks\":\"\"},\"baxis\":{\"gridcolor\":\"white\",\"linecolor\":\"white\",\"ticks\":\"\"},\"caxis\":{\"gridcolor\":\"white\",\"linecolor\":\"white\",\"ticks\":\"\"}},\"coloraxis\":{\"colorbar\":{\"outlinewidth\":0,\"ticks\":\"\"}},\"colorscale\":{\"sequential\":[[0.0,\"#0d0887\"],[0.1111111111111111,\"#46039f\"],[0.2222222222222222,\"#7201a8\"],[0.3333333333333333,\"#9c179e\"],[0.4444444444444444,\"#bd3786\"],[0.5555555555555556,\"#d8576b\"],[0.6666666666666666,\"#ed7953\"],[0.7777777777777778,\"#fb9f3a\"],[0.8888888888888888,\"#fdca26\"],[1.0,\"#f0f921\"]],\"sequentialminus\":[[0.0,\"#0d0887\"],[0.1111111111111111,\"#46039f\"],[0.2222222222222222,\"#7201a8\"],[0.3333333333333333,\"#9c179e\"],[0.4444444444444444,\"#bd3786\"],[0.5555555555555556,\"#d8576b\"],[0.6666666666666666,\"#ed7953\"],[0.7777777777777778,\"#fb9f3a\"],[0.8888888888888888,\"#fdca26\"],[1.0,\"#f0f921\"]],\"diverging\":[[0,\"#8e0152\"],[0.1,\"#c51b7d\"],[0.2,\"#de77ae\"],[0.3,\"#f1b6da\"],[0.4,\"#fde0ef\"],[0.5,\"#f7f7f7\"],[0.6,\"#e6f5d0\"],[0.7,\"#b8e186\"],[0.8,\"#7fbc41\"],[0.9,\"#4d9221\"],[1,\"#276419\"]]},\"xaxis\":{\"gridcolor\":\"white\",\"linecolor\":\"white\",\"ticks\":\"\",\"title\":{\"standoff\":15},\"zerolinecolor\":\"white\",\"automargin\":true,\"zerolinewidth\":2},\"yaxis\":{\"gridcolor\":\"white\",\"linecolor\":\"white\",\"ticks\":\"\",\"title\":{\"standoff\":15},\"zerolinecolor\":\"white\",\"automargin\":true,\"zerolinewidth\":2},\"scene\":{\"xaxis\":{\"backgroundcolor\":\"#E5ECF6\",\"gridcolor\":\"white\",\"linecolor\":\"white\",\"showbackground\":true,\"ticks\":\"\",\"zerolinecolor\":\"white\",\"gridwidth\":2},\"yaxis\":{\"backgroundcolor\":\"#E5ECF6\",\"gridcolor\":\"white\",\"linecolor\":\"white\",\"showbackground\":true,\"ticks\":\"\",\"zerolinecolor\":\"white\",\"gridwidth\":2},\"zaxis\":{\"backgroundcolor\":\"#E5ECF6\",\"gridcolor\":\"white\",\"linecolor\":\"white\",\"showbackground\":true,\"ticks\":\"\",\"zerolinecolor\":\"white\",\"gridwidth\":2}},\"shapedefaults\":{\"line\":{\"color\":\"#2a3f5f\"}},\"annotationdefaults\":{\"arrowcolor\":\"#2a3f5f\",\"arrowhead\":0,\"arrowwidth\":1},\"geo\":{\"bgcolor\":\"white\",\"landcolor\":\"#E5ECF6\",\"subunitcolor\":\"white\",\"showland\":true,\"showlakes\":true,\"lakecolor\":\"white\"},\"title\":{\"x\":0.05},\"mapbox\":{\"style\":\"light\"}}},\"xaxis\":{\"anchor\":\"y\",\"domain\":[0.0,1.0],\"scaleanchor\":\"y\",\"constrain\":\"domain\",\"title\":{\"text\":\"Receiver Head\"},\"showline\":true,\"linewidth\":1,\"linecolor\":\"black\",\"mirror\":true},\"yaxis\":{\"anchor\":\"x\",\"domain\":[0.0,1.0],\"autorange\":\"reversed\",\"constrain\":\"domain\",\"title\":{\"text\":\"Intervention\"},\"showline\":true,\"linewidth\":1,\"linecolor\":\"black\",\"mirror\":true},\"coloraxis\":{\"colorbar\":{\"title\":{\"text\":\"Logit Diff Diff\"}},\"colorscale\":[[0.0,\"rgb(103,0,31)\"],[0.1,\"rgb(178,24,43)\"],[0.2,\"rgb(214,96,77)\"],[0.3,\"rgb(244,165,130)\"],[0.4,\"rgb(253,219,199)\"],[0.5,\"rgb(247,247,247)\"],[0.6,\"rgb(209,229,240)\"],[0.7,\"rgb(146,197,222)\"],[0.8,\"rgb(67,147,195)\"],[0.9,\"rgb(33,102,172)\"],[1.0,\"rgb(5,48,97)\"]],\"cmid\":0},\"title\":{\"text\":\"The Logit Diff Diffs of Intervention\"},\"height\":600,\"width\":900,\"margin\":{\"r\":100,\"l\":100},\"shapes\":[{\"layer\":\"above\",\"line\":{\"color\":\"Black\"},\"opacity\":1,\"type\":\"rect\",\"x0\":-0.5,\"x1\":3.5,\"y0\":-0.5,\"y1\":6.49},{\"layer\":\"above\",\"line\":{\"color\":\"Black\"},\"opacity\":1,\"type\":\"rect\",\"x0\":3.5,\"x1\":5.5,\"y0\":-0.5,\"y1\":6.49}]},                        {\"responsive\": true}                    ).then(function(){\n",
              "                            \n",
              "var gd = document.getElementById('87a6103c-b0a2-495f-9efa-9d730537ca24');\n",
              "var x = new MutationObserver(function (mutations, observer) {{\n",
              "        var display = window.getComputedStyle(gd).display;\n",
              "        if (!display || display === 'none') {{\n",
              "            console.log([gd, 'removed!']);\n",
              "            Plotly.purge(gd);\n",
              "            observer.disconnect();\n",
              "        }}\n",
              "}});\n",
              "\n",
              "// Listen for the removal of the full notebook cells\n",
              "var notebookContainer = gd.closest('#notebook-container');\n",
              "if (notebookContainer) {{\n",
              "    x.observe(notebookContainer, {childList: true});\n",
              "}}\n",
              "\n",
              "// Listen for the clearing of the current output cell\n",
              "var outputEl = gd.closest('.output');\n",
              "if (outputEl) {{\n",
              "    x.observe(outputEl, {childList: true});\n",
              "}}\n",
              "\n",
              "                        })                };                });            </script>        </div>"
            ]
          },
          "metadata": {},
          "output_type": "display_data"
        }
      ],
      "source": [
        "# draw a rectangle in the fig\n",
        "fig.add_shape(\n",
        "    # unfilled Rectangle\n",
        "        type=\"rect\",\n",
        "        x0=-0.5,\n",
        "        y0=-0.5,\n",
        "        x1=3.5,\n",
        "        y1=6.49,\n",
        "        line=dict(\n",
        "            color=\"Black\",\n",
        "            #linewidth = 3\n",
        "        ),\n",
        "        #fillcolor=\"RoyalBlue\",\n",
        "        opacity=1,\n",
        "        layer=\"above\",\n",
        "        \n",
        "    )\n",
        "\n",
        "\n",
        "\n",
        "fig.add_shape(\n",
        "    # unfilled Rectangle\n",
        "        type=\"rect\",\n",
        "        x0=3.5,\n",
        "        y0=-0.5,\n",
        "        x1=5.5,\n",
        "        y1=6.49,\n",
        "        line=dict(\n",
        "            color=\"Black\",\n",
        "            #linewidth = 3\n",
        "        ),\n",
        "        #fillcolor=\"RoyalBlue\",\n",
        "        opacity=1,\n",
        "        layer=\"above\",\n",
        "        \n",
        "    )\n",
        "\n",
        "# add text above the rectangle but on plot (not in cells)\n",
        "# fig.add_annotation(\n",
        "\n",
        "#         x=0,\n",
        "#         y=0,\n",
        "#         text=\"Interventions\",\n",
        "#         showarrow=False,\n",
        "#         yshift=10,\n",
        "# )\n",
        "\n",
        "fig.show()"
      ]
    },
    {
      "cell_type": "code",
      "execution_count": 102,
      "metadata": {},
      "outputs": [
        {
          "data": {
            "application/vnd.plotly.v1+json": {
              "config": {
                "plotlyServerURL": "https://plot.ly"
              },
              "data": [
                {
                  "coloraxis": "coloraxis",
                  "hovertemplate": "x: %{x}<br>y: %{y}<br>color: %{z}<extra></extra>",
                  "name": "0",
                  "type": "heatmap",
                  "xaxis": "x",
                  "yaxis": "y",
                  "z": [
                    [
                      -0.00027211569249629974,
                      -0.0004991116002202034,
                      -0.000047988665755838156,
                      -0.00001528294524177909,
                      -0.00022448692470788956,
                      -0.00048378994688391685,
                      -0.0007719444110989571,
                      0.00005708833487005904,
                      0.00010783539619296789,
                      0.00009527942165732384,
                      0.0003115034196525812,
                      0.0003641638904809952
                    ],
                    [
                      -0.00005541951395571232,
                      -0.00019068585243076086,
                      -0.00016807508654892445,
                      -0.00034527957905083895,
                      0.0005738376639783382,
                      0.0004829578101634979,
                      -0.000019603176042437553,
                      -0.0007596192881464958,
                      0.00004386366344988346,
                      0.00010655354708433151,
                      -0.0001004696823656559,
                      -0.00011820555664598942
                    ],
                    [
                      0.00010612362530082464,
                      0.00011223088949918747,
                      0.00006145518273115158,
                      0.0007291296496987343,
                      -0.0002204226329922676,
                      -0.0003985022194683552,
                      0.00022139004431664944,
                      0.00022606831043958664,
                      0.000544070266187191,
                      -0.00034114671871066093,
                      0.00013803644105792046,
                      -0.00021043187007308006
                    ],
                    [
                      -0.00008947344031184912,
                      0.00007965380791574717,
                      -0.00006522698095068336,
                      -0.00013565062545239925,
                      0.000026069406885653734,
                      -0.00007377343717962503,
                      -0.000026651076041162014,
                      -0.00005028070881962776,
                      -0.0002639761660248041,
                      0.00006431071960832924,
                      0.00025249714963138103,
                      0.00025597959756851196
                    ],
                    [
                      0.00020516314543783665,
                      -0.00020825350657105446,
                      -0.000002300017513334751,
                      -0.0004338361322879791,
                      -0.00007261434802785516,
                      0.00003117561573162675,
                      0.00003116636071354151,
                      0.00034345220774412155,
                      -0.00004527665441855788,
                      0.0001512679737061262,
                      -0.00004788569640368223,
                      0.00008057235390879214
                    ],
                    [
                      -0.0002724137157201767,
                      -0.00013429182581603527,
                      0.00011710927356034517,
                      -0.0000014699617167934775,
                      0.00004937047197017819,
                      -0.00030339835211634636,
                      0.0000032588141039013863,
                      -0.00000501010799780488,
                      -0.000020217645214870572,
                      0.00015083560720086098,
                      -0.0002833055332303047,
                      -0.00004760862793773413
                    ],
                    [
                      -0.0009418483823537827,
                      -0.00016633071936666965,
                      -0.0001952530292328447,
                      0.00019159354269504547,
                      0.00046430749353021383,
                      0.0002856133505702019,
                      -0.00011383416131138802,
                      0.00008573328523198143,
                      -0.000018232327420264482,
                      -0.00005266396328806877,
                      0.000011449941666796803,
                      0.00029836269095540047
                    ],
                    [
                      -0.00009181839413940907,
                      0.00010961072985082865,
                      0.00003714329795911908,
                      0.004860088229179382,
                      -0.00021445308811962605,
                      -0.0007985066622495651,
                      -0.0000885925255715847,
                      -0.00012087030336260796,
                      -0.0002841535024344921,
                      0.011240541934967041,
                      0.00017168745398521423,
                      -0.000490325503051281
                    ],
                    [
                      0.0003753574565052986,
                      -0.00003806769382208586,
                      -0.0019721873104572296,
                      0.006409250199794769,
                      0.00040505826473236084,
                      0.0004309774376451969,
                      -0.008748754858970642,
                      0.00005688425153493881,
                      -0.0017820559442043304,
                      0.0003691944293677807,
                      0.021509438753128052,
                      -0.006340637803077698
                    ],
                    [
                      0.006721764802932739,
                      -0.000368249136954546,
                      0.006404131650924683,
                      0.0012822914868593216,
                      0.0031215474009513855,
                      0.0016058534383773804,
                      -1.279909372329712,
                      0.005831338465213776,
                      -0.018112123012542725,
                      -3.0755562782287598,
                      0.0000447023194283247,
                      -0.0017687100917100906
                    ],
                    [
                      -0.9200468063354492,
                      0.393655002117157,
                      0.7963618040084839,
                      0.056261975318193436,
                      0.00030499702552333474,
                      -0.0011815340258181095,
                      0.5146880149841309,
                      2.460582971572876,
                      -0.001923567382618785,
                      -0.0026293713599443436,
                      1.136327862739563,
                      0.018280677497386932
                    ],
                    [
                      -0.0009939782321453094,
                      0.09865494072437286,
                      0.9524878263473511,
                      0.0875302404165268,
                      -0.005800975486636162,
                      -0.012952934950590134,
                      0.10626021027565002,
                      -0.0029168054461479187,
                      -0.00036550499498844147,
                      0.21556635200977325,
                      -0.7040402889251709,
                      0.03895508497953415
                    ]
                  ]
                }
              ],
              "layout": {
                "coloraxis": {
                  "cmid": 0,
                  "colorscale": [
                    [
                      0,
                      "rgb(103,0,31)"
                    ],
                    [
                      0.1,
                      "rgb(178,24,43)"
                    ],
                    [
                      0.2,
                      "rgb(214,96,77)"
                    ],
                    [
                      0.3,
                      "rgb(244,165,130)"
                    ],
                    [
                      0.4,
                      "rgb(253,219,199)"
                    ],
                    [
                      0.5,
                      "rgb(247,247,247)"
                    ],
                    [
                      0.6,
                      "rgb(209,229,240)"
                    ],
                    [
                      0.7,
                      "rgb(146,197,222)"
                    ],
                    [
                      0.8,
                      "rgb(67,147,195)"
                    ],
                    [
                      0.9,
                      "rgb(33,102,172)"
                    ],
                    [
                      1,
                      "rgb(5,48,97)"
                    ]
                  ]
                },
                "template": {
                  "data": {
                    "bar": [
                      {
                        "error_x": {
                          "color": "#2a3f5f"
                        },
                        "error_y": {
                          "color": "#2a3f5f"
                        },
                        "marker": {
                          "line": {
                            "color": "#E5ECF6",
                            "width": 0.5
                          },
                          "pattern": {
                            "fillmode": "overlay",
                            "size": 10,
                            "solidity": 0.2
                          }
                        },
                        "type": "bar"
                      }
                    ],
                    "barpolar": [
                      {
                        "marker": {
                          "line": {
                            "color": "#E5ECF6",
                            "width": 0.5
                          },
                          "pattern": {
                            "fillmode": "overlay",
                            "size": 10,
                            "solidity": 0.2
                          }
                        },
                        "type": "barpolar"
                      }
                    ],
                    "carpet": [
                      {
                        "aaxis": {
                          "endlinecolor": "#2a3f5f",
                          "gridcolor": "white",
                          "linecolor": "white",
                          "minorgridcolor": "white",
                          "startlinecolor": "#2a3f5f"
                        },
                        "baxis": {
                          "endlinecolor": "#2a3f5f",
                          "gridcolor": "white",
                          "linecolor": "white",
                          "minorgridcolor": "white",
                          "startlinecolor": "#2a3f5f"
                        },
                        "type": "carpet"
                      }
                    ],
                    "choropleth": [
                      {
                        "colorbar": {
                          "outlinewidth": 0,
                          "ticks": ""
                        },
                        "type": "choropleth"
                      }
                    ],
                    "contour": [
                      {
                        "colorbar": {
                          "outlinewidth": 0,
                          "ticks": ""
                        },
                        "colorscale": [
                          [
                            0,
                            "#0d0887"
                          ],
                          [
                            0.1111111111111111,
                            "#46039f"
                          ],
                          [
                            0.2222222222222222,
                            "#7201a8"
                          ],
                          [
                            0.3333333333333333,
                            "#9c179e"
                          ],
                          [
                            0.4444444444444444,
                            "#bd3786"
                          ],
                          [
                            0.5555555555555556,
                            "#d8576b"
                          ],
                          [
                            0.6666666666666666,
                            "#ed7953"
                          ],
                          [
                            0.7777777777777778,
                            "#fb9f3a"
                          ],
                          [
                            0.8888888888888888,
                            "#fdca26"
                          ],
                          [
                            1,
                            "#f0f921"
                          ]
                        ],
                        "type": "contour"
                      }
                    ],
                    "contourcarpet": [
                      {
                        "colorbar": {
                          "outlinewidth": 0,
                          "ticks": ""
                        },
                        "type": "contourcarpet"
                      }
                    ],
                    "heatmap": [
                      {
                        "colorbar": {
                          "outlinewidth": 0,
                          "ticks": ""
                        },
                        "colorscale": [
                          [
                            0,
                            "#0d0887"
                          ],
                          [
                            0.1111111111111111,
                            "#46039f"
                          ],
                          [
                            0.2222222222222222,
                            "#7201a8"
                          ],
                          [
                            0.3333333333333333,
                            "#9c179e"
                          ],
                          [
                            0.4444444444444444,
                            "#bd3786"
                          ],
                          [
                            0.5555555555555556,
                            "#d8576b"
                          ],
                          [
                            0.6666666666666666,
                            "#ed7953"
                          ],
                          [
                            0.7777777777777778,
                            "#fb9f3a"
                          ],
                          [
                            0.8888888888888888,
                            "#fdca26"
                          ],
                          [
                            1,
                            "#f0f921"
                          ]
                        ],
                        "type": "heatmap"
                      }
                    ],
                    "heatmapgl": [
                      {
                        "colorbar": {
                          "outlinewidth": 0,
                          "ticks": ""
                        },
                        "colorscale": [
                          [
                            0,
                            "#0d0887"
                          ],
                          [
                            0.1111111111111111,
                            "#46039f"
                          ],
                          [
                            0.2222222222222222,
                            "#7201a8"
                          ],
                          [
                            0.3333333333333333,
                            "#9c179e"
                          ],
                          [
                            0.4444444444444444,
                            "#bd3786"
                          ],
                          [
                            0.5555555555555556,
                            "#d8576b"
                          ],
                          [
                            0.6666666666666666,
                            "#ed7953"
                          ],
                          [
                            0.7777777777777778,
                            "#fb9f3a"
                          ],
                          [
                            0.8888888888888888,
                            "#fdca26"
                          ],
                          [
                            1,
                            "#f0f921"
                          ]
                        ],
                        "type": "heatmapgl"
                      }
                    ],
                    "histogram": [
                      {
                        "marker": {
                          "pattern": {
                            "fillmode": "overlay",
                            "size": 10,
                            "solidity": 0.2
                          }
                        },
                        "type": "histogram"
                      }
                    ],
                    "histogram2d": [
                      {
                        "colorbar": {
                          "outlinewidth": 0,
                          "ticks": ""
                        },
                        "colorscale": [
                          [
                            0,
                            "#0d0887"
                          ],
                          [
                            0.1111111111111111,
                            "#46039f"
                          ],
                          [
                            0.2222222222222222,
                            "#7201a8"
                          ],
                          [
                            0.3333333333333333,
                            "#9c179e"
                          ],
                          [
                            0.4444444444444444,
                            "#bd3786"
                          ],
                          [
                            0.5555555555555556,
                            "#d8576b"
                          ],
                          [
                            0.6666666666666666,
                            "#ed7953"
                          ],
                          [
                            0.7777777777777778,
                            "#fb9f3a"
                          ],
                          [
                            0.8888888888888888,
                            "#fdca26"
                          ],
                          [
                            1,
                            "#f0f921"
                          ]
                        ],
                        "type": "histogram2d"
                      }
                    ],
                    "histogram2dcontour": [
                      {
                        "colorbar": {
                          "outlinewidth": 0,
                          "ticks": ""
                        },
                        "colorscale": [
                          [
                            0,
                            "#0d0887"
                          ],
                          [
                            0.1111111111111111,
                            "#46039f"
                          ],
                          [
                            0.2222222222222222,
                            "#7201a8"
                          ],
                          [
                            0.3333333333333333,
                            "#9c179e"
                          ],
                          [
                            0.4444444444444444,
                            "#bd3786"
                          ],
                          [
                            0.5555555555555556,
                            "#d8576b"
                          ],
                          [
                            0.6666666666666666,
                            "#ed7953"
                          ],
                          [
                            0.7777777777777778,
                            "#fb9f3a"
                          ],
                          [
                            0.8888888888888888,
                            "#fdca26"
                          ],
                          [
                            1,
                            "#f0f921"
                          ]
                        ],
                        "type": "histogram2dcontour"
                      }
                    ],
                    "mesh3d": [
                      {
                        "colorbar": {
                          "outlinewidth": 0,
                          "ticks": ""
                        },
                        "type": "mesh3d"
                      }
                    ],
                    "parcoords": [
                      {
                        "line": {
                          "colorbar": {
                            "outlinewidth": 0,
                            "ticks": ""
                          }
                        },
                        "type": "parcoords"
                      }
                    ],
                    "pie": [
                      {
                        "automargin": true,
                        "type": "pie"
                      }
                    ],
                    "scatter": [
                      {
                        "fillpattern": {
                          "fillmode": "overlay",
                          "size": 10,
                          "solidity": 0.2
                        },
                        "type": "scatter"
                      }
                    ],
                    "scatter3d": [
                      {
                        "line": {
                          "colorbar": {
                            "outlinewidth": 0,
                            "ticks": ""
                          }
                        },
                        "marker": {
                          "colorbar": {
                            "outlinewidth": 0,
                            "ticks": ""
                          }
                        },
                        "type": "scatter3d"
                      }
                    ],
                    "scattercarpet": [
                      {
                        "marker": {
                          "colorbar": {
                            "outlinewidth": 0,
                            "ticks": ""
                          }
                        },
                        "type": "scattercarpet"
                      }
                    ],
                    "scattergeo": [
                      {
                        "marker": {
                          "colorbar": {
                            "outlinewidth": 0,
                            "ticks": ""
                          }
                        },
                        "type": "scattergeo"
                      }
                    ],
                    "scattergl": [
                      {
                        "marker": {
                          "colorbar": {
                            "outlinewidth": 0,
                            "ticks": ""
                          }
                        },
                        "type": "scattergl"
                      }
                    ],
                    "scattermapbox": [
                      {
                        "marker": {
                          "colorbar": {
                            "outlinewidth": 0,
                            "ticks": ""
                          }
                        },
                        "type": "scattermapbox"
                      }
                    ],
                    "scatterpolar": [
                      {
                        "marker": {
                          "colorbar": {
                            "outlinewidth": 0,
                            "ticks": ""
                          }
                        },
                        "type": "scatterpolar"
                      }
                    ],
                    "scatterpolargl": [
                      {
                        "marker": {
                          "colorbar": {
                            "outlinewidth": 0,
                            "ticks": ""
                          }
                        },
                        "type": "scatterpolargl"
                      }
                    ],
                    "scatterternary": [
                      {
                        "marker": {
                          "colorbar": {
                            "outlinewidth": 0,
                            "ticks": ""
                          }
                        },
                        "type": "scatterternary"
                      }
                    ],
                    "surface": [
                      {
                        "colorbar": {
                          "outlinewidth": 0,
                          "ticks": ""
                        },
                        "colorscale": [
                          [
                            0,
                            "#0d0887"
                          ],
                          [
                            0.1111111111111111,
                            "#46039f"
                          ],
                          [
                            0.2222222222222222,
                            "#7201a8"
                          ],
                          [
                            0.3333333333333333,
                            "#9c179e"
                          ],
                          [
                            0.4444444444444444,
                            "#bd3786"
                          ],
                          [
                            0.5555555555555556,
                            "#d8576b"
                          ],
                          [
                            0.6666666666666666,
                            "#ed7953"
                          ],
                          [
                            0.7777777777777778,
                            "#fb9f3a"
                          ],
                          [
                            0.8888888888888888,
                            "#fdca26"
                          ],
                          [
                            1,
                            "#f0f921"
                          ]
                        ],
                        "type": "surface"
                      }
                    ],
                    "table": [
                      {
                        "cells": {
                          "fill": {
                            "color": "#EBF0F8"
                          },
                          "line": {
                            "color": "white"
                          }
                        },
                        "header": {
                          "fill": {
                            "color": "#C8D4E3"
                          },
                          "line": {
                            "color": "white"
                          }
                        },
                        "type": "table"
                      }
                    ]
                  },
                  "layout": {
                    "annotationdefaults": {
                      "arrowcolor": "#2a3f5f",
                      "arrowhead": 0,
                      "arrowwidth": 1
                    },
                    "autotypenumbers": "strict",
                    "coloraxis": {
                      "colorbar": {
                        "outlinewidth": 0,
                        "ticks": ""
                      }
                    },
                    "colorscale": {
                      "diverging": [
                        [
                          0,
                          "#8e0152"
                        ],
                        [
                          0.1,
                          "#c51b7d"
                        ],
                        [
                          0.2,
                          "#de77ae"
                        ],
                        [
                          0.3,
                          "#f1b6da"
                        ],
                        [
                          0.4,
                          "#fde0ef"
                        ],
                        [
                          0.5,
                          "#f7f7f7"
                        ],
                        [
                          0.6,
                          "#e6f5d0"
                        ],
                        [
                          0.7,
                          "#b8e186"
                        ],
                        [
                          0.8,
                          "#7fbc41"
                        ],
                        [
                          0.9,
                          "#4d9221"
                        ],
                        [
                          1,
                          "#276419"
                        ]
                      ],
                      "sequential": [
                        [
                          0,
                          "#0d0887"
                        ],
                        [
                          0.1111111111111111,
                          "#46039f"
                        ],
                        [
                          0.2222222222222222,
                          "#7201a8"
                        ],
                        [
                          0.3333333333333333,
                          "#9c179e"
                        ],
                        [
                          0.4444444444444444,
                          "#bd3786"
                        ],
                        [
                          0.5555555555555556,
                          "#d8576b"
                        ],
                        [
                          0.6666666666666666,
                          "#ed7953"
                        ],
                        [
                          0.7777777777777778,
                          "#fb9f3a"
                        ],
                        [
                          0.8888888888888888,
                          "#fdca26"
                        ],
                        [
                          1,
                          "#f0f921"
                        ]
                      ],
                      "sequentialminus": [
                        [
                          0,
                          "#0d0887"
                        ],
                        [
                          0.1111111111111111,
                          "#46039f"
                        ],
                        [
                          0.2222222222222222,
                          "#7201a8"
                        ],
                        [
                          0.3333333333333333,
                          "#9c179e"
                        ],
                        [
                          0.4444444444444444,
                          "#bd3786"
                        ],
                        [
                          0.5555555555555556,
                          "#d8576b"
                        ],
                        [
                          0.6666666666666666,
                          "#ed7953"
                        ],
                        [
                          0.7777777777777778,
                          "#fb9f3a"
                        ],
                        [
                          0.8888888888888888,
                          "#fdca26"
                        ],
                        [
                          1,
                          "#f0f921"
                        ]
                      ]
                    },
                    "colorway": [
                      "#636efa",
                      "#EF553B",
                      "#00cc96",
                      "#ab63fa",
                      "#FFA15A",
                      "#19d3f3",
                      "#FF6692",
                      "#B6E880",
                      "#FF97FF",
                      "#FECB52"
                    ],
                    "font": {
                      "color": "#2a3f5f"
                    },
                    "geo": {
                      "bgcolor": "white",
                      "lakecolor": "white",
                      "landcolor": "#E5ECF6",
                      "showlakes": true,
                      "showland": true,
                      "subunitcolor": "white"
                    },
                    "hoverlabel": {
                      "align": "left"
                    },
                    "hovermode": "closest",
                    "mapbox": {
                      "style": "light"
                    },
                    "paper_bgcolor": "white",
                    "plot_bgcolor": "#E5ECF6",
                    "polar": {
                      "angularaxis": {
                        "gridcolor": "white",
                        "linecolor": "white",
                        "ticks": ""
                      },
                      "bgcolor": "#E5ECF6",
                      "radialaxis": {
                        "gridcolor": "white",
                        "linecolor": "white",
                        "ticks": ""
                      }
                    },
                    "scene": {
                      "xaxis": {
                        "backgroundcolor": "#E5ECF6",
                        "gridcolor": "white",
                        "gridwidth": 2,
                        "linecolor": "white",
                        "showbackground": true,
                        "ticks": "",
                        "zerolinecolor": "white"
                      },
                      "yaxis": {
                        "backgroundcolor": "#E5ECF6",
                        "gridcolor": "white",
                        "gridwidth": 2,
                        "linecolor": "white",
                        "showbackground": true,
                        "ticks": "",
                        "zerolinecolor": "white"
                      },
                      "zaxis": {
                        "backgroundcolor": "#E5ECF6",
                        "gridcolor": "white",
                        "gridwidth": 2,
                        "linecolor": "white",
                        "showbackground": true,
                        "ticks": "",
                        "zerolinecolor": "white"
                      }
                    },
                    "shapedefaults": {
                      "line": {
                        "color": "#2a3f5f"
                      }
                    },
                    "ternary": {
                      "aaxis": {
                        "gridcolor": "white",
                        "linecolor": "white",
                        "ticks": ""
                      },
                      "baxis": {
                        "gridcolor": "white",
                        "linecolor": "white",
                        "ticks": ""
                      },
                      "bgcolor": "#E5ECF6",
                      "caxis": {
                        "gridcolor": "white",
                        "linecolor": "white",
                        "ticks": ""
                      }
                    },
                    "title": {
                      "x": 0.05
                    },
                    "xaxis": {
                      "automargin": true,
                      "gridcolor": "white",
                      "linecolor": "white",
                      "ticks": "",
                      "title": {
                        "standoff": 15
                      },
                      "zerolinecolor": "white",
                      "zerolinewidth": 2
                    },
                    "yaxis": {
                      "automargin": true,
                      "gridcolor": "white",
                      "linecolor": "white",
                      "ticks": "",
                      "title": {
                        "standoff": 15
                      },
                      "zerolinecolor": "white",
                      "zerolinewidth": 2
                    }
                  }
                },
                "title": {
                  "text": "Zero Ablation of NMHs"
                },
                "xaxis": {
                  "anchor": "y",
                  "constrain": "domain",
                  "domain": [
                    0,
                    1
                  ],
                  "scaleanchor": "y"
                },
                "yaxis": {
                  "anchor": "x",
                  "autorange": "reversed",
                  "constrain": "domain",
                  "domain": [
                    0,
                    1
                  ]
                }
              }
            },
            "text/html": [
              "<div>                            <div id=\"f205f49f-791c-4516-8274-62071dfa97fb\" class=\"plotly-graph-div\" style=\"height:525px; width:100%;\"></div>            <script type=\"text/javascript\">                require([\"plotly\"], function(Plotly) {                    window.PLOTLYENV=window.PLOTLYENV || {};                                    if (document.getElementById(\"f205f49f-791c-4516-8274-62071dfa97fb\")) {                    Plotly.newPlot(                        \"f205f49f-791c-4516-8274-62071dfa97fb\",                        [{\"coloraxis\":\"coloraxis\",\"name\":\"0\",\"z\":[[-0.00027211569249629974,-0.0004991116002202034,-4.7988665755838156e-05,-1.528294524177909e-05,-0.00022448692470788956,-0.00048378994688391685,-0.0007719444110989571,5.708833487005904e-05,0.00010783539619296789,9.527942165732384e-05,0.0003115034196525812,0.0003641638904809952],[-5.541951395571232e-05,-0.00019068585243076086,-0.00016807508654892445,-0.00034527957905083895,0.0005738376639783382,0.0004829578101634979,-1.9603176042437553e-05,-0.0007596192881464958,4.386366344988346e-05,0.00010655354708433151,-0.0001004696823656559,-0.00011820555664598942],[0.00010612362530082464,0.00011223088949918747,6.145518273115158e-05,0.0007291296496987343,-0.0002204226329922676,-0.0003985022194683552,0.00022139004431664944,0.00022606831043958664,0.000544070266187191,-0.00034114671871066093,0.00013803644105792046,-0.00021043187007308006],[-8.947344031184912e-05,7.965380791574717e-05,-6.522698095068336e-05,-0.00013565062545239925,2.6069406885653734e-05,-7.377343717962503e-05,-2.6651076041162014e-05,-5.028070881962776e-05,-0.0002639761660248041,6.431071960832924e-05,0.00025249714963138103,0.00025597959756851196],[0.00020516314543783665,-0.00020825350657105446,-2.300017513334751e-06,-0.0004338361322879791,-7.261434802785516e-05,3.117561573162675e-05,3.116636071354151e-05,0.00034345220774412155,-4.527665441855788e-05,0.0001512679737061262,-4.788569640368223e-05,8.057235390879214e-05],[-0.0002724137157201767,-0.00013429182581603527,0.00011710927356034517,-1.4699617167934775e-06,4.937047197017819e-05,-0.00030339835211634636,3.2588141039013863e-06,-5.01010799780488e-06,-2.0217645214870572e-05,0.00015083560720086098,-0.0002833055332303047,-4.760862793773413e-05],[-0.0009418483823537827,-0.00016633071936666965,-0.0001952530292328447,0.00019159354269504547,0.00046430749353021383,0.0002856133505702019,-0.00011383416131138802,8.573328523198143e-05,-1.8232327420264482e-05,-5.266396328806877e-05,1.1449941666796803e-05,0.00029836269095540047],[-9.181839413940907e-05,0.00010961072985082865,3.714329795911908e-05,0.004860088229179382,-0.00021445308811962605,-0.0007985066622495651,-8.85925255715847e-05,-0.00012087030336260796,-0.0002841535024344921,0.011240541934967041,0.00017168745398521423,-0.000490325503051281],[0.0003753574565052986,-3.806769382208586e-05,-0.0019721873104572296,0.006409250199794769,0.00040505826473236084,0.0004309774376451969,-0.008748754858970642,5.688425153493881e-05,-0.0017820559442043304,0.0003691944293677807,0.021509438753128052,-0.006340637803077698],[0.006721764802932739,-0.000368249136954546,0.006404131650924683,0.0012822914868593216,0.0031215474009513855,0.0016058534383773804,-1.279909372329712,0.005831338465213776,-0.018112123012542725,-3.0755562782287598,4.47023194283247e-05,-0.0017687100917100906],[-0.9200468063354492,0.393655002117157,0.7963618040084839,0.056261975318193436,0.00030499702552333474,-0.0011815340258181095,0.5146880149841309,2.460582971572876,-0.001923567382618785,-0.0026293713599443436,1.136327862739563,0.018280677497386932],[-0.0009939782321453094,0.09865494072437286,0.9524878263473511,0.0875302404165268,-0.005800975486636162,-0.012952934950590134,0.10626021027565002,-0.0029168054461479187,-0.00036550499498844147,0.21556635200977325,-0.7040402889251709,0.03895508497953415]],\"type\":\"heatmap\",\"xaxis\":\"x\",\"yaxis\":\"y\",\"hovertemplate\":\"x: %{x}\\u003cbr\\u003ey: %{y}\\u003cbr\\u003ecolor: %{z}\\u003cextra\\u003e\\u003c\\u002fextra\\u003e\"}],                        {\"template\":{\"data\":{\"histogram2dcontour\":[{\"type\":\"histogram2dcontour\",\"colorbar\":{\"outlinewidth\":0,\"ticks\":\"\"},\"colorscale\":[[0.0,\"#0d0887\"],[0.1111111111111111,\"#46039f\"],[0.2222222222222222,\"#7201a8\"],[0.3333333333333333,\"#9c179e\"],[0.4444444444444444,\"#bd3786\"],[0.5555555555555556,\"#d8576b\"],[0.6666666666666666,\"#ed7953\"],[0.7777777777777778,\"#fb9f3a\"],[0.8888888888888888,\"#fdca26\"],[1.0,\"#f0f921\"]]}],\"choropleth\":[{\"type\":\"choropleth\",\"colorbar\":{\"outlinewidth\":0,\"ticks\":\"\"}}],\"histogram2d\":[{\"type\":\"histogram2d\",\"colorbar\":{\"outlinewidth\":0,\"ticks\":\"\"},\"colorscale\":[[0.0,\"#0d0887\"],[0.1111111111111111,\"#46039f\"],[0.2222222222222222,\"#7201a8\"],[0.3333333333333333,\"#9c179e\"],[0.4444444444444444,\"#bd3786\"],[0.5555555555555556,\"#d8576b\"],[0.6666666666666666,\"#ed7953\"],[0.7777777777777778,\"#fb9f3a\"],[0.8888888888888888,\"#fdca26\"],[1.0,\"#f0f921\"]]}],\"heatmap\":[{\"type\":\"heatmap\",\"colorbar\":{\"outlinewidth\":0,\"ticks\":\"\"},\"colorscale\":[[0.0,\"#0d0887\"],[0.1111111111111111,\"#46039f\"],[0.2222222222222222,\"#7201a8\"],[0.3333333333333333,\"#9c179e\"],[0.4444444444444444,\"#bd3786\"],[0.5555555555555556,\"#d8576b\"],[0.6666666666666666,\"#ed7953\"],[0.7777777777777778,\"#fb9f3a\"],[0.8888888888888888,\"#fdca26\"],[1.0,\"#f0f921\"]]}],\"heatmapgl\":[{\"type\":\"heatmapgl\",\"colorbar\":{\"outlinewidth\":0,\"ticks\":\"\"},\"colorscale\":[[0.0,\"#0d0887\"],[0.1111111111111111,\"#46039f\"],[0.2222222222222222,\"#7201a8\"],[0.3333333333333333,\"#9c179e\"],[0.4444444444444444,\"#bd3786\"],[0.5555555555555556,\"#d8576b\"],[0.6666666666666666,\"#ed7953\"],[0.7777777777777778,\"#fb9f3a\"],[0.8888888888888888,\"#fdca26\"],[1.0,\"#f0f921\"]]}],\"contourcarpet\":[{\"type\":\"contourcarpet\",\"colorbar\":{\"outlinewidth\":0,\"ticks\":\"\"}}],\"contour\":[{\"type\":\"contour\",\"colorbar\":{\"outlinewidth\":0,\"ticks\":\"\"},\"colorscale\":[[0.0,\"#0d0887\"],[0.1111111111111111,\"#46039f\"],[0.2222222222222222,\"#7201a8\"],[0.3333333333333333,\"#9c179e\"],[0.4444444444444444,\"#bd3786\"],[0.5555555555555556,\"#d8576b\"],[0.6666666666666666,\"#ed7953\"],[0.7777777777777778,\"#fb9f3a\"],[0.8888888888888888,\"#fdca26\"],[1.0,\"#f0f921\"]]}],\"surface\":[{\"type\":\"surface\",\"colorbar\":{\"outlinewidth\":0,\"ticks\":\"\"},\"colorscale\":[[0.0,\"#0d0887\"],[0.1111111111111111,\"#46039f\"],[0.2222222222222222,\"#7201a8\"],[0.3333333333333333,\"#9c179e\"],[0.4444444444444444,\"#bd3786\"],[0.5555555555555556,\"#d8576b\"],[0.6666666666666666,\"#ed7953\"],[0.7777777777777778,\"#fb9f3a\"],[0.8888888888888888,\"#fdca26\"],[1.0,\"#f0f921\"]]}],\"mesh3d\":[{\"type\":\"mesh3d\",\"colorbar\":{\"outlinewidth\":0,\"ticks\":\"\"}}],\"scatter\":[{\"fillpattern\":{\"fillmode\":\"overlay\",\"size\":10,\"solidity\":0.2},\"type\":\"scatter\"}],\"parcoords\":[{\"type\":\"parcoords\",\"line\":{\"colorbar\":{\"outlinewidth\":0,\"ticks\":\"\"}}}],\"scatterpolargl\":[{\"type\":\"scatterpolargl\",\"marker\":{\"colorbar\":{\"outlinewidth\":0,\"ticks\":\"\"}}}],\"bar\":[{\"error_x\":{\"color\":\"#2a3f5f\"},\"error_y\":{\"color\":\"#2a3f5f\"},\"marker\":{\"line\":{\"color\":\"#E5ECF6\",\"width\":0.5},\"pattern\":{\"fillmode\":\"overlay\",\"size\":10,\"solidity\":0.2}},\"type\":\"bar\"}],\"scattergeo\":[{\"type\":\"scattergeo\",\"marker\":{\"colorbar\":{\"outlinewidth\":0,\"ticks\":\"\"}}}],\"scatterpolar\":[{\"type\":\"scatterpolar\",\"marker\":{\"colorbar\":{\"outlinewidth\":0,\"ticks\":\"\"}}}],\"histogram\":[{\"marker\":{\"pattern\":{\"fillmode\":\"overlay\",\"size\":10,\"solidity\":0.2}},\"type\":\"histogram\"}],\"scattergl\":[{\"type\":\"scattergl\",\"marker\":{\"colorbar\":{\"outlinewidth\":0,\"ticks\":\"\"}}}],\"scatter3d\":[{\"type\":\"scatter3d\",\"line\":{\"colorbar\":{\"outlinewidth\":0,\"ticks\":\"\"}},\"marker\":{\"colorbar\":{\"outlinewidth\":0,\"ticks\":\"\"}}}],\"scattermapbox\":[{\"type\":\"scattermapbox\",\"marker\":{\"colorbar\":{\"outlinewidth\":0,\"ticks\":\"\"}}}],\"scatterternary\":[{\"type\":\"scatterternary\",\"marker\":{\"colorbar\":{\"outlinewidth\":0,\"ticks\":\"\"}}}],\"scattercarpet\":[{\"type\":\"scattercarpet\",\"marker\":{\"colorbar\":{\"outlinewidth\":0,\"ticks\":\"\"}}}],\"carpet\":[{\"aaxis\":{\"endlinecolor\":\"#2a3f5f\",\"gridcolor\":\"white\",\"linecolor\":\"white\",\"minorgridcolor\":\"white\",\"startlinecolor\":\"#2a3f5f\"},\"baxis\":{\"endlinecolor\":\"#2a3f5f\",\"gridcolor\":\"white\",\"linecolor\":\"white\",\"minorgridcolor\":\"white\",\"startlinecolor\":\"#2a3f5f\"},\"type\":\"carpet\"}],\"table\":[{\"cells\":{\"fill\":{\"color\":\"#EBF0F8\"},\"line\":{\"color\":\"white\"}},\"header\":{\"fill\":{\"color\":\"#C8D4E3\"},\"line\":{\"color\":\"white\"}},\"type\":\"table\"}],\"barpolar\":[{\"marker\":{\"line\":{\"color\":\"#E5ECF6\",\"width\":0.5},\"pattern\":{\"fillmode\":\"overlay\",\"size\":10,\"solidity\":0.2}},\"type\":\"barpolar\"}],\"pie\":[{\"automargin\":true,\"type\":\"pie\"}]},\"layout\":{\"autotypenumbers\":\"strict\",\"colorway\":[\"#636efa\",\"#EF553B\",\"#00cc96\",\"#ab63fa\",\"#FFA15A\",\"#19d3f3\",\"#FF6692\",\"#B6E880\",\"#FF97FF\",\"#FECB52\"],\"font\":{\"color\":\"#2a3f5f\"},\"hovermode\":\"closest\",\"hoverlabel\":{\"align\":\"left\"},\"paper_bgcolor\":\"white\",\"plot_bgcolor\":\"#E5ECF6\",\"polar\":{\"bgcolor\":\"#E5ECF6\",\"angularaxis\":{\"gridcolor\":\"white\",\"linecolor\":\"white\",\"ticks\":\"\"},\"radialaxis\":{\"gridcolor\":\"white\",\"linecolor\":\"white\",\"ticks\":\"\"}},\"ternary\":{\"bgcolor\":\"#E5ECF6\",\"aaxis\":{\"gridcolor\":\"white\",\"linecolor\":\"white\",\"ticks\":\"\"},\"baxis\":{\"gridcolor\":\"white\",\"linecolor\":\"white\",\"ticks\":\"\"},\"caxis\":{\"gridcolor\":\"white\",\"linecolor\":\"white\",\"ticks\":\"\"}},\"coloraxis\":{\"colorbar\":{\"outlinewidth\":0,\"ticks\":\"\"}},\"colorscale\":{\"sequential\":[[0.0,\"#0d0887\"],[0.1111111111111111,\"#46039f\"],[0.2222222222222222,\"#7201a8\"],[0.3333333333333333,\"#9c179e\"],[0.4444444444444444,\"#bd3786\"],[0.5555555555555556,\"#d8576b\"],[0.6666666666666666,\"#ed7953\"],[0.7777777777777778,\"#fb9f3a\"],[0.8888888888888888,\"#fdca26\"],[1.0,\"#f0f921\"]],\"sequentialminus\":[[0.0,\"#0d0887\"],[0.1111111111111111,\"#46039f\"],[0.2222222222222222,\"#7201a8\"],[0.3333333333333333,\"#9c179e\"],[0.4444444444444444,\"#bd3786\"],[0.5555555555555556,\"#d8576b\"],[0.6666666666666666,\"#ed7953\"],[0.7777777777777778,\"#fb9f3a\"],[0.8888888888888888,\"#fdca26\"],[1.0,\"#f0f921\"]],\"diverging\":[[0,\"#8e0152\"],[0.1,\"#c51b7d\"],[0.2,\"#de77ae\"],[0.3,\"#f1b6da\"],[0.4,\"#fde0ef\"],[0.5,\"#f7f7f7\"],[0.6,\"#e6f5d0\"],[0.7,\"#b8e186\"],[0.8,\"#7fbc41\"],[0.9,\"#4d9221\"],[1,\"#276419\"]]},\"xaxis\":{\"gridcolor\":\"white\",\"linecolor\":\"white\",\"ticks\":\"\",\"title\":{\"standoff\":15},\"zerolinecolor\":\"white\",\"automargin\":true,\"zerolinewidth\":2},\"yaxis\":{\"gridcolor\":\"white\",\"linecolor\":\"white\",\"ticks\":\"\",\"title\":{\"standoff\":15},\"zerolinecolor\":\"white\",\"automargin\":true,\"zerolinewidth\":2},\"scene\":{\"xaxis\":{\"backgroundcolor\":\"#E5ECF6\",\"gridcolor\":\"white\",\"linecolor\":\"white\",\"showbackground\":true,\"ticks\":\"\",\"zerolinecolor\":\"white\",\"gridwidth\":2},\"yaxis\":{\"backgroundcolor\":\"#E5ECF6\",\"gridcolor\":\"white\",\"linecolor\":\"white\",\"showbackground\":true,\"ticks\":\"\",\"zerolinecolor\":\"white\",\"gridwidth\":2},\"zaxis\":{\"backgroundcolor\":\"#E5ECF6\",\"gridcolor\":\"white\",\"linecolor\":\"white\",\"showbackground\":true,\"ticks\":\"\",\"zerolinecolor\":\"white\",\"gridwidth\":2}},\"shapedefaults\":{\"line\":{\"color\":\"#2a3f5f\"}},\"annotationdefaults\":{\"arrowcolor\":\"#2a3f5f\",\"arrowhead\":0,\"arrowwidth\":1},\"geo\":{\"bgcolor\":\"white\",\"landcolor\":\"#E5ECF6\",\"subunitcolor\":\"white\",\"showland\":true,\"showlakes\":true,\"lakecolor\":\"white\"},\"title\":{\"x\":0.05},\"mapbox\":{\"style\":\"light\"}}},\"xaxis\":{\"anchor\":\"y\",\"domain\":[0.0,1.0],\"scaleanchor\":\"y\",\"constrain\":\"domain\"},\"yaxis\":{\"anchor\":\"x\",\"domain\":[0.0,1.0],\"autorange\":\"reversed\",\"constrain\":\"domain\"},\"coloraxis\":{\"colorscale\":[[0.0,\"rgb(103,0,31)\"],[0.1,\"rgb(178,24,43)\"],[0.2,\"rgb(214,96,77)\"],[0.3,\"rgb(244,165,130)\"],[0.4,\"rgb(253,219,199)\"],[0.5,\"rgb(247,247,247)\"],[0.6,\"rgb(209,229,240)\"],[0.7,\"rgb(146,197,222)\"],[0.8,\"rgb(67,147,195)\"],[0.9,\"rgb(33,102,172)\"],[1.0,\"rgb(5,48,97)\"]],\"cmid\":0.0},\"title\":{\"text\":\"Zero Ablation of NMHs\"}},                        {\"responsive\": true}                    ).then(function(){\n",
              "                            \n",
              "var gd = document.getElementById('f205f49f-791c-4516-8274-62071dfa97fb');\n",
              "var x = new MutationObserver(function (mutations, observer) {{\n",
              "        var display = window.getComputedStyle(gd).display;\n",
              "        if (!display || display === 'none') {{\n",
              "            console.log([gd, 'removed!']);\n",
              "            Plotly.purge(gd);\n",
              "            observer.disconnect();\n",
              "        }}\n",
              "}});\n",
              "\n",
              "// Listen for the removal of the full notebook cells\n",
              "var notebookContainer = gd.closest('#notebook-container');\n",
              "if (notebookContainer) {{\n",
              "    x.observe(notebookContainer, {childList: true});\n",
              "}}\n",
              "\n",
              "// Listen for the clearing of the current output cell\n",
              "var outputEl = gd.closest('.output');\n",
              "if (outputEl) {{\n",
              "    x.observe(outputEl, {childList: true});\n",
              "}}\n",
              "\n",
              "                        })                };                });            </script>        </div>"
            ]
          },
          "metadata": {},
          "output_type": "display_data"
        },
        {
          "data": {
            "application/vnd.plotly.v1+json": {
              "config": {
                "plotlyServerURL": "https://plot.ly"
              },
              "data": [
                {
                  "coloraxis": "coloraxis",
                  "hovertemplate": "x: %{x}<br>y: %{y}<br>color: %{z}<extra></extra>",
                  "name": "0",
                  "type": "heatmap",
                  "xaxis": "x",
                  "yaxis": "y",
                  "z": [
                    [
                      -0.00021548103541135788,
                      -0.000383725855499506,
                      -0.00002603809116408229,
                      0.000057060562539845705,
                      -0.00014334986917674541,
                      -0.0005147499032318592,
                      -0.0006119208410382271,
                      0.00009410957136424258,
                      0.00046061293687671423,
                      0.00026972079649567604,
                      0.00017038197256624699,
                      0.0005802973173558712
                    ],
                    [
                      -0.00021447357721626759,
                      -0.00018700712826102972,
                      -0.0002594438847154379,
                      -0.000378488446585834,
                      0.0005860584788024426,
                      0.0002416023053228855,
                      0.0000355161027982831,
                      -0.0006514638662338257,
                      0.00013566971756517887,
                      -0.000007420661859214306,
                      -0.000007402617484331131,
                      -0.00018513691611588
                    ],
                    [
                      0.00011203309986740351,
                      -0.00005787820555269718,
                      0.000005443231202661991,
                      0.0007482562214136124,
                      -0.00023536011576652527,
                      -0.0003555081784725189,
                      0.00037318537943065166,
                      0.00017812475562095642,
                      0.0003040395677089691,
                      -0.00030411314219236374,
                      -0.00018770212773233652,
                      -0.0002689906395971775
                    ],
                    [
                      -0.0000673545291647315,
                      0.00009127543307840824,
                      -0.00010574888437986374,
                      -0.00012518255971372128,
                      0.000144451973028481,
                      -0.00007863237988203764,
                      -0.00006517907604575157,
                      -0.00002589123323559761,
                      -0.0001600764226168394,
                      -0.00010189489694312215,
                      0.00006667920388281345,
                      0.0002374676987528801
                    ],
                    [
                      0.0002518205437809229,
                      -0.00030636973679065704,
                      -0.00004202895797789097,
                      -0.00019686948508024216,
                      -0.000037865014746785164,
                      0.00015724048716947436,
                      0.00026763457572087646,
                      0.00009596534073352814,
                      -0.00014877079229336232,
                      0.00003863358870148659,
                      0.00004836212610825896,
                      -0.00010782641766127199
                    ],
                    [
                      -0.0001419680193066597,
                      0.00008551857899874449,
                      0.00014423136599361897,
                      -0.000004341887688497081,
                      0.000045851964387111366,
                      -0.00015212921425700188,
                      -0.000007104594260454178,
                      -0.00016648799646645784,
                      -0.000004311121301725507,
                      -0.00042520416900515556,
                      -0.00009276438504457474,
                      0.000026236753910779953
                    ],
                    [
                      -0.0008923644199967384,
                      -0.0002483793068677187,
                      -0.00008020966197364032,
                      0.0002305610105395317,
                      -0.0000813845545053482,
                      0.00033009937033057213,
                      0.0003716498613357544,
                      0.0000939576348173432,
                      -0.00008737904136069119,
                      -0.00012191699352115393,
                      -0.00017888698494061828,
                      0.00013655261136591434
                    ],
                    [
                      -0.00014154135715216398,
                      -0.000060970429331064224,
                      -0.00004694252857007086,
                      0.004436373710632324,
                      -0.00024359812960028648,
                      -0.0010197125375270844,
                      0.00007719779387116432,
                      -0.0002298180479556322,
                      -0.000473750289529562,
                      0.010235190391540527,
                      0.00030164257623255253,
                      -0.0007065385580062866
                    ],
                    [
                      0.0002649896778166294,
                      -0.000026995083317160606,
                      -0.0020884834229946136,
                      0.005652017891407013,
                      0.0003130650147795677,
                      -0.00007979432120919228,
                      -0.008002087473869324,
                      -0.00011787307448685169,
                      -0.0020725950598716736,
                      0.0002554892562329769,
                      0.02052655816078186,
                      -0.005898654460906982
                    ],
                    [
                      0.005133546888828278,
                      -0.00022412743419408798,
                      0.004575476050376892,
                      0.0006118640303611755,
                      0.002798430621623993,
                      0.0025525540113449097,
                      0.07596385478973389,
                      0.005081139504909515,
                      -0.0194433331489563,
                      0.1738295555114746,
                      0.00004548695869743824,
                      -0.0016348082572221756
                    ],
                    [
                      1.1790432929992676,
                      0.3658842444419861,
                      0.548969030380249,
                      0.032961830496788025,
                      0.0018161728512495756,
                      -0.00032589887268841267,
                      0.45745784044265747,
                      1.5258874893188477,
                      -0.002330297604203224,
                      -0.0015325676649808884,
                      1.0506194829940796,
                      0.016332536935806274
                    ],
                    [
                      -0.0017301402986049652,
                      0.030200447887182236,
                      -0.12391886115074158,
                      0.13052454590797424,
                      -0.005679974798113108,
                      -0.0097465505823493,
                      -0.034422025084495544,
                      -0.0023750662803649902,
                      0.005199730396270752,
                      0.1366080492734909,
                      -0.8176584243774414,
                      0.05964338779449463
                    ]
                  ]
                }
              ],
              "layout": {
                "coloraxis": {
                  "cmid": 0,
                  "colorscale": [
                    [
                      0,
                      "rgb(103,0,31)"
                    ],
                    [
                      0.1,
                      "rgb(178,24,43)"
                    ],
                    [
                      0.2,
                      "rgb(214,96,77)"
                    ],
                    [
                      0.3,
                      "rgb(244,165,130)"
                    ],
                    [
                      0.4,
                      "rgb(253,219,199)"
                    ],
                    [
                      0.5,
                      "rgb(247,247,247)"
                    ],
                    [
                      0.6,
                      "rgb(209,229,240)"
                    ],
                    [
                      0.7,
                      "rgb(146,197,222)"
                    ],
                    [
                      0.8,
                      "rgb(67,147,195)"
                    ],
                    [
                      0.9,
                      "rgb(33,102,172)"
                    ],
                    [
                      1,
                      "rgb(5,48,97)"
                    ]
                  ]
                },
                "template": {
                  "data": {
                    "bar": [
                      {
                        "error_x": {
                          "color": "#2a3f5f"
                        },
                        "error_y": {
                          "color": "#2a3f5f"
                        },
                        "marker": {
                          "line": {
                            "color": "#E5ECF6",
                            "width": 0.5
                          },
                          "pattern": {
                            "fillmode": "overlay",
                            "size": 10,
                            "solidity": 0.2
                          }
                        },
                        "type": "bar"
                      }
                    ],
                    "barpolar": [
                      {
                        "marker": {
                          "line": {
                            "color": "#E5ECF6",
                            "width": 0.5
                          },
                          "pattern": {
                            "fillmode": "overlay",
                            "size": 10,
                            "solidity": 0.2
                          }
                        },
                        "type": "barpolar"
                      }
                    ],
                    "carpet": [
                      {
                        "aaxis": {
                          "endlinecolor": "#2a3f5f",
                          "gridcolor": "white",
                          "linecolor": "white",
                          "minorgridcolor": "white",
                          "startlinecolor": "#2a3f5f"
                        },
                        "baxis": {
                          "endlinecolor": "#2a3f5f",
                          "gridcolor": "white",
                          "linecolor": "white",
                          "minorgridcolor": "white",
                          "startlinecolor": "#2a3f5f"
                        },
                        "type": "carpet"
                      }
                    ],
                    "choropleth": [
                      {
                        "colorbar": {
                          "outlinewidth": 0,
                          "ticks": ""
                        },
                        "type": "choropleth"
                      }
                    ],
                    "contour": [
                      {
                        "colorbar": {
                          "outlinewidth": 0,
                          "ticks": ""
                        },
                        "colorscale": [
                          [
                            0,
                            "#0d0887"
                          ],
                          [
                            0.1111111111111111,
                            "#46039f"
                          ],
                          [
                            0.2222222222222222,
                            "#7201a8"
                          ],
                          [
                            0.3333333333333333,
                            "#9c179e"
                          ],
                          [
                            0.4444444444444444,
                            "#bd3786"
                          ],
                          [
                            0.5555555555555556,
                            "#d8576b"
                          ],
                          [
                            0.6666666666666666,
                            "#ed7953"
                          ],
                          [
                            0.7777777777777778,
                            "#fb9f3a"
                          ],
                          [
                            0.8888888888888888,
                            "#fdca26"
                          ],
                          [
                            1,
                            "#f0f921"
                          ]
                        ],
                        "type": "contour"
                      }
                    ],
                    "contourcarpet": [
                      {
                        "colorbar": {
                          "outlinewidth": 0,
                          "ticks": ""
                        },
                        "type": "contourcarpet"
                      }
                    ],
                    "heatmap": [
                      {
                        "colorbar": {
                          "outlinewidth": 0,
                          "ticks": ""
                        },
                        "colorscale": [
                          [
                            0,
                            "#0d0887"
                          ],
                          [
                            0.1111111111111111,
                            "#46039f"
                          ],
                          [
                            0.2222222222222222,
                            "#7201a8"
                          ],
                          [
                            0.3333333333333333,
                            "#9c179e"
                          ],
                          [
                            0.4444444444444444,
                            "#bd3786"
                          ],
                          [
                            0.5555555555555556,
                            "#d8576b"
                          ],
                          [
                            0.6666666666666666,
                            "#ed7953"
                          ],
                          [
                            0.7777777777777778,
                            "#fb9f3a"
                          ],
                          [
                            0.8888888888888888,
                            "#fdca26"
                          ],
                          [
                            1,
                            "#f0f921"
                          ]
                        ],
                        "type": "heatmap"
                      }
                    ],
                    "heatmapgl": [
                      {
                        "colorbar": {
                          "outlinewidth": 0,
                          "ticks": ""
                        },
                        "colorscale": [
                          [
                            0,
                            "#0d0887"
                          ],
                          [
                            0.1111111111111111,
                            "#46039f"
                          ],
                          [
                            0.2222222222222222,
                            "#7201a8"
                          ],
                          [
                            0.3333333333333333,
                            "#9c179e"
                          ],
                          [
                            0.4444444444444444,
                            "#bd3786"
                          ],
                          [
                            0.5555555555555556,
                            "#d8576b"
                          ],
                          [
                            0.6666666666666666,
                            "#ed7953"
                          ],
                          [
                            0.7777777777777778,
                            "#fb9f3a"
                          ],
                          [
                            0.8888888888888888,
                            "#fdca26"
                          ],
                          [
                            1,
                            "#f0f921"
                          ]
                        ],
                        "type": "heatmapgl"
                      }
                    ],
                    "histogram": [
                      {
                        "marker": {
                          "pattern": {
                            "fillmode": "overlay",
                            "size": 10,
                            "solidity": 0.2
                          }
                        },
                        "type": "histogram"
                      }
                    ],
                    "histogram2d": [
                      {
                        "colorbar": {
                          "outlinewidth": 0,
                          "ticks": ""
                        },
                        "colorscale": [
                          [
                            0,
                            "#0d0887"
                          ],
                          [
                            0.1111111111111111,
                            "#46039f"
                          ],
                          [
                            0.2222222222222222,
                            "#7201a8"
                          ],
                          [
                            0.3333333333333333,
                            "#9c179e"
                          ],
                          [
                            0.4444444444444444,
                            "#bd3786"
                          ],
                          [
                            0.5555555555555556,
                            "#d8576b"
                          ],
                          [
                            0.6666666666666666,
                            "#ed7953"
                          ],
                          [
                            0.7777777777777778,
                            "#fb9f3a"
                          ],
                          [
                            0.8888888888888888,
                            "#fdca26"
                          ],
                          [
                            1,
                            "#f0f921"
                          ]
                        ],
                        "type": "histogram2d"
                      }
                    ],
                    "histogram2dcontour": [
                      {
                        "colorbar": {
                          "outlinewidth": 0,
                          "ticks": ""
                        },
                        "colorscale": [
                          [
                            0,
                            "#0d0887"
                          ],
                          [
                            0.1111111111111111,
                            "#46039f"
                          ],
                          [
                            0.2222222222222222,
                            "#7201a8"
                          ],
                          [
                            0.3333333333333333,
                            "#9c179e"
                          ],
                          [
                            0.4444444444444444,
                            "#bd3786"
                          ],
                          [
                            0.5555555555555556,
                            "#d8576b"
                          ],
                          [
                            0.6666666666666666,
                            "#ed7953"
                          ],
                          [
                            0.7777777777777778,
                            "#fb9f3a"
                          ],
                          [
                            0.8888888888888888,
                            "#fdca26"
                          ],
                          [
                            1,
                            "#f0f921"
                          ]
                        ],
                        "type": "histogram2dcontour"
                      }
                    ],
                    "mesh3d": [
                      {
                        "colorbar": {
                          "outlinewidth": 0,
                          "ticks": ""
                        },
                        "type": "mesh3d"
                      }
                    ],
                    "parcoords": [
                      {
                        "line": {
                          "colorbar": {
                            "outlinewidth": 0,
                            "ticks": ""
                          }
                        },
                        "type": "parcoords"
                      }
                    ],
                    "pie": [
                      {
                        "automargin": true,
                        "type": "pie"
                      }
                    ],
                    "scatter": [
                      {
                        "fillpattern": {
                          "fillmode": "overlay",
                          "size": 10,
                          "solidity": 0.2
                        },
                        "type": "scatter"
                      }
                    ],
                    "scatter3d": [
                      {
                        "line": {
                          "colorbar": {
                            "outlinewidth": 0,
                            "ticks": ""
                          }
                        },
                        "marker": {
                          "colorbar": {
                            "outlinewidth": 0,
                            "ticks": ""
                          }
                        },
                        "type": "scatter3d"
                      }
                    ],
                    "scattercarpet": [
                      {
                        "marker": {
                          "colorbar": {
                            "outlinewidth": 0,
                            "ticks": ""
                          }
                        },
                        "type": "scattercarpet"
                      }
                    ],
                    "scattergeo": [
                      {
                        "marker": {
                          "colorbar": {
                            "outlinewidth": 0,
                            "ticks": ""
                          }
                        },
                        "type": "scattergeo"
                      }
                    ],
                    "scattergl": [
                      {
                        "marker": {
                          "colorbar": {
                            "outlinewidth": 0,
                            "ticks": ""
                          }
                        },
                        "type": "scattergl"
                      }
                    ],
                    "scattermapbox": [
                      {
                        "marker": {
                          "colorbar": {
                            "outlinewidth": 0,
                            "ticks": ""
                          }
                        },
                        "type": "scattermapbox"
                      }
                    ],
                    "scatterpolar": [
                      {
                        "marker": {
                          "colorbar": {
                            "outlinewidth": 0,
                            "ticks": ""
                          }
                        },
                        "type": "scatterpolar"
                      }
                    ],
                    "scatterpolargl": [
                      {
                        "marker": {
                          "colorbar": {
                            "outlinewidth": 0,
                            "ticks": ""
                          }
                        },
                        "type": "scatterpolargl"
                      }
                    ],
                    "scatterternary": [
                      {
                        "marker": {
                          "colorbar": {
                            "outlinewidth": 0,
                            "ticks": ""
                          }
                        },
                        "type": "scatterternary"
                      }
                    ],
                    "surface": [
                      {
                        "colorbar": {
                          "outlinewidth": 0,
                          "ticks": ""
                        },
                        "colorscale": [
                          [
                            0,
                            "#0d0887"
                          ],
                          [
                            0.1111111111111111,
                            "#46039f"
                          ],
                          [
                            0.2222222222222222,
                            "#7201a8"
                          ],
                          [
                            0.3333333333333333,
                            "#9c179e"
                          ],
                          [
                            0.4444444444444444,
                            "#bd3786"
                          ],
                          [
                            0.5555555555555556,
                            "#d8576b"
                          ],
                          [
                            0.6666666666666666,
                            "#ed7953"
                          ],
                          [
                            0.7777777777777778,
                            "#fb9f3a"
                          ],
                          [
                            0.8888888888888888,
                            "#fdca26"
                          ],
                          [
                            1,
                            "#f0f921"
                          ]
                        ],
                        "type": "surface"
                      }
                    ],
                    "table": [
                      {
                        "cells": {
                          "fill": {
                            "color": "#EBF0F8"
                          },
                          "line": {
                            "color": "white"
                          }
                        },
                        "header": {
                          "fill": {
                            "color": "#C8D4E3"
                          },
                          "line": {
                            "color": "white"
                          }
                        },
                        "type": "table"
                      }
                    ]
                  },
                  "layout": {
                    "annotationdefaults": {
                      "arrowcolor": "#2a3f5f",
                      "arrowhead": 0,
                      "arrowwidth": 1
                    },
                    "autotypenumbers": "strict",
                    "coloraxis": {
                      "colorbar": {
                        "outlinewidth": 0,
                        "ticks": ""
                      }
                    },
                    "colorscale": {
                      "diverging": [
                        [
                          0,
                          "#8e0152"
                        ],
                        [
                          0.1,
                          "#c51b7d"
                        ],
                        [
                          0.2,
                          "#de77ae"
                        ],
                        [
                          0.3,
                          "#f1b6da"
                        ],
                        [
                          0.4,
                          "#fde0ef"
                        ],
                        [
                          0.5,
                          "#f7f7f7"
                        ],
                        [
                          0.6,
                          "#e6f5d0"
                        ],
                        [
                          0.7,
                          "#b8e186"
                        ],
                        [
                          0.8,
                          "#7fbc41"
                        ],
                        [
                          0.9,
                          "#4d9221"
                        ],
                        [
                          1,
                          "#276419"
                        ]
                      ],
                      "sequential": [
                        [
                          0,
                          "#0d0887"
                        ],
                        [
                          0.1111111111111111,
                          "#46039f"
                        ],
                        [
                          0.2222222222222222,
                          "#7201a8"
                        ],
                        [
                          0.3333333333333333,
                          "#9c179e"
                        ],
                        [
                          0.4444444444444444,
                          "#bd3786"
                        ],
                        [
                          0.5555555555555556,
                          "#d8576b"
                        ],
                        [
                          0.6666666666666666,
                          "#ed7953"
                        ],
                        [
                          0.7777777777777778,
                          "#fb9f3a"
                        ],
                        [
                          0.8888888888888888,
                          "#fdca26"
                        ],
                        [
                          1,
                          "#f0f921"
                        ]
                      ],
                      "sequentialminus": [
                        [
                          0,
                          "#0d0887"
                        ],
                        [
                          0.1111111111111111,
                          "#46039f"
                        ],
                        [
                          0.2222222222222222,
                          "#7201a8"
                        ],
                        [
                          0.3333333333333333,
                          "#9c179e"
                        ],
                        [
                          0.4444444444444444,
                          "#bd3786"
                        ],
                        [
                          0.5555555555555556,
                          "#d8576b"
                        ],
                        [
                          0.6666666666666666,
                          "#ed7953"
                        ],
                        [
                          0.7777777777777778,
                          "#fb9f3a"
                        ],
                        [
                          0.8888888888888888,
                          "#fdca26"
                        ],
                        [
                          1,
                          "#f0f921"
                        ]
                      ]
                    },
                    "colorway": [
                      "#636efa",
                      "#EF553B",
                      "#00cc96",
                      "#ab63fa",
                      "#FFA15A",
                      "#19d3f3",
                      "#FF6692",
                      "#B6E880",
                      "#FF97FF",
                      "#FECB52"
                    ],
                    "font": {
                      "color": "#2a3f5f"
                    },
                    "geo": {
                      "bgcolor": "white",
                      "lakecolor": "white",
                      "landcolor": "#E5ECF6",
                      "showlakes": true,
                      "showland": true,
                      "subunitcolor": "white"
                    },
                    "hoverlabel": {
                      "align": "left"
                    },
                    "hovermode": "closest",
                    "mapbox": {
                      "style": "light"
                    },
                    "paper_bgcolor": "white",
                    "plot_bgcolor": "#E5ECF6",
                    "polar": {
                      "angularaxis": {
                        "gridcolor": "white",
                        "linecolor": "white",
                        "ticks": ""
                      },
                      "bgcolor": "#E5ECF6",
                      "radialaxis": {
                        "gridcolor": "white",
                        "linecolor": "white",
                        "ticks": ""
                      }
                    },
                    "scene": {
                      "xaxis": {
                        "backgroundcolor": "#E5ECF6",
                        "gridcolor": "white",
                        "gridwidth": 2,
                        "linecolor": "white",
                        "showbackground": true,
                        "ticks": "",
                        "zerolinecolor": "white"
                      },
                      "yaxis": {
                        "backgroundcolor": "#E5ECF6",
                        "gridcolor": "white",
                        "gridwidth": 2,
                        "linecolor": "white",
                        "showbackground": true,
                        "ticks": "",
                        "zerolinecolor": "white"
                      },
                      "zaxis": {
                        "backgroundcolor": "#E5ECF6",
                        "gridcolor": "white",
                        "gridwidth": 2,
                        "linecolor": "white",
                        "showbackground": true,
                        "ticks": "",
                        "zerolinecolor": "white"
                      }
                    },
                    "shapedefaults": {
                      "line": {
                        "color": "#2a3f5f"
                      }
                    },
                    "ternary": {
                      "aaxis": {
                        "gridcolor": "white",
                        "linecolor": "white",
                        "ticks": ""
                      },
                      "baxis": {
                        "gridcolor": "white",
                        "linecolor": "white",
                        "ticks": ""
                      },
                      "bgcolor": "#E5ECF6",
                      "caxis": {
                        "gridcolor": "white",
                        "linecolor": "white",
                        "ticks": ""
                      }
                    },
                    "title": {
                      "x": 0.05
                    },
                    "xaxis": {
                      "automargin": true,
                      "gridcolor": "white",
                      "linecolor": "white",
                      "ticks": "",
                      "title": {
                        "standoff": 15
                      },
                      "zerolinecolor": "white",
                      "zerolinewidth": 2
                    },
                    "yaxis": {
                      "automargin": true,
                      "gridcolor": "white",
                      "linecolor": "white",
                      "ticks": "",
                      "title": {
                        "standoff": 15
                      },
                      "zerolinecolor": "white",
                      "zerolinewidth": 2
                    }
                  }
                },
                "title": {
                  "text": "Project Only IO Direction (Zero ⊥ IO direction)"
                },
                "xaxis": {
                  "anchor": "y",
                  "constrain": "domain",
                  "domain": [
                    0,
                    1
                  ],
                  "scaleanchor": "y"
                },
                "yaxis": {
                  "anchor": "x",
                  "autorange": "reversed",
                  "constrain": "domain",
                  "domain": [
                    0,
                    1
                  ]
                }
              }
            },
            "text/html": [
              "<div>                            <div id=\"1f2ffd62-a0a3-4626-b6e3-4ee9c41586f9\" class=\"plotly-graph-div\" style=\"height:525px; width:100%;\"></div>            <script type=\"text/javascript\">                require([\"plotly\"], function(Plotly) {                    window.PLOTLYENV=window.PLOTLYENV || {};                                    if (document.getElementById(\"1f2ffd62-a0a3-4626-b6e3-4ee9c41586f9\")) {                    Plotly.newPlot(                        \"1f2ffd62-a0a3-4626-b6e3-4ee9c41586f9\",                        [{\"coloraxis\":\"coloraxis\",\"name\":\"0\",\"z\":[[-0.00021548103541135788,-0.000383725855499506,-2.603809116408229e-05,5.7060562539845705e-05,-0.00014334986917674541,-0.0005147499032318592,-0.0006119208410382271,9.410957136424258e-05,0.00046061293687671423,0.00026972079649567604,0.00017038197256624699,0.0005802973173558712],[-0.00021447357721626759,-0.00018700712826102972,-0.0002594438847154379,-0.000378488446585834,0.0005860584788024426,0.0002416023053228855,3.55161027982831e-05,-0.0006514638662338257,0.00013566971756517887,-7.420661859214306e-06,-7.402617484331131e-06,-0.00018513691611588],[0.00011203309986740351,-5.787820555269718e-05,5.443231202661991e-06,0.0007482562214136124,-0.00023536011576652527,-0.0003555081784725189,0.00037318537943065166,0.00017812475562095642,0.0003040395677089691,-0.00030411314219236374,-0.00018770212773233652,-0.0002689906395971775],[-6.73545291647315e-05,9.127543307840824e-05,-0.00010574888437986374,-0.00012518255971372128,0.000144451973028481,-7.863237988203764e-05,-6.517907604575157e-05,-2.589123323559761e-05,-0.0001600764226168394,-0.00010189489694312215,6.667920388281345e-05,0.0002374676987528801],[0.0002518205437809229,-0.00030636973679065704,-4.202895797789097e-05,-0.00019686948508024216,-3.7865014746785164e-05,0.00015724048716947436,0.00026763457572087646,9.596534073352814e-05,-0.00014877079229336232,3.863358870148659e-05,4.836212610825896e-05,-0.00010782641766127199],[-0.0001419680193066597,8.551857899874449e-05,0.00014423136599361897,-4.341887688497081e-06,4.5851964387111366e-05,-0.00015212921425700188,-7.104594260454178e-06,-0.00016648799646645784,-4.311121301725507e-06,-0.00042520416900515556,-9.276438504457474e-05,2.6236753910779953e-05],[-0.0008923644199967384,-0.0002483793068677187,-8.020966197364032e-05,0.0002305610105395317,-8.13845545053482e-05,0.00033009937033057213,0.0003716498613357544,9.39576348173432e-05,-8.737904136069119e-05,-0.00012191699352115393,-0.00017888698494061828,0.00013655261136591434],[-0.00014154135715216398,-6.0970429331064224e-05,-4.694252857007086e-05,0.004436373710632324,-0.00024359812960028648,-0.0010197125375270844,7.719779387116432e-05,-0.0002298180479556322,-0.000473750289529562,0.010235190391540527,0.00030164257623255253,-0.0007065385580062866],[0.0002649896778166294,-2.6995083317160606e-05,-0.0020884834229946136,0.005652017891407013,0.0003130650147795677,-7.979432120919228e-05,-0.008002087473869324,-0.00011787307448685169,-0.0020725950598716736,0.0002554892562329769,0.02052655816078186,-0.005898654460906982],[0.005133546888828278,-0.00022412743419408798,0.004575476050376892,0.0006118640303611755,0.002798430621623993,0.0025525540113449097,0.07596385478973389,0.005081139504909515,-0.0194433331489563,0.1738295555114746,4.548695869743824e-05,-0.0016348082572221756],[1.1790432929992676,0.3658842444419861,0.548969030380249,0.032961830496788025,0.0018161728512495756,-0.00032589887268841267,0.45745784044265747,1.5258874893188477,-0.002330297604203224,-0.0015325676649808884,1.0506194829940796,0.016332536935806274],[-0.0017301402986049652,0.030200447887182236,-0.12391886115074158,0.13052454590797424,-0.005679974798113108,-0.0097465505823493,-0.034422025084495544,-0.0023750662803649902,0.005199730396270752,0.1366080492734909,-0.8176584243774414,0.05964338779449463]],\"type\":\"heatmap\",\"xaxis\":\"x\",\"yaxis\":\"y\",\"hovertemplate\":\"x: %{x}\\u003cbr\\u003ey: %{y}\\u003cbr\\u003ecolor: %{z}\\u003cextra\\u003e\\u003c\\u002fextra\\u003e\"}],                        {\"template\":{\"data\":{\"histogram2dcontour\":[{\"type\":\"histogram2dcontour\",\"colorbar\":{\"outlinewidth\":0,\"ticks\":\"\"},\"colorscale\":[[0.0,\"#0d0887\"],[0.1111111111111111,\"#46039f\"],[0.2222222222222222,\"#7201a8\"],[0.3333333333333333,\"#9c179e\"],[0.4444444444444444,\"#bd3786\"],[0.5555555555555556,\"#d8576b\"],[0.6666666666666666,\"#ed7953\"],[0.7777777777777778,\"#fb9f3a\"],[0.8888888888888888,\"#fdca26\"],[1.0,\"#f0f921\"]]}],\"choropleth\":[{\"type\":\"choropleth\",\"colorbar\":{\"outlinewidth\":0,\"ticks\":\"\"}}],\"histogram2d\":[{\"type\":\"histogram2d\",\"colorbar\":{\"outlinewidth\":0,\"ticks\":\"\"},\"colorscale\":[[0.0,\"#0d0887\"],[0.1111111111111111,\"#46039f\"],[0.2222222222222222,\"#7201a8\"],[0.3333333333333333,\"#9c179e\"],[0.4444444444444444,\"#bd3786\"],[0.5555555555555556,\"#d8576b\"],[0.6666666666666666,\"#ed7953\"],[0.7777777777777778,\"#fb9f3a\"],[0.8888888888888888,\"#fdca26\"],[1.0,\"#f0f921\"]]}],\"heatmap\":[{\"type\":\"heatmap\",\"colorbar\":{\"outlinewidth\":0,\"ticks\":\"\"},\"colorscale\":[[0.0,\"#0d0887\"],[0.1111111111111111,\"#46039f\"],[0.2222222222222222,\"#7201a8\"],[0.3333333333333333,\"#9c179e\"],[0.4444444444444444,\"#bd3786\"],[0.5555555555555556,\"#d8576b\"],[0.6666666666666666,\"#ed7953\"],[0.7777777777777778,\"#fb9f3a\"],[0.8888888888888888,\"#fdca26\"],[1.0,\"#f0f921\"]]}],\"heatmapgl\":[{\"type\":\"heatmapgl\",\"colorbar\":{\"outlinewidth\":0,\"ticks\":\"\"},\"colorscale\":[[0.0,\"#0d0887\"],[0.1111111111111111,\"#46039f\"],[0.2222222222222222,\"#7201a8\"],[0.3333333333333333,\"#9c179e\"],[0.4444444444444444,\"#bd3786\"],[0.5555555555555556,\"#d8576b\"],[0.6666666666666666,\"#ed7953\"],[0.7777777777777778,\"#fb9f3a\"],[0.8888888888888888,\"#fdca26\"],[1.0,\"#f0f921\"]]}],\"contourcarpet\":[{\"type\":\"contourcarpet\",\"colorbar\":{\"outlinewidth\":0,\"ticks\":\"\"}}],\"contour\":[{\"type\":\"contour\",\"colorbar\":{\"outlinewidth\":0,\"ticks\":\"\"},\"colorscale\":[[0.0,\"#0d0887\"],[0.1111111111111111,\"#46039f\"],[0.2222222222222222,\"#7201a8\"],[0.3333333333333333,\"#9c179e\"],[0.4444444444444444,\"#bd3786\"],[0.5555555555555556,\"#d8576b\"],[0.6666666666666666,\"#ed7953\"],[0.7777777777777778,\"#fb9f3a\"],[0.8888888888888888,\"#fdca26\"],[1.0,\"#f0f921\"]]}],\"surface\":[{\"type\":\"surface\",\"colorbar\":{\"outlinewidth\":0,\"ticks\":\"\"},\"colorscale\":[[0.0,\"#0d0887\"],[0.1111111111111111,\"#46039f\"],[0.2222222222222222,\"#7201a8\"],[0.3333333333333333,\"#9c179e\"],[0.4444444444444444,\"#bd3786\"],[0.5555555555555556,\"#d8576b\"],[0.6666666666666666,\"#ed7953\"],[0.7777777777777778,\"#fb9f3a\"],[0.8888888888888888,\"#fdca26\"],[1.0,\"#f0f921\"]]}],\"mesh3d\":[{\"type\":\"mesh3d\",\"colorbar\":{\"outlinewidth\":0,\"ticks\":\"\"}}],\"scatter\":[{\"fillpattern\":{\"fillmode\":\"overlay\",\"size\":10,\"solidity\":0.2},\"type\":\"scatter\"}],\"parcoords\":[{\"type\":\"parcoords\",\"line\":{\"colorbar\":{\"outlinewidth\":0,\"ticks\":\"\"}}}],\"scatterpolargl\":[{\"type\":\"scatterpolargl\",\"marker\":{\"colorbar\":{\"outlinewidth\":0,\"ticks\":\"\"}}}],\"bar\":[{\"error_x\":{\"color\":\"#2a3f5f\"},\"error_y\":{\"color\":\"#2a3f5f\"},\"marker\":{\"line\":{\"color\":\"#E5ECF6\",\"width\":0.5},\"pattern\":{\"fillmode\":\"overlay\",\"size\":10,\"solidity\":0.2}},\"type\":\"bar\"}],\"scattergeo\":[{\"type\":\"scattergeo\",\"marker\":{\"colorbar\":{\"outlinewidth\":0,\"ticks\":\"\"}}}],\"scatterpolar\":[{\"type\":\"scatterpolar\",\"marker\":{\"colorbar\":{\"outlinewidth\":0,\"ticks\":\"\"}}}],\"histogram\":[{\"marker\":{\"pattern\":{\"fillmode\":\"overlay\",\"size\":10,\"solidity\":0.2}},\"type\":\"histogram\"}],\"scattergl\":[{\"type\":\"scattergl\",\"marker\":{\"colorbar\":{\"outlinewidth\":0,\"ticks\":\"\"}}}],\"scatter3d\":[{\"type\":\"scatter3d\",\"line\":{\"colorbar\":{\"outlinewidth\":0,\"ticks\":\"\"}},\"marker\":{\"colorbar\":{\"outlinewidth\":0,\"ticks\":\"\"}}}],\"scattermapbox\":[{\"type\":\"scattermapbox\",\"marker\":{\"colorbar\":{\"outlinewidth\":0,\"ticks\":\"\"}}}],\"scatterternary\":[{\"type\":\"scatterternary\",\"marker\":{\"colorbar\":{\"outlinewidth\":0,\"ticks\":\"\"}}}],\"scattercarpet\":[{\"type\":\"scattercarpet\",\"marker\":{\"colorbar\":{\"outlinewidth\":0,\"ticks\":\"\"}}}],\"carpet\":[{\"aaxis\":{\"endlinecolor\":\"#2a3f5f\",\"gridcolor\":\"white\",\"linecolor\":\"white\",\"minorgridcolor\":\"white\",\"startlinecolor\":\"#2a3f5f\"},\"baxis\":{\"endlinecolor\":\"#2a3f5f\",\"gridcolor\":\"white\",\"linecolor\":\"white\",\"minorgridcolor\":\"white\",\"startlinecolor\":\"#2a3f5f\"},\"type\":\"carpet\"}],\"table\":[{\"cells\":{\"fill\":{\"color\":\"#EBF0F8\"},\"line\":{\"color\":\"white\"}},\"header\":{\"fill\":{\"color\":\"#C8D4E3\"},\"line\":{\"color\":\"white\"}},\"type\":\"table\"}],\"barpolar\":[{\"marker\":{\"line\":{\"color\":\"#E5ECF6\",\"width\":0.5},\"pattern\":{\"fillmode\":\"overlay\",\"size\":10,\"solidity\":0.2}},\"type\":\"barpolar\"}],\"pie\":[{\"automargin\":true,\"type\":\"pie\"}]},\"layout\":{\"autotypenumbers\":\"strict\",\"colorway\":[\"#636efa\",\"#EF553B\",\"#00cc96\",\"#ab63fa\",\"#FFA15A\",\"#19d3f3\",\"#FF6692\",\"#B6E880\",\"#FF97FF\",\"#FECB52\"],\"font\":{\"color\":\"#2a3f5f\"},\"hovermode\":\"closest\",\"hoverlabel\":{\"align\":\"left\"},\"paper_bgcolor\":\"white\",\"plot_bgcolor\":\"#E5ECF6\",\"polar\":{\"bgcolor\":\"#E5ECF6\",\"angularaxis\":{\"gridcolor\":\"white\",\"linecolor\":\"white\",\"ticks\":\"\"},\"radialaxis\":{\"gridcolor\":\"white\",\"linecolor\":\"white\",\"ticks\":\"\"}},\"ternary\":{\"bgcolor\":\"#E5ECF6\",\"aaxis\":{\"gridcolor\":\"white\",\"linecolor\":\"white\",\"ticks\":\"\"},\"baxis\":{\"gridcolor\":\"white\",\"linecolor\":\"white\",\"ticks\":\"\"},\"caxis\":{\"gridcolor\":\"white\",\"linecolor\":\"white\",\"ticks\":\"\"}},\"coloraxis\":{\"colorbar\":{\"outlinewidth\":0,\"ticks\":\"\"}},\"colorscale\":{\"sequential\":[[0.0,\"#0d0887\"],[0.1111111111111111,\"#46039f\"],[0.2222222222222222,\"#7201a8\"],[0.3333333333333333,\"#9c179e\"],[0.4444444444444444,\"#bd3786\"],[0.5555555555555556,\"#d8576b\"],[0.6666666666666666,\"#ed7953\"],[0.7777777777777778,\"#fb9f3a\"],[0.8888888888888888,\"#fdca26\"],[1.0,\"#f0f921\"]],\"sequentialminus\":[[0.0,\"#0d0887\"],[0.1111111111111111,\"#46039f\"],[0.2222222222222222,\"#7201a8\"],[0.3333333333333333,\"#9c179e\"],[0.4444444444444444,\"#bd3786\"],[0.5555555555555556,\"#d8576b\"],[0.6666666666666666,\"#ed7953\"],[0.7777777777777778,\"#fb9f3a\"],[0.8888888888888888,\"#fdca26\"],[1.0,\"#f0f921\"]],\"diverging\":[[0,\"#8e0152\"],[0.1,\"#c51b7d\"],[0.2,\"#de77ae\"],[0.3,\"#f1b6da\"],[0.4,\"#fde0ef\"],[0.5,\"#f7f7f7\"],[0.6,\"#e6f5d0\"],[0.7,\"#b8e186\"],[0.8,\"#7fbc41\"],[0.9,\"#4d9221\"],[1,\"#276419\"]]},\"xaxis\":{\"gridcolor\":\"white\",\"linecolor\":\"white\",\"ticks\":\"\",\"title\":{\"standoff\":15},\"zerolinecolor\":\"white\",\"automargin\":true,\"zerolinewidth\":2},\"yaxis\":{\"gridcolor\":\"white\",\"linecolor\":\"white\",\"ticks\":\"\",\"title\":{\"standoff\":15},\"zerolinecolor\":\"white\",\"automargin\":true,\"zerolinewidth\":2},\"scene\":{\"xaxis\":{\"backgroundcolor\":\"#E5ECF6\",\"gridcolor\":\"white\",\"linecolor\":\"white\",\"showbackground\":true,\"ticks\":\"\",\"zerolinecolor\":\"white\",\"gridwidth\":2},\"yaxis\":{\"backgroundcolor\":\"#E5ECF6\",\"gridcolor\":\"white\",\"linecolor\":\"white\",\"showbackground\":true,\"ticks\":\"\",\"zerolinecolor\":\"white\",\"gridwidth\":2},\"zaxis\":{\"backgroundcolor\":\"#E5ECF6\",\"gridcolor\":\"white\",\"linecolor\":\"white\",\"showbackground\":true,\"ticks\":\"\",\"zerolinecolor\":\"white\",\"gridwidth\":2}},\"shapedefaults\":{\"line\":{\"color\":\"#2a3f5f\"}},\"annotationdefaults\":{\"arrowcolor\":\"#2a3f5f\",\"arrowhead\":0,\"arrowwidth\":1},\"geo\":{\"bgcolor\":\"white\",\"landcolor\":\"#E5ECF6\",\"subunitcolor\":\"white\",\"showland\":true,\"showlakes\":true,\"lakecolor\":\"white\"},\"title\":{\"x\":0.05},\"mapbox\":{\"style\":\"light\"}}},\"xaxis\":{\"anchor\":\"y\",\"domain\":[0.0,1.0],\"scaleanchor\":\"y\",\"constrain\":\"domain\"},\"yaxis\":{\"anchor\":\"x\",\"domain\":[0.0,1.0],\"autorange\":\"reversed\",\"constrain\":\"domain\"},\"coloraxis\":{\"colorscale\":[[0.0,\"rgb(103,0,31)\"],[0.1,\"rgb(178,24,43)\"],[0.2,\"rgb(214,96,77)\"],[0.3,\"rgb(244,165,130)\"],[0.4,\"rgb(253,219,199)\"],[0.5,\"rgb(247,247,247)\"],[0.6,\"rgb(209,229,240)\"],[0.7,\"rgb(146,197,222)\"],[0.8,\"rgb(67,147,195)\"],[0.9,\"rgb(33,102,172)\"],[1.0,\"rgb(5,48,97)\"]],\"cmid\":0.0},\"title\":{\"text\":\"Project Only IO Direction (Zero \\u22a5 IO direction)\"}},                        {\"responsive\": true}                    ).then(function(){\n",
              "                            \n",
              "var gd = document.getElementById('1f2ffd62-a0a3-4626-b6e3-4ee9c41586f9');\n",
              "var x = new MutationObserver(function (mutations, observer) {{\n",
              "        var display = window.getComputedStyle(gd).display;\n",
              "        if (!display || display === 'none') {{\n",
              "            console.log([gd, 'removed!']);\n",
              "            Plotly.purge(gd);\n",
              "            observer.disconnect();\n",
              "        }}\n",
              "}});\n",
              "\n",
              "// Listen for the removal of the full notebook cells\n",
              "var notebookContainer = gd.closest('#notebook-container');\n",
              "if (notebookContainer) {{\n",
              "    x.observe(notebookContainer, {childList: true});\n",
              "}}\n",
              "\n",
              "// Listen for the clearing of the current output cell\n",
              "var outputEl = gd.closest('.output');\n",
              "if (outputEl) {{\n",
              "    x.observe(outputEl, {childList: true});\n",
              "}}\n",
              "\n",
              "                        })                };                });            </script>        </div>"
            ]
          },
          "metadata": {},
          "output_type": "display_data"
        },
        {
          "data": {
            "application/vnd.plotly.v1+json": {
              "config": {
                "plotlyServerURL": "https://plot.ly"
              },
              "data": [
                {
                  "coloraxis": "coloraxis",
                  "hovertemplate": "x: %{x}<br>y: %{y}<br>color: %{z}<extra></extra>",
                  "name": "0",
                  "type": "heatmap",
                  "xaxis": "x",
                  "yaxis": "y",
                  "z": [
                    [
                      0,
                      0,
                      0,
                      0,
                      0,
                      0,
                      0,
                      0,
                      0,
                      0,
                      0,
                      0
                    ],
                    [
                      -2.7939677238464355e-9,
                      -1.3969838619232178e-9,
                      2.3283064365386963e-9,
                      1.3969838619232178e-9,
                      -4.656612873077393e-10,
                      -2.3283064365386963e-9,
                      4.190951585769653e-9,
                      0,
                      -9.313225746154785e-10,
                      1.979060471057892e-9,
                      -4.656612873077393e-10,
                      -3.259629011154175e-9
                    ],
                    [
                      2.3283064365386963e-9,
                      9.313225746154785e-10,
                      7.566995918750763e-9,
                      1.0244548320770264e-8,
                      4.6566128730773926e-9,
                      1.862645149230957e-9,
                      5.122274160385132e-9,
                      -2.3283064365386963e-9,
                      -3.725290298461914e-9,
                      1.862645149230957e-9,
                      -9.313225746154785e-10,
                      3.958120942115784e-9
                    ],
                    [
                      6.984919309616089e-10,
                      2.2118911147117615e-9,
                      -7.799826562404633e-9,
                      4.423782229423523e-9,
                      -5.762558430433273e-9,
                      -1.2223608791828156e-9,
                      -3.3760443329811096e-9,
                      -4.656612873077393e-10,
                      1.862645149230957e-9,
                      -1.2179953046143055e-8,
                      4.190951585769653e-9,
                      -1.3969838619232178e-9
                    ],
                    [
                      1.5133991837501526e-8,
                      -2.6775524020195007e-9,
                      4.132743924856186e-9,
                      -1.862645149230957e-9,
                      -1.979060471057892e-9,
                      -3.6088749766349792e-9,
                      5.878973752260208e-9,
                      -7.450580596923828e-9,
                      7.712515071034431e-10,
                      2.2118911147117615e-9,
                      -1.6880221664905548e-9,
                      4.831235855817795e-9
                    ],
                    [
                      -2.3283064365386963e-9,
                      -1.1641532182693481e-9,
                      -1.5133991837501526e-9,
                      1.5279510989785194e-9,
                      1.6996636986732483e-8,
                      -2.3283064365386963e-10,
                      3.4924596548080444e-10,
                      -1.201988197863102e-8,
                      -4.0745362639427185e-10,
                      0,
                      9.313225746154785e-10,
                      3.6088749766349792e-9
                    ],
                    [
                      -1.1175870895385742e-8,
                      2.3283064365386963e-9,
                      1.5978002920746803e-8,
                      4.773028194904327e-9,
                      5.238689482212067e-9,
                      4.656612873077393e-10,
                      -4.423782229423523e-9,
                      9.738869266584516e-9,
                      -3.4924596548080444e-9,
                      3.14321368932724e-9,
                      3.3760443329811096e-9,
                      -1.5832483768463135e-8
                    ],
                    [
                      1.1932570487260818e-9,
                      -1.979060471057892e-9,
                      -1.8335413187742233e-9,
                      2.9802322387695312e-8,
                      -1.0943040251731873e-8,
                      0,
                      0,
                      -6.984919309616089e-10,
                      -1.4901161193847656e-8,
                      -1.4901161193847656e-8,
                      -2.3283064365386963e-10,
                      -9.313225746154785e-9
                    ],
                    [
                      1.0710209608078003e-8,
                      -4.656612873077393e-10,
                      7.450580596923828e-9,
                      -6.705522537231445e-8,
                      9.313225746154785e-10,
                      -2.0954757928848267e-9,
                      -1.4901161193847656e-8,
                      1.0244548320770264e-8,
                      -5.587935447692871e-9,
                      1.3969838619232178e-9,
                      -8.940696716308594e-8,
                      7.450580596923828e-9
                    ],
                    [
                      3.725290298461914e-8,
                      -1.862645149230957e-8,
                      3.725290298461914e-8,
                      -5.587935447692871e-9,
                      3.725290298461914e-9,
                      2.60770320892334e-8,
                      -1.1920928955078125e-7,
                      0,
                      -5.960464477539063e-8,
                      -4.76837158203125e-7,
                      -6.984919309616089e-9,
                      -3.725290298461914e-8
                    ],
                    [
                      0.8362398147583008,
                      0.23240959644317627,
                      0.3918699026107788,
                      0.016379158943891525,
                      0.0014098529936745763,
                      0.00031941384077072144,
                      0.2838859558105469,
                      1.656657338142395,
                      -0.0012458330020308495,
                      -0.0023743780329823494,
                      0.7133084535598755,
                      0.011731891892850399
                    ],
                    [
                      -0.002293560653924942,
                      0.03311612084507942,
                      0.06397014856338501,
                      0.09604406356811523,
                      -0.004505374003201723,
                      -0.006709061563014984,
                      -0.013014763593673706,
                      -0.0036026816815137863,
                      0.005241498351097107,
                      0.12488794326782227,
                      -0.46717989444732666,
                      0.05895243585109711
                    ]
                  ]
                }
              ],
              "layout": {
                "coloraxis": {
                  "cmid": 0,
                  "colorscale": [
                    [
                      0,
                      "rgb(103,0,31)"
                    ],
                    [
                      0.1,
                      "rgb(178,24,43)"
                    ],
                    [
                      0.2,
                      "rgb(214,96,77)"
                    ],
                    [
                      0.3,
                      "rgb(244,165,130)"
                    ],
                    [
                      0.4,
                      "rgb(253,219,199)"
                    ],
                    [
                      0.5,
                      "rgb(247,247,247)"
                    ],
                    [
                      0.6,
                      "rgb(209,229,240)"
                    ],
                    [
                      0.7,
                      "rgb(146,197,222)"
                    ],
                    [
                      0.8,
                      "rgb(67,147,195)"
                    ],
                    [
                      0.9,
                      "rgb(33,102,172)"
                    ],
                    [
                      1,
                      "rgb(5,48,97)"
                    ]
                  ]
                },
                "template": {
                  "data": {
                    "bar": [
                      {
                        "error_x": {
                          "color": "#2a3f5f"
                        },
                        "error_y": {
                          "color": "#2a3f5f"
                        },
                        "marker": {
                          "line": {
                            "color": "#E5ECF6",
                            "width": 0.5
                          },
                          "pattern": {
                            "fillmode": "overlay",
                            "size": 10,
                            "solidity": 0.2
                          }
                        },
                        "type": "bar"
                      }
                    ],
                    "barpolar": [
                      {
                        "marker": {
                          "line": {
                            "color": "#E5ECF6",
                            "width": 0.5
                          },
                          "pattern": {
                            "fillmode": "overlay",
                            "size": 10,
                            "solidity": 0.2
                          }
                        },
                        "type": "barpolar"
                      }
                    ],
                    "carpet": [
                      {
                        "aaxis": {
                          "endlinecolor": "#2a3f5f",
                          "gridcolor": "white",
                          "linecolor": "white",
                          "minorgridcolor": "white",
                          "startlinecolor": "#2a3f5f"
                        },
                        "baxis": {
                          "endlinecolor": "#2a3f5f",
                          "gridcolor": "white",
                          "linecolor": "white",
                          "minorgridcolor": "white",
                          "startlinecolor": "#2a3f5f"
                        },
                        "type": "carpet"
                      }
                    ],
                    "choropleth": [
                      {
                        "colorbar": {
                          "outlinewidth": 0,
                          "ticks": ""
                        },
                        "type": "choropleth"
                      }
                    ],
                    "contour": [
                      {
                        "colorbar": {
                          "outlinewidth": 0,
                          "ticks": ""
                        },
                        "colorscale": [
                          [
                            0,
                            "#0d0887"
                          ],
                          [
                            0.1111111111111111,
                            "#46039f"
                          ],
                          [
                            0.2222222222222222,
                            "#7201a8"
                          ],
                          [
                            0.3333333333333333,
                            "#9c179e"
                          ],
                          [
                            0.4444444444444444,
                            "#bd3786"
                          ],
                          [
                            0.5555555555555556,
                            "#d8576b"
                          ],
                          [
                            0.6666666666666666,
                            "#ed7953"
                          ],
                          [
                            0.7777777777777778,
                            "#fb9f3a"
                          ],
                          [
                            0.8888888888888888,
                            "#fdca26"
                          ],
                          [
                            1,
                            "#f0f921"
                          ]
                        ],
                        "type": "contour"
                      }
                    ],
                    "contourcarpet": [
                      {
                        "colorbar": {
                          "outlinewidth": 0,
                          "ticks": ""
                        },
                        "type": "contourcarpet"
                      }
                    ],
                    "heatmap": [
                      {
                        "colorbar": {
                          "outlinewidth": 0,
                          "ticks": ""
                        },
                        "colorscale": [
                          [
                            0,
                            "#0d0887"
                          ],
                          [
                            0.1111111111111111,
                            "#46039f"
                          ],
                          [
                            0.2222222222222222,
                            "#7201a8"
                          ],
                          [
                            0.3333333333333333,
                            "#9c179e"
                          ],
                          [
                            0.4444444444444444,
                            "#bd3786"
                          ],
                          [
                            0.5555555555555556,
                            "#d8576b"
                          ],
                          [
                            0.6666666666666666,
                            "#ed7953"
                          ],
                          [
                            0.7777777777777778,
                            "#fb9f3a"
                          ],
                          [
                            0.8888888888888888,
                            "#fdca26"
                          ],
                          [
                            1,
                            "#f0f921"
                          ]
                        ],
                        "type": "heatmap"
                      }
                    ],
                    "heatmapgl": [
                      {
                        "colorbar": {
                          "outlinewidth": 0,
                          "ticks": ""
                        },
                        "colorscale": [
                          [
                            0,
                            "#0d0887"
                          ],
                          [
                            0.1111111111111111,
                            "#46039f"
                          ],
                          [
                            0.2222222222222222,
                            "#7201a8"
                          ],
                          [
                            0.3333333333333333,
                            "#9c179e"
                          ],
                          [
                            0.4444444444444444,
                            "#bd3786"
                          ],
                          [
                            0.5555555555555556,
                            "#d8576b"
                          ],
                          [
                            0.6666666666666666,
                            "#ed7953"
                          ],
                          [
                            0.7777777777777778,
                            "#fb9f3a"
                          ],
                          [
                            0.8888888888888888,
                            "#fdca26"
                          ],
                          [
                            1,
                            "#f0f921"
                          ]
                        ],
                        "type": "heatmapgl"
                      }
                    ],
                    "histogram": [
                      {
                        "marker": {
                          "pattern": {
                            "fillmode": "overlay",
                            "size": 10,
                            "solidity": 0.2
                          }
                        },
                        "type": "histogram"
                      }
                    ],
                    "histogram2d": [
                      {
                        "colorbar": {
                          "outlinewidth": 0,
                          "ticks": ""
                        },
                        "colorscale": [
                          [
                            0,
                            "#0d0887"
                          ],
                          [
                            0.1111111111111111,
                            "#46039f"
                          ],
                          [
                            0.2222222222222222,
                            "#7201a8"
                          ],
                          [
                            0.3333333333333333,
                            "#9c179e"
                          ],
                          [
                            0.4444444444444444,
                            "#bd3786"
                          ],
                          [
                            0.5555555555555556,
                            "#d8576b"
                          ],
                          [
                            0.6666666666666666,
                            "#ed7953"
                          ],
                          [
                            0.7777777777777778,
                            "#fb9f3a"
                          ],
                          [
                            0.8888888888888888,
                            "#fdca26"
                          ],
                          [
                            1,
                            "#f0f921"
                          ]
                        ],
                        "type": "histogram2d"
                      }
                    ],
                    "histogram2dcontour": [
                      {
                        "colorbar": {
                          "outlinewidth": 0,
                          "ticks": ""
                        },
                        "colorscale": [
                          [
                            0,
                            "#0d0887"
                          ],
                          [
                            0.1111111111111111,
                            "#46039f"
                          ],
                          [
                            0.2222222222222222,
                            "#7201a8"
                          ],
                          [
                            0.3333333333333333,
                            "#9c179e"
                          ],
                          [
                            0.4444444444444444,
                            "#bd3786"
                          ],
                          [
                            0.5555555555555556,
                            "#d8576b"
                          ],
                          [
                            0.6666666666666666,
                            "#ed7953"
                          ],
                          [
                            0.7777777777777778,
                            "#fb9f3a"
                          ],
                          [
                            0.8888888888888888,
                            "#fdca26"
                          ],
                          [
                            1,
                            "#f0f921"
                          ]
                        ],
                        "type": "histogram2dcontour"
                      }
                    ],
                    "mesh3d": [
                      {
                        "colorbar": {
                          "outlinewidth": 0,
                          "ticks": ""
                        },
                        "type": "mesh3d"
                      }
                    ],
                    "parcoords": [
                      {
                        "line": {
                          "colorbar": {
                            "outlinewidth": 0,
                            "ticks": ""
                          }
                        },
                        "type": "parcoords"
                      }
                    ],
                    "pie": [
                      {
                        "automargin": true,
                        "type": "pie"
                      }
                    ],
                    "scatter": [
                      {
                        "fillpattern": {
                          "fillmode": "overlay",
                          "size": 10,
                          "solidity": 0.2
                        },
                        "type": "scatter"
                      }
                    ],
                    "scatter3d": [
                      {
                        "line": {
                          "colorbar": {
                            "outlinewidth": 0,
                            "ticks": ""
                          }
                        },
                        "marker": {
                          "colorbar": {
                            "outlinewidth": 0,
                            "ticks": ""
                          }
                        },
                        "type": "scatter3d"
                      }
                    ],
                    "scattercarpet": [
                      {
                        "marker": {
                          "colorbar": {
                            "outlinewidth": 0,
                            "ticks": ""
                          }
                        },
                        "type": "scattercarpet"
                      }
                    ],
                    "scattergeo": [
                      {
                        "marker": {
                          "colorbar": {
                            "outlinewidth": 0,
                            "ticks": ""
                          }
                        },
                        "type": "scattergeo"
                      }
                    ],
                    "scattergl": [
                      {
                        "marker": {
                          "colorbar": {
                            "outlinewidth": 0,
                            "ticks": ""
                          }
                        },
                        "type": "scattergl"
                      }
                    ],
                    "scattermapbox": [
                      {
                        "marker": {
                          "colorbar": {
                            "outlinewidth": 0,
                            "ticks": ""
                          }
                        },
                        "type": "scattermapbox"
                      }
                    ],
                    "scatterpolar": [
                      {
                        "marker": {
                          "colorbar": {
                            "outlinewidth": 0,
                            "ticks": ""
                          }
                        },
                        "type": "scatterpolar"
                      }
                    ],
                    "scatterpolargl": [
                      {
                        "marker": {
                          "colorbar": {
                            "outlinewidth": 0,
                            "ticks": ""
                          }
                        },
                        "type": "scatterpolargl"
                      }
                    ],
                    "scatterternary": [
                      {
                        "marker": {
                          "colorbar": {
                            "outlinewidth": 0,
                            "ticks": ""
                          }
                        },
                        "type": "scatterternary"
                      }
                    ],
                    "surface": [
                      {
                        "colorbar": {
                          "outlinewidth": 0,
                          "ticks": ""
                        },
                        "colorscale": [
                          [
                            0,
                            "#0d0887"
                          ],
                          [
                            0.1111111111111111,
                            "#46039f"
                          ],
                          [
                            0.2222222222222222,
                            "#7201a8"
                          ],
                          [
                            0.3333333333333333,
                            "#9c179e"
                          ],
                          [
                            0.4444444444444444,
                            "#bd3786"
                          ],
                          [
                            0.5555555555555556,
                            "#d8576b"
                          ],
                          [
                            0.6666666666666666,
                            "#ed7953"
                          ],
                          [
                            0.7777777777777778,
                            "#fb9f3a"
                          ],
                          [
                            0.8888888888888888,
                            "#fdca26"
                          ],
                          [
                            1,
                            "#f0f921"
                          ]
                        ],
                        "type": "surface"
                      }
                    ],
                    "table": [
                      {
                        "cells": {
                          "fill": {
                            "color": "#EBF0F8"
                          },
                          "line": {
                            "color": "white"
                          }
                        },
                        "header": {
                          "fill": {
                            "color": "#C8D4E3"
                          },
                          "line": {
                            "color": "white"
                          }
                        },
                        "type": "table"
                      }
                    ]
                  },
                  "layout": {
                    "annotationdefaults": {
                      "arrowcolor": "#2a3f5f",
                      "arrowhead": 0,
                      "arrowwidth": 1
                    },
                    "autotypenumbers": "strict",
                    "coloraxis": {
                      "colorbar": {
                        "outlinewidth": 0,
                        "ticks": ""
                      }
                    },
                    "colorscale": {
                      "diverging": [
                        [
                          0,
                          "#8e0152"
                        ],
                        [
                          0.1,
                          "#c51b7d"
                        ],
                        [
                          0.2,
                          "#de77ae"
                        ],
                        [
                          0.3,
                          "#f1b6da"
                        ],
                        [
                          0.4,
                          "#fde0ef"
                        ],
                        [
                          0.5,
                          "#f7f7f7"
                        ],
                        [
                          0.6,
                          "#e6f5d0"
                        ],
                        [
                          0.7,
                          "#b8e186"
                        ],
                        [
                          0.8,
                          "#7fbc41"
                        ],
                        [
                          0.9,
                          "#4d9221"
                        ],
                        [
                          1,
                          "#276419"
                        ]
                      ],
                      "sequential": [
                        [
                          0,
                          "#0d0887"
                        ],
                        [
                          0.1111111111111111,
                          "#46039f"
                        ],
                        [
                          0.2222222222222222,
                          "#7201a8"
                        ],
                        [
                          0.3333333333333333,
                          "#9c179e"
                        ],
                        [
                          0.4444444444444444,
                          "#bd3786"
                        ],
                        [
                          0.5555555555555556,
                          "#d8576b"
                        ],
                        [
                          0.6666666666666666,
                          "#ed7953"
                        ],
                        [
                          0.7777777777777778,
                          "#fb9f3a"
                        ],
                        [
                          0.8888888888888888,
                          "#fdca26"
                        ],
                        [
                          1,
                          "#f0f921"
                        ]
                      ],
                      "sequentialminus": [
                        [
                          0,
                          "#0d0887"
                        ],
                        [
                          0.1111111111111111,
                          "#46039f"
                        ],
                        [
                          0.2222222222222222,
                          "#7201a8"
                        ],
                        [
                          0.3333333333333333,
                          "#9c179e"
                        ],
                        [
                          0.4444444444444444,
                          "#bd3786"
                        ],
                        [
                          0.5555555555555556,
                          "#d8576b"
                        ],
                        [
                          0.6666666666666666,
                          "#ed7953"
                        ],
                        [
                          0.7777777777777778,
                          "#fb9f3a"
                        ],
                        [
                          0.8888888888888888,
                          "#fdca26"
                        ],
                        [
                          1,
                          "#f0f921"
                        ]
                      ]
                    },
                    "colorway": [
                      "#636efa",
                      "#EF553B",
                      "#00cc96",
                      "#ab63fa",
                      "#FFA15A",
                      "#19d3f3",
                      "#FF6692",
                      "#B6E880",
                      "#FF97FF",
                      "#FECB52"
                    ],
                    "font": {
                      "color": "#2a3f5f"
                    },
                    "geo": {
                      "bgcolor": "white",
                      "lakecolor": "white",
                      "landcolor": "#E5ECF6",
                      "showlakes": true,
                      "showland": true,
                      "subunitcolor": "white"
                    },
                    "hoverlabel": {
                      "align": "left"
                    },
                    "hovermode": "closest",
                    "mapbox": {
                      "style": "light"
                    },
                    "paper_bgcolor": "white",
                    "plot_bgcolor": "#E5ECF6",
                    "polar": {
                      "angularaxis": {
                        "gridcolor": "white",
                        "linecolor": "white",
                        "ticks": ""
                      },
                      "bgcolor": "#E5ECF6",
                      "radialaxis": {
                        "gridcolor": "white",
                        "linecolor": "white",
                        "ticks": ""
                      }
                    },
                    "scene": {
                      "xaxis": {
                        "backgroundcolor": "#E5ECF6",
                        "gridcolor": "white",
                        "gridwidth": 2,
                        "linecolor": "white",
                        "showbackground": true,
                        "ticks": "",
                        "zerolinecolor": "white"
                      },
                      "yaxis": {
                        "backgroundcolor": "#E5ECF6",
                        "gridcolor": "white",
                        "gridwidth": 2,
                        "linecolor": "white",
                        "showbackground": true,
                        "ticks": "",
                        "zerolinecolor": "white"
                      },
                      "zaxis": {
                        "backgroundcolor": "#E5ECF6",
                        "gridcolor": "white",
                        "gridwidth": 2,
                        "linecolor": "white",
                        "showbackground": true,
                        "ticks": "",
                        "zerolinecolor": "white"
                      }
                    },
                    "shapedefaults": {
                      "line": {
                        "color": "#2a3f5f"
                      }
                    },
                    "ternary": {
                      "aaxis": {
                        "gridcolor": "white",
                        "linecolor": "white",
                        "ticks": ""
                      },
                      "baxis": {
                        "gridcolor": "white",
                        "linecolor": "white",
                        "ticks": ""
                      },
                      "bgcolor": "#E5ECF6",
                      "caxis": {
                        "gridcolor": "white",
                        "linecolor": "white",
                        "ticks": ""
                      }
                    },
                    "title": {
                      "x": 0.05
                    },
                    "xaxis": {
                      "automargin": true,
                      "gridcolor": "white",
                      "linecolor": "white",
                      "ticks": "",
                      "title": {
                        "standoff": 15
                      },
                      "zerolinecolor": "white",
                      "zerolinewidth": 2
                    },
                    "yaxis": {
                      "automargin": true,
                      "gridcolor": "white",
                      "linecolor": "white",
                      "ticks": "",
                      "title": {
                        "standoff": 15
                      },
                      "zerolinecolor": "white",
                      "zerolinewidth": 2
                    }
                  }
                },
                "title": {
                  "text": "Replace ⊥ IO directions with Corrupted ⊥ IO directions"
                },
                "xaxis": {
                  "anchor": "y",
                  "constrain": "domain",
                  "domain": [
                    0,
                    1
                  ],
                  "scaleanchor": "y"
                },
                "yaxis": {
                  "anchor": "x",
                  "autorange": "reversed",
                  "constrain": "domain",
                  "domain": [
                    0,
                    1
                  ]
                }
              }
            },
            "text/html": [
              "<div>                            <div id=\"ad758c06-ee41-468d-a21c-6c0702b99650\" class=\"plotly-graph-div\" style=\"height:525px; width:100%;\"></div>            <script type=\"text/javascript\">                require([\"plotly\"], function(Plotly) {                    window.PLOTLYENV=window.PLOTLYENV || {};                                    if (document.getElementById(\"ad758c06-ee41-468d-a21c-6c0702b99650\")) {                    Plotly.newPlot(                        \"ad758c06-ee41-468d-a21c-6c0702b99650\",                        [{\"coloraxis\":\"coloraxis\",\"name\":\"0\",\"z\":[[0.0,0.0,0.0,0.0,0.0,0.0,0.0,0.0,0.0,0.0,0.0,0.0],[-2.7939677238464355e-09,-1.3969838619232178e-09,2.3283064365386963e-09,1.3969838619232178e-09,-4.656612873077393e-10,-2.3283064365386963e-09,4.190951585769653e-09,0.0,-9.313225746154785e-10,1.979060471057892e-09,-4.656612873077393e-10,-3.259629011154175e-09],[2.3283064365386963e-09,9.313225746154785e-10,7.566995918750763e-09,1.0244548320770264e-08,4.6566128730773926e-09,1.862645149230957e-09,5.122274160385132e-09,-2.3283064365386963e-09,-3.725290298461914e-09,1.862645149230957e-09,-9.313225746154785e-10,3.958120942115784e-09],[6.984919309616089e-10,2.2118911147117615e-09,-7.799826562404633e-09,4.423782229423523e-09,-5.762558430433273e-09,-1.2223608791828156e-09,-3.3760443329811096e-09,-4.656612873077393e-10,1.862645149230957e-09,-1.2179953046143055e-08,4.190951585769653e-09,-1.3969838619232178e-09],[1.5133991837501526e-08,-2.6775524020195007e-09,4.132743924856186e-09,-1.862645149230957e-09,-1.979060471057892e-09,-3.6088749766349792e-09,5.878973752260208e-09,-7.450580596923828e-09,7.712515071034431e-10,2.2118911147117615e-09,-1.6880221664905548e-09,4.831235855817795e-09],[-2.3283064365386963e-09,-1.1641532182693481e-09,-1.5133991837501526e-09,1.5279510989785194e-09,1.6996636986732483e-08,-2.3283064365386963e-10,3.4924596548080444e-10,-1.201988197863102e-08,-4.0745362639427185e-10,0.0,9.313225746154785e-10,3.6088749766349792e-09],[-1.1175870895385742e-08,2.3283064365386963e-09,1.5978002920746803e-08,4.773028194904327e-09,5.238689482212067e-09,4.656612873077393e-10,-4.423782229423523e-09,9.738869266584516e-09,-3.4924596548080444e-09,3.14321368932724e-09,3.3760443329811096e-09,-1.5832483768463135e-08],[1.1932570487260818e-09,-1.979060471057892e-09,-1.8335413187742233e-09,2.9802322387695312e-08,-1.0943040251731873e-08,0.0,0.0,-6.984919309616089e-10,-1.4901161193847656e-08,-1.4901161193847656e-08,-2.3283064365386963e-10,-9.313225746154785e-09],[1.0710209608078003e-08,-4.656612873077393e-10,7.450580596923828e-09,-6.705522537231445e-08,9.313225746154785e-10,-2.0954757928848267e-09,-1.4901161193847656e-08,1.0244548320770264e-08,-5.587935447692871e-09,1.3969838619232178e-09,-8.940696716308594e-08,7.450580596923828e-09],[3.725290298461914e-08,-1.862645149230957e-08,3.725290298461914e-08,-5.587935447692871e-09,3.725290298461914e-09,2.60770320892334e-08,-1.1920928955078125e-07,0.0,-5.960464477539063e-08,-4.76837158203125e-07,-6.984919309616089e-09,-3.725290298461914e-08],[0.8362398147583008,0.23240959644317627,0.3918699026107788,0.016379158943891525,0.0014098529936745763,0.00031941384077072144,0.2838859558105469,1.656657338142395,-0.0012458330020308495,-0.0023743780329823494,0.7133084535598755,0.011731891892850399],[-0.002293560653924942,0.03311612084507942,0.06397014856338501,0.09604406356811523,-0.004505374003201723,-0.006709061563014984,-0.013014763593673706,-0.0036026816815137863,0.005241498351097107,0.12488794326782227,-0.46717989444732666,0.05895243585109711]],\"type\":\"heatmap\",\"xaxis\":\"x\",\"yaxis\":\"y\",\"hovertemplate\":\"x: %{x}\\u003cbr\\u003ey: %{y}\\u003cbr\\u003ecolor: %{z}\\u003cextra\\u003e\\u003c\\u002fextra\\u003e\"}],                        {\"template\":{\"data\":{\"histogram2dcontour\":[{\"type\":\"histogram2dcontour\",\"colorbar\":{\"outlinewidth\":0,\"ticks\":\"\"},\"colorscale\":[[0.0,\"#0d0887\"],[0.1111111111111111,\"#46039f\"],[0.2222222222222222,\"#7201a8\"],[0.3333333333333333,\"#9c179e\"],[0.4444444444444444,\"#bd3786\"],[0.5555555555555556,\"#d8576b\"],[0.6666666666666666,\"#ed7953\"],[0.7777777777777778,\"#fb9f3a\"],[0.8888888888888888,\"#fdca26\"],[1.0,\"#f0f921\"]]}],\"choropleth\":[{\"type\":\"choropleth\",\"colorbar\":{\"outlinewidth\":0,\"ticks\":\"\"}}],\"histogram2d\":[{\"type\":\"histogram2d\",\"colorbar\":{\"outlinewidth\":0,\"ticks\":\"\"},\"colorscale\":[[0.0,\"#0d0887\"],[0.1111111111111111,\"#46039f\"],[0.2222222222222222,\"#7201a8\"],[0.3333333333333333,\"#9c179e\"],[0.4444444444444444,\"#bd3786\"],[0.5555555555555556,\"#d8576b\"],[0.6666666666666666,\"#ed7953\"],[0.7777777777777778,\"#fb9f3a\"],[0.8888888888888888,\"#fdca26\"],[1.0,\"#f0f921\"]]}],\"heatmap\":[{\"type\":\"heatmap\",\"colorbar\":{\"outlinewidth\":0,\"ticks\":\"\"},\"colorscale\":[[0.0,\"#0d0887\"],[0.1111111111111111,\"#46039f\"],[0.2222222222222222,\"#7201a8\"],[0.3333333333333333,\"#9c179e\"],[0.4444444444444444,\"#bd3786\"],[0.5555555555555556,\"#d8576b\"],[0.6666666666666666,\"#ed7953\"],[0.7777777777777778,\"#fb9f3a\"],[0.8888888888888888,\"#fdca26\"],[1.0,\"#f0f921\"]]}],\"heatmapgl\":[{\"type\":\"heatmapgl\",\"colorbar\":{\"outlinewidth\":0,\"ticks\":\"\"},\"colorscale\":[[0.0,\"#0d0887\"],[0.1111111111111111,\"#46039f\"],[0.2222222222222222,\"#7201a8\"],[0.3333333333333333,\"#9c179e\"],[0.4444444444444444,\"#bd3786\"],[0.5555555555555556,\"#d8576b\"],[0.6666666666666666,\"#ed7953\"],[0.7777777777777778,\"#fb9f3a\"],[0.8888888888888888,\"#fdca26\"],[1.0,\"#f0f921\"]]}],\"contourcarpet\":[{\"type\":\"contourcarpet\",\"colorbar\":{\"outlinewidth\":0,\"ticks\":\"\"}}],\"contour\":[{\"type\":\"contour\",\"colorbar\":{\"outlinewidth\":0,\"ticks\":\"\"},\"colorscale\":[[0.0,\"#0d0887\"],[0.1111111111111111,\"#46039f\"],[0.2222222222222222,\"#7201a8\"],[0.3333333333333333,\"#9c179e\"],[0.4444444444444444,\"#bd3786\"],[0.5555555555555556,\"#d8576b\"],[0.6666666666666666,\"#ed7953\"],[0.7777777777777778,\"#fb9f3a\"],[0.8888888888888888,\"#fdca26\"],[1.0,\"#f0f921\"]]}],\"surface\":[{\"type\":\"surface\",\"colorbar\":{\"outlinewidth\":0,\"ticks\":\"\"},\"colorscale\":[[0.0,\"#0d0887\"],[0.1111111111111111,\"#46039f\"],[0.2222222222222222,\"#7201a8\"],[0.3333333333333333,\"#9c179e\"],[0.4444444444444444,\"#bd3786\"],[0.5555555555555556,\"#d8576b\"],[0.6666666666666666,\"#ed7953\"],[0.7777777777777778,\"#fb9f3a\"],[0.8888888888888888,\"#fdca26\"],[1.0,\"#f0f921\"]]}],\"mesh3d\":[{\"type\":\"mesh3d\",\"colorbar\":{\"outlinewidth\":0,\"ticks\":\"\"}}],\"scatter\":[{\"fillpattern\":{\"fillmode\":\"overlay\",\"size\":10,\"solidity\":0.2},\"type\":\"scatter\"}],\"parcoords\":[{\"type\":\"parcoords\",\"line\":{\"colorbar\":{\"outlinewidth\":0,\"ticks\":\"\"}}}],\"scatterpolargl\":[{\"type\":\"scatterpolargl\",\"marker\":{\"colorbar\":{\"outlinewidth\":0,\"ticks\":\"\"}}}],\"bar\":[{\"error_x\":{\"color\":\"#2a3f5f\"},\"error_y\":{\"color\":\"#2a3f5f\"},\"marker\":{\"line\":{\"color\":\"#E5ECF6\",\"width\":0.5},\"pattern\":{\"fillmode\":\"overlay\",\"size\":10,\"solidity\":0.2}},\"type\":\"bar\"}],\"scattergeo\":[{\"type\":\"scattergeo\",\"marker\":{\"colorbar\":{\"outlinewidth\":0,\"ticks\":\"\"}}}],\"scatterpolar\":[{\"type\":\"scatterpolar\",\"marker\":{\"colorbar\":{\"outlinewidth\":0,\"ticks\":\"\"}}}],\"histogram\":[{\"marker\":{\"pattern\":{\"fillmode\":\"overlay\",\"size\":10,\"solidity\":0.2}},\"type\":\"histogram\"}],\"scattergl\":[{\"type\":\"scattergl\",\"marker\":{\"colorbar\":{\"outlinewidth\":0,\"ticks\":\"\"}}}],\"scatter3d\":[{\"type\":\"scatter3d\",\"line\":{\"colorbar\":{\"outlinewidth\":0,\"ticks\":\"\"}},\"marker\":{\"colorbar\":{\"outlinewidth\":0,\"ticks\":\"\"}}}],\"scattermapbox\":[{\"type\":\"scattermapbox\",\"marker\":{\"colorbar\":{\"outlinewidth\":0,\"ticks\":\"\"}}}],\"scatterternary\":[{\"type\":\"scatterternary\",\"marker\":{\"colorbar\":{\"outlinewidth\":0,\"ticks\":\"\"}}}],\"scattercarpet\":[{\"type\":\"scattercarpet\",\"marker\":{\"colorbar\":{\"outlinewidth\":0,\"ticks\":\"\"}}}],\"carpet\":[{\"aaxis\":{\"endlinecolor\":\"#2a3f5f\",\"gridcolor\":\"white\",\"linecolor\":\"white\",\"minorgridcolor\":\"white\",\"startlinecolor\":\"#2a3f5f\"},\"baxis\":{\"endlinecolor\":\"#2a3f5f\",\"gridcolor\":\"white\",\"linecolor\":\"white\",\"minorgridcolor\":\"white\",\"startlinecolor\":\"#2a3f5f\"},\"type\":\"carpet\"}],\"table\":[{\"cells\":{\"fill\":{\"color\":\"#EBF0F8\"},\"line\":{\"color\":\"white\"}},\"header\":{\"fill\":{\"color\":\"#C8D4E3\"},\"line\":{\"color\":\"white\"}},\"type\":\"table\"}],\"barpolar\":[{\"marker\":{\"line\":{\"color\":\"#E5ECF6\",\"width\":0.5},\"pattern\":{\"fillmode\":\"overlay\",\"size\":10,\"solidity\":0.2}},\"type\":\"barpolar\"}],\"pie\":[{\"automargin\":true,\"type\":\"pie\"}]},\"layout\":{\"autotypenumbers\":\"strict\",\"colorway\":[\"#636efa\",\"#EF553B\",\"#00cc96\",\"#ab63fa\",\"#FFA15A\",\"#19d3f3\",\"#FF6692\",\"#B6E880\",\"#FF97FF\",\"#FECB52\"],\"font\":{\"color\":\"#2a3f5f\"},\"hovermode\":\"closest\",\"hoverlabel\":{\"align\":\"left\"},\"paper_bgcolor\":\"white\",\"plot_bgcolor\":\"#E5ECF6\",\"polar\":{\"bgcolor\":\"#E5ECF6\",\"angularaxis\":{\"gridcolor\":\"white\",\"linecolor\":\"white\",\"ticks\":\"\"},\"radialaxis\":{\"gridcolor\":\"white\",\"linecolor\":\"white\",\"ticks\":\"\"}},\"ternary\":{\"bgcolor\":\"#E5ECF6\",\"aaxis\":{\"gridcolor\":\"white\",\"linecolor\":\"white\",\"ticks\":\"\"},\"baxis\":{\"gridcolor\":\"white\",\"linecolor\":\"white\",\"ticks\":\"\"},\"caxis\":{\"gridcolor\":\"white\",\"linecolor\":\"white\",\"ticks\":\"\"}},\"coloraxis\":{\"colorbar\":{\"outlinewidth\":0,\"ticks\":\"\"}},\"colorscale\":{\"sequential\":[[0.0,\"#0d0887\"],[0.1111111111111111,\"#46039f\"],[0.2222222222222222,\"#7201a8\"],[0.3333333333333333,\"#9c179e\"],[0.4444444444444444,\"#bd3786\"],[0.5555555555555556,\"#d8576b\"],[0.6666666666666666,\"#ed7953\"],[0.7777777777777778,\"#fb9f3a\"],[0.8888888888888888,\"#fdca26\"],[1.0,\"#f0f921\"]],\"sequentialminus\":[[0.0,\"#0d0887\"],[0.1111111111111111,\"#46039f\"],[0.2222222222222222,\"#7201a8\"],[0.3333333333333333,\"#9c179e\"],[0.4444444444444444,\"#bd3786\"],[0.5555555555555556,\"#d8576b\"],[0.6666666666666666,\"#ed7953\"],[0.7777777777777778,\"#fb9f3a\"],[0.8888888888888888,\"#fdca26\"],[1.0,\"#f0f921\"]],\"diverging\":[[0,\"#8e0152\"],[0.1,\"#c51b7d\"],[0.2,\"#de77ae\"],[0.3,\"#f1b6da\"],[0.4,\"#fde0ef\"],[0.5,\"#f7f7f7\"],[0.6,\"#e6f5d0\"],[0.7,\"#b8e186\"],[0.8,\"#7fbc41\"],[0.9,\"#4d9221\"],[1,\"#276419\"]]},\"xaxis\":{\"gridcolor\":\"white\",\"linecolor\":\"white\",\"ticks\":\"\",\"title\":{\"standoff\":15},\"zerolinecolor\":\"white\",\"automargin\":true,\"zerolinewidth\":2},\"yaxis\":{\"gridcolor\":\"white\",\"linecolor\":\"white\",\"ticks\":\"\",\"title\":{\"standoff\":15},\"zerolinecolor\":\"white\",\"automargin\":true,\"zerolinewidth\":2},\"scene\":{\"xaxis\":{\"backgroundcolor\":\"#E5ECF6\",\"gridcolor\":\"white\",\"linecolor\":\"white\",\"showbackground\":true,\"ticks\":\"\",\"zerolinecolor\":\"white\",\"gridwidth\":2},\"yaxis\":{\"backgroundcolor\":\"#E5ECF6\",\"gridcolor\":\"white\",\"linecolor\":\"white\",\"showbackground\":true,\"ticks\":\"\",\"zerolinecolor\":\"white\",\"gridwidth\":2},\"zaxis\":{\"backgroundcolor\":\"#E5ECF6\",\"gridcolor\":\"white\",\"linecolor\":\"white\",\"showbackground\":true,\"ticks\":\"\",\"zerolinecolor\":\"white\",\"gridwidth\":2}},\"shapedefaults\":{\"line\":{\"color\":\"#2a3f5f\"}},\"annotationdefaults\":{\"arrowcolor\":\"#2a3f5f\",\"arrowhead\":0,\"arrowwidth\":1},\"geo\":{\"bgcolor\":\"white\",\"landcolor\":\"#E5ECF6\",\"subunitcolor\":\"white\",\"showland\":true,\"showlakes\":true,\"lakecolor\":\"white\"},\"title\":{\"x\":0.05},\"mapbox\":{\"style\":\"light\"}}},\"xaxis\":{\"anchor\":\"y\",\"domain\":[0.0,1.0],\"scaleanchor\":\"y\",\"constrain\":\"domain\"},\"yaxis\":{\"anchor\":\"x\",\"domain\":[0.0,1.0],\"autorange\":\"reversed\",\"constrain\":\"domain\"},\"coloraxis\":{\"colorscale\":[[0.0,\"rgb(103,0,31)\"],[0.1,\"rgb(178,24,43)\"],[0.2,\"rgb(214,96,77)\"],[0.3,\"rgb(244,165,130)\"],[0.4,\"rgb(253,219,199)\"],[0.5,\"rgb(247,247,247)\"],[0.6,\"rgb(209,229,240)\"],[0.7,\"rgb(146,197,222)\"],[0.8,\"rgb(67,147,195)\"],[0.9,\"rgb(33,102,172)\"],[1.0,\"rgb(5,48,97)\"]],\"cmid\":0.0},\"title\":{\"text\":\"Replace \\u22a5 IO directions with Corrupted \\u22a5 IO directions\"}},                        {\"responsive\": true}                    ).then(function(){\n",
              "                            \n",
              "var gd = document.getElementById('ad758c06-ee41-468d-a21c-6c0702b99650');\n",
              "var x = new MutationObserver(function (mutations, observer) {{\n",
              "        var display = window.getComputedStyle(gd).display;\n",
              "        if (!display || display === 'none') {{\n",
              "            console.log([gd, 'removed!']);\n",
              "            Plotly.purge(gd);\n",
              "            observer.disconnect();\n",
              "        }}\n",
              "}});\n",
              "\n",
              "// Listen for the removal of the full notebook cells\n",
              "var notebookContainer = gd.closest('#notebook-container');\n",
              "if (notebookContainer) {{\n",
              "    x.observe(notebookContainer, {childList: true});\n",
              "}}\n",
              "\n",
              "// Listen for the clearing of the current output cell\n",
              "var outputEl = gd.closest('.output');\n",
              "if (outputEl) {{\n",
              "    x.observe(outputEl, {childList: true});\n",
              "}}\n",
              "\n",
              "                        })                };                });            </script>        </div>"
            ]
          },
          "metadata": {},
          "output_type": "display_data"
        },
        {
          "data": {
            "application/vnd.plotly.v1+json": {
              "config": {
                "plotlyServerURL": "https://plot.ly"
              },
              "data": [
                {
                  "coloraxis": "coloraxis",
                  "hovertemplate": "x: %{x}<br>y: %{y}<br>color: %{z}<extra></extra>",
                  "name": "0",
                  "type": "heatmap",
                  "xaxis": "x",
                  "yaxis": "y",
                  "z": [
                    [
                      -0.0000698501244187355,
                      -0.00007129879668354988,
                      -0.00002508459147065878,
                      -0.00006935317651368678,
                      -0.00003320467658340931,
                      0.000043052248656749725,
                      -0.00019591767340898514,
                      -0.000012699267244897783,
                      -0.00015225971583276987,
                      -0.00017004553228616714,
                      0.00008144835010170937,
                      -0.00011180108413100243
                    ],
                    [
                      0.00010427995584905148,
                      -0.000009653158485889435,
                      0.0001091640442609787,
                      0.0000708441948518157,
                      -0.000047452282160520554,
                      0.000248173251748085,
                      -0.000012484146282076836,
                      -0.00014923978596925735,
                      -0.00008016219362616539,
                      0.000056536984629929066,
                      -0.00010887254029512405,
                      0.000006703776307404041
                    ],
                    [
                      0.000006100046448409557,
                      0.0001291985681746155,
                      0.00005167839117348194,
                      0.00006172992289066315,
                      -0.000015412922948598862,
                      -0.00002474081702530384,
                      -0.0001407833769917488,
                      0.000033789779990911484,
                      0.00009842216968536377,
                      0.0000218171626329422,
                      0.00024585158098489046,
                      0.00004625879228115082
                    ],
                    [
                      -0.00004085083492100239,
                      0.0000015147961676120758,
                      0.00002243742346763611,
                      -0.000026212306693196297,
                      -0.00007210957119241357,
                      -0.000002718705218285322,
                      0.000048677087761461735,
                      0.000011972617357969284,
                      -0.00009316019713878632,
                      0.00010226973972748965,
                      0.00010992679744958878,
                      0.00003918679431080818
                    ],
                    [
                      -0.00003516091965138912,
                      0.00007402151823043823,
                      0.000027331174351274967,
                      -0.0001439414918422699,
                      -0.00003814313095062971,
                      -0.00008399449870921671,
                      -0.00018115609418600798,
                      0.00020035728812217712,
                      0.00008256932051153854,
                      0.00006262806709855795,
                      -0.00007667898898944259,
                      0.00014276537694968283
                    ],
                    [
                      -0.00010248227044939995,
                      -0.00014044810086488724,
                      -0.000013165874406695366,
                      -0.000019538278138497844,
                      0.0000060273450799286366,
                      -0.00013436749577522278,
                      0.00003397627733647823,
                      0.00009213850717060268,
                      -0.000048961228458210826,
                      0.00043112412095069885,
                      -0.00005229189991950989,
                      -0.00008533039363101125
                    ],
                    [
                      -0.00006683170795440674,
                      0.00006178626790642738,
                      -0.00012534644338302314,
                      -0.0000490827951580286,
                      0.00043375405948609114,
                      -0.00009495485574007034,
                      -0.00039843597915023565,
                      0.0000010298208508174866,
                      0.00007790708332322538,
                      0.000053922063671052456,
                      0.00014738045865669847,
                      0.0001586233265697956
                    ],
                    [
                      0.00005538592813536525,
                      0.00012869073543697596,
                      0.00006576572195626795,
                      0.00047782063484191895,
                      -0.000006451969966292381,
                      0.00016703270375728607,
                      -0.00013802852481603622,
                      0.00007694633677601814,
                      0.00011155381798744202,
                      0.0012787580490112305,
                      -0.00006938911974430084,
                      0.00016837473958730698
                    ],
                    [
                      0.00008501065894961357,
                      -0.000016029691323637962,
                      0.00005644187331199646,
                      0.0010387524962425232,
                      0.00005107419565320015,
                      0.0004268852062523365,
                      -0.0007196515798568726,
                      0.00014161644503474236,
                      0.00017192959785461426,
                      0.0001076962798833847,
                      0.0014068186283111572,
                      -0.0006351470947265625
                    ],
                    [
                      0.0013109073042869568,
                      -0.00010403245687484741,
                      0.0015538707375526428,
                      0.0005717091262340546,
                      0.00038529932498931885,
                      -0.0006549172103404999,
                      -1.279909372329712,
                      0.0007892400026321411,
                      -0.00008031725883483887,
                      -3.0755562782287598,
                      0.000004173023626208305,
                      -0.00013659708201885223
                    ],
                    [
                      -0.9200468063354492,
                      0.0335502028465271,
                      0.1128593236207962,
                      0.01702152192592621,
                      -0.0013176306383684278,
                      -0.0014463982079178095,
                      0.039251893758773804,
                      0.6121044158935547,
                      0.0004884898662567139,
                      -0.0012024706229567528,
                      0.06273186206817627,
                      0.00021843798458576202
                    ],
                    [
                      -0.00014102831482887268,
                      0.05297887697815895,
                      0.3444824814796448,
                      -0.005609005689620972,
                      0.0006177946925163269,
                      -0.0011197789572179317,
                      0.07963123172521591,
                      -0.00013132765889167786,
                      -0.005814701318740845,
                      0.03401817008852959,
                      0.23809248208999634,
                      -0.013264976441860199
                    ]
                  ]
                }
              ],
              "layout": {
                "coloraxis": {
                  "cmid": 0,
                  "colorscale": [
                    [
                      0,
                      "rgb(103,0,31)"
                    ],
                    [
                      0.1,
                      "rgb(178,24,43)"
                    ],
                    [
                      0.2,
                      "rgb(214,96,77)"
                    ],
                    [
                      0.3,
                      "rgb(244,165,130)"
                    ],
                    [
                      0.4,
                      "rgb(253,219,199)"
                    ],
                    [
                      0.5,
                      "rgb(247,247,247)"
                    ],
                    [
                      0.6,
                      "rgb(209,229,240)"
                    ],
                    [
                      0.7,
                      "rgb(146,197,222)"
                    ],
                    [
                      0.8,
                      "rgb(67,147,195)"
                    ],
                    [
                      0.9,
                      "rgb(33,102,172)"
                    ],
                    [
                      1,
                      "rgb(5,48,97)"
                    ]
                  ]
                },
                "template": {
                  "data": {
                    "bar": [
                      {
                        "error_x": {
                          "color": "#2a3f5f"
                        },
                        "error_y": {
                          "color": "#2a3f5f"
                        },
                        "marker": {
                          "line": {
                            "color": "#E5ECF6",
                            "width": 0.5
                          },
                          "pattern": {
                            "fillmode": "overlay",
                            "size": 10,
                            "solidity": 0.2
                          }
                        },
                        "type": "bar"
                      }
                    ],
                    "barpolar": [
                      {
                        "marker": {
                          "line": {
                            "color": "#E5ECF6",
                            "width": 0.5
                          },
                          "pattern": {
                            "fillmode": "overlay",
                            "size": 10,
                            "solidity": 0.2
                          }
                        },
                        "type": "barpolar"
                      }
                    ],
                    "carpet": [
                      {
                        "aaxis": {
                          "endlinecolor": "#2a3f5f",
                          "gridcolor": "white",
                          "linecolor": "white",
                          "minorgridcolor": "white",
                          "startlinecolor": "#2a3f5f"
                        },
                        "baxis": {
                          "endlinecolor": "#2a3f5f",
                          "gridcolor": "white",
                          "linecolor": "white",
                          "minorgridcolor": "white",
                          "startlinecolor": "#2a3f5f"
                        },
                        "type": "carpet"
                      }
                    ],
                    "choropleth": [
                      {
                        "colorbar": {
                          "outlinewidth": 0,
                          "ticks": ""
                        },
                        "type": "choropleth"
                      }
                    ],
                    "contour": [
                      {
                        "colorbar": {
                          "outlinewidth": 0,
                          "ticks": ""
                        },
                        "colorscale": [
                          [
                            0,
                            "#0d0887"
                          ],
                          [
                            0.1111111111111111,
                            "#46039f"
                          ],
                          [
                            0.2222222222222222,
                            "#7201a8"
                          ],
                          [
                            0.3333333333333333,
                            "#9c179e"
                          ],
                          [
                            0.4444444444444444,
                            "#bd3786"
                          ],
                          [
                            0.5555555555555556,
                            "#d8576b"
                          ],
                          [
                            0.6666666666666666,
                            "#ed7953"
                          ],
                          [
                            0.7777777777777778,
                            "#fb9f3a"
                          ],
                          [
                            0.8888888888888888,
                            "#fdca26"
                          ],
                          [
                            1,
                            "#f0f921"
                          ]
                        ],
                        "type": "contour"
                      }
                    ],
                    "contourcarpet": [
                      {
                        "colorbar": {
                          "outlinewidth": 0,
                          "ticks": ""
                        },
                        "type": "contourcarpet"
                      }
                    ],
                    "heatmap": [
                      {
                        "colorbar": {
                          "outlinewidth": 0,
                          "ticks": ""
                        },
                        "colorscale": [
                          [
                            0,
                            "#0d0887"
                          ],
                          [
                            0.1111111111111111,
                            "#46039f"
                          ],
                          [
                            0.2222222222222222,
                            "#7201a8"
                          ],
                          [
                            0.3333333333333333,
                            "#9c179e"
                          ],
                          [
                            0.4444444444444444,
                            "#bd3786"
                          ],
                          [
                            0.5555555555555556,
                            "#d8576b"
                          ],
                          [
                            0.6666666666666666,
                            "#ed7953"
                          ],
                          [
                            0.7777777777777778,
                            "#fb9f3a"
                          ],
                          [
                            0.8888888888888888,
                            "#fdca26"
                          ],
                          [
                            1,
                            "#f0f921"
                          ]
                        ],
                        "type": "heatmap"
                      }
                    ],
                    "heatmapgl": [
                      {
                        "colorbar": {
                          "outlinewidth": 0,
                          "ticks": ""
                        },
                        "colorscale": [
                          [
                            0,
                            "#0d0887"
                          ],
                          [
                            0.1111111111111111,
                            "#46039f"
                          ],
                          [
                            0.2222222222222222,
                            "#7201a8"
                          ],
                          [
                            0.3333333333333333,
                            "#9c179e"
                          ],
                          [
                            0.4444444444444444,
                            "#bd3786"
                          ],
                          [
                            0.5555555555555556,
                            "#d8576b"
                          ],
                          [
                            0.6666666666666666,
                            "#ed7953"
                          ],
                          [
                            0.7777777777777778,
                            "#fb9f3a"
                          ],
                          [
                            0.8888888888888888,
                            "#fdca26"
                          ],
                          [
                            1,
                            "#f0f921"
                          ]
                        ],
                        "type": "heatmapgl"
                      }
                    ],
                    "histogram": [
                      {
                        "marker": {
                          "pattern": {
                            "fillmode": "overlay",
                            "size": 10,
                            "solidity": 0.2
                          }
                        },
                        "type": "histogram"
                      }
                    ],
                    "histogram2d": [
                      {
                        "colorbar": {
                          "outlinewidth": 0,
                          "ticks": ""
                        },
                        "colorscale": [
                          [
                            0,
                            "#0d0887"
                          ],
                          [
                            0.1111111111111111,
                            "#46039f"
                          ],
                          [
                            0.2222222222222222,
                            "#7201a8"
                          ],
                          [
                            0.3333333333333333,
                            "#9c179e"
                          ],
                          [
                            0.4444444444444444,
                            "#bd3786"
                          ],
                          [
                            0.5555555555555556,
                            "#d8576b"
                          ],
                          [
                            0.6666666666666666,
                            "#ed7953"
                          ],
                          [
                            0.7777777777777778,
                            "#fb9f3a"
                          ],
                          [
                            0.8888888888888888,
                            "#fdca26"
                          ],
                          [
                            1,
                            "#f0f921"
                          ]
                        ],
                        "type": "histogram2d"
                      }
                    ],
                    "histogram2dcontour": [
                      {
                        "colorbar": {
                          "outlinewidth": 0,
                          "ticks": ""
                        },
                        "colorscale": [
                          [
                            0,
                            "#0d0887"
                          ],
                          [
                            0.1111111111111111,
                            "#46039f"
                          ],
                          [
                            0.2222222222222222,
                            "#7201a8"
                          ],
                          [
                            0.3333333333333333,
                            "#9c179e"
                          ],
                          [
                            0.4444444444444444,
                            "#bd3786"
                          ],
                          [
                            0.5555555555555556,
                            "#d8576b"
                          ],
                          [
                            0.6666666666666666,
                            "#ed7953"
                          ],
                          [
                            0.7777777777777778,
                            "#fb9f3a"
                          ],
                          [
                            0.8888888888888888,
                            "#fdca26"
                          ],
                          [
                            1,
                            "#f0f921"
                          ]
                        ],
                        "type": "histogram2dcontour"
                      }
                    ],
                    "mesh3d": [
                      {
                        "colorbar": {
                          "outlinewidth": 0,
                          "ticks": ""
                        },
                        "type": "mesh3d"
                      }
                    ],
                    "parcoords": [
                      {
                        "line": {
                          "colorbar": {
                            "outlinewidth": 0,
                            "ticks": ""
                          }
                        },
                        "type": "parcoords"
                      }
                    ],
                    "pie": [
                      {
                        "automargin": true,
                        "type": "pie"
                      }
                    ],
                    "scatter": [
                      {
                        "fillpattern": {
                          "fillmode": "overlay",
                          "size": 10,
                          "solidity": 0.2
                        },
                        "type": "scatter"
                      }
                    ],
                    "scatter3d": [
                      {
                        "line": {
                          "colorbar": {
                            "outlinewidth": 0,
                            "ticks": ""
                          }
                        },
                        "marker": {
                          "colorbar": {
                            "outlinewidth": 0,
                            "ticks": ""
                          }
                        },
                        "type": "scatter3d"
                      }
                    ],
                    "scattercarpet": [
                      {
                        "marker": {
                          "colorbar": {
                            "outlinewidth": 0,
                            "ticks": ""
                          }
                        },
                        "type": "scattercarpet"
                      }
                    ],
                    "scattergeo": [
                      {
                        "marker": {
                          "colorbar": {
                            "outlinewidth": 0,
                            "ticks": ""
                          }
                        },
                        "type": "scattergeo"
                      }
                    ],
                    "scattergl": [
                      {
                        "marker": {
                          "colorbar": {
                            "outlinewidth": 0,
                            "ticks": ""
                          }
                        },
                        "type": "scattergl"
                      }
                    ],
                    "scattermapbox": [
                      {
                        "marker": {
                          "colorbar": {
                            "outlinewidth": 0,
                            "ticks": ""
                          }
                        },
                        "type": "scattermapbox"
                      }
                    ],
                    "scatterpolar": [
                      {
                        "marker": {
                          "colorbar": {
                            "outlinewidth": 0,
                            "ticks": ""
                          }
                        },
                        "type": "scatterpolar"
                      }
                    ],
                    "scatterpolargl": [
                      {
                        "marker": {
                          "colorbar": {
                            "outlinewidth": 0,
                            "ticks": ""
                          }
                        },
                        "type": "scatterpolargl"
                      }
                    ],
                    "scatterternary": [
                      {
                        "marker": {
                          "colorbar": {
                            "outlinewidth": 0,
                            "ticks": ""
                          }
                        },
                        "type": "scatterternary"
                      }
                    ],
                    "surface": [
                      {
                        "colorbar": {
                          "outlinewidth": 0,
                          "ticks": ""
                        },
                        "colorscale": [
                          [
                            0,
                            "#0d0887"
                          ],
                          [
                            0.1111111111111111,
                            "#46039f"
                          ],
                          [
                            0.2222222222222222,
                            "#7201a8"
                          ],
                          [
                            0.3333333333333333,
                            "#9c179e"
                          ],
                          [
                            0.4444444444444444,
                            "#bd3786"
                          ],
                          [
                            0.5555555555555556,
                            "#d8576b"
                          ],
                          [
                            0.6666666666666666,
                            "#ed7953"
                          ],
                          [
                            0.7777777777777778,
                            "#fb9f3a"
                          ],
                          [
                            0.8888888888888888,
                            "#fdca26"
                          ],
                          [
                            1,
                            "#f0f921"
                          ]
                        ],
                        "type": "surface"
                      }
                    ],
                    "table": [
                      {
                        "cells": {
                          "fill": {
                            "color": "#EBF0F8"
                          },
                          "line": {
                            "color": "white"
                          }
                        },
                        "header": {
                          "fill": {
                            "color": "#C8D4E3"
                          },
                          "line": {
                            "color": "white"
                          }
                        },
                        "type": "table"
                      }
                    ]
                  },
                  "layout": {
                    "annotationdefaults": {
                      "arrowcolor": "#2a3f5f",
                      "arrowhead": 0,
                      "arrowwidth": 1
                    },
                    "autotypenumbers": "strict",
                    "coloraxis": {
                      "colorbar": {
                        "outlinewidth": 0,
                        "ticks": ""
                      }
                    },
                    "colorscale": {
                      "diverging": [
                        [
                          0,
                          "#8e0152"
                        ],
                        [
                          0.1,
                          "#c51b7d"
                        ],
                        [
                          0.2,
                          "#de77ae"
                        ],
                        [
                          0.3,
                          "#f1b6da"
                        ],
                        [
                          0.4,
                          "#fde0ef"
                        ],
                        [
                          0.5,
                          "#f7f7f7"
                        ],
                        [
                          0.6,
                          "#e6f5d0"
                        ],
                        [
                          0.7,
                          "#b8e186"
                        ],
                        [
                          0.8,
                          "#7fbc41"
                        ],
                        [
                          0.9,
                          "#4d9221"
                        ],
                        [
                          1,
                          "#276419"
                        ]
                      ],
                      "sequential": [
                        [
                          0,
                          "#0d0887"
                        ],
                        [
                          0.1111111111111111,
                          "#46039f"
                        ],
                        [
                          0.2222222222222222,
                          "#7201a8"
                        ],
                        [
                          0.3333333333333333,
                          "#9c179e"
                        ],
                        [
                          0.4444444444444444,
                          "#bd3786"
                        ],
                        [
                          0.5555555555555556,
                          "#d8576b"
                        ],
                        [
                          0.6666666666666666,
                          "#ed7953"
                        ],
                        [
                          0.7777777777777778,
                          "#fb9f3a"
                        ],
                        [
                          0.8888888888888888,
                          "#fdca26"
                        ],
                        [
                          1,
                          "#f0f921"
                        ]
                      ],
                      "sequentialminus": [
                        [
                          0,
                          "#0d0887"
                        ],
                        [
                          0.1111111111111111,
                          "#46039f"
                        ],
                        [
                          0.2222222222222222,
                          "#7201a8"
                        ],
                        [
                          0.3333333333333333,
                          "#9c179e"
                        ],
                        [
                          0.4444444444444444,
                          "#bd3786"
                        ],
                        [
                          0.5555555555555556,
                          "#d8576b"
                        ],
                        [
                          0.6666666666666666,
                          "#ed7953"
                        ],
                        [
                          0.7777777777777778,
                          "#fb9f3a"
                        ],
                        [
                          0.8888888888888888,
                          "#fdca26"
                        ],
                        [
                          1,
                          "#f0f921"
                        ]
                      ]
                    },
                    "colorway": [
                      "#636efa",
                      "#EF553B",
                      "#00cc96",
                      "#ab63fa",
                      "#FFA15A",
                      "#19d3f3",
                      "#FF6692",
                      "#B6E880",
                      "#FF97FF",
                      "#FECB52"
                    ],
                    "font": {
                      "color": "#2a3f5f"
                    },
                    "geo": {
                      "bgcolor": "white",
                      "lakecolor": "white",
                      "landcolor": "#E5ECF6",
                      "showlakes": true,
                      "showland": true,
                      "subunitcolor": "white"
                    },
                    "hoverlabel": {
                      "align": "left"
                    },
                    "hovermode": "closest",
                    "mapbox": {
                      "style": "light"
                    },
                    "paper_bgcolor": "white",
                    "plot_bgcolor": "#E5ECF6",
                    "polar": {
                      "angularaxis": {
                        "gridcolor": "white",
                        "linecolor": "white",
                        "ticks": ""
                      },
                      "bgcolor": "#E5ECF6",
                      "radialaxis": {
                        "gridcolor": "white",
                        "linecolor": "white",
                        "ticks": ""
                      }
                    },
                    "scene": {
                      "xaxis": {
                        "backgroundcolor": "#E5ECF6",
                        "gridcolor": "white",
                        "gridwidth": 2,
                        "linecolor": "white",
                        "showbackground": true,
                        "ticks": "",
                        "zerolinecolor": "white"
                      },
                      "yaxis": {
                        "backgroundcolor": "#E5ECF6",
                        "gridcolor": "white",
                        "gridwidth": 2,
                        "linecolor": "white",
                        "showbackground": true,
                        "ticks": "",
                        "zerolinecolor": "white"
                      },
                      "zaxis": {
                        "backgroundcolor": "#E5ECF6",
                        "gridcolor": "white",
                        "gridwidth": 2,
                        "linecolor": "white",
                        "showbackground": true,
                        "ticks": "",
                        "zerolinecolor": "white"
                      }
                    },
                    "shapedefaults": {
                      "line": {
                        "color": "#2a3f5f"
                      }
                    },
                    "ternary": {
                      "aaxis": {
                        "gridcolor": "white",
                        "linecolor": "white",
                        "ticks": ""
                      },
                      "baxis": {
                        "gridcolor": "white",
                        "linecolor": "white",
                        "ticks": ""
                      },
                      "bgcolor": "#E5ECF6",
                      "caxis": {
                        "gridcolor": "white",
                        "linecolor": "white",
                        "ticks": ""
                      }
                    },
                    "title": {
                      "x": 0.05
                    },
                    "xaxis": {
                      "automargin": true,
                      "gridcolor": "white",
                      "linecolor": "white",
                      "ticks": "",
                      "title": {
                        "standoff": 15
                      },
                      "zerolinecolor": "white",
                      "zerolinewidth": 2
                    },
                    "yaxis": {
                      "automargin": true,
                      "gridcolor": "white",
                      "linecolor": "white",
                      "ticks": "",
                      "title": {
                        "standoff": 15
                      },
                      "zerolinecolor": "white",
                      "zerolinewidth": 2
                    }
                  }
                },
                "title": {
                  "text": "Project Away IO Direction (Zero IO direction)"
                },
                "xaxis": {
                  "anchor": "y",
                  "constrain": "domain",
                  "domain": [
                    0,
                    1
                  ],
                  "scaleanchor": "y"
                },
                "yaxis": {
                  "anchor": "x",
                  "autorange": "reversed",
                  "constrain": "domain",
                  "domain": [
                    0,
                    1
                  ]
                }
              }
            },
            "text/html": [
              "<div>                            <div id=\"0dd960a0-7879-4071-8984-db1a7fbade86\" class=\"plotly-graph-div\" style=\"height:525px; width:100%;\"></div>            <script type=\"text/javascript\">                require([\"plotly\"], function(Plotly) {                    window.PLOTLYENV=window.PLOTLYENV || {};                                    if (document.getElementById(\"0dd960a0-7879-4071-8984-db1a7fbade86\")) {                    Plotly.newPlot(                        \"0dd960a0-7879-4071-8984-db1a7fbade86\",                        [{\"coloraxis\":\"coloraxis\",\"name\":\"0\",\"z\":[[-6.98501244187355e-05,-7.129879668354988e-05,-2.508459147065878e-05,-6.935317651368678e-05,-3.320467658340931e-05,4.3052248656749725e-05,-0.00019591767340898514,-1.2699267244897783e-05,-0.00015225971583276987,-0.00017004553228616714,8.144835010170937e-05,-0.00011180108413100243],[0.00010427995584905148,-9.653158485889435e-06,0.0001091640442609787,7.08441948518157e-05,-4.7452282160520554e-05,0.000248173251748085,-1.2484146282076836e-05,-0.00014923978596925735,-8.016219362616539e-05,5.6536984629929066e-05,-0.00010887254029512405,6.703776307404041e-06],[6.100046448409557e-06,0.0001291985681746155,5.167839117348194e-05,6.172992289066315e-05,-1.5412922948598862e-05,-2.474081702530384e-05,-0.0001407833769917488,3.3789779990911484e-05,9.842216968536377e-05,2.18171626329422e-05,0.00024585158098489046,4.625879228115082e-05],[-4.085083492100239e-05,1.5147961676120758e-06,2.243742346763611e-05,-2.6212306693196297e-05,-7.210957119241357e-05,-2.718705218285322e-06,4.8677087761461735e-05,1.1972617357969284e-05,-9.316019713878632e-05,0.00010226973972748965,0.00010992679744958878,3.918679431080818e-05],[-3.516091965138912e-05,7.402151823043823e-05,2.7331174351274967e-05,-0.0001439414918422699,-3.814313095062971e-05,-8.399449870921671e-05,-0.00018115609418600798,0.00020035728812217712,8.256932051153854e-05,6.262806709855795e-05,-7.667898898944259e-05,0.00014276537694968283],[-0.00010248227044939995,-0.00014044810086488724,-1.3165874406695366e-05,-1.9538278138497844e-05,6.0273450799286366e-06,-0.00013436749577522278,3.397627733647823e-05,9.213850717060268e-05,-4.8961228458210826e-05,0.00043112412095069885,-5.229189991950989e-05,-8.533039363101125e-05],[-6.683170795440674e-05,6.178626790642738e-05,-0.00012534644338302314,-4.90827951580286e-05,0.00043375405948609114,-9.495485574007034e-05,-0.00039843597915023565,1.0298208508174866e-06,7.790708332322538e-05,5.3922063671052456e-05,0.00014738045865669847,0.0001586233265697956],[5.538592813536525e-05,0.00012869073543697596,6.576572195626795e-05,0.00047782063484191895,-6.451969966292381e-06,0.00016703270375728607,-0.00013802852481603622,7.694633677601814e-05,0.00011155381798744202,0.0012787580490112305,-6.938911974430084e-05,0.00016837473958730698],[8.501065894961357e-05,-1.6029691323637962e-05,5.644187331199646e-05,0.0010387524962425232,5.107419565320015e-05,0.0004268852062523365,-0.0007196515798568726,0.00014161644503474236,0.00017192959785461426,0.0001076962798833847,0.0014068186283111572,-0.0006351470947265625],[0.0013109073042869568,-0.00010403245687484741,0.0015538707375526428,0.0005717091262340546,0.00038529932498931885,-0.0006549172103404999,-1.279909372329712,0.0007892400026321411,-8.031725883483887e-05,-3.0755562782287598,4.173023626208305e-06,-0.00013659708201885223],[-0.9200468063354492,0.0335502028465271,0.1128593236207962,0.01702152192592621,-0.0013176306383684278,-0.0014463982079178095,0.039251893758773804,0.6121044158935547,0.0004884898662567139,-0.0012024706229567528,0.06273186206817627,0.00021843798458576202],[-0.00014102831482887268,0.05297887697815895,0.3444824814796448,-0.005609005689620972,0.0006177946925163269,-0.0011197789572179317,0.07963123172521591,-0.00013132765889167786,-0.005814701318740845,0.03401817008852959,0.23809248208999634,-0.013264976441860199]],\"type\":\"heatmap\",\"xaxis\":\"x\",\"yaxis\":\"y\",\"hovertemplate\":\"x: %{x}\\u003cbr\\u003ey: %{y}\\u003cbr\\u003ecolor: %{z}\\u003cextra\\u003e\\u003c\\u002fextra\\u003e\"}],                        {\"template\":{\"data\":{\"histogram2dcontour\":[{\"type\":\"histogram2dcontour\",\"colorbar\":{\"outlinewidth\":0,\"ticks\":\"\"},\"colorscale\":[[0.0,\"#0d0887\"],[0.1111111111111111,\"#46039f\"],[0.2222222222222222,\"#7201a8\"],[0.3333333333333333,\"#9c179e\"],[0.4444444444444444,\"#bd3786\"],[0.5555555555555556,\"#d8576b\"],[0.6666666666666666,\"#ed7953\"],[0.7777777777777778,\"#fb9f3a\"],[0.8888888888888888,\"#fdca26\"],[1.0,\"#f0f921\"]]}],\"choropleth\":[{\"type\":\"choropleth\",\"colorbar\":{\"outlinewidth\":0,\"ticks\":\"\"}}],\"histogram2d\":[{\"type\":\"histogram2d\",\"colorbar\":{\"outlinewidth\":0,\"ticks\":\"\"},\"colorscale\":[[0.0,\"#0d0887\"],[0.1111111111111111,\"#46039f\"],[0.2222222222222222,\"#7201a8\"],[0.3333333333333333,\"#9c179e\"],[0.4444444444444444,\"#bd3786\"],[0.5555555555555556,\"#d8576b\"],[0.6666666666666666,\"#ed7953\"],[0.7777777777777778,\"#fb9f3a\"],[0.8888888888888888,\"#fdca26\"],[1.0,\"#f0f921\"]]}],\"heatmap\":[{\"type\":\"heatmap\",\"colorbar\":{\"outlinewidth\":0,\"ticks\":\"\"},\"colorscale\":[[0.0,\"#0d0887\"],[0.1111111111111111,\"#46039f\"],[0.2222222222222222,\"#7201a8\"],[0.3333333333333333,\"#9c179e\"],[0.4444444444444444,\"#bd3786\"],[0.5555555555555556,\"#d8576b\"],[0.6666666666666666,\"#ed7953\"],[0.7777777777777778,\"#fb9f3a\"],[0.8888888888888888,\"#fdca26\"],[1.0,\"#f0f921\"]]}],\"heatmapgl\":[{\"type\":\"heatmapgl\",\"colorbar\":{\"outlinewidth\":0,\"ticks\":\"\"},\"colorscale\":[[0.0,\"#0d0887\"],[0.1111111111111111,\"#46039f\"],[0.2222222222222222,\"#7201a8\"],[0.3333333333333333,\"#9c179e\"],[0.4444444444444444,\"#bd3786\"],[0.5555555555555556,\"#d8576b\"],[0.6666666666666666,\"#ed7953\"],[0.7777777777777778,\"#fb9f3a\"],[0.8888888888888888,\"#fdca26\"],[1.0,\"#f0f921\"]]}],\"contourcarpet\":[{\"type\":\"contourcarpet\",\"colorbar\":{\"outlinewidth\":0,\"ticks\":\"\"}}],\"contour\":[{\"type\":\"contour\",\"colorbar\":{\"outlinewidth\":0,\"ticks\":\"\"},\"colorscale\":[[0.0,\"#0d0887\"],[0.1111111111111111,\"#46039f\"],[0.2222222222222222,\"#7201a8\"],[0.3333333333333333,\"#9c179e\"],[0.4444444444444444,\"#bd3786\"],[0.5555555555555556,\"#d8576b\"],[0.6666666666666666,\"#ed7953\"],[0.7777777777777778,\"#fb9f3a\"],[0.8888888888888888,\"#fdca26\"],[1.0,\"#f0f921\"]]}],\"surface\":[{\"type\":\"surface\",\"colorbar\":{\"outlinewidth\":0,\"ticks\":\"\"},\"colorscale\":[[0.0,\"#0d0887\"],[0.1111111111111111,\"#46039f\"],[0.2222222222222222,\"#7201a8\"],[0.3333333333333333,\"#9c179e\"],[0.4444444444444444,\"#bd3786\"],[0.5555555555555556,\"#d8576b\"],[0.6666666666666666,\"#ed7953\"],[0.7777777777777778,\"#fb9f3a\"],[0.8888888888888888,\"#fdca26\"],[1.0,\"#f0f921\"]]}],\"mesh3d\":[{\"type\":\"mesh3d\",\"colorbar\":{\"outlinewidth\":0,\"ticks\":\"\"}}],\"scatter\":[{\"fillpattern\":{\"fillmode\":\"overlay\",\"size\":10,\"solidity\":0.2},\"type\":\"scatter\"}],\"parcoords\":[{\"type\":\"parcoords\",\"line\":{\"colorbar\":{\"outlinewidth\":0,\"ticks\":\"\"}}}],\"scatterpolargl\":[{\"type\":\"scatterpolargl\",\"marker\":{\"colorbar\":{\"outlinewidth\":0,\"ticks\":\"\"}}}],\"bar\":[{\"error_x\":{\"color\":\"#2a3f5f\"},\"error_y\":{\"color\":\"#2a3f5f\"},\"marker\":{\"line\":{\"color\":\"#E5ECF6\",\"width\":0.5},\"pattern\":{\"fillmode\":\"overlay\",\"size\":10,\"solidity\":0.2}},\"type\":\"bar\"}],\"scattergeo\":[{\"type\":\"scattergeo\",\"marker\":{\"colorbar\":{\"outlinewidth\":0,\"ticks\":\"\"}}}],\"scatterpolar\":[{\"type\":\"scatterpolar\",\"marker\":{\"colorbar\":{\"outlinewidth\":0,\"ticks\":\"\"}}}],\"histogram\":[{\"marker\":{\"pattern\":{\"fillmode\":\"overlay\",\"size\":10,\"solidity\":0.2}},\"type\":\"histogram\"}],\"scattergl\":[{\"type\":\"scattergl\",\"marker\":{\"colorbar\":{\"outlinewidth\":0,\"ticks\":\"\"}}}],\"scatter3d\":[{\"type\":\"scatter3d\",\"line\":{\"colorbar\":{\"outlinewidth\":0,\"ticks\":\"\"}},\"marker\":{\"colorbar\":{\"outlinewidth\":0,\"ticks\":\"\"}}}],\"scattermapbox\":[{\"type\":\"scattermapbox\",\"marker\":{\"colorbar\":{\"outlinewidth\":0,\"ticks\":\"\"}}}],\"scatterternary\":[{\"type\":\"scatterternary\",\"marker\":{\"colorbar\":{\"outlinewidth\":0,\"ticks\":\"\"}}}],\"scattercarpet\":[{\"type\":\"scattercarpet\",\"marker\":{\"colorbar\":{\"outlinewidth\":0,\"ticks\":\"\"}}}],\"carpet\":[{\"aaxis\":{\"endlinecolor\":\"#2a3f5f\",\"gridcolor\":\"white\",\"linecolor\":\"white\",\"minorgridcolor\":\"white\",\"startlinecolor\":\"#2a3f5f\"},\"baxis\":{\"endlinecolor\":\"#2a3f5f\",\"gridcolor\":\"white\",\"linecolor\":\"white\",\"minorgridcolor\":\"white\",\"startlinecolor\":\"#2a3f5f\"},\"type\":\"carpet\"}],\"table\":[{\"cells\":{\"fill\":{\"color\":\"#EBF0F8\"},\"line\":{\"color\":\"white\"}},\"header\":{\"fill\":{\"color\":\"#C8D4E3\"},\"line\":{\"color\":\"white\"}},\"type\":\"table\"}],\"barpolar\":[{\"marker\":{\"line\":{\"color\":\"#E5ECF6\",\"width\":0.5},\"pattern\":{\"fillmode\":\"overlay\",\"size\":10,\"solidity\":0.2}},\"type\":\"barpolar\"}],\"pie\":[{\"automargin\":true,\"type\":\"pie\"}]},\"layout\":{\"autotypenumbers\":\"strict\",\"colorway\":[\"#636efa\",\"#EF553B\",\"#00cc96\",\"#ab63fa\",\"#FFA15A\",\"#19d3f3\",\"#FF6692\",\"#B6E880\",\"#FF97FF\",\"#FECB52\"],\"font\":{\"color\":\"#2a3f5f\"},\"hovermode\":\"closest\",\"hoverlabel\":{\"align\":\"left\"},\"paper_bgcolor\":\"white\",\"plot_bgcolor\":\"#E5ECF6\",\"polar\":{\"bgcolor\":\"#E5ECF6\",\"angularaxis\":{\"gridcolor\":\"white\",\"linecolor\":\"white\",\"ticks\":\"\"},\"radialaxis\":{\"gridcolor\":\"white\",\"linecolor\":\"white\",\"ticks\":\"\"}},\"ternary\":{\"bgcolor\":\"#E5ECF6\",\"aaxis\":{\"gridcolor\":\"white\",\"linecolor\":\"white\",\"ticks\":\"\"},\"baxis\":{\"gridcolor\":\"white\",\"linecolor\":\"white\",\"ticks\":\"\"},\"caxis\":{\"gridcolor\":\"white\",\"linecolor\":\"white\",\"ticks\":\"\"}},\"coloraxis\":{\"colorbar\":{\"outlinewidth\":0,\"ticks\":\"\"}},\"colorscale\":{\"sequential\":[[0.0,\"#0d0887\"],[0.1111111111111111,\"#46039f\"],[0.2222222222222222,\"#7201a8\"],[0.3333333333333333,\"#9c179e\"],[0.4444444444444444,\"#bd3786\"],[0.5555555555555556,\"#d8576b\"],[0.6666666666666666,\"#ed7953\"],[0.7777777777777778,\"#fb9f3a\"],[0.8888888888888888,\"#fdca26\"],[1.0,\"#f0f921\"]],\"sequentialminus\":[[0.0,\"#0d0887\"],[0.1111111111111111,\"#46039f\"],[0.2222222222222222,\"#7201a8\"],[0.3333333333333333,\"#9c179e\"],[0.4444444444444444,\"#bd3786\"],[0.5555555555555556,\"#d8576b\"],[0.6666666666666666,\"#ed7953\"],[0.7777777777777778,\"#fb9f3a\"],[0.8888888888888888,\"#fdca26\"],[1.0,\"#f0f921\"]],\"diverging\":[[0,\"#8e0152\"],[0.1,\"#c51b7d\"],[0.2,\"#de77ae\"],[0.3,\"#f1b6da\"],[0.4,\"#fde0ef\"],[0.5,\"#f7f7f7\"],[0.6,\"#e6f5d0\"],[0.7,\"#b8e186\"],[0.8,\"#7fbc41\"],[0.9,\"#4d9221\"],[1,\"#276419\"]]},\"xaxis\":{\"gridcolor\":\"white\",\"linecolor\":\"white\",\"ticks\":\"\",\"title\":{\"standoff\":15},\"zerolinecolor\":\"white\",\"automargin\":true,\"zerolinewidth\":2},\"yaxis\":{\"gridcolor\":\"white\",\"linecolor\":\"white\",\"ticks\":\"\",\"title\":{\"standoff\":15},\"zerolinecolor\":\"white\",\"automargin\":true,\"zerolinewidth\":2},\"scene\":{\"xaxis\":{\"backgroundcolor\":\"#E5ECF6\",\"gridcolor\":\"white\",\"linecolor\":\"white\",\"showbackground\":true,\"ticks\":\"\",\"zerolinecolor\":\"white\",\"gridwidth\":2},\"yaxis\":{\"backgroundcolor\":\"#E5ECF6\",\"gridcolor\":\"white\",\"linecolor\":\"white\",\"showbackground\":true,\"ticks\":\"\",\"zerolinecolor\":\"white\",\"gridwidth\":2},\"zaxis\":{\"backgroundcolor\":\"#E5ECF6\",\"gridcolor\":\"white\",\"linecolor\":\"white\",\"showbackground\":true,\"ticks\":\"\",\"zerolinecolor\":\"white\",\"gridwidth\":2}},\"shapedefaults\":{\"line\":{\"color\":\"#2a3f5f\"}},\"annotationdefaults\":{\"arrowcolor\":\"#2a3f5f\",\"arrowhead\":0,\"arrowwidth\":1},\"geo\":{\"bgcolor\":\"white\",\"landcolor\":\"#E5ECF6\",\"subunitcolor\":\"white\",\"showland\":true,\"showlakes\":true,\"lakecolor\":\"white\"},\"title\":{\"x\":0.05},\"mapbox\":{\"style\":\"light\"}}},\"xaxis\":{\"anchor\":\"y\",\"domain\":[0.0,1.0],\"scaleanchor\":\"y\",\"constrain\":\"domain\"},\"yaxis\":{\"anchor\":\"x\",\"domain\":[0.0,1.0],\"autorange\":\"reversed\",\"constrain\":\"domain\"},\"coloraxis\":{\"colorscale\":[[0.0,\"rgb(103,0,31)\"],[0.1,\"rgb(178,24,43)\"],[0.2,\"rgb(214,96,77)\"],[0.3,\"rgb(244,165,130)\"],[0.4,\"rgb(253,219,199)\"],[0.5,\"rgb(247,247,247)\"],[0.6,\"rgb(209,229,240)\"],[0.7,\"rgb(146,197,222)\"],[0.8,\"rgb(67,147,195)\"],[0.9,\"rgb(33,102,172)\"],[1.0,\"rgb(5,48,97)\"]],\"cmid\":0.0},\"title\":{\"text\":\"Project Away IO Direction (Zero IO direction)\"}},                        {\"responsive\": true}                    ).then(function(){\n",
              "                            \n",
              "var gd = document.getElementById('0dd960a0-7879-4071-8984-db1a7fbade86');\n",
              "var x = new MutationObserver(function (mutations, observer) {{\n",
              "        var display = window.getComputedStyle(gd).display;\n",
              "        if (!display || display === 'none') {{\n",
              "            console.log([gd, 'removed!']);\n",
              "            Plotly.purge(gd);\n",
              "            observer.disconnect();\n",
              "        }}\n",
              "}});\n",
              "\n",
              "// Listen for the removal of the full notebook cells\n",
              "var notebookContainer = gd.closest('#notebook-container');\n",
              "if (notebookContainer) {{\n",
              "    x.observe(notebookContainer, {childList: true});\n",
              "}}\n",
              "\n",
              "// Listen for the clearing of the current output cell\n",
              "var outputEl = gd.closest('.output');\n",
              "if (outputEl) {{\n",
              "    x.observe(outputEl, {childList: true});\n",
              "}}\n",
              "\n",
              "                        })                };                });            </script>        </div>"
            ]
          },
          "metadata": {},
          "output_type": "display_data"
        },
        {
          "data": {
            "application/vnd.plotly.v1+json": {
              "config": {
                "plotlyServerURL": "https://plot.ly"
              },
              "data": [
                {
                  "coloraxis": "coloraxis",
                  "hovertemplate": "x: %{x}<br>y: %{y}<br>color: %{z}<extra></extra>",
                  "name": "0",
                  "type": "heatmap",
                  "xaxis": "x",
                  "yaxis": "y",
                  "z": [
                    [
                      -0.00006884569302201271,
                      -0.00006883451715111732,
                      -0.000025904097128659487,
                      -0.00006867176853120327,
                      -0.00003442633897066116,
                      0.00003836257383227348,
                      -0.0001898379996418953,
                      -0.000007051130523905158,
                      -0.0001602255506440997,
                      -0.00017346441745758057,
                      0.00008723489008843899,
                      -0.00010997103527188301
                    ],
                    [
                      0.0001115291379392147,
                      -0.000010366435162723064,
                      0.00010672444477677345,
                      0.0000788707984611392,
                      -0.00004737032577395439,
                      0.00024224445223808289,
                      -0.000015747849829494953,
                      -0.00014869216829538345,
                      -0.00008174125105142593,
                      0.00006040092557668686,
                      -0.00011755526065826416,
                      0.000012713950127363205
                    ],
                    [
                      0.000011666328646242619,
                      0.00012974647688679397,
                      0.00005972757935523987,
                      0.00006553251296281815,
                      -0.00001398799940943718,
                      -0.000029324321076273918,
                      -0.0001386594958603382,
                      0.000029593240469694138,
                      0.00009682402014732361,
                      0.000021227635443210602,
                      0.00024138635490089655,
                      0.00004926323890686035
                    ],
                    [
                      -0.0000369013287127018,
                      0.0000031242379918694496,
                      0.000024712644517421722,
                      -0.000026345951482653618,
                      -0.00007283728336915374,
                      -0.000004621746484190226,
                      0.000056285643950104713,
                      0.000011479482054710388,
                      -0.000095797935500741,
                      0.00010219792602583766,
                      0.00009860098361968994,
                      0.00003608688712120056
                    ],
                    [
                      -0.000027123140171170235,
                      0.0000723828561604023,
                      0.000029238348361104727,
                      -0.0001388220116496086,
                      -0.00004091771552339196,
                      -0.00008209521183744073,
                      -0.00018408498726785183,
                      0.0001819622702896595,
                      0.0000816420215414837,
                      0.00006350164767354727,
                      -0.00007550156442448497,
                      0.00014431399176828563
                    ],
                    [
                      -0.00009667174890637398,
                      -0.00013895519077777863,
                      -0.000009069161023944616,
                      -0.000021173520508455113,
                      0.00000787380849942565,
                      -0.00013364525511860847,
                      0.00003583182115107775,
                      0.00009827854228205979,
                      -0.0000532430422026664,
                      0.0004128310829401016,
                      -0.000048325397074222565,
                      -0.00008517334936186671
                    ],
                    [
                      -0.00006739795207977295,
                      0.00005962373688817024,
                      -0.00012581757619045675,
                      -0.000050884904339909554,
                      0.0004324413603171706,
                      -0.00009883427992463112,
                      -0.00039984576869755983,
                      -0.0000024756773200351745,
                      0.00008459200034849346,
                      0.000050985137932002544,
                      0.0001465486129745841,
                      0.00017117592506110668
                    ],
                    [
                      0.00005436220089904964,
                      0.0001283485908061266,
                      0.0000659954093862325,
                      0.0004779621958732605,
                      -0.000006784452125430107,
                      0.00016470719128847122,
                      -0.0001454278826713562,
                      0.0000780867412686348,
                      0.00010905181989073753,
                      0.001263737678527832,
                      -0.00006955978460609913,
                      0.0001701759174466133
                    ],
                    [
                      0.00009228801354765892,
                      -0.000012320233508944511,
                      0.000052403658628463745,
                      0.001025654375553131,
                      0.00005170004442334175,
                      0.0004289476200938225,
                      -0.000728905200958252,
                      0.0001448388211429119,
                      0.0001623891294002533,
                      0.00011131027713418007,
                      0.001401275396347046,
                      -0.0006010755896568298
                    ],
                    [
                      0.001292504370212555,
                      -0.00010741455480456352,
                      0.0015527307987213135,
                      0.0005757194012403488,
                      0.0003808028995990753,
                      -0.0006454065442085266,
                      -1.318569540977478,
                      0.000789448618888855,
                      -0.000007927417755126953,
                      -3.0927834510803223,
                      0.000008097616955637932,
                      -0.0001323055475950241
                    ],
                    [
                      -0.9445637464523315,
                      0.03383401036262512,
                      0.11407825350761414,
                      0.017248615622520447,
                      -0.0013716352405026555,
                      -0.001465899869799614,
                      0.03950348496437073,
                      0.623004674911499,
                      0.0004908530972898006,
                      -0.0012049712240695953,
                      0.06345760822296143,
                      0.0002426421269774437
                    ],
                    [
                      -0.00009445473551750183,
                      0.05347026512026787,
                      0.3510875701904297,
                      -0.005667883902788162,
                      0.0006294823251664639,
                      -0.0011475593782961369,
                      0.08103123307228088,
                      -0.00008946284651756287,
                      -0.00593954510986805,
                      0.03485291078686714,
                      0.24161195755004883,
                      -0.013542480766773224
                    ]
                  ]
                }
              ],
              "layout": {
                "coloraxis": {
                  "cmid": 0,
                  "colorscale": [
                    [
                      0,
                      "rgb(103,0,31)"
                    ],
                    [
                      0.1,
                      "rgb(178,24,43)"
                    ],
                    [
                      0.2,
                      "rgb(214,96,77)"
                    ],
                    [
                      0.3,
                      "rgb(244,165,130)"
                    ],
                    [
                      0.4,
                      "rgb(253,219,199)"
                    ],
                    [
                      0.5,
                      "rgb(247,247,247)"
                    ],
                    [
                      0.6,
                      "rgb(209,229,240)"
                    ],
                    [
                      0.7,
                      "rgb(146,197,222)"
                    ],
                    [
                      0.8,
                      "rgb(67,147,195)"
                    ],
                    [
                      0.9,
                      "rgb(33,102,172)"
                    ],
                    [
                      1,
                      "rgb(5,48,97)"
                    ]
                  ]
                },
                "template": {
                  "data": {
                    "bar": [
                      {
                        "error_x": {
                          "color": "#2a3f5f"
                        },
                        "error_y": {
                          "color": "#2a3f5f"
                        },
                        "marker": {
                          "line": {
                            "color": "#E5ECF6",
                            "width": 0.5
                          },
                          "pattern": {
                            "fillmode": "overlay",
                            "size": 10,
                            "solidity": 0.2
                          }
                        },
                        "type": "bar"
                      }
                    ],
                    "barpolar": [
                      {
                        "marker": {
                          "line": {
                            "color": "#E5ECF6",
                            "width": 0.5
                          },
                          "pattern": {
                            "fillmode": "overlay",
                            "size": 10,
                            "solidity": 0.2
                          }
                        },
                        "type": "barpolar"
                      }
                    ],
                    "carpet": [
                      {
                        "aaxis": {
                          "endlinecolor": "#2a3f5f",
                          "gridcolor": "white",
                          "linecolor": "white",
                          "minorgridcolor": "white",
                          "startlinecolor": "#2a3f5f"
                        },
                        "baxis": {
                          "endlinecolor": "#2a3f5f",
                          "gridcolor": "white",
                          "linecolor": "white",
                          "minorgridcolor": "white",
                          "startlinecolor": "#2a3f5f"
                        },
                        "type": "carpet"
                      }
                    ],
                    "choropleth": [
                      {
                        "colorbar": {
                          "outlinewidth": 0,
                          "ticks": ""
                        },
                        "type": "choropleth"
                      }
                    ],
                    "contour": [
                      {
                        "colorbar": {
                          "outlinewidth": 0,
                          "ticks": ""
                        },
                        "colorscale": [
                          [
                            0,
                            "#0d0887"
                          ],
                          [
                            0.1111111111111111,
                            "#46039f"
                          ],
                          [
                            0.2222222222222222,
                            "#7201a8"
                          ],
                          [
                            0.3333333333333333,
                            "#9c179e"
                          ],
                          [
                            0.4444444444444444,
                            "#bd3786"
                          ],
                          [
                            0.5555555555555556,
                            "#d8576b"
                          ],
                          [
                            0.6666666666666666,
                            "#ed7953"
                          ],
                          [
                            0.7777777777777778,
                            "#fb9f3a"
                          ],
                          [
                            0.8888888888888888,
                            "#fdca26"
                          ],
                          [
                            1,
                            "#f0f921"
                          ]
                        ],
                        "type": "contour"
                      }
                    ],
                    "contourcarpet": [
                      {
                        "colorbar": {
                          "outlinewidth": 0,
                          "ticks": ""
                        },
                        "type": "contourcarpet"
                      }
                    ],
                    "heatmap": [
                      {
                        "colorbar": {
                          "outlinewidth": 0,
                          "ticks": ""
                        },
                        "colorscale": [
                          [
                            0,
                            "#0d0887"
                          ],
                          [
                            0.1111111111111111,
                            "#46039f"
                          ],
                          [
                            0.2222222222222222,
                            "#7201a8"
                          ],
                          [
                            0.3333333333333333,
                            "#9c179e"
                          ],
                          [
                            0.4444444444444444,
                            "#bd3786"
                          ],
                          [
                            0.5555555555555556,
                            "#d8576b"
                          ],
                          [
                            0.6666666666666666,
                            "#ed7953"
                          ],
                          [
                            0.7777777777777778,
                            "#fb9f3a"
                          ],
                          [
                            0.8888888888888888,
                            "#fdca26"
                          ],
                          [
                            1,
                            "#f0f921"
                          ]
                        ],
                        "type": "heatmap"
                      }
                    ],
                    "heatmapgl": [
                      {
                        "colorbar": {
                          "outlinewidth": 0,
                          "ticks": ""
                        },
                        "colorscale": [
                          [
                            0,
                            "#0d0887"
                          ],
                          [
                            0.1111111111111111,
                            "#46039f"
                          ],
                          [
                            0.2222222222222222,
                            "#7201a8"
                          ],
                          [
                            0.3333333333333333,
                            "#9c179e"
                          ],
                          [
                            0.4444444444444444,
                            "#bd3786"
                          ],
                          [
                            0.5555555555555556,
                            "#d8576b"
                          ],
                          [
                            0.6666666666666666,
                            "#ed7953"
                          ],
                          [
                            0.7777777777777778,
                            "#fb9f3a"
                          ],
                          [
                            0.8888888888888888,
                            "#fdca26"
                          ],
                          [
                            1,
                            "#f0f921"
                          ]
                        ],
                        "type": "heatmapgl"
                      }
                    ],
                    "histogram": [
                      {
                        "marker": {
                          "pattern": {
                            "fillmode": "overlay",
                            "size": 10,
                            "solidity": 0.2
                          }
                        },
                        "type": "histogram"
                      }
                    ],
                    "histogram2d": [
                      {
                        "colorbar": {
                          "outlinewidth": 0,
                          "ticks": ""
                        },
                        "colorscale": [
                          [
                            0,
                            "#0d0887"
                          ],
                          [
                            0.1111111111111111,
                            "#46039f"
                          ],
                          [
                            0.2222222222222222,
                            "#7201a8"
                          ],
                          [
                            0.3333333333333333,
                            "#9c179e"
                          ],
                          [
                            0.4444444444444444,
                            "#bd3786"
                          ],
                          [
                            0.5555555555555556,
                            "#d8576b"
                          ],
                          [
                            0.6666666666666666,
                            "#ed7953"
                          ],
                          [
                            0.7777777777777778,
                            "#fb9f3a"
                          ],
                          [
                            0.8888888888888888,
                            "#fdca26"
                          ],
                          [
                            1,
                            "#f0f921"
                          ]
                        ],
                        "type": "histogram2d"
                      }
                    ],
                    "histogram2dcontour": [
                      {
                        "colorbar": {
                          "outlinewidth": 0,
                          "ticks": ""
                        },
                        "colorscale": [
                          [
                            0,
                            "#0d0887"
                          ],
                          [
                            0.1111111111111111,
                            "#46039f"
                          ],
                          [
                            0.2222222222222222,
                            "#7201a8"
                          ],
                          [
                            0.3333333333333333,
                            "#9c179e"
                          ],
                          [
                            0.4444444444444444,
                            "#bd3786"
                          ],
                          [
                            0.5555555555555556,
                            "#d8576b"
                          ],
                          [
                            0.6666666666666666,
                            "#ed7953"
                          ],
                          [
                            0.7777777777777778,
                            "#fb9f3a"
                          ],
                          [
                            0.8888888888888888,
                            "#fdca26"
                          ],
                          [
                            1,
                            "#f0f921"
                          ]
                        ],
                        "type": "histogram2dcontour"
                      }
                    ],
                    "mesh3d": [
                      {
                        "colorbar": {
                          "outlinewidth": 0,
                          "ticks": ""
                        },
                        "type": "mesh3d"
                      }
                    ],
                    "parcoords": [
                      {
                        "line": {
                          "colorbar": {
                            "outlinewidth": 0,
                            "ticks": ""
                          }
                        },
                        "type": "parcoords"
                      }
                    ],
                    "pie": [
                      {
                        "automargin": true,
                        "type": "pie"
                      }
                    ],
                    "scatter": [
                      {
                        "fillpattern": {
                          "fillmode": "overlay",
                          "size": 10,
                          "solidity": 0.2
                        },
                        "type": "scatter"
                      }
                    ],
                    "scatter3d": [
                      {
                        "line": {
                          "colorbar": {
                            "outlinewidth": 0,
                            "ticks": ""
                          }
                        },
                        "marker": {
                          "colorbar": {
                            "outlinewidth": 0,
                            "ticks": ""
                          }
                        },
                        "type": "scatter3d"
                      }
                    ],
                    "scattercarpet": [
                      {
                        "marker": {
                          "colorbar": {
                            "outlinewidth": 0,
                            "ticks": ""
                          }
                        },
                        "type": "scattercarpet"
                      }
                    ],
                    "scattergeo": [
                      {
                        "marker": {
                          "colorbar": {
                            "outlinewidth": 0,
                            "ticks": ""
                          }
                        },
                        "type": "scattergeo"
                      }
                    ],
                    "scattergl": [
                      {
                        "marker": {
                          "colorbar": {
                            "outlinewidth": 0,
                            "ticks": ""
                          }
                        },
                        "type": "scattergl"
                      }
                    ],
                    "scattermapbox": [
                      {
                        "marker": {
                          "colorbar": {
                            "outlinewidth": 0,
                            "ticks": ""
                          }
                        },
                        "type": "scattermapbox"
                      }
                    ],
                    "scatterpolar": [
                      {
                        "marker": {
                          "colorbar": {
                            "outlinewidth": 0,
                            "ticks": ""
                          }
                        },
                        "type": "scatterpolar"
                      }
                    ],
                    "scatterpolargl": [
                      {
                        "marker": {
                          "colorbar": {
                            "outlinewidth": 0,
                            "ticks": ""
                          }
                        },
                        "type": "scatterpolargl"
                      }
                    ],
                    "scatterternary": [
                      {
                        "marker": {
                          "colorbar": {
                            "outlinewidth": 0,
                            "ticks": ""
                          }
                        },
                        "type": "scatterternary"
                      }
                    ],
                    "surface": [
                      {
                        "colorbar": {
                          "outlinewidth": 0,
                          "ticks": ""
                        },
                        "colorscale": [
                          [
                            0,
                            "#0d0887"
                          ],
                          [
                            0.1111111111111111,
                            "#46039f"
                          ],
                          [
                            0.2222222222222222,
                            "#7201a8"
                          ],
                          [
                            0.3333333333333333,
                            "#9c179e"
                          ],
                          [
                            0.4444444444444444,
                            "#bd3786"
                          ],
                          [
                            0.5555555555555556,
                            "#d8576b"
                          ],
                          [
                            0.6666666666666666,
                            "#ed7953"
                          ],
                          [
                            0.7777777777777778,
                            "#fb9f3a"
                          ],
                          [
                            0.8888888888888888,
                            "#fdca26"
                          ],
                          [
                            1,
                            "#f0f921"
                          ]
                        ],
                        "type": "surface"
                      }
                    ],
                    "table": [
                      {
                        "cells": {
                          "fill": {
                            "color": "#EBF0F8"
                          },
                          "line": {
                            "color": "white"
                          }
                        },
                        "header": {
                          "fill": {
                            "color": "#C8D4E3"
                          },
                          "line": {
                            "color": "white"
                          }
                        },
                        "type": "table"
                      }
                    ]
                  },
                  "layout": {
                    "annotationdefaults": {
                      "arrowcolor": "#2a3f5f",
                      "arrowhead": 0,
                      "arrowwidth": 1
                    },
                    "autotypenumbers": "strict",
                    "coloraxis": {
                      "colorbar": {
                        "outlinewidth": 0,
                        "ticks": ""
                      }
                    },
                    "colorscale": {
                      "diverging": [
                        [
                          0,
                          "#8e0152"
                        ],
                        [
                          0.1,
                          "#c51b7d"
                        ],
                        [
                          0.2,
                          "#de77ae"
                        ],
                        [
                          0.3,
                          "#f1b6da"
                        ],
                        [
                          0.4,
                          "#fde0ef"
                        ],
                        [
                          0.5,
                          "#f7f7f7"
                        ],
                        [
                          0.6,
                          "#e6f5d0"
                        ],
                        [
                          0.7,
                          "#b8e186"
                        ],
                        [
                          0.8,
                          "#7fbc41"
                        ],
                        [
                          0.9,
                          "#4d9221"
                        ],
                        [
                          1,
                          "#276419"
                        ]
                      ],
                      "sequential": [
                        [
                          0,
                          "#0d0887"
                        ],
                        [
                          0.1111111111111111,
                          "#46039f"
                        ],
                        [
                          0.2222222222222222,
                          "#7201a8"
                        ],
                        [
                          0.3333333333333333,
                          "#9c179e"
                        ],
                        [
                          0.4444444444444444,
                          "#bd3786"
                        ],
                        [
                          0.5555555555555556,
                          "#d8576b"
                        ],
                        [
                          0.6666666666666666,
                          "#ed7953"
                        ],
                        [
                          0.7777777777777778,
                          "#fb9f3a"
                        ],
                        [
                          0.8888888888888888,
                          "#fdca26"
                        ],
                        [
                          1,
                          "#f0f921"
                        ]
                      ],
                      "sequentialminus": [
                        [
                          0,
                          "#0d0887"
                        ],
                        [
                          0.1111111111111111,
                          "#46039f"
                        ],
                        [
                          0.2222222222222222,
                          "#7201a8"
                        ],
                        [
                          0.3333333333333333,
                          "#9c179e"
                        ],
                        [
                          0.4444444444444444,
                          "#bd3786"
                        ],
                        [
                          0.5555555555555556,
                          "#d8576b"
                        ],
                        [
                          0.6666666666666666,
                          "#ed7953"
                        ],
                        [
                          0.7777777777777778,
                          "#fb9f3a"
                        ],
                        [
                          0.8888888888888888,
                          "#fdca26"
                        ],
                        [
                          1,
                          "#f0f921"
                        ]
                      ]
                    },
                    "colorway": [
                      "#636efa",
                      "#EF553B",
                      "#00cc96",
                      "#ab63fa",
                      "#FFA15A",
                      "#19d3f3",
                      "#FF6692",
                      "#B6E880",
                      "#FF97FF",
                      "#FECB52"
                    ],
                    "font": {
                      "color": "#2a3f5f"
                    },
                    "geo": {
                      "bgcolor": "white",
                      "lakecolor": "white",
                      "landcolor": "#E5ECF6",
                      "showlakes": true,
                      "showland": true,
                      "subunitcolor": "white"
                    },
                    "hoverlabel": {
                      "align": "left"
                    },
                    "hovermode": "closest",
                    "mapbox": {
                      "style": "light"
                    },
                    "paper_bgcolor": "white",
                    "plot_bgcolor": "#E5ECF6",
                    "polar": {
                      "angularaxis": {
                        "gridcolor": "white",
                        "linecolor": "white",
                        "ticks": ""
                      },
                      "bgcolor": "#E5ECF6",
                      "radialaxis": {
                        "gridcolor": "white",
                        "linecolor": "white",
                        "ticks": ""
                      }
                    },
                    "scene": {
                      "xaxis": {
                        "backgroundcolor": "#E5ECF6",
                        "gridcolor": "white",
                        "gridwidth": 2,
                        "linecolor": "white",
                        "showbackground": true,
                        "ticks": "",
                        "zerolinecolor": "white"
                      },
                      "yaxis": {
                        "backgroundcolor": "#E5ECF6",
                        "gridcolor": "white",
                        "gridwidth": 2,
                        "linecolor": "white",
                        "showbackground": true,
                        "ticks": "",
                        "zerolinecolor": "white"
                      },
                      "zaxis": {
                        "backgroundcolor": "#E5ECF6",
                        "gridcolor": "white",
                        "gridwidth": 2,
                        "linecolor": "white",
                        "showbackground": true,
                        "ticks": "",
                        "zerolinecolor": "white"
                      }
                    },
                    "shapedefaults": {
                      "line": {
                        "color": "#2a3f5f"
                      }
                    },
                    "ternary": {
                      "aaxis": {
                        "gridcolor": "white",
                        "linecolor": "white",
                        "ticks": ""
                      },
                      "baxis": {
                        "gridcolor": "white",
                        "linecolor": "white",
                        "ticks": ""
                      },
                      "bgcolor": "#E5ECF6",
                      "caxis": {
                        "gridcolor": "white",
                        "linecolor": "white",
                        "ticks": ""
                      }
                    },
                    "title": {
                      "x": 0.05
                    },
                    "xaxis": {
                      "automargin": true,
                      "gridcolor": "white",
                      "linecolor": "white",
                      "ticks": "",
                      "title": {
                        "standoff": 15
                      },
                      "zerolinecolor": "white",
                      "zerolinewidth": 2
                    },
                    "yaxis": {
                      "automargin": true,
                      "gridcolor": "white",
                      "linecolor": "white",
                      "ticks": "",
                      "title": {
                        "standoff": 15
                      },
                      "zerolinecolor": "white",
                      "zerolinewidth": 2
                    }
                  }
                },
                "title": {
                  "text": "Replace IO directions with Corrupted IO directions"
                },
                "xaxis": {
                  "anchor": "y",
                  "constrain": "domain",
                  "domain": [
                    0,
                    1
                  ],
                  "scaleanchor": "y"
                },
                "yaxis": {
                  "anchor": "x",
                  "autorange": "reversed",
                  "constrain": "domain",
                  "domain": [
                    0,
                    1
                  ]
                }
              }
            },
            "text/html": [
              "<div>                            <div id=\"b5cf677f-c53d-4129-9d2d-312db362e6d7\" class=\"plotly-graph-div\" style=\"height:525px; width:100%;\"></div>            <script type=\"text/javascript\">                require([\"plotly\"], function(Plotly) {                    window.PLOTLYENV=window.PLOTLYENV || {};                                    if (document.getElementById(\"b5cf677f-c53d-4129-9d2d-312db362e6d7\")) {                    Plotly.newPlot(                        \"b5cf677f-c53d-4129-9d2d-312db362e6d7\",                        [{\"coloraxis\":\"coloraxis\",\"name\":\"0\",\"z\":[[-6.884569302201271e-05,-6.883451715111732e-05,-2.5904097128659487e-05,-6.867176853120327e-05,-3.442633897066116e-05,3.836257383227348e-05,-0.0001898379996418953,-7.051130523905158e-06,-0.0001602255506440997,-0.00017346441745758057,8.723489008843899e-05,-0.00010997103527188301],[0.0001115291379392147,-1.0366435162723064e-05,0.00010672444477677345,7.88707984611392e-05,-4.737032577395439e-05,0.00024224445223808289,-1.5747849829494953e-05,-0.00014869216829538345,-8.174125105142593e-05,6.040092557668686e-05,-0.00011755526065826416,1.2713950127363205e-05],[1.1666328646242619e-05,0.00012974647688679397,5.972757935523987e-05,6.553251296281815e-05,-1.398799940943718e-05,-2.9324321076273918e-05,-0.0001386594958603382,2.9593240469694138e-05,9.682402014732361e-05,2.1227635443210602e-05,0.00024138635490089655,4.926323890686035e-05],[-3.69013287127018e-05,3.1242379918694496e-06,2.4712644517421722e-05,-2.6345951482653618e-05,-7.283728336915374e-05,-4.621746484190226e-06,5.6285643950104713e-05,1.1479482054710388e-05,-9.5797935500741e-05,0.00010219792602583766,9.860098361968994e-05,3.608688712120056e-05],[-2.7123140171170235e-05,7.23828561604023e-05,2.9238348361104727e-05,-0.0001388220116496086,-4.091771552339196e-05,-8.209521183744073e-05,-0.00018408498726785183,0.0001819622702896595,8.16420215414837e-05,6.350164767354727e-05,-7.550156442448497e-05,0.00014431399176828563],[-9.667174890637398e-05,-0.00013895519077777863,-9.069161023944616e-06,-2.1173520508455113e-05,7.87380849942565e-06,-0.00013364525511860847,3.583182115107775e-05,9.827854228205979e-05,-5.32430422026664e-05,0.0004128310829401016,-4.8325397074222565e-05,-8.517334936186671e-05],[-6.739795207977295e-05,5.962373688817024e-05,-0.00012581757619045675,-5.0884904339909554e-05,0.0004324413603171706,-9.883427992463112e-05,-0.00039984576869755983,-2.4756773200351745e-06,8.459200034849346e-05,5.0985137932002544e-05,0.0001465486129745841,0.00017117592506110668],[5.436220089904964e-05,0.0001283485908061266,6.59954093862325e-05,0.0004779621958732605,-6.784452125430107e-06,0.00016470719128847122,-0.0001454278826713562,7.80867412686348e-05,0.00010905181989073753,0.001263737678527832,-6.955978460609913e-05,0.0001701759174466133],[9.228801354765892e-05,-1.2320233508944511e-05,5.2403658628463745e-05,0.001025654375553131,5.170004442334175e-05,0.0004289476200938225,-0.000728905200958252,0.0001448388211429119,0.0001623891294002533,0.00011131027713418007,0.001401275396347046,-0.0006010755896568298],[0.001292504370212555,-0.00010741455480456352,0.0015527307987213135,0.0005757194012403488,0.0003808028995990753,-0.0006454065442085266,-1.318569540977478,0.000789448618888855,-7.927417755126953e-06,-3.0927834510803223,8.097616955637932e-06,-0.0001323055475950241],[-0.9445637464523315,0.03383401036262512,0.11407825350761414,0.017248615622520447,-0.0013716352405026555,-0.001465899869799614,0.03950348496437073,0.623004674911499,0.0004908530972898006,-0.0012049712240695953,0.06345760822296143,0.0002426421269774437],[-9.445473551750183e-05,0.05347026512026787,0.3510875701904297,-0.005667883902788162,0.0006294823251664639,-0.0011475593782961369,0.08103123307228088,-8.946284651756287e-05,-0.00593954510986805,0.03485291078686714,0.24161195755004883,-0.013542480766773224]],\"type\":\"heatmap\",\"xaxis\":\"x\",\"yaxis\":\"y\",\"hovertemplate\":\"x: %{x}\\u003cbr\\u003ey: %{y}\\u003cbr\\u003ecolor: %{z}\\u003cextra\\u003e\\u003c\\u002fextra\\u003e\"}],                        {\"template\":{\"data\":{\"histogram2dcontour\":[{\"type\":\"histogram2dcontour\",\"colorbar\":{\"outlinewidth\":0,\"ticks\":\"\"},\"colorscale\":[[0.0,\"#0d0887\"],[0.1111111111111111,\"#46039f\"],[0.2222222222222222,\"#7201a8\"],[0.3333333333333333,\"#9c179e\"],[0.4444444444444444,\"#bd3786\"],[0.5555555555555556,\"#d8576b\"],[0.6666666666666666,\"#ed7953\"],[0.7777777777777778,\"#fb9f3a\"],[0.8888888888888888,\"#fdca26\"],[1.0,\"#f0f921\"]]}],\"choropleth\":[{\"type\":\"choropleth\",\"colorbar\":{\"outlinewidth\":0,\"ticks\":\"\"}}],\"histogram2d\":[{\"type\":\"histogram2d\",\"colorbar\":{\"outlinewidth\":0,\"ticks\":\"\"},\"colorscale\":[[0.0,\"#0d0887\"],[0.1111111111111111,\"#46039f\"],[0.2222222222222222,\"#7201a8\"],[0.3333333333333333,\"#9c179e\"],[0.4444444444444444,\"#bd3786\"],[0.5555555555555556,\"#d8576b\"],[0.6666666666666666,\"#ed7953\"],[0.7777777777777778,\"#fb9f3a\"],[0.8888888888888888,\"#fdca26\"],[1.0,\"#f0f921\"]]}],\"heatmap\":[{\"type\":\"heatmap\",\"colorbar\":{\"outlinewidth\":0,\"ticks\":\"\"},\"colorscale\":[[0.0,\"#0d0887\"],[0.1111111111111111,\"#46039f\"],[0.2222222222222222,\"#7201a8\"],[0.3333333333333333,\"#9c179e\"],[0.4444444444444444,\"#bd3786\"],[0.5555555555555556,\"#d8576b\"],[0.6666666666666666,\"#ed7953\"],[0.7777777777777778,\"#fb9f3a\"],[0.8888888888888888,\"#fdca26\"],[1.0,\"#f0f921\"]]}],\"heatmapgl\":[{\"type\":\"heatmapgl\",\"colorbar\":{\"outlinewidth\":0,\"ticks\":\"\"},\"colorscale\":[[0.0,\"#0d0887\"],[0.1111111111111111,\"#46039f\"],[0.2222222222222222,\"#7201a8\"],[0.3333333333333333,\"#9c179e\"],[0.4444444444444444,\"#bd3786\"],[0.5555555555555556,\"#d8576b\"],[0.6666666666666666,\"#ed7953\"],[0.7777777777777778,\"#fb9f3a\"],[0.8888888888888888,\"#fdca26\"],[1.0,\"#f0f921\"]]}],\"contourcarpet\":[{\"type\":\"contourcarpet\",\"colorbar\":{\"outlinewidth\":0,\"ticks\":\"\"}}],\"contour\":[{\"type\":\"contour\",\"colorbar\":{\"outlinewidth\":0,\"ticks\":\"\"},\"colorscale\":[[0.0,\"#0d0887\"],[0.1111111111111111,\"#46039f\"],[0.2222222222222222,\"#7201a8\"],[0.3333333333333333,\"#9c179e\"],[0.4444444444444444,\"#bd3786\"],[0.5555555555555556,\"#d8576b\"],[0.6666666666666666,\"#ed7953\"],[0.7777777777777778,\"#fb9f3a\"],[0.8888888888888888,\"#fdca26\"],[1.0,\"#f0f921\"]]}],\"surface\":[{\"type\":\"surface\",\"colorbar\":{\"outlinewidth\":0,\"ticks\":\"\"},\"colorscale\":[[0.0,\"#0d0887\"],[0.1111111111111111,\"#46039f\"],[0.2222222222222222,\"#7201a8\"],[0.3333333333333333,\"#9c179e\"],[0.4444444444444444,\"#bd3786\"],[0.5555555555555556,\"#d8576b\"],[0.6666666666666666,\"#ed7953\"],[0.7777777777777778,\"#fb9f3a\"],[0.8888888888888888,\"#fdca26\"],[1.0,\"#f0f921\"]]}],\"mesh3d\":[{\"type\":\"mesh3d\",\"colorbar\":{\"outlinewidth\":0,\"ticks\":\"\"}}],\"scatter\":[{\"fillpattern\":{\"fillmode\":\"overlay\",\"size\":10,\"solidity\":0.2},\"type\":\"scatter\"}],\"parcoords\":[{\"type\":\"parcoords\",\"line\":{\"colorbar\":{\"outlinewidth\":0,\"ticks\":\"\"}}}],\"scatterpolargl\":[{\"type\":\"scatterpolargl\",\"marker\":{\"colorbar\":{\"outlinewidth\":0,\"ticks\":\"\"}}}],\"bar\":[{\"error_x\":{\"color\":\"#2a3f5f\"},\"error_y\":{\"color\":\"#2a3f5f\"},\"marker\":{\"line\":{\"color\":\"#E5ECF6\",\"width\":0.5},\"pattern\":{\"fillmode\":\"overlay\",\"size\":10,\"solidity\":0.2}},\"type\":\"bar\"}],\"scattergeo\":[{\"type\":\"scattergeo\",\"marker\":{\"colorbar\":{\"outlinewidth\":0,\"ticks\":\"\"}}}],\"scatterpolar\":[{\"type\":\"scatterpolar\",\"marker\":{\"colorbar\":{\"outlinewidth\":0,\"ticks\":\"\"}}}],\"histogram\":[{\"marker\":{\"pattern\":{\"fillmode\":\"overlay\",\"size\":10,\"solidity\":0.2}},\"type\":\"histogram\"}],\"scattergl\":[{\"type\":\"scattergl\",\"marker\":{\"colorbar\":{\"outlinewidth\":0,\"ticks\":\"\"}}}],\"scatter3d\":[{\"type\":\"scatter3d\",\"line\":{\"colorbar\":{\"outlinewidth\":0,\"ticks\":\"\"}},\"marker\":{\"colorbar\":{\"outlinewidth\":0,\"ticks\":\"\"}}}],\"scattermapbox\":[{\"type\":\"scattermapbox\",\"marker\":{\"colorbar\":{\"outlinewidth\":0,\"ticks\":\"\"}}}],\"scatterternary\":[{\"type\":\"scatterternary\",\"marker\":{\"colorbar\":{\"outlinewidth\":0,\"ticks\":\"\"}}}],\"scattercarpet\":[{\"type\":\"scattercarpet\",\"marker\":{\"colorbar\":{\"outlinewidth\":0,\"ticks\":\"\"}}}],\"carpet\":[{\"aaxis\":{\"endlinecolor\":\"#2a3f5f\",\"gridcolor\":\"white\",\"linecolor\":\"white\",\"minorgridcolor\":\"white\",\"startlinecolor\":\"#2a3f5f\"},\"baxis\":{\"endlinecolor\":\"#2a3f5f\",\"gridcolor\":\"white\",\"linecolor\":\"white\",\"minorgridcolor\":\"white\",\"startlinecolor\":\"#2a3f5f\"},\"type\":\"carpet\"}],\"table\":[{\"cells\":{\"fill\":{\"color\":\"#EBF0F8\"},\"line\":{\"color\":\"white\"}},\"header\":{\"fill\":{\"color\":\"#C8D4E3\"},\"line\":{\"color\":\"white\"}},\"type\":\"table\"}],\"barpolar\":[{\"marker\":{\"line\":{\"color\":\"#E5ECF6\",\"width\":0.5},\"pattern\":{\"fillmode\":\"overlay\",\"size\":10,\"solidity\":0.2}},\"type\":\"barpolar\"}],\"pie\":[{\"automargin\":true,\"type\":\"pie\"}]},\"layout\":{\"autotypenumbers\":\"strict\",\"colorway\":[\"#636efa\",\"#EF553B\",\"#00cc96\",\"#ab63fa\",\"#FFA15A\",\"#19d3f3\",\"#FF6692\",\"#B6E880\",\"#FF97FF\",\"#FECB52\"],\"font\":{\"color\":\"#2a3f5f\"},\"hovermode\":\"closest\",\"hoverlabel\":{\"align\":\"left\"},\"paper_bgcolor\":\"white\",\"plot_bgcolor\":\"#E5ECF6\",\"polar\":{\"bgcolor\":\"#E5ECF6\",\"angularaxis\":{\"gridcolor\":\"white\",\"linecolor\":\"white\",\"ticks\":\"\"},\"radialaxis\":{\"gridcolor\":\"white\",\"linecolor\":\"white\",\"ticks\":\"\"}},\"ternary\":{\"bgcolor\":\"#E5ECF6\",\"aaxis\":{\"gridcolor\":\"white\",\"linecolor\":\"white\",\"ticks\":\"\"},\"baxis\":{\"gridcolor\":\"white\",\"linecolor\":\"white\",\"ticks\":\"\"},\"caxis\":{\"gridcolor\":\"white\",\"linecolor\":\"white\",\"ticks\":\"\"}},\"coloraxis\":{\"colorbar\":{\"outlinewidth\":0,\"ticks\":\"\"}},\"colorscale\":{\"sequential\":[[0.0,\"#0d0887\"],[0.1111111111111111,\"#46039f\"],[0.2222222222222222,\"#7201a8\"],[0.3333333333333333,\"#9c179e\"],[0.4444444444444444,\"#bd3786\"],[0.5555555555555556,\"#d8576b\"],[0.6666666666666666,\"#ed7953\"],[0.7777777777777778,\"#fb9f3a\"],[0.8888888888888888,\"#fdca26\"],[1.0,\"#f0f921\"]],\"sequentialminus\":[[0.0,\"#0d0887\"],[0.1111111111111111,\"#46039f\"],[0.2222222222222222,\"#7201a8\"],[0.3333333333333333,\"#9c179e\"],[0.4444444444444444,\"#bd3786\"],[0.5555555555555556,\"#d8576b\"],[0.6666666666666666,\"#ed7953\"],[0.7777777777777778,\"#fb9f3a\"],[0.8888888888888888,\"#fdca26\"],[1.0,\"#f0f921\"]],\"diverging\":[[0,\"#8e0152\"],[0.1,\"#c51b7d\"],[0.2,\"#de77ae\"],[0.3,\"#f1b6da\"],[0.4,\"#fde0ef\"],[0.5,\"#f7f7f7\"],[0.6,\"#e6f5d0\"],[0.7,\"#b8e186\"],[0.8,\"#7fbc41\"],[0.9,\"#4d9221\"],[1,\"#276419\"]]},\"xaxis\":{\"gridcolor\":\"white\",\"linecolor\":\"white\",\"ticks\":\"\",\"title\":{\"standoff\":15},\"zerolinecolor\":\"white\",\"automargin\":true,\"zerolinewidth\":2},\"yaxis\":{\"gridcolor\":\"white\",\"linecolor\":\"white\",\"ticks\":\"\",\"title\":{\"standoff\":15},\"zerolinecolor\":\"white\",\"automargin\":true,\"zerolinewidth\":2},\"scene\":{\"xaxis\":{\"backgroundcolor\":\"#E5ECF6\",\"gridcolor\":\"white\",\"linecolor\":\"white\",\"showbackground\":true,\"ticks\":\"\",\"zerolinecolor\":\"white\",\"gridwidth\":2},\"yaxis\":{\"backgroundcolor\":\"#E5ECF6\",\"gridcolor\":\"white\",\"linecolor\":\"white\",\"showbackground\":true,\"ticks\":\"\",\"zerolinecolor\":\"white\",\"gridwidth\":2},\"zaxis\":{\"backgroundcolor\":\"#E5ECF6\",\"gridcolor\":\"white\",\"linecolor\":\"white\",\"showbackground\":true,\"ticks\":\"\",\"zerolinecolor\":\"white\",\"gridwidth\":2}},\"shapedefaults\":{\"line\":{\"color\":\"#2a3f5f\"}},\"annotationdefaults\":{\"arrowcolor\":\"#2a3f5f\",\"arrowhead\":0,\"arrowwidth\":1},\"geo\":{\"bgcolor\":\"white\",\"landcolor\":\"#E5ECF6\",\"subunitcolor\":\"white\",\"showland\":true,\"showlakes\":true,\"lakecolor\":\"white\"},\"title\":{\"x\":0.05},\"mapbox\":{\"style\":\"light\"}}},\"xaxis\":{\"anchor\":\"y\",\"domain\":[0.0,1.0],\"scaleanchor\":\"y\",\"constrain\":\"domain\"},\"yaxis\":{\"anchor\":\"x\",\"domain\":[0.0,1.0],\"autorange\":\"reversed\",\"constrain\":\"domain\"},\"coloraxis\":{\"colorscale\":[[0.0,\"rgb(103,0,31)\"],[0.1,\"rgb(178,24,43)\"],[0.2,\"rgb(214,96,77)\"],[0.3,\"rgb(244,165,130)\"],[0.4,\"rgb(253,219,199)\"],[0.5,\"rgb(247,247,247)\"],[0.6,\"rgb(209,229,240)\"],[0.7,\"rgb(146,197,222)\"],[0.8,\"rgb(67,147,195)\"],[0.9,\"rgb(33,102,172)\"],[1.0,\"rgb(5,48,97)\"]],\"cmid\":0.0},\"title\":{\"text\":\"Replace IO directions with Corrupted IO directions\"}},                        {\"responsive\": true}                    ).then(function(){\n",
              "                            \n",
              "var gd = document.getElementById('b5cf677f-c53d-4129-9d2d-312db362e6d7');\n",
              "var x = new MutationObserver(function (mutations, observer) {{\n",
              "        var display = window.getComputedStyle(gd).display;\n",
              "        if (!display || display === 'none') {{\n",
              "            console.log([gd, 'removed!']);\n",
              "            Plotly.purge(gd);\n",
              "            observer.disconnect();\n",
              "        }}\n",
              "}});\n",
              "\n",
              "// Listen for the removal of the full notebook cells\n",
              "var notebookContainer = gd.closest('#notebook-container');\n",
              "if (notebookContainer) {{\n",
              "    x.observe(notebookContainer, {childList: true});\n",
              "}}\n",
              "\n",
              "// Listen for the clearing of the current output cell\n",
              "var outputEl = gd.closest('.output');\n",
              "if (outputEl) {{\n",
              "    x.observe(outputEl, {childList: true});\n",
              "}}\n",
              "\n",
              "                        })                };                });            </script>        </div>"
            ]
          },
          "metadata": {},
          "output_type": "display_data"
        },
        {
          "data": {
            "application/vnd.plotly.v1+json": {
              "config": {
                "plotlyServerURL": "https://plot.ly"
              },
              "data": [
                {
                  "coloraxis": "coloraxis",
                  "hovertemplate": "x: %{x}<br>y: %{y}<br>color: %{z}<extra></extra>",
                  "name": "0",
                  "type": "heatmap",
                  "xaxis": "x",
                  "yaxis": "y",
                  "z": [
                    [
                      -0.00024330941960215569,
                      -0.0004307911731302738,
                      -0.000016832549590617418,
                      -0.000013132055755704641,
                      -0.0002095070667564869,
                      -0.0004297706764191389,
                      -0.0007126228883862495,
                      0.00007484942761948332,
                      -0.00003061187453567982,
                      -0.000028470531105995178,
                      0.0003439071588218212,
                      0.000345718115568161
                    ],
                    [
                      0.00004359218291938305,
                      -0.00018593401182442904,
                      -0.00020978599786758423,
                      -0.00033240613993257284,
                      0.0005512507632374763,
                      0.0005459031090140343,
                      -0.0000644228421151638,
                      -0.0006092702969908714,
                      0.000009150709956884384,
                      0.00012389593757689,
                      -0.00011832127347588539,
                      -0.00011149758938699961
                    ],
                    [
                      0.00005042087286710739,
                      0.00010155531344935298,
                      0.00010690232738852501,
                      0.0005815140902996063,
                      -0.00016502896323800087,
                      -0.00041046994738280773,
                      0.00024245516397058964,
                      0.0001695258542895317,
                      0.0006804754957556725,
                      -0.00035312725231051445,
                      0.00016906531527638435,
                      -0.00018165912479162216
                    ],
                    [
                      -0.00007399648893624544,
                      0.00006158545147627592,
                      -0.00004943058593198657,
                      -0.00012043025344610214,
                      0.000021998595912009478,
                      -0.00006258452776819468,
                      -0.000038183643482625484,
                      -0.0000775214284658432,
                      -0.000240701949223876,
                      0.0001792154071154073,
                      0.00021151220425963402,
                      0.00020107906311750412
                    ],
                    [
                      0.0002655056305229664,
                      -0.0001853287685662508,
                      -0.000020799401681870222,
                      -0.0003977222368121147,
                      -0.0000476828427053988,
                      0.000016378267901018262,
                      -0.00007810239912942052,
                      0.00032753078266978264,
                      -0.00004098891804460436,
                      0.00017511658370494843,
                      -0.00004724593600258231,
                      0.00004127513966523111
                    ],
                    [
                      -0.00021359138190746307,
                      -0.0001469980925321579,
                      0.00012345414143055677,
                      -0.000028210950404172763,
                      0.00006529812526423484,
                      -0.00034474069252610207,
                      -0.00003545498475432396,
                      0.00011121563147753477,
                      -0.00007544583058916032,
                      0.0001882521901279688,
                      -0.000223647803068161,
                      -0.0000748231541365385
                    ],
                    [
                      -0.0008061667904257774,
                      -0.00013153301551938057,
                      -0.00023920621606521308,
                      0.0001613337080925703,
                      0.0003785273293033242,
                      0.0003147441893815994,
                      -0.00013805250637233257,
                      0.000028931302949786186,
                      0.00004132816684432328,
                      -0.00005156558472663164,
                      0.00002080379636026919,
                      0.0003514180425554514
                    ],
                    [
                      -0.00008220871677622199,
                      0.00009241001680493355,
                      0.00004261158755980432,
                      0.004239119589328766,
                      -0.00018378766253590584,
                      -0.0006383880972862244,
                      -0.00017642229795455933,
                      -0.00008396338671445847,
                      -0.0002075633965432644,
                      0.009842202067375183,
                      0.00014870241284370422,
                      -0.00044188089668750763
                    ],
                    [
                      0.0003885277546942234,
                      -0.00003691879101097584,
                      -0.0016841217875480652,
                      0.005598433315753937,
                      0.00038561271503567696,
                      0.000436288071796298,
                      -0.007684469223022461,
                      0.0001039429334923625,
                      -0.001644618809223175,
                      0.000287745613604784,
                      0.01886776089668274,
                      -0.00545058399438858
                    ],
                    [
                      0.00597766786813736,
                      -0.00035495078191161156,
                      0.005706429481506348,
                      0.0011797286570072174,
                      0.002691078931093216,
                      0.0012564882636070251,
                      -1.3200998306274414,
                      0.005185849964618683,
                      -0.015073060989379883,
                      -3.094813823699951,
                      0.000041798106394708157,
                      -0.0014419015496969223
                    ],
                    [
                      -0.9458878636360168,
                      0.2915763258934021,
                      0.6211438179016113,
                      0.03974650055170059,
                      -0.000790836988016963,
                      -0.0012350864708423615,
                      0.37028658390045166,
                      2.439697504043579,
                      -0.0008255174616351724,
                      -0.008713406510651112,
                      0.8595117330551147,
                      0.013562926091253757
                    ],
                    [
                      -0.004029890522360802,
                      0.08997842669487,
                      0.9982779026031494,
                      0.030864067375659943,
                      -0.0050458102487027645,
                      -0.009907816536724567,
                      0.10558904707431793,
                      -0.0035133399069309235,
                      -0.001704549416899681,
                      0.19900700449943542,
                      -0.35232293605804443,
                      0.01270093023777008
                    ]
                  ]
                }
              ],
              "layout": {
                "coloraxis": {
                  "cmid": 0,
                  "colorscale": [
                    [
                      0,
                      "rgb(103,0,31)"
                    ],
                    [
                      0.1,
                      "rgb(178,24,43)"
                    ],
                    [
                      0.2,
                      "rgb(214,96,77)"
                    ],
                    [
                      0.3,
                      "rgb(244,165,130)"
                    ],
                    [
                      0.4,
                      "rgb(253,219,199)"
                    ],
                    [
                      0.5,
                      "rgb(247,247,247)"
                    ],
                    [
                      0.6,
                      "rgb(209,229,240)"
                    ],
                    [
                      0.7,
                      "rgb(146,197,222)"
                    ],
                    [
                      0.8,
                      "rgb(67,147,195)"
                    ],
                    [
                      0.9,
                      "rgb(33,102,172)"
                    ],
                    [
                      1,
                      "rgb(5,48,97)"
                    ]
                  ]
                },
                "template": {
                  "data": {
                    "bar": [
                      {
                        "error_x": {
                          "color": "#2a3f5f"
                        },
                        "error_y": {
                          "color": "#2a3f5f"
                        },
                        "marker": {
                          "line": {
                            "color": "#E5ECF6",
                            "width": 0.5
                          },
                          "pattern": {
                            "fillmode": "overlay",
                            "size": 10,
                            "solidity": 0.2
                          }
                        },
                        "type": "bar"
                      }
                    ],
                    "barpolar": [
                      {
                        "marker": {
                          "line": {
                            "color": "#E5ECF6",
                            "width": 0.5
                          },
                          "pattern": {
                            "fillmode": "overlay",
                            "size": 10,
                            "solidity": 0.2
                          }
                        },
                        "type": "barpolar"
                      }
                    ],
                    "carpet": [
                      {
                        "aaxis": {
                          "endlinecolor": "#2a3f5f",
                          "gridcolor": "white",
                          "linecolor": "white",
                          "minorgridcolor": "white",
                          "startlinecolor": "#2a3f5f"
                        },
                        "baxis": {
                          "endlinecolor": "#2a3f5f",
                          "gridcolor": "white",
                          "linecolor": "white",
                          "minorgridcolor": "white",
                          "startlinecolor": "#2a3f5f"
                        },
                        "type": "carpet"
                      }
                    ],
                    "choropleth": [
                      {
                        "colorbar": {
                          "outlinewidth": 0,
                          "ticks": ""
                        },
                        "type": "choropleth"
                      }
                    ],
                    "contour": [
                      {
                        "colorbar": {
                          "outlinewidth": 0,
                          "ticks": ""
                        },
                        "colorscale": [
                          [
                            0,
                            "#0d0887"
                          ],
                          [
                            0.1111111111111111,
                            "#46039f"
                          ],
                          [
                            0.2222222222222222,
                            "#7201a8"
                          ],
                          [
                            0.3333333333333333,
                            "#9c179e"
                          ],
                          [
                            0.4444444444444444,
                            "#bd3786"
                          ],
                          [
                            0.5555555555555556,
                            "#d8576b"
                          ],
                          [
                            0.6666666666666666,
                            "#ed7953"
                          ],
                          [
                            0.7777777777777778,
                            "#fb9f3a"
                          ],
                          [
                            0.8888888888888888,
                            "#fdca26"
                          ],
                          [
                            1,
                            "#f0f921"
                          ]
                        ],
                        "type": "contour"
                      }
                    ],
                    "contourcarpet": [
                      {
                        "colorbar": {
                          "outlinewidth": 0,
                          "ticks": ""
                        },
                        "type": "contourcarpet"
                      }
                    ],
                    "heatmap": [
                      {
                        "colorbar": {
                          "outlinewidth": 0,
                          "ticks": ""
                        },
                        "colorscale": [
                          [
                            0,
                            "#0d0887"
                          ],
                          [
                            0.1111111111111111,
                            "#46039f"
                          ],
                          [
                            0.2222222222222222,
                            "#7201a8"
                          ],
                          [
                            0.3333333333333333,
                            "#9c179e"
                          ],
                          [
                            0.4444444444444444,
                            "#bd3786"
                          ],
                          [
                            0.5555555555555556,
                            "#d8576b"
                          ],
                          [
                            0.6666666666666666,
                            "#ed7953"
                          ],
                          [
                            0.7777777777777778,
                            "#fb9f3a"
                          ],
                          [
                            0.8888888888888888,
                            "#fdca26"
                          ],
                          [
                            1,
                            "#f0f921"
                          ]
                        ],
                        "type": "heatmap"
                      }
                    ],
                    "heatmapgl": [
                      {
                        "colorbar": {
                          "outlinewidth": 0,
                          "ticks": ""
                        },
                        "colorscale": [
                          [
                            0,
                            "#0d0887"
                          ],
                          [
                            0.1111111111111111,
                            "#46039f"
                          ],
                          [
                            0.2222222222222222,
                            "#7201a8"
                          ],
                          [
                            0.3333333333333333,
                            "#9c179e"
                          ],
                          [
                            0.4444444444444444,
                            "#bd3786"
                          ],
                          [
                            0.5555555555555556,
                            "#d8576b"
                          ],
                          [
                            0.6666666666666666,
                            "#ed7953"
                          ],
                          [
                            0.7777777777777778,
                            "#fb9f3a"
                          ],
                          [
                            0.8888888888888888,
                            "#fdca26"
                          ],
                          [
                            1,
                            "#f0f921"
                          ]
                        ],
                        "type": "heatmapgl"
                      }
                    ],
                    "histogram": [
                      {
                        "marker": {
                          "pattern": {
                            "fillmode": "overlay",
                            "size": 10,
                            "solidity": 0.2
                          }
                        },
                        "type": "histogram"
                      }
                    ],
                    "histogram2d": [
                      {
                        "colorbar": {
                          "outlinewidth": 0,
                          "ticks": ""
                        },
                        "colorscale": [
                          [
                            0,
                            "#0d0887"
                          ],
                          [
                            0.1111111111111111,
                            "#46039f"
                          ],
                          [
                            0.2222222222222222,
                            "#7201a8"
                          ],
                          [
                            0.3333333333333333,
                            "#9c179e"
                          ],
                          [
                            0.4444444444444444,
                            "#bd3786"
                          ],
                          [
                            0.5555555555555556,
                            "#d8576b"
                          ],
                          [
                            0.6666666666666666,
                            "#ed7953"
                          ],
                          [
                            0.7777777777777778,
                            "#fb9f3a"
                          ],
                          [
                            0.8888888888888888,
                            "#fdca26"
                          ],
                          [
                            1,
                            "#f0f921"
                          ]
                        ],
                        "type": "histogram2d"
                      }
                    ],
                    "histogram2dcontour": [
                      {
                        "colorbar": {
                          "outlinewidth": 0,
                          "ticks": ""
                        },
                        "colorscale": [
                          [
                            0,
                            "#0d0887"
                          ],
                          [
                            0.1111111111111111,
                            "#46039f"
                          ],
                          [
                            0.2222222222222222,
                            "#7201a8"
                          ],
                          [
                            0.3333333333333333,
                            "#9c179e"
                          ],
                          [
                            0.4444444444444444,
                            "#bd3786"
                          ],
                          [
                            0.5555555555555556,
                            "#d8576b"
                          ],
                          [
                            0.6666666666666666,
                            "#ed7953"
                          ],
                          [
                            0.7777777777777778,
                            "#fb9f3a"
                          ],
                          [
                            0.8888888888888888,
                            "#fdca26"
                          ],
                          [
                            1,
                            "#f0f921"
                          ]
                        ],
                        "type": "histogram2dcontour"
                      }
                    ],
                    "mesh3d": [
                      {
                        "colorbar": {
                          "outlinewidth": 0,
                          "ticks": ""
                        },
                        "type": "mesh3d"
                      }
                    ],
                    "parcoords": [
                      {
                        "line": {
                          "colorbar": {
                            "outlinewidth": 0,
                            "ticks": ""
                          }
                        },
                        "type": "parcoords"
                      }
                    ],
                    "pie": [
                      {
                        "automargin": true,
                        "type": "pie"
                      }
                    ],
                    "scatter": [
                      {
                        "fillpattern": {
                          "fillmode": "overlay",
                          "size": 10,
                          "solidity": 0.2
                        },
                        "type": "scatter"
                      }
                    ],
                    "scatter3d": [
                      {
                        "line": {
                          "colorbar": {
                            "outlinewidth": 0,
                            "ticks": ""
                          }
                        },
                        "marker": {
                          "colorbar": {
                            "outlinewidth": 0,
                            "ticks": ""
                          }
                        },
                        "type": "scatter3d"
                      }
                    ],
                    "scattercarpet": [
                      {
                        "marker": {
                          "colorbar": {
                            "outlinewidth": 0,
                            "ticks": ""
                          }
                        },
                        "type": "scattercarpet"
                      }
                    ],
                    "scattergeo": [
                      {
                        "marker": {
                          "colorbar": {
                            "outlinewidth": 0,
                            "ticks": ""
                          }
                        },
                        "type": "scattergeo"
                      }
                    ],
                    "scattergl": [
                      {
                        "marker": {
                          "colorbar": {
                            "outlinewidth": 0,
                            "ticks": ""
                          }
                        },
                        "type": "scattergl"
                      }
                    ],
                    "scattermapbox": [
                      {
                        "marker": {
                          "colorbar": {
                            "outlinewidth": 0,
                            "ticks": ""
                          }
                        },
                        "type": "scattermapbox"
                      }
                    ],
                    "scatterpolar": [
                      {
                        "marker": {
                          "colorbar": {
                            "outlinewidth": 0,
                            "ticks": ""
                          }
                        },
                        "type": "scatterpolar"
                      }
                    ],
                    "scatterpolargl": [
                      {
                        "marker": {
                          "colorbar": {
                            "outlinewidth": 0,
                            "ticks": ""
                          }
                        },
                        "type": "scatterpolargl"
                      }
                    ],
                    "scatterternary": [
                      {
                        "marker": {
                          "colorbar": {
                            "outlinewidth": 0,
                            "ticks": ""
                          }
                        },
                        "type": "scatterternary"
                      }
                    ],
                    "surface": [
                      {
                        "colorbar": {
                          "outlinewidth": 0,
                          "ticks": ""
                        },
                        "colorscale": [
                          [
                            0,
                            "#0d0887"
                          ],
                          [
                            0.1111111111111111,
                            "#46039f"
                          ],
                          [
                            0.2222222222222222,
                            "#7201a8"
                          ],
                          [
                            0.3333333333333333,
                            "#9c179e"
                          ],
                          [
                            0.4444444444444444,
                            "#bd3786"
                          ],
                          [
                            0.5555555555555556,
                            "#d8576b"
                          ],
                          [
                            0.6666666666666666,
                            "#ed7953"
                          ],
                          [
                            0.7777777777777778,
                            "#fb9f3a"
                          ],
                          [
                            0.8888888888888888,
                            "#fdca26"
                          ],
                          [
                            1,
                            "#f0f921"
                          ]
                        ],
                        "type": "surface"
                      }
                    ],
                    "table": [
                      {
                        "cells": {
                          "fill": {
                            "color": "#EBF0F8"
                          },
                          "line": {
                            "color": "white"
                          }
                        },
                        "header": {
                          "fill": {
                            "color": "#C8D4E3"
                          },
                          "line": {
                            "color": "white"
                          }
                        },
                        "type": "table"
                      }
                    ]
                  },
                  "layout": {
                    "annotationdefaults": {
                      "arrowcolor": "#2a3f5f",
                      "arrowhead": 0,
                      "arrowwidth": 1
                    },
                    "autotypenumbers": "strict",
                    "coloraxis": {
                      "colorbar": {
                        "outlinewidth": 0,
                        "ticks": ""
                      }
                    },
                    "colorscale": {
                      "diverging": [
                        [
                          0,
                          "#8e0152"
                        ],
                        [
                          0.1,
                          "#c51b7d"
                        ],
                        [
                          0.2,
                          "#de77ae"
                        ],
                        [
                          0.3,
                          "#f1b6da"
                        ],
                        [
                          0.4,
                          "#fde0ef"
                        ],
                        [
                          0.5,
                          "#f7f7f7"
                        ],
                        [
                          0.6,
                          "#e6f5d0"
                        ],
                        [
                          0.7,
                          "#b8e186"
                        ],
                        [
                          0.8,
                          "#7fbc41"
                        ],
                        [
                          0.9,
                          "#4d9221"
                        ],
                        [
                          1,
                          "#276419"
                        ]
                      ],
                      "sequential": [
                        [
                          0,
                          "#0d0887"
                        ],
                        [
                          0.1111111111111111,
                          "#46039f"
                        ],
                        [
                          0.2222222222222222,
                          "#7201a8"
                        ],
                        [
                          0.3333333333333333,
                          "#9c179e"
                        ],
                        [
                          0.4444444444444444,
                          "#bd3786"
                        ],
                        [
                          0.5555555555555556,
                          "#d8576b"
                        ],
                        [
                          0.6666666666666666,
                          "#ed7953"
                        ],
                        [
                          0.7777777777777778,
                          "#fb9f3a"
                        ],
                        [
                          0.8888888888888888,
                          "#fdca26"
                        ],
                        [
                          1,
                          "#f0f921"
                        ]
                      ],
                      "sequentialminus": [
                        [
                          0,
                          "#0d0887"
                        ],
                        [
                          0.1111111111111111,
                          "#46039f"
                        ],
                        [
                          0.2222222222222222,
                          "#7201a8"
                        ],
                        [
                          0.3333333333333333,
                          "#9c179e"
                        ],
                        [
                          0.4444444444444444,
                          "#bd3786"
                        ],
                        [
                          0.5555555555555556,
                          "#d8576b"
                        ],
                        [
                          0.6666666666666666,
                          "#ed7953"
                        ],
                        [
                          0.7777777777777778,
                          "#fb9f3a"
                        ],
                        [
                          0.8888888888888888,
                          "#fdca26"
                        ],
                        [
                          1,
                          "#f0f921"
                        ]
                      ]
                    },
                    "colorway": [
                      "#636efa",
                      "#EF553B",
                      "#00cc96",
                      "#ab63fa",
                      "#FFA15A",
                      "#19d3f3",
                      "#FF6692",
                      "#B6E880",
                      "#FF97FF",
                      "#FECB52"
                    ],
                    "font": {
                      "color": "#2a3f5f"
                    },
                    "geo": {
                      "bgcolor": "white",
                      "lakecolor": "white",
                      "landcolor": "#E5ECF6",
                      "showlakes": true,
                      "showland": true,
                      "subunitcolor": "white"
                    },
                    "hoverlabel": {
                      "align": "left"
                    },
                    "hovermode": "closest",
                    "mapbox": {
                      "style": "light"
                    },
                    "paper_bgcolor": "white",
                    "plot_bgcolor": "#E5ECF6",
                    "polar": {
                      "angularaxis": {
                        "gridcolor": "white",
                        "linecolor": "white",
                        "ticks": ""
                      },
                      "bgcolor": "#E5ECF6",
                      "radialaxis": {
                        "gridcolor": "white",
                        "linecolor": "white",
                        "ticks": ""
                      }
                    },
                    "scene": {
                      "xaxis": {
                        "backgroundcolor": "#E5ECF6",
                        "gridcolor": "white",
                        "gridwidth": 2,
                        "linecolor": "white",
                        "showbackground": true,
                        "ticks": "",
                        "zerolinecolor": "white"
                      },
                      "yaxis": {
                        "backgroundcolor": "#E5ECF6",
                        "gridcolor": "white",
                        "gridwidth": 2,
                        "linecolor": "white",
                        "showbackground": true,
                        "ticks": "",
                        "zerolinecolor": "white"
                      },
                      "zaxis": {
                        "backgroundcolor": "#E5ECF6",
                        "gridcolor": "white",
                        "gridwidth": 2,
                        "linecolor": "white",
                        "showbackground": true,
                        "ticks": "",
                        "zerolinecolor": "white"
                      }
                    },
                    "shapedefaults": {
                      "line": {
                        "color": "#2a3f5f"
                      }
                    },
                    "ternary": {
                      "aaxis": {
                        "gridcolor": "white",
                        "linecolor": "white",
                        "ticks": ""
                      },
                      "baxis": {
                        "gridcolor": "white",
                        "linecolor": "white",
                        "ticks": ""
                      },
                      "bgcolor": "#E5ECF6",
                      "caxis": {
                        "gridcolor": "white",
                        "linecolor": "white",
                        "ticks": ""
                      }
                    },
                    "title": {
                      "x": 0.05
                    },
                    "xaxis": {
                      "automargin": true,
                      "gridcolor": "white",
                      "linecolor": "white",
                      "ticks": "",
                      "title": {
                        "standoff": 15
                      },
                      "zerolinecolor": "white",
                      "zerolinewidth": 2
                    },
                    "yaxis": {
                      "automargin": true,
                      "gridcolor": "white",
                      "linecolor": "white",
                      "ticks": "",
                      "title": {
                        "standoff": 15
                      },
                      "zerolinecolor": "white",
                      "zerolinewidth": 2
                    }
                  }
                },
                "title": {
                  "text": "Sample Ablation of NMHs"
                },
                "xaxis": {
                  "anchor": "y",
                  "constrain": "domain",
                  "domain": [
                    0,
                    1
                  ],
                  "scaleanchor": "y"
                },
                "yaxis": {
                  "anchor": "x",
                  "autorange": "reversed",
                  "constrain": "domain",
                  "domain": [
                    0,
                    1
                  ]
                }
              }
            },
            "text/html": [
              "<div>                            <div id=\"7f2b2b28-720a-46b2-b44c-7c3977a7e2fa\" class=\"plotly-graph-div\" style=\"height:525px; width:100%;\"></div>            <script type=\"text/javascript\">                require([\"plotly\"], function(Plotly) {                    window.PLOTLYENV=window.PLOTLYENV || {};                                    if (document.getElementById(\"7f2b2b28-720a-46b2-b44c-7c3977a7e2fa\")) {                    Plotly.newPlot(                        \"7f2b2b28-720a-46b2-b44c-7c3977a7e2fa\",                        [{\"coloraxis\":\"coloraxis\",\"name\":\"0\",\"z\":[[-0.00024330941960215569,-0.0004307911731302738,-1.6832549590617418e-05,-1.3132055755704641e-05,-0.0002095070667564869,-0.0004297706764191389,-0.0007126228883862495,7.484942761948332e-05,-3.061187453567982e-05,-2.8470531105995178e-05,0.0003439071588218212,0.000345718115568161],[4.359218291938305e-05,-0.00018593401182442904,-0.00020978599786758423,-0.00033240613993257284,0.0005512507632374763,0.0005459031090140343,-6.44228421151638e-05,-0.0006092702969908714,9.150709956884384e-06,0.00012389593757689,-0.00011832127347588539,-0.00011149758938699961],[5.042087286710739e-05,0.00010155531344935298,0.00010690232738852501,0.0005815140902996063,-0.00016502896323800087,-0.00041046994738280773,0.00024245516397058964,0.0001695258542895317,0.0006804754957556725,-0.00035312725231051445,0.00016906531527638435,-0.00018165912479162216],[-7.399648893624544e-05,6.158545147627592e-05,-4.943058593198657e-05,-0.00012043025344610214,2.1998595912009478e-05,-6.258452776819468e-05,-3.8183643482625484e-05,-7.75214284658432e-05,-0.000240701949223876,0.0001792154071154073,0.00021151220425963402,0.00020107906311750412],[0.0002655056305229664,-0.0001853287685662508,-2.0799401681870222e-05,-0.0003977222368121147,-4.76828427053988e-05,1.6378267901018262e-05,-7.810239912942052e-05,0.00032753078266978264,-4.098891804460436e-05,0.00017511658370494843,-4.724593600258231e-05,4.127513966523111e-05],[-0.00021359138190746307,-0.0001469980925321579,0.00012345414143055677,-2.8210950404172763e-05,6.529812526423484e-05,-0.00034474069252610207,-3.545498475432396e-05,0.00011121563147753477,-7.544583058916032e-05,0.0001882521901279688,-0.000223647803068161,-7.48231541365385e-05],[-0.0008061667904257774,-0.00013153301551938057,-0.00023920621606521308,0.0001613337080925703,0.0003785273293033242,0.0003147441893815994,-0.00013805250637233257,2.8931302949786186e-05,4.132816684432328e-05,-5.156558472663164e-05,2.080379636026919e-05,0.0003514180425554514],[-8.220871677622199e-05,9.241001680493355e-05,4.261158755980432e-05,0.004239119589328766,-0.00018378766253590584,-0.0006383880972862244,-0.00017642229795455933,-8.396338671445847e-05,-0.0002075633965432644,0.009842202067375183,0.00014870241284370422,-0.00044188089668750763],[0.0003885277546942234,-3.691879101097584e-05,-0.0016841217875480652,0.005598433315753937,0.00038561271503567696,0.000436288071796298,-0.007684469223022461,0.0001039429334923625,-0.001644618809223175,0.000287745613604784,0.01886776089668274,-0.00545058399438858],[0.00597766786813736,-0.00035495078191161156,0.005706429481506348,0.0011797286570072174,0.002691078931093216,0.0012564882636070251,-1.3200998306274414,0.005185849964618683,-0.015073060989379883,-3.094813823699951,4.1798106394708157e-05,-0.0014419015496969223],[-0.9458878636360168,0.2915763258934021,0.6211438179016113,0.03974650055170059,-0.000790836988016963,-0.0012350864708423615,0.37028658390045166,2.439697504043579,-0.0008255174616351724,-0.008713406510651112,0.8595117330551147,0.013562926091253757],[-0.004029890522360802,0.08997842669487,0.9982779026031494,0.030864067375659943,-0.0050458102487027645,-0.009907816536724567,0.10558904707431793,-0.0035133399069309235,-0.001704549416899681,0.19900700449943542,-0.35232293605804443,0.01270093023777008]],\"type\":\"heatmap\",\"xaxis\":\"x\",\"yaxis\":\"y\",\"hovertemplate\":\"x: %{x}\\u003cbr\\u003ey: %{y}\\u003cbr\\u003ecolor: %{z}\\u003cextra\\u003e\\u003c\\u002fextra\\u003e\"}],                        {\"template\":{\"data\":{\"histogram2dcontour\":[{\"type\":\"histogram2dcontour\",\"colorbar\":{\"outlinewidth\":0,\"ticks\":\"\"},\"colorscale\":[[0.0,\"#0d0887\"],[0.1111111111111111,\"#46039f\"],[0.2222222222222222,\"#7201a8\"],[0.3333333333333333,\"#9c179e\"],[0.4444444444444444,\"#bd3786\"],[0.5555555555555556,\"#d8576b\"],[0.6666666666666666,\"#ed7953\"],[0.7777777777777778,\"#fb9f3a\"],[0.8888888888888888,\"#fdca26\"],[1.0,\"#f0f921\"]]}],\"choropleth\":[{\"type\":\"choropleth\",\"colorbar\":{\"outlinewidth\":0,\"ticks\":\"\"}}],\"histogram2d\":[{\"type\":\"histogram2d\",\"colorbar\":{\"outlinewidth\":0,\"ticks\":\"\"},\"colorscale\":[[0.0,\"#0d0887\"],[0.1111111111111111,\"#46039f\"],[0.2222222222222222,\"#7201a8\"],[0.3333333333333333,\"#9c179e\"],[0.4444444444444444,\"#bd3786\"],[0.5555555555555556,\"#d8576b\"],[0.6666666666666666,\"#ed7953\"],[0.7777777777777778,\"#fb9f3a\"],[0.8888888888888888,\"#fdca26\"],[1.0,\"#f0f921\"]]}],\"heatmap\":[{\"type\":\"heatmap\",\"colorbar\":{\"outlinewidth\":0,\"ticks\":\"\"},\"colorscale\":[[0.0,\"#0d0887\"],[0.1111111111111111,\"#46039f\"],[0.2222222222222222,\"#7201a8\"],[0.3333333333333333,\"#9c179e\"],[0.4444444444444444,\"#bd3786\"],[0.5555555555555556,\"#d8576b\"],[0.6666666666666666,\"#ed7953\"],[0.7777777777777778,\"#fb9f3a\"],[0.8888888888888888,\"#fdca26\"],[1.0,\"#f0f921\"]]}],\"heatmapgl\":[{\"type\":\"heatmapgl\",\"colorbar\":{\"outlinewidth\":0,\"ticks\":\"\"},\"colorscale\":[[0.0,\"#0d0887\"],[0.1111111111111111,\"#46039f\"],[0.2222222222222222,\"#7201a8\"],[0.3333333333333333,\"#9c179e\"],[0.4444444444444444,\"#bd3786\"],[0.5555555555555556,\"#d8576b\"],[0.6666666666666666,\"#ed7953\"],[0.7777777777777778,\"#fb9f3a\"],[0.8888888888888888,\"#fdca26\"],[1.0,\"#f0f921\"]]}],\"contourcarpet\":[{\"type\":\"contourcarpet\",\"colorbar\":{\"outlinewidth\":0,\"ticks\":\"\"}}],\"contour\":[{\"type\":\"contour\",\"colorbar\":{\"outlinewidth\":0,\"ticks\":\"\"},\"colorscale\":[[0.0,\"#0d0887\"],[0.1111111111111111,\"#46039f\"],[0.2222222222222222,\"#7201a8\"],[0.3333333333333333,\"#9c179e\"],[0.4444444444444444,\"#bd3786\"],[0.5555555555555556,\"#d8576b\"],[0.6666666666666666,\"#ed7953\"],[0.7777777777777778,\"#fb9f3a\"],[0.8888888888888888,\"#fdca26\"],[1.0,\"#f0f921\"]]}],\"surface\":[{\"type\":\"surface\",\"colorbar\":{\"outlinewidth\":0,\"ticks\":\"\"},\"colorscale\":[[0.0,\"#0d0887\"],[0.1111111111111111,\"#46039f\"],[0.2222222222222222,\"#7201a8\"],[0.3333333333333333,\"#9c179e\"],[0.4444444444444444,\"#bd3786\"],[0.5555555555555556,\"#d8576b\"],[0.6666666666666666,\"#ed7953\"],[0.7777777777777778,\"#fb9f3a\"],[0.8888888888888888,\"#fdca26\"],[1.0,\"#f0f921\"]]}],\"mesh3d\":[{\"type\":\"mesh3d\",\"colorbar\":{\"outlinewidth\":0,\"ticks\":\"\"}}],\"scatter\":[{\"fillpattern\":{\"fillmode\":\"overlay\",\"size\":10,\"solidity\":0.2},\"type\":\"scatter\"}],\"parcoords\":[{\"type\":\"parcoords\",\"line\":{\"colorbar\":{\"outlinewidth\":0,\"ticks\":\"\"}}}],\"scatterpolargl\":[{\"type\":\"scatterpolargl\",\"marker\":{\"colorbar\":{\"outlinewidth\":0,\"ticks\":\"\"}}}],\"bar\":[{\"error_x\":{\"color\":\"#2a3f5f\"},\"error_y\":{\"color\":\"#2a3f5f\"},\"marker\":{\"line\":{\"color\":\"#E5ECF6\",\"width\":0.5},\"pattern\":{\"fillmode\":\"overlay\",\"size\":10,\"solidity\":0.2}},\"type\":\"bar\"}],\"scattergeo\":[{\"type\":\"scattergeo\",\"marker\":{\"colorbar\":{\"outlinewidth\":0,\"ticks\":\"\"}}}],\"scatterpolar\":[{\"type\":\"scatterpolar\",\"marker\":{\"colorbar\":{\"outlinewidth\":0,\"ticks\":\"\"}}}],\"histogram\":[{\"marker\":{\"pattern\":{\"fillmode\":\"overlay\",\"size\":10,\"solidity\":0.2}},\"type\":\"histogram\"}],\"scattergl\":[{\"type\":\"scattergl\",\"marker\":{\"colorbar\":{\"outlinewidth\":0,\"ticks\":\"\"}}}],\"scatter3d\":[{\"type\":\"scatter3d\",\"line\":{\"colorbar\":{\"outlinewidth\":0,\"ticks\":\"\"}},\"marker\":{\"colorbar\":{\"outlinewidth\":0,\"ticks\":\"\"}}}],\"scattermapbox\":[{\"type\":\"scattermapbox\",\"marker\":{\"colorbar\":{\"outlinewidth\":0,\"ticks\":\"\"}}}],\"scatterternary\":[{\"type\":\"scatterternary\",\"marker\":{\"colorbar\":{\"outlinewidth\":0,\"ticks\":\"\"}}}],\"scattercarpet\":[{\"type\":\"scattercarpet\",\"marker\":{\"colorbar\":{\"outlinewidth\":0,\"ticks\":\"\"}}}],\"carpet\":[{\"aaxis\":{\"endlinecolor\":\"#2a3f5f\",\"gridcolor\":\"white\",\"linecolor\":\"white\",\"minorgridcolor\":\"white\",\"startlinecolor\":\"#2a3f5f\"},\"baxis\":{\"endlinecolor\":\"#2a3f5f\",\"gridcolor\":\"white\",\"linecolor\":\"white\",\"minorgridcolor\":\"white\",\"startlinecolor\":\"#2a3f5f\"},\"type\":\"carpet\"}],\"table\":[{\"cells\":{\"fill\":{\"color\":\"#EBF0F8\"},\"line\":{\"color\":\"white\"}},\"header\":{\"fill\":{\"color\":\"#C8D4E3\"},\"line\":{\"color\":\"white\"}},\"type\":\"table\"}],\"barpolar\":[{\"marker\":{\"line\":{\"color\":\"#E5ECF6\",\"width\":0.5},\"pattern\":{\"fillmode\":\"overlay\",\"size\":10,\"solidity\":0.2}},\"type\":\"barpolar\"}],\"pie\":[{\"automargin\":true,\"type\":\"pie\"}]},\"layout\":{\"autotypenumbers\":\"strict\",\"colorway\":[\"#636efa\",\"#EF553B\",\"#00cc96\",\"#ab63fa\",\"#FFA15A\",\"#19d3f3\",\"#FF6692\",\"#B6E880\",\"#FF97FF\",\"#FECB52\"],\"font\":{\"color\":\"#2a3f5f\"},\"hovermode\":\"closest\",\"hoverlabel\":{\"align\":\"left\"},\"paper_bgcolor\":\"white\",\"plot_bgcolor\":\"#E5ECF6\",\"polar\":{\"bgcolor\":\"#E5ECF6\",\"angularaxis\":{\"gridcolor\":\"white\",\"linecolor\":\"white\",\"ticks\":\"\"},\"radialaxis\":{\"gridcolor\":\"white\",\"linecolor\":\"white\",\"ticks\":\"\"}},\"ternary\":{\"bgcolor\":\"#E5ECF6\",\"aaxis\":{\"gridcolor\":\"white\",\"linecolor\":\"white\",\"ticks\":\"\"},\"baxis\":{\"gridcolor\":\"white\",\"linecolor\":\"white\",\"ticks\":\"\"},\"caxis\":{\"gridcolor\":\"white\",\"linecolor\":\"white\",\"ticks\":\"\"}},\"coloraxis\":{\"colorbar\":{\"outlinewidth\":0,\"ticks\":\"\"}},\"colorscale\":{\"sequential\":[[0.0,\"#0d0887\"],[0.1111111111111111,\"#46039f\"],[0.2222222222222222,\"#7201a8\"],[0.3333333333333333,\"#9c179e\"],[0.4444444444444444,\"#bd3786\"],[0.5555555555555556,\"#d8576b\"],[0.6666666666666666,\"#ed7953\"],[0.7777777777777778,\"#fb9f3a\"],[0.8888888888888888,\"#fdca26\"],[1.0,\"#f0f921\"]],\"sequentialminus\":[[0.0,\"#0d0887\"],[0.1111111111111111,\"#46039f\"],[0.2222222222222222,\"#7201a8\"],[0.3333333333333333,\"#9c179e\"],[0.4444444444444444,\"#bd3786\"],[0.5555555555555556,\"#d8576b\"],[0.6666666666666666,\"#ed7953\"],[0.7777777777777778,\"#fb9f3a\"],[0.8888888888888888,\"#fdca26\"],[1.0,\"#f0f921\"]],\"diverging\":[[0,\"#8e0152\"],[0.1,\"#c51b7d\"],[0.2,\"#de77ae\"],[0.3,\"#f1b6da\"],[0.4,\"#fde0ef\"],[0.5,\"#f7f7f7\"],[0.6,\"#e6f5d0\"],[0.7,\"#b8e186\"],[0.8,\"#7fbc41\"],[0.9,\"#4d9221\"],[1,\"#276419\"]]},\"xaxis\":{\"gridcolor\":\"white\",\"linecolor\":\"white\",\"ticks\":\"\",\"title\":{\"standoff\":15},\"zerolinecolor\":\"white\",\"automargin\":true,\"zerolinewidth\":2},\"yaxis\":{\"gridcolor\":\"white\",\"linecolor\":\"white\",\"ticks\":\"\",\"title\":{\"standoff\":15},\"zerolinecolor\":\"white\",\"automargin\":true,\"zerolinewidth\":2},\"scene\":{\"xaxis\":{\"backgroundcolor\":\"#E5ECF6\",\"gridcolor\":\"white\",\"linecolor\":\"white\",\"showbackground\":true,\"ticks\":\"\",\"zerolinecolor\":\"white\",\"gridwidth\":2},\"yaxis\":{\"backgroundcolor\":\"#E5ECF6\",\"gridcolor\":\"white\",\"linecolor\":\"white\",\"showbackground\":true,\"ticks\":\"\",\"zerolinecolor\":\"white\",\"gridwidth\":2},\"zaxis\":{\"backgroundcolor\":\"#E5ECF6\",\"gridcolor\":\"white\",\"linecolor\":\"white\",\"showbackground\":true,\"ticks\":\"\",\"zerolinecolor\":\"white\",\"gridwidth\":2}},\"shapedefaults\":{\"line\":{\"color\":\"#2a3f5f\"}},\"annotationdefaults\":{\"arrowcolor\":\"#2a3f5f\",\"arrowhead\":0,\"arrowwidth\":1},\"geo\":{\"bgcolor\":\"white\",\"landcolor\":\"#E5ECF6\",\"subunitcolor\":\"white\",\"showland\":true,\"showlakes\":true,\"lakecolor\":\"white\"},\"title\":{\"x\":0.05},\"mapbox\":{\"style\":\"light\"}}},\"xaxis\":{\"anchor\":\"y\",\"domain\":[0.0,1.0],\"scaleanchor\":\"y\",\"constrain\":\"domain\"},\"yaxis\":{\"anchor\":\"x\",\"domain\":[0.0,1.0],\"autorange\":\"reversed\",\"constrain\":\"domain\"},\"coloraxis\":{\"colorscale\":[[0.0,\"rgb(103,0,31)\"],[0.1,\"rgb(178,24,43)\"],[0.2,\"rgb(214,96,77)\"],[0.3,\"rgb(244,165,130)\"],[0.4,\"rgb(253,219,199)\"],[0.5,\"rgb(247,247,247)\"],[0.6,\"rgb(209,229,240)\"],[0.7,\"rgb(146,197,222)\"],[0.8,\"rgb(67,147,195)\"],[0.9,\"rgb(33,102,172)\"],[1.0,\"rgb(5,48,97)\"]],\"cmid\":0.0},\"title\":{\"text\":\"Sample Ablation of NMHs\"}},                        {\"responsive\": true}                    ).then(function(){\n",
              "                            \n",
              "var gd = document.getElementById('7f2b2b28-720a-46b2-b44c-7c3977a7e2fa');\n",
              "var x = new MutationObserver(function (mutations, observer) {{\n",
              "        var display = window.getComputedStyle(gd).display;\n",
              "        if (!display || display === 'none') {{\n",
              "            console.log([gd, 'removed!']);\n",
              "            Plotly.purge(gd);\n",
              "            observer.disconnect();\n",
              "        }}\n",
              "}});\n",
              "\n",
              "// Listen for the removal of the full notebook cells\n",
              "var notebookContainer = gd.closest('#notebook-container');\n",
              "if (notebookContainer) {{\n",
              "    x.observe(notebookContainer, {childList: true});\n",
              "}}\n",
              "\n",
              "// Listen for the clearing of the current output cell\n",
              "var outputEl = gd.closest('.output');\n",
              "if (outputEl) {{\n",
              "    x.observe(outputEl, {childList: true});\n",
              "}}\n",
              "\n",
              "                        })                };                });            </script>        </div>"
            ]
          },
          "metadata": {},
          "output_type": "display_data"
        }
      ],
      "source": [
        "for index, i in enumerate([zero_ablate_all_heads_ldds, project_only_io_direction, replace_all_perp_IOs_ldds,  project_away_io_direction, replace_all_IOs_ldds, noise_sample_ablating_results]):\n",
        "    imshow(i,\n",
        "           title = [\"Zero Ablation of NMHs\", \"Project Only IO Direction (Zero ⊥ IO direction)\", \"Replace ⊥ IO directions with Corrupted ⊥ IO directions\", \"Project Away IO Direction (Zero IO direction)\", \"Replace IO directions with Corrupted IO directions\",  \"Sample Ablation of NMHs\"][index])"
      ]
    },
    {
      "cell_type": "code",
      "execution_count": null,
      "metadata": {},
      "outputs": [
        {
          "name": "stdout",
          "output_type": "stream",
          "text": [
            "Mean Cossim similarity between IO unembedding and (10, 7):\n",
            "tensor(-0.3135, device='cuda:0')\n",
            "Mean Cossim similarity between IO unembedding and (11, 10):\n",
            "tensor(-0.2975, device='cuda:0')\n"
          ]
        }
      ],
      "source": [
        "# find cosine similarity of 9.0 output and IO unembedding\n",
        "for head in neg_m_heads:\n",
        "    print(\"Mean Cossim similarity between IO unembedding and \" + str(head) + \":\")\n",
        "    W_O_temp = model.W_O[head[0], head[1]]\n",
        "    layer_z = clean_cache[utils.get_act_name(\"z\", head[0])]\n",
        "    layer_result = einops.einsum(W_O_temp, layer_z, \"d_head d_model, batch seq h_idx d_head -> batch seq h_idx d_model\")\n",
        "    output_head = layer_result[:, -1, head[1], :]\n",
        "\n",
        "    # get projection of CORRUPTED HEAD OUTPUT onto IO token\n",
        "    corrupted_head_only_IO_output = compute_cosine_similarity(output_head, target_intervene_direction)\n",
        "    print(corrupted_head_only_IO_output.mean(0))"
      ]
    },
    {
      "cell_type": "code",
      "execution_count": null,
      "metadata": {},
      "outputs": [],
      "source": [
        "model.set_use_attn_result(False)"
      ]
    }
  ],
  "metadata": {
    "colab": {
      "collapsed_sections": [
        "cECQfwPeTC_S",
        "Gv5obrKX0dZD",
        "Tjz17uXf0eje",
        "CxGjxMyixPbL"
      ],
      "provenance": [],
      "toc_visible": true
    },
    "kernelspec": {
      "display_name": "Python 3 (ipykernel)",
      "language": "python",
      "name": "python3"
    },
    "widgets": {
      "application/vnd.jupyter.widget-state+json": {
        "0bbe2b9932b24c809b3ac6f202d42d1c": {
          "model_module": "@jupyter-widgets/base",
          "model_module_version": "1.2.0",
          "model_name": "LayoutModel",
          "state": {
            "_model_module": "@jupyter-widgets/base",
            "_model_module_version": "1.2.0",
            "_model_name": "LayoutModel",
            "_view_count": null,
            "_view_module": "@jupyter-widgets/base",
            "_view_module_version": "1.2.0",
            "_view_name": "LayoutView",
            "align_content": null,
            "align_items": null,
            "align_self": null,
            "border": null,
            "bottom": null,
            "display": null,
            "flex": null,
            "flex_flow": null,
            "grid_area": null,
            "grid_auto_columns": null,
            "grid_auto_flow": null,
            "grid_auto_rows": null,
            "grid_column": null,
            "grid_gap": null,
            "grid_row": null,
            "grid_template_areas": null,
            "grid_template_columns": null,
            "grid_template_rows": null,
            "height": null,
            "justify_content": null,
            "justify_items": null,
            "left": null,
            "margin": null,
            "max_height": null,
            "max_width": null,
            "min_height": null,
            "min_width": null,
            "object_fit": null,
            "object_position": null,
            "order": null,
            "overflow": null,
            "overflow_x": null,
            "overflow_y": null,
            "padding": null,
            "right": null,
            "top": null,
            "visibility": null,
            "width": null
          }
        },
        "0dd556d3d7d6428b8d99c74a7223f3e8": {
          "model_module": "@jupyter-widgets/controls",
          "model_module_version": "1.5.0",
          "model_name": "HTMLModel",
          "state": {
            "_dom_classes": [],
            "_model_module": "@jupyter-widgets/controls",
            "_model_module_version": "1.5.0",
            "_model_name": "HTMLModel",
            "_view_count": null,
            "_view_module": "@jupyter-widgets/controls",
            "_view_module_version": "1.5.0",
            "_view_name": "HTMLView",
            "description": "",
            "description_tooltip": null,
            "layout": "IPY_MODEL_ca12a1699cb7441d920202055b90f091",
            "placeholder": "​",
            "style": "IPY_MODEL_97d6587da8a74547ba66ebbb8d7575d5",
            "value": "Downloading (…)/main/tokenizer.json: 100%"
          }
        },
        "13401c53dfa94b15a8a2e7cd99052e65": {
          "model_module": "@jupyter-widgets/base",
          "model_module_version": "1.2.0",
          "model_name": "LayoutModel",
          "state": {
            "_model_module": "@jupyter-widgets/base",
            "_model_module_version": "1.2.0",
            "_model_name": "LayoutModel",
            "_view_count": null,
            "_view_module": "@jupyter-widgets/base",
            "_view_module_version": "1.2.0",
            "_view_name": "LayoutView",
            "align_content": null,
            "align_items": null,
            "align_self": null,
            "border": null,
            "bottom": null,
            "display": null,
            "flex": null,
            "flex_flow": null,
            "grid_area": null,
            "grid_auto_columns": null,
            "grid_auto_flow": null,
            "grid_auto_rows": null,
            "grid_column": null,
            "grid_gap": null,
            "grid_row": null,
            "grid_template_areas": null,
            "grid_template_columns": null,
            "grid_template_rows": null,
            "height": null,
            "justify_content": null,
            "justify_items": null,
            "left": null,
            "margin": null,
            "max_height": null,
            "max_width": null,
            "min_height": null,
            "min_width": null,
            "object_fit": null,
            "object_position": null,
            "order": null,
            "overflow": null,
            "overflow_x": null,
            "overflow_y": null,
            "padding": null,
            "right": null,
            "top": null,
            "visibility": null,
            "width": null
          }
        },
        "15d5408516014936886e8e61f5ecf87b": {
          "model_module": "@jupyter-widgets/controls",
          "model_module_version": "1.5.0",
          "model_name": "ProgressStyleModel",
          "state": {
            "_model_module": "@jupyter-widgets/controls",
            "_model_module_version": "1.5.0",
            "_model_name": "ProgressStyleModel",
            "_view_count": null,
            "_view_module": "@jupyter-widgets/base",
            "_view_module_version": "1.2.0",
            "_view_name": "StyleView",
            "bar_color": null,
            "description_width": ""
          }
        },
        "195b8da1781849a697b9b6ad783ff585": {
          "model_module": "@jupyter-widgets/base",
          "model_module_version": "1.2.0",
          "model_name": "LayoutModel",
          "state": {
            "_model_module": "@jupyter-widgets/base",
            "_model_module_version": "1.2.0",
            "_model_name": "LayoutModel",
            "_view_count": null,
            "_view_module": "@jupyter-widgets/base",
            "_view_module_version": "1.2.0",
            "_view_name": "LayoutView",
            "align_content": null,
            "align_items": null,
            "align_self": null,
            "border": null,
            "bottom": null,
            "display": null,
            "flex": null,
            "flex_flow": null,
            "grid_area": null,
            "grid_auto_columns": null,
            "grid_auto_flow": null,
            "grid_auto_rows": null,
            "grid_column": null,
            "grid_gap": null,
            "grid_row": null,
            "grid_template_areas": null,
            "grid_template_columns": null,
            "grid_template_rows": null,
            "height": null,
            "justify_content": null,
            "justify_items": null,
            "left": null,
            "margin": null,
            "max_height": null,
            "max_width": null,
            "min_height": null,
            "min_width": null,
            "object_fit": null,
            "object_position": null,
            "order": null,
            "overflow": null,
            "overflow_x": null,
            "overflow_y": null,
            "padding": null,
            "right": null,
            "top": null,
            "visibility": null,
            "width": null
          }
        },
        "220f625eb44046efa59d7b7678847669": {
          "model_module": "@jupyter-widgets/base",
          "model_module_version": "1.2.0",
          "model_name": "LayoutModel",
          "state": {
            "_model_module": "@jupyter-widgets/base",
            "_model_module_version": "1.2.0",
            "_model_name": "LayoutModel",
            "_view_count": null,
            "_view_module": "@jupyter-widgets/base",
            "_view_module_version": "1.2.0",
            "_view_name": "LayoutView",
            "align_content": null,
            "align_items": null,
            "align_self": null,
            "border": null,
            "bottom": null,
            "display": null,
            "flex": null,
            "flex_flow": null,
            "grid_area": null,
            "grid_auto_columns": null,
            "grid_auto_flow": null,
            "grid_auto_rows": null,
            "grid_column": null,
            "grid_gap": null,
            "grid_row": null,
            "grid_template_areas": null,
            "grid_template_columns": null,
            "grid_template_rows": null,
            "height": null,
            "justify_content": null,
            "justify_items": null,
            "left": null,
            "margin": null,
            "max_height": null,
            "max_width": null,
            "min_height": null,
            "min_width": null,
            "object_fit": null,
            "object_position": null,
            "order": null,
            "overflow": null,
            "overflow_x": null,
            "overflow_y": null,
            "padding": null,
            "right": null,
            "top": null,
            "visibility": null,
            "width": null
          }
        },
        "341ef673608b441dba22e3890b0de81e": {
          "model_module": "@jupyter-widgets/controls",
          "model_module_version": "1.5.0",
          "model_name": "HTMLModel",
          "state": {
            "_dom_classes": [],
            "_model_module": "@jupyter-widgets/controls",
            "_model_module_version": "1.5.0",
            "_model_name": "HTMLModel",
            "_view_count": null,
            "_view_module": "@jupyter-widgets/controls",
            "_view_module_version": "1.5.0",
            "_view_name": "HTMLView",
            "description": "",
            "description_tooltip": null,
            "layout": "IPY_MODEL_220f625eb44046efa59d7b7678847669",
            "placeholder": "​",
            "style": "IPY_MODEL_5c57be58df7c4b34b785947e1e749c37",
            "value": " 124/124 [00:00&lt;00:00, 4.54kB/s]"
          }
        },
        "349b3b55c6b94ec1b5cac00279328317": {
          "model_module": "@jupyter-widgets/base",
          "model_module_version": "1.2.0",
          "model_name": "LayoutModel",
          "state": {
            "_model_module": "@jupyter-widgets/base",
            "_model_module_version": "1.2.0",
            "_model_name": "LayoutModel",
            "_view_count": null,
            "_view_module": "@jupyter-widgets/base",
            "_view_module_version": "1.2.0",
            "_view_name": "LayoutView",
            "align_content": null,
            "align_items": null,
            "align_self": null,
            "border": null,
            "bottom": null,
            "display": null,
            "flex": null,
            "flex_flow": null,
            "grid_area": null,
            "grid_auto_columns": null,
            "grid_auto_flow": null,
            "grid_auto_rows": null,
            "grid_column": null,
            "grid_gap": null,
            "grid_row": null,
            "grid_template_areas": null,
            "grid_template_columns": null,
            "grid_template_rows": null,
            "height": null,
            "justify_content": null,
            "justify_items": null,
            "left": null,
            "margin": null,
            "max_height": null,
            "max_width": null,
            "min_height": null,
            "min_width": null,
            "object_fit": null,
            "object_position": null,
            "order": null,
            "overflow": null,
            "overflow_x": null,
            "overflow_y": null,
            "padding": null,
            "right": null,
            "top": null,
            "visibility": null,
            "width": null
          }
        },
        "3a49806f238947a8b02241d2f71dc2ea": {
          "model_module": "@jupyter-widgets/controls",
          "model_module_version": "1.5.0",
          "model_name": "HTMLModel",
          "state": {
            "_dom_classes": [],
            "_model_module": "@jupyter-widgets/controls",
            "_model_module_version": "1.5.0",
            "_model_name": "HTMLModel",
            "_view_count": null,
            "_view_module": "@jupyter-widgets/controls",
            "_view_module_version": "1.5.0",
            "_view_name": "HTMLView",
            "description": "",
            "description_tooltip": null,
            "layout": "IPY_MODEL_d582a6b924a84dab8952e5df51ef49b8",
            "placeholder": "​",
            "style": "IPY_MODEL_e8b9fc46cea64f17a8de3359da6782cd",
            "value": " 548M/548M [00:05&lt;00:00, 94.3MB/s]"
          }
        },
        "3d3ba7a71dac40f7b2a2415a548e2e33": {
          "model_module": "@jupyter-widgets/base",
          "model_module_version": "1.2.0",
          "model_name": "LayoutModel",
          "state": {
            "_model_module": "@jupyter-widgets/base",
            "_model_module_version": "1.2.0",
            "_model_name": "LayoutModel",
            "_view_count": null,
            "_view_module": "@jupyter-widgets/base",
            "_view_module_version": "1.2.0",
            "_view_name": "LayoutView",
            "align_content": null,
            "align_items": null,
            "align_self": null,
            "border": null,
            "bottom": null,
            "display": null,
            "flex": null,
            "flex_flow": null,
            "grid_area": null,
            "grid_auto_columns": null,
            "grid_auto_flow": null,
            "grid_auto_rows": null,
            "grid_column": null,
            "grid_gap": null,
            "grid_row": null,
            "grid_template_areas": null,
            "grid_template_columns": null,
            "grid_template_rows": null,
            "height": null,
            "justify_content": null,
            "justify_items": null,
            "left": null,
            "margin": null,
            "max_height": null,
            "max_width": null,
            "min_height": null,
            "min_width": null,
            "object_fit": null,
            "object_position": null,
            "order": null,
            "overflow": null,
            "overflow_x": null,
            "overflow_y": null,
            "padding": null,
            "right": null,
            "top": null,
            "visibility": null,
            "width": null
          }
        },
        "3fec108289054b7da672b6b583e309c5": {
          "model_module": "@jupyter-widgets/base",
          "model_module_version": "1.2.0",
          "model_name": "LayoutModel",
          "state": {
            "_model_module": "@jupyter-widgets/base",
            "_model_module_version": "1.2.0",
            "_model_name": "LayoutModel",
            "_view_count": null,
            "_view_module": "@jupyter-widgets/base",
            "_view_module_version": "1.2.0",
            "_view_name": "LayoutView",
            "align_content": null,
            "align_items": null,
            "align_self": null,
            "border": null,
            "bottom": null,
            "display": null,
            "flex": null,
            "flex_flow": null,
            "grid_area": null,
            "grid_auto_columns": null,
            "grid_auto_flow": null,
            "grid_auto_rows": null,
            "grid_column": null,
            "grid_gap": null,
            "grid_row": null,
            "grid_template_areas": null,
            "grid_template_columns": null,
            "grid_template_rows": null,
            "height": null,
            "justify_content": null,
            "justify_items": null,
            "left": null,
            "margin": null,
            "max_height": null,
            "max_width": null,
            "min_height": null,
            "min_width": null,
            "object_fit": null,
            "object_position": null,
            "order": null,
            "overflow": null,
            "overflow_x": null,
            "overflow_y": null,
            "padding": null,
            "right": null,
            "top": null,
            "visibility": null,
            "width": null
          }
        },
        "445a2888f78c4eceac5cfaa08be0c913": {
          "model_module": "@jupyter-widgets/controls",
          "model_module_version": "1.5.0",
          "model_name": "HTMLModel",
          "state": {
            "_dom_classes": [],
            "_model_module": "@jupyter-widgets/controls",
            "_model_module_version": "1.5.0",
            "_model_name": "HTMLModel",
            "_view_count": null,
            "_view_module": "@jupyter-widgets/controls",
            "_view_module_version": "1.5.0",
            "_view_name": "HTMLView",
            "description": "",
            "description_tooltip": null,
            "layout": "IPY_MODEL_d82f19768e7744919ce77a0d020d6345",
            "placeholder": "​",
            "style": "IPY_MODEL_e892a18c9b4c45edb637013389f774d4",
            "value": " 456k/456k [00:00&lt;00:00, 7.91MB/s]"
          }
        },
        "45d78730e2664a65927a1627de5a4d72": {
          "model_module": "@jupyter-widgets/controls",
          "model_module_version": "1.5.0",
          "model_name": "HTMLModel",
          "state": {
            "_dom_classes": [],
            "_model_module": "@jupyter-widgets/controls",
            "_model_module_version": "1.5.0",
            "_model_name": "HTMLModel",
            "_view_count": null,
            "_view_module": "@jupyter-widgets/controls",
            "_view_module_version": "1.5.0",
            "_view_name": "HTMLView",
            "description": "",
            "description_tooltip": null,
            "layout": "IPY_MODEL_6b6b16c3d2204897a68d14b6abab2d4b",
            "placeholder": "​",
            "style": "IPY_MODEL_620146517a9844708f7386024b4382ff",
            "value": " 1.36M/1.36M [00:00&lt;00:00, 21.2MB/s]"
          }
        },
        "4835c08ba29f44bab706eced9c0e5fc4": {
          "model_module": "@jupyter-widgets/controls",
          "model_module_version": "1.5.0",
          "model_name": "HTMLModel",
          "state": {
            "_dom_classes": [],
            "_model_module": "@jupyter-widgets/controls",
            "_model_module_version": "1.5.0",
            "_model_name": "HTMLModel",
            "_view_count": null,
            "_view_module": "@jupyter-widgets/controls",
            "_view_module_version": "1.5.0",
            "_view_name": "HTMLView",
            "description": "",
            "description_tooltip": null,
            "layout": "IPY_MODEL_c40bb8ad30fe4c4a8bfb9bed8db9e7b9",
            "placeholder": "​",
            "style": "IPY_MODEL_dee70b717baf4f4bb3d57032788890eb",
            "value": " 665/665 [00:00&lt;00:00, 16.6kB/s]"
          }
        },
        "4a47842ce39c493aa417e7cc1656eeb3": {
          "model_module": "@jupyter-widgets/base",
          "model_module_version": "1.2.0",
          "model_name": "LayoutModel",
          "state": {
            "_model_module": "@jupyter-widgets/base",
            "_model_module_version": "1.2.0",
            "_model_name": "LayoutModel",
            "_view_count": null,
            "_view_module": "@jupyter-widgets/base",
            "_view_module_version": "1.2.0",
            "_view_name": "LayoutView",
            "align_content": null,
            "align_items": null,
            "align_self": null,
            "border": null,
            "bottom": null,
            "display": null,
            "flex": null,
            "flex_flow": null,
            "grid_area": null,
            "grid_auto_columns": null,
            "grid_auto_flow": null,
            "grid_auto_rows": null,
            "grid_column": null,
            "grid_gap": null,
            "grid_row": null,
            "grid_template_areas": null,
            "grid_template_columns": null,
            "grid_template_rows": null,
            "height": null,
            "justify_content": null,
            "justify_items": null,
            "left": null,
            "margin": null,
            "max_height": null,
            "max_width": null,
            "min_height": null,
            "min_width": null,
            "object_fit": null,
            "object_position": null,
            "order": null,
            "overflow": null,
            "overflow_x": null,
            "overflow_y": null,
            "padding": null,
            "right": null,
            "top": null,
            "visibility": null,
            "width": null
          }
        },
        "52e0aa84e9294f00a6637e92ac50628c": {
          "model_module": "@jupyter-widgets/base",
          "model_module_version": "1.2.0",
          "model_name": "LayoutModel",
          "state": {
            "_model_module": "@jupyter-widgets/base",
            "_model_module_version": "1.2.0",
            "_model_name": "LayoutModel",
            "_view_count": null,
            "_view_module": "@jupyter-widgets/base",
            "_view_module_version": "1.2.0",
            "_view_name": "LayoutView",
            "align_content": null,
            "align_items": null,
            "align_self": null,
            "border": null,
            "bottom": null,
            "display": null,
            "flex": null,
            "flex_flow": null,
            "grid_area": null,
            "grid_auto_columns": null,
            "grid_auto_flow": null,
            "grid_auto_rows": null,
            "grid_column": null,
            "grid_gap": null,
            "grid_row": null,
            "grid_template_areas": null,
            "grid_template_columns": null,
            "grid_template_rows": null,
            "height": null,
            "justify_content": null,
            "justify_items": null,
            "left": null,
            "margin": null,
            "max_height": null,
            "max_width": null,
            "min_height": null,
            "min_width": null,
            "object_fit": null,
            "object_position": null,
            "order": null,
            "overflow": null,
            "overflow_x": null,
            "overflow_y": null,
            "padding": null,
            "right": null,
            "top": null,
            "visibility": null,
            "width": null
          }
        },
        "5514c4a24cf34570b9c67f5af5cc680f": {
          "model_module": "@jupyter-widgets/base",
          "model_module_version": "1.2.0",
          "model_name": "LayoutModel",
          "state": {
            "_model_module": "@jupyter-widgets/base",
            "_model_module_version": "1.2.0",
            "_model_name": "LayoutModel",
            "_view_count": null,
            "_view_module": "@jupyter-widgets/base",
            "_view_module_version": "1.2.0",
            "_view_name": "LayoutView",
            "align_content": null,
            "align_items": null,
            "align_self": null,
            "border": null,
            "bottom": null,
            "display": null,
            "flex": null,
            "flex_flow": null,
            "grid_area": null,
            "grid_auto_columns": null,
            "grid_auto_flow": null,
            "grid_auto_rows": null,
            "grid_column": null,
            "grid_gap": null,
            "grid_row": null,
            "grid_template_areas": null,
            "grid_template_columns": null,
            "grid_template_rows": null,
            "height": null,
            "justify_content": null,
            "justify_items": null,
            "left": null,
            "margin": null,
            "max_height": null,
            "max_width": null,
            "min_height": null,
            "min_width": null,
            "object_fit": null,
            "object_position": null,
            "order": null,
            "overflow": null,
            "overflow_x": null,
            "overflow_y": null,
            "padding": null,
            "right": null,
            "top": null,
            "visibility": null,
            "width": null
          }
        },
        "5a7411e3407a4b059ce664f91438bee3": {
          "model_module": "@jupyter-widgets/controls",
          "model_module_version": "1.5.0",
          "model_name": "DescriptionStyleModel",
          "state": {
            "_model_module": "@jupyter-widgets/controls",
            "_model_module_version": "1.5.0",
            "_model_name": "DescriptionStyleModel",
            "_view_count": null,
            "_view_module": "@jupyter-widgets/base",
            "_view_module_version": "1.2.0",
            "_view_name": "StyleView",
            "description_width": ""
          }
        },
        "5c57be58df7c4b34b785947e1e749c37": {
          "model_module": "@jupyter-widgets/controls",
          "model_module_version": "1.5.0",
          "model_name": "DescriptionStyleModel",
          "state": {
            "_model_module": "@jupyter-widgets/controls",
            "_model_module_version": "1.5.0",
            "_model_name": "DescriptionStyleModel",
            "_view_count": null,
            "_view_module": "@jupyter-widgets/base",
            "_view_module_version": "1.2.0",
            "_view_name": "StyleView",
            "description_width": ""
          }
        },
        "5ff84ab65de346349dabfd0a55dd52ef": {
          "model_module": "@jupyter-widgets/base",
          "model_module_version": "1.2.0",
          "model_name": "LayoutModel",
          "state": {
            "_model_module": "@jupyter-widgets/base",
            "_model_module_version": "1.2.0",
            "_model_name": "LayoutModel",
            "_view_count": null,
            "_view_module": "@jupyter-widgets/base",
            "_view_module_version": "1.2.0",
            "_view_name": "LayoutView",
            "align_content": null,
            "align_items": null,
            "align_self": null,
            "border": null,
            "bottom": null,
            "display": null,
            "flex": null,
            "flex_flow": null,
            "grid_area": null,
            "grid_auto_columns": null,
            "grid_auto_flow": null,
            "grid_auto_rows": null,
            "grid_column": null,
            "grid_gap": null,
            "grid_row": null,
            "grid_template_areas": null,
            "grid_template_columns": null,
            "grid_template_rows": null,
            "height": null,
            "justify_content": null,
            "justify_items": null,
            "left": null,
            "margin": null,
            "max_height": null,
            "max_width": null,
            "min_height": null,
            "min_width": null,
            "object_fit": null,
            "object_position": null,
            "order": null,
            "overflow": null,
            "overflow_x": null,
            "overflow_y": null,
            "padding": null,
            "right": null,
            "top": null,
            "visibility": null,
            "width": null
          }
        },
        "620146517a9844708f7386024b4382ff": {
          "model_module": "@jupyter-widgets/controls",
          "model_module_version": "1.5.0",
          "model_name": "DescriptionStyleModel",
          "state": {
            "_model_module": "@jupyter-widgets/controls",
            "_model_module_version": "1.5.0",
            "_model_name": "DescriptionStyleModel",
            "_view_count": null,
            "_view_module": "@jupyter-widgets/base",
            "_view_module_version": "1.2.0",
            "_view_name": "StyleView",
            "description_width": ""
          }
        },
        "64338f70774f45989214b62357383bbe": {
          "model_module": "@jupyter-widgets/controls",
          "model_module_version": "1.5.0",
          "model_name": "FloatProgressModel",
          "state": {
            "_dom_classes": [],
            "_model_module": "@jupyter-widgets/controls",
            "_model_module_version": "1.5.0",
            "_model_name": "FloatProgressModel",
            "_view_count": null,
            "_view_module": "@jupyter-widgets/controls",
            "_view_module_version": "1.5.0",
            "_view_name": "ProgressView",
            "bar_style": "success",
            "description": "",
            "description_tooltip": null,
            "layout": "IPY_MODEL_5ff84ab65de346349dabfd0a55dd52ef",
            "max": 456318,
            "min": 0,
            "orientation": "horizontal",
            "style": "IPY_MODEL_8d31ca8a320c4095bac6d7b705ca7b9e",
            "value": 456318
          }
        },
        "6b6b16c3d2204897a68d14b6abab2d4b": {
          "model_module": "@jupyter-widgets/base",
          "model_module_version": "1.2.0",
          "model_name": "LayoutModel",
          "state": {
            "_model_module": "@jupyter-widgets/base",
            "_model_module_version": "1.2.0",
            "_model_name": "LayoutModel",
            "_view_count": null,
            "_view_module": "@jupyter-widgets/base",
            "_view_module_version": "1.2.0",
            "_view_name": "LayoutView",
            "align_content": null,
            "align_items": null,
            "align_self": null,
            "border": null,
            "bottom": null,
            "display": null,
            "flex": null,
            "flex_flow": null,
            "grid_area": null,
            "grid_auto_columns": null,
            "grid_auto_flow": null,
            "grid_auto_rows": null,
            "grid_column": null,
            "grid_gap": null,
            "grid_row": null,
            "grid_template_areas": null,
            "grid_template_columns": null,
            "grid_template_rows": null,
            "height": null,
            "justify_content": null,
            "justify_items": null,
            "left": null,
            "margin": null,
            "max_height": null,
            "max_width": null,
            "min_height": null,
            "min_width": null,
            "object_fit": null,
            "object_position": null,
            "order": null,
            "overflow": null,
            "overflow_x": null,
            "overflow_y": null,
            "padding": null,
            "right": null,
            "top": null,
            "visibility": null,
            "width": null
          }
        },
        "6f75246d6711461aae23acc651886857": {
          "model_module": "@jupyter-widgets/controls",
          "model_module_version": "1.5.0",
          "model_name": "ProgressStyleModel",
          "state": {
            "_model_module": "@jupyter-widgets/controls",
            "_model_module_version": "1.5.0",
            "_model_name": "ProgressStyleModel",
            "_view_count": null,
            "_view_module": "@jupyter-widgets/base",
            "_view_module_version": "1.2.0",
            "_view_name": "StyleView",
            "bar_color": null,
            "description_width": ""
          }
        },
        "707d3f3efbe84f8799ec1bc889b9762c": {
          "model_module": "@jupyter-widgets/controls",
          "model_module_version": "1.5.0",
          "model_name": "FloatProgressModel",
          "state": {
            "_dom_classes": [],
            "_model_module": "@jupyter-widgets/controls",
            "_model_module_version": "1.5.0",
            "_model_name": "FloatProgressModel",
            "_view_count": null,
            "_view_module": "@jupyter-widgets/controls",
            "_view_module_version": "1.5.0",
            "_view_name": "ProgressView",
            "bar_style": "success",
            "description": "",
            "description_tooltip": null,
            "layout": "IPY_MODEL_52e0aa84e9294f00a6637e92ac50628c",
            "max": 1355256,
            "min": 0,
            "orientation": "horizontal",
            "style": "IPY_MODEL_bfdcb730daab4a5a930784547f23f88a",
            "value": 1355256
          }
        },
        "71269e3c947d476ba7e68d55a21cf246": {
          "model_module": "@jupyter-widgets/controls",
          "model_module_version": "1.5.0",
          "model_name": "HTMLModel",
          "state": {
            "_dom_classes": [],
            "_model_module": "@jupyter-widgets/controls",
            "_model_module_version": "1.5.0",
            "_model_name": "HTMLModel",
            "_view_count": null,
            "_view_module": "@jupyter-widgets/controls",
            "_view_module_version": "1.5.0",
            "_view_name": "HTMLView",
            "description": "",
            "description_tooltip": null,
            "layout": "IPY_MODEL_13401c53dfa94b15a8a2e7cd99052e65",
            "placeholder": "​",
            "style": "IPY_MODEL_c2a351a5a782461790892193ac826712",
            "value": "Downloading model.safetensors: 100%"
          }
        },
        "72aef4fc204a4d439184c362081af7da": {
          "model_module": "@jupyter-widgets/controls",
          "model_module_version": "1.5.0",
          "model_name": "DescriptionStyleModel",
          "state": {
            "_model_module": "@jupyter-widgets/controls",
            "_model_module_version": "1.5.0",
            "_model_name": "DescriptionStyleModel",
            "_view_count": null,
            "_view_module": "@jupyter-widgets/base",
            "_view_module_version": "1.2.0",
            "_view_name": "StyleView",
            "description_width": ""
          }
        },
        "7b4e59cad01e445dab2e640527c8989b": {
          "model_module": "@jupyter-widgets/controls",
          "model_module_version": "1.5.0",
          "model_name": "FloatProgressModel",
          "state": {
            "_dom_classes": [],
            "_model_module": "@jupyter-widgets/controls",
            "_model_module_version": "1.5.0",
            "_model_name": "FloatProgressModel",
            "_view_count": null,
            "_view_module": "@jupyter-widgets/controls",
            "_view_module_version": "1.5.0",
            "_view_name": "ProgressView",
            "bar_style": "success",
            "description": "",
            "description_tooltip": null,
            "layout": "IPY_MODEL_ab2c741a30cc40aab2db12a042ff65ba",
            "max": 665,
            "min": 0,
            "orientation": "horizontal",
            "style": "IPY_MODEL_15d5408516014936886e8e61f5ecf87b",
            "value": 665
          }
        },
        "7df8da209ab44e87b21397ad4008d5ec": {
          "model_module": "@jupyter-widgets/controls",
          "model_module_version": "1.5.0",
          "model_name": "DescriptionStyleModel",
          "state": {
            "_model_module": "@jupyter-widgets/controls",
            "_model_module_version": "1.5.0",
            "_model_name": "DescriptionStyleModel",
            "_view_count": null,
            "_view_module": "@jupyter-widgets/base",
            "_view_module_version": "1.2.0",
            "_view_name": "StyleView",
            "description_width": ""
          }
        },
        "88dbb6e6aebc42dc8fd3c39653d7025a": {
          "model_module": "@jupyter-widgets/controls",
          "model_module_version": "1.5.0",
          "model_name": "ProgressStyleModel",
          "state": {
            "_model_module": "@jupyter-widgets/controls",
            "_model_module_version": "1.5.0",
            "_model_name": "ProgressStyleModel",
            "_view_count": null,
            "_view_module": "@jupyter-widgets/base",
            "_view_module_version": "1.2.0",
            "_view_name": "StyleView",
            "bar_color": null,
            "description_width": ""
          }
        },
        "8d31ca8a320c4095bac6d7b705ca7b9e": {
          "model_module": "@jupyter-widgets/controls",
          "model_module_version": "1.5.0",
          "model_name": "ProgressStyleModel",
          "state": {
            "_model_module": "@jupyter-widgets/controls",
            "_model_module_version": "1.5.0",
            "_model_name": "ProgressStyleModel",
            "_view_count": null,
            "_view_module": "@jupyter-widgets/base",
            "_view_module_version": "1.2.0",
            "_view_name": "StyleView",
            "bar_color": null,
            "description_width": ""
          }
        },
        "911dae51d42445d7bfa919c2dd687546": {
          "model_module": "@jupyter-widgets/base",
          "model_module_version": "1.2.0",
          "model_name": "LayoutModel",
          "state": {
            "_model_module": "@jupyter-widgets/base",
            "_model_module_version": "1.2.0",
            "_model_name": "LayoutModel",
            "_view_count": null,
            "_view_module": "@jupyter-widgets/base",
            "_view_module_version": "1.2.0",
            "_view_name": "LayoutView",
            "align_content": null,
            "align_items": null,
            "align_self": null,
            "border": null,
            "bottom": null,
            "display": null,
            "flex": null,
            "flex_flow": null,
            "grid_area": null,
            "grid_auto_columns": null,
            "grid_auto_flow": null,
            "grid_auto_rows": null,
            "grid_column": null,
            "grid_gap": null,
            "grid_row": null,
            "grid_template_areas": null,
            "grid_template_columns": null,
            "grid_template_rows": null,
            "height": null,
            "justify_content": null,
            "justify_items": null,
            "left": null,
            "margin": null,
            "max_height": null,
            "max_width": null,
            "min_height": null,
            "min_width": null,
            "object_fit": null,
            "object_position": null,
            "order": null,
            "overflow": null,
            "overflow_x": null,
            "overflow_y": null,
            "padding": null,
            "right": null,
            "top": null,
            "visibility": null,
            "width": null
          }
        },
        "97bc7555d76f4eec9c9245af3e9eaf66": {
          "model_module": "@jupyter-widgets/controls",
          "model_module_version": "1.5.0",
          "model_name": "HTMLModel",
          "state": {
            "_dom_classes": [],
            "_model_module": "@jupyter-widgets/controls",
            "_model_module_version": "1.5.0",
            "_model_name": "HTMLModel",
            "_view_count": null,
            "_view_module": "@jupyter-widgets/controls",
            "_view_module_version": "1.5.0",
            "_view_name": "HTMLView",
            "description": "",
            "description_tooltip": null,
            "layout": "IPY_MODEL_b64d0a7e38764885a1ab4be9b720c257",
            "placeholder": "​",
            "style": "IPY_MODEL_c1bf49b8bd2d48fcbae87326b3d3e0d0",
            "value": "Downloading (…)neration_config.json: 100%"
          }
        },
        "97d6587da8a74547ba66ebbb8d7575d5": {
          "model_module": "@jupyter-widgets/controls",
          "model_module_version": "1.5.0",
          "model_name": "DescriptionStyleModel",
          "state": {
            "_model_module": "@jupyter-widgets/controls",
            "_model_module_version": "1.5.0",
            "_model_name": "DescriptionStyleModel",
            "_view_count": null,
            "_view_module": "@jupyter-widgets/base",
            "_view_module_version": "1.2.0",
            "_view_name": "StyleView",
            "description_width": ""
          }
        },
        "97e8f384e6614ff4b7b588c62c7aba73": {
          "model_module": "@jupyter-widgets/controls",
          "model_module_version": "1.5.0",
          "model_name": "HBoxModel",
          "state": {
            "_dom_classes": [],
            "_model_module": "@jupyter-widgets/controls",
            "_model_module_version": "1.5.0",
            "_model_name": "HBoxModel",
            "_view_count": null,
            "_view_module": "@jupyter-widgets/controls",
            "_view_module_version": "1.5.0",
            "_view_name": "HBoxView",
            "box_style": "",
            "children": [
              "IPY_MODEL_ba93dbd6d62b436cb722f3a981030112",
              "IPY_MODEL_e077707170d1496cb19582ca832d0b56",
              "IPY_MODEL_cd88b5587e5840b9a71c28e864bcff89"
            ],
            "layout": "IPY_MODEL_c1e66cb4f5ed49118f501db9e6b00f5c"
          }
        },
        "ab2c741a30cc40aab2db12a042ff65ba": {
          "model_module": "@jupyter-widgets/base",
          "model_module_version": "1.2.0",
          "model_name": "LayoutModel",
          "state": {
            "_model_module": "@jupyter-widgets/base",
            "_model_module_version": "1.2.0",
            "_model_name": "LayoutModel",
            "_view_count": null,
            "_view_module": "@jupyter-widgets/base",
            "_view_module_version": "1.2.0",
            "_view_name": "LayoutView",
            "align_content": null,
            "align_items": null,
            "align_self": null,
            "border": null,
            "bottom": null,
            "display": null,
            "flex": null,
            "flex_flow": null,
            "grid_area": null,
            "grid_auto_columns": null,
            "grid_auto_flow": null,
            "grid_auto_rows": null,
            "grid_column": null,
            "grid_gap": null,
            "grid_row": null,
            "grid_template_areas": null,
            "grid_template_columns": null,
            "grid_template_rows": null,
            "height": null,
            "justify_content": null,
            "justify_items": null,
            "left": null,
            "margin": null,
            "max_height": null,
            "max_width": null,
            "min_height": null,
            "min_width": null,
            "object_fit": null,
            "object_position": null,
            "order": null,
            "overflow": null,
            "overflow_x": null,
            "overflow_y": null,
            "padding": null,
            "right": null,
            "top": null,
            "visibility": null,
            "width": null
          }
        },
        "b167061a133146c48e6fb225dc0f9cd7": {
          "model_module": "@jupyter-widgets/controls",
          "model_module_version": "1.5.0",
          "model_name": "ProgressStyleModel",
          "state": {
            "_model_module": "@jupyter-widgets/controls",
            "_model_module_version": "1.5.0",
            "_model_name": "ProgressStyleModel",
            "_view_count": null,
            "_view_module": "@jupyter-widgets/base",
            "_view_module_version": "1.2.0",
            "_view_name": "StyleView",
            "bar_color": null,
            "description_width": ""
          }
        },
        "b3a393f2225e4e528da9db9f5d0d924d": {
          "model_module": "@jupyter-widgets/controls",
          "model_module_version": "1.5.0",
          "model_name": "DescriptionStyleModel",
          "state": {
            "_model_module": "@jupyter-widgets/controls",
            "_model_module_version": "1.5.0",
            "_model_name": "DescriptionStyleModel",
            "_view_count": null,
            "_view_module": "@jupyter-widgets/base",
            "_view_module_version": "1.2.0",
            "_view_name": "StyleView",
            "description_width": ""
          }
        },
        "b64d0a7e38764885a1ab4be9b720c257": {
          "model_module": "@jupyter-widgets/base",
          "model_module_version": "1.2.0",
          "model_name": "LayoutModel",
          "state": {
            "_model_module": "@jupyter-widgets/base",
            "_model_module_version": "1.2.0",
            "_model_name": "LayoutModel",
            "_view_count": null,
            "_view_module": "@jupyter-widgets/base",
            "_view_module_version": "1.2.0",
            "_view_name": "LayoutView",
            "align_content": null,
            "align_items": null,
            "align_self": null,
            "border": null,
            "bottom": null,
            "display": null,
            "flex": null,
            "flex_flow": null,
            "grid_area": null,
            "grid_auto_columns": null,
            "grid_auto_flow": null,
            "grid_auto_rows": null,
            "grid_column": null,
            "grid_gap": null,
            "grid_row": null,
            "grid_template_areas": null,
            "grid_template_columns": null,
            "grid_template_rows": null,
            "height": null,
            "justify_content": null,
            "justify_items": null,
            "left": null,
            "margin": null,
            "max_height": null,
            "max_width": null,
            "min_height": null,
            "min_width": null,
            "object_fit": null,
            "object_position": null,
            "order": null,
            "overflow": null,
            "overflow_x": null,
            "overflow_y": null,
            "padding": null,
            "right": null,
            "top": null,
            "visibility": null,
            "width": null
          }
        },
        "ba93dbd6d62b436cb722f3a981030112": {
          "model_module": "@jupyter-widgets/controls",
          "model_module_version": "1.5.0",
          "model_name": "HTMLModel",
          "state": {
            "_dom_classes": [],
            "_model_module": "@jupyter-widgets/controls",
            "_model_module_version": "1.5.0",
            "_model_name": "HTMLModel",
            "_view_count": null,
            "_view_module": "@jupyter-widgets/controls",
            "_view_module_version": "1.5.0",
            "_view_name": "HTMLView",
            "description": "",
            "description_tooltip": null,
            "layout": "IPY_MODEL_c09a3066563249ac9eee9d84978b27f7",
            "placeholder": "​",
            "style": "IPY_MODEL_7df8da209ab44e87b21397ad4008d5ec",
            "value": "Downloading (…)olve/main/vocab.json: 100%"
          }
        },
        "bd484fb6989b428e8fed3381f436c702": {
          "model_module": "@jupyter-widgets/controls",
          "model_module_version": "1.5.0",
          "model_name": "HBoxModel",
          "state": {
            "_dom_classes": [],
            "_model_module": "@jupyter-widgets/controls",
            "_model_module_version": "1.5.0",
            "_model_name": "HBoxModel",
            "_view_count": null,
            "_view_module": "@jupyter-widgets/controls",
            "_view_module_version": "1.5.0",
            "_view_name": "HBoxView",
            "box_style": "",
            "children": [
              "IPY_MODEL_97bc7555d76f4eec9c9245af3e9eaf66",
              "IPY_MODEL_f920042487d84c63b7c234584a19ac41",
              "IPY_MODEL_341ef673608b441dba22e3890b0de81e"
            ],
            "layout": "IPY_MODEL_fe2fdd94a757410883df75ad9c217884"
          }
        },
        "bfdcb730daab4a5a930784547f23f88a": {
          "model_module": "@jupyter-widgets/controls",
          "model_module_version": "1.5.0",
          "model_name": "ProgressStyleModel",
          "state": {
            "_model_module": "@jupyter-widgets/controls",
            "_model_module_version": "1.5.0",
            "_model_name": "ProgressStyleModel",
            "_view_count": null,
            "_view_module": "@jupyter-widgets/base",
            "_view_module_version": "1.2.0",
            "_view_name": "StyleView",
            "bar_color": null,
            "description_width": ""
          }
        },
        "c09a3066563249ac9eee9d84978b27f7": {
          "model_module": "@jupyter-widgets/base",
          "model_module_version": "1.2.0",
          "model_name": "LayoutModel",
          "state": {
            "_model_module": "@jupyter-widgets/base",
            "_model_module_version": "1.2.0",
            "_model_name": "LayoutModel",
            "_view_count": null,
            "_view_module": "@jupyter-widgets/base",
            "_view_module_version": "1.2.0",
            "_view_name": "LayoutView",
            "align_content": null,
            "align_items": null,
            "align_self": null,
            "border": null,
            "bottom": null,
            "display": null,
            "flex": null,
            "flex_flow": null,
            "grid_area": null,
            "grid_auto_columns": null,
            "grid_auto_flow": null,
            "grid_auto_rows": null,
            "grid_column": null,
            "grid_gap": null,
            "grid_row": null,
            "grid_template_areas": null,
            "grid_template_columns": null,
            "grid_template_rows": null,
            "height": null,
            "justify_content": null,
            "justify_items": null,
            "left": null,
            "margin": null,
            "max_height": null,
            "max_width": null,
            "min_height": null,
            "min_width": null,
            "object_fit": null,
            "object_position": null,
            "order": null,
            "overflow": null,
            "overflow_x": null,
            "overflow_y": null,
            "padding": null,
            "right": null,
            "top": null,
            "visibility": null,
            "width": null
          }
        },
        "c1bf49b8bd2d48fcbae87326b3d3e0d0": {
          "model_module": "@jupyter-widgets/controls",
          "model_module_version": "1.5.0",
          "model_name": "DescriptionStyleModel",
          "state": {
            "_model_module": "@jupyter-widgets/controls",
            "_model_module_version": "1.5.0",
            "_model_name": "DescriptionStyleModel",
            "_view_count": null,
            "_view_module": "@jupyter-widgets/base",
            "_view_module_version": "1.2.0",
            "_view_name": "StyleView",
            "description_width": ""
          }
        },
        "c1e66cb4f5ed49118f501db9e6b00f5c": {
          "model_module": "@jupyter-widgets/base",
          "model_module_version": "1.2.0",
          "model_name": "LayoutModel",
          "state": {
            "_model_module": "@jupyter-widgets/base",
            "_model_module_version": "1.2.0",
            "_model_name": "LayoutModel",
            "_view_count": null,
            "_view_module": "@jupyter-widgets/base",
            "_view_module_version": "1.2.0",
            "_view_name": "LayoutView",
            "align_content": null,
            "align_items": null,
            "align_self": null,
            "border": null,
            "bottom": null,
            "display": null,
            "flex": null,
            "flex_flow": null,
            "grid_area": null,
            "grid_auto_columns": null,
            "grid_auto_flow": null,
            "grid_auto_rows": null,
            "grid_column": null,
            "grid_gap": null,
            "grid_row": null,
            "grid_template_areas": null,
            "grid_template_columns": null,
            "grid_template_rows": null,
            "height": null,
            "justify_content": null,
            "justify_items": null,
            "left": null,
            "margin": null,
            "max_height": null,
            "max_width": null,
            "min_height": null,
            "min_width": null,
            "object_fit": null,
            "object_position": null,
            "order": null,
            "overflow": null,
            "overflow_x": null,
            "overflow_y": null,
            "padding": null,
            "right": null,
            "top": null,
            "visibility": null,
            "width": null
          }
        },
        "c2a351a5a782461790892193ac826712": {
          "model_module": "@jupyter-widgets/controls",
          "model_module_version": "1.5.0",
          "model_name": "DescriptionStyleModel",
          "state": {
            "_model_module": "@jupyter-widgets/controls",
            "_model_module_version": "1.5.0",
            "_model_name": "DescriptionStyleModel",
            "_view_count": null,
            "_view_module": "@jupyter-widgets/base",
            "_view_module_version": "1.2.0",
            "_view_name": "StyleView",
            "description_width": ""
          }
        },
        "c40bb8ad30fe4c4a8bfb9bed8db9e7b9": {
          "model_module": "@jupyter-widgets/base",
          "model_module_version": "1.2.0",
          "model_name": "LayoutModel",
          "state": {
            "_model_module": "@jupyter-widgets/base",
            "_model_module_version": "1.2.0",
            "_model_name": "LayoutModel",
            "_view_count": null,
            "_view_module": "@jupyter-widgets/base",
            "_view_module_version": "1.2.0",
            "_view_name": "LayoutView",
            "align_content": null,
            "align_items": null,
            "align_self": null,
            "border": null,
            "bottom": null,
            "display": null,
            "flex": null,
            "flex_flow": null,
            "grid_area": null,
            "grid_auto_columns": null,
            "grid_auto_flow": null,
            "grid_auto_rows": null,
            "grid_column": null,
            "grid_gap": null,
            "grid_row": null,
            "grid_template_areas": null,
            "grid_template_columns": null,
            "grid_template_rows": null,
            "height": null,
            "justify_content": null,
            "justify_items": null,
            "left": null,
            "margin": null,
            "max_height": null,
            "max_width": null,
            "min_height": null,
            "min_width": null,
            "object_fit": null,
            "object_position": null,
            "order": null,
            "overflow": null,
            "overflow_x": null,
            "overflow_y": null,
            "padding": null,
            "right": null,
            "top": null,
            "visibility": null,
            "width": null
          }
        },
        "c59c03e7920f4662ac599347df5213ef": {
          "model_module": "@jupyter-widgets/base",
          "model_module_version": "1.2.0",
          "model_name": "LayoutModel",
          "state": {
            "_model_module": "@jupyter-widgets/base",
            "_model_module_version": "1.2.0",
            "_model_name": "LayoutModel",
            "_view_count": null,
            "_view_module": "@jupyter-widgets/base",
            "_view_module_version": "1.2.0",
            "_view_name": "LayoutView",
            "align_content": null,
            "align_items": null,
            "align_self": null,
            "border": null,
            "bottom": null,
            "display": null,
            "flex": null,
            "flex_flow": null,
            "grid_area": null,
            "grid_auto_columns": null,
            "grid_auto_flow": null,
            "grid_auto_rows": null,
            "grid_column": null,
            "grid_gap": null,
            "grid_row": null,
            "grid_template_areas": null,
            "grid_template_columns": null,
            "grid_template_rows": null,
            "height": null,
            "justify_content": null,
            "justify_items": null,
            "left": null,
            "margin": null,
            "max_height": null,
            "max_width": null,
            "min_height": null,
            "min_width": null,
            "object_fit": null,
            "object_position": null,
            "order": null,
            "overflow": null,
            "overflow_x": null,
            "overflow_y": null,
            "padding": null,
            "right": null,
            "top": null,
            "visibility": null,
            "width": null
          }
        },
        "c68981afc8d44440a9e045ae94a23a3a": {
          "model_module": "@jupyter-widgets/controls",
          "model_module_version": "1.5.0",
          "model_name": "HTMLModel",
          "state": {
            "_dom_classes": [],
            "_model_module": "@jupyter-widgets/controls",
            "_model_module_version": "1.5.0",
            "_model_name": "HTMLModel",
            "_view_count": null,
            "_view_module": "@jupyter-widgets/controls",
            "_view_module_version": "1.5.0",
            "_view_name": "HTMLView",
            "description": "",
            "description_tooltip": null,
            "layout": "IPY_MODEL_911dae51d42445d7bfa919c2dd687546",
            "placeholder": "​",
            "style": "IPY_MODEL_b3a393f2225e4e528da9db9f5d0d924d",
            "value": "Downloading (…)olve/main/merges.txt: 100%"
          }
        },
        "c75f7de87cb948a3af42e92f77ccb698": {
          "model_module": "@jupyter-widgets/controls",
          "model_module_version": "1.5.0",
          "model_name": "HBoxModel",
          "state": {
            "_dom_classes": [],
            "_model_module": "@jupyter-widgets/controls",
            "_model_module_version": "1.5.0",
            "_model_name": "HBoxModel",
            "_view_count": null,
            "_view_module": "@jupyter-widgets/controls",
            "_view_module_version": "1.5.0",
            "_view_name": "HBoxView",
            "box_style": "",
            "children": [
              "IPY_MODEL_71269e3c947d476ba7e68d55a21cf246",
              "IPY_MODEL_cdbb5eae59e94878a72f148d3ed74534",
              "IPY_MODEL_3a49806f238947a8b02241d2f71dc2ea"
            ],
            "layout": "IPY_MODEL_195b8da1781849a697b9b6ad783ff585"
          }
        },
        "ca12a1699cb7441d920202055b90f091": {
          "model_module": "@jupyter-widgets/base",
          "model_module_version": "1.2.0",
          "model_name": "LayoutModel",
          "state": {
            "_model_module": "@jupyter-widgets/base",
            "_model_module_version": "1.2.0",
            "_model_name": "LayoutModel",
            "_view_count": null,
            "_view_module": "@jupyter-widgets/base",
            "_view_module_version": "1.2.0",
            "_view_name": "LayoutView",
            "align_content": null,
            "align_items": null,
            "align_self": null,
            "border": null,
            "bottom": null,
            "display": null,
            "flex": null,
            "flex_flow": null,
            "grid_area": null,
            "grid_auto_columns": null,
            "grid_auto_flow": null,
            "grid_auto_rows": null,
            "grid_column": null,
            "grid_gap": null,
            "grid_row": null,
            "grid_template_areas": null,
            "grid_template_columns": null,
            "grid_template_rows": null,
            "height": null,
            "justify_content": null,
            "justify_items": null,
            "left": null,
            "margin": null,
            "max_height": null,
            "max_width": null,
            "min_height": null,
            "min_width": null,
            "object_fit": null,
            "object_position": null,
            "order": null,
            "overflow": null,
            "overflow_x": null,
            "overflow_y": null,
            "padding": null,
            "right": null,
            "top": null,
            "visibility": null,
            "width": null
          }
        },
        "cd88b5587e5840b9a71c28e864bcff89": {
          "model_module": "@jupyter-widgets/controls",
          "model_module_version": "1.5.0",
          "model_name": "HTMLModel",
          "state": {
            "_dom_classes": [],
            "_model_module": "@jupyter-widgets/controls",
            "_model_module_version": "1.5.0",
            "_model_name": "HTMLModel",
            "_view_count": null,
            "_view_module": "@jupyter-widgets/controls",
            "_view_module_version": "1.5.0",
            "_view_name": "HTMLView",
            "description": "",
            "description_tooltip": null,
            "layout": "IPY_MODEL_0bbe2b9932b24c809b3ac6f202d42d1c",
            "placeholder": "​",
            "style": "IPY_MODEL_72aef4fc204a4d439184c362081af7da",
            "value": " 1.04M/1.04M [00:00&lt;00:00, 22.3MB/s]"
          }
        },
        "cdbb5eae59e94878a72f148d3ed74534": {
          "model_module": "@jupyter-widgets/controls",
          "model_module_version": "1.5.0",
          "model_name": "FloatProgressModel",
          "state": {
            "_dom_classes": [],
            "_model_module": "@jupyter-widgets/controls",
            "_model_module_version": "1.5.0",
            "_model_name": "FloatProgressModel",
            "_view_count": null,
            "_view_module": "@jupyter-widgets/controls",
            "_view_module_version": "1.5.0",
            "_view_name": "ProgressView",
            "bar_style": "success",
            "description": "",
            "description_tooltip": null,
            "layout": "IPY_MODEL_4a47842ce39c493aa417e7cc1656eeb3",
            "max": 548105171,
            "min": 0,
            "orientation": "horizontal",
            "style": "IPY_MODEL_88dbb6e6aebc42dc8fd3c39653d7025a",
            "value": 548105171
          }
        },
        "cf013367fc4f43be99a8fd303775824a": {
          "model_module": "@jupyter-widgets/controls",
          "model_module_version": "1.5.0",
          "model_name": "HTMLModel",
          "state": {
            "_dom_classes": [],
            "_model_module": "@jupyter-widgets/controls",
            "_model_module_version": "1.5.0",
            "_model_name": "HTMLModel",
            "_view_count": null,
            "_view_module": "@jupyter-widgets/controls",
            "_view_module_version": "1.5.0",
            "_view_name": "HTMLView",
            "description": "",
            "description_tooltip": null,
            "layout": "IPY_MODEL_5514c4a24cf34570b9c67f5af5cc680f",
            "placeholder": "​",
            "style": "IPY_MODEL_5a7411e3407a4b059ce664f91438bee3",
            "value": "Downloading (…)lve/main/config.json: 100%"
          }
        },
        "d582a6b924a84dab8952e5df51ef49b8": {
          "model_module": "@jupyter-widgets/base",
          "model_module_version": "1.2.0",
          "model_name": "LayoutModel",
          "state": {
            "_model_module": "@jupyter-widgets/base",
            "_model_module_version": "1.2.0",
            "_model_name": "LayoutModel",
            "_view_count": null,
            "_view_module": "@jupyter-widgets/base",
            "_view_module_version": "1.2.0",
            "_view_name": "LayoutView",
            "align_content": null,
            "align_items": null,
            "align_self": null,
            "border": null,
            "bottom": null,
            "display": null,
            "flex": null,
            "flex_flow": null,
            "grid_area": null,
            "grid_auto_columns": null,
            "grid_auto_flow": null,
            "grid_auto_rows": null,
            "grid_column": null,
            "grid_gap": null,
            "grid_row": null,
            "grid_template_areas": null,
            "grid_template_columns": null,
            "grid_template_rows": null,
            "height": null,
            "justify_content": null,
            "justify_items": null,
            "left": null,
            "margin": null,
            "max_height": null,
            "max_width": null,
            "min_height": null,
            "min_width": null,
            "object_fit": null,
            "object_position": null,
            "order": null,
            "overflow": null,
            "overflow_x": null,
            "overflow_y": null,
            "padding": null,
            "right": null,
            "top": null,
            "visibility": null,
            "width": null
          }
        },
        "d82f19768e7744919ce77a0d020d6345": {
          "model_module": "@jupyter-widgets/base",
          "model_module_version": "1.2.0",
          "model_name": "LayoutModel",
          "state": {
            "_model_module": "@jupyter-widgets/base",
            "_model_module_version": "1.2.0",
            "_model_name": "LayoutModel",
            "_view_count": null,
            "_view_module": "@jupyter-widgets/base",
            "_view_module_version": "1.2.0",
            "_view_name": "LayoutView",
            "align_content": null,
            "align_items": null,
            "align_self": null,
            "border": null,
            "bottom": null,
            "display": null,
            "flex": null,
            "flex_flow": null,
            "grid_area": null,
            "grid_auto_columns": null,
            "grid_auto_flow": null,
            "grid_auto_rows": null,
            "grid_column": null,
            "grid_gap": null,
            "grid_row": null,
            "grid_template_areas": null,
            "grid_template_columns": null,
            "grid_template_rows": null,
            "height": null,
            "justify_content": null,
            "justify_items": null,
            "left": null,
            "margin": null,
            "max_height": null,
            "max_width": null,
            "min_height": null,
            "min_width": null,
            "object_fit": null,
            "object_position": null,
            "order": null,
            "overflow": null,
            "overflow_x": null,
            "overflow_y": null,
            "padding": null,
            "right": null,
            "top": null,
            "visibility": null,
            "width": null
          }
        },
        "dee70b717baf4f4bb3d57032788890eb": {
          "model_module": "@jupyter-widgets/controls",
          "model_module_version": "1.5.0",
          "model_name": "DescriptionStyleModel",
          "state": {
            "_model_module": "@jupyter-widgets/controls",
            "_model_module_version": "1.5.0",
            "_model_name": "DescriptionStyleModel",
            "_view_count": null,
            "_view_module": "@jupyter-widgets/base",
            "_view_module_version": "1.2.0",
            "_view_name": "StyleView",
            "description_width": ""
          }
        },
        "e0224ab127364da7bf45303a3b026f35": {
          "model_module": "@jupyter-widgets/controls",
          "model_module_version": "1.5.0",
          "model_name": "HBoxModel",
          "state": {
            "_dom_classes": [],
            "_model_module": "@jupyter-widgets/controls",
            "_model_module_version": "1.5.0",
            "_model_name": "HBoxModel",
            "_view_count": null,
            "_view_module": "@jupyter-widgets/controls",
            "_view_module_version": "1.5.0",
            "_view_name": "HBoxView",
            "box_style": "",
            "children": [
              "IPY_MODEL_c68981afc8d44440a9e045ae94a23a3a",
              "IPY_MODEL_64338f70774f45989214b62357383bbe",
              "IPY_MODEL_445a2888f78c4eceac5cfaa08be0c913"
            ],
            "layout": "IPY_MODEL_3fec108289054b7da672b6b583e309c5"
          }
        },
        "e077707170d1496cb19582ca832d0b56": {
          "model_module": "@jupyter-widgets/controls",
          "model_module_version": "1.5.0",
          "model_name": "FloatProgressModel",
          "state": {
            "_dom_classes": [],
            "_model_module": "@jupyter-widgets/controls",
            "_model_module_version": "1.5.0",
            "_model_name": "FloatProgressModel",
            "_view_count": null,
            "_view_module": "@jupyter-widgets/controls",
            "_view_module_version": "1.5.0",
            "_view_name": "ProgressView",
            "bar_style": "success",
            "description": "",
            "description_tooltip": null,
            "layout": "IPY_MODEL_f42e4eb1c0f446cc886bf4893167d294",
            "max": 1042301,
            "min": 0,
            "orientation": "horizontal",
            "style": "IPY_MODEL_6f75246d6711461aae23acc651886857",
            "value": 1042301
          }
        },
        "e50e81a24cc64cc884ce6db3bb229053": {
          "model_module": "@jupyter-widgets/controls",
          "model_module_version": "1.5.0",
          "model_name": "HBoxModel",
          "state": {
            "_dom_classes": [],
            "_model_module": "@jupyter-widgets/controls",
            "_model_module_version": "1.5.0",
            "_model_name": "HBoxModel",
            "_view_count": null,
            "_view_module": "@jupyter-widgets/controls",
            "_view_module_version": "1.5.0",
            "_view_name": "HBoxView",
            "box_style": "",
            "children": [
              "IPY_MODEL_0dd556d3d7d6428b8d99c74a7223f3e8",
              "IPY_MODEL_707d3f3efbe84f8799ec1bc889b9762c",
              "IPY_MODEL_45d78730e2664a65927a1627de5a4d72"
            ],
            "layout": "IPY_MODEL_c59c03e7920f4662ac599347df5213ef"
          }
        },
        "e892a18c9b4c45edb637013389f774d4": {
          "model_module": "@jupyter-widgets/controls",
          "model_module_version": "1.5.0",
          "model_name": "DescriptionStyleModel",
          "state": {
            "_model_module": "@jupyter-widgets/controls",
            "_model_module_version": "1.5.0",
            "_model_name": "DescriptionStyleModel",
            "_view_count": null,
            "_view_module": "@jupyter-widgets/base",
            "_view_module_version": "1.2.0",
            "_view_name": "StyleView",
            "description_width": ""
          }
        },
        "e8b9fc46cea64f17a8de3359da6782cd": {
          "model_module": "@jupyter-widgets/controls",
          "model_module_version": "1.5.0",
          "model_name": "DescriptionStyleModel",
          "state": {
            "_model_module": "@jupyter-widgets/controls",
            "_model_module_version": "1.5.0",
            "_model_name": "DescriptionStyleModel",
            "_view_count": null,
            "_view_module": "@jupyter-widgets/base",
            "_view_module_version": "1.2.0",
            "_view_name": "StyleView",
            "description_width": ""
          }
        },
        "e923e3829a8843aba3848efaeccd924b": {
          "model_module": "@jupyter-widgets/controls",
          "model_module_version": "1.5.0",
          "model_name": "HBoxModel",
          "state": {
            "_dom_classes": [],
            "_model_module": "@jupyter-widgets/controls",
            "_model_module_version": "1.5.0",
            "_model_name": "HBoxModel",
            "_view_count": null,
            "_view_module": "@jupyter-widgets/controls",
            "_view_module_version": "1.5.0",
            "_view_name": "HBoxView",
            "box_style": "",
            "children": [
              "IPY_MODEL_cf013367fc4f43be99a8fd303775824a",
              "IPY_MODEL_7b4e59cad01e445dab2e640527c8989b",
              "IPY_MODEL_4835c08ba29f44bab706eced9c0e5fc4"
            ],
            "layout": "IPY_MODEL_349b3b55c6b94ec1b5cac00279328317"
          }
        },
        "f42e4eb1c0f446cc886bf4893167d294": {
          "model_module": "@jupyter-widgets/base",
          "model_module_version": "1.2.0",
          "model_name": "LayoutModel",
          "state": {
            "_model_module": "@jupyter-widgets/base",
            "_model_module_version": "1.2.0",
            "_model_name": "LayoutModel",
            "_view_count": null,
            "_view_module": "@jupyter-widgets/base",
            "_view_module_version": "1.2.0",
            "_view_name": "LayoutView",
            "align_content": null,
            "align_items": null,
            "align_self": null,
            "border": null,
            "bottom": null,
            "display": null,
            "flex": null,
            "flex_flow": null,
            "grid_area": null,
            "grid_auto_columns": null,
            "grid_auto_flow": null,
            "grid_auto_rows": null,
            "grid_column": null,
            "grid_gap": null,
            "grid_row": null,
            "grid_template_areas": null,
            "grid_template_columns": null,
            "grid_template_rows": null,
            "height": null,
            "justify_content": null,
            "justify_items": null,
            "left": null,
            "margin": null,
            "max_height": null,
            "max_width": null,
            "min_height": null,
            "min_width": null,
            "object_fit": null,
            "object_position": null,
            "order": null,
            "overflow": null,
            "overflow_x": null,
            "overflow_y": null,
            "padding": null,
            "right": null,
            "top": null,
            "visibility": null,
            "width": null
          }
        },
        "f920042487d84c63b7c234584a19ac41": {
          "model_module": "@jupyter-widgets/controls",
          "model_module_version": "1.5.0",
          "model_name": "FloatProgressModel",
          "state": {
            "_dom_classes": [],
            "_model_module": "@jupyter-widgets/controls",
            "_model_module_version": "1.5.0",
            "_model_name": "FloatProgressModel",
            "_view_count": null,
            "_view_module": "@jupyter-widgets/controls",
            "_view_module_version": "1.5.0",
            "_view_name": "ProgressView",
            "bar_style": "success",
            "description": "",
            "description_tooltip": null,
            "layout": "IPY_MODEL_3d3ba7a71dac40f7b2a2415a548e2e33",
            "max": 124,
            "min": 0,
            "orientation": "horizontal",
            "style": "IPY_MODEL_b167061a133146c48e6fb225dc0f9cd7",
            "value": 124
          }
        },
        "fe2fdd94a757410883df75ad9c217884": {
          "model_module": "@jupyter-widgets/base",
          "model_module_version": "1.2.0",
          "model_name": "LayoutModel",
          "state": {
            "_model_module": "@jupyter-widgets/base",
            "_model_module_version": "1.2.0",
            "_model_name": "LayoutModel",
            "_view_count": null,
            "_view_module": "@jupyter-widgets/base",
            "_view_module_version": "1.2.0",
            "_view_name": "LayoutView",
            "align_content": null,
            "align_items": null,
            "align_self": null,
            "border": null,
            "bottom": null,
            "display": null,
            "flex": null,
            "flex_flow": null,
            "grid_area": null,
            "grid_auto_columns": null,
            "grid_auto_flow": null,
            "grid_auto_rows": null,
            "grid_column": null,
            "grid_gap": null,
            "grid_row": null,
            "grid_template_areas": null,
            "grid_template_columns": null,
            "grid_template_rows": null,
            "height": null,
            "justify_content": null,
            "justify_items": null,
            "left": null,
            "margin": null,
            "max_height": null,
            "max_width": null,
            "min_height": null,
            "min_width": null,
            "object_fit": null,
            "object_position": null,
            "order": null,
            "overflow": null,
            "overflow_x": null,
            "overflow_y": null,
            "padding": null,
            "right": null,
            "top": null,
            "visibility": null,
            "width": null
          }
        }
      }
    }
  },
  "nbformat": 4,
  "nbformat_minor": 0
}
